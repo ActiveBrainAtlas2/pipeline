{
 "cells": [
  {
   "cell_type": "code",
   "execution_count": 8,
   "metadata": {},
   "outputs": [],
   "source": [
    "import os, sys\n",
    "from subprocess check_output"
   ]
  },
  {
   "cell_type": "code",
   "execution_count": 2,
   "metadata": {},
   "outputs": [],
   "source": [
    "DIR = '/net/birdstore/Active_Atlas_Data/data_root/pipeline_data/DK39/preps/CH1/thumbnail'\n",
    "files = sorted(os.listdir(DIR))"
   ]
  },
  {
   "cell_type": "code",
   "execution_count": 29,
   "metadata": {},
   "outputs": [
    {
     "name": "stdout",
     "output_type": "stream",
     "text": [
      "widths 1048 990\n",
      "widths 1045 988\n"
     ]
    }
   ],
   "source": [
    "widths = []\n",
    "heights = []\n",
    "for f in files:\n",
    "    filepath = os.path.join(DIR, f)\n",
    "    result_parts = str(check_output([\"identify\", filepath]))\n",
    "    results = result_parts.split()\n",
    "    width,height = results[2].split('x')\n",
    "    widths.append(width)\n",
    "    heights.append(height)\n",
    "min_width = min(widths)\n",
    "max_width = max(width)\n",
    "min_height = min(heights)\n",
    "max_height = max(heights)\n",
    "print('widths', min(widths), max(widths))\n",
    "print('widths', min(heights), max(heights))"
   ]
  }
 ],
 "metadata": {
  "kernelspec": {
   "display_name": "Python 3",
   "language": "python",
   "name": "python3"
  },
  "language_info": {
   "codemirror_mode": {
    "name": "ipython",
    "version": 3
   },
   "file_extension": ".py",
   "mimetype": "text/x-python",
   "name": "python",
   "nbconvert_exporter": "python",
   "pygments_lexer": "ipython3",
   "version": "3.6.9"
  }
 },
 "nbformat": 4,
 "nbformat_minor": 4
}
