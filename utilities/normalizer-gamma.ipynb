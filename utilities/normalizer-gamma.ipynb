{
 "cells": [
  {
   "cell_type": "code",
   "execution_count": 1,
   "metadata": {},
   "outputs": [],
   "source": [
    "import numpy as np\n",
    "import matplotlib\n",
    "from matplotlib import pyplot as plt\n",
    "from skimage import io\n",
    "from os.path import expanduser\n",
    "from tqdm import tqdm\n",
    "HOME = expanduser(\"~\")\n",
    "import os\n",
    "import cv2\n",
    "import math\n",
    "import pandas as pd\n",
    "from skimage.transform import resize\n",
    "from skimage.exposure import rescale_intensity, adjust_gamma\n",
    "from scipy.ndimage.interpolation import map_coordinates\n",
    "from skimage.util import img_as_ubyte\n",
    "from skimage.exposure import equalize_hist\n",
    "#%matplotlib inline"
   ]
  },
  {
   "cell_type": "code",
   "execution_count": 2,
   "metadata": {},
   "outputs": [
    {
     "ename": "NameError",
     "evalue": "name 'A' is not defined",
     "output_type": "error",
     "traceback": [
      "\u001b[0;31m---------------------------------------------------------------------------\u001b[0m",
      "\u001b[0;31mNameError\u001b[0m                                 Traceback (most recent call last)",
      "\u001b[0;32m<ipython-input-2-ebf6f514df61>\u001b[0m in \u001b[0;36m<module>\u001b[0;34m\u001b[0m\n\u001b[1;32m      4\u001b[0m \u001b[0mNORMALIZED\u001b[0m \u001b[0;34m=\u001b[0m \u001b[0mos\u001b[0m\u001b[0;34m.\u001b[0m\u001b[0mpath\u001b[0m\u001b[0;34m.\u001b[0m\u001b[0mjoin\u001b[0m\u001b[0;34m(\u001b[0m\u001b[0mDIR\u001b[0m\u001b[0;34m,\u001b[0m \u001b[0;34m'preps'\u001b[0m\u001b[0;34m,\u001b[0m \u001b[0;34m'normalized'\u001b[0m\u001b[0;34m)\u001b[0m\u001b[0;34m\u001b[0m\u001b[0;34m\u001b[0m\u001b[0m\n\u001b[1;32m      5\u001b[0m \u001b[0mMASKED\u001b[0m \u001b[0;34m=\u001b[0m \u001b[0mos\u001b[0m\u001b[0;34m.\u001b[0m\u001b[0mpath\u001b[0m\u001b[0;34m.\u001b[0m\u001b[0mjoin\u001b[0m\u001b[0;34m(\u001b[0m\u001b[0mDIR\u001b[0m\u001b[0;34m,\u001b[0m \u001b[0;34m'preps'\u001b[0m\u001b[0;34m,\u001b[0m \u001b[0;34m'masked'\u001b[0m\u001b[0;34m)\u001b[0m\u001b[0;34m\u001b[0m\u001b[0;34m\u001b[0m\u001b[0m\n\u001b[0;32m----> 6\u001b[0;31m \u001b[0mINPUT\u001b[0m \u001b[0;34m=\u001b[0m \u001b[0mA\u001b[0m\u001b[0;34m\u001b[0m\u001b[0;34m\u001b[0m\u001b[0m\n\u001b[0m\u001b[1;32m      7\u001b[0m \u001b[0mOUTPUT\u001b[0m \u001b[0;34m=\u001b[0m \u001b[0mNORMALIZED\u001b[0m\u001b[0;34m\u001b[0m\u001b[0;34m\u001b[0m\u001b[0m\n\u001b[1;32m      8\u001b[0m \u001b[0mfiles\u001b[0m \u001b[0;34m=\u001b[0m \u001b[0msorted\u001b[0m\u001b[0;34m(\u001b[0m\u001b[0mos\u001b[0m\u001b[0;34m.\u001b[0m\u001b[0mlistdir\u001b[0m\u001b[0;34m(\u001b[0m\u001b[0mINPUT\u001b[0m\u001b[0;34m)\u001b[0m\u001b[0;34m)\u001b[0m\u001b[0;34m\u001b[0m\u001b[0;34m\u001b[0m\u001b[0m\n",
      "\u001b[0;31mNameError\u001b[0m: name 'A' is not defined"
     ]
    }
   ],
   "source": [
    "#DIR = os.path.join(HOME, 'programming', 'dk39')\n",
    "DIR = '/net/birdstore/Active_Atlas_Data/data_root/pipeline_data/DK39'\n",
    "ALIGNED = os.path.join(DIR, 'preps', 'aligned')\n",
    "NORMALIZED = os.path.join(DIR, 'preps', 'normalized')\n",
    "MASKED = os.path.join(DIR, 'preps', 'masked')\n",
    "INPUT = A\n",
    "OUTPUT = NORMALIZED\n",
    "files = sorted(os.listdir(INPUT))\n",
    "#masks = sorted(os.listdir(MASKED))"
   ]
  },
  {
   "cell_type": "code",
   "execution_count": null,
   "metadata": {},
   "outputs": [],
   "source": [
    "def rescale_intensity_v2(im, low, high):\n",
    "    \"\"\"\n",
    "    Linearly map `low` to 0 and `high` to 255.\n",
    "    Args:\n",
    "        im (2d array of float): input image.\n",
    "    \"\"\"\n",
    "\n",
    "    if low > high:\n",
    "        im_out = rescale_intensity(low-im.astype(np.float), (0, low-high), (0, 60000)).astype(np.uint16)\n",
    "    else:\n",
    "        im_out = rescale_intensity(im.astype(np.float), (low, high), (0, )).astype(np.uint16)\n",
    "    return im_out\n"
   ]
  },
  {
   "cell_type": "code",
   "execution_count": null,
   "metadata": {},
   "outputs": [],
   "source": [
    "print(len(files), len(masks))"
   ]
  },
  {
   "cell_type": "code",
   "execution_count": null,
   "metadata": {},
   "outputs": [],
   "source": [
    "# get oriented for comparison\n",
    "img_inputs = []\n",
    "masks = []\n",
    "img_outputs = []\n",
    "file_inputs = []\n",
    "section_number = 0\n",
    "midpoint = len(files) // 2\n",
    "low = 0\n",
    "high = 40000\n",
    "gamma_map = img_as_ubyte(adjust_gamma(np.arange(0, 60001, 1) / 60000, 16.))\n",
    "tilesize = 16\n",
    "for i, file in enumerate(tqdm(files)):\n",
    "    infile = os.path.join(INPUT, file)\n",
    "    img = cv2.imread(infile, -1)\n",
    "    img_inputs.append(img)\n",
    "    clahe = cv2.createCLAHE(clipLimit=40.0, tileGridSize=(tilesize, tilesize))\n",
    "    img = clahe.apply(img)    \n",
    "    file_inputs.append(file)\n",
    "    img_outputs.append(img)\n",
    "    del img"
   ]
  },
  {
   "cell_type": "code",
   "execution_count": null,
   "metadata": {},
   "outputs": [],
   "source": [
    "print(len(img_outputs), len(file_inputs) )"
   ]
  },
  {
   "cell_type": "code",
   "execution_count": null,
   "metadata": {},
   "outputs": [],
   "source": [
    "start, finish = (110,115)\n",
    "tfiles = file_inputs[start:finish]\n",
    "ins = img_inputs[start:finish]\n",
    "outs = img_outputs[start:finish]\n",
    "fig, ax = plt.subplots(nrows=len(tfiles), ncols=2, sharex=True)\n",
    "plt.style.use('classic')\n",
    "#plt.rcParams.update({'figure.figsize': [5,16]})\n",
    "i = 0\n",
    "for old, new, filename in zip(ins, outs, files):\n",
    "    ax[i,0].set_title(filename)\n",
    "    ax[i,0].imshow(old, cmap='gray')\n",
    "\n",
    "    ax[i,1].set_title(filename)\n",
    "    ax[i,1].imshow(new, cmap='gray')\n",
    "    i += 1\n",
    "fig.set_size_inches(np.array(fig.get_size_inches()) * len(tfiles))\n",
    "plt.show()"
   ]
  },
  {
   "cell_type": "code",
   "execution_count": null,
   "metadata": {},
   "outputs": [],
   "source": [
    "start, finish = (110,112)\n",
    "files = file_inputs[start:finish]\n",
    "ins = img_inputs[start:finish]\n",
    "outs = img_outputs[start:finish]\n",
    "\n",
    "w = 10\n",
    "h = 10\n",
    "fig = plt.figure(figsize=(9, 13))\n",
    "columns = 2\n",
    "rows = len(files)\n",
    "\n",
    "# prep (x,y) for extra plotting\n",
    "xs = np.linspace(0, 2*np.pi, 60)  # from 0 to 2pi\n",
    "ys = np.abs(np.sin(xs))           # absolute of sine\n",
    "\n",
    "# ax enables access to manipulate each of subplots\n",
    "ax = []\n",
    "\n",
    "for i in range(columns*rows):\n",
    "    img = np.random.randint(10, size=(h,w))\n",
    "    # create subplot and append to ax\n",
    "    ax.append( fig.add_subplot(rows, columns, i+1) )\n",
    "    ax[-1].set_title(\"ax:\"+str(i))  # set title\n",
    "    plt.imshow(img, alpha=0.25)\n",
    "\n",
    "# do extra plots on selected axes/subplots\n",
    "# note: index starts with 0\n",
    "ax[2].plot(xs, 3*ys)\n",
    "ax[19].plot(ys**2, xs)\n",
    "\n",
    "plt.show()  # finally, render the plot"
   ]
  }
 ],
 "metadata": {
  "kernelspec": {
   "display_name": "Python 3",
   "language": "python",
   "name": "python3"
  },
  "language_info": {
   "codemirror_mode": {
    "name": "ipython",
    "version": 3
   },
   "file_extension": ".py",
   "mimetype": "text/x-python",
   "name": "python",
   "nbconvert_exporter": "python",
   "pygments_lexer": "ipython3",
   "version": "3.8.2"
  }
 },
 "nbformat": 4,
 "nbformat_minor": 4
}
