{
 "cells": [
  {
   "cell_type": "code",
   "execution_count": 10,
   "metadata": {},
   "outputs": [
    {
     "name": "stdout",
     "output_type": "stream",
     "text": [
      "Overwriting ../scripts/GenerateFlipbook.py\n"
     ]
    }
   ],
   "source": [
    "%%writefile ../scripts/GenerateFlipbook.py\n",
    "import matplotlib\n",
    "matplotlib.use('Agg') # set the backend before importing pyplot to be one without a display\n",
    "\n",
    "import matplotlib.pyplot as plt\n",
    "from matplotlib.gridspec import GridSpec\n",
    "\n",
    "import sys\n",
    "_in=sys.argv[1]\n",
    "_out=sys.argv[2]\n",
    "\n",
    "def image_grid(result):\n",
    "    i=0\n",
    "    def show_in_grid(I,axes):\n",
    "        axes.axis(\"off\")\n",
    "        I=I[-1:0:-1,:]\n",
    "        axes.imshow(I.T, cmap=\"gray\",aspect=1)\n",
    "\n",
    "    fig = plt.figure(figsize=[11,8.5])\n",
    "\n",
    "    gs = GridSpec(4, 3, figure=fig)\n",
    "    ax1 = fig.add_subplot(gs[0, 0])\n",
    "    ax2 = fig.add_subplot(gs[0, 1])\n",
    "    ax3 = fig.add_subplot(gs[0, 2])\n",
    "    ax4 = fig.add_subplot(gs[1:,:])\n",
    "\n",
    "    filename=result[\"file\"][14:-4]\n",
    "    fig.suptitle(filename)\n",
    "\n",
    "    show_in_grid(result['src'],ax1)\n",
    "    show_in_grid(result['blob'],ax2)\n",
    "    show_in_grid(result['mask'],ax3)\n",
    "    show_in_grid(result['scaled'],ax4)\n",
    "    plt.subplots_adjust(wspace=.01, hspace=.01)\n",
    "\n",
    "    pp.savefig(fig)\n",
    "    plt.close()\n",
    "\n",
    "import pickle as pk\n",
    "\n",
    "with open(_in,'rb') as pickle_file:\n",
    "    results=pk.load(pickle_file)\n",
    "\n",
    "from matplotlib.backends.backend_pdf import PdfPages\n",
    "pp=PdfPages(_out)\n",
    "for i in range(len(results)):\n",
    "    print('\\r GenerateFlipbook',i,end='')\n",
    "    image_grid(results[i])\n",
    "pp.close()"
   ]
  },
  {
   "cell_type": "code",
   "execution_count": 7,
   "metadata": {
    "scrolled": true
   },
   "outputs": [
    {
     "name": "stdout",
     "output_type": "stream",
     "text": [
      "total 35340\r\n",
      "-rw-r--r-- 1 yfreund freund     4542 May 21 12:30 'browse auto-masking results.ipynb'\r\n",
      "-rw-r--r-- 1 yfreund freund     5891 May 21 12:31 'browse images.ipynb'\r\n",
      "-rw-r--r-- 1 yfreund freund     4449 May 21 12:32  alignment-simpleelastix.ipynb\r\n",
      "drwxr-xr-x 3 yfreund freund     4096 May 21 12:33  old\r\n",
      "-rw-r--r-- 1 yfreund freund       32 May 21 14:20  argv.py\r\n",
      "-rw-r--r-- 1 yfreund freund     6296 May 21 14:28 'Analysis Script.ipynb'\r\n",
      "-rw-r--r-- 1 yfreund freund 36137452 May 21 14:30  auto_masking_results.pkl\r\n",
      "-rw-r--r-- 1 yfreund freund     3176 May 21 14:42  multipage_pdf-Copy1.ipynb\r\n",
      "-rw-r--r-- 1 yfreund freund     3363 May 21 16:02  multipage_pdf.ipynb\r\n"
     ]
    }
   ],
   "source": [
    "!rm flipbook.pdf\n",
    "!ls -lrt"
   ]
  },
  {
   "cell_type": "code",
   "execution_count": null,
   "metadata": {},
   "outputs": [],
   "source": []
  }
 ],
 "metadata": {
  "kernelspec": {
   "display_name": "Python 3",
   "language": "python",
   "name": "python3"
  },
  "language_info": {
   "codemirror_mode": {
    "name": "ipython",
    "version": 3
   },
   "file_extension": ".py",
   "mimetype": "text/x-python",
   "name": "python",
   "nbconvert_exporter": "python",
   "pygments_lexer": "ipython3",
   "version": "3.6.9"
  }
 },
 "nbformat": 4,
 "nbformat_minor": 1
}
