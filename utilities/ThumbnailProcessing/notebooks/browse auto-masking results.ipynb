{
 "cells": [
  {
   "cell_type": "code",
   "execution_count": null,
   "metadata": {},
   "outputs": [],
   "source": [
    "import cv2\n",
    "import pickle as pk\n",
    "\n",
    "%%time\n",
    "with open('auto_masking_results.pkl','rb') as pickle_file:\n",
    "    results=pk.load(pickle_file)"
   ]
  },
  {
   "cell_type": "code",
   "execution_count": null,
   "metadata": {},
   "outputs": [],
   "source": [
    "%pylab inline\n",
    "def im_type(src):\n",
    "    print('dtype=',src.dtype,'shape=',src.shape)\n",
    "\n",
    "def disp(image):\n",
    "    figure(figsize=[30,8])\n",
    "    im_type(image)\n",
    "    imshow(image.T,'gray');"
   ]
  },
  {
   "cell_type": "code",
   "execution_count": null,
   "metadata": {},
   "outputs": [],
   "source": [
    "result=results[100]\n",
    "disp(result['src'])\n",
    "disp(result['mask'])"
   ]
  },
  {
   "cell_type": "code",
   "execution_count": null,
   "metadata": {
    "scrolled": false
   },
   "outputs": [],
   "source": [
    "def image_grid(_list,max_cols=5, max_rows=10,image_width=4,image_height=8):\n",
    "    \"\"\" Display a grid of images\n",
    "        parameters:\n",
    "        _list = a list of results\n",
    "        max_cols: \n",
    "        max_rows\n",
    "        image_width\n",
    "        image_height\n",
    "        \"\"\"\n",
    "    i=0\n",
    "    def show_in_grid(I,i):\n",
    "        row = i // max_cols\n",
    "        col = i % max_cols\n",
    "        axes[row, col].axis(\"off\")\n",
    "        axes[row, col].imshow(I, cmap=\"gray\")\n",
    "\n",
    "    fig, axes = plt.subplots(nrows=max_rows, ncols=max_cols, figsize=(max_cols*image_width,max_rows*image_height))\n",
    "    for result in _list:\n",
    "        show_in_grid(result['src'],i)\n",
    "        show_in_grid(result['blob'],i+1)\n",
    "        show_in_grid(result['mask'],i+2)\n",
    "        show_in_grid(result['scaled'],i+3)\n",
    "        i+=4\n",
    "    plt.subplots_adjust(wspace=.05, hspace=.05)\n",
    "    plt.show()"
   ]
  },
  {
   "cell_type": "code",
   "execution_count": null,
   "metadata": {
    "scrolled": false
   },
   "outputs": [],
   "source": [
    "image_grid(results[210:216],max_cols=8,max_rows=3,image_width=8, image_height=21)"
   ]
  },
  {
   "cell_type": "code",
   "execution_count": null,
   "metadata": {},
   "outputs": [],
   "source": [
    "def image_grid(_list):\n",
    "    i=0\n",
    "    def show_in_grid(I,i):\n",
    "        row = i // max_cols\n",
    "        col = i % max_cols\n",
    "        axes[row, col].axis(\"off\")\n",
    "        axes[row, col].imshow(I, cmap=\"gray\")\n",
    "\n",
    "    fig, axes = plt.subplots(nrows=max_rows, ncols=max_cols, figsize=(max_cols*image_width,max_rows*image_height))\n",
    "    for result in _list:\n",
    "        show_in_grid(result['src'],i)\n",
    "        show_in_grid(result['blob'],i+1)\n",
    "        show_in_grid(result['mask'],i+2)\n",
    "        show_in_grid(result['scaled'],i+3)\n",
    "        i+=4\n",
    "    plt.subplots_adjust(wspace=.05, hspace=.05)\n",
    "    plt.show()"
   ]
  },
  {
   "cell_type": "code",
   "execution_count": null,
   "metadata": {},
   "outputs": [],
   "source": [
    "result=results[201]\n",
    "mask=result['mask']\n",
    "disp(mask)"
   ]
  },
  {
   "cell_type": "code",
   "execution_count": null,
   "metadata": {},
   "outputs": [],
   "source": [
    "src=result['src']\n",
    "disp(src)"
   ]
  },
  {
   "cell_type": "code",
   "execution_count": null,
   "metadata": {},
   "outputs": [],
   "source": [
    "hist(src.flatten(),bins=100);\n",
    "xlim([0,10000])"
   ]
  },
  {
   "cell_type": "code",
   "execution_count": null,
   "metadata": {},
   "outputs": [],
   "source": [
    "result['threshold']"
   ]
  },
  {
   "cell_type": "code",
   "execution_count": null,
   "metadata": {},
   "outputs": [],
   "source": [
    "limit=10000\n",
    "scaled=src*(src<limit)\n",
    "disp(scaled)"
   ]
  },
  {
   "cell_type": "code",
   "execution_count": null,
   "metadata": {},
   "outputs": [],
   "source": []
  }
 ],
 "metadata": {
  "kernelspec": {
   "display_name": "Python 3",
   "language": "python",
   "name": "python3"
  },
  "language_info": {
   "codemirror_mode": {
    "name": "ipython",
    "version": 3
   },
   "file_extension": ".py",
   "mimetype": "text/x-python",
   "name": "python",
   "nbconvert_exporter": "python",
   "pygments_lexer": "ipython3",
   "version": "3.6.9"
  }
 },
 "nbformat": 4,
 "nbformat_minor": 4
}
