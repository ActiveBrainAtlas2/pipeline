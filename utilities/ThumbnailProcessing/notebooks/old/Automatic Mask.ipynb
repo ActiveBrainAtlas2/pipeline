{
 "cells": [
  {
   "cell_type": "markdown",
   "metadata": {},
   "source": [
    "### Automatic Masking\n",
    "\n",
    "In this notebook I am testing the following approach to isolating the section of the brain from it's surrounding\n",
    "\n",
    "1. Using the histogram find a threshold that will remove most of the background\n",
    "2. Find the largest connected components in the image that correspond to brain tissue.\n",
    "3. Dilate  it to fill in holes\n",
    "4. Use the result to mask out non-brain parts.\n",
    "\n"
   ]
  },
  {
   "cell_type": "code",
   "execution_count": null,
   "metadata": {},
   "outputs": [],
   "source": [
    "%pylab inline"
   ]
  },
  {
   "cell_type": "code",
   "execution_count": null,
   "metadata": {},
   "outputs": [],
   "source": [
    "thumbnail=!ls ../dk39_thumb/*C1*.tif\n",
    "len(thumbnail)\n",
    "\n",
    "thumbnail[215]"
   ]
  },
  {
   "cell_type": "code",
   "execution_count": null,
   "metadata": {
    "scrolled": false
   },
   "outputs": [],
   "source": [
    "def image_grid(_list,max_cols=5, max_rows=10,image_width=4,image_height=8):\n",
    "    \"\"\" Display a grid of images\n",
    "        parameters:\n",
    "        _list = a list of filenames, each containing one image\n",
    "        max_cols: \n",
    "        max_rows\n",
    "        image_width\n",
    "        image_height\n",
    "        \"\"\"\n",
    "    i=0\n",
    "    fig, axes = plt.subplots(nrows=max_rows, ncols=max_cols, figsize=(max_cols*image_width,max_rows*image_height))\n",
    "    for filename in _list:\n",
    "        I=imread(filename)\n",
    "        imshow(I,'gray')\n",
    "        row = i // max_cols\n",
    "        col = i % max_cols\n",
    "        i+=1\n",
    "        axes[row, col].axis(\"off\")\n",
    "        axes[row, col].imshow(I, cmap=\"gray\")\n",
    "    plt.subplots_adjust(wspace=.05, hspace=.05)\n",
    "    plt.show()"
   ]
  },
  {
   "cell_type": "code",
   "execution_count": null,
   "metadata": {
    "scrolled": false
   },
   "outputs": [],
   "source": [
    "image_grid(thumbnail[0:20],max_cols=4,max_rows=5,image_width=4, image_height=8)"
   ]
  },
  {
   "cell_type": "code",
   "execution_count": null,
   "metadata": {},
   "outputs": [],
   "source": [
    "I=imread(thumbnail[251])\n",
    "print(I.shape, I.dtype)"
   ]
  },
  {
   "cell_type": "code",
   "execution_count": null,
   "metadata": {},
   "outputs": [],
   "source": [
    "hist(I.flatten(),bins=1000);\n",
    "ylim([0,10000])"
   ]
  },
  {
   "cell_type": "code",
   "execution_count": null,
   "metadata": {},
   "outputs": [],
   "source": [
    "n,bins,patches=hist(I.flatten(),bins=1000);\n",
    "ylim([0,10000]);\n",
    "xlim([0,5000])"
   ]
  },
  {
   "cell_type": "code",
   "execution_count": null,
   "metadata": {},
   "outputs": [],
   "source": [
    "n.shape,bins.shape"
   ]
  },
  {
   "cell_type": "code",
   "execution_count": null,
   "metadata": {},
   "outputs": [],
   "source": [
    "_cumul=np.array(np.cumsum(n))\n",
    "_cumul.shape\n",
    "\n",
    "_cumul/=_cumul[-1]\n",
    "_cumul.shape\n",
    "\n",
    "plot(bins[1:],_cumul)\n",
    "grid()"
   ]
  },
  {
   "cell_type": "raw",
   "metadata": {},
   "source": [
    "src = imread(thumbnail[251])\n",
    "type(src),src.dtype\n",
    "\n",
    "cv2.imshow?\n",
    "#(thumbnail[251],src)\n",
    "\n",
    "# Threshold it so it becomes binary\n",
    "ret, thresh = cv2.threshold(src,5000)\n",
    "\n",
    "# You need to choose 4 or 8 for connectivity type\n",
    "connectivity = 4  \n",
    "# Perform the operation\n",
    "output = cv2.connectedComponentsWithStats(thresh, connectivity, cv2.CV_32S)\n",
    "# Get the results\n",
    "# The first cell is the number of labels\n",
    "num_labels = output[0]\n",
    "# The second cell is the label matrix\n",
    "labels = output[1]\n",
    "# The third cell is the stat matrix\n",
    "stats = output[2]\n",
    "# The fourth cell is the centroid matrix\n",
    "centroids = output[3]"
   ]
  },
  {
   "cell_type": "code",
   "execution_count": null,
   "metadata": {},
   "outputs": [],
   "source": [
    "figure(figsize=[15,30])\n",
    "imshow(I.T,'gray');"
   ]
  },
  {
   "cell_type": "code",
   "execution_count": null,
   "metadata": {},
   "outputs": [],
   "source": [
    "#import cv2"
   ]
  },
  {
   "cell_type": "code",
   "execution_count": null,
   "metadata": {},
   "outputs": [],
   "source": [
    "Z=np.array((I>5000)*1.,dtype=np.float32)\n",
    "\n",
    "figure(figsize=[15,30])\n",
    "imshow(Z.T)"
   ]
  },
  {
   "cell_type": "code",
   "execution_count": null,
   "metadata": {},
   "outputs": [],
   "source": [
    "Z.dtype"
   ]
  },
  {
   "cell_type": "code",
   "execution_count": null,
   "metadata": {},
   "outputs": [],
   "source": [
    "import cv2\n",
    "from PIL.Image import fromarray \n",
    "#from cv2 import fromarray\n",
    "\n",
    "Z_cv = fromarray(Z, mode=None)\n",
    "type(Z_cv)"
   ]
  },
  {
   "cell_type": "code",
   "execution_count": null,
   "metadata": {},
   "outputs": [],
   "source": [
    "ret, labels, stats, centroids = cv2.connectedComponentsWithStats(Z)"
   ]
  },
  {
   "cell_type": "code",
   "execution_count": null,
   "metadata": {},
   "outputs": [],
   "source": [
    "figure(figsize=[10,20])\n",
    "imshow(I.T*Z.T,'gray')"
   ]
  },
  {
   "cell_type": "code",
   "execution_count": null,
   "metadata": {},
   "outputs": [],
   "source": []
  },
  {
   "cell_type": "code",
   "execution_count": null,
   "metadata": {},
   "outputs": [],
   "source": []
  }
 ],
 "metadata": {
  "kernelspec": {
   "display_name": "Python 3",
   "language": "python",
   "name": "python3"
  },
  "language_info": {
   "codemirror_mode": {
    "name": "ipython",
    "version": 3
   },
   "file_extension": ".py",
   "mimetype": "text/x-python",
   "name": "python",
   "nbconvert_exporter": "python",
   "pygments_lexer": "ipython3",
   "version": "3.6.9"
  }
 },
 "nbformat": 4,
 "nbformat_minor": 4
}
