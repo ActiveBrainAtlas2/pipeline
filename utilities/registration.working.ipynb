{
 "cells": [
  {
   "cell_type": "code",
   "execution_count": 1,
   "metadata": {},
   "outputs": [],
   "source": [
    "import numpy as np\n",
    "from matplotlib import pyplot as plt\n",
    "from skimage import io\n",
    "from os.path import expanduser\n",
    "HOME = expanduser(\"~\")\n",
    "import os, sys\n",
    "import SimpleITK as sitk\n",
    "#from PIL import Image, ImageOps\n",
    "#from scipy.ndimage import rotate\n",
    "from tqdm import tqdm\n",
    "#from IPython.display import clear_output\n",
    "#REPO_DIR = '/home/eddyod/programming/pipeline_utility'\n",
    "#sys.path.append(REPO_DIR)\n",
    "#from utilities.sqlcontroller import SqlController\n",
    "#from utilities.file_location import FileLocationManager\n",
    "#stack = 'DK39'\n",
    "#sqlController = SqlController()\n",
    "#fileLocationManager = FileLocationManager(stack)\n",
    "#image_name_list = sqlController.get_image_list(stack, 'destination')\n",
    "#%matplotlib inline"
   ]
  },
  {
   "cell_type": "code",
   "execution_count": 4,
   "metadata": {},
   "outputs": [],
   "source": [
    "#DIR = os.path.join(HOME, 'programming', 'dk39')\n",
    "DIR = '/net/birdstore/Active_Atlas_Data/data_root/pipeline_data/DK39'\n",
    "ORIENTED = os.path.join(DIR, 'preps', 'resized')\n",
    "PREALIGNED = os.path.join(DIR, 'preps', 'prealigned')\n",
    "ALIGNED = os.path.join(DIR, 'preps', 'aligned')\n",
    "NORMALIZED = os.path.join(DIR, 'preps', 'normalized')\n",
    "POSTALIGNED = os.path.join(DIR, 'preps', 'postaligned')\n",
    "PADDED = os.path.join(DIR, 'preps', 'padded')\n",
    "RESIZED = os.path.join(DIR, 'preps', 'resized')\n",
    "INPUT = RESIZED\n",
    "OUTPUT = ALIGNED\n",
    "#BADS = ['DK39_ID_0001_slide001_S1_C1.tif', 'DK39_ID_0007_slide001_S2_C1.tif', 'DK39_ID_0010_slide001_S3_C1.tif']\n",
    "#INPUTS = INPUTS[80:120]\n",
    "#COLOR = 2**16\n",
    "files = sorted(os.listdir(INPUT))"
   ]
  },
  {
   "cell_type": "code",
   "execution_count": 6,
   "metadata": {},
   "outputs": [],
   "source": [
    "def simple_resample(fixed_image, moving_image):\n",
    "    #parameterMap = sitk.GetDefaultParameterMap('affine')\n",
    "    #elastixImageFilter = sitk.ElastixImageFilter()\n",
    "    #elastixImageFilter.SetParameterMap(parameterMap)\n",
    "    #elastixImageFilter.Execute()\n",
    "    #return  sitk.ElastixImageFilter(fixed_image, moving_image)\n",
    "    \n",
    "    #parameterMap = sitk.GetDefaultParameterMap(\"rigid\")\n",
    "    #parameterMap[\"Transform\"] = [\"AffineTransform\"]\n",
    "\n",
    "    #elastixImageFilter = sitk.ElastixImageFilter()\n",
    "    #elastixImageFilter.SetFixedImage(fixed_image)\n",
    "    #elastixImageFilter.SetMovingImage(moving_image)\n",
    "    #elastixImageFilter.SetParameterMap(parameterMap)\n",
    "    #elastixImageFilter.Execute()\n",
    "    #return elastixImageFilter.GetResultImage()\n",
    "    return  sitk.Elastix(fixed_image, moving_image)\n",
    "\n"
   ]
  },
  {
   "cell_type": "code",
   "execution_count": null,
   "metadata": {},
   "outputs": [],
   "source": [
    "movingFile = files[0]\n",
    "movingPath = os.path.join(INPUT, movingFile)\n",
    "fixedPath = movingPath\n",
    "fixed_image =  sitk.ReadImage(fixedPath, sitk.sitkFloat32)\n",
    "moving_image = sitk.ReadImage(movingPath, sitk.sitkFloat32) \n",
    "fixed_image = simple_resample(fixed_image, moving_image)\n",
    "\n",
    "\n",
    "for file in tqdm(files):\n",
    "    movingFile = file\n",
    "    movingPath = os.path.join(INPUT, movingFile)\n",
    "    moving_image = sitk.ReadImage(movingPath, sitk.sitkFloat32) \n",
    "    fixed_image = simple_resample(fixed_image, moving_image)\n",
    "    \n",
    "    outfile = os.path.join(OUTPUT, file)\n",
    "    flat = img.flatten()\n",
    "    fmax = int(flat.max())\n",
    "    fmin = int(flat.min())\n",
    "    flat = flat + abs(fmin)\n",
    "    img = np.reshape(flat, img.shape)    \n",
    "    img[img <= 0] = 0\n",
    "    io.imsave(outfile, img.astype('uint16'), check_contrast=False)\n",
    "    img = None\n",
    "print('done')"
   ]
  },
  {
   "cell_type": "code",
   "execution_count": null,
   "metadata": {},
   "outputs": [],
   "source": [
    "start, finish = 0,10\n",
    "for name,file in zip(file_inputs[start:finish], img_outputs[start:finish]):\n",
    "    plt.style.use('classic')\n",
    "    plt.figure()\n",
    "    plt.title('{} {}'.format(name, file.shape))\n",
    "    plt.imshow(file, cmap='gray')\n",
    "    plt.show()"
   ]
  }
 ],
 "metadata": {
  "kernelspec": {
   "display_name": "Python 3",
   "language": "python",
   "name": "python3"
  },
  "language_info": {
   "codemirror_mode": {
    "name": "ipython",
    "version": 3
   },
   "file_extension": ".py",
   "mimetype": "text/x-python",
   "name": "python",
   "nbconvert_exporter": "python",
   "pygments_lexer": "ipython3",
   "version": "3.8.2"
  }
 },
 "nbformat": 4,
 "nbformat_minor": 4
}
