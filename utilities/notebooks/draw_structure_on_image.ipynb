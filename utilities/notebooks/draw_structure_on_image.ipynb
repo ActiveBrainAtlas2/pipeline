{
 "cells": [
  {
   "cell_type": "code",
   "execution_count": null,
   "metadata": {},
   "outputs": [],
   "source": [
    "%reload_ext autoreload\n",
    "%autoreload 2\n",
    "\n",
    "import os, sys\n",
    "import pandas as pd\n",
    "import numpy as np\n",
    "from matplotlib import pyplot as plt\n",
    "import cv2\n",
    "import ast\n",
    "from skimage import io\n",
    "from skimage.color import gray2rgb\n",
    "from tqdm import tqdm\n",
    "from collections import defaultdict\n",
    "from scipy.interpolate import UnivariateSpline"
   ]
  },
  {
   "cell_type": "code",
   "execution_count": null,
   "metadata": {},
   "outputs": [],
   "source": [
    "HOME = os.path.expanduser(\"~\")\n",
    "DIR = os.path.join(HOME, 'programming/pipeline_utility')\n",
    "sys.path.append(DIR)\n",
    "from utilities.contour_utilities import get_contours_from_annotations, add_structure_to_neuroglancer, \\\n",
    "    create_full_volume, get_structure_colors\n",
    "from utilities.sqlcontroller import SqlController\n",
    "animal = 'MD589'\n",
    "sqlController = SqlController(animal)\n",
    "color_radius = 3\n",
    "xy_ng_resolution_um = 5\n",
    "color_radius = 3\n",
    "\n",
    "CSV_PATH = '/net/birdstore/Active_Atlas_Data/data_root/atlas_data/foundation_brain_annotations'\n",
    "csvfile = os.path.join(CSV_PATH, f'{animal}_annotation.csv')\n",
    "hand_annotations = pd.read_csv(csvfile)\n",
    "hand_annotations['vertices'] = hand_annotations['vertices'] \\\n",
    "    .apply(lambda x: x.replace(' ', ','))\\\n",
    "    .apply(lambda x: x.replace('\\n',','))\\\n",
    "    .apply(lambda x: x.replace(',]',']'))\\\n",
    "    .apply(lambda x: x.replace(',,', ','))\\\n",
    "    .apply(lambda x: x.replace(',,', ','))\\\n",
    "    .apply(lambda x: x.replace(',,', ',')).apply(lambda x: x.replace(',,', ','))\n",
    "\n",
    "hand_annotations['vertices'] = hand_annotations['vertices'].apply(lambda x: ast.literal_eval(x))"
   ]
  },
  {
   "cell_type": "code",
   "execution_count": null,
   "metadata": {},
   "outputs": [],
   "source": [
    "structures = list(hand_annotations['name'].unique())\n",
    "section_structure_vertices = defaultdict(dict)\n",
    "for structure in tqdm(structures):\n",
    "    contour_annotations, first_sec, last_sec = get_contours_from_annotations(animal, structure, hand_annotations, densify=0)\n",
    "    for section in contour_annotations:\n",
    "        section_structure_vertices[section][structure] = contour_annotations[section][structure][1]"
   ]
  },
  {
   "cell_type": "code",
   "execution_count": null,
   "metadata": {},
   "outputs": [],
   "source": [
    "section_images = {}\n",
    "SCALE = 16\n",
    "PATH = f'/net/birdstore/Active_Atlas_Data/data_root/pipeline_data/{animal}/preps/CH1'\n",
    "thumbnail_dir = os.path.join(PATH, 'downsample_16')\n",
    "files = sorted(os.listdir(thumbnail_dir))\n",
    "for file_name in tqdm(files):\n",
    "    filepath = os.path.join(thumbnail_dir, file_name)\n",
    "    img = io.imread(filepath)\n",
    "    section = int(file_name.split('.')[0])\n",
    "    \n",
    "    for structure in section_structure_vertices[section]:\n",
    "        pts = section_structure_vertices[section][structure]\n",
    "        points = np.array(pts, dtype=np.int32)\n",
    "        \"\"\"\n",
    "        points = np.array(pts,dtype=np.float64)\n",
    "        x = np.array([v[0] for v in points])\n",
    "        y = np.array([v[1] for v in points])\n",
    "        old_len = points.shape[0]\n",
    "        new_len = int(old_len * 1)\n",
    "        indexes = np.arange(0, old_len)\n",
    "        new_indexes = np.linspace(0,old_len-1, new_len)\n",
    "        splx = UnivariateSpline(indexes,x,k=3,s=0)\n",
    "        x_smooth = splx(new_indexes)\n",
    "        sply = UnivariateSpline(indexes,y,k=3,s=0)\n",
    "        y_smooth = sply(new_indexes)\n",
    "        points = np.column_stack((x_smooth, y_smooth)).astype(np.int32)\n",
    "        \"\"\"\n",
    "        points = points // SCALE\n",
    "        try:\n",
    "            color = sqlController.get_structure_color_rgb(structure)\n",
    "        except:\n",
    "            color = (0,0,0)\n",
    "        #cv2.polylines(img, [points], isClosed=True, color=color, thickness=2)\n",
    "        for c in points:\n",
    "            cv2.circle(img, (c[0],c[1]), 2, color, -1)\n",
    "\n",
    "            \n",
    "    section_images[section] = img"
   ]
  },
  {
   "cell_type": "code",
   "execution_count": null,
   "metadata": {},
   "outputs": [],
   "source": [
    "section = 140\n",
    "fig=plt.figure(figsize=(26,18), dpi= 100, facecolor='w', edgecolor='k')\n",
    "plt.imshow(section_images[section], cmap=\"cool\")\n",
    "plt.title('{} section:{}'.format(animal, section))\n",
    "plt.show()"
   ]
  },
  {
   "cell_type": "code",
   "execution_count": null,
   "metadata": {},
   "outputs": [],
   "source": [
    "filepath = os.path.join(HOME, '{}.tif'.format(section))\n",
    "cv2.imwrite(filepath, section_images[section])"
   ]
  },
  {
   "cell_type": "code",
   "execution_count": null,
   "metadata": {},
   "outputs": [],
   "source": [
    "#OUTPUT = os.path.join(PATH, 'annotations')\n",
    "#os.makedirs(OUTPUT, exist_ok=True)\n",
    "#for section in tqdm(section_images):\n",
    "#    outpath = os.path.join(OUTPUT, str(section).zfill(3) + '.tif')\n",
    "#    cv2.imwrite(outpath, section_images[section])"
   ]
  },
  {
   "cell_type": "code",
   "execution_count": null,
   "metadata": {},
   "outputs": [],
   "source": []
  }
 ],
 "metadata": {
  "kernelspec": {
   "display_name": "Python 3",
   "language": "python",
   "name": "python3"
  },
  "language_info": {
   "codemirror_mode": {
    "name": "ipython",
    "version": 3
   },
   "file_extension": ".py",
   "mimetype": "text/x-python",
   "name": "python",
   "nbconvert_exporter": "python",
   "pygments_lexer": "ipython3",
   "version": "3.8.2"
  }
 },
 "nbformat": 4,
 "nbformat_minor": 1
}
