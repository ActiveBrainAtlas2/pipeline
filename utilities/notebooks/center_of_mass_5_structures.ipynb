{
 "cells": [
  {
   "cell_type": "code",
   "execution_count": 1,
   "metadata": {},
   "outputs": [],
   "source": [
    "%reload_ext autoreload\n",
    "%autoreload 2\n",
    "\n",
    "import os, sys\n",
    "import pandas as pd\n",
    "import numpy as np\n",
    "from matplotlib import pyplot as plt\n",
    "import cv2\n",
    "import ast\n",
    "from tqdm import tqdm\n",
    "from collections import defaultdict"
   ]
  },
  {
   "cell_type": "code",
   "execution_count": 2,
   "metadata": {},
   "outputs": [],
   "source": [
    "# install these\n",
    "#https://pymicro.readthedocs.io/projects/pymicro/en/latest/cookbook/pointset_registration.html\n",
    "from pymicro.view.vol_utils import compute_affine_transform\n",
    "#https://pypi.org/project/affine6p/\n",
    "import affine6p\n",
    "#https://github.com/jewettaij/superpose3d\n",
    "from superpose3d import Superpose3D"
   ]
  },
  {
   "cell_type": "code",
   "execution_count": 3,
   "metadata": {},
   "outputs": [
    {
     "name": "stdout",
     "output_type": "stream",
     "text": [
      "Connecting dklab@192.168.1.12:3306\n"
     ]
    },
    {
     "data": {
      "text/html": [
       "<div>\n",
       "<style scoped>\n",
       "    .dataframe tbody tr th:only-of-type {\n",
       "        vertical-align: middle;\n",
       "    }\n",
       "\n",
       "    .dataframe tbody tr th {\n",
       "        vertical-align: top;\n",
       "    }\n",
       "\n",
       "    .dataframe thead th {\n",
       "        text-align: right;\n",
       "    }\n",
       "</style>\n",
       "<table border=\"1\" class=\"dataframe\">\n",
       "  <thead>\n",
       "    <tr style=\"text-align: right;\">\n",
       "      <th></th>\n",
       "      <th>index</th>\n",
       "      <th>name</th>\n",
       "      <th>section</th>\n",
       "      <th>side</th>\n",
       "      <th>vertices</th>\n",
       "    </tr>\n",
       "  </thead>\n",
       "  <tbody>\n",
       "    <tr>\n",
       "      <th>191</th>\n",
       "      <td>843</td>\n",
       "      <td>5N</td>\n",
       "      <td>150</td>\n",
       "      <td>L</td>\n",
       "      <td>[[23467.35736638, 13029.96696407], [23371.8771...</td>\n",
       "    </tr>\n",
       "    <tr>\n",
       "      <th>369</th>\n",
       "      <td>1683</td>\n",
       "      <td>5N</td>\n",
       "      <td>151</td>\n",
       "      <td>L</td>\n",
       "      <td>[[22119.53951512, 14078.59777646], [21969.6072...</td>\n",
       "    </tr>\n",
       "    <tr>\n",
       "      <th>451</th>\n",
       "      <td>2089</td>\n",
       "      <td>5N</td>\n",
       "      <td>152</td>\n",
       "      <td>L</td>\n",
       "      <td>[[23441.88459431, 13586.7746992], [23299.53025...</td>\n",
       "    </tr>\n",
       "    <tr>\n",
       "      <th>116</th>\n",
       "      <td>489</td>\n",
       "      <td>5N</td>\n",
       "      <td>153</td>\n",
       "      <td>L</td>\n",
       "      <td>[[22705.00744451, 13825.99679013], [22571.2393...</td>\n",
       "    </tr>\n",
       "    <tr>\n",
       "      <th>49</th>\n",
       "      <td>198</td>\n",
       "      <td>5N</td>\n",
       "      <td>154</td>\n",
       "      <td>L</td>\n",
       "      <td>[[22703.58621367, 14048.8018496], [22552.64526...</td>\n",
       "    </tr>\n",
       "  </tbody>\n",
       "</table>\n",
       "</div>"
      ],
      "text/plain": [
       "     index name  section side  \\\n",
       "191    843   5N      150    L   \n",
       "369   1683   5N      151    L   \n",
       "451   2089   5N      152    L   \n",
       "116    489   5N      153    L   \n",
       "49     198   5N      154    L   \n",
       "\n",
       "                                              vertices  \n",
       "191  [[23467.35736638, 13029.96696407], [23371.8771...  \n",
       "369  [[22119.53951512, 14078.59777646], [21969.6072...  \n",
       "451  [[23441.88459431, 13586.7746992], [23299.53025...  \n",
       "116  [[22705.00744451, 13825.99679013], [22571.2393...  \n",
       "49   [[22703.58621367, 14048.8018496], [22552.64526...  "
      ]
     },
     "execution_count": 3,
     "metadata": {},
     "output_type": "execute_result"
    }
   ],
   "source": [
    "HOME = os.path.expanduser(\"~\")\n",
    "DIR = os.path.join(HOME, 'programming/pipeline_utility')\n",
    "sys.path.append(DIR)\n",
    "from utilities.contour_utilities import get_contours_from_annotations, add_structure_to_neuroglancer, \\\n",
    "    create_full_volume, get_structure_colors\n",
    "from utilities.sqlcontroller import SqlController\n",
    "animal = 'MD589'\n",
    "sqlController = SqlController(animal)\n",
    "\n",
    "CSV_PATH = '/net/birdstore/Active_Atlas_Data/data_root/atlas_data/foundation_brain_annotations'\n",
    "csvfile = os.path.join(CSV_PATH, 'MD589_annotation.csv')\n",
    "hand_annotations = pd.read_csv(csvfile)\n",
    "hand_annotations.head()\n",
    "hand_annotations['vertices'] = hand_annotations['vertices'] \\\n",
    "    .apply(lambda x: x.replace(' ', ','))\\\n",
    "    .apply(lambda x: x.replace('\\n',','))\\\n",
    "    .apply(lambda x: x.replace(',]',']'))\\\n",
    "    .apply(lambda x: x.replace(',,', ','))\\\n",
    "    .apply(lambda x: x.replace(',,', ','))\\\n",
    "    .apply(lambda x: x.replace(',,', ',')).apply(lambda x: x.replace(',,', ','))\n",
    "\n",
    "hand_annotations['vertices'] = hand_annotations['vertices'].apply(lambda x: ast.literal_eval(x))\n",
    "structures = ['DC', 'LC','SC', '5N', '7n']\n",
    "# SC is the only singular structure\n",
    "df = hand_annotations[['name', 'section', 'side', 'vertices']].copy()\n",
    "df = df.loc[df['name'].isin(structures)]\n",
    "df = df.reset_index()\n",
    "df = df.sort_values(by=['name', 'section'])\n",
    "df.head()"
   ]
  },
  {
   "cell_type": "code",
   "execution_count": 4,
   "metadata": {},
   "outputs": [],
   "source": [
    "# these are the 5 structures Beth suggested for getting\n",
    "# enough that were spread out.\n",
    "structures = ['DC', 'LC','SC', '5N', '7n']\n",
    "centers = {}\n",
    "section_structure_vertices = defaultdict(dict)\n",
    "SC = df.loc[(df['name'] == \"SC\")]\n",
    "first_section = SC['section'].min()\n",
    "last_section = SC['section'].max()\n",
    "midsection = int(round(((last_section + first_section) / 2)))\n",
    "point_array = SC['vertices'].loc[SC['section'] == midsection].values\n",
    "section_structure_vertices[midsection]['SC'] = point_array[0]\n",
    "cx, cy = np.mean(point_array[0], axis=0)    \n",
    "centers['SC'] = [int(round(cx)), int(round(cy)), int(round(midsection))]\n",
    "\n",
    "structures.remove('SC')\n",
    "for structure in structures:\n",
    "    df_tmp = df.loc[(df['name'] == structure) & (df['side'] == \"L\")]\n",
    "    first_section = df_tmp['section'].min()\n",
    "    last_section = df_tmp['section'].max()\n",
    "    midsection = int(round(((last_section + first_section) / 2)))\n",
    "    structure_name = structure + \"_L\"\n",
    "    point_array = df_tmp['vertices'].loc[df_tmp['section'] == midsection].values\n",
    "    section_structure_vertices[midsection][structure_name] = point_array[0]\n",
    "    cx, cy = np.mean(point_array[0], axis=0)    \n",
    "    centers[structure_name] = [int(round(cx)), int(round(cy)), int(round(midsection))]\n",
    "    \n",
    "    df_tmp = df.loc[(df['name'] == structure) & (df['side'] == \"R\")]\n",
    "    first_section = df_tmp['section'].min()\n",
    "    last_section = df_tmp['section'].max()\n",
    "    midsection = int(round(((last_section - first_section) / 2) + first_section))\n",
    "    structure_name = structure + \"_R\"\n",
    "    point_array = df_tmp['vertices'].loc[df_tmp['section'] == midsection].values\n",
    "    section_structure_vertices[midsection][structure_name] = point_array[0]\n",
    "    cx, cy = np.mean(point_array[0], axis=0)    \n",
    "    centers[structure_name] = [int(round(cx)), int(round(cy)), int(round(midsection))]\n"
   ]
  },
  {
   "cell_type": "code",
   "execution_count": 5,
   "metadata": {},
   "outputs": [
    {
     "data": {
      "text/plain": [
       "{'SC': [24226, 6401, 220],\n",
       " 'DC_L': [24482, 11985, 134],\n",
       " 'DC_R': [20424, 11736, 330],\n",
       " 'LC_L': [25290, 11750, 180],\n",
       " 'LC_R': [24894, 12079, 268],\n",
       " '5N_L': [23790, 13025, 160],\n",
       " '5N_R': [20805, 14163, 298],\n",
       " '7n_L': [20988, 18405, 177],\n",
       " '7n_R': [24554, 13911, 284]}"
      ]
     },
     "execution_count": 5,
     "metadata": {},
     "output_type": "execute_result"
    }
   ],
   "source": [
    "centers"
   ]
  },
  {
   "cell_type": "code",
   "execution_count": null,
   "metadata": {},
   "outputs": [],
   "source": [
    "font = cv2.FONT_HERSHEY_SIMPLEX\n",
    "fontScale = 0.5\n",
    "thickness = 1\n",
    "colors = {}\n",
    "colors['SC'] = (255,0,255)\n",
    "\n",
    "colors['DC_L'] = (0,0,0)\n",
    "colors['LC_L'] = (255,0,0)\n",
    "colors['SC_L'] = (255,0,255)\n",
    "colors['5N_L'] = (0,255,255)\n",
    "colors['7n_L'] = (100,10,255)\n",
    "colors['DC_R'] = (0,0,0)\n",
    "colors['LC_R'] = (255,0,0)\n",
    "colors['SC_R'] = (255,0,255)\n",
    "colors['5N_R'] = (0,255,255)\n",
    "colors['7n_R'] = (100,10,255)\n",
    "# create a fake random distance away from the original structures\n",
    "rand_offset = np.random.randint(75,150)\n",
    "offsets = {}\n",
    "section_images = {}\n",
    "points = {}\n",
    "SCALE = 32\n",
    "PATH = f'/net/birdstore/Active_Atlas_Data/data_root/pipeline_data/{animal}/preps/CH1'\n",
    "thumbnail_dir = os.path.join(PATH, 'thumbnail')\n",
    "files = sorted(os.listdir(thumbnail_dir))\n",
    "for file_name in tqdm(files):\n",
    "    filepath = os.path.join(thumbnail_dir, file_name)\n",
    "    img = cv2.imread(filepath)\n",
    "    section = int(file_name.split('.')[0])\n",
    "    \n",
    "    for structure in section_structure_vertices[section]:\n",
    "        pts = section_structure_vertices[section][structure]\n",
    "        points = np.array(pts, dtype=np.int32)        \n",
    "        points = points // SCALE\n",
    "        \n",
    "        points_diff = np.rint(points + rand_offset)\n",
    "        points_diff = points_diff.astype(np.int32)\n",
    "        cxoff, cyoff = np.min(points_diff, axis=0)\n",
    "        offsets[structure] = [int(round(cxoff*SCALE)), int(round(cyoff*SCALE)), section]\n",
    "        \n",
    "        cv2.polylines(img, [points_diff], isClosed=True, color=(0,0,0), thickness=5)\n",
    "        cx = centers[structure][0] // SCALE\n",
    "        cy = centers[structure][1] // SCALE\n",
    "        \n",
    "        cv2.circle(img, (cx,cy), 10, (0,0,0), -1)\n",
    "            \n",
    "        cv2.polylines(img, [points], isClosed=True, color=colors[structure], thickness=2)\n",
    "        cv2.putText(img, structure, (cx,cy), font,\n",
    "                    fontScale, colors[structure], thickness, cv2.LINE_AA)\n",
    "            \n",
    "    section_images[section] = img"
   ]
  },
  {
   "cell_type": "code",
   "execution_count": null,
   "metadata": {},
   "outputs": [],
   "source": [
    "# this shows the real structure, it's center of mass and a fake offsetted structure\n",
    "structure_midpoints = [134,160,177,180,220,268,284,298,330]\n",
    "section = structure_midpoints[0]\n",
    "fig=plt.figure(figsize=(26,18), dpi= 100, facecolor='w', edgecolor='k')\n",
    "plt.imshow(section_images[section], cmap=\"cool\")\n",
    "plt.title('{} section:{}'.format(animal, section))\n",
    "plt.show()"
   ]
  },
  {
   "cell_type": "code",
   "execution_count": null,
   "metadata": {},
   "outputs": [],
   "source": [
    "offsets"
   ]
  },
  {
   "cell_type": "code",
   "execution_count": null,
   "metadata": {},
   "outputs": [],
   "source": [
    "origin = np.array(list(centers.values())).astype(np.float32)\n",
    "fitted = np.array(list(offsets.values())).astype(np.float32)\n",
    "# create a fake structure with a center of mass at:\n",
    "other_structure = (25000,15000,200)\n",
    "print(origin.shape, fitted.shape, other_structure)"
   ]
  },
  {
   "cell_type": "code",
   "execution_count": null,
   "metadata": {},
   "outputs": [],
   "source": [
    "origin_centroid = np.mean(origin, axis=0)\n",
    "fitted_centroid = np.mean(fitted, axis=0)\n",
    "print(origin_centroid, fitted_centroid, other_structure)"
   ]
  },
  {
   "cell_type": "code",
   "execution_count": null,
   "metadata": {},
   "outputs": [],
   "source": [
    "# Pad the data with ones, so that our transformation can do translations too\n",
    "n = origin.shape[0]\n",
    "pad = lambda x: np.hstack([x, np.ones((x.shape[0], 1))])\n",
    "unpad = lambda x: x[:,:-1]\n",
    "X = pad(origin)\n",
    "Y = pad(fitted)\n",
    "\n",
    "# Solve the least squares problem X * A = Y\n",
    "# to find our transformation matrix A\n",
    "A, res, rank, s = np.linalg.lstsq(X, Y)\n",
    "\n",
    "transform = lambda x: unpad(np.dot(pad(x), A))\n",
    "\n",
    "print(\"Target:\", fitted)\n",
    "print(\"Result:\", transform(origin))\n",
    "print(\"Max error:\", np.abs(fitted - transform(origin)).max())"
   ]
  },
  {
   "cell_type": "code",
   "execution_count": null,
   "metadata": {},
   "outputs": [],
   "source": [
    "def Affine_Fit( from_pts, to_pts ):\n",
    "    \"\"\"Fit an affine transformation to given point sets.\n",
    "      More precisely: solve (least squares fit) matrix 'A'and 't' from\n",
    "      'p ~= A*q+t', given vectors 'p' and 'q'.\n",
    "      Works with arbitrary dimensional vectors (2d, 3d, 4d...).\n",
    "\n",
    "      Written by Jarno Elonen <elonen@iki.fi> in 2007.\n",
    "      Placed in Public Domain.\n",
    "\n",
    "      Based on paper \"Fitting affine and orthogonal transformations\n",
    "      between two sets of points, by Helmuth Späth (2003).\"\"\"\n",
    "\n",
    "    q = from_pts\n",
    "    p = to_pts\n",
    "    if len(q) != len(p) or len(q)<1:\n",
    "        print(\"from_pts and to_pts must be of same size.\")\n",
    "        return false\n",
    "\n",
    "    dim = len(q[0]) # num of dimensions\n",
    "    if len(q) < dim:\n",
    "        print(\"Too few points => under-determined system.\")\n",
    "        return false\n",
    "\n",
    "    # Make an empty (dim) x (dim+1) matrix and fill it\n",
    "    c = [[0.0 for a in range(dim)] for i in range(dim+1)]\n",
    "    for j in range(dim):\n",
    "        for k in range(dim+1):\n",
    "            for i in range(len(q)):\n",
    "                qt = list(q[i]) + [1]\n",
    "                c[k][j] += qt[k] * p[i][j]\n",
    "\n",
    "    # Make an empty (dim+1) x (dim+1) matrix and fill it\n",
    "    Q = [[0.0 for a in range(dim)] + [0] for i in range(dim+1)]\n",
    "    for qi in q:\n",
    "        qt = list(qi) + [1]\n",
    "        for i in range(dim+1):\n",
    "            for j in range(dim+1):\n",
    "                Q[i][j] += qt[i] * qt[j]\n",
    "\n",
    "    # Ultra simple linear system solver. Replace this if you need speed.\n",
    "    def gauss_jordan(m, eps = 1.0/(10**10)):\n",
    "      \"\"\"Puts given matrix (2D array) into the Reduced Row Echelon Form.\n",
    "         Returns True if successful, False if 'm' is singular.\n",
    "         NOTE: make sure all the matrix items support fractions! Int matrix will NOT work!\n",
    "         Written by Jarno Elonen in April 2005, released into Public Domain\"\"\"\n",
    "      (h, w) = (len(m), len(m[0]))\n",
    "      for y in range(0,h):\n",
    "        maxrow = y\n",
    "        for y2 in range(y+1, h):    # Find max pivot\n",
    "          if abs(m[y2][y]) > abs(m[maxrow][y]):\n",
    "            maxrow = y2\n",
    "        (m[y], m[maxrow]) = (m[maxrow], m[y])\n",
    "        if abs(m[y][y]) <= eps:     # Singular?\n",
    "          return False\n",
    "        for y2 in range(y+1, h):    # Eliminate column y\n",
    "          c = m[y2][y] / m[y][y]\n",
    "          for x in range(y, w):\n",
    "            m[y2][x] -= m[y][x] * c\n",
    "      for y in range(h-1, 0-1, -1): # Backsubstitute\n",
    "        c  = m[y][y]\n",
    "        for y2 in range(0,y):\n",
    "          for x in range(w-1, y-1, -1):\n",
    "            m[y2][x] -=  m[y][x] * m[y2][y] / c\n",
    "        m[y][y] /= c\n",
    "        for x in range(h, w):       # Normalize row y\n",
    "          m[y][x] /= c\n",
    "      return True\n",
    "\n",
    "    # Augement Q with c and solve Q * a' = c by Gauss-Jordan\n",
    "    M = [ Q[i] + c[i] for i in range(dim+1)]\n",
    "    if not gauss_jordan(M):\n",
    "        print(\"Error: singular matrix. Points are probably coplanar.\")\n",
    "        return false\n",
    "\n",
    "    # Make a result object\n",
    "    class Transformation:\n",
    "        \"\"\"Result object that represents the transformation\n",
    "           from affine fitter.\"\"\"\n",
    "\n",
    "        def To_Str(self):\n",
    "            res = \"\"\n",
    "            for j in range(dim):\n",
    "                str = \"x%d' = \" % j\n",
    "                for i in range(dim):\n",
    "                    str +=\"x%d * %f + \" % (i, M[i][j+dim+1])\n",
    "                str += \"%f\" % M[dim][j+dim+1]\n",
    "                res += str + \"\\n\"\n",
    "            return res\n",
    "\n",
    "        def Transform(self, pt):\n",
    "            res = [0.0 for a in range(dim)]\n",
    "            for j in range(dim):\n",
    "                for i in range(dim):\n",
    "                    res[j] += pt[i] * M[i][j+dim+1]\n",
    "                res[j] += M[dim][j+dim+1]\n",
    "            return res\n",
    "    return Transformation()"
   ]
  },
  {
   "cell_type": "code",
   "execution_count": null,
   "metadata": {},
   "outputs": [],
   "source": [
    "fitted"
   ]
  },
  {
   "cell_type": "code",
   "execution_count": null,
   "metadata": {},
   "outputs": [],
   "source": [
    "from_pt = origin / 32\n",
    "to_pt = fitted / 32\n",
    "trn = Affine_Fit(from_pt, to_pt)\n",
    "print(\"Transformation is:\")\n",
    "print(trn.To_Str())\n",
    "\n",
    "err = 0.0\n",
    "for i in range(len(from_pt)):\n",
    "    fp = from_pt[i]\n",
    "    tp = to_pt[i]\n",
    "    t = trn.Transform(fp)\n",
    "    print(t)\n",
    "    #print (\"%s => %s ~= %s\" % (fp, tuple(t), tp))\n",
    "    err += ((tp[0] - t[0])**2 + (tp[1] - t[1])**2)**0.5\n",
    "\n",
    "print(\"Fitting error = %f\" % err)"
   ]
  },
  {
   "cell_type": "code",
   "execution_count": null,
   "metadata": {},
   "outputs": [],
   "source": [
    "x0, x1, x2  = other_structure\n",
    "x0f = x0 * -0.097208 + x1 * -0.324479 + x2 * -12.578684 + 35205.477484\n",
    "x1f = x0 * -1.295431 + x1 * -0.008414 + x2 * -5.637887 + 46289.989021\n",
    "x2f = x0 * 0.006399 + x1 * 0.016787 + x2 * 0.304488 + -186.965984\n",
    "#x0f = x0 * 0.078878 + x1 * -0.289671 + x2 * -10.340925 + 31461.282454\n",
    "#x1f = x0 * -1.585760 + x1 * -0.302059 + x2 * -10.844655 + 59805.747884\n",
    "#x2f = x0 * 0.011862 + x1 * 0.021107 + x2 * 0.388296 + -402.727965\n",
    "print(x0f, x1f, x2f)"
   ]
  },
  {
   "cell_type": "code",
   "execution_count": null,
   "metadata": {},
   "outputs": [],
   "source": [
    "A[np.abs(A) < 1e-2] = 0  # set really small values to zero\n",
    "print(A)"
   ]
  },
  {
   "cell_type": "code",
   "execution_count": null,
   "metadata": {},
   "outputs": [],
   "source": [
    "ins = np.array([[3531820.440, 1174966.736, 5162268.086],\n",
    "                [3531746.800, 1175275.159, 5162241.325],\n",
    "                [3532510.182, 1174373.785, 5161954.920],\n",
    "                [3532495.968, 1175507.195, 5161685.049]]) # <- primary system\n",
    "out = np.array([[6089665.610, 3591595.470, 148.810],\n",
    "                [6089633.900, 3591912.090, 143.120],\n",
    "                [6089088.170, 3590826.470, 166.350],\n",
    "                [6088672.490, 3591914.630, 147.440]]) # <- secondary system\n",
    "p = np.array([3532412.323, 1175511.432, 5161677.111]) #<- transform this point\n",
    "print(ins.shape, out.shape, p.shape)\n",
    "ins = origin[:4,:]\n",
    "out = fitted[:4,:]\n",
    "p = np.array(other_structure)\n",
    "print(ins.shape, out.shape, p.shape)\n",
    "# finding transformation\n",
    "l = len(ins)\n",
    "entry = lambda r,d: np.linalg.det(np.delete(np.vstack([r, ins.T, np.ones(l)]), d, axis=0))\n",
    "M = np.array([[(-1)**i * entry(R, i) for R in out.T] for i in range(l+1)])\n",
    "print('M',M)\n",
    "A, t = np.hsplit(M[1:].T/(-M[0])[:,None], [l-1])\n",
    "t = np.transpose(t)[0]\n",
    "# output transformation\n",
    "print(\"Affine transformation matrix:\\n\", A)\n",
    "print(\"Affine transformation translation vector:\\n\", t)\n",
    "# unittests\n",
    "print(\"TESTING:\")\n",
    "for p, P in zip(np.array(ins), np.array(out)):\n",
    "  image_p = np.dot(A, p) + t\n",
    "  result = \"[OK]\" if np.allclose(image_p, P) else \"[ERROR]\"\n",
    "  print(p, \" mapped to: \", image_p, \" ; expected: \", P, result)\n",
    "# calculate points\n",
    "print(\"CALCULATION:\")\n",
    "P = np.dot(A, p) + t\n",
    "print(p, \" mapped to: \", P)"
   ]
  },
  {
   "cell_type": "code",
   "execution_count": 32,
   "metadata": {},
   "outputs": [
    {
     "data": {
      "text/plain": [
       "9"
      ]
     },
     "execution_count": 32,
     "metadata": {},
     "output_type": "execute_result"
    }
   ],
   "source": [
    "fitted = np.array([\n",
    "    [14.4375,  21.4375],\n",
    " [14.4375,  21.4375],\n",
    " [15.625,   22.8125],\n",
    " [15.625,  22.8125],\n",
    " [18.125,   20.34375],\n",
    " [18.125,   20.34375],\n",
    " [15.8125,  19.6875],\n",
    " [15.8125,  19.6875],\n",
    " [11.78125, 14.1875]])\n",
    "\n",
    "origin = np.array(\n",
    "[[12.719727,  23.232422],\n",
    " [13.831055,  20.317383],\n",
    " [17.973633,  20.496094],\n",
    " [13.584961,  23.978516],\n",
    " [11.704102,  23.908203],\n",
    " [11.4609375, 19.945312],\n",
    " [11.474609,  24.697266],\n",
    " [11.795898,  24.310547],\n",
    " [ 6.2509766, 23.658203]])\n",
    "len(origin)"
   ]
  },
  {
   "cell_type": "code",
   "execution_count": 16,
   "metadata": {},
   "outputs": [
    {
     "name": "stdout",
     "output_type": "stream",
     "text": [
      "translated [[0.2298239074898163, 0.005613653598942392, 12.57438496400664], [0.808442742370417, 0.15086570056942605, 6.9243548641379675], [0, 0, 1]]\n"
     ]
    }
   ],
   "source": [
    "import affine6p\n",
    "trans = affine6p.estimate(origin, fitted)\n",
    "#translated = trans.transform(other_structure)\n",
    "print('translated',trans.get_matrix())"
   ]
  },
  {
   "cell_type": "code",
   "execution_count": 18,
   "metadata": {},
   "outputs": [],
   "source": [
    "#RMSD, R, T, c = Superpose3D(origin, fitted)"
   ]
  },
  {
   "cell_type": "code",
   "execution_count": null,
   "metadata": {},
   "outputs": [],
   "source": [
    "print(other_structure)\n",
    "origin_centroid + np.dot(R, other_structure - fitted_centroid)"
   ]
  },
  {
   "cell_type": "code",
   "execution_count": 19,
   "metadata": {},
   "outputs": [
    {
     "data": {
      "text/plain": [
       "array([-7.7268096 , 27.42659972])"
      ]
     },
     "execution_count": 19,
     "metadata": {},
     "output_type": "execute_result"
    }
   ],
   "source": [
    "# compute the affine transform from the point set\n",
    "translation, transformation = compute_affine_transform(origin, fitted)\n",
    "invt = np.linalg.inv(transformation)\n",
    "offset = -np.dot(invt, translation)\n",
    "#print(other_structure, origin_centroid + np.dot(transformation, other_structure - fitted_centroid))\n",
    "translation"
   ]
  },
  {
   "cell_type": "code",
   "execution_count": 34,
   "metadata": {},
   "outputs": [
    {
     "name": "stdout",
     "output_type": "stream",
     "text": [
      "point 0 will move to (13.9, 22.4) to be compared with (12.7, 23.2)\n",
      "point 1 will move to (13.9, 22.4) to be compared with (13.8, 20.3)\n",
      "point 2 will move to (15.2, 22.1) to be compared with (18.0, 20.5)\n",
      "point 3 will move to (15.2, 22.1) to be compared with (13.6, 24.0)\n",
      "point 4 will move to (11.7, 22.7) to be compared with (11.7, 23.9)\n",
      "point 5 will move to (11.7, 22.7) to be compared with (11.5, 19.9)\n",
      "point 6 will move to (11.5, 22.9) to be compared with (11.5, 24.7)\n",
      "point 7 will move to (11.5, 22.9) to be compared with (11.8, 24.3)\n",
      "point 8 will move to (6.1, 24.2) to be compared with (6.3, 23.7)\n"
     ]
    },
    {
     "data": {
      "image/png": "[encoded data removed]",
      "text/plain": [
       "<Figure size 2600x1800 with 1 Axes>"
      ]
     },
     "metadata": {},
     "output_type": "display_data"
    }
   ],
   "source": [
    "origin_centroid = np.mean(origin, axis=0)\n",
    "fitted_centroid = np.mean(fitted, axis=0)\n",
    "colors = 'brg'\n",
    "new_points = np.empty_like(origin)\n",
    "fig=plt.figure(figsize=(26,18), dpi= 100, facecolor='w', edgecolor='k')\n",
    "\n",
    "for i in range(len(origin)):\n",
    "    new_points[i] = origin_centroid + np.dot(transformation, fitted[i] - fitted_centroid)\n",
    "    print('point %d will move to (%3.1f, %3.1f) to be compared with (%3.1f, %3.1f)' % (\n",
    "    i, new_points[i, 0], new_points[i, 1], origin[i, 0], origin[i, 1]))\n",
    "    plt.plot(new_points[i, 0], new_points[i, 1], 'x', color=colors[0], markersize=14,\n",
    "             label='new points' if i == 0 else '')\n",
    "    plt.plot(origin[i, 0], origin[i, 1], 'o', color=colors[1], markersize=16,\n",
    "             label='origin' if i == 0 else '')\n",
    "    plt.plot(fitted[i, 0], fitted[i, 1], 'v', color=colors[2], markersize=18,\n",
    "             label='atlas' if i == 0 else '')\n",
    "plt.legend(numpoints=1)\n",
    "plt.show()\n"
   ]
  }
 ],
 "metadata": {
  "kernelspec": {
   "display_name": "Python 3",
   "language": "python",
   "name": "python3"
  },
  "language_info": {
   "codemirror_mode": {
    "name": "ipython",
    "version": 3
   },
   "file_extension": ".py",
   "mimetype": "text/x-python",
   "name": "python",
   "nbconvert_exporter": "python",
   "pygments_lexer": "ipython3",
   "version": "3.8.5"
  }
 },
 "nbformat": 4,
 "nbformat_minor": 1
}
