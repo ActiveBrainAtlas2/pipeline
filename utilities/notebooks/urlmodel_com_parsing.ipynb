{
 "cells": [
  {
   "cell_type": "code",
   "execution_count": 1,
   "metadata": {},
   "outputs": [
    {
     "name": "stdout",
     "output_type": "stream",
     "text": [
      "Connecting dklab@192.168.1.12:3306\n"
     ]
    }
   ],
   "source": [
    "import math, os, sys\n",
    "import json\n",
    "import plotly.express as px\n",
    "import plotly.graph_objects as go\n",
    "import pandas as pd\n",
    "import numpy as np\n",
    "import plotly.offline as py\n",
    "from pathlib import Path\n",
    "from datetime import datetime\n",
    "\n",
    "\n",
    "from ipywidgets import interactive, HBox, VBox\n",
    "HOME = os.path.expanduser(\"~\")\n",
    "PATH = os.path.join(HOME, 'programming/pipeline_utility')\n",
    "sys.path.append(PATH)\n",
    "\n",
    "from utilities.file_location import FileLocationManager\n",
    "from utilities.sqlcontroller import SqlController"
   ]
  },
  {
   "cell_type": "code",
   "execution_count": 2,
   "metadata": {},
   "outputs": [],
   "source": [
    "animal = 'MD589'\n",
    "sqlController = SqlController(animal)\n",
    "atlas_dir = Path('/net/birdstore/Active_Atlas_Data/data_root/atlas_data/atlasV7')\n",
    "origin_dir = atlas_dir / 'origin'\n",
    "volume_dir = atlas_dir / 'structure'"
   ]
  },
  {
   "cell_type": "code",
   "execution_count": 3,
   "metadata": {},
   "outputs": [],
   "source": [
    "for origin_file, volume_file in zip(sorted(origin_dir.iterdir()), sorted(volume_dir.iterdir())):\n",
    "    assert origin_file.stem == volume_file.stem\n",
    "    name = origin_file.stem\n",
    "    x,y,z = np.loadtxt(origin_file)\n",
    "    if name.endswith('_L'):\n",
    "        structure = name.replace('_L','')\n",
    "        side = 'L'\n",
    "    elif name.endswith('_R'):\n",
    "        structure = name.replace('_R','')\n",
    "        side = 'R'\n",
    "    else:\n",
    "        structure = name\n",
    "        side = 'S'\n",
    "    if structure == 'RMC':\n",
    "        continue\n",
    "    s = sqlController.get_structure(structure)\n",
    "    #print(f\"insert into center_of_mass (prep_id, structure_id, x,y,section,side,created) values ('Atlas', {s.id},{x},{y},{z},'{side}')\")\n",
    "    #sqlController.add_center_of_mass(structure, 'Atlas', x, y, z, side)\n",
    "\n"
   ]
  },
  {
   "cell_type": "code",
   "execution_count": null,
   "metadata": {},
   "outputs": [],
   "source": []
  },
  {
   "cell_type": "code",
   "execution_count": 4,
   "metadata": {},
   "outputs": [],
   "source": [
    "def find_values(id, json_repr):\n",
    "    results = []\n",
    "    def _decode_dict(a_dict):\n",
    "        try:\n",
    "            results.append(a_dict[id])\n",
    "        except KeyError:\n",
    "            pass\n",
    "        return a_dict\n",
    "\n",
    "    json.loads(json_repr, object_hook=_decode_dict) # Return value ignored.\n",
    "    return results"
   ]
  },
  {
   "cell_type": "code",
   "execution_count": 6,
   "metadata": {},
   "outputs": [
    {
     "name": "stdout",
     "output_type": "stream",
     "text": [
      "(10, 3)\n",
      "(10, 3)\n"
     ]
    }
   ],
   "source": [
    "#urlModel = UrlModel.objects.get(pk=200)\n",
    "df52 = sqlController.get_point_dataframe(200)\n",
    "df52 = df52.loc[ df52['Layer'] == 'PM nucleus']\n",
    "df52_arr = df52[['X', 'Y', 'Section']].sample(10).values\n",
    "print(df52_arr.shape)\n",
    "\n",
    "df54 = sqlController.get_point_dataframe(189)\n",
    "df54 = df54.loc[ df54['Layer'] == 'premotor']\n",
    "df54_arr = df54[['X', 'Y', 'Section']].sample(10).values\n",
    "print(df54_arr.shape)\n"
   ]
  }
 ],
 "metadata": {
  "kernelspec": {
   "display_name": "Django Shell-Plus",
   "language": "python",
   "name": "django_extensions"
  },
  "language_info": {
   "codemirror_mode": {
    "name": "ipython",
    "version": 3
   },
   "file_extension": ".py",
   "mimetype": "text/x-python",
   "name": "python",
   "nbconvert_exporter": "python",
   "pygments_lexer": "ipython3",
   "version": "3.8.5"
  }
 },
 "nbformat": 4,
 "nbformat_minor": 4
}
