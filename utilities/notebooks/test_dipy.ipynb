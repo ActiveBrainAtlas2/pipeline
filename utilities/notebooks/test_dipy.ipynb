{
 "cells": [
  {
   "cell_type": "code",
   "execution_count": null,
   "metadata": {},
   "outputs": [],
   "source": [
    "import os\n",
    "import numpy as np\n",
    "from dipy.data import get_fnames\n",
    "from dipy.align.imwarp import SymmetricDiffeomorphicRegistration\n",
    "from dipy.align.metrics import SSDMetric, CCMetric, EMMetric\n",
    "import dipy.align.imwarp as imwarp\n",
    "from dipy.viz import regtools\n",
    "import matplotlib.pyplot as plt\n",
    "from skimage import io\n",
    "%matplotlib inline\n",
    "\n",
    "\n",
    "fname_moving = get_fnames('reg_o')\n",
    "fname_static = get_fnames('reg_c')\n",
    "\n"
   ]
  },
  {
   "cell_type": "code",
   "execution_count": null,
   "metadata": {},
   "outputs": [],
   "source": [
    "DIR = '/net/birdstore/Active_Atlas_Data/data_root/pipeline_data/DK52'\n",
    "INPUT = os.path.join(DIR, 'preps', 'CH1', 'thumbnail_aligned')\n",
    "fname_moving = os.path.join(INPUT, '100.tif')\n",
    "fname_static = os.path.join(INPUT, '200.tif')\n",
    "moving = io.imread(fname_moving)\n",
    "static = io.imread(fname_static)"
   ]
  },
  {
   "cell_type": "code",
   "execution_count": null,
   "metadata": {},
   "outputs": [],
   "source": [
    "def callback_CC(sdr, status):\n",
    "    # Status indicates at which stage of the optimization we currently are\n",
    "    # For now, we will only react at the end of each resolution of the scale\n",
    "    # space\n",
    "    if status == imwarp.RegistrationStages.SCALE_END:\n",
    "        # get the current images from the metric\n",
    "        wmoving = sdr.metric.moving_image\n",
    "        wstatic = sdr.metric.static_image\n",
    "        # draw the images on top of each other with different colors\n",
    "        regtools.overlay_images(wmoving, wstatic, 'Warped moving', 'Overlay',\n",
    "                                'Warped static')"
   ]
  },
  {
   "cell_type": "code",
   "execution_count": null,
   "metadata": {},
   "outputs": [],
   "source": [
    "regtools.overlay_images(static, moving, 'Static', 'Overlay', 'Moving')"
   ]
  },
  {
   "cell_type": "code",
   "execution_count": null,
   "metadata": {},
   "outputs": [],
   "source": [
    "dim = static.ndim\n",
    "metric = SSDMetric(dim)\n",
    "level_iters = [200, 100, 50, 25]\n",
    "sdr = SymmetricDiffeomorphicRegistration(metric, level_iters, inv_iter=50)\n",
    "mapping = sdr.optimize(static, moving)\n"
   ]
  },
  {
   "cell_type": "code",
   "execution_count": null,
   "metadata": {},
   "outputs": [],
   "source": [
    "regtools.plot_2d_diffeomorphic_map(mapping, 10, 'diffeomorphic_map.png')"
   ]
  },
  {
   "cell_type": "code",
   "execution_count": null,
   "metadata": {},
   "outputs": [],
   "source": [
    "warped_moving = mapping.transform(moving, 'linear')\n",
    "regtools.overlay_images(static, warped_moving, 'Static', 'Overlay',\n",
    "                        'Warped moving', 'direct_warp_result.png')"
   ]
  },
  {
   "cell_type": "code",
   "execution_count": null,
   "metadata": {},
   "outputs": [],
   "source": [
    "# Two subplots, unpack the axes array immediately\n",
    "fig, (ax1, ax2, ax3) = plt.subplots(3, 1, sharey=True)\n",
    "fig.set_size_inches(np.array([24, 20]), forward=False)\n",
    "ax1.imshow(moving, cmap=\"gray\")\n",
    "ax1.set_title('moving 100')\n",
    "ax2.imshow(warped_moving, cmap=\"gray\")\n",
    "ax2.set_title('warped')\n",
    "ax3.imshow(static, cmap=\"gray\")\n",
    "ax3.set_title('static 200')\n"
   ]
  },
  {
   "cell_type": "code",
   "execution_count": null,
   "metadata": {},
   "outputs": [],
   "source": [
    "from dipy.data import get_fnames\n",
    "from dipy.io.image import load_nifti_data\n",
    "from dipy.segment.mask import median_otsu\n",
    "\n",
    "t1_name, b0_name = get_fnames('syn_data')\n",
    "data = load_nifti_data(b0_name)"
   ]
  },
  {
   "cell_type": "code",
   "execution_count": null,
   "metadata": {},
   "outputs": [],
   "source": [
    "b0_mask, mask = median_otsu(data, median_radius=4, numpass=4)\n",
    "type(mask)"
   ]
  },
  {
   "cell_type": "code",
   "execution_count": null,
   "metadata": {},
   "outputs": [],
   "source": [
    "mask.shape"
   ]
  },
  {
   "cell_type": "code",
   "execution_count": null,
   "metadata": {},
   "outputs": [],
   "source": [
    "for i in range(0, 10, 1):\n",
    "    plt.title('Z {}'.format(i))\n",
    "    plt.imshow(mask[:,:,i], cmap=plt.cm.bone)\n",
    "    plt.show()"
   ]
  },
  {
   "cell_type": "code",
   "execution_count": null,
   "metadata": {},
   "outputs": [],
   "source": [
    "static = data[:, :, 70]\n",
    "moving = data[:, :, 0]\n",
    "sigma_diff = 3.0\n",
    "radius = 4\n",
    "metric = CCMetric(2, sigma_diff, radius)"
   ]
  },
  {
   "cell_type": "code",
   "execution_count": null,
   "metadata": {},
   "outputs": [],
   "source": [
    "level_iters = [100, 50, 25]\n",
    "sdr = SymmetricDiffeomorphicRegistration(metric, level_iters)\n",
    "sdr.callback = callback_CC\n",
    "#And execute the optimization\n",
    "mapping = sdr.optimize(static, moving)\n",
    "warped = mapping.transform(moving)"
   ]
  },
  {
   "cell_type": "code",
   "execution_count": null,
   "metadata": {},
   "outputs": [],
   "source": [
    "regtools.overlay_images(static, warped, 'Static', 'Overlay', 'Warped moving',\n",
    "                        'xxx.png')"
   ]
  }
 ],
 "metadata": {
  "kernelspec": {
   "display_name": "Python 3",
   "language": "python",
   "name": "python3"
  },
  "language_info": {
   "codemirror_mode": {
    "name": "ipython",
    "version": 3
   },
   "file_extension": ".py",
   "mimetype": "text/x-python",
   "name": "python",
   "nbconvert_exporter": "python",
   "pygments_lexer": "ipython3",
   "version": "3.8.5"
  }
 },
 "nbformat": 4,
 "nbformat_minor": 4
}
