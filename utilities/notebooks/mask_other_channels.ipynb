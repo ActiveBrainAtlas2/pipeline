{
 "cells": [
  {
   "cell_type": "code",
   "execution_count": 1,
   "metadata": {},
   "outputs": [],
   "source": [
    "import numpy as np\n",
    "import matplotlib\n",
    "from matplotlib import pyplot as plt\n",
    "from skimage import io\n",
    "from os.path import expanduser\n",
    "from tqdm import tqdm\n",
    "HOME = expanduser(\"~\")\n",
    "import os\n",
    "import cv2"
   ]
  },
  {
   "cell_type": "code",
   "execution_count": 2,
   "metadata": {},
   "outputs": [],
   "source": [
    "#DIR = os.path.join(HOME, 'programming', 'dk39')\n",
    "DIR = '/net/birdstore/Active_Atlas_Data/data_root/pipeline_data/DK39'\n",
    "MASKS = os.path.join(DIR, 'preps', 'masked')\n",
    "CLEANED = os.path.join(DIR, 'preps', 'CH2', 'cleaned')\n",
    "INPUT = os.path.join(DIR, 'preps', 'CH2', 'input')\n",
    "OUTPUT = CLEANED\n",
    "files = sorted(os.listdir(INPUT))\n",
    "masks = sorted(os.listdir(MASKS))"
   ]
  },
  {
   "cell_type": "code",
   "execution_count": 3,
   "metadata": {},
   "outputs": [
    {
     "name": "stdout",
     "output_type": "stream",
     "text": [
      "469 469\n"
     ]
    }
   ],
   "source": [
    "def place_image(img, max_width, max_height):\n",
    "    zmidr = max_height // 2\n",
    "    zmidc = max_width // 2\n",
    "    startr = zmidr - (img.shape[0] // 2)\n",
    "    endr = startr + img.shape[0]\n",
    "    startc = zmidc - (img.shape[1] // 2)\n",
    "    endc = startc + img.shape[1]\n",
    "    new_img = np.zeros([max_height, max_width])\n",
    "    try:\n",
    "        new_img[startr:endr,startc:endc] = img\n",
    "    except:\n",
    "        print('could not create new img', file, img.shape)\n",
    "        \n",
    "    return new_img.astype('uint16')\n",
    "\n",
    "\n",
    "print(len(files), len(masks))"
   ]
  },
  {
   "cell_type": "code",
   "execution_count": 4,
   "metadata": {},
   "outputs": [],
   "source": [
    "dels = os.listdir(OUTPUT)\n",
    "for d in dels:\n",
    "    os.unlink(os.path.join(OUTPUT, d))"
   ]
  },
  {
   "cell_type": "code",
   "execution_count": 5,
   "metadata": {},
   "outputs": [
    {
     "name": "stderr",
     "output_type": "stream",
     "text": [
      "100%|██████████| 469/469 [00:22<00:00, 20.69it/s]"
     ]
    },
    {
     "name": "stdout",
     "output_type": "stream",
     "text": [
      "Finished\n"
     ]
    },
    {
     "name": "stderr",
     "output_type": "stream",
     "text": [
      "\n"
     ]
    }
   ],
   "source": [
    "# get oriented for comparison\n",
    "max_width = 1750\n",
    "max_height = 1050\n",
    "\n",
    "img_inputs = []\n",
    "img_outputs = []\n",
    "file_inputs = []\n",
    "for i, file in enumerate(tqdm(files)):\n",
    "    infile = os.path.join(INPUT, file)\n",
    "    maskfile = os.path.join(MASKS, file)\n",
    "    src = io.imread(infile)\n",
    "    mask = io.imread(maskfile)\n",
    "    mask16 = np.copy(mask).astype('uint16')\n",
    "    mask16[mask16 > 0] = 2**16-1\n",
    "    #img_inputs.append(src)\n",
    "    #file_inputs.append(file)\n",
    "    fixed = cv2.bitwise_and(src, mask16)\n",
    "    #img_outputs.append(fixed)\n",
    "    fixed = place_image(fixed, max_width, max_height)\n",
    "    outpath = os.path.join(OUTPUT, file)    \n",
    "    cv2.imwrite(outpath, fixed.astype('uint16'))\n",
    "print('Finished')\n"
   ]
  },
  {
   "cell_type": "code",
   "execution_count": 6,
   "metadata": {},
   "outputs": [],
   "source": [
    "# display images\n",
    "# check alignment\n",
    "start, finish = (0,1)\n",
    "displays = img_outputs[start:finish]\n",
    "names = file_inputs[start:finish]\n",
    "plt.style.use('classic')\n",
    "for name,img in zip(names,displays):    \n",
    "    plt.figure()\n",
    "    plt.title('{}'.format(name))\n",
    "    #plt.title('{}'.format(name))\n",
    "    plt.imshow(img, cmap='gray')\n",
    "    plt.show()"
   ]
  }
 ],
 "metadata": {
  "kernelspec": {
   "display_name": "Python 3",
   "language": "python",
   "name": "python3"
  },
  "language_info": {
   "codemirror_mode": {
    "name": "ipython",
    "version": 3
   },
   "file_extension": ".py",
   "mimetype": "text/x-python",
   "name": "python",
   "nbconvert_exporter": "python",
   "pygments_lexer": "ipython3",
   "version": "3.8.2"
  }
 },
 "nbformat": 4,
 "nbformat_minor": 4
}
