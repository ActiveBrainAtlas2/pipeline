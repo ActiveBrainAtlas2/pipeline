{
 "cells": [
  {
   "cell_type": "code",
   "execution_count": 1,
   "metadata": {},
   "outputs": [],
   "source": [
    "import numpy as np\n",
    "import matplotlib\n",
    "from skimage import io\n",
    "from os.path import expanduser\n",
    "from tqdm import tqdm\n",
    "HOME = expanduser(\"~\")\n",
    "import os\n",
    "import cv2\n",
    "import pandas as pd\n",
    "import matplotlib\n",
    "from matplotlib import pyplot as plt"
   ]
  },
  {
   "cell_type": "code",
   "execution_count": 2,
   "metadata": {},
   "outputs": [],
   "source": [
    "#DIR = os.path.join(HOME, 'programming', 'dk39')\n",
    "DIR = '/net/birdstore/Active_Atlas_Data/data_root/pipeline_data/DK39'\n",
    "INPUT = os.path.join(DIR, 'preps', 'CH1', 'thumbnail')\n",
    "MASKED = os.path.join(DIR, 'preps', 'masked')\n",
    "OUTPUT = MASKED\n",
    "files = sorted(os.listdir(INPUT))"
   ]
  },
  {
   "cell_type": "code",
   "execution_count": 3,
   "metadata": {},
   "outputs": [],
   "source": [
    "def place_image(img, max_width, max_height):\n",
    "    zmidr = max_height // 2\n",
    "    zmidc = max_width // 2\n",
    "    startr = zmidr - (img.shape[0] // 2)\n",
    "    endr = startr + img.shape[0]\n",
    "    startc = zmidc - (img.shape[1] // 2)\n",
    "    endc = startc + img.shape[1]\n",
    "    new_img = np.zeros([max_height, max_width]) \n",
    "    \n",
    "    try:\n",
    "        new_img[startr:endr,startc:endc] = img\n",
    "    except:\n",
    "        print('could not create new img', file, img.shape)\n",
    "        \n",
    "    return new_img.astype('uint8')\n",
    "\n",
    "\n",
    "def find_main_blob(stats,image):\n",
    "    height,width=image.shape\n",
    "    df=pd.DataFrame(stats)\n",
    "    df.columns=['Left','Top','Width','Height','Area']\n",
    "    df['blob_label']=df.index\n",
    "    df=df.sort_values(by='Area',ascending=False)\n",
    "\n",
    "    for row in df.iterrows():\n",
    "        Left=row[1]['Left']\n",
    "        Top=row[1]['Top']\n",
    "        Width=row[1]['Width']\n",
    "        Height=row[1]['Height']\n",
    "        corners= int(Left==0)+int(Top==0)+int(Width==width)+int(Height==height)\n",
    "        if corners<=2:\n",
    "            return row\n",
    "\n",
    "\n",
    "def scale_and_mask(src,mask,epsilon=0.01):\n",
    "    vals=np.array(sorted(src[mask>10]))\n",
    "    ind=int(len(vals)*(1-epsilon))\n",
    "    _max=vals[ind]\n",
    "    # print('thr=%d, index=%d'%(vals[ind],index))\n",
    "    _range=2**16-1\n",
    "    scaled=src*(45000./_max)\n",
    "    scaled[scaled>_range]=_range\n",
    "    scaled=scaled*(mask>10)\n",
    "    return scaled,_max\n",
    "\n",
    "\n",
    "def get_last_2d(data):\n",
    "    if data.ndim <= 2:\n",
    "        return data\n",
    "    m,n = data.shape[-2:]\n",
    "    return data.flat[:m*n].reshape(m,n)\n",
    "\n",
    "\n",
    "strip_max=70; strip_min=5   # the range of width for the stripe\n",
    "def remove_strip(src):\n",
    "    projection=np.sum(src,axis=0)/10000.\n",
    "    diff=projection[1:]-projection[:-1]\n",
    "    loc,=np.nonzero(diff[-strip_max:-strip_min]>50)\n",
    "    mval=np.max(diff[-strip_max:-strip_min])\n",
    "    #print('  ',mval,i,end=' ')\n",
    "    no_strip=np.copy(src)\n",
    "    fe = 0\n",
    "    if loc.shape[0]>0:\n",
    "        loc=np.min(loc)\n",
    "        from_end=strip_max-loc           \n",
    "        #print(from_end,diff[-from_end-2:-from_end+2])\n",
    "        fe = -from_end-2\n",
    "        no_strip[:,-from_end-2:]=0 # mask the strip\n",
    "    return no_strip, fe\n",
    "\n",
    "def find_threshold(src):\n",
    "    fig = matplotlib.figure.Figure()\n",
    "    ax = matplotlib.axes.Axes(fig, (0, 0, 0, 0))\n",
    "    n, bins, patches = ax.hist(src.flatten(), 360);\n",
    "    del ax, fig\n",
    "    min_point = np.argmin(n[:5])\n",
    "    min_point = int(min(2, min_point))\n",
    "    thresh = (min_point * 64000 / 360) + 100\n",
    "    return min_point, thresh"
   ]
  },
  {
   "cell_type": "code",
   "execution_count": 4,
   "metadata": {},
   "outputs": [],
   "source": [
    "max_width = 1050\n",
    "max_height = 1750\n",
    "#max_width = 50100\n",
    "#max_height = 34000\n",
    "#1048x1738\n",
    "#988x1624\n",
    "#709x594\n",
    "max_width = 1740\n",
    "max_height = 1050"
   ]
  },
  {
   "cell_type": "code",
   "execution_count": 5,
   "metadata": {},
   "outputs": [
    {
     "name": "stdout",
     "output_type": "stream",
     "text": [
      "1740 1050 469\n"
     ]
    }
   ],
   "source": [
    "print(max_width, max_height, len(files))"
   ]
  },
  {
   "cell_type": "code",
   "execution_count": 6,
   "metadata": {},
   "outputs": [],
   "source": [
    "dels = os.listdir(OUTPUT)\n",
    "for d in dels:\n",
    "    os.unlink(os.path.join(OUTPUT, d))"
   ]
  },
  {
   "cell_type": "code",
   "execution_count": 7,
   "metadata": {},
   "outputs": [
    {
     "name": "stderr",
     "output_type": "stream",
     "text": [
      "100%|██████████| 469/469 [01:38<00:00,  4.76it/s]"
     ]
    },
    {
     "name": "stdout",
     "output_type": "stream",
     "text": [
      "Finished\n"
     ]
    },
    {
     "name": "stderr",
     "output_type": "stream",
     "text": [
      "\n"
     ]
    }
   ],
   "source": [
    "# get oriented for comparison\n",
    "for i, file in enumerate(tqdm(files)):\n",
    "    infile = os.path.join(INPUT, file)\n",
    "    img = io.imread(infile)\n",
    "    no_strip, fe = remove_strip(img)\n",
    "    min_point, threshold = find_threshold(no_strip)\n",
    "    ret, threshed = cv2.threshold(no_strip,threshold,255,cv2.THRESH_BINARY)\n",
    "    threshed=np.uint8(threshed)\n",
    "    ###### Find connected elements\n",
    "    # You need to choose 4 or 8 for connectivity type\n",
    "    connectivity = 4\n",
    "    output = cv2.connectedComponentsWithStats(threshed, connectivity, cv2.CV_32S)\n",
    "    # Get the results\n",
    "    # The first cell is the number of labels\n",
    "    num_labels = output[0]\n",
    "    # The second cell is the label matrix\n",
    "    labels = output[1]\n",
    "    # The third cell is the stat matrix\n",
    "    stats = output[2]\n",
    "    # The fourth cell is the centroid matrix\n",
    "    centroids = output[3]\n",
    "    # Find the blob that corresponds to the section.\n",
    "    row=find_main_blob(stats,img)\n",
    "    blob_label=row[1]['blob_label']\n",
    "    #extract the blob\n",
    "    blob=np.uint8(labels==blob_label)*255\n",
    "    #Perform morphological closing\n",
    "    kernel10 = np.ones((10,10),np.uint8)\n",
    "    closing = cv2.morphologyEx(blob, cv2.MORPH_CLOSE, kernel10, iterations=5)\n",
    "    # rotate and flop\n",
    "    #closing = np.rot90(closing, 1)\n",
    "    #closing = np.flip(closing, axis=1)    \n",
    "    img = place_image(closing, max_width, max_height)\n",
    "    outpath = os.path.join(MASKED, file)    \n",
    "    cv2.imwrite(outpath, img.astype('uint8'))\n",
    "print('Finished')\n"
   ]
  }
 ],
 "metadata": {
  "kernelspec": {
   "display_name": "Python 3",
   "language": "python",
   "name": "python3"
  },
  "language_info": {
   "codemirror_mode": {
    "name": "ipython",
    "version": 3
   },
   "file_extension": ".py",
   "mimetype": "text/x-python",
   "name": "python",
   "nbconvert_exporter": "python",
   "pygments_lexer": "ipython3",
   "version": "3.8.2"
  }
 },
 "nbformat": 4,
 "nbformat_minor": 4
}
