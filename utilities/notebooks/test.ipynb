{
 "cells": [
  {
   "cell_type": "code",
   "execution_count": 1,
   "metadata": {},
   "outputs": [
    {
     "data": {
      "text/html": [
       "<a href=\"http://127.0.0.1:45041/v/465af6b3950b69cd08d2e2be11ea84db1af64bd2/\" target=\"_blank\">Viewer</a>"
      ],
      "text/plain": [
       "http://127.0.0.1:45041/v/465af6b3950b69cd08d2e2be11ea84db1af64bd2/"
      ]
     },
     "execution_count": 1,
     "metadata": {},
     "output_type": "execute_result"
    }
   ],
   "source": [
    "import os\n",
    "import numpy as np\n",
    "import json\n",
    "import neuroglancer\n",
    "from matplotlib import pyplot as plt\n",
    "\n",
    "viewer = neuroglancer.Viewer()\n",
    "viewer"
   ]
  },
  {
   "cell_type": "code",
   "execution_count": 2,
   "metadata": {},
   "outputs": [
    {
     "name": "stdout",
     "output_type": "stream",
     "text": [
      "Color maps: {'10N_L': 1, '10N_R': 1, '12N': 2, '3N_L': 3, '3N_R': 3, '4N_L': 4, '4N_R': 4, '5N_L': 5, '5N_R': 5, '6N_L': 6, '6N_R': 6, '7N_L': 7, '7N_R': 7, 'AMB_L': 8, 'AMB_R': 8, 'AP': 9, 'DC_L': 10, 'DC_R': 10, 'IC': 11, 'LC_L': 12, 'LC_R': 12, 'LRT_L': 13, 'LRT_R': 13, 'PBG_L': 14, 'PBG_R': 14, 'PN_L': 15, 'PN_R': 15, 'RMC_L': 16, 'RMC_R': 16, 'RTTG': 17, 'SC': 18, 'SNC_L': 19, 'SNC_R': 19, 'SNR_L': 20, 'SNR_R': 20, 'SP5C_L': 21, 'SP5C_R': 21, 'SP5I_L': 22, 'SP5I_R': 22, 'SP5O_L': 23, 'SP5O_R': 23, 'TZ_L': 24, 'TZ_R': 24, 'VCA_L': 25, 'VCA_R': 25, 'VCP_L': 26, 'VCP_R': 26, 'VLL_L': 27, 'VLL_R': 27}\n"
     ]
    }
   ],
   "source": [
    "color_filepath = os.path.join('./', 'neuroglancer/contours/json_cache', 'struct_to_color.json')\n",
    "with open(color_filepath, 'r') as json_file:\n",
    "    colors = json.load(json_file)\n",
    "print('Color maps:', colors)"
   ]
  },
  {
   "cell_type": "code",
   "execution_count": 3,
   "metadata": {},
   "outputs": [
    {
     "name": "stdout",
     "output_type": "stream",
     "text": [
      "Number of numpy files: 51\n"
     ]
    }
   ],
   "source": [
    "VOL_DIR = '/net/birdstore/Active_Atlas_Data/copied_from_S3/mousebrainatlas-data/CSHL_volumes/atlasV7/atlasV7_10.0um_scoreVolume/score_volumes'\n",
    "files = os.listdir(VOL_DIR)\n",
    "numpy_files = [f for f in files if f.endswith('.npy') and 'surround' not in f]\n",
    "print('Number of numpy files:', len(numpy_files))"
   ]
  },
  {
   "cell_type": "markdown",
   "metadata": {},
   "source": [
    "## MD589 reference"
   ]
  },
  {
   "cell_type": "code",
   "execution_count": 4,
   "metadata": {},
   "outputs": [
    {
     "data": {
      "text/plain": [
       "(array([ 0,  1,  2,  3,  4,  5,  6,  7,  8,  9, 10, 11, 12, 13, 14, 15, 16,\n",
       "        17, 18, 19, 20, 21, 22, 23, 24, 25, 26, 27, 28], dtype=uint8),\n",
       " array([422952046,     50371,    339451,    166093,   8322571,   5684631,\n",
       "           435298,      3478,    795811,    379305,     26766,    149034,\n",
       "           564906,   1266877,    240473,    633955,    336884,    143404,\n",
       "          2108801,     98317,      6743,   1157904,   1949655,   2419452,\n",
       "            44056,    114926,    763465,    414515,    726460]))"
      ]
     },
     "execution_count": 4,
     "metadata": {},
     "output_type": "execute_result"
    }
   ],
   "source": [
    "MD589_VOLUME_PATH = '/net/birdstore/Active_Atlas_Data/data_root/CSHL_volumes/MD589/MD589_full_filled.npy'\n",
    "MD589 = np.load(MD589_VOLUME_PATH)\n",
    "MD589 = np.swapaxes(MD589, 0, 2)\n",
    "\n",
    "np.unique(MD589, return_counts=True)"
   ]
  },
  {
   "cell_type": "code",
   "execution_count": 15,
   "metadata": {},
   "outputs": [],
   "source": [
    "layer = neuroglancer.SegmentationLayer(\n",
    "    source=neuroglancer.LocalVolume(\n",
    "        data=MD589, \n",
    "        dimensions=neuroglancer.CoordinateSpace(names=['x', 'y', 'z'], units='um', scales=[5, 5, 20]), \n",
    "        voxel_offset=(0, 0, 0)\n",
    "    ),\n",
    ")\n",
    "\n",
    "with viewer.txn() as s:\n",
    "#     s.layers.clear()\n",
    "    s.layers['layer'] = layer"
   ]
  },
  {
   "cell_type": "markdown",
   "metadata": {},
   "source": [
    "## Aggregation"
   ]
  },
  {
   "cell_type": "code",
   "execution_count": 30,
   "metadata": {
    "scrolled": false
   },
   "outputs": [
    {
     "name": "stdout",
     "output_type": "stream",
     "text": [
      "Fit\t SC       18\tshape    (377, 176, 238), x range  752  990, y range  683  859, z range    0  377\n"
     ]
    }
   ],
   "source": [
    "x_length = 2000\n",
    "y_length = 2000\n",
    "z_length = 500\n",
    "full_brain_volume_annotated = np.zeros((z_length, y_length, x_length), dtype=np.uint8)\n",
    "\n",
    "for n in numpy_files:\n",
    "    prefix = os.path.splitext(n)[0]\n",
    "    structure = prefix.split('_', 3)[3]\n",
    "    \n",
    "    if structure not in ['SC']:\n",
    "        continue\n",
    "    \n",
    "    try:\n",
    "        color = colors[structure.upper()]\n",
    "    except:\n",
    "        sided = '{}_R'.format(structure.upper())\n",
    "        color = colors[sided]\n",
    "\n",
    "    volume_filename = os.path.join(VOL_DIR, n)\n",
    "    volume_input = np.load(volume_filename)\n",
    "    volume_input = np.swapaxes(volume_input, 0, 2)\n",
    "    volume_input = np.swapaxes(volume_input, 1, 2)\n",
    "\n",
    "    volume_nonzero_indices = volume_input > 0.9\n",
    "    volume_input[volume_nonzero_indices] = color\n",
    "    structure_volume = volume_input.astype(np.uint8)\n",
    "\n",
    "    origin_filename = os.path.join(VOL_DIR, '{}_origin_wrt_canonicalAtlasSpace.txt'.format(prefix))\n",
    "    origin_wrt = np.loadtxt(origin_filename)\n",
    "    x,y,z = origin_wrt\n",
    "    x_start = int(x) + x_length // 2\n",
    "    y_start = int(y) + y_length // 2\n",
    "    z_start = 0\n",
    "    x_end = x_start + structure_volume.shape[2]\n",
    "    y_end = y_start + structure_volume.shape[1]\n",
    "    z_end = z_start + structure_volume.shape[0]\n",
    "\n",
    "    try:\n",
    "        full_brain_volume_annotated[z_start:z_end, y_start:y_end,x_start:x_end] = structure_volume\n",
    "        print('Fit\\t',str(structure).ljust(8), str(color).rjust(2), end=\"\\t\")\n",
    "        print('shape', str(structure_volume.shape).rjust(18), end=\", \")\n",
    "        print('x range', str(x_start).rjust(4), str(x_end).rjust(4), end=\", \")\n",
    "        print('y range', str(y_start).rjust(4), str(y_end).rjust(4), end=\", \")\n",
    "        print('z range', str(z_start).rjust(4), str(z_end).rjust(4))\n",
    "    except:\n",
    "        print('Error\\t',str(structure).ljust(8), str(color).rjust(2), end=\"\\t\")\n",
    "        print('shape', str(structure_volume.shape).rjust(18), end=\", \")\n",
    "        print('x range', str(x_start).rjust(4), str(x_end).rjust(4), end=\", \")\n",
    "        print('y range', str(y_start).rjust(4), str(y_end).rjust(4), end=\", \")\n",
    "        print('z range', str(z_start).rjust(4), str(z_end).rjust(4))\n",
    "        \n",
    "full_brain_volume_annotated = np.swapaxes(full_brain_volume_annotated, 0, 2)"
   ]
  },
  {
   "cell_type": "code",
   "execution_count": 31,
   "metadata": {},
   "outputs": [],
   "source": [
    "test_layer = neuroglancer.SegmentationLayer(\n",
    "    source = neuroglancer.LocalVolume(\n",
    "        data=full_brain_volume_annotated, \n",
    "        dimensions=neuroglancer.CoordinateSpace(names=['x', 'y', 'z'], units='um', scales=[10, 10, 10]), \n",
    "        voxel_offset=(0, 0, 0)\n",
    "    ),\n",
    ")\n",
    "\n",
    "with viewer.txn() as s:\n",
    "    s.layers.clear()\n",
    "    s.layers['aggregate'] = test_layer"
   ]
  },
  {
   "cell_type": "markdown",
   "metadata": {},
   "source": [
    "## Individual volume "
   ]
  },
  {
   "cell_type": "code",
   "execution_count": 8,
   "metadata": {},
   "outputs": [],
   "source": [
    "for file in numpy_files:\n",
    "    volume_filename = os.path.join(VOL_DIR, file)\n",
    "    volume_input = np.load(volume_filename)\n",
    "    volume_input[volume_input > 0.9] = 1\n",
    "    volume_input = np.swapaxes(volume_input, 0, 2)\n",
    "    \n",
    "    dimensions = neuroglancer.CoordinateSpace(names=['x', 'y', 'z'], units='um', scales=[10, 10, 10])\n",
    "    \n",
    "    prefix = os.path.splitext(file)[0]\n",
    "    origin_filename = os.path.join(VOL_DIR, '{}_origin_wrt_canonicalAtlasSpace.txt'.format(prefix))\n",
    "    origin_wrt = np.loadtxt(origin_filename)\n",
    "    \n",
    "    volume_layer = neuroglancer.SegmentationLayer(\n",
    "        source = neuroglancer.LocalVolume(data=volume_input, dimensions=dimensions, voxel_offset=[0, 0, 0]),\n",
    "        shader = \"\"\"\n",
    "            void main() {\n",
    "                float v = toNormalized(getDataValue(0)) * 255.0;\n",
    "                emitRGBA(vec4(v, 0.0, 0.0, v));\n",
    "            }\n",
    "        \"\"\"\n",
    "    )\n",
    "    with viewer.txn() as s:\n",
    "        s.layers[prefix.split('_', 3)[3]] = volume_layer"
   ]
  },
  {
   "cell_type": "code",
   "execution_count": null,
   "metadata": {},
   "outputs": [],
   "source": []
  }
 ],
 "metadata": {
  "kernelspec": {
   "display_name": "Python 3",
   "language": "python",
   "name": "python3"
  },
  "language_info": {
   "codemirror_mode": {
    "name": "ipython",
    "version": 3
   },
   "file_extension": ".py",
   "mimetype": "text/x-python",
   "name": "python",
   "nbconvert_exporter": "python",
   "pygments_lexer": "ipython3",
   "version": "3.8.2"
  }
 },
 "nbformat": 4,
 "nbformat_minor": 1
}
