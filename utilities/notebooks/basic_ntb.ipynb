{
 "cells": [
  {
   "cell_type": "code",
   "execution_count": null,
   "metadata": {},
   "outputs": [],
   "source": [
    "import numpy as np\n",
    "import matplotlib\n",
    "from matplotlib import pyplot as plt\n",
    "from skimage import io\n",
    "from os.path import expanduser\n",
    "from tqdm import tqdm\n",
    "HOME = expanduser(\"~\")\n",
    "import os, sys\n",
    "import cv2\n",
    "import nipy\n",
    "from nipy.labs.mask import compute_mask\n",
    "from skimage import exposure, img_as_float\n",
    "from scipy import stats\n",
    "import pandas as pd\n",
    "%load_ext autoreload\n",
    "%autoreload 2"
   ]
  },
  {
   "cell_type": "code",
   "execution_count": null,
   "metadata": {},
   "outputs": [],
   "source": [
    "animal = 'DK39'\n",
    "DIR = f'/net/birdstore/Active_Atlas_Data/data_root/pipeline_data/{animal}'\n",
    "INPUT = os.path.join(DIR, 'preps', 'CH1', 'thumbnail')\n",
    "CLEANED = os.path.join(DIR, 'preps', 'CH1', 'thumbnail_cleaned')\n",
    "files = sorted(os.listdir(INPUT))"
   ]
  },
  {
   "cell_type": "code",
   "execution_count": null,
   "metadata": {},
   "outputs": [],
   "source": [
    "PATH = '/home/eddyod/programming/pipeline_utility'\n",
    "sys.path.append(PATH)\n",
    "from utilities.utilities_mask import fix_with_blob, scaled, lognorm, linnorm, fix_with_fill, equalized, remove_strip, trim_edges\n",
    "from utilities.sqlcontroller import SqlController\n",
    "sqlController = SqlController(animal)"
   ]
  },
  {
   "cell_type": "code",
   "execution_count": null,
   "metadata": {},
   "outputs": [],
   "source": [
    "bad = [6,12,13,14,15,16,23,36,47,48,49,52,55,68,72,117,140,155,168,171,175,176, 188, 192,\n",
    "       210,217, 218,241,263,267,275,295,323,327,331,339,351,354,363,369,380,388,394,395,\n",
    "       417,421,422,423,424,425,427,428,429,431,432,433,435,437,445,447,451,452,453,455,456,457,458,459,\n",
    "      460,461,462,463,464,465,466,467,468]\n",
    "## really bad ones\n",
    "reallybad = [36,155,171,217,218,295,380,388,431,432,433,437]\n",
    "bads = ['{}.tif'.format(str(i).zfill(3)) for i in bad]\n",
    "print(f'Need to manually fix {len(reallybad)} files or %{100*len(reallybad)/len(files)}')"
   ]
  },
  {
   "cell_type": "code",
   "execution_count": null,
   "metadata": {},
   "outputs": [],
   "source": [
    "def create_mask_pass1(img):\n",
    "    mask1 = compute_mask(img, m=0.2, M=0.9, cc=False, opening=2, exclude_zeros=True)\n",
    "    mask1 = mask1.astype(int)\n",
    "    mask1[mask1==0] = 0\n",
    "    mask1[mask1==1] = 255\n",
    "    kernel = np.ones((5, 5), np.uint8)\n",
    "    mask1 = cv2.dilate(mask1.astype(np.uint8), kernel, iterations=2)\n",
    "    mask1 = mask1.astype(np.uint8)\n",
    "    return mask1"
   ]
  },
  {
   "cell_type": "markdown",
   "metadata": {},
   "source": [
    "#### Two pass method\n",
    "1. Trims the edges of glue and junk\n",
    "1. Runs through the existing fix with fill method (which has been modified again)\n",
    "1. Then goes through the nipy compute_mask method (you'll need to install nipy from github"
   ]
  },
  {
   "cell_type": "code",
   "execution_count": null,
   "metadata": {},
   "outputs": [],
   "source": [
    "names = []\n",
    "norms = []\n",
    "masks1 = []\n",
    "passes1 = []\n",
    "masks2 = []\n",
    "passes2 = []\n",
    "start, finish = (165,175)\n",
    "lowVal, highVal, threshold = (0,0,0)\n",
    "\n",
    "for file in tqdm(files[start:finish]):\n",
    "    infile = os.path.join(INPUT, file)\n",
    "    img = io.imread(infile)\n",
    "    normed = equalized(img)\n",
    "    #gamma_corrected = exposure.adjust_gamma(img, 2)\n",
    "    norms.append(normed)\n",
    "    img = trim_edges(img)\n",
    "    img = exposure.adjust_log(img, 1)\n",
    "    img = exposure.adjust_gamma(img, 2)\n",
    "    mask1 = create_mask_pass1(img)\n",
    "    pass1 = cv2.bitwise_and(img, img, mask=mask1)\n",
    "    masks1.append(mask1)    \n",
    "    img2 = pass1.copy()\n",
    "    passes1.append(img2)\n",
    "    ## pass2\n",
    "    mask2, lowVal, highVal, threshold = fix_with_fill(img2, debug=True)\n",
    "    #mask2 = mask1\n",
    "    pass2 = cv2.bitwise_and(img2, img2, mask=mask2)\n",
    "    masks2.append(mask2)\n",
    "    passes2.append(pass2)\n",
    "    name = f'{file} {lowVal} {highVal} {threshold}'\n",
    "    names.append(name)\n",
    "    \n",
    "fig, ax = plt.subplots(nrows=len(masks1), ncols=5, sharex=False, sharey=False)\n",
    "plt.style.use('classic')\n",
    "i = 0\n",
    "for name, norm, mask1, pass1, mask2, pass2 in zip(names, norms, masks1, passes1, masks2, passes2):\n",
    "    ax[i,0].set_title(f'{name}')\n",
    "    ax[i,0].imshow(norm, cmap=\"gray\")\n",
    "    ax[i,1].set_title('1st pass mask')\n",
    "    ax[i,1].imshow(mask1, cmap=\"gray\")\n",
    "    ax[i,2].set_title('1st pass img')\n",
    "    ax[i,2].imshow(pass1, cmap=\"gray\")\n",
    "    ax[i,3].set_title('2nd pass mask')\n",
    "    ax[i,3].imshow(mask2, cmap=\"gray\")\n",
    "    ax[i,4].set_title('2nd pass img')\n",
    "    ax[i,4].imshow(pass2, cmap=\"gray\")\n",
    "\n",
    "    i += 1\n",
    "fig.set_size_inches(np.array([18, 4 * len(masks2)]), forward=False)\n",
    "plt.tight_layout()\n",
    "plt.show()"
   ]
  }
 ],
 "metadata": {
  "kernelspec": {
   "display_name": "Python 3",
   "language": "python",
   "name": "python3"
  },
  "language_info": {
   "codemirror_mode": {
    "name": "ipython",
    "version": 3
   },
   "file_extension": ".py",
   "mimetype": "text/x-python",
   "name": "python",
   "nbconvert_exporter": "python",
   "pygments_lexer": "ipython3",
   "version": "3.8.5"
  }
 },
 "nbformat": 4,
 "nbformat_minor": 4
}
