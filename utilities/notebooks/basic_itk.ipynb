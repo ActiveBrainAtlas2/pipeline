{
 "cells": [
  {
   "cell_type": "code",
   "execution_count": null,
   "metadata": {},
   "outputs": [],
   "source": [
    "import numpy as np\n",
    "import matplotlib\n",
    "from matplotlib import pyplot as plt\n",
    "from skimage import io\n",
    "from os.path import expanduser\n",
    "from tqdm import tqdm\n",
    "HOME = expanduser(\"~\")\n",
    "import os, sys\n",
    "import SimpleITK as sitk\n",
    "from ipywidgets import interact, fixed\n",
    "from IPython.display import clear_output\n",
    "%load_ext autoreload\n",
    "%autoreload 2"
   ]
  },
  {
   "cell_type": "code",
   "execution_count": null,
   "metadata": {},
   "outputs": [],
   "source": [
    "def start_plot():\n",
    "    global metric_values, multires_iterations\n",
    "    metric_values = []\n",
    "    multires_iterations = []\n",
    "# Callback invoked when the EndEvent happens, do cleanup of data and figure.\n",
    "def end_plot():\n",
    "    global metric_values, multires_iterations\n",
    "    del metric_values\n",
    "    del multires_iterations\n",
    "    # Close figure, we don't want to get a duplicate of the plot latter on.\n",
    "    plt.close()\n",
    "# Callback invoked when the sitkMultiResolutionIterationEvent happens, update the index into the \n",
    "# metric_values list. \n",
    "def update_multires_iterations():\n",
    "    global metric_values, multires_iterations\n",
    "    multires_iterations.append(len(metric_values))\n",
    "# Callback invoked when the IterationEvent happens, update our data and display new figure.\n",
    "def plot_values(registration_method):\n",
    "    global metric_values, multires_iterations\n",
    "    \n",
    "    metric_values.append(registration_method.GetMetricValue())                                       \n",
    "    # Clear the output area (wait=True, to reduce flickering), and plot current data\n",
    "    clear_output(wait=True)\n",
    "    # Plot the similarity metric values\n",
    "    plt.plot(metric_values, 'r')\n",
    "    plt.plot(multires_iterations, [metric_values[index] for index in multires_iterations], 'b*')\n",
    "    plt.xlabel('Iteration Number',fontsize=12)\n",
    "    plt.ylabel('Metric Value',fontsize=12)\n",
    "    plt.show()"
   ]
  },
  {
   "cell_type": "code",
   "execution_count": null,
   "metadata": {},
   "outputs": [],
   "source": [
    "animal = 'DK39'\n",
    "DIR = f'/net/birdstore/Active_Atlas_Data/data_root/pipeline_data/{animal}/preps'\n",
    "INPUT = os.path.join(DIR, 'CH1', 'thumbnail_cleaned')\n",
    "ELASTIX = os.path.join(DIR, 'elastix')"
   ]
  },
  {
   "cell_type": "code",
   "execution_count": null,
   "metadata": {},
   "outputs": [],
   "source": [
    "def register(fixed_image, moving_image):\n",
    "    initial_transform = sitk.CenteredTransformInitializer(\n",
    "    fixed_image,\n",
    "    moving_image,\n",
    "    sitk.Euler2DTransform(),\n",
    "    sitk.CenteredTransformInitializerFilter.GEOMETRY)\n",
    "\n",
    "    registration_method = sitk.ImageRegistrationMethod()\n",
    "\n",
    "    # Similarity metric settings.\n",
    "    registration_method.SetMetricAsMattesMutualInformation(numberOfHistogramBins=50)\n",
    "    registration_method.SetMetricSamplingStrategy(registration_method.RANDOM)\n",
    "    registration_method.SetMetricSamplingPercentage(0.01)\n",
    "\n",
    "    registration_method.SetInterpolator(sitk.sitkLinear)\n",
    "\n",
    "    # Optimizer settings.\n",
    "    registration_method.SetOptimizerAsGradientDescent(learningRate=1.0, \n",
    "                                                      numberOfIterations=100, \n",
    "                                                      convergenceMinimumValue=1e-6, \n",
    "                                                      convergenceWindowSize=10)\n",
    "    registration_method.SetOptimizerScalesFromPhysicalShift()\n",
    "\n",
    "    # Setup for the multi-resolution framework.            \n",
    "    registration_method.SetShrinkFactorsPerLevel(shrinkFactors = [4,2,1])\n",
    "    registration_method.SetSmoothingSigmasPerLevel(smoothingSigmas=[2,1,0])\n",
    "    registration_method.SmoothingSigmasAreSpecifiedInPhysicalUnitsOn()\n",
    "\n",
    "    # Don't optimize in-place, we would possibly like to run this cell multiple times.\n",
    "    registration_method.SetInitialTransform(initial_transform, inPlace=True)\n",
    "\n",
    "\n",
    "    final_transform = registration_method.Execute(sitk.Cast(fixed_image, sitk.sitkFloat32), \n",
    "                                                   sitk.Cast(moving_image, sitk.sitkFloat32))\n",
    "    return final_transform"
   ]
  },
  {
   "cell_type": "code",
   "execution_count": null,
   "metadata": {},
   "outputs": [],
   "source": [
    "image_name_list = sorted(os.listdir(INPUT))\n",
    "for i in tqdm(range(1, len(image_name_list))):\n",
    "    final_transform = None\n",
    "    prev_img_name = os.path.splitext(image_name_list[i - 1])[0]\n",
    "    curr_img_name = os.path.splitext(image_name_list[i])[0]\n",
    "    moving_file = os.path.join(INPUT, image_name_list[i - 1])\n",
    "    fixed_file = os.path.join(INPUT, image_name_list[i])\n",
    "    outfile = f'{curr_img_name}-{prev_img_name}.tfm'\n",
    "    outpath = os.path.join(ELASTIX, outfile)\n",
    "    if os.path.exists(outpath):\n",
    "        continue\n",
    "    \n",
    "    moving_image = sitk.ReadImage(moving_file, sitk.sitkUInt16)\n",
    "    fixed_image =  sitk.ReadImage(fixed_file, sitk.sitkUInt16)\n",
    "    \n",
    "    try:\n",
    "        final_transform = register(fixed_image, moving_image)\n",
    "    except:\n",
    "        print('Could not create transform for ', outfile)\n",
    "    if final_transform is not None:\n",
    "        sitk.WriteTransform(final_transform, outpath)    \n"
   ]
  },
  {
   "cell_type": "code",
   "execution_count": null,
   "metadata": {},
   "outputs": [],
   "source": [
    "outfile = os.path.join(ELASTIX, '225-224.tfm')\n",
    "sitk.WriteTransform(final_transform, outfile)"
   ]
  },
  {
   "cell_type": "code",
   "execution_count": null,
   "metadata": {},
   "outputs": [],
   "source": [
    "fig = plt.figure(figsize=(20,10))\n",
    "\n",
    "fig.add_subplot(1,3,1)\n",
    "plt.imshow(sitk.GetArrayViewFromImage(fixed_image), cmap='gray')\n",
    "plt.title('fixed image', fontsize=10)\n",
    "\n",
    "fig.add_subplot(1,3,2)\n",
    "plt.imshow(sitk.GetArrayViewFromImage(moving_image), cmap='gray')\n",
    "plt.title('moving image')\n",
    "\n",
    "fig.add_subplot(1,3,3)\n",
    "plt.title('resampled moving image')\n",
    "plt.imshow(sitk.GetArrayViewFromImage(moving_resampled), cmap='gray')\n",
    "    "
   ]
  }
 ],
 "metadata": {
  "kernelspec": {
   "display_name": "Python 3",
   "language": "python",
   "name": "python3"
  },
  "language_info": {
   "codemirror_mode": {
    "name": "ipython",
    "version": 3
   },
   "file_extension": ".py",
   "mimetype": "text/x-python",
   "name": "python",
   "nbconvert_exporter": "python",
   "pygments_lexer": "ipython3",
   "version": "3.8.5"
  }
 },
 "nbformat": 4,
 "nbformat_minor": 4
}
