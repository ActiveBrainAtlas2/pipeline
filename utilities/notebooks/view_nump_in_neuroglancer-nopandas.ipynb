{
 "cells": [
  {
   "cell_type": "code",
   "execution_count": 1,
   "metadata": {},
   "outputs": [],
   "source": [
    "import argparse\n",
    "import numpy as np\n",
    "import pandas as pd\n",
    "import os, sys\n",
    "import neuroglancer\n",
    "import matplotlib\n",
    "from matplotlib import pyplot as plt"
   ]
  },
  {
   "cell_type": "code",
   "execution_count": 2,
   "metadata": {},
   "outputs": [
    {
     "name": "stdout",
     "output_type": "stream",
     "text": [
      "Connecting dklab@192.168.1.12:3306\n"
     ]
    }
   ],
   "source": [
    "PATH = '/home/eddyod/programming/pipeline_utility'\n",
    "sys.path.append(PATH)\n",
    "from utilities.contour_utilities import get_contours_from_annotations, add_structure_to_neuroglancer\n",
    "neuroglancer.set_server_bind_address(bind_port='33645')"
   ]
  },
  {
   "cell_type": "code",
   "execution_count": 3,
   "metadata": {},
   "outputs": [],
   "source": [
    "DIR = '/net/birdstore/Active_Atlas_Data/data_root/CSHL_volumes'\n",
    "#contourpath = os.path.join(DIR, 'MD589', 'full_brain_volume_annotated.npy')\n",
    "#contourpath = os.path.join(DIR, 'MD589', 'MD589_full_filled.npy')\n",
    "contourpath = '/net/birdstore/Active_Atlas_Data/data_root/CSHL_volumes/atlasV8/volume_test.npy'\n",
    "structure = 'SC'\n",
    "#contourpath = os.path.join(DIR, 'atlasV7', '10.0um_annotationAsScoreVolume', '{}.npy'.format(structure))\n",
    "#contourpath = os.path.join(DIR, 'atlasV9', 'mean_shapes', '10.0um_{}_volume.npy'.format(structure))\n",
    "contour = np.load(contourpath)"
   ]
  },
  {
   "cell_type": "code",
   "execution_count": null,
   "metadata": {},
   "outputs": [],
   "source": [
    "contour.dtype, contour.shape, np.median(contour), np.mean(contour), np.amax(contour)"
   ]
  },
  {
   "cell_type": "code",
   "execution_count": null,
   "metadata": {},
   "outputs": [],
   "source": [
    "np.unique(contour)"
   ]
  },
  {
   "cell_type": "code",
   "execution_count": null,
   "metadata": {},
   "outputs": [],
   "source": [
    "plt.hist(contour.flatten(), bins=100)\n",
    "plt.title(\"Histogram with 'auto' bins\")\n",
    "plt.yscale('log')\n",
    "plt.show()"
   ]
  },
  {
   "cell_type": "code",
   "execution_count": null,
   "metadata": {},
   "outputs": [],
   "source": [
    "colors = {'Sp5O_R':23, 'SC':18, 'IC':11, 'Sp5C_R':21}\n",
    "color = colors[structure]"
   ]
  },
  {
   "cell_type": "code",
   "execution_count": null,
   "metadata": {},
   "outputs": [],
   "source": [
    "volume = contour.copy()\n",
    "threshold = 0.90\n",
    "volume_nonzero_indices = volume >= threshold\n",
    "volume_nonone_indices = volume < threshold\n",
    "volume[volume_nonzero_indices] = color\n",
    "volume[volume_nonone_indices] = 0\n",
    "vm = volume.astype(np.uint8)\n",
    "vm.shape, vm.dtype, vm.ndim"
   ]
  },
  {
   "cell_type": "code",
   "execution_count": null,
   "metadata": {},
   "outputs": [],
   "source": [
    "arr = np.swapaxes(contour, 0, 2)\n",
    "limit = 10\n",
    "start = (arr.shape[2] // 2) - limit\n",
    "end = start + limit * 2\n",
    "nrows = end - start\n",
    "ncols = 1\n",
    "plt.style.use('classic')\n",
    "for i in range(89, 190, 3):\n",
    "    plt.title('Z {}'.format(i))\n",
    "    plt.imshow(arr[:,:,i], cmap='cool', interpolation='none')\n",
    "    #plt.imshow(mat, cmap='tab20', interpolation='none')\n",
    "    plt.show()"
   ]
  },
  {
   "cell_type": "code",
   "execution_count": 4,
   "metadata": {},
   "outputs": [],
   "source": [
    "#vm = np.swapaxes(contour, 0, 2)\n",
    "vm = contour"
   ]
  },
  {
   "cell_type": "code",
   "execution_count": 5,
   "metadata": {},
   "outputs": [
    {
     "name": "stdout",
     "output_type": "stream",
     "text": [
      "http://127.0.0.1:33645/v/beb09a0fca873703328f88e3e786553ca80bae38/\n"
     ]
    }
   ],
   "source": [
    "zdim = vm.shape[2]\n",
    "dimensions = neuroglancer.CoordinateSpace(\n",
    "    names=['z', 'y', 'x'],\n",
    "    units='um',\n",
    "    scales=[10,5,5])\n",
    "viewer = neuroglancer.Viewer()\n",
    "with viewer.txn() as s:\n",
    "    s.dimensions = dimensions\n",
    "    s.layout = '4panel'\n",
    "    s.layers['Altas'] = neuroglancer.SegmentationLayer(\n",
    "        source=neuroglancer.LocalVolume(\n",
    "            data=vm,\n",
    "            dimensions=dimensions,\n",
    "            voxel_offset=(0, 0, 0),\n",
    "        ),\n",
    ")\n",
    "\n",
    "print(viewer)"
   ]
  },
  {
   "cell_type": "code",
   "execution_count": null,
   "metadata": {},
   "outputs": [],
   "source": [
    "import pickle\n",
    "ppath = '/net/birdstore/Active_Atlas_Data/data_root/CSHL_volumes/atlasV9/1um_meanPositions.pkl'\n",
    "data =  pickle.load( open(ppath, \"rb\" ) )"
   ]
  },
  {
   "cell_type": "code",
   "execution_count": null,
   "metadata": {},
   "outputs": [],
   "source": [
    "width = 1500\n",
    "height = 1000\n",
    "zdim = 400\n",
    "midx = width // 2\n",
    "midy = height // 2\n",
    "midz = zdim // 2"
   ]
  },
  {
   "cell_type": "code",
   "execution_count": null,
   "metadata": {},
   "outputs": [],
   "source": [
    "for k,v in data.items():\n",
    "    x = v[0] + midx\n",
    "    y = v[1] + midy\n",
    "    print(k,x,y, v[0])"
   ]
  }
 ],
 "metadata": {
  "kernelspec": {
   "display_name": "Python 3",
   "language": "python",
   "name": "python3"
  },
  "language_info": {
   "codemirror_mode": {
    "name": "ipython",
    "version": 3
   },
   "file_extension": ".py",
   "mimetype": "text/x-python",
   "name": "python",
   "nbconvert_exporter": "python",
   "pygments_lexer": "ipython3",
   "version": "3.8.2"
  }
 },
 "nbformat": 4,
 "nbformat_minor": 4
}
