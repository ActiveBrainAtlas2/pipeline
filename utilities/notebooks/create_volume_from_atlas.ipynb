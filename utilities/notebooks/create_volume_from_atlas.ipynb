{
 "cells": [
  {
   "cell_type": "code",
   "execution_count": 31,
   "metadata": {},
   "outputs": [],
   "source": [
    "%reload_ext autoreload\n",
    "%autoreload 2\n",
    "\n",
    "import os\n",
    "import sys\n",
    "import numpy as np\n",
    "from timeit import default_timer as timer\n",
    "from _collections import OrderedDict\n",
    "import shutil\n",
    "from pprint import pprint\n",
    "start = timer()\n",
    "HOME = os.path.expanduser(\"~\")\n",
    "PATH = os.path.join(HOME, 'programming/pipeline_utility')\n",
    "sys.path.append(PATH)\n",
    "from utilities.file_location import FileLocationManager\n",
    "from utilities.sqlcontroller import SqlController\n",
    "from utilities.utilities_cvat_neuroglancer import get_structure_number, NumpyToNeuroglancer, get_segment_properties\n",
    "from utilities.utilities_affine import align_point_sets, align_atlas, DK52_centers"
   ]
  },
  {
   "cell_type": "code",
   "execution_count": 3,
   "metadata": {},
   "outputs": [],
   "source": [
    "animal = 'DK52'\n",
    "fileLocationManager = FileLocationManager(animal)\n",
    "OUTPUT_DIR = os.path.join(fileLocationManager.neuroglancer_data, 'atlas')"
   ]
  },
  {
   "cell_type": "code",
   "execution_count": 6,
   "metadata": {},
   "outputs": [
    {
     "name": "stdout",
     "output_type": "stream",
     "text": [
      "resolution: 0.325\n",
      "width: 65000\n",
      "height: 36000\n",
      "Shape of atlas volume (1170, 2112, 486)\n"
     ]
    }
   ],
   "source": [
    "sql_controller = SqlController(animal)\n",
    "thumbnail_dir = os.path.join(fileLocationManager.prep, 'CH1', 'thumbnail_aligned')\n",
    "\n",
    "print(f'resolution: {sql_controller.scan_run.resolution}')\n",
    "print(f'width: {sql_controller.scan_run.width}')\n",
    "print(f'height: {sql_controller.scan_run.height}')\n",
    "box_w = sql_controller.scan_run.width * sql_controller.scan_run.resolution / 10  # 10 mum scale\n",
    "box_h = sql_controller.scan_run.height * sql_controller.scan_run.resolution / 10  # 10 mum scale\n",
    "box_z = len(os.listdir(thumbnail_dir))  # 20 mum scale\n",
    "box_center = np.array([box_w, box_h, box_z]) / 2\n",
    "\n",
    "atlasV7_volume = np.zeros((int(box_h), int(box_w), int(box_z)), dtype=np.uint8)\n",
    "print('Shape of atlas volume', atlasV7_volume.shape)\n"
   ]
  },
  {
   "cell_type": "code",
   "execution_count": 43,
   "metadata": {},
   "outputs": [],
   "source": [
    "reference_centers = sql_controller.get_centers_dict('DK52')"
   ]
  },
  {
   "cell_type": "code",
   "execution_count": 44,
   "metadata": {},
   "outputs": [
    {
     "data": {
      "text/plain": [
       "{'12N': [46488.0, 18778.0, 242.0],\n",
       " '5N_L': [38990.0, 20019.0, 172.0],\n",
       " '5N_R': [39184.0, 19027.0, 315.0],\n",
       " '7N_L': [42425.0, 23190.0, 166.0],\n",
       " '7N_R': [42286.0, 22901.0, 291.0]}"
      ]
     },
     "execution_count": 44,
     "metadata": {},
     "output_type": "execute_result"
    }
   ],
   "source": [
    "reference_centers"
   ]
  },
  {
   "cell_type": "code",
   "execution_count": 49,
   "metadata": {},
   "outputs": [
    {
     "name": "stdout",
     "output_type": "stream",
     "text": [
      "No histology for Atlas\n",
      "No scan run for Atlas\n",
      "Please type the following numbers into neuroglancer to align the atlas structures.\n",
      "\n",
      "Rotation:\n",
      "[[ 0.98616112 -0.08494664 -0.00192455]\n",
      " [ 0.08454767  0.98325432 -0.07613169]\n",
      " [ 0.00844547  0.07568627  0.98688077]]\n",
      "\n",
      "Translation:\n",
      "[[6743.21333857]\n",
      " [-925.71048559]\n",
      " [ -23.96175028]]\n",
      "CPU times: user 48 ms, sys: 0 ns, total: 48 ms\n",
      "Wall time: 128 ms\n"
     ]
    },
    {
     "data": {
      "text/plain": [
       "(array([[ 0.98616112, -0.08494664, -0.00192455],\n",
       "        [ 0.08454767,  0.98325432, -0.07613169],\n",
       "        [ 0.00844547,  0.07568627,  0.98688077]]),\n",
       " array([[3101.87813574],\n",
       "        [-425.82682337],\n",
       "        [-479.23500561]]))"
      ]
     },
     "execution_count": 49,
     "metadata": {},
     "output_type": "execute_result"
    }
   ],
   "source": [
    "%%time\n",
    "reference_centers = sql_controller.get_centers_dict('MD589')\n",
    "atlas_box_size=(2010,1490,  447)\n",
    "align_atlas(reference_centers, reference_scales=(0.46, 0.46,20), atlas_box_size=atlas_box_size)\n",
    "#sql_controller.get_centers_dict('Atlas')"
   ]
  }
 ],
 "metadata": {
  "kernelspec": {
   "display_name": "Python 3",
   "language": "python",
   "name": "python3"
  },
  "language_info": {
   "codemirror_mode": {
    "name": "ipython",
    "version": 3
   },
   "file_extension": ".py",
   "mimetype": "text/x-python",
   "name": "python",
   "nbconvert_exporter": "python",
   "pygments_lexer": "ipython3",
   "version": "3.8.5"
  }
 },
 "nbformat": 4,
 "nbformat_minor": 4
}
