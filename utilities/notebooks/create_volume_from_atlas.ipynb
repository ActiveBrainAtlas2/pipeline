{
 "cells": [
  {
   "cell_type": "code",
   "execution_count": 1,
   "metadata": {},
   "outputs": [
    {
     "name": "stdout",
     "output_type": "stream",
     "text": [
      "Connecting dklab@192.168.1.12:3306\n"
     ]
    }
   ],
   "source": [
    "%reload_ext autoreload\n",
    "%autoreload 2\n",
    "\n",
    "import argparse\n",
    "import os\n",
    "import sys\n",
    "import numpy as np\n",
    "from timeit import default_timer as timer\n",
    "from _collections import OrderedDict\n",
    "import shutil\n",
    "from pprint import pprint\n",
    "start = timer()\n",
    "HOME = os.path.expanduser(\"~\")\n",
    "PATH = os.path.join(HOME, 'programming/pipeline_utility')\n",
    "sys.path.append(PATH)\n",
    "from utilities.sqlcontroller import SqlController\n",
    "from utilities.file_location import FileLocationManager\n",
    "from utilities.utilities_cvat_neuroglancer import get_structure_number, NumpyToNeuroglancer, get_segment_properties\n",
    "from utilities.utilities_affine import rigid_transform_3D, ralign, affine_fit, superalign, umeyama\n"
   ]
  },
  {
   "cell_type": "code",
   "execution_count": 2,
   "metadata": {},
   "outputs": [
    {
     "name": "stdout",
     "output_type": "stream",
     "text": [
      "atlas volume shape (1170, 2112, 486)\n"
     ]
    }
   ],
   "source": [
    "animal = 'DK52'\n",
    "fileLocationManager = FileLocationManager(animal)\n",
    "atlas_name = 'atlasV7'\n",
    "DATA_PATH = '/net/birdstore/Active_Atlas_Data/data_root'\n",
    "ROOT_DIR = '/net/birdstore/Active_Atlas_Data/data_root/pipeline_data'\n",
    "THUMBNAIL_DIR = os.path.join(ROOT_DIR, animal, 'preps', 'CH1', 'thumbnail')\n",
    "ATLAS_PATH = os.path.join(DATA_PATH, 'atlas_data', atlas_name)\n",
    "ORIGIN_PATH = os.path.join(ATLAS_PATH, 'origin')\n",
    "VOLUME_PATH = os.path.join(ATLAS_PATH, 'structure')\n",
    "OUTPUT_DIR = os.path.join(fileLocationManager.neuroglancer_data, 'atlas')\n",
    "#if os.path.exists(OUTPUT_DIR):\n",
    "#    shutil.rmtree(OUTPUT_DIR)\n",
    "os.makedirs(OUTPUT_DIR, exist_ok=True)\n",
    "origin_files = sorted(os.listdir(ORIGIN_PATH))\n",
    "volume_files = sorted(os.listdir(VOLUME_PATH))\n",
    "sqlController = SqlController(animal)\n",
    "resolution = sqlController.scan_run.resolution\n",
    "surface_threshold = 0.8\n",
    "SCALE = (10 / resolution)\n",
    "\n",
    "structure_volume_origin = {}\n",
    "for volume_filename, origin_filename in zip(volume_files, origin_files):\n",
    "    structure = os.path.splitext(volume_filename)[0]\n",
    "    if structure not in origin_filename:\n",
    "        print(structure, origin_filename)\n",
    "        break\n",
    "\n",
    "    color = get_structure_number(structure.replace('_L', '').replace('_R', ''))\n",
    "\n",
    "    origin = np.loadtxt(os.path.join(ORIGIN_PATH, origin_filename))\n",
    "    volume = np.load(os.path.join(VOLUME_PATH, volume_filename))\n",
    "\n",
    "    volume = np.rot90(volume, axes=(0, 1))\n",
    "    volume = np.flip(volume, axis=0)\n",
    "    volume[volume > surface_threshold] = color\n",
    "    volume = volume.astype(np.uint8)\n",
    "\n",
    "    structure_volume_origin[structure] = (volume, origin)\n",
    "\n",
    "col_length = sqlController.scan_run.width/SCALE\n",
    "row_length = sqlController.scan_run.height/SCALE\n",
    "z_length = len(os.listdir(THUMBNAIL_DIR))\n",
    "atlasV7_volume = np.zeros(( int(row_length), int(col_length), z_length), dtype=np.uint8)\n",
    "print('atlas volume shape', atlasV7_volume.shape)\n",
    "\n",
    "DK52_centers = {'12N': [46488, 18778, 242],\n",
    "                '5N_L': [38990, 20019, 172],\n",
    "                '5N_R': [39184, 19027, 315],\n",
    "                '7N_L': [42425, 23190, 166],\n",
    "                '7N_R': [42286, 22901, 291]}\n",
    "centers = OrderedDict(DK52_centers)\n",
    "centers_list = []\n",
    "for value in centers.values():\n",
    "    centers_list.append((value[1]/SCALE, value[0]/SCALE, value[2]))\n",
    "COM = np.array(centers_list)\n",
    "atlas_com_centers = OrderedDict()\n",
    "atlas_all_centers = {}\n",
    "for structure, (volume, origin) in sorted(structure_volume_origin.items()):\n",
    "    midcol, midrow, midz = origin\n",
    "    row_start = midrow + row_length / 2\n",
    "    col_start = midcol + col_length / 2\n",
    "    z_start = midz / 2 + z_length / 2\n",
    "    row_end = row_start + volume.shape[0]\n",
    "    col_end = col_start + volume.shape[1]\n",
    "    z_end = z_start + (volume.shape[2] + 1) / 2\n",
    "    midcol = (col_end + col_start) / 2\n",
    "    midrow = (row_end + row_start) / 2\n",
    "    midz = (z_end + z_start) / 2\n",
    "    if structure in centers.keys():\n",
    "        atlas_com_centers[structure] = [midrow, midcol, midz]\n",
    "    atlas_all_centers[structure] = [midrow, midcol, midz]\n",
    "ATLAS_centers = OrderedDict(atlas_com_centers)\n",
    "ATLAS = np.array(list(ATLAS_centers.values()))"
   ]
  },
  {
   "cell_type": "code",
   "execution_count": null,
   "metadata": {},
   "outputs": [],
   "source": [
    "# good visual results\n",
    "R, t = rigid_transform_3D(ATLAS.T, COM.T)\n",
    "if t.shape[0] == 3:\n",
    "    t = np.reshape(t, (1,3))\n",
    "pprint(R)\n",
    "pprint(t)"
   ]
  },
  {
   "cell_type": "code",
   "execution_count": null,
   "metadata": {},
   "outputs": [],
   "source": [
    "# ok visual, needed translation\n",
    "R, t = ralign(ATLAS, COM)\n",
    "if t.shape[0] == 3:\n",
    "    t = np.reshape(t, (1,3))"
   ]
  },
  {
   "cell_type": "code",
   "execution_count": null,
   "metadata": {},
   "outputs": [],
   "source": [
    "# good visual results\n",
    "R, t = superalign(ATLAS, COM)\n",
    "if t.shape[0] == 3:\n",
    "    t = np.reshape(t, (1,3))"
   ]
  },
  {
   "cell_type": "code",
   "execution_count": null,
   "metadata": {},
   "outputs": [],
   "source": [
    "c, R, t = umeyama(ATLAS, COM)\n",
    "if t.shape[0] == 3:\n",
    "    t = np.reshape(t, (1,3))"
   ]
  },
  {
   "cell_type": "code",
   "execution_count": null,
   "metadata": {},
   "outputs": [],
   "source": [
    "# bad results\n",
    "trn = affine_fit(ATLAS, COM)"
   ]
  },
  {
   "cell_type": "code",
   "execution_count": 3,
   "metadata": {},
   "outputs": [],
   "source": [
    "# gives bad results, volumes overlap, too close\n",
    "animal_centroid = np.mean(COM, axis=0)\n",
    "atlas_centroid = np.mean(ATLAS, axis=0)\n",
    "t = animal_centroid - atlas_centroid\n",
    "X = np.linalg.inv(COM.T @ COM) @ COM.T @ ATLAS\n",
    "U, S, V = np.linalg.svd(X)\n",
    "R1 = np.dot(U, V)\n",
    "R = np.array([[np.cos(R1[0][0]), -np.sin(R1[0][1]), 0],\n",
    "              [np.sin(R1[1][0]), np.cos(R1[1][1]), 0],\n",
    "              [0, 0, 1]])\n",
    "cx = S[0]\n",
    "cy = S[1]\n",
    "s = np.array([[cx, 0, 0], [0, cy, 0], [0, 0, 1]])"
   ]
  },
  {
   "cell_type": "code",
   "execution_count": null,
   "metadata": {},
   "outputs": [],
   "source": [
    "R = np.array([\n",
    "    [0.89, 0.475, -0.024],\n",
    "    [-0.3596, 1.173566, -0.0858],\n",
    "    [-0.0083, 0.09963,1.12647]\n",
    "])\n",
    "t = np.array([18917.2/SCALE, 6900/SCALE, 48.674])\n",
    "if t.shape[0] == 3:\n",
    "    t = np.reshape(t, (1, 3))\n",
    "s = 1"
   ]
  },
  {
   "cell_type": "code",
   "execution_count": 4,
   "metadata": {
    "scrolled": true
   },
   "outputs": [
    {
     "name": "stdout",
     "output_type": "stream",
     "text": [
      "10N_L : Row  608  696 Col 1286 1416 Z  212  239 \n",
      "10N_R : Row  608  696 Col 1286 1416 Z  241  268 \n",
      "12N   : Row  615  693 Col 1283 1407 Z  218  261 \n",
      "3N_L  : Row  522  563 Col 1116 1179 Z  220  246 \n",
      "3N_R  : Row  522  563 Col 1116 1179 Z  234  260 \n",
      "4N_L  : Row  530  553 Col 1147 1166 Z  223  234 \n",
      "4N_R  : Row  530  553 Col 1147 1166 Z  247  258 \n",
      "5N_L  : Row  573  659 Col 1162 1235 Z  157  187 \n",
      "5N_R  : Row  573  659 Col 1162 1235 Z  294  324 \n",
      "6N_L  : Row  597  622 Col 1208 1234 Z  215  228 \n",
      "6N_R  : Row  597  622 Col 1208 1234 Z  252  265 \n",
      "7N_L  : Row  645  721 Col 1196 1297 Z  159  206 \n",
      "7N_R  : Row  645  721 Col 1196 1297 Z  275  322 \n",
      "7n_L  : Row  593  701 Col 1173 1280 Z  151  226 \n",
      "7n_R  : Row  593  701 Col 1173 1280 Z  254  329 \n",
      "AP    : Row  601  643 Col 1298 1365 Z  230  252 \n",
      "Amb_L : Row  651  678 Col 1251 1319 Z  175  182 \n",
      "Amb_R : Row  651  678 Col 1251 1319 Z  299  306 \n",
      "DC_L  : Row  552  640 Col 1208 1351 Z  110  184 \n",
      "DC_R  : Row  552  640 Col 1208 1351 Z  297  371 \n",
      "IC    : Row  399  586 Col 1123 1343 Z  143  338 \n",
      "LC_L  : Row  545  616 Col 1181 1274 Z  191  207 \n",
      "LC_R  : Row  545  616 Col 1181 1274 Z  274  290 \n",
      "LRt_L : Row  651  744 Col 1272 1414 Z  162  204 \n",
      "LRt_R : Row  651  744 Col 1272 1414 Z  276  318 \n",
      "PBG_L : Row  496  587 Col 1134 1201 Z  139  156 \n",
      "PBG_R : Row  496  587 Col 1134 1201 Z  324  341 \n",
      "Pn_L  : Row  617  731 Col 1091 1190 Z  180  238 \n",
      "Pn_R  : Row  617  731 Col 1091 1190 Z  243  301 \n",
      "RMC_L : Row  546  604 Col 1088 1179 Z  191  235 \n",
      "RMC_R : Row  546  604 Col 1088 1179 Z  246  290 \n",
      "RtTg  : Row  607  714 Col 1111 1263 Z  192  285 \n",
      "SC    : Row  411  587 Col 1072 1310 Z  147  336 \n",
      "SNC_L : Row  551  660 Col 1062 1142 Z  155  207 \n",
      "SNC_R : Row  551  660 Col 1062 1142 Z  274  326 \n",
      "SNR_L : Row  536  685 Col 1059 1198 Z  136  206 \n",
      "SNR_R : Row  536  685 Col 1059 1198 Z  274  344 \n",
      "Sp5C_L: Row  601  766 Col 1310 1477 Z  134  225 \n",
      "Sp5C_R: Row  601  766 Col 1310 1477 Z  256  347 \n",
      "Sp5I_L: Row  592  724 Col 1274 1396 Z  121  167 \n",
      "Sp5I_R: Row  592  724 Col 1274 1396 Z  314  360 \n",
      "Sp5O_L: Row  590  715 Col 1205 1406 Z  121  171 \n",
      "Sp5O_R: Row  590  715 Col 1205 1406 Z  309  359 \n",
      "Tz_L  : Row  654  701 Col 1140 1246 Z  200  231 \n",
      "Tz_R  : Row  654  701 Col 1140 1246 Z  250  281 \n",
      "VCA_L : Row  567  679 Col 1172 1305 Z  102  140 \n",
      "VCA_R : Row  567  679 Col 1172 1305 Z  340  378 \n",
      "VCP_L : Row  570  682 Col 1214 1308 Z  109  147 \n",
      "VCP_R : Row  570  682 Col 1214 1308 Z  334  372 \n",
      "VLL_L : Row  533  784 Col 1118 1222 Z  144  192 \n",
      "VLL_R : Row  533  784 Col 1118 1222 Z  289  337 \n",
      "Done with big volume: (2112, 1170, 486)\n"
     ]
    }
   ],
   "source": [
    "for structure, (volume, origin) in sorted(structure_volume_origin.items()):\n",
    "    print(str(structure).ljust(6),end=\": \")\n",
    "    x,y,z = origin\n",
    "    arr = np.array([y,x,z])\n",
    "    input = arr + t\n",
    "    results = np.dot(s*R, input.T).reshape(3,1)\n",
    "    y = results[0][0]\n",
    "    x = results[1][0]\n",
    "    z = results[2][0]\n",
    "    x_start = int( round(x + col_length / 2))\n",
    "    y_start = int( round(y + row_length / 2))\n",
    "    z_start = int( round(z / 2 + z_length / 2))\n",
    "    x_end = x_start + volume.shape[0]\n",
    "    y_end = y_start + volume.shape[1]\n",
    "    z_end = int( z_start + (volume.shape[2] + 1) / 2)\n",
    "    print('Row', str(y_start).rjust(4), str(y_end).rjust(4),'Col', str(x_start).rjust(4), str(x_end).rjust(4),\n",
    "          'Z', str(z_start).rjust(4), str(z_end).rjust(4), end=\" \")\n",
    "\n",
    "        \n",
    "    z_indices = [z for z in range(volume.shape[2]) if z % 2 == 0]\n",
    "    volume = volume[:, :, z_indices]\n",
    "    volume = np.swapaxes(volume, 0, 1)\n",
    "\n",
    "    try:\n",
    "        atlasV7_volume[y_start:y_end, x_start:x_end, z_start:z_end] += volume\n",
    "    except ValueError as ve:\n",
    "        print(\"Error\", end=\" \")\n",
    "\n",
    "    print()\n",
    "# rotation puts in view with wide x and shallow  y\n",
    "atlasV7_volume = np.rot90(atlasV7_volume, 1)\n",
    "# fliplr and flip axis=1 did not work, axis=0 works\n",
    "atlasV7_volume = np.flip(atlasV7_volume, axis=0)\n",
    "#atlasV7_volume = affine_transform(atlasV7_volume, R)\n",
    "print('Done with big volume:', atlasV7_volume.shape)"
   ]
  },
  {
   "cell_type": "code",
   "execution_count": null,
   "metadata": {},
   "outputs": [],
   "source": [
    "atlasV7_volume.shape"
   ]
  },
  {
   "cell_type": "code",
   "execution_count": null,
   "metadata": {},
   "outputs": [],
   "source": [
    "%%time\n",
    "ng = NumpyToNeuroglancer(atlasV7_volume, [10000, 10000, 20000])\n",
    "ng.preview()\n",
    "ng.init_precomputed(OUTPUT_DIR)\n",
    "ng.add_segment_properties(get_segment_properties())\n",
    "ng.add_downsampled_volumes()\n",
    "ng.add_segmentation_mesh()"
   ]
  }
 ],
 "metadata": {
  "kernelspec": {
   "display_name": "Python 3",
   "language": "python",
   "name": "python3"
  },
  "language_info": {
   "codemirror_mode": {
    "name": "ipython",
    "version": 3
   },
   "file_extension": ".py",
   "mimetype": "text/x-python",
   "name": "python",
   "nbconvert_exporter": "python",
   "pygments_lexer": "ipython3",
   "version": "3.8.5"
  }
 },
 "nbformat": 4,
 "nbformat_minor": 4
}
