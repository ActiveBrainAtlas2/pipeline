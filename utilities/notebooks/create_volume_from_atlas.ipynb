{
 "cells": [
  {
   "cell_type": "code",
   "execution_count": 7,
   "metadata": {},
   "outputs": [],
   "source": [
    "%reload_ext autoreload\n",
    "%autoreload 2\n",
    "\n",
    "import os\n",
    "import sys\n",
    "import numpy as np\n",
    "from timeit import default_timer as timer\n",
    "from _collections import OrderedDict\n",
    "import shutil\n",
    "from pprint import pprint\n",
    "start = timer()\n",
    "HOME = os.path.expanduser(\"~\")\n",
    "PATH = os.path.join(HOME, 'programming/pipeline_utility')\n",
    "sys.path.append(PATH)\n",
    "from utilities.file_location import FileLocationManager\n",
    "from utilities.sqlcontroller import SqlController\n",
    "from utilities.utilities_cvat_neuroglancer import get_structure_number, NumpyToNeuroglancer, get_segment_properties\n",
    "from utilities.utilities_affine import align_point_sets, load_atlas_data, estimate_structure_centers\n"
   ]
  },
  {
   "cell_type": "code",
   "execution_count": 74,
   "metadata": {},
   "outputs": [
    {
     "name": "stdout",
     "output_type": "stream",
     "text": [
      "resolution: 0.325\n",
      "width: 65000\n",
      "height: 36000\n",
      "box center: [1056.25  585.    242.5 ]\n"
     ]
    }
   ],
   "source": [
    "animal = 'DK52'\n",
    "fileLocationManager = FileLocationManager(animal)\n",
    "OUTPUT_DIR = os.path.join(fileLocationManager.neuroglancer_data, 'atlas')\n",
    "if os.path.exists(OUTPUT_DIR):\n",
    "    shutil.rmtree(OUTPUT_DIR)\n",
    "os.makedirs(OUTPUT_DIR, exist_ok=True)\n",
    "\n",
    "atlas_data = load_atlas_data()\n",
    "source_centers = estimate_structure_centers(atlas_data, animal)\n",
    "# DK52 structure centers\n",
    "output_centers = {\n",
    "    '12N': [46488, 18778, 242],\n",
    "    '5N_L': [38990, 20019, 172],\n",
    "    '5N_R': [39184, 19027, 315],\n",
    "    '7N_L': [42425, 23190, 166],\n",
    "    '7N_R': [42286, 22901, 291]\n",
    "}\n",
    "structures = sorted(output_centers.keys())\n",
    "source_point_set = np.array([source_centers[s][0] for s in structures]).T\n",
    "# Unify to 1 mum scale in all axes\n",
    "source_scale = np.diagflat([10, 10, 20])\n",
    "#source_point_set = source_scale @ source_point_set\n",
    "output_point_set = np.array([output_centers[s] for s in structures]).T\n",
    "\n",
    "# Unify to 1 mum scale in all axes\n",
    "output_scale = np.diagflat([0.325, 0.325, 20])\n",
    "#output_point_set = output_scale @ output_point_set\n",
    "\n",
    "r_auto, t_auto = align_point_sets(source_point_set, output_point_set)\n",
    "t_auto_out = (np.linalg.inv(output_scale) @ t_auto).T\n"
   ]
  },
  {
   "cell_type": "code",
   "execution_count": 56,
   "metadata": {},
   "outputs": [
    {
     "name": "stdout",
     "output_type": "stream",
     "text": [
      "[[1260.05026858 1010.78141394 1010.78141394 1088.27028024 1088.27028024]\n",
      " [ 655.12536632  587.58009809  587.58009809  705.01534472  705.01534472]\n",
      " [ 220.25         91.25519758  365.74480242  103.60451566  335.89548434]]\n",
      "[[46488 38990 39184 42425 42286]\n",
      " [18778 20019 19027 23190 22901]\n",
      " [  242   172   315   166   291]]\n"
     ]
    }
   ],
   "source": [
    "print(source_point_set)\n",
    "print(output_point_set)"
   ]
  },
  {
   "cell_type": "code",
   "execution_count": 67,
   "metadata": {},
   "outputs": [
    {
     "name": "stdout",
     "output_type": "stream",
     "text": [
      "resolution: 0.325\n",
      "width: 65000\n",
      "height: 36000\n",
      "Shape of atlas volume (1170, 2112, 485)\n"
     ]
    }
   ],
   "source": [
    "sql_controller = SqlController(animal)\n",
    "thumbnail_dir = os.path.join(fileLocationManager.prep, 'CH1', 'thumbnail_aligned')\n",
    "\n",
    "print(f'resolution: {sql_controller.scan_run.resolution}')\n",
    "print(f'width: {sql_controller.scan_run.width}')\n",
    "print(f'height: {sql_controller.scan_run.height}')\n",
    "box_w = sql_controller.scan_run.width * sql_controller.scan_run.resolution / 10  # 10 mum scale\n",
    "box_h = sql_controller.scan_run.height * sql_controller.scan_run.resolution / 10  # 10 mum scale\n",
    "box_z = len(os.listdir(thumbnail_dir))  # 20 mum scale\n",
    "box_center = np.array([box_w, box_h, box_z]) / 2\n",
    "\n",
    "atlasV7_volume = np.zeros((int(box_h), int(box_w), int(box_z)), dtype=np.uint8)\n",
    "print('Shape of atlas volume', atlasV7_volume.shape)\n"
   ]
  },
  {
   "cell_type": "code",
   "execution_count": 62,
   "metadata": {},
   "outputs": [
    {
     "data": {
      "text/plain": [
       "array([[23395.2914148 , 18823.65039869, -4757.22956042]])"
      ]
     },
     "execution_count": 62,
     "metadata": {},
     "output_type": "execute_result"
    }
   ],
   "source": [
    "t_auto.T"
   ]
  },
  {
   "cell_type": "code",
   "execution_count": 75,
   "metadata": {
    "scrolled": true
   },
   "outputs": [
    {
     "name": "stdout",
     "output_type": "stream",
     "text": [
      "10N_L  (130, 88, 53): [[44642.91439093 20187.882154    -437.08533747]]\n",
      "10N_R  (130, 88, 53): [[44641.69385375 19885.07730876   367.28222981]]\n",
      "12N    (124, 78, 86): [[ 4.44813803e+04  2.01182872e+04 -2.79839932e+01]]\n",
      "3N_L   (63, 41, 52): [[38441.02703199 19110.00714385  -604.88052262]]\n",
      "3N_R   (63, 41, 52): [[38440.4640567  18970.33778696  -233.86432989]]\n",
      "4N_L   (19, 23, 21): [[38590.5001316  19061.38180592  -798.56330964]]\n",
      "4N_R   (19, 23, 21): [[38589.47038566 18805.91063879  -119.93242101]]\n",
      "5N_L   (73, 86, 59): [[40336.44111687 21107.91557984 -1800.58912975]]\n",
      "5N_R   (73, 86, 59): [[40330.69303071 19681.86452605  1987.55770799]]\n",
      "6N_L   (26, 25, 26): [[40776.50822689 20152.47785547  -572.78907014]]\n",
      "6N_R   (26, 25, 26): [[40774.97799986 19772.84160695   435.67261888]]\n",
      "7N_L   (101, 76, 94): [[42114.67496316 22106.87496235 -1089.38049471]]\n",
      "7N_R   (101, 76, 94): [[42109.81055854 20900.05774656  2116.39590969]]\n",
      "7n_L   (107, 108, 150): [[41358.89765512 21436.06763441 -1144.9654538 ]]\n",
      "7n_R   (107, 108, 150): [[41354.55978349 20359.87875175  1713.81123712]]\n",
      "AP     (67, 42, 43): [[43805.4779173  19427.96400924  -233.73461024]]\n",
      "Amb_L  (68, 27, 14): [[42910.44236066 21350.2482046  -1500.90052094]]\n",
      "Amb_R  (68, 27, 14): [[42905.2380018  20059.09124776  1928.9150737 ]]\n",
      "DC_L   (143, 88, 147): [[42369.97489057 20288.78341945 -2894.6688722 ]]\n",
      "DC_R   (143, 88, 147): [[42362.13010574 18342.55934543  2275.26003877]]\n",
      "IC     (220, 187, 389): [[40543.07854019 17487.90936588 -1000.53311826]]\n",
      "LC_L   (93, 71, 31): [[40835.571169   19771.47785543 -1453.56594096]]\n",
      "LC_R   (93, 71, 31): [[40832.08077202 18905.54019395   846.70164433]]\n",
      "LRt_L  (142, 93, 84): [[44774.1290448  21724.52519118 -1202.19787456]]\n",
      "LRt_R  (142, 93, 84): [[44769.33662916 20535.56782542  1956.13581436]]\n",
      "PBG_L  (67, 91, 34): [[38989.66832244 19904.26641319 -3016.77976791]]\n",
      "PBG_R  (67, 91, 34): [[38981.89735269 17976.35522773  2104.50298085]]\n",
      "Pn_L   (99, 114, 116): [[39306.08426746 22507.91091517  -105.69953082]]\n",
      "Pn_R   (99, 114, 116): [[39303.44460101 21853.03222704  1633.91324458]]\n",
      "RMC_L  (91, 58, 87): [[38336.09795866 20180.01788042  -863.95803056]]\n",
      "RMC_R  (91, 58, 87): [[38333.77606716 19603.97644163   666.232315  ]]\n",
      "RtTg   (152, 107, 186): [[40463.07143979 21502.91301902   455.64924491]]\n",
      "SC     (238, 176, 377): [[39500.99167827 17913.88819958  -794.48479802]]\n",
      "SNC_L  (80, 109, 104): [[37792.31656133 21530.1525629  -1356.61896219]]\n",
      "SNC_R  (80, 109, 104): [[37787.33633853 20294.60184723  1925.4848054 ]]\n",
      "SNR_L  (139, 149, 140): [[38589.95164725 21605.61744367 -1635.85269498]]\n",
      "SNR_R  (139, 149, 140): [[38584.1504693  20166.39477078  2187.2830915 ]]\n",
      "Sp5C_L (167, 165, 182): [[46066.27609453 21190.73485265 -1518.99884109]]\n",
      "Sp5C_R (167, 165, 182): [[46061.17051516 19924.08424326  1845.71835306]]\n",
      "Sp5I_L (122, 132, 92): [[44287.12175741 21375.90681768 -2577.3448429 ]]\n",
      "Sp5I_R (122, 132, 92): [[44279.0248976  19367.14509394  2758.70841502]]\n",
      "Sp5O_L (201, 125, 99): [[43563.84921986 21404.81854717 -2481.5506752 ]]\n",
      "Sp5O_R (201, 125, 99): [[43555.98097555 19452.77437437  2703.83868423]]\n",
      "Tz_L   (106, 47, 61): [[40657.06816906 21975.12765288   -90.10993732]]\n",
      "Tz_R   (106, 47, 61): [[40654.99761403 21461.44064521  1274.44276121]]\n",
      "VCA_L  (133, 112, 76): [[41521.39758826 21513.56026227 -3223.92825023]]\n",
      "VCA_R  (133, 112, 76): [[41511.45547317 19047.00647369  3328.19897513]]\n",
      "VCP_L  (94, 112, 75): [[42095.27150913 21355.89880666 -3082.67647288]]\n",
      "VCP_R  (94, 112, 75): [[42085.86029942 19021.05810549  3119.5695093 ]]\n",
      "VLL_L  (104, 251, 95): [[40071.81461016 22624.21757865 -1357.38957628]]\n",
      "VLL_R  (104, 251, 95): [[40065.72838436 21114.2769692   2653.60058404]]\n"
     ]
    }
   ],
   "source": [
    "for structure, (source_point, volume) in sorted(source_centers.items()):\n",
    "    print(str(structure).ljust(6), volume.shape,end=\": \")\n",
    "    #x,y,z = origin\n",
    "    #origin = np.array([y,x,z])\n",
    "    #source_point = source_scale @ source_point\n",
    "    results = r_auto @ source_point + t_auto.T\n",
    "    print(results)\n"
   ]
  },
  {
   "cell_type": "code",
   "execution_count": null,
   "metadata": {},
   "outputs": [],
   "source": [
    "atlasV7_volume.shape"
   ]
  },
  {
   "cell_type": "code",
   "execution_count": null,
   "metadata": {},
   "outputs": [],
   "source": [
    "%%time\n",
    "ng = NumpyToNeuroglancer(atlasV7_volume, [10000, 10000, 20000])\n",
    "ng.preview()\n",
    "ng.init_precomputed(OUTPUT_DIR)\n",
    "ng.add_segment_properties(get_segment_properties())\n",
    "ng.add_downsampled_volumes()\n",
    "ng.add_segmentation_mesh()"
   ]
  },
  {
   "cell_type": "code",
   "execution_count": null,
   "metadata": {},
   "outputs": [],
   "source": []
  }
 ],
 "metadata": {
  "kernelspec": {
   "display_name": "Python 3",
   "language": "python",
   "name": "python3"
  },
  "language_info": {
   "codemirror_mode": {
    "name": "ipython",
    "version": 3
   },
   "file_extension": ".py",
   "mimetype": "text/x-python",
   "name": "python",
   "nbconvert_exporter": "python",
   "pygments_lexer": "ipython3",
   "version": "3.8.5"
  }
 },
 "nbformat": 4,
 "nbformat_minor": 4
}
