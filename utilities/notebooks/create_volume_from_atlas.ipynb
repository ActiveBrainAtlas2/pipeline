{
 "cells": [
  {
   "cell_type": "code",
   "execution_count": 1,
   "metadata": {},
   "outputs": [
    {
     "name": "stdout",
     "output_type": "stream",
     "text": [
      "Connecting dklab@192.168.1.12:3306\n"
     ]
    }
   ],
   "source": [
    "%reload_ext autoreload\n",
    "%autoreload 2\n",
    "\n",
    "import os\n",
    "import sys\n",
    "import numpy as np\n",
    "from timeit import default_timer as timer\n",
    "from _collections import OrderedDict\n",
    "import shutil\n",
    "from pprint import pprint\n",
    "start = timer()\n",
    "HOME = os.path.expanduser(\"~\")\n",
    "PATH = os.path.join(HOME, 'programming/pipeline_utility')\n",
    "sys.path.append(PATH)\n",
    "from utilities.file_location import FileLocationManager\n",
    "from utilities.sqlcontroller import SqlController\n",
    "from utilities.utilities_cvat_neuroglancer import get_structure_number, NumpyToNeuroglancer, get_segment_properties\n",
    "from utilities.utilities_affine import align_point_sets, load_atlas_data, estimate_structure_centers\n"
   ]
  },
  {
   "cell_type": "code",
   "execution_count": 2,
   "metadata": {},
   "outputs": [
    {
     "name": "stdout",
     "output_type": "stream",
     "text": [
      "resolution: 0.325\n",
      "width: 65000\n",
      "height: 36000\n",
      "box center: [1056.25  585.    242.5 ]\n"
     ]
    }
   ],
   "source": [
    "animal = 'DK52'\n",
    "fileLocationManager = FileLocationManager(animal)\n",
    "OUTPUT_DIR = os.path.join(fileLocationManager.neuroglancer_data, 'atlas')\n",
    "if os.path.exists(OUTPUT_DIR):\n",
    "    shutil.rmtree(OUTPUT_DIR)\n",
    "os.makedirs(OUTPUT_DIR, exist_ok=True)\n",
    "\n",
    "atlas_data = load_atlas_data()\n",
    "source_centers = estimate_structure_centers(atlas_data, animal)\n",
    "# DK52 structure centers\n",
    "output_centers = {\n",
    "    '12N': [46488, 18778, 242],\n",
    "    '5N_L': [38990, 20019, 172],\n",
    "    '5N_R': [39184, 19027, 315],\n",
    "    '7N_L': [42425, 23190, 166],\n",
    "    '7N_R': [42286, 22901, 291]\n",
    "}\n",
    "structures = sorted(output_centers.keys())\n",
    "source_point_set = np.array([source_centers[s][0] for s in structures]).T\n",
    "# Unify to 1 mum scale in all axes\n",
    "source_scale = np.diagflat([10, 10, 20])\n",
    "source_point_set = source_scale @ source_point_set\n",
    "output_point_set = np.array([output_centers[s] for s in structures]).T\n",
    "\n",
    "# Unify to 1 mum scale in all axes\n",
    "output_scale = np.diagflat([0.325, 0.325, 20])\n",
    "output_point_set = output_scale @ output_point_set\n",
    "\n",
    "r_auto, t_auto = align_point_sets(source_point_set, output_point_set)\n",
    "t_auto_out = (np.linalg.inv(output_scale) @ t_auto).T\n"
   ]
  },
  {
   "cell_type": "code",
   "execution_count": 3,
   "metadata": {},
   "outputs": [
    {
     "name": "stdout",
     "output_type": "stream",
     "text": [
      "resolution: 0.325\n",
      "width: 65000\n",
      "height: 36000\n",
      "Shape of atlas volume (1170, 2112, 485)\n"
     ]
    }
   ],
   "source": [
    "sql_controller = SqlController(animal)\n",
    "thumbnail_dir = os.path.join(fileLocationManager.prep, 'CH1', 'thumbnail_aligned')\n",
    "\n",
    "print(f'resolution: {sql_controller.scan_run.resolution}')\n",
    "print(f'width: {sql_controller.scan_run.width}')\n",
    "print(f'height: {sql_controller.scan_run.height}')\n",
    "box_w = sql_controller.scan_run.width * sql_controller.scan_run.resolution / 10  # 10 mum scale\n",
    "box_h = sql_controller.scan_run.height * sql_controller.scan_run.resolution / 10  # 10 mum scale\n",
    "box_z = len(os.listdir(thumbnail_dir))  # 20 mum scale\n",
    "box_center = np.array([box_w, box_h, box_z]) / 2\n",
    "\n",
    "atlasV7_volume = np.zeros((int(box_h), int(box_w), int(box_z)), dtype=np.uint8)\n",
    "print('Shape of atlas volume', atlasV7_volume.shape)\n"
   ]
  },
  {
   "cell_type": "code",
   "execution_count": 4,
   "metadata": {},
   "outputs": [
    {
     "name": "stdout",
     "output_type": "stream",
     "text": [
      "[[17580.00383156 15298.3395672     88.21494223]]\n",
      "[[ 0.325  0.     0.   ]\n",
      " [ 0.     0.325  0.   ]\n",
      " [ 0.     0.    20.   ]]\n"
     ]
    }
   ],
   "source": [
    "print(t_auto_out)\n",
    "print(output_scale)"
   ]
  },
  {
   "cell_type": "code",
   "execution_count": 18,
   "metadata": {
    "scrolled": true
   },
   "outputs": [
    {
     "name": "stdout",
     "output_type": "stream",
     "text": [
      "10N_L : 6615.742227761945 5125.862802706045 5125.862802706045\n",
      "10N_R : 6616.073146143126 5124.006788058699 5124.006788058699\n",
      "12N   : 6609.260820804933 5128.253853417324 5128.253853417324\n",
      "3N_L  : 6359.632051831818 5081.840090697307 5081.840090697307\n",
      "3N_R  : 6359.784688614908 5080.984000128606 5080.984000128606\n",
      "4N_L  : 6365.719746152325 5077.491787952871 5077.491787952871\n",
      "4N_R  : 6365.998936219433 5075.925900763121 5075.925900763121\n",
      "5N_L  : 6437.24174284032 5145.362171820017 5145.362171820017\n",
      "5N_R  : 6438.8001938149955 5136.621322110057 5136.621322110057\n",
      "6N_L  : 6456.025082344031 5123.081973038645 5123.081973038645\n",
      "6N_R  : 6456.439965443732 5120.755027320995 5120.755027320995\n",
      "7N_L  : 6510.933338534975 5193.430775843256 5193.430775843256\n",
      "7N_R  : 6512.252201181017 5186.0336999233505 5186.0336999233505\n",
      "7n_L  : 6479.739315556657 5166.395660705302 5166.395660705302\n",
      "7n_R  : 6480.915421845872 5159.799259224598 5159.799259224598\n",
      "AP    : 6581.298455091598 5098.565972472305 5098.565972472305\n",
      "Amb_L : 6543.6525635879425 5158.441668330677 5158.441668330677\n",
      "Amb_R : 6545.063596392471 5150.527639669776 5150.527639669776\n",
      "DC_L  : 6520.7682521831375 5099.276311789451 5099.276311789451\n",
      "DC_R  : 6522.895170989464 5087.347109053224 5087.347109053224\n",
      "IC    : 6446.351105154704 5012.883072980117 5012.883072980117\n",
      "LC_L  : 6458.0888209036375 5097.065641854809 5097.065641854809\n",
      "LC_R  : 6459.035155460839 5091.75795603456 5091.75795603456\n",
      "LRt_L : 6620.723627646222 5176.758605392891 5176.758605392891\n",
      "LRt_R : 6622.022972266873 5169.470999792777 5169.470999792777\n",
      "PBG_L : 6381.150816409578 5082.886780079482 5082.886780079482\n",
      "PBG_R : 6383.257722090178 5071.069824521413 5071.069824521413\n",
      "Pn_L  : 6395.376900768952 5221.743200785746 5221.743200785746\n",
      "Pn_R  : 6396.092580847231 5217.72918166913 5217.72918166913\n",
      "RMC_L : 6355.118524637028 5120.71949828365 5120.71949828365\n",
      "RMC_R : 6355.748047920475 5117.188704887546 5117.188704887546\n",
      "RtTg  : 6443.466394767104 5189.118964920985 5189.118964920985\n",
      "SC    : 6403.387300917295 5032.308807385398 5032.308807385398\n",
      "SNC_L : 6332.361034016496 5167.737011225807 5167.737011225807\n",
      "SNC_R : 6333.71129788817 5160.163815942244 5160.163815942244\n",
      "SNR_L : 6365.167673012951 5167.150386945473 5167.150386945473\n",
      "SNR_R : 6366.740518509172 5158.3288029990745 5158.3288029990745\n",
      "Sp5C_L: 6673.969708758953 5151.684462756393 5151.684462756393\n",
      "Sp5C_R: 6675.353959954946 5143.920643514331 5143.920643514331\n",
      "Sp5I_L: 6600.012919305057 5145.876818987857 5145.876818987857\n",
      "Sp5I_R: 6602.208181990724 5133.564297438514 5133.564297438514\n",
      "Sp5O_L: 6570.187919084613 5148.270863027846 5148.270863027846\n",
      "Sp5O_R: 6572.321198349493 5136.305986527603 5136.305986527603\n",
      "Tz_L  : 6451.202644642178 5200.86156307265 5200.86156307265\n",
      "Tz_R  : 6451.764024275575 5197.712965468047 5197.712965468047\n",
      "VCA_L : 6485.505888799445 5143.428497675449 5143.428497675449\n",
      "VCA_R : 6488.201446679841 5128.309981469366 5128.309981469366\n",
      "VCP_L : 6509.276400321813 5138.944331523212 5138.944331523212\n",
      "VCP_R : 6511.828016378455 5124.633138658608 5124.633138658608\n",
      "VLL_L : 6426.424406955853 5210.602894754309 5210.602894754309\n",
      "VLL_R : 6428.074536106731 5201.347851673574 5201.347851673574\n"
     ]
    }
   ],
   "source": [
    "for structure, (source_point, volume) in sorted(source_centers.items()):\n",
    "    print(str(structure).ljust(6),end=\": \")\n",
    "    results = r_auto @ source_point + t_auto.T\n",
    "    x = results[0][0]\n",
    "    y = results[0][1]\n",
    "    z = results[0][1]\n",
    "    print(x,y,z)\n"
   ]
  },
  {
   "cell_type": "code",
   "execution_count": 44,
   "metadata": {},
   "outputs": [
    {
     "data": {
      "text/plain": [
       "153.75"
      ]
     },
     "execution_count": 44,
     "metadata": {},
     "output_type": "execute_result"
    }
   ],
   "source": [
    "z_length = 486\n",
    "volume_shape = 337\n",
    "SC_start = 127\n",
    "SC_end = 311\n",
    "midz = 238\n",
    "z_origin = -185\n",
    "midz - hv"
   ]
  },
  {
   "cell_type": "code",
   "execution_count": 52,
   "metadata": {},
   "outputs": [
    {
     "name": "stdout",
     "output_type": "stream",
     "text": [
      "end - start= 184\n",
      "half of volume= 168.5\n",
      "find this= 111\n",
      "start, end -49.5 119.5\n",
      "volume shape and target length 337 169.0\n"
     ]
    }
   ],
   "source": [
    "print('end - start=',SC_end - SC_start)\n",
    "print('half of volume=',volume_shape/2)\n",
    "print('find this=', midz - SC_start )\n",
    "z_start = (midz/2 - volume_shape/2)\n",
    "z_end = z_start + (volume_shape + 1) // 2\n",
    "\n",
    "print('start, end', z_start, z_end)\n",
    "print('volume shape and target length', volume_shape, z_end-z_start)"
   ]
  },
  {
   "cell_type": "code",
   "execution_count": null,
   "metadata": {},
   "outputs": [],
   "source": []
  },
  {
   "cell_type": "code",
   "execution_count": 7,
   "metadata": {},
   "outputs": [
    {
     "name": "stdout",
     "output_type": "stream",
     "text": [
      "CPU times: user 7 µs, sys: 2 µs, total: 9 µs\n",
      "Wall time: 16.2 µs\n"
     ]
    }
   ],
   "source": [
    "%%time\n",
    "#ng = NumpyToNeuroglancer(atlasV7_volume, [10000, 10000, 20000])\n",
    "#ng.preview()\n",
    "#ng.init_precomputed(OUTPUT_DIR)\n",
    "#ng.add_segment_properties(get_segment_properties())\n",
    "#ng.add_downsampled_volumes()\n",
    "#ng.add_segmentation_mesh()"
   ]
  },
  {
   "cell_type": "code",
   "execution_count": null,
   "metadata": {},
   "outputs": [],
   "source": []
  }
 ],
 "metadata": {
  "kernelspec": {
   "display_name": "Python 3",
   "language": "python",
   "name": "python3"
  },
  "language_info": {
   "codemirror_mode": {
    "name": "ipython",
    "version": 3
   },
   "file_extension": ".py",
   "mimetype": "text/x-python",
   "name": "python",
   "nbconvert_exporter": "python",
   "pygments_lexer": "ipython3",
   "version": "3.8.5"
  }
 },
 "nbformat": 4,
 "nbformat_minor": 4
}
