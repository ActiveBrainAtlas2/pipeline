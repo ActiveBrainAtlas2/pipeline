{
 "cells": [
  {
   "cell_type": "code",
   "execution_count": 1,
   "metadata": {},
   "outputs": [
    {
     "name": "stdout",
     "output_type": "stream",
     "text": [
      "Connecting dklab@192.168.1.12:3306\n"
     ]
    }
   ],
   "source": [
    "%reload_ext autoreload\n",
    "%autoreload 2\n",
    "\n",
    "import os\n",
    "import sys\n",
    "import numpy as np\n",
    "from timeit import default_timer as timer\n",
    "from _collections import OrderedDict\n",
    "import shutil\n",
    "from pprint import pprint\n",
    "start = timer()\n",
    "HOME = os.path.expanduser(\"~\")\n",
    "PATH = os.path.join(HOME, 'programming/pipeline_utility')\n",
    "sys.path.append(PATH)\n",
    "from utilities.file_location import FileLocationManager\n",
    "from utilities.sqlcontroller import SqlController\n",
    "from utilities.utilities_cvat_neuroglancer import get_structure_number, NumpyToNeuroglancer, get_segment_properties\n",
    "from utilities.utilities_affine import align_point_sets, load_atlas_data, estimate_structure_centers\n"
   ]
  },
  {
   "cell_type": "code",
   "execution_count": 2,
   "metadata": {},
   "outputs": [
    {
     "name": "stdout",
     "output_type": "stream",
     "text": [
      "resolution: 0.325\n",
      "width: 65000\n",
      "height: 36000\n",
      "box center: [1056.25  585.    242.5 ]\n"
     ]
    }
   ],
   "source": [
    "animal = 'DK52'\n",
    "fileLocationManager = FileLocationManager(animal)\n",
    "OUTPUT_DIR = os.path.join(fileLocationManager.neuroglancer_data, 'atlas')\n",
    "if os.path.exists(OUTPUT_DIR):\n",
    "    shutil.rmtree(OUTPUT_DIR)\n",
    "os.makedirs(OUTPUT_DIR, exist_ok=True)\n",
    "\n",
    "atlas_data = load_atlas_data()\n",
    "source_centers = estimate_structure_centers(atlas_data, animal)\n",
    "# DK52 structure centers\n",
    "output_centers = {\n",
    "    '12N': [46488, 18778, 242],\n",
    "    '5N_L': [38990, 20019, 172],\n",
    "    '5N_R': [39184, 19027, 315],\n",
    "    '7N_L': [42425, 23190, 166],\n",
    "    '7N_R': [42286, 22901, 291]\n",
    "}\n",
    "structures = sorted(output_centers.keys())\n",
    "source_point_set = np.array([source_centers[s][0] for s in structures]).T\n",
    "# Unify to 1 mum scale in all axes\n",
    "source_scale = np.diagflat([10, 10, 20])\n",
    "source_point_set = source_scale @ source_point_set\n",
    "output_point_set = np.array([output_centers[s] for s in structures]).T\n",
    "\n",
    "# Unify to 1 mum scale in all axes\n",
    "output_scale = np.diagflat([0.325, 0.325, 20])\n",
    "output_point_set = output_scale @ output_point_set\n",
    "\n",
    "r_auto, t_auto = align_point_sets(source_point_set, output_point_set)\n",
    "t_auto_out = (np.linalg.inv(output_scale) @ t_auto).T\n"
   ]
  },
  {
   "cell_type": "code",
   "execution_count": 3,
   "metadata": {},
   "outputs": [
    {
     "name": "stdout",
     "output_type": "stream",
     "text": [
      "resolution: 0.325\n",
      "width: 65000\n",
      "height: 36000\n",
      "Shape of atlas volume (1170, 2112, 485)\n"
     ]
    }
   ],
   "source": [
    "sql_controller = SqlController(animal)\n",
    "thumbnail_dir = os.path.join(fileLocationManager.prep, 'CH1', 'thumbnail_aligned')\n",
    "\n",
    "print(f'resolution: {sql_controller.scan_run.resolution}')\n",
    "print(f'width: {sql_controller.scan_run.width}')\n",
    "print(f'height: {sql_controller.scan_run.height}')\n",
    "box_w = sql_controller.scan_run.width * sql_controller.scan_run.resolution / 10  # 10 mum scale\n",
    "box_h = sql_controller.scan_run.height * sql_controller.scan_run.resolution / 10  # 10 mum scale\n",
    "box_z = len(os.listdir(thumbnail_dir))  # 20 mum scale\n",
    "box_center = np.array([box_w, box_h, box_z]) / 2\n",
    "\n",
    "atlasV7_volume = np.zeros((int(box_h), int(box_w), int(box_z)), dtype=np.uint8)\n",
    "print('Shape of atlas volume', atlasV7_volume.shape)\n"
   ]
  },
  {
   "cell_type": "code",
   "execution_count": 35,
   "metadata": {},
   "outputs": [],
   "source": [
    "pp = list(source_centers.values())\n",
    "x = np.array([(p[0][0],p[0][1],p[0][2]) for p in pp])"
   ]
  },
  {
   "cell_type": "code",
   "execution_count": 40,
   "metadata": {},
   "outputs": [
    {
     "data": {
      "text/plain": [
       "array([[20356.12993158, 15771.88554679,    94.71747143],\n",
       "       [20357.14814198, 15766.17473249,    96.48961898],\n",
       "       [20336.18714094, 15779.2426259 ,    95.56960184],\n",
       "       [19568.09862102, 15636.4310483 ,    95.20048783],\n",
       "       [19568.56827266, 15633.79692347,    96.01789453],\n",
       "       [19586.82998816, 15623.05165524,    94.84644026],\n",
       "       [19587.68903452, 15618.23354081,    96.34157025],\n",
       "       [19806.89767028, 15831.8836056 ,    91.55569064],\n",
       "       [19811.69290405, 15804.98868342,    99.90157059],\n",
       "       [19864.69256106, 15763.32914781,    94.55928973],\n",
       "       [19865.96912444, 15756.16931483,    96.78108856],\n",
       "       [20033.64104165, 15979.78700259,    92.29048936],\n",
       "       [20037.69908056, 15957.02676899,    99.35331617],\n",
       "       [19937.65943248, 15896.60203294,    92.61759421],\n",
       "       [19941.27822106, 15876.305413  ,    98.91592637],\n",
       "       [20250.14909259, 15687.89529991,    95.61164232],\n",
       "       [20134.31558027, 15872.12821025,    91.93610757],\n",
       "       [20138.65721967, 15847.77735283,    99.49252774],\n",
       "       [20063.90231441, 15690.08095935,    89.86958281],\n",
       "       [20070.44667997, 15653.37572016,   101.25974478],\n",
       "       [19834.9264774 , 15424.25560917,    95.38931326],\n",
       "       [19871.04252586, 15683.27889801,    93.0631559 ],\n",
       "       [19873.95432449, 15666.94755703,    98.13100515],\n",
       "       [20371.45731583, 15928.48801659,    92.24799247],\n",
       "       [20375.45529928, 15906.06461475,    99.20629555],\n",
       "       [19634.31020434, 15639.65163101,    89.94558701],\n",
       "       [19640.79299105, 15603.29176776,   101.22857387],\n",
       "       [19678.0827716 , 16066.90215626,    94.03822927],\n",
       "       [19680.28486415, 16054.55132821,    97.87086829],\n",
       "       [19554.21084504, 15756.05999472,    94.02385945],\n",
       "       [19556.14783976, 15745.19601504,    97.3951081 ],\n",
       "       [19826.05044544, 15966.51989206,    95.74538173],\n",
       "       [19702.73015667, 15484.02709965,    95.55170614],\n",
       "       [19484.18779697, 15900.72926531,    92.22225994],\n",
       "       [19488.34245504, 15877.42712598,    99.45324786],\n",
       "       [19585.13130158, 15898.92426752,    91.6077334 ],\n",
       "       [19589.97082618, 15871.7809323 ,   100.03069948],\n",
       "       [20535.29141157, 15851.33680848,    91.9294927 ],\n",
       "       [20539.55064602, 15827.44813389,    99.34249092],\n",
       "       [20307.7320594 , 15833.46713535,    89.7710868 ],\n",
       "       [20314.48671382, 15795.58245366,   101.52724668],\n",
       "       [20215.96282795, 15840.8334247 ,    89.95771609],\n",
       "       [20222.52676415, 15804.01842008,   101.38193984],\n",
       "       [19849.85429121, 16002.6509633 ,    94.37182034],\n",
       "       [19851.58161316, 15992.96297067,    97.37814335],\n",
       "       [19955.40273477, 15825.933839  ,    88.47474109],\n",
       "       [19963.69675901, 15779.4153276 ,   102.91010212],\n",
       "       [20028.54277022, 15812.13640469,    88.83841535],\n",
       "       [20036.39389655, 15768.1019651 ,   102.50293328],\n",
       "       [19773.61355986, 16032.62429155,    91.48538724],\n",
       "       [19778.69088033, 16004.14723592,   100.32222588]])"
      ]
     },
     "execution_count": 40,
     "metadata": {},
     "output_type": "execute_result"
    }
   ],
   "source": [
    "#x_out = inv(output_scale) @ x\n",
    "#x can be replaced by output_point_set_expected_auto or t_auto.\n",
    "\n",
    "x1 = r_auto @ x.T + t_auto\n",
    "x2 = np.linalg.inv(output_scale) @ x1 \n",
    "x2.T"
   ]
  },
  {
   "cell_type": "code",
   "execution_count": 22,
   "metadata": {},
   "outputs": [
    {
     "name": "stdout",
     "output_type": "stream",
     "text": [
      "(3,)\n"
     ]
    },
    {
     "ename": "ValueError",
     "evalue": "matmul: Input operand 1 has a mismatch in its core dimension 0, with gufunc signature (n?,k),(k,m?)->(n?,m?) (size 1 is different from 3)",
     "output_type": "error",
     "traceback": [
      "\u001b[0;31m---------------------------------------------------------------------------\u001b[0m",
      "\u001b[0;31mValueError\u001b[0m                                Traceback (most recent call last)",
      "\u001b[0;32m<ipython-input-22-cf3503f5ad60>\u001b[0m in \u001b[0;36m<module>\u001b[0;34m\u001b[0m\n\u001b[1;32m      3\u001b[0m \u001b[0mprint\u001b[0m\u001b[0;34m(\u001b[0m\u001b[0marr\u001b[0m\u001b[0;34m.\u001b[0m\u001b[0mshape\u001b[0m\u001b[0;34m)\u001b[0m\u001b[0;34m\u001b[0m\u001b[0;34m\u001b[0m\u001b[0m\n\u001b[1;32m      4\u001b[0m \u001b[0mx\u001b[0m \u001b[0;34m=\u001b[0m \u001b[0mr_auto\u001b[0m \u001b[0;34m@\u001b[0m \u001b[0marr\u001b[0m \u001b[0;34m+\u001b[0m \u001b[0mt_auto\u001b[0m\u001b[0;34m.\u001b[0m\u001b[0mT\u001b[0m\u001b[0;34m\u001b[0m\u001b[0;34m\u001b[0m\u001b[0m\n\u001b[0;32m----> 5\u001b[0;31m \u001b[0mxout\u001b[0m \u001b[0;34m=\u001b[0m \u001b[0mnp\u001b[0m\u001b[0;34m.\u001b[0m\u001b[0mlinalg\u001b[0m\u001b[0;34m.\u001b[0m\u001b[0minv\u001b[0m\u001b[0;34m(\u001b[0m\u001b[0moutput_scale\u001b[0m\u001b[0;34m)\u001b[0m \u001b[0;34m@\u001b[0m \u001b[0mx\u001b[0m\u001b[0;34m\u001b[0m\u001b[0;34m\u001b[0m\u001b[0m\n\u001b[0m\u001b[1;32m      6\u001b[0m \u001b[0mxout\u001b[0m\u001b[0;34m.\u001b[0m\u001b[0mT\u001b[0m\u001b[0;34m\u001b[0m\u001b[0;34m\u001b[0m\u001b[0m\n",
      "\u001b[0;31mValueError\u001b[0m: matmul: Input operand 1 has a mismatch in its core dimension 0, with gufunc signature (n?,k),(k,m?)->(n?,m?) (size 1 is different from 3)"
     ]
    }
   ],
   "source": [
    "arr = np.array(list(source_centers.values()))\n",
    "arr = arr[0][0]\n",
    "print(arr.shape)\n",
    "x = r_auto @ arr + t_auto.T\n",
    "xout = np.linalg.inv(output_scale) @ x\n",
    "xout.T"
   ]
  },
  {
   "cell_type": "code",
   "execution_count": 6,
   "metadata": {
    "scrolled": true
   },
   "outputs": [
    {
     "name": "stdout",
     "output_type": "stream",
     "text": [
      "10N_L : [[20356.12993158]\n",
      " [15771.88554679]\n",
      " [   94.71747143]]\n",
      "10N_R : [[20357.14814198]\n",
      " [15766.17473249]\n",
      " [   96.48961898]]\n",
      "12N   : [[20336.18714094]\n",
      " [15779.2426259 ]\n",
      " [   95.56960184]]\n",
      "3N_L  : [[19568.09862102]\n",
      " [15636.4310483 ]\n",
      " [   95.20048783]]\n",
      "3N_R  : [[19568.56827266]\n",
      " [15633.79692347]\n",
      " [   96.01789453]]\n",
      "4N_L  : [[19586.82998816]\n",
      " [15623.05165524]\n",
      " [   94.84644026]]\n",
      "4N_R  : [[19587.68903452]\n",
      " [15618.23354081]\n",
      " [   96.34157025]]\n",
      "5N_L  : [[19806.89767028]\n",
      " [15831.8836056 ]\n",
      " [   91.55569064]]\n",
      "5N_R  : [[19811.69290405]\n",
      " [15804.98868342]\n",
      " [   99.90157059]]\n",
      "6N_L  : [[19864.69256106]\n",
      " [15763.32914781]\n",
      " [   94.55928973]]\n",
      "6N_R  : [[19865.96912444]\n",
      " [15756.16931483]\n",
      " [   96.78108856]]\n",
      "7N_L  : [[20033.64104165]\n",
      " [15979.78700259]\n",
      " [   92.29048936]]\n",
      "7N_R  : [[20037.69908056]\n",
      " [15957.02676899]\n",
      " [   99.35331617]]\n",
      "7n_L  : [[19937.65943248]\n",
      " [15896.60203294]\n",
      " [   92.61759421]]\n",
      "7n_R  : [[19941.27822106]\n",
      " [15876.305413  ]\n",
      " [   98.91592637]]\n",
      "AP    : [[20250.14909259]\n",
      " [15687.89529991]\n",
      " [   95.61164232]]\n",
      "Amb_L : [[20134.31558027]\n",
      " [15872.12821025]\n",
      " [   91.93610757]]\n",
      "Amb_R : [[20138.65721967]\n",
      " [15847.77735283]\n",
      " [   99.49252774]]\n",
      "DC_L  : [[20063.90231441]\n",
      " [15690.08095935]\n",
      " [   89.86958281]]\n",
      "DC_R  : [[20070.44667997]\n",
      " [15653.37572016]\n",
      " [  101.25974478]]\n",
      "IC    : [[19834.9264774 ]\n",
      " [15424.25560917]\n",
      " [   95.38931326]]\n",
      "LC_L  : [[19871.04252586]\n",
      " [15683.27889801]\n",
      " [   93.0631559 ]]\n",
      "LC_R  : [[19873.95432449]\n",
      " [15666.94755703]\n",
      " [   98.13100515]]\n",
      "LRt_L : [[20371.45731583]\n",
      " [15928.48801659]\n",
      " [   92.24799247]]\n",
      "LRt_R : [[20375.45529928]\n",
      " [15906.06461475]\n",
      " [   99.20629555]]\n",
      "PBG_L : [[19634.31020434]\n",
      " [15639.65163101]\n",
      " [   89.94558701]]\n",
      "PBG_R : [[19640.79299105]\n",
      " [15603.29176776]\n",
      " [  101.22857387]]\n",
      "Pn_L  : [[19678.0827716 ]\n",
      " [16066.90215626]\n",
      " [   94.03822927]]\n",
      "Pn_R  : [[19680.28486415]\n",
      " [16054.55132821]\n",
      " [   97.87086829]]\n",
      "RMC_L : [[19554.21084504]\n",
      " [15756.05999472]\n",
      " [   94.02385945]]\n",
      "RMC_R : [[19556.14783976]\n",
      " [15745.19601504]\n",
      " [   97.3951081 ]]\n",
      "RtTg  : [[19826.05044544]\n",
      " [15966.51989206]\n",
      " [   95.74538173]]\n",
      "SC    : [[19702.73015667]\n",
      " [15484.02709965]\n",
      " [   95.55170614]]\n",
      "SNC_L : [[19484.18779697]\n",
      " [15900.72926531]\n",
      " [   92.22225994]]\n",
      "SNC_R : [[19488.34245504]\n",
      " [15877.42712598]\n",
      " [   99.45324786]]\n",
      "SNR_L : [[19585.13130158]\n",
      " [15898.92426752]\n",
      " [   91.6077334 ]]\n",
      "SNR_R : [[19589.97082618]\n",
      " [15871.7809323 ]\n",
      " [  100.03069948]]\n",
      "Sp5C_L: [[20535.29141157]\n",
      " [15851.33680848]\n",
      " [   91.9294927 ]]\n",
      "Sp5C_R: [[20539.55064602]\n",
      " [15827.44813389]\n",
      " [   99.34249092]]\n",
      "Sp5I_L: [[20307.7320594 ]\n",
      " [15833.46713535]\n",
      " [   89.7710868 ]]\n",
      "Sp5I_R: [[20314.48671382]\n",
      " [15795.58245366]\n",
      " [  101.52724668]]\n",
      "Sp5O_L: [[20215.96282795]\n",
      " [15840.8334247 ]\n",
      " [   89.95771609]]\n",
      "Sp5O_R: [[20222.52676415]\n",
      " [15804.01842008]\n",
      " [  101.38193984]]\n",
      "Tz_L  : [[19849.85429121]\n",
      " [16002.6509633 ]\n",
      " [   94.37182034]]\n",
      "Tz_R  : [[19851.58161316]\n",
      " [15992.96297067]\n",
      " [   97.37814335]]\n",
      "VCA_L : [[19955.40273477]\n",
      " [15825.933839  ]\n",
      " [   88.47474109]]\n",
      "VCA_R : [[19963.69675901]\n",
      " [15779.4153276 ]\n",
      " [  102.91010212]]\n",
      "VCP_L : [[20028.54277022]\n",
      " [15812.13640469]\n",
      " [   88.83841535]]\n",
      "VCP_R : [[20036.39389655]\n",
      " [15768.1019651 ]\n",
      " [  102.50293328]]\n",
      "VLL_L : [[19773.61355986]\n",
      " [16032.62429155]\n",
      " [   91.48538724]]\n",
      "VLL_R : [[19778.69088033]\n",
      " [16004.14723592]\n",
      " [  100.32222588]]\n"
     ]
    }
   ],
   "source": [
    "for structure, (source_point, volume) in sorted(source_centers.items()):\n",
    "    print(str(structure).ljust(6),end=\": \")\n",
    "    results = r_auto @ source_point + t_auto.T\n",
    "    results = np.linalg.inv(output_scale) @ results.T\n",
    "    print(results)\n",
    "    continue\n",
    "    x = results[0][0]\n",
    "    y = results[0][1]\n",
    "    z = results[0][1]\n",
    "    print(x,y,z)\n"
   ]
  },
  {
   "cell_type": "code",
   "execution_count": 41,
   "metadata": {},
   "outputs": [
    {
     "data": {
      "text/plain": [
       "119.0"
      ]
     },
     "execution_count": 41,
     "metadata": {},
     "output_type": "execute_result"
    }
   ],
   "source": [
    "z_length = 486\n",
    "volume_shape = 337\n",
    "SC_start = 127\n",
    "SC_end = 311\n",
    "midz = 238\n",
    "z_origin = -185\n",
    "midz - midz/2"
   ]
  },
  {
   "cell_type": "code",
   "execution_count": 44,
   "metadata": {},
   "outputs": [
    {
     "name": "stdout",
     "output_type": "stream",
     "text": [
      "end - start= 184\n",
      "half of volume= 168.5\n",
      "find this= 111\n",
      "start, end 153.75 322.75\n",
      "volume shape and target length 337 169.0\n"
     ]
    }
   ],
   "source": [
    "print('end - start=',SC_end - SC_start)\n",
    "print('half of volume=',volume_shape/2)\n",
    "print('find this=', midz - SC_start )\n",
    "z_start = midz - 337/4\n",
    "z_end = z_start + (volume_shape + 1) // 2\n",
    "\n",
    "print('start, end', z_start, z_end)\n",
    "print('volume shape and target length', volume_shape, z_end-z_start)"
   ]
  },
  {
   "cell_type": "code",
   "execution_count": 9,
   "metadata": {},
   "outputs": [
    {
     "name": "stdout",
     "output_type": "stream",
     "text": [
      "CPU times: user 8 µs, sys: 2 µs, total: 10 µs\n",
      "Wall time: 17.2 µs\n"
     ]
    }
   ],
   "source": [
    "%%time\n",
    "#ng = NumpyToNeuroglancer(atlasV7_volume, [10000, 10000, 20000])\n",
    "#ng.preview()\n",
    "#ng.init_precomputed(OUTPUT_DIR)\n",
    "#ng.add_segment_properties(get_segment_properties())\n",
    "#ng.add_downsampled_volumes()\n",
    "#ng.add_segmentation_mesh()"
   ]
  },
  {
   "cell_type": "code",
   "execution_count": null,
   "metadata": {},
   "outputs": [],
   "source": []
  }
 ],
 "metadata": {
  "kernelspec": {
   "display_name": "Python 3",
   "language": "python",
   "name": "python3"
  },
  "language_info": {
   "codemirror_mode": {
    "name": "ipython",
    "version": 3
   },
   "file_extension": ".py",
   "mimetype": "text/x-python",
   "name": "python",
   "nbconvert_exporter": "python",
   "pygments_lexer": "ipython3",
   "version": "3.8.5"
  }
 },
 "nbformat": 4,
 "nbformat_minor": 4
}
