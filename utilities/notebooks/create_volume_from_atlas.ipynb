{
 "cells": [
  {
   "cell_type": "code",
   "execution_count": 5,
   "metadata": {},
   "outputs": [],
   "source": [
    "%reload_ext autoreload\n",
    "%autoreload 2\n",
    "\n",
    "import os\n",
    "import sys\n",
    "import numpy as np\n",
    "from timeit import default_timer as timer\n",
    "from _collections import OrderedDict\n",
    "import shutil\n",
    "from pprint import pprint\n",
    "start = timer()\n",
    "HOME = os.path.expanduser(\"~\")\n",
    "PATH = os.path.join(HOME, 'programming/pipeline_utility')\n",
    "sys.path.append(PATH)\n",
    "from utilities.file_location import FileLocationManager\n",
    "from utilities.sqlcontroller import SqlController\n",
    "from utilities.utilities_cvat_neuroglancer import get_structure_number, NumpyToNeuroglancer, get_segment_properties\n",
    "from utilities.utilities_affine import align_point_sets, align_atlas, DK52_centers\n"
   ]
  },
  {
   "cell_type": "code",
   "execution_count": 2,
   "metadata": {},
   "outputs": [],
   "source": [
    "animal = 'DK52'\n",
    "fileLocationManager = FileLocationManager(animal)\n",
    "OUTPUT_DIR = os.path.join(fileLocationManager.neuroglancer_data, 'atlas')"
   ]
  },
  {
   "cell_type": "code",
   "execution_count": 3,
   "metadata": {},
   "outputs": [
    {
     "name": "stdout",
     "output_type": "stream",
     "text": [
      "resolution: 0.325\n",
      "width: 65000\n",
      "height: 36000\n",
      "Shape of atlas volume (1170, 2112, 486)\n"
     ]
    }
   ],
   "source": [
    "sql_controller = SqlController(animal)\n",
    "thumbnail_dir = os.path.join(fileLocationManager.prep, 'CH1', 'thumbnail_aligned')\n",
    "\n",
    "print(f'resolution: {sql_controller.scan_run.resolution}')\n",
    "print(f'width: {sql_controller.scan_run.width}')\n",
    "print(f'height: {sql_controller.scan_run.height}')\n",
    "box_w = sql_controller.scan_run.width * sql_controller.scan_run.resolution / 10  # 10 mum scale\n",
    "box_h = sql_controller.scan_run.height * sql_controller.scan_run.resolution / 10  # 10 mum scale\n",
    "box_z = len(os.listdir(thumbnail_dir))  # 20 mum scale\n",
    "box_center = np.array([box_w, box_h, box_z]) / 2\n",
    "\n",
    "atlasV7_volume = np.zeros((int(box_h), int(box_w), int(box_z)), dtype=np.uint8)\n",
    "print('Shape of atlas volume', atlasV7_volume.shape)\n"
   ]
  },
  {
   "cell_type": "code",
   "execution_count": 10,
   "metadata": {},
   "outputs": [
    {
     "name": "stdout",
     "output_type": "stream",
     "text": [
      "Please type the following numbers into neuroglancer to align the atlas structures.\n",
      "\n",
      "Rotation:\n",
      "[[ 0.99539957  0.36001948  0.01398446]\n",
      " [-0.35951649  0.99520404 -0.03076857]\n",
      " [-0.02361111  0.02418234  1.05805842]]\n",
      "\n",
      "Translation:\n",
      "[[ 1135.64220169]\n",
      " [13549.03252152]\n",
      " [  -14.68028224]]\n"
     ]
    },
    {
     "data": {
      "text/plain": [
       "(array([[ 0.99539957,  0.36001948,  0.01398446],\n",
       "        [-0.35951649,  0.99520404, -0.03076857],\n",
       "        [-0.02361111,  0.02418234,  1.05805842]]),\n",
       " array([[ 369.08371555],\n",
       "        [4403.43556949],\n",
       "        [-293.60564487]]))"
      ]
     },
     "execution_count": 10,
     "metadata": {},
     "output_type": "execute_result"
    }
   ],
   "source": [
    "align_atlas(DK52_centers, atlas_box_size=(2112, 1170, 486))"
   ]
  },
  {
   "cell_type": "code",
   "execution_count": null,
   "metadata": {},
   "outputs": [],
   "source": [
    "pp = list(source_centers.values())\n",
    "x = np.array([(p[0][0],p[0][1],p[0][2]) for p in pp])"
   ]
  }
 ],
 "metadata": {
  "kernelspec": {
   "display_name": "Python 3",
   "language": "python",
   "name": "python3"
  },
  "language_info": {
   "codemirror_mode": {
    "name": "ipython",
    "version": 3
   },
   "file_extension": ".py",
   "mimetype": "text/x-python",
   "name": "python",
   "nbconvert_exporter": "python",
   "pygments_lexer": "ipython3",
   "version": "3.8.5"
  }
 },
 "nbformat": 4,
 "nbformat_minor": 4
}
