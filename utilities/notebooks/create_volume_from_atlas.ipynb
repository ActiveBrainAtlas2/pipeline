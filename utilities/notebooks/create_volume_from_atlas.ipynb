{
 "cells": [
  {
   "cell_type": "code",
   "execution_count": null,
   "metadata": {},
   "outputs": [],
   "source": [
    "%reload_ext autoreload\n",
    "%autoreload 2\n",
    "\n",
    "import os\n",
    "import sys\n",
    "import numpy as np\n",
    "from timeit import default_timer as timer\n",
    "from _collections import OrderedDict\n",
    "import shutil\n",
    "from pprint import pprint\n",
    "start = timer()\n",
    "HOME = os.path.expanduser(\"~\")\n",
    "PATH = os.path.join(HOME, 'programming/pipeline_utility')\n",
    "sys.path.append(PATH)\n",
    "from utilities.file_location import FileLocationManager\n",
    "from utilities.sqlcontroller import SqlController\n",
    "from utilities.utilities_cvat_neuroglancer import get_structure_number, NumpyToNeuroglancer, get_segment_properties\n",
    "from utilities.utilities_affine import align_point_sets, align_atlas, DK52_centers, MD589_centers\n"
   ]
  },
  {
   "cell_type": "code",
   "execution_count": null,
   "metadata": {},
   "outputs": [],
   "source": [
    "animal = 'DK52'\n",
    "fileLocationManager = FileLocationManager(animal)\n",
    "OUTPUT_DIR = os.path.join(fileLocationManager.neuroglancer_data, 'atlas')"
   ]
  },
  {
   "cell_type": "code",
   "execution_count": null,
   "metadata": {},
   "outputs": [],
   "source": [
    "sql_controller = SqlController(animal)\n",
    "thumbnail_dir = os.path.join(fileLocationManager.prep, 'CH1', 'thumbnail_aligned')\n",
    "\n",
    "print(f'resolution: {sql_controller.scan_run.resolution}')\n",
    "print(f'width: {sql_controller.scan_run.width}')\n",
    "print(f'height: {sql_controller.scan_run.height}')\n",
    "box_w = sql_controller.scan_run.width * sql_controller.scan_run.resolution / 10  # 10 mum scale\n",
    "box_h = sql_controller.scan_run.height * sql_controller.scan_run.resolution / 10  # 10 mum scale\n",
    "box_z = len(os.listdir(thumbnail_dir))  # 20 mum scale\n",
    "box_center = np.array([box_w, box_h, box_z]) / 2\n",
    "\n",
    "atlasV7_volume = np.zeros((int(box_h), int(box_w), int(box_z)), dtype=np.uint8)\n",
    "print('Shape of atlas volume', atlasV7_volume.shape)\n"
   ]
  },
  {
   "cell_type": "code",
   "execution_count": null,
   "metadata": {},
   "outputs": [],
   "source": [
    "len(MD589_centers)"
   ]
  },
  {
   "cell_type": "code",
   "execution_count": null,
   "metadata": {},
   "outputs": [],
   "source": [
    "sql_controller.get_centers_dict('Atlas')"
   ]
  },
  {
   "cell_type": "code",
   "execution_count": null,
   "metadata": {},
   "outputs": [],
   "source": [
    "align_atlas(DK52_centers, atlas_box_size=(2112, 1170, 486))"
   ]
  },
  {
   "cell_type": "code",
   "execution_count": null,
   "metadata": {},
   "outputs": [],
   "source": [
    "pp = list(source_centers.values())\n",
    "x = np.array([(p[0][0],p[0][1],p[0][2]) for p in pp])"
   ]
  }
 ],
 "metadata": {
  "kernelspec": {
   "display_name": "Python 3",
   "language": "python",
   "name": "python3"
  },
  "language_info": {
   "codemirror_mode": {
    "name": "ipython",
    "version": 3
   },
   "file_extension": ".py",
   "mimetype": "text/x-python",
   "name": "python",
   "nbconvert_exporter": "python",
   "pygments_lexer": "ipython3",
   "version": "3.8.5"
  }
 },
 "nbformat": 4,
 "nbformat_minor": 4
}
