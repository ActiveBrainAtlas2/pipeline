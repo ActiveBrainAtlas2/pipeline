{
 "cells": [
  {
   "cell_type": "code",
   "execution_count": 1,
   "metadata": {},
   "outputs": [
    {
     "name": "stdout",
     "output_type": "stream",
     "text": [
      "Connecting dklab@192.168.1.12:3306\n"
     ]
    }
   ],
   "source": [
    "%reload_ext autoreload\n",
    "%autoreload 2\n",
    "\n",
    "import os\n",
    "import sys\n",
    "import numpy as np\n",
    "from timeit import default_timer as timer\n",
    "from _collections import OrderedDict\n",
    "import shutil\n",
    "from pprint import pprint\n",
    "start = timer()\n",
    "HOME = os.path.expanduser(\"~\")\n",
    "PATH = os.path.join(HOME, 'programming/pipeline_utility')\n",
    "sys.path.append(PATH)\n",
    "from utilities.file_location import FileLocationManager\n",
    "from utilities.sqlcontroller import SqlController\n",
    "from utilities.utilities_cvat_neuroglancer import get_structure_number, NumpyToNeuroglancer, get_segment_properties\n",
    "from utilities.utilities_affine import align_point_sets, align_atlas, DK52_centers"
   ]
  },
  {
   "cell_type": "code",
   "execution_count": 2,
   "metadata": {},
   "outputs": [],
   "source": [
    "animal = 'MD589'\n",
    "fileLocationManager = FileLocationManager(animal)\n",
    "OUTPUT_DIR = os.path.join(fileLocationManager.neuroglancer_data, 'atlas')"
   ]
  },
  {
   "cell_type": "code",
   "execution_count": 3,
   "metadata": {},
   "outputs": [
    {
     "name": "stdout",
     "output_type": "stream",
     "text": [
      "resolution: 0.452\n",
      "width: 43700\n",
      "height: 32400\n",
      "Shape of atlas volume (1464, 1975, 447)\n"
     ]
    }
   ],
   "source": [
    "sql_controller = SqlController(animal)\n",
    "thumbnail_dir = os.path.join(fileLocationManager.prep, 'CH1', 'thumbnail_aligned')\n",
    "\n",
    "print(f'resolution: {sql_controller.scan_run.resolution}')\n",
    "print(f'width: {sql_controller.scan_run.width}')\n",
    "print(f'height: {sql_controller.scan_run.height}')\n",
    "box_w = sql_controller.scan_run.width * sql_controller.scan_run.resolution / 10  # 10 mum scale\n",
    "box_h = sql_controller.scan_run.height * sql_controller.scan_run.resolution / 10  # 10 mum scale\n",
    "box_z = len(os.listdir(thumbnail_dir))  # 20 mum scale\n",
    "box_center = np.array([box_w, box_h, box_z]) / 2\n",
    "\n",
    "atlasV7_volume = np.zeros((int(box_h), int(box_w), int(box_z)), dtype=np.uint8)\n",
    "print('Shape of atlas volume', atlasV7_volume.shape)\n"
   ]
  },
  {
   "cell_type": "code",
   "execution_count": 4,
   "metadata": {},
   "outputs": [],
   "source": [
    "reference_centers = sql_controller.get_centers_dict(animal)"
   ]
  },
  {
   "cell_type": "code",
   "execution_count": 5,
   "metadata": {},
   "outputs": [
    {
     "data": {
      "text/plain": [
       "{'10N_L': [31002.1, 17139.3, 210.0],\n",
       " '10N_R': [30851.8, 17026.3, 242.0],\n",
       " '4N_L': [25238.4, 13606.0, 210.0],\n",
       " '4N_R': [25231.8, 13572.2, 236.0],\n",
       " '5N_L': [25863.9, 16448.5, 160.0],\n",
       " '5N_R': [25617.9, 16089.0, 298.0],\n",
       " '7N_L': [27315.2, 18976.5, 174.0],\n",
       " '7N_R': [27227.1, 18547.7, 296.0],\n",
       " '7n_L': [26920.5, 16996.3, 177.0],\n",
       " '7n_R': [26803.3, 16688.2, 284.0],\n",
       " 'Amb_L': [29043.0, 18890.2, 167.0],\n",
       " 'Amb_R': [28901.5, 18291.1, 296.0],\n",
       " 'DC_L': [28764.5, 15560.1, 134.0],\n",
       " 'DC_R': [28519.2, 14960.1, 330.0],\n",
       " 'LC_L': [26993.8, 15147.0, 180.0],\n",
       " 'LC_R': [26951.6, 14929.4, 268.0],\n",
       " 'Pn_L': [23019.2, 17948.5, 200.0],\n",
       " 'Pn_R': [23067.2, 17945.9, 270.0],\n",
       " 'SC': [24976.4, 10136.9, 220.0],\n",
       " 'Tz_L': [25210.3, 18857.2, 212.0],\n",
       " 'Tz_R': [25142.5, 18757.5, 262.0]}"
      ]
     },
     "execution_count": 5,
     "metadata": {},
     "output_type": "execute_result"
    }
   ],
   "source": [
    "reference_centers"
   ]
  },
  {
   "cell_type": "code",
   "execution_count": 6,
   "metadata": {},
   "outputs": [
    {
     "name": "stdout",
     "output_type": "stream",
     "text": [
      "No histology for Atlas\n",
      "No scan run for Atlas\n",
      "Please type the following numbers into neuroglancer to align the atlas structures.\n",
      "\n",
      "Rotation:\n",
      "[[ 0.99539937  0.36001946  0.01398442]\n",
      " [-0.35951647  0.99520383 -0.03076871]\n",
      " [-0.02361112  0.02418248  1.05805822]]\n",
      "\n",
      "Translation:\n",
      "[[19186.25959077]\n",
      " [ 9825.29346238]\n",
      " [   78.18300782]]\n",
      "CPU times: user 122 ms, sys: 173 µs, total: 122 ms\n",
      "Wall time: 186 ms\n"
     ]
    },
    {
     "data": {
      "text/plain": [
       "(array([[ 0.99539937,  0.36001946,  0.01398442],\n",
       "        [-0.35951647,  0.99520383, -0.03076871],\n",
       "        [-0.02361112,  0.02418248,  1.05805822]]),\n",
       " array([[19186.25959077],\n",
       "        [ 9825.29346238],\n",
       "        [   78.18300782]]))"
      ]
     },
     "execution_count": 6,
     "metadata": {},
     "output_type": "execute_result"
    }
   ],
   "source": [
    "%%time\n",
    "reference_centers = sql_controller.get_centers_dict('DK52')\n",
    "atlas_box_size=(2010,1490,  447)\n",
    "align_atlas(reference_centers)\n",
    "#sql_controller.get_centers_dict('Atlas')"
   ]
  },
  {
   "cell_type": "code",
   "execution_count": 10,
   "metadata": {},
   "outputs": [],
   "source": [
    "def get_db_structure_infos():\n",
    "    sqlController = SqlController('MD589')\n",
    "    db_structures = sqlController.get_structures_dict()\n",
    "    return db_structures\n",
    "\n",
    "def get_known_foundation_structure_names():\n",
    "    known_foundation_structures = ['MVePC', 'DTgP', 'VTA', 'Li', 'Op', 'Sp5C', 'RPC', 'MVeMC', 'APT', 'IPR',\n",
    "                                   'Cb', 'pc', 'Amb', 'SolIM', 'Pr5VL', 'IPC', '8n', 'MPB', 'Pr5', 'SNR',\n",
    "                                   'DRD', 'PBG', '10N', 'VTg', 'R', 'IF', 'RR', 'LDTg', '5TT', 'Bar',\n",
    "                                   'Tz', 'IO', 'Cu', 'SuVe', '12N', '6N', 'PTg', 'Sp5I', 'SNC', 'MnR',\n",
    "                                   'RtTg', 'Gr', 'ECu', 'DTgC', '4N', 'IPA', '3N', '7N', 'LC', '7n',\n",
    "                                   'SC', 'LPB', 'EW', 'Pr5DM', 'VCA', '5N', 'Dk', 'DTg', 'LVe', 'SpVe',\n",
    "                                   'MVe', 'LSO', 'InC', 'IC', 'Sp5O', 'DC', 'Pn', 'LRt', 'RMC', 'PF',\n",
    "                                   'VCP', 'CnF', 'Sol', 'IPL', 'X', 'AP', 'MiTg', 'DRI', 'RPF', 'VLL']\n",
    "    return known_foundation_structures"
   ]
  },
  {
   "cell_type": "code",
   "execution_count": 12,
   "metadata": {},
   "outputs": [],
   "source": [
    "db_structure_infos = get_db_structure_infos()\n",
    "known_foundation_structure_names = get_known_foundation_structure_names()\n",
    "non_db_structure_names = [structure for structure in known_foundation_structure_names if structure not in db_structure_infos.keys()]\n"
   ]
  },
  {
   "cell_type": "code",
   "execution_count": 17,
   "metadata": {},
   "outputs": [
    {
     "data": {
      "text/plain": [
       "[(1, '10N_L: Dorsal nucleus of vagus nerve'),\n",
       " (1, '10N_R: Dorsal nucleus of vagus nerve'),\n",
       " (2, '12N: Hypoglossal nucleus'),\n",
       " (3, '3N_L: Oculomotor nucleus'),\n",
       " (3, '3N_R: Oculomotor nucleus'),\n",
       " (4, '4N_L: Trochlear nucleus'),\n",
       " (4, '4N_R: Trochlear nucleus'),\n",
       " (5, '5N_L: Trigeminal motor nucleus'),\n",
       " (5, '5N_R: Trigeminal motor nucleus'),\n",
       " (6, '6N_L: Abducens nucleus'),\n",
       " (6, '6N_R: Abducens nucleus'),\n",
       " (7, '7N_L: Facial nucleus'),\n",
       " (7, '7N_R: Facial nucleus'),\n",
       " (9, '7n_L: Facial nerve'),\n",
       " (9, '7n_R: Facial nerve'),\n",
       " (28, 'AP: Area postrema'),\n",
       " (8, 'Amb_L: Nucleus ambiggus'),\n",
       " (8, 'Amb_R: Nucleus ambiggus'),\n",
       " (10, 'DC_L: Dorsal cochlea nucleus'),\n",
       " (10, 'DC_R: Dorsal cochlea nucleus'),\n",
       " (11, 'IC: Inferior colliculus'),\n",
       " (12, 'LC_L: Locus corelus'),\n",
       " (12, 'LC_R: Locus corelus'),\n",
       " (13, 'LRt_L: Lateral reticular nucleus'),\n",
       " (13, 'LRt_R: Lateral reticular nucleus'),\n",
       " (14, 'PBG_L: Parabigeminal nucleus'),\n",
       " (14, 'PBG_R: Parabigeminal nucleus'),\n",
       " (15, 'Pn_L: Pontine grey'),\n",
       " (15, 'Pn_R: Pontine grey'),\n",
       " (16, 'R: Red nucleus'),\n",
       " (17, 'RtTg: Reticulotegmental nucleus'),\n",
       " (18, 'SC: Superior colliculus'),\n",
       " (19, 'SNC_L: Substantia niagra, compact'),\n",
       " (19, 'SNC_R: Substantia niagra, compact'),\n",
       " (20, 'SNR_L: Substantia niagra, reticular'),\n",
       " (20, 'SNR_R: Substantia niagra, reticular'),\n",
       " (21, 'Sp5C_L: Spinal-trigeminal nucleus, caudalis'),\n",
       " (21, 'Sp5C_R: Spinal-trigeminal nucleus, caudalis'),\n",
       " (22, 'Sp5I_L: Spinal-trigeminal nucleus, interpolaris'),\n",
       " (22, 'Sp5I_R: Spinal-trigeminal nucleus, interpolaris'),\n",
       " (23, 'Sp5O_L: Spinal-trigeminal nucleus, oralis'),\n",
       " (23, 'Sp5O_R: Spinal-trigeminal nucleus, oralis'),\n",
       " (24, 'Tz_L: Nucleus of trapezoidal body'),\n",
       " (24, 'Tz_R: Nucleus of trapezoidal body'),\n",
       " (25, 'VCA_L: Ventral cochlea nucleus, anterior'),\n",
       " (25, 'VCA_R: Ventral cochlea nucleus, anterior'),\n",
       " (26, 'VCP_L: Ventral cochlea nucleus, posterior'),\n",
       " (26, 'VCP_R: Ventral cochlea nucleus, posterior'),\n",
       " (27, 'VLL_L: Ventral lateral lemniscus'),\n",
       " (27, 'VLL_R: Ventral lateral lemniscus')]"
      ]
     },
     "execution_count": 17,
     "metadata": {},
     "output_type": "execute_result"
    }
   ],
   "source": [
    "[(number, f'{structure}: {label}') for structure, (label, number) in db_structure_infos.items()]"
   ]
  },
  {
   "cell_type": "code",
   "execution_count": null,
   "metadata": {},
   "outputs": [],
   "source": [
    "segment_properties = [(number, f'{structure}: {label}') for structure, (label, number, sided) in db_structure_infos.items()]\n",
    "if all_known:\n",
    "    segment_properties += [(len(db_structure_infos) + index + 1, structure) for index, structure in enumerate(non_db_structure_names)]\n"
   ]
  }
 ],
 "metadata": {
  "kernelspec": {
   "display_name": "Python 3",
   "language": "python",
   "name": "python3"
  },
  "language_info": {
   "codemirror_mode": {
    "name": "ipython",
    "version": 3
   },
   "file_extension": ".py",
   "mimetype": "text/x-python",
   "name": "python",
   "nbconvert_exporter": "python",
   "pygments_lexer": "ipython3",
   "version": "3.8.5"
  }
 },
 "nbformat": 4,
 "nbformat_minor": 4
}
