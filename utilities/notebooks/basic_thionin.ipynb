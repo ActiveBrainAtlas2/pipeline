{
 "cells": [
  {
   "cell_type": "code",
   "execution_count": 1,
   "metadata": {},
   "outputs": [],
   "source": [
    "import numpy as np\n",
    "import matplotlib\n",
    "from matplotlib import pyplot as plt\n",
    "from skimage import io\n",
    "from os.path import expanduser\n",
    "from tqdm import tqdm\n",
    "HOME = expanduser(\"~\")\n",
    "import os\n",
    "import cv2\n",
    "import skimage.exposure"
   ]
  },
  {
   "cell_type": "code",
   "execution_count": 2,
   "metadata": {},
   "outputs": [],
   "source": [
    "#DIR = os.path.join(HOME, 'programming', 'dk39')\n",
    "DIR = '/net/birdstore/Active_Atlas_Data/data_root/pipeline_data/MD589'\n",
    "INPUT = os.path.join(DIR, 'preps', 'CH1', 'thumbnail')\n",
    "OUTPUT = os.path.join(DIR, 'preps', 'CH1', 'cleaned')\n",
    "files = sorted(os.listdir(INPUT))"
   ]
  },
  {
   "cell_type": "code",
   "execution_count": 3,
   "metadata": {},
   "outputs": [],
   "source": [
    "# convert to hsv\n",
    "def flood(img, colors):\n",
    "    # convert to hsv\n",
    "    hsv = cv2.cvtColor(img,cv2.COLOR_BGR2HSV)\n",
    "\n",
    "    # threshold using inRange\n",
    "    if sum(colors) > 100:\n",
    "        range1 = (80,80,80)\n",
    "        range2 = (93,93,93)\n",
    "    else:\n",
    "        range1 = (0,0,0)\n",
    "        range2 = (3,3,3)\n",
    "        \n",
    "    mask = cv2.inRange(hsv,range1,range2)\n",
    "    mask = 255 - mask\n",
    "\n",
    "    # apply morphology opening to mask\n",
    "    kernel = np.ones((3,3), np.uint8)\n",
    "    mask = cv2.morphologyEx(mask, cv2.MORPH_ERODE, kernel)\n",
    "    mask = cv2.morphologyEx(mask, cv2.MORPH_CLOSE, kernel)\n",
    "\n",
    "    # antialias mask\n",
    "    mask = cv2.GaussianBlur(mask, (0,0), sigmaX=3, sigmaY=3, borderType = cv2.BORDER_DEFAULT)\n",
    "    mask = skimage.exposure.rescale_intensity(mask, in_range=(127.5,255), out_range=(0,255))\n",
    "\n",
    "    result = img.copy()\n",
    "    result[mask==0] = colors\n",
    "    return result\n",
    "\n",
    "def place_image(img, max_width, max_height):\n",
    "    zmidr = max_height // 2\n",
    "    zmidc = max_width // 2\n",
    "    startr = zmidr - (img.shape[0] // 2)\n",
    "    endr = startr + img.shape[0]\n",
    "    startc = zmidc - (img.shape[1] // 2)\n",
    "    endc = startc + img.shape[1]\n",
    "    new_img = np.ones([max_height, max_width]) * 240\n",
    "    \n",
    "    try:\n",
    "        new_img[startr:endr,startc:endc] = img\n",
    "    except:\n",
    "        print('could not create new img', file, img.shape)\n",
    "        \n",
    "    return new_img.astype('uint8')"
   ]
  },
  {
   "cell_type": "code",
   "execution_count": 4,
   "metadata": {},
   "outputs": [],
   "source": [
    "max_width = 1050\n",
    "max_height = 1750\n",
    "#max_width = 50100\n",
    "#max_height = 34000\n",
    "#1048x1738\n",
    "#988x1624\n",
    "#709x594\n",
    "max_width = 1400\n",
    "max_height = 900\n",
    "#1038x747"
   ]
  },
  {
   "cell_type": "code",
   "execution_count": 5,
   "metadata": {},
   "outputs": [
    {
     "name": "stdout",
     "output_type": "stream",
     "text": [
      "1400 900 225\n"
     ]
    }
   ],
   "source": [
    "print(max_width, max_height, len(files))"
   ]
  },
  {
   "cell_type": "code",
   "execution_count": 6,
   "metadata": {},
   "outputs": [],
   "source": [
    "dels = os.listdir(OUTPUT)\n",
    "for d in dels:\n",
    "    os.unlink(os.path.join(OUTPUT, d))"
   ]
  },
  {
   "cell_type": "code",
   "execution_count": 7,
   "metadata": {},
   "outputs": [
    {
     "name": "stderr",
     "output_type": "stream",
     "text": [
      "100%|██████████| 225/225 [00:03<00:00, 59.84it/s]"
     ]
    },
    {
     "name": "stdout",
     "output_type": "stream",
     "text": [
      "Finished\n"
     ]
    },
    {
     "name": "stderr",
     "output_type": "stream",
     "text": [
      "\n"
     ]
    }
   ],
   "source": [
    "# get oriented for comparison\n",
    "img_inputs = []\n",
    "img_outputs = []\n",
    "file_inputs = []\n",
    "titles = []\n",
    "for i, file in enumerate(tqdm(files)):\n",
    "    infile = os.path.join(INPUT, file)\n",
    "    src = cv2.imread(infile, cv2.IMREAD_GRAYSCALE)\n",
    "    #print(src.shape)\n",
    "    #img_inputs.append(src)\n",
    "    #file_inputs.append(file)    \n",
    "    #src = flood(src, (255,255,255))\n",
    "    #src = flood(src, (0,0,0))\n",
    "    #img_outputs.append(src)\n",
    "    src = place_image(src, max_width, max_height)\n",
    "    outpath = os.path.join(OUTPUT, file)    \n",
    "    cv2.imwrite(outpath, src.astype('uint8'))\n",
    "print('Finished')"
   ]
  },
  {
   "cell_type": "code",
   "execution_count": null,
   "metadata": {},
   "outputs": [],
   "source": [
    "# display images\n",
    "# check alignment\n",
    "start, finish = (0,10)\n",
    "#displays = masks[start:finish]\n",
    "#displays = img_inputs[start:finish]\n",
    "displays = img_outputs[start:finish]\n",
    "#tdisplays = titles[start:finish]\n",
    "names = file_inputs[start:finish]\n",
    "plt.style.use('classic')\n",
    "for name,img in zip(names,displays):    \n",
    "    plt.figure()\n",
    "    #plt.title('{} {}'.format(name, str(title)))\n",
    "    plt.title('{}'.format(name))\n",
    "    plt.imshow(img, cmap='gray')\n",
    "    plt.show()"
   ]
  },
  {
   "cell_type": "code",
   "execution_count": null,
   "metadata": {},
   "outputs": [],
   "source": [
    "img = img_outputs[0]\n",
    "orig = img_inputs[0]\n",
    "\n",
    "# convert to hsv\n",
    "hsv = cv2.cvtColor(img,cv2.COLOR_BGR2HSV)\n",
    "\n",
    "# threshold using inRange\n",
    "range1 = (0,0,0)\n",
    "range2 = (3,3,3)\n",
    "mask = cv2.inRange(hsv,range1,range2)\n",
    "mask = 255 - mask\n",
    "\n",
    "# apply morphology opening to mask\n",
    "kernel = np.ones((3,3), np.uint8)\n",
    "mask = cv2.morphologyEx(mask, cv2.MORPH_ERODE, kernel)\n",
    "mask = cv2.morphologyEx(mask, cv2.MORPH_CLOSE, kernel)\n",
    "\n",
    "# antialias mask\n",
    "mask = cv2.GaussianBlur(mask, (0,0), sigmaX=3, sigmaY=3, borderType = cv2.BORDER_DEFAULT)\n",
    "mask = skimage.exposure.rescale_intensity(mask, in_range=(127.5,255), out_range=(0,255))\n",
    "\n",
    "result = img.copy()\n",
    "result[mask==0] = (255,255,255)\n",
    "\n",
    "# threshold using inRange\n",
    "range1 = (80,80,80)\n",
    "range2 = (93,93,93)\n",
    "mask = cv2.inRange(result,range1,range2)\n",
    "mask = 255 - mask\n",
    "\n",
    "# apply morphology opening to mask\n",
    "kernel = np.ones((3,3), np.uint8)\n",
    "mask = cv2.morphologyEx(mask, cv2.MORPH_ERODE, kernel)\n",
    "mask = cv2.morphologyEx(mask, cv2.MORPH_CLOSE, kernel)\n",
    "\n",
    "# antialias mask\n",
    "mask = cv2.GaussianBlur(mask, (0,0), sigmaX=3, sigmaY=3, borderType = cv2.BORDER_DEFAULT)\n",
    "mask = skimage.exposure.rescale_intensity(mask, in_range=(127.5,255), out_range=(0,255))\n",
    "\n",
    "result = img.copy()\n",
    "result[mask==0] = (255,255,255)\n",
    "\n",
    "\n",
    "\n",
    "\n",
    "plt.figure()\n",
    "plt.title('test')\n",
    "plt.imshow(result, cmap=\"gray\")\n",
    "plt.show()\n"
   ]
  }
 ],
 "metadata": {
  "kernelspec": {
   "display_name": "Python 3",
   "language": "python",
   "name": "python3"
  },
  "language_info": {
   "codemirror_mode": {
    "name": "ipython",
    "version": 3
   },
   "file_extension": ".py",
   "mimetype": "text/x-python",
   "name": "python",
   "nbconvert_exporter": "python",
   "pygments_lexer": "ipython3",
   "version": "3.8.2"
  }
 },
 "nbformat": 4,
 "nbformat_minor": 4
}
