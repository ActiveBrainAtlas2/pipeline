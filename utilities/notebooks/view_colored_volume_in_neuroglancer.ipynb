{
 "cells": [
  {
   "cell_type": "code",
   "execution_count": 1,
   "metadata": {},
   "outputs": [],
   "source": [
    "import numpy as np\n",
    "import neuroglancer\n",
    "DIR = '/net/birdstore/Active_Atlas_Data/data_root/CSHL_volumes'\n",
    "contourpath = '/net/birdstore/Active_Atlas_Data/data_root/CSHL_volumes/atlasV8/volume_test.npy'\n",
    "contour = np.load(contourpath)"
   ]
  },
  {
   "cell_type": "code",
   "execution_count": 3,
   "metadata": {},
   "outputs": [
    {
     "name": "stdout",
     "output_type": "stream",
     "text": [
      "http://127.0.0.1:39271/v/61ca8b94fa22d5f9b78fd4852affc081c805fd9b/\n"
     ]
    }
   ],
   "source": [
    "#neuroglancer.set_server_bind_address(bind_port='33645')\n",
    "vm = np.swapaxes(contour, 0, 2)\n",
    "dimensions = neuroglancer.CoordinateSpace(\n",
    "    names=['x', 'y', 'z'],\n",
    "    units='um',\n",
    "    scales=[10,10,10])\n",
    "viewer = neuroglancer.Viewer()\n",
    "with viewer.txn() as s:\n",
    "    s.dimensions = dimensions\n",
    "    s.layout = '4panel'\n",
    "    s.layers['Altas'] = neuroglancer.SegmentationLayer(\n",
    "        source=neuroglancer.LocalVolume(\n",
    "            data=vm,\n",
    "            dimensions=dimensions,\n",
    "            voxel_offset=(0, 0, 0),\n",
    "        ),\n",
    ")\n",
    "\n",
    "print(viewer)"
   ]
  }
 ],
 "metadata": {
  "kernelspec": {
   "display_name": "Python 3",
   "language": "python",
   "name": "python3"
  },
  "language_info": {
   "codemirror_mode": {
    "name": "ipython",
    "version": 3
   },
   "file_extension": ".py",
   "mimetype": "text/x-python",
   "name": "python",
   "nbconvert_exporter": "python",
   "pygments_lexer": "ipython3",
   "version": "3.8.2"
  }
 },
 "nbformat": 4,
 "nbformat_minor": 4
}
