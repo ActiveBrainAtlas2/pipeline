{
 "cells": [
  {
   "cell_type": "code",
   "execution_count": 1,
   "metadata": {},
   "outputs": [],
   "source": [
    "import numpy as np\n",
    "from skimage import io\n",
    "from os.path import expanduser\n",
    "from tqdm import tqdm\n",
    "HOME = expanduser(\"~\")\n",
    "import os, sys\n",
    "import cv2\n",
    "import SimpleITK as sitk\n",
    "from collections import OrderedDict\n",
    "import subprocess\n",
    "%load_ext autoreload\n",
    "%autoreload 2"
   ]
  },
  {
   "cell_type": "code",
   "execution_count": 2,
   "metadata": {},
   "outputs": [
    {
     "name": "stdout",
     "output_type": "stream",
     "text": [
      "Connecting dklab@192.168.1.12:3306\n"
     ]
    }
   ],
   "source": [
    "PATH = '/home/eddyod/programming/pipeline_utility'\n",
    "sys.path.append(PATH)\n",
    "from utilities.sqlcontroller import SqlController\n",
    "from utilities.alignment_utility import convert_resolution_string_to_um, SCALING_FACTOR"
   ]
  },
  {
   "cell_type": "code",
   "execution_count": 3,
   "metadata": {},
   "outputs": [],
   "source": [
    "animal = 'DK39'\n",
    "DIR = f'/net/birdstore/Active_Atlas_Data/data_root/pipeline_data/{animal}/preps'\n",
    "INPUT = os.path.join(DIR, 'CH1', 'thumbnail_cleaned')\n",
    "OUTPUT = os.path.join(DIR, 'CH1', 'thumbnail_aligned')\n",
    "ELASTIX = os.path.join(DIR, 'elastix')"
   ]
  },
  {
   "cell_type": "code",
   "execution_count": 4,
   "metadata": {},
   "outputs": [],
   "source": [
    "def register(fixed_image, moving_image, filter):\n",
    "    \"\"\"\n",
    "    This code is very similar to the code from the ITK site. I added a variable\n",
    "    for the filter but it should usually use the MOMENTS filter\n",
    "    \"\"\"\n",
    "    \n",
    "    initial_transform = sitk.CenteredTransformInitializer(\n",
    "        fixed_image,\n",
    "        moving_image,\n",
    "        sitk.Euler2DTransform(),\n",
    "        filter)\n",
    "\n",
    "    registration_method = sitk.ImageRegistrationMethod()\n",
    "\n",
    "    # Similarity metric settings.\n",
    "    registration_method.SetMetricAsMattesMutualInformation(numberOfHistogramBins=50)\n",
    "    registration_method.SetMetricSamplingStrategy(registration_method.RANDOM)\n",
    "    registration_method.SetMetricSamplingPercentage(0.01)\n",
    "\n",
    "    registration_method.SetInterpolator(sitk.sitkLinear)\n",
    "\n",
    "    # Optimizer settings.\n",
    "    registration_method.SetOptimizerAsGradientDescent(learningRate=0.5, \n",
    "                                                      numberOfIterations=100, \n",
    "                                                      convergenceMinimumValue=1e-6, \n",
    "                                                      convergenceWindowSize=10)\n",
    "    registration_method.SetOptimizerScalesFromPhysicalShift()\n",
    "\n",
    "    # Setup for the multi-resolution framework.            \n",
    "    registration_method.SetShrinkFactorsPerLevel(shrinkFactors = [4,2,1])\n",
    "    registration_method.SetSmoothingSigmasPerLevel(smoothingSigmas=[2,1,0])\n",
    "    registration_method.SmoothingSigmasAreSpecifiedInPhysicalUnitsOn()\n",
    "\n",
    "    # Don't optimize in-place, we would possibly like to run this cell multiple times.\n",
    "    registration_method.SetInitialTransform(initial_transform, inPlace=False)\n",
    "\n",
    "\n",
    "    final_transform = registration_method.Execute(sitk.Cast(fixed_image, sitk.sitkFloat32), \n",
    "                                                   sitk.Cast(moving_image, sitk.sitkFloat32))\n",
    "    return final_transform"
   ]
  },
  {
   "cell_type": "code",
   "execution_count": 5,
   "metadata": {},
   "outputs": [],
   "source": [
    "def parameter_elastix_parameter_file_to_dict(filename):\n",
    "    \"\"\"\n",
    "    Reads the *.tfm files and parses out the rotation and x,y shift\n",
    "    \"\"\"\n",
    "    d = {}\n",
    "    with open(filename, 'r') as f:\n",
    "        for line in f.readlines():\n",
    "            line = line.strip()\n",
    "            if line.startswith('Parameters:'):\n",
    "                tokens = line.split(' ')\n",
    "                tokens = [float(i) for i in tokens[1:4]]\n",
    "                d['Parameters'] = tokens\n",
    "            if line.startswith('FixedParameters:'):\n",
    "                tokens = line.split(' ')\n",
    "                tokens = [float(i) for i in tokens[1:4]]\n",
    "                d['FixedParameters'] = tokens\n",
    "    return d\n",
    "    \n",
    "\n",
    "def parse_elastix_parameter_file(filepath):\n",
    "    \"\"\"\n",
    "    Takes rotation, x and y shift from tfm file and puts it\n",
    "    in a rotation matrix\n",
    "    \"\"\"\n",
    "    d = parameter_elastix_parameter_file_to_dict(filepath)\n",
    "    rot_rad, x_mm, y_mm = d['Parameters']\n",
    "    center = np.array(d['FixedParameters'])\n",
    "\n",
    "    xshift = x_mm \n",
    "    yshift = y_mm \n",
    "\n",
    "    R = np.array([[np.cos(rot_rad), -np.sin(rot_rad)],\n",
    "                  [np.sin(rot_rad), np.cos(rot_rad)]])\n",
    "    shift = center + (xshift, yshift) - np.dot(R, center)\n",
    "    T = np.vstack([np.column_stack([R, shift]), [0, 0, 1]])\n",
    "    return T\n",
    "\n",
    "\n",
    "\n",
    "def load_consecutive_section_transform(moving_fn, fixed_fn):\n",
    "    \"\"\"\n",
    "    Finds the correct tfm file to use for the moving and fixed files\n",
    "    \"\"\"\n",
    "    infile = f'{moving_fn}-{fixed_fn}.tfm'\n",
    "    param_fp = os.path.join(ELASTIX, infile)\n",
    "    return parse_elastix_parameter_file(param_fp)\n",
    "\n",
    "def parse_elastix():\n",
    "    \"\"\"\n",
    "    Loops through the files and computes the final transform between each moving and fixed image\n",
    "    \"\"\"\n",
    "    image_name_list = sorted(os.listdir(INPUT))\n",
    "    anchor_idx = len(image_name_list) // 2 # middle section of the brain\n",
    "    # anchor_idx = len(image_name_list) - 1\n",
    "    transformation_to_previous_sec = {}\n",
    "\n",
    "    for i in range(1, len(image_name_list)):\n",
    "        fixed_fn = os.path.splitext(image_name_list[i - 1])[0]\n",
    "        moving_fn = os.path.splitext(image_name_list[i])[0]\n",
    "        transformation_to_previous_sec[i] = load_consecutive_section_transform(moving_fn, fixed_fn)\n",
    "\n",
    "    transformation_to_anchor_sec = {}\n",
    "    # Converts every transformation\n",
    "    for moving_idx in range(len(image_name_list)):\n",
    "        if moving_idx == anchor_idx:\n",
    "            transformation_to_anchor_sec[image_name_list[moving_idx]] = np.eye(3)\n",
    "        elif moving_idx < anchor_idx:\n",
    "            T_composed = np.eye(3)\n",
    "            for i in range(anchor_idx, moving_idx, -1):\n",
    "                T_composed = np.dot(np.linalg.inv(transformation_to_previous_sec[i]), T_composed)\n",
    "            transformation_to_anchor_sec[image_name_list[moving_idx]] = T_composed\n",
    "        else:\n",
    "            T_composed = np.eye(3)\n",
    "            for i in range(anchor_idx + 1, moving_idx + 1):\n",
    "                T_composed = np.dot(transformation_to_previous_sec[i], T_composed)\n",
    "            transformation_to_anchor_sec[image_name_list[moving_idx]] = T_composed\n",
    "\n",
    "\n",
    "    return transformation_to_anchor_sec\n",
    "\n",
    "\n",
    "def convert_2d_transform_forms(arr):\n",
    "    \"\"\"\n",
    "    Just creates correct size matrix\n",
    "    \"\"\"\n",
    "    return np.vstack([arr, [0,0,1]])\n",
    "\n",
    "def create_warp_transforms(animal, transforms, transforms_resol, resolution):\n",
    "    #transforms_resol = op['resolution']\n",
    "    transforms_scale_factor = convert_resolution_string_to_um(animal, resolution=transforms_resol) / convert_resolution_string_to_um(animal, resolution=resolution)\n",
    "    tf_mat_mult_factor = np.array([[1, 1, transforms_scale_factor], [1, 1, transforms_scale_factor]])\n",
    "    transforms_to_anchor = {\n",
    "        img_name:\n",
    "            convert_2d_transform_forms(np.reshape(tf, (3, 3))[:2] * tf_mat_mult_factor) for\n",
    "        img_name, tf in transforms.items()}\n",
    "\n",
    "    return transforms_to_anchor\n"
   ]
  },
  {
   "cell_type": "code",
   "execution_count": 6,
   "metadata": {},
   "outputs": [],
   "source": [
    "moments = sitk.CenteredTransformInitializerFilter.MOMENTS\n",
    "geometry = sitk.CenteredTransformInitializerFilter.GEOMETRY"
   ]
  },
  {
   "cell_type": "code",
   "execution_count": 7,
   "metadata": {},
   "outputs": [
    {
     "name": "stderr",
     "output_type": "stream",
     "text": [
      "100%|██████████| 468/468 [03:52<00:00,  2.02it/s]\n"
     ]
    }
   ],
   "source": [
    "### loops through the image stack and performs the registration between each set of two consecutive files\n",
    "### then saves the transformation in a file. It would probably be much better if we could just\n",
    "### use the values from the final transform directly, or put in a dictionary instead of saving\n",
    "### to file and then rereading them\n",
    "image_name_list = sorted(os.listdir(INPUT))\n",
    "for i in tqdm(range(1, len(image_name_list))):\n",
    "    final_transform = None\n",
    "    fixed_file = os.path.join(INPUT, image_name_list[i - 1])\n",
    "    moving_file = os.path.join(INPUT, image_name_list[i])\n",
    "    previous = str(i-1).zfill(3)\n",
    "    current = str(i).zfill(3)\n",
    "    outfile = f'{current}-{previous}.tfm'\n",
    "    outpath = os.path.join(ELASTIX, outfile)\n",
    "    if os.path.exists(outpath):\n",
    "        continue\n",
    "    \n",
    "    moving_image = sitk.ReadImage(moving_file, sitk.sitkUInt16)\n",
    "    fixed_image =  sitk.ReadImage(fixed_file, sitk.sitkUInt16)\n",
    "    \n",
    "    try:\n",
    "        final_transform = register(fixed_image, moving_image, moments)\n",
    "    except:\n",
    "        print('Could not create moments transform for ', outfile)\n",
    "        try:\n",
    "            final_transform = register(fixed_image, moving_image, geometry)\n",
    "        except:\n",
    "            print('Could not create geometry transform for ', outfile)\n",
    "            \n",
    "        \n",
    "    if final_transform is not None:\n",
    "        sitk.WriteTransform(final_transform, outpath)    \n"
   ]
  },
  {
   "cell_type": "markdown",
   "metadata": {},
   "source": [
    "#### Set the resolution and create a dictionary of transforms"
   ]
  },
  {
   "cell_type": "code",
   "execution_count": 8,
   "metadata": {},
   "outputs": [],
   "source": [
    "resolution = 'thumbnail'\n",
    "transforms = parse_elastix()\n",
    "warp_transforms = create_warp_transforms(animal, transforms, 'thumbnail', resolution)"
   ]
  },
  {
   "cell_type": "code",
   "execution_count": 14,
   "metadata": {},
   "outputs": [],
   "source": [
    "sqlController = SqlController(animal)\n",
    "width = sqlController.scan_run.width\n",
    "height = sqlController.scan_run.height\n",
    "max_width = int(width * SCALING_FACTOR)\n",
    "max_height = int(height * SCALING_FACTOR)\n",
    "bgcolor = 'white' # this should be black, but white lets you see the rotation and shift"
   ]
  },
  {
   "cell_type": "markdown",
   "metadata": {},
   "source": [
    "##### This gets the dictionary of transforms and passes those parameters to imagemagick's convert tool to rotate, shift and crop the image"
   ]
  },
  {
   "cell_type": "code",
   "execution_count": 15,
   "metadata": {},
   "outputs": [
    {
     "name": "stderr",
     "output_type": "stream",
     "text": [
      "100%|██████████| 469/469 [01:59<00:00,  3.92it/s]\n"
     ]
    }
   ],
   "source": [
    "OUTPUT = \"setme to some place where you can write files\"\n",
    "ordered_transforms = OrderedDict(sorted(warp_transforms.items()))\n",
    "for file, arr in tqdm(ordered_transforms.items()):\n",
    "    T = np.linalg.inv(arr)\n",
    "    sx = T[0, 0]\n",
    "    sy = T[1, 1]\n",
    "    rx = T[1, 0]\n",
    "    ry = T[0, 1]\n",
    "    tx = T[0, 2]\n",
    "    ty = T[1, 2]\n",
    "    \n",
    "    op_str = f\" +distort AffineProjection {sx},{rx},{ry},{sy},{tx},{ty}\"\n",
    "    op_str += f' -crop {max_width}x{max_height}+0.0+0.0!'\n",
    "    input_fp = os.path.join(INPUT, file)\n",
    "    output_fp = os.path.join(OUTPUT, file)\n",
    "    if os.path.exists(output_fp):\n",
    "        continue\n",
    "\n",
    "    cmd = \"convert {} +repage -virtual-pixel background -background {} {} -flatten -compress lzw {}\"\\\n",
    "        .format(input_fp, bgcolor, op_str, output_fp)\n",
    "    subprocess.run(cmd, shell=True)\n"
   ]
  }
 ],
 "metadata": {
  "kernelspec": {
   "display_name": "Python 3",
   "language": "python",
   "name": "python3"
  },
  "language_info": {
   "codemirror_mode": {
    "name": "ipython",
    "version": 3
   },
   "file_extension": ".py",
   "mimetype": "text/x-python",
   "name": "python",
   "nbconvert_exporter": "python",
   "pygments_lexer": "ipython3",
   "version": "3.8.5"
  }
 },
 "nbformat": 4,
 "nbformat_minor": 4
}
