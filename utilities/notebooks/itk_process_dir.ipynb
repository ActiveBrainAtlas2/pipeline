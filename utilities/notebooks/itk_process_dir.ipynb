{
 "cells": [
  {
   "cell_type": "code",
   "execution_count": 1,
   "metadata": {},
   "outputs": [],
   "source": [
    "import numpy as np\n",
    "from skimage import io\n",
    "from os.path import expanduser\n",
    "from tqdm import tqdm\n",
    "HOME = expanduser(\"~\")\n",
    "import os, sys\n",
    "import cv2\n",
    "import numpy as np\n",
    "import SimpleITK as sitk\n",
    "from collections import OrderedDict\n",
    "from shutil import copyfile\n",
    "import subprocess\n",
    "%load_ext autoreload\n",
    "%autoreload 2"
   ]
  },
  {
   "cell_type": "code",
   "execution_count": 2,
   "metadata": {},
   "outputs": [
    {
     "name": "stdout",
     "output_type": "stream",
     "text": [
      "Connecting dklab@192.168.1.12:3306\n"
     ]
    }
   ],
   "source": [
    "PATH = '/home/eddyod/programming/pipeline_utility'\n",
    "sys.path.append(PATH)\n",
    "from utilities.sqlcontroller import SqlController\n",
    "from utilities.utilities_registration import (register, create_matrix, create_warp_transforms, register_correlation)\n",
    "from utilities.alignment_utility import SCALING_FACTOR"
   ]
  },
  {
   "cell_type": "code",
   "execution_count": 3,
   "metadata": {},
   "outputs": [],
   "source": [
    "animal = 'DK39'\n",
    "DIR = f'/net/birdstore/Active_Atlas_Data/data_root/pipeline_data/{animal}/preps'\n",
    "INPUT = os.path.join(DIR, 'CH1', 'thumbnail_cleaned')\n",
    "OUTPUT = os.path.join(DIR, 'CH1', 'thumbnail_aligned')\n",
    "MASKED = os.path.join(DIR, 'rotated_masked')\n",
    "ELASTIX = os.path.join(DIR, 'elastix')"
   ]
  },
  {
   "cell_type": "code",
   "execution_count": 4,
   "metadata": {},
   "outputs": [],
   "source": [
    "#moments = sitk.CenteredTransformInitializerFilter.MOMENTS\n",
    "#geometry = sitk.CenteredTransformInitializerFilter.GEOMETRY"
   ]
  },
  {
   "cell_type": "code",
   "execution_count": 5,
   "metadata": {},
   "outputs": [
    {
     "name": "stderr",
     "output_type": "stream",
     "text": [
      "100%|██████████| 468/468 [1:10:18<00:00,  9.01s/it]"
     ]
    },
    {
     "name": "stdout",
     "output_type": "stream",
     "text": [
      "CPU times: user 4h 4min 58s, sys: 41.8 s, total: 4h 5min 40s\n",
      "Wall time: 1h 10min 18s\n"
     ]
    },
    {
     "name": "stderr",
     "output_type": "stream",
     "text": [
      "\n"
     ]
    }
   ],
   "source": [
    "%%time\n",
    "### loops through the image stack and performs the registration between each set of two consecutive files\n",
    "files = sorted(os.listdir(INPUT))\n",
    "anchor_index = len(files) // 2 # middle section of the brain\n",
    "limit = 30\n",
    "start = anchor_index - limit\n",
    "end = anchor_index + limit\n",
    "#files = files[start:end]\n",
    "transformation_to_previous_section = OrderedDict()\n",
    "\n",
    "for i in tqdm(range(1, len(files))):\n",
    "    final_transform = None\n",
    "        \n",
    "    fixed_index = str(i-1).zfill(3)\n",
    "    moving_index = str(i).zfill(3)\n",
    "    \n",
    "    #final_transform = register_correlation(INPUT, fixed_index, moving_index)    \n",
    "    T = register_correlation(INPUT, fixed_index, moving_index)    \n",
    "    #T = create_matrix(final_transform)\n",
    "    transformation_to_previous_section[files[i]] = T\n",
    "    #print(moving_index, condition, iterations)"
   ]
  },
  {
   "cell_type": "code",
   "execution_count": 6,
   "metadata": {},
   "outputs": [],
   "source": [
    "#anchor_index = len(files) // 2 # middle section of the brain\n",
    "transformation_to_anchor_section = {}\n",
    "# Converts every transformation\n",
    "for moving_index in range(len(files)):\n",
    "    if moving_index == anchor_index:\n",
    "        transformation_to_anchor_section[files[moving_index]] = np.eye(3)\n",
    "    elif moving_index < anchor_index:\n",
    "        T_composed = np.eye(3)\n",
    "        for i in range(anchor_index, moving_index, -1):\n",
    "            T_composed = np.dot(np.linalg.inv(transformation_to_previous_section[files[i]]), T_composed)\n",
    "        transformation_to_anchor_section[files[moving_index]] = T_composed\n",
    "    else:\n",
    "        T_composed = np.eye(3)\n",
    "        for i in range(anchor_index + 1, moving_index + 1):\n",
    "            T_composed = np.dot(transformation_to_previous_section[files[i]], T_composed)\n",
    "        transformation_to_anchor_section[files[moving_index]] = T_composed\n"
   ]
  },
  {
   "cell_type": "markdown",
   "metadata": {},
   "source": [
    "#### Set the resolution and create a dictionary of transforms"
   ]
  },
  {
   "cell_type": "code",
   "execution_count": 7,
   "metadata": {},
   "outputs": [],
   "source": [
    "resolution = 'thumbnail'\n",
    "warp_transforms = create_warp_transforms(animal, transformation_to_anchor_section, 'thumbnail', resolution)\n",
    "sqlController = SqlController(animal)\n",
    "width = sqlController.scan_run.width\n",
    "height = sqlController.scan_run.height\n",
    "max_width = int(width * SCALING_FACTOR)\n",
    "max_height = int(height * SCALING_FACTOR)\n",
    "bgcolor = 'black' # this should be black, but white lets you see the rotation and shift"
   ]
  },
  {
   "cell_type": "markdown",
   "metadata": {},
   "source": [
    "##### This gets the dictionary of transforms and passes those parameters to imagemagick's convert tool to rotate, shift and crop the image"
   ]
  },
  {
   "cell_type": "code",
   "execution_count": 8,
   "metadata": {},
   "outputs": [
    {
     "name": "stderr",
     "output_type": "stream",
     "text": [
      "100%|██████████| 469/469 [02:05<00:00,  3.74it/s]\n"
     ]
    }
   ],
   "source": [
    "#OUTPUT = \"setme to some place where you can write files\"\n",
    "ordered_transforms = OrderedDict(sorted(warp_transforms.items()))\n",
    "for file, arr in tqdm(ordered_transforms.items()):\n",
    "    T = np.linalg.inv(arr)\n",
    "    sx = T[0, 0]\n",
    "    sy = T[1, 1]\n",
    "    rx = T[1, 0]\n",
    "    ry = T[0, 1]\n",
    "    tx = T[0, 2]\n",
    "    ty = T[1, 2]\n",
    "    # sx, rx, ry, sy, tx, ty\n",
    "    op_str = f\" +distort AffineProjection '{sx},{rx},{ry},{sy},{tx},{ty}'\"\n",
    "    op_str += f' -crop {max_width}x{max_height}+0.0+0.0!'\n",
    "    input_fp = os.path.join(INPUT, file)\n",
    "    output_fp = os.path.join(OUTPUT, file)\n",
    "    if os.path.exists(output_fp):\n",
    "        continue\n",
    "\n",
    "    cmd = f\"convert {input_fp} +repage -virtual-pixel background -background {bgcolor} {op_str} -flatten -compress lzw {output_fp}\"\n",
    "    subprocess.run(cmd, shell=True)\n"
   ]
  }
 ],
 "metadata": {
  "kernelspec": {
   "display_name": "Python 3",
   "language": "python",
   "name": "python3"
  },
  "language_info": {
   "codemirror_mode": {
    "name": "ipython",
    "version": 3
   },
   "file_extension": ".py",
   "mimetype": "text/x-python",
   "name": "python",
   "nbconvert_exporter": "python",
   "pygments_lexer": "ipython3",
   "version": "3.8.5"
  }
 },
 "nbformat": 4,
 "nbformat_minor": 4
}
