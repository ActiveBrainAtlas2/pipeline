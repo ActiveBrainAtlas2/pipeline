{
 "cells": [
  {
   "cell_type": "code",
   "execution_count": 1,
   "metadata": {
    "scrolled": true
   },
   "outputs": [],
   "source": [
    "import os,sys\n",
    "from collections import defaultdict\n",
    "import json\n",
    "import numpy as np\n",
    "import pickle\n",
    "from skimage import io\n",
    "import matplotlib\n",
    "import pandas as pd\n",
    "from matplotlib import pyplot as plt\n",
    "from scipy.ndimage.morphology import distance_transform_edt\n",
    "%load_ext autoreload\n",
    "%autoreload 2"
   ]
  },
  {
   "cell_type": "code",
   "execution_count": 2,
   "metadata": {},
   "outputs": [
    {
     "name": "stdout",
     "output_type": "stream",
     "text": [
      "Connecting dklab@192.168.1.12:3306\n"
     ]
    }
   ],
   "source": [
    "PATH = '/home/eddyod/programming/pipeline_utility'\n",
    "MESH_DIR = '/net/birdstore/Active_Atlas_Data/data_root/CSHL_meshes'\n",
    "VOL_DIR = '/net/birdstore/Active_Atlas_Data/data_root/CSHL_volumes'\n",
    "sys.path.append(PATH)\n",
    "from utilities.sqlcontroller import SqlController\n",
    "from utilities.imported_atlas_utilities import load_original_volume_all_known_structures_v3, get_centroid_3d, \\\n",
    "    load_alignment_results_v3, transform_points, average_location, \\\n",
    "    convert_to_original_name, name_unsided_to_color, paired_structures, \\\n",
    "    convert_to_left_name, convert_to_right_name, load_original_volume_v2, save_alignment_results_v3, \\\n",
    "    convert_transform_forms, transform_volume_v4, volume_to_polydata, singular_structures, \\\n",
    "    MESH_DIR, average_shape, convert_to_surround_name, \\\n",
    "    save_mesh_stl, get_surround_volume_v2, transform_volume_v4, high_contrast_colors, \\\n",
    "    plot_centroid_means_and_covars_3d, all_known_structures_sided, load_data, \\\n",
    "    get_instance_mesh_filepath, images_to_volume_v2, find_contour_points, load_cropbox_v2, \\\n",
    "    load_mean_shape, \\\n",
    "    display_volume_sections, get_structure_mean_positions_filepath, all_known_structures_unsided_including_surround_200um\n",
    "from utilities.aligner_v3 import Aligner\n",
    "from utilities.alignment_utility import convert_resolution_string_to_um\n",
    "from utilities.conversion import *\n",
    "from utilities.utilities_view import launch_vtk, add_axes"
   ]
  },
  {
   "cell_type": "code",
   "execution_count": 3,
   "metadata": {},
   "outputs": [],
   "source": [
    "INPUT_KEY_LOC = os.path.join(PATH, 'neuroglancer', 'structure_key_minimal.json')\n",
    "NUM_STRUCTS = 49\n",
    "with open(INPUT_KEY_LOC, 'r') as f:\n",
    "    structures = json.load(f)\n",
    "structures = list(structures.values())\n",
    "#structures = structures[0:9]"
   ]
  },
  {
   "cell_type": "code",
   "execution_count": null,
   "metadata": {},
   "outputs": [],
   "source": [
    "structures = ['IC', 'SC']"
   ]
  },
  {
   "cell_type": "code",
   "execution_count": 4,
   "metadata": {},
   "outputs": [],
   "source": [
    "atlas_name = 'atlasV7'\n",
    "fixed_brain_name = 'MD589'\n",
    "moving_brain_names = ['MD585', 'MD594']\n",
    "resolution = '10.0um'\n",
    "resolution_um = 10.0\n",
    "structure_centroids_all_brains_um_wrt_fixed = []\n",
    "fixed_brain_spec = {'name': fixed_brain_name, 'vol_type': 'annotationAsScore', 'resolution': resolution}"
   ]
  },
  {
   "cell_type": "code",
   "execution_count": 5,
   "metadata": {
    "scrolled": true
   },
   "outputs": [
    {
     "name": "stdout",
     "output_type": "stream",
     "text": [
      "fixed_brain_structure_centroids {'10N_L': array([1377.9323021 ,  600.54621743,  422.01120992]), '10N_R': array([1377.78125193,  600.98146203,  478.83958475]), '12N': array([1365.88068653,  615.20999364,  452.5142025 ]), '3N_L': array([1060.76684485,  440.31618706,  442.33235172]), '3N_R': array([1062.71309218,  440.81977598,  467.55040397]), '4N_L': array([1094.23971377,  449.07513417,  418.41144902]), '4N_R': array([1094.19370861,  447.37251656,  472.13576159]), '5N_L': array([1135.63803623,  570.75503797,  318.95509957]), '5N_R': array([1127.76469797,  554.34528704,  598.29166346]), '6N_L': array([1190.58515091,  575.81780128,  417.96034369]), '6N_R': array([1188.0758209 ,  572.93373134,  496.13552239]), '7N_L': array([1206.22839224,  687.51537425,  346.52355665]), '7N_R': array([1202.44528528,  667.04330523,  590.41486203]), 'Amb_L': array([1287.23133605,  675.60345162,  333.75198759]), 'Amb_R': array([1279.53233621,  648.38677059,  591.82283548]), 'AP': array([1369.22974787,  574.86041076,  446.31597792]), 'DC_L': array([1254.75670855,  531.86776622,  236.98599838]), 'DC_R': array([1245.30345474,  500.91207597,  671.52181232]), 'IC': array([1184.30128992,  308.85017456,  433.34325169]), 'LC_L': array([1178.5030576 ,  505.92127138,  360.70031858]), 'LC_R': array([1171.33886183,  499.02740613,  534.25889389]), 'LRt_L': array([1370.22492861,  709.2615068 ,  348.06609063]), 'LRt_R': array([1353.99256715,  679.97806839,  577.47688944]), 'PBG_L': array([1078.81826954,  440.39932454,  256.93068511]), 'PBG_R': array([1087.25142922,  412.37994512,  632.91115939]), 'Pn_L': array([1009.16249492,  650.64997603,  410.08888214]), 'Pn_R': array([1010.13630671,  648.52273486,  528.88550221]), 'RMC_L': array([1025.52221948,  489.06954841,  404.78195531]), 'RMC_R': array([1021.63073183,  484.82384934,  504.56215241]), 'RtTg': array([1056.1638894 ,  625.57269964,  470.27368032]), 'SC': array([1075.36825329,  298.88313569,  430.98862599]), 'SNC_L': array([960.13867646, 535.7540101 , 336.12992463]), 'SNC_R': array([958.86535016, 514.44966173, 585.90173706]), 'SNR_L': array([989.07217644, 533.35862207, 314.09958873]), 'SNR_R': array([989.4396872 , 516.74828709, 596.5095383 ]), 'Sp5C_L': array([1423.97750183,  625.95218646,  312.00879459]), 'Sp5C_R': array([1409.27435159,  604.84215819,  593.68007337]), 'Sp5I_L': array([1346.00584238,  614.37205277,  271.69545914]), 'Sp5I_R': array([1350.01190573,  589.64745854,  640.56393645]), 'Sp5O_L': array([1264.39544004,  620.32051218,  281.39534474]), 'Sp5O_R': array([1255.65690111,  598.09151768,  638.19862791]), 'Tz_L': array([1103.87548558,  688.35238335,  420.79742699]), 'Tz_R': array([1100.22088999,  682.18435931,  523.26275771]), 'VCA_L': array([1172.28660178,  567.75910056,  213.43676482]), 'VCA_R': array([1170.12666272,  534.96690379,  707.08770704]), 'VCP_L': array([1229.26642682,  592.97666124,  224.62790961]), 'VCP_R': array([1227.48037703,  558.27287221,  692.43926891]), 'VLL_L': array([1071.21556635,  549.75526174,  295.89305031]), 'VLL_R': array([1053.95560399,  568.35702337,  611.48305368])}\n",
      "fixed_brain_structure_centroids_um {'10N_L': array([13779.32302104,  6005.46217435,  4220.1120992 ]), '10N_R': array([13777.81251931,  6009.81462028,  4788.39584749]), '12N': array([13658.80686535,  6152.09993636,  4525.14202502]), '3N_L': array([10607.66844851,  4403.16187062,  4423.32351717]), '3N_R': array([10627.13092178,  4408.19775982,  4675.50403966]), '4N_L': array([10942.39713775,  4490.75134168,  4184.11449016]), '4N_R': array([10941.93708609,  4473.72516556,  4721.35761589]), '5N_L': array([11356.38036228,  5707.5503797 ,  3189.55099575]), '5N_R': array([11277.64697971,  5543.45287043,  5982.91663464]), '6N_L': array([11905.85150914,  5758.17801278,  4179.60343688]), '6N_R': array([11880.75820896,  5729.33731343,  4961.35522388]), '7N_L': array([12062.2839224 ,  6875.15374245,  3465.2355665 ]), '7N_R': array([12024.45285283,  6670.43305231,  5904.14862027]), 'Amb_L': array([12872.31336048,  6756.03451619,  3337.5198759 ]), 'Amb_R': array([12795.32336212,  6483.86770592,  5918.22835475]), 'AP': array([13692.29747874,  5748.60410761,  4463.1597792 ]), 'DC_L': array([12547.56708551,  5318.67766221,  2369.85998383]), 'DC_R': array([12453.03454742,  5009.1207597 ,  6715.21812319]), 'IC': array([11843.01289921,  3088.50174556,  4333.43251686]), 'LC_L': array([11785.030576  ,  5059.21271376,  3607.00318576]), 'LC_R': array([11713.38861829,  4990.27406129,  5342.5889389 ]), 'LRt_L': array([13702.24928607,  7092.61506803,  3480.66090627]), 'LRt_R': array([13539.92567146,  6799.78068395,  5774.76889444]), 'PBG_L': array([10788.1826954 ,  4403.99324542,  2569.30685108]), 'PBG_R': array([10872.51429225,  4123.79945118,  6329.11159387]), 'Pn_L': array([10091.62494922,  6506.49976027,  4100.88882138]), 'Pn_R': array([10101.36306714,  6485.22734862,  5288.85502209]), 'RMC_L': array([10255.22219485,  4890.69548409,  4047.81955315]), 'RMC_R': array([10216.30731833,  4848.23849336,  5045.62152407]), 'RtTg': array([10561.63889403,  6255.72699638,  4702.73680315]), 'SC': array([10753.68253291,  2988.83135691,  4309.88625988]), 'SNC_L': array([9601.38676458, 5357.54010105, 3361.29924629]), 'SNC_R': array([9588.65350155, 5144.4966173 , 5859.01737063]), 'SNR_L': array([9890.7217644 , 5333.58622072, 3140.99588728]), 'SNR_R': array([9894.39687199, 5167.48287092, 5965.09538297]), 'Sp5C_L': array([14239.77501828,  6259.52186463,  3120.08794587]), 'Sp5C_R': array([14092.74351592,  6048.42158192,  5936.80073367]), 'Sp5I_L': array([13460.05842376,  6143.72052766,  2716.95459135]), 'Sp5I_R': array([13500.11905733,  5896.47458542,  6405.63936453]), 'Sp5O_L': array([12643.95440044,  6203.20512179,  2813.95344737]), 'Sp5O_R': array([12556.56901111,  5980.91517684,  6381.98627907]), 'Tz_L': array([11038.75485581,  6883.52383346,  4207.97426991]), 'Tz_R': array([11002.20889994,  6821.84359312,  5232.62757713]), 'VCA_L': array([11722.86601778,  5677.59100556,  2134.36764824]), 'VCA_R': array([11701.26662725,  5349.66903793,  7070.87707038]), 'VCP_L': array([12292.66426819,  5929.76661237,  2246.27909614]), 'VCP_R': array([12274.80377026,  5582.72872212,  6924.39268906]), 'VLL_L': array([10712.15566349,  5497.55261738,  2958.93050309]), 'VLL_R': array([10539.55603995,  5683.57023369,  6114.83053683])}\n"
     ]
    }
   ],
   "source": [
    "fixed_brain = load_original_volume_all_known_structures_v3(stack_spec=fixed_brain_spec, structures=structures, \n",
    "                                                           in_bbox_wrt='wholebrain')\n",
    "fixed_brain_structure_centroids = get_centroid_3d(fixed_brain)\n",
    "print('fixed_brain_structure_centroids', fixed_brain_structure_centroids)\n",
    "fixed_brain_structure_centroids_um = {s: c * resolution_um for s, c in fixed_brain_structure_centroids.items()}\n",
    "print('fixed_brain_structure_centroids_um', fixed_brain_structure_centroids_um)\n",
    "structure_centroids_all_brains_um_wrt_fixed.append(fixed_brain_structure_centroids_um)"
   ]
  },
  {
   "cell_type": "markdown",
   "metadata": {},
   "source": [
    "## Compute instance centroids"
   ]
  },
  {
   "cell_type": "code",
   "execution_count": null,
   "metadata": {
    "scrolled": true
   },
   "outputs": [],
   "source": [
    "for brain_m in moving_brain_names:\n",
    "    moving_brain_spec = {'name': brain_m, 'vol_type': 'annotationAsScore', 'resolution': resolution}\n",
    "    print('Brain', moving_brain_spec)\n",
    "    moving_brain = load_original_volume_all_known_structures_v3(stack_spec=moving_brain_spec, \n",
    "                                                                structures=structures, in_bbox_wrt='wholebrain')\n",
    "    alignment_spec = dict(stack_m=moving_brain_spec, stack_f=fixed_brain_spec, warp_setting=109)\n",
    "    moving_brain_structure_centroids_input_resol = get_centroid_3d(moving_brain)\n",
    "    # Load registration.\n",
    "    # Alignment results fp: os.path.join(reg_root_dir, alignment_spec['stack_m']['name'], warp_basename, warp_basename + '_' + what + '.' + ext)\n",
    "    transform_parameters_moving_brain_to_fixed_brain = load_alignment_results_v3(alignment_spec=alignment_spec, what='parameters')\n",
    "    # Transform moving brains into alignment with the fixed brain.\n",
    "    transformed_moving_brain_structure_centroids_input_resol_wrt_fixed = \\\n",
    "    dict(list(zip(list(moving_brain_structure_centroids_input_resol.keys()),\n",
    "                  transform_points(pts=list(moving_brain_structure_centroids_input_resol.values()),\n",
    "                                   transform=transform_parameters_moving_brain_to_fixed_brain))))\n",
    "\n",
    "    transformed_moving_brain_structure_centroids_um_wrt_fixed = \\\n",
    "        {s: c * resolution_um for s, c in\n",
    "        list(transformed_moving_brain_structure_centroids_input_resol_wrt_fixed.items())}\n",
    "\n",
    "    structure_centroids_all_brains_um_wrt_fixed.append(transformed_moving_brain_structure_centroids_um_wrt_fixed)\n"
   ]
  },
  {
   "cell_type": "code",
   "execution_count": null,
   "metadata": {},
   "outputs": [],
   "source": [
    "structure_centroids_all_brains_um_grouped_by_structure_wrt_fixed = defaultdict(list)\n",
    "for sc in structure_centroids_all_brains_um_wrt_fixed:\n",
    "    for k, c in sc.items():\n",
    "        structure_centroids_all_brains_um_grouped_by_structure_wrt_fixed[k].append(c)\n",
    "structure_centroids_all_brains_um_grouped_by_structure_wrt_fixed.default_factory = None"
   ]
  },
  {
   "cell_type": "markdown",
   "metadata": {},
   "source": [
    "## Compute standard centroids"
   ]
  },
  {
   "cell_type": "code",
   "execution_count": null,
   "metadata": {},
   "outputs": [],
   "source": [
    "nominal_centroids_wrt_canonicalAtlasSpace_um, \\\n",
    "instance_centroids_wrt_canonicalAtlasSpace_um, \\\n",
    "canonical_center_wrt_fixed_um, \\\n",
    "canonical_normal, \\\n",
    "transform_matrix_to_canonicalAtlasSpace_um = \\\n",
    "average_location(structure_centroids_all_brains_um_grouped_by_structure_wrt_fixed)"
   ]
  },
  {
   "cell_type": "code",
   "execution_count": null,
   "metadata": {},
   "outputs": [],
   "source": [
    "colors = {name_s: np.array(name_unsided_to_color[convert_to_original_name(name_s)])/255.\n",
    "                                        for name_s in instance_centroids_wrt_canonicalAtlasSpace_um.keys()}"
   ]
  },
  {
   "cell_type": "code",
   "execution_count": null,
   "metadata": {},
   "outputs": [],
   "source": [
    "colors"
   ]
  },
  {
   "cell_type": "code",
   "execution_count": null,
   "metadata": {},
   "outputs": [],
   "source": [
    "plot_centroid_means_and_covars_3d(instance_centroids=instance_centroids_wrt_canonicalAtlasSpace_um,\n",
    "                                 nominal_locations=nominal_centroids_wrt_canonicalAtlasSpace_um,\n",
    "                                 canonical_centroid=(0,0,0),\n",
    "                                  show_canonical_centroid=False,\n",
    "                                  canonical_normal=[0,0,1],\n",
    "                                 colors=colors,\n",
    "                                 xlim=[-3000, 3000],\n",
    "                                 ylim=[-3000, 3000],\n",
    "                                 zlim=[-3000, 3000],\n",
    "                                 xlabel='Rostral-caudal ($\\mu$m)',\n",
    "                                 ylabel='',\n",
    "                                 zlabel='Medial-lateral ($\\mu$m)',\n",
    "                                 title='Centroid means and covariances (3 brains)')"
   ]
  },
  {
   "cell_type": "code",
   "execution_count": null,
   "metadata": {},
   "outputs": [],
   "source": [
    "filepath = os.path.join(MESH_DIR, atlas_name, '1um_meanPositions.pkl')\n",
    "with open(filepath, 'wb') as f:\n",
    "    pickle.dump(nominal_centroids_wrt_canonicalAtlasSpace_um, f)"
   ]
  },
  {
   "cell_type": "code",
   "execution_count": null,
   "metadata": {},
   "outputs": [],
   "source": [
    "filepath = os.path.join(MESH_DIR, atlas_name, 'canonicalCentroid_wrt_fixedWholebrain.txt')\n",
    "np.savetxt(filepath, canonical_center_wrt_fixed_um)"
   ]
  },
  {
   "cell_type": "code",
   "execution_count": null,
   "metadata": {},
   "outputs": [],
   "source": [
    "reg_root_dir=os.path.join(MESH_DIR, atlas_name, 'mean_shapes', 'instance_registration')"
   ]
  },
  {
   "cell_type": "code",
   "execution_count": null,
   "metadata": {},
   "outputs": [],
   "source": [
    "# Note that all shapes have voxel resolution matching input resolution (10.0 micron).\n",
    "for structure in structures:\n",
    "    # for structure in all_known_structures:\n",
    "    # Load instance volumes.\n",
    "    instance_volumes = []\n",
    "    instance_source = []\n",
    "\n",
    "    if structure in paired_structures:\n",
    "        left_name = convert_to_left_name(structure)\n",
    "        right_name = convert_to_right_name(structure)\n",
    "    else:\n",
    "        left_name = structure\n",
    "        right_name = structure\n",
    "\n",
    "    for brain_name in [fixed_brain_name] + moving_brain_names:\n",
    "        brain_spec = {'name': brain_name, 'vol_type': 'annotationAsScore', 'resolution': resolution}\n",
    "        right_instance_vol, _ = load_original_volume_v2(stack_spec=brain_spec,\n",
    "                                                        structure=right_name,\n",
    "                                                        return_origin_instead_of_bbox=True,\n",
    "                                                        crop_to_minimal=True)\n",
    "        instance_volumes.append(right_instance_vol)  # if right, do not mirror\n",
    "        instance_source.append((brain_name, 'R'))\n",
    "\n",
    "        left_instance_vol, _ = load_original_volume_v2(stack_spec=brain_spec,\n",
    "                                                       structure=left_name,\n",
    "                                                       return_origin_instead_of_bbox=True,\n",
    "                                                       crop_to_minimal=True)\n",
    "        instance_volumes.append(left_instance_vol[..., ::-1])  # if left, mirror\n",
    "        instance_source.append((brain_name, 'L'))\n",
    "\n",
    "   # Use the first instance as registration target.\n",
    "    # Register every other instance to the first instance.\n",
    "    template_instance_volume = instance_volumes[0]\n",
    "    template_instance_centroid_wrt_templateOrigin = get_centroid_3d(template_instance_volume).astype(np.int16)\n",
    "    template_instance_wrt_templateCentroid = (template_instance_volume, - template_instance_centroid_wrt_templateOrigin)\n",
    "    aligned_moving_instance_wrt_templateCentroid_all_instances = []\n",
    "\n",
    "    for i in range(1, len(instance_volumes)):\n",
    "        print('Registering {} instance {} to instance 0'.format(structure, i))\n",
    "        # Compute transform.\n",
    "        moving_instance_volume = instance_volumes[i]\n",
    "        aligner = Aligner({0: template_instance_wrt_templateCentroid},\n",
    "                          {0: (moving_instance_volume, np.array((0,0,0)))},\n",
    "                          labelIndexMap_m2f={0:0},\n",
    "                         verbose=False)\n",
    "        aligner.set_centroid(centroid_m='structure_centroid', centroid_f='structure_centroid')\n",
    "        aligner.compute_gradient(smooth_first=True)\n",
    "        lr = 1.\n",
    "        ### max_iter_num was originally 100 and 1000\n",
    "        print('Entering aligner optimzer')\n",
    "        _, _ = aligner.optimize(tf_type='rigid',\n",
    "                                history_len=100,\n",
    "                                max_iter_num=2 if structure in ['SC', 'IC'] else 3,\n",
    "                                grad_computation_sample_number=None,\n",
    "                                full_lr=np.array([lr, lr, lr, 0.1, 0.1, 0.1]),\n",
    "                                terminate_thresh_trans=.01)\n",
    "\n",
    "\n",
    "\n",
    "        reg_root_dir=os.path.join(MESH_DIR, atlas_name, 'mean_shapes', 'instance_registration')\n",
    "        save_alignment_results_v3(aligner=aligner,\n",
    "                              select_best='max_value',\n",
    "                              alignment_spec=dict(warp_setting=108,\n",
    "                                                  stack_f=dict(name='%s_instance0' % structure, vol_type='annotationAsScore'),\n",
    "                                                  stack_m=dict(name='%s_instance%d' % (structure, i),\n",
    "                                                               vol_type='annotationAsScore')),\n",
    "                              reg_root_dir=reg_root_dir)\n",
    "\n",
    "        # Transform instances.\n",
    "        T = convert_transform_forms(aligner=aligner, out_form=(3, 4), select_best='max_value')\n",
    "        aligned_moving_instance_volume, aligned_moving_instance_origin_wrt_templateCentroid = \\\n",
    "            transform_volume_v4(volume=(moving_instance_volume, (0, 0, 0)), transform=T,\n",
    "                                return_origin_instead_of_bbox=True)\n",
    "        aligned_moving_instance_wrt_templateCentroid = (\n",
    "        aligned_moving_instance_volume, aligned_moving_instance_origin_wrt_templateCentroid)\n",
    "        aligned_moving_instance_wrt_templateCentroid_all_instances.append(aligned_moving_instance_wrt_templateCentroid)\n",
    "\n",
    "    # Generate meshes for each instance.\n",
    "    volume_origin_list = [template_instance_wrt_templateCentroid] + aligned_moving_instance_wrt_templateCentroid_all_instances\n",
    "    instance_mesh_wrt_templateCentroid_all_instances = [volume_to_polydata(volume, num_simplify_iter=3, smooth=True)\n",
    "        for volume, o in volume_origin_list]\n",
    "\n",
    "    # Save meshes.\n",
    "    for i, mesh_data in enumerate(instance_mesh_wrt_templateCentroid_all_instances):\n",
    "        meshfile = '{}_{}_{}.stl'.format(resolution, structure, str(i))\n",
    "        meshpath = os.path.join(MESH_DIR, atlas_name, 'aligned_instance_meshes', meshfile)\n",
    "        #print('Save stl at {}'.format( meshpath))\n",
    "        save_mesh_stl(mesh_data, meshpath)\n",
    "\n",
    "    filename = '{}_sources.pkl'.format(structure)\n",
    "    filepath = os.path.join(MESH_DIR, atlas_name, 'instance_sources', filename)\n",
    "    with open(filepath, 'wb') as f:\n",
    "        pickle.dump(instance_source, f)\n",
    "\n",
    "    # Compute average shape.\n",
    "\n",
    "    if structure == 'IC' or structure == 'SC':\n",
    "        # IC and SC boundaries are particularly jagged, so do a larger value smoothing.\n",
    "        sigma = 5.\n",
    "    else:\n",
    "        sigma = 2.\n",
    "\n",
    "\n",
    "    mean_shape_wrt_templateCentroid = \\\n",
    "        average_shape(volume_origin_list=volume_origin_list, force_symmetric=(structure in singular_structures),\n",
    "                      sigma=sigma,\n",
    "                      )\n",
    "\n",
    "    for surface_level in np.arange(0.1, 1.1, .1):\n",
    "        print(\"level =\", surface_level, ', volume =',\n",
    "              np.count_nonzero(mean_shape_wrt_templateCentroid[0] > surface_level) * resolution_um ** 3 / 1e9, \"mm^3\")\n",
    "\n",
    "    # Generate meshes for mean shape.\n",
    "    mean_shape_isosurface_polydata_all_levels = {surface_level:\n",
    "                                                     volume_to_polydata(\n",
    "                                                         (mean_shape_wrt_templateCentroid[0] >= surface_level,\n",
    "                                                         mean_shape_wrt_templateCentroid[1]),\n",
    "                                                         num_simplify_iter=3, smooth=True)\n",
    "        for surface_level in np.arange(0.1, 1.1, .1)}\n",
    "\n",
    "    # Identify the surrouding area as additional structure.\n",
    "\n",
    "    wall_level = .5\n",
    "    surround_distance_um = 200.\n",
    "\n",
    "    # changed to v2 to v3 Jul/27/2020 renamed without the _vX\n",
    "    # volume, distance=5, wall_level=0, prob=False, return_origin_instead_of_bbox=True, padding=5\n",
    "    # def get_surround_volume(volume, origin, distance=5, wall_level=0, prob=False, return_origin_instead_of_bbox=True,\n",
    "    #                        padding=5):\n",
    "    surround_wrt_stdShapeCentroid = \\\n",
    "        get_surround_volume_v2(vol=mean_shape_wrt_templateCentroid[0],\n",
    "                               origin=mean_shape_wrt_templateCentroid[1],\n",
    "                               distance=surround_distance_um / resolution_um,\n",
    "                               wall_level=wall_level,\n",
    "                               prob=True,\n",
    "                               return_origin_instead_of_bbox=True,\n",
    "                               padding=5)\n",
    "\n",
    "    # Generate meshes for surrouding area.\n",
    "    surround_isosurface_polydata_all_levels = {surface_level:\n",
    "             volume_to_polydata((surround_wrt_stdShapeCentroid[0] >= surface_level,\n",
    "                                surround_wrt_stdShapeCentroid[1]),\n",
    "                                num_simplify_iter=3, smooth=True)\n",
    "         for surface_level in np.arange(0.1, 1.1, .1)}\n",
    "\n",
    "    # Save mean shape.\n",
    "    filename = '{}_{}_volume.npy'.format(resolution, structure)\n",
    "    filepath =  os.path.join(MESH_DIR, atlas_name, 'mean_shapes', filename)\n",
    "    print('Saving numpy array at', filepath)\n",
    "    np.save(filepath, np.ascontiguousarray(mean_shape_wrt_templateCentroid[0]))\n",
    "\n",
    "    filename = '{}_{}_origin_wrt_meanShapeCentroid.txt'.format(resolution, structure)\n",
    "    filepath = os.path.join(MESH_DIR, atlas_name, 'mean_shapes', filename)\n",
    "    print('Saving numpy text at', filepath)\n",
    "    np.savetxt(filepath, mean_shape_wrt_templateCentroid[1])\n",
    "\n",
    "\n",
    "    for level in np.arange(0.1, 1.1, .1):\n",
    "        filename = '{}_{}_mesh_level_{}.stl'.format(resolution, structure, str(level))\n",
    "        filepath = os.path.join(MESH_DIR, atlas_name, 'mean_shapes', filename)\n",
    "        print('Saving mesh at', filepath)\n",
    "        save_mesh_stl(mean_shape_isosurface_polydata_all_levels[level], filepath)\n",
    "\n",
    "    surround_name = convert_to_surround_name(structure, margin=str(int(surround_distance_um)) + 'um')\n",
    "    filename = '{}_{}_volume.npy'.format(resolution, surround_name)\n",
    "    filepath = os.path.join(MESH_DIR, atlas_name, 'mean_shapes', filename)\n",
    "    print('Saving numpy array at', filepath)\n",
    "    np.save(filepath, np.ascontiguousarray(surround_wrt_stdShapeCentroid[0]))\n",
    "\n",
    "\n",
    "    filename = '{}_{}_origin_wrt_meanShapeCentroid.txt'.format(resolution, surround_name)\n",
    "    filepath = os.path.join(MESH_DIR, atlas_name, 'mean_shapes', filename)\n",
    "    print('Saving numpy text at', filepath)\n",
    "    np.savetxt(filepath, surround_wrt_stdShapeCentroid[1])\n",
    "\n",
    "    for level in np.arange(0.1, 1.1, .1):\n",
    "        filename = '{}_{}_{}.stl'.format(resolution, surround_name, str(level))\n",
    "        filepath = os.path.join(MESH_DIR, atlas_name, 'mean_shapes', filename)\n",
    "        print('Saving mesh at', filepath)\n",
    "        save_mesh_stl(surround_isosurface_polydata_all_levels[level], filepath)\n"
   ]
  },
  {
   "cell_type": "code",
   "execution_count": null,
   "metadata": {},
   "outputs": [],
   "source": [
    "len(instance_volumes)"
   ]
  },
  {
   "cell_type": "code",
   "execution_count": null,
   "metadata": {},
   "outputs": [],
   "source": [
    "i = 1\n",
    "# Compute transform.\n",
    "moving_instance_volume = instance_volumes[i]\n",
    "aligner = Aligner({0: template_instance_wrt_templateCentroid}, \n",
    "                  {0: (moving_instance_volume, np.array((0,0,0)))}, \n",
    "                  labelIndexMap_m2f={0:0})\n",
    "aligner.set_centroid(centroid_m='structure_centroid', centroid_f='structure_centroid')\n",
    "aligner.compute_gradient(smooth_first=True)\n",
    "lr = .1\n",
    "_, _ = aligner.optimize(tf_type='rigid', \n",
    "                     history_len=100, \n",
    "                    max_iter_num=100 if structure in ['SC', 'IC'] else 10000,\n",
    "                     grad_computation_sample_number=None,\n",
    "                        full_lr=np.array([lr,lr,lr,0.1,0.1,0.1]),\n",
    "                       terminate_thresh_trans=.01)"
   ]
  },
  {
   "cell_type": "code",
   "execution_count": null,
   "metadata": {},
   "outputs": [],
   "source": [
    "moving_instance_volume.shape, moving_instance_volume.dtype"
   ]
  },
  {
   "cell_type": "code",
   "execution_count": null,
   "metadata": {},
   "outputs": [],
   "source": [
    "filename = os.path.join(VOL_DIR, atlas_name, 'moving_instance_volume.npy')\n",
    "print(filename)\n",
    "np.save(filename, moving_instance_volume)"
   ]
  },
  {
   "cell_type": "code",
   "execution_count": null,
   "metadata": {},
   "outputs": [],
   "source": [
    "plt.plot(aligner.Ts);"
   ]
  },
  {
   "cell_type": "code",
   "execution_count": null,
   "metadata": {},
   "outputs": [],
   "source": [
    "plt.plot(aligner.scores);"
   ]
  },
  {
   "cell_type": "code",
   "execution_count": null,
   "metadata": {
    "scrolled": true
   },
   "outputs": [],
   "source": [
    "# doesn't display much\n",
    "# Transform instances.\n",
    "\n",
    "T = convert_transform_forms(aligner=aligner, out_form=(3,4), select_best='max_value')\n",
    "\n",
    "aligned_moving_instance_volume, aligned_moving_instance_origin_wrt_templateCentroid = \\\n",
    "transform_volume_v4((moving_instance_volume, (0,0,0)), transform=T,\n",
    "                    return_origin_instead_of_bbox=True)\n",
    "\n",
    "aligned_moving_instance_wrt_templateCentroid = (aligned_moving_instance_volume, aligned_moving_instance_origin_wrt_templateCentroid)        \n",
    "\n",
    "# Generate meshes for each instance.\n",
    "\n",
    "instance_mesh_wrt_templateCentroid_all_instances = [\n",
    "volume_to_polydata((v, o), num_simplify_iter=3, smooth=True)\n",
    "for v, o in \n",
    "[template_instance_wrt_templateCentroid] + [aligned_moving_instance_wrt_templateCentroid]]"
   ]
  },
  {
   "cell_type": "code",
   "execution_count": null,
   "metadata": {},
   "outputs": [],
   "source": [
    "# crashes the kernel\n",
    "#launch_vtk([actor_mesh(mesh, wireframe=True, color=np.array(high_contrast_colors[i+1])/255., opacity=1) \n",
    "#    for i, mesh in enumerate([instance_mesh_wrt_templateCentroid_all_instances[0],\n",
    "#                             instance_mesh_wrt_templateCentroid_all_instances[1]])], \n",
    "#  background_color=(1,1,1))\n"
   ]
  },
  {
   "cell_type": "markdown",
   "metadata": {},
   "source": [
    "# Visualize Results"
   ]
  },
  {
   "cell_type": "code",
   "execution_count": null,
   "metadata": {},
   "outputs": [],
   "source": [
    "# for name_u in all_known_structures:\n",
    "for name_u in structures:\n",
    "    fig, axes = plt.subplots(1, 5,squeeze=True, figsize=(20,2));\n",
    "    for i in range(1, 6):\n",
    "#         try:\n",
    "        scores = load_alignment_results_v3(what='scoreHistory', alignment_spec=dict(warp_setting=108, \n",
    "                          stack_f=dict(name='%s_instance0' % name_u, vol_type='annotationAsScore'),\n",
    "                         stack_m=dict(name='%s_instance%d' % (name_u, i), vol_type='annotationAsScore')),\n",
    "                 reg_root_dir=os.path.join(MESH_DIR, atlas_name, 'mean_shapes', 'instance_registration')) \n",
    "\n",
    "        axes[i-1].plot(scores);\n",
    "        axes[i-1].set_title('%s_instance%d' % (name_u, i))\n",
    "    plt.show();"
   ]
  },
  {
   "cell_type": "code",
   "execution_count": null,
   "metadata": {},
   "outputs": [],
   "source": [
    "# for name_u in all_known_structures:\n",
    "for name_u in structures:\n",
    "    fig, axes = plt.subplots(1, 5,squeeze=True, figsize=(20,2));\n",
    "    for i in range(1, 6):\n",
    "        trajectory = load_alignment_results_v3(what='trajectory',\n",
    "                          alignment_spec=dict(warp_setting=108, \n",
    "                                              stack_f=dict(name='%s_instance0' % name_u, vol_type='annotationAsScore'),\n",
    "                                             stack_m=dict(name='%s_instance%d' % (name_u, i), vol_type='annotationAsScore')),\n",
    "                                     reg_root_dir=os.path.join(MESH_DIR, atlas_name, 'mean_shapes', 'instance_registration'))        \n",
    "        axes[i-1].plot(trajectory);\n",
    "        axes[i-1].set_title('%s_instance%d' % (name_u, i))\n",
    "    plt.show();"
   ]
  },
  {
   "cell_type": "code",
   "execution_count": null,
   "metadata": {},
   "outputs": [],
   "source": [
    "for name_u in structures:\n",
    "    # Load instance meshes.\n",
    "    instance_meshes = []\n",
    "    for i in range(6):\n",
    "        filepath = get_instance_mesh_filepath(atlas_name=atlas_name, structure=name_u,index=i, resolution='10um')\n",
    "        m = load_data(filepath, filetype='stl')\n",
    "        if m is not None:\n",
    "            instance_meshes.append(m)\n",
    "\n",
    "    #launch_vtk([actor_mesh(m, wireframe=True, color=np.array(high_contrast_colors[i+1])/255., opacity=1, wireframe_linewidth=3) \n",
    "    #    for i, m in enumerate(instance_meshes)], \n",
    "    #  background_color=(1,1,1))\n",
    "    \n",
    "    # Load average shape.\n",
    "    filepath = get_mean_shape_filepath(atlas_name=atlas_name, structure=name_u, what='volume', resolution='10.0um')\n",
    "    vol = load_data(filepath, filetype='stl')\n",
    "    filepath = get_mean_shape_filepath(atlas_name=atlas_name, structure=name_u, what='origin_wrt_meanShapeCentroid', resolution='10.0um')\n",
    "    ori_wrt_meanShapeCentroid = load_data(filepath, filetype='stl')\n",
    "    \n",
    "    standard_shape_volume_actor = actor_volume(vol.astype(np.float32), \n",
    "                                               what='probability', \n",
    "                                               origin=ori_wrt_meanShapeCentroid, \n",
    "                                              c=(0,0,0))\n",
    "    \n",
    "    #launch_vtk([standard_shape_volume_actor])"
   ]
  },
  {
   "cell_type": "markdown",
   "metadata": {},
   "source": [
    "# Combine standard shapes with standard centroid locations"
   ]
  },
  {
   "cell_type": "code",
   "execution_count": 6,
   "metadata": {},
   "outputs": [],
   "source": [
    "atlas_name = 'atlasV7'\n",
    "atlas_resolution = '10.0um'\n",
    "atlas_resolution_um = 10.0"
   ]
  },
  {
   "cell_type": "code",
   "execution_count": null,
   "metadata": {
    "scrolled": true
   },
   "outputs": [],
   "source": [
    "filepath = get_structure_mean_positions_filepath(atlas_name=atlas_name, resolution='1um')\n",
    "all_known_structures = all_known_structures_unsided_including_surround_200um()\n",
    "nominal_centroids_wrt_canonicalAtlasSpace_um = load_data(filepath, filetype='pkl')\n",
    "nominal_centroids_wrt_canonicalAtlasSpace_10um = {s: c / atlas_resolution_um for s, c in nominal_centroids_wrt_canonicalAtlasSpace_um.items()}\n",
    "\n",
    "mean_shapes_10um_wrt_stdShapeCentroid = {name_u: load_mean_shape(atlas_name=atlas_name, structure=name_u, resolution=atlas_resolution) \n",
    "                    for name_u in all_known_structures}"
   ]
  },
  {
   "cell_type": "code",
   "execution_count": 7,
   "metadata": {},
   "outputs": [],
   "source": [
    "atlas_spec = dict(name=atlas_name, vol_type='score', resolution=atlas_resolution)"
   ]
  },
  {
   "cell_type": "code",
   "execution_count": null,
   "metadata": {},
   "outputs": [],
   "source": [
    "## TODO: simplify this.\n",
    "# mean_shape_wrt_canonicalAtlasSpace_all_structures_10um = {}\n",
    "for name_u in structures:\n",
    "# for name_u in ['7N']:\n",
    "#     mean_shape_10um, mean_shape_origin_wrt_stdShapeCentroid_10um = mean_shapes_10um_wrt_stdShapeCentroid[name_u]\n",
    "#     mean_shape_surround_10um, mean_shape_surround_origin_wrt_stdShapeCentroid_10um = mean_shapes_10um_wrt_stdShapeCentroid[convert_to_surround_name(name_u, margin='200um')]\n",
    "    \n",
    "    if name_u in singular_structures:                \n",
    "        for name in [name_u, convert_to_surround_name(name_u, margin='200um')]:\n",
    "            mean_shape_wrt_canonicalAtlasSpace_10um = (mean_shapes_10um_wrt_stdShapeCentroid[name][0], \n",
    "                        mean_shapes_10um_wrt_stdShapeCentroid[name][1] + \n",
    "                                                       nominal_centroids_wrt_canonicalAtlasSpace_10um[name_u])\n",
    "            \n",
    "#             mean_shape_wrt_canonicalAtlasSpace_all_structures_10um[name] = mean_shape_wrt_canonicalAtlasSpace_10um\n",
    "\n",
    "            #save_original_volume(volume=mean_shape_wrt_canonicalAtlasSpace_10um, stack_spec=atlas_spec, structure=name, wrt='canonicalAtlasSpace')\n",
    "            print('mean_shape_wrt', np.shape(mean_shape_wrt_canonicalAtlasSpace_10um))\n",
    "    else:\n",
    "        \n",
    "        left_name = convert_to_left_name(name_u)\n",
    "        left_surround_name = convert_to_surround_name(left_name, margin='200um')\n",
    "        right_name = convert_to_right_name(name_u)\n",
    "        right_surround_name = convert_to_surround_name(right_name, margin='200um')\n",
    "\n",
    "        left_mean_shape_wrt_canonicalAtlasSpace_10um = mirror_volume_v2(volume=mean_shapes_10um_wrt_stdShapeCentroid[name_u],\n",
    "             centroid_wrt_origin=-mean_shapes_10um_wrt_stdShapeCentroid[name_u][1],\n",
    "            new_centroid=nominal_centroids_wrt_canonicalAtlasSpace_10um[left_name])\n",
    "\n",
    "        save_original_volume(volume=left_mean_shape_wrt_canonicalAtlasSpace_10um, \n",
    "                             stack_spec=atlas_spec, \n",
    "                             structure=left_name, wrt='canonicalAtlasSpace')\n",
    "\n",
    "        left_mean_shape_wrt_canonicalAtlasSpace_10um = mirror_volume_v2(\\\n",
    "            volume=mean_shapes_10um_wrt_stdShapeCentroid[convert_to_surround_name(name_u, margin='200um')][0],\n",
    "            centroid_wrt_origin=-mean_shapes_10um_wrt_stdShapeCentroid[convert_to_surround_name(name_u, margin='200um')][1],\n",
    "            new_centroid=nominal_centroids_wrt_canonicalAtlasSpace_10um[left_name])        \n",
    "        \n",
    "        save_original_volume(volume=left_mean_shape_wrt_canonicalAtlasSpace_10um, \n",
    "                             stack_spec=atlas_spec, \n",
    "                             structure=left_surround_name, wrt='canonicalAtlasSpace')\n",
    "        \n",
    "        \n",
    "        right_mean_shape_wrt_canonicalAtlasSpace_10um = (mean_shapes_10um_wrt_stdShapeCentroid[name_u][0], \n",
    "        mean_shapes_10um_wrt_stdShapeCentroid[name_u][1] + nominal_centroids_wrt_canonicalAtlasSpace_10um[right_name])\n",
    "        \n",
    "        save_original_volume(volume=right_mean_shape_wrt_canonicalAtlasSpace_10um, \n",
    "                                 stack_spec=atlas_spec, \n",
    "                                 structure=right_name, wrt='canonicalAtlasSpace')\n",
    "            \n",
    "        \n",
    "        \n",
    "        right_mean_shape_wrt_canonicalAtlasSpace_10um = (mean_shapes_10um_wrt_stdShapeCentroid[convert_to_surround_name(name_u, margin='200um')][0], \n",
    "        mean_shapes_10um_wrt_stdShapeCentroid[convert_to_surround_name(name_u, margin='200um')][1] + nominal_centroids_wrt_canonicalAtlasSpace_10um[right_name])\n",
    "        \n",
    "        save_original_volume(volume=right_mean_shape_wrt_canonicalAtlasSpace_10um, \n",
    "                                 stack_spec=atlas_spec, \n",
    "                                 structure=right_surround_name, wrt='canonicalAtlasSpace')"
   ]
  },
  {
   "cell_type": "markdown",
   "metadata": {},
   "source": [
    "# Convert to vtk polydata for visualization"
   ]
  },
  {
   "cell_type": "code",
   "execution_count": 11,
   "metadata": {
    "scrolled": true
   },
   "outputs": [
    {
     "name": "stderr",
     "output_type": "stream",
     "text": [
      "mesh_to_polydata: No faces are provided, so skip simplification.\n",
      "mesh_to_polydata: No faces are provided, so skip simplification.\n",
      "mesh_to_polydata: No faces are provided, so skip simplification.\n",
      "mesh_to_polydata: No faces are provided, so skip simplification.\n",
      "mesh_to_polydata: No faces are provided, so skip simplification.\n",
      "mesh_to_polydata: No faces are provided, so skip simplification.\n",
      "mesh_to_polydata: No faces are provided, so skip simplification.\n",
      "mesh_to_polydata: No faces are provided, so skip simplification.\n",
      "mesh_to_polydata: No faces are provided, so skip simplification.\n",
      "mesh_to_polydata: No faces are provided, so skip simplification.\n",
      "mesh_to_polydata: No faces are provided, so skip simplification.\n",
      "mesh_to_polydata: No faces are provided, so skip simplification.\n",
      "mesh_to_polydata: No faces are provided, so skip simplification.\n",
      "mesh_to_polydata: No faces are provided, so skip simplification.\n",
      "mesh_to_polydata: No faces are provided, so skip simplification.\n",
      "mesh_to_polydata: No faces are provided, so skip simplification.\n",
      "mesh_to_polydata: No faces are provided, so skip simplification.\n",
      "mesh_to_polydata: No faces are provided, so skip simplification.\n",
      "mesh_to_polydata: No faces are provided, so skip simplification.\n",
      "mesh_to_polydata: No faces are provided, so skip simplification.\n",
      "mesh_to_polydata: No faces are provided, so skip simplification.\n",
      "mesh_to_polydata: No faces are provided, so skip simplification.\n",
      "mesh_to_polydata: No faces are provided, so skip simplification.\n",
      "mesh_to_polydata: No faces are provided, so skip simplification.\n",
      "mesh_to_polydata: No faces are provided, so skip simplification.\n",
      "mesh_to_polydata: No faces are provided, so skip simplification.\n",
      "mesh_to_polydata: No faces are provided, so skip simplification.\n",
      "mesh_to_polydata: No faces are provided, so skip simplification.\n"
     ]
    }
   ],
   "source": [
    "#for name_s in all_known_structures_sided_including_surround_200um:\n",
    "for name_s in structures:\n",
    "    atlas_structure_wrt_canonicalAtlasSpace = \\\n",
    "    load_original_volume_v2(stack_spec=atlas_spec, structure=name_s, bbox_wrt='canonicalAtlasSpace')\n",
    "\n",
    "    for surface_level in np.arange(0.1, 1.1, .1):\n",
    "        mean_shape_isosurface_polydata_wrt_canonicalAtlasSpace = \\\n",
    "        volume_to_polydata(volume=(atlas_structure_wrt_canonicalAtlasSpace[0] >= surface_level, atlas_structure_wrt_canonicalAtlasSpace[1]), \n",
    "                     num_simplify_iter=3, smooth=True, \n",
    "                     return_vertex_face_list=False)\n",
    "        path = '/home/eddyod/tmp/meshes'\n",
    "        if surface_level == 0.9:\n",
    "            filepath = os.path.join(path, '{}_{}.stl'.format(name_s, surface_level))\n",
    "            save_mesh_stl(mean_shape_isosurface_polydata_wrt_canonicalAtlasSpace, filepath)\n",
    "        #save_data(mean_shape_isosurface_polydata_wrt_canonicalAtlasSpace, \n",
    "        #          DataManager.get_mesh_filepath_v2(atlas_spec, structure=name_s, level=surface_level))"
   ]
  },
  {
   "cell_type": "code",
   "execution_count": null,
   "metadata": {},
   "outputs": [],
   "source": [
    "mean_shape_level05isosurface_polydata_wrt_canonicalAtlasSpace_all_structures = \\\n",
    "{name_s: load_data(DataManager.get_mesh_filepath_v2(atlas_spec, structure=name_s, level=0.5))\n",
    "for name_s in all_known_structures_sided}"
   ]
  },
  {
   "cell_type": "code",
   "execution_count": null,
   "metadata": {},
   "outputs": [],
   "source": [
    "#launch_vtk([actor_mesh(v, wireframe=False, opacity=.5, color=name_unsided_to_color_float[convert_to_original_name(s)]) \n",
    "#            for s, v in mean_shape_level05isosurface_polydata_wrt_canonicalAtlasSpace_all_structures.iteritems()] \\\n",
    "#          + [actor_sphere([0,0,0])])"
   ]
  },
  {
   "cell_type": "markdown",
   "metadata": {},
   "source": [
    "# Shell"
   ]
  },
  {
   "cell_type": "markdown",
   "metadata": {},
   "source": [
    "Just use MD589's shell, until we find a way to average the outlines."
   ]
  },
  {
   "cell_type": "code",
   "execution_count": null,
   "metadata": {},
   "outputs": [],
   "source": [
    "stack_fixed = 'MD589'\n",
    "MASKS = '/net/birdstore/Active_Atlas_Data/data_root/brains_info/masks/{}/aligned'.format(stack_fixed)\n",
    "margin_um = 200\n",
    "in_resolution_um = 0.46 * 32\n",
    "margin_tb = margin_um / XY_PIXEL_DISTANCE_TB\n",
    "for stack in ['MD589']:\n",
    "    #sqlController = SqlController(stack)\n",
    "#     contours_valid_by_z = {}\n",
    "    contour_prob_maps_by_sec = {} \n",
    "    sections = sorted(os.listdir(MASKS))\n",
    "    i = 1\n",
    "    for sec in sections[0:10]:\n",
    "        maskfile = os.path.join(MASKS, sec)\n",
    "        m = io.imread(maskfile)\n",
    "        contours = find_contour_points(m, sample_every=1)[1]\n",
    "        contours_valid = [cnt[(cnt[:,0] >= 1) & (cnt[:,1] >= 1)] for cnt in contours]\n",
    "#         z = np.mean(DataManager.convert_section_to_z(stack, sec, downsample=32, z_begin=0))\n",
    "#         contours_valid_by_z[z] = contours_valid[0]\n",
    "        m2 = np.zeros_like(m, np.bool)\n",
    "        for cnt in contours_valid:\n",
    "            m2[cnt[:,1], cnt[:,0]] = 1\n",
    "        distance_to_contour = distance_transform_edt(~m2)\n",
    "        contour_prob_map = np.exp(-distance_to_contour**2/(2*margin_tb)**2)\n",
    "        contour_prob_map[contour_prob_map < 1e-2] = 0\n",
    "        contour_prob_maps_by_sec[i] = contour_prob_map\n",
    "        i += 1\n",
    "        \n",
    "outline_prob_volume_atlasResol, outline_prob_volume_origin_wrt_wholebrainXYcropped_atlasResol = \\\n",
    "images_to_volume_v2(images=contour_prob_maps_by_sec, spacing_um=20, \n",
    "                    in_resol_um = in_resolution_um,\n",
    "                    out_resol_um = atlas_resolution_um)                                                                    \n",
    "#outline_prob_volume_bbox (xm,xm,ym,ym) relative to cropped, (zm,zm) relative to uncropped.\n",
    "# crop_box = metadata_cache['cropbox']['MD589']\n",
    "alignedBrainstemCrop_cropbox_down32 = load_cropbox_v2(stack=stack_fixed, prep_id='alignedBrainstemCrop')\n",
    "alignedBrainstemCrop_cropbox_atlasResol = alignedBrainstemCrop_cropbox_down32 * in_resolution_um / atlas_resolution_um\n",
    "outline_prob_volume_origin_rel2fixedwholebrain_atlasResol = outline_prob_volume_origin_wrt_wholebrainXYcropped_atlasResol + (alignedBrainstemCrop_cropbox_atlasResol[0], alignedBrainstemCrop_cropbox_atlasResol[2], 0)\n",
    "#display_volume_sections(outline_prob_volume, direction='z', ncols=5, cmap=plt.cm.gray, start_level=0)"
   ]
  },
  {
   "cell_type": "code",
   "execution_count": null,
   "metadata": {},
   "outputs": [],
   "source": [
    "outline_prob_volume_origin_rel2canon_atlasResol = outline_prob_volume_origin_rel2fixedwholebrain_atlasResol - \\\n",
    "canonical_center_wrt_fixed_um/convert_resolution_string_to_um(resolution='10.0um')"
   ]
  },
  {
   "cell_type": "code",
   "execution_count": null,
   "metadata": {},
   "outputs": [],
   "source": [
    "shell_vol_origin_dict_rel2canon = {'shell': (outline_prob_volume_atlasResol, outline_prob_volume_origin_rel2canon_atlasResol)}"
   ]
  },
  {
   "cell_type": "markdown",
   "metadata": {},
   "source": [
    "# Side task: compute the volumes of structures"
   ]
  },
  {
   "cell_type": "code",
   "execution_count": null,
   "metadata": {},
   "outputs": [],
   "source": [
    "atlas_resolution = '10.0um'\n",
    "atlas_resolution_um = 10.0\n",
    "atlas_spec = dict(name='atlasV7', vol_type='score', resolution=atlas_resolution)\n",
    "volumes = load_original_volume_all_known_structures_v3(atlas_spec, \n",
    "                           structures=all_known_structures_sided, in_bbox_wrt='canonicalAtlasSpace')\n",
    "\n",
    "volumes_mm3 = defaultdict(dict)\n",
    "structures = ['SC', 'IC']\n",
    "for name_u in structures:\n",
    "    for level in np.arange(0, 1.1, .1):\n",
    "        volumes_mm3[name_u][level] = np.count_nonzero(volumes[convert_to_left_name(name_u)][0] > level) * 10.**3 / 1e9"
   ]
  },
  {
   "cell_type": "code",
   "execution_count": null,
   "metadata": {},
   "outputs": [],
   "source": [
    "df = pd.DataFrame(volumes_mm3)"
   ]
  },
  {
   "cell_type": "code",
   "execution_count": null,
   "metadata": {},
   "outputs": [],
   "source": [
    "df.head()"
   ]
  },
  {
   "cell_type": "markdown",
   "metadata": {},
   "source": [
    "# Load"
   ]
  },
  {
   "cell_type": "code",
   "execution_count": null,
   "metadata": {},
   "outputs": [],
   "source": [
    "standard_shape_level05surface_polydata_wrt_canonicalAtlasSpace_all_structures = \\\n",
    "DataManager.load_meshes_v2(atlas_spec, levels=.5, include_surround=True, \n",
    "                           structures=all_known_structures_sided)\n",
    "#                            structures=all_known_structures_sided + all_known_structures_sided_with_surround_200um)"
   ]
  },
  {
   "cell_type": "code",
   "execution_count": null,
   "metadata": {},
   "outputs": [],
   "source": [
    "launch_vtk([actor_mesh(p, wireframe=True) \n",
    "           for s, p in standard_shape_level05surface_polydata_wrt_canonicalAtlasSpace_all_structures.iteritems()] \\\n",
    "            + [actor_sphere((0,0,0), radius=1)])"
   ]
  },
  {
   "cell_type": "code",
   "execution_count": null,
   "metadata": {},
   "outputs": [],
   "source": [
    "# Show multiple iso-surfaces\n",
    "\n",
    "standard_shape_level010surface_polydata_wrt_canonicalAtlasSpace_all_structures = \\\n",
    "DataManager.load_meshes_v2(atlas_spec, levels=.1, include_surround=True, \n",
    "                           structures=all_known_structures_sided)\n",
    "#                            structures=all_known_structures_sided + all_known_structures_sided_with_surround_200um)\n",
    "\n",
    "standard_shape_level090surface_polydata_wrt_canonicalAtlasSpace_all_structures = \\\n",
    "DataManager.load_meshes_v2(atlas_spec, levels=.9, include_surround=True, \n",
    "                           structures=all_known_structures_sided)\n",
    "#                            structures=all_known_structures_sided + all_known_structures_sided_with_surround_200um)\n",
    "\n",
    "launch_vtk([actor_mesh(p, wireframe=False, color=name_unsided_to_color_float[convert_to_unsided_label(s)], opacity=.2) \n",
    "           for s, p in standard_shape_level010surface_polydata_wrt_canonicalAtlasSpace_all_structures.iteritems()] \\\n",
    "           + [actor_mesh(p, wireframe=False, color=name_unsided_to_color_float[convert_to_unsided_label(s)], opacity=.1) \n",
    "           for s, p in standard_shape_level090surface_polydata_wrt_canonicalAtlasSpace_all_structures.iteritems()] \\\n",
    "            + [actor_sphere((0,0,0), radius=1)])"
   ]
  },
  {
   "cell_type": "code",
   "execution_count": null,
   "metadata": {},
   "outputs": [],
   "source": [
    "# Load shell\n",
    "\n",
    "stack_fixed = 'MD589'\n",
    "shell_polydata_rel2fixedWholebrain = DataManager.load_mesh_v2(brain_spec={'name':stack_fixed, \n",
    "                                                                    'vol_type':'annotationAsScore',\n",
    "                                                                   'resolution':'10.0um'}, \n",
    "                                                        structure='shell')\n",
    "\n",
    "shell_polydata_rel2canonicalAtlasSpace = move_polydata(shell_polydata_rel2fixedWholebrain,\n",
    "                                                       -canonical_center_wrt_fixed_um / convert_resolution_string_to_um(resolution='10.0um'))\n",
    "\n",
    "shell_actor_rel2canon = actor_mesh(shell_polydata_rel2fixedWholebrain, (1,1,1), opacity=.15, \n",
    "                              wireframe=False, origin=-canonical_center_wrt_fixed_um / convert_resolution_string_to_um(resolution='10.0um'))"
   ]
  },
  {
   "cell_type": "code",
   "execution_count": null,
   "metadata": {},
   "outputs": [],
   "source": [
    "save_data(shell_polydata_rel2canonicalAtlasSpace, \n",
    "          DataManager.get_mesh_filepath_v2(atlas_spec, structure='shell', level=None))"
   ]
  },
  {
   "cell_type": "code",
   "execution_count": null,
   "metadata": {},
   "outputs": [],
   "source": [
    "launch_vtk([actor_mesh(p, wireframe=False, color=name_unsided_to_color_float[convert_to_unsided_label(s)], opacity=.2) \n",
    "           for s, p in standard_shape_level010surface_polydata_wrt_canonicalAtlasSpace_all_structures.iteritems()] \\\n",
    "           + [actor_mesh(p, wireframe=False, color=name_unsided_to_color_float[convert_to_unsided_label(s)], opacity=.1) \n",
    "           for s, p in standard_shape_level090surface_polydata_wrt_canonicalAtlasSpace_all_structures.iteritems()] \\\n",
    "            + [actor_sphere((0,0,0), radius=1)]\\\n",
    "#           +[shell_actor_rel2canon] \\\n",
    "           +[actor_mesh(shell_polydata_rel2canonicalAtlasSpace, (1,1,1), opacity=.15, \n",
    "                              wireframe=False)]\n",
    "#           +[actor_volume(shell_vol_origin_dict_rel2canon['shell'][0].astype(np.float32), \n",
    "#                          what='probability', origin=shell_vol_origin_dict_rel2canon['shell'][1])]\n",
    "          )"
   ]
  },
  {
   "cell_type": "code",
   "execution_count": null,
   "metadata": {},
   "outputs": [],
   "source": [
    "# atlas_volume, structure_to_label, label_to_structure = \\\n",
    "# DataManager.load_original_volume_all_known_structures(stack=atlas_name, sided=True)"
   ]
  },
  {
   "cell_type": "code",
   "execution_count": null,
   "metadata": {},
   "outputs": [],
   "source": [
    "vol, origin_rel2canon = structure_vol_origin_dicts_rel2canon['7N_L']\n",
    "\n",
    "one_structure_volume_actor_rel2canon = actor_volume(vol.astype(np.float32), what='score', \n",
    "                                              origin=origin_rel2canon,\n",
    "                                                    auxdata=0.8*(vol>0.1).astype(np.float32),\n",
    "                                              c=np.array(name_unsided_to_color['7N'])/255.)\n",
    "#                                             c=np.array((1,0,0)))"
   ]
  },
  {
   "cell_type": "markdown",
   "metadata": {},
   "source": [
    "# Render"
   ]
  },
  {
   "cell_type": "code",
   "execution_count": null,
   "metadata": {},
   "outputs": [],
   "source": [
    "launch_vtk([] \\\n",
    "    + structure_mesh_actors_rel2canon \\\n",
    "#     + [one_structure_volume_actor_rel2canon] \\\n",
    "#     + [shell_volume_actor_rel2canon] \\\n",
    "#     + structure_mesh_surround_actors_rel2canon \\\n",
    "    + [shell_actor_rel2canon] \\\n",
    "    + [actor_sphere((0,0,0), radius=1)], \n",
    "           init_angle='sagittal', \n",
    "    background_color=(1,1,1),\n",
    "depth_peeling=True)"
   ]
  }
 ],
 "metadata": {
  "kernelspec": {
   "display_name": "Python 2",
   "language": "python",
   "name": "python2"
  },
  "language_info": {
   "codemirror_mode": {
    "name": "ipython",
    "version": 3
   },
   "file_extension": ".py",
   "mimetype": "text/x-python",
   "name": "python",
   "nbconvert_exporter": "python",
   "pygments_lexer": "ipython3",
   "version": "3.8.2"
  }
 },
 "nbformat": 4,
 "nbformat_minor": 2
}
