{
 "cells": [
  {
   "cell_type": "code",
   "execution_count": 1,
   "metadata": {
    "scrolled": true
   },
   "outputs": [],
   "source": [
    "import os,sys\n",
    "from collections import defaultdict\n",
    "import json\n",
    "import numpy as np\n",
    "import pickle\n",
    "import matplotlib\n",
    "from matplotlib import pyplot as plt\n",
    "%load_ext autoreload\n",
    "%autoreload 2"
   ]
  },
  {
   "cell_type": "code",
   "execution_count": 30,
   "metadata": {},
   "outputs": [],
   "source": [
    "PATH = '/home/eddyod/programming/pipeline_utility'\n",
    "MESH_DIR = '/net/birdstore/Active_Atlas_Data/data_root/CSHL_meshes'\n",
    "sys.path.append(PATH)\n",
    "from utilities.imported_atlas_utilities import load_original_volume_all_known_structures_v3, get_centroid_3d, \\\n",
    "    load_alignment_results_v3, transform_points, average_location, \\\n",
    "    convert_to_original_name, name_unsided_to_color, paired_structures, \\\n",
    "    convert_to_left_name, convert_to_right_name, load_original_volume_v2, save_alignment_results_v3, \\\n",
    "    convert_transform_forms, transform_volume_v4, volume_to_polydata, singular_structures, \\\n",
    "    MESH_DIR, average_shape, convert_to_surround_name, \\\n",
    "    save_mesh_stl, get_surround_volume_v2, transform_volume_v4, launch_vtk, actor_mesh, high_contrast_colors, \\\n",
    "    add_axes, plot_centroid_means_and_covars_3d, all_known_structures_sided\n",
    "from utilities.aligner_v3 import Aligner"
   ]
  },
  {
   "cell_type": "code",
   "execution_count": 3,
   "metadata": {},
   "outputs": [],
   "source": [
    "INPUT_KEY_LOC = os.path.join(PATH, 'neuroglancer', 'structure_key_minimal.json')\n",
    "NUM_STRUCTS = 49\n",
    "with open(INPUT_KEY_LOC, 'r') as f:\n",
    "    structures = json.load(f)\n",
    "structures = list(structures.values())\n",
    "structures = structures[0:9]"
   ]
  },
  {
   "cell_type": "code",
   "execution_count": 4,
   "metadata": {},
   "outputs": [
    {
     "data": {
      "text/plain": [
       "['10N_L', '10N_R', '12N', '3N_L', '3N_R', '4N_L', '4N_R', '5N_L', '5N_R']"
      ]
     },
     "execution_count": 4,
     "metadata": {},
     "output_type": "execute_result"
    }
   ],
   "source": [
    "structures"
   ]
  },
  {
   "cell_type": "code",
   "execution_count": 5,
   "metadata": {},
   "outputs": [],
   "source": [
    "atlas_name = 'atlasV7'\n",
    "fixed_brain_name = 'MD589'\n",
    "moving_brain_names = ['MD585', 'MD594']\n",
    "resolution = '10.0um'\n",
    "resolution_um = 10.0\n",
    "structure_centroids_all_brains_um_wrt_fixed = []\n",
    "fixed_brain_spec = {'name': fixed_brain_name, 'vol_type': 'annotationAsScore', 'resolution': resolution}"
   ]
  },
  {
   "cell_type": "code",
   "execution_count": 6,
   "metadata": {
    "scrolled": true
   },
   "outputs": [
    {
     "name": "stderr",
     "output_type": "stream",
     "text": [
      "Prior structure/index map not found. Generating a new one.\n"
     ]
    },
    {
     "name": "stdout",
     "output_type": "stream",
     "text": [
      "fixed_brain_structure_centroids {'10N_L': array([1377.9323021 ,  600.54621743,  422.01120992]), '10N_R': array([1377.78125193,  600.98146203,  478.83958475]), '12N': array([1365.88068653,  615.20999364,  452.5142025 ]), '3N_L': array([1060.76684485,  440.31618706,  442.33235172]), '3N_R': array([1062.71309218,  440.81977598,  467.55040397]), '4N_L': array([1094.23971377,  449.07513417,  418.41144902]), '4N_R': array([1094.19370861,  447.37251656,  472.13576159]), '5N_L': array([1135.63803623,  570.75503797,  318.95509957]), '5N_R': array([1127.76469797,  554.34528704,  598.29166346])}\n",
      "fixed_brain_structure_centroids_um {'10N_L': array([13779.32302104,  6005.46217435,  4220.1120992 ]), '10N_R': array([13777.81251931,  6009.81462028,  4788.39584749]), '12N': array([13658.80686535,  6152.09993636,  4525.14202502]), '3N_L': array([10607.66844851,  4403.16187062,  4423.32351717]), '3N_R': array([10627.13092178,  4408.19775982,  4675.50403966]), '4N_L': array([10942.39713775,  4490.75134168,  4184.11449016]), '4N_R': array([10941.93708609,  4473.72516556,  4721.35761589]), '5N_L': array([11356.38036228,  5707.5503797 ,  3189.55099575]), '5N_R': array([11277.64697971,  5543.45287043,  5982.91663464])}\n"
     ]
    }
   ],
   "source": [
    "fixed_brain = load_original_volume_all_known_structures_v3(stack_spec=fixed_brain_spec, structures=structures)\n",
    "fixed_brain_structure_centroids = get_centroid_3d(fixed_brain)\n",
    "print('fixed_brain_structure_centroids', fixed_brain_structure_centroids)\n",
    "fixed_brain_structure_centroids_um = {s: c * resolution_um for s, c in fixed_brain_structure_centroids.items()}\n",
    "print('fixed_brain_structure_centroids_um', fixed_brain_structure_centroids_um)\n",
    "structure_centroids_all_brains_um_wrt_fixed.append(fixed_brain_structure_centroids_um)"
   ]
  },
  {
   "cell_type": "markdown",
   "metadata": {},
   "source": [
    "## Compute instance centroids"
   ]
  },
  {
   "cell_type": "code",
   "execution_count": 7,
   "metadata": {
    "scrolled": true
   },
   "outputs": [
    {
     "name": "stdout",
     "output_type": "stream",
     "text": [
      "Brain {'name': 'MD585', 'vol_type': 'annotationAsScore', 'resolution': '10.0um'}\n"
     ]
    },
    {
     "name": "stderr",
     "output_type": "stream",
     "text": [
      "Prior structure/index map not found. Generating a new one.\n"
     ]
    },
    {
     "name": "stdout",
     "output_type": "stream",
     "text": [
      "Brain {'name': 'MD594', 'vol_type': 'annotationAsScore', 'resolution': '10.0um'}\n"
     ]
    },
    {
     "name": "stderr",
     "output_type": "stream",
     "text": [
      "Prior structure/index map not found. Generating a new one.\n"
     ]
    }
   ],
   "source": [
    "for brain_m in moving_brain_names:\n",
    "    moving_brain_spec = {'name': brain_m, 'vol_type': 'annotationAsScore', 'resolution': resolution}\n",
    "    print('Brain', moving_brain_spec)\n",
    "    moving_brain = load_original_volume_all_known_structures_v3(stack_spec=moving_brain_spec, structures=structures)\n",
    "    alignment_spec = dict(stack_m=moving_brain_spec, stack_f=fixed_brain_spec, warp_setting=109)\n",
    "    moving_brain_structure_centroids_input_resol = get_centroid_3d(moving_brain)\n",
    "    # Load registration.\n",
    "    # Alignment results fp: os.path.join(reg_root_dir, alignment_spec['stack_m']['name'], warp_basename, warp_basename + '_' + what + '.' + ext)\n",
    "    transform_parameters_moving_brain_to_fixed_brain = load_alignment_results_v3(alignment_spec=alignment_spec, what='parameters')\n",
    "    # Transform moving brains into alignment with the fixed brain.\n",
    "    transformed_moving_brain_structure_centroids_input_resol_wrt_fixed = \\\n",
    "    dict(list(zip(list(moving_brain_structure_centroids_input_resol.keys()),\n",
    "                  transform_points(pts=list(moving_brain_structure_centroids_input_resol.values()),\n",
    "                                   transform=transform_parameters_moving_brain_to_fixed_brain))))\n",
    "\n",
    "    transformed_moving_brain_structure_centroids_um_wrt_fixed = \\\n",
    "        {s: c * resolution_um for s, c in\n",
    "        list(transformed_moving_brain_structure_centroids_input_resol_wrt_fixed.items())}\n",
    "\n",
    "    structure_centroids_all_brains_um_wrt_fixed.append(transformed_moving_brain_structure_centroids_um_wrt_fixed)\n"
   ]
  },
  {
   "cell_type": "code",
   "execution_count": 8,
   "metadata": {},
   "outputs": [],
   "source": [
    "structure_centroids_all_brains_um_grouped_by_structure_wrt_fixed = defaultdict(list)\n",
    "for sc in structure_centroids_all_brains_um_wrt_fixed:\n",
    "    for k, c in sc.items():\n",
    "        structure_centroids_all_brains_um_grouped_by_structure_wrt_fixed[k].append(c)\n",
    "structure_centroids_all_brains_um_grouped_by_structure_wrt_fixed.default_factory = None"
   ]
  },
  {
   "cell_type": "markdown",
   "metadata": {},
   "source": [
    "## Compute standard centroids"
   ]
  },
  {
   "cell_type": "code",
   "execution_count": 9,
   "metadata": {},
   "outputs": [
    {
     "name": "stdout",
     "output_type": "stream",
     "text": [
      "('Mid-sagittal plane normal vector =', array([ 0.04541714, -0.09275103,  0.99465297]), '@ Mid-sagittal plane anchor wrt fixed wholebrain =', array([12110.9375988 ,  5458.61608015,  4611.96402947]))\n",
      "('Angular deviation of the mid sagittal plane normal around y axis (degree) =', 5.927719704050841)\n"
     ]
    }
   ],
   "source": [
    "nominal_centroids_wrt_canonicalAtlasSpace_um, \\\n",
    "instance_centroids_wrt_canonicalAtlasSpace_um, \\\n",
    "canonical_center_wrt_fixed_um, \\\n",
    "canonical_normal, \\\n",
    "transform_matrix_to_canonicalAtlasSpace_um = \\\n",
    "average_location(structure_centroids_all_brains_um_grouped_by_structure_wrt_fixed)"
   ]
  },
  {
   "cell_type": "code",
   "execution_count": 10,
   "metadata": {},
   "outputs": [],
   "source": [
    "colors = {name_s: np.array(name_unsided_to_color[convert_to_original_name(name_s)])/255.\n",
    "                                        for name_s in instance_centroids_wrt_canonicalAtlasSpace_um.keys()}"
   ]
  },
  {
   "cell_type": "code",
   "execution_count": 13,
   "metadata": {},
   "outputs": [
    {
     "name": "stderr",
     "output_type": "stream",
     "text": [
      "No handles with labels found to put in legend.\n"
     ]
    },
    {
     "data": {
      "image/png": "[encoded data removed]",
      "text/plain": [
       "<Figure size 1440x1440 with 1 Axes>"
      ]
     },
     "metadata": {
      "needs_background": "light"
     },
     "output_type": "display_data"
    }
   ],
   "source": [
    "plot_centroid_means_and_covars_3d(instance_centroids=instance_centroids_wrt_canonicalAtlasSpace_um,\n",
    "                                 nominal_locations=nominal_centroids_wrt_canonicalAtlasSpace_um,\n",
    "                                 canonical_centroid=(0,0,0),\n",
    "                                  show_canonical_centroid=False,\n",
    "                                  canonical_normal=[0,0,1],\n",
    "                                 colors=colors,\n",
    "                                 xlim=[-3000, 3000],\n",
    "                                 ylim=[-3000, 3000],\n",
    "                                 zlim=[-3000, 3000],\n",
    "                                 xlabel='Rostral-caudal ($\\mu$m)',\n",
    "                                 ylabel='',\n",
    "                                 zlabel='Medial-lateral ($\\mu$m)',\n",
    "                                 title='Centroid means and covariances (3 brains)')"
   ]
  },
  {
   "cell_type": "code",
   "execution_count": 14,
   "metadata": {},
   "outputs": [],
   "source": [
    "filepath = os.path.join(MESH_DIR, 'atlasV7', '1um_meanPositions.pkl')\n",
    "with open(filepath, 'wb') as f:\n",
    "    pickle.dump(nominal_centroids_wrt_canonicalAtlasSpace_um, f)"
   ]
  },
  {
   "cell_type": "code",
   "execution_count": 15,
   "metadata": {},
   "outputs": [],
   "source": [
    "filepath = os.path.join(MESH_DIR, 'atlasV7', 'canonicalCentroid_wrt_fixedWholebrain.txt')\n",
    "np.savetxt(filepath, canonical_center_wrt_fixed_um)"
   ]
  },
  {
   "cell_type": "code",
   "execution_count": 16,
   "metadata": {},
   "outputs": [],
   "source": [
    "reg_root_dir=os.path.join(MESH_DIR, atlas_name, 'mean_shapes', 'instance_registration')"
   ]
  },
  {
   "cell_type": "code",
   "execution_count": 17,
   "metadata": {},
   "outputs": [
    {
     "name": "stdout",
     "output_type": "stream",
     "text": [
      "Registering 12N instance 1 to instance 0\n",
      "Entering aligner optimzer\n",
      "score: 0.11750000000000005\n",
      "grad: [  -15.65270698    32.92642665   -41.8894977   2369.08890551\n",
      " -2008.67451358   265.18147546]\n",
      "==========================================\n",
      "[-1.   1.  -1.   0.1 -0.1  0.1]\n",
      "[1.  1.  1.  0.1 0.1 0.1]\n",
      "[-1.  1. -1.  1. -1.  1.]\n",
      "==========================================\n",
      "score: 0.11705700000000004\n",
      "grad: [   329.30949849   -443.41357726     31.86357081  -3254.10877657\n",
      "  -1641.16670966 -21918.62573457]\n",
      "==========================================\n",
      "[ 0.99887227 -0.99725432  0.60541505 -0.08084448 -0.06327078 -0.09999268]\n",
      "[1.  1.  1.  0.1 0.1 0.1]\n",
      "[ 0.99887227 -0.99725432  0.60541505 -0.80844476 -0.63270782 -0.99992682]\n",
      "==========================================\n"
     ]
    },
    {
     "name": "stderr",
     "output_type": "stream",
     "text": [
      "Label weights not set, default to 1 for all structures.\n",
      "Regularization weights not set, default to 0.\n",
      "centroid_m: [54.88068653 35.20999364 36.4857975 ], centroid_f: [0.88068653 0.20999364 0.5142025 ]\n",
      "indices_f: {0}\n"
     ]
    },
    {
     "name": "stdout",
     "output_type": "stream",
     "text": [
      "score: 0.122365\n",
      "grad: [-3.64077818e+00  6.55209564e+01 -1.91615321e+02  9.31921820e+03\n",
      "  7.09689496e+03 -4.90260422e+02]\n",
      "==========================================\n",
      "[-0.01104265  0.14578483 -0.96428674  0.09180287  0.09392316 -0.00223601]\n",
      "[1.  1.  1.  0.1 0.1 0.1]\n",
      "[-0.01104265  0.14578483 -0.96428674  0.91802869  0.93923158 -0.02236007]\n",
      "==========================================\n",
      "Registering 12N instance 2 to instance 0\n"
     ]
    },
    {
     "name": "stderr",
     "output_type": "stream",
     "text": [
      "/home/eddyod/programming/pipeline_utility/utilities/imported_atlas_utilities.py:3073: FutureWarning: Conversion of the second argument of issubdtype from `float` to `np.floating` is deprecated. In future, it will be treated as `np.float64 == np.dtype(float).type`.\n",
      "  if np.issubdtype(volume_m_aligned_to_f.dtype, np.float):\n",
      "/home/eddyod/programming/pipeline_utility/utilities/imported_atlas_utilities.py:3080: FutureWarning: Conversion of the second argument of issubdtype from `bool` to `np.generic` is deprecated. In future, it will be treated as `np.bool_ == np.dtype(bool).type`.\n",
      "  elif np.issubdtype(volume_m_aligned_to_f.dtype, bool):\n",
      "Interpolating/filling sparse volume: 0.03 seconds.\n",
      "Label weights not set, default to 1 for all structures.\n",
      "Regularization weights not set, default to 0.\n",
      "centroid_m: [48.06545396 41.91409558 38.59259027], centroid_f: [0.88068653 0.20999364 0.5142025 ]\n",
      "indices_f: {0}\n"
     ]
    },
    {
     "name": "stdout",
     "output_type": "stream",
     "text": [
      "Entering aligner optimzer\n",
      "score: 0.115403\n",
      "grad: [ 4.32954624e+01 -1.52532057e+01  2.69629859e+02 -1.58195508e+04\n",
      " -8.66324933e+03 -1.45199700e+04]\n",
      "==========================================\n",
      "[ 1.  -1.   1.  -0.1 -0.1 -0.1]\n",
      "[1.  1.  1.  0.1 0.1 0.1]\n",
      "[ 1. -1.  1. -1. -1. -1.]\n",
      "==========================================\n",
      "score: 0.121324\n",
      "grad: [-3.55771847e+02  6.64515003e+02 -6.32304919e+00 -1.74432124e+03\n",
      "  3.60885679e+03  1.12232341e+04]\n",
      "==========================================\n",
      "[-0.99267647  0.99973666 -0.0234444  -0.01095994  0.038454    0.06115586]\n",
      "[1.  1.  1.  0.1 0.1 0.1]\n",
      "[-0.99267647  0.99973666 -0.0234444  -0.10959939  0.38453999  0.61155863]\n",
      "==========================================\n",
      "score: 0.12549200000000002\n",
      "grad: [  -47.03200698   155.68815023     7.56109446 -2344.53954971\n",
      "  1809.57205451 -6210.34813815]\n",
      "==========================================\n",
      "[-0.13011339  0.22805444  0.02802378 -0.01457395  0.01893306 -0.03205476]\n",
      "[1.  1.  1.  0.1 0.1 0.1]\n",
      "[-0.13011339  0.22805444  0.02802378 -0.14573952  0.18933065 -0.32054763]\n",
      "==========================================\n"
     ]
    },
    {
     "name": "stderr",
     "output_type": "stream",
     "text": [
      "Interpolating/filling sparse volume: 0.03 seconds.\n",
      "Label weights not set, default to 1 for all structures.\n",
      "Regularization weights not set, default to 0.\n",
      "centroid_m: [48.06545396 41.91409558 35.40740973], centroid_f: [0.88068653 0.20999364 0.5142025 ]\n",
      "indices_f: {0}\n"
     ]
    },
    {
     "name": "stdout",
     "output_type": "stream",
     "text": [
      "Registering 12N instance 3 to instance 0\n",
      "Entering aligner optimzer\n",
      "score: 0.11272100000000002\n",
      "grad: [   109.17941839   -127.52642894   -242.77325916  13989.26722664\n",
      "   7578.49685818 -10493.1352191 ]\n",
      "==========================================\n",
      "[ 1.  -1.  -1.   0.1  0.1 -0.1]\n",
      "[1.  1.  1.  0.1 0.1 0.1]\n",
      "[ 1. -1. -1.  1.  1. -1.]\n",
      "==========================================\n",
      "score: 0.11779800000000003\n",
      "grad: [ -340.60346061   645.12734067    41.39444602   599.6989249\n",
      " -3531.8509571  12128.60194087]\n",
      "==========================================\n",
      "[-0.95227283  0.9810166   0.16808085  0.00428292 -0.04224159  0.07562541]\n",
      "[1.  1.  1.  0.1 0.1 0.1]\n",
      "[-0.95227283  0.9810166   0.16808085  0.04282917 -0.42241586  0.75625415]\n",
      "==========================================\n",
      "score: 0.12127200000000002\n",
      "grad: [  -18.47385347   106.66802084   -12.78950983  2151.39807773\n",
      " -1930.03990787 -8061.43839324]\n",
      "==========================================\n",
      "[-0.05158118  0.16011269 -0.05186152  0.01518659 -0.02249216 -0.044911  ]\n",
      "[1.  1.  1.  0.1 0.1 0.1]\n",
      "[-0.05158118  0.16011269 -0.05186152  0.15186593 -0.22492157 -0.44910997]\n",
      "==========================================\n"
     ]
    },
    {
     "name": "stderr",
     "output_type": "stream",
     "text": [
      "Interpolating/filling sparse volume: 0.03 seconds.\n",
      "Label weights not set, default to 1 for all structures.\n",
      "Regularization weights not set, default to 0.\n",
      "centroid_m: [56.4252816  26.79680604 38.9413976 ], centroid_f: [0.88068653 0.20999364 0.5142025 ]\n",
      "indices_f: {0}\n"
     ]
    },
    {
     "name": "stdout",
     "output_type": "stream",
     "text": [
      "Registering 12N instance 4 to instance 0\n",
      "Entering aligner optimzer\n",
      "score: 0.10714900000000001\n",
      "grad: [ 2.91321651e+01  1.24834191e+02 -5.70366430e+00  3.46548259e+03\n",
      "  2.35858834e+03  3.68320451e+04]\n",
      "==========================================\n",
      "[ 1.   1.  -1.   0.1  0.1  0.1]\n",
      "[1.  1.  1.  0.1 0.1 0.1]\n",
      "[ 1.  1. -1.  1.  1.  1.]\n",
      "==========================================\n",
      "score: 0.11853800000000002\n",
      "grad: [-2.83330184e+00 -7.15956533e+00  2.82344916e+02 -1.18536492e+04\n",
      " -8.29614721e+03  1.85349814e+04]\n",
      "==========================================\n",
      "[-0.09680009 -0.05725851  0.99979602 -0.0959822  -0.09618827  0.04495201]\n",
      "[1.  1.  1.  0.1 0.1 0.1]\n",
      "[-0.09680009 -0.05725851  0.99979602 -0.95982202 -0.96188266  0.44952015]\n",
      "==========================================\n",
      "score: 0.12493400000000005\n",
      "grad: [ 8.74350983e+00 -3.71073092e+01 -9.49546993e-01  2.02284937e+03\n",
      "  2.94741772e+03  1.30478179e+04]\n",
      "==========================================\n",
      "[ 0.28622518 -0.28450146 -0.00336237  0.01616416  0.03233726  0.03016975]\n",
      "[1.  1.  1.  0.1 0.1 0.1]\n",
      "[ 0.28622518 -0.28450146 -0.00336237  0.16164159  0.32337259  0.30169751]\n",
      "==========================================\n"
     ]
    },
    {
     "name": "stderr",
     "output_type": "stream",
     "text": [
      "Interpolating/filling sparse volume: 0.03 seconds.\n",
      "Label weights not set, default to 1 for all structures.\n",
      "Regularization weights not set, default to 0.\n",
      "centroid_m: [56.4252816  26.79680604 39.0586024 ], centroid_f: [0.88068653 0.20999364 0.5142025 ]\n",
      "indices_f: {0}\n"
     ]
    },
    {
     "name": "stdout",
     "output_type": "stream",
     "text": [
      "Registering 12N instance 5 to instance 0\n",
      "Entering aligner optimzer\n",
      "score: 0.10659099999999999\n",
      "grad: [1.10306860e+01 1.40121405e+02 1.52420088e+01 7.25147965e+02\n",
      " 1.10136880e+03 3.46962379e+04]\n",
      "==========================================\n",
      "[1.  1.  1.  0.1 0.1 0.1]\n",
      "[1.  1.  1.  0.1 0.1 0.1]\n",
      "[1. 1. 1. 1. 1. 1.]\n",
      "==========================================\n",
      "score: 0.113463\n",
      "grad: [   -30.61600292     82.28498417    180.73880738 -12940.30779833\n",
      "  -7868.01563984  15353.6059218 ]\n",
      "==========================================\n",
      "[-0.94079998  0.50638278  0.99646294 -0.09984336 -0.09903444  0.04046646]\n",
      "[1.  1.  1.  0.1 0.1 0.1]\n",
      "[-0.94079998  0.50638278  0.99646294 -0.99843356 -0.9903444   0.40466457]\n",
      "==========================================\n",
      "score: 0.11825800000000002\n",
      "grad: [ 238.06873739 -375.05279392 -105.23242301 1244.96612    2214.75527179\n",
      " 9552.60410786]\n",
      "==========================================\n",
      "[ 0.99078632 -0.91757995 -0.50183161  0.00956176  0.02685315  0.02441521]\n",
      "[1.  1.  1.  0.1 0.1 0.1]\n",
      "[ 0.99078632 -0.91757995 -0.50183161  0.09561756  0.26853149  0.24415213]\n",
      "==========================================\n"
     ]
    },
    {
     "name": "stderr",
     "output_type": "stream",
     "text": [
      "Interpolating/filling sparse volume: 0.03 seconds.\n",
      "marching cube: 0.03 seconds\n",
      "mesh_to_polydata: 0.03 seconds\n",
      "simplify 0 @ 27865: 0.23 seconds\n",
      "simplify 1 @ 5574: 0.22 seconds\n",
      "simplify 2 @ 1116: 0.04 seconds\n",
      "marching cube: 0.03 seconds\n",
      "mesh_to_polydata: 0.03 seconds\n",
      "simplify 0 @ 29028: 0.20 seconds\n",
      "simplify 1 @ 5807: 0.25 seconds\n",
      "simplify 2 @ 1163: 0.05 seconds\n",
      "marching cube: 0.03 seconds\n",
      "mesh_to_polydata: 0.03 seconds\n",
      "simplify 0 @ 28859: 0.20 seconds\n",
      "simplify 1 @ 5771: 0.25 seconds\n",
      "simplify 2 @ 1156: 0.04 seconds\n",
      "marching cube: 0.03 seconds\n",
      "mesh_to_polydata: 0.03 seconds\n",
      "simplify 0 @ 28643: 0.19 seconds\n",
      "simplify 1 @ 5731: 0.23 seconds\n",
      "simplify 2 @ 1147: 0.04 seconds\n",
      "marching cube: 0.04 seconds\n",
      "mesh_to_polydata: 0.03 seconds\n",
      "simplify 0 @ 28361: 0.19 seconds\n",
      "simplify 1 @ 5673: 0.23 seconds\n",
      "simplify 2 @ 1136: 0.04 seconds\n",
      "marching cube: 0.04 seconds\n",
      "mesh_to_polydata: 0.03 seconds\n",
      "simplify 0 @ 28030: 0.20 seconds\n",
      "simplify 1 @ 5608: 0.23 seconds\n",
      "simplify 2 @ 1123: 0.04 seconds\n",
      "marching cube: 0.04 seconds\n",
      "mesh_to_polydata: 0.02 seconds\n"
     ]
    },
    {
     "name": "stdout",
     "output_type": "stream",
     "text": [
      "level = 0.1 , volume = 0.128242 mm^3\n",
      "level = 0.2 , volume = 0.113269 mm^3\n",
      "level = 0.30000000000000004 , volume = 0.103154 mm^3\n",
      "level = 0.4 , volume = 0.094851 mm^3\n",
      "level = 0.5 , volume = 0.087315 mm^3\n",
      "level = 0.6 , volume = 0.080055 mm^3\n",
      "level = 0.7000000000000001 , volume = 0.072614 mm^3\n",
      "level = 0.8 , volume = 0.064194 mm^3\n",
      "level = 0.9 , volume = 0.053205 mm^3\n",
      "level = 1.0 , volume = 0.0 mm^3\n"
     ]
    },
    {
     "name": "stderr",
     "output_type": "stream",
     "text": [
      "simplify 0 @ 22107: 0.14 seconds\n",
      "simplify 1 @ 4423: 0.16 seconds\n",
      "simplify 2 @ 886: 0.03 seconds\n",
      "marching cube: 0.04 seconds\n",
      "mesh_to_polydata: 0.02 seconds\n",
      "simplify 0 @ 20909: 0.13 seconds\n",
      "simplify 1 @ 4183: 0.15 seconds\n",
      "simplify 2 @ 838: 0.03 seconds\n",
      "marching cube: 0.04 seconds\n",
      "mesh_to_polydata: 0.02 seconds\n",
      "simplify 0 @ 20301: 0.12 seconds\n",
      "simplify 1 @ 4061: 0.15 seconds\n",
      "simplify 2 @ 813: 0.03 seconds\n",
      "marching cube: 0.04 seconds\n",
      "mesh_to_polydata: 0.02 seconds\n",
      "simplify 0 @ 19491: 0.12 seconds\n",
      "simplify 1 @ 3899: 0.14 seconds\n",
      "simplify 2 @ 781: 0.03 seconds\n",
      "marching cube: 0.04 seconds\n",
      "mesh_to_polydata: 0.02 seconds\n",
      "simplify 0 @ 18949: 0.12 seconds\n",
      "simplify 1 @ 3791: 0.20 seconds\n",
      "simplify 2 @ 759: 0.03 seconds\n",
      "marching cube: 0.04 seconds\n",
      "mesh_to_polydata: 0.02 seconds\n",
      "simplify 0 @ 18305: 0.12 seconds\n",
      "simplify 1 @ 3662: 0.15 seconds\n",
      "simplify 2 @ 734: 0.03 seconds\n",
      "marching cube: 0.04 seconds\n",
      "mesh_to_polydata: 0.02 seconds\n",
      "simplify 0 @ 17689: 0.11 seconds\n",
      "simplify 1 @ 3539: 0.14 seconds\n",
      "simplify 2 @ 709: 0.04 seconds\n",
      "marching cube: 0.04 seconds\n",
      "mesh_to_polydata: 0.02 seconds\n",
      "simplify 0 @ 16913: 0.12 seconds\n",
      "simplify 1 @ 3384: 0.12 seconds\n",
      "simplify 2 @ 678: 0.02 seconds\n",
      "marching cube: 0.04 seconds\n",
      "mesh_to_polydata: 0.02 seconds\n",
      "simplify 0 @ 15822: 0.12 seconds\n",
      "simplify 1 @ 3166: 0.15 seconds\n",
      "simplify 2 @ 634: 0.03 seconds\n",
      "marching cube: 0.04 seconds\n",
      "mesh_to_polydata: No faces are provided, so skip simplification.\n",
      "mesh_to_polydata: 0.00 seconds\n",
      "simplify 0 @ 0: 0.00 seconds\n",
      "marching cube: 0.13 seconds\n",
      "mesh_to_polydata: 0.09 seconds\n",
      "simplify 0 @ 67006: 0.53 seconds\n",
      "simplify 1 @ 13404: 0.67 seconds\n",
      "simplify 2 @ 2684: 0.13 seconds\n",
      "marching cube: 0.13 seconds\n",
      "mesh_to_polydata: 0.08 seconds\n",
      "simplify 0 @ 67006: 0.52 seconds\n",
      "simplify 1 @ 13404: 0.70 seconds\n",
      "simplify 2 @ 2684: 0.15 seconds\n",
      "marching cube: 0.13 seconds\n",
      "mesh_to_polydata: 0.07 seconds\n",
      "simplify 0 @ 67006: 0.53 seconds\n",
      "simplify 1 @ 13404: 0.71 seconds\n",
      "simplify 2 @ 2684: 0.11 seconds\n",
      "marching cube: 0.13 seconds\n",
      "mesh_to_polydata: 0.08 seconds\n",
      "simplify 0 @ 67006: 0.48 seconds\n",
      "simplify 1 @ 13404: 0.64 seconds\n",
      "simplify 2 @ 2684: 0.14 seconds\n",
      "marching cube: 0.13 seconds\n",
      "mesh_to_polydata: 0.08 seconds\n",
      "simplify 0 @ 67006: 0.50 seconds\n",
      "simplify 1 @ 13404: 0.68 seconds\n",
      "simplify 2 @ 2684: 0.16 seconds\n",
      "marching cube: 0.14 seconds\n",
      "mesh_to_polydata: 0.08 seconds\n",
      "simplify 0 @ 67533: 0.49 seconds\n",
      "simplify 1 @ 13509: 0.62 seconds\n",
      "simplify 2 @ 2705: 0.11 seconds\n",
      "marching cube: 0.13 seconds\n",
      "mesh_to_polydata: 0.08 seconds\n",
      "simplify 0 @ 68337: 0.49 seconds\n",
      "simplify 1 @ 13670: 0.63 seconds\n",
      "simplify 2 @ 2737: 0.11 seconds\n",
      "marching cube: 0.13 seconds\n",
      "mesh_to_polydata: 0.08 seconds\n",
      "simplify 0 @ 68971: 0.48 seconds\n",
      "simplify 1 @ 13797: 0.63 seconds\n",
      "simplify 2 @ 2762: 0.12 seconds\n",
      "marching cube: 0.13 seconds\n",
      "mesh_to_polydata: 0.08 seconds\n",
      "simplify 0 @ 70151: 0.50 seconds\n",
      "simplify 1 @ 14033: 0.65 seconds\n",
      "simplify 2 @ 2809: 0.12 seconds\n",
      "marching cube: 0.13 seconds\n",
      "mesh_to_polydata: 0.09 seconds\n",
      "simplify 0 @ 73509: 0.67 seconds\n",
      "simplify 1 @ 14703: 0.71 seconds\n",
      "simplify 2 @ 2942: 0.13 seconds\n"
     ]
    },
    {
     "name": "stdout",
     "output_type": "stream",
     "text": [
      "Saving numpy array at /net/birdstore/Active_Atlas_Data/data_root/CSHL_meshes/atlasV7/mean_shapes/10.0um_12N_volume.npy\n",
      "Saving numpy text at /net/birdstore/Active_Atlas_Data/data_root/CSHL_meshes/atlasV7/mean_shapes/10.0um_12N_origin_wrt_meanShapeCentroid.txt\n",
      "Saving mesh at /net/birdstore/Active_Atlas_Data/data_root/CSHL_meshes/atlasV7/mean_shapes/10.0um_12N_mesh_level_0.1.stl\n",
      "Saving mesh at /net/birdstore/Active_Atlas_Data/data_root/CSHL_meshes/atlasV7/mean_shapes/10.0um_12N_mesh_level_0.2.stl\n",
      "Saving mesh at /net/birdstore/Active_Atlas_Data/data_root/CSHL_meshes/atlasV7/mean_shapes/10.0um_12N_mesh_level_0.30000000000000004.stl\n",
      "Saving mesh at /net/birdstore/Active_Atlas_Data/data_root/CSHL_meshes/atlasV7/mean_shapes/10.0um_12N_mesh_level_0.4.stl\n",
      "Saving mesh at /net/birdstore/Active_Atlas_Data/data_root/CSHL_meshes/atlasV7/mean_shapes/10.0um_12N_mesh_level_0.5.stl\n",
      "Saving mesh at /net/birdstore/Active_Atlas_Data/data_root/CSHL_meshes/atlasV7/mean_shapes/10.0um_12N_mesh_level_0.6.stl\n",
      "Saving mesh at /net/birdstore/Active_Atlas_Data/data_root/CSHL_meshes/atlasV7/mean_shapes/10.0um_12N_mesh_level_0.7000000000000001.stl\n",
      "Saving mesh at /net/birdstore/Active_Atlas_Data/data_root/CSHL_meshes/atlasV7/mean_shapes/10.0um_12N_mesh_level_0.8.stl\n",
      "Saving mesh at /net/birdstore/Active_Atlas_Data/data_root/CSHL_meshes/atlasV7/mean_shapes/10.0um_12N_mesh_level_0.9.stl\n",
      "Saving mesh at /net/birdstore/Active_Atlas_Data/data_root/CSHL_meshes/atlasV7/mean_shapes/10.0um_12N_mesh_level_1.0.stl\n",
      "Saving numpy array at /net/birdstore/Active_Atlas_Data/data_root/CSHL_meshes/atlasV7/mean_shapes/10.0um_12N_surround_200um_volume.npy\n",
      "Saving numpy text at /net/birdstore/Active_Atlas_Data/data_root/CSHL_meshes/atlasV7/mean_shapes/10.0um_12N_surround_200um_origin_wrt_meanShapeCentroid.txt\n",
      "Saving mesh at /net/birdstore/Active_Atlas_Data/data_root/CSHL_meshes/atlasV7/mean_shapes/10.0um_12N_surround_200um_0.1.stl\n",
      "Saving mesh at /net/birdstore/Active_Atlas_Data/data_root/CSHL_meshes/atlasV7/mean_shapes/10.0um_12N_surround_200um_0.2.stl\n",
      "Saving mesh at /net/birdstore/Active_Atlas_Data/data_root/CSHL_meshes/atlasV7/mean_shapes/10.0um_12N_surround_200um_0.30000000000000004.stl\n",
      "Saving mesh at /net/birdstore/Active_Atlas_Data/data_root/CSHL_meshes/atlasV7/mean_shapes/10.0um_12N_surround_200um_0.4.stl\n",
      "Saving mesh at /net/birdstore/Active_Atlas_Data/data_root/CSHL_meshes/atlasV7/mean_shapes/10.0um_12N_surround_200um_0.5.stl\n",
      "Saving mesh at /net/birdstore/Active_Atlas_Data/data_root/CSHL_meshes/atlasV7/mean_shapes/10.0um_12N_surround_200um_0.6.stl\n",
      "Saving mesh at /net/birdstore/Active_Atlas_Data/data_root/CSHL_meshes/atlasV7/mean_shapes/10.0um_12N_surround_200um_0.7000000000000001.stl\n",
      "Saving mesh at /net/birdstore/Active_Atlas_Data/data_root/CSHL_meshes/atlasV7/mean_shapes/10.0um_12N_surround_200um_0.8.stl\n",
      "Saving mesh at /net/birdstore/Active_Atlas_Data/data_root/CSHL_meshes/atlasV7/mean_shapes/10.0um_12N_surround_200um_0.9.stl\n",
      "Saving mesh at /net/birdstore/Active_Atlas_Data/data_root/CSHL_meshes/atlasV7/mean_shapes/10.0um_12N_surround_200um_1.0.stl\n"
     ]
    }
   ],
   "source": [
    "# Note that all shapes have voxel resolution matching input resolution (10.0 micron).\n",
    "for structure in ['12N']:\n",
    "    # for structure in all_known_structures:\n",
    "    # Load instance volumes.\n",
    "    instance_volumes = []\n",
    "    instance_source = []\n",
    "\n",
    "    if structure in paired_structures:\n",
    "        left_name = convert_to_left_name(structure)\n",
    "        right_name = convert_to_right_name(structure)\n",
    "    else:\n",
    "        left_name = structure\n",
    "        right_name = structure\n",
    "\n",
    "    for brain_name in [fixed_brain_name] + moving_brain_names:\n",
    "        brain_spec = {'name': brain_name, 'vol_type': 'annotationAsScore', 'resolution': resolution}\n",
    "        right_instance_vol, _ = load_original_volume_v2(stack_spec=brain_spec,\n",
    "                                                        structure=right_name,\n",
    "                                                        return_origin_instead_of_bbox=True,\n",
    "                                                        crop_to_minimal=True)\n",
    "        instance_volumes.append(right_instance_vol)  # if right, do not mirror\n",
    "        instance_source.append((brain_name, 'R'))\n",
    "\n",
    "        left_instance_vol, _ = load_original_volume_v2(stack_spec=brain_spec,\n",
    "                                                       structure=left_name,\n",
    "                                                       return_origin_instead_of_bbox=True,\n",
    "                                                       crop_to_minimal=True)\n",
    "        instance_volumes.append(left_instance_vol[..., ::-1])  # if left, mirror\n",
    "        instance_source.append((brain_name, 'L'))\n",
    "\n",
    "   # Use the first instance as registration target.\n",
    "    # Register every other instance to the first instance.\n",
    "    template_instance_volume = instance_volumes[0]\n",
    "    template_instance_centroid_wrt_templateOrigin = get_centroid_3d(template_instance_volume).astype(np.int16)\n",
    "    template_instance_wrt_templateCentroid = (template_instance_volume, - template_instance_centroid_wrt_templateOrigin)\n",
    "    aligned_moving_instance_wrt_templateCentroid_all_instances = []\n",
    "\n",
    "    for i in range(1, len(instance_volumes)):\n",
    "        print('Registering {} instance {} to instance 0'.format(structure, i))\n",
    "        # Compute transform.\n",
    "        moving_instance_volume = instance_volumes[i]\n",
    "        aligner = Aligner({0: template_instance_wrt_templateCentroid},\n",
    "                          {0: (moving_instance_volume, np.array((0,0,0)))},\n",
    "                          labelIndexMap_m2f={0:0},\n",
    "                         verbose=False)\n",
    "        aligner.set_centroid(centroid_m='structure_centroid', centroid_f='structure_centroid')\n",
    "        aligner.compute_gradient(smooth_first=True)\n",
    "        lr = 1.\n",
    "        ### max_iter_num was originally 100 and 1000\n",
    "        print('Entering aligner optimzer')\n",
    "        _, _ = aligner.optimize(tf_type='rigid',\n",
    "                                history_len=100,\n",
    "                                max_iter_num=2 if structure in ['SC', 'IC'] else 3,\n",
    "                                grad_computation_sample_number=None,\n",
    "                                full_lr=np.array([lr, lr, lr, 0.1, 0.1, 0.1]),\n",
    "                                terminate_thresh_trans=.01)\n",
    "\n",
    "\n",
    "\n",
    "        reg_root_dir=os.path.join(MESH_DIR, atlas_name, 'mean_shapes', 'instance_registration')\n",
    "        save_alignment_results_v3(aligner=aligner,\n",
    "                              select_best='max_value',\n",
    "                              alignment_spec=dict(warp_setting=108,\n",
    "                                                  stack_f=dict(name='%s_instance0' % structure, vol_type='annotationAsScore'),\n",
    "                                                  stack_m=dict(name='%s_instance%d' % (structure, i),\n",
    "                                                               vol_type='annotationAsScore')),\n",
    "                              reg_root_dir=reg_root_dir)\n",
    "\n",
    "        # Transform instances.\n",
    "        T = convert_transform_forms(aligner=aligner, out_form=(3, 4), select_best='max_value')\n",
    "        aligned_moving_instance_volume, aligned_moving_instance_origin_wrt_templateCentroid = \\\n",
    "            transform_volume_v4(volume=(moving_instance_volume, (0, 0, 0)), transform=T,\n",
    "                                return_origin_instead_of_bbox=True)\n",
    "        aligned_moving_instance_wrt_templateCentroid = (\n",
    "        aligned_moving_instance_volume, aligned_moving_instance_origin_wrt_templateCentroid)\n",
    "        aligned_moving_instance_wrt_templateCentroid_all_instances.append(aligned_moving_instance_wrt_templateCentroid)\n",
    "\n",
    "    # Generate meshes for each instance.\n",
    "    volume_origin_list = [template_instance_wrt_templateCentroid] + aligned_moving_instance_wrt_templateCentroid_all_instances\n",
    "    instance_mesh_wrt_templateCentroid_all_instances = [volume_to_polydata(volume, num_simplify_iter=3, smooth=True)\n",
    "        for volume, o in volume_origin_list]\n",
    "\n",
    "    # Save meshes.\n",
    "    for i, mesh_data in enumerate(instance_mesh_wrt_templateCentroid_all_instances):\n",
    "        meshfile = '{}_{}_{}.stl'.format(resolution, structure, str(i))\n",
    "        meshpath = os.path.join(MESH_DIR, atlas_name, 'aligned_instance_meshes', meshfile)\n",
    "        #print('Save stl at {}'.format( meshpath))\n",
    "        save_mesh_stl(mesh_data, meshpath)\n",
    "\n",
    "    filename = '{}_sources.pkl'.format(structure)\n",
    "    filepath = os.path.join(MESH_DIR, atlas_name, 'instance_sources', filename)\n",
    "    with open(filepath, 'wb') as f:\n",
    "        pickle.dump(instance_source, f)\n",
    "\n",
    "    # Compute average shape.\n",
    "\n",
    "    if structure == 'IC' or structure == 'SC':\n",
    "        # IC and SC boundaries are particularly jagged, so do a larger value smoothing.\n",
    "        sigma = 5.\n",
    "    else:\n",
    "        sigma = 2.\n",
    "\n",
    "\n",
    "    mean_shape_wrt_templateCentroid = \\\n",
    "        average_shape(volume_origin_list=volume_origin_list, force_symmetric=(structure in singular_structures),\n",
    "                      sigma=sigma,\n",
    "                      )\n",
    "\n",
    "    for surface_level in np.arange(0.1, 1.1, .1):\n",
    "        print(\"level =\", surface_level, ', volume =',\n",
    "              np.count_nonzero(mean_shape_wrt_templateCentroid[0] > surface_level) * resolution_um ** 3 / 1e9, \"mm^3\")\n",
    "\n",
    "    # Generate meshes for mean shape.\n",
    "    mean_shape_isosurface_polydata_all_levels = {surface_level:\n",
    "                                                     volume_to_polydata(\n",
    "                                                         (mean_shape_wrt_templateCentroid[0] >= surface_level,\n",
    "                                                         mean_shape_wrt_templateCentroid[1]),\n",
    "                                                         num_simplify_iter=3, smooth=True)\n",
    "        for surface_level in np.arange(0.1, 1.1, .1)}\n",
    "\n",
    "    # Identify the surrouding area as additional structure.\n",
    "\n",
    "    wall_level = .5\n",
    "    surround_distance_um = 200.\n",
    "\n",
    "    # changed to v2 to v3 Jul/27/2020 renamed without the _vX\n",
    "    # volume, distance=5, wall_level=0, prob=False, return_origin_instead_of_bbox=True, padding=5\n",
    "    # def get_surround_volume(volume, origin, distance=5, wall_level=0, prob=False, return_origin_instead_of_bbox=True,\n",
    "    #                        padding=5):\n",
    "    surround_wrt_stdShapeCentroid = \\\n",
    "        get_surround_volume_v2(vol=mean_shape_wrt_templateCentroid[0],\n",
    "                               origin=mean_shape_wrt_templateCentroid[1],\n",
    "                               distance=surround_distance_um / resolution_um,\n",
    "                               wall_level=wall_level,\n",
    "                               prob=True,\n",
    "                               return_origin_instead_of_bbox=True,\n",
    "                               padding=5)\n",
    "\n",
    "    # Generate meshes for surrouding area.\n",
    "    surround_isosurface_polydata_all_levels = {surface_level:\n",
    "             volume_to_polydata((surround_wrt_stdShapeCentroid[0] >= surface_level,\n",
    "                                surround_wrt_stdShapeCentroid[1]),\n",
    "                                num_simplify_iter=3, smooth=True)\n",
    "         for surface_level in np.arange(0.1, 1.1, .1)}\n",
    "\n",
    "    # Save mean shape.\n",
    "    filename = '{}_{}_volume.npy'.format(resolution, structure)\n",
    "    filepath =  os.path.join(MESH_DIR, atlas_name, 'mean_shapes', filename)\n",
    "    print('Saving numpy array at', filepath)\n",
    "    np.save(filepath, np.ascontiguousarray(mean_shape_wrt_templateCentroid[0]))\n",
    "\n",
    "    filename = '{}_{}_origin_wrt_meanShapeCentroid.txt'.format(resolution, structure)\n",
    "    filepath = os.path.join(MESH_DIR, atlas_name, 'mean_shapes', filename)\n",
    "    print('Saving numpy text at', filepath)\n",
    "    np.savetxt(filepath, mean_shape_wrt_templateCentroid[1])\n",
    "\n",
    "\n",
    "    for level in np.arange(0.1, 1.1, .1):\n",
    "        filename = '{}_{}_mesh_level_{}.stl'.format(resolution, structure, str(level))\n",
    "        filepath = os.path.join(MESH_DIR, atlas_name, 'mean_shapes', filename)\n",
    "        print('Saving mesh at', filepath)\n",
    "        save_mesh_stl(mean_shape_isosurface_polydata_all_levels[level], filepath)\n",
    "\n",
    "    surround_name = convert_to_surround_name(structure, margin=str(int(surround_distance_um)) + 'um')\n",
    "    filename = '{}_{}_volume.npy'.format(resolution, surround_name)\n",
    "    filepath = os.path.join(MESH_DIR, atlas_name, 'mean_shapes', filename)\n",
    "    print('Saving numpy array at', filepath)\n",
    "    np.save(filepath, np.ascontiguousarray(surround_wrt_stdShapeCentroid[0]))\n",
    "\n",
    "\n",
    "    filename = '{}_{}_origin_wrt_meanShapeCentroid.txt'.format(resolution, surround_name)\n",
    "    filepath = os.path.join(MESH_DIR, atlas_name, 'mean_shapes', filename)\n",
    "    print('Saving numpy text at', filepath)\n",
    "    np.savetxt(filepath, surround_wrt_stdShapeCentroid[1])\n",
    "\n",
    "    for level in np.arange(0.1, 1.1, .1):\n",
    "        filename = '{}_{}_{}.stl'.format(resolution, surround_name, str(level))\n",
    "        filepath = os.path.join(MESH_DIR, atlas_name, 'mean_shapes', filename)\n",
    "        print('Saving mesh at', filepath)\n",
    "        save_mesh_stl(surround_isosurface_polydata_all_levels[level], filepath)\n"
   ]
  },
  {
   "cell_type": "code",
   "execution_count": null,
   "metadata": {},
   "outputs": [],
   "source": [
    "i = 1\n",
    "# Compute transform.\n",
    "moving_instance_volume = instance_volumes[i]\n",
    "aligner = Aligner({0: template_instance_wrt_templateCentroid}, \n",
    "                  {0: (moving_instance_volume, np.array((0,0,0)))}, \n",
    "                  labelIndexMap_m2f={0:0})\n",
    "aligner.set_centroid(centroid_m='structure_centroid', centroid_f='structure_centroid')\n",
    "aligner.compute_gradient(smooth_first=True)\n",
    "lr = .1\n",
    "_, _ = aligner.optimize(tf_type='rigid', \n",
    "                     history_len=100, \n",
    "                    max_iter_num=100 if structure in ['SC', 'IC'] else 10000,\n",
    "                     grad_computation_sample_number=None,\n",
    "                        full_lr=np.array([lr,lr,lr,0.1,0.1,0.1]),\n",
    "                       terminate_thresh_trans=.01)"
   ]
  },
  {
   "cell_type": "code",
   "execution_count": null,
   "metadata": {},
   "outputs": [],
   "source": [
    "plt.plot(aligner.Ts);"
   ]
  },
  {
   "cell_type": "code",
   "execution_count": null,
   "metadata": {},
   "outputs": [],
   "source": [
    "plt.plot(aligner.scores);"
   ]
  },
  {
   "cell_type": "code",
   "execution_count": null,
   "metadata": {},
   "outputs": [],
   "source": [
    "[[  9.69838248e-01   7.41253856e-02   2.32205080e-01  -3.58975061e+01]\n",
    " [ -7.00849620e-02   9.97212129e-01  -2.56138103e-02  -3.87932318e+01]\n",
    " [ -2.33456356e-01   8.56716872e-03   9.72329540e-01  -1.27806610e+01]]"
   ]
  },
  {
   "cell_type": "code",
   "execution_count": null,
   "metadata": {
    "scrolled": true
   },
   "outputs": [],
   "source": [
    "# Transform instances.\n",
    "T = convert_transform_forms(aligner=aligner, out_form=(3,4), select_best='max_value')\n",
    "\n",
    "aligned_moving_instance_volume, aligned_moving_instance_origin_wrt_templateCentroid = \\\n",
    "transform_volume_v4((moving_instance_volume, (0,0,0)), transform=T,\n",
    "                    return_origin_instead_of_bbox=True)\n",
    "\n",
    "aligned_moving_instance_wrt_templateCentroid = (aligned_moving_instance_volume, aligned_moving_instance_origin_wrt_templateCentroid)        \n",
    "\n",
    "# Generate meshes for each instance.\n",
    "\n",
    "instance_mesh_wrt_templateCentroid_all_instances = [\n",
    "volume_to_polydata((v, o), num_simplify_iter=3, smooth=True)\n",
    "for v, o in \n",
    "[template_instance_wrt_templateCentroid] + [aligned_moving_instance_wrt_templateCentroid]]\n",
    "\n",
    "launch_vtk([actor_mesh(mesh, wireframe=True, color=np.array(high_contrast_colors[i+1])/255., opacity=1) \n",
    "    for i, mesh in enumerate([instance_mesh_wrt_templateCentroid_all_instances[0],\n",
    "                             instance_mesh_wrt_templateCentroid_all_instances[1]])], \n",
    "  background_color=(1,1,1))"
   ]
  },
  {
   "cell_type": "markdown",
   "metadata": {},
   "source": [
    "# Visualize Results"
   ]
  },
  {
   "cell_type": "code",
   "execution_count": null,
   "metadata": {},
   "outputs": [],
   "source": [
    "# for name_u in all_known_structures:\n",
    "for name_u in ['5N']:\n",
    "    fig, axes = plt.subplots(1, 5,squeeze=True, figsize=(20,2));\n",
    "    for i in range(1, 6):\n",
    "#         try:\n",
    "        scores = DataManager.load_alignment_results_v3( what='scoreHistory',\n",
    "      alignment_spec=dict(warp_setting=108, \n",
    "                          stack_f=dict(name='%s_instance0' % name_u, vol_type='annotationAsScore'),\n",
    "                         stack_m=dict(name='%s_instance%d' % (name_u, i), vol_type='annotationAsScore')),\n",
    "                 reg_root_dir=os.path.join(MESH_ROOTDIR, atlas_name, 'mean_shapes', 'instance_registration'))        \n",
    "        axes[i-1].plot(scores);\n",
    "        axes[i-1].set_title('%s_instance%d' % (name_u, i))\n",
    "#         except:\n",
    "#             pass\n",
    "    plt.show();"
   ]
  },
  {
   "cell_type": "code",
   "execution_count": 21,
   "metadata": {},
   "outputs": [
    {
     "ename": "UnicodeDecodeError",
     "evalue": "'utf-8' codec can't decode byte 0x80 in position 8: invalid start byte",
     "output_type": "error",
     "traceback": [
      "\u001b[0;31m---------------------------------------------------------------------------\u001b[0m",
      "\u001b[0;31mUnicodeDecodeError\u001b[0m                        Traceback (most recent call last)",
      "\u001b[0;32m<ipython-input-21-d394725eeb6b>\u001b[0m in \u001b[0;36m<module>\u001b[0;34m\u001b[0m\n\u001b[1;32m      3\u001b[0m     \u001b[0mfig\u001b[0m\u001b[0;34m,\u001b[0m \u001b[0maxes\u001b[0m \u001b[0;34m=\u001b[0m \u001b[0mplt\u001b[0m\u001b[0;34m.\u001b[0m\u001b[0msubplots\u001b[0m\u001b[0;34m(\u001b[0m\u001b[0;36m1\u001b[0m\u001b[0;34m,\u001b[0m \u001b[0;36m5\u001b[0m\u001b[0;34m,\u001b[0m\u001b[0msqueeze\u001b[0m\u001b[0;34m=\u001b[0m\u001b[0;32mTrue\u001b[0m\u001b[0;34m,\u001b[0m \u001b[0mfigsize\u001b[0m\u001b[0;34m=\u001b[0m\u001b[0;34m(\u001b[0m\u001b[0;36m20\u001b[0m\u001b[0;34m,\u001b[0m\u001b[0;36m2\u001b[0m\u001b[0;34m)\u001b[0m\u001b[0;34m)\u001b[0m\u001b[0;34m;\u001b[0m\u001b[0;34m\u001b[0m\u001b[0;34m\u001b[0m\u001b[0m\n\u001b[1;32m      4\u001b[0m     \u001b[0;32mfor\u001b[0m \u001b[0mi\u001b[0m \u001b[0;32min\u001b[0m \u001b[0mrange\u001b[0m\u001b[0;34m(\u001b[0m\u001b[0;36m1\u001b[0m\u001b[0;34m,\u001b[0m \u001b[0;36m6\u001b[0m\u001b[0;34m)\u001b[0m\u001b[0;34m:\u001b[0m\u001b[0;34m\u001b[0m\u001b[0;34m\u001b[0m\u001b[0m\n\u001b[0;32m----> 5\u001b[0;31m         trajectory = load_alignment_results_v3(what='trajectory',\n\u001b[0m\u001b[1;32m      6\u001b[0m                           alignment_spec=dict(warp_setting=108, \n\u001b[1;32m      7\u001b[0m                                               \u001b[0mstack_f\u001b[0m\u001b[0;34m=\u001b[0m\u001b[0mdict\u001b[0m\u001b[0;34m(\u001b[0m\u001b[0mname\u001b[0m\u001b[0;34m=\u001b[0m\u001b[0;34m'%s_instance0'\u001b[0m \u001b[0;34m%\u001b[0m \u001b[0mname_u\u001b[0m\u001b[0;34m,\u001b[0m \u001b[0mvol_type\u001b[0m\u001b[0;34m=\u001b[0m\u001b[0;34m'annotationAsScore'\u001b[0m\u001b[0;34m)\u001b[0m\u001b[0;34m,\u001b[0m\u001b[0;34m\u001b[0m\u001b[0;34m\u001b[0m\u001b[0m\n",
      "\u001b[0;32m~/programming/pipeline_utility/utilities/imported_atlas_utilities.py\u001b[0m in \u001b[0;36mload_alignment_results_v3\u001b[0;34m(alignment_spec, what, reg_root_dir, out_form)\u001b[0m\n\u001b[1;32m   1325\u001b[0m     \u001b[0mINPUT_KEY_LOC\u001b[0m \u001b[0;34m=\u001b[0m \u001b[0mget_alignment_result_filepath_v3\u001b[0m\u001b[0;34m(\u001b[0m\u001b[0malignment_spec\u001b[0m\u001b[0;34m=\u001b[0m\u001b[0malignment_spec\u001b[0m\u001b[0;34m,\u001b[0m \u001b[0mwhat\u001b[0m\u001b[0;34m=\u001b[0m\u001b[0mwhat\u001b[0m\u001b[0;34m,\u001b[0m \u001b[0mreg_root_dir\u001b[0m\u001b[0;34m=\u001b[0m\u001b[0mreg_root_dir\u001b[0m\u001b[0;34m)\u001b[0m\u001b[0;34m\u001b[0m\u001b[0;34m\u001b[0m\u001b[0m\n\u001b[1;32m   1326\u001b[0m     \u001b[0;32mwith\u001b[0m \u001b[0mopen\u001b[0m\u001b[0;34m(\u001b[0m\u001b[0mINPUT_KEY_LOC\u001b[0m\u001b[0;34m,\u001b[0m \u001b[0;34m'r'\u001b[0m\u001b[0;34m)\u001b[0m \u001b[0;32mas\u001b[0m \u001b[0mf\u001b[0m\u001b[0;34m:\u001b[0m\u001b[0;34m\u001b[0m\u001b[0;34m\u001b[0m\u001b[0m\n\u001b[0;32m-> 1327\u001b[0;31m         \u001b[0mres\u001b[0m \u001b[0;34m=\u001b[0m \u001b[0mjson\u001b[0m\u001b[0;34m.\u001b[0m\u001b[0mload\u001b[0m\u001b[0;34m(\u001b[0m\u001b[0mf\u001b[0m\u001b[0;34m)\u001b[0m\u001b[0;34m\u001b[0m\u001b[0;34m\u001b[0m\u001b[0m\n\u001b[0m\u001b[1;32m   1328\u001b[0m \u001b[0;34m\u001b[0m\u001b[0m\n\u001b[1;32m   1329\u001b[0m     \u001b[0;32mif\u001b[0m \u001b[0mwhat\u001b[0m \u001b[0;34m==\u001b[0m \u001b[0;34m'parameters'\u001b[0m\u001b[0;34m:\u001b[0m\u001b[0;34m\u001b[0m\u001b[0;34m\u001b[0m\u001b[0m\n",
      "\u001b[0;32m/usr/lib/python3.8/json/__init__.py\u001b[0m in \u001b[0;36mload\u001b[0;34m(fp, cls, object_hook, parse_float, parse_int, parse_constant, object_pairs_hook, **kw)\u001b[0m\n\u001b[1;32m    291\u001b[0m     \u001b[0mkwarg\u001b[0m\u001b[0;34m;\u001b[0m \u001b[0motherwise\u001b[0m\u001b[0;31m \u001b[0m\u001b[0;31m`\u001b[0m\u001b[0;31m`\u001b[0m\u001b[0mJSONDecoder\u001b[0m\u001b[0;31m`\u001b[0m\u001b[0;31m`\u001b[0m \u001b[0;32mis\u001b[0m \u001b[0mused\u001b[0m\u001b[0;34m.\u001b[0m\u001b[0;34m\u001b[0m\u001b[0;34m\u001b[0m\u001b[0m\n\u001b[1;32m    292\u001b[0m     \"\"\"\n\u001b[0;32m--> 293\u001b[0;31m     return loads(fp.read(),\n\u001b[0m\u001b[1;32m    294\u001b[0m         \u001b[0mcls\u001b[0m\u001b[0;34m=\u001b[0m\u001b[0mcls\u001b[0m\u001b[0;34m,\u001b[0m \u001b[0mobject_hook\u001b[0m\u001b[0;34m=\u001b[0m\u001b[0mobject_hook\u001b[0m\u001b[0;34m,\u001b[0m\u001b[0;34m\u001b[0m\u001b[0;34m\u001b[0m\u001b[0m\n\u001b[1;32m    295\u001b[0m         \u001b[0mparse_float\u001b[0m\u001b[0;34m=\u001b[0m\u001b[0mparse_float\u001b[0m\u001b[0;34m,\u001b[0m \u001b[0mparse_int\u001b[0m\u001b[0;34m=\u001b[0m\u001b[0mparse_int\u001b[0m\u001b[0;34m,\u001b[0m\u001b[0;34m\u001b[0m\u001b[0;34m\u001b[0m\u001b[0m\n",
      "\u001b[0;32m/usr/lib/python3.8/codecs.py\u001b[0m in \u001b[0;36mdecode\u001b[0;34m(self, input, final)\u001b[0m\n\u001b[1;32m    320\u001b[0m         \u001b[0;31m# decode input (taking the buffer into account)\u001b[0m\u001b[0;34m\u001b[0m\u001b[0;34m\u001b[0m\u001b[0;34m\u001b[0m\u001b[0m\n\u001b[1;32m    321\u001b[0m         \u001b[0mdata\u001b[0m \u001b[0;34m=\u001b[0m \u001b[0mself\u001b[0m\u001b[0;34m.\u001b[0m\u001b[0mbuffer\u001b[0m \u001b[0;34m+\u001b[0m \u001b[0minput\u001b[0m\u001b[0;34m\u001b[0m\u001b[0;34m\u001b[0m\u001b[0m\n\u001b[0;32m--> 322\u001b[0;31m         \u001b[0;34m(\u001b[0m\u001b[0mresult\u001b[0m\u001b[0;34m,\u001b[0m \u001b[0mconsumed\u001b[0m\u001b[0;34m)\u001b[0m \u001b[0;34m=\u001b[0m \u001b[0mself\u001b[0m\u001b[0;34m.\u001b[0m\u001b[0m_buffer_decode\u001b[0m\u001b[0;34m(\u001b[0m\u001b[0mdata\u001b[0m\u001b[0;34m,\u001b[0m \u001b[0mself\u001b[0m\u001b[0;34m.\u001b[0m\u001b[0merrors\u001b[0m\u001b[0;34m,\u001b[0m \u001b[0mfinal\u001b[0m\u001b[0;34m)\u001b[0m\u001b[0;34m\u001b[0m\u001b[0;34m\u001b[0m\u001b[0m\n\u001b[0m\u001b[1;32m    323\u001b[0m         \u001b[0;31m# keep undecoded input until the next call\u001b[0m\u001b[0;34m\u001b[0m\u001b[0;34m\u001b[0m\u001b[0;34m\u001b[0m\u001b[0m\n\u001b[1;32m    324\u001b[0m         \u001b[0mself\u001b[0m\u001b[0;34m.\u001b[0m\u001b[0mbuffer\u001b[0m \u001b[0;34m=\u001b[0m \u001b[0mdata\u001b[0m\u001b[0;34m[\u001b[0m\u001b[0mconsumed\u001b[0m\u001b[0;34m:\u001b[0m\u001b[0;34m]\u001b[0m\u001b[0;34m\u001b[0m\u001b[0;34m\u001b[0m\u001b[0m\n",
      "\u001b[0;31mUnicodeDecodeError\u001b[0m: 'utf-8' codec can't decode byte 0x80 in position 8: invalid start byte"
     ]
    },
    {
     "data": {
      "image/png": "[encoded data removed]",
      "text/plain": [
       "<Figure size 1440x144 with 5 Axes>"
      ]
     },
     "metadata": {
      "needs_background": "light"
     },
     "output_type": "display_data"
    }
   ],
   "source": [
    "# for name_u in all_known_structures:\n",
    "for name_u in ['12N']:\n",
    "    fig, axes = plt.subplots(1, 5,squeeze=True, figsize=(20,2));\n",
    "    for i in range(1, 6):\n",
    "        trajectory = load_alignment_results_v3(what='trajectory',\n",
    "                          alignment_spec=dict(warp_setting=108, \n",
    "                                              stack_f=dict(name='%s_instance0' % name_u, vol_type='annotationAsScore'),\n",
    "                                             stack_m=dict(name='%s_instance%d' % (name_u, i), vol_type='annotationAsScore')),\n",
    "                                     reg_root_dir=os.path.join(MESH_DIR, atlas_name, 'mean_shapes', 'instance_registration'))        \n",
    "        axes[i-1].plot(trajectory);\n",
    "        axes[i-1].set_title('%s_instance%d' % (name_u, i))\n",
    "    plt.show();"
   ]
  },
  {
   "cell_type": "code",
   "execution_count": null,
   "metadata": {},
   "outputs": [],
   "source": [
    "for name_u in all_known_structures:\n",
    "\n",
    "    # Load instance meshes.\n",
    "    \n",
    "    instance_meshes = []\n",
    "    for i in range(6):\n",
    "        m = load_data(DataManager.get_instance_mesh_filepath(atlas_name=atlas_name, structure=name_u, \n",
    "                                                         index=i, resolution='10um'))\n",
    "        if m is not None:\n",
    "            instance_meshes.append(m)\n",
    "\n",
    "    launch_vtk([actor_mesh(m, wireframe=True, \n",
    "                           color=np.array(high_contrast_colors[i+1])/255., \n",
    "                           opacity=1, wireframe_linewidth=3) \n",
    "        for i, m in enumerate(instance_meshes)], \n",
    "      background_color=(1,1,1))\n",
    "    \n",
    "    # Load average shape.\n",
    "    \n",
    "    vol = load_data(DataManager.get_mean_shape_filepath(atlas_name=atlas_name, structure=name_u, what='volume', resolution='10.0um'))\n",
    "    ori_wrt_meanShapeCentroid = load_data(DataManager.get_mean_shape_filepath(atlas_name=atlas_name, structure=name_u, what='origin_wrt_meanShapeCentroid', resolution='10.0um'))\n",
    "    \n",
    "    standard_shape_volume_actor = actor_volume(vol.astype(np.float32), \n",
    "                                               what='probability', \n",
    "                                               origin=ori_wrt_meanShapeCentroid, \n",
    "                                              c=(0,0,0))\n",
    "    \n",
    "    launch_vtk([standard_shape_volume_actor])"
   ]
  },
  {
   "cell_type": "markdown",
   "metadata": {},
   "source": [
    "# Combine standard shapes with standard centroid locations"
   ]
  },
  {
   "cell_type": "code",
   "execution_count": null,
   "metadata": {},
   "outputs": [],
   "source": [
    "atlas_resolution = '10.0um'\n",
    "atlas_resolution_um = convert_resolution_string_to_um(atlas_resolution)"
   ]
  },
  {
   "cell_type": "code",
   "execution_count": null,
   "metadata": {
    "scrolled": true
   },
   "outputs": [],
   "source": [
    "nominal_centroids_wrt_canonicalAtlasSpace_um = load_data(DataManager.get_structure_mean_positions_filepath(atlas_name=atlas_name, resolution='1um'))\n",
    "nominal_centroids_wrt_canonicalAtlasSpace_10um = {s: c / atlas_resolution_um for s, c in nominal_centroids_wrt_canonicalAtlasSpace_um.iteritems()}\n",
    "\n",
    "mean_shapes_10um_wrt_stdShapeCentroid = {name_u: DataManager.load_mean_shape(atlas_name=atlas_name, structure=name_u, resolution=atlas_resolution) \n",
    "                    for name_u in all_known_structures_unsided_including_surround_200um}"
   ]
  },
  {
   "cell_type": "code",
   "execution_count": null,
   "metadata": {},
   "outputs": [],
   "source": [
    "atlas_spec = dict(name='atlasV6', vol_type='score', resolution=atlas_resolution)"
   ]
  },
  {
   "cell_type": "code",
   "execution_count": null,
   "metadata": {},
   "outputs": [],
   "source": [
    "## TODO: simplify this.\n",
    "\n",
    "# mean_shape_wrt_canonicalAtlasSpace_all_structures_10um = {}\n",
    "\n",
    "for name_u in all_known_structures:\n",
    "# for name_u in ['7N']:\n",
    "      \n",
    "#     mean_shape_10um, mean_shape_origin_wrt_stdShapeCentroid_10um = mean_shapes_10um_wrt_stdShapeCentroid[name_u]\n",
    "#     mean_shape_surround_10um, mean_shape_surround_origin_wrt_stdShapeCentroid_10um = mean_shapes_10um_wrt_stdShapeCentroid[convert_to_surround_name(name_u, margin='200um')]\n",
    "    \n",
    "    if name_u in singular_structures:\n",
    "                \n",
    "        for name in [name_u, convert_to_surround_name(name_u, margin='200um')]:\n",
    "            \n",
    "            mean_shape_wrt_canonicalAtlasSpace_10um = (mean_shapes_10um_wrt_stdShapeCentroid[name][0], \n",
    "                        mean_shapes_10um_wrt_stdShapeCentroid[name][1] + nominal_centroids_wrt_canonicalAtlasSpace_10um[name_u])\n",
    "            \n",
    "#             mean_shape_wrt_canonicalAtlasSpace_all_structures_10um[name] = mean_shape_wrt_canonicalAtlasSpace_10um\n",
    "\n",
    "            DataManager.save_original_volume(volume=mean_shape_wrt_canonicalAtlasSpace_10um, \n",
    "                                             stack_spec=atlas_spec, \n",
    "                                             structure=name, wrt='canonicalAtlasSpace')\n",
    "        \n",
    "    else:\n",
    "        \n",
    "        left_name = convert_to_left_name(name_u)\n",
    "        left_surround_name = convert_to_surround_name(left_name, margin='200um')\n",
    "        right_name = convert_to_right_name(name_u)\n",
    "        right_surround_name = convert_to_surround_name(right_name, margin='200um')\n",
    "\n",
    "        left_mean_shape_wrt_canonicalAtlasSpace_10um = mirror_volume_v2(volume=mean_shapes_10um_wrt_stdShapeCentroid[name_u],\n",
    "             centroid_wrt_origin=-mean_shapes_10um_wrt_stdShapeCentroid[name_u][1],\n",
    "            new_centroid=nominal_centroids_wrt_canonicalAtlasSpace_10um[left_name])\n",
    "\n",
    "        DataManager.save_original_volume(volume=left_mean_shape_wrt_canonicalAtlasSpace_10um, \n",
    "                             stack_spec=atlas_spec, \n",
    "                             structure=left_name, wrt='canonicalAtlasSpace')\n",
    "\n",
    "        left_mean_shape_wrt_canonicalAtlasSpace_10um = mirror_volume_v2(\\\n",
    "            volume=mean_shapes_10um_wrt_stdShapeCentroid[convert_to_surround_name(name_u, margin='200um')][0],\n",
    "            centroid_wrt_origin=-mean_shapes_10um_wrt_stdShapeCentroid[convert_to_surround_name(name_u, margin='200um')][1],\n",
    "            new_centroid=nominal_centroids_wrt_canonicalAtlasSpace_10um[left_name])        \n",
    "        \n",
    "        DataManager.save_original_volume(volume=left_mean_shape_wrt_canonicalAtlasSpace_10um, \n",
    "                             stack_spec=atlas_spec, \n",
    "                             structure=left_surround_name, wrt='canonicalAtlasSpace')\n",
    "        \n",
    "        \n",
    "        right_mean_shape_wrt_canonicalAtlasSpace_10um = (mean_shapes_10um_wrt_stdShapeCentroid[name_u][0], \n",
    "        mean_shapes_10um_wrt_stdShapeCentroid[name_u][1] + nominal_centroids_wrt_canonicalAtlasSpace_10um[right_name])\n",
    "        \n",
    "        DataManager.save_original_volume(volume=right_mean_shape_wrt_canonicalAtlasSpace_10um, \n",
    "                                 stack_spec=atlas_spec, \n",
    "                                 structure=right_name, wrt='canonicalAtlasSpace')\n",
    "            \n",
    "        \n",
    "        \n",
    "        right_mean_shape_wrt_canonicalAtlasSpace_10um = (mean_shapes_10um_wrt_stdShapeCentroid[convert_to_surround_name(name_u, margin='200um')][0], \n",
    "        mean_shapes_10um_wrt_stdShapeCentroid[convert_to_surround_name(name_u, margin='200um')][1] + nominal_centroids_wrt_canonicalAtlasSpace_10um[right_name])\n",
    "        \n",
    "        DataManager.save_original_volume(volume=right_mean_shape_wrt_canonicalAtlasSpace_10um, \n",
    "                                 stack_spec=atlas_spec, \n",
    "                                 structure=right_surround_name, wrt='canonicalAtlasSpace')"
   ]
  },
  {
   "cell_type": "markdown",
   "metadata": {},
   "source": [
    "# Convert to vtk polydata for visualization"
   ]
  },
  {
   "cell_type": "code",
   "execution_count": null,
   "metadata": {
    "scrolled": true
   },
   "outputs": [],
   "source": [
    "for name_s in all_known_structures_sided_including_surround_200um:\n",
    "# for name_s in ['7N_L', '7N_R']:\n",
    "\n",
    "    atlas_structure_wrt_canonicalAtlasSpace = \\\n",
    "    DataManager.load_original_volume_v2(stack_spec=atlas_spec, structure=name_s, bbox_wrt='canonicalAtlasSpace')\n",
    "\n",
    "    for surface_level in np.arange(0.1, 1.1, .1):\n",
    "        mean_shape_isosurface_polydata_wrt_canonicalAtlasSpace = \\\n",
    "        volume_to_polydata(volume=(atlas_structure_wrt_canonicalAtlasSpace[0] >= surface_level, atlas_structure_wrt_canonicalAtlasSpace[1]), \n",
    "                     num_simplify_iter=3, smooth=True, \n",
    "                     return_vertex_face_list=False)\n",
    "\n",
    "        save_data(mean_shape_isosurface_polydata_wrt_canonicalAtlasSpace, \n",
    "                  DataManager.get_mesh_filepath_v2(atlas_spec, structure=name_s, level=surface_level))"
   ]
  },
  {
   "cell_type": "code",
   "execution_count": null,
   "metadata": {},
   "outputs": [],
   "source": [
    "mean_shape_level05isosurface_polydata_wrt_canonicalAtlasSpace_all_structures = \\\n",
    "{name_s: load_data(DataManager.get_mesh_filepath_v2(atlas_spec, structure=name_s, level=0.5))\n",
    "for name_s in all_known_structures_sided}"
   ]
  },
  {
   "cell_type": "code",
   "execution_count": null,
   "metadata": {},
   "outputs": [],
   "source": [
    "launch_vtk([actor_mesh(v, wireframe=False, opacity=.5, color=name_unsided_to_color_float[convert_to_original_name(s)]) \n",
    "            for s, v in mean_shape_level05isosurface_polydata_wrt_canonicalAtlasSpace_all_structures.iteritems()] \\\n",
    "          + [actor_sphere([0,0,0])])"
   ]
  },
  {
   "cell_type": "markdown",
   "metadata": {},
   "source": [
    "# Shell"
   ]
  },
  {
   "cell_type": "markdown",
   "metadata": {},
   "source": [
    "Just use MD589's shell, until we find a way to average the outlines."
   ]
  },
  {
   "cell_type": "code",
   "execution_count": 26,
   "metadata": {},
   "outputs": [
    {
     "ename": "NameError",
     "evalue": "name 'metadata_cache' is not defined",
     "output_type": "error",
     "traceback": [
      "\u001b[0;31m---------------------------------------------------------------------------\u001b[0m",
      "\u001b[0;31mNameError\u001b[0m                                 Traceback (most recent call last)",
      "\u001b[0;32m<ipython-input-26-0b931f599506>\u001b[0m in \u001b[0;36m<module>\u001b[0;34m\u001b[0m\n\u001b[1;32m     12\u001b[0m     \u001b[0mcontour_prob_maps_by_sec\u001b[0m \u001b[0;34m=\u001b[0m \u001b[0;34m{\u001b[0m\u001b[0;34m}\u001b[0m\u001b[0;34m\u001b[0m\u001b[0;34m\u001b[0m\u001b[0m\n\u001b[1;32m     13\u001b[0m \u001b[0;34m\u001b[0m\u001b[0m\n\u001b[0;32m---> 14\u001b[0;31m     \u001b[0;32mfor\u001b[0m \u001b[0msec\u001b[0m \u001b[0;32min\u001b[0m \u001b[0mmetadata_cache\u001b[0m\u001b[0;34m[\u001b[0m\u001b[0;34m'valid_sections'\u001b[0m\u001b[0;34m]\u001b[0m\u001b[0;34m[\u001b[0m\u001b[0mstack\u001b[0m\u001b[0;34m]\u001b[0m\u001b[0;34m:\u001b[0m\u001b[0;34m\u001b[0m\u001b[0;34m\u001b[0m\u001b[0m\n\u001b[0m\u001b[1;32m     15\u001b[0m \u001b[0;34m\u001b[0m\u001b[0m\n\u001b[1;32m     16\u001b[0m         \u001b[0mm\u001b[0m \u001b[0;34m=\u001b[0m \u001b[0mDataManager\u001b[0m\u001b[0;34m.\u001b[0m\u001b[0mload_thumbnail_mask_v3\u001b[0m\u001b[0;34m(\u001b[0m\u001b[0mstack\u001b[0m\u001b[0;34m,\u001b[0m \u001b[0mprep_id\u001b[0m\u001b[0;34m=\u001b[0m\u001b[0;36m2\u001b[0m\u001b[0;34m,\u001b[0m \u001b[0msection\u001b[0m\u001b[0;34m=\u001b[0m\u001b[0msec\u001b[0m\u001b[0;34m)\u001b[0m\u001b[0;34m\u001b[0m\u001b[0;34m\u001b[0m\u001b[0m\n",
      "\u001b[0;31mNameError\u001b[0m: name 'metadata_cache' is not defined"
     ]
    }
   ],
   "source": [
    "from utilities.conversion import *\n",
    "\n",
    "margin_um = 200\n",
    "margin_tb = margin_um / XY_PIXEL_DISTANCE_TB\n",
    "\n",
    "from scipy.ndimage.morphology import distance_transform_edt\n",
    "\n",
    "# for stack in ['MD594', 'MD585', 'MD593', 'MD592', 'MD590', 'MD591', 'MD595', 'MD598', 'MD602']:\n",
    "for stack in ['MD589']:\n",
    "    \n",
    "#     contours_valid_by_z = {}\n",
    "    contour_prob_maps_by_sec = {}\n",
    "    \n",
    "    for sec in metadata_cache['valid_sections'][stack]:\n",
    "                \n",
    "        m = DataManager.load_thumbnail_mask_v3(stack, prep_id=2, section=sec)\n",
    "        contours = find_contour_points(m, sample_every=1)[1]\n",
    "        contours_valid = [cnt[(cnt[:,0] >= 1) & (cnt[:,1] >= 1)] for cnt in contours]\n",
    "        \n",
    "#         z = np.mean(DataManager.convert_section_to_z(stack, sec, downsample=32, z_begin=0))\n",
    "#         contours_valid_by_z[z] = contours_valid[0]\n",
    "        \n",
    "        m2 = np.zeros_like(m, np.bool)\n",
    "        for cnt in contours_valid:\n",
    "            m2[cnt[:,1], cnt[:,0]] = 1\n",
    "        distance_to_contour = distance_transform_edt(~m2)\n",
    "        contour_prob_map = np.exp(-distance_to_contour**2/(2*margin_tb)**2)\n",
    "        contour_prob_map[contour_prob_map < 1e-2] = 0\n",
    "        contour_prob_maps_by_sec[sec] = contour_prob_map\n",
    "        \n",
    "outline_prob_volume_atlasResol, outline_prob_volume_origin_wrt_wholebrainXYcropped_atlasResol = \\\n",
    "images_to_volume_v2(images=contour_prob_maps_by_sec, spacing_um=20, \n",
    "                    in_resol_um=convert_resolution_string_to_um(resolution='down32', stack=stack_fixed),\n",
    "                    out_resol_um = atlas_resolution_um)\n",
    "                                                                    \n",
    "# outline_prob_volume_bbox (xm,xm,ym,ym) relative to cropped, (zm,zm) relative to uncropped.\n",
    "\n",
    "# crop_box = metadata_cache['cropbox']['MD589']\n",
    "alignedBrainstemCrop_cropbox_down32 = DataManager.load_cropbox_v2(stack=stack_fixed, prep_id='alignedBrainstemCrop')\n",
    "alignedBrainstemCrop_cropbox_atlasResol = alignedBrainstemCrop_cropbox_down32 * convert_resolution_string_to_um('down32', stack=stack_fixed) / atlas_resolution_um\n",
    "\n",
    "outline_prob_volume_origin_rel2fixedwholebrain_atlasResol = outline_prob_volume_origin_wrt_wholebrainXYcropped_atlasResol + (alignedBrainstemCrop_cropbox_atlasResol[0], alignedBrainstemCrop_cropbox_atlasResol[2], 0)\n",
    "\n",
    "display_volume_sections(outline_prob_volume, direction='z', ncols=5, cmap=plt.cm.gray, start_level=0)"
   ]
  },
  {
   "cell_type": "code",
   "execution_count": null,
   "metadata": {},
   "outputs": [],
   "source": [
    "outline_prob_volume_origin_rel2canon_atlasResol = outline_prob_volume_origin_rel2fixedwholebrain_atlasResol - \\\n",
    "canonical_center_wrt_fixed_um/convert_resolution_string_to_um(resolution='10.0um')"
   ]
  },
  {
   "cell_type": "code",
   "execution_count": null,
   "metadata": {},
   "outputs": [],
   "source": [
    "shell_vol_origin_dict_rel2canon = {'shell': (outline_prob_volume_atlasResol, outline_prob_volume_origin_rel2canon_atlasResol)}"
   ]
  },
  {
   "cell_type": "markdown",
   "metadata": {},
   "source": [
    "# Side task: compute the volumes of structures"
   ]
  },
  {
   "cell_type": "code",
   "execution_count": 34,
   "metadata": {},
   "outputs": [
    {
     "name": "stderr",
     "output_type": "stream",
     "text": [
      "Prior structure/index map not found. Generating a new one.\n"
     ]
    },
    {
     "ename": "OSError",
     "evalue": "/net/birdstore/Active_Atlas_Data/data_root/CSHL_volumes/atlasV7/10.0um_annotationAsScoreVolume/5N_L_origin_wrt_wholebrain.txt not found.",
     "output_type": "error",
     "traceback": [
      "\u001b[0;31m---------------------------------------------------------------------------\u001b[0m",
      "\u001b[0;31mOSError\u001b[0m                                   Traceback (most recent call last)",
      "\u001b[0;32m<ipython-input-34-dccec7dbefc5>\u001b[0m in \u001b[0;36m<module>\u001b[0;34m\u001b[0m\n\u001b[1;32m      2\u001b[0m \u001b[0matlas_resolution_um\u001b[0m \u001b[0;34m=\u001b[0m \u001b[0;36m10.0\u001b[0m\u001b[0;34m\u001b[0m\u001b[0;34m\u001b[0m\u001b[0m\n\u001b[1;32m      3\u001b[0m \u001b[0matlas_spec\u001b[0m \u001b[0;34m=\u001b[0m \u001b[0mdict\u001b[0m\u001b[0;34m(\u001b[0m\u001b[0mname\u001b[0m\u001b[0;34m=\u001b[0m\u001b[0;34m'atlasV7'\u001b[0m\u001b[0;34m,\u001b[0m \u001b[0mvol_type\u001b[0m\u001b[0;34m=\u001b[0m\u001b[0;34m'score'\u001b[0m\u001b[0;34m,\u001b[0m \u001b[0mresolution\u001b[0m\u001b[0;34m=\u001b[0m\u001b[0matlas_resolution\u001b[0m\u001b[0;34m)\u001b[0m\u001b[0;34m\u001b[0m\u001b[0;34m\u001b[0m\u001b[0m\n\u001b[0;32m----> 4\u001b[0;31m volumes = load_original_volume_all_known_structures_v3(atlas_spec, \n\u001b[0m\u001b[1;32m      5\u001b[0m                            structures=all_known_structures_sided)\n\u001b[1;32m      6\u001b[0m \u001b[0;34m\u001b[0m\u001b[0m\n",
      "\u001b[0;32m~/programming/pipeline_utility/utilities/imported_atlas_utilities.py\u001b[0m in \u001b[0;36mload_original_volume_all_known_structures_v3\u001b[0;34m(stack_spec, structures)\u001b[0m\n\u001b[1;32m   1013\u001b[0m \u001b[0;34m\u001b[0m\u001b[0m\n\u001b[1;32m   1014\u001b[0m         \u001b[0;32mexcept\u001b[0m \u001b[0mException\u001b[0m \u001b[0;32mas\u001b[0m \u001b[0me\u001b[0m\u001b[0;34m:\u001b[0m\u001b[0;34m\u001b[0m\u001b[0;34m\u001b[0m\u001b[0m\n\u001b[0;32m-> 1015\u001b[0;31m             \u001b[0;32mraise\u001b[0m \u001b[0me\u001b[0m\u001b[0;34m\u001b[0m\u001b[0;34m\u001b[0m\u001b[0m\n\u001b[0m\u001b[1;32m   1016\u001b[0m             \u001b[0msys\u001b[0m\u001b[0;34m.\u001b[0m\u001b[0mstderr\u001b[0m\u001b[0;34m.\u001b[0m\u001b[0mwrite\u001b[0m\u001b[0;34m(\u001b[0m\u001b[0;34m'%s\\n'\u001b[0m \u001b[0;34m%\u001b[0m \u001b[0me\u001b[0m\u001b[0;34m)\u001b[0m\u001b[0;34m\u001b[0m\u001b[0;34m\u001b[0m\u001b[0m\n\u001b[1;32m   1017\u001b[0m             \u001b[0msys\u001b[0m\u001b[0;34m.\u001b[0m\u001b[0mstderr\u001b[0m\u001b[0;34m.\u001b[0m\u001b[0mwrite\u001b[0m\u001b[0;34m(\u001b[0m\u001b[0;34m'Score volume for %s does not exist.\\n'\u001b[0m \u001b[0;34m%\u001b[0m \u001b[0mstructure\u001b[0m\u001b[0;34m)\u001b[0m\u001b[0;34m\u001b[0m\u001b[0;34m\u001b[0m\u001b[0m\n",
      "\u001b[0;32m~/programming/pipeline_utility/utilities/imported_atlas_utilities.py\u001b[0m in \u001b[0;36mload_original_volume_all_known_structures_v3\u001b[0;34m(stack_spec, structures)\u001b[0m\n\u001b[1;32m    993\u001b[0m                 \u001b[0mindex\u001b[0m \u001b[0;34m=\u001b[0m \u001b[0mstructure_to_label\u001b[0m\u001b[0;34m[\u001b[0m\u001b[0mstructure\u001b[0m\u001b[0;34m]\u001b[0m\u001b[0;34m\u001b[0m\u001b[0;34m\u001b[0m\u001b[0m\n\u001b[1;32m    994\u001b[0m \u001b[0;34m\u001b[0m\u001b[0m\n\u001b[0;32m--> 995\u001b[0;31m             v, o = load_original_volume_v2(stack_spec, structure=structure,\n\u001b[0m\u001b[1;32m    996\u001b[0m                                                        \u001b[0mbbox_wrt\u001b[0m\u001b[0;34m=\u001b[0m\u001b[0min_bbox_wrt\u001b[0m\u001b[0;34m,\u001b[0m\u001b[0;34m\u001b[0m\u001b[0;34m\u001b[0m\u001b[0m\n\u001b[1;32m    997\u001b[0m                                                        resolution=stack_spec['resolution'])\n",
      "\u001b[0;32m~/programming/pipeline_utility/utilities/imported_atlas_utilities.py\u001b[0m in \u001b[0;36mload_original_volume_v2\u001b[0;34m(stack_spec, structure, resolution, bbox_wrt, return_origin_instead_of_bbox, crop_to_minimal)\u001b[0m\n\u001b[1;32m    702\u001b[0m     \u001b[0mfilepath\u001b[0m \u001b[0;34m=\u001b[0m \u001b[0mos\u001b[0m\u001b[0;34m.\u001b[0m\u001b[0mpath\u001b[0m\u001b[0;34m.\u001b[0m\u001b[0mjoin\u001b[0m\u001b[0;34m(\u001b[0m\u001b[0mVOL_DIR\u001b[0m\u001b[0;34m,\u001b[0m \u001b[0mstack\u001b[0m\u001b[0;34m,\u001b[0m \u001b[0;34m'{}_annotationAsScoreVolume'\u001b[0m\u001b[0;34m.\u001b[0m\u001b[0mformat\u001b[0m\u001b[0;34m(\u001b[0m\u001b[0mresolution\u001b[0m\u001b[0;34m)\u001b[0m\u001b[0;34m,\u001b[0m \u001b[0mfilename\u001b[0m\u001b[0;34m)\u001b[0m\u001b[0;34m\u001b[0m\u001b[0;34m\u001b[0m\u001b[0m\n\u001b[1;32m    703\u001b[0m     \u001b[0;31m#origin_filename = get_original_volume_origin_filepath_v3(stack_spec=stack_spec, structure=structure, wrt=bbox_wrt, resolution=resolution)\u001b[0m\u001b[0;34m\u001b[0m\u001b[0;34m\u001b[0m\u001b[0;34m\u001b[0m\u001b[0m\n\u001b[0;32m--> 704\u001b[0;31m     \u001b[0morigin\u001b[0m \u001b[0;34m=\u001b[0m \u001b[0mnp\u001b[0m\u001b[0;34m.\u001b[0m\u001b[0mloadtxt\u001b[0m\u001b[0;34m(\u001b[0m\u001b[0mfilepath\u001b[0m\u001b[0;34m)\u001b[0m\u001b[0;34m\u001b[0m\u001b[0;34m\u001b[0m\u001b[0m\n\u001b[0m\u001b[1;32m    705\u001b[0m \u001b[0;34m\u001b[0m\u001b[0m\n\u001b[1;32m    706\u001b[0m     \u001b[0;32mif\u001b[0m \u001b[0mcrop_to_minimal\u001b[0m\u001b[0;34m:\u001b[0m\u001b[0;34m\u001b[0m\u001b[0;34m\u001b[0m\u001b[0m\n",
      "\u001b[0;32m~/.virtualenvs/pipeline/lib/python3.8/site-packages/numpy/lib/npyio.py\u001b[0m in \u001b[0;36mloadtxt\u001b[0;34m(fname, dtype, comments, delimiter, converters, skiprows, usecols, unpack, ndmin, encoding, max_rows)\u001b[0m\n\u001b[1;32m    979\u001b[0m             \u001b[0mfname\u001b[0m \u001b[0;34m=\u001b[0m \u001b[0mos_fspath\u001b[0m\u001b[0;34m(\u001b[0m\u001b[0mfname\u001b[0m\u001b[0;34m)\u001b[0m\u001b[0;34m\u001b[0m\u001b[0;34m\u001b[0m\u001b[0m\n\u001b[1;32m    980\u001b[0m         \u001b[0;32mif\u001b[0m \u001b[0m_is_string_like\u001b[0m\u001b[0;34m(\u001b[0m\u001b[0mfname\u001b[0m\u001b[0;34m)\u001b[0m\u001b[0;34m:\u001b[0m\u001b[0;34m\u001b[0m\u001b[0;34m\u001b[0m\u001b[0m\n\u001b[0;32m--> 981\u001b[0;31m             \u001b[0mfh\u001b[0m \u001b[0;34m=\u001b[0m \u001b[0mnp\u001b[0m\u001b[0;34m.\u001b[0m\u001b[0mlib\u001b[0m\u001b[0;34m.\u001b[0m\u001b[0m_datasource\u001b[0m\u001b[0;34m.\u001b[0m\u001b[0mopen\u001b[0m\u001b[0;34m(\u001b[0m\u001b[0mfname\u001b[0m\u001b[0;34m,\u001b[0m \u001b[0;34m'rt'\u001b[0m\u001b[0;34m,\u001b[0m \u001b[0mencoding\u001b[0m\u001b[0;34m=\u001b[0m\u001b[0mencoding\u001b[0m\u001b[0;34m)\u001b[0m\u001b[0;34m\u001b[0m\u001b[0;34m\u001b[0m\u001b[0m\n\u001b[0m\u001b[1;32m    982\u001b[0m             \u001b[0mfencoding\u001b[0m \u001b[0;34m=\u001b[0m \u001b[0mgetattr\u001b[0m\u001b[0;34m(\u001b[0m\u001b[0mfh\u001b[0m\u001b[0;34m,\u001b[0m \u001b[0;34m'encoding'\u001b[0m\u001b[0;34m,\u001b[0m \u001b[0;34m'latin1'\u001b[0m\u001b[0;34m)\u001b[0m\u001b[0;34m\u001b[0m\u001b[0;34m\u001b[0m\u001b[0m\n\u001b[1;32m    983\u001b[0m             \u001b[0mfh\u001b[0m \u001b[0;34m=\u001b[0m \u001b[0miter\u001b[0m\u001b[0;34m(\u001b[0m\u001b[0mfh\u001b[0m\u001b[0;34m)\u001b[0m\u001b[0;34m\u001b[0m\u001b[0;34m\u001b[0m\u001b[0m\n",
      "\u001b[0;32m~/.virtualenvs/pipeline/lib/python3.8/site-packages/numpy/lib/_datasource.py\u001b[0m in \u001b[0;36mopen\u001b[0;34m(path, mode, destpath, encoding, newline)\u001b[0m\n\u001b[1;32m    267\u001b[0m \u001b[0;34m\u001b[0m\u001b[0m\n\u001b[1;32m    268\u001b[0m     \u001b[0mds\u001b[0m \u001b[0;34m=\u001b[0m \u001b[0mDataSource\u001b[0m\u001b[0;34m(\u001b[0m\u001b[0mdestpath\u001b[0m\u001b[0;34m)\u001b[0m\u001b[0;34m\u001b[0m\u001b[0;34m\u001b[0m\u001b[0m\n\u001b[0;32m--> 269\u001b[0;31m     \u001b[0;32mreturn\u001b[0m \u001b[0mds\u001b[0m\u001b[0;34m.\u001b[0m\u001b[0mopen\u001b[0m\u001b[0;34m(\u001b[0m\u001b[0mpath\u001b[0m\u001b[0;34m,\u001b[0m \u001b[0mmode\u001b[0m\u001b[0;34m,\u001b[0m \u001b[0mencoding\u001b[0m\u001b[0;34m=\u001b[0m\u001b[0mencoding\u001b[0m\u001b[0;34m,\u001b[0m \u001b[0mnewline\u001b[0m\u001b[0;34m=\u001b[0m\u001b[0mnewline\u001b[0m\u001b[0;34m)\u001b[0m\u001b[0;34m\u001b[0m\u001b[0;34m\u001b[0m\u001b[0m\n\u001b[0m\u001b[1;32m    270\u001b[0m \u001b[0;34m\u001b[0m\u001b[0m\n\u001b[1;32m    271\u001b[0m \u001b[0;34m\u001b[0m\u001b[0m\n",
      "\u001b[0;32m~/.virtualenvs/pipeline/lib/python3.8/site-packages/numpy/lib/_datasource.py\u001b[0m in \u001b[0;36mopen\u001b[0;34m(self, path, mode, encoding, newline)\u001b[0m\n\u001b[1;32m    621\u001b[0m                                       encoding=encoding, newline=newline)\n\u001b[1;32m    622\u001b[0m         \u001b[0;32melse\u001b[0m\u001b[0;34m:\u001b[0m\u001b[0;34m\u001b[0m\u001b[0;34m\u001b[0m\u001b[0m\n\u001b[0;32m--> 623\u001b[0;31m             \u001b[0;32mraise\u001b[0m \u001b[0mIOError\u001b[0m\u001b[0;34m(\u001b[0m\u001b[0;34m\"%s not found.\"\u001b[0m \u001b[0;34m%\u001b[0m \u001b[0mpath\u001b[0m\u001b[0;34m)\u001b[0m\u001b[0;34m\u001b[0m\u001b[0;34m\u001b[0m\u001b[0m\n\u001b[0m\u001b[1;32m    624\u001b[0m \u001b[0;34m\u001b[0m\u001b[0m\n\u001b[1;32m    625\u001b[0m \u001b[0;34m\u001b[0m\u001b[0m\n",
      "\u001b[0;31mOSError\u001b[0m: /net/birdstore/Active_Atlas_Data/data_root/CSHL_volumes/atlasV7/10.0um_annotationAsScoreVolume/5N_L_origin_wrt_wholebrain.txt not found."
     ]
    }
   ],
   "source": [
    "atlas_resolution = '10.0um'\n",
    "atlas_resolution_um = 10.0\n",
    "atlas_spec = dict(name='atlasV7', vol_type='score', resolution=atlas_resolution)\n",
    "volumes = load_original_volume_all_known_structures_v3(atlas_spec, \n",
    "                           structures=all_known_structures_sided)\n",
    "\n",
    "volumes_mm3 = defaultdict(dict)\n",
    "for name_u in all_known_structures:\n",
    "    for level in np.arange(0, 1.1, .1):\n",
    "        volumes_mm3[name_u][level] = np.count_nonzero(volumes[convert_to_left_name(name_u)][0] > level) * 10.**3 / 1e9"
   ]
  },
  {
   "cell_type": "code",
   "execution_count": null,
   "metadata": {},
   "outputs": [],
   "source": [
    "DataFrame(volumes_mm3).to_csv('/home/yuncong/structure_volumes_mm3.csv')"
   ]
  },
  {
   "cell_type": "markdown",
   "metadata": {},
   "source": [
    "# Load"
   ]
  },
  {
   "cell_type": "code",
   "execution_count": null,
   "metadata": {},
   "outputs": [],
   "source": [
    "standard_shape_level05surface_polydata_wrt_canonicalAtlasSpace_all_structures = \\\n",
    "DataManager.load_meshes_v2(atlas_spec, levels=.5, include_surround=True, \n",
    "                           structures=all_known_structures_sided)\n",
    "#                            structures=all_known_structures_sided + all_known_structures_sided_with_surround_200um)"
   ]
  },
  {
   "cell_type": "code",
   "execution_count": null,
   "metadata": {},
   "outputs": [],
   "source": [
    "launch_vtk([actor_mesh(p, wireframe=True) \n",
    "           for s, p in standard_shape_level05surface_polydata_wrt_canonicalAtlasSpace_all_structures.iteritems()] \\\n",
    "            + [actor_sphere((0,0,0), radius=1)])"
   ]
  },
  {
   "cell_type": "code",
   "execution_count": null,
   "metadata": {},
   "outputs": [],
   "source": [
    "# Show multiple iso-surfaces\n",
    "\n",
    "standard_shape_level010surface_polydata_wrt_canonicalAtlasSpace_all_structures = \\\n",
    "DataManager.load_meshes_v2(atlas_spec, levels=.1, include_surround=True, \n",
    "                           structures=all_known_structures_sided)\n",
    "#                            structures=all_known_structures_sided + all_known_structures_sided_with_surround_200um)\n",
    "\n",
    "standard_shape_level090surface_polydata_wrt_canonicalAtlasSpace_all_structures = \\\n",
    "DataManager.load_meshes_v2(atlas_spec, levels=.9, include_surround=True, \n",
    "                           structures=all_known_structures_sided)\n",
    "#                            structures=all_known_structures_sided + all_known_structures_sided_with_surround_200um)\n",
    "\n",
    "launch_vtk([actor_mesh(p, wireframe=False, color=name_unsided_to_color_float[convert_to_unsided_label(s)], opacity=.2) \n",
    "           for s, p in standard_shape_level010surface_polydata_wrt_canonicalAtlasSpace_all_structures.iteritems()] \\\n",
    "           + [actor_mesh(p, wireframe=False, color=name_unsided_to_color_float[convert_to_unsided_label(s)], opacity=.1) \n",
    "           for s, p in standard_shape_level090surface_polydata_wrt_canonicalAtlasSpace_all_structures.iteritems()] \\\n",
    "            + [actor_sphere((0,0,0), radius=1)])"
   ]
  },
  {
   "cell_type": "code",
   "execution_count": null,
   "metadata": {},
   "outputs": [],
   "source": [
    "# Load shell\n",
    "\n",
    "stack_fixed = 'MD589'\n",
    "shell_polydata_rel2fixedWholebrain = DataManager.load_mesh_v2(brain_spec={'name':stack_fixed, \n",
    "                                                                    'vol_type':'annotationAsScore',\n",
    "                                                                   'resolution':'10.0um'}, \n",
    "                                                        structure='shell')\n",
    "\n",
    "shell_polydata_rel2canonicalAtlasSpace = move_polydata(shell_polydata_rel2fixedWholebrain,\n",
    "                                                       -canonical_center_wrt_fixed_um / convert_resolution_string_to_um(resolution='10.0um'))\n",
    "\n",
    "shell_actor_rel2canon = actor_mesh(shell_polydata_rel2fixedWholebrain, (1,1,1), opacity=.15, \n",
    "                              wireframe=False, origin=-canonical_center_wrt_fixed_um / convert_resolution_string_to_um(resolution='10.0um'))"
   ]
  },
  {
   "cell_type": "code",
   "execution_count": null,
   "metadata": {},
   "outputs": [],
   "source": [
    "save_data(shell_polydata_rel2canonicalAtlasSpace, \n",
    "          DataManager.get_mesh_filepath_v2(atlas_spec, structure='shell', level=None))"
   ]
  },
  {
   "cell_type": "code",
   "execution_count": null,
   "metadata": {},
   "outputs": [],
   "source": [
    "launch_vtk([actor_mesh(p, wireframe=False, color=name_unsided_to_color_float[convert_to_unsided_label(s)], opacity=.2) \n",
    "           for s, p in standard_shape_level010surface_polydata_wrt_canonicalAtlasSpace_all_structures.iteritems()] \\\n",
    "           + [actor_mesh(p, wireframe=False, color=name_unsided_to_color_float[convert_to_unsided_label(s)], opacity=.1) \n",
    "           for s, p in standard_shape_level090surface_polydata_wrt_canonicalAtlasSpace_all_structures.iteritems()] \\\n",
    "            + [actor_sphere((0,0,0), radius=1)]\\\n",
    "#           +[shell_actor_rel2canon] \\\n",
    "           +[actor_mesh(shell_polydata_rel2canonicalAtlasSpace, (1,1,1), opacity=.15, \n",
    "                              wireframe=False)]\n",
    "#           +[actor_volume(shell_vol_origin_dict_rel2canon['shell'][0].astype(np.float32), \n",
    "#                          what='probability', origin=shell_vol_origin_dict_rel2canon['shell'][1])]\n",
    "          )"
   ]
  },
  {
   "cell_type": "code",
   "execution_count": null,
   "metadata": {},
   "outputs": [],
   "source": [
    "# atlas_volume, structure_to_label, label_to_structure = \\\n",
    "# DataManager.load_original_volume_all_known_structures(stack=atlas_name, sided=True)"
   ]
  },
  {
   "cell_type": "code",
   "execution_count": null,
   "metadata": {},
   "outputs": [],
   "source": [
    "vol, origin_rel2canon = structure_vol_origin_dicts_rel2canon['7N_L']\n",
    "\n",
    "one_structure_volume_actor_rel2canon = actor_volume(vol.astype(np.float32), what='score', \n",
    "                                              origin=origin_rel2canon,\n",
    "                                                    auxdata=0.8*(vol>0.1).astype(np.float32),\n",
    "                                              c=np.array(name_unsided_to_color['7N'])/255.)\n",
    "#                                             c=np.array((1,0,0)))"
   ]
  },
  {
   "cell_type": "markdown",
   "metadata": {},
   "source": [
    "# Render"
   ]
  },
  {
   "cell_type": "code",
   "execution_count": null,
   "metadata": {},
   "outputs": [],
   "source": [
    "launch_vtk([] \\\n",
    "    + structure_mesh_actors_rel2canon \\\n",
    "#     + [one_structure_volume_actor_rel2canon] \\\n",
    "#     + [shell_volume_actor_rel2canon] \\\n",
    "#     + structure_mesh_surround_actors_rel2canon \\\n",
    "    + [shell_actor_rel2canon] \\\n",
    "    + [actor_sphere((0,0,0), radius=1)], \n",
    "           init_angle='sagittal', \n",
    "    background_color=(1,1,1),\n",
    "depth_peeling=True)"
   ]
  }
 ],
 "metadata": {
  "kernelspec": {
   "display_name": "Python 2",
   "language": "python",
   "name": "python2"
  },
  "language_info": {
   "codemirror_mode": {
    "name": "ipython",
    "version": 3
   },
   "file_extension": ".py",
   "mimetype": "text/x-python",
   "name": "python",
   "nbconvert_exporter": "python",
   "pygments_lexer": "ipython3",
   "version": "3.8.2"
  }
 },
 "nbformat": 4,
 "nbformat_minor": 2
}
