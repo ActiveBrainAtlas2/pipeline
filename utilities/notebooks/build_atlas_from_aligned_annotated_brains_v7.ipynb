{
 "cells": [
  {
   "cell_type": "code",
   "execution_count": 35,
   "metadata": {
    "scrolled": true
   },
   "outputs": [
    {
     "name": "stdout",
     "output_type": "stream",
     "text": [
      "The autoreload extension is already loaded. To reload it, use:\n",
      "  %reload_ext autoreload\n"
     ]
    }
   ],
   "source": [
    "import os,sys\n",
    "from collections import defaultdict\n",
    "import json\n",
    "import numpy as np\n",
    "import pickle\n",
    "import matplotlib\n",
    "from matplotlib import pyplot as plt\n",
    "from scipy.ndimage.morphology import distance_transform_edt\n",
    "%load_ext autoreload\n",
    "%autoreload 2"
   ]
  },
  {
   "cell_type": "code",
   "execution_count": 36,
   "metadata": {},
   "outputs": [],
   "source": [
    "PATH = '/home/eddyod/programming/pipeline_utility'\n",
    "MESH_DIR = '/net/birdstore/Active_Atlas_Data/data_root/CSHL_meshes'\n",
    "sys.path.append(PATH)\n",
    "from utilities.sqlcontroller import SqlController\n",
    "from utilities.imported_atlas_utilities import load_original_volume_all_known_structures_v3, get_centroid_3d, \\\n",
    "    load_alignment_results_v3, transform_points, average_location, \\\n",
    "    convert_to_original_name, name_unsided_to_color, paired_structures, \\\n",
    "    convert_to_left_name, convert_to_right_name, load_original_volume_v2, save_alignment_results_v3, \\\n",
    "    convert_transform_forms, transform_volume_v4, volume_to_polydata, singular_structures, \\\n",
    "    MESH_DIR, average_shape, convert_to_surround_name, \\\n",
    "    save_mesh_stl, get_surround_volume_v2, transform_volume_v4, launch_vtk, actor_mesh, high_contrast_colors, \\\n",
    "    add_axes, plot_centroid_means_and_covars_3d, all_known_structures_sided, load_data, \\\n",
    "    get_instance_mesh_filepath, images_to_volume_v2\n",
    "from utilities.aligner_v3 import Aligner\n",
    "from utilities.alignment_utility import convert_resolution_string_to_um\n",
    "from utilities.conversion import *"
   ]
  },
  {
   "cell_type": "code",
   "execution_count": 3,
   "metadata": {},
   "outputs": [],
   "source": [
    "INPUT_KEY_LOC = os.path.join(PATH, 'neuroglancer', 'structure_key_minimal.json')\n",
    "NUM_STRUCTS = 49\n",
    "with open(INPUT_KEY_LOC, 'r') as f:\n",
    "    structures = json.load(f)\n",
    "structures = list(structures.values())\n",
    "structures = structures[0:9]"
   ]
  },
  {
   "cell_type": "code",
   "execution_count": 4,
   "metadata": {},
   "outputs": [],
   "source": [
    "structures = ['IC', 'SC']"
   ]
  },
  {
   "cell_type": "code",
   "execution_count": 5,
   "metadata": {},
   "outputs": [],
   "source": [
    "atlas_name = 'atlasV7'\n",
    "fixed_brain_name = 'MD589'\n",
    "moving_brain_names = ['MD585', 'MD594']\n",
    "resolution = '10.0um'\n",
    "resolution_um = 10.0\n",
    "structure_centroids_all_brains_um_wrt_fixed = []\n",
    "fixed_brain_spec = {'name': fixed_brain_name, 'vol_type': 'annotationAsScore', 'resolution': resolution}"
   ]
  },
  {
   "cell_type": "code",
   "execution_count": 6,
   "metadata": {
    "scrolled": true
   },
   "outputs": [
    {
     "name": "stderr",
     "output_type": "stream",
     "text": [
      "Prior structure/index map not found. Generating a new one.\n"
     ]
    },
    {
     "name": "stdout",
     "output_type": "stream",
     "text": [
      "vol_basename_with_structure_suffix IC\n",
      "vol_basename_with_structure_suffix SC\n",
      "fixed_brain_structure_centroids {'IC': array([1184.30128992,  308.85017456,  433.34325169]), 'SC': array([1075.36825329,  298.88313569,  430.98862599])}\n",
      "fixed_brain_structure_centroids_um {'IC': array([11843.01289921,  3088.50174556,  4333.43251686]), 'SC': array([10753.68253291,  2988.83135691,  4309.88625988])}\n"
     ]
    }
   ],
   "source": [
    "fixed_brain = load_original_volume_all_known_structures_v3(stack_spec=fixed_brain_spec, structures=structures, \n",
    "                                                           in_bbox_wrt='wholebrain')\n",
    "fixed_brain_structure_centroids = get_centroid_3d(fixed_brain)\n",
    "print('fixed_brain_structure_centroids', fixed_brain_structure_centroids)\n",
    "fixed_brain_structure_centroids_um = {s: c * resolution_um for s, c in fixed_brain_structure_centroids.items()}\n",
    "print('fixed_brain_structure_centroids_um', fixed_brain_structure_centroids_um)\n",
    "structure_centroids_all_brains_um_wrt_fixed.append(fixed_brain_structure_centroids_um)"
   ]
  },
  {
   "cell_type": "markdown",
   "metadata": {},
   "source": [
    "## Compute instance centroids"
   ]
  },
  {
   "cell_type": "code",
   "execution_count": 7,
   "metadata": {
    "scrolled": true
   },
   "outputs": [
    {
     "name": "stdout",
     "output_type": "stream",
     "text": [
      "Brain {'name': 'MD585', 'vol_type': 'annotationAsScore', 'resolution': '10.0um'}\n",
      "vol_basename_with_structure_suffix IC\n",
      "vol_basename_with_structure_suffix SC\n"
     ]
    },
    {
     "name": "stderr",
     "output_type": "stream",
     "text": [
      "Prior structure/index map not found. Generating a new one.\n"
     ]
    },
    {
     "name": "stdout",
     "output_type": "stream",
     "text": [
      "INPUT_KEY_LOC /net/birdstore/Active_Atlas_Data/data_root/CSHL_registration_parameters/MD585/10.0um_annotationAsScoreVolume_warp109_10.0um_annotationAsScoreVolume/parameters.json\n",
      "Brain {'name': 'MD594', 'vol_type': 'annotationAsScore', 'resolution': '10.0um'}\n",
      "vol_basename_with_structure_suffix IC\n",
      "vol_basename_with_structure_suffix SC\n"
     ]
    },
    {
     "name": "stderr",
     "output_type": "stream",
     "text": [
      "Prior structure/index map not found. Generating a new one.\n"
     ]
    },
    {
     "name": "stdout",
     "output_type": "stream",
     "text": [
      "INPUT_KEY_LOC /net/birdstore/Active_Atlas_Data/data_root/CSHL_registration_parameters/MD594/10.0um_annotationAsScoreVolume_warp109_10.0um_annotationAsScoreVolume/parameters.json\n"
     ]
    }
   ],
   "source": [
    "for brain_m in moving_brain_names:\n",
    "    moving_brain_spec = {'name': brain_m, 'vol_type': 'annotationAsScore', 'resolution': resolution}\n",
    "    print('Brain', moving_brain_spec)\n",
    "    moving_brain = load_original_volume_all_known_structures_v3(stack_spec=moving_brain_spec, \n",
    "                                                                structures=structures, in_bbox_wrt='wholebrain')\n",
    "    alignment_spec = dict(stack_m=moving_brain_spec, stack_f=fixed_brain_spec, warp_setting=109)\n",
    "    moving_brain_structure_centroids_input_resol = get_centroid_3d(moving_brain)\n",
    "    # Load registration.\n",
    "    # Alignment results fp: os.path.join(reg_root_dir, alignment_spec['stack_m']['name'], warp_basename, warp_basename + '_' + what + '.' + ext)\n",
    "    transform_parameters_moving_brain_to_fixed_brain = load_alignment_results_v3(alignment_spec=alignment_spec, what='parameters')\n",
    "    # Transform moving brains into alignment with the fixed brain.\n",
    "    transformed_moving_brain_structure_centroids_input_resol_wrt_fixed = \\\n",
    "    dict(list(zip(list(moving_brain_structure_centroids_input_resol.keys()),\n",
    "                  transform_points(pts=list(moving_brain_structure_centroids_input_resol.values()),\n",
    "                                   transform=transform_parameters_moving_brain_to_fixed_brain))))\n",
    "\n",
    "    transformed_moving_brain_structure_centroids_um_wrt_fixed = \\\n",
    "        {s: c * resolution_um for s, c in\n",
    "        list(transformed_moving_brain_structure_centroids_input_resol_wrt_fixed.items())}\n",
    "\n",
    "    structure_centroids_all_brains_um_wrt_fixed.append(transformed_moving_brain_structure_centroids_um_wrt_fixed)\n"
   ]
  },
  {
   "cell_type": "code",
   "execution_count": 8,
   "metadata": {},
   "outputs": [],
   "source": [
    "structure_centroids_all_brains_um_grouped_by_structure_wrt_fixed = defaultdict(list)\n",
    "for sc in structure_centroids_all_brains_um_wrt_fixed:\n",
    "    for k, c in sc.items():\n",
    "        structure_centroids_all_brains_um_grouped_by_structure_wrt_fixed[k].append(c)\n",
    "structure_centroids_all_brains_um_grouped_by_structure_wrt_fixed.default_factory = None"
   ]
  },
  {
   "cell_type": "markdown",
   "metadata": {},
   "source": [
    "## Compute standard centroids"
   ]
  },
  {
   "cell_type": "code",
   "execution_count": 9,
   "metadata": {},
   "outputs": [
    {
     "name": "stdout",
     "output_type": "stream",
     "text": [
      "('Mid-sagittal plane normal vector =', array([-0.02276253,  0.08796512,  0.99586345]), '@ Mid-sagittal plane anchor wrt fixed wholebrain =', array([11176.16223759,  3171.83782533,  4484.31495654]))\n",
      "('Angular deviation of the mid sagittal plane normal around y axis (degree) =', 5.213228446103473)\n"
     ]
    }
   ],
   "source": [
    "nominal_centroids_wrt_canonicalAtlasSpace_um, \\\n",
    "instance_centroids_wrt_canonicalAtlasSpace_um, \\\n",
    "canonical_center_wrt_fixed_um, \\\n",
    "canonical_normal, \\\n",
    "transform_matrix_to_canonicalAtlasSpace_um = \\\n",
    "average_location(structure_centroids_all_brains_um_grouped_by_structure_wrt_fixed)"
   ]
  },
  {
   "cell_type": "code",
   "execution_count": 10,
   "metadata": {},
   "outputs": [],
   "source": [
    "colors = {name_s: np.array(name_unsided_to_color[convert_to_original_name(name_s)])/255.\n",
    "                                        for name_s in instance_centroids_wrt_canonicalAtlasSpace_um.keys()}"
   ]
  },
  {
   "cell_type": "code",
   "execution_count": 11,
   "metadata": {},
   "outputs": [
    {
     "name": "stderr",
     "output_type": "stream",
     "text": [
      "No handles with labels found to put in legend.\n"
     ]
    },
    {
     "data": {
      "image/png": "[encoded data removed]",
      "text/plain": [
       "<Figure size 1440x1440 with 1 Axes>"
      ]
     },
     "metadata": {
      "needs_background": "light"
     },
     "output_type": "display_data"
    }
   ],
   "source": [
    "plot_centroid_means_and_covars_3d(instance_centroids=instance_centroids_wrt_canonicalAtlasSpace_um,\n",
    "                                 nominal_locations=nominal_centroids_wrt_canonicalAtlasSpace_um,\n",
    "                                 canonical_centroid=(0,0,0),\n",
    "                                  show_canonical_centroid=False,\n",
    "                                  canonical_normal=[0,0,1],\n",
    "                                 colors=colors,\n",
    "                                 xlim=[-3000, 3000],\n",
    "                                 ylim=[-3000, 3000],\n",
    "                                 zlim=[-3000, 3000],\n",
    "                                 xlabel='Rostral-caudal ($\\mu$m)',\n",
    "                                 ylabel='',\n",
    "                                 zlabel='Medial-lateral ($\\mu$m)',\n",
    "                                 title='Centroid means and covariances (3 brains)')"
   ]
  },
  {
   "cell_type": "code",
   "execution_count": 12,
   "metadata": {},
   "outputs": [],
   "source": [
    "filepath = os.path.join(MESH_DIR, atlas_name, '1um_meanPositions.pkl')\n",
    "with open(filepath, 'wb') as f:\n",
    "    pickle.dump(nominal_centroids_wrt_canonicalAtlasSpace_um, f)"
   ]
  },
  {
   "cell_type": "code",
   "execution_count": 13,
   "metadata": {},
   "outputs": [],
   "source": [
    "filepath = os.path.join(MESH_DIR, atlas_name, 'canonicalCentroid_wrt_fixedWholebrain.txt')\n",
    "np.savetxt(filepath, canonical_center_wrt_fixed_um)"
   ]
  },
  {
   "cell_type": "code",
   "execution_count": 14,
   "metadata": {},
   "outputs": [],
   "source": [
    "reg_root_dir=os.path.join(MESH_DIR, atlas_name, 'mean_shapes', 'instance_registration')"
   ]
  },
  {
   "cell_type": "code",
   "execution_count": 15,
   "metadata": {},
   "outputs": [
    {
     "name": "stdout",
     "output_type": "stream",
     "text": [
      "vol_basename_with_structure_suffix IC\n",
      "vol_basename_with_structure_suffix IC\n",
      "vol_basename_with_structure_suffix IC\n",
      "vol_basename_with_structure_suffix IC\n",
      "vol_basename_with_structure_suffix IC\n",
      "vol_basename_with_structure_suffix IC\n",
      "Registering IC instance 1 to instance 0\n"
     ]
    },
    {
     "name": "stderr",
     "output_type": "stream",
     "text": [
      "Label weights not set, default to 1 for all structures.\n",
      "Regularization weights not set, default to 0.\n",
      "centroid_m: [108.30128992  76.85017456 193.65674831], centroid_f: [0.30128992 0.85017456 0.34325169]\n",
      "indices_f: {0}\n"
     ]
    },
    {
     "name": "stdout",
     "output_type": "stream",
     "text": [
      "Entering aligner optimzer\n",
      "score: 2.1643210000000024\n",
      "grad: [ 1.05589221e+02  6.65213352e+00 -1.02116472e+03  7.01237724e+05\n",
      " -8.86754426e+05 -3.18537341e+03]\n",
      "==========================================\n",
      "[ 1.   1.  -1.   0.1 -0.1 -0.1]\n",
      "[1.  1.  1.  0.1 0.1 0.1]\n",
      "[ 1.  1. -1.  1. -1. -1.]\n",
      "==========================================\n",
      "score: 2.1738730000000004\n",
      "grad: [-3.22305378e+02 -5.85811576e+02  2.50815348e+03 -5.22616429e+05\n",
      "  8.95903893e+05  8.82075901e+04]\n",
      "==========================================\n",
      "[-0.95030342 -0.99993553  0.9261795  -0.05975736  0.07107266  0.09993486]\n",
      "[1.  1.  1.  0.1 0.1 0.1]\n",
      "[-0.95030342 -0.99993553  0.9261795  -0.59757365  0.71072664  0.99934859]\n",
      "==========================================\n"
     ]
    },
    {
     "name": "stderr",
     "output_type": "stream",
     "text": [
      "/home/eddyod/programming/pipeline_utility/utilities/imported_atlas_utilities.py:3106: FutureWarning: Conversion of the second argument of issubdtype from `float` to `np.floating` is deprecated. In future, it will be treated as `np.float64 == np.dtype(float).type`.\n",
      "  if np.issubdtype(volume_m_aligned_to_f.dtype, np.float):\n",
      "/home/eddyod/programming/pipeline_utility/utilities/imported_atlas_utilities.py:3113: FutureWarning: Conversion of the second argument of issubdtype from `bool` to `np.generic` is deprecated. In future, it will be treated as `np.bool_ == np.dtype(bool).type`.\n",
      "  elif np.issubdtype(volume_m_aligned_to_f.dtype, bool):\n",
      "Interpolating/filling sparse volume: 0.53 seconds.\n",
      "Label weights not set, default to 1 for all structures.\n",
      "Regularization weights not set, default to 0.\n"
     ]
    },
    {
     "name": "stdout",
     "output_type": "stream",
     "text": [
      "Registering IC instance 2 to instance 0\n"
     ]
    },
    {
     "name": "stderr",
     "output_type": "stream",
     "text": [
      "centroid_m: [127.1991823   94.33996254 186.65297666], centroid_f: [0.30128992 0.85017456 0.34325169]\n",
      "indices_f: {0}\n"
     ]
    },
    {
     "name": "stdout",
     "output_type": "stream",
     "text": [
      "Entering aligner optimzer\n",
      "score: 2.1707889999999965\n",
      "grad: [-3.87263985e+02 -7.45340093e+02 -8.26446498e+02  4.07024156e+05\n",
      " -8.41352161e+05  1.17027447e+05]\n",
      "==========================================\n",
      "[-1.  -1.  -1.   0.1 -0.1  0.1]\n",
      "[1.  1.  1.  0.1 0.1 0.1]\n",
      "[-1. -1. -1.  1. -1.  1.]\n",
      "==========================================\n",
      "score: 2.278850999999998\n",
      "grad: [   3116.75491035    1920.58158755    1204.33631879 -527646.72140306\n",
      "  713631.43200058    8577.06657082]\n",
      "==========================================\n",
      "[ 0.99236893  0.93225905  0.82453214 -0.0791795   0.06468493  0.0073095 ]\n",
      "[1.  1.  1.  0.1 0.1 0.1]\n",
      "[ 0.99236893  0.93225905  0.82453214 -0.79179503  0.64684931  0.07309501]\n",
      "==========================================\n"
     ]
    },
    {
     "name": "stderr",
     "output_type": "stream",
     "text": [
      "Interpolating/filling sparse volume: 1.12 seconds.\n",
      "Label weights not set, default to 1 for all structures.\n",
      "Regularization weights not set, default to 0.\n"
     ]
    },
    {
     "name": "stdout",
     "output_type": "stream",
     "text": [
      "Registering IC instance 3 to instance 0\n"
     ]
    },
    {
     "name": "stderr",
     "output_type": "stream",
     "text": [
      "centroid_m: [127.1991823   94.33996254 187.34702334], centroid_f: [0.30128992 0.85017456 0.34325169]\n",
      "indices_f: {0}\n"
     ]
    },
    {
     "name": "stdout",
     "output_type": "stream",
     "text": [
      "Entering aligner optimzer\n",
      "score: 2.300352000000003\n",
      "grad: [  -275.39626044  -1324.20897686    890.87395698   8447.79754174\n",
      "  37636.6336087  155601.69754452]\n",
      "==========================================\n",
      "[-1.  -1.   1.   0.1  0.1  0.1]\n",
      "[1.  1.  1.  0.1 0.1 0.1]\n",
      "[-1. -1.  1.  1.  1.  1.]\n",
      "==========================================\n",
      "score: 2.046408000000002\n",
      "grad: [ 1.70270176e+03  5.24183598e+02 -2.55791284e+03 -2.03283375e+05\n",
      " -7.45728672e+05 -2.43862733e+04]\n",
      "==========================================\n",
      "[ 0.98717113  0.3680591  -0.94436325 -0.09991376 -0.09987288 -0.01548325]\n",
      "[1.  1.  1.  0.1 0.1 0.1]\n",
      "[ 0.98717113  0.3680591  -0.94436325 -0.99913763 -0.99872884 -0.15483246]\n",
      "==========================================\n"
     ]
    },
    {
     "name": "stderr",
     "output_type": "stream",
     "text": [
      "Interpolating/filling sparse volume: 0.88 seconds.\n",
      "Label weights not set, default to 1 for all structures.\n",
      "Regularization weights not set, default to 0.\n"
     ]
    },
    {
     "name": "stdout",
     "output_type": "stream",
     "text": [
      "Registering IC instance 4 to instance 0\n"
     ]
    },
    {
     "name": "stderr",
     "output_type": "stream",
     "text": [
      "centroid_m: [ 96.66908425  80.10596812 170.27947057], centroid_f: [0.30128992 0.85017456 0.34325169]\n",
      "indices_f: {0}\n"
     ]
    },
    {
     "name": "stdout",
     "output_type": "stream",
     "text": [
      "Entering aligner optimzer\n",
      "score: 1.96265\n",
      "grad: [ 2.89900224e+03 -1.98763572e+03  7.73255667e+02 -2.81250520e+01\n",
      "  5.24685666e+05  1.50596690e+05]\n",
      "==========================================\n",
      "[ 1.  -1.   1.  -0.1  0.1  0.1]\n",
      "[1.  1.  1.  0.1 0.1 0.1]\n",
      "[ 1. -1.  1. -1.  1.  1.]\n",
      "==========================================\n",
      "score: 1.945031\n",
      "grad: [   4036.84587198    -554.74408007   -1552.87683576  467180.95216924\n",
      " -384789.63210464   81550.21846902]\n",
      "==========================================\n",
      "[ 0.81225186 -0.26882371 -0.89515987  0.1        -0.05913838  0.04761794]\n",
      "[1.  1.  1.  0.1 0.1 0.1]\n",
      "[ 0.81225186 -0.26882371 -0.89515987  1.         -0.5913838   0.47617936]\n",
      "==========================================\n"
     ]
    },
    {
     "name": "stderr",
     "output_type": "stream",
     "text": [
      "Interpolating/filling sparse volume: 0.52 seconds.\n",
      "Label weights not set, default to 1 for all structures.\n",
      "Regularization weights not set, default to 0.\n"
     ]
    },
    {
     "name": "stdout",
     "output_type": "stream",
     "text": [
      "Registering IC instance 5 to instance 0\n"
     ]
    },
    {
     "name": "stderr",
     "output_type": "stream",
     "text": [
      "centroid_m: [ 96.66908425  80.10596812 171.72052943], centroid_f: [0.30128992 0.85017456 0.34325169]\n",
      "indices_f: {0}\n"
     ]
    },
    {
     "name": "stdout",
     "output_type": "stream",
     "text": [
      "Entering aligner optimzer\n",
      "score: 1.8264639999999996\n",
      "grad: [   2864.87170017   -1498.54834801   -1271.91570109  162332.74266392\n",
      " -813823.2976594    85648.92191601]\n",
      "==========================================\n",
      "[ 1.  -1.  -1.   0.1 -0.1  0.1]\n",
      "[1.  1.  1.  0.1 0.1 0.1]\n",
      "[ 1. -1. -1.  1. -1.  1.]\n",
      "==========================================\n",
      "score: 2.0092130000000017\n",
      "grad: [   2906.58242333   -1257.5619536      352.79980665 -223230.0923214\n",
      " -174574.09116554   74662.3994776 ]\n",
      "==========================================\n",
      "[ 0.71219849 -0.64282678  0.26728506 -0.08087644 -0.02097397  0.06571057]\n",
      "[1.  1.  1.  0.1 0.1 0.1]\n",
      "[ 0.71219849 -0.64282678  0.26728506 -0.80876437 -0.20973974  0.65710574]\n",
      "==========================================\n"
     ]
    },
    {
     "name": "stderr",
     "output_type": "stream",
     "text": [
      "Interpolating/filling sparse volume: 0.45 seconds.\n",
      "marching cube: 0.45 seconds\n",
      "mesh_to_polydata: 0.25 seconds\n",
      "simplify 0 @ 187713: 2.06 seconds\n",
      "simplify 1 @ 37544: 2.32 seconds\n",
      "simplify 2 @ 7510: 0.46 seconds\n",
      "marching cube: 0.45 seconds\n",
      "mesh_to_polydata: 0.25 seconds\n",
      "simplify 0 @ 190609: 1.90 seconds\n",
      "simplify 1 @ 38124: 2.23 seconds\n",
      "simplify 2 @ 7626: 0.48 seconds\n",
      "marching cube: 0.62 seconds\n",
      "mesh_to_polydata: 0.28 seconds\n",
      "simplify 0 @ 223649: 2.12 seconds\n",
      "simplify 1 @ 44734: 2.77 seconds\n",
      "simplify 2 @ 8947: 0.55 seconds\n",
      "marching cube: 0.61 seconds\n",
      "mesh_to_polydata: 0.24 seconds\n",
      "simplify 0 @ 208506: 2.26 seconds\n",
      "simplify 1 @ 41702: 2.50 seconds\n",
      "simplify 2 @ 8342: 0.50 seconds\n",
      "marching cube: 0.42 seconds\n",
      "mesh_to_polydata: 0.23 seconds\n",
      "simplify 0 @ 190295: 1.93 seconds\n",
      "simplify 1 @ 38060: 2.26 seconds\n",
      "simplify 2 @ 7613: 0.45 seconds\n",
      "marching cube: 0.41 seconds\n",
      "mesh_to_polydata: 0.25 seconds\n",
      "simplify 0 @ 214521: 1.80 seconds\n",
      "simplify 1 @ 42915: 2.55 seconds\n",
      "simplify 2 @ 8581: 0.52 seconds\n"
     ]
    },
    {
     "name": "stdout",
     "output_type": "stream",
     "text": [
      "level = 0.1 , volume = 1.951333 mm^3\n",
      "level = 0.2 , volume = 1.709034 mm^3\n",
      "level = 0.30000000000000004 , volume = 1.545209 mm^3\n",
      "level = 0.4 , volume = 1.411854 mm^3\n",
      "level = 0.5 , volume = 1.292552 mm^3\n",
      "level = 0.6 , volume = 1.178964 mm^3\n",
      "level = 0.7000000000000001 , volume = 1.063192 mm^3\n",
      "level = 0.8 , volume = 0.935399 mm^3\n",
      "level = 0.9 , volume = 0.771429 mm^3\n",
      "level = 1.0 , volume = 0.0 mm^3\n"
     ]
    },
    {
     "name": "stderr",
     "output_type": "stream",
     "text": [
      "marching cube: 0.69 seconds\n",
      "mesh_to_polydata: 0.17 seconds\n",
      "simplify 0 @ 135739: 1.26 seconds\n",
      "simplify 1 @ 27149: 1.59 seconds\n",
      "simplify 2 @ 5431: 0.32 seconds\n",
      "marching cube: 0.69 seconds\n",
      "mesh_to_polydata: 0.16 seconds\n",
      "simplify 0 @ 126146: 1.15 seconds\n",
      "simplify 1 @ 25230: 1.47 seconds\n",
      "simplify 2 @ 5047: 0.27 seconds\n",
      "marching cube: 0.67 seconds\n",
      "mesh_to_polydata: 0.14 seconds\n",
      "simplify 0 @ 119018: 1.08 seconds\n",
      "simplify 1 @ 23805: 1.38 seconds\n",
      "simplify 2 @ 4762: 0.26 seconds\n",
      "marching cube: 0.68 seconds\n",
      "mesh_to_polydata: 0.14 seconds\n",
      "simplify 0 @ 113509: 1.04 seconds\n",
      "simplify 1 @ 22703: 1.28 seconds\n",
      "simplify 2 @ 4542: 0.25 seconds\n",
      "marching cube: 0.68 seconds\n",
      "mesh_to_polydata: 0.14 seconds\n",
      "simplify 0 @ 107683: 1.01 seconds\n",
      "simplify 1 @ 21538: 1.24 seconds\n",
      "simplify 2 @ 4309: 0.24 seconds\n",
      "marching cube: 0.70 seconds\n",
      "mesh_to_polydata: 0.13 seconds\n",
      "simplify 0 @ 102519: 0.98 seconds\n",
      "simplify 1 @ 20505: 1.16 seconds\n",
      "simplify 2 @ 4102: 0.22 seconds\n",
      "marching cube: 0.68 seconds\n",
      "mesh_to_polydata: 0.12 seconds\n",
      "simplify 0 @ 96757: 0.92 seconds\n",
      "simplify 1 @ 19353: 1.08 seconds\n",
      "simplify 2 @ 3872: 0.20 seconds\n",
      "marching cube: 0.68 seconds\n",
      "mesh_to_polydata: 0.12 seconds\n",
      "simplify 0 @ 89977: 0.87 seconds\n",
      "simplify 1 @ 17997: 1.04 seconds\n",
      "simplify 2 @ 3601: 0.19 seconds\n",
      "marching cube: 0.69 seconds\n",
      "mesh_to_polydata: 0.11 seconds\n",
      "simplify 0 @ 81071: 0.80 seconds\n",
      "simplify 1 @ 16215: 0.91 seconds\n",
      "simplify 2 @ 3244: 0.18 seconds\n",
      "marching cube: 0.68 seconds\n",
      "mesh_to_polydata: 0.01 seconds\n",
      "simplify 0 @ 3532: 0.03 seconds\n",
      "simplify 1 @ 707: 0.02 seconds\n",
      "simplify 2 @ 143: 0.01 seconds\n",
      "marching cube: 1.20 seconds\n",
      "mesh_to_polydata: 0.37 seconds\n",
      "simplify 0 @ 300431: 2.92 seconds\n",
      "simplify 1 @ 60089: 3.84 seconds\n",
      "simplify 2 @ 12021: 0.78 seconds\n",
      "marching cube: 1.15 seconds\n",
      "mesh_to_polydata: 0.37 seconds\n",
      "simplify 0 @ 300431: 2.82 seconds\n",
      "simplify 1 @ 60089: 3.80 seconds\n",
      "simplify 2 @ 12021: 0.77 seconds\n",
      "marching cube: 1.16 seconds\n",
      "mesh_to_polydata: 0.37 seconds\n",
      "simplify 0 @ 300431: 2.82 seconds\n",
      "simplify 1 @ 60089: 3.73 seconds\n",
      "simplify 2 @ 12021: 0.76 seconds\n",
      "marching cube: 1.16 seconds\n",
      "mesh_to_polydata: 0.37 seconds\n",
      "simplify 0 @ 300431: 2.87 seconds\n",
      "simplify 1 @ 60089: 3.80 seconds\n",
      "simplify 2 @ 12021: 0.77 seconds\n",
      "marching cube: 1.17 seconds\n",
      "mesh_to_polydata: 0.38 seconds\n",
      "simplify 0 @ 300431: 2.90 seconds\n",
      "simplify 1 @ 60089: 3.94 seconds\n",
      "simplify 2 @ 12021: 0.77 seconds\n",
      "marching cube: 1.16 seconds\n",
      "mesh_to_polydata: 0.38 seconds\n",
      "simplify 0 @ 306266: 2.89 seconds\n",
      "simplify 1 @ 61256: 3.92 seconds\n",
      "simplify 2 @ 12254: 0.80 seconds\n",
      "marching cube: 1.17 seconds\n",
      "mesh_to_polydata: 0.38 seconds\n",
      "simplify 0 @ 311874: 2.97 seconds\n",
      "simplify 1 @ 62378: 4.02 seconds\n",
      "simplify 2 @ 12478: 0.80 seconds\n",
      "marching cube: 1.17 seconds\n",
      "mesh_to_polydata: 0.41 seconds\n",
      "simplify 0 @ 319019: 3.04 seconds\n",
      "simplify 1 @ 63807: 4.10 seconds\n",
      "simplify 2 @ 12764: 0.83 seconds\n",
      "marching cube: 1.16 seconds\n",
      "mesh_to_polydata: 0.41 seconds\n",
      "simplify 0 @ 328583: 3.11 seconds\n",
      "simplify 1 @ 65719: 4.22 seconds\n",
      "simplify 2 @ 13147: 0.86 seconds\n",
      "marching cube: 1.14 seconds\n",
      "mesh_to_polydata: No faces are provided, so skip simplification.\n",
      "mesh_to_polydata: 0.00 seconds\n",
      "simplify 0 @ 0: 0.00 seconds\n"
     ]
    },
    {
     "name": "stdout",
     "output_type": "stream",
     "text": [
      "Saving numpy array at /net/birdstore/Active_Atlas_Data/data_root/CSHL_meshes/atlasV7/mean_shapes/10.0um_IC_volume.npy\n",
      "Saving numpy text at /net/birdstore/Active_Atlas_Data/data_root/CSHL_meshes/atlasV7/mean_shapes/10.0um_IC_origin_wrt_meanShapeCentroid.txt\n",
      "Saving mesh at /net/birdstore/Active_Atlas_Data/data_root/CSHL_meshes/atlasV7/mean_shapes/10.0um_IC_mesh_level_0.1.stl\n",
      "Saving mesh at /net/birdstore/Active_Atlas_Data/data_root/CSHL_meshes/atlasV7/mean_shapes/10.0um_IC_mesh_level_0.2.stl\n",
      "Saving mesh at /net/birdstore/Active_Atlas_Data/data_root/CSHL_meshes/atlasV7/mean_shapes/10.0um_IC_mesh_level_0.30000000000000004.stl\n",
      "Saving mesh at /net/birdstore/Active_Atlas_Data/data_root/CSHL_meshes/atlasV7/mean_shapes/10.0um_IC_mesh_level_0.4.stl\n",
      "Saving mesh at /net/birdstore/Active_Atlas_Data/data_root/CSHL_meshes/atlasV7/mean_shapes/10.0um_IC_mesh_level_0.5.stl\n",
      "Saving mesh at /net/birdstore/Active_Atlas_Data/data_root/CSHL_meshes/atlasV7/mean_shapes/10.0um_IC_mesh_level_0.6.stl\n",
      "Saving mesh at /net/birdstore/Active_Atlas_Data/data_root/CSHL_meshes/atlasV7/mean_shapes/10.0um_IC_mesh_level_0.7000000000000001.stl\n",
      "Saving mesh at /net/birdstore/Active_Atlas_Data/data_root/CSHL_meshes/atlasV7/mean_shapes/10.0um_IC_mesh_level_0.8.stl\n",
      "Saving mesh at /net/birdstore/Active_Atlas_Data/data_root/CSHL_meshes/atlasV7/mean_shapes/10.0um_IC_mesh_level_0.9.stl\n",
      "Saving mesh at /net/birdstore/Active_Atlas_Data/data_root/CSHL_meshes/atlasV7/mean_shapes/10.0um_IC_mesh_level_1.0.stl\n",
      "Saving numpy array at /net/birdstore/Active_Atlas_Data/data_root/CSHL_meshes/atlasV7/mean_shapes/10.0um_IC_surround_200um_volume.npy\n",
      "Saving numpy text at /net/birdstore/Active_Atlas_Data/data_root/CSHL_meshes/atlasV7/mean_shapes/10.0um_IC_surround_200um_origin_wrt_meanShapeCentroid.txt\n",
      "Saving mesh at /net/birdstore/Active_Atlas_Data/data_root/CSHL_meshes/atlasV7/mean_shapes/10.0um_IC_surround_200um_0.1.stl\n",
      "Saving mesh at /net/birdstore/Active_Atlas_Data/data_root/CSHL_meshes/atlasV7/mean_shapes/10.0um_IC_surround_200um_0.2.stl\n",
      "Saving mesh at /net/birdstore/Active_Atlas_Data/data_root/CSHL_meshes/atlasV7/mean_shapes/10.0um_IC_surround_200um_0.30000000000000004.stl\n",
      "Saving mesh at /net/birdstore/Active_Atlas_Data/data_root/CSHL_meshes/atlasV7/mean_shapes/10.0um_IC_surround_200um_0.4.stl\n",
      "Saving mesh at /net/birdstore/Active_Atlas_Data/data_root/CSHL_meshes/atlasV7/mean_shapes/10.0um_IC_surround_200um_0.5.stl\n",
      "Saving mesh at /net/birdstore/Active_Atlas_Data/data_root/CSHL_meshes/atlasV7/mean_shapes/10.0um_IC_surround_200um_0.6.stl\n",
      "Saving mesh at /net/birdstore/Active_Atlas_Data/data_root/CSHL_meshes/atlasV7/mean_shapes/10.0um_IC_surround_200um_0.7000000000000001.stl\n",
      "Saving mesh at /net/birdstore/Active_Atlas_Data/data_root/CSHL_meshes/atlasV7/mean_shapes/10.0um_IC_surround_200um_0.8.stl\n",
      "Saving mesh at /net/birdstore/Active_Atlas_Data/data_root/CSHL_meshes/atlasV7/mean_shapes/10.0um_IC_surround_200um_0.9.stl\n",
      "Saving mesh at /net/birdstore/Active_Atlas_Data/data_root/CSHL_meshes/atlasV7/mean_shapes/10.0um_IC_surround_200um_1.0.stl\n",
      "vol_basename_with_structure_suffix SC\n",
      "vol_basename_with_structure_suffix SC\n",
      "vol_basename_with_structure_suffix SC\n",
      "vol_basename_with_structure_suffix SC\n",
      "vol_basename_with_structure_suffix SC\n",
      "vol_basename_with_structure_suffix SC\n",
      "Registering SC instance 1 to instance 0\n"
     ]
    },
    {
     "name": "stderr",
     "output_type": "stream",
     "text": [
      "Label weights not set, default to 1 for all structures.\n",
      "Regularization weights not set, default to 0.\n",
      "centroid_m: [120.36825329  67.88313569 190.01137401], centroid_f: [0.36825329 0.88313569 0.98862599]\n",
      "indices_f: {0}\n"
     ]
    },
    {
     "name": "stdout",
     "output_type": "stream",
     "text": [
      "Entering aligner optimzer\n",
      "score: 3.263706\n",
      "grad: [ 1.14693178e+01 -1.13724148e+02  3.44569660e+03  9.68577674e+05\n",
      " -4.23485154e+05 -2.94039288e+03]\n",
      "==========================================\n",
      "[ 1.  -1.   1.   0.1 -0.1 -0.1]\n",
      "[1.  1.  1.  0.1 0.1 0.1]\n",
      "[ 1. -1.  1.  1. -1. -1.]\n",
      "==========================================\n",
      "score: 3.4223040000000022\n",
      "grad: [  -2057.32095635     755.22310919   -1216.4178865  -311301.26333487\n",
      "  207818.39029187  333954.35921121]\n",
      "==========================================\n",
      "[-0.99998446  0.98885155 -0.33289061 -0.03059849  0.04405462  0.09999612]\n",
      "[1.  1.  1.  0.1 0.1 0.1]\n",
      "[-0.99998446  0.98885155 -0.33289061 -0.30598488  0.44054623  0.99996124]\n",
      "==========================================\n"
     ]
    },
    {
     "name": "stderr",
     "output_type": "stream",
     "text": [
      "Interpolating/filling sparse volume: 0.77 seconds.\n",
      "Label weights not set, default to 1 for all structures.\n",
      "Regularization weights not set, default to 0.\n"
     ]
    },
    {
     "name": "stdout",
     "output_type": "stream",
     "text": [
      "Registering SC instance 2 to instance 0\n"
     ]
    },
    {
     "name": "stderr",
     "output_type": "stream",
     "text": [
      "centroid_m: [104.10656907  81.26553055 185.15406554], centroid_f: [0.36825329 0.88313569 0.98862599]\n",
      "indices_f: {0}\n"
     ]
    },
    {
     "name": "stdout",
     "output_type": "stream",
     "text": [
      "Entering aligner optimzer\n",
      "score: 3.256341000000003\n",
      "grad: [-4.48174016e+01  1.82560799e+03  4.00249239e+03  8.79562314e+05\n",
      " -4.10687782e+05  3.01423985e+05]\n",
      "==========================================\n",
      "[-1.   1.   1.   0.1 -0.1  0.1]\n",
      "[1.  1.  1.  0.1 0.1 0.1]\n",
      "[-1.  1.  1.  1. -1.  1.]\n",
      "==========================================\n",
      "score: 3.4844479999999995\n",
      "grad: [ 4.40381081e+02  7.78622610e+02 -1.88323362e+03 -6.54530125e+05\n",
      "  5.14691537e+05  4.07355085e+04]\n",
      "==========================================\n",
      "[ 0.99486136  0.39230933 -0.42574295 -0.05969944  0.07816575  0.01339261]\n",
      "[1.  1.  1.  0.1 0.1 0.1]\n",
      "[ 0.99486136  0.39230933 -0.42574295 -0.59699441  0.7816575   0.13392609]\n",
      "==========================================\n"
     ]
    },
    {
     "name": "stderr",
     "output_type": "stream",
     "text": [
      "Interpolating/filling sparse volume: 0.89 seconds.\n",
      "Label weights not set, default to 1 for all structures.\n",
      "Regularization weights not set, default to 0.\n"
     ]
    },
    {
     "name": "stdout",
     "output_type": "stream",
     "text": [
      "Registering SC instance 3 to instance 0\n"
     ]
    },
    {
     "name": "stderr",
     "output_type": "stream",
     "text": [
      "centroid_m: [104.10656907  81.26553055 180.84593446], centroid_f: [0.36825329 0.88313569 0.98862599]\n",
      "indices_f: {0}\n"
     ]
    },
    {
     "name": "stdout",
     "output_type": "stream",
     "text": [
      "Entering aligner optimzer\n",
      "score: 3.399514000000003\n",
      "grad: [  -1248.28609246     796.79508179     533.70309114  213587.89788628\n",
      " -234121.48238844  341520.69976747]\n",
      "==========================================\n",
      "[-1.   1.   1.   0.1 -0.1  0.1]\n",
      "[1.  1.  1.  0.1 0.1 0.1]\n",
      "[-1.  1.  1.  1. -1.  1.]\n",
      "==========================================\n",
      "score: 3.2008539999999974\n",
      "grad: [   1363.19174504    2241.58794636   -3034.20819801 -974368.6060943\n",
      "  482900.84734285   19861.99082047]\n",
      "==========================================\n",
      "[ 0.73750608  0.94224308 -0.98488037 -0.09768068  0.08998231  0.00580594]\n",
      "[1.  1.  1.  0.1 0.1 0.1]\n",
      "[ 0.73750608  0.94224308 -0.98488037 -0.97680684  0.89982308  0.0580594 ]\n",
      "==========================================\n"
     ]
    },
    {
     "name": "stderr",
     "output_type": "stream",
     "text": [
      "Interpolating/filling sparse volume: 0.90 seconds.\n",
      "Label weights not set, default to 1 for all structures.\n",
      "Regularization weights not set, default to 0.\n"
     ]
    },
    {
     "name": "stdout",
     "output_type": "stream",
     "text": [
      "Registering SC instance 4 to instance 0\n"
     ]
    },
    {
     "name": "stderr",
     "output_type": "stream",
     "text": [
      "centroid_m: [ 91.70989481  84.96540242 168.37223982], centroid_f: [0.36825329 0.88313569 0.98862599]\n",
      "indices_f: {0}\n"
     ]
    },
    {
     "name": "stdout",
     "output_type": "stream",
     "text": [
      "Entering aligner optimzer\n",
      "score: 2.8809830000000005\n",
      "grad: [-2.63950605e+03  5.11547289e+02  7.45804365e+02  7.09817379e+04\n",
      "  4.11471894e+04  5.40091452e+05]\n",
      "==========================================\n",
      "[-1.   1.   1.   0.1  0.1  0.1]\n",
      "[1.  1.  1.  0.1 0.1 0.1]\n",
      "[-1.  1.  1.  1.  1.  1.]\n",
      "==========================================\n",
      "score: 3.0879410000000025\n",
      "grad: [  -2115.33373189    -689.18689865   -1078.70033282 -135770.86422598\n",
      "  -32994.76662195  455526.18501514]\n",
      "==========================================\n",
      "[-0.62536701 -0.8029781  -0.82254468 -0.0886197  -0.0625585   0.06447254]\n",
      "[1.  1.  1.  0.1 0.1 0.1]\n",
      "[-0.62536701 -0.8029781  -0.82254468 -0.88619703 -0.62558502  0.64472544]\n",
      "==========================================\n"
     ]
    },
    {
     "name": "stderr",
     "output_type": "stream",
     "text": [
      "Interpolating/filling sparse volume: 0.91 seconds.\n",
      "Label weights not set, default to 1 for all structures.\n",
      "Regularization weights not set, default to 0.\n"
     ]
    },
    {
     "name": "stdout",
     "output_type": "stream",
     "text": [
      "Registering SC instance 5 to instance 0\n"
     ]
    },
    {
     "name": "stderr",
     "output_type": "stream",
     "text": [
      "centroid_m: [ 91.70989481  84.96540242 175.62776018], centroid_f: [0.36825329 0.88313569 0.98862599]\n",
      "indices_f: {0}\n"
     ]
    },
    {
     "name": "stdout",
     "output_type": "stream",
     "text": [
      "Entering aligner optimzer\n",
      "score: 2.8347940000000036\n",
      "grad: [  -1317.123469      1625.38320404     494.85430473  287421.4755103\n",
      " -287614.67376828  446122.68717825]\n",
      "==========================================\n",
      "[-1.   1.   1.   0.1 -0.1  0.1]\n",
      "[1.  1.  1.  0.1 0.1 0.1]\n",
      "[-1.  1.  1.  1. -1.  1.]\n",
      "==========================================\n",
      "score: 3.0786330000000084\n",
      "grad: [  -2313.61398685    -924.57055902   -1608.15677047 -197125.21066916\n",
      "  -48761.38291121  462249.75365394]\n",
      "==========================================\n",
      "[-0.86904161 -0.49443681 -0.95577285 -0.0565599  -0.0167152   0.07195472]\n",
      "[1.  1.  1.  0.1 0.1 0.1]\n",
      "[-0.86904161 -0.49443681 -0.95577285 -0.565599   -0.16715199  0.71954723]\n",
      "==========================================\n"
     ]
    },
    {
     "name": "stderr",
     "output_type": "stream",
     "text": [
      "Interpolating/filling sparse volume: 0.92 seconds.\n",
      "marching cube: 0.53 seconds\n",
      "mesh_to_polydata: 0.31 seconds\n",
      "simplify 0 @ 248932: 2.19 seconds\n",
      "simplify 1 @ 49788: 2.84 seconds\n",
      "simplify 2 @ 9959: 0.61 seconds\n",
      "marching cube: 0.55 seconds\n",
      "mesh_to_polydata: 0.32 seconds\n",
      "simplify 0 @ 256461: 2.20 seconds\n",
      "simplify 1 @ 51293: 3.16 seconds\n",
      "simplify 2 @ 10258: 0.62 seconds\n",
      "marching cube: 0.56 seconds\n",
      "mesh_to_polydata: 0.30 seconds\n",
      "simplify 0 @ 260987: 2.03 seconds\n",
      "simplify 1 @ 52205: 3.15 seconds\n",
      "simplify 2 @ 10441: 0.64 seconds\n",
      "marching cube: 0.59 seconds\n",
      "mesh_to_polydata: 0.29 seconds\n",
      "simplify 0 @ 247421: 1.96 seconds\n",
      "simplify 1 @ 49485: 2.99 seconds\n",
      "simplify 2 @ 9898: 0.60 seconds\n",
      "marching cube: 0.56 seconds\n",
      "mesh_to_polydata: 0.33 seconds\n",
      "simplify 0 @ 269567: 2.22 seconds\n",
      "simplify 1 @ 53918: 3.29 seconds\n",
      "simplify 2 @ 10783: 0.66 seconds\n",
      "marching cube: 0.60 seconds\n",
      "mesh_to_polydata: 0.32 seconds\n",
      "simplify 0 @ 279377: 2.26 seconds\n",
      "simplify 1 @ 55886: 3.27 seconds\n",
      "simplify 2 @ 11177: 0.73 seconds\n"
     ]
    },
    {
     "name": "stdout",
     "output_type": "stream",
     "text": [
      "level = 0.1 , volume = 3.432408 mm^3\n",
      "level = 0.2 , volume = 3.10709 mm^3\n",
      "level = 0.30000000000000004 , volume = 2.88296 mm^3\n",
      "level = 0.4 , volume = 2.698034 mm^3\n",
      "level = 0.5 , volume = 2.530932 mm^3\n",
      "level = 0.6 , volume = 2.368582 mm^3\n",
      "level = 0.7000000000000001 , volume = 2.200339 mm^3\n",
      "level = 0.8 , volume = 2.011798 mm^3\n",
      "level = 0.9 , volume = 1.762202 mm^3\n",
      "level = 1.0 , volume = 0.0 mm^3\n"
     ]
    },
    {
     "name": "stderr",
     "output_type": "stream",
     "text": [
      "marching cube: 0.70 seconds\n",
      "mesh_to_polydata: 0.22 seconds\n",
      "simplify 0 @ 195069: 1.51 seconds\n",
      "simplify 1 @ 39015: 2.36 seconds\n",
      "simplify 2 @ 7804: 0.56 seconds\n",
      "marching cube: 0.74 seconds\n",
      "mesh_to_polydata: 0.22 seconds\n",
      "simplify 0 @ 185349: 1.50 seconds\n",
      "simplify 1 @ 37071: 2.07 seconds\n",
      "simplify 2 @ 7415: 0.47 seconds\n",
      "marching cube: 0.71 seconds\n",
      "mesh_to_polydata: 0.21 seconds\n",
      "simplify 0 @ 178515: 1.45 seconds\n",
      "simplify 1 @ 35704: 2.07 seconds\n",
      "simplify 2 @ 7142: 0.45 seconds\n",
      "marching cube: 0.70 seconds\n",
      "mesh_to_polydata: 0.21 seconds\n",
      "simplify 0 @ 173100: 1.34 seconds\n",
      "simplify 1 @ 34621: 2.03 seconds\n",
      "simplify 2 @ 6925: 0.40 seconds\n",
      "marching cube: 0.70 seconds\n",
      "mesh_to_polydata: 0.21 seconds\n",
      "simplify 0 @ 167788: 1.31 seconds\n",
      "simplify 1 @ 33559: 1.94 seconds\n",
      "simplify 2 @ 6713: 0.39 seconds\n",
      "marching cube: 0.69 seconds\n",
      "mesh_to_polydata: 0.19 seconds\n",
      "simplify 0 @ 162572: 1.25 seconds\n",
      "simplify 1 @ 32516: 1.82 seconds\n",
      "simplify 2 @ 6504: 0.37 seconds\n",
      "marching cube: 0.70 seconds\n",
      "mesh_to_polydata: 0.19 seconds\n",
      "simplify 0 @ 156786: 1.20 seconds\n",
      "simplify 1 @ 31358: 1.77 seconds\n",
      "simplify 2 @ 6273: 0.36 seconds\n",
      "marching cube: 0.69 seconds\n",
      "mesh_to_polydata: 0.18 seconds\n",
      "simplify 0 @ 150245: 1.17 seconds\n",
      "simplify 1 @ 30050: 1.61 seconds\n",
      "simplify 2 @ 6011: 0.35 seconds\n",
      "marching cube: 0.69 seconds\n",
      "mesh_to_polydata: 0.17 seconds\n",
      "simplify 0 @ 140858: 1.07 seconds\n",
      "simplify 1 @ 28173: 1.50 seconds\n",
      "simplify 2 @ 5636: 0.31 seconds\n",
      "marching cube: 0.68 seconds\n",
      "mesh_to_polydata: 0.04 seconds\n",
      "simplify 0 @ 29111: 0.45 seconds\n",
      "simplify 1 @ 5818: 0.25 seconds\n",
      "simplify 2 @ 1166: 0.05 seconds\n",
      "marching cube: 1.24 seconds\n",
      "mesh_to_polydata: 0.53 seconds\n",
      "simplify 0 @ 415094: 3.34 seconds\n",
      "simplify 1 @ 83022: 5.26 seconds\n",
      "simplify 2 @ 16607: 1.07 seconds\n",
      "marching cube: 1.19 seconds\n",
      "mesh_to_polydata: 0.52 seconds\n",
      "simplify 0 @ 415094: 3.35 seconds\n",
      "simplify 1 @ 83022: 5.16 seconds\n",
      "simplify 2 @ 16607: 1.03 seconds\n",
      "marching cube: 1.18 seconds\n",
      "mesh_to_polydata: 0.52 seconds\n",
      "simplify 0 @ 415094: 3.28 seconds\n",
      "simplify 1 @ 83022: 5.05 seconds\n",
      "simplify 2 @ 16607: 1.07 seconds\n",
      "marching cube: 1.18 seconds\n",
      "mesh_to_polydata: 0.52 seconds\n",
      "simplify 0 @ 415094: 3.27 seconds\n",
      "simplify 1 @ 83022: 4.70 seconds\n",
      "simplify 2 @ 16607: 1.06 seconds\n",
      "marching cube: 1.18 seconds\n",
      "mesh_to_polydata: 0.49 seconds\n",
      "simplify 0 @ 415094: 3.35 seconds\n",
      "simplify 1 @ 83022: 5.08 seconds\n",
      "simplify 2 @ 16607: 1.07 seconds\n",
      "marching cube: 1.17 seconds\n",
      "mesh_to_polydata: 0.48 seconds\n",
      "simplify 0 @ 420399: 3.31 seconds\n",
      "simplify 1 @ 84083: 5.03 seconds\n",
      "simplify 2 @ 16819: 1.07 seconds\n",
      "marching cube: 1.17 seconds\n",
      "mesh_to_polydata: 0.49 seconds\n",
      "simplify 0 @ 425832: 3.35 seconds\n",
      "simplify 1 @ 85169: 4.87 seconds\n",
      "simplify 2 @ 17037: 1.10 seconds\n",
      "marching cube: 1.17 seconds\n",
      "mesh_to_polydata: 0.50 seconds\n",
      "simplify 0 @ 432665: 3.43 seconds\n",
      "simplify 1 @ 86536: 5.09 seconds\n",
      "simplify 2 @ 17310: 1.12 seconds\n",
      "marching cube: 1.17 seconds\n",
      "mesh_to_polydata: 0.52 seconds\n",
      "simplify 0 @ 442359: 3.50 seconds\n",
      "simplify 1 @ 88475: 5.10 seconds\n",
      "simplify 2 @ 17698: 1.12 seconds\n",
      "marching cube: 1.15 seconds\n",
      "mesh_to_polydata: 0.00 seconds\n",
      "simplify 0 @ 555: 0.03 seconds\n",
      "simplify 1 @ 117: 0.00 seconds\n"
     ]
    },
    {
     "name": "stdout",
     "output_type": "stream",
     "text": [
      "Saving numpy array at /net/birdstore/Active_Atlas_Data/data_root/CSHL_meshes/atlasV7/mean_shapes/10.0um_SC_volume.npy\n",
      "Saving numpy text at /net/birdstore/Active_Atlas_Data/data_root/CSHL_meshes/atlasV7/mean_shapes/10.0um_SC_origin_wrt_meanShapeCentroid.txt\n",
      "Saving mesh at /net/birdstore/Active_Atlas_Data/data_root/CSHL_meshes/atlasV7/mean_shapes/10.0um_SC_mesh_level_0.1.stl\n",
      "Saving mesh at /net/birdstore/Active_Atlas_Data/data_root/CSHL_meshes/atlasV7/mean_shapes/10.0um_SC_mesh_level_0.2.stl\n",
      "Saving mesh at /net/birdstore/Active_Atlas_Data/data_root/CSHL_meshes/atlasV7/mean_shapes/10.0um_SC_mesh_level_0.30000000000000004.stl\n",
      "Saving mesh at /net/birdstore/Active_Atlas_Data/data_root/CSHL_meshes/atlasV7/mean_shapes/10.0um_SC_mesh_level_0.4.stl\n",
      "Saving mesh at /net/birdstore/Active_Atlas_Data/data_root/CSHL_meshes/atlasV7/mean_shapes/10.0um_SC_mesh_level_0.5.stl\n",
      "Saving mesh at /net/birdstore/Active_Atlas_Data/data_root/CSHL_meshes/atlasV7/mean_shapes/10.0um_SC_mesh_level_0.6.stl\n",
      "Saving mesh at /net/birdstore/Active_Atlas_Data/data_root/CSHL_meshes/atlasV7/mean_shapes/10.0um_SC_mesh_level_0.7000000000000001.stl\n",
      "Saving mesh at /net/birdstore/Active_Atlas_Data/data_root/CSHL_meshes/atlasV7/mean_shapes/10.0um_SC_mesh_level_0.8.stl\n",
      "Saving mesh at /net/birdstore/Active_Atlas_Data/data_root/CSHL_meshes/atlasV7/mean_shapes/10.0um_SC_mesh_level_0.9.stl\n",
      "Saving mesh at /net/birdstore/Active_Atlas_Data/data_root/CSHL_meshes/atlasV7/mean_shapes/10.0um_SC_mesh_level_1.0.stl\n",
      "Saving numpy array at /net/birdstore/Active_Atlas_Data/data_root/CSHL_meshes/atlasV7/mean_shapes/10.0um_SC_surround_200um_volume.npy\n",
      "Saving numpy text at /net/birdstore/Active_Atlas_Data/data_root/CSHL_meshes/atlasV7/mean_shapes/10.0um_SC_surround_200um_origin_wrt_meanShapeCentroid.txt\n",
      "Saving mesh at /net/birdstore/Active_Atlas_Data/data_root/CSHL_meshes/atlasV7/mean_shapes/10.0um_SC_surround_200um_0.1.stl\n",
      "Saving mesh at /net/birdstore/Active_Atlas_Data/data_root/CSHL_meshes/atlasV7/mean_shapes/10.0um_SC_surround_200um_0.2.stl\n",
      "Saving mesh at /net/birdstore/Active_Atlas_Data/data_root/CSHL_meshes/atlasV7/mean_shapes/10.0um_SC_surround_200um_0.30000000000000004.stl\n",
      "Saving mesh at /net/birdstore/Active_Atlas_Data/data_root/CSHL_meshes/atlasV7/mean_shapes/10.0um_SC_surround_200um_0.4.stl\n",
      "Saving mesh at /net/birdstore/Active_Atlas_Data/data_root/CSHL_meshes/atlasV7/mean_shapes/10.0um_SC_surround_200um_0.5.stl\n",
      "Saving mesh at /net/birdstore/Active_Atlas_Data/data_root/CSHL_meshes/atlasV7/mean_shapes/10.0um_SC_surround_200um_0.6.stl\n",
      "Saving mesh at /net/birdstore/Active_Atlas_Data/data_root/CSHL_meshes/atlasV7/mean_shapes/10.0um_SC_surround_200um_0.7000000000000001.stl\n",
      "Saving mesh at /net/birdstore/Active_Atlas_Data/data_root/CSHL_meshes/atlasV7/mean_shapes/10.0um_SC_surround_200um_0.8.stl\n",
      "Saving mesh at /net/birdstore/Active_Atlas_Data/data_root/CSHL_meshes/atlasV7/mean_shapes/10.0um_SC_surround_200um_0.9.stl\n",
      "Saving mesh at /net/birdstore/Active_Atlas_Data/data_root/CSHL_meshes/atlasV7/mean_shapes/10.0um_SC_surround_200um_1.0.stl\n"
     ]
    }
   ],
   "source": [
    "# Note that all shapes have voxel resolution matching input resolution (10.0 micron).\n",
    "for structure in structures:\n",
    "    # for structure in all_known_structures:\n",
    "    # Load instance volumes.\n",
    "    instance_volumes = []\n",
    "    instance_source = []\n",
    "\n",
    "    if structure in paired_structures:\n",
    "        left_name = convert_to_left_name(structure)\n",
    "        right_name = convert_to_right_name(structure)\n",
    "    else:\n",
    "        left_name = structure\n",
    "        right_name = structure\n",
    "\n",
    "    for brain_name in [fixed_brain_name] + moving_brain_names:\n",
    "        brain_spec = {'name': brain_name, 'vol_type': 'annotationAsScore', 'resolution': resolution}\n",
    "        right_instance_vol, _ = load_original_volume_v2(stack_spec=brain_spec,\n",
    "                                                        structure=right_name,\n",
    "                                                        return_origin_instead_of_bbox=True,\n",
    "                                                        crop_to_minimal=True)\n",
    "        instance_volumes.append(right_instance_vol)  # if right, do not mirror\n",
    "        instance_source.append((brain_name, 'R'))\n",
    "\n",
    "        left_instance_vol, _ = load_original_volume_v2(stack_spec=brain_spec,\n",
    "                                                       structure=left_name,\n",
    "                                                       return_origin_instead_of_bbox=True,\n",
    "                                                       crop_to_minimal=True)\n",
    "        instance_volumes.append(left_instance_vol[..., ::-1])  # if left, mirror\n",
    "        instance_source.append((brain_name, 'L'))\n",
    "\n",
    "   # Use the first instance as registration target.\n",
    "    # Register every other instance to the first instance.\n",
    "    template_instance_volume = instance_volumes[0]\n",
    "    template_instance_centroid_wrt_templateOrigin = get_centroid_3d(template_instance_volume).astype(np.int16)\n",
    "    template_instance_wrt_templateCentroid = (template_instance_volume, - template_instance_centroid_wrt_templateOrigin)\n",
    "    aligned_moving_instance_wrt_templateCentroid_all_instances = []\n",
    "\n",
    "    for i in range(1, len(instance_volumes)):\n",
    "        print('Registering {} instance {} to instance 0'.format(structure, i))\n",
    "        # Compute transform.\n",
    "        moving_instance_volume = instance_volumes[i]\n",
    "        aligner = Aligner({0: template_instance_wrt_templateCentroid},\n",
    "                          {0: (moving_instance_volume, np.array((0,0,0)))},\n",
    "                          labelIndexMap_m2f={0:0},\n",
    "                         verbose=False)\n",
    "        aligner.set_centroid(centroid_m='structure_centroid', centroid_f='structure_centroid')\n",
    "        aligner.compute_gradient(smooth_first=True)\n",
    "        lr = 1.\n",
    "        ### max_iter_num was originally 100 and 1000\n",
    "        print('Entering aligner optimzer')\n",
    "        _, _ = aligner.optimize(tf_type='rigid',\n",
    "                                history_len=100,\n",
    "                                max_iter_num=2 if structure in ['SC', 'IC'] else 3,\n",
    "                                grad_computation_sample_number=None,\n",
    "                                full_lr=np.array([lr, lr, lr, 0.1, 0.1, 0.1]),\n",
    "                                terminate_thresh_trans=.01)\n",
    "\n",
    "\n",
    "\n",
    "        reg_root_dir=os.path.join(MESH_DIR, atlas_name, 'mean_shapes', 'instance_registration')\n",
    "        save_alignment_results_v3(aligner=aligner,\n",
    "                              select_best='max_value',\n",
    "                              alignment_spec=dict(warp_setting=108,\n",
    "                                                  stack_f=dict(name='%s_instance0' % structure, vol_type='annotationAsScore'),\n",
    "                                                  stack_m=dict(name='%s_instance%d' % (structure, i),\n",
    "                                                               vol_type='annotationAsScore')),\n",
    "                              reg_root_dir=reg_root_dir)\n",
    "\n",
    "        # Transform instances.\n",
    "        T = convert_transform_forms(aligner=aligner, out_form=(3, 4), select_best='max_value')\n",
    "        aligned_moving_instance_volume, aligned_moving_instance_origin_wrt_templateCentroid = \\\n",
    "            transform_volume_v4(volume=(moving_instance_volume, (0, 0, 0)), transform=T,\n",
    "                                return_origin_instead_of_bbox=True)\n",
    "        aligned_moving_instance_wrt_templateCentroid = (\n",
    "        aligned_moving_instance_volume, aligned_moving_instance_origin_wrt_templateCentroid)\n",
    "        aligned_moving_instance_wrt_templateCentroid_all_instances.append(aligned_moving_instance_wrt_templateCentroid)\n",
    "\n",
    "    # Generate meshes for each instance.\n",
    "    volume_origin_list = [template_instance_wrt_templateCentroid] + aligned_moving_instance_wrt_templateCentroid_all_instances\n",
    "    instance_mesh_wrt_templateCentroid_all_instances = [volume_to_polydata(volume, num_simplify_iter=3, smooth=True)\n",
    "        for volume, o in volume_origin_list]\n",
    "\n",
    "    # Save meshes.\n",
    "    for i, mesh_data in enumerate(instance_mesh_wrt_templateCentroid_all_instances):\n",
    "        meshfile = '{}_{}_{}.stl'.format(resolution, structure, str(i))\n",
    "        meshpath = os.path.join(MESH_DIR, atlas_name, 'aligned_instance_meshes', meshfile)\n",
    "        #print('Save stl at {}'.format( meshpath))\n",
    "        save_mesh_stl(mesh_data, meshpath)\n",
    "\n",
    "    filename = '{}_sources.pkl'.format(structure)\n",
    "    filepath = os.path.join(MESH_DIR, atlas_name, 'instance_sources', filename)\n",
    "    with open(filepath, 'wb') as f:\n",
    "        pickle.dump(instance_source, f)\n",
    "\n",
    "    # Compute average shape.\n",
    "\n",
    "    if structure == 'IC' or structure == 'SC':\n",
    "        # IC and SC boundaries are particularly jagged, so do a larger value smoothing.\n",
    "        sigma = 5.\n",
    "    else:\n",
    "        sigma = 2.\n",
    "\n",
    "\n",
    "    mean_shape_wrt_templateCentroid = \\\n",
    "        average_shape(volume_origin_list=volume_origin_list, force_symmetric=(structure in singular_structures),\n",
    "                      sigma=sigma,\n",
    "                      )\n",
    "\n",
    "    for surface_level in np.arange(0.1, 1.1, .1):\n",
    "        print(\"level =\", surface_level, ', volume =',\n",
    "              np.count_nonzero(mean_shape_wrt_templateCentroid[0] > surface_level) * resolution_um ** 3 / 1e9, \"mm^3\")\n",
    "\n",
    "    # Generate meshes for mean shape.\n",
    "    mean_shape_isosurface_polydata_all_levels = {surface_level:\n",
    "                                                     volume_to_polydata(\n",
    "                                                         (mean_shape_wrt_templateCentroid[0] >= surface_level,\n",
    "                                                         mean_shape_wrt_templateCentroid[1]),\n",
    "                                                         num_simplify_iter=3, smooth=True)\n",
    "        for surface_level in np.arange(0.1, 1.1, .1)}\n",
    "\n",
    "    # Identify the surrouding area as additional structure.\n",
    "\n",
    "    wall_level = .5\n",
    "    surround_distance_um = 200.\n",
    "\n",
    "    # changed to v2 to v3 Jul/27/2020 renamed without the _vX\n",
    "    # volume, distance=5, wall_level=0, prob=False, return_origin_instead_of_bbox=True, padding=5\n",
    "    # def get_surround_volume(volume, origin, distance=5, wall_level=0, prob=False, return_origin_instead_of_bbox=True,\n",
    "    #                        padding=5):\n",
    "    surround_wrt_stdShapeCentroid = \\\n",
    "        get_surround_volume_v2(vol=mean_shape_wrt_templateCentroid[0],\n",
    "                               origin=mean_shape_wrt_templateCentroid[1],\n",
    "                               distance=surround_distance_um / resolution_um,\n",
    "                               wall_level=wall_level,\n",
    "                               prob=True,\n",
    "                               return_origin_instead_of_bbox=True,\n",
    "                               padding=5)\n",
    "\n",
    "    # Generate meshes for surrouding area.\n",
    "    surround_isosurface_polydata_all_levels = {surface_level:\n",
    "             volume_to_polydata((surround_wrt_stdShapeCentroid[0] >= surface_level,\n",
    "                                surround_wrt_stdShapeCentroid[1]),\n",
    "                                num_simplify_iter=3, smooth=True)\n",
    "         for surface_level in np.arange(0.1, 1.1, .1)}\n",
    "\n",
    "    # Save mean shape.\n",
    "    filename = '{}_{}_volume.npy'.format(resolution, structure)\n",
    "    filepath =  os.path.join(MESH_DIR, atlas_name, 'mean_shapes', filename)\n",
    "    print('Saving numpy array at', filepath)\n",
    "    np.save(filepath, np.ascontiguousarray(mean_shape_wrt_templateCentroid[0]))\n",
    "\n",
    "    filename = '{}_{}_origin_wrt_meanShapeCentroid.txt'.format(resolution, structure)\n",
    "    filepath = os.path.join(MESH_DIR, atlas_name, 'mean_shapes', filename)\n",
    "    print('Saving numpy text at', filepath)\n",
    "    np.savetxt(filepath, mean_shape_wrt_templateCentroid[1])\n",
    "\n",
    "\n",
    "    for level in np.arange(0.1, 1.1, .1):\n",
    "        filename = '{}_{}_mesh_level_{}.stl'.format(resolution, structure, str(level))\n",
    "        filepath = os.path.join(MESH_DIR, atlas_name, 'mean_shapes', filename)\n",
    "        print('Saving mesh at', filepath)\n",
    "        save_mesh_stl(mean_shape_isosurface_polydata_all_levels[level], filepath)\n",
    "\n",
    "    surround_name = convert_to_surround_name(structure, margin=str(int(surround_distance_um)) + 'um')\n",
    "    filename = '{}_{}_volume.npy'.format(resolution, surround_name)\n",
    "    filepath = os.path.join(MESH_DIR, atlas_name, 'mean_shapes', filename)\n",
    "    print('Saving numpy array at', filepath)\n",
    "    np.save(filepath, np.ascontiguousarray(surround_wrt_stdShapeCentroid[0]))\n",
    "\n",
    "\n",
    "    filename = '{}_{}_origin_wrt_meanShapeCentroid.txt'.format(resolution, surround_name)\n",
    "    filepath = os.path.join(MESH_DIR, atlas_name, 'mean_shapes', filename)\n",
    "    print('Saving numpy text at', filepath)\n",
    "    np.savetxt(filepath, surround_wrt_stdShapeCentroid[1])\n",
    "\n",
    "    for level in np.arange(0.1, 1.1, .1):\n",
    "        filename = '{}_{}_{}.stl'.format(resolution, surround_name, str(level))\n",
    "        filepath = os.path.join(MESH_DIR, atlas_name, 'mean_shapes', filename)\n",
    "        print('Saving mesh at', filepath)\n",
    "        save_mesh_stl(surround_isosurface_polydata_all_levels[level], filepath)\n"
   ]
  },
  {
   "cell_type": "code",
   "execution_count": 16,
   "metadata": {},
   "outputs": [
    {
     "name": "stderr",
     "output_type": "stream",
     "text": [
      "Label weights not set, default to 1 for all structures.\n",
      "Regularization weights not set, default to 0.\n",
      "centroid_m: [120.36825329  67.88313569 190.01137401], centroid_f: [0.36825329 0.88313569 0.98862599]\n",
      "indices_f: {0}\n",
      "0: 3862377 valid, 9344 out-of-bound voxels after transform.\n",
      "\n",
      "iteration 0\n",
      "0: 3862377 valid, 9344 out-of-bound voxels after transform.\n"
     ]
    },
    {
     "name": "stdout",
     "output_type": "stream",
     "text": [
      "score: 3.263706\n",
      "grad: [ 1.14693178e+01 -1.13724148e+02  3.44569660e+03  9.68577674e+05\n",
      " -4.23485154e+05 -2.94039288e+03]\n",
      "==========================================\n",
      "[ 0.1 -0.1  0.1  0.1 -0.1 -0.1]\n",
      "[0.1 0.1 0.1 0.1 0.1 0.1]\n",
      "[ 1. -1.  1.  1. -1. -1.]\n",
      "==========================================\n"
     ]
    },
    {
     "name": "stderr",
     "output_type": "stream",
     "text": [
      "Norm of gradient (translation) = 1.732051\n",
      "Norm of gradient (rotation) = 1.732051\n",
      "around x=6.02; around y=-5.42; around z=-6.02\n",
      "step: 1.80 seconds\n",
      "current score: 3.263706\n",
      "new_T: [ 0.99002498  0.09451324 -0.10448826  0.08969214 -0.10448826  0.99002498\n",
      " -0.09451324 -0.10964219  0.09451324  0.10448826  0.99002498  0.09933433]\n",
      "det: 1.00\n",
      "\n",
      "iteration 1\n",
      "0: 3853004 valid, 18717 out-of-bound voxels after transform.\n"
     ]
    },
    {
     "name": "stdout",
     "output_type": "stream",
     "text": [
      "score: 3.4327410000000023\n",
      "grad: [-1.77142186e+03 -2.49501379e+02 -9.70128930e+02 -2.80419539e+05\n",
      "  2.00844767e+05  3.28046725e+05]\n",
      "==========================================\n",
      "[-0.0999979  -0.0909934  -0.02710114 -0.02780963  0.04285159  0.09999598]\n",
      "[0.1 0.1 0.1 0.1 0.1 0.1]\n",
      "[-0.99997904 -0.90993399 -0.27101137 -0.27809632  0.4285159   0.99995983]\n",
      "==========================================\n"
     ]
    },
    {
     "name": "stderr",
     "output_type": "stream",
     "text": [
      "Norm of gradient (translation) = 1.378907\n",
      "Norm of gradient (rotation) = 1.122891\n",
      "around x=4.30; around y=-3.06; around z=-0.17\n",
      "step: 1.78 seconds\n",
      "current score: 3.432741\n",
      "new_T: [ 0.99857135 -0.00110241 -0.05342329  0.00847216 -0.00289958  0.99719617\n",
      " -0.07477566 -0.19338687  0.05335593  0.07482374  0.99576832  0.07434916]\n",
      "det: 1.00\n",
      "\n",
      "iteration 2\n",
      "0: 3865354 valid, 6367 out-of-bound voxels after transform.\n"
     ]
    },
    {
     "name": "stdout",
     "output_type": "stream",
     "text": [
      "score: 3.5214520000000054\n",
      "grad: [ 5.02710451e+01 -8.62947799e+01  7.05356587e+02  2.43857515e+05\n",
      " -1.03439461e+05  1.07169035e+04]\n",
      "==========================================\n",
      "[ 0.00283669 -0.03002018  0.01933282  0.02350611 -0.02155092  0.00326501]\n",
      "[0.1 0.1 0.1 0.1 0.1 0.1]\n",
      "[ 0.02836691 -0.30020178  0.19332819  0.23506107 -0.21550916  0.0326501 ]\n",
      "==========================================\n"
     ]
    },
    {
     "name": "stderr",
     "output_type": "stream",
     "text": [
      "Norm of gradient (translation) = 0.358192\n",
      "Norm of gradient (rotation) = 0.320568\n",
      "around x=5.65; around y=-4.29; around z=-0.07\n",
      "step: 1.78 seconds\n",
      "current score: 3.521452\n",
      "new_T: [ 0.99719673 -0.00621938 -0.0745654   0.01023121 -0.00114774  0.99515092\n",
      " -0.09835313 -0.22529728  0.07481552  0.09816301  0.9923541   0.08896374]\n",
      "det: 1.00\n",
      "\n",
      "iteration 3\n",
      "0: 3863421 valid, 8300 out-of-bound voxels after transform.\n"
     ]
    },
    {
     "name": "stdout",
     "output_type": "stream",
     "text": [
      "score: 3.5265349999999973\n",
      "grad: [ 2.13710410e+02  1.33394161e+02 -7.94604538e+02 -1.70094658e+05\n",
      "  1.16454815e+05 -4.68347029e+03]\n",
      "==========================================\n",
      "[ 0.01197249  0.0420936  -0.02128014 -0.01617986  0.0235785  -0.00142672]\n",
      "[0.1 0.1 0.1 0.1 0.1 0.1]\n",
      "[ 0.11972494  0.42093602 -0.21280141 -0.16179863  0.235785   -0.0142672 ]\n",
      "==========================================\n"
     ]
    },
    {
     "name": "stderr",
     "output_type": "stream",
     "text": [
      "Norm of gradient (translation) = 0.486627\n",
      "Norm of gradient (rotation) = 0.286316\n",
      "around x=4.72; around y=-2.94; around z=-0.09\n",
      "step: 1.70 seconds\n",
      "current score: 3.526535\n",
      "new_T: [ 0.99868178 -0.0026725  -0.05125966  0.0237961  -0.00155123  0.99661611\n",
      " -0.0821823  -0.18193596  0.05130584  0.08215348  0.9952982   0.07057577]\n",
      "det: 1.00\n",
      "\n",
      "iteration 4\n",
      "0: 3865119 valid, 6602 out-of-bound voxels after transform.\n"
     ]
    },
    {
     "name": "stdout",
     "output_type": "stream",
     "text": [
      "score: 3.526819000000001\n",
      "grad: [ 7.63735660e+01 -1.08067730e+02  3.76761935e+02  1.60501230e+05\n",
      " -8.09692828e+04  3.59194957e+03]\n",
      "==========================================\n",
      "[ 0.00427469 -0.03227649  0.01003901  0.01509243 -0.01617782  0.00109415]\n",
      "[0.1 0.1 0.1 0.1 0.1 0.1]\n",
      "[ 0.04274693 -0.32276494  0.10039011  0.15092429 -0.16177824  0.01094146]\n",
      "==========================================\n"
     ]
    },
    {
     "name": "stderr",
     "output_type": "stream",
     "text": [
      "Norm of gradient (translation) = 0.340709\n",
      "Norm of gradient (rotation) = 0.221518\n",
      "around x=5.59; around y=-3.87; around z=-0.08\n",
      "step: 1.74 seconds\n",
      "current score: 3.526819\n",
      "new_T: [ 0.99772286 -0.00521244 -0.0672452   0.02708544 -0.00135507  0.99525889\n",
      " -0.09725176 -0.21530658  0.0674333   0.09712143  0.99298549  0.07802893]\n",
      "det: 1.00\n",
      "\n",
      "iteration 5\n",
      "0: 3863604 valid, 8117 out-of-bound voxels after transform.\n"
     ]
    },
    {
     "name": "stdout",
     "output_type": "stream",
     "text": [
      "score: 3.5293229999999998\n",
      "grad: [ 1.71139490e+02  8.73415251e+01 -6.22297245e+02 -1.18076638e+05\n",
      "  7.29719912e+04 -1.95035796e+03]\n",
      "==========================================\n",
      "[ 0.00953518  0.02524152 -0.01635807 -0.0110353   0.01442741 -0.00059409]\n",
      "[0.1 0.1 0.1 0.1 0.1 0.1]\n",
      "[ 0.09535176  0.25241519 -0.1635807  -0.110353    0.1442741  -0.00594089]\n",
      "==========================================\n"
     ]
    },
    {
     "name": "stderr",
     "output_type": "stream",
     "text": [
      "Norm of gradient (translation) = 0.315538\n",
      "Norm of gradient (rotation) = 0.181736\n",
      "around x=4.95; around y=-3.04; around z=-0.07\n",
      "step: 1.63 seconds\n",
      "current score: 3.529323\n",
      "new_T: [ 0.99859121 -0.00329843 -0.05295955  0.03752146 -0.0012833   0.99627292\n",
      " -0.08624749 -0.1893033   0.05304665  0.08619395  0.99486515  0.06343692]\n",
      "det: 1.00\n",
      "\n",
      "iteration 6\n",
      "0: 3864824 valid, 6897 out-of-bound voxels after transform.\n"
     ]
    },
    {
     "name": "stdout",
     "output_type": "stream",
     "text": [
      "score: 3.5295529999999973\n",
      "grad: [ 8.73787063e+01 -8.04160793e+01  1.59480074e+02  1.00941582e+05\n",
      " -5.42373192e+04  2.09766665e+03]\n",
      "==========================================\n",
      "[ 0.00486262 -0.02263681  0.00418851  0.00939218 -0.01066222  0.00063895]\n",
      "[0.1 0.1 0.1 0.1 0.1 0.1]\n",
      "[ 0.04862617 -0.2263681   0.04188508  0.09392177 -0.1066222   0.00638947]\n",
      "==========================================\n"
     ]
    },
    {
     "name": "stderr",
     "output_type": "stream",
     "text": [
      "Norm of gradient (translation) = 0.235290\n",
      "Norm of gradient (rotation) = 0.142234\n",
      "around x=5.49; around y=-3.65; around z=-0.07\n",
      "step: 1.63 seconds\n",
      "current score: 3.529553\n",
      "new_T: [ 0.99796971 -0.0049034  -0.06350123  0.04182139 -0.0011936   0.99541701\n",
      " -0.09562188 -0.2125235   0.06367908  0.09550353  0.99339018  0.06616143]\n",
      "det: 1.00\n",
      "\n",
      "iteration 7\n",
      "0: 3863856 valid, 7865 out-of-bound voxels after transform.\n"
     ]
    },
    {
     "name": "stdout",
     "output_type": "stream",
     "text": [
      "score: 3.5310630000000014\n",
      "grad: [ 1.39346609e+02  4.01352571e+01 -4.85944234e+02 -7.59746821e+04\n",
      "  4.50805818e+04 -1.27687713e+03]\n",
      "==========================================\n",
      "[ 0.00773141  0.0112265  -0.01265992 -0.00705152  0.00882755 -0.00038893]\n",
      "[0.1 0.1 0.1 0.1 0.1 0.1]\n",
      "[ 0.07731414  0.11226495 -0.12659916 -0.07051518  0.0882755  -0.00388933]\n",
      "==========================================\n"
     ]
    },
    {
     "name": "stderr",
     "output_type": "stream",
     "text": [
      "Norm of gradient (translation) = 0.186033\n",
      "Norm of gradient (rotation) = 0.113049\n",
      "around x=5.09; around y=-3.15; around z=-0.07\n",
      "step: 1.64 seconds\n",
      "current score: 3.531063\n",
      "new_T: [ 0.99849253 -0.00370387 -0.05476259  0.05000533 -0.00116385  0.99606752\n",
      " -0.08858976 -0.20088916  0.05487536  0.08851995  0.99456167  0.05455368]\n",
      "det: 1.00\n",
      "\n",
      "iteration 8\n",
      "0: 3864584 valid, 7137 out-of-bound voxels after transform.\n"
     ]
    },
    {
     "name": "stdout",
     "output_type": "stream",
     "text": [
      "score: 3.5306229999999976\n",
      "grad: [ 9.02165526e+01 -4.98455414e+01  1.18362827e+01  6.23579314e+04\n",
      " -3.44185818e+04  1.03851154e+03]\n",
      "==========================================\n",
      "[ 0.00499926 -0.01380905  0.00030836  0.00577802 -0.00672449  0.00031633]\n",
      "[0.1 0.1 0.1 0.1 0.1 0.1]\n",
      "[ 0.04999256 -0.13809047  0.0030836   0.05778023 -0.06724493  0.00316326]\n",
      "==========================================\n"
     ]
    },
    {
     "name": "stderr",
     "output_type": "stream",
     "text": [
      "Norm of gradient (translation) = 0.146894\n",
      "Norm of gradient (rotation) = 0.088716\n",
      "around x=5.42; around y=-3.53; around z=-0.07\n",
      "step: 1.61 seconds\n",
      "current score: 3.530623\n",
      "new_T: [ 0.99810135 -0.00463338 -0.06141853  0.05470531 -0.00118451  0.99553818\n",
      " -0.09435212 -0.21499532  0.06158166  0.09424573  0.99364251  0.0540126 ]\n",
      "det: 1.00\n",
      "\n",
      "iteration 9\n",
      "0: 3864008 valid, 7713 out-of-bound voxels after transform.\n"
     ]
    },
    {
     "name": "stdout",
     "output_type": "stream",
     "text": [
      "score: 3.5316020000000004\n",
      "grad: [ 1.21712580e+02  2.05823629e+01 -3.78578409e+02 -4.74527760e+04\n",
      "  2.76838516e+04 -4.97608127e+02]\n",
      "==========================================\n",
      "[ 0.00672929  0.00569282 -0.00981513 -0.00439268  0.00540081 -0.00015157]\n",
      "[0.1 0.1 0.1 0.1 0.1 0.1]\n",
      "[ 0.06729287  0.05692824 -0.09815131 -0.04392682  0.05400808 -0.00151569]\n",
      "==========================================\n"
     ]
    },
    {
     "name": "stderr",
     "output_type": "stream",
     "text": [
      "Norm of gradient (translation) = 0.131920\n",
      "Norm of gradient (rotation) = 0.069633\n",
      "around x=5.17; around y=-3.22; around z=-0.06\n",
      "step: 1.63 seconds\n",
      "current score: 3.531602\n",
      "new_T: [ 0.99841922 -0.0039852  -0.05606406  0.06166936 -0.00107714  0.99594327\n",
      " -0.08997686 -0.20909423  0.0561952   0.08989501  0.99436461  0.04481462]\n",
      "det: 1.00\n",
      "\n",
      "iteration 10\n",
      "0: 3864438 valid, 7283 out-of-bound voxels after transform.\n"
     ]
    },
    {
     "name": "stdout",
     "output_type": "stream",
     "text": [
      "score: 3.5312130000000015\n",
      "grad: [ 9.15841867e+01 -2.87210013e+01 -7.51786763e+01  3.78458046e+04\n",
      " -2.10237935e+04  6.45579148e+02]\n",
      "==========================================\n",
      "[ 0.00505706 -0.00791892 -0.00194873  0.00350122 -0.00409806  0.00019664]\n",
      "[0.1 0.1 0.1 0.1 0.1 0.1]\n",
      "[ 0.0505706  -0.07918922 -0.01948734  0.03501221 -0.0409806   0.0019664 ]\n",
      "==========================================\n"
     ]
    },
    {
     "name": "stderr",
     "output_type": "stream",
     "text": [
      "Norm of gradient (translation) = 0.095959\n",
      "Norm of gradient (rotation) = 0.053936\n",
      "around x=5.37; around y=-3.46; around z=-0.06\n",
      "step: 1.75 seconds\n",
      "current score: 3.531213\n",
      "new_T: [ 0.99818077 -0.00455651 -0.06011985  0.06658966 -0.00108474  0.99562162\n",
      " -0.0934688  -0.2171532   0.06028251  0.09336397  0.99380541  0.04238249]\n",
      "det: 1.00\n",
      "\n",
      "iteration 11\n",
      "0: 3864116 valid, 7605 out-of-bound voxels after transform.\n"
     ]
    },
    {
     "name": "stdout",
     "output_type": "stream",
     "text": [
      "score: 3.5316430000000003\n",
      "grad: [ 1.07582587e+02  4.18763131e+00 -3.10705314e+02 -2.84947614e+04\n",
      "  1.65463109e+04 -3.05583767e+02]\n",
      "==========================================\n",
      "[ 5.92999890e-03  1.15453203e-03 -8.02790985e-03 -2.63521439e-03\n",
      "  3.22361116e-03 -9.30790202e-05]\n",
      "[0.1 0.1 0.1 0.1 0.1 0.1]\n",
      "[ 0.05929999  0.01154532 -0.0802791  -0.02635214  0.03223611 -0.00093079]\n",
      "==========================================\n"
     ]
    },
    {
     "name": "stderr",
     "output_type": "stream",
     "text": [
      "Norm of gradient (translation) = 0.100471\n",
      "Norm of gradient (rotation) = 0.041647\n",
      "around x=5.22; around y=-3.27; around z=-0.06\n",
      "step: 1.68 seconds\n",
      "current score: 3.531643\n",
      "new_T: [ 0.99836981 -0.00416707 -0.05692409  0.07262375 -0.00102304  0.99586462\n",
      " -0.09084389 -0.21590357  0.05706723  0.09075403  0.99423691  0.03470078]\n",
      "det: 1.00\n",
      "\n",
      "iteration 12\n",
      "0: 3864376 valid, 7345 out-of-bound voxels after transform.\n"
     ]
    },
    {
     "name": "stdout",
     "output_type": "stream",
     "text": [
      "score: 3.5313839999999987\n",
      "grad: [ 8.97812958e+01 -8.98931539e+00 -1.27874399e+02  2.31606547e+04\n",
      " -1.25617979e+04  4.18605360e+02]\n",
      "==========================================\n",
      "[ 0.00494274 -0.0024776  -0.00330218  0.00214142 -0.0024466   0.0001275 ]\n",
      "[0.1 0.1 0.1 0.1 0.1 0.1]\n",
      "[ 0.04942735 -0.02477598 -0.03302178  0.02141422 -0.02446602  0.00127505]\n",
      "==========================================\n"
     ]
    },
    {
     "name": "stderr",
     "output_type": "stream",
     "text": [
      "Norm of gradient (translation) = 0.064400\n",
      "Norm of gradient (rotation) = 0.032539\n",
      "around x=5.34; around y=-3.41; around z=-0.06\n",
      "step: 1.61 seconds\n",
      "current score: 3.531384\n",
      "new_T: [ 0.99822734 -0.00451867 -0.05934445  0.07751367 -0.00102057  0.99566745\n",
      " -0.09298002 -0.21844207  0.05950749  0.09287577  0.99389786  0.03111721]\n",
      "det: 1.00\n",
      "\n",
      "iteration 13\n",
      "0: 3864165 valid, 7556 out-of-bound voxels after transform.\n"
     ]
    },
    {
     "name": "stdout",
     "output_type": "stream",
     "text": [
      "score: 3.5317309999999993\n",
      "grad: [ 9.55459065e+01  2.48552728e+00 -2.65816789e+02 -1.74353324e+04\n",
      "  1.01352168e+04 -7.57877328e+01]\n",
      "==========================================\n",
      "[ 5.25283279e-03  6.85034671e-04 -6.84823286e-03 -1.61185190e-03\n",
      "  1.97360344e-03 -2.30844788e-05]\n",
      "[0.1 0.1 0.1 0.1 0.1 0.1]\n",
      "[ 0.05252833  0.00685035 -0.06848233 -0.01611852  0.01973603 -0.00023084]\n",
      "==========================================\n"
     ]
    },
    {
     "name": "stderr",
     "output_type": "stream",
     "text": [
      "Norm of gradient (translation) = 0.086579\n",
      "Norm of gradient (rotation) = 0.025483\n",
      "around x=5.25; around y=-3.30; around z=-0.05\n",
      "step: 1.78 seconds\n",
      "current score: 3.531731\n",
      "new_T: [ 9.98342816e-01 -4.31395552e-03 -5.73847612e-02  8.28163133e-02\n",
      " -9.49282888e-04  9.95815969e-01 -9.13764463e-02 -2.17714091e-01\n",
      "  5.75388555e-02  9.12794931e-02  9.94161624e-01  2.44622656e-02]\n",
      "det: 1.00\n",
      "\n",
      "iteration 14\n",
      "0: 3864321 valid, 7400 out-of-bound voxels after transform.\n"
     ]
    },
    {
     "name": "stdout",
     "output_type": "stream",
     "text": [
      "score: 3.531499000000002\n",
      "grad: [   81.44998831   -14.32402712  -156.07042301 14092.12993014\n",
      " -7749.2510379    440.52921462]\n",
      "==========================================\n",
      "[ 0.0044734  -0.00394476 -0.00401759  0.00130267 -0.00150882  0.00013418]\n",
      "[0.1 0.1 0.1 0.1 0.1 0.1]\n",
      "[ 0.04473398 -0.03944764 -0.04017593  0.01302671 -0.01508819  0.00134182]\n",
      "==========================================\n"
     ]
    },
    {
     "name": "stderr",
     "output_type": "stream",
     "text": [
      "Norm of gradient (translation) = 0.071912\n",
      "Norm of gradient (rotation) = 0.019979\n",
      "around x=5.32; around y=-3.38; around z=-0.05\n",
      "step: 1.81 seconds\n",
      "current score: 3.531499\n",
      "new_T: [ 9.98254989e-01 -4.58626624e-03 -5.88722665e-02  8.72854317e-02\n",
      " -8.91263233e-04  9.95695624e-01 -9.26791767e-02 -2.21676589e-01\n",
      "  5.90439095e-02  9.25699211e-02  9.93954036e-01  2.02868067e-02]\n",
      "det: 1.00\n",
      "\n",
      "iteration 15\n",
      "0: 3864194 valid, 7527 out-of-bound voxels after transform.\n"
     ]
    },
    {
     "name": "stdout",
     "output_type": "stream",
     "text": [
      "score: 3.531706999999999\n",
      "grad: [ 8.87215391e+01 -1.12154520e+00 -2.41938104e+02 -1.05808901e+04\n",
      "  6.16271936e+03 -2.91597752e+02]\n",
      "==========================================\n",
      "[ 4.86699168e-03 -3.08866323e-04 -6.21597069e-03 -9.78046460e-04\n",
      "  1.19982675e-03 -8.88187725e-05]\n",
      "[0.1 0.1 0.1 0.1 0.1 0.1]\n",
      "[ 0.04866992 -0.00308866 -0.06215971 -0.00978046  0.01199827 -0.00088819]\n",
      "==========================================\n"
     ]
    },
    {
     "name": "stderr",
     "output_type": "stream",
     "text": [
      "Norm of gradient (translation) = 0.079007\n",
      "Norm of gradient (rotation) = 0.015505\n",
      "around x=5.26; around y=-3.32; around z=-0.05\n",
      "step: 1.79 seconds\n",
      "current score: 3.531707\n",
      "new_T: [ 9.98325033e-01 -4.38733886e-03 -5.76877858e-02  9.21533988e-02\n",
      " -9.22767752e-04  9.95786087e-01 -9.17017886e-02 -2.21976569e-01\n",
      "  5.78470213e-02  9.16014235e-02  9.94114129e-01  1.41801437e-02]\n",
      "det: 1.00\n",
      "\n",
      "iteration 16\n",
      "0: 3864262 valid, 7459 out-of-bound voxels after transform.\n"
     ]
    },
    {
     "name": "stdout",
     "output_type": "stream",
     "text": [
      "score: 3.531635999999993\n",
      "grad: [   76.55559856   -10.91652703  -172.49847168  8857.32321268\n",
      " -4704.8051194    222.87578773]\n",
      "==========================================\n",
      "[ 4.19590700e-03 -3.00498357e-03 -4.42755374e-03  8.18700806e-04\n",
      " -9.15945367e-04  6.78864950e-05]\n",
      "[0.1 0.1 0.1 0.1 0.1 0.1]\n",
      "[ 0.04195907 -0.03004984 -0.04427554  0.00818701 -0.00915945  0.00067886]\n",
      "==========================================\n"
     ]
    },
    {
     "name": "stderr",
     "output_type": "stream",
     "text": [
      "Norm of gradient (translation) = 0.067999\n",
      "Norm of gradient (rotation) = 0.012304\n",
      "around x=5.31; around y=-3.37; around z=-0.05\n",
      "step: 1.71 seconds\n",
      "current score: 3.531636\n",
      "new_T: [ 9.98271691e-01 -4.53921012e-03 -5.85920282e-02  9.63535610e-02\n",
      " -9.02730174e-04  9.95710457e-01 -9.25195650e-02 -2.24984911e-01\n",
      "  5.87606609e-02  9.24125554e-02  9.93985465e-01  9.65595655e-03]\n",
      "det: 1.00\n",
      "\n",
      "iteration 17\n",
      "0: 3864213 valid, 7508 out-of-bound voxels after transform.\n"
     ]
    },
    {
     "name": "stdout",
     "output_type": "stream",
     "text": [
      "score: 3.5316259999999997\n",
      "grad: [ 7.92794749e+01 -1.32355988e+00 -2.25489843e+02 -6.29692778e+03\n",
      "  3.80575939e+03 -1.56465246e+02]\n",
      "==========================================\n",
      "[ 4.34110268e-03 -3.64332840e-04 -5.77802480e-03 -5.82028273e-04\n",
      "  7.40896152e-04 -4.76582767e-05]\n",
      "[0.1 0.1 0.1 0.1 0.1 0.1]\n",
      "[ 0.04341103 -0.00364333 -0.05778025 -0.00582028  0.00740896 -0.00047658]\n",
      "==========================================\n"
     ]
    },
    {
     "name": "stderr",
     "output_type": "stream",
     "text": [
      "Norm of gradient (translation) = 0.072363\n",
      "Norm of gradient (rotation) = 0.009434\n",
      "around x=5.28; around y=-3.33; around z=-0.05\n",
      "step: 1.68 seconds\n",
      "current score: 3.531626\n",
      "new_T: [ 9.98314910e-01 -4.42350034e-03 -5.78599477e-02  1.00688968e-01\n",
      " -9.16321837e-04  9.95764290e-01 -9.19382342e-02 -2.25349984e-01\n",
      "  5.80215586e-02  9.18363283e-02  9.94082284e-01  3.93599111e-03]\n",
      "det: 1.00\n",
      "\n",
      "iteration 18\n",
      "0: 3864262 valid, 7459 out-of-bound voxels after transform.\n"
     ]
    },
    {
     "name": "stdout",
     "output_type": "stream",
     "text": [
      "score: 3.531657999999996\n",
      "grad: [   71.45676345    -6.80143762  -183.00109524  4765.54131746\n",
      " -2731.80825573   127.58898491]\n",
      "==========================================\n",
      "[ 3.90976311e-03 -1.87188577e-03 -4.68413215e-03  4.40477161e-04\n",
      " -5.31814388e-04  3.88627560e-05]\n",
      "[0.1 0.1 0.1 0.1 0.1 0.1]\n",
      "[ 0.03909763 -0.01871886 -0.04684132  0.00440477 -0.00531814  0.00038863]\n",
      "==========================================\n"
     ]
    },
    {
     "name": "stderr",
     "output_type": "stream",
     "text": [
      "Norm of gradient (translation) = 0.063821\n",
      "Norm of gradient (rotation) = 0.006916\n",
      "around x=5.30; around y=-3.36; around z=-0.05\n",
      "step: 1.62 seconds\n",
      "current score: 3.531658\n",
      "new_T: [ 9.98283947e-01 -4.51115357e-03 -5.83850145e-02  1.04606689e-01\n",
      " -9.03199180e-04  9.95723569e-01 -9.23783478e-02 -2.27218572e-01\n",
      "  5.85520679e-02  9.22725550e-02  9.94010780e-01 -7.93224696e-04]\n",
      "det: 1.00\n",
      "\n",
      "iteration 19\n",
      "0: 3864211 valid, 7510 out-of-bound voxels after transform.\n"
     ]
    },
    {
     "name": "stdout",
     "output_type": "stream",
     "text": [
      "score: 3.531494000000004\n",
      "grad: [ 7.10294710e+01 -2.45343816e+00 -2.10094575e+02 -2.91543630e+03\n",
      "  1.95037816e+03 -4.59960496e+00]\n",
      "==========================================\n",
      "[ 3.88345210e-03 -6.75217734e-04 -5.36986330e-03 -2.69471684e-04\n",
      "  3.79686857e-04 -1.40100907e-06]\n",
      "[0.1 0.1 0.1 0.1 0.1 0.1]\n",
      "[ 3.88345210e-02 -6.75217734e-03 -5.36986330e-02 -2.69471684e-03\n",
      "  3.79686857e-03 -1.40100907e-05]\n",
      "==========================================\n"
     ]
    },
    {
     "name": "stderr",
     "output_type": "stream",
     "text": [
      "Norm of gradient (translation) = 0.066613\n",
      "Norm of gradient (rotation) = 0.004656\n",
      "around x=5.29; around y=-3.33; around z=-0.05\n",
      "step: 1.69 seconds\n",
      "current score: 3.531494\n",
      "new_T: [ 9.98306106e-01 -4.47477447e-03 -5.80077220e-02  1.08488506e-01\n",
      " -8.88870713e-04  9.95748404e-01 -9.21104022e-02 -2.27894874e-01\n",
      "  5.81732698e-02  9.20059382e-02  9.94057734e-01 -6.14222272e-03]\n",
      "det: 1.00\n",
      "\n",
      "iteration 20\n",
      "0: 3864233 valid, 7488 out-of-bound voxels after transform.\n"
     ]
    },
    {
     "name": "stdout",
     "output_type": "stream",
     "text": [
      "score: 3.53155\n",
      "grad: [   66.67492056    -4.10210264  -189.1094082   2167.21407199\n",
      " -1257.89430296   187.06216818]\n",
      "==========================================\n",
      "[ 3.64295250e-03 -1.12887946e-03 -4.82786152e-03  2.00313639e-04\n",
      " -2.44877897e-04  5.69778827e-05]\n",
      "[0.1 0.1 0.1 0.1 0.1 0.1]\n",
      "[ 0.03642953 -0.01128879 -0.04827862  0.00200314 -0.00244878  0.00056978]\n",
      "==========================================\n"
     ]
    },
    {
     "name": "stderr",
     "output_type": "stream",
     "text": [
      "Norm of gradient (translation) = 0.061525\n",
      "Norm of gradient (rotation) = 0.003215\n",
      "around x=5.30; around y=-3.35; around z=-0.05\n",
      "step: 1.57 seconds\n",
      "current score: 3.531550\n",
      "new_T: [ 9.98291880e-01 -4.55406408e-03 -5.82458867e-02  1.12146573e-01\n",
      " -8.43667116e-04  9.95729697e-01 -9.23128342e-02 -2.29015752e-01\n",
      "  5.84175577e-02  9.22042929e-02  9.94025029e-01 -1.09888327e-02]\n",
      "det: 1.00\n",
      "\n",
      "iteration 21\n",
      "0: 3864208 valid, 7513 out-of-bound voxels after transform.\n"
     ]
    },
    {
     "name": "stdout",
     "output_type": "stream",
     "text": [
      "score: 3.5314170000000003\n",
      "grad: [  64.99696022   -2.69120169 -199.11783838 -771.36273909  740.68732333\n",
      "  -15.95489883]\n",
      "==========================================\n",
      "[ 3.54903567e-03 -7.40585808e-04 -5.07681618e-03 -7.12963429e-05\n",
      "  1.44191579e-04 -4.85975524e-06]\n",
      "[0.1 0.1 0.1 0.1 0.1 0.1]\n",
      "[ 3.54903567e-02 -7.40585808e-03 -5.07681618e-02 -7.12963429e-04\n",
      "  1.44191579e-03 -4.85975524e-05]\n",
      "==========================================\n"
     ]
    },
    {
     "name": "stderr",
     "output_type": "stream",
     "text": [
      "Norm of gradient (translation) = 0.062384\n",
      "Norm of gradient (rotation) = 0.001609\n",
      "around x=5.30; around y=-3.34; around z=-0.05\n",
      "step: 1.67 seconds\n",
      "current score: 3.531417\n",
      "new_T: [ 9.98300289e-01 -4.53593505e-03 -5.81030040e-02  1.15692543e-01\n",
      " -8.44358762e-04  9.95736290e-01 -9.22416806e-02 -2.29757856e-01\n",
      "  5.82736720e-02  9.21339561e-02  9.94039996e-01 -1.60657207e-02]\n",
      "det: 1.00\n",
      "\n",
      "iteration 22\n",
      "0: 3864205 valid, 7516 out-of-bound voxels after transform.\n"
     ]
    },
    {
     "name": "stdout",
     "output_type": "stream",
     "text": [
      "score: 3.531386999999998\n",
      "grad: [  61.66656047   -3.05555069 -191.27131593  910.39568424 -355.03378356\n",
      "  123.10399693]\n",
      "==========================================\n",
      "[ 3.36527829e-03 -8.40820478e-04 -4.87096818e-03  8.41469994e-05\n",
      " -6.91153581e-05  3.74966497e-05]\n",
      "[0.1 0.1 0.1 0.1 0.1 0.1]\n",
      "[ 0.03365278 -0.0084082  -0.04870968  0.00084147 -0.00069115  0.00037497]\n",
      "==========================================\n"
     ]
    },
    {
     "name": "stderr",
     "output_type": "stream",
     "text": [
      "Norm of gradient (translation) = 0.059798\n",
      "Norm of gradient (rotation) = 0.001152\n",
      "around x=5.30; around y=-3.34; around z=-0.05\n",
      "step: 1.72 seconds\n",
      "current score: 3.531387\n",
      "new_T: [ 9.98296290e-01 -4.57964244e-03 -5.81682467e-02  1.19067732e-01\n",
      " -8.11832375e-04  9.95728363e-01 -9.23275054e-02 -2.30592718e-01\n",
      "  5.83426000e-02  9.22174290e-02  9.94028212e-01 -2.09479446e-02]\n",
      "det: 1.00\n",
      "\n",
      "iteration 23\n",
      "0: 3864198 valid, 7523 out-of-bound voxels after transform.\n"
     ]
    },
    {
     "name": "stdout",
     "output_type": "stream",
     "text": [
      "score: 3.5314280000000005\n",
      "grad: [  59.86250341   -2.26794416 -193.78493387  -73.73085797  274.08044893\n",
      "   -2.33671433]\n",
      "==========================================\n",
      "[ 3.26508516e-03 -6.24076295e-04 -4.92898229e-03 -6.81487243e-06\n",
      "  5.33559525e-05 -7.11747472e-07]\n",
      "[0.1 0.1 0.1 0.1 0.1 0.1]\n",
      "[ 3.26508516e-02 -6.24076295e-03 -4.92898229e-02 -6.81487243e-05\n",
      "  5.33559525e-04 -7.11747472e-06]\n",
      "==========================================\n"
     ]
    },
    {
     "name": "stderr",
     "output_type": "stream",
     "text": [
      "Norm of gradient (translation) = 0.059452\n",
      "Norm of gradient (rotation) = 0.000538\n",
      "around x=5.30; around y=-3.34; around z=-0.05\n",
      "step: 1.67 seconds\n",
      "current score: 3.531428\n",
      "new_T: [ 9.98299401e-01 -4.57401355e-03 -5.81152750e-02  1.22331403e-01\n",
      " -8.12145495e-04  9.95728995e-01 -9.23206899e-02 -2.31217039e-01\n",
      "  5.82893404e-02  9.22108874e-02  9.94031944e-01 -2.58817934e-02]\n",
      "det: 1.00\n",
      "\n",
      "iteration 24\n",
      "0: 3864192 valid, 7529 out-of-bound voxels after transform.\n"
     ]
    },
    {
     "name": "stdout",
     "output_type": "stream",
     "text": [
      "score: 3.531426\n",
      "grad: [  56.80483377   -2.82201248 -190.20210963  518.14236379  -94.95517379\n",
      "   65.94911146]\n",
      "==========================================\n",
      "[ 3.09682440e-03 -7.76517354e-04 -4.83220047e-03  4.78913958e-05\n",
      " -1.84851699e-05  2.00876555e-05]\n",
      "[0.1 0.1 0.1 0.1 0.1 0.1]\n",
      "[ 0.03096824 -0.00776517 -0.048322    0.00047891 -0.00018485  0.00020088]\n",
      "==========================================\n"
     ]
    },
    {
     "name": "stderr",
     "output_type": "stream",
     "text": [
      "Norm of gradient (translation) = 0.057917\n",
      "Norm of gradient (rotation) = 0.000551\n",
      "around x=5.30; around y=-3.34; around z=-0.05\n",
      "step: 1.65 seconds\n",
      "current score: 3.531426\n",
      "new_T: [ 9.98298339e-01 -4.59572034e-03 -5.81317948e-02  1.25433403e-01\n",
      " -7.94884010e-04  9.95724485e-01 -9.23694629e-02 -2.31989713e-01\n",
      "  5.83077557e-02  9.22584894e-02  9.94026447e-01 -3.07227957e-02]\n",
      "det: 1.00\n",
      "\n",
      "iteration 25\n",
      "0: 3864183 valid, 7538 out-of-bound voxels after transform.\n"
     ]
    },
    {
     "name": "stdout",
     "output_type": "stream",
     "text": [
      "score: 3.5314830000000006\n",
      "grad: [  54.93429118   -2.02019542 -190.6404435    88.39428234  141.38161016\n",
      "   32.65494341]\n",
      "==========================================\n",
      "[ 2.99350604e-03 -5.55877261e-04 -4.83766585e-03  8.17019770e-06\n",
      "  2.75231235e-05  9.94647594e-06]\n",
      "[0.1 0.1 0.1 0.1 0.1 0.1]\n",
      "[ 2.99350604e-02 -5.55877261e-03 -4.83766585e-02  8.17019770e-05\n",
      "  2.75231235e-04  9.94647594e-05]\n",
      "==========================================\n"
     ]
    },
    {
     "name": "stderr",
     "output_type": "stream",
     "text": [
      "Norm of gradient (translation) = 0.057160\n",
      "Norm of gradient (rotation) = 0.000304\n",
      "around x=5.30; around y=-3.34; around z=-0.05\n",
      "step: 1.75 seconds\n",
      "current score: 3.531483\n",
      "new_T: [ 9.98299951e-01 -4.60308493e-03 -5.81035173e-02  1.28428307e-01\n",
      " -7.85430726e-04  9.95723686e-01 -9.23781623e-02 -2.32544057e-01\n",
      "  5.82802729e-02  9.22667513e-02  9.94027292e-01 -3.55658527e-02]\n",
      "det: 1.00\n",
      "\n",
      "iteration 26\n",
      "0: 3864177 valid, 7544 out-of-bound voxels after transform.\n"
     ]
    },
    {
     "name": "stdout",
     "output_type": "stream",
     "text": [
      "score: 3.5314739999999993\n",
      "grad: [  52.54349178   -2.38367063 -188.14274532  388.22156668  -49.610349\n",
      "   63.87897772]\n",
      "==========================================\n",
      "[ 2.86205251e-03 -6.55877042e-04 -4.76885269e-03  3.58829402e-05\n",
      " -9.65777485e-06  1.94571062e-05]\n",
      "[0.1 0.1 0.1 0.1 0.1 0.1]\n",
      "[ 2.86205251e-02 -6.55877042e-03 -4.76885269e-02  3.58829402e-04\n",
      " -9.65777485e-05  1.94571062e-04]\n",
      "==========================================\n"
     ]
    },
    {
     "name": "stderr",
     "output_type": "stream",
     "text": [
      "Norm of gradient (translation) = 0.056003\n",
      "Norm of gradient (rotation) = 0.000419\n",
      "around x=5.31; around y=-3.34; around z=-0.04\n",
      "step: 1.62 seconds\n",
      "current score: 3.531474\n",
      "new_T: [ 9.98299404e-01 -4.62335007e-03 -5.81113196e-02  1.31295257e-01\n",
      " -7.68098143e-04  9.95720284e-01 -9.24149615e-02 -2.33196045e-01\n",
      "  5.82898864e-02  9.23024361e-02  9.94023415e-01 -4.03418073e-02]\n",
      "det: 1.00\n",
      "\n",
      "iteration 27\n",
      "0: 3864172 valid, 7549 out-of-bound voxels after transform.\n"
     ]
    },
    {
     "name": "stdout",
     "output_type": "stream",
     "text": [
      "score: 3.531504999999998\n",
      "grad: [  50.62095338   -1.74460608 -187.80601561  119.84271479   86.44911802\n",
      "   50.47720593]\n",
      "==========================================\n",
      "[ 2.75628395e-03 -4.80030201e-04 -4.75493316e-03  1.10769450e-05\n",
      "  1.68292730e-05  1.53750167e-05]\n",
      "[0.1 0.1 0.1 0.1 0.1 0.1]\n",
      "[ 0.02756284 -0.0048003  -0.04754933  0.00011077  0.00016829  0.00015375]\n",
      "==========================================\n"
     ]
    },
    {
     "name": "stderr",
     "output_type": "stream",
     "text": [
      "Norm of gradient (translation) = 0.055170\n",
      "Norm of gradient (rotation) = 0.000253\n",
      "around x=5.31; around y=-3.34; around z=-0.04\n",
      "step: 1.62 seconds\n",
      "current score: 3.531505\n",
      "new_T: [ 9.98300396e-01 -4.63710580e-03 -5.80931699e-02  1.34054411e-01\n",
      " -7.53394846e-04  9.95719191e-01 -9.24268656e-02 -2.33673562e-01\n",
      "  5.82730773e-02  9.23135436e-02  9.94023369e-01 -4.51015590e-02]\n",
      "det: 1.00\n",
      "\n",
      "iteration 28\n",
      "0: 3864166 valid, 7555 out-of-bound voxels after transform.\n"
     ]
    },
    {
     "name": "stdout",
     "output_type": "stream",
     "text": [
      "score: 3.5315049999999997\n",
      "grad: [  48.52827531   -1.97500426 -185.62336361  326.12180448  -38.88863647\n",
      "   69.71631932]\n",
      "==========================================\n",
      "[ 2.64141679e-03 -5.43416478e-04 -4.69449059e-03  3.01431183e-05\n",
      " -7.57055123e-06  2.12351204e-05]\n",
      "[0.1 0.1 0.1 0.1 0.1 0.1]\n",
      "[ 2.64141679e-02 -5.43416478e-03 -4.69449059e-02  3.01431183e-04\n",
      " -7.57055123e-05  2.12351204e-04]\n",
      "==========================================\n"
     ]
    },
    {
     "name": "stderr",
     "output_type": "stream",
     "text": [
      "Norm of gradient (translation) = 0.054139\n",
      "Norm of gradient (rotation) = 0.000376\n",
      "around x=5.31; around y=-3.34; around z=-0.04\n",
      "step: 1.61 seconds\n",
      "current score: 3.531505\n",
      "new_T: [ 9.98299971e-01 -4.65894896e-03 -5.80987322e-02  1.36701155e-01\n",
      " -7.33952467e-04  9.95716309e-01 -9.24580622e-02 -2.34212674e-01\n",
      "  5.82806126e-02  9.23435224e-02  9.94020143e-01 -4.98020765e-02]\n",
      "det: 1.00\n",
      "\n",
      "iteration 29\n",
      "0: 3864161 valid, 7560 out-of-bound voxels after transform.\n"
     ]
    },
    {
     "name": "stdout",
     "output_type": "stream",
     "text": [
      "score: 3.5315340000000015\n",
      "grad: [  46.792207     -1.57637095 -184.90584344  155.24662119   57.13245559\n",
      "   63.9317438 ]\n",
      "==========================================\n",
      "[ 2.54609611e-03 -4.33729645e-04 -4.67123943e-03  1.43492927e-05\n",
      "  1.11221225e-05  1.94731774e-05]\n",
      "[0.1 0.1 0.1 0.1 0.1 0.1]\n",
      "[ 0.02546096 -0.0043373  -0.04671239  0.00014349  0.00011122  0.00019473]\n",
      "==========================================\n"
     ]
    },
    {
     "name": "stderr",
     "output_type": "stream",
     "text": [
      "Norm of gradient (translation) = 0.053377\n",
      "Norm of gradient (rotation) = 0.000266\n",
      "around x=5.31; around y=-3.34; around z=-0.04\n",
      "step: 1.62 seconds\n",
      "current score: 3.531534\n",
      "new_T: [ 9.98300633e-01 -4.67731157e-03 -5.80858760e-02  1.39251236e-01\n",
      " -7.15348594e-04  9.95714893e-01 -9.24734569e-02 -2.34642968e-01\n",
      "  5.82694989e-02  9.23578622e-02  9.94019462e-01 -5.44782144e-02]\n",
      "det: 1.00\n",
      "\n",
      "iteration 30\n",
      "0: 3864156 valid, 7565 out-of-bound voxels after transform.\n"
     ]
    },
    {
     "name": "stdout",
     "output_type": "stream",
     "text": [
      "score: 3.531528\n",
      "grad: [  44.94989467   -1.63702136 -182.84643668  293.31105494   -9.87763768\n",
      "   64.37923616]\n",
      "==========================================\n",
      "[ 2.44511944e-03 -4.50412697e-04 -4.61429288e-03  2.71104516e-05\n",
      " -1.92290521e-06  1.96094802e-05]\n",
      "[0.1 0.1 0.1 0.1 0.1 0.1]\n",
      "[ 2.44511944e-02 -4.50412697e-03 -4.61429288e-02  2.71104516e-04\n",
      " -1.92290521e-05  1.96094802e-04]\n",
      "==========================================\n"
     ]
    },
    {
     "name": "stderr",
     "output_type": "stream",
     "text": [
      "Norm of gradient (translation) = 0.052415\n",
      "Norm of gradient (rotation) = 0.000335\n",
      "around x=5.31; around y=-3.34; around z=-0.04\n",
      "step: 1.63 seconds\n",
      "current score: 3.531528\n",
      "new_T: [ 9.98300535e-01 -4.69701462e-03 -5.80859737e-02  1.41701070e-01\n",
      " -6.97352177e-04  9.95712297e-01 -9.25015442e-02 -2.35089087e-01\n",
      "  5.82713994e-02  9.23848474e-02  9.94016843e-01 -5.90986045e-02]\n",
      "det: 1.00\n",
      "\n",
      "iteration 31\n",
      "0: 3864151 valid, 7570 out-of-bound voxels after transform.\n"
     ]
    },
    {
     "name": "stdout",
     "output_type": "stream",
     "text": [
      "score: 3.5315310000000015\n",
      "grad: [  43.3639214    -1.41998321 -182.00984627  168.3244437    49.30916733\n",
      "   64.01781321]\n",
      "==========================================\n",
      "[ 2.35819198e-03 -3.90693487e-04 -4.58834324e-03  1.55580622e-05\n",
      "  9.59914276e-06  1.94993928e-05]\n",
      "[0.1 0.1 0.1 0.1 0.1 0.1]\n",
      "[ 2.35819198e-02 -3.90693487e-03 -4.58834324e-02  1.55580622e-04\n",
      "  9.59914276e-05  1.94993928e-04]\n",
      "==========================================\n"
     ]
    },
    {
     "name": "stderr",
     "output_type": "stream",
     "text": [
      "Norm of gradient (translation) = 0.051736\n",
      "Norm of gradient (rotation) = 0.000267\n",
      "around x=5.31; around y=-3.34; around z=-0.04\n",
      "step: 1.82 seconds\n",
      "current score: 3.531531\n",
      "new_T: [ 9.98301107e-01 -4.71554350e-03 -5.80746281e-02  1.44063261e-01\n",
      " -6.78792432e-04  9.95710768e-01 -9.25181417e-02 -2.35476039e-01\n",
      "  5.82618059e-02  9.24003839e-02  9.94015961e-01 -6.36919798e-02]\n",
      "det: 1.00\n",
      "\n",
      "iteration 32\n",
      "0: 3864145 valid, 7576 out-of-bound voxels after transform.\n"
     ]
    },
    {
     "name": "stdout",
     "output_type": "stream",
     "text": [
      "score: 3.5315530000000006\n",
      "grad: [  41.82550848   -1.34365046 -180.13136232  266.75009096    0.89752209\n",
      "   56.74960238]\n",
      "==========================================\n",
      "[ 2.27394276e-03 -3.69688806e-04 -4.53631329e-03  2.46554469e-05\n",
      "  1.74722940e-07  1.72855447e-05]\n",
      "[0.1 0.1 0.1 0.1 0.1 0.1]\n",
      "[ 2.27394276e-02 -3.69688806e-03 -4.53631329e-02  2.46554469e-04\n",
      "  1.74722940e-06  1.72855447e-04]\n",
      "==========================================\n"
     ]
    },
    {
     "name": "stderr",
     "output_type": "stream",
     "text": [
      "Norm of gradient (translation) = 0.050878\n",
      "Norm of gradient (rotation) = 0.000301\n",
      "around x=5.31; around y=-3.34; around z=-0.04\n",
      "step: 1.65 seconds\n",
      "current score: 3.531553\n",
      "new_T: [ 9.98301129e-01 -4.73273874e-03 -5.80728550e-02  1.46341266e-01\n",
      " -6.62972722e-04  9.95708407e-01 -9.25436534e-02 -2.35841591e-01\n",
      "  5.82616149e-02  9.24249344e-02  9.94013690e-01 -6.82341287e-02]\n",
      "det: 1.00\n",
      "\n",
      "iteration 33\n",
      "0: 3864140 valid, 7581 out-of-bound voxels after transform.\n"
     ]
    },
    {
     "name": "stdout",
     "output_type": "stream",
     "text": [
      "score: 3.531559000000002\n",
      "grad: [  40.31878108   -1.10892159 -178.97165453  206.98476577   39.77974916\n",
      "   49.74277842]\n",
      "==========================================\n",
      "[ 2.19149951e-03 -3.05104640e-04 -4.50253704e-03  1.91313967e-05\n",
      "  7.74402633e-06  1.51513134e-05]\n",
      "[0.1 0.1 0.1 0.1 0.1 0.1]\n",
      "[ 2.19149951e-02 -3.05104640e-03 -4.50253704e-02  1.91313967e-04\n",
      "  7.74402633e-05  1.51513134e-04]\n",
      "==========================================\n"
     ]
    },
    {
     "name": "stderr",
     "output_type": "stream",
     "text": [
      "Norm of gradient (translation) = 0.050168\n",
      "Norm of gradient (rotation) = 0.000256\n",
      "around x=5.31; around y=-3.34; around z=-0.04\n",
      "step: 1.69 seconds\n",
      "current score: 3.531559\n",
      "new_T: [ 9.98301590e-01 -4.74710920e-03 -5.80637550e-02  1.48535795e-01\n",
      " -6.48961698e-04  9.95706567e-01 -9.25635501e-02 -2.36143114e-01\n",
      "  5.82538715e-02  9.24440204e-02  9.94012369e-01 -7.27423224e-02]\n",
      "det: 1.00\n",
      "\n",
      "iteration 34\n",
      "0: 3864135 valid, 7586 out-of-bound voxels after transform.\n"
     ]
    },
    {
     "name": "stdout",
     "output_type": "stream",
     "text": [
      "score: 3.531553\n",
      "grad: [  38.79757941   -1.12517971 -177.430969    247.28799969    8.82508987\n",
      "   43.61759526]\n",
      "==========================================\n",
      "[ 2.10834690e-03 -3.09576356e-04 -4.45933627e-03  2.28565840e-05\n",
      "  1.71800300e-06  1.32856240e-05]\n",
      "[0.1 0.1 0.1 0.1 0.1 0.1]\n",
      "[ 2.10834690e-02 -3.09576356e-03 -4.45933627e-02  2.28565840e-04\n",
      "  1.71800300e-05  1.32856240e-04]\n",
      "==========================================\n"
     ]
    },
    {
     "name": "stderr",
     "output_type": "stream",
     "text": [
      "Norm of gradient (translation) = 0.049423\n",
      "Norm of gradient (rotation) = 0.000265\n",
      "around x=5.31; around y=-3.34; around z=-0.04\n",
      "step: 1.63 seconds\n",
      "current score: 3.531553\n",
      "new_T: [ 9.98301699e-01 -4.76017893e-03 -5.80608174e-02  1.50647152e-01\n",
      " -6.37030102e-04  9.95704391e-01 -9.25870412e-02 -2.36448989e-01\n",
      "  5.82521417e-02  9.24667870e-02  9.94010353e-01 -7.72073166e-02]\n",
      "det: 1.00\n",
      "\n",
      "iteration 35\n",
      "0: 3864129 valid, 7592 out-of-bound voxels after transform.\n"
     ]
    },
    {
     "name": "stdout",
     "output_type": "stream",
     "text": [
      "score: 3.5315410000000003\n",
      "grad: [  37.19440383   -0.88762736 -176.0426113   233.29717493   31.48236698\n",
      "   50.4351368 ]\n",
      "==========================================\n",
      "[ 2.02081402e-03 -2.44216656e-04 -4.42011873e-03  2.15634255e-05\n",
      "  6.12875354e-06  1.53622007e-05]\n",
      "[0.1 0.1 0.1 0.1 0.1 0.1]\n",
      "[ 2.02081402e-02 -2.44216656e-03 -4.42011873e-02  2.15634255e-04\n",
      "  6.12875354e-05  1.53622007e-04]\n",
      "==========================================\n"
     ]
    },
    {
     "name": "stderr",
     "output_type": "stream",
     "text": [
      "Norm of gradient (translation) = 0.048663\n",
      "Norm of gradient (rotation) = 0.000272\n",
      "around x=5.32; around y=-3.34; around z=-0.04\n",
      "step: 1.65 seconds\n",
      "current score: 3.531541\n",
      "new_T: [ 9.98302066e-01 -4.77490835e-03 -5.80533029e-02  1.52671114e-01\n",
      " -6.22950038e-04  9.95702323e-01 -9.26093673e-02 -2.36689163e-01\n",
      "  5.82460098e-02  9.24882870e-02  9.94008712e-01 -8.16334661e-02]\n",
      "det: 1.00\n",
      "\n",
      "iteration 36\n",
      "0: 3864125 valid, 7596 out-of-bound voxels after transform.\n"
     ]
    },
    {
     "name": "stdout",
     "output_type": "stream",
     "text": [
      "score: 3.531515999999999\n",
      "grad: [  35.87499338   -0.83786422 -174.50143462  218.60564518   19.73760933\n",
      "   46.48388398]\n",
      "==========================================\n",
      "[ 1.94875882e-03 -2.30524500e-04 -4.37722308e-03  2.02055016e-05\n",
      "  3.84237129e-06  1.41586758e-05]\n",
      "[0.1 0.1 0.1 0.1 0.1 0.1]\n",
      "[ 1.94875882e-02 -2.30524500e-03 -4.37722308e-02  2.02055016e-04\n",
      "  3.84237129e-05  1.41586758e-04]\n",
      "==========================================\n"
     ]
    },
    {
     "name": "stderr",
     "output_type": "stream",
     "text": [
      "Norm of gradient (translation) = 0.047970\n",
      "Norm of gradient (rotation) = 0.000250\n",
      "around x=5.32; around y=-3.34; around z=-0.04\n",
      "step: 1.68 seconds\n",
      "current score: 3.531516\n",
      "new_T: [ 9.98302298e-01 -4.78865075e-03 -5.80481721e-02  1.54622903e-01\n",
      " -6.09992252e-04  9.95700387e-01 -9.26302737e-02 -2.36915819e-01\n",
      "  5.82421615e-02  9.25084240e-02  9.94007063e-01 -8.60160642e-02]\n",
      "det: 1.00\n",
      "\n",
      "iteration 37\n",
      "0: 3864123 valid, 7598 out-of-bound voxels after transform.\n"
     ]
    },
    {
     "name": "stdout",
     "output_type": "stream",
     "text": [
      "score: 3.5315059999999994\n",
      "grad: [  34.48675054   -0.90855217 -172.98495352  230.00726503    4.87989366\n",
      "   36.78439844]\n",
      "==========================================\n",
      "[ 1.87301970e-03 -2.49972341e-04 -4.33510416e-03  2.12593415e-05\n",
      "  9.49981478e-07  1.12042782e-05]\n",
      "[0.1 0.1 0.1 0.1 0.1 0.1]\n",
      "[ 1.87301970e-02 -2.49972341e-03 -4.33510416e-02  2.12593415e-04\n",
      "  9.49981478e-06  1.12042782e-04]\n",
      "==========================================\n"
     ]
    },
    {
     "name": "stderr",
     "output_type": "stream",
     "text": [
      "Norm of gradient (translation) = 0.047290\n",
      "Norm of gradient (rotation) = 0.000240\n",
      "around x=5.32; around y=-3.34; around z=-0.03\n",
      "step: 1.56 seconds\n",
      "current score: 3.531506\n",
      "new_T: [ 9.98302360e-01 -4.79971895e-03 -5.80461899e-02  1.56498495e-01\n",
      " -6.00045175e-04  9.95698366e-01 -9.26520559e-02 -2.37162173e-01\n",
      "  5.82412002e-02  9.25295965e-02  9.94005149e-01 -9.03563555e-02]\n",
      "det: 1.00\n",
      "\n",
      "iteration 38\n",
      "0: 3864115 valid, 7606 out-of-bound voxels after transform.\n"
     ]
    },
    {
     "name": "stdout",
     "output_type": "stream",
     "text": [
      "score: 3.531485000000003\n",
      "grad: [  32.98773289   -0.71367729 -171.5069989   198.31287235   27.26468879\n",
      "   39.61366296]\n",
      "==========================================\n",
      "[ 1.79131866e-03 -1.96355525e-04 -4.29410125e-03  1.83298602e-05\n",
      "  5.30768724e-06  1.20660529e-05]\n",
      "[0.1 0.1 0.1 0.1 0.1 0.1]\n",
      "[ 1.79131866e-02 -1.96355525e-03 -4.29410125e-02  1.83298602e-04\n",
      "  5.30768724e-05  1.20660529e-04]\n",
      "==========================================\n"
     ]
    },
    {
     "name": "stderr",
     "output_type": "stream",
     "text": [
      "Norm of gradient (translation) = 0.046569\n",
      "Norm of gradient (rotation) = 0.000226\n",
      "around x=5.32; around y=-3.34; around z=-0.03\n",
      "step: 1.57 seconds\n",
      "current score: 3.531485\n",
      "new_T: [ 9.98302677e-01 -4.81124192e-03 -5.80397959e-02  1.58292186e-01\n",
      " -5.89067108e-04  9.95696612e-01 -9.26709763e-02 -2.37354934e-01\n",
      "  5.82358907e-02  9.25478730e-02  9.94003759e-01 -9.46556410e-02]\n",
      "det: 1.00\n",
      "\n",
      "iteration 39\n",
      "0: 3864105 valid, 7616 out-of-bound voxels after transform.\n"
     ]
    },
    {
     "name": "stdout",
     "output_type": "stream",
     "text": [
      "score: 3.531457\n",
      "grad: [  31.77653074   -0.88078058 -169.86819875  227.73452532    6.23949003\n",
      "   23.93953866]\n",
      "==========================================\n",
      "[ 1.72529044e-03 -2.42330291e-04 -4.24922845e-03  2.10492736e-05\n",
      "  1.21465761e-06  7.29182098e-06]\n",
      "[0.1 0.1 0.1 0.1 0.1 0.1]\n",
      "[ 1.72529044e-02 -2.42330291e-03 -4.24922845e-02  2.10492736e-04\n",
      "  1.21465761e-05  7.29182098e-05]\n",
      "==========================================\n"
     ]
    },
    {
     "name": "stderr",
     "output_type": "stream",
     "text": [
      "Norm of gradient (translation) = 0.045925\n",
      "Norm of gradient (rotation) = 0.000223\n",
      "around x=5.32; around y=-3.34; around z=-0.03\n",
      "step: 1.75 seconds\n",
      "current score: 3.531457\n",
      "new_T: [ 9.98302752e-01 -4.81838993e-03 -5.80379128e-02  1.60019090e-01\n",
      " -5.83013474e-04  9.95694629e-01 -9.26923225e-02 -2.37594066e-01\n",
      "  5.82346657e-02  9.25688375e-02  9.94001878e-01 -9.89100615e-02]\n",
      "det: 1.00\n",
      "\n",
      "iteration 40\n",
      "0: 3864099 valid, 7622 out-of-bound voxels after transform.\n"
     ]
    },
    {
     "name": "stdout",
     "output_type": "stream",
     "text": [
      "score: 3.531477000000003\n",
      "grad: [  30.44785863   -0.98297155 -168.24143845  214.68083143   18.15936542\n",
      "   36.71628112]\n",
      "==========================================\n",
      "[ 1.65292502e-03 -2.70445235e-04 -4.20481319e-03  1.98427334e-05\n",
      "  3.53513047e-06  1.11835299e-05]\n",
      "[0.1 0.1 0.1 0.1 0.1 0.1]\n",
      "[ 1.65292502e-02 -2.70445235e-03 -4.20481319e-02  1.98427334e-04\n",
      "  3.53513047e-05  1.11835299e-04]\n",
      "==========================================\n"
     ]
    },
    {
     "name": "stderr",
     "output_type": "stream",
     "text": [
      "Norm of gradient (translation) = 0.045261\n",
      "Norm of gradient (rotation) = 0.000231\n",
      "around x=5.32; around y=-3.34; around z=-0.03\n",
      "step: 1.69 seconds\n",
      "current score: 3.531477\n",
      "new_T: [ 9.98302964e-01 -4.82919802e-03 -5.80333621e-02  1.61674317e-01\n",
      " -5.73004424e-04  9.95692738e-01 -9.27126952e-02 -2.37860708e-01\n",
      "  5.82311251e-02  9.25886118e-02  9.94000244e-01 -1.03120160e-01]\n",
      "det: 1.00\n",
      "\n",
      "iteration 41\n",
      "0: 3864096 valid, 7625 out-of-bound voxels after transform.\n"
     ]
    },
    {
     "name": "stdout",
     "output_type": "stream",
     "text": [
      "score: 3.531475000000004\n",
      "grad: [  29.37169588   -1.08640867 -166.71141189  201.61627209    1.80824172\n",
      "   30.7159729 ]\n",
      "==========================================\n",
      "[ 1.59430064e-03 -2.98902585e-04 -4.16296169e-03  1.86351890e-05\n",
      "  3.52015077e-07  9.35587675e-06]\n",
      "[0.1 0.1 0.1 0.1 0.1 0.1]\n",
      "[ 1.59430064e-02 -2.98902585e-03 -4.16296169e-02  1.86351890e-04\n",
      "  3.52015077e-06  9.35587675e-05]\n",
      "==========================================\n"
     ]
    },
    {
     "name": "stderr",
     "output_type": "stream",
     "text": [
      "Norm of gradient (translation) = 0.044678\n",
      "Norm of gradient (rotation) = 0.000209\n",
      "around x=5.32; around y=-3.34; around z=-0.03\n",
      "step: 1.64 seconds\n",
      "current score: 3.531475\n",
      "new_T: [ 9.98302990e-01 -4.83848100e-03 -5.80321447e-02  1.63270807e-01\n",
      " -5.64749569e-04  9.95690967e-01 -9.27317616e-02 -2.38156130e-01\n",
      "  5.82307631e-02  9.26071684e-02  9.93998537e-01 -1.07287615e-01]\n",
      "det: 1.00\n",
      "\n",
      "iteration 42\n",
      "0: 3864091 valid, 7630 out-of-bound voxels after transform.\n"
     ]
    },
    {
     "name": "stdout",
     "output_type": "stream",
     "text": [
      "score: 3.531509000000005\n",
      "grad: [  28.29617071   -0.79156125 -165.4096182   158.92918396    7.08012146\n",
      "   19.22419512]\n",
      "==========================================\n",
      "[ 1.53573981e-03 -2.17780976e-04 -4.12693560e-03  1.46896643e-05\n",
      "  1.37830549e-06  5.85555927e-06]\n",
      "[0.1 0.1 0.1 0.1 0.1 0.1]\n",
      "[ 1.53573981e-02 -2.17780976e-03 -4.12693560e-02  1.46896643e-04\n",
      "  1.37830549e-05  5.85555927e-05]\n",
      "==========================================\n"
     ]
    },
    {
     "name": "stderr",
     "output_type": "stream",
     "text": [
      "Norm of gradient (translation) = 0.044088\n",
      "Norm of gradient (rotation) = 0.000159\n",
      "around x=5.32; around y=-3.34; around z=-0.03\n",
      "step: 1.81 seconds\n",
      "current score: 3.531509\n",
      "new_T: [ 9.98303073e-01 -4.84418367e-03 -5.80302316e-02  1.64807791e-01\n",
      " -5.59759326e-04  9.95689578e-01 -9.27467029e-02 -2.38371345e-01\n",
      "  5.82293789e-02  9.26218015e-02  9.93997254e-01 -1.11418276e-01]\n",
      "det: 1.00\n",
      "\n",
      "iteration 43\n",
      "0: 3864087 valid, 7634 out-of-bound voxels after transform.\n"
     ]
    },
    {
     "name": "stdout",
     "output_type": "stream",
     "text": [
      "score: 3.5315279999999976\n",
      "grad: [  27.18016374   -0.69099724 -163.71745867  180.44943148    0.41421831\n",
      "   26.55290246]\n",
      "==========================================\n",
      "[ 1.47500943e-03 -1.90112620e-04 -4.08131318e-03  1.66787588e-05\n",
      "  8.06369453e-08  8.08783373e-06]\n",
      "[0.1 0.1 0.1 0.1 0.1 0.1]\n",
      "[ 1.47500943e-02 -1.90112620e-03 -4.08131318e-02  1.66787588e-04\n",
      "  8.06369453e-07  8.08783373e-05]\n",
      "==========================================\n"
     ]
    },
    {
     "name": "stderr",
     "output_type": "stream",
     "text": [
      "Norm of gradient (translation) = 0.043438\n",
      "Norm of gradient (rotation) = 0.000185\n",
      "around x=5.32; around y=-3.34; around z=-0.03\n",
      "step: 1.68 seconds\n",
      "current score: 3.531528\n",
      "new_T: [ 9.98303082e-01 -4.85222917e-03 -5.80294013e-02  1.66284720e-01\n",
      " -5.52656410e-04  9.95687994e-01 -9.27637508e-02 -2.38558226e-01\n",
      "  5.82292891e-02  9.26384087e-02  9.93995712e-01 -1.15503580e-01]\n",
      "det: 1.00\n",
      "\n",
      "iteration 44\n",
      "0: 3864084 valid, 7637 out-of-bound voxels after transform.\n"
     ]
    },
    {
     "name": "stdout",
     "output_type": "stream",
     "text": [
      "score: 3.5315189999999994\n",
      "grad: [  26.1729601    -0.41313547 -162.11218339  161.09417349    6.34766799\n",
      "   24.2451722 ]\n",
      "==========================================\n",
      "[ 1.42020739e-03 -1.13665020e-04 -4.03799917e-03  1.48897717e-05\n",
      "  1.23571689e-06  7.38491475e-06]\n",
      "[0.1 0.1 0.1 0.1 0.1 0.1]\n",
      "[ 1.42020739e-02 -1.13665020e-03 -4.03799917e-02  1.48897717e-04\n",
      "  1.23571689e-05  7.38491475e-05]\n",
      "==========================================\n"
     ]
    },
    {
     "name": "stderr",
     "output_type": "stream",
     "text": [
      "Norm of gradient (translation) = 0.042820\n",
      "Norm of gradient (rotation) = 0.000167\n",
      "around x=5.33; around y=-3.34; around z=-0.03\n",
      "step: 1.65 seconds\n",
      "current score: 3.531519\n",
      "new_T: [ 9.98303158e-01 -4.85946775e-03 -5.80274879e-02  1.67706545e-01\n",
      " -5.46151038e-04  9.95686579e-01 -9.27789797e-02 -2.38668908e-01\n",
      "  5.82280473e-02  9.26532403e-02  9.93994402e-01 -1.19545339e-01]\n",
      "det: 1.00\n",
      "\n",
      "iteration 45\n",
      "0: 3864077 valid, 7644 out-of-bound voxels after transform.\n"
     ]
    },
    {
     "name": "stdout",
     "output_type": "stream",
     "text": [
      "score: 3.531525999999999\n",
      "grad: [  25.26240253   -0.45666528 -160.56668413  163.36465126   -6.67366683\n",
      "   24.31040269]\n",
      "==========================================\n",
      "[ 1.37066958e-03 -1.25641178e-04 -3.99630786e-03  1.50996295e-05\n",
      " -1.29917992e-06  7.40478349e-06]\n",
      "[0.1 0.1 0.1 0.1 0.1 0.1]\n",
      "[ 1.37066958e-02 -1.25641178e-03 -3.99630786e-02  1.50996295e-04\n",
      " -1.29917992e-05  7.40478349e-05]\n",
      "==========================================\n"
     ]
    },
    {
     "name": "stderr",
     "output_type": "stream",
     "text": [
      "Norm of gradient (translation) = 0.042267\n",
      "Norm of gradient (rotation) = 0.000169\n",
      "around x=5.33; around y=-3.34; around z=-0.03\n",
      "step: 1.78 seconds\n",
      "current score: 3.531526\n",
      "new_T: [ 9.98303087e-01 -4.86696097e-03 -5.80280922e-02  1.69079140e-01\n",
      " -5.39638051e-04  9.95685143e-01 -9.27944183e-02 -2.38791467e-01\n",
      "  5.82293361e-02  9.26682684e-02  9.93992926e-01 -1.23545032e-01]\n",
      "det: 1.00\n",
      "\n",
      "iteration 46\n",
      "0: 3864068 valid, 7653 out-of-bound voxels after transform.\n"
     ]
    },
    {
     "name": "stdout",
     "output_type": "stream",
     "text": [
      "score: 3.5315269999999948\n",
      "grad: [  24.27809358   -0.4819836  -159.11638355  132.52194315    6.39054143\n",
      "   21.53778279]\n",
      "==========================================\n",
      "[ 1.31714937e-03 -1.32606829e-04 -3.95710985e-03  1.22488691e-05\n",
      "  1.24406317e-06  6.56026229e-06]\n",
      "[0.1 0.1 0.1 0.1 0.1 0.1]\n",
      "[ 1.31714937e-02 -1.32606829e-03 -3.95710985e-02  1.22488691e-04\n",
      "  1.24406317e-05  6.56026229e-05]\n",
      "==========================================\n"
     ]
    },
    {
     "name": "stderr",
     "output_type": "stream",
     "text": [
      "Norm of gradient (translation) = 0.041727\n",
      "Norm of gradient (rotation) = 0.000140\n",
      "around x=5.33; around y=-3.34; around z=-0.03\n",
      "step: 1.65 seconds\n",
      "current score: 3.531527\n",
      "new_T: [ 9.98303163e-01 -4.87337763e-03 -5.80262468e-02  1.70397700e-01\n",
      " -5.33802157e-04  9.95683976e-01 -9.28069743e-02 -2.38921422e-01\n",
      "  5.82280876e-02  9.26804705e-02  9.93991861e-01 -1.27505279e-01]\n",
      "det: 1.00\n",
      "\n",
      "iteration 47\n",
      "0: 3864061 valid, 7660 out-of-bound voxels after transform.\n"
     ]
    },
    {
     "name": "stdout",
     "output_type": "stream",
     "text": [
      "score: 3.531527999999998\n",
      "grad: [  23.44992363   -0.46884555 -157.59081608  170.18917012  -10.34867984\n",
      "   21.59249789]\n",
      "==========================================\n",
      "[ 1.27211607e-03 -1.28992084e-04 -3.91616364e-03  1.57304125e-05\n",
      " -2.01460417e-06  6.57692812e-06]\n",
      "[0.1 0.1 0.1 0.1 0.1 0.1]\n",
      "[ 1.27211607e-02 -1.28992084e-03 -3.91616364e-02  1.57304125e-04\n",
      " -2.01460417e-05  6.57692812e-05]\n",
      "==========================================\n"
     ]
    },
    {
     "name": "stderr",
     "output_type": "stream",
     "text": [
      "Norm of gradient (translation) = 0.041196\n",
      "Norm of gradient (rotation) = 0.000172\n",
      "around x=5.33; around y=-3.34; around z=-0.03\n",
      "step: 1.68 seconds\n",
      "current score: 3.531528\n",
      "new_T: [ 9.98303049e-01 -4.88011289e-03 -5.80276389e-02  1.71671649e-01\n",
      " -5.28152357e-04  9.95682486e-01 -9.28229918e-02 -2.39047253e-01\n",
      "  5.82300904e-02  9.26961232e-02  9.93990284e-01 -1.31424858e-01]\n",
      "det: 1.00\n",
      "\n",
      "iteration 48\n",
      "0: 3864054 valid, 7667 out-of-bound voxels after transform.\n"
     ]
    },
    {
     "name": "stdout",
     "output_type": "stream",
     "text": [
      "score: 3.5315190000000025\n",
      "grad: [  22.55503964   -0.41717267 -156.33344465  120.24926233    2.98831546\n",
      "   26.01116866]\n",
      "==========================================\n",
      "[ 1.22347864e-03 -1.14775403e-04 -3.88198935e-03  1.11145174e-05\n",
      "  5.81743073e-07  7.92282519e-06]\n",
      "[0.1 0.1 0.1 0.1 0.1 0.1]\n",
      "[ 1.22347864e-02 -1.14775403e-03 -3.88198935e-02  1.11145174e-04\n",
      "  5.81743073e-06  7.92282519e-05]\n",
      "==========================================\n"
     ]
    },
    {
     "name": "stderr",
     "output_type": "stream",
     "text": [
      "Norm of gradient (translation) = 0.040718\n",
      "Norm of gradient (rotation) = 0.000137\n",
      "around x=5.33; around y=-3.34; around z=-0.03\n",
      "step: 1.74 seconds\n",
      "current score: 3.531519\n",
      "new_T: [ 9.98303087e-01 -4.88794758e-03 -5.80263251e-02  1.72896944e-01\n",
      " -5.20890172e-04  9.95681417e-01 -9.28344993e-02 -2.39159181e-01\n",
      "  5.82295038e-02  9.27071926e-02  9.93989286e-01 -1.35309605e-01]\n",
      "det: 1.00\n",
      "\n",
      "iteration 49\n",
      "0: 3864045 valid, 7676 out-of-bound voxels after transform.\n"
     ]
    },
    {
     "name": "stdout",
     "output_type": "stream",
     "text": [
      "score: 3.531507000000001\n",
      "grad: [  21.72596127   -0.21081585 -154.84979939  139.64317966  -13.61442256\n",
      "   26.10445756]\n",
      "==========================================\n",
      "[ 1.17842417e-03 -5.80010905e-05 -3.84230885e-03  1.29070774e-05\n",
      " -2.65035473e-06  7.95124033e-06]\n",
      "[0.1 0.1 0.1 0.1 0.1 0.1]\n",
      "[ 1.17842417e-02 -5.80010905e-04 -3.84230885e-02  1.29070774e-04\n",
      " -2.65035473e-05  7.95124033e-05]\n",
      "==========================================\n"
     ]
    },
    {
     "name": "stderr",
     "output_type": "stream",
     "text": [
      "Norm of gradient (translation) = 0.040194\n",
      "Norm of gradient (rotation) = 0.000154\n",
      "around x=5.33; around y=-3.34; around z=-0.03\n",
      "step: 1.75 seconds\n",
      "current score: 3.531507\n",
      "new_T: [ 9.98302937e-01 -4.89611020e-03 -5.80282214e-02  1.74077634e-01\n",
      " -5.13704015e-04  9.95680182e-01 -9.28477902e-02 -2.39214032e-01\n",
      "  5.82321430e-02  9.27200309e-02  9.93987934e-01 -1.39154541e-01]\n",
      "det: 1.00\n",
      "\n",
      "iteration 50\n",
      "0: 3864039 valid, 7682 out-of-bound voxels after transform.\n"
     ]
    },
    {
     "name": "stdout",
     "output_type": "stream",
     "text": [
      "score: 3.5315070000000004\n",
      "grad: [  21.01970154   -0.18497026 -153.5251596   104.92333698    0.59740806\n",
      "   28.61402005]\n",
      "==========================================\n",
      "[ 1.14004229e-03 -5.08902701e-05 -3.80667929e-03  9.69795754e-06\n",
      "  1.16298966e-07  8.71563597e-06]\n",
      "[0.1 0.1 0.1 0.1 0.1 0.1]\n",
      "[ 1.14004229e-02 -5.08902701e-04 -3.80667929e-02  9.69795754e-05\n",
      "  1.16298966e-06  8.71563597e-05]\n",
      "==========================================\n"
     ]
    },
    {
     "name": "stderr",
     "output_type": "stream",
     "text": [
      "Norm of gradient (translation) = 0.039741\n",
      "Norm of gradient (rotation) = 0.000130\n",
      "around x=5.33; around y=-3.34; around z=-0.03\n",
      "step: 1.64 seconds\n",
      "current score: 3.531507\n",
      "new_T: [ 9.98302948e-01 -4.90477740e-03 -5.80272965e-02  1.75219745e-01\n",
      " -5.05567902e-04  9.95679240e-01 -9.28579356e-02 -2.39262032e-01\n",
      "  5.82320220e-02  9.27296875e-02  9.93987040e-01 -1.42963561e-01]\n",
      "det: 1.00\n",
      "\n",
      "iteration 51\n",
      "0: 3864033 valid, 7688 out-of-bound voxels after transform.\n"
     ]
    },
    {
     "name": "stdout",
     "output_type": "stream",
     "text": [
      "score: 3.5315020000000015\n",
      "grad: [  20.25205839   -0.37176764 -152.03857428  165.13305855  -21.21825898\n",
      "   18.86137265]\n",
      "==========================================\n",
      "[ 1.09834149e-03 -1.02283177e-04 -3.76714329e-03  1.52630808e-05\n",
      " -4.13061315e-06  5.74504587e-06]\n",
      "[0.1 0.1 0.1 0.1 0.1 0.1]\n",
      "[ 1.09834149e-02 -1.02283177e-03 -3.76714329e-02  1.52630808e-04\n",
      " -4.13061315e-05  5.74504587e-05]\n",
      "==========================================\n"
     ]
    },
    {
     "name": "stderr",
     "output_type": "stream",
     "text": [
      "Norm of gradient (translation) = 0.039253\n",
      "Norm of gradient (rotation) = 0.000168\n",
      "around x=5.33; around y=-3.34; around z=-0.03\n",
      "step: 1.68 seconds\n",
      "current score: 3.531502\n",
      "new_T: [ 9.98302710e-01 -4.91088068e-03 -5.80308687e-02  1.76320059e-01\n",
      " -5.00721438e-04  9.95677796e-01 -9.28734402e-02 -2.39361094e-01\n",
      "  5.82361379e-02  9.27448644e-02  9.93985383e-01 -1.46733631e-01]\n",
      "det: 1.00\n",
      "\n",
      "iteration 52\n",
      "0: 3864024 valid, 7697 out-of-bound voxels after transform.\n"
     ]
    },
    {
     "name": "stdout",
     "output_type": "stream",
     "text": [
      "score: 3.531491\n",
      "grad: [  19.60110915   -0.25156355 -150.97114366   94.2699582    -0.49526286\n",
      "   32.85317314]\n",
      "==========================================\n",
      "[ 1.06297813e-03 -6.92118139e-05 -3.73808058e-03  8.71327641e-06\n",
      " -9.64140975e-08  1.00068531e-05]\n",
      "[0.1 0.1 0.1 0.1 0.1 0.1]\n",
      "[ 1.06297813e-02 -6.92118139e-04 -3.73808058e-02  8.71327641e-05\n",
      " -9.64140975e-07  1.00068531e-04]\n",
      "==========================================\n"
     ]
    },
    {
     "name": "stderr",
     "output_type": "stream",
     "text": [
      "Norm of gradient (translation) = 0.038869\n",
      "Norm of gradient (rotation) = 0.000133\n",
      "around x=5.33; around y=-3.34; around z=-0.03\n",
      "step: 1.63 seconds\n",
      "current score: 3.531491\n",
      "new_T: [ 9.98302710e-01 -4.92085322e-03 -5.80300352e-02  1.77385448e-01\n",
      " -4.91238997e-04  9.95676939e-01 -9.28826818e-02 -2.39427242e-01\n",
      "  5.82362298e-02  9.27535395e-02  9.93984569e-01 -1.50473780e-01]\n",
      "det: 1.00\n",
      "\n",
      "iteration 53\n",
      "0: 3864020 valid, 7701 out-of-bound voxels after transform.\n"
     ]
    },
    {
     "name": "stdout",
     "output_type": "stream",
     "text": [
      "score: 3.531495000000002\n",
      "grad: [ 1.88115309e+01 -1.49949193e-01 -1.49369429e+02  1.57142018e+02\n",
      " -2.46735309e+01  1.87619774e+01]\n",
      "==========================================\n",
      "[ 1.02010582e-03 -4.12550022e-05 -3.69589493e-03  1.45244768e-05\n",
      " -4.80325984e-06  5.71477071e-06]\n",
      "[0.1 0.1 0.1 0.1 0.1 0.1]\n",
      "[ 1.02010582e-02 -4.12550022e-04 -3.69589493e-02  1.45244768e-04\n",
      " -4.80325984e-05  5.71477071e-05]\n",
      "==========================================\n"
     ]
    },
    {
     "name": "stderr",
     "output_type": "stream",
     "text": [
      "Norm of gradient (translation) = 0.038343\n",
      "Norm of gradient (rotation) = 0.000163\n",
      "around x=5.33; around y=-3.34; around z=-0.03\n",
      "step: 1.62 seconds\n",
      "current score: 3.531495\n",
      "new_T: [ 9.98302433e-01 -4.92698883e-03 -5.80342787e-02  1.78407653e-01\n",
      " -4.86379812e-04  9.95675563e-01 -9.28974505e-02 -2.39465267e-01\n",
      "  5.82410178e-02  9.27679776e-02  9.93982941e-01 -1.54172298e-01]\n",
      "det: 1.00\n",
      "\n",
      "iteration 54\n",
      "0: 3864016 valid, 7705 out-of-bound voxels after transform.\n"
     ]
    },
    {
     "name": "stdout",
     "output_type": "stream",
     "text": [
      "score: 3.5314810000000043\n",
      "grad: [  18.08037716   -0.46317643 -148.46336436   73.5463962    16.54649246\n",
      "   32.38035917]\n",
      "==========================================\n",
      "[ 9.80409921e-04 -1.27432023e-04 -3.67099982e-03  6.79781856e-06\n",
      "  3.22114832e-06  9.86283713e-06]\n",
      "[0.1 0.1 0.1 0.1 0.1 0.1]\n",
      "[ 9.80409921e-03 -1.27432023e-03 -3.67099982e-02  6.79781856e-05\n",
      "  3.22114832e-05  9.86283713e-05]\n",
      "==========================================\n"
     ]
    },
    {
     "name": "stderr",
     "output_type": "stream",
     "text": [
      "Norm of gradient (translation) = 0.038018\n",
      "Norm of gradient (rotation) = 0.000124\n",
      "around x=5.33; around y=-3.34; around z=-0.03\n",
      "step: 1.63 seconds\n",
      "current score: 3.531481\n",
      "new_T: [ 9.98302625e-01 -4.93651019e-03 -5.80301606e-02  1.79389923e-01\n",
      " -4.76929618e-04  9.95674884e-01 -9.29047798e-02 -2.39589875e-01\n",
      "  5.82377989e-02  9.27747619e-02  9.93982496e-01 -1.57845503e-01]\n",
      "det: 1.00\n",
      "\n",
      "iteration 55\n",
      "0: 3864014 valid, 7707 out-of-bound voxels after transform.\n"
     ]
    },
    {
     "name": "stdout",
     "output_type": "stream",
     "text": [
      "score: 3.5314920000000023\n",
      "grad: [  17.47917831   -0.29998595 -146.62203318  199.43353277  -29.21329933\n",
      "   29.31202966]\n",
      "==========================================\n",
      "[ 9.47767294e-04 -8.25339991e-05 -3.62308958e-03  1.84334382e-05\n",
      " -5.68702824e-06  8.92824480e-06]\n",
      "[0.1 0.1 0.1 0.1 0.1 0.1]\n",
      "[ 9.47767294e-03 -8.25339991e-04 -3.62308958e-02  1.84334382e-04\n",
      " -5.68702824e-05  8.92824480e-05]\n",
      "==========================================\n"
     ]
    },
    {
     "name": "stderr",
     "output_type": "stream",
     "text": [
      "Norm of gradient (translation) = 0.037459\n",
      "Norm of gradient (rotation) = 0.000213\n",
      "around x=5.33; around y=-3.34; around z=-0.03\n",
      "step: 1.54 seconds\n",
      "current score: 3.531492\n",
      "new_T: [ 9.98302298e-01 -4.94592747e-03 -5.80349839e-02  1.80340738e-01\n",
      " -4.69090104e-04  9.95673129e-01 -9.29236204e-02 -2.39667860e-01\n",
      "  5.82434675e-02  9.27930875e-02  9.93980453e-01 -1.61471986e-01]\n",
      "det: 1.00\n",
      "\n",
      "iteration 56\n",
      "0: 3864008 valid, 7713 out-of-bound voxels after transform.\n"
     ]
    },
    {
     "name": "stdout",
     "output_type": "stream",
     "text": [
      "score: 3.531483000000001\n",
      "grad: [  16.88155806   -0.3535009  -146.01695323   57.03255981   16.20660341\n",
      "   36.24247396]\n",
      "==========================================\n",
      "[ 9.15324397e-04 -9.72573210e-05 -3.60579144e-03  5.27146137e-06\n",
      "  3.15498124e-06  1.10392109e-05]\n",
      "[0.1 0.1 0.1 0.1 0.1 0.1]\n",
      "[ 9.15324397e-03 -9.72573210e-04 -3.60579144e-02  5.27146137e-05\n",
      "  3.15498124e-05  1.10392109e-04]\n",
      "==========================================\n"
     ]
    },
    {
     "name": "stderr",
     "output_type": "stream",
     "text": [
      "Norm of gradient (translation) = 0.037214\n",
      "Norm of gradient (rotation) = 0.000126\n",
      "around x=5.33; around y=-3.34; around z=-0.03\n",
      "step: 1.61 seconds\n",
      "current score: 3.531483\n",
      "new_T: [ 9.98302487e-01 -4.95662615e-03 -5.80308221e-02  1.81258193e-01\n",
      " -4.58376654e-04  9.95672586e-01 -9.29295008e-02 -2.39762260e-01\n",
      "  5.82403154e-02  9.27983517e-02  9.93980146e-01 -1.65079612e-01]\n",
      "det: 1.00\n",
      "\n",
      "iteration 57\n",
      "0: 3864005 valid, 7716 out-of-bound voxels after transform.\n"
     ]
    },
    {
     "name": "stdout",
     "output_type": "stream",
     "text": [
      "score: 3.531476000000001\n",
      "grad: [  16.32124823   -0.23589689 -144.28419244  192.71886396  -24.584346\n",
      "   19.96184403]\n",
      "==========================================\n",
      "[ 8.84909539e-04 -6.49013739e-05 -3.56074261e-03  1.78128079e-05\n",
      " -4.78589796e-06  6.08024183e-06]\n",
      "[0.1 0.1 0.1 0.1 0.1 0.1]\n",
      "[ 8.84909539e-03 -6.49013739e-04 -3.56074261e-02  1.78128079e-04\n",
      " -4.78589796e-05  6.08024183e-05]\n",
      "==========================================\n"
     ]
    },
    {
     "name": "stderr",
     "output_type": "stream",
     "text": [
      "Norm of gradient (translation) = 0.036696\n",
      "Norm of gradient (rotation) = 0.000194\n",
      "around x=5.33; around y=-3.34; around z=-0.03\n",
      "step: 1.76 seconds\n",
      "current score: 3.531476\n",
      "new_T: [ 9.98302211e-01 -4.96312424e-03 -5.80350141e-02  1.82145360e-01\n",
      " -4.53344200e-04  9.95670902e-01 -9.29475592e-02 -2.39823085e-01\n",
      "  5.82450851e-02  9.28160637e-02  9.93978213e-01 -1.68643756e-01]\n",
      "det: 1.00\n",
      "\n",
      "iteration 58\n",
      "0: 3864001 valid, 7720 out-of-bound voxels after transform.\n"
     ]
    },
    {
     "name": "stdout",
     "output_type": "stream",
     "text": [
      "score: 3.531514000000002\n",
      "grad: [  15.73324513   -0.34896374 -143.65169197   69.53459764   18.21602082\n",
      "   41.27416843]\n",
      "==========================================\n",
      "[ 8.52998005e-04 -9.60089640e-05 -3.54290767e-03  6.42701186e-06\n",
      "  3.54615970e-06  1.25718307e-05]\n",
      "[0.1 0.1 0.1 0.1 0.1 0.1]\n",
      "[ 8.52998005e-03 -9.60089640e-04 -3.54290767e-02  6.42701186e-05\n",
      "  3.54615970e-05  1.25718307e-04]\n",
      "==========================================\n"
     ]
    },
    {
     "name": "stderr",
     "output_type": "stream",
     "text": [
      "Norm of gradient (translation) = 0.036454\n",
      "Norm of gradient (rotation) = 0.000146\n",
      "around x=5.34; around y=-3.34; around z=-0.03\n",
      "step: 1.61 seconds\n",
      "current score: 3.531514\n",
      "new_T: [ 9.98302423e-01 -4.97531249e-03 -5.80303207e-02  1.83000769e-01\n",
      " -4.41168043e-04  9.95670243e-01 -9.29546771e-02 -2.39915703e-01\n",
      "  5.82415421e-02  9.28224805e-02  9.93977822e-01 -1.72188853e-01]\n",
      "det: 1.00\n",
      "\n",
      "iteration 59\n",
      "0: 3863998 valid, 7723 out-of-bound voxels after transform.\n"
     ]
    },
    {
     "name": "stdout",
     "output_type": "stream",
     "text": [
      "score: 3.5315300000000014\n",
      "grad: [  15.28245908   -0.27424014 -141.9461934   188.52919376  -22.52188301\n",
      "   15.74723393]\n",
      "==========================================\n",
      "[ 8.28529624e-04 -7.54505441e-05 -3.49870132e-03  1.74255606e-05\n",
      " -4.38439297e-06  4.79650023e-06]\n",
      "[0.1 0.1 0.1 0.1 0.1 0.1]\n",
      "[ 8.28529624e-03 -7.54505441e-04 -3.49870132e-02  1.74255606e-04\n",
      " -4.38439297e-05  4.79650023e-05]\n",
      "==========================================\n"
     ]
    },
    {
     "name": "stderr",
     "output_type": "stream",
     "text": [
      "Norm of gradient (translation) = 0.035963\n",
      "Norm of gradient (rotation) = 0.000186\n",
      "around x=5.34; around y=-3.34; around z=-0.03\n",
      "step: 1.61 seconds\n",
      "current score: 3.531530\n",
      "new_T: [ 9.98302170e-01 -4.98049522e-03 -5.80342328e-02  1.83831212e-01\n",
      " -4.37394615e-04  9.95668602e-01 -9.29722761e-02 -2.39987243e-01\n",
      "  5.82459114e-02  9.28398088e-02  9.93975947e-01 -1.75690932e-01]\n",
      "det: 1.00\n",
      "\n",
      "iteration 60\n",
      "0: 3863991 valid, 7730 out-of-bound voxels after transform.\n"
     ]
    },
    {
     "name": "stdout",
     "output_type": "stream",
     "text": [
      "score: 3.5315140000000023\n",
      "grad: [  14.84668529   -0.63182968 -141.44535387   70.67952979    3.0554986\n",
      "   35.57127076]\n",
      "==========================================\n",
      "[ 8.04878329e-04 -1.73832400e-04 -3.48423974e-03  6.53283666e-06\n",
      "  5.94821782e-07  1.08347668e-05]\n",
      "[0.1 0.1 0.1 0.1 0.1 0.1]\n",
      "[ 8.04878329e-03 -1.73832400e-03 -3.48423974e-02  6.53283666e-05\n",
      "  5.94821782e-06  1.08347668e-04]\n",
      "==========================================\n"
     ]
    },
    {
     "name": "stderr",
     "output_type": "stream",
     "text": [
      "Norm of gradient (translation) = 0.035802\n",
      "Norm of gradient (rotation) = 0.000127\n",
      "around x=5.34; around y=-3.34; around z=-0.02\n",
      "step: 1.65 seconds\n",
      "current score: 3.531514\n",
      "new_T: [ 9.98302209e-01 -4.99122783e-03 -5.80326342e-02  1.84638586e-01\n",
      " -4.26958753e-04  9.95667941e-01 -9.29793983e-02 -2.40157920e-01\n",
      "  5.82453147e-02  9.28463163e-02  9.93975374e-01 -1.79176849e-01]\n",
      "det: 1.00\n",
      "\n",
      "iteration 61\n",
      "0: 3863988 valid, 7733 out-of-bound voxels after transform.\n"
     ]
    },
    {
     "name": "stdout",
     "output_type": "stream",
     "text": [
      "score: 3.5314860000000006\n",
      "grad: [  14.43894142   -0.35436797 -139.88549525  176.637398     -4.10131097\n",
      "   23.27598888]\n",
      "==========================================\n",
      "[ 7.82749468e-04 -9.74955874e-05 -3.44377166e-03  1.63264138e-05\n",
      " -7.98412770e-07  7.08970767e-06]\n",
      "[0.1 0.1 0.1 0.1 0.1 0.1]\n",
      "[ 7.82749468e-03 -9.74955874e-04 -3.44377166e-02  1.63264138e-04\n",
      " -7.98412770e-06  7.08970767e-05]\n",
      "==========================================\n"
     ]
    },
    {
     "name": "stderr",
     "output_type": "stream",
     "text": [
      "Norm of gradient (translation) = 0.035330\n",
      "Norm of gradient (rotation) = 0.000178\n",
      "around x=5.34; around y=-3.34; around z=-0.02\n",
      "step: 1.60 seconds\n",
      "current score: 3.531486\n",
      "new_T: [ 9.98302166e-01 -4.99836096e-03 -5.80327685e-02  1.85423183e-01\n",
      " -4.20832026e-04  9.95666390e-01 -9.29960378e-02 -2.40251150e-01\n",
      "  5.82461049e-02  9.28625680e-02  9.93973810e-01 -1.82624395e-01]\n",
      "det: 1.00\n",
      "\n",
      "iteration 62\n",
      "0: 3863985 valid, 7736 out-of-bound voxels after transform.\n"
     ]
    },
    {
     "name": "stdout",
     "output_type": "stream",
     "text": [
      "score: 3.531452000000001\n",
      "grad: [  14.0058955    -0.698897   -139.15451425   90.08824152   13.47926682\n",
      "   30.90069294]\n",
      "==========================================\n",
      "[ 7.59251730e-04 -1.92283879e-04 -3.42376754e-03  8.32676390e-06\n",
      "  2.62404359e-06  9.41214055e-06]\n",
      "[0.1 0.1 0.1 0.1 0.1 0.1]\n",
      "[ 7.59251730e-03 -1.92283879e-03 -3.42376754e-02  8.32676390e-05\n",
      "  2.62404359e-05  9.41214055e-05]\n",
      "==========================================\n"
     ]
    },
    {
     "name": "stderr",
     "output_type": "stream",
     "text": [
      "Norm of gradient (translation) = 0.035122\n",
      "Norm of gradient (rotation) = 0.000128\n",
      "around x=5.34; around y=-3.34; around z=-0.02\n",
      "step: 1.64 seconds\n",
      "current score: 3.531452\n",
      "new_T: [ 9.98302323e-01 -5.00748862e-03 -5.80292849e-02  1.86184213e-01\n",
      " -4.11920855e-04  9.95665569e-01 -9.30048606e-02 -2.40440150e-01\n",
      "  5.82434818e-02  9.28708718e-02  9.93973188e-01 -1.86050651e-01]\n",
      "det: 1.00\n",
      "\n",
      "iteration 63\n",
      "0: 3863979 valid, 7742 out-of-bound voxels after transform.\n"
     ]
    },
    {
     "name": "stdout",
     "output_type": "stream",
     "text": [
      "score: 3.5314469999999987\n",
      "grad: [  13.72484672   -0.4855324  -137.76815939  169.91432905   -4.4963125\n",
      "   17.37866801]\n",
      "==========================================\n",
      "[ 7.43995641e-04 -1.33581872e-04 -3.38771192e-03  1.57050072e-05\n",
      " -8.75308735e-07  5.29342387e-06]\n",
      "[0.1 0.1 0.1 0.1 0.1 0.1]\n",
      "[ 7.43995641e-03 -1.33581872e-03 -3.38771192e-02  1.57050072e-04\n",
      " -8.75308735e-06  5.29342387e-05]\n",
      "==========================================\n"
     ]
    },
    {
     "name": "stderr",
     "output_type": "stream",
     "text": [
      "Norm of gradient (translation) = 0.034710\n",
      "Norm of gradient (rotation) = 0.000166\n",
      "around x=5.34; around y=-3.34; around z=-0.02\n",
      "step: 1.71 seconds\n",
      "current score: 3.531447\n",
      "new_T: [ 9.98302274e-01 -5.01284039e-03 -5.80296626e-02  1.86929646e-01\n",
      " -4.07551139e-04  9.95664084e-01 -9.30207781e-02 -2.40569796e-01\n",
      "  5.82443492e-02  9.28865043e-02  9.93971676e-01 -1.89441977e-01]\n",
      "det: 1.00\n",
      "\n",
      "iteration 64\n",
      "0: 3863967 valid, 7754 out-of-bound voxels after transform.\n"
     ]
    },
    {
     "name": "stdout",
     "output_type": "stream",
     "text": [
      "score: 3.5314380000000027\n",
      "grad: [  13.24548846   -0.62782067 -137.20704764   82.94442785    7.21353376\n",
      "   35.15327108]\n",
      "==========================================\n",
      "[ 7.17992111e-04 -1.72728607e-04 -3.37199553e-03  7.66646840e-06\n",
      "  1.40427720e-06  1.07074468e-05]\n",
      "[0.1 0.1 0.1 0.1 0.1 0.1]\n",
      "[ 7.17992111e-03 -1.72728607e-03 -3.37199553e-02  7.66646840e-05\n",
      "  1.40427720e-05  1.07074468e-04]\n",
      "==========================================\n"
     ]
    },
    {
     "name": "stderr",
     "output_type": "stream",
     "text": [
      "Norm of gradient (translation) = 0.034519\n",
      "Norm of gradient (rotation) = 0.000132\n",
      "around x=5.34; around y=-3.34; around z=-0.02\n",
      "step: 1.63 seconds\n",
      "current score: 3.531438\n",
      "new_T: [ 9.98302360e-01 -5.02337097e-03 -5.80272708e-02  1.87649947e-01\n",
      " -3.97308393e-04  9.95663318e-01 -9.30290197e-02 -2.40739054e-01\n",
      "  5.82429442e-02  9.28941446e-02  9.93971045e-01 -1.92816080e-01]\n",
      "det: 1.00\n",
      "\n",
      "iteration 65\n",
      "0: 3863963 valid, 7758 out-of-bound voxels after transform.\n"
     ]
    },
    {
     "name": "stdout",
     "output_type": "stream",
     "text": [
      "score: 3.531451000000003\n",
      "grad: [  13.10928863   -0.40645039 -135.78777087  160.22350323   16.31174147\n",
      "    5.8414849 ]\n",
      "==========================================\n",
      "[ 7.10591249e-04 -1.11824234e-04 -3.33525883e-03  1.48092939e-05\n",
      "  3.17544872e-06  1.77927649e-06]\n",
      "[0.1 0.1 0.1 0.1 0.1 0.1]\n",
      "[ 7.10591249e-03 -1.11824234e-03 -3.33525883e-02  1.48092939e-04\n",
      "  3.17544872e-05  1.77927649e-05]\n",
      "==========================================\n"
     ]
    },
    {
     "name": "stderr",
     "output_type": "stream",
     "text": [
      "Norm of gradient (translation) = 0.034119\n",
      "Norm of gradient (rotation) = 0.000153\n",
      "around x=5.34; around y=-3.34; around z=-0.02\n",
      "step: 1.72 seconds\n",
      "current score: 3.531451\n",
      "new_T: [ 9.98302545e-01 -5.02484752e-03 -5.80239489e-02  1.88360349e-01\n",
      " -3.96394651e-04  9.95661934e-01 -9.30438429e-02 -2.40847664e-01\n",
      "  5.82397683e-02  9.29089056e-02  9.93969851e-01 -1.96155502e-01]\n",
      "det: 1.00\n",
      "\n",
      "iteration 66\n",
      "0: 3863954 valid, 7767 out-of-bound voxels after transform.\n"
     ]
    },
    {
     "name": "stdout",
     "output_type": "stream",
     "text": [
      "score: 3.531451000000001\n",
      "grad: [  12.62700081   -0.42050242 -135.21352535   94.74895072  -13.08513802\n",
      "   38.67573994]\n",
      "==========================================\n",
      "[ 6.84432722e-04 -1.15690208e-04 -3.31932393e-03  8.75754821e-06\n",
      " -2.54731752e-06  1.17803667e-05]\n",
      "[0.1 0.1 0.1 0.1 0.1 0.1]\n",
      "[ 6.84432722e-03 -1.15690208e-03 -3.31932393e-02  8.75754821e-05\n",
      " -2.54731752e-05  1.17803667e-04]\n",
      "==========================================\n"
     ]
    },
    {
     "name": "stderr",
     "output_type": "stream",
     "text": [
      "Norm of gradient (translation) = 0.033911\n",
      "Norm of gradient (rotation) = 0.000149\n",
      "around x=5.34; around y=-3.34; around z=-0.02\n",
      "step: 1.69 seconds\n",
      "current score: 3.531451\n",
      "new_T: [ 9.98302402e-01 -5.03681346e-03 -5.80253847e-02  1.89048123e-01\n",
      " -3.85144330e-04  9.95661061e-01 -9.30532312e-02 -2.40959398e-01\n",
      "  5.82423079e-02  9.29176123e-02  9.93968888e-01 -1.99476455e-01]\n",
      "det: 1.00\n",
      "\n",
      "iteration 67\n",
      "0: 3863949 valid, 7772 out-of-bound voxels after transform.\n"
     ]
    },
    {
     "name": "stdout",
     "output_type": "stream",
     "text": [
      "score: 3.531458000000001\n",
      "grad: [  12.33300495   -0.2396248  -133.80297309  169.0055576    17.50990784\n",
      "    7.84725451]\n",
      "==========================================\n",
      "[ 6.68482063e-04 -6.59264610e-05 -3.28292609e-03  1.56210099e-05\n",
      "  3.40869885e-06  2.39022023e-06]\n",
      "[0.1 0.1 0.1 0.1 0.1 0.1]\n",
      "[ 6.68482063e-03 -6.59264610e-04 -3.28292609e-02  1.56210099e-04\n",
      "  3.40869885e-05  2.39022023e-05]\n",
      "==========================================\n"
     ]
    },
    {
     "name": "stderr",
     "output_type": "stream",
     "text": [
      "Norm of gradient (translation) = 0.033509\n",
      "Norm of gradient (rotation) = 0.000162\n",
      "around x=5.34; around y=-3.34; around z=-0.02\n",
      "step: 1.73 seconds\n",
      "current score: 3.531458\n",
      "new_T: [ 9.98302601e-01 -5.03887655e-03 -5.80217741e-02  1.89716496e-01\n",
      " -3.83667944e-04  9.95659597e-01 -9.30688967e-02 -2.41021731e-01\n",
      "  5.82388990e-02  9.29331827e-02  9.93967632e-01 -2.02763791e-01]\n",
      "det: 1.00\n",
      "\n",
      "iteration 68\n",
      "0: 3863937 valid, 7784 out-of-bound voxels after transform.\n"
     ]
    },
    {
     "name": "stdout",
     "output_type": "stream",
     "text": [
      "score: 3.5314600000000023\n",
      "grad: [  11.97072303   -0.29007125 -133.34358686   95.55304778    3.34705371\n",
      "    9.14018536]\n",
      "==========================================\n",
      "[ 6.48831750e-04 -7.98054498e-05 -3.26990527e-03  8.83186994e-06\n",
      "  6.51579565e-07  2.78403815e-06]\n",
      "[0.1 0.1 0.1 0.1 0.1 0.1]\n",
      "[ 6.48831750e-03 -7.98054498e-04 -3.26990527e-02  8.83186994e-05\n",
      "  6.51579565e-06  2.78403815e-05]\n",
      "==========================================\n"
     ]
    },
    {
     "name": "stderr",
     "output_type": "stream",
     "text": [
      "Norm of gradient (translation) = 0.033346\n",
      "Norm of gradient (rotation) = 0.000093\n",
      "around x=5.34; around y=-3.34; around z=-0.02\n",
      "step: 1.90 seconds\n",
      "current score: 3.531460\n",
      "new_T: [ 9.98302640e-01 -5.04158795e-03 -5.80208674e-02  1.90365865e-01\n",
      " -3.81402987e-04  9.95658762e-01 -9.30778368e-02 -2.41099202e-01\n",
      "  5.82382451e-02  9.29419796e-02  9.93966848e-01 -2.06035950e-01]\n",
      "det: 1.00\n",
      "\n",
      "iteration 69\n",
      "0: 3863931 valid, 7790 out-of-bound voxels after transform.\n"
     ]
    },
    {
     "name": "stdout",
     "output_type": "stream",
     "text": [
      "score: 3.531479000000002\n",
      "grad: [ 1.13896907e+01 -6.80158138e-02 -1.31752661e+02  1.77394951e+02\n",
      "  1.51977862e+01  2.51782551e+01]\n",
      "==========================================\n",
      "[ 6.17327133e-04 -1.87127560e-05 -3.22920695e-03  1.63964326e-05\n",
      "  2.95859217e-06  7.66912484e-06]\n",
      "[0.1 0.1 0.1 0.1 0.1 0.1]\n",
      "[ 6.17327133e-03 -1.87127560e-04 -3.22920695e-02  1.63964326e-04\n",
      "  2.95859217e-05  7.66912484e-05]\n",
      "==========================================\n"
     ]
    },
    {
     "name": "stderr",
     "output_type": "stream",
     "text": [
      "Norm of gradient (translation) = 0.032877\n",
      "Norm of gradient (rotation) = 0.000183\n",
      "around x=5.34; around y=-3.34; around z=-0.02\n",
      "step: 1.90 seconds\n",
      "current score: 3.531479\n",
      "new_T: [ 9.98302815e-01 -5.04894877e-03 -5.80172127e-02  1.90984427e-01\n",
      " -3.74701754e-04  9.95657199e-01 -9.30945793e-02 -2.41113047e-01\n",
      "  5.82352853e-02  9.29583197e-02  9.93965494e-01 -2.09269674e-01]\n",
      "det: 1.00\n",
      "\n",
      "iteration 70\n",
      "0: 3863927 valid, 7794 out-of-bound voxels after transform.\n"
     ]
    },
    {
     "name": "stdout",
     "output_type": "stream",
     "text": [
      "score: 3.5314640000000033\n",
      "grad: [  11.22156316   -0.47939152 -131.22211003  117.79403049   14.09130108\n",
      "    7.12413555]\n",
      "==========================================\n",
      "[ 6.08203284e-04 -1.31891808e-04 -3.21454122e-03  1.08875809e-05\n",
      "  2.74318987e-06  2.16996311e-06]\n",
      "[0.1 0.1 0.1 0.1 0.1 0.1]\n",
      "[ 6.08203284e-03 -1.31891808e-03 -3.21454122e-02  1.08875809e-04\n",
      "  2.74318987e-05  2.16996311e-05]\n",
      "==========================================\n"
     ]
    },
    {
     "name": "stderr",
     "output_type": "stream",
     "text": [
      "Norm of gradient (translation) = 0.032742\n",
      "Norm of gradient (rotation) = 0.000114\n",
      "around x=5.34; around y=-3.34; around z=-0.02\n",
      "step: 1.77 seconds\n",
      "current score: 3.531464\n",
      "new_T: [ 9.98302976e-01 -5.05085429e-03 -5.80142841e-02  1.91592575e-01\n",
      " -3.73169500e-04  9.95656176e-01 -9.31055270e-02 -2.41242228e-01\n",
      "  5.82325427e-02  9.29691739e-02  9.93964639e-01 -2.12487366e-01]\n",
      "det: 1.00\n",
      "\n",
      "iteration 71\n",
      "0: 3863925 valid, 7796 out-of-bound voxels after transform.\n"
     ]
    },
    {
     "name": "stdout",
     "output_type": "stream",
     "text": [
      "score: 3.531464000000002\n",
      "grad: [  10.78821295   -0.21520227 -129.95472711  136.81226701   10.97907019\n",
      "   14.1667251 ]\n",
      "==========================================\n",
      "[ 5.84705918e-04 -5.92071635e-05 -3.18188226e-03  1.26454168e-05\n",
      "  2.13732387e-06  4.31508787e-06]\n",
      "[0.1 0.1 0.1 0.1 0.1 0.1]\n",
      "[ 5.84705918e-03 -5.92071635e-04 -3.18188226e-02  1.26454168e-04\n",
      "  2.13732387e-05  4.31508787e-05]\n",
      "==========================================\n"
     ]
    },
    {
     "name": "stderr",
     "output_type": "stream",
     "text": [
      "Norm of gradient (translation) = 0.032357\n",
      "Norm of gradient (rotation) = 0.000135\n",
      "around x=5.34; around y=-3.34; around z=-0.02\n",
      "step: 1.92 seconds\n",
      "current score: 3.531464\n",
      "new_T: [ 9.98303102e-01 -5.05495192e-03 -5.80117579e-02  1.92177865e-01\n",
      " -3.69598096e-04  9.95654979e-01 -9.31183464e-02 -2.41297900e-01\n",
      "  5.82304043e-02  9.29817751e-02  9.93963586e-01 -2.15672709e-01]\n",
      "det: 1.00\n",
      "\n",
      "iteration 72\n",
      "0: 3863923 valid, 7798 out-of-bound voxels after transform.\n"
     ]
    },
    {
     "name": "stdout",
     "output_type": "stream",
     "text": [
      "score: 3.531472\n",
      "grad: [  10.60110253   -0.20406091 -128.86324465  152.47507524   -4.7012952\n",
      "   11.22550154]\n",
      "==========================================\n",
      "[ 5.74555313e-04 -5.61419067e-05 -3.15358850e-03  1.40931139e-05\n",
      " -9.15213242e-07  3.41921122e-06]\n",
      "[0.1 0.1 0.1 0.1 0.1 0.1]\n",
      "[ 5.74555313e-03 -5.61419067e-04 -3.15358850e-02  1.40931139e-04\n",
      " -9.15213242e-06  3.41921122e-05]\n",
      "==========================================\n"
     ]
    },
    {
     "name": "stderr",
     "output_type": "stream",
     "text": [
      "Norm of gradient (translation) = 0.032060\n",
      "Norm of gradient (rotation) = 0.000145\n",
      "around x=5.35; around y=-3.34; around z=-0.02\n",
      "step: 1.79 seconds\n",
      "current score: 3.531472\n",
      "new_T: [ 9.98303050e-01 -5.05844137e-03 -5.80123492e-02  1.92753444e-01\n",
      " -3.67005341e-04  9.95653651e-01 -9.31325528e-02 -2.41350322e-01\n",
      "  5.82313128e-02  9.29958024e-02  9.93962220e-01 -2.18829522e-01]\n",
      "det: 1.00\n",
      "\n",
      "iteration 73\n",
      "0: 3863918 valid, 7803 out-of-bound voxels after transform.\n"
     ]
    },
    {
     "name": "stdout",
     "output_type": "stream",
     "text": [
      "score: 3.531491\n",
      "grad: [ 1.00682741e+01 -1.21787965e-01 -1.28243543e+02  9.50596932e+01\n",
      "  2.33193898e+01  1.30350499e+01]\n",
      "==========================================\n",
      "[ 5.45669116e-04 -3.35067021e-05 -3.13687844e-03  8.78626931e-06\n",
      "  4.53964565e-06  3.97038730e-06]\n",
      "[0.1 0.1 0.1 0.1 0.1 0.1]\n",
      "[ 5.45669116e-03 -3.35067021e-04 -3.13687844e-02  8.78626931e-05\n",
      "  4.53964565e-05  3.97038730e-05]\n",
      "==========================================\n"
     ]
    },
    {
     "name": "stderr",
     "output_type": "stream",
     "text": [
      "Norm of gradient (translation) = 0.031842\n",
      "Norm of gradient (rotation) = 0.000107\n",
      "around x=5.35; around y=-3.34; around z=-0.02\n",
      "step: 1.77 seconds\n",
      "current score: 3.531491\n",
      "new_T: [ 9.98303316e-01 -5.06197231e-03 -5.80074671e-02  1.93299071e-01\n",
      " -3.63553307e-04  9.95652814e-01 -9.31415164e-02 -2.41381126e-01\n",
      "  5.82267776e-02  9.30045734e-02  9.93961665e-01 -2.21969398e-01]\n",
      "det: 1.00\n",
      "\n",
      "iteration 74\n",
      "0: 3863915 valid, 7806 out-of-bound voxels after transform.\n"
     ]
    },
    {
     "name": "stdout",
     "output_type": "stream",
     "text": [
      "score: 3.531474000000001\n",
      "grad: [ 9.88861442e+00 -9.98359323e-02 -1.26750735e+02  1.92386536e+02\n",
      "  2.83439159e-02  6.82497585e+00]\n",
      "==========================================\n",
      "[ 5.35924425e-04 -2.74671862e-05 -3.09887488e-03  1.77820887e-05\n",
      "  5.51778310e-09  2.07884110e-06]\n",
      "[0.1 0.1 0.1 0.1 0.1 0.1]\n",
      "[ 5.35924425e-03 -2.74671862e-04 -3.09887488e-02  1.77820887e-04\n",
      "  5.51778310e-08  2.07884110e-05]\n",
      "==========================================\n"
     ]
    },
    {
     "name": "stderr",
     "output_type": "stream",
     "text": [
      "Norm of gradient (translation) = 0.031450\n",
      "Norm of gradient (rotation) = 0.000179\n",
      "around x=5.35; around y=-3.34; around z=-0.02\n",
      "step: 1.88 seconds\n",
      "current score: 3.531474\n",
      "new_T: [ 9.98303317e-01 -5.06404160e-03 -5.80072680e-02  1.93835496e-01\n",
      " -3.62513386e-04  9.95651149e-01 -9.31593117e-02 -2.41404216e-01\n",
      "  5.82267657e-02  9.30222782e-02  9.93960009e-01 -2.25072566e-01]\n",
      "det: 1.00\n",
      "\n",
      "iteration 75\n",
      "0: 3863914 valid, 7807 out-of-bound voxels after transform.\n"
     ]
    },
    {
     "name": "stdout",
     "output_type": "stream",
     "text": [
      "score: 3.5314569999999996\n",
      "grad: [   9.47822946   -0.16980892 -126.16415763  106.45808595   48.72604734\n",
      "    2.96072912]\n",
      "==========================================\n",
      "[ 5.13676380e-04 -4.67183781e-05 -3.08306758e-03  9.83981079e-06\n",
      "  9.48562506e-06  9.01817901e-07]\n",
      "[0.1 0.1 0.1 0.1 0.1 0.1]\n",
      "[ 5.13676380e-03 -4.67183781e-04 -3.08306758e-02  9.83981079e-05\n",
      "  9.48562506e-05  9.01817901e-06]\n",
      "==========================================\n"
     ]
    },
    {
     "name": "stderr",
     "output_type": "stream",
     "text": [
      "Norm of gradient (translation) = 0.031259\n",
      "Norm of gradient (rotation) = 0.000137\n",
      "around x=5.35; around y=-3.34; around z=-0.02\n",
      "step: 1.86 seconds\n",
      "current score: 3.531457\n",
      "new_T: [ 9.98303869e-01 -5.06405708e-03 -5.79977557e-02  1.94347241e-01\n",
      " -3.62185992e-04  9.95650229e-01 -9.31691443e-02 -2.41448530e-01\n",
      "  5.82172926e-02  9.30321233e-02  9.93959642e-01 -2.28159850e-01]\n",
      "det: 1.00\n",
      "\n",
      "iteration 76\n",
      "0: 3863910 valid, 7811 out-of-bound voxels after transform.\n"
     ]
    },
    {
     "name": "stdout",
     "output_type": "stream",
     "text": [
      "score: 3.531433000000001\n",
      "grad: [ 9.16726732e+00 -1.07272387e-01 -1.24799830e+02  2.06244580e+02\n",
      " -6.34475517e+00  8.77070445e+00]\n",
      "==========================================\n",
      "[ 4.96817533e-04 -2.95131232e-05 -3.04831030e-03  1.90629729e-05\n",
      " -1.23514982e-06  2.67149677e-06]\n",
      "[0.1 0.1 0.1 0.1 0.1 0.1]\n",
      "[ 4.96817533e-03 -2.95131232e-04 -3.04831030e-02  1.90629729e-04\n",
      " -1.23514982e-05  2.67149677e-05]\n",
      "==========================================\n"
     ]
    },
    {
     "name": "stderr",
     "output_type": "stream",
     "text": [
      "Norm of gradient (translation) = 0.030887\n",
      "Norm of gradient (rotation) = 0.000193\n",
      "around x=5.35; around y=-3.34; around z=-0.02\n",
      "step: 1.84 seconds\n",
      "current score: 3.531433\n",
      "new_T: [ 9.98303798e-01 -5.06683187e-03 -5.79987344e-02  1.94844987e-01\n",
      " -3.60628833e-04  9.95648442e-01 -9.31882471e-02 -2.41473144e-01\n",
      "  5.82185188e-02  9.30510971e-02  9.93957795e-01 -2.31212523e-01]\n",
      "det: 1.00\n",
      "\n",
      "iteration 77\n",
      "0: 3863909 valid, 7812 out-of-bound voxels after transform.\n"
     ]
    },
    {
     "name": "stdout",
     "output_type": "stream",
     "text": [
      "score: 3.5314200000000042\n",
      "grad: [ 8.95919406e+00 -3.93334627e-02 -1.24053483e+02  1.52915911e+02\n",
      "  4.31120034e+01  3.73139560e+00]\n",
      "==========================================\n",
      "[ 4.85535337e-04 -1.08215484e-05 -3.02869027e-03  1.41338592e-05\n",
      "  8.39272464e-06  1.13655766e-06]\n",
      "[0.1 0.1 0.1 0.1 0.1 0.1]\n",
      "[ 4.85535337e-03 -1.08215484e-04 -3.02869027e-02  1.41338592e-04\n",
      "  8.39272464e-05  1.13655766e-05]\n",
      "==========================================\n"
     ]
    },
    {
     "name": "stderr",
     "output_type": "stream",
     "text": [
      "Norm of gradient (translation) = 0.030674\n",
      "Norm of gradient (rotation) = 0.000165\n",
      "around x=5.35; around y=-3.34; around z=-0.02\n",
      "step: 1.81 seconds\n",
      "current score: 3.531420\n",
      "new_T: [ 9.98304287e-01 -5.06718247e-03 -5.79902865e-02  1.95328843e-01\n",
      " -3.60316996e-04  9.95647121e-01 -9.32023615e-02 -2.41480455e-01\n",
      "  5.82101352e-02  9.30652119e-02  9.93956964e-01 -2.34246264e-01]\n",
      "det: 1.00\n",
      "\n",
      "iteration 78\n",
      "0: 3863906 valid, 7815 out-of-bound voxels after transform.\n"
     ]
    },
    {
     "name": "stdout",
     "output_type": "stream",
     "text": [
      "score: 3.531406000000005\n",
      "grad: [ 8.44668257e+00 -1.53582454e-01 -1.23020118e+02  1.74642139e+02\n",
      "  3.75809284e+01  1.14918982e+01]\n",
      "==========================================\n",
      "[ 4.57755449e-04 -4.22540934e-05 -3.00210753e-03  1.61419917e-05\n",
      "  7.31597603e-06  3.50035382e-06]\n",
      "[0.1 0.1 0.1 0.1 0.1 0.1]\n",
      "[ 4.57755449e-03 -4.22540934e-04 -3.00210753e-02  1.61419917e-04\n",
      "  7.31597603e-05  3.50035382e-05]\n",
      "==========================================\n"
     ]
    },
    {
     "name": "stderr",
     "output_type": "stream",
     "text": [
      "Norm of gradient (translation) = 0.030371\n",
      "Norm of gradient (rotation) = 0.000181\n",
      "around x=5.35; around y=-3.34; around z=-0.02\n",
      "step: 1.94 seconds\n",
      "current score: 3.531406\n",
      "new_T: [ 9.98304715e-01 -5.06998666e-03 -5.79826884e-02  1.95785720e-01\n",
      " -3.57762146e-04  9.95645601e-01 -9.32186089e-02 -2.41518219e-01\n",
      "  5.82028258e-02  9.30813207e-02  9.93955884e-01 -2.37253700e-01]\n",
      "det: 1.00\n",
      "\n",
      "iteration 79\n",
      "0: 3863901 valid, 7820 out-of-bound voxels after transform.\n"
     ]
    },
    {
     "name": "stdout",
     "output_type": "stream",
     "text": [
      "score: 3.531415000000002\n",
      "grad: [ 8.37984240e+00  1.99270248e-02 -1.22013490e+02  1.95788633e+02\n",
      "  1.18500674e+01 -7.96963561e+00]\n",
      "==========================================\n",
      "[ 4.54128462e-04  5.48238648e-06 -2.97622336e-03  1.80965398e-05\n",
      "  2.30688311e-06 -2.42749666e-06]\n",
      "[0.1 0.1 0.1 0.1 0.1 0.1]\n",
      "[ 4.54128462e-03  5.48238648e-05 -2.97622336e-02  1.80965398e-04\n",
      "  2.30688311e-05 -2.42749666e-05]\n",
      "==========================================\n"
     ]
    },
    {
     "name": "stderr",
     "output_type": "stream",
     "text": [
      "Norm of gradient (translation) = 0.030107\n",
      "Norm of gradient (rotation) = 0.000184\n",
      "around x=5.35; around y=-3.34; around z=-0.02\n",
      "step: 1.90 seconds\n",
      "current score: 3.531415\n",
      "new_T: [ 9.98304848e-01 -5.06735499e-03 -5.79806218e-02  1.96238711e-01\n",
      " -3.61238776e-04  9.95643929e-01 -9.32364553e-02 -2.41508892e-01\n",
      "  5.82005163e-02  9.30993501e-02  9.93954330e-01 -2.40234747e-01]\n",
      "det: 1.00\n",
      "\n",
      "iteration 80\n",
      "0: 3863901 valid, 7820 out-of-bound voxels after transform.\n"
     ]
    },
    {
     "name": "stdout",
     "output_type": "stream",
     "text": [
      "score: 3.5314120000000018\n",
      "grad: [ 7.93810344e+00 -7.24871755e-02 -1.21172535e+02  1.76948691e+02\n",
      "  6.62168292e+01  2.31059211e+00]\n",
      "==========================================\n",
      "[ 4.30185339e-04 -1.99429020e-05 -2.95442006e-03  1.63551834e-05\n",
      "  1.28906004e-05  7.03790601e-07]\n",
      "[0.1 0.1 0.1 0.1 0.1 0.1]\n",
      "[ 4.30185339e-03 -1.99429020e-04 -2.95442006e-02  1.63551834e-04\n",
      "  1.28906004e-04  7.03790601e-06]\n",
      "==========================================\n"
     ]
    },
    {
     "name": "stderr",
     "output_type": "stream",
     "text": [
      "Norm of gradient (translation) = 0.029856\n",
      "Norm of gradient (rotation) = 0.000208\n",
      "around x=5.35; around y=-3.34; around z=-0.02\n",
      "step: 1.72 seconds\n",
      "current score: 3.531412\n",
      "new_T: [ 9.98305598e-01 -5.06685550e-03 -5.79677435e-02  1.96665950e-01\n",
      " -3.61487953e-04  9.95642402e-01 -9.32527524e-02 -2.41524743e-01\n",
      "  5.81876417e-02  9.31156994e-02  9.93953553e-01 -2.43195649e-01]\n",
      "det: 1.00\n",
      "\n",
      "iteration 81\n",
      "0: 3863901 valid, 7820 out-of-bound voxels after transform.\n"
     ]
    },
    {
     "name": "stdout",
     "output_type": "stream",
     "text": [
      "score: 3.531418000000001\n",
      "grad: [ 7.62648207e+00 -9.67630744e-02 -1.19969197e+02  2.31516451e+02\n",
      "  1.74120032e+01 -9.37300229e+00]\n",
      "==========================================\n",
      "[ 4.13294281e-04 -2.66217634e-05 -2.92382981e-03  2.13988241e-05\n",
      "  3.38963943e-06 -2.85495258e-06]\n",
      "[0.1 0.1 0.1 0.1 0.1 0.1]\n",
      "[ 4.13294281e-03 -2.66217634e-04 -2.92382981e-02  2.13988241e-04\n",
      "  3.38963943e-05 -2.85495258e-05]\n",
      "==========================================\n"
     ]
    },
    {
     "name": "stderr",
     "output_type": "stream",
     "text": [
      "Norm of gradient (translation) = 0.029530\n",
      "Norm of gradient (rotation) = 0.000219\n",
      "around x=5.35; around y=-3.34; around z=-0.02\n",
      "step: 1.81 seconds\n",
      "current score: 3.531418\n",
      "new_T: [ 9.98305795e-01 -5.06369733e-03 -5.79646407e-02  1.97077726e-01\n",
      " -3.65583179e-04  9.95640424e-01 -9.32738563e-02 -2.41546692e-01\n",
      "  5.81842500e-02  9.31370221e-02  9.93951753e-01 -2.46125315e-01]\n",
      "det: 1.00\n",
      "\n",
      "iteration 82\n",
      "0: 3863890 valid, 7831 out-of-bound voxels after transform.\n"
     ]
    },
    {
     "name": "stdout",
     "output_type": "stream",
     "text": [
      "score: 3.5314300000000025\n",
      "grad: [ 7.34530282e+00  1.40388250e-01 -1.19419720e+02  2.09114671e+02\n",
      "  5.20674183e+01 -1.17921376e+01]\n",
      "==========================================\n",
      "[ 3.98053463e-04  3.86240571e-05 -2.90920635e-03  1.93282506e-05\n",
      "  1.01360981e-05 -3.59180468e-06]\n",
      "[0.1 0.1 0.1 0.1 0.1 0.1]\n",
      "[ 3.98053463e-03  3.86240571e-04 -2.90920635e-02  1.93282506e-04\n",
      "  1.01360981e-04 -3.59180468e-05]\n",
      "==========================================\n"
     ]
    },
    {
     "name": "stderr",
     "output_type": "stream",
     "text": [
      "Norm of gradient (translation) = 0.029366\n",
      "Norm of gradient (rotation) = 0.000221\n",
      "around x=5.35; around y=-3.34; around z=-0.02\n",
      "step: 1.60 seconds\n",
      "current score: 3.531430\n",
      "new_T: [ 9.98306383e-01 -5.05917704e-03 -5.79549009e-02  1.97472402e-01\n",
      " -3.70293402e-04  9.95638642e-01 -9.32928595e-02 -2.41503991e-01\n",
      "  5.81741239e-02  9.31563174e-02  9.93950538e-01 -2.49041189e-01]\n",
      "det: 1.00\n",
      "\n",
      "iteration 83\n",
      "0: 3863880 valid, 7841 out-of-bound voxels after transform.\n"
     ]
    },
    {
     "name": "stdout",
     "output_type": "stream",
     "text": [
      "score: 3.5314130000000024\n",
      "grad: [ 7.01308858e+00 -2.99303532e-02 -1.18330585e+02  2.06035663e+02\n",
      "  4.82240620e+01 -1.75456607e+01]\n",
      "==========================================\n",
      "[ 3.80047509e-04 -8.23453290e-06 -2.88147674e-03  1.90436608e-05\n",
      "  9.38790204e-06 -5.34428859e-06]\n",
      "[0.1 0.1 0.1 0.1 0.1 0.1]\n",
      "[ 3.80047509e-03 -8.23453290e-05 -2.88147674e-02  1.90436608e-04\n",
      "  9.38790204e-05 -5.34428859e-05]\n",
      "==========================================\n"
     ]
    },
    {
     "name": "stderr",
     "output_type": "stream",
     "text": [
      "Norm of gradient (translation) = 0.029064\n",
      "Norm of gradient (rotation) = 0.000219\n",
      "around x=5.36; around y=-3.33; around z=-0.02\n",
      "step: 1.66 seconds\n",
      "current score: 3.531413\n",
      "new_T: [ 9.98306927e-01 -5.05298144e-03 -5.79460685e-02  1.97848808e-01\n",
      " -3.76736399e-04  9.95636895e-01 -9.33114782e-02 -2.41508512e-01\n",
      "  5.81647448e-02  9.31753254e-02  9.93949305e-01 -2.51929121e-01]\n",
      "det: 1.00\n",
      "\n",
      "iteration 84\n",
      "0: 3863873 valid, 7848 out-of-bound voxels after transform.\n"
     ]
    },
    {
     "name": "stdout",
     "output_type": "stream",
     "text": [
      "score: 3.5314160000000006\n",
      "grad: [ 6.61875975e+00  1.52073979e-01 -1.17753651e+02  1.78845547e+02\n",
      "  5.62330096e+01 -4.72417468e+00]\n",
      "==========================================\n",
      "[ 3.58676059e-04  4.18390679e-05 -2.86624968e-03  1.65305066e-05\n",
      "  1.09470244e-05 -1.43895139e-06]\n",
      "[0.1 0.1 0.1 0.1 0.1 0.1]\n",
      "[ 3.58676059e-03  4.18390679e-04 -2.86624968e-02  1.65305066e-04\n",
      "  1.09470244e-04 -1.43895139e-05]\n",
      "==========================================\n"
     ]
    },
    {
     "name": "stderr",
     "output_type": "stream",
     "text": [
      "Norm of gradient (translation) = 0.028889\n",
      "Norm of gradient (rotation) = 0.000199\n",
      "around x=5.36; around y=-3.33; around z=-0.02\n",
      "step: 1.85 seconds\n",
      "current score: 3.531416\n",
      "new_T: [ 9.98307563e-01 -5.05052868e-03 -5.79353220e-02  1.98204363e-01\n",
      " -3.79134317e-04  9.95635362e-01 -9.33278253e-02 -2.41462769e-01\n",
      "  5.81538101e-02  9.31918391e-02  9.93948397e-01 -2.54801530e-01]\n",
      "det: 1.00\n",
      "\n",
      "iteration 85\n",
      "0: 3863872 valid, 7849 out-of-bound voxels after transform.\n"
     ]
    },
    {
     "name": "stdout",
     "output_type": "stream",
     "text": [
      "score: 3.531424999999999\n",
      "grad: [ 6.34559655e+00 -1.59490287e-01 -1.16550767e+02  2.25461612e+02\n",
      "  3.17517489e+01 -4.37024659e+00]\n",
      "==========================================\n",
      "[ 3.43871087e-04 -4.38794614e-05 -2.83582924e-03  2.08391802e-05\n",
      "  6.18119449e-06 -1.33114730e-06]\n",
      "[0.1 0.1 0.1 0.1 0.1 0.1]\n",
      "[ 3.43871087e-03 -4.38794614e-04 -2.83582924e-02  2.08391802e-04\n",
      "  6.18119449e-05 -1.33114730e-05]\n",
      "==========================================\n"
     ]
    },
    {
     "name": "stderr",
     "output_type": "stream",
     "text": [
      "Norm of gradient (translation) = 0.028569\n",
      "Norm of gradient (rotation) = 0.000218\n",
      "around x=5.36; around y=-3.33; around z=-0.02\n",
      "step: 1.66 seconds\n",
      "current score: 3.531425\n",
      "new_T: [ 9.98307922e-01 -5.04862724e-03 -5.79293024e-02  1.98546328e-01\n",
      " -3.81675025e-04  9.95633426e-01 -9.33484612e-02 -2.41501573e-01\n",
      "  5.81476314e-02  9.32126185e-02  9.93946810e-01 -2.57643618e-01]\n",
      "det: 1.00\n",
      "\n",
      "iteration 86\n",
      "0: 3863870 valid, 7851 out-of-bound voxels after transform.\n"
     ]
    },
    {
     "name": "stdout",
     "output_type": "stream",
     "text": [
      "score: 3.5314369999999986\n",
      "grad: [   6.22488952    0.23027003 -116.04916018  146.61571193   68.87278831\n",
      "  -16.59294897]\n",
      "==========================================\n",
      "[ 3.37327992e-04  6.33525900e-05 -2.82249956e-03  1.35515363e-05\n",
      "  1.34076424e-05 -5.05409908e-06]\n",
      "[0.1 0.1 0.1 0.1 0.1 0.1]\n",
      "[ 3.37327992e-03  6.33525900e-04 -2.82249956e-02  1.35515363e-04\n",
      "  1.34076424e-04 -5.05409908e-05]\n",
      "==========================================\n"
     ]
    },
    {
     "name": "stderr",
     "output_type": "stream",
     "text": [
      "Norm of gradient (translation) = 0.028433\n",
      "Norm of gradient (rotation) = 0.000197\n",
      "around x=5.36; around y=-3.33; around z=-0.02\n",
      "step: 1.67 seconds\n",
      "current score: 3.531437\n",
      "new_T: [ 9.98308700e-01 -5.04234536e-03 -5.79164478e-02  1.98878963e-01\n",
      " -3.87508473e-04  9.95632188e-01 -9.33616380e-02 -2.41435714e-01\n",
      "  5.81342412e-02  9.32261785e-02  9.93946321e-01 -2.60472054e-01]\n",
      "det: 1.00\n",
      "\n",
      "iteration 87\n",
      "0: 3863868 valid, 7853 out-of-bound voxels after transform.\n"
     ]
    },
    {
     "name": "stdout",
     "output_type": "stream",
     "text": [
      "score: 3.5314599999999996\n",
      "grad: [ 5.77219898e+00 -1.12543225e-01 -1.14870174e+02  2.23099322e+02\n",
      "  7.14242041e+00 -9.46171284e-02]\n",
      "==========================================\n",
      "[ 3.12795072e-04 -3.09632327e-05 -2.79273504e-03  2.06208356e-05\n",
      "  1.39043331e-06 -2.88197319e-08]\n",
      "[0.1 0.1 0.1 0.1 0.1 0.1]\n",
      "[ 3.12795072e-03 -3.09632327e-04 -2.79273504e-02  2.06208356e-04\n",
      "  1.39043331e-05 -2.88197319e-07]\n",
      "==========================================\n"
     ]
    },
    {
     "name": "stderr",
     "output_type": "stream",
     "text": [
      "Norm of gradient (translation) = 0.028104\n",
      "Norm of gradient (rotation) = 0.000207\n",
      "around x=5.36; around y=-3.33; around z=-0.02\n",
      "step: 1.62 seconds\n",
      "current score: 3.531460\n",
      "new_T: [ 9.98308780e-01 -5.04218703e-03 -5.79150684e-02  1.99191387e-01\n",
      " -3.88736007e-04  9.95630266e-01 -9.33821323e-02 -2.41461283e-01\n",
      "  5.81328452e-02  9.32467163e-02  9.93944476e-01 -2.63270044e-01]\n",
      "det: 1.00\n",
      "\n",
      "iteration 88\n",
      "0: 3863865 valid, 7856 out-of-bound voxels after transform.\n"
     ]
    },
    {
     "name": "stdout",
     "output_type": "stream",
     "text": [
      "score: 3.531506999999998\n",
      "grad: [   5.76266736    0.21278507 -114.45114845   96.970954     69.16199082\n",
      "  -12.28678489]\n",
      "==========================================\n",
      "[ 3.12277032e-04  5.85420610e-05 -2.78147106e-03  8.96292320e-06\n",
      "  1.34639421e-05 -3.74247087e-06]\n",
      "[0.1 0.1 0.1 0.1 0.1 0.1]\n",
      "[ 3.12277032e-03  5.85420610e-04 -2.78147106e-02  8.96292320e-05\n",
      "  1.34639421e-04 -3.74247087e-05]\n",
      "==========================================\n"
     ]
    },
    {
     "name": "stderr",
     "output_type": "stream",
     "text": [
      "Norm of gradient (translation) = 0.027996\n",
      "Norm of gradient (rotation) = 0.000166\n",
      "around x=5.36; around y=-3.33; around z=-0.02\n",
      "step: 2.10 seconds\n",
      "current score: 3.531507\n",
      "new_T: [ 9.98309562e-01 -5.03720539e-03 -5.79020355e-02  1.99499197e-01\n",
      " -3.92993130e-04  9.95629449e-01 -9.33908242e-02 -2.41401115e-01\n",
      "  5.81194005e-02  9.32557079e-02  9.93944419e-01 -2.66056363e-01]\n",
      "det: 1.00\n",
      "\n",
      "iteration 89\n",
      "0: 3863864 valid, 7857 out-of-bound voxels after transform.\n"
     ]
    },
    {
     "name": "stdout",
     "output_type": "stream",
     "text": [
      "score: 3.531524999999999\n",
      "grad: [ 5.38158667e+00 -5.58810830e-02 -1.13223180e+02  2.08508150e+02\n",
      "  4.85530347e+00  1.60565740e+00]\n",
      "==========================================\n",
      "[ 2.91625156e-04 -1.53741699e-05 -2.75058703e-03  1.92721884e-05\n",
      "  9.45194375e-07  4.89072291e-07]\n",
      "[0.1 0.1 0.1 0.1 0.1 0.1]\n",
      "[ 2.91625156e-03 -1.53741699e-04 -2.75058703e-02  1.92721884e-04\n",
      "  9.45194375e-06  4.89072291e-06]\n",
      "==========================================\n"
     ]
    },
    {
     "name": "stderr",
     "output_type": "stream",
     "text": [
      "Norm of gradient (translation) = 0.027660\n",
      "Norm of gradient (rotation) = 0.000193\n",
      "around x=5.36; around y=-3.33; around z=-0.02\n",
      "step: 1.62 seconds\n",
      "current score: 3.531525\n",
      "new_T: [ 9.98309617e-01 -5.03760417e-03 -5.79010504e-02  1.99790687e-01\n",
      " -3.93624963e-04  9.95627649e-01 -9.34100080e-02 -2.41411238e-01\n",
      "  5.81184493e-02  9.32749006e-02  9.93942674e-01 -2.68811791e-01]\n",
      "det: 1.00\n",
      "\n",
      "iteration 90\n",
      "0: 3863862 valid, 7859 out-of-bound voxels after transform.\n"
     ]
    },
    {
     "name": "stdout",
     "output_type": "stream",
     "text": [
      "score: 3.531533000000001\n",
      "grad: [ 5.29836541e+00  3.53707075e-02 -1.12730156e+02  9.79909790e+01\n",
      "  4.56885304e+01  4.97649968e-01]\n",
      "==========================================\n",
      "[ 2.87114259e-04  9.73129426e-06 -2.73758336e-03  9.05720283e-06\n",
      "  8.89430332e-06  1.51580786e-07]\n",
      "[0.1 0.1 0.1 0.1 0.1 0.1]\n",
      "[ 2.87114259e-03  9.73129426e-05 -2.73758336e-02  9.05720283e-05\n",
      "  8.89430332e-05  1.51580786e-06]\n",
      "==========================================\n"
     ]
    },
    {
     "name": "stderr",
     "output_type": "stream",
     "text": [
      "Norm of gradient (translation) = 0.027526\n",
      "Norm of gradient (rotation) = 0.000127\n",
      "around x=5.36; around y=-3.33; around z=-0.02\n",
      "step: 2.13 seconds\n",
      "current score: 3.531533\n",
      "new_T: [ 9.98310134e-01 -5.03692543e-03 -5.78921958e-02  2.00075435e-01\n",
      " -3.93999989e-04  9.95626803e-01 -9.34190191e-02 -2.41399029e-01\n",
      "  5.81095665e-02  9.32839630e-02  9.93942343e-01 -2.71553340e-01]\n",
      "det: 1.00\n",
      "\n",
      "iteration 91\n",
      "0: 3863860 valid, 7861 out-of-bound voxels after transform.\n"
     ]
    },
    {
     "name": "stdout",
     "output_type": "stream",
     "text": [
      "score: 3.531526\n",
      "grad: [ 5.03141356e+00  4.17673588e-03 -1.11659101e+02  1.26968489e+02\n",
      "  1.00822617e+01 -4.92194861e+00]\n",
      "==========================================\n",
      "[ 2.72647334e-04  1.14911600e-06 -2.71057711e-03  1.17355634e-05\n",
      "  1.96273972e-06 -1.49919197e-06]\n",
      "[0.1 0.1 0.1 0.1 0.1 0.1]\n",
      "[ 2.72647334e-03  1.14911600e-05 -2.71057711e-02  1.17355634e-04\n",
      "  1.96273972e-05 -1.49919197e-05]\n",
      "==========================================\n"
     ]
    },
    {
     "name": "stderr",
     "output_type": "stream",
     "text": [
      "Norm of gradient (translation) = 0.027243\n",
      "Norm of gradient (rotation) = 0.000120\n",
      "around x=5.36; around y=-3.33; around z=-0.02\n",
      "step: 1.68 seconds\n",
      "current score: 3.531526\n",
      "new_T: [ 9.98310247e-01 -5.03524969e-03 -5.78903850e-02  2.00347185e-01\n",
      " -3.96178584e-04  9.95625716e-01 -9.34305968e-02 -2.41394977e-01\n",
      "  5.81076024e-02  9.32956571e-02  9.93941360e-01 -2.74267143e-01]\n",
      "det: 1.00\n",
      "\n",
      "iteration 92\n",
      "0: 3863857 valid, 7864 out-of-bound voxels after transform.\n"
     ]
    },
    {
     "name": "stdout",
     "output_type": "stream",
     "text": [
      "score: 3.531541000000001\n",
      "grad: [ 4.87981254e+00  7.76864886e-02 -1.10688242e+02  1.40112820e+02\n",
      "  9.25181079e+00 -7.53134370e-01]\n",
      "==========================================\n",
      "[ 2.64431300e-04  2.13733373e-05 -2.68603957e-03  1.29504800e-05\n",
      "  1.80107372e-06 -2.29399592e-07]\n",
      "[0.1 0.1 0.1 0.1 0.1 0.1]\n",
      "[ 2.64431300e-03  2.13733373e-04 -2.68603957e-02  1.29504800e-04\n",
      "  1.80107372e-05 -2.29399592e-06]\n",
      "==========================================\n"
     ]
    },
    {
     "name": "stderr",
     "output_type": "stream",
     "text": [
      "Norm of gradient (translation) = 0.026991\n",
      "Norm of gradient (rotation) = 0.000131\n",
      "around x=5.36; around y=-3.33; around z=-0.02\n",
      "step: 1.76 seconds\n",
      "current score: 3.531541\n",
      "new_T: [ 9.98310352e-01 -5.03485325e-03 -5.78886163e-02  2.00611064e-01\n",
      " -3.97160106e-04  9.95624509e-01 -9.34434555e-02 -2.41370081e-01\n",
      "  5.81057992e-02  9.33085600e-02  9.93940254e-01 -2.76956669e-01]\n",
      "det: 1.00\n",
      "\n",
      "iteration 93\n",
      "0: 3863849 valid, 7872 out-of-bound voxels after transform.\n"
     ]
    },
    {
     "name": "stdout",
     "output_type": "stream",
     "text": [
      "score: 3.5315210000000024\n",
      "grad: [   4.88486421    0.21893567 -109.90436912  107.11016399   19.79368538\n",
      "    0.47556639]\n",
      "==========================================\n",
      "[ 2.64704117e-04  6.02342200e-05 -2.66606954e-03  9.90007928e-06\n",
      "  3.85328746e-06  1.44854278e-07]\n",
      "[0.1 0.1 0.1 0.1 0.1 0.1]\n",
      "[ 2.64704117e-03  6.02342200e-04 -2.66606954e-02  9.90007928e-05\n",
      "  3.85328746e-05  1.44854278e-06]\n",
      "==========================================\n"
     ]
    },
    {
     "name": "stderr",
     "output_type": "stream",
     "text": [
      "Norm of gradient (translation) = 0.026799\n",
      "Norm of gradient (rotation) = 0.000106\n",
      "around x=5.36; around y=-3.33; around z=-0.02\n",
      "step: 1.62 seconds\n",
      "current score: 3.531521\n",
      "new_T: [ 9.98310576e-01 -5.03463791e-03 -5.78847728e-02  2.00874731e-01\n",
      " -3.97590729e-04  9.95623584e-01 -9.34533040e-02 -2.41307062e-01\n",
      "  5.81019485e-02  9.33184362e-02  9.93939552e-01 -2.79625902e-01]\n",
      "det: 1.00\n",
      "\n",
      "iteration 94\n",
      "0: 3863843 valid, 7878 out-of-bound voxels after transform.\n"
     ]
    },
    {
     "name": "stdout",
     "output_type": "stream",
     "text": [
      "score: 3.5315199999999995\n",
      "grad: [   4.72520655    0.21419078 -109.17123687  122.50758046   -6.08970988\n",
      "   -1.40326333]\n",
      "==========================================\n",
      "[ 2.56051647e-04  5.89287826e-05 -2.64735696e-03  1.13232461e-05\n",
      " -1.18549943e-06 -4.27424439e-07]\n",
      "[0.1 0.1 0.1 0.1 0.1 0.1]\n",
      "[ 2.56051647e-03  5.89287826e-04 -2.64735696e-02  1.13232461e-04\n",
      " -1.18549943e-05 -4.27424439e-06]\n",
      "==========================================\n"
     ]
    },
    {
     "name": "stderr",
     "output_type": "stream",
     "text": [
      "Norm of gradient (translation) = 0.026604\n",
      "Norm of gradient (rotation) = 0.000114\n",
      "around x=5.36; around y=-3.33; around z=-0.02\n",
      "step: 2.66 seconds\n",
      "current score: 3.531520\n",
      "new_T: [ 9.98310507e-01 -5.03432299e-03 -5.78859911e-02  2.01131013e-01\n",
      " -3.98675341e-04  9.95622530e-01 -9.34645339e-02 -2.41245038e-01\n",
      "  5.81031275e-02  9.33297039e-02  9.93938425e-01 -2.82275752e-01]\n",
      "det: 1.00\n",
      "\n",
      "iteration 95\n",
      "0: 3863834 valid, 7887 out-of-bound voxels after transform.\n"
     ]
    },
    {
     "name": "stdout",
     "output_type": "stream",
     "text": [
      "score: 3.531511999999999\n",
      "grad: [ 4.41757959e+00  8.53732228e-02 -1.08438029e+02  7.02548375e+01\n",
      "  1.70170417e+01  4.88190907e+00]\n",
      "==========================================\n",
      "[ 2.39381131e-04  2.34881255e-05 -2.62866831e-03  6.49358034e-06\n",
      "  3.31275112e-06  1.48699620e-06]\n",
      "[0.1 0.1 0.1 0.1 0.1 0.1]\n",
      "[ 2.39381131e-03  2.34881255e-04 -2.62866831e-02  6.49358034e-05\n",
      "  3.31275112e-05  1.48699620e-05]\n",
      "==========================================\n"
     ]
    },
    {
     "name": "stderr",
     "output_type": "stream",
     "text": [
      "Norm of gradient (translation) = 0.026397\n",
      "Norm of gradient (rotation) = 0.000074\n",
      "around x=5.36; around y=-3.33; around z=-0.02\n",
      "step: 1.82 seconds\n",
      "current score: 3.531512\n",
      "new_T: [ 9.98310700e-01 -5.03549429e-03 -5.78825594e-02  2.01369813e-01\n",
      " -3.97568144e-04  9.95621916e-01 -9.34710742e-02 -2.41219409e-01\n",
      "  5.80998178e-02  9.33361857e-02  9.93938010e-01 -2.84906654e-01]\n",
      "det: 1.00\n",
      "\n",
      "iteration 96\n",
      "0: 3863830 valid, 7891 out-of-bound voxels after transform.\n"
     ]
    },
    {
     "name": "stdout",
     "output_type": "stream",
     "text": [
      "score: 3.5315069999999995\n",
      "grad: [   4.32338107    0.14336312 -107.29169208  143.2544744     0.58865452\n",
      "    7.7574535 ]\n",
      "==========================================\n",
      "[ 2.34276030e-04  3.94424684e-05 -2.60000048e-03  1.32408595e-05\n",
      "  1.14594884e-07  2.36286742e-06]\n",
      "[0.1 0.1 0.1 0.1 0.1 0.1]\n",
      "[ 2.34276030e-03  3.94424684e-04 -2.60000048e-02  1.32408595e-04\n",
      "  1.14594884e-06  2.36286742e-05]\n",
      "==========================================\n"
     ]
    },
    {
     "name": "stderr",
     "output_type": "stream",
     "text": [
      "Norm of gradient (translation) = 0.026108\n",
      "Norm of gradient (rotation) = 0.000135\n",
      "around x=5.37; around y=-3.33; around z=-0.02\n",
      "step: 2.19 seconds\n",
      "current score: 3.531507\n",
      "new_T: [ 9.98310707e-01 -5.03783611e-03 -5.78822246e-02  2.01604626e-01\n",
      " -3.95978558e-04  9.95620668e-01 -9.34843715e-02 -2.41175701e-01\n",
      "  5.80996981e-02  9.33493692e-02  9.93936779e-01 -2.87509871e-01]\n",
      "det: 1.00\n",
      "\n",
      "iteration 97\n",
      "0: 3863822 valid, 7899 out-of-bound voxels after transform.\n"
     ]
    },
    {
     "name": "stdout",
     "output_type": "stream",
     "text": [
      "score: 3.5315110000000023\n",
      "grad: [   4.17750829    0.29228657 -106.85702592   64.08776045   23.5426752\n",
      "    1.92290002]\n",
      "==========================================\n",
      "[ 2.26370875e-04  8.04146870e-05 -2.58859949e-03  5.92356387e-06\n",
      "  4.58311291e-06  5.85702230e-07]\n",
      "[0.1 0.1 0.1 0.1 0.1 0.1]\n",
      "[ 2.26370875e-03  8.04146870e-04 -2.58859949e-02  5.92356387e-05\n",
      "  4.58311291e-05  5.85702230e-06]\n",
      "==========================================\n"
     ]
    },
    {
     "name": "stderr",
     "output_type": "stream",
     "text": [
      "Norm of gradient (translation) = 0.025997\n",
      "Norm of gradient (rotation) = 0.000075\n",
      "around x=5.37; around y=-3.33; around z=-0.02\n",
      "step: 1.73 seconds\n",
      "current score: 3.531511\n",
      "new_T: [ 9.98310974e-01 -5.03799140e-03 -5.78776146e-02  2.01829815e-01\n",
      " -3.95737989e-04  9.95620113e-01 -9.34902931e-02 -2.41093457e-01\n",
      "  5.80951204e-02  9.33552899e-02  9.93936490e-01 -2.90100823e-01]\n",
      "det: 1.00\n",
      "\n",
      "iteration 98\n",
      "0: 3863816 valid, 7905 out-of-bound voxels after transform.\n"
     ]
    },
    {
     "name": "stdout",
     "output_type": "stream",
     "text": [
      "score: 3.531514999999999\n",
      "grad: [ 4.10531199e+00  7.86274076e-02 -1.05712966e+02  1.56062444e+02\n",
      " -1.74465061e+01  3.68052030e+00]\n",
      "==========================================\n",
      "[ 2.22458150e-04  2.16321883e-05 -2.56004544e-03  1.44246864e-05\n",
      " -3.39635606e-06  1.12106138e-06]\n",
      "[0.1 0.1 0.1 0.1 0.1 0.1]\n",
      "[ 2.22458150e-03  2.16321883e-04 -2.56004544e-02  1.44246864e-04\n",
      " -3.39635606e-05  1.12106138e-05]\n",
      "==========================================\n"
     ]
    },
    {
     "name": "stderr",
     "output_type": "stream",
     "text": [
      "Norm of gradient (translation) = 0.025698\n",
      "Norm of gradient (rotation) = 0.000149\n",
      "around x=5.37; around y=-3.33; around z=-0.02\n",
      "step: 1.71 seconds\n",
      "current score: 3.531515\n",
      "new_T: [ 9.98310777e-01 -5.03942465e-03 -5.78808855e-02  2.02053533e-01\n",
      " -3.95456850e-04  9.95618760e-01 -9.35046952e-02 -2.41067396e-01\n",
      "  5.80985053e-02  9.33696343e-02  9.93934945e-01 -2.92663660e-01]\n",
      "det: 1.00\n",
      "\n",
      "iteration 99\n",
      "0: 3863812 valid, 7909 out-of-bound voxels after transform.\n"
     ]
    },
    {
     "name": "stdout",
     "output_type": "stream",
     "text": [
      "score: 3.531503999999998\n",
      "grad: [   4.07661396    0.29975528 -105.2504943    48.05101502   30.77223754\n",
      "   -4.12290889]\n",
      "==========================================\n",
      "[ 2.20902526e-04  8.24694665e-05 -2.54801825e-03  4.44130441e-06\n",
      "  5.99051033e-06 -1.25580992e-06]\n",
      "[0.1 0.1 0.1 0.1 0.1 0.1]\n",
      "[ 2.20902526e-03  8.24694665e-04 -2.54801825e-02  4.44130441e-05\n",
      "  5.99051033e-05 -1.25580992e-05]\n",
      "==========================================\n"
     ]
    },
    {
     "name": "stderr",
     "output_type": "stream",
     "text": [
      "Norm of gradient (translation) = 0.025589\n",
      "Norm of gradient (rotation) = 0.000076\n",
      "around x=5.37; around y=-3.33; around z=-0.02\n",
      "step: 1.75 seconds\n",
      "current score: 3.531504\n",
      "new_T: [ 9.98311124e-01 -5.03761499e-03 -5.78750487e-02  2.02272372e-01\n",
      " -3.96968558e-04  9.95618352e-01 -9.35090369e-02 -2.40983875e-01\n",
      "  5.80925232e-02  9.33740863e-02  9.93934877e-01 -2.95213960e-01]\n",
      "det: 1.00\n"
     ]
    }
   ],
   "source": [
    "i = 1\n",
    "# Compute transform.\n",
    "moving_instance_volume = instance_volumes[i]\n",
    "aligner = Aligner({0: template_instance_wrt_templateCentroid}, \n",
    "                  {0: (moving_instance_volume, np.array((0,0,0)))}, \n",
    "                  labelIndexMap_m2f={0:0})\n",
    "aligner.set_centroid(centroid_m='structure_centroid', centroid_f='structure_centroid')\n",
    "aligner.compute_gradient(smooth_first=True)\n",
    "lr = .1\n",
    "_, _ = aligner.optimize(tf_type='rigid', \n",
    "                     history_len=100, \n",
    "                    max_iter_num=100 if structure in ['SC', 'IC'] else 10000,\n",
    "                     grad_computation_sample_number=None,\n",
    "                        full_lr=np.array([lr,lr,lr,0.1,0.1,0.1]),\n",
    "                       terminate_thresh_trans=.01)"
   ]
  },
  {
   "cell_type": "code",
   "execution_count": 17,
   "metadata": {},
   "outputs": [
    {
     "data": {
      "image/png": "[encoded data removed]",
      "text/plain": [
       "<Figure size 432x288 with 1 Axes>"
      ]
     },
     "metadata": {
      "needs_background": "light"
     },
     "output_type": "display_data"
    }
   ],
   "source": [
    "plt.plot(aligner.Ts);"
   ]
  },
  {
   "cell_type": "code",
   "execution_count": 18,
   "metadata": {},
   "outputs": [
    {
     "data": {
      "image/png": "[encoded data removed]",
      "text/plain": [
       "<Figure size 432x288 with 1 Axes>"
      ]
     },
     "metadata": {
      "needs_background": "light"
     },
     "output_type": "display_data"
    }
   ],
   "source": [
    "plt.plot(aligner.scores);"
   ]
  },
  {
   "cell_type": "code",
   "execution_count": 19,
   "metadata": {},
   "outputs": [
    {
     "ename": "SyntaxError",
     "evalue": "invalid syntax (<ipython-input-19-3fcfbf809cd4>, line 1)",
     "output_type": "error",
     "traceback": [
      "\u001b[0;36m  File \u001b[0;32m\"<ipython-input-19-3fcfbf809cd4>\"\u001b[0;36m, line \u001b[0;32m1\u001b[0m\n\u001b[0;31m    [[  9.69838248e-01   7.41253856e-02   2.32205080e-01  -3.58975061e+01]\u001b[0m\n\u001b[0m                         ^\u001b[0m\n\u001b[0;31mSyntaxError\u001b[0m\u001b[0;31m:\u001b[0m invalid syntax\n"
     ]
    }
   ],
   "source": [
    "[[  9.69838248e-01   7.41253856e-02   2.32205080e-01  -3.58975061e+01]\n",
    " [ -7.00849620e-02   9.97212129e-01  -2.56138103e-02  -3.87932318e+01]\n",
    " [ -2.33456356e-01   8.56716872e-03   9.72329540e-01  -1.27806610e+01]]"
   ]
  },
  {
   "cell_type": "code",
   "execution_count": null,
   "metadata": {
    "scrolled": true
   },
   "outputs": [],
   "source": [
    "# doesn't display much\n",
    "# Transform instances.\n",
    "\"\"\"\n",
    "T = convert_transform_forms(aligner=aligner, out_form=(3,4), select_best='max_value')\n",
    "\n",
    "aligned_moving_instance_volume, aligned_moving_instance_origin_wrt_templateCentroid = \\\n",
    "transform_volume_v4((moving_instance_volume, (0,0,0)), transform=T,\n",
    "                    return_origin_instead_of_bbox=True)\n",
    "\n",
    "aligned_moving_instance_wrt_templateCentroid = (aligned_moving_instance_volume, aligned_moving_instance_origin_wrt_templateCentroid)        \n",
    "\n",
    "# Generate meshes for each instance.\n",
    "\n",
    "instance_mesh_wrt_templateCentroid_all_instances = [\n",
    "volume_to_polydata((v, o), num_simplify_iter=3, smooth=True)\n",
    "for v, o in \n",
    "[template_instance_wrt_templateCentroid] + [aligned_moving_instance_wrt_templateCentroid]]\n",
    "\n",
    "launch_vtk([actor_mesh(mesh, wireframe=True, color=np.array(high_contrast_colors[i+1])/255., opacity=1) \n",
    "    for i, mesh in enumerate([instance_mesh_wrt_templateCentroid_all_instances[0],\n",
    "                             instance_mesh_wrt_templateCentroid_all_instances[1]])], \n",
    "  background_color=(1,1,1))\n",
    "\"\"\""
   ]
  },
  {
   "cell_type": "markdown",
   "metadata": {},
   "source": [
    "# Visualize Results"
   ]
  },
  {
   "cell_type": "code",
   "execution_count": 20,
   "metadata": {},
   "outputs": [
    {
     "name": "stdout",
     "output_type": "stream",
     "text": [
      "INPUT_KEY_LOC /net/birdstore/Active_Atlas_Data/data_root/CSHL_meshes/atlasV7/mean_shapes/instance_registration/IC_instance1/annotationAsScoreVolume_warp108_annotationAsScoreVolume/scoreHistory.bp\n",
      "INPUT_KEY_LOC /net/birdstore/Active_Atlas_Data/data_root/CSHL_meshes/atlasV7/mean_shapes/instance_registration/IC_instance2/annotationAsScoreVolume_warp108_annotationAsScoreVolume/scoreHistory.bp\n",
      "INPUT_KEY_LOC /net/birdstore/Active_Atlas_Data/data_root/CSHL_meshes/atlasV7/mean_shapes/instance_registration/IC_instance3/annotationAsScoreVolume_warp108_annotationAsScoreVolume/scoreHistory.bp\n",
      "INPUT_KEY_LOC /net/birdstore/Active_Atlas_Data/data_root/CSHL_meshes/atlasV7/mean_shapes/instance_registration/IC_instance4/annotationAsScoreVolume_warp108_annotationAsScoreVolume/scoreHistory.bp\n",
      "INPUT_KEY_LOC /net/birdstore/Active_Atlas_Data/data_root/CSHL_meshes/atlasV7/mean_shapes/instance_registration/IC_instance5/annotationAsScoreVolume_warp108_annotationAsScoreVolume/scoreHistory.bp\n"
     ]
    },
    {
     "data": {
      "image/png": "[encoded data removed]",
      "text/plain": [
       "<Figure size 1440x144 with 5 Axes>"
      ]
     },
     "metadata": {
      "needs_background": "light"
     },
     "output_type": "display_data"
    },
    {
     "name": "stdout",
     "output_type": "stream",
     "text": [
      "INPUT_KEY_LOC /net/birdstore/Active_Atlas_Data/data_root/CSHL_meshes/atlasV7/mean_shapes/instance_registration/SC_instance1/annotationAsScoreVolume_warp108_annotationAsScoreVolume/scoreHistory.bp\n",
      "INPUT_KEY_LOC /net/birdstore/Active_Atlas_Data/data_root/CSHL_meshes/atlasV7/mean_shapes/instance_registration/SC_instance2/annotationAsScoreVolume_warp108_annotationAsScoreVolume/scoreHistory.bp\n",
      "INPUT_KEY_LOC /net/birdstore/Active_Atlas_Data/data_root/CSHL_meshes/atlasV7/mean_shapes/instance_registration/SC_instance3/annotationAsScoreVolume_warp108_annotationAsScoreVolume/scoreHistory.bp\n",
      "INPUT_KEY_LOC /net/birdstore/Active_Atlas_Data/data_root/CSHL_meshes/atlasV7/mean_shapes/instance_registration/SC_instance4/annotationAsScoreVolume_warp108_annotationAsScoreVolume/scoreHistory.bp\n",
      "INPUT_KEY_LOC /net/birdstore/Active_Atlas_Data/data_root/CSHL_meshes/atlasV7/mean_shapes/instance_registration/SC_instance5/annotationAsScoreVolume_warp108_annotationAsScoreVolume/scoreHistory.bp\n"
     ]
    },
    {
     "data": {
      "image/png": "[encoded data removed]",
      "text/plain": [
       "<Figure size 1440x144 with 5 Axes>"
      ]
     },
     "metadata": {
      "needs_background": "light"
     },
     "output_type": "display_data"
    }
   ],
   "source": [
    "# for name_u in all_known_structures:\n",
    "for name_u in structures:\n",
    "    fig, axes = plt.subplots(1, 5,squeeze=True, figsize=(20,2));\n",
    "    for i in range(1, 6):\n",
    "#         try:\n",
    "        scores = load_alignment_results_v3(what='scoreHistory', alignment_spec=dict(warp_setting=108, \n",
    "                          stack_f=dict(name='%s_instance0' % name_u, vol_type='annotationAsScore'),\n",
    "                         stack_m=dict(name='%s_instance%d' % (name_u, i), vol_type='annotationAsScore')),\n",
    "                 reg_root_dir=os.path.join(MESH_DIR, atlas_name, 'mean_shapes', 'instance_registration')) \n",
    "\n",
    "        axes[i-1].plot(scores);\n",
    "        axes[i-1].set_title('%s_instance%d' % (name_u, i))\n",
    "    plt.show();"
   ]
  },
  {
   "cell_type": "code",
   "execution_count": 21,
   "metadata": {},
   "outputs": [
    {
     "name": "stdout",
     "output_type": "stream",
     "text": [
      "INPUT_KEY_LOC /net/birdstore/Active_Atlas_Data/data_root/CSHL_meshes/atlasV7/mean_shapes/instance_registration/IC_instance1/annotationAsScoreVolume_warp108_annotationAsScoreVolume/trajectory.bp\n",
      "INPUT_KEY_LOC /net/birdstore/Active_Atlas_Data/data_root/CSHL_meshes/atlasV7/mean_shapes/instance_registration/IC_instance2/annotationAsScoreVolume_warp108_annotationAsScoreVolume/trajectory.bp\n",
      "INPUT_KEY_LOC /net/birdstore/Active_Atlas_Data/data_root/CSHL_meshes/atlasV7/mean_shapes/instance_registration/IC_instance3/annotationAsScoreVolume_warp108_annotationAsScoreVolume/trajectory.bp\n",
      "INPUT_KEY_LOC /net/birdstore/Active_Atlas_Data/data_root/CSHL_meshes/atlasV7/mean_shapes/instance_registration/IC_instance4/annotationAsScoreVolume_warp108_annotationAsScoreVolume/trajectory.bp\n",
      "INPUT_KEY_LOC /net/birdstore/Active_Atlas_Data/data_root/CSHL_meshes/atlasV7/mean_shapes/instance_registration/IC_instance5/annotationAsScoreVolume_warp108_annotationAsScoreVolume/trajectory.bp\n"
     ]
    },
    {
     "data": {
      "image/png": "[encoded data removed]",
      "text/plain": [
       "<Figure size 1440x144 with 5 Axes>"
      ]
     },
     "metadata": {
      "needs_background": "light"
     },
     "output_type": "display_data"
    },
    {
     "name": "stdout",
     "output_type": "stream",
     "text": [
      "INPUT_KEY_LOC /net/birdstore/Active_Atlas_Data/data_root/CSHL_meshes/atlasV7/mean_shapes/instance_registration/SC_instance1/annotationAsScoreVolume_warp108_annotationAsScoreVolume/trajectory.bp\n",
      "INPUT_KEY_LOC /net/birdstore/Active_Atlas_Data/data_root/CSHL_meshes/atlasV7/mean_shapes/instance_registration/SC_instance2/annotationAsScoreVolume_warp108_annotationAsScoreVolume/trajectory.bp\n",
      "INPUT_KEY_LOC /net/birdstore/Active_Atlas_Data/data_root/CSHL_meshes/atlasV7/mean_shapes/instance_registration/SC_instance3/annotationAsScoreVolume_warp108_annotationAsScoreVolume/trajectory.bp\n",
      "INPUT_KEY_LOC /net/birdstore/Active_Atlas_Data/data_root/CSHL_meshes/atlasV7/mean_shapes/instance_registration/SC_instance4/annotationAsScoreVolume_warp108_annotationAsScoreVolume/trajectory.bp\n",
      "INPUT_KEY_LOC /net/birdstore/Active_Atlas_Data/data_root/CSHL_meshes/atlasV7/mean_shapes/instance_registration/SC_instance5/annotationAsScoreVolume_warp108_annotationAsScoreVolume/trajectory.bp\n"
     ]
    },
    {
     "data": {
      "image/png": "[encoded data removed]",
      "text/plain": [
       "<Figure size 1440x144 with 5 Axes>"
      ]
     },
     "metadata": {
      "needs_background": "light"
     },
     "output_type": "display_data"
    }
   ],
   "source": [
    "# for name_u in all_known_structures:\n",
    "for name_u in structures:\n",
    "    fig, axes = plt.subplots(1, 5,squeeze=True, figsize=(20,2));\n",
    "    for i in range(1, 6):\n",
    "        trajectory = load_alignment_results_v3(what='trajectory',\n",
    "                          alignment_spec=dict(warp_setting=108, \n",
    "                                              stack_f=dict(name='%s_instance0' % name_u, vol_type='annotationAsScore'),\n",
    "                                             stack_m=dict(name='%s_instance%d' % (name_u, i), vol_type='annotationAsScore')),\n",
    "                                     reg_root_dir=os.path.join(MESH_DIR, atlas_name, 'mean_shapes', 'instance_registration'))        \n",
    "        axes[i-1].plot(trajectory);\n",
    "        axes[i-1].set_title('%s_instance%d' % (name_u, i))\n",
    "    plt.show();"
   ]
  },
  {
   "cell_type": "code",
   "execution_count": 22,
   "metadata": {},
   "outputs": [
    {
     "name": "stderr",
     "output_type": "stream",
     "text": [
      "load_data: File does not exist: /net/birdstore/Active_Atlas_Data/data_root/CSHL_meshes/atlasV7/aligned_instance_meshes/10um_IC_0.stl\n",
      "File type stl not recognized.\n",
      "load_data: File does not exist: /net/birdstore/Active_Atlas_Data/data_root/CSHL_meshes/atlasV7/aligned_instance_meshes/10um_IC_1.stl\n",
      "File type stl not recognized.\n",
      "load_data: File does not exist: /net/birdstore/Active_Atlas_Data/data_root/CSHL_meshes/atlasV7/aligned_instance_meshes/10um_IC_2.stl\n",
      "File type stl not recognized.\n",
      "load_data: File does not exist: /net/birdstore/Active_Atlas_Data/data_root/CSHL_meshes/atlasV7/aligned_instance_meshes/10um_IC_3.stl\n",
      "File type stl not recognized.\n",
      "load_data: File does not exist: /net/birdstore/Active_Atlas_Data/data_root/CSHL_meshes/atlasV7/aligned_instance_meshes/10um_IC_4.stl\n",
      "File type stl not recognized.\n",
      "load_data: File does not exist: /net/birdstore/Active_Atlas_Data/data_root/CSHL_meshes/atlasV7/aligned_instance_meshes/10um_IC_5.stl\n",
      "File type stl not recognized.\n"
     ]
    },
    {
     "ename": "NameError",
     "evalue": "name 'get_mean_shape_filepath' is not defined",
     "output_type": "error",
     "traceback": [
      "\u001b[0;31m---------------------------------------------------------------------------\u001b[0m",
      "\u001b[0;31mNameError\u001b[0m                                 Traceback (most recent call last)",
      "\u001b[0;32m<ipython-input-22-6427888c22d0>\u001b[0m in \u001b[0;36m<module>\u001b[0;34m\u001b[0m\n\u001b[1;32m     13\u001b[0m \u001b[0;34m\u001b[0m\u001b[0m\n\u001b[1;32m     14\u001b[0m     \u001b[0;31m# Load average shape.\u001b[0m\u001b[0;34m\u001b[0m\u001b[0;34m\u001b[0m\u001b[0;34m\u001b[0m\u001b[0m\n\u001b[0;32m---> 15\u001b[0;31m     \u001b[0mfilepath\u001b[0m \u001b[0;34m=\u001b[0m \u001b[0mget_mean_shape_filepath\u001b[0m\u001b[0;34m(\u001b[0m\u001b[0matlas_name\u001b[0m\u001b[0;34m=\u001b[0m\u001b[0matlas_name\u001b[0m\u001b[0;34m,\u001b[0m \u001b[0mstructure\u001b[0m\u001b[0;34m=\u001b[0m\u001b[0mname_u\u001b[0m\u001b[0;34m,\u001b[0m \u001b[0mwhat\u001b[0m\u001b[0;34m=\u001b[0m\u001b[0;34m'volume'\u001b[0m\u001b[0;34m,\u001b[0m \u001b[0mresolution\u001b[0m\u001b[0;34m=\u001b[0m\u001b[0;34m'10.0um'\u001b[0m\u001b[0;34m)\u001b[0m\u001b[0;34m\u001b[0m\u001b[0;34m\u001b[0m\u001b[0m\n\u001b[0m\u001b[1;32m     16\u001b[0m     \u001b[0mvol\u001b[0m \u001b[0;34m=\u001b[0m \u001b[0mload_data\u001b[0m\u001b[0;34m(\u001b[0m\u001b[0mfilepath\u001b[0m\u001b[0;34m,\u001b[0m \u001b[0mfiletype\u001b[0m\u001b[0;34m=\u001b[0m\u001b[0;34m'stl'\u001b[0m\u001b[0;34m)\u001b[0m\u001b[0;34m\u001b[0m\u001b[0;34m\u001b[0m\u001b[0m\n\u001b[1;32m     17\u001b[0m     \u001b[0mfilepath\u001b[0m \u001b[0;34m=\u001b[0m \u001b[0mget_mean_shape_filepath\u001b[0m\u001b[0;34m(\u001b[0m\u001b[0matlas_name\u001b[0m\u001b[0;34m=\u001b[0m\u001b[0matlas_name\u001b[0m\u001b[0;34m,\u001b[0m \u001b[0mstructure\u001b[0m\u001b[0;34m=\u001b[0m\u001b[0mname_u\u001b[0m\u001b[0;34m,\u001b[0m \u001b[0mwhat\u001b[0m\u001b[0;34m=\u001b[0m\u001b[0;34m'origin_wrt_meanShapeCentroid'\u001b[0m\u001b[0;34m,\u001b[0m \u001b[0mresolution\u001b[0m\u001b[0;34m=\u001b[0m\u001b[0;34m'10.0um'\u001b[0m\u001b[0;34m)\u001b[0m\u001b[0;34m\u001b[0m\u001b[0;34m\u001b[0m\u001b[0m\n",
      "\u001b[0;31mNameError\u001b[0m: name 'get_mean_shape_filepath' is not defined"
     ]
    }
   ],
   "source": [
    "for name_u in structures:\n",
    "    # Load instance meshes.\n",
    "    instance_meshes = []\n",
    "    for i in range(6):\n",
    "        filepath = get_instance_mesh_filepath(atlas_name=atlas_name, structure=name_u,index=i, resolution='10um')\n",
    "        m = load_data(filepath, filetype='stl')\n",
    "        if m is not None:\n",
    "            instance_meshes.append(m)\n",
    "\n",
    "    #launch_vtk([actor_mesh(m, wireframe=True, color=np.array(high_contrast_colors[i+1])/255., opacity=1, wireframe_linewidth=3) \n",
    "    #    for i, m in enumerate(instance_meshes)], \n",
    "    #  background_color=(1,1,1))\n",
    "    \n",
    "    # Load average shape.\n",
    "    filepath = get_mean_shape_filepath(atlas_name=atlas_name, structure=name_u, what='volume', resolution='10.0um')\n",
    "    vol = load_data(filepath, filetype='stl')\n",
    "    filepath = get_mean_shape_filepath(atlas_name=atlas_name, structure=name_u, what='origin_wrt_meanShapeCentroid', resolution='10.0um')\n",
    "    ori_wrt_meanShapeCentroid = load_data(filepath, filetype='stl')\n",
    "    \n",
    "    standard_shape_volume_actor = actor_volume(vol.astype(np.float32), \n",
    "                                               what='probability', \n",
    "                                               origin=ori_wrt_meanShapeCentroid, \n",
    "                                              c=(0,0,0))\n",
    "    \n",
    "    #launch_vtk([standard_shape_volume_actor])"
   ]
  },
  {
   "cell_type": "markdown",
   "metadata": {},
   "source": [
    "# Combine standard shapes with standard centroid locations"
   ]
  },
  {
   "cell_type": "code",
   "execution_count": 24,
   "metadata": {},
   "outputs": [],
   "source": [
    "atlas_resolution = '10.0um'\n",
    "atlas_resolution_um = 10.0"
   ]
  },
  {
   "cell_type": "code",
   "execution_count": 25,
   "metadata": {
    "scrolled": true
   },
   "outputs": [
    {
     "ename": "NameError",
     "evalue": "name 'get_structure_mean_positions_filepath' is not defined",
     "output_type": "error",
     "traceback": [
      "\u001b[0;31m---------------------------------------------------------------------------\u001b[0m",
      "\u001b[0;31mNameError\u001b[0m                                 Traceback (most recent call last)",
      "\u001b[0;32m<ipython-input-25-304c9eee76e3>\u001b[0m in \u001b[0;36m<module>\u001b[0;34m\u001b[0m\n\u001b[0;32m----> 1\u001b[0;31m \u001b[0mnominal_centroids_wrt_canonicalAtlasSpace_um\u001b[0m \u001b[0;34m=\u001b[0m \u001b[0mload_data\u001b[0m\u001b[0;34m(\u001b[0m\u001b[0mget_structure_mean_positions_filepath\u001b[0m\u001b[0;34m(\u001b[0m\u001b[0matlas_name\u001b[0m\u001b[0;34m=\u001b[0m\u001b[0matlas_name\u001b[0m\u001b[0;34m,\u001b[0m \u001b[0mresolution\u001b[0m\u001b[0;34m=\u001b[0m\u001b[0;34m'1um'\u001b[0m\u001b[0;34m)\u001b[0m\u001b[0;34m)\u001b[0m\u001b[0;34m\u001b[0m\u001b[0;34m\u001b[0m\u001b[0m\n\u001b[0m\u001b[1;32m      2\u001b[0m \u001b[0mnominal_centroids_wrt_canonicalAtlasSpace_10um\u001b[0m \u001b[0;34m=\u001b[0m \u001b[0;34m{\u001b[0m\u001b[0ms\u001b[0m\u001b[0;34m:\u001b[0m \u001b[0mc\u001b[0m \u001b[0;34m/\u001b[0m \u001b[0matlas_resolution_um\u001b[0m \u001b[0;32mfor\u001b[0m \u001b[0ms\u001b[0m\u001b[0;34m,\u001b[0m \u001b[0mc\u001b[0m \u001b[0;32min\u001b[0m \u001b[0mnominal_centroids_wrt_canonicalAtlasSpace_um\u001b[0m\u001b[0;34m.\u001b[0m\u001b[0miteritems\u001b[0m\u001b[0;34m(\u001b[0m\u001b[0;34m)\u001b[0m\u001b[0;34m}\u001b[0m\u001b[0;34m\u001b[0m\u001b[0;34m\u001b[0m\u001b[0m\n\u001b[1;32m      3\u001b[0m \u001b[0;34m\u001b[0m\u001b[0m\n\u001b[1;32m      4\u001b[0m mean_shapes_10um_wrt_stdShapeCentroid = {name_u: load_mean_shape(atlas_name=atlas_name, structure=name_u, resolution=atlas_resolution) \n\u001b[1;32m      5\u001b[0m                     for name_u in all_known_structures_unsided_including_surround_200um}\n",
      "\u001b[0;31mNameError\u001b[0m: name 'get_structure_mean_positions_filepath' is not defined"
     ]
    }
   ],
   "source": [
    "nominal_centroids_wrt_canonicalAtlasSpace_um = load_data(get_structure_mean_positions_filepath(atlas_name=atlas_name, resolution='1um'))\n",
    "nominal_centroids_wrt_canonicalAtlasSpace_10um = {s: c / atlas_resolution_um for s, c in nominal_centroids_wrt_canonicalAtlasSpace_um.iteritems()}\n",
    "\n",
    "mean_shapes_10um_wrt_stdShapeCentroid = {name_u: load_mean_shape(atlas_name=atlas_name, structure=name_u, resolution=atlas_resolution) \n",
    "                    for name_u in all_known_structures_unsided_including_surround_200um}"
   ]
  },
  {
   "cell_type": "code",
   "execution_count": null,
   "metadata": {},
   "outputs": [],
   "source": [
    "atlas_spec = dict(name=atlas_name, vol_type='score', resolution=atlas_resolution)"
   ]
  },
  {
   "cell_type": "code",
   "execution_count": null,
   "metadata": {},
   "outputs": [],
   "source": [
    "## TODO: simplify this.\n",
    "# mean_shape_wrt_canonicalAtlasSpace_all_structures_10um = {}\n",
    "for name_u in structures:\n",
    "# for name_u in ['7N']:\n",
    "#     mean_shape_10um, mean_shape_origin_wrt_stdShapeCentroid_10um = mean_shapes_10um_wrt_stdShapeCentroid[name_u]\n",
    "#     mean_shape_surround_10um, mean_shape_surround_origin_wrt_stdShapeCentroid_10um = mean_shapes_10um_wrt_stdShapeCentroid[convert_to_surround_name(name_u, margin='200um')]\n",
    "    \n",
    "    if name_u in singular_structures:                \n",
    "        for name in [name_u, convert_to_surround_name(name_u, margin='200um')]:\n",
    "            mean_shape_wrt_canonicalAtlasSpace_10um = (mean_shapes_10um_wrt_stdShapeCentroid[name][0], \n",
    "                        mean_shapes_10um_wrt_stdShapeCentroid[name][1] + nominal_centroids_wrt_canonicalAtlasSpace_10um[name_u])\n",
    "            \n",
    "#             mean_shape_wrt_canonicalAtlasSpace_all_structures_10um[name] = mean_shape_wrt_canonicalAtlasSpace_10um\n",
    "\n",
    "            #save_original_volume(volume=mean_shape_wrt_canonicalAtlasSpace_10um, stack_spec=atlas_spec, structure=name, wrt='canonicalAtlasSpace')\n",
    "            print('mean_shape_wrt', np.shape(mean_shape_wrt_canonicalAtlasSpace_10um))\n",
    "    else:\n",
    "        \n",
    "        left_name = convert_to_left_name(name_u)\n",
    "        left_surround_name = convert_to_surround_name(left_name, margin='200um')\n",
    "        right_name = convert_to_right_name(name_u)\n",
    "        right_surround_name = convert_to_surround_name(right_name, margin='200um')\n",
    "\n",
    "        left_mean_shape_wrt_canonicalAtlasSpace_10um = mirror_volume_v2(volume=mean_shapes_10um_wrt_stdShapeCentroid[name_u],\n",
    "             centroid_wrt_origin=-mean_shapes_10um_wrt_stdShapeCentroid[name_u][1],\n",
    "            new_centroid=nominal_centroids_wrt_canonicalAtlasSpace_10um[left_name])\n",
    "\n",
    "        save_original_volume(volume=left_mean_shape_wrt_canonicalAtlasSpace_10um, \n",
    "                             stack_spec=atlas_spec, \n",
    "                             structure=left_name, wrt='canonicalAtlasSpace')\n",
    "\n",
    "        left_mean_shape_wrt_canonicalAtlasSpace_10um = mirror_volume_v2(\\\n",
    "            volume=mean_shapes_10um_wrt_stdShapeCentroid[convert_to_surround_name(name_u, margin='200um')][0],\n",
    "            centroid_wrt_origin=-mean_shapes_10um_wrt_stdShapeCentroid[convert_to_surround_name(name_u, margin='200um')][1],\n",
    "            new_centroid=nominal_centroids_wrt_canonicalAtlasSpace_10um[left_name])        \n",
    "        \n",
    "        save_original_volume(volume=left_mean_shape_wrt_canonicalAtlasSpace_10um, \n",
    "                             stack_spec=atlas_spec, \n",
    "                             structure=left_surround_name, wrt='canonicalAtlasSpace')\n",
    "        \n",
    "        \n",
    "        right_mean_shape_wrt_canonicalAtlasSpace_10um = (mean_shapes_10um_wrt_stdShapeCentroid[name_u][0], \n",
    "        mean_shapes_10um_wrt_stdShapeCentroid[name_u][1] + nominal_centroids_wrt_canonicalAtlasSpace_10um[right_name])\n",
    "        \n",
    "        save_original_volume(volume=right_mean_shape_wrt_canonicalAtlasSpace_10um, \n",
    "                                 stack_spec=atlas_spec, \n",
    "                                 structure=right_name, wrt='canonicalAtlasSpace')\n",
    "            \n",
    "        \n",
    "        \n",
    "        right_mean_shape_wrt_canonicalAtlasSpace_10um = (mean_shapes_10um_wrt_stdShapeCentroid[convert_to_surround_name(name_u, margin='200um')][0], \n",
    "        mean_shapes_10um_wrt_stdShapeCentroid[convert_to_surround_name(name_u, margin='200um')][1] + nominal_centroids_wrt_canonicalAtlasSpace_10um[right_name])\n",
    "        \n",
    "        DataManager.save_original_volume(volume=right_mean_shape_wrt_canonicalAtlasSpace_10um, \n",
    "                                 stack_spec=atlas_spec, \n",
    "                                 structure=right_surround_name, wrt='canonicalAtlasSpace')"
   ]
  },
  {
   "cell_type": "markdown",
   "metadata": {},
   "source": [
    "# Convert to vtk polydata for visualization"
   ]
  },
  {
   "cell_type": "code",
   "execution_count": null,
   "metadata": {
    "scrolled": true
   },
   "outputs": [],
   "source": [
    "#for name_s in all_known_structures_sided_including_surround_200um:\n",
    "for name_s in structures:\n",
    "    atlas_structure_wrt_canonicalAtlasSpace = \\\n",
    "    load_original_volume_v2(stack_spec=atlas_spec, structure=name_s, bbox_wrt='canonicalAtlasSpace')\n",
    "\n",
    "    for surface_level in np.arange(0.1, 1.1, .1):\n",
    "        mean_shape_isosurface_polydata_wrt_canonicalAtlasSpace = \\\n",
    "        volume_to_polydata(volume=(atlas_structure_wrt_canonicalAtlasSpace[0] >= surface_level, atlas_structure_wrt_canonicalAtlasSpace[1]), \n",
    "                     num_simplify_iter=3, smooth=True, \n",
    "                     return_vertex_face_list=False)\n",
    "\n",
    "        #save_data(mean_shape_isosurface_polydata_wrt_canonicalAtlasSpace, \n",
    "        #          DataManager.get_mesh_filepath_v2(atlas_spec, structure=name_s, level=surface_level))"
   ]
  },
  {
   "cell_type": "code",
   "execution_count": null,
   "metadata": {},
   "outputs": [],
   "source": [
    "mean_shape_level05isosurface_polydata_wrt_canonicalAtlasSpace_all_structures = \\\n",
    "{name_s: load_data(DataManager.get_mesh_filepath_v2(atlas_spec, structure=name_s, level=0.5))\n",
    "for name_s in all_known_structures_sided}"
   ]
  },
  {
   "cell_type": "code",
   "execution_count": null,
   "metadata": {},
   "outputs": [],
   "source": [
    "#launch_vtk([actor_mesh(v, wireframe=False, opacity=.5, color=name_unsided_to_color_float[convert_to_original_name(s)]) \n",
    "#            for s, v in mean_shape_level05isosurface_polydata_wrt_canonicalAtlasSpace_all_structures.iteritems()] \\\n",
    "#          + [actor_sphere([0,0,0])])"
   ]
  },
  {
   "cell_type": "markdown",
   "metadata": {},
   "source": [
    "# Shell"
   ]
  },
  {
   "cell_type": "markdown",
   "metadata": {},
   "source": [
    "Just use MD589's shell, until we find a way to average the outlines."
   ]
  },
  {
   "cell_type": "code",
   "execution_count": 41,
   "metadata": {},
   "outputs": [
    {
     "ename": "IndexError",
     "evalue": "too many indices for array",
     "output_type": "error",
     "traceback": [
      "\u001b[0;31m---------------------------------------------------------------------------\u001b[0m",
      "\u001b[0;31mIndexError\u001b[0m                                Traceback (most recent call last)",
      "\u001b[0;32m<ipython-input-41-d8935cf9c019>\u001b[0m in \u001b[0;36m<module>\u001b[0;34m\u001b[0m\n\u001b[1;32m     27\u001b[0m \u001b[0;34m\u001b[0m\u001b[0m\n\u001b[1;32m     28\u001b[0m \u001b[0moutline_prob_volume_atlasResol\u001b[0m\u001b[0;34m,\u001b[0m \u001b[0moutline_prob_volume_origin_wrt_wholebrainXYcropped_atlasResol\u001b[0m \u001b[0;34m=\u001b[0m\u001b[0;31m \u001b[0m\u001b[0;31m\\\u001b[0m\u001b[0;34m\u001b[0m\u001b[0;34m\u001b[0m\u001b[0m\n\u001b[0;32m---> 29\u001b[0;31m images_to_volume_v2(images=contour_prob_maps_by_sec, spacing_um=20, \n\u001b[0m\u001b[1;32m     30\u001b[0m                     \u001b[0min_resol_um\u001b[0m\u001b[0;34m=\u001b[0m\u001b[0mconvert_resolution_string_to_um\u001b[0m\u001b[0;34m(\u001b[0m\u001b[0mresolution\u001b[0m\u001b[0;34m=\u001b[0m\u001b[0;34m'down32'\u001b[0m\u001b[0;34m,\u001b[0m \u001b[0mstack\u001b[0m\u001b[0;34m=\u001b[0m\u001b[0mstack_fixed\u001b[0m\u001b[0;34m)\u001b[0m\u001b[0;34m,\u001b[0m\u001b[0;34m\u001b[0m\u001b[0;34m\u001b[0m\u001b[0m\n\u001b[1;32m     31\u001b[0m                     out_resol_um = atlas_resolution_um)\n",
      "\u001b[0;32m~/programming/pipeline_utility/utilities/imported_atlas_utilities.py\u001b[0m in \u001b[0;36mimages_to_volume_v2\u001b[0;34m(images, spacing_um, in_resol_um, out_resol_um, crop_to_minimal)\u001b[0m\n\u001b[1;32m   3479\u001b[0m \u001b[0;34m\u001b[0m\u001b[0m\n\u001b[1;32m   3480\u001b[0m         \u001b[0mshapes\u001b[0m \u001b[0;34m=\u001b[0m \u001b[0mnp\u001b[0m\u001b[0;34m.\u001b[0m\u001b[0marray\u001b[0m\u001b[0;34m(\u001b[0m\u001b[0;34m[\u001b[0m\u001b[0mim\u001b[0m\u001b[0;34m.\u001b[0m\u001b[0mshape\u001b[0m\u001b[0;34m[\u001b[0m\u001b[0;34m:\u001b[0m\u001b[0;36m2\u001b[0m\u001b[0;34m]\u001b[0m \u001b[0;32mfor\u001b[0m \u001b[0mim\u001b[0m \u001b[0;32min\u001b[0m \u001b[0mlist\u001b[0m\u001b[0;34m(\u001b[0m\u001b[0mimages\u001b[0m\u001b[0;34m.\u001b[0m\u001b[0mvalues\u001b[0m\u001b[0;34m(\u001b[0m\u001b[0;34m)\u001b[0m\u001b[0;34m)\u001b[0m\u001b[0;34m]\u001b[0m\u001b[0;34m)\u001b[0m\u001b[0;34m\u001b[0m\u001b[0;34m\u001b[0m\u001b[0m\n\u001b[0;32m-> 3481\u001b[0;31m         \u001b[0;32massert\u001b[0m \u001b[0mlen\u001b[0m\u001b[0;34m(\u001b[0m\u001b[0mnp\u001b[0m\u001b[0;34m.\u001b[0m\u001b[0munique\u001b[0m\u001b[0;34m(\u001b[0m\u001b[0mshapes\u001b[0m\u001b[0;34m[\u001b[0m\u001b[0;34m:\u001b[0m\u001b[0;34m,\u001b[0m\u001b[0;36m0\u001b[0m\u001b[0;34m]\u001b[0m\u001b[0;34m)\u001b[0m\u001b[0;34m)\u001b[0m \u001b[0;34m==\u001b[0m \u001b[0;36m1\u001b[0m\u001b[0;34m,\u001b[0m \u001b[0;34m'Height of all images must be the same.'\u001b[0m\u001b[0;34m\u001b[0m\u001b[0;34m\u001b[0m\u001b[0m\n\u001b[0m\u001b[1;32m   3482\u001b[0m         \u001b[0;32massert\u001b[0m \u001b[0mlen\u001b[0m\u001b[0;34m(\u001b[0m\u001b[0mnp\u001b[0m\u001b[0;34m.\u001b[0m\u001b[0munique\u001b[0m\u001b[0;34m(\u001b[0m\u001b[0mshapes\u001b[0m\u001b[0;34m[\u001b[0m\u001b[0;34m:\u001b[0m\u001b[0;34m,\u001b[0m\u001b[0;36m1\u001b[0m\u001b[0;34m]\u001b[0m\u001b[0;34m)\u001b[0m\u001b[0;34m)\u001b[0m \u001b[0;34m==\u001b[0m \u001b[0;36m1\u001b[0m\u001b[0;34m,\u001b[0m \u001b[0;34m'Width of all images must be the same.'\u001b[0m\u001b[0;34m\u001b[0m\u001b[0;34m\u001b[0m\u001b[0m\n\u001b[1;32m   3483\u001b[0m \u001b[0;34m\u001b[0m\u001b[0m\n",
      "\u001b[0;31mIndexError\u001b[0m: too many indices for array"
     ]
    }
   ],
   "source": [
    "stack_fixed = 'MD589'\n",
    "margin_um = 200\n",
    "margin_tb = margin_um / XY_PIXEL_DISTANCE_TB\n",
    "# for stack in ['MD594', 'MD585', 'MD593', 'MD592', 'MD590', 'MD591', 'MD595', 'MD598', 'MD602']:\n",
    "for stack in ['MD589']:\n",
    "    sqlController = SqlController(stack)\n",
    "#     contours_valid_by_z = {}\n",
    "    contour_prob_maps_by_sec = {} \n",
    "    sections = sqlController.get_sections_dict(stack)\n",
    "    for sec in sections:\n",
    "        m = load_thumbnail_mask_v3(stack, prep_id=2, section=sec)\n",
    "        print(type(m))\n",
    "        contours = find_contour_points(m, sample_every=1)[1]\n",
    "        contours_valid = [cnt[(cnt[:,0] >= 1) & (cnt[:,1] >= 1)] for cnt in contours]\n",
    "        \n",
    "#         z = np.mean(DataManager.convert_section_to_z(stack, sec, downsample=32, z_begin=0))\n",
    "#         contours_valid_by_z[z] = contours_valid[0]\n",
    "        \n",
    "        m2 = np.zeros_like(m, np.bool)\n",
    "        for cnt in contours_valid:\n",
    "            m2[cnt[:,1], cnt[:,0]] = 1\n",
    "        distance_to_contour = distance_transform_edt(~m2)\n",
    "        contour_prob_map = np.exp(-distance_to_contour**2/(2*margin_tb)**2)\n",
    "        contour_prob_map[contour_prob_map < 1e-2] = 0\n",
    "        contour_prob_maps_by_sec[sec] = contour_prob_map\n",
    "        \n",
    "outline_prob_volume_atlasResol, outline_prob_volume_origin_wrt_wholebrainXYcropped_atlasResol = \\\n",
    "images_to_volume_v2(images=contour_prob_maps_by_sec, spacing_um=20, \n",
    "                    in_resol_um=convert_resolution_string_to_um(resolution='down32', stack=stack_fixed),\n",
    "                    out_resol_um = atlas_resolution_um)\n",
    "                                                                    \n",
    "# outline_prob_volume_bbox (xm,xm,ym,ym) relative to cropped, (zm,zm) relative to uncropped.\n",
    "\n",
    "# crop_box = metadata_cache['cropbox']['MD589']\n",
    "alignedBrainstemCrop_cropbox_down32 = load_cropbox_v2(stack=stack_fixed, prep_id='alignedBrainstemCrop')\n",
    "alignedBrainstemCrop_cropbox_atlasResol = alignedBrainstemCrop_cropbox_down32 * convert_resolution_string_to_um('down32', stack=stack_fixed) / atlas_resolution_um\n",
    "\n",
    "outline_prob_volume_origin_rel2fixedwholebrain_atlasResol = outline_prob_volume_origin_wrt_wholebrainXYcropped_atlasResol + (alignedBrainstemCrop_cropbox_atlasResol[0], alignedBrainstemCrop_cropbox_atlasResol[2], 0)\n",
    "\n",
    "display_volume_sections(outline_prob_volume, direction='z', ncols=5, cmap=plt.cm.gray, start_level=0)"
   ]
  },
  {
   "cell_type": "code",
   "execution_count": null,
   "metadata": {},
   "outputs": [],
   "source": [
    "outline_prob_volume_origin_rel2canon_atlasResol = outline_prob_volume_origin_rel2fixedwholebrain_atlasResol - \\\n",
    "canonical_center_wrt_fixed_um/convert_resolution_string_to_um(resolution='10.0um')"
   ]
  },
  {
   "cell_type": "code",
   "execution_count": null,
   "metadata": {},
   "outputs": [],
   "source": [
    "shell_vol_origin_dict_rel2canon = {'shell': (outline_prob_volume_atlasResol, outline_prob_volume_origin_rel2canon_atlasResol)}"
   ]
  },
  {
   "cell_type": "markdown",
   "metadata": {},
   "source": [
    "# Side task: compute the volumes of structures"
   ]
  },
  {
   "cell_type": "code",
   "execution_count": 43,
   "metadata": {},
   "outputs": [
    {
     "name": "stdout",
     "output_type": "stream",
     "text": [
      "vol_basename1 \n"
     ]
    },
    {
     "name": "stderr",
     "output_type": "stream",
     "text": [
      "Prior structure/index map not found. Generating a new one.\n"
     ]
    },
    {
     "ename": "OSError",
     "evalue": "/net/birdstore/Active_Atlas_Data/data_root/CSHL_volumes/atlasV7/10.0um_scoreVolume/5N_L_origin_wrt_wholebrain.txt not found.",
     "output_type": "error",
     "traceback": [
      "\u001b[0;31m---------------------------------------------------------------------------\u001b[0m",
      "\u001b[0;31mOSError\u001b[0m                                   Traceback (most recent call last)",
      "\u001b[0;32m<ipython-input-43-277a9eb3f942>\u001b[0m in \u001b[0;36m<module>\u001b[0;34m\u001b[0m\n\u001b[1;32m      2\u001b[0m \u001b[0matlas_resolution_um\u001b[0m \u001b[0;34m=\u001b[0m \u001b[0;36m10.0\u001b[0m\u001b[0;34m\u001b[0m\u001b[0;34m\u001b[0m\u001b[0m\n\u001b[1;32m      3\u001b[0m \u001b[0matlas_spec\u001b[0m \u001b[0;34m=\u001b[0m \u001b[0mdict\u001b[0m\u001b[0;34m(\u001b[0m\u001b[0mname\u001b[0m\u001b[0;34m=\u001b[0m\u001b[0;34m'atlasV7'\u001b[0m\u001b[0;34m,\u001b[0m \u001b[0mvol_type\u001b[0m\u001b[0;34m=\u001b[0m\u001b[0;34m'score'\u001b[0m\u001b[0;34m,\u001b[0m \u001b[0mresolution\u001b[0m\u001b[0;34m=\u001b[0m\u001b[0matlas_resolution\u001b[0m\u001b[0;34m)\u001b[0m\u001b[0;34m\u001b[0m\u001b[0;34m\u001b[0m\u001b[0m\n\u001b[0;32m----> 4\u001b[0;31m volumes = load_original_volume_all_known_structures_v3(atlas_spec, \n\u001b[0m\u001b[1;32m      5\u001b[0m                            structures=all_known_structures_sided,in_bbox_wrt='wholebrain')\n\u001b[1;32m      6\u001b[0m \u001b[0;34m\u001b[0m\u001b[0m\n",
      "\u001b[0;32m~/programming/pipeline_utility/utilities/imported_atlas_utilities.py\u001b[0m in \u001b[0;36mload_original_volume_all_known_structures_v3\u001b[0;34m(stack_spec, structures, in_bbox_wrt)\u001b[0m\n\u001b[1;32m   1033\u001b[0m \u001b[0;34m\u001b[0m\u001b[0m\n\u001b[1;32m   1034\u001b[0m         \u001b[0;32mexcept\u001b[0m \u001b[0mException\u001b[0m \u001b[0;32mas\u001b[0m \u001b[0me\u001b[0m\u001b[0;34m:\u001b[0m\u001b[0;34m\u001b[0m\u001b[0;34m\u001b[0m\u001b[0m\n\u001b[0;32m-> 1035\u001b[0;31m             \u001b[0;32mraise\u001b[0m \u001b[0me\u001b[0m\u001b[0;34m\u001b[0m\u001b[0;34m\u001b[0m\u001b[0m\n\u001b[0m\u001b[1;32m   1036\u001b[0m             \u001b[0msys\u001b[0m\u001b[0;34m.\u001b[0m\u001b[0mstderr\u001b[0m\u001b[0;34m.\u001b[0m\u001b[0mwrite\u001b[0m\u001b[0;34m(\u001b[0m\u001b[0;34m'%s\\n'\u001b[0m \u001b[0;34m%\u001b[0m \u001b[0me\u001b[0m\u001b[0;34m)\u001b[0m\u001b[0;34m\u001b[0m\u001b[0;34m\u001b[0m\u001b[0m\n\u001b[1;32m   1037\u001b[0m             \u001b[0msys\u001b[0m\u001b[0;34m.\u001b[0m\u001b[0mstderr\u001b[0m\u001b[0;34m.\u001b[0m\u001b[0mwrite\u001b[0m\u001b[0;34m(\u001b[0m\u001b[0;34m'Score volume for %s does not exist.\\n'\u001b[0m \u001b[0;34m%\u001b[0m \u001b[0mstructure\u001b[0m\u001b[0;34m)\u001b[0m\u001b[0;34m\u001b[0m\u001b[0;34m\u001b[0m\u001b[0m\n",
      "\u001b[0;32m~/programming/pipeline_utility/utilities/imported_atlas_utilities.py\u001b[0m in \u001b[0;36mload_original_volume_all_known_structures_v3\u001b[0;34m(stack_spec, structures, in_bbox_wrt)\u001b[0m\n\u001b[1;32m   1013\u001b[0m                 \u001b[0mindex\u001b[0m \u001b[0;34m=\u001b[0m \u001b[0mstructure_to_label\u001b[0m\u001b[0;34m[\u001b[0m\u001b[0mstructure\u001b[0m\u001b[0;34m]\u001b[0m\u001b[0;34m\u001b[0m\u001b[0;34m\u001b[0m\u001b[0m\n\u001b[1;32m   1014\u001b[0m \u001b[0;34m\u001b[0m\u001b[0m\n\u001b[0;32m-> 1015\u001b[0;31m             v, o = load_original_volume_v2(stack_spec, structure=structure,\n\u001b[0m\u001b[1;32m   1016\u001b[0m                                                        \u001b[0mbbox_wrt\u001b[0m\u001b[0;34m=\u001b[0m\u001b[0min_bbox_wrt\u001b[0m\u001b[0;34m,\u001b[0m\u001b[0;34m\u001b[0m\u001b[0;34m\u001b[0m\u001b[0m\n\u001b[1;32m   1017\u001b[0m                                                        resolution=stack_spec['resolution'])\n",
      "\u001b[0;32m~/programming/pipeline_utility/utilities/imported_atlas_utilities.py\u001b[0m in \u001b[0;36mload_original_volume_v2\u001b[0;34m(stack_spec, structure, resolution, bbox_wrt, return_origin_instead_of_bbox, crop_to_minimal)\u001b[0m\n\u001b[1;32m    709\u001b[0m     \u001b[0;31m#filepath = os.path.join(VOL_DIR, stack, '{}_annotationAsScoreVolume'.format(resolution), filename)\u001b[0m\u001b[0;34m\u001b[0m\u001b[0;34m\u001b[0m\u001b[0;34m\u001b[0m\u001b[0m\n\u001b[1;32m    710\u001b[0m     \u001b[0morigin_filename\u001b[0m \u001b[0;34m=\u001b[0m \u001b[0mget_original_volume_origin_filepath_v3\u001b[0m\u001b[0;34m(\u001b[0m\u001b[0mstack_spec\u001b[0m\u001b[0;34m=\u001b[0m\u001b[0mstack_spec\u001b[0m\u001b[0;34m,\u001b[0m \u001b[0mstructure\u001b[0m\u001b[0;34m=\u001b[0m\u001b[0mstructure\u001b[0m\u001b[0;34m,\u001b[0m \u001b[0mwrt\u001b[0m\u001b[0;34m=\u001b[0m\u001b[0mbbox_wrt\u001b[0m\u001b[0;34m,\u001b[0m \u001b[0mresolution\u001b[0m\u001b[0;34m=\u001b[0m\u001b[0mresolution\u001b[0m\u001b[0;34m)\u001b[0m\u001b[0;34m\u001b[0m\u001b[0;34m\u001b[0m\u001b[0m\n\u001b[0;32m--> 711\u001b[0;31m     \u001b[0morigin\u001b[0m \u001b[0;34m=\u001b[0m \u001b[0mnp\u001b[0m\u001b[0;34m.\u001b[0m\u001b[0mloadtxt\u001b[0m\u001b[0;34m(\u001b[0m\u001b[0morigin_filename\u001b[0m\u001b[0;34m)\u001b[0m\u001b[0;34m\u001b[0m\u001b[0;34m\u001b[0m\u001b[0m\n\u001b[0m\u001b[1;32m    712\u001b[0m \u001b[0;34m\u001b[0m\u001b[0m\n\u001b[1;32m    713\u001b[0m     \u001b[0;32mif\u001b[0m \u001b[0mcrop_to_minimal\u001b[0m\u001b[0;34m:\u001b[0m\u001b[0;34m\u001b[0m\u001b[0;34m\u001b[0m\u001b[0m\n",
      "\u001b[0;32m~/.virtualenvs/pipeline/lib/python3.8/site-packages/numpy/lib/npyio.py\u001b[0m in \u001b[0;36mloadtxt\u001b[0;34m(fname, dtype, comments, delimiter, converters, skiprows, usecols, unpack, ndmin, encoding, max_rows)\u001b[0m\n\u001b[1;32m    979\u001b[0m             \u001b[0mfname\u001b[0m \u001b[0;34m=\u001b[0m \u001b[0mos_fspath\u001b[0m\u001b[0;34m(\u001b[0m\u001b[0mfname\u001b[0m\u001b[0;34m)\u001b[0m\u001b[0;34m\u001b[0m\u001b[0;34m\u001b[0m\u001b[0m\n\u001b[1;32m    980\u001b[0m         \u001b[0;32mif\u001b[0m \u001b[0m_is_string_like\u001b[0m\u001b[0;34m(\u001b[0m\u001b[0mfname\u001b[0m\u001b[0;34m)\u001b[0m\u001b[0;34m:\u001b[0m\u001b[0;34m\u001b[0m\u001b[0;34m\u001b[0m\u001b[0m\n\u001b[0;32m--> 981\u001b[0;31m             \u001b[0mfh\u001b[0m \u001b[0;34m=\u001b[0m \u001b[0mnp\u001b[0m\u001b[0;34m.\u001b[0m\u001b[0mlib\u001b[0m\u001b[0;34m.\u001b[0m\u001b[0m_datasource\u001b[0m\u001b[0;34m.\u001b[0m\u001b[0mopen\u001b[0m\u001b[0;34m(\u001b[0m\u001b[0mfname\u001b[0m\u001b[0;34m,\u001b[0m \u001b[0;34m'rt'\u001b[0m\u001b[0;34m,\u001b[0m \u001b[0mencoding\u001b[0m\u001b[0;34m=\u001b[0m\u001b[0mencoding\u001b[0m\u001b[0;34m)\u001b[0m\u001b[0;34m\u001b[0m\u001b[0;34m\u001b[0m\u001b[0m\n\u001b[0m\u001b[1;32m    982\u001b[0m             \u001b[0mfencoding\u001b[0m \u001b[0;34m=\u001b[0m \u001b[0mgetattr\u001b[0m\u001b[0;34m(\u001b[0m\u001b[0mfh\u001b[0m\u001b[0;34m,\u001b[0m \u001b[0;34m'encoding'\u001b[0m\u001b[0;34m,\u001b[0m \u001b[0;34m'latin1'\u001b[0m\u001b[0;34m)\u001b[0m\u001b[0;34m\u001b[0m\u001b[0;34m\u001b[0m\u001b[0m\n\u001b[1;32m    983\u001b[0m             \u001b[0mfh\u001b[0m \u001b[0;34m=\u001b[0m \u001b[0miter\u001b[0m\u001b[0;34m(\u001b[0m\u001b[0mfh\u001b[0m\u001b[0;34m)\u001b[0m\u001b[0;34m\u001b[0m\u001b[0;34m\u001b[0m\u001b[0m\n",
      "\u001b[0;32m~/.virtualenvs/pipeline/lib/python3.8/site-packages/numpy/lib/_datasource.py\u001b[0m in \u001b[0;36mopen\u001b[0;34m(path, mode, destpath, encoding, newline)\u001b[0m\n\u001b[1;32m    267\u001b[0m \u001b[0;34m\u001b[0m\u001b[0m\n\u001b[1;32m    268\u001b[0m     \u001b[0mds\u001b[0m \u001b[0;34m=\u001b[0m \u001b[0mDataSource\u001b[0m\u001b[0;34m(\u001b[0m\u001b[0mdestpath\u001b[0m\u001b[0;34m)\u001b[0m\u001b[0;34m\u001b[0m\u001b[0;34m\u001b[0m\u001b[0m\n\u001b[0;32m--> 269\u001b[0;31m     \u001b[0;32mreturn\u001b[0m \u001b[0mds\u001b[0m\u001b[0;34m.\u001b[0m\u001b[0mopen\u001b[0m\u001b[0;34m(\u001b[0m\u001b[0mpath\u001b[0m\u001b[0;34m,\u001b[0m \u001b[0mmode\u001b[0m\u001b[0;34m,\u001b[0m \u001b[0mencoding\u001b[0m\u001b[0;34m=\u001b[0m\u001b[0mencoding\u001b[0m\u001b[0;34m,\u001b[0m \u001b[0mnewline\u001b[0m\u001b[0;34m=\u001b[0m\u001b[0mnewline\u001b[0m\u001b[0;34m)\u001b[0m\u001b[0;34m\u001b[0m\u001b[0;34m\u001b[0m\u001b[0m\n\u001b[0m\u001b[1;32m    270\u001b[0m \u001b[0;34m\u001b[0m\u001b[0m\n\u001b[1;32m    271\u001b[0m \u001b[0;34m\u001b[0m\u001b[0m\n",
      "\u001b[0;32m~/.virtualenvs/pipeline/lib/python3.8/site-packages/numpy/lib/_datasource.py\u001b[0m in \u001b[0;36mopen\u001b[0;34m(self, path, mode, encoding, newline)\u001b[0m\n\u001b[1;32m    621\u001b[0m                                       encoding=encoding, newline=newline)\n\u001b[1;32m    622\u001b[0m         \u001b[0;32melse\u001b[0m\u001b[0;34m:\u001b[0m\u001b[0;34m\u001b[0m\u001b[0;34m\u001b[0m\u001b[0m\n\u001b[0;32m--> 623\u001b[0;31m             \u001b[0;32mraise\u001b[0m \u001b[0mIOError\u001b[0m\u001b[0;34m(\u001b[0m\u001b[0;34m\"%s not found.\"\u001b[0m \u001b[0;34m%\u001b[0m \u001b[0mpath\u001b[0m\u001b[0;34m)\u001b[0m\u001b[0;34m\u001b[0m\u001b[0;34m\u001b[0m\u001b[0m\n\u001b[0m\u001b[1;32m    624\u001b[0m \u001b[0;34m\u001b[0m\u001b[0m\n\u001b[1;32m    625\u001b[0m \u001b[0;34m\u001b[0m\u001b[0m\n",
      "\u001b[0;31mOSError\u001b[0m: /net/birdstore/Active_Atlas_Data/data_root/CSHL_volumes/atlasV7/10.0um_scoreVolume/5N_L_origin_wrt_wholebrain.txt not found."
     ]
    }
   ],
   "source": [
    "atlas_resolution = '10.0um'\n",
    "atlas_resolution_um = 10.0\n",
    "atlas_spec = dict(name='atlasV7', vol_type='score', resolution=atlas_resolution)\n",
    "volumes = load_original_volume_all_known_structures_v3(atlas_spec, \n",
    "                           structures=all_known_structures_sided,in_bbox_wrt='wholebrain')\n",
    "\n",
    "volumes_mm3 = defaultdict(dict)\n",
    "for name_u in all_known_structures:\n",
    "    for level in np.arange(0, 1.1, .1):\n",
    "        volumes_mm3[name_u][level] = np.count_nonzero(volumes[convert_to_left_name(name_u)][0] > level) * 10.**3 / 1e9"
   ]
  },
  {
   "cell_type": "code",
   "execution_count": null,
   "metadata": {},
   "outputs": [],
   "source": [
    "DataFrame(volumes_mm3).to_csv('/home/yuncong/structure_volumes_mm3.csv')"
   ]
  },
  {
   "cell_type": "markdown",
   "metadata": {},
   "source": [
    "# Load"
   ]
  },
  {
   "cell_type": "code",
   "execution_count": null,
   "metadata": {},
   "outputs": [],
   "source": [
    "standard_shape_level05surface_polydata_wrt_canonicalAtlasSpace_all_structures = \\\n",
    "DataManager.load_meshes_v2(atlas_spec, levels=.5, include_surround=True, \n",
    "                           structures=all_known_structures_sided)\n",
    "#                            structures=all_known_structures_sided + all_known_structures_sided_with_surround_200um)"
   ]
  },
  {
   "cell_type": "code",
   "execution_count": null,
   "metadata": {},
   "outputs": [],
   "source": [
    "launch_vtk([actor_mesh(p, wireframe=True) \n",
    "           for s, p in standard_shape_level05surface_polydata_wrt_canonicalAtlasSpace_all_structures.iteritems()] \\\n",
    "            + [actor_sphere((0,0,0), radius=1)])"
   ]
  },
  {
   "cell_type": "code",
   "execution_count": null,
   "metadata": {},
   "outputs": [],
   "source": [
    "# Show multiple iso-surfaces\n",
    "\n",
    "standard_shape_level010surface_polydata_wrt_canonicalAtlasSpace_all_structures = \\\n",
    "DataManager.load_meshes_v2(atlas_spec, levels=.1, include_surround=True, \n",
    "                           structures=all_known_structures_sided)\n",
    "#                            structures=all_known_structures_sided + all_known_structures_sided_with_surround_200um)\n",
    "\n",
    "standard_shape_level090surface_polydata_wrt_canonicalAtlasSpace_all_structures = \\\n",
    "DataManager.load_meshes_v2(atlas_spec, levels=.9, include_surround=True, \n",
    "                           structures=all_known_structures_sided)\n",
    "#                            structures=all_known_structures_sided + all_known_structures_sided_with_surround_200um)\n",
    "\n",
    "launch_vtk([actor_mesh(p, wireframe=False, color=name_unsided_to_color_float[convert_to_unsided_label(s)], opacity=.2) \n",
    "           for s, p in standard_shape_level010surface_polydata_wrt_canonicalAtlasSpace_all_structures.iteritems()] \\\n",
    "           + [actor_mesh(p, wireframe=False, color=name_unsided_to_color_float[convert_to_unsided_label(s)], opacity=.1) \n",
    "           for s, p in standard_shape_level090surface_polydata_wrt_canonicalAtlasSpace_all_structures.iteritems()] \\\n",
    "            + [actor_sphere((0,0,0), radius=1)])"
   ]
  },
  {
   "cell_type": "code",
   "execution_count": null,
   "metadata": {},
   "outputs": [],
   "source": [
    "# Load shell\n",
    "\n",
    "stack_fixed = 'MD589'\n",
    "shell_polydata_rel2fixedWholebrain = DataManager.load_mesh_v2(brain_spec={'name':stack_fixed, \n",
    "                                                                    'vol_type':'annotationAsScore',\n",
    "                                                                   'resolution':'10.0um'}, \n",
    "                                                        structure='shell')\n",
    "\n",
    "shell_polydata_rel2canonicalAtlasSpace = move_polydata(shell_polydata_rel2fixedWholebrain,\n",
    "                                                       -canonical_center_wrt_fixed_um / convert_resolution_string_to_um(resolution='10.0um'))\n",
    "\n",
    "shell_actor_rel2canon = actor_mesh(shell_polydata_rel2fixedWholebrain, (1,1,1), opacity=.15, \n",
    "                              wireframe=False, origin=-canonical_center_wrt_fixed_um / convert_resolution_string_to_um(resolution='10.0um'))"
   ]
  },
  {
   "cell_type": "code",
   "execution_count": null,
   "metadata": {},
   "outputs": [],
   "source": [
    "save_data(shell_polydata_rel2canonicalAtlasSpace, \n",
    "          DataManager.get_mesh_filepath_v2(atlas_spec, structure='shell', level=None))"
   ]
  },
  {
   "cell_type": "code",
   "execution_count": null,
   "metadata": {},
   "outputs": [],
   "source": [
    "launch_vtk([actor_mesh(p, wireframe=False, color=name_unsided_to_color_float[convert_to_unsided_label(s)], opacity=.2) \n",
    "           for s, p in standard_shape_level010surface_polydata_wrt_canonicalAtlasSpace_all_structures.iteritems()] \\\n",
    "           + [actor_mesh(p, wireframe=False, color=name_unsided_to_color_float[convert_to_unsided_label(s)], opacity=.1) \n",
    "           for s, p in standard_shape_level090surface_polydata_wrt_canonicalAtlasSpace_all_structures.iteritems()] \\\n",
    "            + [actor_sphere((0,0,0), radius=1)]\\\n",
    "#           +[shell_actor_rel2canon] \\\n",
    "           +[actor_mesh(shell_polydata_rel2canonicalAtlasSpace, (1,1,1), opacity=.15, \n",
    "                              wireframe=False)]\n",
    "#           +[actor_volume(shell_vol_origin_dict_rel2canon['shell'][0].astype(np.float32), \n",
    "#                          what='probability', origin=shell_vol_origin_dict_rel2canon['shell'][1])]\n",
    "          )"
   ]
  },
  {
   "cell_type": "code",
   "execution_count": null,
   "metadata": {},
   "outputs": [],
   "source": [
    "# atlas_volume, structure_to_label, label_to_structure = \\\n",
    "# DataManager.load_original_volume_all_known_structures(stack=atlas_name, sided=True)"
   ]
  },
  {
   "cell_type": "code",
   "execution_count": null,
   "metadata": {},
   "outputs": [],
   "source": [
    "vol, origin_rel2canon = structure_vol_origin_dicts_rel2canon['7N_L']\n",
    "\n",
    "one_structure_volume_actor_rel2canon = actor_volume(vol.astype(np.float32), what='score', \n",
    "                                              origin=origin_rel2canon,\n",
    "                                                    auxdata=0.8*(vol>0.1).astype(np.float32),\n",
    "                                              c=np.array(name_unsided_to_color['7N'])/255.)\n",
    "#                                             c=np.array((1,0,0)))"
   ]
  },
  {
   "cell_type": "markdown",
   "metadata": {},
   "source": [
    "# Render"
   ]
  },
  {
   "cell_type": "code",
   "execution_count": null,
   "metadata": {},
   "outputs": [],
   "source": [
    "launch_vtk([] \\\n",
    "    + structure_mesh_actors_rel2canon \\\n",
    "#     + [one_structure_volume_actor_rel2canon] \\\n",
    "#     + [shell_volume_actor_rel2canon] \\\n",
    "#     + structure_mesh_surround_actors_rel2canon \\\n",
    "    + [shell_actor_rel2canon] \\\n",
    "    + [actor_sphere((0,0,0), radius=1)], \n",
    "           init_angle='sagittal', \n",
    "    background_color=(1,1,1),\n",
    "depth_peeling=True)"
   ]
  }
 ],
 "metadata": {
  "kernelspec": {
   "display_name": "Python 2",
   "language": "python",
   "name": "python2"
  },
  "language_info": {
   "codemirror_mode": {
    "name": "ipython",
    "version": 3
   },
   "file_extension": ".py",
   "mimetype": "text/x-python",
   "name": "python",
   "nbconvert_exporter": "python",
   "pygments_lexer": "ipython3",
   "version": "3.8.2"
  }
 },
 "nbformat": 4,
 "nbformat_minor": 2
}
