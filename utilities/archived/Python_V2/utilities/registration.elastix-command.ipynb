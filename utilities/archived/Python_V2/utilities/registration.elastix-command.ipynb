{
 "cells": [
  {
   "cell_type": "code",
   "execution_count": 1,
   "metadata": {},
   "outputs": [],
   "source": [
    "import numpy as np\n",
    "from matplotlib import pyplot as plt\n",
    "from skimage import io\n",
    "from os.path import expanduser\n",
    "HOME = expanduser(\"~\")\n",
    "import os, subprocess, sys\n",
    "#%matplotlib inline"
   ]
  },
  {
   "cell_type": "code",
   "execution_count": 2,
   "metadata": {},
   "outputs": [
    {
     "name": "stdout",
     "output_type": "stream",
     "text": [
      "Connecting dklab@localhost:3306\n"
     ]
    }
   ],
   "source": [
    "REPO_DIR = '/home/eddyod/programming/pipeline_utility'\n",
    "sys.path.append(REPO_DIR)\n",
    "from utilities.sqlcontroller import SqlController\n",
    "from utilities.file_location import FileLocationManager\n",
    "from utilities.metadata import ELASTIX_BIN"
   ]
  },
  {
   "cell_type": "code",
   "execution_count": 3,
   "metadata": {},
   "outputs": [],
   "source": [
    "stack = 'DK39'\n",
    "sqlController = SqlController()\n",
    "fileLocationManager = FileLocationManager(stack)\n",
    "image_name_list = sqlController.get_image_list(stack, 'destination')"
   ]
  },
  {
   "cell_type": "code",
   "execution_count": 4,
   "metadata": {},
   "outputs": [],
   "source": [
    "stop = len(image_name_list) - 1\n",
    "generated_elastix = os.path.join(fileLocationManager.elastix_dir, 'result.0.tif')\n",
    "generated_transform = os.path.join(fileLocationManager.elastix_dir, 'TransformParameters.0.txt')\n",
    "params_fp = os.path.join(REPO_DIR, 'preprocess', 'parameters', 'Parameters_Rigid_MutualInfo_noNumberOfSpatialSamples_4000Iters.txt')"
   ]
  },
  {
   "cell_type": "code",
   "execution_count": 5,
   "metadata": {},
   "outputs": [
    {
     "name": "stdout",
     "output_type": "stream",
     "text": [
      "24\n",
      "25\n"
     ]
    }
   ],
   "source": [
    "tmp_image_list = image_name_list\n",
    "print(len(tmp_image_list))\n",
    "tmp_image_list.insert(0, image_name_list[0])\n",
    "print(len(tmp_image_list))"
   ]
  },
  {
   "cell_type": "code",
   "execution_count": 6,
   "metadata": {},
   "outputs": [
    {
     "ename": "FileNotFoundError",
     "evalue": "[Errno 2] No such file or directory: '/net/birdstore/Active_Atlas_Data/data_root/pipeline_data/DK39/preps/elastix/result.0.tif' -> '/net/birdstore/Active_Atlas_Data/data_root/pipeline_data/DK39/preps/elastix/DK39_ID_0006_slide058_S3_C3.tif'",
     "output_type": "error",
     "traceback": [
      "\u001b[0;31m---------------------------------------------------------------------------\u001b[0m",
      "\u001b[0;31mFileNotFoundError\u001b[0m                         Traceback (most recent call last)",
      "\u001b[0;32m<ipython-input-6-2d508de32380>\u001b[0m in \u001b[0;36m<module>\u001b[0;34m\u001b[0m\n\u001b[1;32m     17\u001b[0m     \u001b[0mdestination_elastix\u001b[0m \u001b[0;34m=\u001b[0m \u001b[0mos\u001b[0m\u001b[0;34m.\u001b[0m\u001b[0mpath\u001b[0m\u001b[0;34m.\u001b[0m\u001b[0mjoin\u001b[0m\u001b[0;34m(\u001b[0m\u001b[0mfileLocationManager\u001b[0m\u001b[0;34m.\u001b[0m\u001b[0melastix_dir\u001b[0m\u001b[0;34m,\u001b[0m \u001b[0mtmp_image_list\u001b[0m\u001b[0;34m[\u001b[0m\u001b[0mi\u001b[0m\u001b[0;34m]\u001b[0m\u001b[0;34m)\u001b[0m\u001b[0;34m\u001b[0m\u001b[0;34m\u001b[0m\u001b[0m\n\u001b[1;32m     18\u001b[0m     \u001b[0mdestination_transform\u001b[0m \u001b[0;34m=\u001b[0m \u001b[0mos\u001b[0m\u001b[0;34m.\u001b[0m\u001b[0mpath\u001b[0m\u001b[0;34m.\u001b[0m\u001b[0mjoin\u001b[0m\u001b[0;34m(\u001b[0m\u001b[0mfileLocationManager\u001b[0m\u001b[0;34m.\u001b[0m\u001b[0melastix_dir\u001b[0m\u001b[0;34m,\u001b[0m \u001b[0mtransfilename\u001b[0m\u001b[0;34m)\u001b[0m\u001b[0;34m\u001b[0m\u001b[0;34m\u001b[0m\u001b[0m\n\u001b[0;32m---> 19\u001b[0;31m     \u001b[0mos\u001b[0m\u001b[0;34m.\u001b[0m\u001b[0mrename\u001b[0m\u001b[0;34m(\u001b[0m\u001b[0mgenerated_elastix\u001b[0m\u001b[0;34m,\u001b[0m \u001b[0mdestination_elastix\u001b[0m\u001b[0;34m)\u001b[0m\u001b[0;34m\u001b[0m\u001b[0;34m\u001b[0m\u001b[0m\n\u001b[0m\u001b[1;32m     20\u001b[0m     \u001b[0mos\u001b[0m\u001b[0;34m.\u001b[0m\u001b[0mrename\u001b[0m\u001b[0;34m(\u001b[0m\u001b[0mgenerated_transform\u001b[0m\u001b[0;34m,\u001b[0m \u001b[0mdestination_transform\u001b[0m\u001b[0;34m)\u001b[0m\u001b[0;34m\u001b[0m\u001b[0;34m\u001b[0m\u001b[0m\n\u001b[1;32m     21\u001b[0m     \u001b[0mcmp_images\u001b[0m\u001b[0;34m.\u001b[0m\u001b[0mappend\u001b[0m\u001b[0;34m(\u001b[0m\u001b[0mtmp_image_list\u001b[0m\u001b[0;34m[\u001b[0m\u001b[0mi\u001b[0m\u001b[0;34m]\u001b[0m\u001b[0;34m)\u001b[0m\u001b[0;34m\u001b[0m\u001b[0;34m\u001b[0m\u001b[0m\n",
      "\u001b[0;31mFileNotFoundError\u001b[0m: [Errno 2] No such file or directory: '/net/birdstore/Active_Atlas_Data/data_root/pipeline_data/DK39/preps/elastix/result.0.tif' -> '/net/birdstore/Active_Atlas_Data/data_root/pipeline_data/DK39/preps/elastix/DK39_ID_0006_slide058_S3_C3.tif'"
     ]
    }
   ],
   "source": [
    "cmp_images = []\n",
    "for i, file in enumerate(tmp_image_list):\n",
    "    #if os.path.exists(os.path.join(fileLocationManager.elastix_dir, image_name_list[i])):\n",
    "    #    continue\n",
    "    moving_image = os.path.join(fileLocationManager.thumbnail_prep, tmp_image_list[i])\n",
    "    if i < stop:\n",
    "        fixed_image = os.path.join(fileLocationManager.thumbnail_prep, tmp_image_list[i+1])\n",
    "    else:\n",
    "        fixed_image = os.path.join(fileLocationManager.thumbnail_prep, tmp_image_list[-1])\n",
    "        \n",
    "    command = [ELASTIX_BIN, '-f', fixed_image, '-m', moving_image, '-p', params_fp, '-out', fileLocationManager.elastix_dir]\n",
    "    #command = ['touch', generated_file]\n",
    "    ret = subprocess.run(command)\n",
    "    #command = ['touch', os.path.join(fileLocationManager.elastix_dir, generated_transform)]\n",
    "    #ret = subprocess.run(command)\n",
    "    transfilename = os.path.splitext(tmp_image_list[i])[0] + '.txt'\n",
    "    destination_elastix = os.path.join(fileLocationManager.elastix_dir, tmp_image_list[i])\n",
    "    destination_transform = os.path.join(fileLocationManager.elastix_dir, transfilename)\n",
    "    os.rename(generated_elastix, destination_elastix)\n",
    "    os.rename(generated_transform, destination_transform)\n",
    "    cmp_images.append(tmp_image_list[i])\n",
    "\n",
    "    #os.rename(os.path.join(fileLocationManager.elastix_dir, 'TransformParameters.0.txt'),\n",
    "    #          os.path.join(fileLocationManager.elastix_dir, transfilename + '.txt' ))\n",
    "    #print('command returned ', ret.returncode)\n"
   ]
  },
  {
   "cell_type": "code",
   "execution_count": null,
   "metadata": {},
   "outputs": [],
   "source": [
    "len(cmp_images)\n",
    "len(image_name_list)\n",
    "[m for m in image_name_list if m not in cmp_images]"
   ]
  }
 ],
 "metadata": {
  "kernelspec": {
   "display_name": "Python 3",
   "language": "python",
   "name": "python3"
  },
  "language_info": {
   "codemirror_mode": {
    "name": "ipython",
    "version": 3
   },
   "file_extension": ".py",
   "mimetype": "text/x-python",
   "name": "python",
   "nbconvert_exporter": "python",
   "pygments_lexer": "ipython3",
   "version": "3.7.3"
  }
 },
 "nbformat": 4,
 "nbformat_minor": 4
}
