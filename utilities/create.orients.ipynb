{
 "cells": [
  {
   "cell_type": "code",
   "execution_count": 8,
   "metadata": {},
   "outputs": [
    {
     "name": "stdout",
     "output_type": "stream",
     "text": [
      "Connecting dklab@192.168.1.12:3306\n"
     ]
    }
   ],
   "source": [
    "import numpy as np\n",
    "from matplotlib import pyplot as plt\n",
    "from skimage import io\n",
    "from os.path import expanduser\n",
    "HOME = expanduser(\"~\")\n",
    "import os, sys\n",
    "import SimpleITK as sitk\n",
    "from PIL import Image, ImageOps\n",
    "from tqdm import tqdm\n",
    "#%matplotlib inline\n",
    "REPO_DIR = '/home/eddyod/programming/pipeline_utility'\n",
    "sys.path.append(REPO_DIR)\n",
    "from utilities.sqlcontroller import SqlController\n",
    "from utilities.file_location import FileLocationManager\n",
    "stack = 'DK39'\n",
    "sqlController = SqlController()\n",
    "fileLocationManager = FileLocationManager(stack)\n",
    "image_name_list = sqlController.get_image_list(stack, 'destination')\n",
    "files = [i for i in image_name_list if '_C1' in i]\n",
    "#files = image_name_list[0:50]"
   ]
  },
  {
   "cell_type": "code",
   "execution_count": 9,
   "metadata": {},
   "outputs": [],
   "source": [
    "DIR = os.path.join(HOME, 'programming', 'dk39')\n",
    "#DIR = '/net/birdstore/Active_Atlas_Data/data_root/pipeline_data/DK39'\n",
    "ORIENTED = os.path.join(DIR, 'preps', 'oriented')\n",
    "THUMBNAIL = os.path.join(DIR, 'preps', 'thumbnail')\n",
    "TIF = os.path.join(DIR, 'tif')\n",
    "INPUT = THUMBNAIL\n",
    "#INPUTS = INPUTS[80:120]\n",
    "COLOR = 2**16\n",
    "files = [i for i in image_name_list if '_C1' in i]\n",
    "files = os.listdir(INPUT)\n",
    "#files = files[0:50]"
   ]
  },
  {
   "cell_type": "code",
   "execution_count": 12,
   "metadata": {},
   "outputs": [],
   "source": [
    "def everything(img, rotation, filename):\n",
    "    img = get_last_2d(img)\n",
    "    img = np.rot90(img, rotation)\n",
    "    #if 'DK39_ID_0358_slide030_S4_C1.tif' not in filename:\n",
    "    #    img = crop_rows(img, 29)\n",
    "    #else:\n",
    "    #    print('Not cropping', filename)\n",
    "    #maxi = np.amax(img) \n",
    "    #img = linnorm(img, maxi)\n",
    "    return img.astype('uint16') \n",
    "\n",
    "def get_last_2d(data):\n",
    "    if data.ndim <= 2:\n",
    "        return data    \n",
    "    m,n = data.shape[-2:]\n",
    "    return data.flat[:m*n].reshape(m,n)\n",
    "\n",
    "def crop_rows(img,cropy):\n",
    "    y,x = img.shape\n",
    "    starty = y - cropy\n",
    "    return img[0:starty,:]\n",
    "\n",
    "def lognorm(img, limit):\n",
    "    lxf = np.log(img + 0.005)\n",
    "    lxf = np.where(lxf < 0, 0, lxf)\n",
    "    xmin = min(lxf.flatten())\n",
    "    xmax = max(lxf.flatten())\n",
    "    return -lxf * limit / (xmax - xmin) + xmax * limit / (xmax - xmin)  # log of data and stretch 0 to max\n",
    "\n",
    "\n",
    "def linnorm(img, limit):\n",
    "    flat = img.flatten()\n",
    "    hist, bins = np.histogram(flat, limit + 1)\n",
    "    cdf = hist.cumsum()  # cumulative distribution function\n",
    "    cdf = limit * cdf / cdf[-1]  # normalize\n",
    "    # use linear interpolation of cdf to find new pixel values\n",
    "    img_norm = np.interp(flat, bins[:-1], cdf)\n",
    "    img_norm = np.reshape(img_norm, img.shape)\n",
    "    #img_norm = limit - img_norm\n",
    "    return img_norm.astype('uint16')\n",
    "\n",
    "def get_max_size(INPUT):\n",
    "    widths = []\n",
    "    heights = []\n",
    "    files = os.listdir(INPUT)\n",
    "    for file in files:\n",
    "        img = io.imread(os.path.join(INPUT, file))\n",
    "        heights.append(img.shape[0])\n",
    "        widths.append(img.shape[1])\n",
    "\n",
    "    max_width = max(widths)\n",
    "    max_height = max(heights)\n",
    "\n",
    "    return max_width, max_height\n",
    "\n",
    "\n",
    "def get_max_intensity(INPUT):\n",
    "    intensities = set()\n",
    "    files = os.listdir(INPUT)\n",
    "    for file in files:\n",
    "        img = io.imread(os.path.join(INPUT, file))\n",
    "        intensities.add(np.amax(img))\n",
    "        \n",
    "    return max(intensities),min()\n"
   ]
  },
  {
   "cell_type": "code",
   "execution_count": 13,
   "metadata": {},
   "outputs": [
    {
     "name": "stderr",
     "output_type": "stream",
     "text": [
      "100%|██████████| 460/460 [00:08<00:00, 51.15it/s]\n"
     ]
    }
   ],
   "source": [
    "# orient images\n",
    "dels = os.listdir(ORIENTED)\n",
    "#files = os.listdir(INPUT)\n",
    "for d in dels:\n",
    "    os.unlink(os.path.join(ORIENTED, d))\n",
    "#for i in (files):\n",
    "for i in tqdm(files):\n",
    "    infile = os.path.join(INPUT, i)\n",
    "    outfile = os.path.join(ORIENTED, i)\n",
    "    img = io.imread(infile)\n",
    "    img = everything(img, 3, i)\n",
    "    io.imsave(outfile, img, check_contrast=False)\n",
    "    img = None"
   ]
  }
 ],
 "metadata": {
  "kernelspec": {
   "display_name": "Python 3",
   "language": "python",
   "name": "python3"
  },
  "language_info": {
   "codemirror_mode": {
    "name": "ipython",
    "version": 3
   },
   "file_extension": ".py",
   "mimetype": "text/x-python",
   "name": "python",
   "nbconvert_exporter": "python",
   "pygments_lexer": "ipython3",
   "version": "3.8.2"
  }
 },
 "nbformat": 4,
 "nbformat_minor": 4
}
