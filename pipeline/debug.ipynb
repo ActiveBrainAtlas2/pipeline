{
 "cells": [
  {
   "cell_type": "code",
   "execution_count": 15,
   "metadata": {},
   "outputs": [],
   "source": [
    "import os\n",
    "from PIL import Image\n",
    "import numpy as np\n",
    "from pipeline.utilities.shell_tools import get_image_size"
   ]
  },
  {
   "cell_type": "code",
   "execution_count": 16,
   "metadata": {},
   "outputs": [],
   "source": [
    "def get_width_and_height(path):\n",
    "    files = os.listdir(path)\n",
    "    w = []\n",
    "    h = []\n",
    "    for file in files:\n",
    "        filepath = path+'/'+file\n",
    "        width,height = get_image_size(filepath)\n",
    "        w.append(int(width))\n",
    "        h.append(int(height))\n",
    "    return w,h"
   ]
  },
  {
   "cell_type": "code",
   "execution_count": 19,
   "metadata": {},
   "outputs": [
    {
     "data": {
      "text/plain": [
       "(1212, 1956)"
      ]
     },
     "execution_count": 19,
     "metadata": {},
     "output_type": "execute_result"
    }
   ],
   "source": [
    "path = '/net/birdstore/Active_Atlas_Data/data_root/pipeline_data/DK73/preps/CH2/thumbnail'\n",
    "w,h = get_width_and_height(path)\n",
    "np.max(w),np.max(h)"
   ]
  },
  {
   "cell_type": "code",
   "execution_count": 21,
   "metadata": {},
   "outputs": [
    {
     "data": {
      "text/plain": [
       "(2542, 1575)"
      ]
     },
     "execution_count": 21,
     "metadata": {},
     "output_type": "execute_result"
    }
   ],
   "source": [
    "path = '/net/birdstore/Active_Atlas_Data/data_root/pipeline_data/DK73/preps/CH2/thumbnail_cleaned'\n",
    "wc,hc = get_width_and_height(path)\n",
    "np.unique(wc),np.unique(hc)"
   ]
  },
  {
   "cell_type": "code",
   "execution_count": 23,
   "metadata": {},
   "outputs": [
    {
     "data": {
      "text/plain": [
       "(array([1956, 2542]), array([1212, 1575]))"
      ]
     },
     "execution_count": 23,
     "metadata": {},
     "output_type": "execute_result"
    }
   ],
   "source": [
    "np.unique(wc),np.unique(hc)"
   ]
  },
  {
   "cell_type": "code",
   "execution_count": 17,
   "metadata": {},
   "outputs": [
    {
     "data": {
      "text/plain": [
       "(42459, 71817)"
      ]
     },
     "execution_count": 17,
     "metadata": {},
     "output_type": "execute_result"
    }
   ],
   "source": [
    "path = '/net/birdstore/Active_Atlas_Data/data_root/pipeline_data/DK78/preps/CH1/full'\n",
    "fw,fh = get_width_and_height(path)\n",
    "np.max(fw),np.max(fh)"
   ]
  },
  {
   "cell_type": "code",
   "execution_count": 18,
   "metadata": {},
   "outputs": [
    {
     "data": {
      "text/plain": [
       "(71817, 42459)"
      ]
     },
     "execution_count": 18,
     "metadata": {},
     "output_type": "execute_result"
    }
   ],
   "source": [
    "path = '/net/birdstore/Active_Atlas_Data/data_root/pipeline_data/DK78/preps/CH1/full_cleaned'\n",
    "fw,fh = get_width_and_height(path)\n",
    "np.max(fw),np.max(fh)"
   ]
  },
  {
   "cell_type": "code",
   "execution_count": 3,
   "metadata": {},
   "outputs": [],
   "source": [
    "from lib.CZIManager import CZIManager"
   ]
  },
  {
   "cell_type": "code",
   "execution_count": 12,
   "metadata": {},
   "outputs": [
    {
     "data": {
      "text/plain": [
       "((57, 31), (57, 31))"
      ]
     },
     "execution_count": 12,
     "metadata": {},
     "output_type": "execute_result"
    }
   ],
   "source": [
    "path = '/net/birdstore/Active_Atlas_Data/data_root/pipeline_data/DK73/czi/'\n",
    "file = 'DK73_slide075_2022_03_07_axion2.czi'\n",
    "czi = CZIManager(path+file)\n",
    "data = czi.get_scene(scale=0.001, scene_index=2, channel=1)\n",
    "data2 = czi.get_scene(scale=0.001, scene_index=2, channel=2)\n",
    "data.shape,data2.shape"
   ]
  },
  {
   "cell_type": "code",
   "execution_count": null,
   "metadata": {},
   "outputs": [],
   "source": []
  }
 ],
 "metadata": {
  "interpreter": {
   "hash": "9b29855540defb355a50951874e4b3a9a33e036ed29af88ad65ef37e45f70f6e"
  },
  "kernelspec": {
   "display_name": "Python 3.6.9 ('pipeline')",
   "language": "python",
   "name": "python3"
  },
  "language_info": {
   "codemirror_mode": {
    "name": "ipython",
    "version": 3
   },
   "file_extension": ".py",
   "mimetype": "text/x-python",
   "name": "python",
   "nbconvert_exporter": "python",
   "pygments_lexer": "ipython3",
   "version": "3.6.9"
  },
  "orig_nbformat": 4
 },
 "nbformat": 4,
 "nbformat_minor": 2
}
