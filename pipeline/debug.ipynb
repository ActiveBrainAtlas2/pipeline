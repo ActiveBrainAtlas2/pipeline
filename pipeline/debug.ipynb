{
 "cells": [
  {
   "cell_type": "code",
   "execution_count": 15,
   "metadata": {},
   "outputs": [],
   "source": [
    "import os\n",
    "from PIL import Image\n",
    "import numpy as np\n",
    "from pipeline.utilities.shell_tools import get_image_size"
   ]
  },
  {
   "cell_type": "code",
   "execution_count": 16,
   "metadata": {},
   "outputs": [],
   "source": [
    "def get_width_and_height(path):\n",
    "    files = os.listdir(path)\n",
    "    w = []\n",
    "    h = []\n",
    "    for file in files:\n",
    "        filepath = path+'/'+file\n",
    "        width,height = get_image_size(filepath)\n",
    "        w.append(int(width))\n",
    "        h.append(int(height))\n",
    "    return w,h"
   ]
  },
  {
   "cell_type": "code",
   "execution_count": 19,
   "metadata": {},
   "outputs": [
    {
     "data": {
      "text/plain": [
       "(1212, 1956)"
      ]
     },
     "execution_count": 19,
     "metadata": {},
     "output_type": "execute_result"
    }
   ],
   "source": [
    "path = '/net/birdstore/Active_Atlas_Data/data_root/pipeline_data/DK73/preps/CH2/thumbnail'\n",
    "w,h = get_width_and_height(path)\n",
    "np.max(w),np.max(h)"
   ]
  },
  {
   "cell_type": "code",
   "execution_count": 21,
   "metadata": {},
   "outputs": [
    {
     "data": {
      "text/plain": [
       "(2542, 1575)"
      ]
     },
     "execution_count": 21,
     "metadata": {},
     "output_type": "execute_result"
    }
   ],
   "source": [
    "path = '/net/birdstore/Active_Atlas_Data/data_root/pipeline_data/DK73/preps/CH2/thumbnail_cleaned'\n",
    "wc,hc = get_width_and_height(path)\n",
    "np.unique(wc),np.unique(hc)"
   ]
  },
  {
   "cell_type": "code",
   "execution_count": 23,
   "metadata": {},
   "outputs": [
    {
     "data": {
      "text/plain": [
       "(array([1956, 2542]), array([1212, 1575]))"
      ]
     },
     "execution_count": 23,
     "metadata": {},
     "output_type": "execute_result"
    }
   ],
   "source": [
<<<<<<< HEAD
=======
    "np.unique(wc),np.unique(hc)"
<<<<<<< HEAD
=======
<<<<<<< HEAD
>>>>>>> d505ae9c52af128a763f122d0a199a8a4574b3bc
    "img = read_image(infile)\n",
    "plt.imshow(img)"
   ]
  },
  {
   "cell_type": "code",
   "execution_count": null,
   "metadata": {},
   "outputs": [],
   "source": [
    "if rotation > 0:\n",
    "    cleaned = rotate_image(cleaned, infile, rotation)\n",
    "if flip == \"flip\":\n",
    "    cleaned = np.flip(cleaned)\n",
    "if flip == \"flop\":\n",
    "    cleaned = np.flip(cleaned, axis=1)\n",
    "print(\"START PAD IMAGE\")\n",
    "cropped = pad_image(cleaned, infile, max_width, max_height, 0)\n",
    "start_time = timer()\n",
    "print(\"START FILESAVE \", outpath)\n",
    "tiff.imsave(outpath, cropped)\n",
    "end_time = timer()\n",
    "print(f\"SAVE TIME: {round((end_time - start_time), 1)} s\")\n",
    "del cropped"
   ]
  },
  {
   "cell_type": "code",
   "execution_count": 41,
   "metadata": {},
   "outputs": [],
   "source": [
    "file = 'DK73_slide073_2022_03_08_axion2.czi'\n",
    "czi = CZIManager(file)\n",
    "data = czi.get_scene(scale=0.001, scene_index=1, channel=1)\n",
    "# imsave(out, data)\n"
   ]
  },
  {
   "cell_type": "code",
   "execution_count": 34,
   "metadata": {},
   "outputs": [],
   "source": []
  },
  {
   "cell_type": "code",
   "execution_count": 37,
   "metadata": {},
   "outputs": [],
   "source": [
    "extract_tiff_from_czi(file,out,scale = 0.03125,scenei=2)\n"
<<<<<<< HEAD
=======
=======
    "path = '/net/birdstore/Active_Atlas_Data/data_root/pipeline_data/DK78/preps/CH1/thumbnail_cleaned'\n",
    "wc,hc = get_width_and_height(path)\n",
    "np.max(wc),np.max(hc)"
>>>>>>> 449190e7e8575a2386a621da75095c4f9ea73654
>>>>>>> 86bb639e69c0a2c14ec41200295c35fb4ad53c9f
>>>>>>> d505ae9c52af128a763f122d0a199a8a4574b3bc
=======
>>>>>>> 069c214e1644c644acc074923f5b47c359039651
   ]
  },
  {
   "cell_type": "code",
   "execution_count": 17,
   "metadata": {},
   "outputs": [
    {
     "data": {
      "text/plain": [
       "(42459, 71817)"
      ]
     },
     "execution_count": 17,
     "metadata": {},
     "output_type": "execute_result"
    }
   ],
   "source": [
    "path = '/net/birdstore/Active_Atlas_Data/data_root/pipeline_data/DK78/preps/CH1/full'\n",
    "fw,fh = get_width_and_height(path)\n",
    "np.max(fw),np.max(fh)"
   ]
  },
  {
   "cell_type": "code",
   "execution_count": 18,
   "metadata": {},
   "outputs": [
    {
     "data": {
      "text/plain": [
       "(71817, 42459)"
      ]
     },
     "execution_count": 18,
     "metadata": {},
     "output_type": "execute_result"
    }
   ],
   "source": [
    "path = '/net/birdstore/Active_Atlas_Data/data_root/pipeline_data/DK78/preps/CH1/full_cleaned'\n",
    "fw,fh = get_width_and_height(path)\n",
    "np.max(fw),np.max(fh)"
   ]
  },
  {
   "cell_type": "code",
   "execution_count": 3,
   "metadata": {},
   "outputs": [],
   "source": [
    "from lib.CZIManager import CZIManager"
   ]
  },
  {
   "cell_type": "code",
   "execution_count": 12,
   "metadata": {},
   "outputs": [
    {
     "data": {
      "text/plain": [
       "((57, 31), (57, 31))"
      ]
     },
     "execution_count": 12,
     "metadata": {},
     "output_type": "execute_result"
    }
   ],
   "source": [
    "path = '/net/birdstore/Active_Atlas_Data/data_root/pipeline_data/DK73/czi/'\n",
    "file = 'DK73_slide075_2022_03_07_axion2.czi'\n",
    "czi = CZIManager(path+file)\n",
    "data = czi.get_scene(scale=0.001, scene_index=2, channel=1)\n",
    "data2 = czi.get_scene(scale=0.001, scene_index=2, channel=2)\n",
    "data.shape,data2.shape"
   ]
  },
  {
   "cell_type": "code",
   "execution_count": 29,
   "metadata": {},
   "outputs": [],
   "source": [
    "file_key = ['/net/birdstore/Active_Atlas_Data/data_root/pipeline_data/DK73/preps/CH1/thumbnail/193.tif', '/net/birdstore/Active_Atlas_Data/data_root/pipeline_data/DK73/preps/CH1/thumbnail_cleaned/193.tif', '/net/birdstore/Active_Atlas_Data/data_root/pipeline_data/DK73/preps/masks/thumbnail_masked/193.tif', 5, 'none', 1575, 2542, 1]"
   ]
  },
  {
   "cell_type": "code",
   "execution_count": 32,
   "metadata": {},
   "outputs": [],
   "source": [
    "import os, sys, psutil\n",
    "from debugpy import breakpoint\n",
    "import cv2\n",
    "import numpy as np\n",
    "from skimage import io\n",
    "from concurrent.futures.process import ProcessPoolExecutor\n",
    "from utilities.utilities_mask import rotate_image, pad_image, scaled, equalized\n",
    "from utilities.utilities_process import test_dir, SCALING_FACTOR, get_cpus\n",
    "import tifffile as tiff\n",
    "from PIL import Image\n",
    "\n",
    "Image.MAX_IMAGE_PIXELS = None\n",
    "from lib.pipeline_utilities import read_image, get_max_image_size, convert_size\n",
    "from model.slide import SlideCziTif\n",
    "from model.slide import Slide\n",
    "from model.slide import Section\n",
    "from copy import copy\n",
    "from pathlib import Path\n",
    "import operator\n",
    "import gc\n",
    "from timeit import default_timer as timer\n",
    "\"\"\"The main function that uses the User edited mask to crop out the tissue from surrounding debre. and rotates the image to\n",
    "        a usual orientation (where the olfactory bulb is facing left and the cerebellum is facing right.\n",
    "        The hippocampus is facing up and the brainstem is facing down)\n",
    "file_keys is a tuple of the following:\n",
    "    :param infile: file path of image to read\n",
    "    :param outpath: file path of image to write\n",
    "    :param mask: binary mask image of the image\n",
    "    :param rotation: amount of rotation. 1 = rotate by 90degrees\n",
    "    :param flip: either flip or flop\n",
    "    :param max_width: width of image\n",
    "    :param max_height: height of image\n",
    "    :param scale: used in scaling. Gotten from the histogram\n",
    ":return: nothing. we write the image to disk\n",
    "\n",
    "Args:\n",
    "    file_key (list): List of arguments parsed to the cropping algorithm.  includes:\n",
    "    1. str: path to the tiff file being cropped\n",
    "    2. str: path to store the cropped tiff image\n",
    "    3. str: path to the mask file used to crop the image\n",
    "    4. int: Number of rotations to be applied .  The rotation is user defined and was used to make sure the brain is\n",
    "            in a usual orientation that makes sense. each rotation is 90 degree\n",
    "            eg: a rotation of 3 is a 270 degree rotation\n",
    "    5. int:\n",
    "\"\"\"\n",
    "infile, outpath, maskfile, rotation, flip, max_width, max_height, channel = file_key\n",
    "\n",
    "img = read_image(infile)\n",
    "# print(f\"MEM SIZE OF img {infile}: {convert_size(sys.getsizeof(img))}\")\n",
    "mask = read_image(maskfile)\n",
    "# print(f\"MEM SIZE OF mask {maskfile}: {convert_size(sys.getsizeof(mask))}\")\n",
    "cleaned = apply_mask(img, mask, infile)\n",
    "# print(f\"MEM SIZE OF cleaned: {convert_size(sys.getsizeof(cleaned))}\")\n",
    "# print(\n",
    "    # f\"TOTAL MEMORY SIZE FOR AGGREGATE (img, mask, cleaned): {convert_size(sys.getsizeof(img)+sys.getsizeof(mask)+sys.getsizeof(cleaned))}\"\n",
    "# )\n",
    "if channel == 1:\n",
    "    cleaned = scaled(cleaned, mask, epsilon=0.01)\n",
    "    cleaned = equalized(cleaned)\n",
    "# cropped = crop_image(cleaned, mask)\n",
    "# del img\n",
    "# del mask\n",
    "gc.collect()\n",
    "# print(\"START ROTATION\")\n",
    "if rotation > 0:\n",
    "    cleaned = rotate_image(cleaned, infile, rotation)\n",
    "if flip == \"flip\":\n",
    "    cleaned = np.flip(cleaned)\n",
    "if flip == \"flop\":\n",
    "    cleaned = np.flip(cleaned, axis=1)\n",
    "# print(\"START PAD IMAGE\")\n",
    "cropped = pad_image(cleaned, infile, max_width, max_height, 0)\n",
    "start_time = timer()\n",
    "# print(\"START FILESAVE \", outpath)\n",
    "# tiff.imsave(outpath, cropped)\n",
    "end_time = timer()\n",
    "# print(f\"SAVE TIME: {round((end_time - start_time), 1)} s\")\n",
    "# del cropped"
   ]
  },
  {
   "cell_type": "code",
   "execution_count": 37,
   "metadata": {},
   "outputs": [
    {
     "data": {
      "text/plain": [
       "<matplotlib.image.AxesImage at 0x7f65f64a82b0>"
      ]
     },
     "execution_count": 37,
     "metadata": {},
     "output_type": "execute_result"
    },
    {
     "data": {
      "image/png": "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",
      "text/plain": [
       "<Figure size 432x288 with 1 Axes>"
      ]
     },
     "metadata": {
      "needs_background": "light"
     },
     "output_type": "display_data"
    }
   ],
   "source": [
    "import matplotlib.pyplot as plt\n",
    "plt.imshow(cropped)"
   ]
  },
  {
   "cell_type": "code",
   "execution_count": 38,
   "metadata": {},
   "outputs": [
    {
     "data": {
      "text/plain": [
       "<matplotlib.image.AxesImage at 0x7f65f641b160>"
      ]
     },
     "execution_count": 38,
     "metadata": {},
     "output_type": "execute_result"
    },
    {
     "data": {
      "image/png": "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",
      "text/plain": [
       "<Figure size 432x288 with 1 Axes>"
      ]
     },
     "metadata": {
      "needs_background": "light"
     },
     "output_type": "display_data"
    }
   ],
   "source": [
    "plt.imshow(img)"
   ]
  },
  {
   "cell_type": "code",
   "execution_count": null,
   "metadata": {},
   "outputs": [],
   "source": []
  }
 ],
 "metadata": {
  "interpreter": {
   "hash": "9b29855540defb355a50951874e4b3a9a33e036ed29af88ad65ef37e45f70f6e"
  },
  "kernelspec": {
   "display_name": "Python 3.6.9 ('pipeline')",
   "language": "python",
   "name": "python3"
  },
  "language_info": {
   "codemirror_mode": {
    "name": "ipython",
    "version": 3
   },
   "file_extension": ".py",
   "mimetype": "text/x-python",
   "name": "python",
   "nbconvert_exporter": "python",
   "pygments_lexer": "ipython3",
   "version": "3.6.9"
  },
  "orig_nbformat": 4
 },
 "nbformat": 4,
 "nbformat_minor": 2
}
