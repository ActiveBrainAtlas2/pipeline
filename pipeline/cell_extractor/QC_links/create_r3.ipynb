{
 "cells": [
  {
   "cell_type": "code",
   "execution_count": 1,
   "metadata": {},
   "outputs": [
    {
     "name": "stdout",
     "output_type": "stream",
     "text": [
      "\n"
     ]
    }
   ],
   "source": [
    "import sys\n",
    "import os\n",
    "sys.path.append(os.path.abspath('./../../'))\n",
    "from cell_extractor import utils \n",
    "import sys\n",
    "import os\n",
    "sys.path.append(os.path.abspath('./../../../..'))\n",
    "from cell_extractor.CellDetectorBase import CellDetectorBase\n",
    "from pipeline.lib.annotation_layer import Cell,random_string\n",
    "import numpy as np\n",
    "from pipeline.lib.UrlGenerator import UrlGenerator\n",
    "from cell_extractor.BorderFinder import BorderFinder\n",
    "from cell_extractor.CellDetector import MultiThresholdDetector\n",
    "from cell_extractor.CellAnnotationUtilities import CellAnnotationUtilities"
   ]
  },
  {
   "cell_type": "code",
   "execution_count": 2,
   "metadata": {},
   "outputs": [
    {
     "name": "stderr",
     "output_type": "stream",
     "text": [
      "/usr/local/share/pipeline/lib/python3.6/site-packages/pandas/core/frame.py:4308: SettingWithCopyWarning:\n",
      "\n",
      "\n",
      "A value is trying to be set on a copy of a slice from a DataFrame\n",
      "\n",
      "See the caveats in the documentation: https://pandas.pydata.org/pandas-docs/stable/user_guide/indexing.html#returning-a-view-versus-a-copy\n",
      "\n"
     ]
    },
    {
     "name": "stdout",
     "output_type": "stream",
     "text": [
      "Julian QC url id DK41 : https://activebrainatlas.ucsd.edu/ng/?id=648\n",
      "Marissa QC url DK41 : https://activebrainatlas.ucsd.edu/ng/?id=649\n"
     ]
    }
   ],
   "source": [
    "animal = 'DK41'\n",
    "utils.generate_QC_link(animal,round=3,sample = 500)"
   ]
  },
  {
   "cell_type": "code",
   "execution_count": 7,
   "metadata": {},
   "outputs": [],
   "source": [
    "sample = 500\n",
    "animal='DK41'\n",
    "finder = BorderFinder(animal)\n",
    "detector = CellDetectorBase(animal,round = 3,segmentation_threshold=2000)\n",
    "detections = detector.load_detections()"
   ]
  },
  {
   "cell_type": "code",
   "execution_count": null,
   "metadata": {},
   "outputs": [],
   "source": [
    "detections\n",
    "all_points = np.array([detections.col,detections.row,detections.section])\n",
    "search_array\n",
    "cell_util.find_cloest_neighbor_among_points(all_points,search_array,max_distance = 20,)"
   ]
  },
  {
   "cell_type": "code",
   "execution_count": 4,
   "metadata": {},
   "outputs": [],
   "source": [
    "cell_util = CellAnnotationUtilities()"
   ]
  },
  {
   "cell_type": "code",
   "execution_count": null,
   "metadata": {},
   "outputs": [],
   "source": [
    "sample = 500\n",
    "animal='DK41'\n",
    "finder = BorderFinder(animal)\n",
    "detector = CellDetectorBase(animal,round = round,segmentation_threshold=2000)\n",
    "detections = detector.load_detections()\n",
    "sure = detections[detections.predictions==2]\n",
    "unsure = detections[detections.predictions==0]\n",
    "\n",
    "\n",
    "sure.rename(columns = {'x' : 'col', 'y' : 'row'}, inplace = True)\n",
    "unsure.rename(columns = {'x' : 'col', 'y' : 'row'}, inplace = True)\n",
    "_,sure = finder.find_border_cells(sure)\n",
    "_,unsure = finder.find_border_cells(unsure)\n",
    "if sample is not None:\n",
    "    sure_data_sample = sure[['col','row','section']].sample(sample).sort_values('section').to_numpy().tolist()\n",
    "else:\n",
    "    sure_data_sample = sure[['col','row','section']].sort_values('section').to_numpy().tolist()\n",
    "sure_data = sure[['col','row','section']].sort_values('section').to_numpy().tolist()\n",
    "unsure_data = unsure[['col','row','section']].sort_values('section').to_numpy().tolist()\n",
    "sure_cells_sample = utils.numpy_to_json(sure_data_sample,category = f'Round{round+1}_Sure')\n",
    "sure_cells = utils.numpy_to_json(sure_data,category = f'Round{round+1}_Sure')\n",
    "unsure_cells = utils.numpy_to_json(unsure_data,color_hex='#1d66db',category = f'Round{round+1}_Unsure')\n",
    "\n",
    "sc_id = utils.create_QC_url(animal,sure_cells_sample,unsure_cells,f'Julian QC{round+1} '+animal)\n",
    "# false_negative_id = create_QC_url(animal,sure_cells,unsure_cells,'Julian false negative '+animal)\n",
    "print(f'Julian QC url id {animal} : https://activebrainatlas.ucsd.edu/ng/?id={sc_id}')\n",
    "# print(f'Julian false negative url id {animal} : https://activebrainatlas.ucsd.edu/ng/?id={false_negative_id}')\n",
    "\n",
    "sc_id = utils.create_QC_url(animal,sure_cells_sample,unsure_cells,f'Marissa QC{round+1} '+animal)\n",
    "# false_negative_id = create_QC_url(animal,sure_cells,unsure_cells,'Marissa false negative '+animal)\n",
    "print(f'Marissa QC url {animal} : https://activebrainatlas.ucsd.edu/ng/?id={sc_id}')\n",
    "# print(f'Marissa false negative url id {animal} : https://activebrainatlas.ucsd.edu/ng/?id={false_negative_id}')"
   ]
  }
 ],
 "metadata": {
  "kernelspec": {
   "display_name": "Python 3.6.9 ('pipeline')",
   "language": "python",
   "name": "python3"
  },
  "language_info": {
   "codemirror_mode": {
    "name": "ipython",
    "version": 3
   },
   "file_extension": ".py",
   "mimetype": "text/x-python",
   "name": "python",
   "nbconvert_exporter": "python",
   "pygments_lexer": "ipython3",
   "version": "3.6.9"
  },
  "orig_nbformat": 4,
  "vscode": {
   "interpreter": {
    "hash": "9b29855540defb355a50951874e4b3a9a33e036ed29af88ad65ef37e45f70f6e"
   }
  }
 },
 "nbformat": 4,
 "nbformat_minor": 2
}
