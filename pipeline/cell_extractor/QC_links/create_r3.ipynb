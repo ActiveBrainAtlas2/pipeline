{
 "cells": [
  {
   "cell_type": "code",
   "execution_count": 1,
   "metadata": {},
   "outputs": [
    {
     "name": "stderr",
     "output_type": "stream",
     "text": [
      "/usr/local/share/pipeline/lib/python3.8/site-packages/xgboost/compat.py:36: FutureWarning: pandas.Int64Index is deprecated and will be removed from pandas in a future version. Use pandas.Index with the appropriate dtype instead.\n",
      "  from pandas import MultiIndex, Int64Index\n"
     ]
    },
    {
     "name": "stdout",
     "output_type": "stream",
     "text": [
      "\n"
     ]
    }
   ],
   "source": [
    "import sys\n",
    "import os\n",
    "sys.path.append(os.path.abspath('./../../'))\n",
    "from cell_extractor import utils \n",
    "import sys\n",
    "import os\n",
    "sys.path.append(os.path.abspath('./../../../..'))\n",
    "from cell_extractor.CellDetectorBase import CellDetectorBase\n",
    "from lib.annotation_layer import Cell,random_string\n",
    "import numpy as np\n",
    "from lib.UrlGenerator import UrlGenerator\n",
    "from cell_extractor.BorderFinder import BorderFinder\n",
    "from cell_extractor.CellDetector import MultiThresholdDetector\n",
    "from cell_extractor.CellAnnotationUtilities import CellAnnotationUtilities"
   ]
  },
  {
   "cell_type": "code",
   "execution_count": null,
   "metadata": {},
   "outputs": [
    {
     "name": "stderr",
     "output_type": "stream",
     "text": [
      "/usr/local/share/pipeline/lib/python3.6/site-packages/pandas/core/frame.py:4308: SettingWithCopyWarning:\n",
      "\n",
      "\n",
      "A value is trying to be set on a copy of a slice from a DataFrame\n",
      "\n",
      "See the caveats in the documentation: https://pandas.pydata.org/pandas-docs/stable/user_guide/indexing.html#returning-a-view-versus-a-copy\n",
      "\n"
     ]
    },
    {
     "name": "stdout",
     "output_type": "stream",
     "text": [
      "Julian QC url id DK41 : https://activebrainatlas.ucsd.edu/ng/?id=648\n",
      "Marissa QC url DK41 : https://activebrainatlas.ucsd.edu/ng/?id=649\n"
     ]
    }
   ],
   "source": [
    "animal = 'DK41'\n",
    "utils.generate_QC_link(animal,round=3,sample = 500)"
   ]
  },
  {
   "cell_type": "code",
   "execution_count": 5,
   "metadata": {},
   "outputs": [],
   "source": [
    "sample = 500\n",
    "animal='DK41'\n",
    "finder = BorderFinder(animal)\n",
    "detector = CellDetectorBase(animal,round = 3,segmentation_threshold=2000)\n",
    "detections = detector.load_detections()"
   ]
  },
  {
   "cell_type": "code",
   "execution_count": null,
   "metadata": {},
   "outputs": [],
   "source": [
    "detections\n",
    "all_points = np.array([detections.col,detections.row,detections.section])\n",
    "search_array\n",
    "cell_util.find_cloest_neighbor_among_points(all_points,search_array,max_distance = 20,)"
   ]
  },
  {
   "cell_type": "code",
   "execution_count": 4,
   "metadata": {},
   "outputs": [],
   "source": [
    "cell_util = CellAnnotationUtilities()"
   ]
  },
  {
   "cell_type": "code",
   "execution_count": 6,
   "metadata": {},
   "outputs": [
    {
     "name": "stderr",
     "output_type": "stream",
     "text": [
      "/tmp/ipykernel_671435/2625973679.py:10: SettingWithCopyWarning: \n",
      "A value is trying to be set on a copy of a slice from a DataFrame\n",
      "\n",
      "See the caveats in the documentation: https://pandas.pydata.org/pandas-docs/stable/user_guide/indexing.html#returning-a-view-versus-a-copy\n",
      "  sure.rename(columns = {'x' : 'col', 'y' : 'row'}, inplace = True)\n",
      "/tmp/ipykernel_671435/2625973679.py:11: SettingWithCopyWarning: \n",
      "A value is trying to be set on a copy of a slice from a DataFrame\n",
      "\n",
      "See the caveats in the documentation: https://pandas.pydata.org/pandas-docs/stable/user_guide/indexing.html#returning-a-view-versus-a-copy\n",
      "  unsure.rename(columns = {'x' : 'col', 'y' : 'row'}, inplace = True)\n"
     ]
    }
   ],
   "source": [
    "sample = 500\n",
    "animal='DK41'\n",
    "finder = BorderFinder(animal)\n",
    "detector = CellDetectorBase(animal,round = 3,segmentation_threshold=2000)\n",
    "detections = detector.load_detections()\n",
    "sure = detections[detections.predictions==2]\n",
    "unsure = detections[detections.predictions==0]\n",
    "sure.rename(columns = {'x' : 'col', 'y' : 'row'}, inplace = True)\n",
    "unsure.rename(columns = {'x' : 'col', 'y' : 'row'}, inplace = True)\n",
    "_,sure = finder.find_border_cells(sure)\n",
    "_,unsure = finder.find_border_cells(unsure)\n",
    "if sample is not None:\n",
    "    sure_data_sample = sure[['col','row','section']].sample(sample).sort_values('section').to_numpy().tolist()\n",
    "else:\n",
    "    sure_data_sample = sure[['col','row','section']].sort_values('section').to_numpy().tolist()\n",
    "sure_data = sure[['col','row','section']].sort_values('section').to_numpy().tolist()\n",
    "unsure_data = unsure[['col','row','section']].sample(sample).sort_values('section').to_numpy().tolist()\n",
    "sure_cells_sample = utils.numpy_to_json(sure_data_sample,category = f'inter_rater_test_round3')\n",
    "\n",
    "\n",
    "# sure_cells = utils.numpy_to_json(sure_data,category = f'Round{round+1}_Sure')\n",
    "unsure_cells = utils.numpy_to_json(unsure_data,color_hex='#1d66db',category = f'Round{round+1}_Unsure')\n",
    "\n",
    "# sc_id = utils.create_QC_url(animal,sure_cells_sample,unsure_cells,f'Julian QC{round+1} '+animal)\n",
    "# false_negative_id = create_QC_url(animal,sure_cells,unsure_cells,'Julian false negative '+animal)\n",
    "# print(f'Julian QC url id {animal} : https://activebrainatlas.ucsd.edu/ng/?id={sc_id}')\n",
    "# print(f'Julian false negative url id {animal} : https://activebrainatlas.ucsd.edu/ng/?id={false_negative_id}')\n",
    "\n",
    "# sc_id = utils.create_QC_url(animal,sure_cells_sample,unsure_cells,f'Marissa QC{round+1} '+animal)\n",
    "# false_negative_id = create_QC_url(animal,sure_cells,unsure_cells,'Marissa false negative '+animal)\n",
    "# print(f'Marissa QC url {animal} : https://activebrainatlas.ucsd.edu/ng/?id={sc_id}')\n",
    "# print(f'Marissa false negative url id {animal} : https://activebrainatlas.ucsd.edu/ng/?id={false_negative_id}')"
   ]
  },
  {
   "cell_type": "code",
   "execution_count": 47,
   "metadata": {},
   "outputs": [],
   "source": [
    "labeled_sample = sures.sample(100)\n",
    "labeled = utils.numpy_to_json(sure_data_sample,category = f'intra_rater_test_round3')"
   ]
  },
  {
   "cell_type": "code",
   "execution_count": 48,
   "metadata": {},
   "outputs": [
    {
     "data": {
      "text/plain": [
       "672"
      ]
     },
     "execution_count": 48,
     "metadata": {},
     "output_type": "execute_result"
    }
   ],
   "source": [
    "urlGen = UrlGenerator()\n",
    "urlGen.add_stack_image(animal,channel=1)\n",
    "urlGen.add_stack_image(animal,channel=3,color='green')\n",
    "urlGen.add_annotation_layer('Intra Rater',annotations = labeled)\n",
    "urlGen.add_to_database('Marissa Intra Rater',34)\n",
    "urlGen = UrlGenerator()\n",
    "urlGen.add_stack_image(animal,channel=1)\n",
    "urlGen.add_stack_image(animal,channel=3,color='green')\n",
    "urlGen.add_annotation_layer('Intra Rater',annotations = labeled)\n",
    "urlGen.add_to_database('Julian Intra Rater',34)\n"
   ]
  },
  {
   "cell_type": "code",
   "execution_count": 37,
   "metadata": {},
   "outputs": [
    {
     "data": {
      "text/plain": [
       "26736"
      ]
     },
     "execution_count": 37,
     "metadata": {},
     "output_type": "execute_result"
    }
   ],
   "source": [
    "np.array(sure_data_sample).astype(int)[0,0]"
   ]
  },
  {
   "cell_type": "code",
   "execution_count": 43,
   "metadata": {},
   "outputs": [],
   "source": [
    "new_sure = pd.DataFrame(np.array(sure_data_sample).astype(int))\n",
    "new_sure.columns = ['x','y','section']\n",
    "new_sure['name'] = ['new_label']*500"
   ]
  },
  {
   "cell_type": "code",
   "execution_count": 45,
   "metadata": {},
   "outputs": [
    {
     "name": "stdout",
     "output_type": "stream",
     "text": [
      "calculating distance matrix\n",
      "finding points that are close to each other\n",
      "grouping and labeling points that are close to each other\n",
      "before removing duplicates 1500\n",
      "after removing duplicates 964\n"
     ]
    },
    {
     "data": {
      "text/plain": [
       "[(('new_label',), 464),\n",
       " (('Sure_Marissa_POSITIVE', 'Sure_Julian_POSITIVE'), 344),\n",
       " (('Sure_Marissa_POSITIVE', 'Sure_Julian_NEGATIVE'), 104),\n",
       " (('new_label', 'Sure_Marissa_POSITIVE', 'Sure_Julian_POSITIVE'), 22),\n",
       " (('Sure_Marissa_NEGATIVE', 'Sure_Julian_NEGATIVE'), 14),\n",
       " (('new_label', 'Sure_Marissa_POSITIVE', 'Sure_Julian_NEGATIVE'), 13),\n",
       " (('Sure_Marissa_NEGATIVE', 'Sure_Julian_POSITIVE'), 2),\n",
       " (('new_label', 'Sure_Marissa_NEGATIVE', 'Sure_Julian_NEGATIVE'), 1)]"
      ]
     },
     "execution_count": 45,
     "metadata": {},
     "output_type": "execute_result"
    }
   ],
   "source": [
    "from cell_extractor.AnnotationProximityTool import AnnotationProximityTool\n",
    "from collections import Counter\n",
    "\n",
    "tool = AnnotationProximityTool()\n",
    "tool.pair_distance=0.1\n",
    "tool.set_annotations_to_compare(pd.concat([new_sure,sures]))\n",
    "tool.find_equivalent_points()\n",
    "Counter([tuple(i) for i in tool.pair_categories.values()]).most_common()"
   ]
  },
  {
   "cell_type": "code",
   "execution_count": 13,
   "metadata": {},
   "outputs": [],
   "source": [
    "import matplotlib.pyplot as plt\n",
    "import numpy as np\n",
    "import os,sys\n",
    "sys.path.append(os.path.abspath('./../../'))\n",
    "from cell_extractor import utils \n",
    "from cell_extractor.diagnostics.ToolKit import get_DataFrame_from_query_result,find_equivalence,find_agreement,get_DataFrame_from_detection_df\n",
    "from Controllers.MarkedCellController import MarkedCellController\n",
    "from Controllers.SqlController import SqlController\n",
    "import pandas as pd\n",
    "from cell_extractor.CellAnnotationUtilities import CellAnnotationUtilities\n",
    "from cell_extractor.AnnotationProximityTool import AnnotationProximityTool\n",
    "from matplotlib.patches import Patch\n",
    "from collections import Counter\n"
   ]
  },
  {
   "cell_type": "code",
   "execution_count": 14,
   "metadata": {},
   "outputs": [],
   "source": [
    "animal = 'DK41'\n",
    "controller = SqlController()\n",
    "factor = controller.get_resolution(animal)\n",
    "controller = MarkedCellController()\n",
    "search_dict = {'FK_prep_id':animal,'FK_cell_type_id':22}\n",
    "sures = get_DataFrame_from_query_result(controller.get_marked_cells(search_dict),'Sure',factor)\n",
    "search_dict = {'FK_prep_id':animal,'FK_cell_type_id':23}\n",
    "unsures = get_DataFrame_from_query_result(controller.get_marked_cells(search_dict),'Unsure',factor)"
   ]
  },
  {
   "cell_type": "code",
   "execution_count": null,
   "metadata": {},
   "outputs": [],
   "source": []
  }
 ],
 "metadata": {
  "kernelspec": {
   "display_name": "Python 3.6.9 ('pipeline')",
   "language": "python",
   "name": "python3"
  },
  "language_info": {
   "codemirror_mode": {
    "name": "ipython",
    "version": 3
   },
   "file_extension": ".py",
   "mimetype": "text/x-python",
   "name": "python",
   "nbconvert_exporter": "python",
   "pygments_lexer": "ipython3",
   "version": "3.8.10"
  },
  "orig_nbformat": 4,
  "vscode": {
   "interpreter": {
    "hash": "9b29855540defb355a50951874e4b3a9a33e036ed29af88ad65ef37e45f70f6e"
   }
  }
 },
 "nbformat": 4,
 "nbformat_minor": 2
}
