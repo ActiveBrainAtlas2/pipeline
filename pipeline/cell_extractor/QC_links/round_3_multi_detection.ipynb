{
 "cells": [
  {
   "cell_type": "code",
   "execution_count": 12,
   "metadata": {},
   "outputs": [],
   "source": [
    "import os,sys\n",
    "sys.path.append(os.path.abspath('./../../'))\n",
    "from cell_extractor.BorderFinder import BorderFinder\n",
    "from cell_extractor.CellDetectorBase import CellDetectorBase\n",
    "from cell_extractor.utils import numpy_to_json,create_QC_url\n",
    "from cell_extractor.AnnotationProximityTool import AnnotationProximityTool\n",
    "from cell_extractor.diagnostics.ToolKit import get_DataFrame_from_detection_df\n",
    "import pandas as pd"
   ]
  },
  {
   "cell_type": "code",
   "execution_count": 11,
   "metadata": {},
   "outputs": [],
   "source": [
    "animal = 'DK41'\n",
    "threshold=2000\n",
    "round = 3\n",
    "sample = 500\n",
    "finder = BorderFinder(animal)\n",
    "detector = CellDetectorBase(animal,round = round,segmentation_threshold=threshold)\n",
    "detections = detector.load_detections()\n",
    "sure = detections[detections.predictions==2]\n",
    "unsure = detections[detections.predictions==0]\n",
    "sure=get_DataFrame_from_detection_df(sure,'sure')\n",
    "unsure=get_DataFrame_from_detection_df(unsure,'unsure')"
   ]
  },
  {
   "cell_type": "code",
   "execution_count": 8,
   "metadata": {},
   "outputs": [
    {
     "data": {
      "text/html": [
       "<div>\n",
       "<style scoped>\n",
       "    .dataframe tbody tr th:only-of-type {\n",
       "        vertical-align: middle;\n",
       "    }\n",
       "\n",
       "    .dataframe tbody tr th {\n",
       "        vertical-align: top;\n",
       "    }\n",
       "\n",
       "    .dataframe thead th {\n",
       "        text-align: right;\n",
       "    }\n",
       "</style>\n",
       "<table border=\"1\" class=\"dataframe\">\n",
       "  <thead>\n",
       "    <tr style=\"text-align: right;\">\n",
       "      <th></th>\n",
       "      <th>animal</th>\n",
       "      <th>section</th>\n",
       "      <th>row</th>\n",
       "      <th>col</th>\n",
       "      <th>label</th>\n",
       "      <th>mean_score</th>\n",
       "      <th>std_score</th>\n",
       "      <th>predictions</th>\n",
       "    </tr>\n",
       "  </thead>\n",
       "  <tbody>\n",
       "    <tr>\n",
       "      <th>3320</th>\n",
       "      <td>DK41</td>\n",
       "      <td>347</td>\n",
       "      <td>17954</td>\n",
       "      <td>40186</td>\n",
       "      <td>0.0</td>\n",
       "      <td>-0.517053</td>\n",
       "      <td>1.183537</td>\n",
       "      <td>0</td>\n",
       "    </tr>\n",
       "    <tr>\n",
       "      <th>4095</th>\n",
       "      <td>DK41</td>\n",
       "      <td>330</td>\n",
       "      <td>5397</td>\n",
       "      <td>28912</td>\n",
       "      <td>0.0</td>\n",
       "      <td>1.105323</td>\n",
       "      <td>1.796379</td>\n",
       "      <td>0</td>\n",
       "    </tr>\n",
       "    <tr>\n",
       "      <th>7426</th>\n",
       "      <td>DK41</td>\n",
       "      <td>330</td>\n",
       "      <td>18404</td>\n",
       "      <td>9561</td>\n",
       "      <td>0.0</td>\n",
       "      <td>-0.723014</td>\n",
       "      <td>1.270034</td>\n",
       "      <td>0</td>\n",
       "    </tr>\n",
       "    <tr>\n",
       "      <th>8242</th>\n",
       "      <td>DK41</td>\n",
       "      <td>330</td>\n",
       "      <td>21433</td>\n",
       "      <td>11677</td>\n",
       "      <td>0.0</td>\n",
       "      <td>0.305298</td>\n",
       "      <td>1.189094</td>\n",
       "      <td>0</td>\n",
       "    </tr>\n",
       "    <tr>\n",
       "      <th>8645</th>\n",
       "      <td>DK41</td>\n",
       "      <td>330</td>\n",
       "      <td>24993</td>\n",
       "      <td>19496</td>\n",
       "      <td>0.0</td>\n",
       "      <td>0.991082</td>\n",
       "      <td>1.280640</td>\n",
       "      <td>0</td>\n",
       "    </tr>\n",
       "  </tbody>\n",
       "</table>\n",
       "</div>"
      ],
      "text/plain": [
       "     animal  section    row    col  label  mean_score  std_score  predictions\n",
       "3320   DK41      347  17954  40186    0.0   -0.517053   1.183537            0\n",
       "4095   DK41      330   5397  28912    0.0    1.105323   1.796379            0\n",
       "7426   DK41      330  18404   9561    0.0   -0.723014   1.270034            0\n",
       "8242   DK41      330  21433  11677    0.0    0.305298   1.189094            0\n",
       "8645   DK41      330  24993  19496    0.0    0.991082   1.280640            0"
      ]
     },
     "execution_count": 8,
     "metadata": {},
     "output_type": "execute_result"
    }
   ],
   "source": [
    "unsure.head()"
   ]
  },
  {
   "cell_type": "code",
   "execution_count": 13,
   "metadata": {},
   "outputs": [
    {
     "name": "stdout",
     "output_type": "stream",
     "text": [
      "calculating distance matrix\n",
      "finding points that are close to each other\n",
      "grouping and labeling points that are close to each other\n",
      "before removing duplicates 6681\n",
      "after removing duplicates 6628\n"
     ]
    }
   ],
   "source": [
    "tool = AnnotationProximityTool()\n",
    "tool.set_annotations_to_compare(pd.concat([sure,unsure]))\n",
    "tool.find_equivalent_points()"
   ]
  },
  {
   "cell_type": "code",
   "execution_count": 15,
   "metadata": {},
   "outputs": [
    {
     "data": {
      "text/plain": [
       "[(('sure',), 5205),\n",
       " (('unsure',), 1388),\n",
       " (('unsure', 'unsure'), 20),\n",
       " (('unsure', 'unsure', 'unsure'), 12),\n",
       " (('unsure', 'unsure', 'unsure', 'unsure'), 3)]"
      ]
     },
     "execution_count": 15,
     "metadata": {},
     "output_type": "execute_result"
    }
   ],
   "source": [
    "from collections import Counter\n",
    "Counter([tuple(i) for i in tool.pair_categories.values()]).most_common()"
   ]
  },
  {
   "cell_type": "code",
   "execution_count": null,
   "metadata": {},
   "outputs": [],
   "source": []
  }
 ],
 "metadata": {
  "kernelspec": {
   "display_name": "Python 3.6.9 ('pipeline')",
   "language": "python",
   "name": "python3"
  },
  "language_info": {
   "codemirror_mode": {
    "name": "ipython",
    "version": 3
   },
   "file_extension": ".py",
   "mimetype": "text/x-python",
   "name": "python",
   "nbconvert_exporter": "python",
   "pygments_lexer": "ipython3",
   "version": "3.6.9"
  },
  "orig_nbformat": 4,
  "vscode": {
   "interpreter": {
    "hash": "97e209aa8511c3356558c5b4441d0fe17ed27fc557fbfde94b259769985fb2e3"
   }
  }
 },
 "nbformat": 4,
 "nbformat_minor": 2
}
