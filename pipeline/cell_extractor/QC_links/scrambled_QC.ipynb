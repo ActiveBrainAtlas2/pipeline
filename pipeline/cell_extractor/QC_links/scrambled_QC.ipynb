{
 "cells": [
  {
   "cell_type": "code",
   "execution_count": 28,
   "metadata": {},
   "outputs": [],
   "source": [
    "import sys\n",
    "import os\n",
    "import random\n",
    "sys.path.append(os.path.abspath('./../../'))\n",
    "from cell_extractor import utils \n",
    "sys.path.append(os.path.abspath('./../../../..'))\n",
    "import numpy as np\n",
    "from lib.UrlGenerator import UrlGenerator\n",
    "from cell_extractor.QcGenerater import QcGenerater"
   ]
  },
  {
   "cell_type": "code",
<<<<<<< HEAD
   "execution_count": 3,
   "metadata": {},
   "outputs": [
    {
     "ename": "FileNotFoundError",
     "evalue": "[Errno 2] No such file or directory: '//net/birdstore/Active_Atlas_Data'",
     "output_type": "error",
     "traceback": [
      "\u001b[0;31m---------------------------------------------------------------------------\u001b[0m",
      "\u001b[0;31mFileNotFoundError\u001b[0m                         Traceback (most recent call last)",
      "\u001b[1;32m/home/zhw272/programming/preprocessing-pipeline/pipeline/cell_extractor/QC_links/scrambled_QC.ipynb Cell 2\u001b[0m in \u001b[0;36m<cell line: 3>\u001b[0;34m()\u001b[0m\n\u001b[1;32m      <a href='vscode-notebook-cell:/home/zhw272/programming/preprocessing-pipeline/pipeline/cell_extractor/QC_links/scrambled_QC.ipynb#W1sZmlsZQ%3D%3D?line=0'>1</a>\u001b[0m animal \u001b[39m=\u001b[39m \u001b[39m'\u001b[39m\u001b[39mDK60\u001b[39m\u001b[39m'\u001b[39m\n\u001b[1;32m      <a href='vscode-notebook-cell:/home/zhw272/programming/preprocessing-pipeline/pipeline/cell_extractor/QC_links/scrambled_QC.ipynb#W1sZmlsZQ%3D%3D?line=1'>2</a>\u001b[0m \u001b[39mround\u001b[39m \u001b[39m=\u001b[39m \u001b[39m3\u001b[39m\n\u001b[0;32m----> <a href='vscode-notebook-cell:/home/zhw272/programming/preprocessing-pipeline/pipeline/cell_extractor/QC_links/scrambled_QC.ipynb#W1sZmlsZQ%3D%3D?line=2'>3</a>\u001b[0m generater \u001b[39m=\u001b[39m QcGenerater(animal,\u001b[39mround\u001b[39;49m)\n",
      "File \u001b[0;32m~/programming/preprocessing-pipeline/pipeline/cell_extractor/QcGenerater.py:18\u001b[0m, in \u001b[0;36mQcGenerater.__init__\u001b[0;34m(self, animal, round)\u001b[0m\n\u001b[1;32m     16\u001b[0m \u001b[39mself\u001b[39m\u001b[39m.\u001b[39manimal \u001b[39m=\u001b[39m animal\n\u001b[1;32m     17\u001b[0m \u001b[39mself\u001b[39m\u001b[39m.\u001b[39mround \u001b[39m=\u001b[39m \u001b[39mround\u001b[39m\n\u001b[0;32m---> 18\u001b[0m \u001b[39mself\u001b[39m\u001b[39m.\u001b[39mbase \u001b[39m=\u001b[39m CellDetectorBase(\u001b[39mself\u001b[39;49m\u001b[39m.\u001b[39;49manimal,\u001b[39mround\u001b[39;49m \u001b[39m=\u001b[39;49m \u001b[39mself\u001b[39;49m\u001b[39m.\u001b[39;49mround,segmentation_threshold\u001b[39m=\u001b[39;49m\u001b[39m2000\u001b[39;49m)\n\u001b[1;32m     19\u001b[0m \u001b[39mself\u001b[39m\u001b[39m.\u001b[39mload_detections()\n\u001b[1;32m     20\u001b[0m \u001b[39mself\u001b[39m\u001b[39m.\u001b[39meliminate_border_cells()\n",
      "File \u001b[0;32m~/programming/preprocessing-pipeline/pipeline/cell_extractor/CellDetectorBase.py:25\u001b[0m, in \u001b[0;36mCellDetectorBase.__init__\u001b[0;34m(self, animal, section, disk, round, segmentation_threshold, replace)\u001b[0m\n\u001b[1;32m     23\u001b[0m \u001b[39mself\u001b[39m\u001b[39m.\u001b[39msection \u001b[39m=\u001b[39m section\n\u001b[1;32m     24\u001b[0m \u001b[39mself\u001b[39m\u001b[39m.\u001b[39mset_folder_paths()\n\u001b[0;32m---> 25\u001b[0m \u001b[39mself\u001b[39;49m\u001b[39m.\u001b[39;49mcheck_path_exists()\n\u001b[1;32m     26\u001b[0m \u001b[39mself\u001b[39m\u001b[39m.\u001b[39mget_tile_and_image_dimensions()\n\u001b[1;32m     27\u001b[0m \u001b[39mself\u001b[39m\u001b[39m.\u001b[39mget_tile_origins()\n",
      "File \u001b[0;32m~/programming/preprocessing-pipeline/pipeline/cell_extractor/CellDetectorBase.py:54\u001b[0m, in \u001b[0;36mCellDetectorBase.check_path_exists\u001b[0;34m(self)\u001b[0m\n\u001b[1;32m     52\u001b[0m check_paths \u001b[39m=\u001b[39m [\u001b[39mself\u001b[39m\u001b[39m.\u001b[39mANIMAL_PATH,\u001b[39mself\u001b[39m\u001b[39m.\u001b[39mFEATURE_PATH,\u001b[39mself\u001b[39m\u001b[39m.\u001b[39mDETECTION,\u001b[39mself\u001b[39m\u001b[39m.\u001b[39mDETECTOR,\u001b[39mself\u001b[39m\u001b[39m.\u001b[39mMODELS]\n\u001b[1;32m     53\u001b[0m \u001b[39mfor\u001b[39;00m path \u001b[39min\u001b[39;00m check_paths:\n\u001b[0;32m---> 54\u001b[0m     os\u001b[39m.\u001b[39;49mmakedirs(path,exist_ok \u001b[39m=\u001b[39;49m \u001b[39mTrue\u001b[39;49;00m)\n",
      "File \u001b[0;32m/usr/lib/python3.8/os.py:213\u001b[0m, in \u001b[0;36mmakedirs\u001b[0;34m(name, mode, exist_ok)\u001b[0m\n\u001b[1;32m    211\u001b[0m \u001b[39mif\u001b[39;00m head \u001b[39mand\u001b[39;00m tail \u001b[39mand\u001b[39;00m \u001b[39mnot\u001b[39;00m path\u001b[39m.\u001b[39mexists(head):\n\u001b[1;32m    212\u001b[0m     \u001b[39mtry\u001b[39;00m:\n\u001b[0;32m--> 213\u001b[0m         makedirs(head, exist_ok\u001b[39m=\u001b[39;49mexist_ok)\n\u001b[1;32m    214\u001b[0m     \u001b[39mexcept\u001b[39;00m \u001b[39mFileExistsError\u001b[39;00m:\n\u001b[1;32m    215\u001b[0m         \u001b[39m# Defeats race condition when another thread created the path\u001b[39;00m\n\u001b[1;32m    216\u001b[0m         \u001b[39mpass\u001b[39;00m\n",
      "File \u001b[0;32m/usr/lib/python3.8/os.py:213\u001b[0m, in \u001b[0;36mmakedirs\u001b[0;34m(name, mode, exist_ok)\u001b[0m\n\u001b[1;32m    211\u001b[0m \u001b[39mif\u001b[39;00m head \u001b[39mand\u001b[39;00m tail \u001b[39mand\u001b[39;00m \u001b[39mnot\u001b[39;00m path\u001b[39m.\u001b[39mexists(head):\n\u001b[1;32m    212\u001b[0m     \u001b[39mtry\u001b[39;00m:\n\u001b[0;32m--> 213\u001b[0m         makedirs(head, exist_ok\u001b[39m=\u001b[39;49mexist_ok)\n\u001b[1;32m    214\u001b[0m     \u001b[39mexcept\u001b[39;00m \u001b[39mFileExistsError\u001b[39;00m:\n\u001b[1;32m    215\u001b[0m         \u001b[39m# Defeats race condition when another thread created the path\u001b[39;00m\n\u001b[1;32m    216\u001b[0m         \u001b[39mpass\u001b[39;00m\n",
      "File \u001b[0;32m/usr/lib/python3.8/os.py:223\u001b[0m, in \u001b[0;36mmakedirs\u001b[0;34m(name, mode, exist_ok)\u001b[0m\n\u001b[1;32m    221\u001b[0m         \u001b[39mreturn\u001b[39;00m\n\u001b[1;32m    222\u001b[0m \u001b[39mtry\u001b[39;00m:\n\u001b[0;32m--> 223\u001b[0m     mkdir(name, mode)\n\u001b[1;32m    224\u001b[0m \u001b[39mexcept\u001b[39;00m \u001b[39mOSError\u001b[39;00m:\n\u001b[1;32m    225\u001b[0m     \u001b[39m# Cannot rely on checking for EEXIST, since the operating system\u001b[39;00m\n\u001b[1;32m    226\u001b[0m     \u001b[39m# could give priority to other errors like EACCES or EROFS\u001b[39;00m\n\u001b[1;32m    227\u001b[0m     \u001b[39mif\u001b[39;00m \u001b[39mnot\u001b[39;00m exist_ok \u001b[39mor\u001b[39;00m \u001b[39mnot\u001b[39;00m path\u001b[39m.\u001b[39misdir(name):\n",
      "\u001b[0;31mFileNotFoundError\u001b[0m: [Errno 2] No such file or directory: '//net/birdstore/Active_Atlas_Data'"
=======
   "execution_count": 29,
   "metadata": {},
   "outputs": [
    {
     "name": "stdout",
     "output_type": "stream",
     "text": [
      "calculating borders for DK61\n",
      "image loaded\n",
      "contours found\n",
      "borders calculated\n"
>>>>>>> 6f0f9cc6e80a41859832f565681a135034e4a8c1
     ]
    }
   ],
   "source": [
<<<<<<< HEAD
    "animal = 'DK60'\n",
=======
    "animal = 'DK61'\n",
>>>>>>> 6f0f9cc6e80a41859832f565681a135034e4a8c1
    "round = 3\n",
    "generater = QcGenerater(animal,round)"
   ]
  },
  {
   "cell_type": "code",
   "execution_count": 30,
   "metadata": {},
   "outputs": [
    {
     "name": "stdout",
     "output_type": "stream",
     "text": [
      "calculating distance matrix\n",
      "finding points that are close to each other\n",
      "grouping and labeling points that are close to each other\n",
      "before removing duplicates 382\n",
      "after removing duplicates 342\n"
     ]
    },
    {
     "name": "stderr",
     "output_type": "stream",
     "text": [
      "/scratch/programming/pipeline/pipeline/cell_extractor/AnnotationProximityTool.py:148: SettingWithCopyWarning: \n",
      "A value is trying to be set on a copy of a slice from a DataFrame.\n",
      "Try using .loc[row_indexer,col_indexer] = value instead\n",
      "\n",
      "See the caveats in the documentation: https://pandas.pydata.org/pandas-docs/stable/user_guide/indexing.html#returning-a-view-versus-a-copy\n",
      "  next_section.section = sectioni\n",
      "/scratch/programming/pipeline/pipeline/cell_extractor/AnnotationProximityTool.py:149: SettingWithCopyWarning: \n",
      "A value is trying to be set on a copy of a slice from a DataFrame.\n",
      "Try using .loc[row_indexer,col_indexer] = value instead\n",
      "\n",
      "See the caveats in the documentation: https://pandas.pydata.org/pandas-docs/stable/user_guide/indexing.html#returning-a-view-versus-a-copy\n",
      "  next_section.name = next_section.name+f'_1_section_over'\n"
     ]
    },
    {
     "name": "stdout",
     "output_type": "stream",
     "text": [
      "calculating distance matrix\n",
      "finding points that are close to each other\n",
      "grouping and labeling points that are close to each other\n",
      "before removing duplicates 562\n",
      "after removing duplicates 559\n",
      "finding cell detection spanning 2 sections\n",
      "found 3 cells spanning 2 sections\n",
      "calculating distance matrix\n",
      "finding points that are close to each other\n",
      "grouping and labeling points that are close to each other\n",
      "before removing duplicates 698\n",
      "after removing duplicates 698\n"
     ]
    },
    {
     "name": "stderr",
     "output_type": "stream",
     "text": [
      "/scratch/programming/pipeline/pipeline/cell_extractor/AnnotationProximityTool.py:162: SettingWithCopyWarning: \n",
      "A value is trying to be set on a copy of a slice from a DataFrame\n",
      "\n",
      "See the caveats in the documentation: https://pandas.pydata.org/pandas-docs/stable/user_guide/indexing.html#returning-a-view-versus-a-copy\n",
      "  i.iloc[['1_section_over' in j for j in i.name],2]+=1\n",
      "/scratch/programming/pipeline/pipeline/cell_extractor/AnnotationProximityTool.py:148: SettingWithCopyWarning: \n",
      "A value is trying to be set on a copy of a slice from a DataFrame.\n",
      "Try using .loc[row_indexer,col_indexer] = value instead\n",
      "\n",
      "See the caveats in the documentation: https://pandas.pydata.org/pandas-docs/stable/user_guide/indexing.html#returning-a-view-versus-a-copy\n",
      "  next_section.section = sectioni\n",
      "/scratch/programming/pipeline/pipeline/cell_extractor/AnnotationProximityTool.py:149: SettingWithCopyWarning: \n",
      "A value is trying to be set on a copy of a slice from a DataFrame.\n",
      "Try using .loc[row_indexer,col_indexer] = value instead\n",
      "\n",
      "See the caveats in the documentation: https://pandas.pydata.org/pandas-docs/stable/user_guide/indexing.html#returning-a-view-versus-a-copy\n",
      "  next_section.name = next_section.name+f'_1_section_over'\n"
     ]
    },
    {
     "name": "stdout",
     "output_type": "stream",
     "text": [
      "calculating distance matrix\n",
      "finding points that are close to each other\n",
      "grouping and labeling points that are close to each other\n",
      "before removing duplicates 1212\n",
      "after removing duplicates 1162\n",
      "finding cell detection spanning 2 sections\n",
      "found 50 cells spanning 2 sections\n"
     ]
    },
    {
     "name": "stderr",
     "output_type": "stream",
     "text": [
      "/scratch/programming/pipeline/pipeline/cell_extractor/AnnotationProximityTool.py:162: SettingWithCopyWarning: \n",
      "A value is trying to be set on a copy of a slice from a DataFrame\n",
      "\n",
      "See the caveats in the documentation: https://pandas.pydata.org/pandas-docs/stable/user_guide/indexing.html#returning-a-view-versus-a-copy\n",
      "  i.iloc[['1_section_over' in j for j in i.name],2]+=1\n"
     ]
    }
   ],
   "source": [
    "mixed = generater.get_mixed_cells([250,250])\n",
    "random.shuffle(mixed)\n"
   ]
  },
  {
   "cell_type": "code",
   "execution_count": 36,
   "metadata": {},
   "outputs": [],
   "source": [
    "sections = [i['point'][2] for i in mixed]\n",
    "sort_id  =np.argsort(sections)\n",
    "mixed = [mixed[i] for i in sort_id]"
   ]
  },
  {
   "cell_type": "code",
   "execution_count": 37,
   "metadata": {},
   "outputs": [
    {
     "name": "stdout",
     "output_type": "stream",
     "text": [
      "Julian QC url id DK61 : https://activebrainatlas.ucsd.edu/ng/?id=711\n",
      "Marissa QC url id DK61 : https://activebrainatlas.ucsd.edu/ng/?id=712\n"
     ]
    }
   ],
   "source": [
    "urlGen = UrlGenerator()\n",
    "urlGen.add_stack_image(animal,channel=1)\n",
    "urlGen.add_stack_image(animal,channel=2,color='red')\n",
    "urlGen.add_stack_image(animal,channel=3,color='green')\n",
    "# urlGen.add_annotation_layer('Sure',annotations = sure)\n",
    "urlGen.add_annotation_layer('QC',annotations = mixed)\n",
    "sc_id = urlGen.add_to_database(f'Julian QC{round+1} unlabeled'+animal,34)\n",
    "print(f'Julian QC url id {animal} : https://activebrainatlas.ucsd.edu/ng/?id={sc_id}')\n",
    "\n",
    "sc_id = urlGen.add_to_database(f'Marissa QC{round+1} unlabeled'+animal,34)\n",
    "print(f'Marissa QC url id {animal} : https://activebrainatlas.ucsd.edu/ng/?id={sc_id}')\n"
   ]
  },
  {
   "cell_type": "code",
   "execution_count": 2,
   "metadata": {},
   "outputs": [],
   "source": [
    "from Controllers.UrlController import UrlController\n",
    "import json\n",
    "import copy\n",
    "controller = UrlController()"
   ]
  },
  {
   "cell_type": "code",
   "execution_count": 3,
   "metadata": {},
   "outputs": [],
   "source": [
    "oldurl = copy.deepcopy(json.loads(controller.get_urlModel(655).url))\n",
    "newurl = copy.deepcopy(json.loads(controller.get_urlModel(684).url))"
   ]
  },
  {
   "cell_type": "code",
   "execution_count": 16,
   "metadata": {},
   "outputs": [],
   "source": [
    "new_data = np.array([i['point'] for i in newurl['layers'][-1]['annotations']+newest['layers'][-1]['annotations']])"
   ]
  },
  {
   "cell_type": "code",
   "execution_count": 17,
   "metadata": {},
   "outputs": [
    {
     "data": {
      "text/plain": [
       "(961, 3)"
      ]
     },
     "execution_count": 17,
     "metadata": {},
     "output_type": "execute_result"
    }
   ],
   "source": [
    "new_data.shape"
   ]
  },
  {
   "cell_type": "code",
   "execution_count": 20,
   "metadata": {},
   "outputs": [],
   "source": [
    "model = json.loads(controller.get_urlModel(655).url)"
   ]
  },
  {
   "cell_type": "code",
   "execution_count": 21,
   "metadata": {},
   "outputs": [],
   "source": [
    "from cell_extractor.utils import numpy_to_json\n",
    "model['layers'][-1]['annotations'] = numpy_to_json(new_data,category = f'Premotor',description='positive')"
   ]
  },
  {
   "cell_type": "code",
   "execution_count": 22,
   "metadata": {},
   "outputs": [],
   "source": [
    "new_modelc = controller.get_urlModel(684)\n",
    "new_modelc.url = json.dumps(model)\n",
    "controller.update_row(new_modelc)"
   ]
  },
  {
   "cell_type": "code",
   "execution_count": 11,
   "metadata": {},
   "outputs": [
    {
     "data": {
      "text/plain": [
       "{'id': '54igo7xx8fopheyf4jjxnm5tgngblvrng649ngtc',\n",
       " 'point': [44161.5, 21666.76953125, 149.83580017089844],\n",
       " 'type': 'cell',\n",
       " 'description': 'positive',\n",
       " 'category': 'Premotor'}"
      ]
     },
     "execution_count": 11,
     "metadata": {},
     "output_type": "execute_result"
    }
   ],
   "source": [
    "model['layers'][-1]['annotations'][1]"
   ]
  },
  {
   "cell_type": "code",
   "execution_count": 27,
   "metadata": {},
   "outputs": [
    {
     "data": {
      "text/plain": [
       "961"
      ]
     },
     "execution_count": 27,
     "metadata": {},
     "output_type": "execute_result"
    }
   ],
   "source": [
    "newest = copy.deepcopy(json.loads(controller.get_urlModel(684).url))\n",
    "len(newest['layers'][-1]['annotations'])\n"
   ]
  },
  {
   "cell_type": "code",
   "execution_count": 24,
   "metadata": {},
   "outputs": [],
   "source": [
    "oldurl = copy.deepcopy(json.loads(controller.get_urlModel(655).url))\n",
    "newurl = copy.deepcopy(json.loads(controller.get_urlModel(684).url))"
   ]
  },
  {
   "cell_type": "code",
   "execution_count": 25,
   "metadata": {},
   "outputs": [
    {
     "data": {
      "text/plain": [
       "961"
      ]
     },
     "execution_count": 25,
     "metadata": {},
     "output_type": "execute_result"
    }
   ],
   "source": [
    "len(newurl['layers'][-1]['annotations'])\n"
   ]
  },
  {
   "cell_type": "code",
   "execution_count": null,
   "metadata": {},
   "outputs": [],
   "source": []
  }
 ],
 "metadata": {
  "kernelspec": {
   "display_name": "Python 3.6.9 ('pipeline')",
   "language": "python",
   "name": "python3"
  },
  "language_info": {
   "codemirror_mode": {
    "name": "ipython",
    "version": 3
   },
   "file_extension": ".py",
   "mimetype": "text/x-python",
   "name": "python",
   "nbconvert_exporter": "python",
   "pygments_lexer": "ipython3",
   "version": "3.8.14"
  },
  "orig_nbformat": 4,
  "vscode": {
   "interpreter": {
    "hash": "9b29855540defb355a50951874e4b3a9a33e036ed29af88ad65ef37e45f70f6e"
   }
  }
 },
 "nbformat": 4,
 "nbformat_minor": 2
}
