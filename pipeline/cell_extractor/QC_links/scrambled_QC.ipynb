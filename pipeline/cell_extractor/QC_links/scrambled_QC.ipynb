{
 "cells": [
  {
   "cell_type": "code",
   "execution_count": 1,
   "metadata": {},
   "outputs": [
    {
     "name": "stdout",
     "output_type": "stream",
     "text": [
      "\n"
     ]
    }
   ],
   "source": [
    "import sys\n",
    "import os\n",
    "import random\n",
    "sys.path.append(os.path.abspath('./../../'))\n",
    "from cell_extractor import utils \n",
    "sys.path.append(os.path.abspath('./../../../..'))\n",
    "import numpy as np\n",
    "from lib.UrlGenerator import UrlGenerator\n",
    "from cell_extractor.QcGenerater import QcGenerater"
   ]
  },
  {
   "cell_type": "code",
   "execution_count": 2,
   "metadata": {},
   "outputs": [
    {
     "name": "stdout",
     "output_type": "stream",
     "text": [
      "calculating borders for DK60\n",
      "image loaded\n",
      "contours found\n",
      "borders calculated\n"
     ]
    }
   ],
   "source": [
    "animal = 'DK60'\n",
    "round = 3\n",
    "generater = QcGenerater(animal,round)"
   ]
  },
  {
   "cell_type": "code",
   "execution_count": 6,
   "metadata": {},
   "outputs": [],
   "source": [
    "mixed = generater.get_mixed_cells([250,250])\n",
    "random.shuffle(mixed)\n"
   ]
  },
  {
   "cell_type": "code",
   "execution_count": 11,
   "metadata": {},
   "outputs": [
    {
     "name": "stdout",
     "output_type": "stream",
     "text": [
      "Julian QC url id DK41 : https://activebrainatlas.ucsd.edu/ng/?id=698\n",
      "Marissa QC url id DK41 : https://activebrainatlas.ucsd.edu/ng/?id=699\n"
     ]
    }
   ],
   "source": [
    "urlGen = UrlGenerator()\n",
    "urlGen.add_stack_image(animal,channel=1)\n",
    "urlGen.add_stack_image(animal,channel=2,color='red')\n",
    "urlGen.add_stack_image(animal,channel=3,color='green')\n",
    "# urlGen.add_annotation_layer('Sure',annotations = sure)\n",
    "urlGen.add_annotation_layer('QC',annotations = mixed)\n",
    "sc_id = urlGen.add_to_database(f'Julian QC{round+1} unlabeled'+animal,34)\n",
    "print(f'Julian QC url id {animal} : https://activebrainatlas.ucsd.edu/ng/?id={sc_id}')\n",
    "\n",
    "sc_id = urlGen.add_to_database(f'Marissa QC{round+1} unlabeled'+animal,34)\n",
    "print(f'Marissa QC url id {animal} : https://activebrainatlas.ucsd.edu/ng/?id={sc_id}')\n"
   ]
  },
  {
   "cell_type": "code",
   "execution_count": 2,
   "metadata": {},
   "outputs": [],
   "source": [
    "from Controllers.UrlController import UrlController\n",
    "import json\n",
    "import copy\n",
    "controller = UrlController()"
   ]
  },
  {
   "cell_type": "code",
   "execution_count": 3,
   "metadata": {},
   "outputs": [],
   "source": [
    "oldurl = copy.deepcopy(json.loads(controller.get_urlModel(655).url))\n",
    "newurl = copy.deepcopy(json.loads(controller.get_urlModel(684).url))"
   ]
  },
  {
   "cell_type": "code",
   "execution_count": 16,
   "metadata": {},
   "outputs": [],
   "source": [
    "new_data = np.array([i['point'] for i in newurl['layers'][-1]['annotations']+newest['layers'][-1]['annotations']])"
   ]
  },
  {
   "cell_type": "code",
   "execution_count": 17,
   "metadata": {},
   "outputs": [
    {
     "data": {
      "text/plain": [
       "(961, 3)"
      ]
     },
     "execution_count": 17,
     "metadata": {},
     "output_type": "execute_result"
    }
   ],
   "source": [
    "new_data.shape"
   ]
  },
  {
   "cell_type": "code",
   "execution_count": 20,
   "metadata": {},
   "outputs": [],
   "source": [
    "model = json.loads(controller.get_urlModel(655).url)"
   ]
  },
  {
   "cell_type": "code",
   "execution_count": 21,
   "metadata": {},
   "outputs": [],
   "source": [
    "from cell_extractor.utils import numpy_to_json\n",
    "model['layers'][-1]['annotations'] = numpy_to_json(new_data,category = f'Premotor',description='positive')"
   ]
  },
  {
   "cell_type": "code",
   "execution_count": 22,
   "metadata": {},
   "outputs": [],
   "source": [
    "new_modelc = controller.get_urlModel(684)\n",
    "new_modelc.url = json.dumps(model)\n",
    "controller.update_row(new_modelc)"
   ]
  },
  {
   "cell_type": "code",
   "execution_count": 11,
   "metadata": {},
   "outputs": [
    {
     "data": {
      "text/plain": [
       "{'id': '54igo7xx8fopheyf4jjxnm5tgngblvrng649ngtc',\n",
       " 'point': [44161.5, 21666.76953125, 149.83580017089844],\n",
       " 'type': 'cell',\n",
       " 'description': 'positive',\n",
       " 'category': 'Premotor'}"
      ]
     },
     "execution_count": 11,
     "metadata": {},
     "output_type": "execute_result"
    }
   ],
   "source": [
    "model['layers'][-1]['annotations'][1]"
   ]
  },
  {
   "cell_type": "code",
   "execution_count": 27,
   "metadata": {},
   "outputs": [
    {
     "data": {
      "text/plain": [
       "961"
      ]
     },
     "execution_count": 27,
     "metadata": {},
     "output_type": "execute_result"
    }
   ],
   "source": [
    "newest = copy.deepcopy(json.loads(controller.get_urlModel(684).url))\n",
    "len(newest['layers'][-1]['annotations'])\n"
   ]
  },
  {
   "cell_type": "code",
   "execution_count": 24,
   "metadata": {},
   "outputs": [],
   "source": [
    "oldurl = copy.deepcopy(json.loads(controller.get_urlModel(655).url))\n",
    "newurl = copy.deepcopy(json.loads(controller.get_urlModel(684).url))"
   ]
  },
  {
   "cell_type": "code",
   "execution_count": 25,
   "metadata": {},
   "outputs": [
    {
     "data": {
      "text/plain": [
       "961"
      ]
     },
     "execution_count": 25,
     "metadata": {},
     "output_type": "execute_result"
    }
   ],
   "source": [
    "len(newurl['layers'][-1]['annotations'])\n"
   ]
  },
  {
   "cell_type": "code",
   "execution_count": null,
   "metadata": {},
   "outputs": [],
   "source": []
  }
 ],
 "metadata": {
  "kernelspec": {
   "display_name": "Python 3.6.9 ('pipeline')",
   "language": "python",
   "name": "python3"
  },
  "language_info": {
   "codemirror_mode": {
    "name": "ipython",
    "version": 3
   },
   "file_extension": ".py",
   "mimetype": "text/x-python",
   "name": "python",
   "nbconvert_exporter": "python",
   "pygments_lexer": "ipython3",
   "version": "3.8.14"
  },
  "orig_nbformat": 4,
  "vscode": {
   "interpreter": {
    "hash": "9b29855540defb355a50951874e4b3a9a33e036ed29af88ad65ef37e45f70f6e"
   }
  }
 },
 "nbformat": 4,
 "nbformat_minor": 2
}
