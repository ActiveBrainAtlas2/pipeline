{
 "cells": [
  {
   "cell_type": "code",
   "execution_count": 26,
   "metadata": {},
   "outputs": [],
   "source": [
    "import os,sys\n",
    "sys.path.append(os.path.abspath('./../../'))\n",
    "from Controllers.MarkedCellController import MarkedCellController,CellSources\n",
    "from Controllers.SqlController import SqlController\n",
    "from model.annotation_points import MarkedCellView\n",
    "from sqlalchemy import inspect\n",
    "inst = inspect(MarkedCellView)\n",
    "attr_names = [c_attr.key for c_attr in inst.mapper.column_attrs]\n",
    "import pandas as pd\n",
    "from cell_extractor.DetectorMetrics import AnnotationProximityTool\n",
    "from cell_extractor.CellDetector import CellDetector\n",
    "import numpy as np\n",
    "from collections import Counter\n",
    "user_look_up = {38:'Marissa',41:'Julian',2:'Beth',3:'Hannah'}\n",
    "\n",
    "def get_DataFrame_from_query_result(results,category,factor):\n",
    "    values = []\n",
    "    for i in results:\n",
    "        source = i.source.value\n",
    "        if '-' in source:\n",
    "            source = source.split('-')[1]    \n",
    "        x,y,z = np.array([i.x,i.y,i.z]).astype(float)/factor\n",
    "        values.append([x,y,z,f'{category}_{user_look_up[i.FK_annotator_id]}_{source}'])\n",
    "    # values = [[eval(f'j.{i}')  for j in results ] for i in attr_names]\n",
    "    df = pd.DataFrame(dict(zip(['x','y','section','name'],np.array(values).T)))\n",
    "    df[\"x\"] = pd.to_numeric(df[\"x\"])\n",
    "    df[\"y\"] = pd.to_numeric(df[\"y\"])\n",
    "    df[\"section\"] = pd.to_numeric(df[\"section\"])\n",
    "    return df\n",
    "\n",
    "def get_DataFrame_from_detection_df(df,label):\n",
    "    data = np.array([df.col.to_numpy().astype(int),df.row.to_numpy().astype(int),\\\n",
    "        df.section.to_numpy().astype(int)])\n",
    "    data = pd.DataFrame(data.T,columns=['x','y','section'])\n",
    "    data['name'] = [label]*len(df)\n",
    "    return data\n",
    "\n",
    "def print_human_machine_overlap(animal,annotator_id = 3):\n",
    "    controller = SqlController()\n",
    "    factor = controller.get_resolution(animal)\n",
    "    controller = MarkedCellController()\n",
    "    search_dict = {'FK_prep_id':animal,'FK_cell_type_id':1,'FK_annotator_id':annotator_id}\n",
    "    cells = controller.get_marked_cells(search_dictionary=search_dict)\n",
    "    cells = get_DataFrame_from_query_result(cells,'Round1',factor) \n",
    "    detector = CellDetector(animal,round=2)\n",
    "    detections = detector.load_detections()\n",
    "    sures = detections[detections.predictions==2]\n",
    "    unsures = detections[detections.predictions==0]\n",
    "    sures = get_DataFrame_from_detection_df(sures,'sures')\n",
    "    unsures = get_DataFrame_from_detection_df(unsures,'unsures')\n",
    "    tool = AnnotationProximityTool()\n",
    "    tool.pair_distance=30\n",
    "    tool.set_annotations_to_compare(pd.concat([sures,unsures,cells]))\n",
    "    tool.find_equivalent_points()\n",
    "    print(f'total sure {len(sures)} total unsure {len(unsures)}')\n",
    "    for i in Counter([tuple(i) for i in tool.pair_categories.values()]).most_common():\n",
    "        print(i)"
   ]
  },
  {
   "cell_type": "code",
   "execution_count": 27,
   "metadata": {},
   "outputs": [
    {
     "name": "stdout",
     "output_type": "stream",
     "text": [
      "calculating distance matrix\n",
      "finding points that are close to each other\n",
      "grouping and labeling points that are close to each other\n",
      "before removing duplicates 13919\n",
      "after removing duplicates 13885\n",
      "total sure 8922 total unsure 2849\n",
      "(('sures',), 8894)\n",
      "(('unsures',), 2830)\n",
      "(('Round1_Hannah_POSITIVE',), 2129)\n",
      "(('sures', 'Round1_Hannah_POSITIVE'), 12)\n",
      "(('sures', 'sures'), 6)\n",
      "(('unsures', 'Round1_Hannah_POSITIVE'), 5)\n",
      "(('sures', 'unsures'), 4)\n",
      "(('unsures', 'unsures', 'unsures'), 2)\n",
      "(('unsures', 'unsures'), 2)\n",
      "(('Round1_Hannah_POSITIVE', 'Round1_Hannah_POSITIVE'), 1)\n"
     ]
    }
   ],
   "source": [
    "print_human_machine_overlap('DK39',3)"
   ]
  },
  {
   "cell_type": "code",
   "execution_count": 28,
   "metadata": {},
   "outputs": [
    {
     "name": "stdout",
     "output_type": "stream",
     "text": [
      "calculating distance matrix\n",
      "finding points that are close to each other\n",
      "grouping and labeling points that are close to each other\n",
      "before removing duplicates 13575\n",
      "after removing duplicates 11971\n",
      "total sure 9488 total unsure 2137\n",
      "(('sures',), 7980)\n",
      "(('unsures',), 2052)\n",
      "(('sures', 'Round1_Beth_POSITIVE'), 1490)\n",
      "(('Round1_Beth_POSITIVE',), 352)\n",
      "(('unsures', 'Round1_Beth_POSITIVE'), 75)\n",
      "(('sures', 'Round1_Beth_POSITIVE', 'Round1_Beth_POSITIVE'), 13)\n",
      "(('unsures', 'Round1_Beth_POSITIVE', 'Round1_Beth_POSITIVE'), 3)\n",
      "(('sures', 'sures'), 2)\n",
      "(('unsures', 'unsures'), 2)\n",
      "(('sures', 'unsures'), 1)\n",
      "(('unsures', 'unsures', 'Round1_Beth_POSITIVE'), 1)\n"
     ]
    }
   ],
   "source": [
    "print_human_machine_overlap('DK52',2)"
   ]
  },
  {
   "cell_type": "code",
   "execution_count": 29,
   "metadata": {},
   "outputs": [],
   "source": [
    "animal = 'DK39'\n",
    "controller = SqlController()\n",
    "factor = controller.get_resolution(animal)\n",
    "controller = MarkedCellController()\n",
    "search_dict = {'FK_prep_id':animal,'FK_cell_type_id':1,'FK_annotator_id':3}\n",
    "cells = controller.get_marked_cells(search_dictionary=search_dict)\n",
    "cells = get_DataFrame_from_query_result(cells,'Round1',factor) \n",
    "detector = CellDetector(animal,round=2)\n",
    "detections = detector.load_detections()\n",
    "sures = detections[detections.predictions==2]\n",
    "unsures = detections[detections.predictions==0]\n",
    "sures = get_DataFrame_from_detection_df(sures,'sures')\n",
    "unsures = get_DataFrame_from_detection_df(unsures,'unsures')\n"
   ]
  },
  {
   "cell_type": "code",
   "execution_count": 31,
   "metadata": {},
   "outputs": [
    {
     "data": {
      "text/plain": [
       "(52145.84615384616, 26042.0, 53330, 27245)"
      ]
     },
     "execution_count": 31,
     "metadata": {},
     "output_type": "execute_result"
    }
   ],
   "source": [
    "cells.x.max(),cells.y.max(),sures.x.max(),sures.y.max()"
   ]
  },
  {
   "cell_type": "code",
   "execution_count": null,
   "metadata": {},
   "outputs": [],
   "source": [
    "tool = AnnotationProximityTool()\n",
    "tool.pair_distance=30\n",
    "tool.set_annotations_to_compare(pd.concat([sures,unsures,cells]))\n",
    "tool.find_equivalent_points()\n",
    "print(f'total sure {len(sures)} total unsure {len(unsures)}')\n",
    "for i in Counter([tuple(i) for i in tool.pair_categories.values()]).most_common():\n",
    "    print(i)"
   ]
  }
 ],
 "metadata": {
  "kernelspec": {
   "display_name": "Python 3.6.9 ('pipeline')",
   "language": "python",
   "name": "python3"
  },
  "language_info": {
   "codemirror_mode": {
    "name": "ipython",
    "version": 3
   },
   "file_extension": ".py",
   "mimetype": "text/x-python",
   "name": "python",
   "nbconvert_exporter": "python",
   "pygments_lexer": "ipython3",
   "version": "3.6.9"
  },
  "orig_nbformat": 4,
  "vscode": {
   "interpreter": {
    "hash": "9b29855540defb355a50951874e4b3a9a33e036ed29af88ad65ef37e45f70f6e"
   }
  }
 },
 "nbformat": 4,
 "nbformat_minor": 2
}
