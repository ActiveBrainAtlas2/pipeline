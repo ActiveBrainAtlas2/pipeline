{
 "cells": [
  {
   "cell_type": "code",
   "execution_count": 3,
   "metadata": {},
   "outputs": [
    {
     "name": "stdout",
     "output_type": "stream",
     "text": [
      "\n"
     ]
    }
   ],
   "source": [
    "import os,sys\n",
    "sys.path.append(os.path.abspath('./../../'))\n",
    "from Controllers.MarkedCellController import MarkedCellController,CellSources\n",
    "from Controllers.SqlController import SqlController\n",
    "from model.annotation_points import MarkedCellView\n",
    "from sqlalchemy import inspect\n",
    "inst = inspect(MarkedCellView)\n",
    "attr_names = [c_attr.key for c_attr in inst.mapper.column_attrs]\n",
    "import pandas as pd\n",
    "from cell_extractor.DetectorMetrics import AnnotationProximityTool\n",
    "from cell_extractor.CellDetector import CellDetector\n",
    "import numpy as np\n",
    "from collections import Counter\n",
    "user_look_up = {38:'Marissa',41:'Julian',2:'Beth'}\n",
    "\n",
    "def get_DataFrame_from_query_result(results,category,factor):\n",
    "    values = []\n",
    "    for i in results:\n",
    "        source = i.source.value\n",
    "        if '-' in source:\n",
    "            source = source.split('-')[1]    \n",
    "        x,y,z = np.array([i.x,i.y,i.z]).astype(float)/factor\n",
    "        values.append([x,y,z,f'{category}_{user_look_up[i.FK_annotator_id]}_{source}'])\n",
    "    # values = [[eval(f'j.{i}')  for j in results ] for i in attr_names]\n",
    "    df = pd.DataFrame(dict(zip(['x','y','section','name'],np.array(values).T)))\n",
    "    df[\"x\"] = pd.to_numeric(df[\"x\"])\n",
    "    df[\"y\"] = pd.to_numeric(df[\"y\"])\n",
    "    df[\"section\"] = pd.to_numeric(df[\"section\"])\n",
    "    return df\n",
    "\n",
    "def get_DataFrame_from_detection_df(df,label):\n",
    "    data = np.array([df.col.to_numpy().astype(int),df.row.to_numpy().astype(int),\\\n",
    "        df.section.to_numpy().astype(int)])\n",
    "    data = pd.DataFrame(data.T,columns=['x','y','section'])\n",
    "    data['name'] = [label]*len(df)\n",
    "    return data"
   ]
  },
  {
   "cell_type": "code",
   "execution_count": 4,
   "metadata": {},
   "outputs": [],
   "source": [
    "animal = 'DK55'\n",
    "controller = SqlController()\n",
    "factor = controller.get_resolution(animal)\n",
    "controller = MarkedCellController()"
   ]
  },
  {
   "cell_type": "code",
   "execution_count": 5,
   "metadata": {},
   "outputs": [],
   "source": [
    "search_dict = {'FK_prep_id':animal,'FK_cell_type_id':5}\n",
    "qcs = controller.get_marked_cells(search_dictionary=search_dict)\n",
    "positives = [i for i in qcs if i.source == CellSources.HUMAN_POSITIVE]\n",
    "negatives = [i for i in qcs if i.source == CellSources.HUMAN_NEGATIVE]\n",
    "positives = get_DataFrame_from_query_result(positives,'Round1',factor)\n",
    "negatives = get_DataFrame_from_query_result(negatives,'Round1',factor)\n",
    "qcs = get_DataFrame_from_query_result(qcs,'Round1',factor) "
   ]
  },
  {
   "cell_type": "code",
   "execution_count": 11,
   "metadata": {},
   "outputs": [
    {
     "name": "stdout",
     "output_type": "stream",
     "text": [
      "calculating distance matrix\n",
      "finding points that are close to each other\n",
      "grouping and labeling points that are close to each other\n",
      "before removing duplicates 16654\n",
      "after removing duplicates 15346\n",
      "total sure 13067 total unsure 1726\n"
     ]
    },
    {
     "data": {
      "text/plain": [
       "[(('sures',), 12248),\n",
       " (('unsures',), 1256),\n",
       " (('sures', 'Round1_Beth_POSITIVE'), 677),\n",
       " (('Round1_Beth_POSITIVE',), 381),\n",
       " (('unsures', 'Round1_Beth_NEGATIVE'), 279),\n",
       " (('Round1_Beth_NEGATIVE',), 180),\n",
       " (('unsures', 'Round1_Beth_POSITIVE'), 161),\n",
       " (('sures', 'Round1_Beth_NEGATIVE'), 128),\n",
       " (('unsures', 'Round1_Beth_NEGATIVE', 'Round1_Beth_POSITIVE'), 15),\n",
       " (('unsures', 'unsures'), 4),\n",
       " (('sures', 'Round1_Beth_POSITIVE', 'Round1_Beth_POSITIVE'), 3),\n",
       " (('sures', 'Round1_Beth_NEGATIVE', 'Round1_Beth_POSITIVE'), 3),\n",
       " (('sures', 'unsures'), 3),\n",
       " (('unsures', 'Round1_Beth_POSITIVE', 'Round1_Beth_POSITIVE'), 2),\n",
       " (('Round1_Beth_NEGATIVE', 'Round1_Beth_POSITIVE'), 2),\n",
       " (('sures', 'sures'), 1),\n",
       " (('sures', 'sures', 'unsures'), 1),\n",
       " (('sures', 'Round1_Beth_NEGATIVE', 'Round1_Beth_NEGATIVE'), 1),\n",
       " (('unsures',\n",
       "   'Round1_Beth_NEGATIVE',\n",
       "   'Round1_Beth_POSITIVE',\n",
       "   'Round1_Beth_POSITIVE'),\n",
       "  1)]"
      ]
     },
     "execution_count": 11,
     "metadata": {},
     "output_type": "execute_result"
    }
   ],
   "source": [
    "detector = CellDetector(animal,round=2)\n",
    "detections = detector.load_detections()\n",
    "sures = detections[detections.predictions==2]\n",
    "unsures = detections[detections.predictions==0]\n",
    "sures = get_DataFrame_from_detection_df(sures,'sures')\n",
    "unsures = get_DataFrame_from_detection_df(unsures,'unsures')\n",
    "tool = AnnotationProximityTool()\n",
    "tool.pair_distance=30\n",
    "tool.set_annotations_to_compare(pd.concat([sures,unsures,qcs]))\n",
    "tool.find_equivalent_points()\n",
    "print(f'total sure {len(sures)} total unsure {len(unsures)}')\n",
    "Counter([tuple(i) for i in tool.pair_categories.values()]).most_common()"
   ]
  },
  {
   "cell_type": "code",
   "execution_count": 9,
   "metadata": {},
   "outputs": [
    {
     "name": "stdout",
     "output_type": "stream",
     "text": [
      "[Errno 2] No such file or directory: '//net/birdstore/Active_Atlas_Data//cell_segmentation/models/models_from_qc_round_1_threshold_2000.pkl'\n",
      "calculating distance matrix\n",
      "finding points that are close to each other\n",
      "grouping and labeling points that are close to each other\n",
      "before removing duplicates 15505\n",
      "after removing duplicates 14064\n",
      "total sure 12224 total unsure 1420\n"
     ]
    },
    {
     "data": {
      "text/plain": [
       "[(('sures',), 12099),\n",
       " (('unsures', 'Round1_Beth_POSITIVE'), 772),\n",
       " (('unsures', 'Round1_Beth_NEGATIVE'), 502),\n",
       " (('Round1_Beth_POSITIVE',), 422),\n",
       " (('unsures',), 127),\n",
       " (('sures', 'Round1_Beth_NEGATIVE'), 82),\n",
       " (('sures', 'Round1_Beth_POSITIVE'), 29),\n",
       " (('unsures', 'Round1_Beth_NEGATIVE', 'Round1_Beth_POSITIVE'), 12),\n",
       " (('sures', 'Round1_Beth_NEGATIVE', 'Round1_Beth_POSITIVE'), 8),\n",
       " (('sures', 'sures'), 3),\n",
       " (('unsures', 'Round1_Beth_POSITIVE', 'Round1_Beth_POSITIVE'), 3),\n",
       " (('Round1_Beth_NEGATIVE',), 2),\n",
       " (('unsures', 'unsures', 'Round1_Beth_NEGATIVE'), 1),\n",
       " (('unsures',\n",
       "   'Round1_Beth_NEGATIVE',\n",
       "   'Round1_Beth_POSITIVE',\n",
       "   'Round1_Beth_POSITIVE'),\n",
       "  1),\n",
       " (('unsures', 'Round1_Beth_NEGATIVE', 'Round1_Beth_NEGATIVE'), 1)]"
      ]
     },
     "execution_count": 9,
     "metadata": {},
     "output_type": "execute_result"
    }
   ],
   "source": [
    "detector = CellDetector(animal,round=1)\n",
    "detections = detector.load_detections()\n",
    "sures = detections[detections.predictions==2]\n",
    "unsures = detections[detections.predictions==0]\n",
    "sures = get_DataFrame_from_detection_df(sures,'sures')\n",
    "unsures = get_DataFrame_from_detection_df(unsures,'unsures')\n",
    "tool = AnnotationProximityTool()\n",
    "tool.pair_distance=30\n",
    "tool.set_annotations_to_compare(pd.concat([sures,unsures,qcs]))\n",
    "tool.find_equivalent_points()\n",
    "print(f'total sure {len(sures)} total unsure {len(unsures)}')\n",
    "Counter([tuple(i) for i in tool.pair_categories.values()]).most_common()"
   ]
  },
  {
   "cell_type": "code",
   "execution_count": null,
   "metadata": {},
   "outputs": [],
   "source": []
  }
 ],
 "metadata": {
  "kernelspec": {
   "display_name": "Python 3.6.9 ('pipeline')",
   "language": "python",
   "name": "python3"
  },
  "language_info": {
   "codemirror_mode": {
    "name": "ipython",
    "version": 3
   },
   "file_extension": ".py",
   "mimetype": "text/x-python",
   "name": "python",
   "nbconvert_exporter": "python",
   "pygments_lexer": "ipython3",
   "version": "3.6.9"
  },
  "orig_nbformat": 4,
  "vscode": {
   "interpreter": {
    "hash": "9b29855540defb355a50951874e4b3a9a33e036ed29af88ad65ef37e45f70f6e"
   }
  }
 },
 "nbformat": 4,
 "nbformat_minor": 2
}
