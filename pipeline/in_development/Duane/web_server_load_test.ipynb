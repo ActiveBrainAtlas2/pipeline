{
 "cells": [
  {
   "cell_type": "code",
   "execution_count": 1,
   "outputs": [
    {
     "name": "stdout",
     "output_type": "stream",
     "text": [
      "Read tsv: DK55_ls_v2.tsv\n",
      "Operation time:  12.990773677825928 sec\n"
     ]
    }
   ],
   "source": [
    "'''\n",
    "LOAD TEST WEB SERVER\n",
    "\n",
    "CREATED: 13-APR-2022\n",
    "LAST EDIT: 19-APR-2022\n",
    "AUTHORS: DUANE RINEHART\n",
    "\n",
    "'''\n",
    "import os\n",
    "import time\n",
    "import pandas as pd\n",
    "\n",
    "\n",
    "win_data_dir = 'E:/dev/web_server_load_test/'\n",
    "linux_data_dir = '/mnt/e/dev/web_server_load_test/'\n",
    "\n",
    "\n",
    "def load_app_constants():\n",
    "    '''\n",
    "    LOAD APP/ENVIRONMENT SETTINGS (ESP. CROSS-PLATFORM)\n",
    "    '''\n",
    "    if os.name == \"nt\":\n",
    "        input_fullPath = os.path.join(win_data_dir)\n",
    "    else:\n",
    "        input_fullPath = os.path.join(linux_data_dir)\n",
    "    return input_fullPath\n",
    "\n",
    "\n",
    "def sizeof_fmt(num, suffix=\"B\"):\n",
    "    for unit in [\"\", \"Ki\", \"Mi\", \"Gi\", \"Ti\", \"Pi\", \"Ei\", \"Zi\"]:\n",
    "        if abs(num) < 1024.0:\n",
    "            return f\"{num:3.1f}{unit}{suffix}\"\n",
    "        num /= 1024.0\n",
    "    return f\"{num:.1f}Yi{suffix}\"\n",
    "\n",
    "\n",
    "def capture_dir_listing(data_root):\n",
    "    '''\n",
    "    PRIOR LIST OF REPRESENTATIVE DIRECTORY CONTENTS GENERATED WITH:\n",
    "    [ON pons.dk.ucsd.edu]\n",
    "    cd /data/neuroglancer/DK55/neuroglancer_data/C1\n",
    "    DIR='325_325_20000' && ls -l $DIR | awk 'BEGIN {OFS=\"\\t\"} { print $9, $5 }' > ~/\"$DIR.tsv\"\n",
    "\n",
    "    '''\n",
    "\n",
    "    input_filename = 'DK55_ls_v2.tsv'\n",
    "    input_fullPath = os.path.join(data_root, input_filename)\n",
    "\n",
    "    start = time.time()\n",
    "    dfFileList = pd.read_csv(input_fullPath, sep='\\t', names=['fname', 'size_(bytes)'], header=None)\n",
    "    dfFileList.index.name = 'id'\n",
    "    end = time.time()\n",
    "    print(f\"Read tsv: {input_filename}\")\n",
    "    print('Operation time: ', (end-start), \"sec\")\n",
    "    return dfFileList\n",
    "\n",
    "data_root = load_app_constants()\n",
    "files_size_array = capture_dir_listing(data_root)\n"
   ],
   "metadata": {
    "collapsed": false,
    "pycharm": {
     "name": "#%%\n"
    }
   }
  },
  {
   "cell_type": "code",
   "execution_count": 2,
   "outputs": [
    {
     "name": "stdout",
     "output_type": "stream",
     "text": [
      "n =  16208461\n",
      "μ = 39.8KiB\n",
      "median =  163.0B\n",
      "σ =  153075.00498381534\n"
     ]
    }
   ],
   "source": [
    "print('n = ', len(files_size_array.index))\n",
    "print('μ =', sizeof_fmt(files_size_array['size_(bytes)'].mean()))\n",
    "print('median = ', sizeof_fmt(files_size_array['size_(bytes)'].median()))\n",
    "print('σ = ', files_size_array['size_(bytes)'].std())"
   ],
   "metadata": {
    "collapsed": false,
    "pycharm": {
     "name": "#%%\n"
    }
   }
  },
  {
   "cell_type": "code",
   "execution_count": 3,
   "outputs": [
    {
     "data": {
      "text/plain": "array([[<AxesSubplot:title={'center':'size_(bytes)'}>]], dtype=object)"
     },
     "execution_count": 3,
     "metadata": {},
     "output_type": "execute_result"
    },
    {
     "data": {
      "text/plain": "<Figure size 432x288 with 1 Axes>",
      "image/png": "[encoded data removed]"
     },
     "metadata": {
      "needs_background": "light"
     },
     "output_type": "display_data"
    }
   ],
   "source": [
    "files_size_array.hist('size_(bytes)')"
   ],
   "metadata": {
    "collapsed": false,
    "pycharm": {
     "name": "#%%\n"
    }
   }
  },
  {
   "cell_type": "code",
   "execution_count": 109,
   "outputs": [],
   "source": [
    "#REPRESENTATIVE IMAGES DURING SESSION SUM IS BASED ON HISTORICAL DAILY AVERAGE (https://activebrainatlas.ucsd.edu/awstats/awstats.pl)\n",
    "#MAR, 2022 AVG 8.82GB\n",
    "aggregate_threshold = (8.82e+9) # IN BYTES\n",
    "#aggregate_threshold = (2000) # IN BYTES\n",
    "aggregate_file_size = 0\n",
    "files_size_array['selected'] = ' ' # ADD TO EXISTING DATAFRAME\n",
    "\n",
    "for i in files_size_array.sample(frac=1).iterrows(): #ref: https://stackoverflow.com/questions/43509114/randomly-sample-rows-of-a-dataframe-until-the-desired-sum-of-a-column-is-reached\n",
    "    if (aggregate_file_size + i[1]['size_(bytes)']) <= aggregate_threshold:\n",
    "        aggregate_file_size += i[1]['size_(bytes)']\n",
    "        files_size_array.at[i[0], 'selected'] = 1\n",
    "\n",
    "# SAVE RESULTS TO FILE ('size_(bytes)' COLUMN SUM SHOULD EQUAL aggregate_threshold)\n",
    "data_root = load_app_constants()\n",
    "out_filename = 'load_test_target_transfer_list.xlsx'\n",
    "output_fullPath = os.path.join(data_root, out_filename)\n",
    "files_size_array.index.name = 'id'\n",
    "files_size_array[files_size_array['selected']==1].to_excel(output_fullPath, columns=['fname','size_(bytes)'])"
   ],
   "metadata": {
    "collapsed": false,
    "pycharm": {
     "name": "#%%\n"
    }
   }
  },
  {
   "cell_type": "code",
   "execution_count": 110,
   "outputs": [],
   "source": [],
   "metadata": {
    "collapsed": false,
    "pycharm": {
     "name": "#%%\n"
    }
   }
  },
  {
   "cell_type": "markdown",
   "source": [],
   "metadata": {
    "collapsed": false,
    "pycharm": {
     "name": "#%% md\n"
    }
   }
  }
 ],
 "metadata": {
  "kernelspec": {
   "display_name": "Python 3",
   "language": "python",
   "name": "python3"
  },
  "language_info": {
   "codemirror_mode": {
    "name": "ipython",
    "version": 2
   },
   "file_extension": ".py",
   "mimetype": "text/x-python",
   "name": "python",
   "nbconvert_exporter": "python",
   "pygments_lexer": "ipython2",
   "version": "2.7.6"
  }
 },
 "nbformat": 4,
 "nbformat_minor": 0
}