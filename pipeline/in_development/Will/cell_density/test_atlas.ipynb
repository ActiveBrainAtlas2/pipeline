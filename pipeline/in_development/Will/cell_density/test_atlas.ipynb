{
 "cells": [
  {
   "cell_type": "code",
   "execution_count": 2,
   "metadata": {},
   "outputs": [
    {
     "name": "stdout",
     "output_type": "stream",
     "text": [
      "No histology for Atlas\n",
      "No histology for Atlas\n",
      "Shape of downsampled atlas volume (859, 700, 304)\n",
      "No histology for Atlas\n",
      "No histology for Atlas\n",
      "Shape of downsampled atlas volume (859, 700, 304)\n"
     ]
    }
   ],
   "source": [
    "import sys\n",
    "sys.path.append('/scratch/programming/pipeline/pipeline')\n",
    "from pipeline.Controllers.SqlController import SqlController\n",
    "from pipeline.Controllers.MarkedCellController import MarkedCellController\n",
    "from model.annotation_points import CellSources,MarkedCell\n",
    "from atlas.Assembler import get_assembled_atlas_v7\n",
    "import plotly.graph_objects as go\n",
    "import numpy as np\n",
    "animal = 'DK41'\n",
    "controller = SqlController(animal)\n",
    "# cell_controller = MarkedCellController()\n",
    "resolution = controller.get_resolution(animal)\n",
    "# cells = cell_controller.get_marked_cells(search_dictionary = dict(id = 3586))\n",
    "# # cells = cells*resolution\n",
    "# bin_voxel = [500,500,500]\n",
    "# bins = []\n",
    "# for i,stepi in enumerate(bin_voxel):\n",
    "#     axis_max = cells.max(axis=0)[i]\n",
    "#     axis_bins = list(range(0,int(axis_max)+1,stepi))\n",
    "#     bins.append(axis_bins)\n",
    "# count,bins =np.histogramdd(cells,bins = bins)\n",
    "\n",
    "assenbler  = get_assembled_atlas_v7()\n",
    "\n",
    "\n",
    "import numpy as np\n",
    "import os\n",
    "from atlas.Atlas import Atlas\n",
    "from pipeline.Controllers.SqlController import SqlController\n",
    "from atlas.NgSegmentMaker import NgConverter\n",
    "from atlas.Assembler import Assembler,get_v7_volume_and_origin,get_assembled_atlas_v7\n",
    "\n",
    "controller = SqlController('DK39')\n",
    "atlas = Atlas(atlas = 'atlasV7')\n",
    "atlas.get_com_array()\n",
    "assembler = Assembler(check=False,side = '_R')\n",
    "assembler.volumes,assembler.origins = get_v7_volume_and_origin()\n",
    "assembler.sqlController = atlas.sqlController\n",
    "assembler.structures = list(assembler.volumes.keys())\n",
    "segment_to_id = controller.get_segment_to_id_where_segment_are_brain_regions()\n",
    "for i in segment_to_id:\n",
    "    segment_to_id[i]=1\n",
    "assembler.assemble_all_structure_volume(segment_to_id)\n"
   ]
  },
  {
   "cell_type": "code",
   "execution_count": 6,
   "metadata": {},
   "outputs": [
    {
     "data": {
      "text/plain": [
       "(859, 700, 304)"
      ]
     },
     "execution_count": 6,
     "metadata": {},
     "output_type": "execute_result"
    }
   ],
   "source": [
    "assenbler.combined_volume.shape"
   ]
  },
  {
   "cell_type": "code",
   "execution_count": 9,
   "metadata": {},
   "outputs": [
    {
     "data": {
      "text/plain": [
       "(86, 70, 30)"
      ]
     },
     "execution_count": 9,
     "metadata": {},
     "output_type": "execute_result"
    }
   ],
   "source": [
    "from scipy.ndimage import zoom\n",
    "test = zoom(assenbler.combined_volume, (0.1, 0.1, 0.1))\n",
    "test.shape"
   ]
  },
  {
   "cell_type": "code",
   "execution_count": 10,
   "metadata": {},
   "outputs": [],
   "source": [
    "shape = assenbler.combined_volume.shape\n",
    "volume = assenbler.combined_volume\n",
    "X, Y, Z = eval(f'np.mgrid[  0:{shape[0]}:{shape[0]}j, \\\n",
    "                            0:{shape[1]}:{shape[1]}j, \\\n",
    "                            0:{shape[2]}:{shape[2]}j]')\n",
    "data = []\n",
    "# data.append(go.Scatter3d(x=cells[:,0], y=cells[:,1], z=cells[:,2],marker=dict(size=5,opacity=0.8),\n",
    "#                                    mode='markers'))\n",
    "data.append(go.Volume(\n",
    "    x=X.flatten(),\n",
    "    y=Y.flatten(),\n",
    "    z=Z.flatten(),\n",
    "    value=volume.flatten(),\n",
    "    isomin=0,\n",
    "    isomax=40,\n",
    "    opacity=0.5, # needs to be small to see through all surfaces\n",
    "    surface_count=2, # needs to be a large number for good volume rendering\n",
    "    ))\n",
    "fig = go.Figure(data=data)\n",
    "fig['layout']['scene']['aspectmode'] = \"data\"\n",
    "# fig.show()\n",
    "fig.write_html(\"/net/birdstore/Active_Atlas_Data/atlas.html\")"
   ]
  },
  {
   "cell_type": "code",
   "execution_count": null,
   "metadata": {},
   "outputs": [],
   "source": []
  }
 ],
 "metadata": {
  "kernelspec": {
   "display_name": "Python 3.6.9 ('pipeline')",
   "language": "python",
   "name": "python3"
  },
  "language_info": {
   "codemirror_mode": {
    "name": "ipython",
    "version": 3
   },
   "file_extension": ".py",
   "mimetype": "text/x-python",
   "name": "python",
   "nbconvert_exporter": "python",
   "pygments_lexer": "ipython3",
   "version": "3.8.10"
  },
  "vscode": {
   "interpreter": {
    "hash": "9b29855540defb355a50951874e4b3a9a33e036ed29af88ad65ef37e45f70f6e"
   }
  }
 },
 "nbformat": 4,
 "nbformat_minor": 2
}
