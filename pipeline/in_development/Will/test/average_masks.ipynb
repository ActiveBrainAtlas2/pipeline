{
 "cells": [
  {
   "cell_type": "code",
   "execution_count": 24,
   "metadata": {},
   "outputs": [],
   "source": [
<<<<<<< HEAD
    "from pipeline.Controllers.UrlController import UrlController"
=======
    "import os\n",
    "import sys\n",
    "sys.path.append(os.path.abspath('./../../../'))\n",
    "from Controllers.UrlController import UrlController\n",
    "import json\n",
    "def change_color_of_annotation_layer(layer,color_hex):\n",
    "    for annotation in layer['annotations']:\n",
    "        annotation['props'] = [color_hex]\n",
    "    return layer\n",
    "controller = UrlController()"
   ]
  },
  {
   "cell_type": "code",
   "execution_count": 37,
   "metadata": {},
   "outputs": [],
   "source": [
    "urlshort = controller.get_urlModel(586)\n",
    "urlshort = json.loads(urlshort.url)"
   ]
  },
  {
   "cell_type": "code",
   "execution_count": 36,
   "metadata": {},
   "outputs": [
    {
     "data": {
      "text/plain": [
       "('test QC3', 'QC3 false negative')"
      ]
     },
     "execution_count": 36,
     "metadata": {},
     "output_type": "execute_result"
    }
   ],
   "source": [
    "controller.get_urlModel(583).comments,controller.get_urlModel(593).comments"
   ]
  },
  {
   "cell_type": "code",
   "execution_count": 38,
   "metadata": {},
   "outputs": [],
   "source": [
    "url = controller.get_urlModel(593)\n",
    "url = json.loads(url.url)"
   ]
  },
  {
   "cell_type": "code",
   "execution_count": 39,
   "metadata": {},
   "outputs": [],
   "source": [
    "url_new = urlshort\n",
    "layers = urlshort['layers'][:3]\n",
    "sure_sample = urlshort['layers'][3]\n",
    "sure = url['layers'][3]\n",
    "layers.append(sure)\n",
    "sure_sample['name'] = 'Sure_sample'\n",
    "sure_sample = change_color_of_annotation_layer(sure_sample,'#e5690e')\n",
    "layers.append(sure_sample)\n",
    "url_new['layers'] = layers"
   ]
  },
  {
   "cell_type": "code",
   "execution_count": 40,
   "metadata": {},
   "outputs": [],
   "source": [
    "from model.urlModel import UrlModel\n",
    "urlmodel = UrlModel(url = json.dumps(url_new),comments = 'compare sure sampling',person_id = 34)\n",
    "controller.add_row(urlmodel)"
   ]
  },
  {
   "cell_type": "code",
   "execution_count": 37,
   "metadata": {},
   "outputs": [],
   "source": [
    "sure_sample = change_color_of_annotation_layer(sure_sample,'#e5690e')"
>>>>>>> 2d52f2b60e8bf5ce3733212d185a43876c71056f
   ]
  }
 ],
 "metadata": {
  "kernelspec": {
   "display_name": "Python 3.6.9 ('pipeline')",
   "language": "python",
   "name": "python3"
  },
  "language_info": {
   "codemirror_mode": {
    "name": "ipython",
    "version": 3
   },
   "file_extension": ".py",
   "mimetype": "text/x-python",
   "name": "python",
   "nbconvert_exporter": "python",
   "pygments_lexer": "ipython3",
   "version": "3.6.9"
  },
  "orig_nbformat": 4,
  "vscode": {
   "interpreter": {
    "hash": "9b29855540defb355a50951874e4b3a9a33e036ed29af88ad65ef37e45f70f6e"
   }
  }
 },
 "nbformat": 4,
 "nbformat_minor": 2
}
