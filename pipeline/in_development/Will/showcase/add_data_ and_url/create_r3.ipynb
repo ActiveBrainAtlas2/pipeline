{
 "cells": [
  {
   "cell_type": "code",
   "execution_count": 2,
   "metadata": {},
   "outputs": [],
   "source": [
    "import sys\n",
    "import os\n",
    "sys.path.append(os.path.abspath('./../..'))\n",
    "from cell_extractor.CellDetectorBase import CellDetectorBase\n",
    "from pipeline.lib.annotation_layer import Cell,random_string\n",
    "import numpy as np\n",
    "from random import sample\n",
    "from pipeline.lib.UrlGenerator import UrlGenerator\n",
    "from cell_extractor.BorderFinder import BorderFinder\n",
    "def numpy_to_json(data,color_hex = None,category = 'Round3_Sure'):\n",
    "    cells = []\n",
    "    for coord in data:\n",
    "        cell = Cell(np.array(coord,dtype=float),random_string())\n",
    "        cell.category = category\n",
    "        cell.coord[-1]=cell.coord[-1]+0.5\n",
    "        if hasattr(cell,'description'):\n",
    "            del cell.description\n",
    "        cell_json = cell.to_json()\n",
    "        if color_hex is not None:\n",
    "            cell_json[\"props\"] = [color_hex]\n",
    "        cells.append(cell_json)\n",
    "    return cells\n"
   ]
  },
  {
   "cell_type": "code",
   "execution_count": 3,
   "metadata": {},
   "outputs": [
    {
     "name": "stdout",
     "output_type": "stream",
     "text": [
      "calculating borders for DK52\n",
      "image loaded\n",
      "contours found\n",
      "borders calculated\n"
     ]
    },
    {
     "data": {
      "text/plain": [
       "590"
      ]
     },
     "execution_count": 3,
     "metadata": {},
     "output_type": "execute_result"
    }
   ],
   "source": [
    "\n",
    "animal = 'DK52'\n",
    "finder = BorderFinder(animal)\n",
    "base = CellDetectorBase(animal,round = 2)\n",
    "detections = base.load_detections()\n",
    "sure = detections[detections.predictions==2]\n",
    "unsure = detections[detections.predictions==0]\n",
    "\n",
    "border_cell,sure = finder.find_border_cells(sure)\n",
    "border_cell,unsure = finder.find_border_cells(unsure)\n",
    "\n",
    "len(sure),len(unsure),len(detections)\n",
    "sure_data = sure[['col','row','section']].sample(500).sort_values('section').to_numpy().tolist()\n",
    "unsure_data = unsure[['col','row','section']].sort_values('section').to_numpy().tolist()\n",
    "sure_cells = numpy_to_json(sure_data,category = 'Round3_Sure')\n",
    "unsure_cells = numpy_to_json(unsure_data,color_hex='#1d66db',category = 'Round3_Unsure')\n",
    "urlGen = UrlGenerator()\n",
    "image_layer = 'precomputed://https://activebrainatlas.ucsd.edu/data/'+animal+'/neuroglancer_data/'\n",
    "urlGen.add_stack_image(animal,channel=1)\n",
    "urlGen.add_stack_image(animal,channel=2,color='red')\n",
    "urlGen.add_stack_image(animal,channel=3,color='green')\n",
    "urlGen.add_annotation_layer('Sure',annotations = sure_cells)\n",
    "urlGen.add_annotation_layer('Unsure',annotations = unsure_cells)\n",
    "urlGen.add_to_database('test QC3',34)"
   ]
  },
  {
   "cell_type": "code",
   "execution_count": null,
   "metadata": {},
   "outputs": [],
   "source": []
  }
 ],
 "metadata": {
  "kernelspec": {
   "display_name": "Python 3.6.9 ('pipeline')",
   "language": "python",
   "name": "python3"
  },
  "language_info": {
   "codemirror_mode": {
    "name": "ipython",
    "version": 3
   },
   "file_extension": ".py",
   "mimetype": "text/x-python",
   "name": "python",
   "nbconvert_exporter": "python",
   "pygments_lexer": "ipython3",
   "version": "3.6.9"
  },
  "orig_nbformat": 4,
  "vscode": {
   "interpreter": {
    "hash": "9b29855540defb355a50951874e4b3a9a33e036ed29af88ad65ef37e45f70f6e"
   }
  }
 },
 "nbformat": 4,
 "nbformat_minor": 2
}
