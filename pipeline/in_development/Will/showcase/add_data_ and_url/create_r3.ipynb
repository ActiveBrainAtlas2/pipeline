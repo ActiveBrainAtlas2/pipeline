{
 "cells": [
  {
   "cell_type": "code",
   "execution_count": 2,
   "metadata": {},
   "outputs": [
    {
     "name": "stdout",
     "output_type": "stream",
     "text": [
      "\n"
     ]
    }
   ],
   "source": [
    "import sys\n",
    "import os\n",
    "sys.path.append(os.path.abspath('./../../../..'))\n",
    "from cell_extractor.CellDetectorBase import CellDetectorBase\n",
    "from pipeline.lib.annotation_layer import Cell,random_string\n",
    "import numpy as np\n",
    "from random import sample\n",
    "from pipeline.lib.UrlGenerator import UrlGenerator\n",
    "from cell_extractor.BorderFinder import BorderFinder\n",
    "from cell_extractor.CellDetector import MultiThresholdDetector\n",
    "def numpy_to_json(data,color_hex = None,category = 'Round3_Sure'):\n",
    "    cells = []\n",
    "    for coord in data:\n",
    "        cell = Cell(np.array(coord,dtype=float),random_string())\n",
    "        cell.category = category\n",
    "        cell.coord[-1]=cell.coord[-1]+0.5\n",
    "        if hasattr(cell,'description'):\n",
    "            del cell.description\n",
    "        cell_json = cell.to_json()\n",
    "        if color_hex is not None:\n",
    "            cell_json[\"props\"] = [color_hex]\n",
    "        cells.append(cell_json)\n",
    "    return cells\n",
    "\n",
    "def create_QC_url(animal,sures,unsures,title):\n",
    "    urlGen = UrlGenerator()\n",
    "    image_layer = 'precomputed://https://activebrainatlas.ucsd.edu/data/'+animal+'/neuroglancer_data/'\n",
    "    urlGen.add_stack_image(animal,channel=1)\n",
    "    urlGen.add_stack_image(animal,channel=2,color='red')\n",
    "    urlGen.add_stack_image(animal,channel=3,color='green')\n",
    "    urlGen.add_annotation_layer('Sure',annotations = sures)\n",
    "    urlGen.add_annotation_layer('Unsure',annotations = unsures)\n",
    "    return urlGen.add_to_database(title,34)\n",
    "\n",
    "def get_multi_threshold_sure_and_unsure(animal):\n",
    "    detector = MultiThresholdDetector(animal,round = 2)\n",
    "    sure = detector.get_sures()\n",
    "    unsure = detector.get_unsures()\n",
    "    return sure,unsure\n",
    "\n",
    "def get_single_threshold_sure_and_unsure(animal,threshold):\n",
    "    detector = CellDetectorBase(animal,round = 2,segmentation_threshold=threshold)\n",
    "    detections = detector.load_detections()\n",
    "    sures = detections[detections.predictions==2]\n",
    "    unsure = detections[detections.predictions==0]\n",
    "    return sures,unsure\n",
    "\n",
    "def print_multi_threshold_sure_and_unsure_count(animal):\n",
    "    sure,unsure = get_multi_threshold_sure_and_unsure(animal)\n",
    "    print(len(sure),len(unsure))\n",
    "    \n",
    "def print_single_threshold_sure_and_unsure_count(animal,threshold = 2000):\n",
    "    sure,unsure = get_single_threshold_sure_and_unsure(animal,threshold)\n",
    "    print(len(sure),len(unsure))\n",
    "\n",
    "def generate_QC_link(animal,get_sure_and_unsure,sample = None):\n",
    "    finder = BorderFinder(animal)\n",
    "    sure,unsure = get_sure_and_unsure()\n",
    "    detector = CellDetectorBase(animal,round = 2)\n",
    "    detections = detector.load_detections()\n",
    "    sure = detections[detections.predictions==2]\n",
    "    unsure = detections[detections.predictions==0]\n",
    "    sure.rename(columns = {'x' : 'col', 'y' : 'row'}, inplace = True)\n",
    "    unsure.rename(columns = {'x' : 'col', 'y' : 'row'}, inplace = True)\n",
    "    _,sure = finder.find_border_cells(sure)\n",
    "    _,unsure = finder.find_border_cells(unsure)\n",
    "    if sample is not None:\n",
    "        sure_data_sample = sure[['col','row','section']].sample(sample).sort_values('section').to_numpy().tolist()\n",
    "    else:\n",
    "        sure_data_sample = sure[['col','row','section']].sort_values('section').to_numpy().tolist()\n",
    "    sure_data_sample = sure[['col','row','section']].sort_values('section').to_numpy().tolist()\n",
    "    sure_data = sure[['col','row','section']].sort_values('section').to_numpy().tolist()\n",
    "    unsure_data = unsure[['col','row','section']].sort_values('section').to_numpy().tolist()\n",
    "    sure_cells_sample = numpy_to_json(sure_data_sample,category = 'Round3_Sure')\n",
    "    sure_cells = numpy_to_json(sure_data,category = 'Round3_Sure')\n",
    "    unsure_cells = numpy_to_json(unsure_data,color_hex='#1d66db',category = 'Round3_Unsure')\n",
    "\n",
    "    sc_id = create_QC_url(animal,sure_cells_sample,unsure_cells,'Julian QC3 '+animal)\n",
    "    false_negative_id = create_QC_url(animal,sure_cells,unsure_cells,'Julian false negative '+animal)\n",
    "    print(f'Julian QC url id {animal} : {sc_id}')\n",
    "    print(f'Julian false negative url id {animal} : {false_negative_id}')\n",
    "\n",
    "    sc_id = create_QC_url(animal,sure_cells_sample,unsure_cells,'Marissa QC3 '+animal)\n",
    "    false_negative_id = create_QC_url(animal,sure_cells,unsure_cells,'Marissa false negative '+animal)\n",
    "    print(f'Marissa QC url id {animal} : {sc_id}')\n",
    "    print(f'Marissa false negative url id {animal} : {false_negative_id}')"
   ]
  },
  {
   "cell_type": "code",
   "execution_count": 4,
   "metadata": {},
   "outputs": [
    {
     "name": "stderr",
     "output_type": "stream",
     "text": [
      "/usr/local/share/pipeline/lib/python3.6/site-packages/pandas/core/frame.py:4308: SettingWithCopyWarning:\n",
      "\n",
      "\n",
      "A value is trying to be set on a copy of a slice from a DataFrame\n",
      "\n",
      "See the caveats in the documentation: https://pandas.pydata.org/pandas-docs/stable/user_guide/indexing.html#returning-a-view-versus-a-copy\n",
      "\n"
     ]
    },
    {
     "name": "stdout",
     "output_type": "stream",
     "text": [
      "Julian QC url id DK39 : 640\n",
      "Julian false negative url id DK39 : 641\n"
     ]
    }
   ],
   "source": [
    "animal = 'DK39'\n",
    "finder = BorderFinder(animal)\n",
    "# detector = MultiThresholdDetector(animal,round = 2)\n",
    "# sure = detector.get_sures()\n",
    "# unsure = detector.get_unsures()\n",
    "detector = CellDetectorBase(animal,round = 2)\n",
    "detections = detector.load_detections()\n",
    "sure = detections[detections.predictions==2]\n",
    "unsure = detections[detections.predictions==0]\n",
    "sure.rename(columns = {'x' : 'col', 'y' : 'row'}, inplace = True)\n",
    "unsure.rename(columns = {'x' : 'col', 'y' : 'row'}, inplace = True)\n",
    "border_cell,sure = finder.find_border_cells(sure)\n",
    "border_cell,unsure = finder.find_border_cells(unsure)\n",
    "# sure_data_sample = sure[['col','row','section']].sample(500).sort_values('section').to_numpy().tolist()\n",
    "sure_data_sample = sure[['col','row','section']].sort_values('section').to_numpy().tolist()\n",
    "sure_data = sure[['col','row','section']].sort_values('section').to_numpy().tolist()\n",
    "unsure_data = unsure[['col','row','section']].sort_values('section').to_numpy().tolist()\n",
    "sure_cells_sample = numpy_to_json(sure_data_sample,category = 'Round3_Sure')\n",
    "sure_cells = numpy_to_json(sure_data,category = 'Round3_Sure')\n",
    "unsure_cells = numpy_to_json(unsure_data,color_hex='#1d66db',category = 'Round3_Unsure')\n",
    "\n",
    "sc_id = create_QC_url(animal,sure_cells_sample,unsure_cells,'Julian QC3 '+animal)\n",
    "false_negative_id = create_QC_url(animal,sure_cells,unsure_cells,'Julian false negative '+animal)\n",
    "print(f'Julian QC url id {animal} : {sc_id}')\n",
    "print(f'Julian false negative url id {animal} : {false_negative_id}')\n",
    "\n",
    "# sc_id = create_QC_url(animal,sure_cells_sample,unsure_cells,'Marissa QC3 '+animal)\n",
    "# false_negative_id = create_QC_url(animal,sure_cells,unsure_cells,'Marissa false negative '+animal)\n",
    "# print(f'Marissa QC url id {animal} : {sc_id}')\n",
    "# print(f'Marissa false negative url id {animal} : {false_negative_id}')"
   ]
  },
  {
   "cell_type": "code",
   "execution_count": null,
   "metadata": {},
   "outputs": [],
   "source": [
    "print_single_threshold_sure_and_unsure_count('DK41')"
   ]
  }
 ],
 "metadata": {
  "kernelspec": {
   "display_name": "Python 3.6.9 ('pipeline')",
   "language": "python",
   "name": "python3"
  },
  "language_info": {
   "codemirror_mode": {
    "name": "ipython",
    "version": 3
   },
   "file_extension": ".py",
   "mimetype": "text/x-python",
   "name": "python",
   "nbconvert_exporter": "python",
   "pygments_lexer": "ipython3",
   "version": "3.6.9"
  },
  "orig_nbformat": 4,
  "vscode": {
   "interpreter": {
    "hash": "9b29855540defb355a50951874e4b3a9a33e036ed29af88ad65ef37e45f70f6e"
   }
  }
 },
 "nbformat": 4,
 "nbformat_minor": 2
}
