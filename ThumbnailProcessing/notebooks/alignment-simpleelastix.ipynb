{
 "cells": [
  {
   "cell_type": "code",
   "execution_count": null,
   "metadata": {},
   "outputs": [],
   "source": [
    "import numpy as np\n",
    "from matplotlib import pyplot as plt\n",
    "from skimage import io\n",
    "import os, sys\n",
    "import SimpleITK as sitk\n",
    "from tqdm import tqdm\n",
    "from os.path import expanduser\n",
    "HOME = expanduser(\"~\")\n",
    "%pylab inline\n",
    "\n",
    "#%matplotlib inline"
   ]
  },
  {
   "cell_type": "code",
   "execution_count": null,
   "metadata": {},
   "outputs": [],
   "source": [
    "DIR = os.path.join(HOME, 'dk39')\n",
    "ORIENTED = os.path.join(DIR, 'preps', 'oriented')\n",
    "ALIGNED = os.path.join(DIR, 'preps', 'aligned')\n",
    "INPUT = ORIENTED"
   ]
  },
  {
   "cell_type": "code",
   "execution_count": null,
   "metadata": {},
   "outputs": [],
   "source": [
    "import cv2\n",
    "from cv2 import imread, imshow"
   ]
  },
  {
   "cell_type": "code",
   "execution_count": null,
   "metadata": {},
   "outputs": [],
   "source": [
    "def simple_resample(fixed_image, moving_image):\n",
    "    return  "
   ]
  },
  {
   "cell_type": "code",
   "execution_count": null,
   "metadata": {},
   "outputs": [],
   "source": [
    "# create some empty lists\n",
    "img_inputs = []\n",
    "img_outputs = []\n",
    "file_inputs = []\n",
    "# the first image is aligned to itself\n",
    "movingFile = files[0]\n",
    "file_inputs.append(movingFile)\n",
    "movingPath = os.path.join(INPUT, movingFile)\n",
    "fixedPath = movingPath\n",
    "fixed_image =  sitk.ReadImage(fixedPath, sitk.sitkFloat32)\n",
    "moving_image = sitk.ReadImage(movingPath, sitk.sitkFloat32) \n",
    "fixed_image = sitk.Elastix(fixed_image, moving_image)\n",
    "img_outputs.append(sitk.GetArrayFromImage(fixed_image))\n",
    "\n",
    "orient = io.imread(movingPath)\n",
    "img_inputs.append(orient)"
   ]
  },
  {
   "cell_type": "code",
   "execution_count": null,
   "metadata": {},
   "outputs": [],
   "source": [
    "# loop through the files and create a new image which is then used as the fixed image\n",
    "for file in tqdm(files[1:4]):\n",
    "    movingFile = file\n",
    "    file_inputs.append(movingFile)\n",
    "    movingPath = os.path.join(INPUT, movingFile)\n",
    "    moving_image = sitk.ReadImage(movingPath, sitk.sitkFloat32) \n",
    "    fixed_image = simple_resample(fixed_image, moving_image)\n",
    "    img_outputs.append(sitk.GetArrayFromImage(fixed_image))\n",
    "    orient = io.imread(movingPath)\n",
    "    img_inputs.append(orient)"
   ]
  },
  {
   "cell_type": "code",
   "execution_count": null,
   "metadata": {},
   "outputs": [],
   "source": [
    "OUTPUT = ALIGNED\n",
    "dels = os.listdir(OUTPUT)\n",
    "for d in dels:\n",
    "    os.unlink(os.path.join(OUTPUT, d))"
   ]
  },
  {
   "cell_type": "code",
   "execution_count": null,
   "metadata": {},
   "outputs": [],
   "source": [
    "for i, img in enumerate(img_outputs):   \n",
    "    \n",
    "    filename = '{}_{}'.format(str(i).zfill(4), file_inputs[i])\n",
    "    outfile = os.path.join(OUTPUT, filename)\n",
    "    flat = img.flatten()\n",
    "    fmax = int(flat.max())\n",
    "    fmin = int(flat.min())\n",
    "    flat = flat + abs(fmin)\n",
    "    img = np.reshape(flat, img.shape)    \n",
    "    img[img <= 0] = 0\n",
    "    io.imsave(outfile, img.astype('uint16'), check_contrast=False)\n",
    "    img = None\n",
    "print('done')"
   ]
  },
  {
   "cell_type": "code",
   "execution_count": null,
   "metadata": {},
   "outputs": [],
   "source": [
    "start, finish = 0,10\n",
    "for name,file in zip(file_inputs[start:finish], img_outputs[start:finish]):\n",
    "    plt.style.use('classic')\n",
    "    plt.figure()\n",
    "    plt.title('{} {}'.format(name, file.shape))\n",
    "    plt.imshow(file, cmap='gray')\n",
    "    plt.show()"
   ]
  },
  {
   "cell_type": "code",
   "execution_count": null,
   "metadata": {},
   "outputs": [],
   "source": []
  }
 ],
 "metadata": {
  "kernelspec": {
   "display_name": "Python 3",
   "language": "python",
   "name": "python3"
  },
  "language_info": {
   "codemirror_mode": {
    "name": "ipython",
    "version": 3
   },
   "file_extension": ".py",
   "mimetype": "text/x-python",
   "name": "python",
   "nbconvert_exporter": "python",
   "pygments_lexer": "ipython3",
   "version": "3.6.9"
  }
 },
 "nbformat": 4,
 "nbformat_minor": 4
}
