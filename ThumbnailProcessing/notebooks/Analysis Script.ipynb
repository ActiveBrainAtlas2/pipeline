{
 "cells": [
  {
   "cell_type": "code",
   "execution_count": 11,
   "metadata": {},
   "outputs": [
    {
     "name": "stdout",
     "output_type": "stream",
     "text": [
      "Overwriting argv.py\n"
     ]
    }
   ],
   "source": [
    "%%writefile argv.py\n",
    "import sys\n",
    "print(len(sys.argv))"
   ]
  },
  {
   "cell_type": "code",
   "execution_count": 1,
   "metadata": {},
   "outputs": [
    {
     "data": {
      "text/plain": [
       "469"
      ]
     },
     "execution_count": 1,
     "metadata": {},
     "output_type": "execute_result"
    }
   ],
   "source": [
    "thumbnail=!ls ../../dk39_thumb/*C1*.tif\n",
    "len(thumbnail)"
   ]
  },
  {
   "cell_type": "code",
   "execution_count": 14,
   "metadata": {},
   "outputs": [
    {
     "name": "stdout",
     "output_type": "stream",
     "text": [
      "Overwriting ../scripts/BasicAnalysis.py\n"
     ]
    }
   ],
   "source": [
    "%%writefile ../scripts/BasicAnalysis.py\n",
    "import sys\n",
    "import pandas as pd\n",
    "import pickle as pk\n",
    "import cv2\n",
    "import matplotlib\n",
    "import matplotlib.figure\n",
    "import numpy as np\n",
    "\n",
    "def im_type(src):\n",
    "    print('dtype=',src.dtype,'shape=',src.shape)\n",
    "\n",
    "def disp(image):\n",
    "    figure(figsize=[30,8])\n",
    "    im_type(image)\n",
    "    imshow(image.T,'gray');\n",
    "\n",
    "def find_threshold(src):\n",
    "    fig = matplotlib.figure.Figure()\n",
    "    ax = matplotlib.axes.Axes(fig, (0,0,0,0))\n",
    "    n,bins,patches=ax.hist(src.flatten(),160);\n",
    "    del ax, fig\n",
    "    min_point=np.argmin(n[:5])\n",
    "    thresh=min_point*64000/160+1000\n",
    "    return thresh\n",
    "\n",
    "def find_main_blob(stats,image):\n",
    "    height,width=image.shape\n",
    "    df=pd.DataFrame(stats)\n",
    "    df.columns=['Left','Top','Width','Height','Area']\n",
    "    df['blob_label']=df.index\n",
    "    df=df.sort_values(by='Area',ascending=False)\n",
    "\n",
    "    for row in df.iterrows():\n",
    "        Left=row[1]['Left']\n",
    "        Top=row[1]['Top']\n",
    "        Width=row[1]['Width']\n",
    "        Height=row[1]['Height']\n",
    "        corners= int(Left==0)+int(Top==0)+int(Width==width)+int(Height==height)\n",
    "        if corners<=2:\n",
    "            return row\n",
    "\n",
    "\n",
    "def scale_and_mask(src,mask,epsilon=0.01):\n",
    "    vals=np.array(sorted(src[mask>10]))\n",
    "    ind=int(len(vals)*(1-epsilon))\n",
    "    _max=vals[ind]\n",
    "    # print('thr=%d, index=%d'%(vals[ind],index))\n",
    "    _range=2**16-1\n",
    "    scaled=src*(45000./_max)\n",
    "    scaled[scaled>_range]=_range\n",
    "    scaled=scaled*(mask>10)\n",
    "    return scaled,_max\n",
    "\n",
    "thumbnail=sys.argv[1:]\n",
    "results=[]\n",
    "for i in range(len(thumbnail)):\n",
    "    \n",
    "    print('\\r %d/%d'%(i,len(thumbnail)),end='')\n",
    "    ###### read image\n",
    "    src = cv2.imread(thumbnail[i],-1)\n",
    "    threshold = find_threshold(src)\n",
    "\n",
    "    ###### Threshold it so it becomes binary\n",
    "    ret, threshed = cv2.threshold(src,threshold,255,cv2.THRESH_BINARY)\n",
    "    threshed=np.uint8(threshed)\n",
    "\n",
    "    ###### Find connected elements\n",
    "    # You need to choose 4 or 8 for connectivity type\n",
    "    connectivity = 4  \n",
    "    output = cv2.connectedComponentsWithStats(threshed, connectivity, cv2.CV_32S)\n",
    "\n",
    "    # Get the results\n",
    "    # The first cell is the number of labels\n",
    "    num_labels = output[0]\n",
    "    # The second cell is the label matrix\n",
    "    labels = output[1]\n",
    "    # The third cell is the stat matrix\n",
    "    stats = output[2]\n",
    "    # The fourth cell is the centroid matrix\n",
    "    centroids = output[3]\n",
    "    \n",
    "    # Find the blob that corresponds to the section.\n",
    "    row=find_main_blob(stats,src)\n",
    "    blob_label=row[1]['blob_label']\n",
    "    \n",
    "    #extract the blob\n",
    "    blob=np.uint8(labels==blob_label)*255\n",
    "    \n",
    "    #Perform morphological closing\n",
    "    kernel10 = np.ones((10,10),np.uint8)\n",
    "    closing = cv2.morphologyEx(blob, cv2.MORPH_CLOSE, kernel10, iterations=5)\n",
    "    # scale and mask\n",
    "    scaled,_max=scale_and_mask(src,closing)\n",
    "    \n",
    "    # Create Viewable image:\n",
    "    combined=np.copy(scaled)\n",
    "    combined[closing<10]=20000\n",
    "    result={'index':i,\n",
    "           'file':thumbnail[i],\n",
    "           'src':src,\n",
    "           'threshold':threshold,\n",
    "           'blob':blob,\n",
    "           'mask':closing,\n",
    "           'scaled':scaled,\n",
    "           'percentile99':_max,\n",
    "           'combined':combined}\n",
    "    results.append(result)\n",
    "\n",
    "with open('auto_masking_results.pkl','wb') as pickle_file:\n",
    "    pk.dump(results, pickle_file, pk.HIGHEST_PROTOCOL)"
   ]
  },
  {
   "cell_type": "markdown",
   "metadata": {},
   "source": [
    "## Statistics\n",
    "\n",
    "* cv2.CC_STAT_LEFT The leftmost (x) coordinate which is the inclusive start of the bounding box in the horizontal direction.\n",
    "* cv2.CC_STAT_TOP The topmost (y) coordinate which is the inclusive start of the bounding box in the vertical direction.\n",
    "* cv2.CC_STAT_WIDTH The horizontal size of the bounding box\n",
    "* cv2.CC_STAT_HEIGHT The vertical size of the bounding box\n",
    "* cv2.CC_STAT_AREA The total area (in pixels) of the connected component"
   ]
  },
  {
   "cell_type": "code",
   "execution_count": null,
   "metadata": {},
   "outputs": [],
   "source": []
  },
  {
   "cell_type": "code",
   "execution_count": null,
   "metadata": {},
   "outputs": [],
   "source": []
  }
 ],
 "metadata": {
  "kernelspec": {
   "display_name": "Python 3",
   "language": "python",
   "name": "python3"
  },
  "language_info": {
   "codemirror_mode": {
    "name": "ipython",
    "version": 3
   },
   "file_extension": ".py",
   "mimetype": "text/x-python",
   "name": "python",
   "nbconvert_exporter": "python",
   "pygments_lexer": "ipython3",
   "version": "3.6.9"
  }
 },
 "nbformat": 4,
 "nbformat_minor": 4
}
