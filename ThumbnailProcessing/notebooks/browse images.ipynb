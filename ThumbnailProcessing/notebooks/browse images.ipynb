{
 "cells": [
  {
   "cell_type": "markdown",
   "metadata": {},
   "source": [
    "### Email from Ed\n",
    "\n",
    "those files are on muralis now: \n",
    "* the full res files are in: \n",
    "> /net/birdstore/Active_Atlas_Data/data_root/pipeline_data/DK39/tif\n",
    "* the thumbnails are in:  \n",
    "> /net/birdstore/Active_Atlas_Data/data_root/pipeline_data/DK39/preps/thumbnail/"
   ]
  },
  {
   "cell_type": "code",
   "execution_count": null,
   "metadata": {
    "scrolled": true
   },
   "outputs": [],
   "source": [
    "fullsize=!ls -lh /net/birdstore/Active_Atlas_Data/data_root/pipeline_data/DK39/tif/*C1*.tif\n",
    "len(fullsize)"
   ]
  },
  {
   "cell_type": "code",
   "execution_count": null,
   "metadata": {},
   "outputs": [],
   "source": [
    "thumbnail=!ls -lh /net/birdstore/Active_Atlas_Data/data_root/pipeline_data/DK39/preps/thumbnail/*C1*.tif\n",
    "len(thumbnail)"
   ]
  },
  {
   "cell_type": "code",
   "execution_count": null,
   "metadata": {
    "scrolled": true
   },
   "outputs": [],
   "source": [
    "!mkdir /data/Yoav/dk39\n",
    "!ls /data/Yoav/"
   ]
  },
  {
   "cell_type": "code",
   "execution_count": null,
   "metadata": {},
   "outputs": [],
   "source": [
    "from_slide=230\n",
    "to_slide=240"
   ]
  },
  {
   "cell_type": "code",
   "execution_count": null,
   "metadata": {},
   "outputs": [],
   "source": [
    "# ran out of space\n",
    "for line in fullsize[from_slide:to_slide]:\n",
    "    birdstore_path=line.split()[-1]\n",
    "    cmd='cp %s /data/Yoav/dk39/'%birdstore_path\n",
    "    print(cmd)\n",
    "    !$cmd"
   ]
  },
  {
   "cell_type": "code",
   "execution_count": null,
   "metadata": {},
   "outputs": [],
   "source": [
    "thumbnails_path = '../dk39_thumb/'\n",
    "full_path='/data/Yoav/dk39/'"
   ]
  },
  {
   "cell_type": "code",
   "execution_count": null,
   "metadata": {},
   "outputs": [],
   "source": [
    "%pylab inline"
   ]
  },
  {
   "cell_type": "code",
   "execution_count": null,
   "metadata": {},
   "outputs": [],
   "source": [
    "_list=!ls $thumbnails_path\n",
    "len(_list)"
   ]
  },
  {
   "cell_type": "code",
   "execution_count": null,
   "metadata": {
    "scrolled": false
   },
   "outputs": [],
   "source": [
    "def image_grid(_list,max_cols=5, max_rows=10,image_width=4,image_height=8):\n",
    "    \"\"\" Display a grid of images\n",
    "        parameters:\n",
    "        _list = a list of filenames, each containing one image\n",
    "        max_cols: \n",
    "        max_rows\n",
    "        image_width\n",
    "        image_height\n",
    "        \"\"\"\n",
    "    i=0\n",
    "    fig, axes = plt.subplots(nrows=max_rows, ncols=max_cols, figsize=(max_cols*image_width,max_rows*image_height))\n",
    "    for filename in _list:\n",
    "        I=imread('../dk39_thumb/'+filename)\n",
    "        imshow(I,'gray')\n",
    "        row = i // max_cols\n",
    "        col = i % max_cols\n",
    "        i+=1\n",
    "        axes[row, col].axis(\"off\")\n",
    "        axes[row, col].imshow(I, cmap=\"gray\")\n",
    "    plt.subplots_adjust(wspace=.05, hspace=.05)\n",
    "    plt.show()"
   ]
  },
  {
   "cell_type": "code",
   "execution_count": null,
   "metadata": {},
   "outputs": [],
   "source": [
    "image_grid(_list[from_slide:to_slide],max_cols=5,max_rows=2,image_width=8, image_height=16)"
   ]
  },
  {
   "cell_type": "code",
   "execution_count": null,
   "metadata": {},
   "outputs": [],
   "source": [
    "I=imread(thumbnails_path+_list[251])\n",
    "print(I.shape, I.dtype,'dk39_thumb/'+_list[251])"
   ]
  },
  {
   "cell_type": "code",
   "execution_count": null,
   "metadata": {},
   "outputs": [],
   "source": [
    "hist(I.flatten(),bins=1000);\n",
    "ylim([0,10000])"
   ]
  },
  {
   "cell_type": "code",
   "execution_count": null,
   "metadata": {},
   "outputs": [],
   "source": [
    "n,bins,patches=hist(I.flatten(),bins=1000);\n",
    "ylim([0,10000]);\n",
    "xlim([0,5000])"
   ]
  },
  {
   "cell_type": "code",
   "execution_count": null,
   "metadata": {},
   "outputs": [],
   "source": [
    "n.shape,bins.shape"
   ]
  },
  {
   "cell_type": "code",
   "execution_count": null,
   "metadata": {},
   "outputs": [],
   "source": [
    "_cumul=np.array(np.cumsum(n))\n",
    "_cumul.shape"
   ]
  },
  {
   "cell_type": "code",
   "execution_count": null,
   "metadata": {},
   "outputs": [],
   "source": [
    "_cumul/=_cumul[-1]\n",
    "_cumul.shape"
   ]
  },
  {
   "cell_type": "code",
   "execution_count": null,
   "metadata": {
    "scrolled": true
   },
   "outputs": [],
   "source": [
    "plot(bins[1:],_cumul)\n",
    "grid()"
   ]
  },
  {
   "cell_type": "code",
   "execution_count": null,
   "metadata": {},
   "outputs": [],
   "source": [
    "figure(figsize=[10,20])\n",
    "imshow(I.T,'gray')"
   ]
  },
  {
   "cell_type": "code",
   "execution_count": null,
   "metadata": {},
   "outputs": [],
   "source": [
    "Z=I>2500\n",
    "\n",
    "figure(figsize=[10,20])\n",
    "imshow(Z.T)"
   ]
  },
  {
   "cell_type": "code",
   "execution_count": null,
   "metadata": {},
   "outputs": [],
   "source": [
    "figure(figsize=[10,20])\n",
    "imshow(I.T*Z.T,'gray')"
   ]
  },
  {
   "cell_type": "code",
   "execution_count": null,
   "metadata": {},
   "outputs": [],
   "source": []
  },
  {
   "cell_type": "code",
   "execution_count": null,
   "metadata": {},
   "outputs": [],
   "source": []
  }
 ],
 "metadata": {
  "kernelspec": {
   "display_name": "Python 3",
   "language": "python",
   "name": "python3"
  },
  "language_info": {
   "codemirror_mode": {
    "name": "ipython",
    "version": 3
   },
   "file_extension": ".py",
   "mimetype": "text/x-python",
   "name": "python",
   "nbconvert_exporter": "python",
   "pygments_lexer": "ipython3",
   "version": "3.6.9"
  }
 },
 "nbformat": 4,
 "nbformat_minor": 4
}
