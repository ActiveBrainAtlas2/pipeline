{
 "cells": [
  {
   "cell_type": "code",
   "execution_count": 1,
   "metadata": {},
   "outputs": [
    {
     "name": "stderr",
     "output_type": "stream",
     "text": [
      "/usr/local/share/pipeline/lib/python3.8/site-packages/xgboost/compat.py:36: FutureWarning: pandas.Int64Index is deprecated and will be removed from pandas in a future version. Use pandas.Index with the appropriate dtype instead.\n",
      "  from pandas import MultiIndex, Int64Index\n"
     ]
    }
   ],
   "source": [
    "import sys\n",
    "sys.path.append('/home/zhw272/programming/pipeline_utility/in_development/Will')\n",
    "from cell_extractor.CellDetectorBase import CellDetectorBase\n",
    "from abakit.lib.annotation_layer import Cell,random_string\n",
    "import numpy as np\n",
    "from random import sample\n",
    "from abakit.lib.UrlGenerator import UrlGenerator\n",
    "\n",
    "def numpy_to_json(data,color_hex = None,category = 'Round3_Sure'):\n",
    "    cells = []\n",
    "    for coord in data:\n",
    "        cell = Cell(np.array(coord,dtype=float),random_string())\n",
    "        cell.category = category\n",
    "        cell.coord[-1]=cell.coord[-1]+0.5\n",
    "        del cell.description\n",
    "        cell_json = cell.to_json()\n",
    "        if color_hex is not None:\n",
    "            cell_json[\"props\"] = [color_hex]\n",
    "        cells.append(cell_json)\n",
    "    return cells"
   ]
  },
  {
   "cell_type": "code",
   "execution_count": 3,
   "metadata": {},
   "outputs": [
    {
     "data": {
      "text/plain": [
<<<<<<< HEAD
       "  animal  section   row    col  label  mean_score  std_score  predictions\n",
       "0   DK41      347  5364  28747    0.0   -3.753175   1.660697           -2\n",
       "1   DK41      347  5324  28755    0.0   -4.274146   1.619854           -2\n",
       "2   DK41      347  5334  28704    0.0   -8.031691   1.333832           -2\n",
       "3   DK41      347  5337  28674    0.0   -4.631068   0.967737           -2\n",
       "4   DK41      347  5338  28678    0.0   -8.720782   1.677284           -2"
      ]
     },
     "execution_count": 3,
     "metadata": {},
     "output_type": "execute_result"
    }
   ],
   "source": [
    "detections.head()"
   ]
  },
  {
   "cell_type": "code",
   "execution_count": 3,
   "metadata": {},
   "outputs": [
    {
     "data": {
      "text/plain": [
       "573"
=======
       "578"
>>>>>>> a87b1f771725743e8cd4488a0630d76662844610
      ]
     },
     "execution_count": 3,
     "metadata": {},
     "output_type": "execute_result"
    }
   ],
   "source": [
<<<<<<< HEAD
    "animal = 'DK41'\n",
    "base = CellDetectorBase(animal,round = 2)\n",
    "detections = base.load_detections()\n",
    "sure = detections[detections.predictions==2]\n",
    "unsure = detections[detections.predictions==0]\n",
    "len(sure),len(unsure),len(detections)\n",
=======
<<<<<<< HEAD
    "for animal in []:\n",
    "    base = CellDetectorBase(animal,round = 2)\n",
    "    detections = base.load_detections()\n",
    "    sure = detections[detections.predictions==2]\n",
    "    unsure = detections[detections.predictions==0]\n",
    "    len(sure),len(unsure),len(detections)\n",
    "    sure_data = sure[['col','row','section']].sample(500).sort_values('section').to_numpy().tolist()\n",
    "    unsure_data = unsure[['col','row','section']].sample(831).sort_values('section').to_numpy().tolist()\n",
    "    sure_cells = numpy_to_json(sure_data)\n",
    "    unsure_cells = numpy_to_json(unsure_data,color_hex='#1d66db')\n",
    "    urlGen = UrlGenerator()\n",
    "    image_layer = 'precomputed://https://activebrainatlas.ucsd.edu/data/'+animal+'/neuroglancer_data/'\n",
    "    urlGen.add_stack_image(animal,channel=1)\n",
    "    urlGen.add_stack_image(animal,channel=2,color='red')\n",
    "    urlGen.add_stack_image(animal,channel=3,color='green')\n",
    "    urlGen.add_annotation_layer('Sure',annotations = sure_cells)\n",
    "    urlGen.add_annotation_layer('Unsure',annotations = unsure_cells)\n",
    "    urlGen.add_to_database('test QC3',34)"
=======
>>>>>>> 5198f811c10f242a394e0d0b8b34516aafb11b4b
    "sure_data = sure[['col','row','section']].sample(500).sort_values('section').to_numpy().tolist()\n",
    "unsure_data = unsure[['col','row','section']].sort_values('section').to_numpy().tolist()\n",
    "sure_cells = numpy_to_json(sure_data,category = 'Round3_Sure')\n",
    "unsure_cells = numpy_to_json(unsure_data,color_hex='#1d66db',category = 'Round3_Unsure')\n",
    "urlGen = UrlGenerator()\n",
    "image_layer = 'precomputed://https://activebrainatlas.ucsd.edu/data/'+animal+'/neuroglancer_data/'\n",
    "urlGen.add_stack_image(animal,channel=1)\n",
    "urlGen.add_stack_image(animal,channel=2,color='red')\n",
    "urlGen.add_stack_image(animal,channel=3,color='green')\n",
    "urlGen.add_annotation_layer('Sure',annotations = sure_cells)\n",
    "urlGen.add_annotation_layer('Unsure',annotations = unsure_cells)\n",
    "urlGen.add_to_database('test QC3',34)"
>>>>>>> a87b1f771725743e8cd4488a0630d76662844610
   ]
  },
  {
   "cell_type": "code",
   "execution_count": 4,
   "metadata": {},
   "outputs": [
    {
     "data": {
      "text/plain": [
       "array([  3.9,   3.9, 240. ])"
      ]
     },
     "execution_count": 4,
     "metadata": {},
     "output_type": "execute_result"
    }
   ],
   "source": [
    "from abakit.lib.Controllers.SqlController import SqlController\n",
    "\n",
    "controller = SqlController('DK52')\n",
    "controller.get_resolution('DK52')*(10^6)"
   ]
  },
  {
   "cell_type": "code",
   "execution_count": 5,
   "metadata": {},
   "outputs": [
    {
     "ename": "TypeError",
     "evalue": "ufunc 'bitwise_xor' not supported for the input types, and the inputs could not be safely coerced to any supported types according to the casting rule ''safe''",
     "output_type": "error",
     "traceback": [
      "\u001b[0;31m---------------------------------------------------------------------------\u001b[0m",
      "\u001b[0;31mTypeError\u001b[0m                                 Traceback (most recent call last)",
      "\u001b[0;32m<ipython-input-5-d8cc609b162e>\u001b[0m in \u001b[0;36m<module>\u001b[0;34m\u001b[0m\n\u001b[0;32m----> 1\u001b[0;31m \u001b[0mcontroller\u001b[0m\u001b[0;34m.\u001b[0m\u001b[0mget_resolution\u001b[0m\u001b[0;34m(\u001b[0m\u001b[0;34m'DK52'\u001b[0m\u001b[0;34m)\u001b[0m\u001b[0;34m*\u001b[0m\u001b[0;36m10\u001b[0m\u001b[0;34m^\u001b[0m\u001b[0;36m6\u001b[0m\u001b[0;34m\u001b[0m\u001b[0;34m\u001b[0m\u001b[0m\n\u001b[0m",
      "\u001b[0;31mTypeError\u001b[0m: ufunc 'bitwise_xor' not supported for the input types, and the inputs could not be safely coerced to any supported types according to the casting rule ''safe''"
     ]
    }
   ],
   "source": [
    "controller.get_resolution('DK52')*10^6"
   ]
  }
 ],
 "metadata": {
  "kernelspec": {
   "display_name": "Python 3.6.9 ('pipeline')",
   "language": "python",
   "name": "python3"
  },
  "language_info": {
   "codemirror_mode": {
    "name": "ipython",
    "version": 3
   },
   "file_extension": ".py",
   "mimetype": "text/x-python",
   "name": "python",
   "nbconvert_exporter": "python",
   "pygments_lexer": "ipython3",
   "version": "3.8.10"
  },
  "orig_nbformat": 4,
  "vscode": {
   "interpreter": {
    "hash": "9b29855540defb355a50951874e4b3a9a33e036ed29af88ad65ef37e45f70f6e"
   }
  }
 },
 "nbformat": 4,
 "nbformat_minor": 2
}
