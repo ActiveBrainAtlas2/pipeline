{
 "cells": [
  {
   "cell_type": "code",
   "execution_count": 3,
   "source": [
    "import sys\n",
    "sys.path.append('/data/programming/pipeline')\n",
    "from notebooks.Will.toolbox.rough_alignment.rough_alignment_affine import get_rough_alignment_affine_transform\n",
    "import SimpleITK as sitk"
   ],
   "outputs": [],
   "metadata": {}
  },
  {
   "cell_type": "code",
   "execution_count": 4,
   "source": [
    "list_of_brains_to_align = ['DK46', 'DK61', 'DK62', 'DK63']\n",
    "save_path = '/net/birdstore/Active_Atlas_Data/data_root/tfm'\n",
    "for braini in list_of_brains_to_align:\n",
    "    transformi = get_rough_alignment_affine_transform(fixed_brain = braini)\n",
    "    sitk.WriteTransform(transformi, save_path+'/affine/'+braini+'_affine.tfm')"
   ],
   "outputs": [
    {
     "output_type": "stream",
     "name": "stdout",
     "text": [
      "aligning brain DK52 to brain DK46\n",
      "loading image\n",
      "aligning image center\n",
      "finding affine tranformation\n",
      "starting optimization\n",
      "iteration: 10 -0.292464\n",
      "iteration: 20 -0.305997\n",
      "iteration: 30 -0.318736\n",
      "iteration: 40 -0.332291\n",
      "iteration: 50 -0.344610\n",
      "iteration: 60 -0.357300\n",
      "iteration: 70 -0.363153\n",
      "iteration: 80 -0.369184\n",
      "iteration: 90 -0.373597\n",
      "iteration: 100 -0.377951\n",
      "switching to higher resolution\n",
      "iteration: 10 -0.380275\n",
      "iteration: 20 -0.382889\n",
      "iteration: 30 -0.386249\n",
      "iteration: 40 -0.389027\n",
      "iteration: 50 -0.391088\n",
      "iteration: 60 -0.393771\n",
      "iteration: 70 -0.396518\n",
      "iteration: 80 -0.398202\n",
      "iteration: 90 -0.398661\n",
      "iteration: 100 -0.399121\n",
      "switching to higher resolution\n"
     ]
    }
   ],
   "metadata": {}
  },
  {
   "cell_type": "code",
   "execution_count": null,
   "source": [],
   "outputs": [],
   "metadata": {}
  }
 ],
 "metadata": {
  "interpreter": {
   "hash": "97e209aa8511c3356558c5b4441d0fe17ed27fc557fbfde94b259769985fb2e3"
  },
  "kernelspec": {
   "name": "python3",
   "display_name": "Python 3.8.10 64-bit ('pipeline': venv)"
  },
  "language_info": {
   "codemirror_mode": {
    "name": "ipython",
    "version": 3
   },
   "file_extension": ".py",
   "mimetype": "text/x-python",
   "name": "python",
   "nbconvert_exporter": "python",
   "pygments_lexer": "ipython3",
   "version": "3.8.10"
  }
 },
 "nbformat": 4,
 "nbformat_minor": 5
}