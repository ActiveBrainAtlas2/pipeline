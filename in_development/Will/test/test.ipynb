{
 "cells": [
  {
   "cell_type": "code",
   "execution_count": 2,
   "metadata": {},
   "outputs": [],
   "source": [
    "import os\n",
    "import sys\n",
    "sys.path.append('/scratch/programming/preprocessing-pipeline/src')\n",
    "import numpy as np\n",
    "import shutil\n",
    "from skimage import io\n",
    "from tqdm import tqdm\n",
    "from lib.utilities_cvat_neuroglancer import mask_to_shell\n",
    "from lib.sqlcontroller import SqlController\n",
    "from lib.file_location import FileLocationManager\n",
    "from lib.utilities_process import test_dir, SCALING_FACTOR"
   ]
  },
  {
   "cell_type": "code",
   "execution_count": 4,
   "metadata": {},
   "outputs": [
    {
     "name": "stderr",
     "output_type": "stream",
     "text": [
      "100%|██████████| 485/485 [00:56<00:00,  8.65it/s]\n"
     ]
    }
   ],
   "source": [
    "'''\n",
    "Gets some info from the database used to create the numpy volume from\n",
    "the masks. It then turns that numpy volume into a neuroglancer precomputed\n",
    "mesh\n",
    ":param animal:\n",
    ":param DEBUG:\n",
    "'''\n",
    "animal = 'DK55'\n",
    "sqlController = SqlController(animal)\n",
    "fileLocationManager = FileLocationManager(animal)\n",
    "INPUT = fileLocationManager.aligned_rotated_and_padded_thumbnail_mask\n",
    "error = test_dir(animal, INPUT, downsample=True, same_size=True)\n",
    "if len(error) > 0:\n",
    "    print(error)\n",
    "    sys.exit()\n",
    "\n",
    "OUTPUT_DIR = os.path.join(fileLocationManager.neuroglancer_data, 'shell')\n",
    "if os.path.exists(OUTPUT_DIR):\n",
    "    shutil.rmtree(OUTPUT_DIR)\n",
    "os.makedirs(OUTPUT_DIR, exist_ok=True)\n",
    "\n",
    "files = sorted(os.listdir(INPUT))\n",
    "len_files = len(files)\n",
    "midpoint = len_files // 2\n",
    "volume = []\n",
    "for file in tqdm(files):\n",
    "    tif = io.imread(os.path.join(INPUT, file))\n",
    "    tif = (tif>125)*255\n",
    "    tif = mask_to_shell(tif)\n",
    "    volume.append(tif)\n",
    "volume = np.array(volume).astype('uint8')\n",
    "volume = np.swapaxes(volume, 0, 2)\n",
    "volume = (volume!=0).astype('uint8')\n",
    "ids = np.unique(volume)\n",
    "ids = [(i,i) for i in ids]\n",
    "resolution = sqlController.scan_run.resolution\n",
    "resolution = int(resolution * 1000 / SCALING_FACTOR)"
   ]
  },
  {
   "cell_type": "code",
   "execution_count": 6,
   "metadata": {},
   "outputs": [
    {
     "data": {
      "image/png": "[encoded data removed]",
      "text/plain": [
       "<Figure size 432x288 with 1 Axes>"
      ]
     },
     "metadata": {
      "needs_background": "light"
     },
     "output_type": "display_data"
    }
   ],
   "source": [
    "import matplotlib.pyplot as plt\n",
    "plt.imshow(volume[:,:,181])\n",
    "plt.show()"
   ]
  },
  {
   "cell_type": "code",
   "execution_count": 12,
   "metadata": {},
   "outputs": [],
   "source": [
    "x,y,z = volume.shape"
   ]
  },
  {
   "cell_type": "code",
   "execution_count": 14,
   "metadata": {},
   "outputs": [
    {
     "name": "stderr",
     "output_type": "stream",
     "text": [
      "<ipython-input-14-e6ac56be0161>:4: RuntimeWarning:\n",
      "\n",
      "invalid value encountered in true_divide\n",
      "\n"
     ]
    }
   ],
   "source": [
    "import plotly.graph_objects as go\n",
    "import numpy as np\n",
    "X, Y, Z = np.mgrid[0:x, 0:y, 0:z]\n",
    "values = np.sin(X*Y*Z) / (X*Y*Z)\n",
    "\n",
    "fig = go.Figure(data=go.Volume(\n",
    "    x=X.flatten(),\n",
    "    y=Y.flatten(),\n",
    "    z=Z.flatten(),\n",
    "    value=volume.flatten(),\n",
    "    isomin=0.1,\n",
    "    isomax=0.8,\n",
    "    opacity=0.1, # needs to be small to see through all surfaces\n",
    "    surface_count=17, # needs to be a large number for good volume rendering\n",
    "    ))\n",
    "fig.show()"
   ]
  },
  {
   "cell_type": "code",
   "execution_count": 13,
   "metadata": {},
   "outputs": [
    {
     "data": {
      "text/plain": [
       "array([[[   0,    0,    0, ...,    0,    0,    0],\n",
       "        [   0,    0,    0, ...,    0,    0,    0],\n",
       "        [   0,    0,    0, ...,    0,    0,    0],\n",
       "        ...,\n",
       "        [   0,    0,    0, ...,    0,    0,    0],\n",
       "        [   0,    0,    0, ...,    0,    0,    0],\n",
       "        [   0,    0,    0, ...,    0,    0,    0]],\n",
       "\n",
       "       [[   1,    1,    1, ...,    1,    1,    1],\n",
       "        [   1,    1,    1, ...,    1,    1,    1],\n",
       "        [   1,    1,    1, ...,    1,    1,    1],\n",
       "        ...,\n",
       "        [   1,    1,    1, ...,    1,    1,    1],\n",
       "        [   1,    1,    1, ...,    1,    1,    1],\n",
       "        [   1,    1,    1, ...,    1,    1,    1]],\n",
       "\n",
       "       [[   2,    2,    2, ...,    2,    2,    2],\n",
       "        [   2,    2,    2, ...,    2,    2,    2],\n",
       "        [   2,    2,    2, ...,    2,    2,    2],\n",
       "        ...,\n",
       "        [   2,    2,    2, ...,    2,    2,    2],\n",
       "        [   2,    2,    2, ...,    2,    2,    2],\n",
       "        [   2,    2,    2, ...,    2,    2,    2]],\n",
       "\n",
       "       ...,\n",
       "\n",
       "       [[2356, 2356, 2356, ..., 2356, 2356, 2356],\n",
       "        [2356, 2356, 2356, ..., 2356, 2356, 2356],\n",
       "        [2356, 2356, 2356, ..., 2356, 2356, 2356],\n",
       "        ...,\n",
       "        [2356, 2356, 2356, ..., 2356, 2356, 2356],\n",
       "        [2356, 2356, 2356, ..., 2356, 2356, 2356],\n",
       "        [2356, 2356, 2356, ..., 2356, 2356, 2356]],\n",
       "\n",
       "       [[2357, 2357, 2357, ..., 2357, 2357, 2357],\n",
       "        [2357, 2357, 2357, ..., 2357, 2357, 2357],\n",
       "        [2357, 2357, 2357, ..., 2357, 2357, 2357],\n",
       "        ...,\n",
       "        [2357, 2357, 2357, ..., 2357, 2357, 2357],\n",
       "        [2357, 2357, 2357, ..., 2357, 2357, 2357],\n",
       "        [2357, 2357, 2357, ..., 2357, 2357, 2357]],\n",
       "\n",
       "       [[2358, 2358, 2358, ..., 2358, 2358, 2358],\n",
       "        [2358, 2358, 2358, ..., 2358, 2358, 2358],\n",
       "        [2358, 2358, 2358, ..., 2358, 2358, 2358],\n",
       "        ...,\n",
       "        [2358, 2358, 2358, ..., 2358, 2358, 2358],\n",
       "        [2358, 2358, 2358, ..., 2358, 2358, 2358],\n",
       "        [2358, 2358, 2358, ..., 2358, 2358, 2358]]])"
      ]
     },
     "execution_count": 13,
     "metadata": {},
     "output_type": "execute_result"
    }
   ],
   "source": [
    "X, Y, Z = np.mgrid[0:x, 0:y, 0:z]\n",
    "X"
   ]
  },
  {
   "cell_type": "code",
   "execution_count": null,
   "metadata": {},
   "outputs": [],
   "source": []
  }
 ],
 "metadata": {
  "interpreter": {
   "hash": "97e209aa8511c3356558c5b4441d0fe17ed27fc557fbfde94b259769985fb2e3"
  },
  "kernelspec": {
   "display_name": "Python 3.8.10 ('pipeline')",
   "language": "python",
   "name": "python3"
  },
  "language_info": {
   "codemirror_mode": {
    "name": "ipython",
    "version": 3
   },
   "file_extension": ".py",
   "mimetype": "text/x-python",
   "name": "python",
   "nbconvert_exporter": "python",
   "pygments_lexer": "ipython3",
   "version": "3.8.10"
  },
  "orig_nbformat": 4
 },
 "nbformat": 4,
 "nbformat_minor": 2
}
