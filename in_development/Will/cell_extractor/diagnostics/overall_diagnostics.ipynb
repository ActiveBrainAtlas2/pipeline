{
 "cells": [
  {
   "cell_type": "code",
   "execution_count": 1,
   "metadata": {},
   "outputs": [
    {
     "name": "stdout",
     "output_type": "stream",
     "text": [
      "\n"
     ]
    }
   ],
   "source": [
    "import sys\n",
    "sys.path.append('/home/zhw272/programming/pipeline_utility/in_development/Will')\n",
    "from cell_extractor.DetectorMetrics import AnnotationProximityTool\n",
    "from script import get_cell_detections\n",
    "import pandas as pd\n",
    "from collections import Counter"
   ]
  },
  {
   "cell_type": "code",
   "execution_count": 2,
   "metadata": {},
   "outputs": [
    {
     "name": "stdout",
     "output_type": "stream",
     "text": [
      "original_human_positive has 1910 cells\n",
      "round0_human_negative has 883 cells\n",
      "round0_human_positive has 352 cells\n",
      "round0_machine_sure has 12224 cells\n",
      "round0_machine_unsure has 1420 cells\n",
      "round1_human_negative has 351 cells\n",
      "round1_human_positive has 883 cells\n",
      "round1_machine_sure has 12224 cells\n",
      "round1_machine_unsure has 1420 cells\n",
      "round2_machine_sure has 13067 cells\n",
      "round2_machine_unsure has 1726 cells\n"
     ]
    }
   ],
   "source": [
    "cell_detections = get_cell_detections()\n",
    "for key in cell_detections:\n",
    "    print(f'{key} has {len(cell_detections[key])} cells')"
   ]
  },
  {
   "cell_type": "code",
   "execution_count": 3,
   "metadata": {},
   "outputs": [
    {
     "name": "stdout",
     "output_type": "stream",
     "text": [
      "calculating distance matrix\n",
      "finding points that are close to each other\n",
      "grouping and labeling points that are close to each other\n",
      "before removing duplicates 14879\n",
      "after removing duplicates 14029\n"
     ]
    },
    {
     "data": {
      "text/plain": [
       "[(('machine_sure',), 12155),\n",
       " (('machine_unsure',), 640),\n",
       " (('human_negative', 'machine_unsure'), 493),\n",
       " (('human_negative',), 384),\n",
       " (('human_positive', 'machine_unsure'), 284),\n",
       " (('human_positive', 'machine_sure'), 64),\n",
       " (('human_negative', 'machine_sure'), 5),\n",
       " (('human_positive',), 2),\n",
       " (('human_negative', 'human_positive', 'machine_unsure'), 1),\n",
       " (('human_positive', 'machine_unsure', 'machine_unsure'), 1)]"
      ]
     },
     "execution_count": 3,
     "metadata": {},
     "output_type": "execute_result"
    }
   ],
   "source": [
    "annotations_to_prepare = pd.concat([cell_detections[key] for key in ['round0_human_negative','round0_human_positive','round0_machine_sure','round0_machine_unsure']])\n",
    "tool = AnnotationProximityTool()\n",
    "tool.pair_distance=5\n",
    "tool.set_annotations_to_compare(annotations_to_prepare)\n",
    "tool.find_equivalent_points()\n",
    "Counter([tuple(i) for i in tool.pair_categories.values()]).most_common()"
   ]
  },
  {
   "cell_type": "code",
   "execution_count": 4,
   "metadata": {},
   "outputs": [
    {
     "name": "stdout",
     "output_type": "stream",
     "text": [
      "calculating distance matrix\n",
      "finding points that are close to each other\n",
      "grouping and labeling points that are close to each other\n",
      "before removing duplicates 14878\n",
      "after removing duplicates 14028\n"
     ]
    },
    {
     "data": {
      "text/plain": [
       "[(('machine_sure',), 12155),\n",
       " (('machine_unsure',), 640),\n",
       " (('human_positive', 'machine_unsure'), 493),\n",
       " (('human_positive',), 384),\n",
       " (('human_negative', 'machine_unsure'), 284),\n",
       " (('human_negative', 'machine_sure'), 64),\n",
       " (('human_positive', 'machine_sure'), 5),\n",
       " (('human_negative', 'machine_unsure', 'machine_unsure'), 1),\n",
       " (('human_negative',), 1),\n",
       " (('human_negative', 'human_positive', 'machine_unsure'), 1)]"
      ]
     },
     "execution_count": 4,
     "metadata": {},
     "output_type": "execute_result"
    }
   ],
   "source": [
    "annotations_to_prepare = pd.concat([cell_detections[key] for key in ['round1_human_negative','round1_human_positive','round1_machine_sure','round1_machine_unsure']])\n",
    "tool = AnnotationProximityTool()\n",
    "tool.pair_distance=5\n",
    "tool.set_annotations_to_compare(annotations_to_prepare)\n",
    "tool.find_equivalent_points()\n",
    "Counter([tuple(i) for i in tool.pair_categories.values()]).most_common()"
   ]
  },
  {
   "cell_type": "code",
   "execution_count": 5,
   "metadata": {},
   "outputs": [
    {
     "name": "stdout",
     "output_type": "stream",
     "text": [
      "calculating distance matrix\n",
      "finding points that are close to each other\n",
      "grouping and labeling points that are close to each other\n",
      "before removing duplicates 16027\n",
      "after removing duplicates 15318\n"
     ]
    },
    {
     "data": {
      "text/plain": [
       "[(('machine_sure',), 12609),\n",
       " (('machine_unsure',), 1476),\n",
       " (('human_positive', 'machine_sure'), 442),\n",
       " (('human_positive',), 369),\n",
       " (('human_negative', 'machine_unsure'), 179),\n",
       " (('human_negative',), 156),\n",
       " (('human_positive', 'machine_unsure'), 71),\n",
       " (('human_negative', 'machine_sure'), 15),\n",
       " (('human_negative', 'human_positive', 'machine_sure'), 1)]"
      ]
     },
     "execution_count": 5,
     "metadata": {},
     "output_type": "execute_result"
    }
   ],
   "source": [
    "annotations_to_prepare = pd.concat([cell_detections[key] for key in ['round1_human_negative','round1_human_positive','round2_machine_sure','round2_machine_unsure']])\n",
    "tool = AnnotationProximityTool()\n",
    "tool.pair_distance=5\n",
    "tool.set_annotations_to_compare(annotations_to_prepare)\n",
    "tool.find_equivalent_points()\n",
    "Counter([tuple(i) for i in tool.pair_categories.values()]).most_common()"
   ]
  },
  {
   "cell_type": "code",
   "execution_count": 7,
   "metadata": {},
   "outputs": [
    {
     "name": "stdout",
     "output_type": "stream",
     "text": [
      "calculating distance matrix\n",
      "finding points that are close to each other\n",
      "grouping and labeling points that are close to each other\n",
      "before removing duplicates 17937\n",
      "after removing duplicates 16476\n"
     ]
    },
    {
     "data": {
      "text/plain": [
       "[(('machine_sure',), 11945),\n",
       " (('human_positive',), 1509),\n",
       " (('machine_unsure',), 1472),\n",
       " (('human_positive', 'machine_sure'), 1078),\n",
       " (('human_negative', 'machine_unsure'), 176),\n",
       " (('human_negative',), 150),\n",
       " (('human_positive', 'machine_unsure'), 46),\n",
       " (('human_positive', 'human_positive', 'machine_unsure'), 29),\n",
       " (('human_positive', 'human_positive', 'machine_sure'), 28),\n",
       " (('human_positive', 'human_positive'), 18),\n",
       " (('human_negative', 'machine_sure'), 15),\n",
       " (('human_negative', 'human_positive'), 6),\n",
       " (('human_negative', 'human_positive', 'machine_unsure'), 3),\n",
       " (('human_negative', 'human_positive', 'machine_sure'), 1)]"
      ]
     },
     "execution_count": 7,
     "metadata": {},
     "output_type": "execute_result"
    }
   ],
   "source": [
    "annotations_to_prepare = pd.concat([cell_detections[key] for key in ['round1_human_negative','round1_human_positive','original_human_positive','round2_machine_sure','round2_machine_unsure']])\n",
    "tool = AnnotationProximityTool()\n",
    "tool.pair_distance=5\n",
    "tool.set_annotations_to_compare(annotations_to_prepare)\n",
    "tool.find_equivalent_points()\n",
    "Counter([tuple(i) for i in tool.pair_categories.values()]).most_common()"
   ]
  },
  {
   "cell_type": "code",
   "execution_count": 6,
   "metadata": {},
   "outputs": [
    {
     "data": {
      "image/png": "[encoded data removed]",
      "text/plain": [
       "<Figure size 432x288 with 1 Axes>"
      ]
     },
     "metadata": {
      "needs_background": "light"
     },
     "output_type": "display_data"
    }
   ],
   "source": [
    "tool.plot_distance_distribution(lower=0,upper=40)"
   ]
  },
  {
   "cell_type": "code",
   "execution_count": null,
   "metadata": {},
   "outputs": [],
   "source": []
  }
 ],
 "metadata": {
  "kernelspec": {
   "display_name": "Python 3.6.9 ('pipeline')",
   "language": "python",
   "name": "python3"
  },
  "language_info": {
   "codemirror_mode": {
    "name": "ipython",
    "version": 3
   },
   "file_extension": ".py",
   "mimetype": "text/x-python",
   "name": "python",
   "nbconvert_exporter": "python",
   "pygments_lexer": "ipython3",
   "version": "3.6.9"
  },
  "orig_nbformat": 4,
  "vscode": {
   "interpreter": {
    "hash": "9b29855540defb355a50951874e4b3a9a33e036ed29af88ad65ef37e45f70f6e"
   }
  }
 },
 "nbformat": 4,
 "nbformat_minor": 2
}
