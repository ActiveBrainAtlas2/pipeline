{
 "cells": [
  {
   "cell_type": "code",
   "execution_count": 1,
   "metadata": {},
   "outputs": [
    {
     "name": "stdout",
     "output_type": "stream",
     "text": [
      "\n"
     ]
    }
   ],
   "source": [
    "import sys\n",
    "sys.path.append('/home/zhw272/programming/pipeline_utility/in_development/Will')\n",
    "from cell_extractor.DetectorMetrics import AnnotationProximityTool\n",
    "from script import get_cell_detections\n",
    "import pandas as pd\n",
    "from collections import Counter"
   ]
  },
  {
   "cell_type": "code",
   "execution_count": 2,
   "metadata": {},
   "outputs": [
    {
     "name": "stdout",
     "output_type": "stream",
     "text": [
      "dbround2_machine_sure has 12507 cells\n",
      "dbround2_machine_unsure has 511 cells\n",
      "original_human_positive has 1910 cells\n",
      "round1_human_negative has 351 cells\n",
      "round1_human_positive has 883 cells\n",
      "round1_machine_sure has 12224 cells\n",
      "round1_machine_unsure has 1420 cells\n",
      "round2_machine_sure has 13067 cells\n",
      "round2_machine_unsure has 1726 cells\n",
      "round2multi_machine_sure has 14188 cells\n",
      "round2multi_machine_unsure has 2064 cells\n"
     ]
    }
   ],
   "source": [
    "cell_detections = get_cell_detections()\n",
    "for key in cell_detections:\n",
    "    print(f'{key} has {len(cell_detections[key])} cells')"
   ]
  },
  {
   "cell_type": "code",
   "execution_count": 3,
   "metadata": {},
   "outputs": [
    {
     "name": "stdout",
     "output_type": "stream",
     "text": [
      "calculating distance matrix\n",
      "finding points that are close to each other\n",
      "grouping and labeling points that are close to each other\n",
      "before removing duplicates 15905\n",
      "after removing duplicates 14808\n"
     ]
    },
    {
     "data": {
      "text/plain": [
       "[(('machine_sure',), 11480),\n",
       " (('human_positive',), 1164),\n",
       " (('machine_unsure',), 1076),\n",
       " (('human_positive', 'machine_sure'), 680),\n",
       " (('human_negative', 'machine_unsure'), 278),\n",
       " (('human_negative', 'machine_sure'), 62),\n",
       " (('human_positive', 'machine_unsure'), 57),\n",
       " (('human_negative', 'human_positive', 'machine_unsure'), 7),\n",
       " (('human_negative', 'human_positive', 'machine_sure'), 2),\n",
       " (('human_negative', 'machine_unsure', 'machine_unsure'), 1),\n",
       " (('human_negative',), 1)]"
      ]
     },
     "execution_count": 3,
     "metadata": {},
     "output_type": "execute_result"
    }
   ],
   "source": [
    "annotations_to_prepare = pd.concat([cell_detections[key] for key in ['round1_human_negative','original_human_positive','round1_machine_sure','round1_machine_unsure']])\n",
    "tool = AnnotationProximityTool()\n",
    "tool.pair_distance=5\n",
    "tool.set_annotations_to_compare(annotations_to_prepare)\n",
    "tool.find_equivalent_points()\n",
    "Counter([tuple(i) for i in tool.pair_categories.values()]).most_common()"
   ]
  },
  {
   "cell_type": "code",
   "execution_count": 4,
   "metadata": {},
   "outputs": [
    {
     "name": "stdout",
     "output_type": "stream",
     "text": [
      "calculating distance matrix\n",
      "finding points that are close to each other\n",
      "grouping and labeling points that are close to each other\n",
      "before removing duplicates 14878\n",
      "after removing duplicates 14028\n"
     ]
    },
    {
     "data": {
      "text/plain": [
       "[(('machine_sure',), 12155),\n",
       " (('machine_unsure',), 640),\n",
       " (('human_positive', 'machine_unsure'), 493),\n",
       " (('human_positive',), 384),\n",
       " (('human_negative', 'machine_unsure'), 284),\n",
       " (('human_negative', 'machine_sure'), 64),\n",
       " (('human_positive', 'machine_sure'), 5),\n",
       " (('human_negative', 'machine_unsure', 'machine_unsure'), 1),\n",
       " (('human_negative',), 1),\n",
       " (('human_negative', 'human_positive', 'machine_unsure'), 1)]"
      ]
     },
     "execution_count": 4,
     "metadata": {},
     "output_type": "execute_result"
    }
   ],
   "source": [
    "annotations_to_prepare = pd.concat([cell_detections[key] for key in ['round1_human_negative','round1_human_positive','round1_machine_sure','round1_machine_unsure']])\n",
    "tool = AnnotationProximityTool()\n",
    "tool.pair_distance=5\n",
    "tool.set_annotations_to_compare(annotations_to_prepare)\n",
    "tool.find_equivalent_points()\n",
    "Counter([tuple(i) for i in tool.pair_categories.values()]).most_common()"
   ]
  },
  {
   "cell_type": "code",
   "execution_count": 5,
   "metadata": {},
   "outputs": [
    {
     "name": "stdout",
     "output_type": "stream",
     "text": [
      "calculating distance matrix\n",
      "finding points that are close to each other\n",
      "grouping and labeling points that are close to each other\n",
      "before removing duplicates 14252\n",
      "after removing duplicates 13635\n"
     ]
    },
    {
     "data": {
      "text/plain": [
       "[(('machine_sure',), 12117),\n",
       " (('human_positive',), 392),\n",
       " (('human_positive', 'machine_sure'), 369),\n",
       " (('machine_unsure',), 285),\n",
       " (('human_negative',), 226),\n",
       " (('human_positive', 'machine_unsure'), 120),\n",
       " (('human_negative', 'machine_unsure'), 105),\n",
       " (('human_negative', 'machine_sure'), 19),\n",
       " (('human_negative', 'human_positive', 'machine_unsure'), 1),\n",
       " (('human_positive', 'machine_sure', 'machine_sure'), 1)]"
      ]
     },
     "execution_count": 5,
     "metadata": {},
     "output_type": "execute_result"
    }
   ],
   "source": [
    "annotations_to_prepare = pd.concat([cell_detections[key] for key in ['round1_human_negative','round1_human_positive','dbround2_machine_sure','dbround2_machine_unsure']])\n",
    "tool = AnnotationProximityTool()\n",
    "tool.pair_distance=5\n",
    "tool.set_annotations_to_compare(annotations_to_prepare)\n",
    "tool.find_equivalent_points()\n",
    "Counter([tuple(i) for i in tool.pair_categories.values()]).most_common()"
   ]
  },
  {
   "cell_type": "code",
   "execution_count": 6,
   "metadata": {},
   "outputs": [
    {
     "name": "stdout",
     "output_type": "stream",
     "text": [
      "calculating distance matrix\n",
      "finding points that are close to each other\n",
      "grouping and labeling points that are close to each other\n",
      "before removing duplicates 17486\n",
      "after removing duplicates 16689\n"
     ]
    },
    {
     "data": {
      "text/plain": [
       "[(('machine_sure',), 13596),\n",
       " (('machine_unsure',), 1826),\n",
       " (('human_positive', 'machine_sure'), 474),\n",
       " (('human_positive',), 377),\n",
       " (('human_negative', 'machine_unsure'), 191),\n",
       " (('human_negative',), 121),\n",
       " (('human_negative', 'machine_sure'), 38),\n",
       " (('human_positive', 'machine_unsure'), 31),\n",
       " (('machine_sure', 'machine_sure'), 12),\n",
       " (('machine_sure', 'machine_sure', 'machine_sure'), 11),\n",
       " (('machine_unsure', 'machine_unsure'), 5),\n",
       " (('machine_sure', 'machine_sure', 'machine_sure', 'machine_sure'), 2),\n",
       " (('machine_unsure', 'machine_unsure', 'machine_unsure'), 2),\n",
       " (('human_negative', 'human_positive', 'machine_sure'), 1),\n",
       " (('machine_sure',\n",
       "   'machine_sure',\n",
       "   'machine_sure',\n",
       "   'machine_sure',\n",
       "   'machine_sure',\n",
       "   'machine_sure'),\n",
       "  1),\n",
       " (('machine_sure',\n",
       "   'machine_sure',\n",
       "   'machine_sure',\n",
       "   'machine_sure',\n",
       "   'machine_sure',\n",
       "   'machine_sure',\n",
       "   'machine_sure'),\n",
       "  1)]"
      ]
     },
     "execution_count": 6,
     "metadata": {},
     "output_type": "execute_result"
    }
   ],
   "source": [
    "annotations_to_prepare = pd.concat([cell_detections[key] for key in ['round1_human_negative','round1_human_positive','round2multi_machine_sure','round2multi_machine_unsure']])\n",
    "tool = AnnotationProximityTool()\n",
    "tool.pair_distance=5\n",
    "tool.set_annotations_to_compare(annotations_to_prepare)\n",
    "tool.find_equivalent_points()\n",
    "Counter([tuple(i) for i in tool.pair_categories.values()]).most_common()"
   ]
  },
  {
   "cell_type": "code",
   "execution_count": 7,
   "metadata": {},
   "outputs": [],
   "source": [
    "tool.plot_distance_distribution(lower=0,upper=40)"
   ]
  },
  {
   "cell_type": "code",
   "execution_count": null,
   "metadata": {},
   "outputs": [],
   "source": []
  }
 ],
 "metadata": {
  "kernelspec": {
   "display_name": "Python 3.6.9 ('pipeline')",
   "language": "python",
   "name": "python3"
  },
  "language_info": {
   "codemirror_mode": {
    "name": "ipython",
    "version": 3
   },
   "file_extension": ".py",
   "mimetype": "text/x-python",
   "name": "python",
   "nbconvert_exporter": "python",
   "pygments_lexer": "ipython3",
   "version": "3.6.9"
  },
  "orig_nbformat": 4,
  "vscode": {
   "interpreter": {
    "hash": "9b29855540defb355a50951874e4b3a9a33e036ed29af88ad65ef37e45f70f6e"
   }
  }
 },
 "nbformat": 4,
 "nbformat_minor": 2
}
