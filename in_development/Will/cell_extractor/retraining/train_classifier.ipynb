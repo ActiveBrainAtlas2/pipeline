{
 "cells": [
  {
   "cell_type": "markdown",
   "metadata": {
    "slideshow": {
     "slide_type": "slide"
    }
   },
   "source": [
    "# Data Analysis using XGBoost"
   ]
  },
  {
   "cell_type": "code",
   "execution_count": 1,
   "metadata": {
    "ExecuteTime": {
     "end_time": "2020-05-16T21:39:00.558778Z",
     "start_time": "2020-05-16T21:38:59.478397Z"
    },
    "slideshow": {
     "slide_type": "skip"
    }
   },
   "outputs": [
    {
     "name": "stdout",
     "output_type": "stream",
     "text": [
      "Populating the interactive namespace from numpy and matplotlib\n"
     ]
    },
    {
     "data": {
      "text/plain": [
       "'1.5.0'"
      ]
     },
     "execution_count": 1,
     "metadata": {},
     "output_type": "execute_result"
    }
   ],
   "source": [
    "%pylab inline\n",
    "import numpy as np\n",
    "import xgboost as xgb\n",
    "from sklearn.model_selection import train_test_split\n",
    "import matplotlib.pyplot as plt\n",
    "from lib import XGBHelper as xgbh\n",
    "import pandas as pd\n",
    "\n",
    "from lib.logger import logger\n",
    "xgb.__version__"
   ]
  },
  {
   "cell_type": "code",
   "execution_count": 2,
   "metadata": {},
   "outputs": [],
   "source": [
    "dir = '/net/birdstore/Active_Atlas_Data/cell_segmentation/DK55/all_features_modified.csv'\n",
    "df = pd.read_csv(dir)\n",
    "drops = ['animal', 'section', 'index', 'row', 'col'] \n",
    "df=df.drop(drops,axis=1)\n",
    "df = df.drop(['Unnamed: 0','Unnamed: 0.1'],axis=1)"
   ]
  },
  {
   "cell_type": "code",
   "execution_count": 3,
   "metadata": {},
   "outputs": [],
   "source": [
    "def createDM(df):\n",
    "    labels=df['label']\n",
    "    features=df.drop('label',axis=1)\n",
    "    return xgb.DMatrix(features, label=labels)\n",
    "\n",
    "def split_data(df,frac=0.5):\n",
    "    train = pd.DataFrame(df.sample(frac = 0.5))\n",
    "    test = df.drop(train.index,axis=0)\n",
    "    print(train.shape,test.shape,train.index.shape,df.shape)\n",
    "\n",
    "    trainDM=createDM(train)\n",
    "    testDM=createDM(test)\n",
    "    AllDM=createDM(df)\n",
    "    return trainDM,testDM,AllDM\n",
    " "
   ]
  },
  {
   "cell_type": "markdown",
   "metadata": {
    "slideshow": {
     "slide_type": "slide"
    }
   },
   "source": [
    "## Setting Parameters for XG Boost\n",
    "* Maximum Depth of the Tree = 3 _(maximum depth of each decision trees)_\n",
    "* Step size shrinkage used in update to prevents overfitting = 0.3 _(how to weigh trees in subsequent iterations)_\n",
    "* Maximum Number of Iterations = 1000 _(total number trees for boosting)_\n",
    "* Early Stop if score on Validation does not improve for 5 iterations\n",
    "\n",
    "[Full description of options](https://xgboost.readthedocs.io/en/latest//parameter.html)"
   ]
  },
  {
   "cell_type": "code",
   "execution_count": 4,
   "metadata": {
    "ExecuteTime": {
     "end_time": "2020-05-16T21:39:00.723337Z",
     "start_time": "2020-05-16T21:39:00.644818Z"
    },
    "slideshow": {
     "slide_type": "skip"
    }
   },
   "outputs": [],
   "source": [
    "# %load lib/Logger.py\n",
    "import pandas as pd\n",
    "\n",
    "class logger:\n",
    "    \"\"\"A helper class for defining a logger function and for parsing the\n",
    "log, assuming it is created by XGBoost.\n",
    "    Typical use:\n",
    "\n",
    "    Logger=logger()\n",
    "    logall=Logger.get_logger()\n",
    "\n",
    "    bst = xgb.train(plst, dtrain, num_round, evallist, verbose_eval=False, callbacks=[logall])\n",
    "    D=Logger.parse_log() #returns a dataframe with the logs.\n",
    "    \"\"\"\n",
    "    def __init__(self):\n",
    "        self.log=[]\n",
    "         \n",
    "    def get_logger(self):\n",
    "        def logall(*argv,**argc):\n",
    "            self.log.append(*argv)\n",
    "        return logall\n",
    "\n",
    "    def parse_log(self,ax=None):\n",
    "        \"\"\" parse the log and generate plots\"\"\"\n",
    "        D={'iter':[]}\n",
    "        for _env in self.log:\n",
    "            current_err={key:val for key,val in _env.evaluation_result_list}\n",
    "            D['iter'].append(_env.iteration)\n",
    "            for k in current_err.keys():\n",
    "                if k in D:\n",
    "                    D[k].append(current_err[k])\n",
    "                else:\n",
    "                    D[k]=[current_err[k]]\n",
    "        for k in list(D.keys()):\n",
    "            if len(D[k])==0:\n",
    "                del D[k]\n",
    "\n",
    "        df=pd.DataFrame(D)\n",
    "        df=df.set_index('iter')\n",
    "        test_col=[c for c in df.columns if 'eval' in c][0]\n",
    "        print('test column=',test_col)\n",
    "        _min=df[test_col].min()\n",
    "        index_min=df[test_col].idxmin()\n",
    "        title='min of %s=%f at %d'%(test_col,_min,index_min)\n",
    "        if not ax is None:\n",
    "            df.plot(grid=True,title=title,ax=ax)  \n",
    "        return df\n"
   ]
  },
  {
   "cell_type": "code",
   "execution_count": 5,
   "metadata": {
    "ExecuteTime": {
     "end_time": "2020-05-16T21:39:00.745216Z",
     "start_time": "2020-05-16T21:39:00.726666Z"
    },
    "scrolled": false,
    "slideshow": {
     "slide_type": "skip"
    }
   },
   "outputs": [],
   "source": [
    "def test_xgboost(depth=1,num_round=100):\n",
    "    param['max_depth']= depth   # depth of tree\n",
    "    fig, axes = subplots(1,2,figsize=(12,5))\n",
    "    i=0\n",
    "    for _eval in ['error','logloss']:\n",
    "        Logger=logger()\n",
    "        logall=Logger.get_logger()  # Set logger to collect results\n",
    "        param['eval_metric'] = _eval \n",
    "        bst = xgb.train(param, trainDM, num_round, evallist, verbose_eval=False, callbacks=[logall])\n",
    "        df=Logger.parse_log(ax=axes[i])\n",
    "        i+=1\n",
    "    return bst,Logger\n",
    "   "
   ]
  },
  {
   "cell_type": "code",
   "execution_count": null,
   "metadata": {},
   "outputs": [],
   "source": []
  },
  {
   "cell_type": "markdown",
   "metadata": {
    "slideshow": {
     "slide_type": "subslide"
    }
   },
   "source": [
    "## ROC graph\n",
    "* Often false positive and false negatives have different cost.\n",
    "* Different tradeoffs between false positives and false negatives can be gotten using different thresholds.\n",
    "* The [ROC Curve](https://en.wikipedia.org/wiki/Receiver_operating_characteristic) is a good way to visualize the tradeoffs. "
   ]
  },
  {
   "cell_type": "code",
   "execution_count": 8,
   "metadata": {},
   "outputs": [],
   "source": [
    "param={'max_depth': 4,\n",
    " 'eta': 0.3,\n",
    " 'objective': 'binary:logistic',\n",
    " 'nthread': 50,\n",
    " 'eval_metric': 'logloss'}"
   ]
  },
  {
   "cell_type": "code",
   "execution_count": 9,
   "metadata": {
    "ExecuteTime": {
     "end_time": "2020-05-16T21:39:46.698710Z",
     "start_time": "2020-05-16T21:39:36.149805Z"
    }
   },
   "outputs": [
    {
     "name": "stdout",
     "output_type": "stream",
     "text": [
      "(400612, 41) (400612, 41) (400612,) (801224, 41)\n"
     ]
    },
    {
     "data": {
      "text/plain": [
       "(400612,)"
      ]
     },
     "execution_count": 9,
     "metadata": {},
     "output_type": "execute_result"
    }
   ],
   "source": [
    "trainDM,testDM,allDM=split_data(df)\n",
    "evallist = [(trainDM, 'train'), (testDM, 'eval')]\n",
    "num_round=500\n",
    "bst = xgb.train(param, trainDM, num_round, evallist, verbose_eval=False)\n",
    "y_pred = bst.predict(testDM, iteration_range=[1,bst.best_ntree_limit], output_margin=True)\n",
    "y_pred.shape"
   ]
  },
  {
   "cell_type": "code",
   "execution_count": null,
   "metadata": {},
   "outputs": [],
   "source": [
    "y_test=testDM.get_label()"
   ]
  },
  {
   "cell_type": "code",
   "execution_count": null,
   "metadata": {
    "ExecuteTime": {
     "end_time": "2020-05-16T21:39:46.927088Z",
     "start_time": "2020-05-16T21:39:46.701058Z"
    },
    "hide_input": true,
    "slideshow": {
     "slide_type": "subslide"
    }
   },
   "outputs": [
    {
     "data": {
      "image/png": "[encoded data removed]",
      "text/plain": [
       "<Figure size 576x432 with 1 Axes>"
      ]
     },
     "metadata": {
      "needs_background": "light"
     },
     "output_type": "display_data"
    }
   ],
   "source": [
    "from sklearn.metrics import roc_curve\n",
    "\n",
    "plt.figure(figsize=(8, 6))\n",
    "fpr, tpr, thresholds = roc_curve(y_test, y_pred)\n",
    "plt.plot(fpr, tpr)\n",
    "plt.xlim([0,1])\n",
    "plt.xlabel('False Positive Rate')\n",
    "plt.ylabel('True Positive Rate')\n",
    "plt.title(\"ROC Curve after\")\n",
    "plt.grid()\n",
    "plt.show()"
   ]
  },
  {
   "cell_type": "markdown",
   "metadata": {
    "slideshow": {
     "slide_type": "slide"
    }
   },
   "source": [
    "## Stability of the Margins.\n",
    "Margins on the training set are predictive of margins of the test set, which is why margins are a better measure of performance than the training error."
   ]
  },
  {
   "cell_type": "code",
   "execution_count": null,
   "metadata": {},
   "outputs": [
    {
     "data": {
      "text/plain": [
       "((5564,), (395048,))"
      ]
     },
     "execution_count": 14,
     "metadata": {},
     "output_type": "execute_result"
    }
   ],
   "source": [
    "y_test=testDM.get_label()\n",
    "pos_preds=y_pred[y_test==1]\n",
    "neg_preds=y_pred[y_test==0]\n",
    "pos_preds.shape,neg_preds.shape"
   ]
  },
  {
   "cell_type": "code",
   "execution_count": null,
   "metadata": {
    "scrolled": true
   },
   "outputs": [
    {
     "data": {
      "image/png": "[encoded data removed]",
      "text/plain": [
       "<Figure size 432x288 with 1 Axes>"
      ]
     },
     "metadata": {
      "needs_background": "light"
     },
     "output_type": "display_data"
    }
   ],
   "source": [
    "plt.hist([pos_preds,neg_preds],bins=20);"
   ]
  },
  {
   "cell_type": "code",
   "execution_count": 16,
   "metadata": {},
   "outputs": [],
   "source": [
    "def gen_scale(n,reverse=False):\n",
    "    s=np.arange(0,1,1/n)\n",
    "    while s.shape[0] !=n:\n",
    "        if s.shape[0]>n:\n",
    "            s=s[:n]\n",
    "        if s.shape[0]<n:\n",
    "            s=np.arange(0,1,1/(n+0.1))\n",
    "    if reverse:\n",
    "        s=s[-1::-1]\n",
    "    return s"
   ]
  },
  {
   "cell_type": "code",
   "execution_count": 10,
   "metadata": {
    "scrolled": false
   },
   "outputs": [
    {
     "name": "stdout",
     "output_type": "stream",
     "text": [
      "(400612, 41) (400612, 41) (400612,) (801224, 41)\n"
     ]
    },
    {
     "ename": "NameError",
     "evalue": "name 'gen_scale' is not defined",
     "output_type": "error",
     "traceback": [
      "\u001b[0;31m---------------------------------------------------------------------------\u001b[0m",
      "\u001b[0;31mNameError\u001b[0m                                 Traceback (most recent call last)",
      "\u001b[0;32m<ipython-input-10-806d464269c6>\u001b[0m in \u001b[0;36m<module>\u001b[0;34m\u001b[0m\n\u001b[1;32m     12\u001b[0m     \u001b[0mpos_preds\u001b[0m\u001b[0;34m=\u001b[0m\u001b[0mnp\u001b[0m\u001b[0;34m.\u001b[0m\u001b[0msort\u001b[0m\u001b[0;34m(\u001b[0m\u001b[0mpos_preds\u001b[0m\u001b[0;34m)\u001b[0m\u001b[0;34m\u001b[0m\u001b[0;34m\u001b[0m\u001b[0m\n\u001b[1;32m     13\u001b[0m     \u001b[0mneg_preds\u001b[0m\u001b[0;34m=\u001b[0m\u001b[0mnp\u001b[0m\u001b[0;34m.\u001b[0m\u001b[0msort\u001b[0m\u001b[0;34m(\u001b[0m\u001b[0mneg_preds\u001b[0m\u001b[0;34m)\u001b[0m\u001b[0;34m\u001b[0m\u001b[0;34m\u001b[0m\u001b[0m\n\u001b[0;32m---> 14\u001b[0;31m     \u001b[0mplt\u001b[0m\u001b[0;34m.\u001b[0m\u001b[0mplot\u001b[0m\u001b[0;34m(\u001b[0m\u001b[0mpos_preds\u001b[0m\u001b[0;34m,\u001b[0m\u001b[0mgen_scale\u001b[0m\u001b[0;34m(\u001b[0m\u001b[0mpos_preds\u001b[0m\u001b[0;34m.\u001b[0m\u001b[0mshape\u001b[0m\u001b[0;34m[\u001b[0m\u001b[0;36m0\u001b[0m\u001b[0;34m]\u001b[0m\u001b[0;34m)\u001b[0m\u001b[0;34m)\u001b[0m\u001b[0;34m;\u001b[0m\u001b[0;34m\u001b[0m\u001b[0;34m\u001b[0m\u001b[0m\n\u001b[0m\u001b[1;32m     15\u001b[0m     \u001b[0mplt\u001b[0m\u001b[0;34m.\u001b[0m\u001b[0mplot\u001b[0m\u001b[0;34m(\u001b[0m\u001b[0mneg_preds\u001b[0m\u001b[0;34m,\u001b[0m\u001b[0mgen_scale\u001b[0m\u001b[0;34m(\u001b[0m\u001b[0mneg_preds\u001b[0m\u001b[0;34m.\u001b[0m\u001b[0mshape\u001b[0m\u001b[0;34m[\u001b[0m\u001b[0;36m0\u001b[0m\u001b[0;34m]\u001b[0m\u001b[0;34m,\u001b[0m\u001b[0mreverse\u001b[0m\u001b[0;34m=\u001b[0m\u001b[0;32mTrue\u001b[0m\u001b[0;34m)\u001b[0m\u001b[0;34m)\u001b[0m\u001b[0;34m\u001b[0m\u001b[0;34m\u001b[0m\u001b[0m\n\u001b[1;32m     16\u001b[0m \u001b[0mgrid\u001b[0m\u001b[0;34m(\u001b[0m\u001b[0;34m)\u001b[0m\u001b[0;34m;\u001b[0m\u001b[0;34m\u001b[0m\u001b[0;34m\u001b[0m\u001b[0m\n",
      "\u001b[0;31mNameError\u001b[0m: name 'gen_scale' is not defined"
     ]
    },
    {
     "data": {
      "text/plain": [
       "<Figure size 1080x576 with 0 Axes>"
      ]
     },
     "metadata": {},
     "output_type": "display_data"
    }
   ],
   "source": [
    "plt.figure(figsize=[15,8])\n",
    "num_round=500\n",
    "bst_list=[]\n",
    "for i in range(30):\n",
    "    trainDM,testDM,allDM=split_data(df)\n",
    "    bst = xgb.train(param, trainDM, num_round, evallist, verbose_eval=False)\n",
    "    bst_list.append(bst)\n",
    "    y_pred = bst.predict(testDM, iteration_range=[1,bst.best_ntree_limit], output_margin=True)\n",
    "    y_test=testDM.get_label()\n",
    "    pos_preds=y_pred[y_test==1]\n",
    "    neg_preds=y_pred[y_test==0]\n",
    "    pos_preds=np.sort(pos_preds)\n",
    "    neg_preds=np.sort(neg_preds)\n",
    "    plt.plot(pos_preds,gen_scale(pos_preds.shape[0]));\n",
    "    plt.plot(neg_preds,gen_scale(neg_preds.shape[0],reverse=True))\n",
    "grid();"
   ]
  },
  {
   "cell_type": "code",
   "execution_count": null,
   "metadata": {},
   "outputs": [],
   "source": [
    "DATA_DIR='/data/cell_segmentation/'"
   ]
  },
  {
   "cell_type": "code",
   "execution_count": 11,
   "metadata": {},
   "outputs": [
    {
     "name": "stdout",
     "output_type": "stream",
     "text": [
      "-rw-rw-r-- 1 zhw272 dklab  51K Jan 11 10:48 /data/cell_segmentation//average_cell_image.pkl\n",
      "-rw-r--r-- 1 zhw272 dklab 7.0M Jan 11 10:41 /data/cell_segmentation//BoostedTrees.pkl\n",
      "-rw-r--r-- 1 zhw272 dklab 987K Jan 20 16:45 /data/cell_segmentation//BoostedTrees_r2.pkl\n"
     ]
    }
   ],
   "source": [
    "import pickle as pk\n",
    "with open(DATA_DIR+'BoostedTrees_r2.pkl','bw') as pkl_file:\n",
    "    pk.dump(bst_list,pkl_file)\n",
    "!ls -lh $DATA_DIR/*.pkl"
   ]
  },
  {
   "cell_type": "markdown",
   "metadata": {},
   "source": [
    "### Skip to here for testing without training"
   ]
  },
  {
   "cell_type": "code",
   "execution_count": 12,
   "metadata": {},
   "outputs": [],
   "source": [
    "import pickle as pk\n",
    "DATA_DIR='/data/cell_segmentation/'\n",
    "with open(DATA_DIR+'BoostedTrees_r2.pkl','br') as pkl_file:\n",
    "    bst_list=pk.load(pkl_file)"
   ]
  },
  {
   "cell_type": "code",
   "execution_count": null,
   "metadata": {},
   "outputs": [
    {
     "data": {
      "text/plain": [
       "Index(['label', 'area', 'height', 'width', 'corr_CH1', 'energy_CH1',\n",
       "       'corr_CH3', 'energy_CH3', 'm00CH_3', 'm10CH_3', 'm01CH_3', 'm20CH_3',\n",
       "       'm11CH_3', 'm02CH_3', 'm30CH_3', 'm21CH_3', 'm12CH_3', 'm03CH_3',\n",
       "       'mu20CH_3', 'mu11CH_3', 'mu02CH_3', 'mu30CH_3', 'mu21CH_3', 'mu12CH_3',\n",
       "       'mu03CH_3', 'nu20CH_3', 'nu11CH_3', 'nu02CH_3', 'nu30CH_3', 'nu21CH_3',\n",
       "       'nu12CH_3', 'nu03CH_3', 'h0_CH_3', 'h1_CH_3', 'h2_CH_3', 'h3_CH_3',\n",
       "       'h4_CH_3', 'h5_CH_3', 'h6_CH_3', 'contrast1', 'contrast3'],\n",
       "      dtype='object')"
      ]
     },
     "execution_count": 56,
     "metadata": {},
     "output_type": "execute_result"
    }
   ],
   "source": [
    "df.columns"
   ]
  },
  {
   "cell_type": "code",
   "execution_count": 13,
   "metadata": {},
   "outputs": [
    {
     "name": "stdout",
     "output_type": "stream",
     "text": [
      "(400612, 41) (400612, 41) (400612,) (801224, 41)\n"
     ]
    }
   ],
   "source": [
    "trainDM,testDM,AllDM=split_data(df)\n",
    "labels=AllDM.get_label()\n",
    "scores=np.zeros([df.shape[0],len(bst_list)])\n",
    "for i in range(len(bst_list)):\n",
    "    bst=bst_list[i]\n",
    "    scores[:,i] = bst.predict(AllDM, iteration_range=[1,bst.best_ntree_limit], output_margin=True) "
   ]
  },
  {
   "cell_type": "code",
   "execution_count": 14,
   "metadata": {},
   "outputs": [],
   "source": [
    "_max=np.max(scores,axis=1)\n",
    "_min=np.min(scores,axis=1)\n",
    "\n",
    "_mean=np.mean(scores,axis=1)\n",
    "_std=np.std(scores,axis=1)"
   ]
  },
  {
   "cell_type": "code",
   "execution_count": 15,
   "metadata": {},
   "outputs": [],
   "source": [
    "figure(figsize=[15,10])\n",
    "plt.scatter(_mean,_std,c=labels,s=3)\n",
    "\n",
    "plt.title('mean and std of scores for 30 classifiers')\n",
    "plt.xlabel('mean')\n",
    "plt.ylabel('std')\n",
    "plt.grid()"
   ]
  },
  {
   "cell_type": "code",
   "execution_count": 61,
   "metadata": {
    "scrolled": true
   },
   "outputs": [
    {
     "data": {
      "text/plain": [
       "Index(['label', 'area', 'height', 'width', 'corr_CH1', 'energy_CH1',\n",
       "       'corr_CH3', 'energy_CH3', 'm00CH_3', 'm10CH_3', 'm01CH_3', 'm20CH_3',\n",
       "       'm11CH_3', 'm02CH_3', 'm30CH_3', 'm21CH_3', 'm12CH_3', 'm03CH_3',\n",
       "       'mu20CH_3', 'mu11CH_3', 'mu02CH_3', 'mu30CH_3', 'mu21CH_3', 'mu12CH_3',\n",
       "       'mu03CH_3', 'nu20CH_3', 'nu11CH_3', 'nu02CH_3', 'nu30CH_3', 'nu21CH_3',\n",
       "       'nu12CH_3', 'nu03CH_3', 'h0_CH_3', 'h1_CH_3', 'h2_CH_3', 'h3_CH_3',\n",
       "       'h4_CH_3', 'h5_CH_3', 'h6_CH_3', 'contrast1', 'contrast3', 'mean_score',\n",
       "       'std_score'],\n",
       "      dtype='object')"
      ]
     },
     "execution_count": 61,
     "metadata": {},
     "output_type": "execute_result"
    }
   ],
   "source": [
    "_mean.shape, df.shape, _std.shape\n",
    "df['mean_score']=_mean\n",
    "df['std_score']=_std\n",
    "df.columns"
   ]
  },
  {
   "cell_type": "code",
   "execution_count": 62,
   "metadata": {},
   "outputs": [],
   "source": [
    "predictions=[]\n",
    "for i,row in df.iterrows():\n",
    "    p=decision(float(row['mean_score']),float(row['std_score']))\n",
    "    predictions.append(p)\n",
    "df['predictions']=predictions"
   ]
  },
  {
   "cell_type": "code",
   "execution_count": 41,
   "metadata": {},
   "outputs": [],
   "source": [
    "df.to_csv(DATA_DIR+'demo_scores.csv')"
   ]
  },
  {
   "cell_type": "code",
   "execution_count": 39,
   "metadata": {
    "scrolled": true
   },
   "outputs": [
    {
     "data": {
      "text/plain": [
       "Index(['animal', 'section', 'index', 'label', 'area', 'height', 'width', 'row',\n",
       "       'col', 'corr_CH1', 'energy_CH1', 'corr_CH3', 'energy_CH3', 'm00CH_3',\n",
       "       'm10CH_3', 'm01CH_3', 'm20CH_3', 'm11CH_3', 'm02CH_3', 'm30CH_3',\n",
       "       'm21CH_3', 'm12CH_3', 'm03CH_3', 'mu20CH_3', 'mu11CH_3', 'mu02CH_3',\n",
       "       'mu30CH_3', 'mu21CH_3', 'mu12CH_3', 'mu03CH_3', 'nu20CH_3', 'nu11CH_3',\n",
       "       'nu02CH_3', 'nu30CH_3', 'nu21CH_3', 'nu12CH_3', 'nu03CH_3', 'h0_CH_3',\n",
       "       'h1_CH_3', 'h2_CH_3', 'h3_CH_3', 'h4_CH_3', 'h5_CH_3', 'h6_CH_3',\n",
       "       'contrast1', 'contrast3', 'mean_score', 'std_score', 'predictions'],\n",
       "      dtype='object')"
      ]
     },
     "execution_count": 39,
     "metadata": {},
     "output_type": "execute_result"
    }
   ],
   "source": [
    "df.columns"
   ]
  },
  {
   "cell_type": "code",
   "execution_count": 42,
   "metadata": {
    "scrolled": true
   },
   "outputs": [
    {
     "ename": "KeyError",
     "evalue": "\"['animal', 'section', 'col', 'row'] not in index\"",
     "output_type": "error",
     "traceback": [
      "\u001b[0;31m---------------------------------------------------------------------------\u001b[0m",
      "\u001b[0;31mKeyError\u001b[0m                                  Traceback (most recent call last)",
      "\u001b[0;32m<ipython-input-42-b9c5d4701eeb>\u001b[0m in \u001b[0;36m<module>\u001b[0;34m\u001b[0m\n\u001b[1;32m      1\u001b[0m \u001b[0mdetection_df\u001b[0m\u001b[0;34m=\u001b[0m\u001b[0mdf\u001b[0m\u001b[0;34m[\u001b[0m\u001b[0mdf\u001b[0m\u001b[0;34m[\u001b[0m\u001b[0;34m'predictions'\u001b[0m\u001b[0;34m]\u001b[0m\u001b[0;34m!=\u001b[0m\u001b[0;34m-\u001b[0m\u001b[0;36m2\u001b[0m\u001b[0;34m]\u001b[0m\u001b[0;34m\u001b[0m\u001b[0;34m\u001b[0m\u001b[0m\n\u001b[0;32m----> 2\u001b[0;31m detection_df = detection_df[['animal', 'section', 'row', 'col','label', 'mean_score',\n\u001b[0m\u001b[1;32m      3\u001b[0m        'std_score', 'predictions']]\n\u001b[1;32m      4\u001b[0m \u001b[0mdetection_df\u001b[0m\u001b[0;34m.\u001b[0m\u001b[0mhead\u001b[0m\u001b[0;34m(\u001b[0m\u001b[0;34m)\u001b[0m\u001b[0;34m\u001b[0m\u001b[0;34m\u001b[0m\u001b[0m\n",
      "\u001b[0;32m/usr/local/share/pipeline/lib/python3.8/site-packages/pandas/core/frame.py\u001b[0m in \u001b[0;36m__getitem__\u001b[0;34m(self, key)\u001b[0m\n\u001b[1;32m   2910\u001b[0m             \u001b[0;32mif\u001b[0m \u001b[0mis_iterator\u001b[0m\u001b[0;34m(\u001b[0m\u001b[0mkey\u001b[0m\u001b[0;34m)\u001b[0m\u001b[0;34m:\u001b[0m\u001b[0;34m\u001b[0m\u001b[0;34m\u001b[0m\u001b[0m\n\u001b[1;32m   2911\u001b[0m                 \u001b[0mkey\u001b[0m \u001b[0;34m=\u001b[0m \u001b[0mlist\u001b[0m\u001b[0;34m(\u001b[0m\u001b[0mkey\u001b[0m\u001b[0;34m)\u001b[0m\u001b[0;34m\u001b[0m\u001b[0;34m\u001b[0m\u001b[0m\n\u001b[0;32m-> 2912\u001b[0;31m             \u001b[0mindexer\u001b[0m \u001b[0;34m=\u001b[0m \u001b[0mself\u001b[0m\u001b[0;34m.\u001b[0m\u001b[0mloc\u001b[0m\u001b[0;34m.\u001b[0m\u001b[0m_get_listlike_indexer\u001b[0m\u001b[0;34m(\u001b[0m\u001b[0mkey\u001b[0m\u001b[0;34m,\u001b[0m \u001b[0maxis\u001b[0m\u001b[0;34m=\u001b[0m\u001b[0;36m1\u001b[0m\u001b[0;34m,\u001b[0m \u001b[0mraise_missing\u001b[0m\u001b[0;34m=\u001b[0m\u001b[0;32mTrue\u001b[0m\u001b[0;34m)\u001b[0m\u001b[0;34m[\u001b[0m\u001b[0;36m1\u001b[0m\u001b[0;34m]\u001b[0m\u001b[0;34m\u001b[0m\u001b[0;34m\u001b[0m\u001b[0m\n\u001b[0m\u001b[1;32m   2913\u001b[0m \u001b[0;34m\u001b[0m\u001b[0m\n\u001b[1;32m   2914\u001b[0m         \u001b[0;31m# take() does not accept boolean indexers\u001b[0m\u001b[0;34m\u001b[0m\u001b[0;34m\u001b[0m\u001b[0;34m\u001b[0m\u001b[0m\n",
      "\u001b[0;32m/usr/local/share/pipeline/lib/python3.8/site-packages/pandas/core/indexing.py\u001b[0m in \u001b[0;36m_get_listlike_indexer\u001b[0;34m(self, key, axis, raise_missing)\u001b[0m\n\u001b[1;32m   1252\u001b[0m             \u001b[0mkeyarr\u001b[0m\u001b[0;34m,\u001b[0m \u001b[0mindexer\u001b[0m\u001b[0;34m,\u001b[0m \u001b[0mnew_indexer\u001b[0m \u001b[0;34m=\u001b[0m \u001b[0max\u001b[0m\u001b[0;34m.\u001b[0m\u001b[0m_reindex_non_unique\u001b[0m\u001b[0;34m(\u001b[0m\u001b[0mkeyarr\u001b[0m\u001b[0;34m)\u001b[0m\u001b[0;34m\u001b[0m\u001b[0;34m\u001b[0m\u001b[0m\n\u001b[1;32m   1253\u001b[0m \u001b[0;34m\u001b[0m\u001b[0m\n\u001b[0;32m-> 1254\u001b[0;31m         \u001b[0mself\u001b[0m\u001b[0;34m.\u001b[0m\u001b[0m_validate_read_indexer\u001b[0m\u001b[0;34m(\u001b[0m\u001b[0mkeyarr\u001b[0m\u001b[0;34m,\u001b[0m \u001b[0mindexer\u001b[0m\u001b[0;34m,\u001b[0m \u001b[0maxis\u001b[0m\u001b[0;34m,\u001b[0m \u001b[0mraise_missing\u001b[0m\u001b[0;34m=\u001b[0m\u001b[0mraise_missing\u001b[0m\u001b[0;34m)\u001b[0m\u001b[0;34m\u001b[0m\u001b[0;34m\u001b[0m\u001b[0m\n\u001b[0m\u001b[1;32m   1255\u001b[0m         \u001b[0;32mreturn\u001b[0m \u001b[0mkeyarr\u001b[0m\u001b[0;34m,\u001b[0m \u001b[0mindexer\u001b[0m\u001b[0;34m\u001b[0m\u001b[0;34m\u001b[0m\u001b[0m\n\u001b[1;32m   1256\u001b[0m \u001b[0;34m\u001b[0m\u001b[0m\n",
      "\u001b[0;32m/usr/local/share/pipeline/lib/python3.8/site-packages/pandas/core/indexing.py\u001b[0m in \u001b[0;36m_validate_read_indexer\u001b[0;34m(self, key, indexer, axis, raise_missing)\u001b[0m\n\u001b[1;32m   1302\u001b[0m             \u001b[0;32mif\u001b[0m \u001b[0mraise_missing\u001b[0m\u001b[0;34m:\u001b[0m\u001b[0;34m\u001b[0m\u001b[0;34m\u001b[0m\u001b[0m\n\u001b[1;32m   1303\u001b[0m                 \u001b[0mnot_found\u001b[0m \u001b[0;34m=\u001b[0m \u001b[0mlist\u001b[0m\u001b[0;34m(\u001b[0m\u001b[0mset\u001b[0m\u001b[0;34m(\u001b[0m\u001b[0mkey\u001b[0m\u001b[0;34m)\u001b[0m \u001b[0;34m-\u001b[0m \u001b[0mset\u001b[0m\u001b[0;34m(\u001b[0m\u001b[0max\u001b[0m\u001b[0;34m)\u001b[0m\u001b[0;34m)\u001b[0m\u001b[0;34m\u001b[0m\u001b[0;34m\u001b[0m\u001b[0m\n\u001b[0;32m-> 1304\u001b[0;31m                 \u001b[0;32mraise\u001b[0m \u001b[0mKeyError\u001b[0m\u001b[0;34m(\u001b[0m\u001b[0;34mf\"{not_found} not in index\"\u001b[0m\u001b[0;34m)\u001b[0m\u001b[0;34m\u001b[0m\u001b[0;34m\u001b[0m\u001b[0m\n\u001b[0m\u001b[1;32m   1305\u001b[0m \u001b[0;34m\u001b[0m\u001b[0m\n\u001b[1;32m   1306\u001b[0m             \u001b[0;31m# we skip the warning on Categorical\u001b[0m\u001b[0;34m\u001b[0m\u001b[0;34m\u001b[0m\u001b[0;34m\u001b[0m\u001b[0m\n",
      "\u001b[0;31mKeyError\u001b[0m: \"['animal', 'section', 'col', 'row'] not in index\""
     ]
    }
   ],
   "source": [
    "detection_df=df[df['predictions']!=-2]\n",
    "detection_df = detection_df[['animal', 'section', 'row', 'col','label', 'mean_score',\n",
    "       'std_score', 'predictions']]\n",
    "detection_df.head()"
   ]
  },
  {
   "cell_type": "code",
   "execution_count": null,
   "metadata": {},
   "outputs": [],
   "source": [
    "detection_df.to_csv(DATA_DIR+'detections_DK55.csv',index=False)"
   ]
  },
  {
   "cell_type": "code",
   "execution_count": 42,
   "metadata": {},
   "outputs": [
    {
     "name": "stdout",
     "output_type": "stream",
     "text": [
      "animal,section,row,col,label,mean_score,std_score,predictions\r\n",
      "DK55,180,18648,9885,0,-0.6359975755214691,1.7392862321442657,0\r\n",
      "DK55,180,14842,38333,0,5.816250149408976,1.047852509955317,2\r\n",
      "DK55,180,15913,38067,0,2.897539848089218,1.473466228405215,2\r\n",
      "DK55,180,15948,38197,0,3.883810861905416,1.1337109195867683,2\r\n",
      "DK55,180,16392,37917,0,4.4807781457901,0.9325311631155341,2\r\n",
      "DK55,180,16417,39073,0,2.4457084336007635,1.1822633777518086,2\r\n",
      "DK55,180,16468,39182,0,2.67693908115228,1.3195507951599683,2\r\n",
      "DK55,180,16500,39011,0,1.4933689147233964,1.8504536262070896,2\r\n",
      "DK55,180,16474,38907,0,3.728139114379883,0.9895383537598985,2\r\n"
     ]
    }
   ],
   "source": [
    "!head $DATA_DIR/detections_DK55.csv"
   ]
  },
  {
   "cell_type": "code",
   "execution_count": null,
   "metadata": {},
   "outputs": [
    {
     "data": {
      "text/plain": [
       "Counter({-2: 116245, 0: 272, 2: 1673})"
      ]
     },
     "execution_count": 43,
     "metadata": {},
     "output_type": "execute_result"
    }
   ],
   "source": [
    "from collections import Counter\n",
    "Counter(predictions)"
   ]
  },
  {
   "cell_type": "code",
   "execution_count": null,
   "metadata": {},
   "outputs": [
    {
     "ename": "NameError",
     "evalue": "name 'predictions' is not defined",
     "output_type": "error",
     "traceback": [
      "\u001b[0;31m---------------------------------------------------------------------------\u001b[0m",
      "\u001b[0;31mNameError\u001b[0m                                 Traceback (most recent call last)",
      "\u001b[0;32m<ipython-input-35-ac7c5585c9cc>\u001b[0m in \u001b[0;36m<module>\u001b[0;34m\u001b[0m\n\u001b[1;32m      1\u001b[0m \u001b[0mfigure\u001b[0m\u001b[0;34m(\u001b[0m\u001b[0mfigsize\u001b[0m\u001b[0;34m=\u001b[0m\u001b[0;34m[\u001b[0m\u001b[0;36m15\u001b[0m\u001b[0;34m,\u001b[0m\u001b[0;36m10\u001b[0m\u001b[0;34m]\u001b[0m\u001b[0;34m)\u001b[0m\u001b[0;34m\u001b[0m\u001b[0;34m\u001b[0m\u001b[0m\n\u001b[0;32m----> 2\u001b[0;31m \u001b[0mscatter\u001b[0m\u001b[0;34m(\u001b[0m\u001b[0m_mean\u001b[0m\u001b[0;34m,\u001b[0m\u001b[0m_std\u001b[0m\u001b[0;34m,\u001b[0m\u001b[0mc\u001b[0m\u001b[0;34m=\u001b[0m\u001b[0mpredictions\u001b[0m\u001b[0;34m+\u001b[0m\u001b[0mlabels\u001b[0m\u001b[0;34m,\u001b[0m\u001b[0ms\u001b[0m\u001b[0;34m=\u001b[0m\u001b[0;36m5\u001b[0m\u001b[0;34m)\u001b[0m\u001b[0;34m\u001b[0m\u001b[0;34m\u001b[0m\u001b[0m\n\u001b[0m\u001b[1;32m      3\u001b[0m \u001b[0;34m\u001b[0m\u001b[0m\n\u001b[1;32m      4\u001b[0m \u001b[0mtitle\u001b[0m\u001b[0;34m(\u001b[0m\u001b[0;34m'mean and std of scores for 30 classifiers'\u001b[0m\u001b[0;34m)\u001b[0m\u001b[0;34m\u001b[0m\u001b[0;34m\u001b[0m\u001b[0m\n\u001b[1;32m      5\u001b[0m \u001b[0mxlabel\u001b[0m\u001b[0;34m(\u001b[0m\u001b[0;34m'mean'\u001b[0m\u001b[0;34m)\u001b[0m\u001b[0;34m\u001b[0m\u001b[0;34m\u001b[0m\u001b[0m\n",
      "\u001b[0;31mNameError\u001b[0m: name 'predictions' is not defined"
     ]
    },
    {
     "data": {
      "text/plain": [
       "<Figure size 1080x720 with 0 Axes>"
      ]
     },
     "metadata": {},
     "output_type": "display_data"
    }
   ],
   "source": [
    "figure(figsize=[15,10])\n",
    "scatter(_mean,_std,c=predictions+labels,s=5)\n",
    "title('mean and std of scores for 30 classifiers')\n",
    "xlabel('mean')\n",
    "ylabel('std')\n",
    "grid()"
   ]
  },
  {
   "cell_type": "code",
   "execution_count": null,
   "metadata": {},
   "outputs": [],
   "source": [
    "def solve(x1,x2,y1,y2):\n",
    "    b=(y1-y2)/(x1-x2)\n",
    "    a=0.5*(y1+y2-b*(x1+x2))\n",
    "    return a,b"
   ]
  },
  {
   "cell_type": "code",
   "execution_count": null,
   "metadata": {},
   "outputs": [
    {
     "data": {
      "text/plain": [
       "[<matplotlib.lines.Line2D at 0x15dbd9f40>]"
      ]
     },
     "execution_count": 33,
     "metadata": {},
     "output_type": "execute_result"
    },
    {
     "data": {
      "image/png": "[encoded data removed]",
      "text/plain": [
       "<Figure size 432x288 with 1 Axes>"
      ]
     },
     "metadata": {
      "needs_background": "light"
     },
     "output_type": "display_data"
    }
   ],
   "source": [
    "a,b=solve(-1,5,2,4)\n",
    "x=arange(-2,5)\n",
    "plot(x,a+b*x)"
   ]
  },
  {
   "cell_type": "code",
   "execution_count": null,
   "metadata": {},
   "outputs": [
    {
     "data": {
      "text/plain": [
       "'/Users/yoavfreund/projects/butons/XGBoost'"
      ]
     },
     "execution_count": 15,
     "metadata": {},
     "output_type": "execute_result"
    }
   ],
   "source": [
    "%pwd"
   ]
  },
  {
   "cell_type": "code",
   "execution_count": null,
   "metadata": {},
   "outputs": [
    {
     "name": "stdout",
     "output_type": "stream",
     "text": [
      "-rw-r--r--  1 yoavfreund  staff   2.2M Aug 16 10:53 ../data/172/BoostedTrees.pkl\r\n",
      "-rw-r--r--  1 yoavfreund  staff   221M Aug 14 14:54 ../data/172/extracted_cells.pkl\r\n"
     ]
    }
   ],
   "source": [
    "import pickle as pk\n",
    "with open('../data/172/BoostedTrees.pkl','bw') as pkl_file:\n",
    "    pk.dump(bst_list,pkl_file)\n",
    "!ls -lh ../data/172/*.pkl"
   ]
  },
  {
   "cell_type": "code",
   "execution_count": null,
   "metadata": {
    "ExecuteTime": {
     "end_time": "2020-05-16T21:39:47.011327Z",
     "start_time": "2020-05-16T21:39:46.930971Z"
    },
    "hide_input": false,
    "slideshow": {
     "slide_type": "skip"
    }
   },
   "outputs": [],
   "source": [
    "def plot_margins(_train_size):\n",
    "    plt.figure(figsize=(8, 6))\n",
    "    for i in range(10):\n",
    "        trainDM,testDM=split_data(df)\n",
    "        legends=[]\n",
    "        # Use early_stopping_rounds=5 to enable early stopping\n",
    "        for num_round in [100]:\n",
    "            bst = xgb.train(param, trainDM, num_round, evallist, verbose_eval=False)\n",
    "            y_pred = bst.predict(testDM, iteration_range=[0,bst.best_ntree_limit], output_margin=True)\n",
    "            thresholds = sorted(np.unique(np.round(y_pred, 2)))\n",
    "            error_cuv, error_ger = xgbh.get_error_values(y_pred, y_test, thresholds)\n",
    "            legends += ['Cuviers %d'%num_round, 'Gervais %d'%num_round]\n",
    "            _style=['y','g'] if num_round==100 else ['b', 'r']\n",
    "            xgbh.get_margin_plot(error_cuv, error_ger, thresholds, legends = legends, style=_style)\n",
    "        \n",
    "        plt.grid(which='major', linestyle='-', linewidth='0.5', color='gray')\n",
    "        plt.grid(which='minor', linestyle=':', linewidth='0.5', color='gray')\n",
    "        thr = thresholds/(np.max(thresholds) - np.min(thresholds))\n",
    "    plt.title('data_size=%4.3f'%(X_train.shape[0]))\n",
    "    plt.show()"
   ]
  },
  {
   "cell_type": "code",
   "execution_count": null,
   "metadata": {
    "ExecuteTime": {
     "end_time": "2020-05-16T21:39:57.817457Z",
     "start_time": "2020-05-16T21:39:47.015642Z"
    },
    "scrolled": false,
    "slideshow": {
     "slide_type": "subslide"
    }
   },
   "outputs": [],
   "source": [
    "plot_margins(0.03)"
   ]
  },
  {
   "cell_type": "code",
   "execution_count": null,
   "metadata": {
    "ExecuteTime": {
     "end_time": "2020-05-16T21:40:09.645030Z",
     "start_time": "2020-05-16T21:39:57.824824Z"
    },
    "slideshow": {
     "slide_type": "subslide"
    }
   },
   "outputs": [],
   "source": [
    "plot_margins(0.1)"
   ]
  },
  {
   "cell_type": "code",
   "execution_count": null,
   "metadata": {
    "ExecuteTime": {
     "end_time": "2020-05-16T21:40:26.219776Z",
     "start_time": "2020-05-16T21:40:09.656654Z"
    },
    "slideshow": {
     "slide_type": "subslide"
    }
   },
   "outputs": [],
   "source": [
    "plot_margins(0.8)"
   ]
  },
  {
   "cell_type": "markdown",
   "metadata": {
    "slideshow": {
     "slide_type": "subslide"
    }
   },
   "source": [
    "## Per example variation analysis\n",
    "The CDFs provide information on the variation of the aggregate. If we want to estimate of the confidence on a single examples we need to compute the variance **per example**"
   ]
  },
  {
   "cell_type": "code",
   "execution_count": null,
   "metadata": {
    "ExecuteTime": {
     "end_time": "2020-05-16T21:40:26.241000Z",
     "start_time": "2020-05-16T21:40:26.223536Z"
    },
    "slideshow": {
     "slide_type": "skip"
    }
   },
   "outputs": [],
   "source": [
    "data  = np.load(\"Data/processed_data_15mb.np\")\n",
    "data.shape"
   ]
  },
  {
   "cell_type": "code",
   "execution_count": null,
   "metadata": {
    "ExecuteTime": {
     "end_time": "2020-05-16T21:40:26.291325Z",
     "start_time": "2020-05-16T21:40:26.244092Z"
    },
    "slideshow": {
     "slide_type": "skip"
    }
   },
   "outputs": [],
   "source": [
    "def get_error_ranges(error_cuv_samp, error_ger_samp, thresholds_samp, num_chunks=20):\n",
    "    error_cuv_bin = np.array(np.array(error_cuv_samp) * num_chunks, dtype=int)\n",
    "    error_cuv_bin[error_cuv_bin == num_chunks] = num_chunks - 1\n",
    "    error_ger_bin = np.array(np.array(error_ger_samp) * num_chunks, dtype=int)\n",
    "    error_ger_bin[error_ger_bin == num_chunks] = num_chunks - 1\n",
    "    \n",
    "    min_cuv = np.zeros(num_chunks, dtype=float)\n",
    "    max_cuv = np.zeros(num_chunks, dtype=float)\n",
    "    min_ger = np.zeros(num_chunks, dtype=float)\n",
    "    max_ger = np.zeros(num_chunks, dtype=float)\n",
    "    \n",
    "    normalizing_factor = (max(thresholds_samp) - min(thresholds_samp))\n",
    "    \n",
    "    for i in range(num_chunks):\n",
    "        min_cuv[i] = thresholds_samp[np.min(np.where(error_cuv_bin == i))]/normalizing_factor\n",
    "        max_cuv[i] = thresholds_samp[np.max(np.where(error_cuv_bin == i))]/normalizing_factor\n",
    "        min_ger[i] = thresholds_samp[np.min(np.where(error_ger_bin == i))]/normalizing_factor\n",
    "        max_ger[i] = thresholds_samp[np.max(np.where(error_ger_bin == i))]/normalizing_factor\n",
    "            \n",
    "    return min_cuv, max_cuv, min_ger, max_ger"
   ]
  },
  {
   "cell_type": "code",
   "execution_count": null,
   "metadata": {
    "ExecuteTime": {
     "end_time": "2020-05-16T21:40:26.455116Z",
     "start_time": "2020-05-16T21:40:26.294651Z"
    },
    "slideshow": {
     "slide_type": "skip"
    }
   },
   "outputs": [],
   "source": [
    "def generate_samples(data, size=500, num_chunks=20):\n",
    "    for i in range(200):\n",
    "        if i == 0:\n",
    "            min_cuv = np.zeros(num_chunks, dtype=float)\n",
    "            max_cuv = np.zeros(num_chunks, dtype=float)\n",
    "            min_ger = np.zeros(num_chunks, dtype=float)\n",
    "            max_ger = np.zeros(num_chunks, dtype=float)\n",
    "        \n",
    "        #Sampling Random indices for selection\n",
    "        samp_indices = np.random.randint(len(data), size=size)\n",
    "        \n",
    "        #Test data and labels\n",
    "        X_samp = data[samp_indices, :-1]\n",
    "        y_samp = np.array(data[samp_indices, -1], dtype=int)\n",
    "        \n",
    "        #Test predictions\n",
    "        dsamp = xgb.DMatrix(X_samp, label=y_samp)    \n",
    "        y_samp_pred = bst.predict(dsamp, iteration_range=[0,bst.best_ntree_limit], output_margin=True)\n",
    "\n",
    "        thresholds_samp = sorted(np.unique(np.round(y_samp_pred, 2)))\n",
    "        error_cuv_samp, error_ger_samp = xgbh.get_error_values(y_samp_pred, y_samp, thresholds_samp)\n",
    "        \n",
    "        min_cuv_samp, max_cuv_samp, min_ger_samp, max_ger_samp = get_error_ranges(error_cuv_samp, error_ger_samp, thresholds_samp)\n",
    "        \n",
    "        if i == 0:\n",
    "            min_cuv = min_cuv_samp\n",
    "            max_cuv = max_cuv_samp\n",
    "            min_ger = min_ger_samp\n",
    "            max_ger = max_ger_samp\n",
    "        else:\n",
    "            min_cuv[min_cuv > min_cuv_samp] = min_cuv_samp[min_cuv > min_cuv_samp]\n",
    "            max_cuv[max_cuv < max_cuv_samp] = max_cuv_samp[max_cuv < max_cuv_samp]\n",
    "            min_ger[min_ger > min_ger_samp] = min_ger_samp[min_ger > min_ger_samp]\n",
    "            max_ger[max_ger < max_ger_samp] = max_ger_samp[max_ger < max_ger_samp]         \n",
    "    \n",
    "    for i in range(20):\n",
    "        plt.plot([min_cuv[i], max_cuv[i]], [i/20.0, i/20.0], 'b')\n",
    "        plt.plot([min_ger[i], max_ger[i]], [i/20.0, i/20.0], 'r')\n",
    "    "
   ]
  },
  {
   "cell_type": "markdown",
   "metadata": {
    "slideshow": {
     "slide_type": "subslide"
    }
   },
   "source": [
    "* Each line segment represents the average man and std of a set of examples, stratified by thei score."
   ]
  },
  {
   "cell_type": "code",
   "execution_count": null,
   "metadata": {
    "ExecuteTime": {
     "end_time": "2020-05-16T21:40:32.893644Z",
     "start_time": "2020-05-16T21:40:26.459908Z"
    },
    "hide_input": true,
    "scrolled": false,
    "slideshow": {
     "slide_type": "fragment"
    }
   },
   "outputs": [],
   "source": [
    "plt.figure(figsize=(8, 6))\n",
    "#legends = ['Cuviers', 'Gervais']\n",
    "\n",
    "#Best thresholds from the ROC Analysis\n",
    "thr_lower_index = np.min(np.where((tpr > 0.95)))\n",
    "thr_upper_index = np.max(np.where((tpr  < 0.6)))\n",
    "thr_lower, thr_upper = thresholds[thr_lower_index], thresholds[thr_upper_index]\n",
    "thr_lower_norm = thr_lower/(np.max(thresholds) - np.min(thresholds))\n",
    "thr_upper_norm = thr_upper/(np.max(thresholds) - np.min(thresholds))\n",
    "print(\"Thresholds (lower, upper):\", thr_lower_norm, thr_upper_norm)\n",
    "\n",
    "\n",
    "generate_samples(data, num_chunks=20)\n",
    "\n",
    "#xgbh.get_margin_plot(error_cuv_100, error_ger_100, thresholds_100, legends = legends, style=['y', 'g'])\n",
    "plt.plot([thr_lower_norm, thr_lower_norm], [0, 1], 'm:')\n",
    "plt.plot([thr_upper_norm, thr_upper_norm], [0, 1], 'm:')\n",
    "plt.grid(which='major', linestyle='-', linewidth='0.5', color='gray')\n",
    "plt.grid(which='minor', linestyle=':', linewidth='0.5', color='gray')\n",
    "plt.xlabel('Score')\n",
    "plt.ylabel('CDF')\n",
    "legends = ['Cuviers_100', 'Gervais_100']\n",
    "plt.legend(legends)\n",
    "plt.show()"
   ]
  },
  {
   "cell_type": "markdown",
   "metadata": {
    "slideshow": {
     "slide_type": "subslide"
    }
   },
   "source": [
    "# Summary\n",
    "* We saw how PCA+Boosting are used to solve a real-world problem."
   ]
  },
  {
   "cell_type": "markdown",
   "metadata": {
    "slideshow": {
     "slide_type": "fragment"
    }
   },
   "source": [
    "* We saw several ways to quantify and understand the behaviour of boosted trees.\n",
    "   * Train and test error\n",
    "   * Train and test loss\n",
    "   * ROC curves\n",
    "   * Stability of scores"
   ]
  },
  {
   "cell_type": "markdown",
   "metadata": {
    "slideshow": {
     "slide_type": "fragment"
    }
   },
   "source": [
    "* Next Time: **Neural Networks**"
   ]
  }
 ],
 "metadata": {
  "hide_input": false,
  "kernelspec": {
   "display_name": "Python 3",
   "language": "python",
   "name": "python3"
  },
  "language_info": {
   "codemirror_mode": {
    "name": "ipython",
    "version": 3
   },
   "file_extension": ".py",
   "mimetype": "text/x-python",
   "name": "python",
   "nbconvert_exporter": "python",
   "pygments_lexer": "ipython3",
   "version": "3.8.10"
  },
  "toc": {
   "base_numbering": 1,
   "nav_menu": {},
   "number_sections": true,
   "sideBar": true,
   "skip_h1_title": false,
   "title_cell": "Table of Contents",
   "title_sidebar": "Contents",
   "toc_cell": false,
   "toc_position": {
    "height": "calc(100% - 180px)",
    "left": "10px",
    "top": "150px",
    "width": "165px"
   },
   "toc_section_display": true,
   "toc_window_display": false
  },
  "varInspector": {
   "cols": {
    "lenName": 16,
    "lenType": 16,
    "lenVar": 40
   },
   "kernels_config": {
    "python": {
     "delete_cmd_postfix": "",
     "delete_cmd_prefix": "del ",
     "library": "var_list.py",
     "varRefreshCmd": "print(var_dic_list())"
    },
    "r": {
     "delete_cmd_postfix": ") ",
     "delete_cmd_prefix": "rm(",
     "library": "var_list.r",
     "varRefreshCmd": "cat(var_dic_list()) "
    }
   },
   "types_to_exclude": [
    "module",
    "function",
    "builtin_function_or_method",
    "instance",
    "_Feature"
   ],
   "window_display": false
  }
 },
 "nbformat": 4,
 "nbformat_minor": 2
}
