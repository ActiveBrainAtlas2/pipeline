{
 "cells": [
  {
   "cell_type": "code",
   "execution_count": 1,
   "metadata": {},
   "outputs": [
    {
     "name": "stdout",
     "output_type": "stream",
     "text": [
      "1.5.0\n"
     ]
    },
    {
     "ename": "SyntaxError",
     "evalue": "invalid syntax (DetectorMetrics.py, line 117)",
     "output_type": "error",
     "traceback": [
      "Traceback \u001b[0;36m(most recent call last)\u001b[0m:\n",
      "  File \u001b[1;32m\"/usr/local/share/pipeline/lib/python3.8/site-packages/IPython/core/interactiveshell.py\"\u001b[0m, line \u001b[1;32m3441\u001b[0m, in \u001b[1;35mrun_code\u001b[0m\n    exec(code_obj, self.user_global_ns, self.user_ns)\n",
      "\u001b[0;36m  File \u001b[0;32m\"/tmp/ipykernel_1819662/2436130906.py\"\u001b[0;36m, line \u001b[0;32m5\u001b[0;36m, in \u001b[0;35m<module>\u001b[0;36m\u001b[0m\n\u001b[0;31m    from cell_extractor.DetectorMetrics import AnnotationProximityTool,DetectorMetricsDK55\u001b[0m\n",
      "\u001b[0;36m  File \u001b[0;32m\"/scratch/programming/pipeline/preprocessing-pipeline/in_development/Will/cell_extractor/DetectorMetrics.py\"\u001b[0;36m, line \u001b[0;32m117\u001b[0m\n\u001b[0;31m    def __init__(self,animal = 'DK55',,sure_file_name = '/DK55_premotor_sure_detection_2021-12-09.csv',unsure_file_name = '/DK55_premotor_unsure_detection_2021-12-09.csv', *args,**kwrds):\u001b[0m\n\u001b[0m                                      ^\u001b[0m\n\u001b[0;31mSyntaxError\u001b[0m\u001b[0;31m:\u001b[0m invalid syntax\n"
     ]
    }
   ],
   "source": [
    "import sys\n",
    "sys.path.append('/scratch/programming/pipeline/preprocessing-pipeline/in_development/Will')\n",
    "sys.path.append('/scratch/programming/pipeline/pipeline_utility/src')\n",
    "from cell_extractor.CellDetectorTrainer import CellDetectorTrainer\n",
    "from cell_extractor.DetectorMetrics import AnnotationProximityTool,DetectorMetricsDK55\n",
    "import pandas as pd"
   ]
  },
  {
   "cell_type": "code",
   "execution_count": 2,
   "metadata": {},
   "outputs": [
    {
     "name": "stdout",
     "output_type": "stream",
     "text": [
      "{'eta': 0.3, 'objective': 'binary:logistic', 'nthread': 7}\n"
     ]
    },
    {
     "data": {
      "text/plain": [
       "['detector_round_2_threshold_2300.pkl',\n",
       " 'detector_round_2_threshold_2200.pkl',\n",
       " 'detector_round_2_threshold_2100.pkl',\n",
       " 'detector_round_2.pkl',\n",
       " 'detector_round_2_threshold_2000.pkl',\n",
       " 'detector_round_1.pkl',\n",
       " 'detector_round_2_threshold_2700.pkl']"
      ]
     },
     "execution_count": 2,
     "metadata": {},
     "output_type": "execute_result"
    }
   ],
   "source": [
    "trainer = CellDetectorTrainer('DK55',round=2,segmentation_threshold=2300)\n",
    "trainer.list_detectors()"
   ]
  },
  {
   "cell_type": "code",
   "execution_count": 3,
   "metadata": {},
   "outputs": [
    {
     "name": "stdout",
     "output_type": "stream",
     "text": [
      "{'eta': 0.3, 'objective': 'binary:logistic', 'nthread': 7}\n",
      "{'eta': 0.3, 'objective': 'binary:logistic', 'nthread': 7}\n",
      "{'eta': 0.3, 'objective': 'binary:logistic', 'nthread': 7}\n",
      "{'eta': 0.3, 'objective': 'binary:logistic', 'nthread': 7}\n",
      "{'eta': 0.3, 'objective': 'binary:logistic', 'nthread': 7}\n"
     ]
    }
   ],
   "source": [
    "all_detections = []\n",
    "for threshold in [2000,2100,2200,2300,2700]:\n",
    "    trainer = CellDetectorTrainer('DK55',round=2,segmentation_threshold=threshold)\n",
    "    detections = trainer.load_detections()\n",
    "    detections = detections[['row','col','section','predictions']]\n",
    "    detections['name'] = str(threshold)\n",
    "    all_detections.append(detections)\n",
    "all_detections = pd.concat(all_detections)"
   ]
  },
  {
   "cell_type": "code",
   "execution_count": 40,
   "metadata": {},
   "outputs": [],
   "source": [
    "sures = all_detections[all_detections.predictions==2]\n",
    "unsures = all_detections[all_detections.predictions==0]\n",
    "sures = sures.drop('predictions',axis=1)\n",
    "unsures = unsures.drop('predictions',axis=1)\n",
    "sures.columns = ['x','y','section','name']\n",
    "unsures.columns = ['x','y','section','name']"
   ]
  },
  {
   "cell_type": "code",
   "execution_count": 6,
   "metadata": {},
   "outputs": [
    {
     "name": "stdout",
     "output_type": "stream",
     "text": [
      "calculating distance matrix\n",
      "finding points that are close to each other\n",
      "grouping and labeling points that are close to each other\n",
      "before removing duplicates 62614\n",
      "after removing duplicates 12740\n"
     ]
    }
   ],
   "source": [
    "util = AnnotationProximityTool()\n",
    "util.set_annotations_to_compare(sures)\n",
    "util.find_equivalent_points()\n",
    "pair_id = [pair[0] for pair in util.pairs.values()]\n",
    "sure_cells = util.annotations_to_compare.iloc[pair_id]"
   ]
  },
  {
   "cell_type": "code",
   "execution_count": 43,
   "metadata": {},
   "outputs": [
    {
     "name": "stdout",
     "output_type": "stream",
     "text": [
      "calculating distance matrix\n",
      "finding points that are close to each other\n",
      "grouping and labeling points that are close to each other\n",
      "before removing duplicates 1486\n",
      "after removing duplicates 553\n"
     ]
    }
   ],
   "source": [
    "util = AnnotationProximityTool()\n",
    "util.set_annotations_to_compare(unsures)\n",
    "util.find_equivalent_points()\n",
    "pair_id = [pair[0] for pair in util.pairs.values()]\n",
    "unsure_cells = util.annotations_to_compare.iloc[pair_id]"
   ]
  },
  {
   "cell_type": "code",
   "execution_count": 47,
   "metadata": {},
   "outputs": [],
   "source": [
    "sure_cells = sure_cells.drop('name',axis=1)\n",
    "unsure_cells = unsure_cells.drop('name',axis=1)\n",
    "sure_cells['prediction'] = 2\n",
    "unsure_cells['prediction'] = 0"
   ]
  },
  {
   "cell_type": "code",
   "execution_count": 48,
   "metadata": {},
   "outputs": [
    {
     "data": {
      "text/html": [
       "<div>\n",
       "<style scoped>\n",
       "    .dataframe tbody tr th:only-of-type {\n",
       "        vertical-align: middle;\n",
       "    }\n",
       "\n",
       "    .dataframe tbody tr th {\n",
       "        vertical-align: top;\n",
       "    }\n",
       "\n",
       "    .dataframe thead th {\n",
       "        text-align: right;\n",
       "    }\n",
       "</style>\n",
       "<table border=\"1\" class=\"dataframe\">\n",
       "  <thead>\n",
       "    <tr style=\"text-align: right;\">\n",
       "      <th></th>\n",
       "      <th>x</th>\n",
       "      <th>y</th>\n",
       "      <th>section</th>\n",
       "      <th>prediction</th>\n",
       "    </tr>\n",
       "  </thead>\n",
       "  <tbody>\n",
       "    <tr>\n",
       "      <th>0</th>\n",
       "      <td>18851</td>\n",
       "      <td>37633</td>\n",
       "      <td>132</td>\n",
       "      <td>2</td>\n",
       "    </tr>\n",
       "    <tr>\n",
       "      <th>1</th>\n",
       "      <td>17423</td>\n",
       "      <td>38133</td>\n",
       "      <td>145</td>\n",
       "      <td>2</td>\n",
       "    </tr>\n",
       "    <tr>\n",
       "      <th>2</th>\n",
       "      <td>17638</td>\n",
       "      <td>37839</td>\n",
       "      <td>145</td>\n",
       "      <td>2</td>\n",
       "    </tr>\n",
       "    <tr>\n",
       "      <th>3</th>\n",
       "      <td>17708</td>\n",
       "      <td>37725</td>\n",
       "      <td>145</td>\n",
       "      <td>2</td>\n",
       "    </tr>\n",
       "    <tr>\n",
       "      <th>4</th>\n",
       "      <td>17794</td>\n",
       "      <td>37634</td>\n",
       "      <td>145</td>\n",
       "      <td>2</td>\n",
       "    </tr>\n",
       "  </tbody>\n",
       "</table>\n",
       "</div>"
      ],
      "text/plain": [
       "       x      y  section  prediction\n",
       "0  18851  37633      132           2\n",
       "1  17423  38133      145           2\n",
       "2  17638  37839      145           2\n",
       "3  17708  37725      145           2\n",
       "4  17794  37634      145           2"
      ]
     },
     "execution_count": 48,
     "metadata": {},
     "output_type": "execute_result"
    }
   ],
   "source": [
    "result = pd.concat([sure_cells,unsure_cells])\n",
    "result.head()"
   ]
  },
  {
   "cell_type": "code",
   "execution_count": 49,
   "metadata": {},
   "outputs": [
    {
     "ename": "AttributeError",
     "evalue": "'AnnotationProximityTool' object has no attribute 'qc_annotation_input_path'",
     "output_type": "error",
     "traceback": [
      "\u001b[0;31m---------------------------------------------------------------------------\u001b[0m",
      "\u001b[0;31mAttributeError\u001b[0m                            Traceback (most recent call last)",
      "\u001b[0;32m/tmp/ipykernel_1758964/2917636340.py\u001b[0m in \u001b[0;36m<module>\u001b[0;34m\u001b[0m\n\u001b[0;32m----> 1\u001b[0;31m \u001b[0mutil\u001b[0m\u001b[0;34m.\u001b[0m\u001b[0mqc_annotation_input_path\u001b[0m\u001b[0;34m\u001b[0m\u001b[0;34m\u001b[0m\u001b[0m\n\u001b[0m",
      "\u001b[0;31mAttributeError\u001b[0m: 'AnnotationProximityTool' object has no attribute 'qc_annotation_input_path'"
     ]
    }
   ],
   "source": [
    "util.qc_annotation_input_path"
   ]
  },
  {
   "cell_type": "code",
   "execution_count": null,
   "metadata": {},
   "outputs": [],
   "source": [
    "mec = DetectorMetricsDK55('DK55',round =1)\n",
    "mec.calculate_qualification()"
   ]
  }
 ],
 "metadata": {
  "interpreter": {
   "hash": "97e209aa8511c3356558c5b4441d0fe17ed27fc557fbfde94b259769985fb2e3"
  },
  "kernelspec": {
   "display_name": "Python 3.6.9 64-bit ('pipeline': venv)",
   "language": "python",
   "name": "python3"
  },
  "language_info": {
   "codemirror_mode": {
    "name": "ipython",
    "version": 3
   },
   "file_extension": ".py",
   "mimetype": "text/x-python",
   "name": "python",
   "nbconvert_exporter": "python",
   "pygments_lexer": "ipython3",
   "version": "3.8.10"
  },
  "orig_nbformat": 4
 },
 "nbformat": 4,
 "nbformat_minor": 2
}
