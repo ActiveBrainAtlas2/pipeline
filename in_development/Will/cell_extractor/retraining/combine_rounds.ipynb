{
 "cells": [
  {
   "cell_type": "code",
   "execution_count": 6,
   "metadata": {},
   "outputs": [
    {
     "name": "stdout",
     "output_type": "stream",
     "text": [
      "1.6.0\n",
      "\n"
     ]
    }
   ],
   "source": [
    "import sys\n",
    "sys.path.append('/home/zhw272/programming/preprocessing-pipeline/in_development/Will')\n",
    "sys.path.append('/home/zhw272/programming/preprocessing-pipeline/src')\n",
    "from cell_extractor.CellDetectorTrainer import CellDetectorTrainer\n",
    "from cell_extractor.DetectorMetrics import AnnotationProximityTool\n",
    "import pandas as pd"
   ]
  },
  {
   "cell_type": "code",
   "execution_count": 7,
   "metadata": {},
   "outputs": [
    {
     "name": "stderr",
     "output_type": "stream",
     "text": [
      "/home/zhw272/programming/preprocessing-pipeline/in_development/Will/cell_extractor/CellDetectorBase.py:67: FutureWarning: The frame.append method is deprecated and will be removed from pandas in a future version. Use pandas.concat instead.\n",
      "  tile_information = tile_information.append(tile_informationi,ignore_index=True)\n",
      "/home/zhw272/programming/preprocessing-pipeline/in_development/Will/cell_extractor/CellDetectorBase.py:67: FutureWarning: The frame.append method is deprecated and will be removed from pandas in a future version. Use pandas.concat instead.\n",
      "  tile_information = tile_information.append(tile_informationi,ignore_index=True)\n",
      "/home/zhw272/programming/preprocessing-pipeline/in_development/Will/cell_extractor/CellDetectorBase.py:67: FutureWarning: The frame.append method is deprecated and will be removed from pandas in a future version. Use pandas.concat instead.\n",
      "  tile_information = tile_information.append(tile_informationi,ignore_index=True)\n",
      "/home/zhw272/programming/preprocessing-pipeline/in_development/Will/cell_extractor/CellDetectorBase.py:67: FutureWarning: The frame.append method is deprecated and will be removed from pandas in a future version. Use pandas.concat instead.\n",
      "  tile_information = tile_information.append(tile_informationi,ignore_index=True)\n",
      "/home/zhw272/programming/preprocessing-pipeline/in_development/Will/cell_extractor/CellDetectorBase.py:67: FutureWarning: The frame.append method is deprecated and will be removed from pandas in a future version. Use pandas.concat instead.\n",
      "  tile_information = tile_information.append(tile_informationi,ignore_index=True)\n",
      "/home/zhw272/programming/preprocessing-pipeline/in_development/Will/cell_extractor/CellDetectorBase.py:67: FutureWarning: The frame.append method is deprecated and will be removed from pandas in a future version. Use pandas.concat instead.\n",
      "  tile_information = tile_information.append(tile_informationi,ignore_index=True)\n",
      "/home/zhw272/programming/preprocessing-pipeline/in_development/Will/cell_extractor/CellDetectorBase.py:67: FutureWarning: The frame.append method is deprecated and will be removed from pandas in a future version. Use pandas.concat instead.\n",
      "  tile_information = tile_information.append(tile_informationi,ignore_index=True)\n",
      "/home/zhw272/programming/preprocessing-pipeline/in_development/Will/cell_extractor/CellDetectorBase.py:67: FutureWarning: The frame.append method is deprecated and will be removed from pandas in a future version. Use pandas.concat instead.\n",
      "  tile_information = tile_information.append(tile_informationi,ignore_index=True)\n",
      "/home/zhw272/programming/preprocessing-pipeline/in_development/Will/cell_extractor/CellDetectorBase.py:67: FutureWarning: The frame.append method is deprecated and will be removed from pandas in a future version. Use pandas.concat instead.\n",
      "  tile_information = tile_information.append(tile_informationi,ignore_index=True)\n",
      "/home/zhw272/programming/preprocessing-pipeline/in_development/Will/cell_extractor/CellDetectorBase.py:67: FutureWarning: The frame.append method is deprecated and will be removed from pandas in a future version. Use pandas.concat instead.\n",
      "  tile_information = tile_information.append(tile_informationi,ignore_index=True)\n",
      "/home/zhw272/programming/preprocessing-pipeline/in_development/Will/cell_extractor/CellDetectorBase.py:67: FutureWarning: The frame.append method is deprecated and will be removed from pandas in a future version. Use pandas.concat instead.\n",
      "  tile_information = tile_information.append(tile_informationi,ignore_index=True)\n",
      "/home/zhw272/programming/preprocessing-pipeline/in_development/Will/cell_extractor/CellDetectorBase.py:67: FutureWarning: The frame.append method is deprecated and will be removed from pandas in a future version. Use pandas.concat instead.\n",
      "  tile_information = tile_information.append(tile_informationi,ignore_index=True)\n",
      "/home/zhw272/programming/preprocessing-pipeline/in_development/Will/cell_extractor/CellDetectorBase.py:67: FutureWarning: The frame.append method is deprecated and will be removed from pandas in a future version. Use pandas.concat instead.\n",
      "  tile_information = tile_information.append(tile_informationi,ignore_index=True)\n",
      "/home/zhw272/programming/preprocessing-pipeline/in_development/Will/cell_extractor/CellDetectorBase.py:67: FutureWarning: The frame.append method is deprecated and will be removed from pandas in a future version. Use pandas.concat instead.\n",
      "  tile_information = tile_information.append(tile_informationi,ignore_index=True)\n",
      "/home/zhw272/programming/preprocessing-pipeline/in_development/Will/cell_extractor/CellDetectorBase.py:67: FutureWarning: The frame.append method is deprecated and will be removed from pandas in a future version. Use pandas.concat instead.\n",
      "  tile_information = tile_information.append(tile_informationi,ignore_index=True)\n"
     ]
    },
    {
     "name": "stdout",
     "output_type": "stream",
     "text": [
      "{'eta': 0.3, 'objective': 'binary:logistic', 'nthread': 7}\n"
     ]
    },
    {
     "name": "stderr",
     "output_type": "stream",
     "text": [
      "/home/zhw272/programming/preprocessing-pipeline/in_development/Will/cell_extractor/CellDetectorBase.py:67: FutureWarning: The frame.append method is deprecated and will be removed from pandas in a future version. Use pandas.concat instead.\n",
      "  tile_information = tile_information.append(tile_informationi,ignore_index=True)\n",
      "/home/zhw272/programming/preprocessing-pipeline/in_development/Will/cell_extractor/CellDetectorBase.py:67: FutureWarning: The frame.append method is deprecated and will be removed from pandas in a future version. Use pandas.concat instead.\n",
      "  tile_information = tile_information.append(tile_informationi,ignore_index=True)\n",
      "/home/zhw272/programming/preprocessing-pipeline/in_development/Will/cell_extractor/CellDetectorBase.py:67: FutureWarning: The frame.append method is deprecated and will be removed from pandas in a future version. Use pandas.concat instead.\n",
      "  tile_information = tile_information.append(tile_informationi,ignore_index=True)\n",
      "/home/zhw272/programming/preprocessing-pipeline/in_development/Will/cell_extractor/CellDetectorBase.py:67: FutureWarning: The frame.append method is deprecated and will be removed from pandas in a future version. Use pandas.concat instead.\n",
      "  tile_information = tile_information.append(tile_informationi,ignore_index=True)\n",
      "/home/zhw272/programming/preprocessing-pipeline/in_development/Will/cell_extractor/CellDetectorBase.py:67: FutureWarning: The frame.append method is deprecated and will be removed from pandas in a future version. Use pandas.concat instead.\n",
      "  tile_information = tile_information.append(tile_informationi,ignore_index=True)\n"
     ]
    },
    {
     "data": {
      "text/plain": [
       "['detector_round_2_threshold_2300.pkl',\n",
       " 'detector_round_2_threshold_2200.pkl',\n",
       " 'detector_round_2_threshold_2100.pkl',\n",
       " 'detector_round_2.pkl',\n",
       " 'detector_round_2_threshold_2000.pkl',\n",
       " 'detector_round_1.pkl',\n",
       " 'detector_round_2_threshold_2700.pkl']"
      ]
     },
     "execution_count": 7,
     "metadata": {},
     "output_type": "execute_result"
    }
   ],
   "source": [
    "trainer = CellDetectorTrainer('DK55',round=2,segmentation_threshold=2300)\n",
    "trainer.list_detectors()"
   ]
  },
  {
   "cell_type": "code",
   "execution_count": 8,
   "metadata": {},
   "outputs": [
    {
     "name": "stderr",
     "output_type": "stream",
     "text": [
      "/home/zhw272/programming/preprocessing-pipeline/in_development/Will/cell_extractor/CellDetectorBase.py:67: FutureWarning: The frame.append method is deprecated and will be removed from pandas in a future version. Use pandas.concat instead.\n",
      "  tile_information = tile_information.append(tile_informationi,ignore_index=True)\n",
      "/home/zhw272/programming/preprocessing-pipeline/in_development/Will/cell_extractor/CellDetectorBase.py:67: FutureWarning: The frame.append method is deprecated and will be removed from pandas in a future version. Use pandas.concat instead.\n",
      "  tile_information = tile_information.append(tile_informationi,ignore_index=True)\n",
      "/home/zhw272/programming/preprocessing-pipeline/in_development/Will/cell_extractor/CellDetectorBase.py:67: FutureWarning: The frame.append method is deprecated and will be removed from pandas in a future version. Use pandas.concat instead.\n",
      "  tile_information = tile_information.append(tile_informationi,ignore_index=True)\n",
      "/home/zhw272/programming/preprocessing-pipeline/in_development/Will/cell_extractor/CellDetectorBase.py:67: FutureWarning: The frame.append method is deprecated and will be removed from pandas in a future version. Use pandas.concat instead.\n",
      "  tile_information = tile_information.append(tile_informationi,ignore_index=True)\n",
      "/home/zhw272/programming/preprocessing-pipeline/in_development/Will/cell_extractor/CellDetectorBase.py:67: FutureWarning: The frame.append method is deprecated and will be removed from pandas in a future version. Use pandas.concat instead.\n",
      "  tile_information = tile_information.append(tile_informationi,ignore_index=True)\n",
      "/home/zhw272/programming/preprocessing-pipeline/in_development/Will/cell_extractor/CellDetectorBase.py:67: FutureWarning: The frame.append method is deprecated and will be removed from pandas in a future version. Use pandas.concat instead.\n",
      "  tile_information = tile_information.append(tile_informationi,ignore_index=True)\n",
      "/home/zhw272/programming/preprocessing-pipeline/in_development/Will/cell_extractor/CellDetectorBase.py:67: FutureWarning: The frame.append method is deprecated and will be removed from pandas in a future version. Use pandas.concat instead.\n",
      "  tile_information = tile_information.append(tile_informationi,ignore_index=True)\n",
      "/home/zhw272/programming/preprocessing-pipeline/in_development/Will/cell_extractor/CellDetectorBase.py:67: FutureWarning: The frame.append method is deprecated and will be removed from pandas in a future version. Use pandas.concat instead.\n",
      "  tile_information = tile_information.append(tile_informationi,ignore_index=True)\n",
      "/home/zhw272/programming/preprocessing-pipeline/in_development/Will/cell_extractor/CellDetectorBase.py:67: FutureWarning: The frame.append method is deprecated and will be removed from pandas in a future version. Use pandas.concat instead.\n",
      "  tile_information = tile_information.append(tile_informationi,ignore_index=True)\n",
      "/home/zhw272/programming/preprocessing-pipeline/in_development/Will/cell_extractor/CellDetectorBase.py:67: FutureWarning: The frame.append method is deprecated and will be removed from pandas in a future version. Use pandas.concat instead.\n",
      "  tile_information = tile_information.append(tile_informationi,ignore_index=True)\n",
      "/home/zhw272/programming/preprocessing-pipeline/in_development/Will/cell_extractor/CellDetectorBase.py:67: FutureWarning: The frame.append method is deprecated and will be removed from pandas in a future version. Use pandas.concat instead.\n",
      "  tile_information = tile_information.append(tile_informationi,ignore_index=True)\n",
      "/home/zhw272/programming/preprocessing-pipeline/in_development/Will/cell_extractor/CellDetectorBase.py:67: FutureWarning: The frame.append method is deprecated and will be removed from pandas in a future version. Use pandas.concat instead.\n",
      "  tile_information = tile_information.append(tile_informationi,ignore_index=True)\n",
      "/home/zhw272/programming/preprocessing-pipeline/in_development/Will/cell_extractor/CellDetectorBase.py:67: FutureWarning: The frame.append method is deprecated and will be removed from pandas in a future version. Use pandas.concat instead.\n",
      "  tile_information = tile_information.append(tile_informationi,ignore_index=True)\n",
      "/home/zhw272/programming/preprocessing-pipeline/in_development/Will/cell_extractor/CellDetectorBase.py:67: FutureWarning: The frame.append method is deprecated and will be removed from pandas in a future version. Use pandas.concat instead.\n",
      "  tile_information = tile_information.append(tile_informationi,ignore_index=True)\n",
      "/home/zhw272/programming/preprocessing-pipeline/in_development/Will/cell_extractor/CellDetectorBase.py:67: FutureWarning: The frame.append method is deprecated and will be removed from pandas in a future version. Use pandas.concat instead.\n",
      "  tile_information = tile_information.append(tile_informationi,ignore_index=True)\n",
      "/home/zhw272/programming/preprocessing-pipeline/in_development/Will/cell_extractor/CellDetectorBase.py:67: FutureWarning: The frame.append method is deprecated and will be removed from pandas in a future version. Use pandas.concat instead.\n",
      "  tile_information = tile_information.append(tile_informationi,ignore_index=True)\n",
      "/home/zhw272/programming/preprocessing-pipeline/in_development/Will/cell_extractor/CellDetectorBase.py:67: FutureWarning: The frame.append method is deprecated and will be removed from pandas in a future version. Use pandas.concat instead.\n",
      "  tile_information = tile_information.append(tile_informationi,ignore_index=True)\n",
      "/home/zhw272/programming/preprocessing-pipeline/in_development/Will/cell_extractor/CellDetectorBase.py:67: FutureWarning: The frame.append method is deprecated and will be removed from pandas in a future version. Use pandas.concat instead.\n",
      "  tile_information = tile_information.append(tile_informationi,ignore_index=True)\n",
      "/home/zhw272/programming/preprocessing-pipeline/in_development/Will/cell_extractor/CellDetectorBase.py:67: FutureWarning: The frame.append method is deprecated and will be removed from pandas in a future version. Use pandas.concat instead.\n",
      "  tile_information = tile_information.append(tile_informationi,ignore_index=True)\n",
      "/home/zhw272/programming/preprocessing-pipeline/in_development/Will/cell_extractor/CellDetectorBase.py:67: FutureWarning: The frame.append method is deprecated and will be removed from pandas in a future version. Use pandas.concat instead.\n",
      "  tile_information = tile_information.append(tile_informationi,ignore_index=True)\n",
      "/home/zhw272/programming/preprocessing-pipeline/in_development/Will/cell_extractor/CellDetectorBase.py:67: FutureWarning: The frame.append method is deprecated and will be removed from pandas in a future version. Use pandas.concat instead.\n",
      "  tile_information = tile_information.append(tile_informationi,ignore_index=True)\n",
      "/home/zhw272/programming/preprocessing-pipeline/in_development/Will/cell_extractor/CellDetectorBase.py:67: FutureWarning: The frame.append method is deprecated and will be removed from pandas in a future version. Use pandas.concat instead.\n",
      "  tile_information = tile_information.append(tile_informationi,ignore_index=True)\n",
      "/home/zhw272/programming/preprocessing-pipeline/in_development/Will/cell_extractor/CellDetectorBase.py:67: FutureWarning: The frame.append method is deprecated and will be removed from pandas in a future version. Use pandas.concat instead.\n",
      "  tile_information = tile_information.append(tile_informationi,ignore_index=True)\n",
      "/home/zhw272/programming/preprocessing-pipeline/in_development/Will/cell_extractor/CellDetectorBase.py:67: FutureWarning: The frame.append method is deprecated and will be removed from pandas in a future version. Use pandas.concat instead.\n",
      "  tile_information = tile_information.append(tile_informationi,ignore_index=True)\n",
      "/home/zhw272/programming/preprocessing-pipeline/in_development/Will/cell_extractor/CellDetectorBase.py:67: FutureWarning: The frame.append method is deprecated and will be removed from pandas in a future version. Use pandas.concat instead.\n",
      "  tile_information = tile_information.append(tile_informationi,ignore_index=True)\n",
      "/home/zhw272/programming/preprocessing-pipeline/in_development/Will/cell_extractor/CellDetectorBase.py:67: FutureWarning: The frame.append method is deprecated and will be removed from pandas in a future version. Use pandas.concat instead.\n",
      "  tile_information = tile_information.append(tile_informationi,ignore_index=True)\n",
      "/home/zhw272/programming/preprocessing-pipeline/in_development/Will/cell_extractor/CellDetectorBase.py:67: FutureWarning: The frame.append method is deprecated and will be removed from pandas in a future version. Use pandas.concat instead.\n",
      "  tile_information = tile_information.append(tile_informationi,ignore_index=True)\n"
     ]
    },
    {
     "name": "stdout",
     "output_type": "stream",
     "text": [
      "{'eta': 0.3, 'objective': 'binary:logistic', 'nthread': 7}\n"
     ]
    },
    {
     "name": "stderr",
     "output_type": "stream",
     "text": [
      "/home/zhw272/programming/preprocessing-pipeline/in_development/Will/cell_extractor/CellDetectorBase.py:67: FutureWarning: The frame.append method is deprecated and will be removed from pandas in a future version. Use pandas.concat instead.\n",
      "  tile_information = tile_information.append(tile_informationi,ignore_index=True)\n",
      "/home/zhw272/programming/preprocessing-pipeline/in_development/Will/cell_extractor/CellDetectorBase.py:67: FutureWarning: The frame.append method is deprecated and will be removed from pandas in a future version. Use pandas.concat instead.\n",
      "  tile_information = tile_information.append(tile_informationi,ignore_index=True)\n",
      "/home/zhw272/programming/preprocessing-pipeline/in_development/Will/cell_extractor/CellDetectorBase.py:67: FutureWarning: The frame.append method is deprecated and will be removed from pandas in a future version. Use pandas.concat instead.\n",
      "  tile_information = tile_information.append(tile_informationi,ignore_index=True)\n",
      "/home/zhw272/programming/preprocessing-pipeline/in_development/Will/cell_extractor/CellDetectorBase.py:67: FutureWarning: The frame.append method is deprecated and will be removed from pandas in a future version. Use pandas.concat instead.\n",
      "  tile_information = tile_information.append(tile_informationi,ignore_index=True)\n",
      "/home/zhw272/programming/preprocessing-pipeline/in_development/Will/cell_extractor/CellDetectorBase.py:67: FutureWarning: The frame.append method is deprecated and will be removed from pandas in a future version. Use pandas.concat instead.\n",
      "  tile_information = tile_information.append(tile_informationi,ignore_index=True)\n",
      "/home/zhw272/programming/preprocessing-pipeline/in_development/Will/cell_extractor/CellDetectorBase.py:67: FutureWarning: The frame.append method is deprecated and will be removed from pandas in a future version. Use pandas.concat instead.\n",
      "  tile_information = tile_information.append(tile_informationi,ignore_index=True)\n",
      "/home/zhw272/programming/preprocessing-pipeline/in_development/Will/cell_extractor/CellDetectorBase.py:67: FutureWarning: The frame.append method is deprecated and will be removed from pandas in a future version. Use pandas.concat instead.\n",
      "  tile_information = tile_information.append(tile_informationi,ignore_index=True)\n",
      "/home/zhw272/programming/preprocessing-pipeline/in_development/Will/cell_extractor/CellDetectorBase.py:67: FutureWarning: The frame.append method is deprecated and will be removed from pandas in a future version. Use pandas.concat instead.\n",
      "  tile_information = tile_information.append(tile_informationi,ignore_index=True)\n",
      "/home/zhw272/programming/preprocessing-pipeline/in_development/Will/cell_extractor/CellDetectorBase.py:67: FutureWarning: The frame.append method is deprecated and will be removed from pandas in a future version. Use pandas.concat instead.\n",
      "  tile_information = tile_information.append(tile_informationi,ignore_index=True)\n",
      "/home/zhw272/programming/preprocessing-pipeline/in_development/Will/cell_extractor/CellDetectorBase.py:67: FutureWarning: The frame.append method is deprecated and will be removed from pandas in a future version. Use pandas.concat instead.\n",
      "  tile_information = tile_information.append(tile_informationi,ignore_index=True)\n",
      "/home/zhw272/programming/preprocessing-pipeline/in_development/Will/cell_extractor/CellDetectorBase.py:67: FutureWarning: The frame.append method is deprecated and will be removed from pandas in a future version. Use pandas.concat instead.\n",
      "  tile_information = tile_information.append(tile_informationi,ignore_index=True)\n",
      "/home/zhw272/programming/preprocessing-pipeline/in_development/Will/cell_extractor/CellDetectorBase.py:67: FutureWarning: The frame.append method is deprecated and will be removed from pandas in a future version. Use pandas.concat instead.\n",
      "  tile_information = tile_information.append(tile_informationi,ignore_index=True)\n",
      "/home/zhw272/programming/preprocessing-pipeline/in_development/Will/cell_extractor/CellDetectorBase.py:67: FutureWarning: The frame.append method is deprecated and will be removed from pandas in a future version. Use pandas.concat instead.\n",
      "  tile_information = tile_information.append(tile_informationi,ignore_index=True)\n"
     ]
    },
    {
     "name": "stdout",
     "output_type": "stream",
     "text": [
      "{'eta': 0.3, 'objective': 'binary:logistic', 'nthread': 7}\n"
     ]
    },
    {
     "name": "stderr",
     "output_type": "stream",
     "text": [
      "/home/zhw272/programming/preprocessing-pipeline/in_development/Will/cell_extractor/CellDetectorBase.py:67: FutureWarning: The frame.append method is deprecated and will be removed from pandas in a future version. Use pandas.concat instead.\n",
      "  tile_information = tile_information.append(tile_informationi,ignore_index=True)\n",
      "/home/zhw272/programming/preprocessing-pipeline/in_development/Will/cell_extractor/CellDetectorBase.py:67: FutureWarning: The frame.append method is deprecated and will be removed from pandas in a future version. Use pandas.concat instead.\n",
      "  tile_information = tile_information.append(tile_informationi,ignore_index=True)\n",
      "/home/zhw272/programming/preprocessing-pipeline/in_development/Will/cell_extractor/CellDetectorBase.py:67: FutureWarning: The frame.append method is deprecated and will be removed from pandas in a future version. Use pandas.concat instead.\n",
      "  tile_information = tile_information.append(tile_informationi,ignore_index=True)\n",
      "/home/zhw272/programming/preprocessing-pipeline/in_development/Will/cell_extractor/CellDetectorBase.py:67: FutureWarning: The frame.append method is deprecated and will be removed from pandas in a future version. Use pandas.concat instead.\n",
      "  tile_information = tile_information.append(tile_informationi,ignore_index=True)\n",
      "/home/zhw272/programming/preprocessing-pipeline/in_development/Will/cell_extractor/CellDetectorBase.py:67: FutureWarning: The frame.append method is deprecated and will be removed from pandas in a future version. Use pandas.concat instead.\n",
      "  tile_information = tile_information.append(tile_informationi,ignore_index=True)\n",
      "/home/zhw272/programming/preprocessing-pipeline/in_development/Will/cell_extractor/CellDetectorBase.py:67: FutureWarning: The frame.append method is deprecated and will be removed from pandas in a future version. Use pandas.concat instead.\n",
      "  tile_information = tile_information.append(tile_informationi,ignore_index=True)\n",
      "/home/zhw272/programming/preprocessing-pipeline/in_development/Will/cell_extractor/CellDetectorBase.py:67: FutureWarning: The frame.append method is deprecated and will be removed from pandas in a future version. Use pandas.concat instead.\n",
      "  tile_information = tile_information.append(tile_informationi,ignore_index=True)\n",
      "/home/zhw272/programming/preprocessing-pipeline/in_development/Will/cell_extractor/CellDetectorBase.py:67: FutureWarning: The frame.append method is deprecated and will be removed from pandas in a future version. Use pandas.concat instead.\n",
      "  tile_information = tile_information.append(tile_informationi,ignore_index=True)\n",
      "/home/zhw272/programming/preprocessing-pipeline/in_development/Will/cell_extractor/CellDetectorBase.py:67: FutureWarning: The frame.append method is deprecated and will be removed from pandas in a future version. Use pandas.concat instead.\n",
      "  tile_information = tile_information.append(tile_informationi,ignore_index=True)\n",
      "/home/zhw272/programming/preprocessing-pipeline/in_development/Will/cell_extractor/CellDetectorBase.py:67: FutureWarning: The frame.append method is deprecated and will be removed from pandas in a future version. Use pandas.concat instead.\n",
      "  tile_information = tile_information.append(tile_informationi,ignore_index=True)\n",
      "/home/zhw272/programming/preprocessing-pipeline/in_development/Will/cell_extractor/CellDetectorBase.py:67: FutureWarning: The frame.append method is deprecated and will be removed from pandas in a future version. Use pandas.concat instead.\n",
      "  tile_information = tile_information.append(tile_informationi,ignore_index=True)\n",
      "/home/zhw272/programming/preprocessing-pipeline/in_development/Will/cell_extractor/CellDetectorBase.py:67: FutureWarning: The frame.append method is deprecated and will be removed from pandas in a future version. Use pandas.concat instead.\n",
      "  tile_information = tile_information.append(tile_informationi,ignore_index=True)\n",
      "/home/zhw272/programming/preprocessing-pipeline/in_development/Will/cell_extractor/CellDetectorBase.py:67: FutureWarning: The frame.append method is deprecated and will be removed from pandas in a future version. Use pandas.concat instead.\n",
      "  tile_information = tile_information.append(tile_informationi,ignore_index=True)\n",
      "/home/zhw272/programming/preprocessing-pipeline/in_development/Will/cell_extractor/CellDetectorBase.py:67: FutureWarning: The frame.append method is deprecated and will be removed from pandas in a future version. Use pandas.concat instead.\n",
      "  tile_information = tile_information.append(tile_informationi,ignore_index=True)\n",
      "/home/zhw272/programming/preprocessing-pipeline/in_development/Will/cell_extractor/CellDetectorBase.py:67: FutureWarning: The frame.append method is deprecated and will be removed from pandas in a future version. Use pandas.concat instead.\n",
      "  tile_information = tile_information.append(tile_informationi,ignore_index=True)\n",
      "/home/zhw272/programming/preprocessing-pipeline/in_development/Will/cell_extractor/CellDetectorBase.py:67: FutureWarning: The frame.append method is deprecated and will be removed from pandas in a future version. Use pandas.concat instead.\n",
      "  tile_information = tile_information.append(tile_informationi,ignore_index=True)\n",
      "/home/zhw272/programming/preprocessing-pipeline/in_development/Will/cell_extractor/CellDetectorBase.py:67: FutureWarning: The frame.append method is deprecated and will be removed from pandas in a future version. Use pandas.concat instead.\n",
      "  tile_information = tile_information.append(tile_informationi,ignore_index=True)\n",
      "/home/zhw272/programming/preprocessing-pipeline/in_development/Will/cell_extractor/CellDetectorBase.py:67: FutureWarning: The frame.append method is deprecated and will be removed from pandas in a future version. Use pandas.concat instead.\n",
      "  tile_information = tile_information.append(tile_informationi,ignore_index=True)\n",
      "/home/zhw272/programming/preprocessing-pipeline/in_development/Will/cell_extractor/CellDetectorBase.py:67: FutureWarning: The frame.append method is deprecated and will be removed from pandas in a future version. Use pandas.concat instead.\n",
      "  tile_information = tile_information.append(tile_informationi,ignore_index=True)\n",
      "/home/zhw272/programming/preprocessing-pipeline/in_development/Will/cell_extractor/CellDetectorBase.py:67: FutureWarning: The frame.append method is deprecated and will be removed from pandas in a future version. Use pandas.concat instead.\n",
      "  tile_information = tile_information.append(tile_informationi,ignore_index=True)\n",
      "/home/zhw272/programming/preprocessing-pipeline/in_development/Will/cell_extractor/CellDetectorBase.py:67: FutureWarning: The frame.append method is deprecated and will be removed from pandas in a future version. Use pandas.concat instead.\n",
      "  tile_information = tile_information.append(tile_informationi,ignore_index=True)\n",
      "/home/zhw272/programming/preprocessing-pipeline/in_development/Will/cell_extractor/CellDetectorBase.py:67: FutureWarning: The frame.append method is deprecated and will be removed from pandas in a future version. Use pandas.concat instead.\n",
      "  tile_information = tile_information.append(tile_informationi,ignore_index=True)\n",
      "/home/zhw272/programming/preprocessing-pipeline/in_development/Will/cell_extractor/CellDetectorBase.py:67: FutureWarning: The frame.append method is deprecated and will be removed from pandas in a future version. Use pandas.concat instead.\n",
      "  tile_information = tile_information.append(tile_informationi,ignore_index=True)\n",
      "/home/zhw272/programming/preprocessing-pipeline/in_development/Will/cell_extractor/CellDetectorBase.py:67: FutureWarning: The frame.append method is deprecated and will be removed from pandas in a future version. Use pandas.concat instead.\n",
      "  tile_information = tile_information.append(tile_informationi,ignore_index=True)\n"
     ]
    },
    {
     "name": "stdout",
     "output_type": "stream",
     "text": [
      "{'eta': 0.3, 'objective': 'binary:logistic', 'nthread': 7}\n"
     ]
    },
    {
     "name": "stderr",
     "output_type": "stream",
     "text": [
      "/home/zhw272/programming/preprocessing-pipeline/in_development/Will/cell_extractor/CellDetectorBase.py:67: FutureWarning: The frame.append method is deprecated and will be removed from pandas in a future version. Use pandas.concat instead.\n",
      "  tile_information = tile_information.append(tile_informationi,ignore_index=True)\n",
      "/home/zhw272/programming/preprocessing-pipeline/in_development/Will/cell_extractor/CellDetectorBase.py:67: FutureWarning: The frame.append method is deprecated and will be removed from pandas in a future version. Use pandas.concat instead.\n",
      "  tile_information = tile_information.append(tile_informationi,ignore_index=True)\n",
      "/home/zhw272/programming/preprocessing-pipeline/in_development/Will/cell_extractor/CellDetectorBase.py:67: FutureWarning: The frame.append method is deprecated and will be removed from pandas in a future version. Use pandas.concat instead.\n",
      "  tile_information = tile_information.append(tile_informationi,ignore_index=True)\n",
      "/home/zhw272/programming/preprocessing-pipeline/in_development/Will/cell_extractor/CellDetectorBase.py:67: FutureWarning: The frame.append method is deprecated and will be removed from pandas in a future version. Use pandas.concat instead.\n",
      "  tile_information = tile_information.append(tile_informationi,ignore_index=True)\n",
      "/home/zhw272/programming/preprocessing-pipeline/in_development/Will/cell_extractor/CellDetectorBase.py:67: FutureWarning: The frame.append method is deprecated and will be removed from pandas in a future version. Use pandas.concat instead.\n",
      "  tile_information = tile_information.append(tile_informationi,ignore_index=True)\n",
      "/home/zhw272/programming/preprocessing-pipeline/in_development/Will/cell_extractor/CellDetectorBase.py:67: FutureWarning: The frame.append method is deprecated and will be removed from pandas in a future version. Use pandas.concat instead.\n",
      "  tile_information = tile_information.append(tile_informationi,ignore_index=True)\n",
      "/home/zhw272/programming/preprocessing-pipeline/in_development/Will/cell_extractor/CellDetectorBase.py:67: FutureWarning: The frame.append method is deprecated and will be removed from pandas in a future version. Use pandas.concat instead.\n",
      "  tile_information = tile_information.append(tile_informationi,ignore_index=True)\n",
      "/home/zhw272/programming/preprocessing-pipeline/in_development/Will/cell_extractor/CellDetectorBase.py:67: FutureWarning: The frame.append method is deprecated and will be removed from pandas in a future version. Use pandas.concat instead.\n",
      "  tile_information = tile_information.append(tile_informationi,ignore_index=True)\n",
      "/home/zhw272/programming/preprocessing-pipeline/in_development/Will/cell_extractor/CellDetectorBase.py:67: FutureWarning: The frame.append method is deprecated and will be removed from pandas in a future version. Use pandas.concat instead.\n",
      "  tile_information = tile_information.append(tile_informationi,ignore_index=True)\n",
      "/home/zhw272/programming/preprocessing-pipeline/in_development/Will/cell_extractor/CellDetectorBase.py:67: FutureWarning: The frame.append method is deprecated and will be removed from pandas in a future version. Use pandas.concat instead.\n",
      "  tile_information = tile_information.append(tile_informationi,ignore_index=True)\n",
      "/home/zhw272/programming/preprocessing-pipeline/in_development/Will/cell_extractor/CellDetectorBase.py:67: FutureWarning: The frame.append method is deprecated and will be removed from pandas in a future version. Use pandas.concat instead.\n",
      "  tile_information = tile_information.append(tile_informationi,ignore_index=True)\n",
      "/home/zhw272/programming/preprocessing-pipeline/in_development/Will/cell_extractor/CellDetectorBase.py:67: FutureWarning: The frame.append method is deprecated and will be removed from pandas in a future version. Use pandas.concat instead.\n",
      "  tile_information = tile_information.append(tile_informationi,ignore_index=True)\n",
      "/home/zhw272/programming/preprocessing-pipeline/in_development/Will/cell_extractor/CellDetectorBase.py:67: FutureWarning: The frame.append method is deprecated and will be removed from pandas in a future version. Use pandas.concat instead.\n",
      "  tile_information = tile_information.append(tile_informationi,ignore_index=True)\n",
      "/home/zhw272/programming/preprocessing-pipeline/in_development/Will/cell_extractor/CellDetectorBase.py:67: FutureWarning: The frame.append method is deprecated and will be removed from pandas in a future version. Use pandas.concat instead.\n",
      "  tile_information = tile_information.append(tile_informationi,ignore_index=True)\n",
      "/home/zhw272/programming/preprocessing-pipeline/in_development/Will/cell_extractor/CellDetectorBase.py:67: FutureWarning: The frame.append method is deprecated and will be removed from pandas in a future version. Use pandas.concat instead.\n",
      "  tile_information = tile_information.append(tile_informationi,ignore_index=True)\n",
      "/home/zhw272/programming/preprocessing-pipeline/in_development/Will/cell_extractor/CellDetectorBase.py:67: FutureWarning: The frame.append method is deprecated and will be removed from pandas in a future version. Use pandas.concat instead.\n",
      "  tile_information = tile_information.append(tile_informationi,ignore_index=True)\n",
      "/home/zhw272/programming/preprocessing-pipeline/in_development/Will/cell_extractor/CellDetectorBase.py:67: FutureWarning: The frame.append method is deprecated and will be removed from pandas in a future version. Use pandas.concat instead.\n",
      "  tile_information = tile_information.append(tile_informationi,ignore_index=True)\n",
      "/home/zhw272/programming/preprocessing-pipeline/in_development/Will/cell_extractor/CellDetectorBase.py:67: FutureWarning: The frame.append method is deprecated and will be removed from pandas in a future version. Use pandas.concat instead.\n",
      "  tile_information = tile_information.append(tile_informationi,ignore_index=True)\n",
      "/home/zhw272/programming/preprocessing-pipeline/in_development/Will/cell_extractor/CellDetectorBase.py:67: FutureWarning: The frame.append method is deprecated and will be removed from pandas in a future version. Use pandas.concat instead.\n",
      "  tile_information = tile_information.append(tile_informationi,ignore_index=True)\n",
      "/home/zhw272/programming/preprocessing-pipeline/in_development/Will/cell_extractor/CellDetectorBase.py:67: FutureWarning: The frame.append method is deprecated and will be removed from pandas in a future version. Use pandas.concat instead.\n",
      "  tile_information = tile_information.append(tile_informationi,ignore_index=True)\n",
      "/home/zhw272/programming/preprocessing-pipeline/in_development/Will/cell_extractor/CellDetectorBase.py:67: FutureWarning: The frame.append method is deprecated and will be removed from pandas in a future version. Use pandas.concat instead.\n",
      "  tile_information = tile_information.append(tile_informationi,ignore_index=True)\n",
      "/home/zhw272/programming/preprocessing-pipeline/in_development/Will/cell_extractor/CellDetectorBase.py:67: FutureWarning: The frame.append method is deprecated and will be removed from pandas in a future version. Use pandas.concat instead.\n",
      "  tile_information = tile_information.append(tile_informationi,ignore_index=True)\n",
      "/home/zhw272/programming/preprocessing-pipeline/in_development/Will/cell_extractor/CellDetectorBase.py:67: FutureWarning: The frame.append method is deprecated and will be removed from pandas in a future version. Use pandas.concat instead.\n",
      "  tile_information = tile_information.append(tile_informationi,ignore_index=True)\n"
     ]
    },
    {
     "name": "stdout",
     "output_type": "stream",
     "text": [
      "{'eta': 0.3, 'objective': 'binary:logistic', 'nthread': 7}\n"
     ]
    },
    {
     "name": "stderr",
     "output_type": "stream",
     "text": [
      "/home/zhw272/programming/preprocessing-pipeline/in_development/Will/cell_extractor/CellDetectorBase.py:67: FutureWarning: The frame.append method is deprecated and will be removed from pandas in a future version. Use pandas.concat instead.\n",
      "  tile_information = tile_information.append(tile_informationi,ignore_index=True)\n",
      "/home/zhw272/programming/preprocessing-pipeline/in_development/Will/cell_extractor/CellDetectorBase.py:67: FutureWarning: The frame.append method is deprecated and will be removed from pandas in a future version. Use pandas.concat instead.\n",
      "  tile_information = tile_information.append(tile_informationi,ignore_index=True)\n",
      "/home/zhw272/programming/preprocessing-pipeline/in_development/Will/cell_extractor/CellDetectorBase.py:67: FutureWarning: The frame.append method is deprecated and will be removed from pandas in a future version. Use pandas.concat instead.\n",
      "  tile_information = tile_information.append(tile_informationi,ignore_index=True)\n",
      "/home/zhw272/programming/preprocessing-pipeline/in_development/Will/cell_extractor/CellDetectorBase.py:67: FutureWarning: The frame.append method is deprecated and will be removed from pandas in a future version. Use pandas.concat instead.\n",
      "  tile_information = tile_information.append(tile_informationi,ignore_index=True)\n",
      "/home/zhw272/programming/preprocessing-pipeline/in_development/Will/cell_extractor/CellDetectorBase.py:67: FutureWarning: The frame.append method is deprecated and will be removed from pandas in a future version. Use pandas.concat instead.\n",
      "  tile_information = tile_information.append(tile_informationi,ignore_index=True)\n",
      "/home/zhw272/programming/preprocessing-pipeline/in_development/Will/cell_extractor/CellDetectorBase.py:67: FutureWarning: The frame.append method is deprecated and will be removed from pandas in a future version. Use pandas.concat instead.\n",
      "  tile_information = tile_information.append(tile_informationi,ignore_index=True)\n",
      "/home/zhw272/programming/preprocessing-pipeline/in_development/Will/cell_extractor/CellDetectorBase.py:67: FutureWarning: The frame.append method is deprecated and will be removed from pandas in a future version. Use pandas.concat instead.\n",
      "  tile_information = tile_information.append(tile_informationi,ignore_index=True)\n",
      "/home/zhw272/programming/preprocessing-pipeline/in_development/Will/cell_extractor/CellDetectorBase.py:67: FutureWarning: The frame.append method is deprecated and will be removed from pandas in a future version. Use pandas.concat instead.\n",
      "  tile_information = tile_information.append(tile_informationi,ignore_index=True)\n",
      "/home/zhw272/programming/preprocessing-pipeline/in_development/Will/cell_extractor/CellDetectorBase.py:67: FutureWarning: The frame.append method is deprecated and will be removed from pandas in a future version. Use pandas.concat instead.\n",
      "  tile_information = tile_information.append(tile_informationi,ignore_index=True)\n",
      "/home/zhw272/programming/preprocessing-pipeline/in_development/Will/cell_extractor/CellDetectorBase.py:67: FutureWarning: The frame.append method is deprecated and will be removed from pandas in a future version. Use pandas.concat instead.\n",
      "  tile_information = tile_information.append(tile_informationi,ignore_index=True)\n",
      "/home/zhw272/programming/preprocessing-pipeline/in_development/Will/cell_extractor/CellDetectorBase.py:67: FutureWarning: The frame.append method is deprecated and will be removed from pandas in a future version. Use pandas.concat instead.\n",
      "  tile_information = tile_information.append(tile_informationi,ignore_index=True)\n",
      "/home/zhw272/programming/preprocessing-pipeline/in_development/Will/cell_extractor/CellDetectorBase.py:67: FutureWarning: The frame.append method is deprecated and will be removed from pandas in a future version. Use pandas.concat instead.\n",
      "  tile_information = tile_information.append(tile_informationi,ignore_index=True)\n",
      "/home/zhw272/programming/preprocessing-pipeline/in_development/Will/cell_extractor/CellDetectorBase.py:67: FutureWarning: The frame.append method is deprecated and will be removed from pandas in a future version. Use pandas.concat instead.\n",
      "  tile_information = tile_information.append(tile_informationi,ignore_index=True)\n"
     ]
    },
    {
     "name": "stdout",
     "output_type": "stream",
     "text": [
      "{'eta': 0.3, 'objective': 'binary:logistic', 'nthread': 7}\n"
     ]
    }
   ],
   "source": [
    "all_detections = []\n",
    "for threshold in [2000,2100,2200,2300,2700]:\n",
    "    trainer = CellDetectorTrainer('DK55',round=2,segmentation_threshold=threshold)\n",
    "    detections = trainer.load_detections()\n",
    "    detections = detections[['row','col','section','predictions']]\n",
    "    detections['name'] = str(threshold)\n",
    "    all_detections.append(detections)\n",
    "all_detections = pd.concat(all_detections)"
   ]
  },
  {
   "cell_type": "code",
   "execution_count": 9,
   "metadata": {},
   "outputs": [],
   "source": [
    "sures = all_detections[all_detections.predictions==2]\n",
    "unsures = all_detections[all_detections.predictions==0]"
   ]
  },
  {
   "cell_type": "code",
   "execution_count": 10,
   "metadata": {},
   "outputs": [],
   "source": [
    "sures = sures.drop('predictions',axis=1)\n",
    "sures.columns = ['x','y','section','name']"
   ]
  },
  {
   "cell_type": "code",
   "execution_count": 11,
   "metadata": {},
   "outputs": [
    {
     "name": "stdout",
     "output_type": "stream",
     "text": [
      "calculating distance matrix\n"
     ]
    },
    {
     "name": "stderr",
     "output_type": "stream",
     "text": [
      "/home/zhw272/programming/preprocessing-pipeline/in_development/Will/cell_extractor/CellDetectorBase.py:67: FutureWarning: The frame.append method is deprecated and will be removed from pandas in a future version. Use pandas.concat instead.\n",
      "  tile_information = tile_information.append(tile_informationi,ignore_index=True)\n",
      "/home/zhw272/programming/preprocessing-pipeline/in_development/Will/cell_extractor/CellDetectorBase.py:67: FutureWarning: The frame.append method is deprecated and will be removed from pandas in a future version. Use pandas.concat instead.\n",
      "  tile_information = tile_information.append(tile_informationi,ignore_index=True)\n",
      "/home/zhw272/programming/preprocessing-pipeline/in_development/Will/cell_extractor/CellDetectorBase.py:67: FutureWarning: The frame.append method is deprecated and will be removed from pandas in a future version. Use pandas.concat instead.\n",
      "  tile_information = tile_information.append(tile_informationi,ignore_index=True)\n",
      "/home/zhw272/programming/preprocessing-pipeline/in_development/Will/cell_extractor/CellDetectorBase.py:67: FutureWarning: The frame.append method is deprecated and will be removed from pandas in a future version. Use pandas.concat instead.\n",
      "  tile_information = tile_information.append(tile_informationi,ignore_index=True)\n",
      "/home/zhw272/programming/preprocessing-pipeline/in_development/Will/cell_extractor/CellDetectorBase.py:67: FutureWarning: The frame.append method is deprecated and will be removed from pandas in a future version. Use pandas.concat instead.\n",
      "  tile_information = tile_information.append(tile_informationi,ignore_index=True)\n",
      "/home/zhw272/programming/preprocessing-pipeline/in_development/Will/cell_extractor/CellDetectorBase.py:67: FutureWarning: The frame.append method is deprecated and will be removed from pandas in a future version. Use pandas.concat instead.\n",
      "  tile_information = tile_information.append(tile_informationi,ignore_index=True)\n",
      "/home/zhw272/programming/preprocessing-pipeline/in_development/Will/cell_extractor/CellDetectorBase.py:67: FutureWarning: The frame.append method is deprecated and will be removed from pandas in a future version. Use pandas.concat instead.\n",
      "  tile_information = tile_information.append(tile_informationi,ignore_index=True)\n",
      "/home/zhw272/programming/preprocessing-pipeline/in_development/Will/cell_extractor/CellDetectorBase.py:67: FutureWarning: The frame.append method is deprecated and will be removed from pandas in a future version. Use pandas.concat instead.\n",
      "  tile_information = tile_information.append(tile_informationi,ignore_index=True)\n",
      "/home/zhw272/programming/preprocessing-pipeline/in_development/Will/cell_extractor/CellDetectorBase.py:67: FutureWarning: The frame.append method is deprecated and will be removed from pandas in a future version. Use pandas.concat instead.\n",
      "  tile_information = tile_information.append(tile_informationi,ignore_index=True)\n",
      "/home/zhw272/programming/preprocessing-pipeline/in_development/Will/cell_extractor/CellDetectorBase.py:67: FutureWarning: The frame.append method is deprecated and will be removed from pandas in a future version. Use pandas.concat instead.\n",
      "  tile_information = tile_information.append(tile_informationi,ignore_index=True)\n"
     ]
    },
    {
     "ename": "MemoryError",
     "evalue": "Unable to allocate 29.2 GiB for an array with shape (62614, 62614) and data type float64",
     "output_type": "error",
     "traceback": [
      "\u001b[0;31m---------------------------------------------------------------------------\u001b[0m",
      "\u001b[0;31mMemoryError\u001b[0m                               Traceback (most recent call last)",
      "\u001b[1;32m/home/zhw272/programming/preprocessing-pipeline/in_development/Will/cell_extractor/retraining/combine_rounds.ipynb Cell 6'\u001b[0m in \u001b[0;36m<cell line: 3>\u001b[0;34m()\u001b[0m\n\u001b[1;32m      <a href='vscode-notebook-cell:/home/zhw272/programming/preprocessing-pipeline/in_development/Will/cell_extractor/retraining/combine_rounds.ipynb#ch0000005?line=0'>1</a>\u001b[0m util \u001b[39m=\u001b[39m AnnotationProximityTool()\n\u001b[1;32m      <a href='vscode-notebook-cell:/home/zhw272/programming/preprocessing-pipeline/in_development/Will/cell_extractor/retraining/combine_rounds.ipynb#ch0000005?line=1'>2</a>\u001b[0m util\u001b[39m.\u001b[39mset_annotations_to_compare(sures)\n\u001b[0;32m----> <a href='vscode-notebook-cell:/home/zhw272/programming/preprocessing-pipeline/in_development/Will/cell_extractor/retraining/combine_rounds.ipynb#ch0000005?line=2'>3</a>\u001b[0m util\u001b[39m.\u001b[39;49mfind_equivalent_points()\n",
      "File \u001b[0;32m~/programming/preprocessing-pipeline/in_development/Will/cell_extractor/DetectorMetrics.py:111\u001b[0m, in \u001b[0;36mAnnotationProximityTool.find_equivalent_points\u001b[0;34m(self)\u001b[0m\n\u001b[1;32m    <a href='file:///home/zhw272/programming/preprocessing-pipeline/in_development/Will/cell_extractor/DetectorMetrics.py?line=109'>110</a>\u001b[0m \u001b[39mdef\u001b[39;00m \u001b[39mfind_equivalent_points\u001b[39m(\u001b[39mself\u001b[39m):\n\u001b[0;32m--> <a href='file:///home/zhw272/programming/preprocessing-pipeline/in_development/Will/cell_extractor/DetectorMetrics.py?line=110'>111</a>\u001b[0m     \u001b[39mself\u001b[39;49m\u001b[39m.\u001b[39;49mcalculate_distance_matrix()\n\u001b[1;32m    <a href='file:///home/zhw272/programming/preprocessing-pipeline/in_development/Will/cell_extractor/DetectorMetrics.py?line=111'>112</a>\u001b[0m     \u001b[39mself\u001b[39m\u001b[39m.\u001b[39mfind_close_pairs()\n\u001b[1;32m    <a href='file:///home/zhw272/programming/preprocessing-pipeline/in_development/Will/cell_extractor/DetectorMetrics.py?line=112'>113</a>\u001b[0m     \u001b[39mself\u001b[39m\u001b[39m.\u001b[39mgroup_and_label_close_pairs()\n",
      "File \u001b[0;32m~/programming/preprocessing-pipeline/in_development/Will/cell_extractor/DetectorMetrics.py:26\u001b[0m, in \u001b[0;36mAnnotationProximityTool.calculate_distance_matrix\u001b[0;34m(self)\u001b[0m\n\u001b[1;32m     <a href='file:///home/zhw272/programming/preprocessing-pipeline/in_development/Will/cell_extractor/DetectorMetrics.py?line=23'>24</a>\u001b[0m df \u001b[39m=\u001b[39m \u001b[39mself\u001b[39m\u001b[39m.\u001b[39mannotations_to_compare\u001b[39m.\u001b[39mcopy()\n\u001b[1;32m     <a href='file:///home/zhw272/programming/preprocessing-pipeline/in_development/Will/cell_extractor/DetectorMetrics.py?line=24'>25</a>\u001b[0m df[\u001b[39m'\u001b[39m\u001b[39msection\u001b[39m\u001b[39m'\u001b[39m]\u001b[39m*\u001b[39m\u001b[39m=\u001b[39m\u001b[39m1000\u001b[39m\n\u001b[0;32m---> <a href='file:///home/zhw272/programming/preprocessing-pipeline/in_development/Will/cell_extractor/DetectorMetrics.py?line=25'>26</a>\u001b[0m \u001b[39mself\u001b[39m\u001b[39m.\u001b[39mdistances\u001b[39m=\u001b[39mdistance_matrix(np\u001b[39m.\u001b[39;49marray(df\u001b[39m.\u001b[39;49miloc[:,:\u001b[39m3\u001b[39;49m]),np\u001b[39m.\u001b[39;49marray(df\u001b[39m.\u001b[39;49miloc[:,:\u001b[39m3\u001b[39;49m]))\n",
      "File \u001b[0;32m/usr/local/share/pipeline/lib/python3.8/site-packages/scipy/spatial/_kdtree.py:919\u001b[0m, in \u001b[0;36mdistance_matrix\u001b[0;34m(x, y, p, threshold)\u001b[0m\n\u001b[1;32m    <a href='file:///usr/local/share/pipeline/lib/python3.8/site-packages/scipy/spatial/_kdtree.py?line=916'>917</a>\u001b[0m     \u001b[39mreturn\u001b[39;00m minkowski_distance(x[:,np\u001b[39m.\u001b[39mnewaxis,:],y[np\u001b[39m.\u001b[39mnewaxis,:,:],p)\n\u001b[1;32m    <a href='file:///usr/local/share/pipeline/lib/python3.8/site-packages/scipy/spatial/_kdtree.py?line=917'>918</a>\u001b[0m \u001b[39melse\u001b[39;00m:\n\u001b[0;32m--> <a href='file:///usr/local/share/pipeline/lib/python3.8/site-packages/scipy/spatial/_kdtree.py?line=918'>919</a>\u001b[0m     result \u001b[39m=\u001b[39m np\u001b[39m.\u001b[39;49mempty((m,n),dtype\u001b[39m=\u001b[39;49m\u001b[39mfloat\u001b[39;49m)  \u001b[39m# FIXME: figure out the best dtype\u001b[39;00m\n\u001b[1;32m    <a href='file:///usr/local/share/pipeline/lib/python3.8/site-packages/scipy/spatial/_kdtree.py?line=919'>920</a>\u001b[0m     \u001b[39mif\u001b[39;00m m \u001b[39m<\u001b[39m n:\n\u001b[1;32m    <a href='file:///usr/local/share/pipeline/lib/python3.8/site-packages/scipy/spatial/_kdtree.py?line=920'>921</a>\u001b[0m         \u001b[39mfor\u001b[39;00m i \u001b[39min\u001b[39;00m \u001b[39mrange\u001b[39m(m):\n",
      "\u001b[0;31mMemoryError\u001b[0m: Unable to allocate 29.2 GiB for an array with shape (62614, 62614) and data type float64"
     ]
    }
   ],
   "source": [
    "util = AnnotationProximityTool()\n",
    "util.set_annotations_to_compare(sures)\n",
    "util.find_equivalent_points()"
   ]
  },
  {
   "cell_type": "code",
   "execution_count": null,
   "metadata": {},
   "outputs": [],
   "source": []
  }
 ],
 "metadata": {
  "interpreter": {
   "hash": "97e209aa8511c3356558c5b4441d0fe17ed27fc557fbfde94b259769985fb2e3"
  },
  "kernelspec": {
   "display_name": "Python 3.6.9 64-bit ('pipeline': venv)",
   "language": "python",
   "name": "python3"
  },
  "language_info": {
   "codemirror_mode": {
    "name": "ipython",
    "version": 3
   },
   "file_extension": ".py",
   "mimetype": "text/x-python",
   "name": "python",
   "nbconvert_exporter": "python",
   "pygments_lexer": "ipython3",
   "version": "3.8.10"
  },
  "orig_nbformat": 4
 },
 "nbformat": 4,
 "nbformat_minor": 2
}
