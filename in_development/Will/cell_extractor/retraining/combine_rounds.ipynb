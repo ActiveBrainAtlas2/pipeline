{
 "cells": [
  {
   "cell_type": "code",
   "execution_count": 1,
   "metadata": {},
   "outputs": [
    {
     "name": "stdout",
     "output_type": "stream",
     "text": [
      "1.5.0\n",
      "\n"
     ]
    }
   ],
   "source": [
    "import sys\n",
    "sys.path.append('/scratch/programming/pipeline/preprocessing-pipeline/in_development/Will')\n",
    "sys.path.append('/scratch/programming/pipeline/pipeline_utility/src')\n",
    "from cell_extractor.CellDetectorTrainer import CellDetectorTrainer\n",
    "from cell_extractor.DetectorMetrics import AnnotationProximityTool\n",
    "import pandas as pd"
   ]
  },
  {
   "cell_type": "code",
   "execution_count": 2,
   "metadata": {},
   "outputs": [
    {
     "name": "stdout",
     "output_type": "stream",
     "text": [
      "{'eta': 0.3, 'objective': 'binary:logistic', 'nthread': 7}\n"
     ]
    },
    {
     "data": {
      "text/plain": [
       "['detector_round_2_threshold_2300.pkl',\n",
       " 'detector_round_2_threshold_2200.pkl',\n",
       " 'detector_round_2_threshold_2100.pkl',\n",
       " 'detector_round_2.pkl',\n",
       " 'detector_round_2_threshold_2000.pkl',\n",
       " 'detector_round_1.pkl',\n",
       " 'detector_round_2_threshold_2700.pkl']"
      ]
     },
     "execution_count": 2,
     "metadata": {},
     "output_type": "execute_result"
    }
   ],
   "source": [
    "trainer = CellDetectorTrainer('DK55',round=2,segmentation_threshold=2300)\n",
    "trainer.list_detectors()"
   ]
  },
  {
   "cell_type": "code",
   "execution_count": 3,
   "metadata": {},
   "outputs": [
    {
     "name": "stdout",
     "output_type": "stream",
     "text": [
      "{'eta': 0.3, 'objective': 'binary:logistic', 'nthread': 7}\n",
      "{'eta': 0.3, 'objective': 'binary:logistic', 'nthread': 7}\n",
      "{'eta': 0.3, 'objective': 'binary:logistic', 'nthread': 7}\n",
      "{'eta': 0.3, 'objective': 'binary:logistic', 'nthread': 7}\n",
      "{'eta': 0.3, 'objective': 'binary:logistic', 'nthread': 7}\n"
     ]
    }
   ],
   "source": [
    "all_detections = []\n",
    "for threshold in [2000,2100,2200,2300,2700]:\n",
    "    trainer = CellDetectorTrainer('DK55',round=2,segmentation_threshold=threshold)\n",
    "    detections = trainer.load_detections()\n",
    "    detections = detections[['row','col','section','predictions']]\n",
    "    detections['name'] = str(threshold)\n",
    "    all_detections.append(detections)\n",
    "all_detections = pd.concat(all_detections)"
   ]
  },
  {
   "cell_type": "code",
   "execution_count": 4,
   "metadata": {},
   "outputs": [],
   "source": [
    "sures = all_detections[all_detections.predictions==2]\n",
    "unsures = all_detections[all_detections.predictions==0]"
   ]
  },
  {
   "cell_type": "code",
   "execution_count": 5,
   "metadata": {},
   "outputs": [],
   "source": [
    "sures = sures.drop('predictions',axis=1)\n",
    "sures.columns = ['x','y','section','name']"
   ]
  },
  {
   "cell_type": "code",
   "execution_count": 6,
   "metadata": {},
   "outputs": [
    {
     "name": "stdout",
     "output_type": "stream",
     "text": [
      "calculating distance matrix\n",
      "finding points that are close to each other\n",
      "grouping and labeling points that are close to each other\n",
      "before removing duplicates 62614\n",
      "after removing duplicates 12740\n"
     ]
    }
   ],
   "source": [
    "util = AnnotationProximityTool()\n",
    "util.set_annotations_to_compare(sures)\n",
    "util.find_equivalent_points()"
   ]
  }
 ],
 "metadata": {
  "interpreter": {
   "hash": "97e209aa8511c3356558c5b4441d0fe17ed27fc557fbfde94b259769985fb2e3"
  },
  "kernelspec": {
   "display_name": "Python 3.6.9 64-bit ('pipeline': venv)",
   "language": "python",
   "name": "python3"
  },
  "language_info": {
   "codemirror_mode": {
    "name": "ipython",
    "version": 3
   },
   "file_extension": ".py",
   "mimetype": "text/x-python",
   "name": "python",
   "nbconvert_exporter": "python",
   "pygments_lexer": "ipython3",
   "version": "3.8.10"
  },
  "orig_nbformat": 4
 },
 "nbformat": 4,
 "nbformat_minor": 2
}
