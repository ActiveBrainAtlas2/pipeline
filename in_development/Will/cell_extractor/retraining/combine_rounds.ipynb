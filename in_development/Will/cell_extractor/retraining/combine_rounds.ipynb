{
 "cells": [
  {
   "cell_type": "code",
   "execution_count": 12,
   "metadata": {},
   "outputs": [],
   "source": [
    "import sys\n",
    "dir = '/scratch/programming/pipeline/preprocessing-pipeline/'\n",
    "sys.path.append(dir+'in_development/Will')\n",
    "sys.path.append(dir+'src')\n",
    "from cell_extractor.CellDetectorTrainer import CellDetectorTrainer\n",
    "from cell_extractor.DetectorMetrics import DetectorMetricsDK55\n",
    "import pandas as pd\n",
    "import os"
   ]
  },
  {
   "cell_type": "code",
   "execution_count": 6,
   "metadata": {},
   "outputs": [
    {
     "name": "stdout",
     "output_type": "stream",
     "text": [
      "{'eta': 0.3, 'objective': 'binary:logistic', 'nthread': 7}\n"
     ]
    },
    {
     "data": {
      "text/plain": [
       "['detector_round_2_threshold_2300.pkl',\n",
       " 'detector_round_2_threshold_2200.pkl',\n",
       " 'detector_round_2_threshold_2100.pkl',\n",
       " 'detector_round_2.pkl',\n",
       " 'detector_round_2_threshold_2000.pkl',\n",
       " 'detector_round_1.pkl',\n",
       " 'detector_round_2_threshold_2700.pkl']"
      ]
     },
     "execution_count": 6,
     "metadata": {},
     "output_type": "execute_result"
    }
   ],
   "source": [
    "trainer = CellDetectorTrainer('DK55',round=2,segmentation_threshold=2300)\n",
    "trainer.list_detectors()"
   ]
  },
  {
   "cell_type": "code",
   "execution_count": 7,
   "metadata": {},
   "outputs": [
    {
     "name": "stdout",
     "output_type": "stream",
     "text": [
      "{'eta': 0.3, 'objective': 'binary:logistic', 'nthread': 7}\n",
      "{'eta': 0.3, 'objective': 'binary:logistic', 'nthread': 7}\n",
      "{'eta': 0.3, 'objective': 'binary:logistic', 'nthread': 7}\n",
      "{'eta': 0.3, 'objective': 'binary:logistic', 'nthread': 7}\n",
      "{'eta': 0.3, 'objective': 'binary:logistic', 'nthread': 7}\n"
     ]
    }
   ],
   "source": [
    "all_detections = []\n",
    "for threshold in [2000,2100,2200,2300,2700]:\n",
    "    trainer = CellDetectorTrainer('DK55',round=2,segmentation_threshold=threshold)\n",
    "    detections = trainer.load_detections()\n",
    "    detections = detections[['row','col','section','predictions']]\n",
    "    detections['name'] = str(threshold)\n",
    "    all_detections.append(detections)\n",
    "all_detections = pd.concat(all_detections)"
   ]
  },
  {
   "cell_type": "code",
   "execution_count": 8,
   "metadata": {},
   "outputs": [],
   "source": [
    "sures = all_detections[all_detections.predictions==2]\n",
    "unsures = all_detections[all_detections.predictions==0]"
   ]
  },
  {
   "cell_type": "code",
   "execution_count": 9,
   "metadata": {},
   "outputs": [],
   "source": [
    "sures = sures.drop('predictions',axis=1)\n",
    "unsures = unsures.drop('predictions',axis=1)\n",
    "sures.columns = ['x','y','section','name']\n",
    "unsures.columns = ['x','y','section','name']"
   ]
  },
  {
   "cell_type": "code",
   "execution_count": 17,
   "metadata": {},
   "outputs": [
    {
     "data": {
      "text/html": [
       "<div>\n",
       "<style scoped>\n",
       "    .dataframe tbody tr th:only-of-type {\n",
       "        vertical-align: middle;\n",
       "    }\n",
       "\n",
       "    .dataframe tbody tr th {\n",
       "        vertical-align: top;\n",
       "    }\n",
       "\n",
       "    .dataframe thead th {\n",
       "        text-align: right;\n",
       "    }\n",
       "</style>\n",
       "<table border=\"1\" class=\"dataframe\">\n",
       "  <thead>\n",
       "    <tr style=\"text-align: right;\">\n",
       "      <th></th>\n",
       "      <th>x</th>\n",
       "      <th>y</th>\n",
       "      <th>section</th>\n",
       "      <th>name</th>\n",
       "    </tr>\n",
       "  </thead>\n",
       "  <tbody>\n",
       "    <tr>\n",
       "      <th>0</th>\n",
       "      <td>18851</td>\n",
       "      <td>37633</td>\n",
       "      <td>132</td>\n",
       "      <td>2000</td>\n",
       "    </tr>\n",
       "    <tr>\n",
       "      <th>1</th>\n",
       "      <td>17423</td>\n",
       "      <td>38133</td>\n",
       "      <td>145</td>\n",
       "      <td>2000</td>\n",
       "    </tr>\n",
       "    <tr>\n",
       "      <th>2</th>\n",
       "      <td>17638</td>\n",
       "      <td>37839</td>\n",
       "      <td>145</td>\n",
       "      <td>2000</td>\n",
       "    </tr>\n",
       "    <tr>\n",
       "      <th>3</th>\n",
       "      <td>17708</td>\n",
       "      <td>37725</td>\n",
       "      <td>145</td>\n",
       "      <td>2000</td>\n",
       "    </tr>\n",
       "    <tr>\n",
       "      <th>4</th>\n",
       "      <td>17794</td>\n",
       "      <td>37634</td>\n",
       "      <td>145</td>\n",
       "      <td>2000</td>\n",
       "    </tr>\n",
       "  </tbody>\n",
       "</table>\n",
       "</div>"
      ],
      "text/plain": [
       "       x      y  section  name\n",
       "0  18851  37633      132  2000\n",
       "1  17423  38133      145  2000\n",
       "2  17638  37839      145  2000\n",
       "3  17708  37725      145  2000\n",
       "4  17794  37634      145  2000"
      ]
     },
     "execution_count": 17,
     "metadata": {},
     "output_type": "execute_result"
    }
   ],
   "source": [
    "sures.head()"
   ]
  },
  {
   "cell_type": "code",
   "execution_count": 19,
   "metadata": {},
   "outputs": [],
   "source": [
    "from abakit.lib.SqlController import SqlController\n",
    "import pandas as pd\n",
    "import numpy as np\n",
    "controller = SqlController('DK55')\n",
    "for _,celli in sures.iterrows():\n",
    "    coord = np.array([celli.y,celli.x,celli.section])*np.array([0.325,0.325,20])\n",
    "    controller.add_layer_data_row('DK55',34,1,coord,52,'detected_soma_multi_level')\n"
   ]
  },
  {
   "cell_type": "code",
   "execution_count": 14,
   "metadata": {},
   "outputs": [],
   "source": [
    "util = DetectorMetricsDK55()\n",
    "sure_path = os.path.join(util.qc_annotation_input_path,'mutithreshold_sure.csv')\n",
    "unsure_path = os.path.join(util.qc_annotation_input_path,'mutithreshold_sure.csv')\n",
    "sures.to_csv(sure_path)\n",
    "unsures.to_csv(unsure_path)"
   ]
  },
  {
   "cell_type": "code",
   "execution_count": null,
   "metadata": {},
   "outputs": [],
   "source": [
    "util = DetectorMetricsDK55(sure_file_name = sure_path,unsure_file_name=unsure_path)"
   ]
  },
  {
   "cell_type": "code",
   "execution_count": 15,
   "metadata": {},
   "outputs": [
    {
     "name": "stdout",
     "output_type": "stream",
     "text": [
      "calculating distance matrix\n",
      "finding points that are close to each other\n",
      "grouping and labeling points that are close to each other\n",
      "before removing duplicates 16813\n",
      "after removing duplicates 14108\n",
      "computer missed, human detected\n",
      "299\n",
      "computer sure, human negative\n",
      "50\n",
      "computer  UNsure, human negative\n",
      "247\n",
      "computer UNsure, human positive\n",
      "402\n",
      "Total computer UNsure\n",
      "1285\n",
      "computer UNsure, human unmarked\n",
      "634\n",
      "computer sure, human unmarked\n",
      "10560\n",
      "More than 2 labels\n",
      "27\n",
      "Computer Detected, Human Missed\n",
      "10560\n",
      "total train\n",
      "1883\n",
      "Human mind change\n",
      "32\n",
      "original training set after mind change\n",
      "1851\n"
     ]
    }
   ],
   "source": [
    "util.calculate_qualification()"
   ]
  }
 ],
 "metadata": {
  "interpreter": {
   "hash": "97e209aa8511c3356558c5b4441d0fe17ed27fc557fbfde94b259769985fb2e3"
  },
  "kernelspec": {
   "display_name": "Python 3.6.9 64-bit ('pipeline': venv)",
   "language": "python",
   "name": "python3"
  },
  "language_info": {
   "codemirror_mode": {
    "name": "ipython",
    "version": 3
   },
   "file_extension": ".py",
   "mimetype": "text/x-python",
   "name": "python",
   "nbconvert_exporter": "python",
   "pygments_lexer": "ipython3",
   "version": "3.8.10"
  },
  "orig_nbformat": 4
 },
 "nbformat": 4,
 "nbformat_minor": 2
}
