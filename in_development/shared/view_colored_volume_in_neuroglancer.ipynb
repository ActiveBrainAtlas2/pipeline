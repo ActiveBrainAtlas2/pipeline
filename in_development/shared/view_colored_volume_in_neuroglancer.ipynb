{
 "cells": [
  {
   "cell_type": "code",
   "execution_count": 1,
   "metadata": {},
   "outputs": [],
   "source": [
    "import os\n",
    "import numpy as np\n",
    "import neuroglancer\n",
    "from skimage import io\n",
    "import matplotlib\n",
    "from pprint import pprint\n",
    "from matplotlib import pyplot as plt\n",
    "from tqdm import tqdm\n",
    "import cv2\n",
    "from tifffile import imwrite"
   ]
  },
  {
   "cell_type": "code",
   "execution_count": 2,
   "metadata": {},
   "outputs": [
    {
     "name": "stdout",
     "output_type": "stream",
     "text": [
      "Volume shape=(1320, 800, 1140) dtype=uint16\n"
     ]
    }
   ],
   "source": [
    "animal = 'DK52'\n",
    "filename = 'allen_10um_coronal.tiff'\n",
    "DATA = '/net/birdstore/Active_Atlas_Data/data_root/brains_info/registration'\n",
    "filepath = os.path.join(DATA, filename)\n",
    "volume = io.imread(filepath)\n",
    "print(f'Volume shape={volume.shape} dtype={volume.dtype}')"
   ]
  },
  {
   "cell_type": "code",
   "execution_count": 3,
   "metadata": {},
   "outputs": [
    {
     "name": "stdout",
     "output_type": "stream",
     "text": [
      "(1140, 800, 1320)\n"
     ]
    }
   ],
   "source": [
    "sagittal = np.swapaxes(volume, 0,2)\n",
    "#sagittal = np.rot90(sagittal, axes=(1, 0))\n",
    "#sagittal = np.flip(sagittal, axis=1)\n",
    "outpath = os.path.join(DATA, 'allen_10um_sagittal.tiff')\n",
    "print(sagittal.shape)\n",
    "imwrite(outpath, sagittal)"
   ]
  },
  {
   "cell_type": "code",
   "execution_count": null,
   "metadata": {},
   "outputs": [],
   "source": [
    "arr = sagittal\n",
    "midpoint = arr.shape[2] // 2\n",
    "limit = 10\n",
    "start = midpoint - 10\n",
    "end = midpoint + 10\n",
    "for i in tqdm(range(start, end, 4)):\n",
    "    plt.title('Z {}'.format(i))\n",
    "    img = arr[:,:,i]\n",
    "    #img = np.rot90(img, 1, axes=(1,0))\n",
    "    #img = np.flip(img, axis=1)\n",
    "    plt.imshow(img, cmap=\"gray\")\n",
    "    plt.show()"
   ]
  },
  {
   "cell_type": "code",
   "execution_count": null,
   "metadata": {},
   "outputs": [],
   "source": [
    "image_stack = np.zeros(volume.shape)\n",
    "file_list = []\n",
    "\n",
    "for i in tqdm(range(0, volume.shape[2], 1)):\n",
    "    img = volume[:,:,i]\n",
    "    img = np.rot90(img, 1, axes=(1,0))\n",
    "    img = np.flip(img, axis=1)\n",
    "    filepath = os.path.join(OUTPUT, str(i).zfill(3) + '.tif')\n",
    "    cv2.imwrite(filepath, img)"
   ]
  },
  {
   "cell_type": "code",
   "execution_count": null,
   "metadata": {},
   "outputs": [],
   "source": [
    "# The default atlas created by brainreg is isotropic 25um\n",
    "#vm2 = np.swapaxes(volume, 0, 2)\n",
    "#vm2 = np.flip(vm2, axis=0)\n",
    "vm2 = volume\n",
    "print(f'new volume shape={vm2.shape}')\n",
    "dimensions = neuroglancer.CoordinateSpace(\n",
    "    names=['x', 'y', 'z'],\n",
    "    units='um',\n",
    "    scales=[25,25,25])\n",
    "viewer = neuroglancer.Viewer()\n",
    "with viewer.txn() as s:\n",
    "    s.dimensions = dimensions\n",
    "    s.layout = '4panel'\n",
    "    s.layers['Allen'] = neuroglancer.ImageLayer(\n",
    "        source=neuroglancer.LocalVolume(\n",
    "            data=vm2,\n",
    "            dimensions=dimensions,\n",
    "            voxel_offset=(0, 0, 0),\n",
    "        ))\n",
    "\n",
    "print(viewer)"
   ]
  }
 ],
 "metadata": {
  "kernelspec": {
   "display_name": "Python 3",
   "language": "python",
   "name": "python3"
  },
  "language_info": {
   "codemirror_mode": {
    "name": "ipython",
    "version": 3
   },
   "file_extension": ".py",
   "mimetype": "text/x-python",
   "name": "python",
   "nbconvert_exporter": "python",
   "pygments_lexer": "ipython3",
   "version": "3.10.6"
  }
 },
 "nbformat": 4,
 "nbformat_minor": 4
}
