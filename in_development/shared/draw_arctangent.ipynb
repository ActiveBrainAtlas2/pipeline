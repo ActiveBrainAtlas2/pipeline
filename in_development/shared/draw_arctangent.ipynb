{
 "cells": [
  {
   "cell_type": "code",
   "execution_count": 1,
   "metadata": {},
   "outputs": [],
   "source": [
    "import os, sys\n",
    "import numpy as np\n",
    "from matplotlib import pyplot as plt\n",
    "from scipy.ndimage.measurements import center_of_mass\n",
    "from functools import reduce\n",
    "import operator\n",
    "import math"
   ]
  },
  {
   "cell_type": "code",
   "execution_count": 2,
   "metadata": {},
   "outputs": [],
   "source": [
    "HOME = os.path.expanduser(\"~\")\n",
    "PATH = os.path.join(HOME, 'programming/pipeline_utility/src')\n",
    "sys.path.append(PATH)\n",
    "from lib.sqlcontroller import SqlController"
   ]
  },
  {
   "cell_type": "code",
   "execution_count": 71,
   "metadata": {},
   "outputs": [],
   "source": [
    "\n",
    "def sort_from_center(polygon):\n",
    "    '''\n",
    "    Get the center of the polygon and then use atan2 to get\n",
    "    the angle from the x-axis to the x,y point. Use that to sort.\n",
    "    :param polygon:\n",
    "    '''\n",
    "    center = tuple(map(operator.truediv, reduce(lambda x, y: map(operator.add, x, y), polygon), [len(polygon)] * 2))\n",
    "    return sorted(polygon, key=lambda coord: (math.atan2(*tuple(map(operator.sub, coord, center))[::-1]))), center\n",
    "\n",
    "def sort_from_center_np(polygon):\n",
    "    coords = np.array(polygon)\n",
    "    center = coords.mean(axis=0)\n",
    "    centered = coords - center\n",
    "    angles = -np.arctan2(centered[:,1], centered[:,0])\n",
    "    sorted_coords = coords[np.argsort(angles)]\n",
    "    return list(map(tuple, sorted_coords)), center\n",
    "\n",
    "def interpolate2d(points, new_len):\n",
    "    '''\n",
    "    Interpolates a list of tuples to the specified length. The points param\n",
    "    must be a list of tuples in 2d\n",
    "    :param points: list of floats\n",
    "    :param new_len: integer you want to interpolate to. This will be the new\n",
    "    length of the array\n",
    "    There can't be any consecutive identical points or an error will be thrown\n",
    "    unique_rows = np.unique(original_array, axis=0)\n",
    "    '''\n",
    "    points = np.array(points)\n",
    "    lastcolumn = np.round(points[:,-1])\n",
    "    z = mode(lastcolumn)\n",
    "    points2d = np.delete(points, -1, axis=1)\n",
    "    pu = points2d.astype(int)\n",
    "    indexes = np.unique(pu, axis=0, return_index=True)[1]\n",
    "    points = np.array([points2d[index] for index in sorted(indexes)])\n",
    "    addme = points2d[0].reshape(1, 2)\n",
    "    points2d = np.concatenate((points2d, addme), axis=0)\n",
    "\n",
    "    tck, u = splprep(points2d.T, u=None, s=3, per=1)\n",
    "    u_new = np.linspace(u.min(), u.max(), new_len)\n",
    "    x_array, y_array = splev(u_new, tck, der=0)\n",
    "    arr_2d = np.concatenate([x_array[:, None], y_array[:, None]], axis=1)\n",
    "    arr_3d = np.c_[ arr_2d, np.zeros(new_len)+z ] \n",
    "    return list(map(tuple, arr_3d))\n"
   ]
  },
  {
   "cell_type": "code",
   "execution_count": 4,
   "metadata": {},
   "outputs": [],
   "source": [
    "polygon = [(37755.692307692305, 10026.276923076923, 236), (36032.92307692308, 14735.692307692309, 236), (36109.53846153846, 16994.676923076924, 236), (42273.84615384615, 19253.661538461536, 236), (45260.307692307695, 19483.384615384617, 236), (45375.07692307692, 16726.64615384615, 236), (43881.846153846156, 12974.430769230768, 236), (40678.153846153844, 9906.984615384616, 236)]"
   ]
  },
  {
   "cell_type": "code",
   "execution_count": 72,
   "metadata": {},
   "outputs": [],
   "source": [
    "sorted_points1, center1 = sort_from_center(polygon)\n",
    "sorted_points2, center2 = sort_from_center_np(polygon)"
   ]
  },
  {
   "cell_type": "code",
   "execution_count": 73,
   "metadata": {},
   "outputs": [
    {
     "name": "stdout",
     "output_type": "stream",
     "text": [
      "[(36032.92307692308, 14735.692307692309, 236), (37755.692307692305, 10026.276923076923, 236), (40678.153846153844, 9906.984615384616, 236), (43881.846153846156, 12974.430769230768, 236), (45375.07692307692, 16726.64615384615, 236), (45260.307692307695, 19483.384615384617, 236), (42273.84615384615, 19253.661538461536, 236), (36109.53846153846, 16994.676923076924, 236)]\n"
     ]
    }
   ],
   "source": [
    "print(sorted_points1)"
   ]
  },
  {
   "cell_type": "code",
   "execution_count": 74,
   "metadata": {},
   "outputs": [
    {
     "name": "stdout",
     "output_type": "stream",
     "text": [
      "[(36109.53846153846, 16994.676923076924, 236.0), (42273.84615384615, 19253.661538461536, 236.0), (45260.307692307695, 19483.384615384617, 236.0), (45375.07692307692, 16726.64615384615, 236.0), (43881.846153846156, 12974.430769230768, 236.0), (40678.153846153844, 9906.984615384616, 236.0), (37755.692307692305, 10026.276923076923, 236.0), (36032.92307692308, 14735.692307692309, 236.0)]\n"
     ]
    }
   ],
   "source": [
    "print(sorted_points2)"
   ]
  },
  {
   "cell_type": "code",
   "execution_count": 16,
   "metadata": {},
   "outputs": [],
   "source": [
    "xs = sorted_points[:,0]\n",
    "ys = sorted_points[:,1]\n",
    "xus = unsorted_points[:,0]\n",
    "yus = unsorted_points[:,1]"
   ]
  },
  {
   "cell_type": "code",
   "execution_count": 37,
   "metadata": {},
   "outputs": [
    {
     "data": {
      "image/png": "[encoded data removed]",
      "text/plain": [
       "<Figure size 432x288 with 1 Axes>"
      ]
     },
     "metadata": {
      "needs_background": "light"
     },
     "output_type": "display_data"
    }
   ],
   "source": [
    "plt.scatter(x=center[0], y=center[1], s=200, c='r', label='Centroid')  # use this to plot a single point\n",
    "plt.scatter(x=xs, y=ys, c='b', s=75, label='Cerebellum')\n",
    "plt.legend()\n",
    "plt.show()"
   ]
  },
  {
   "cell_type": "code",
   "execution_count": 45,
   "metadata": {},
   "outputs": [
    {
     "name": "stdout",
     "output_type": "stream",
     "text": [
      "[37755.692307692305, 36032.92307692308, 36109.53846153846, 42273.84615384615, 45260.307692307695, 45375.07692307692, 43881.846153846156, 40678.153846153844]\n",
      "\n",
      "[10026.276923076923, 14735.692307692309, 16994.676923076924, 19253.661538461536, 19483.384615384617, 16726.64615384615, 12974.430769230768, 9906.984615384616]\n"
     ]
    }
   ],
   "source": [
    "print(x)\n",
    "print()\n",
    "print(y)"
   ]
  },
  {
   "cell_type": "code",
   "execution_count": 62,
   "metadata": {},
   "outputs": [
    {
     "name": "stdout",
     "output_type": "stream",
     "text": [
      "36032.92307692308 14735.692307692309 3.2437626466353495 0.05661433833699221\n",
      "37755.692307692305 10026.276923076923 57.59395312127523 1.0052041112055177\n",
      "40678.153846153844 9906.984615384616 87.27773081852074 1.5232837664525125\n",
      "43881.846153846156 12974.430769230768 145.45662016299488 2.5386969406670317\n",
      "45375.07692307692 16726.64615384615 201.04637235346237 -2.774264160421167\n",
      "45260.307692307695 19483.384615384617 225.85371562568054 -2.341294341648496\n",
      "42273.84615384615 19253.661538461536 252.3065509706101 -1.8796052683915452\n",
      "36109.53846153846 16994.676923076924 337.61172672358435 -0.39074908250971196\n"
     ]
    }
   ],
   "source": [
    "X = xs.tolist()\n",
    "Y = ys.tolist()\n",
    "\n",
    "for x,y in zip(X,Y):\n",
    "    y0 = center[1]\n",
    "    x0 = center[0]\n",
    "    \n",
    "    angle_degrees = math.degrees(math.atan2(y0 - y, x0 - x)) % 360\n",
    "    angle_radians = math.atan2(y0 - y, x0 - x)\n",
    "    print(x,y,angle_degrees, angle_radians)"
   ]
  },
  {
   "cell_type": "code",
   "execution_count": null,
   "metadata": {},
   "outputs": [],
   "source": []
  }
 ],
 "metadata": {
  "kernelspec": {
   "display_name": "Python 3",
   "language": "python",
   "name": "python3"
  },
  "language_info": {
   "codemirror_mode": {
    "name": "ipython",
    "version": 3
   },
   "file_extension": ".py",
   "mimetype": "text/x-python",
   "name": "python",
   "nbconvert_exporter": "python",
   "pygments_lexer": "ipython3",
   "version": "3.8.10"
  }
 },
 "nbformat": 4,
 "nbformat_minor": 1
}
