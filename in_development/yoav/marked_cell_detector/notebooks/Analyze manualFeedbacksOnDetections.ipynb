{
 "cells": [
  {
   "cell_type": "code",
   "execution_count": 1,
   "id": "66040be6",
   "metadata": {},
   "outputs": [
    {
     "name": "stdout",
     "output_type": "stream",
     "text": [
      "Populating the interactive namespace from numpy and matplotlib\n"
     ]
    }
   ],
   "source": [
    "import pandas as pd\n",
    "%pylab inline"
   ]
  },
  {
   "cell_type": "code",
   "execution_count": 2,
   "id": "e8647bef",
   "metadata": {
    "scrolled": true
   },
   "outputs": [
    {
     "name": "stdout",
     "output_type": "stream",
     "text": [
      "DK55_premotor_manual_2021-12-09.csv\r\n",
      "DK55_premotor_manual_negative_round1_2021-12-09.csv\r\n",
      "DK55_premotor_manual_positive_round1_2021-12-09.csv\r\n",
      "DK55_premotor_sure_detection_2021-12-09.csv\r\n",
      "DK55_premotor_unsure_detection_2021-12-09.csv\r\n"
     ]
    }
   ],
   "source": [
    "!ls ../data2/"
   ]
  },
  {
   "cell_type": "code",
   "execution_count": 47,
   "id": "688256ed",
   "metadata": {},
   "outputs": [
    {
     "data": {
      "text/plain": [
       "{'manual_train': '../data2/DK55_premotor_manual_2021-12-09.csv',\n",
       " 'manual_negative': '../data2/DK55_premotor_manual_positive_round1_2021-12-09.csv',\n",
       " 'computer_sure': '../data2/DK55_premotor_sure_detection_2021-12-09.csv',\n",
       " 'computer_unsure': '../data2/DK55_premotor_unsure_detection_2021-12-09.csv'}"
      ]
     },
     "execution_count": 47,
     "metadata": {},
     "output_type": "execute_result"
    }
   ],
   "source": [
    "file={'manual_train':'../data2/DK55_premotor_manual_2021-12-09.csv',\n",
    "      'manual_negative':'../data2/DK55_premotor_manual_negative_round1_2021-12-09.csv',\n",
    "      'manual_negative':'../data2/DK55_premotor_manual_positive_round1_2021-12-09.csv',\n",
    "      'computer_sure':'../data2/DK55_premotor_sure_detection_2021-12-09.csv',\n",
    "      'computer_unsure':'../data2/DK55_premotor_unsure_detection_2021-12-09.csv'\n",
    "     }\n",
    "file"
   ]
  },
  {
   "cell_type": "code",
   "execution_count": 51,
   "id": "b1633f2a",
   "metadata": {},
   "outputs": [],
   "source": [
    "dfs={}\n",
    "for name,path in file.items():\n",
    "    dfs[name]= pd.read_csv(path,header=None)\n",
    "    dfs[name]['name']=name"
   ]
  },
  {
   "cell_type": "code",
   "execution_count": 52,
   "id": "7e3715fc",
   "metadata": {},
   "outputs": [
    {
     "data": {
      "text/plain": [
       "dict_keys(['manual_train', 'manual_negative', 'computer_sure', 'computer_unsure'])"
      ]
     },
     "execution_count": 52,
     "metadata": {},
     "output_type": "execute_result"
    }
   ],
   "source": [
    "dfs.keys()"
   ]
  },
  {
   "cell_type": "code",
   "execution_count": 66,
   "id": "a047541a",
   "metadata": {},
   "outputs": [],
   "source": [
    "All=pd.concat([dfs[key] for key in dfs])"
   ]
  },
  {
   "cell_type": "code",
   "execution_count": 100,
   "id": "25d7e577",
   "metadata": {
    "scrolled": true
   },
   "outputs": [
    {
     "data": {
      "text/plain": [
       "((16449, 4),\n",
       " [('manual_train', (1912, 4)),\n",
       "  ('manual_negative', (893, 4)),\n",
       "  ('computer_sure', (12224, 4)),\n",
       "  ('computer_unsure', (1420, 4))])"
      ]
     },
     "execution_count": 100,
     "metadata": {},
     "output_type": "execute_result"
    }
   ],
   "source": [
    "All.shape,[(key,dfs[key].shape) for key in dfs]"
   ]
  },
  {
   "cell_type": "code",
   "execution_count": 101,
   "id": "5b0f7704",
   "metadata": {
    "scrolled": true
   },
   "outputs": [
    {
     "data": {
      "text/html": [
       "<div>\n",
       "<style scoped>\n",
       "    .dataframe tbody tr th:only-of-type {\n",
       "        vertical-align: middle;\n",
       "    }\n",
       "\n",
       "    .dataframe tbody tr th {\n",
       "        vertical-align: top;\n",
       "    }\n",
       "\n",
       "    .dataframe thead th {\n",
       "        text-align: right;\n",
       "    }\n",
       "</style>\n",
       "<table border=\"1\" class=\"dataframe\">\n",
       "  <thead>\n",
       "    <tr style=\"text-align: right;\">\n",
       "      <th></th>\n",
       "      <th>x</th>\n",
       "      <th>y</th>\n",
       "      <th>section</th>\n",
       "      <th>name</th>\n",
       "    </tr>\n",
       "  </thead>\n",
       "  <tbody>\n",
       "    <tr>\n",
       "      <th>0</th>\n",
       "      <td>36418.0</td>\n",
       "      <td>19700.0</td>\n",
       "      <td>124000.0</td>\n",
       "      <td>manual_train</td>\n",
       "    </tr>\n",
       "    <tr>\n",
       "      <th>1</th>\n",
       "      <td>36386.0</td>\n",
       "      <td>19514.0</td>\n",
       "      <td>124000.0</td>\n",
       "      <td>manual_train</td>\n",
       "    </tr>\n",
       "    <tr>\n",
       "      <th>2</th>\n",
       "      <td>41504.0</td>\n",
       "      <td>14066.0</td>\n",
       "      <td>128000.0</td>\n",
       "      <td>manual_train</td>\n",
       "    </tr>\n",
       "    <tr>\n",
       "      <th>3</th>\n",
       "      <td>41209.0</td>\n",
       "      <td>14259.0</td>\n",
       "      <td>136000.0</td>\n",
       "      <td>manual_train</td>\n",
       "    </tr>\n",
       "    <tr>\n",
       "      <th>4</th>\n",
       "      <td>41190.0</td>\n",
       "      <td>14322.0</td>\n",
       "      <td>136000.0</td>\n",
       "      <td>manual_train</td>\n",
       "    </tr>\n",
       "    <tr>\n",
       "      <th>...</th>\n",
       "      <td>...</td>\n",
       "      <td>...</td>\n",
       "      <td>...</td>\n",
       "      <td>...</td>\n",
       "    </tr>\n",
       "    <tr>\n",
       "      <th>1415</th>\n",
       "      <td>37287.0</td>\n",
       "      <td>15250.0</td>\n",
       "      <td>436000.0</td>\n",
       "      <td>computer_unsure</td>\n",
       "    </tr>\n",
       "    <tr>\n",
       "      <th>1416</th>\n",
       "      <td>35427.0</td>\n",
       "      <td>15080.0</td>\n",
       "      <td>440000.0</td>\n",
       "      <td>computer_unsure</td>\n",
       "    </tr>\n",
       "    <tr>\n",
       "      <th>1417</th>\n",
       "      <td>35920.0</td>\n",
       "      <td>15224.0</td>\n",
       "      <td>440000.0</td>\n",
       "      <td>computer_unsure</td>\n",
       "    </tr>\n",
       "    <tr>\n",
       "      <th>1418</th>\n",
       "      <td>32396.0</td>\n",
       "      <td>16101.0</td>\n",
       "      <td>453000.0</td>\n",
       "      <td>computer_unsure</td>\n",
       "    </tr>\n",
       "    <tr>\n",
       "      <th>1419</th>\n",
       "      <td>29002.0</td>\n",
       "      <td>12635.0</td>\n",
       "      <td>466000.0</td>\n",
       "      <td>computer_unsure</td>\n",
       "    </tr>\n",
       "  </tbody>\n",
       "</table>\n",
       "<p>16449 rows × 4 columns</p>\n",
       "</div>"
      ],
      "text/plain": [
       "            x        y   section             name\n",
       "0     36418.0  19700.0  124000.0     manual_train\n",
       "1     36386.0  19514.0  124000.0     manual_train\n",
       "2     41504.0  14066.0  128000.0     manual_train\n",
       "3     41209.0  14259.0  136000.0     manual_train\n",
       "4     41190.0  14322.0  136000.0     manual_train\n",
       "...       ...      ...       ...              ...\n",
       "1415  37287.0  15250.0  436000.0  computer_unsure\n",
       "1416  35427.0  15080.0  440000.0  computer_unsure\n",
       "1417  35920.0  15224.0  440000.0  computer_unsure\n",
       "1418  32396.0  16101.0  453000.0  computer_unsure\n",
       "1419  29002.0  12635.0  466000.0  computer_unsure\n",
       "\n",
       "[16449 rows x 4 columns]"
      ]
     },
     "execution_count": 101,
     "metadata": {},
     "output_type": "execute_result"
    }
   ],
   "source": [
    "All.columns=['x','y','section','name']\n",
    "All['x']=np.floor(All['x'])\n",
    "All['y']=np.floor(All['y'])\n",
    "All"
   ]
  },
  {
   "cell_type": "code",
   "execution_count": 102,
   "id": "e8181f09",
   "metadata": {},
   "outputs": [],
   "source": [
    "from scipy.spatial import distance_matrix"
   ]
  },
  {
   "cell_type": "code",
   "execution_count": 103,
   "id": "c9d09cc3",
   "metadata": {},
   "outputs": [],
   "source": [
    "Distances=distance_matrix(np.array(All.iloc[:,:3]),np.array(All.iloc[:,:3]))"
   ]
  },
  {
   "cell_type": "code",
   "execution_count": 104,
   "id": "5a9a0db1",
   "metadata": {},
   "outputs": [
    {
     "data": {
      "text/plain": [
       "(9116,)"
      ]
     },
     "execution_count": 104,
     "metadata": {},
     "output_type": "execute_result"
    }
   ],
   "source": [
    "small_distances=Distances[Distances<100]\n",
    "small_distances=small_distances[small_distances>0]\n",
    "small_distances.shape"
   ]
  },
  {
   "cell_type": "code",
   "execution_count": 105,
   "id": "1822eb39",
   "metadata": {},
   "outputs": [
    {
     "data": {
      "image/png": "[encoded data removed]",
      "text/plain": [
       "<Figure size 432x288 with 1 Axes>"
      ]
     },
     "metadata": {
      "needs_background": "light"
     },
     "output_type": "display_data"
    }
   ],
   "source": [
    "hist(small_distances,bins=1000);"
   ]
  },
  {
   "cell_type": "code",
   "execution_count": 106,
   "id": "d3bbf91b",
   "metadata": {},
   "outputs": [],
   "source": [
    "very_small=Distances<40"
   ]
  },
  {
   "cell_type": "code",
   "execution_count": 107,
   "id": "fce10987",
   "metadata": {},
   "outputs": [
    {
     "data": {
      "text/plain": [
       "(21785, 2)"
      ]
     },
     "execution_count": 107,
     "metadata": {},
     "output_type": "execute_result"
    }
   ],
   "source": [
    "pairs=np.transpose(np.nonzero(very_small))\n",
    "pairs.shape"
   ]
  },
  {
   "cell_type": "code",
   "execution_count": 108,
   "id": "256e99ab",
   "metadata": {},
   "outputs": [
    {
     "data": {
      "text/plain": [
       "(2668, 2)"
      ]
     },
     "execution_count": 108,
     "metadata": {},
     "output_type": "execute_result"
    }
   ],
   "source": [
    "pairs=pairs[pairs[:,0]< pairs[:,1],:]\n",
    "pairs.shape"
   ]
  },
  {
   "cell_type": "code",
   "execution_count": 138,
   "id": "307aa16d",
   "metadata": {},
   "outputs": [
    {
     "data": {
      "text/plain": [
       "(16449, 4)"
      ]
     },
     "execution_count": 138,
     "metadata": {},
     "output_type": "execute_result"
    }
   ],
   "source": [
    "All.shape"
   ]
  },
  {
   "cell_type": "code",
   "execution_count": 293,
   "id": "2421c19b",
   "metadata": {},
   "outputs": [],
   "source": [
    "names=list(All.iloc[:,-1])"
   ]
  },
  {
   "cell_type": "code",
   "execution_count": 294,
   "id": "adae7796",
   "metadata": {},
   "outputs": [],
   "source": [
    "def append_all(A,B):\n",
    "    for b in B:\n",
    "        if not b in A:\n",
    "            A.append(b)\n",
    "    B=A\n",
    "    return A,B"
   ]
  },
  {
   "cell_type": "code",
   "execution_count": 296,
   "id": "3b5b2400",
   "metadata": {
    "scrolled": false
   },
   "outputs": [
    {
     "name": "stdout",
     "output_type": "stream",
     "text": [
      "after 0 [0, 2852] 2852 [0, 2852]\n",
      "after 91 [91, 3217] 3217 [91, 3217]\n",
      "after 182 [182, 15134] 15134 [182, 15134]\n",
      "after 265 [265, 3650] 3650 [265, 3650]\n",
      "after 353 [353, 3982] 3982 [353, 3982]\n",
      "after 432 [432, 4357] 4357 [432, 4357]\n",
      "after 530 [530, 4710] 4710 [530, 4710]\n",
      "after 626 [626, 5149] 5149 [626, 5149]\n",
      "after 718 [718, 5217] 5217 [718, 5217]\n",
      "after 817 [817, 5602] 5602 [817, 5602]\n",
      "after 915 [915, 2451, 15489] 15489 [915, 2451, 15489]\n",
      "after 1015 [1015, 6072] 6072 [1015, 6072]\n",
      "after 1117 [1117, 6648] 6648 [1117, 6648]\n",
      "after 1215 [1215, 7086] 7086 [1215, 7086]\n",
      "after 1306 [1306, 1307] 1307 [1306, 1307]\n",
      "after 1395 [1395, 7541] 7541 [1395, 7541]\n",
      "after 1494 [1494, 7965] 7965 [1494, 7965]\n",
      "after 1595 [1595, 8414] 8414 [1595, 8414]\n",
      "after 1693 [1693, 8737] 8737 [1693, 8737]\n",
      "after 1797 [1797, 9260] 9260 [1797, 9260]\n",
      "after 1891 [1891, 9565] 9565 [1891, 9565]\n",
      "after 2018 [2018, 15165] 15165 [2018, 15165]\n",
      "after 2166 [2166, 4189] 4189 [2166, 4189]\n",
      "after 2325 [2325, 15376] 15376 [2325, 15376]\n",
      "after 2486 [2486, 15518] 15518 [2486, 15518]\n",
      "after 2647 [2647, 15620] 15620 [2647, 15620]\n",
      "after 2766 [2766, 15781] 15781 [2766, 15781]\n"
     ]
    }
   ],
   "source": [
    "sets={} #an indexed set of hashes\n",
    "for i in range(All.shape[0]):\n",
    "    sets[i]=[i]\n",
    "max_index=0\n",
    "len(sets)\n",
    "\n",
    "for i in range(pairs.shape[0]):\n",
    "    first,second=pairs[i]\n",
    "    #print('before',first,sets[first],second,sets[second],end='')\n",
    "    sets[first],sets[second]=append_all(sets[first],sets[second])\n",
    "    #print('after',first,sets[first],second,sets[second])\n",
    "    if i%100==0:\n",
    "        print('after',first,sets[first],second,sets[second])"
   ]
  },
  {
   "cell_type": "code",
   "execution_count": 297,
   "id": "20bd7b45",
   "metadata": {},
   "outputs": [
    {
     "name": "stdout",
     "output_type": "stream",
     "text": [
      "before removing duplicates 16449\n",
      "after removing duplicates 13955\n"
     ]
    }
   ],
   "source": [
    "#remove set duplicates\n",
    "\n",
    "print('before removing duplicates',len(sets))\n",
    "for i in range(len(sets)):\n",
    "    if not i in sets:\n",
    "        continue\n",
    "    for j in sets[i]:\n",
    "        if j != i and j in sets:\n",
    "            del sets[j]\n",
    "print('after removing duplicates',len(sets))"
   ]
  },
  {
   "cell_type": "code",
   "execution_count": 298,
   "id": "2817bacb",
   "metadata": {},
   "outputs": [],
   "source": [
    "L=[]\n",
    "for i in sets:\n",
    "    L.append((i,len(sets[i])))"
   ]
  },
  {
   "cell_type": "code",
   "execution_count": 299,
   "id": "40475a6a",
   "metadata": {},
   "outputs": [
    {
     "data": {
      "text/plain": [
       "188"
      ]
     },
     "execution_count": 299,
     "metadata": {},
     "output_type": "execute_result"
    }
   ],
   "source": [
    "argmax([x[1] for x in L])"
   ]
  },
  {
   "cell_type": "code",
   "execution_count": 300,
   "id": "37f7984d",
   "metadata": {},
   "outputs": [
    {
     "data": {
      "text/plain": [
       "(191, 7)"
      ]
     },
     "execution_count": 300,
     "metadata": {},
     "output_type": "execute_result"
    }
   ],
   "source": [
    "L[188]"
   ]
  },
  {
   "cell_type": "code",
   "execution_count": 301,
   "id": "240c91c5",
   "metadata": {},
   "outputs": [
    {
     "data": {
      "text/plain": [
       "[191, 192, 193, 1979, 3378, 15133, 1978]"
      ]
     },
     "execution_count": 301,
     "metadata": {},
     "output_type": "execute_result"
    }
   ],
   "source": [
    "sets[191]"
   ]
  },
  {
   "cell_type": "code",
   "execution_count": 302,
   "id": "d9df7abe",
   "metadata": {},
   "outputs": [],
   "source": [
    "set_names={}\n",
    "for i in sets:\n",
    "    set_names[i]=[names[j] for j in sets[i]]\n",
    "    "
   ]
  },
  {
   "cell_type": "code",
   "execution_count": 303,
   "id": "e514a19f",
   "metadata": {},
   "outputs": [
    {
     "data": {
      "text/plain": [
       "['manual_train',\n",
       " 'manual_train',\n",
       " 'manual_train',\n",
       " 'manual_negative',\n",
       " 'computer_sure',\n",
       " 'computer_unsure',\n",
       " 'manual_negative']"
      ]
     },
     "execution_count": 303,
     "metadata": {},
     "output_type": "execute_result"
    }
   ],
   "source": [
    "set_names[191]"
   ]
  },
  {
   "cell_type": "markdown",
   "id": "065796c9",
   "metadata": {},
   "source": [
    " * 'Computer Detected, Human Missed': 24,\n",
    " * 'Human mind change': 108,\n",
    " * 'total train': 1850"
   ]
  },
  {
   "cell_type": "code",
   "execution_count": 305,
   "id": "0cf5ec0d",
   "metadata": {},
   "outputs": [
    {
     "data": {
      "text/plain": [
       "array([124, 128, 136, 140, 144, 148, 152, 156, 160, 164, 168, 172, 176,\n",
       "       180, 184, 188, 192, 196, 200, 204, 208, 212, 216, 220, 224, 228,\n",
       "       232, 236, 240, 244, 248, 252])"
      ]
     },
     "execution_count": 305,
     "metadata": {},
     "output_type": "execute_result"
    }
   ],
   "source": [
    "#find sections used for training\n",
    "sections=[]\n",
    "for i in range(All.shape[0]):\n",
    "    if All.iloc[i,3]=='manual_train':\n",
    "        #print(int(All.iloc[i,2]))\n",
    "        sections.append(int(All.iloc[i,2]))\n",
    "sections=unique(sections)\n",
    "sections"
   ]
  },
  {
   "cell_type": "code",
   "execution_count": 308,
   "id": "9312244a",
   "metadata": {},
   "outputs": [
    {
     "data": {
      "text/plain": [
       "{'Computer Detected, Human Missed': 24,\n",
       " 'Human mind change': 108,\n",
       " 'total train': 1850}"
      ]
     },
     "execution_count": 308,
     "metadata": {},
     "output_type": "execute_result"
    }
   ],
   "source": [
    "# total number of cells in training set\n",
    "count=0\n",
    "for i in sets:\n",
    "        if 'manual_train' in set_names[i]:\n",
    "            count+=1\n",
    "train_sections['total train']=count\n",
    "train_sections"
   ]
  },
  {
   "cell_type": "code",
   "execution_count": 306,
   "id": "64684a86",
   "metadata": {},
   "outputs": [
    {
     "data": {
      "text/plain": [
       "{'Computer Detected, Human Missed': 24}"
      ]
     },
     "execution_count": 306,
     "metadata": {},
     "output_type": "execute_result"
    }
   ],
   "source": [
    "train_sections={}\n",
    "## Cells that seem to be missed by human but detected confidently by computer\n",
    "count=0\n",
    "for i in sets:\n",
    "    if int(All.iloc[i,2]) in sections:\n",
    "        if set_names[i]==['computer_sure']:\n",
    "            #print(sets[i],set_names[i])\n",
    "            count+=1\n",
    "train_sections['Computer Detected, Human Missed']=count\n",
    "train_sections"
   ]
  },
  {
   "cell_type": "code",
   "execution_count": 307,
   "id": "4307e57b",
   "metadata": {},
   "outputs": [
    {
     "data": {
      "text/plain": [
       "{'Computer Detected, Human Missed': 24, 'Human mind change': 108}"
      ]
     },
     "execution_count": 307,
     "metadata": {},
     "output_type": "execute_result"
    }
   ],
   "source": [
    "contra=[]\n",
    "count=0\n",
    "for i in sets:\n",
    "    if int(All.iloc[i,2]) in sections:\n",
    "        if 'manual_train' in set_names[i] and 'manual_negative' in set_names[i] and len(sets[i])==3:\n",
    "            #print(sets[i],set_names[i])\n",
    "            for j in sets[i]:\n",
    "                #print(list(All.iloc[j,0:3]))\n",
    "                contra.append(j)\n",
    "            count+=1\n",
    "train_sections['Human mind change']=count\n",
    "train_sections"
   ]
  },
  {
   "cell_type": "code",
   "execution_count": 288,
   "id": "149dcbe5",
   "metadata": {
    "scrolled": false
   },
   "outputs": [
    {
     "data": {
      "text/html": [
       "<div>\n",
       "<style scoped>\n",
       "    .dataframe tbody tr th:only-of-type {\n",
       "        vertical-align: middle;\n",
       "    }\n",
       "\n",
       "    .dataframe tbody tr th {\n",
       "        vertical-align: top;\n",
       "    }\n",
       "\n",
       "    .dataframe thead th {\n",
       "        text-align: right;\n",
       "    }\n",
       "</style>\n",
       "<table border=\"1\" class=\"dataframe\">\n",
       "  <thead>\n",
       "    <tr style=\"text-align: right;\">\n",
       "      <th></th>\n",
       "      <th>x</th>\n",
       "      <th>y</th>\n",
       "      <th>section</th>\n",
       "      <th>name</th>\n",
       "    </tr>\n",
       "  </thead>\n",
       "  <tbody>\n",
       "    <tr>\n",
       "      <th>45</th>\n",
       "      <td>38376.0</td>\n",
       "      <td>17871.0</td>\n",
       "      <td>152.0</td>\n",
       "      <td>manual_train</td>\n",
       "    </tr>\n",
       "    <tr>\n",
       "      <th>12</th>\n",
       "      <td>38371.0</td>\n",
       "      <td>17866.0</td>\n",
       "      <td>152.0</td>\n",
       "      <td>manual_negative</td>\n",
       "    </tr>\n",
       "    <tr>\n",
       "      <th>53</th>\n",
       "      <td>38371.0</td>\n",
       "      <td>17866.0</td>\n",
       "      <td>152.0</td>\n",
       "      <td>computer_unsure</td>\n",
       "    </tr>\n",
       "    <tr>\n",
       "      <th>46</th>\n",
       "      <td>37793.0</td>\n",
       "      <td>18425.0</td>\n",
       "      <td>152.0</td>\n",
       "      <td>manual_train</td>\n",
       "    </tr>\n",
       "    <tr>\n",
       "      <th>14</th>\n",
       "      <td>37782.0</td>\n",
       "      <td>18424.0</td>\n",
       "      <td>152.0</td>\n",
       "      <td>manual_negative</td>\n",
       "    </tr>\n",
       "    <tr>\n",
       "      <th>...</th>\n",
       "      <td>...</td>\n",
       "      <td>...</td>\n",
       "      <td>...</td>\n",
       "      <td>...</td>\n",
       "    </tr>\n",
       "    <tr>\n",
       "      <th>888</th>\n",
       "      <td>41611.0</td>\n",
       "      <td>21563.0</td>\n",
       "      <td>248.0</td>\n",
       "      <td>manual_negative</td>\n",
       "    </tr>\n",
       "    <tr>\n",
       "      <th>836</th>\n",
       "      <td>41566.0</td>\n",
       "      <td>21582.0</td>\n",
       "      <td>248.0</td>\n",
       "      <td>computer_unsure</td>\n",
       "    </tr>\n",
       "    <tr>\n",
       "      <th>1892</th>\n",
       "      <td>41014.0</td>\n",
       "      <td>19928.0</td>\n",
       "      <td>248.0</td>\n",
       "      <td>manual_train</td>\n",
       "    </tr>\n",
       "    <tr>\n",
       "      <th>889</th>\n",
       "      <td>41011.0</td>\n",
       "      <td>19926.0</td>\n",
       "      <td>248.0</td>\n",
       "      <td>manual_negative</td>\n",
       "    </tr>\n",
       "    <tr>\n",
       "      <th>834</th>\n",
       "      <td>41011.0</td>\n",
       "      <td>19926.0</td>\n",
       "      <td>248.0</td>\n",
       "      <td>computer_unsure</td>\n",
       "    </tr>\n",
       "  </tbody>\n",
       "</table>\n",
       "<p>324 rows × 4 columns</p>\n",
       "</div>"
      ],
      "text/plain": [
       "            x        y  section             name\n",
       "45    38376.0  17871.0    152.0     manual_train\n",
       "12    38371.0  17866.0    152.0  manual_negative\n",
       "53    38371.0  17866.0    152.0  computer_unsure\n",
       "46    37793.0  18425.0    152.0     manual_train\n",
       "14    37782.0  18424.0    152.0  manual_negative\n",
       "...       ...      ...      ...              ...\n",
       "888   41611.0  21563.0    248.0  manual_negative\n",
       "836   41566.0  21582.0    248.0  computer_unsure\n",
       "1892  41014.0  19928.0    248.0     manual_train\n",
       "889   41011.0  19926.0    248.0  manual_negative\n",
       "834   41011.0  19926.0    248.0  computer_unsure\n",
       "\n",
       "[324 rows x 4 columns]"
      ]
     },
     "execution_count": 288,
     "metadata": {},
     "output_type": "execute_result"
    }
   ],
   "source": [
    "All['section']/=1000\n",
    "All.iloc[contra,:]"
   ]
  },
  {
   "cell_type": "code",
   "execution_count": 291,
   "id": "88bc0604",
   "metadata": {},
   "outputs": [
    {
     "name": "stdout",
     "output_type": "stream",
     "text": [
      ",x,y,section,name\r\n",
      "45,38376.0,17871.0,152.0,manual_train\r\n",
      "12,38371.0,17866.0,152.0,manual_negative\r\n",
      "53,38371.0,17866.0,152.0,computer_unsure\r\n",
      "46,37793.0,18425.0,152.0,manual_train\r\n",
      "14,37782.0,18424.0,152.0,manual_negative\r\n",
      "56,37782.0,18424.0,152.0,computer_unsure\r\n",
      "48,38235.0,17952.0,152.0,manual_train\r\n",
      "15,38223.0,17966.0,152.0,manual_negative\r\n",
      "54,38223.0,17966.0,152.0,computer_unsure\r\n"
     ]
    }
   ],
   "source": [
    "All.iloc[contra,:].to_csv('contradictions.csv')\n",
    "!head contradictions.csv"
   ]
  },
  {
   "cell_type": "code",
   "execution_count": 309,
   "id": "6f223aeb",
   "metadata": {},
   "outputs": [],
   "source": [
    "count=0\n",
    "for i in sets:\n",
    "    if  'manual_negative' in set_names[i] and not 'manual_train' in set_names[i]:\n",
    "            #print(sets[i],set_names[i]) #,All.iloc[i,:])\n",
    "            count+=1"
   ]
  },
  {
   "cell_type": "code",
   "execution_count": 310,
   "id": "bfecaec0",
   "metadata": {},
   "outputs": [
    {
     "data": {
      "text/plain": [
       "694"
      ]
     },
     "execution_count": 310,
     "metadata": {},
     "output_type": "execute_result"
    }
   ],
   "source": [
    "\n",
    "count"
   ]
  },
  {
   "cell_type": "code",
   "execution_count": 268,
   "id": "5f62e012",
   "metadata": {
    "collapsed": true
   },
   "outputs": [
    {
     "name": "stdout",
     "output_type": "stream",
     "text": [
      "[3201] ['computer_sure'] x                37624.0\n",
      "y                18082.0\n",
      "section         160000.0\n",
      "name       computer_sure\n",
      "Name: 396, dtype: object\n",
      "[4703] ['computer_sure'] x                39011.0\n",
      "y                16500.0\n",
      "section         180000.0\n",
      "name       computer_sure\n",
      "Name: 1898, dtype: object\n",
      "[5146] ['computer_sure'] x                38875.0\n",
      "y                16486.0\n",
      "section         184000.0\n",
      "name       computer_sure\n",
      "Name: 2341, dtype: object\n",
      "[5175] ['computer_sure'] x                40559.0\n",
      "y                19878.0\n",
      "section         184000.0\n",
      "name       computer_sure\n",
      "Name: 2370, dtype: object\n",
      "[5180] ['computer_sure'] x                40504.0\n",
      "y                19886.0\n",
      "section         184000.0\n",
      "name       computer_sure\n",
      "Name: 2375, dtype: object\n",
      "[6008] ['computer_sure'] x                37827.0\n",
      "y                14251.0\n",
      "section         192000.0\n",
      "name       computer_sure\n",
      "Name: 3203, dtype: object\n",
      "[6012] ['computer_sure'] x                37432.0\n",
      "y                14756.0\n",
      "section         192000.0\n",
      "name       computer_sure\n",
      "Name: 3207, dtype: object\n",
      "[6014] ['computer_sure'] x                37912.0\n",
      "y                14898.0\n",
      "section         192000.0\n",
      "name       computer_sure\n",
      "Name: 3209, dtype: object\n",
      "[6036] ['computer_sure'] x                39448.0\n",
      "y                15990.0\n",
      "section         192000.0\n",
      "name       computer_sure\n",
      "Name: 3231, dtype: object\n",
      "[6083] ['computer_sure'] x                38188.0\n",
      "y                19736.0\n",
      "section         192000.0\n",
      "name       computer_sure\n",
      "Name: 3278, dtype: object\n",
      "[6102] ['computer_sure'] x                39868.0\n",
      "y                20300.0\n",
      "section         192000.0\n",
      "name       computer_sure\n",
      "Name: 3297, dtype: object\n",
      "[6116] ['computer_sure'] x                40092.0\n",
      "y                20718.0\n",
      "section         192000.0\n",
      "name       computer_sure\n",
      "Name: 3311, dtype: object\n",
      "[6138] ['computer_sure'] x                40000.0\n",
      "y                21221.0\n",
      "section         192000.0\n",
      "name       computer_sure\n",
      "Name: 3333, dtype: object\n",
      "[6594] ['computer_sure'] x                38319.0\n",
      "y                17472.0\n",
      "section         196000.0\n",
      "name       computer_sure\n",
      "Name: 3789, dtype: object\n",
      "[6645] ['computer_sure'] x                40548.0\n",
      "y                21176.0\n",
      "section         196000.0\n",
      "name       computer_sure\n",
      "Name: 3840, dtype: object\n",
      "[8016] ['computer_sure'] x                43179.0\n",
      "y                20804.0\n",
      "section         208000.0\n",
      "name       computer_sure\n",
      "Name: 5211, dtype: object\n",
      "[8479] ['computer_sure'] x                42596.0\n",
      "y                23132.0\n",
      "section         212000.0\n",
      "name       computer_sure\n",
      "Name: 5674, dtype: object\n",
      "[8759] ['computer_sure'] x                41613.0\n",
      "y                21760.0\n",
      "section         216000.0\n",
      "name       computer_sure\n",
      "Name: 5954, dtype: object\n",
      "[8941] ['computer_sure'] x                41859.0\n",
      "y                21646.0\n",
      "section         220000.0\n",
      "name       computer_sure\n",
      "Name: 6136, dtype: object\n",
      "[8947] ['computer_sure'] x                41791.0\n",
      "y                22861.0\n",
      "section         220000.0\n",
      "name       computer_sure\n",
      "Name: 6142, dtype: object\n",
      "[8948] ['computer_sure'] x                41742.0\n",
      "y                22724.0\n",
      "section         220000.0\n",
      "name       computer_sure\n",
      "Name: 6143, dtype: object\n",
      "[9162] ['computer_sure'] x                40668.0\n",
      "y                22322.0\n",
      "section         228000.0\n",
      "name       computer_sure\n",
      "Name: 6357, dtype: object\n",
      "[9264] ['computer_sure'] x                39724.0\n",
      "y                23153.0\n",
      "section         232000.0\n",
      "name       computer_sure\n",
      "Name: 6459, dtype: object\n",
      "[9555] ['computer_sure'] x                43313.0\n",
      "y                21206.0\n",
      "section         248000.0\n",
      "name       computer_sure\n",
      "Name: 6750, dtype: object\n"
     ]
    }
   ],
   "source": [
    "count=0\n",
    "for i in sets:\n",
    "    if int(All.iloc[i,2]) in sections:\n",
    "        if not 'manual_train' in set_names[i] and 'computer_sure' in set_names[i]:\n",
    "            print(sets[i],set_names[i],All.iloc[i,:])\n",
    "            count+=1"
   ]
  },
  {
   "cell_type": "code",
   "execution_count": 269,
   "id": "b27ea86e",
   "metadata": {},
   "outputs": [
    {
     "data": {
      "text/plain": [
       "24"
      ]
     },
     "execution_count": 269,
     "metadata": {},
     "output_type": "execute_result"
    }
   ],
   "source": [
    "## in manual sections: detected by computer_sure but not manually\n",
    "count"
   ]
  },
  {
   "cell_type": "code",
   "execution_count": 275,
   "id": "53f5b48c",
   "metadata": {},
   "outputs": [
    {
     "name": "stdout",
     "output_type": "stream",
     "text": [
      "[178, 1982, 3380] ['manual_train', 'manual_negative', 'computer_sure'] x               38381.0\n",
      "y               17490.0\n",
      "section        164000.0\n",
      "name       manual_train\n",
      "Name: 178, dtype: object\n",
      "[179, 1983, 3379] ['manual_train', 'manual_negative', 'computer_sure'] x               38452.0\n",
      "y               17476.0\n",
      "section        164000.0\n",
      "name       manual_train\n",
      "Name: 179, dtype: object\n",
      "[190, 1980, 3381] ['manual_train', 'manual_negative', 'computer_sure'] x               37610.0\n",
      "y               17528.0\n",
      "section        164000.0\n",
      "name       manual_train\n",
      "Name: 190, dtype: object\n",
      "[191, 192, 193, 1979, 3378, 15133, 1978] ['manual_train', 'manual_train', 'manual_train', 'manual_negative', 'computer_sure', 'computer_unsure', 'manual_negative'] x               37682.0\n",
      "y               17516.0\n",
      "section        164000.0\n",
      "name       manual_train\n",
      "Name: 191, dtype: object\n",
      "[279, 2034, 3651] ['manual_train', 'manual_negative', 'computer_sure'] x               38674.0\n",
      "y               17869.0\n",
      "section        168000.0\n",
      "name       manual_train\n",
      "Name: 279, dtype: object\n",
      "[307, 2124, 4001, 308, 2123] ['manual_train', 'manual_negative', 'computer_sure', 'manual_train', 'manual_negative'] x               42111.0\n",
      "y               19989.0\n",
      "section        172000.0\n",
      "name       manual_train\n",
      "Name: 307, dtype: object\n",
      "[331, 329, 330, 2120, 3979, 2121, 15231] ['manual_train', 'manual_train', 'manual_train', 'manual_negative', 'computer_sure', 'manual_negative', 'computer_unsure'] x               40544.0\n",
      "y               19676.0\n",
      "section        172000.0\n",
      "name       manual_train\n",
      "Name: 331, dtype: object\n",
      "[377, 378, 2103, 3964, 15222] ['manual_train', 'manual_train', 'manual_negative', 'computer_sure', 'computer_unsure'] x               37374.0\n",
      "y               17937.0\n",
      "section        172000.0\n",
      "name       manual_train\n",
      "Name: 377, dtype: object\n",
      "[379, 2104, 3963] ['manual_train', 'manual_negative', 'computer_sure'] x               37449.0\n",
      "y               17889.0\n",
      "section        172000.0\n",
      "name       manual_train\n",
      "Name: 379, dtype: object\n",
      "[384, 2094, 383, 2093, 3949] ['manual_train', 'manual_negative', 'manual_train', 'manual_negative', 'computer_sure'] x               37717.0\n",
      "y               17372.0\n",
      "section        172000.0\n",
      "name       manual_train\n",
      "Name: 384, dtype: object\n",
      "[391, 2100, 3961] ['manual_train', 'manual_negative', 'computer_sure'] x               37932.0\n",
      "y               17831.0\n",
      "section        172000.0\n",
      "name       manual_train\n",
      "Name: 391, dtype: object\n",
      "[392, 2101, 3959, 15221] ['manual_train', 'manual_negative', 'computer_sure', 'computer_unsure'] x               38010.0\n",
      "y               17803.0\n",
      "section        172000.0\n",
      "name       manual_train\n",
      "Name: 392, dtype: object\n",
      "[581, 2295, 4755, 582, 2296] ['manual_train', 'manual_negative', 'computer_sure', 'manual_train', 'manual_negative'] x               39905.0\n",
      "y               20031.0\n",
      "section        180000.0\n",
      "name       manual_train\n",
      "Name: 581, dtype: object\n",
      "[594, 2298, 4745, 595] ['manual_train', 'manual_negative', 'computer_sure', 'manual_train'] x               41085.0\n",
      "y               19829.0\n",
      "section        180000.0\n",
      "name       manual_train\n",
      "Name: 594, dtype: object\n",
      "[658, 657, 2349, 5223, 15396] ['manual_train', 'manual_train', 'manual_negative', 'computer_sure', 'computer_unsure'] x               40834.0\n",
      "y               21296.0\n",
      "section        184000.0\n",
      "name       manual_train\n",
      "Name: 658, dtype: object\n",
      "[944, 2461, 6143, 6147, 945, 2462] ['manual_train', 'manual_negative', 'computer_sure', 'computer_sure', 'manual_train', 'manual_negative'] x               39901.0\n",
      "y               21484.0\n",
      "section        192000.0\n",
      "name       manual_train\n",
      "Name: 944, dtype: object\n",
      "[1181, 2602, 7133] ['manual_train', 'manual_negative', 'computer_sure'] x               39914.0\n",
      "y               21430.0\n",
      "section        200000.0\n",
      "name       manual_train\n",
      "Name: 1181, dtype: object\n",
      "[1184, 2603, 7137, 1185] ['manual_train', 'manual_negative', 'computer_sure', 'manual_train'] x               40189.0\n",
      "y               21570.0\n",
      "section        200000.0\n",
      "name       manual_train\n",
      "Name: 1184, dtype: object\n",
      "[1199, 2596, 7120] ['manual_train', 'manual_negative', 'computer_sure'] x               42355.0\n",
      "y               21043.0\n",
      "section        200000.0\n",
      "name       manual_train\n",
      "Name: 1199, dtype: object\n",
      "[1248, 2593, 7070, 7072, 1249, 2594] ['manual_train', 'manual_negative', 'computer_sure', 'computer_sure', 'manual_train', 'manual_negative'] x               42207.0\n",
      "y               19942.0\n",
      "section        200000.0\n",
      "name       manual_train\n",
      "Name: 1248, dtype: object\n",
      "[1251, 2595, 1250, 7074] ['manual_train', 'manual_negative', 'manual_train', 'computer_sure'] x               42274.0\n",
      "y               20082.0\n",
      "section        200000.0\n",
      "name       manual_train\n",
      "Name: 1251, dtype: object\n",
      "[1332, 2636, 1331, 7574, 15630] ['manual_train', 'manual_negative', 'manual_train', 'computer_sure', 'computer_unsure'] x               41643.0\n",
      "y               21120.0\n",
      "section        204000.0\n",
      "name       manual_train\n",
      "Name: 1332, dtype: object\n",
      "[1451, 2676, 8020] ['manual_train', 'manual_negative', 'computer_sure'] x               43168.0\n",
      "y               20915.0\n",
      "section        208000.0\n",
      "name       manual_train\n",
      "Name: 1451, dtype: object\n",
      "[1512, 2681, 8019] ['manual_train', 'manual_negative', 'computer_sure'] x               41125.0\n",
      "y               20931.0\n",
      "section        208000.0\n",
      "name       manual_train\n",
      "Name: 1512, dtype: object\n"
     ]
    }
   ],
   "source": [
    "count=0\n",
    "for i in sets:\n",
    "    if int(All.iloc[i,2]) in sections:\n",
    "        if 'manual_negative' in set_names[i] and 'computer_sure' in set_names[i]:\n",
    "        #and len(set_names[i])==2:\n",
    "            print(sets[i],set_names[i],All.iloc[i,:])\n",
    "            count+=1"
   ]
  },
  {
   "cell_type": "code",
   "execution_count": 276,
   "id": "1437f8d0",
   "metadata": {},
   "outputs": [
    {
     "data": {
      "text/plain": [
       "24"
      ]
     },
     "execution_count": 276,
     "metadata": {},
     "output_type": "execute_result"
    }
   ],
   "source": [
    "count"
   ]
  },
  {
   "cell_type": "code",
   "execution_count": null,
   "id": "4e60d4c4",
   "metadata": {},
   "outputs": [],
   "source": []
  }
 ],
 "metadata": {
  "kernelspec": {
   "display_name": "Python 3 (ipykernel)",
   "language": "python",
   "name": "python3"
  },
  "language_info": {
   "codemirror_mode": {
    "name": "ipython",
    "version": 3
   },
   "file_extension": ".py",
   "mimetype": "text/x-python",
   "name": "python",
   "nbconvert_exporter": "python",
   "pygments_lexer": "ipython3",
   "version": "3.9.6"
  }
 },
 "nbformat": 4,
 "nbformat_minor": 5
}
