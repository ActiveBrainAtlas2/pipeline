{
 "cells": [
  {
   "cell_type": "code",
   "execution_count": 2,
   "metadata": {},
   "outputs": [
    {
     "name": "stdout",
     "output_type": "stream",
     "text": [
      "Connecting dklab@db.dk.ucsd.edu:3306\n"
     ]
    }
   ],
   "source": [
    "import os\n",
    "import sys\n",
    "import numpy as np\n",
    "\n",
    "sys.path.append(os.path.join(os.getcwd(), '../'))\n",
    "from utilities.sqlcontroller import SqlController\n",
    "\n",
    "animal = 'MD589'\n",
    "thumbnail = False\n",
    "downscale_factor = [1, 32][thumbnail]\n",
    "\n",
    "CSV_DIR_PATH = '/net/birdstore/Active_Atlas_Data/data_root/atlas_data/foundation_brain_annotations'\n",
    "IMAGE_DIR_PATH = f'/net/birdstore/Active_Atlas_Data/data_root/pipeline_data/{animal}/preps/CH1/{[\"full\", \"thumbnail\"][thumbnail]}'\n",
    "\n",
    "sqlController = SqlController(animal\n",
    "resolution = sqlController.scan_run.resolution * downscale_factor\n",
    "scales = np.array([resolution, resolution, 20]) * 1000\n",
    "aligned_shape = (np.array((sqlController.scan_run.width, sqlController.scan_run.height)) / downscale_factor).astype(int)\n",
    "num_section = len(os.listdir(IMAGE_DIR_PATH))\n",
    "\n",
    "DIR = os.path.join(os.path.expanduser('~'))\n",
    "vertices_path = os.path.join(DIR, f'{animal}_aligned_section_structure_vertices_{[\"full\", \"thumbnail\"][thumbnail]}.pickle')\n",
    "precompute_path = os.path.join(DIR, f'{animal}_annotations_{[\"full\", \"thumbnail\"][thumbnail]}')\n",
    "layer_type = 'segmentation'\n",
    "offset = (0, 0, 0)\n",
    "\n",
    "known_foundation_structures = ['MVePC', 'DTgP', 'VTA', 'Li', 'Op', 'Sp5C', 'RPC', 'MVeMC', 'APT', 'IPR', \n",
    "                               'Cb', 'pc', 'Amb', 'SolIM', 'Pr5VL', 'IPC', '8n', 'MPB', 'Pr5', 'SNR', \n",
    "                               'DRD', 'PBG', '10N', 'VTg', 'R', 'IF', 'RR', 'LDTg', '5TT', 'Bar', \n",
    "                               'Tz', 'IO', 'Cu', 'SuVe', '12N', '6N', 'PTg', 'Sp5I', 'SNC', 'MnR', \n",
    "                               'RtTg', 'Gr', 'ECu', 'DTgC', '4N', 'IPA', '3N', '7N', 'LC', '7n', \n",
    "                               'SC', 'LPB', 'EW', 'Pr5DM', 'VCA', '5N', 'Dk', 'DTg', 'LVe', 'SpVe', \n",
    "                               'MVe', 'LSO', 'InC', 'IC', 'Sp5O', 'DC', 'Pn', 'LRt', 'RMC', 'PF', \n",
    "                               'VCP', 'CnF', 'Sol', 'IPL', 'X', 'AP', 'MiTg', 'DRI', 'RPF', 'VLL']\n",
    "db_structures = sqlController.get_structures_dict()\n",
    "non_db_structures = [structure for structure in known_foundation_structures if structure not in db_structures.keys()]\n",
    "\n",
    "def get_structure_number(structure):\n",
    "    if structure in db_structures:\n",
    "        color = db_structures[structure][1]\n",
    "    elif structure in non_db_structures:\n",
    "        color = len(db_structures) + non_db_structures.index(structure) + 1\n",
    "    else:\n",
    "        color = 255\n",
    "    return color\n",
    "\n",
    "segmentation_properties = [(number, f'{structure}: {label}') for structure, (label, number, sided) in db_structures.items()]\n",
    "segmentation_properties += [(len(db_structures) + index + 1, structure) for index, structure in enumerate(non_db_structures)]"
   ]
  },
  {
   "cell_type": "code",
   "execution_count": 3,
   "metadata": {},
   "outputs": [
    {
     "name": "stderr",
     "output_type": "stream",
     "text": [
      "100%|██████████| 10/10 [00:19<00:00,  1.91s/it]\n"
     ]
    }
   ],
   "source": [
    "import pickle \n",
    "import cv2\n",
    "from tqdm import tqdm \n",
    "\n",
    "with open(vertices_path, 'rb') as file:\n",
    "    aligned_section_structure_vertices = pickle.load(file)\n",
    "        \n",
    "def draw_numpy(section_start, section_end):\n",
    "    volume = np.zeros((aligned_shape[1], aligned_shape[0], section_end - section_start), dtype=np.uint8)\n",
    "    for section in tqdm(range(section_start, section_end)):\n",
    "        if section in aligned_section_structure_vertices:\n",
    "            template = np.zeros((aligned_shape[1], aligned_shape[0]), dtype=np.uint8)\n",
    "            for structure in aligned_section_structure_vertices[section]:\n",
    "                points = aligned_section_structure_vertices[section][structure]\n",
    "\n",
    "                color = get_structure_number(structure)\n",
    "                cv2.polylines(template, [points.astype(np.int32)], True, color, 10)\n",
    "\n",
    "            volume[:, :, section - section_start - 1] = template\n",
    "        \n",
    "    volume = np.swapaxes(volume, 0, 1)\n",
    "    return volume\n",
    "\n",
    "# section_range = [0, num_section]\n",
    "section_range = [200, 210]\n",
    "volume = draw_numpy(section_range[0], section_range[1])"
   ]
  },
  {
   "cell_type": "code",
   "execution_count": 4,
   "metadata": {},
   "outputs": [],
   "source": [
    "from VolumeNeuroglancer import VolumeNeuroglancer\n",
    "\n",
    "NG_DIR_PATH = os.path.join('/net/birdstore/Active_Atlas_Data/data_root/pipeline_data/', animal, 'neuroglancer_data')\n",
    "# NG_DIR_PATH = os.path.expanduser('~') \n",
    "precompute_path = os.path.join(NG_DIR_PATH, f'{animal}_{[\"full\", \"thumbnail\"][thumbnail]}_annotations')\n",
    "layer_type = 'segmentation'\n",
    "\n",
    "def get_ranges(start, end, interval):\n",
    "    ranges = []\n",
    "    \n",
    "    cur = start\n",
    "    while cur + interval <= end:\n",
    "        next = cur + interval\n",
    "        ranges.append((cur, next))\n",
    "        cur = next\n",
    "    ranges.append((cur, end))\n",
    "    return ranges\n",
    "\n",
    "volume_ng = VolumeNeuroglancer(volume, scales, layer_type, parallel=False)\n",
    "volume_ng.init_precomputed(precompute_path, num_section=num_section)"
   ]
  },
  {
   "cell_type": "code",
   "execution_count": null,
   "metadata": {},
   "outputs": [
    {
     "name": "stderr",
     "output_type": "stream",
     "text": [
      "  0%|          | 0/7 [00:00<?, ?it/s]\n",
      "100%|██████████| 64/64 [00:00<00:00, 447392.43it/s]\n",
      " 14%|█▍        | 1/7 [21:17<2:07:42, 1277.02s/it]\n",
      "  0%|          | 0/64 [00:00<?, ?it/s]\u001b[A"
     ]
    }
   ],
   "source": [
    "for start, end in tqdm(get_ranges(0, num_section, 64)):\n",
    "    vol = draw_numpy(start, end)\n",
    "    volume_ng.append_volume(vol, start)"
   ]
  },
  {
   "cell_type": "code",
   "execution_count": null,
   "metadata": {},
   "outputs": [],
   "source": []
  }
 ],
 "metadata": {
  "kernelspec": {
   "display_name": "Python 3",
   "language": "python",
   "name": "python3"
  },
  "language_info": {
   "codemirror_mode": {
    "name": "ipython",
    "version": 3
   },
   "file_extension": ".py",
   "mimetype": "text/x-python",
   "name": "python",
   "nbconvert_exporter": "python",
   "pygments_lexer": "ipython3",
   "version": "3.6.9"
  }
 },
 "nbformat": 4,
 "nbformat_minor": 4
}
