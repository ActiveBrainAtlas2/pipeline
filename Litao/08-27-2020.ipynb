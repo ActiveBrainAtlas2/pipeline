{
 "cells": [
  {
   "cell_type": "code",
   "execution_count": 1,
   "metadata": {},
   "outputs": [
    {
     "name": "stdout",
     "output_type": "stream",
     "text": [
      "/home/eddyod/programming/pipeline_utility\n",
      "Connecting dklab@192.168.1.12:3306\n"
     ]
    }
   ],
   "source": [
    "# Add all annotated brains to the viewer\n",
<<<<<<< HEAD
    "import os, sys\n",
=======
    "from timeit import  default_timer as timer\n",
    "import os, sys\n",
    "\n",
>>>>>>> 8e8580f4a516815e4be478b4690c07c53196355f
    "import neuroglancer\n",
    "import numpy as np\n",
    "import pandas as pd\n",
    "import ast\n",
    "%load_ext autoreload\n",
    "%autoreload 2\n",
    "\n",
    "HOME = os.path.expanduser(\"~\")\n",
    "if os.path.exists(os.path.join(HOME, 'Projects/pipeline_utility')):\n",
    "    DIR = os.path.join(HOME, 'Projects/pipeline_utility')\n",
    "else:\n",
    "    DIR = os.path.join(HOME, 'programming/pipeline_utility')\n",
    "\n",
    "sys.path.append(DIR)\n",
    "print(DIR)\n",
    "from utilities.contour_utilities import get_contours_from_annotations, add_structure_to_neuroglancer, \\\n",
    "    create_full_volume, get_structure_colors\n",
    "from utilities.imported_atlas_utilities import get_structures"
   ]
  },
  {
   "cell_type": "code",
<<<<<<< HEAD
   "execution_count": 2,
=======
   "execution_count": 11,
>>>>>>> 8e8580f4a516815e4be478b4690c07c53196355f
   "metadata": {},
   "outputs": [],
   "source": [
    "xy_ng_resolution_um = 5\n",
    "color_radius = 3\n",
    "animal = 'MD589'\n",
    "#x_length = 1000\n",
    "#y_length = 750\n",
    "z_length = 1500\n",
    "\n",
    "#y_voxels = 1+int( y_length*0.46*(.46/xy_ng_resolution_um) + 0.5)\n",
    "#x_voxels = 1+int( x_length*0.46*(.46/xy_ng_resolution_um) + 0.5)\n",
    "#full_brain_volume_annotated = np.zeros((z_length,y_voxels,x_voxels), dtype=np.uint8)"
   ]
  },
  {
   "cell_type": "code",
<<<<<<< HEAD
   "execution_count": 4,
   "metadata": {},
   "outputs": [],
   "source": [
    "CSV_PATH = '/net/birdstore/Active_Atlas_Data/data_root/atlas_data/foundation_brain_annotations'\n",
    "csvfile = os.path.join(CSV_PATH, f'{animal}_annotation.csv')\n",
    "hand_annotations = pd.read_csv(csvfile)\n",
    "hand_annotations['vertices'] = hand_annotations['vertices'] \\\n",
    "    .apply(lambda x: x.replace(' ', ','))\\\n",
    "    .apply(lambda x: x.replace('\\n',','))\\\n",
    "    .apply(lambda x: x.replace(',]',']'))\\\n",
    "    .apply(lambda x: x.replace(',,', ','))\\\n",
    "    .apply(lambda x: x.replace(',,', ','))\\\n",
    "    .apply(lambda x: x.replace(',,', ',')).apply(lambda x: x.replace(',,', ','))\n",
    "\n",
=======
   "execution_count": 17,
   "metadata": {},
   "outputs": [],
   "source": [
    "#neuroglancer.set_server_bind_address(bind_port='33645')\n",
    "#viewer = neuroglancer.Viewer()\n",
    "csvfile = os.path.join(DIR, 'neuroglancer', 'contours', 'hand_annotations.csv')\n",
    "hand_annotations = pd.read_csv(csvfile)\n",
>>>>>>> 8e8580f4a516815e4be478b4690c07c53196355f
    "hand_annotations['vertices'] = hand_annotations['vertices'].apply(lambda x: ast.literal_eval(x))\n",
    "structures = get_structures()\n",
    "#\n",
    "structures_arr = hand_annotations.name.unique()\n",
    "annotation_structures = structures_arr.tolist()"
   ]
  },
  {
   "cell_type": "code",
<<<<<<< HEAD
   "execution_count": 11,
   "metadata": {},
   "outputs": [],
   "source": [
    "structures = [a for a in annotation_structures if a in structures]"
=======
   "execution_count": 23,
   "metadata": {},
   "outputs": [
    {
     "data": {
      "text/plain": [
       "['SC', 'IC', '12N', 'AP', 'RtTg']"
      ]
     },
     "execution_count": 23,
     "metadata": {},
     "output_type": "execute_result"
    }
   ],
   "source": [
    "[a for a in annotation_structures if a in structures]"
   ]
  },
  {
   "cell_type": "code",
   "execution_count": 22,
   "metadata": {},
   "outputs": [
    {
     "data": {
      "text/plain": [
       "['VCA',\n",
       " 'IO',\n",
       " 'LRt',\n",
       " 'SC',\n",
       " '7N',\n",
       " 'Sp5C',\n",
       " '8n',\n",
       " '7n',\n",
       " 'SuVe',\n",
       " 'LPB',\n",
       " 'SNR',\n",
       " '5N',\n",
       " 'VCP',\n",
       " 'IC',\n",
       " 'LC',\n",
       " 'X',\n",
       " 'DC',\n",
       " 'Sp5I',\n",
       " 'PBG',\n",
       " 'Sol',\n",
       " 'Dk',\n",
       " '12N',\n",
       " 'Tz',\n",
       " '10N',\n",
       " 'Sp5O',\n",
       " '3N',\n",
       " 'MPB',\n",
       " 'Pn',\n",
       " 'AP',\n",
       " 'Cb',\n",
       " 'SNC',\n",
       " 'RtTg',\n",
       " 'VLL',\n",
       " 'RMC',\n",
       " 'APT',\n",
       " '4N',\n",
       " 'Amb',\n",
       " 'IPR',\n",
       " 'VTA',\n",
       " 'IPA',\n",
       " 'Gr',\n",
       " 'RR',\n",
       " 'Pr5',\n",
       " '5TT',\n",
       " 'MVe',\n",
       " 'PF',\n",
       " '6N',\n",
       " 'Pr5DM',\n",
       " 'DRD',\n",
       " 'VTg',\n",
       " 'LSO',\n",
       " 'Pr5VL',\n",
       " 'DTgP',\n",
       " 'IF',\n",
       " 'LVe',\n",
       " 'RPC',\n",
       " 'IPC',\n",
       " 'Li',\n",
       " 'ECu',\n",
       " 'MiTg',\n",
       " 'RPF',\n",
       " 'EW',\n",
       " 'IPL',\n",
       " 'R',\n",
       " 'MnR']"
      ]
     },
     "execution_count": 22,
     "metadata": {},
     "output_type": "execute_result"
    }
   ],
   "source": [
    "annotation_structures"
>>>>>>> 8e8580f4a516815e4be478b4690c07c53196355f
   ]
  },
  {
   "cell_type": "code",
<<<<<<< HEAD
   "execution_count": 7,
=======
   "execution_count": 6,
>>>>>>> 8e8580f4a516815e4be478b4690c07c53196355f
   "metadata": {},
   "outputs": [],
   "source": [
    "colors = get_structure_colors()"
   ]
  },
  {
   "cell_type": "code",
<<<<<<< HEAD
   "execution_count": 14,
=======
   "execution_count": 27,
>>>>>>> 8e8580f4a516815e4be478b4690c07c53196355f
   "metadata": {},
   "outputs": [
    {
     "name": "stdout",
     "output_type": "stream",
     "text": [
<<<<<<< HEAD
      "SC 18\tSection start, end: 128 311\tX range 1466 3952\tY range 410 1577\tZ range 36 255\n",
      "IC 11\tSection start, end: 122 314\tX range 1507 4109\tY range 415 1685\tZ range 30 252\n",
      "12N 2\tSection start, end: 206 245\tX range 2476 5423\tY range 1095 2638\tZ range 114 267\n",
      "AP 9\tSection start, end: 215 230\tX range 2644 5533\tY range 1085 2478\tZ range 123 261\n",
      "RtTg 17\tSection start, end: 200 275\tX range 1752 4060\tY range 1163 2720\tZ range 108 291\n"
=======
      "Reset full brain volume shape: (1500, 3000, 8000)\n",
      "VCA 25\tSection start, end: 94 370\tX range 1348 3188\tY range 975 2365\tZ range 2 280\n",
      "IO 100\tSection start, end: 195 270\tX range 2002 4930\tY range 1298 3241\tZ range 103 281\n",
      "LRt 100\tSection start, end: 154 309\tX range 1997 4843\tY range 1289 3371\tZ range 62 279\n",
      "SC 18\tSection start, end: 128 311\tX range 1466 3952\tY range 410 1577\tZ range 36 255\n",
      "7N 7\tSection start, end: 152 317\tX range 1704 4235\tY range 1259 3163\tZ range 60 285\n",
      "Sp5C 100\tSection start, end: 125 325\tX range 2060 5188\tY range 1041 3050\tZ range 33 266\n",
      "8n 100\tSection start, end: 145 345\tX range 1486 3860\tY range 1053 2401\tZ range 53 306\n",
      "7n 100\tSection start, end: 148 318\tX range 1547 4016\tY range 1031 2761\tZ range 56 282\n",
      "SuVe 100\tSection start, end: 145 290\tX range 1842 4239\tY range 995 2388\tZ range 53 251\n",
      "LPB 100\tSection start, end: 145 310\tX range 1650 3985\tY range 867 2013\tZ range 53 271\n",
      "SNR 20\tSection start, end: 126 326\tX range 1208 3240\tY range 874 2431\tZ range 34 268\n",
      "5N 5\tSection start, end: 150 310\tX range 1541 3797\tY range 1054 2556\tZ range 58 276\n",
      "VCP 26\tSection start, end: 103 359\tX range 1515 3494\tY range 1055 2452\tZ range 11 278\n",
      "IC 11\tSection start, end: 122 314\tX range 1507 4109\tY range 415 1685\tZ range 30 252\n",
      "LC 12\tSection start, end: 175 274\tX range 1806 4234\tY range 953 2513\tZ range 83 265\n",
      "X 100\tSection start, end: 141 320\tX range 1773 4248\tY range 1083 2396\tZ range 49 277\n",
      "DC 10\tSection start, end: 104 355\tX range 1529 4050\tY range 939 2343\tZ range 12 275\n",
      "Sp5I 100\tSection start, end: 115 337\tX range 1870 4503\tY range 1090 2592\tZ range 23 268\n",
      "PBG 14\tSection start, end: 120 320\tX range 1473 3372\tY range 785 1799\tZ range 28 256\n",
      "Sol 100\tSection start, end: 180 290\tX range 2255 5184\tY range 1127 2619\tZ range 88 286\n",
      "Dk 100\tSection start, end: 215 230\tX range 1888 3938\tY range 779 1754\tZ range 123 261\n",
      "12N 2\tSection start, end: 206 245\tX range 2476 5423\tY range 1095 2638\tZ range 114 267\n",
      "Tz 100\tSection start, end: 200 275\tX range 1620 4029\tY range 1278 3105\tZ range 108 291\n",
      "10N 1\tSection start, end: 200 254\tX range 2493 5471\tY range 1110 2617\tZ range 108 270\n",
      "Sp5O 100\tSection start, end: 116 335\tX range 1608 4141\tY range 1101 2585\tZ range 24 267\n",
      "3N 3\tSection start, end: 211 237\tX range 2004 4305\tY range 805 1897\tZ range 119 264\n",
      "MPB 100\tSection start, end: 155 268\tX range 1967 4300\tY range 992 2099\tZ range 63 239\n",
      "Pn 100\tSection start, end: 175 295\tX range 1446 3650\tY range 1146 2950\tZ range 83 286\n",
      "AP 9\tSection start, end: 215 230\tX range 2644 5533\tY range 1085 2478\tZ range 123 261\n",
      "Cb 100\tSection start, end: 92 370\tX range 1333 4334\tY range 462 1816\tZ range 0 278\n",
      "SNC 19\tSection start, end: 145 312\tX range 1276 3232\tY range 954 2445\tZ range 53 273\n",
      "RtTg 17\tSection start, end: 200 275\tX range 1752 4060\tY range 1163 2720\tZ range 108 291\n",
      "VLL 27\tSection start, end: 131 323\tX range 1421 3479\tY range 804 2406\tZ range 39 270\n",
      "RMC 16\tSection start, end: 190 268\tX range 1501 3728\tY range 881 2211\tZ range 98 274\n",
      "APT 100\tSection start, end: 165 290\tX range 1545 3388\tY range 701 1786\tZ range 73 271\n",
      "4N 4\tSection start, end: 208 240\tX range 2008 4332\tY range 830 1917\tZ range 116 264\n",
      "Amb 100\tSection start, end: 164 299\tX range 2134 4609\tY range 1301 2993\tZ range 72 279\n",
      "IPR 100\tSection start, end: 225 235\tX range 1888 3932\tY range 1133 2412\tZ range 133 276\n",
      "VTA 100\tSection start, end: 200 211\tX range 1711 3823\tY range 969 2259\tZ range 108 227\n",
      "IPA 100\tSection start, end: 225 235\tX range 1951 4031\tY range 1134 2386\tZ range 133 276\n",
      "Gr 100\tSection start, end: 190 260\tX range 2425 5424\tY range 1146 2607\tZ range 98 266\n",
      "RR 100\tSection start, end: 155 310\tX range 1508 3502\tY range 914 2000\tZ range 63 281\n",
      "Pr5 100\tSection start, end: 122 335\tX range 1597 3668\tY range 1029 2407\tZ range 30 273\n",
      "5TT 100\tSection start, end: 150 150\tcould not broadcast input array from shape (0,45,105) into shape (58,45,105)\n",
      "Cutting out some slices on the edge of the structure\n",
      "New shape:  0 45 105\n"
     ]
    },
    {
     "ename": "ValueError",
     "evalue": "could not broadcast input array from shape (0,45,105) into shape (58,45,105)",
     "output_type": "error",
     "traceback": [
      "\u001b[0;31m---------------------------------------------------------------------------\u001b[0m",
      "\u001b[0;31mValueError\u001b[0m                                Traceback (most recent call last)",
      "\u001b[0;32m~/programming/pipeline_utility/utilities/contour_utilities.py\u001b[0m in \u001b[0;36mcreate_full_volume\u001b[0;34m(contour_annotations, structure, first_sec, last_sec, color_radius, xy_ng_resolution_um, threshold, color)\u001b[0m\n\u001b[1;32m    467\u001b[0m     \u001b[0;32mtry\u001b[0m\u001b[0;34m:\u001b[0m\u001b[0;34m\u001b[0m\u001b[0;34m\u001b[0m\u001b[0m\n\u001b[0;32m--> 468\u001b[0;31m         \u001b[0mbig_sparse_structure_volume\u001b[0m\u001b[0;34m[\u001b[0m\u001b[0;34m-\u001b[0m\u001b[0mz_voxels\u001b[0m\u001b[0;34m:\u001b[0m\u001b[0;34m,\u001b[0m \u001b[0;34m-\u001b[0m\u001b[0my_voxels\u001b[0m\u001b[0;34m:\u001b[0m\u001b[0;34m,\u001b[0m \u001b[0;34m-\u001b[0m\u001b[0mx_voxels\u001b[0m\u001b[0;34m:\u001b[0m\u001b[0;34m]\u001b[0m \u001b[0;34m=\u001b[0m \u001b[0mstructure_volume\u001b[0m\u001b[0;34m\u001b[0m\u001b[0;34m\u001b[0m\u001b[0m\n\u001b[0m\u001b[1;32m    469\u001b[0m     \u001b[0;31m# If part of the structure ends up being cut off due to cropping, retake the size of it\u001b[0m\u001b[0;34m\u001b[0m\u001b[0;34m\u001b[0m\u001b[0;34m\u001b[0m\u001b[0m\n",
      "\u001b[0;31mValueError\u001b[0m: could not broadcast input array from shape (0,45,105) into shape (58,45,105)",
      "\nDuring handling of the above exception, another exception occurred:\n",
      "\u001b[0;31mValueError\u001b[0m                                Traceback (most recent call last)",
      "\u001b[0;32m<ipython-input-27-b21a7ab54699>\u001b[0m in \u001b[0;36m<module>\u001b[0;34m\u001b[0m\n\u001b[1;32m     21\u001b[0m \u001b[0;34m\u001b[0m\u001b[0m\n\u001b[1;32m     22\u001b[0m     \u001b[0mthreshold\u001b[0m \u001b[0;34m=\u001b[0m \u001b[0;36m1\u001b[0m\u001b[0;34m\u001b[0m\u001b[0;34m\u001b[0m\u001b[0m\n\u001b[0;32m---> 23\u001b[0;31m     structure_volume, xyz_offsets = create_full_volume(contour_annotations, structure, first_sec, last_sec, \\\n\u001b[0m\u001b[1;32m     24\u001b[0m         color_radius, xy_ng_resolution_um, threshold, color)\n\u001b[1;32m     25\u001b[0m \u001b[0;34m\u001b[0m\u001b[0m\n",
      "\u001b[0;32m~/programming/pipeline_utility/utilities/contour_utilities.py\u001b[0m in \u001b[0;36mcreate_full_volume\u001b[0;34m(contour_annotations, structure, first_sec, last_sec, color_radius, xy_ng_resolution_um, threshold, color)\u001b[0m\n\u001b[1;32m    477\u001b[0m         \u001b[0mprint\u001b[0m\u001b[0;34m(\u001b[0m\u001b[0;34m'Cutting out some slices on the edge of the structure'\u001b[0m\u001b[0;34m)\u001b[0m\u001b[0;34m\u001b[0m\u001b[0;34m\u001b[0m\u001b[0m\n\u001b[1;32m    478\u001b[0m         \u001b[0mprint\u001b[0m\u001b[0;34m(\u001b[0m\u001b[0;34m'New shape: '\u001b[0m\u001b[0;34m,\u001b[0m \u001b[0mlow_end_z_len\u001b[0m\u001b[0;34m,\u001b[0m \u001b[0mlow_end_y_len\u001b[0m\u001b[0;34m,\u001b[0m \u001b[0mlow_end_x_len\u001b[0m\u001b[0;34m)\u001b[0m\u001b[0;34m\u001b[0m\u001b[0;34m\u001b[0m\u001b[0m\n\u001b[0;32m--> 479\u001b[0;31m         \u001b[0mbig_sparse_structure_volume\u001b[0m\u001b[0;34m[\u001b[0m\u001b[0;34m-\u001b[0m\u001b[0mlow_end_z_len\u001b[0m\u001b[0;34m:\u001b[0m\u001b[0;34m,\u001b[0m \u001b[0;34m-\u001b[0m\u001b[0mlow_end_y_len\u001b[0m\u001b[0;34m:\u001b[0m\u001b[0;34m,\u001b[0m \u001b[0;34m-\u001b[0m\u001b[0mlow_end_x_len\u001b[0m\u001b[0;34m:\u001b[0m\u001b[0;34m]\u001b[0m \u001b[0;34m=\u001b[0m\u001b[0;31m \u001b[0m\u001b[0;31m\\\u001b[0m\u001b[0;34m\u001b[0m\u001b[0;34m\u001b[0m\u001b[0m\n\u001b[0m\u001b[1;32m    480\u001b[0m             \u001b[0mstructure_volume\u001b[0m\u001b[0;34m[\u001b[0m\u001b[0;34m-\u001b[0m\u001b[0mlow_end_z_len\u001b[0m\u001b[0;34m:\u001b[0m\u001b[0;34m,\u001b[0m \u001b[0;34m-\u001b[0m\u001b[0mlow_end_y_len\u001b[0m\u001b[0;34m:\u001b[0m\u001b[0;34m,\u001b[0m \u001b[0;34m-\u001b[0m\u001b[0mlow_end_x_len\u001b[0m\u001b[0;34m:\u001b[0m\u001b[0;34m]\u001b[0m\u001b[0;34m\u001b[0m\u001b[0;34m\u001b[0m\u001b[0m\n\u001b[1;32m    481\u001b[0m         \u001b[0;31m# big_sparse_structure_volume[-str_new_voxels_zyx[0]:,-str_new_voxels_zyx[1]:,-str_new_voxels_zyx[2]:] = \\\u001b[0m\u001b[0;34m\u001b[0m\u001b[0;34m\u001b[0m\u001b[0;34m\u001b[0m\u001b[0m\n",
      "\u001b[0;31mValueError\u001b[0m: could not broadcast input array from shape (0,45,105) into shape (58,45,105)"
>>>>>>> 8e8580f4a516815e4be478b4690c07c53196355f
     ]
    }
   ],
   "source": [
    "#full_brain_volume_annotated = np.zeros((z_length,1500,3000), dtype=np.uint8)\n",
<<<<<<< HEAD
    "#print('Reset full brain volume shape:', full_brain_volume_annotated.shape)\n",
    "for structure in structures:\n",
=======
    "print('Reset full brain volume shape:', full_brain_volume_annotated.shape)\n",
    "for structure in annotation_structures:\n",
>>>>>>> 8e8580f4a516815e4be478b4690c07c53196355f
    "    try:\n",
    "        color = colors[structure.upper()]\n",
    "    except:\n",
    "        sided = '{}_R'.format(structure)\n",
    "        try:\n",
    "            color = colors[sided]\n",
    "        except:\n",
    "            color = 100\n",
    "\n",
    "    print(structure, color, end=\"\\t\")\n",
    "    contour_annotations, first_sec, last_sec = get_contours_from_annotations(animal, structure, hand_annotations, densify=4)\n",
    "    if first_sec == 0 or last_sec == 0:\n",
    "        print('No sections found')\n",
    "        continue\n",
    "    else:\n",
    "        print('Section start, end:' ,first_sec, last_sec, end=\"\\t\")\n",
    "        \n",
    "\n",
    "    threshold = 1\n",
    "    structure_volume, xyz_offsets = create_full_volume(contour_annotations, structure, first_sec, last_sec, \\\n",
    "        color_radius, xy_ng_resolution_um, threshold, color)\n",
    "    \n",
    "    x_start, y_start, z_start = xyz_offsets\n",
    "    x_end = x_start + structure_volume.shape[2]\n",
    "    y_end = y_start + structure_volume.shape[1]\n",
    "    z_end = z_start + structure_volume.shape[0]\n",
    "    print('X range', x_start, x_end, end=\"\\t\")\n",
    "    print('Y range', y_start, y_end, end=\"\\t\")\n",
    "    print('Z range', z_start, z_end)\n",
    "    #full_brain_volume_annotated[z_start:z_end, y_start:y_end,x_start:x_end] += structure_volume"
   ]
  },
  {
   "cell_type": "code",
<<<<<<< HEAD
   "execution_count": null,
   "metadata": {},
   "outputs": [],
=======
   "execution_count": 8,
   "metadata": {},
   "outputs": [
    {
     "data": {
      "text/html": [
       "<a href=\"http://127.0.0.1:36305/v/66eb91a0e582662677c076b34eee9c83a556b7b9/\" target=\"_blank\">Viewer</a>"
      ],
      "text/plain": [
       "http://127.0.0.1:36305/v/66eb91a0e582662677c076b34eee9c83a556b7b9/"
      ]
     },
     "execution_count": 8,
     "metadata": {},
     "output_type": "execute_result"
    }
   ],
>>>>>>> 8e8580f4a516815e4be478b4690c07c53196355f
   "source": [
    "viewer = neuroglancer.Viewer()\n",
    "viewer"
   ]
  },
  {
   "cell_type": "code",
<<<<<<< HEAD
   "execution_count": null,
=======
   "execution_count": 9,
>>>>>>> 8e8580f4a516815e4be478b4690c07c53196355f
   "metadata": {},
   "outputs": [],
   "source": [
    "all_volume_layer = neuroglancer.SegmentationLayer(\n",
    "    source = neuroglancer.LocalVolume(\n",
    "        data=full_brain_volume_annotated, \n",
    "        dimensions=neuroglancer.CoordinateSpace(names=['z', 'y', 'x'], units='um', scales=[20, 5, 5]), \n",
    "        voxel_offset=(0, 0, 0)\n",
    "    ),\n",
    ")\n",
    "\n",
    "with viewer.txn() as s:\n",
    "    s.layers.clear()\n",
    "    s.layers['all'] = all_volume_layer"
   ]
  },
  {
   "cell_type": "code",
   "execution_count": null,
   "metadata": {},
   "outputs": [],
   "source": [
    "\n",
    "OUTPUT = os.path.join('/net/birdstore/Active_Atlas_Data/data_root/CSHL_volumes', animal)\n",
    "outfile = os.path.join(OUTPUT, 'full_brain_volume_annotated.npy')\n",
    "print('full_brain_volume_annotated at', OUTPUT)\n",
    "np.save(outfile, np.ascontiguousarray(full_brain_volume_annotated))"
   ]
  }
 ],
 "metadata": {
  "kernelspec": {
   "display_name": "Python 3",
   "language": "python",
   "name": "python3"
  },
  "language_info": {
   "codemirror_mode": {
    "name": "ipython",
    "version": 3
   },
   "file_extension": ".py",
   "mimetype": "text/x-python",
   "name": "python",
   "nbconvert_exporter": "python",
   "pygments_lexer": "ipython3",
   "version": "3.8.2"
  }
 },
 "nbformat": 4,
 "nbformat_minor": 4
}
