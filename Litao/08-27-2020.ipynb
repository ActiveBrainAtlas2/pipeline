{
 "cells": [
  {
   "cell_type": "code",
   "execution_count": 1,
   "metadata": {},
   "outputs": [
    {
     "name": "stdout",
     "output_type": "stream",
     "text": [
      "/home/eddyod/programming/pipeline_utility\n",
      "Connecting dklab@192.168.1.12:3306\n"
     ]
    }
   ],
   "source": [
    "# Add all annotated brains to the viewer\n",
    "import os, sys\n",
    "import neuroglancer\n",
    "import numpy as np\n",
    "import pandas as pd\n",
    "import ast\n",
    "%load_ext autoreload\n",
    "%autoreload 2\n",
    "\n",
    "HOME = os.path.expanduser(\"~\")\n",
    "if os.path.exists(os.path.join(HOME, 'Projects/pipeline_utility')):\n",
    "    DIR = os.path.join(HOME, 'Projects/pipeline_utility')\n",
    "else:\n",
    "    DIR = os.path.join(HOME, 'programming/pipeline_utility')\n",
    "\n",
    "sys.path.append(DIR)\n",
    "print(DIR)\n",
    "from utilities.contour_utilities import get_contours_from_annotations, add_structure_to_neuroglancer, \\\n",
    "    create_full_volume, get_structure_colors\n",
    "from utilities.imported_atlas_utilities import get_structures"
   ]
  },
  {
   "cell_type": "code",
   "execution_count": 2,
   "metadata": {},
   "outputs": [],
   "source": [
    "xy_ng_resolution_um = 5\n",
    "color_radius = 3\n",
    "animal = 'MD589'\n",
    "#x_length = 1000\n",
    "#y_length = 750\n",
    "z_length = 1500\n",
    "\n",
    "#y_voxels = 1+int( y_length*0.46*(.46/xy_ng_resolution_um) + 0.5)\n",
    "#x_voxels = 1+int( x_length*0.46*(.46/xy_ng_resolution_um) + 0.5)\n",
    "#full_brain_volume_annotated = np.zeros((z_length,y_voxels,x_voxels), dtype=np.uint8)"
   ]
  },
  {
   "cell_type": "code",
   "execution_count": 4,
   "metadata": {},
   "outputs": [],
   "source": [
    "CSV_PATH = '/net/birdstore/Active_Atlas_Data/data_root/atlas_data/foundation_brain_annotations'\n",
    "csvfile = os.path.join(CSV_PATH, f'{animal}_annotation.csv')\n",
    "hand_annotations = pd.read_csv(csvfile)\n",
    "hand_annotations['vertices'] = hand_annotations['vertices'] \\\n",
    "    .apply(lambda x: x.replace(' ', ','))\\\n",
    "    .apply(lambda x: x.replace('\\n',','))\\\n",
    "    .apply(lambda x: x.replace(',]',']'))\\\n",
    "    .apply(lambda x: x.replace(',,', ','))\\\n",
    "    .apply(lambda x: x.replace(',,', ','))\\\n",
    "    .apply(lambda x: x.replace(',,', ',')).apply(lambda x: x.replace(',,', ','))\n",
    "\n",
    "hand_annotations['vertices'] = hand_annotations['vertices'].apply(lambda x: ast.literal_eval(x))\n",
    "structures = get_structures()\n",
    "#\n",
    "structures_arr = hand_annotations.name.unique()\n",
    "annotation_structures = structures_arr.tolist()"
   ]
  },
  {
   "cell_type": "code",
   "execution_count": 11,
   "metadata": {},
   "outputs": [],
   "source": [
    "structures = [a for a in annotation_structures if a in structures]"
   ]
  },
  {
   "cell_type": "code",
   "execution_count": 7,
   "metadata": {},
   "outputs": [],
   "source": [
    "colors = get_structure_colors()"
   ]
  },
  {
   "cell_type": "code",
   "execution_count": 14,
   "metadata": {},
   "outputs": [
    {
     "name": "stdout",
     "output_type": "stream",
     "text": [
      "SC 18\tSection start, end: 128 311\tX range 1466 3952\tY range 410 1577\tZ range 36 255\n",
      "IC 11\tSection start, end: 122 314\tX range 1507 4109\tY range 415 1685\tZ range 30 252\n",
      "12N 2\tSection start, end: 206 245\tX range 2476 5423\tY range 1095 2638\tZ range 114 267\n",
      "AP 9\tSection start, end: 215 230\tX range 2644 5533\tY range 1085 2478\tZ range 123 261\n",
      "RtTg 17\tSection start, end: 200 275\tX range 1752 4060\tY range 1163 2720\tZ range 108 291\n"
     ]
    }
   ],
   "source": [
    "#full_brain_volume_annotated = np.zeros((z_length,1500,3000), dtype=np.uint8)\n",
    "#print('Reset full brain volume shape:', full_brain_volume_annotated.shape)\n",
    "for structure in structures:\n",
    "    try:\n",
    "        color = colors[structure.upper()]\n",
    "    except:\n",
    "        sided = '{}_R'.format(structure)\n",
    "        try:\n",
    "            color = colors[sided]\n",
    "        except:\n",
    "            color = 100\n",
    "\n",
    "    print(structure, color, end=\"\\t\")\n",
    "    contour_annotations, first_sec, last_sec = get_contours_from_annotations(animal, structure, hand_annotations, densify=4)\n",
    "    if first_sec == 0 or last_sec == 0:\n",
    "        print('No sections found')\n",
    "        continue\n",
    "    else:\n",
    "        print('Section start, end:' ,first_sec, last_sec, end=\"\\t\")\n",
    "        \n",
    "\n",
    "    threshold = 1\n",
    "    structure_volume, xyz_offsets = create_full_volume(contour_annotations, structure, first_sec, last_sec, \\\n",
    "        color_radius, xy_ng_resolution_um, threshold, color)\n",
    "    \n",
    "    x_start, y_start, z_start = xyz_offsets\n",
    "    x_end = x_start + structure_volume.shape[2]\n",
    "    y_end = y_start + structure_volume.shape[1]\n",
    "    z_end = z_start + structure_volume.shape[0]\n",
    "    print('X range', x_start, x_end, end=\"\\t\")\n",
    "    print('Y range', y_start, y_end, end=\"\\t\")\n",
    "    print('Z range', z_start, z_end)\n",
    "    #full_brain_volume_annotated[z_start:z_end, y_start:y_end,x_start:x_end] += structure_volume"
   ]
  },
  {
   "cell_type": "code",
   "execution_count": null,
   "metadata": {},
   "outputs": [],
   "source": [
    "viewer = neuroglancer.Viewer()\n",
    "viewer"
   ]
  },
  {
   "cell_type": "code",
   "execution_count": null,
   "metadata": {},
   "outputs": [],
   "source": [
    "all_volume_layer = neuroglancer.SegmentationLayer(\n",
    "    source = neuroglancer.LocalVolume(\n",
    "        data=full_brain_volume_annotated, \n",
    "        dimensions=neuroglancer.CoordinateSpace(names=['z', 'y', 'x'], units='um', scales=[20, 5, 5]), \n",
    "        voxel_offset=(0, 0, 0)\n",
    "    ),\n",
    ")\n",
    "\n",
    "with viewer.txn() as s:\n",
    "    s.layers.clear()\n",
    "    s.layers['all'] = all_volume_layer"
   ]
  },
  {
   "cell_type": "code",
   "execution_count": null,
   "metadata": {},
   "outputs": [],
   "source": [
    "\n",
    "OUTPUT = os.path.join('/net/birdstore/Active_Atlas_Data/data_root/CSHL_volumes', animal)\n",
    "outfile = os.path.join(OUTPUT, 'full_brain_volume_annotated.npy')\n",
    "print('full_brain_volume_annotated at', OUTPUT)\n",
    "np.save(outfile, np.ascontiguousarray(full_brain_volume_annotated))"
   ]
  }
 ],
 "metadata": {
  "kernelspec": {
   "display_name": "Python 3",
   "language": "python",
   "name": "python3"
  },
  "language_info": {
   "codemirror_mode": {
    "name": "ipython",
    "version": 3
   },
   "file_extension": ".py",
   "mimetype": "text/x-python",
   "name": "python",
   "nbconvert_exporter": "python",
   "pygments_lexer": "ipython3",
   "version": "3.8.2"
  }
 },
 "nbformat": 4,
 "nbformat_minor": 4
}
