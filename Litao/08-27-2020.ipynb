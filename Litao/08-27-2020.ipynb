{
 "cells": [
  {
   "cell_type": "code",
   "execution_count": 1,
   "metadata": {},
   "outputs": [
    {
     "name": "stdout",
     "output_type": "stream",
     "text": [
      "/home/sherry/Projects/pipeline_utility\n",
      "Connecting dklab@db.dk.ucsd.edu:3306\n"
     ]
    }
   ],
   "source": [
    "# Add all annotated brains to the viewer\n",
    "from timeit import  default_timer as timer\n",
    "import os, sys\n",
    "\n",
    "import neuroglancer\n",
    "import numpy as np\n",
    "import pandas as pd\n",
    "import ast\n",
    "\n",
    "\n",
    "HOME = os.path.expanduser(\"~\")\n",
    "DIR = os.path.join(HOME, 'Projects/pipeline_utility')\n",
    "sys.path.append(DIR)\n",
    "print(DIR)\n",
    "from utilities.contour_utilities import get_contours_from_annotations, add_structure_to_neuroglancer, \\\n",
    "    create_full_volume, get_structure_colors\n",
    "from utilities.imported_atlas_utilities import get_all_structures"
   ]
  },
  {
   "cell_type": "code",
   "execution_count": 2,
   "metadata": {},
   "outputs": [
    {
     "name": "stdout",
     "output_type": "stream",
     "text": [
      "full brain volume shape: (268, 3000, 5000)\n"
     ]
    }
   ],
   "source": [
    "xy_ng_resolution_um = 5\n",
    "color_radius = 3\n",
    "animal = 'MD589'\n",
    "# MD585: x_um = 35617,           y_um = 26086\n",
    "# MD585: x_pixels_.46res = x_um*0.46,  y_pixels_.46res = y_um*0.46\n",
    "# MD585: x_pixels_newres = x_pixels_.46res*(0.46/newres), y_pixels_newres = y_pixels_.46res*(0.46/newres)\n",
    "# microns/resolution\n",
    "# width = 43700\n",
    "# height = 32400\n",
    "# INPUT = '/net/birdstore/Active_Atlas_Data/data_root/pipeline_data/{}/preps/CH1/thumbnail'.format(animal)\n",
    "# zdim = len(os.listdir(INPUT))\n",
    "#y_voxels = 1 + int(height * 0.46 * (.46 / xy_ng_resolution_um) + 0.5)\n",
    "#x_voxels = 1 + int(width * 0.46 * (.46 / xy_ng_resolution_um) + 0.5)\n",
    "#full_brain_volume_annotated = np.zeros((zdim, y_voxels, x_voxels), dtype=np.uint8)\n",
    "width = 35617 # original value\n",
    "height = 26086 # original value\n",
    "y_voxels = 1+int( height*0.46*(.46/xy_ng_resolution_um) + 0.5)\n",
    "x_voxels = 1+int( width*0.46*(.46/xy_ng_resolution_um) + 0.5)\n",
    "full_brain_volume_annotated = np.zeros((268,y_voxels,x_voxels), dtype=np.uint8)\n",
    "full_brain_volume_annotated = np.zeros((268,3000,5000), dtype=np.uint8)\n",
    "print('full brain volume shape:', full_brain_volume_annotated.shape)"
   ]
  },
  {
   "cell_type": "code",
   "execution_count": 3,
   "metadata": {},
   "outputs": [],
   "source": [
    "#neuroglancer.set_server_bind_address(bind_port='33645')\n",
    "#viewer = neuroglancer.Viewer()\n",
    "csvfile = os.path.join(DIR, 'neuroglancer', 'contours', 'hand_annotations.csv')\n",
    "hand_annotations = pd.read_csv(csvfile)\n",
    "hand_annotations['vertices'] = hand_annotations['vertices'].apply(lambda x: ast.literal_eval(x))\n",
    "all_structures = get_all_structures()\n",
    "#\n",
    "structures_arr = hand_annotations.name.unique()\n",
    "structures = structures_arr.tolist()\n",
    "#print(all_structures)\n",
    "#structure_color = {'SC': 18, 'IC': 11, 'SNR': 20}\n",
    "#structure_color = {'SC': 18, 'IC': 11, 'SNR': 20}\n",
    "structures = [s.upper() for s in all_structures]"
   ]
  },
  {
   "cell_type": "code",
   "execution_count": 4,
   "metadata": {},
   "outputs": [],
   "source": [
    "colors = get_structure_colors()"
   ]
  },
  {
   "cell_type": "code",
   "execution_count": 5,
   "metadata": {},
   "outputs": [
    {
     "name": "stdout",
     "output_type": "stream",
     "text": [
      "SC 18\tIC 11\tSp5O_L 23\tkeys: Sp5O_L 0\n",
      "Sp5O_R 23\tkeys: Sp5O_R 0\n"
     ]
    }
   ],
   "source": [
    "structures = ['SC', 'IC', 'Sp5O_L', 'Sp5O_R']\n",
    "for structure in structures:\n",
    "    try:\n",
    "        color = colors[structure.upper()]\n",
    "    except:\n",
    "        sided = '{}_R'.format(structure)\n",
    "        color = colors[sided]\n",
    "\n",
    "    print(structure, color, end=\"\\t\")\n",
    "    contour_annotations, first_sec, last_sec = get_contours_from_annotations(animal, structure, hand_annotations, densify=4)\n",
    "    if first_sec == 0 or last_sec == 0:\n",
    "        continue\n",
    "\n",
    "    threshold = 1\n",
    "    structure_volume, xyz_offsets = create_full_volume(contour_annotations, structure, first_sec, last_sec, \\\n",
    "        color_radius, xy_ng_resolution_um, threshold, color)\n",
    "    \n",
    "    x_start, y_start, z_start = xyz_offsets\n",
    "    x_end = x_start + structure_volume.shape[2]\n",
    "    y_end = y_start + structure_volume.shape[1]\n",
    "    z_end = z_start + structure_volume.shape[0]\n",
    "    full_brain_volume_annotated[z_start:z_end, y_start:y_end,x_start:x_end] += structure_volume"
   ]
  },
  {
   "cell_type": "code",
   "execution_count": 6,
   "metadata": {},
   "outputs": [
    {
     "data": {
      "text/html": [
       "<a href=\"http://127.0.0.1:43663/v/27f93208dc55f9d7b5b5a5153c24f661a7d56578/\" target=\"_blank\">Viewer</a>"
      ],
      "text/plain": [
       "http://127.0.0.1:43663/v/27f93208dc55f9d7b5b5a5153c24f661a7d56578/"
      ]
     },
     "execution_count": 6,
     "metadata": {},
     "output_type": "execute_result"
    }
   ],
   "source": [
    "viewer = neuroglancer.Viewer()\n",
    "viewer"
   ]
  },
  {
   "cell_type": "code",
   "execution_count": 7,
   "metadata": {},
   "outputs": [],
   "source": [
    "all_volume_layer = neuroglancer.SegmentationLayer(\n",
    "    source = neuroglancer.LocalVolume(\n",
    "        data=full_brain_volume_annotated, \n",
    "        dimensions=neuroglancer.CoordinateSpace(names=['z', 'y', 'x'], units='um', scales=[20, 5, 5]), \n",
    "        voxel_offset=(0, 0, 0)\n",
    "    ),\n",
    ")\n",
    "\n",
    "with viewer.txn() as s:\n",
    "    s.layers.clear()\n",
    "    s.layers['all'] = all_volume_layer"
   ]
  },
  {
   "cell_type": "code",
   "execution_count": null,
   "metadata": {},
   "outputs": [],
   "source": [
    "\n",
    "OUTPUT = os.path.join('/net/birdstore/Active_Atlas_Data/data_root/CSHL_volumes', animal)\n",
    "outfile = os.path.join(OUTPUT, 'full_brain_volume_annotated.npy')\n",
    "print('full_brain_volume_annotated at', OUTPUT)\n",
    "np.save(outfile, np.ascontiguousarray(full_brain_volume_annotated))"
   ]
  }
 ],
 "metadata": {
  "kernelspec": {
   "display_name": "Python 3",
   "language": "python",
   "name": "python3"
  },
  "language_info": {
   "codemirror_mode": {
    "name": "ipython",
    "version": 3
   },
   "file_extension": ".py",
   "mimetype": "text/x-python",
   "name": "python",
   "nbconvert_exporter": "python",
   "pygments_lexer": "ipython3",
   "version": "3.8.2"
  }
 },
 "nbformat": 4,
 "nbformat_minor": 4
}
