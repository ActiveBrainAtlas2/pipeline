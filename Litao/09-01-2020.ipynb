{
 "cells": [
  {
   "cell_type": "code",
   "execution_count": 8,
   "metadata": {},
   "outputs": [],
   "source": [
    "import numpy\n",
    "import os\n",
    "\n",
    "DIR = os.path.expanduser(\"~\")\n",
    "animal = 'MD589'\n",
    "\n",
    "volume_path = os.path.join(DIR, f'{animal}_annotations.npy')\n",
    "with open(volume_path, 'rb') as file:\n",
    "    volume = numpy.load(file)"
   ]
  },
  {
   "cell_type": "code",
   "execution_count": 9,
   "metadata": {
    "scrolled": true
   },
   "outputs": [
    {
     "name": "stderr",
     "output_type": "stream",
     "text": [
      "Uploading: 100%|██████████| 2464/2464 [00:13<00:00, 182.79it/s]\n"
     ]
    }
   ],
   "source": [
    "from cloudvolume import CloudVolume\n",
    "\n",
    "precompute_path = os.path.join(DIR, f'{animal}_annotations')\n",
    "cloudpath = f'file://{precompute_path}'\n",
    "info = CloudVolume.create_new_info(\n",
    "    num_channels = 1,\n",
    "    layer_type = 'segmentation',\n",
    "    data_type = str(volume.dtype), # Channel images might be 'uint8'\n",
    "    encoding = 'raw', # raw, jpeg, compressed_segmentation, fpzip, kempressed\n",
    "    resolution = [14464, 14464, 20000], # Voxel scaling, units are in nanometers\n",
    "    voxel_offset = [0, 0, 0], # x,y,z offset in voxels from the origin\n",
    "    chunk_size = [128, 128, 16], # units are voxels\n",
    "    volume_size = volume.shape, # e.g. a cubic millimeter dataset\n",
    ")\n",
    "vol = CloudVolume(cloudpath, mip=0, info=info, compress=False)\n",
    "vol.commit_info()\n",
    "vol[:, :, :] = volume[:, :, :]"
   ]
  },
  {
   "cell_type": "code",
   "execution_count": 10,
   "metadata": {},
   "outputs": [
    {
     "name": "stderr",
     "output_type": "stream",
     "text": [
      "\r",
      "Tasks:   0%|          | 0/1039 [00:00<?, ?it/s]"
     ]
    },
    {
     "name": "stdout",
     "output_type": "stream",
     "text": [
      "Volume Bounds:  Bbox([0, 0, 0],[1365, 1012, 447], dtype=int32)\n",
      "Selected ROI:   Bbox([0, 0, 0],[1365, 1012, 447], dtype=int32)\n"
     ]
    },
    {
     "name": "stderr",
     "output_type": "stream",
     "text": [
      "Tasks: 100%|██████████| 1039/1039 [00:38<00:00, 26.86it/s]\n"
     ]
    }
   ],
   "source": [
    "from taskqueue import LocalTaskQueue\n",
    "import igneous.task_creation as tc\n",
    "\n",
    "tq = LocalTaskQueue(parallel=4)\n",
    "tasks = tc.create_downsampling_tasks(cloudpath)\n",
    "tq.insert(tasks)\n",
    "tasks = tc.create_meshing_tasks(cloudpath, mip=0, compress=False)\n",
    "tq.insert(tasks)\n",
    "tasks = tc.create_mesh_manifest_tasks(cloudpath)\n",
    "tq.insert(tasks)\n",
    "tq.execute(progress=True)"
   ]
  },
  {
   "cell_type": "code",
   "execution_count": null,
   "metadata": {},
   "outputs": [],
   "source": []
  }
 ],
 "metadata": {
  "kernelspec": {
   "display_name": "Python 3",
   "language": "python",
   "name": "python3"
  },
  "language_info": {
   "codemirror_mode": {
    "name": "ipython",
    "version": 3
   },
   "file_extension": ".py",
   "mimetype": "text/x-python",
   "name": "python",
   "nbconvert_exporter": "python",
   "pygments_lexer": "ipython3",
   "version": "3.6.9"
  }
 },
 "nbformat": 4,
 "nbformat_minor": 4
}
