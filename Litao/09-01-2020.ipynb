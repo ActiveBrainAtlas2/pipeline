{
 "cells": [
  {
   "cell_type": "code",
   "execution_count": 5,
   "metadata": {},
   "outputs": [],
   "source": [
    "import numpy as np\n",
    "import os\n",
    "\n",
    "DIR = os.path.join(os.path.expanduser('~'))\n",
    "animal = 'MD589_kui'\n",
    "volume_path = os.path.join(DIR, f'{animal}_annotations.npy')\n",
    "\n",
    "# Numpy array whose shape should match (x, y, z)\n",
    "with open(volume_path, 'rb') as file:\n",
    "    volume = np.load(file)\n",
    "volume = np.swapaxes(volume, 0, 1)\n",
    "\n",
    "# Voxel resolution in nanometer (how much nanometer each element in numpy array represent)\n",
    "resol = (14464, 14464, 20000)\n",
    "\n",
    "# Voxel offset\n",
    "offset = (0, 0, 0)\n",
    "\n",
    "# Layer type\n",
    "layer_type = ['segmentation'][0]"
   ]
  },
  {
   "cell_type": "code",
   "execution_count": 6,
   "metadata": {},
   "outputs": [
    {
     "name": "stdout",
     "output_type": "stream",
     "text": [
      "http://127.0.0.1:46663/v/424c8c1e4dd1ce71c45d23f85a0f1c11e9412923/\n"
     ]
    }
   ],
   "source": [
    "# Run this cell if you want to preview the numpy array before converting to precomputed format\n",
    "import neuroglancer\n",
    "viewer = neuroglancer.Viewer()\n",
    "print(viewer)\n",
    "\n",
    "all_volume_layer = neuroglancer.SegmentationLayer(\n",
    "    source = neuroglancer.LocalVolume(\n",
    "        data=volume, \n",
    "        dimensions=neuroglancer.CoordinateSpace(names=['x', 'y', 'z'], units='nm', scales=resol), \n",
    "        voxel_offset=offset\n",
    "    ),\n",
    ")\n",
    "\n",
    "with viewer.txn() as s:\n",
    "    s.layers.clear()\n",
    "    s.layers['all'] = all_volume_layer"
   ]
  },
  {
   "cell_type": "code",
   "execution_count": 7,
   "metadata": {
    "scrolled": true
   },
   "outputs": [
    {
     "name": "stderr",
     "output_type": "stream",
     "text": [
      "Uploading: 100%|██████████| 2464/2464 [00:13<00:00, 179.55it/s]\n"
     ]
    }
   ],
   "source": [
    "# https://github.com/seung-lab/cloud-volume\n",
    "from cloudvolume import CloudVolume\n",
    "\n",
    "precompute_path = os.path.join(DIR, f'{animal}_annotations')\n",
    "cloudpath = f'file://{precompute_path}'\n",
    "info = CloudVolume.create_new_info(\n",
    "    num_channels = 1,\n",
    "    layer_type = layer_type,\n",
    "    data_type = str(volume.dtype), # Channel images might be 'uint8'\n",
    "    encoding = 'raw', # raw, jpeg, compressed_segmentation, fpzip, kempressed\n",
    "    resolution = resol, # Voxel scaling, units are in nanometers\n",
    "    voxel_offset = offset, # x,y,z offset in voxels from the origin\n",
    "    chunk_size = [128, 128, 16], # units are voxels\n",
    "    volume_size = volume.shape, # e.g. a cubic millimeter dataset\n",
    ")\n",
    "vol = CloudVolume(cloudpath, mip=0, info=info, compress=False)\n",
    "vol.info['segment_properties'] = 'names'\n",
    "vol.commit_info()\n",
    "vol[:, :, :] = volume[:, :, :]"
   ]
  },
  {
   "cell_type": "code",
   "execution_count": 8,
   "metadata": {},
   "outputs": [
    {
     "name": "stderr",
     "output_type": "stream",
     "text": [
      "\r",
      "Tasks:   0%|          | 0/1039 [00:00<?, ?it/s]"
     ]
    },
    {
     "name": "stdout",
     "output_type": "stream",
     "text": [
      "Volume Bounds:  Bbox([0, 0, 0],[1365, 1012, 447], dtype=int32)\n",
      "Selected ROI:   Bbox([0, 0, 0],[1365, 1012, 447], dtype=int32)\n"
     ]
    },
    {
     "name": "stderr",
     "output_type": "stream",
     "text": [
      "Tasks: 100%|██████████| 1039/1039 [01:03<00:00, 16.45it/s]\n"
     ]
    }
   ],
   "source": [
    "# https://github.com/seung-lab/igneous\n",
    "from taskqueue import LocalTaskQueue\n",
    "import igneous.task_creation as tc\n",
    "\n",
    "tq = LocalTaskQueue(parallel=4)\n",
    "tasks = tc.create_downsampling_tasks(cloudpath, compress=False)\n",
    "tq.insert(tasks)\n",
    "tasks = tc.create_meshing_tasks(cloudpath, mip=0, compress=False)\n",
    "tq.insert(tasks)\n",
    "tasks = tc.create_mesh_manifest_tasks(cloudpath)\n",
    "tq.insert(tasks)\n",
    "tq.execute(progress=True)"
   ]
  },
  {
   "cell_type": "code",
   "execution_count": null,
   "metadata": {},
   "outputs": [],
   "source": []
  }
 ],
 "metadata": {
  "kernelspec": {
   "display_name": "Python 3",
   "language": "python",
   "name": "python3"
  },
  "language_info": {
   "codemirror_mode": {
    "name": "ipython",
    "version": 3
   },
   "file_extension": ".py",
   "mimetype": "text/x-python",
   "name": "python",
   "nbconvert_exporter": "python",
   "pygments_lexer": "ipython3",
   "version": "3.6.9"
  }
 },
 "nbformat": 4,
 "nbformat_minor": 4
}
