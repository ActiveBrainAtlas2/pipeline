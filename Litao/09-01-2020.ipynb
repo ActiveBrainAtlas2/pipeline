{
 "cells": [
  {
   "cell_type": "code",
   "execution_count": 4,
   "metadata": {},
   "outputs": [],
   "source": [
    "import os\n",
    "import numpy as np\n",
    "from skimage import io\n",
    "\n",
    "DIR = '/net/birdstore/Active_Atlas_Data/data_root/pipeline_data/MD589/preps/CH1/thumbnail_aligned'\n",
    "volume = []\n",
    "for filename in sorted(os.listdir(DIR)):\n",
    "    filepath = os.path.join(DIR, filename)\n",
    "    volume.append(io.imread(filepath))\n",
    "volume = np.array(volume)\n",
    "volume = np.swapaxes(volume, 0, 2)\n",
    "\n",
    "# Precomputed folder path\n",
    "precompute_path = os.path.join(os.path.expanduser('~'), f'image_test')\n",
    "\n",
    "# Voxel resolution in nanometer (how much nanometer each element in numpy array represent)\n",
    "resol = (14464, 14464, 20000)\n",
    "\n",
    "# Voxel offset\n",
    "offset = (0, 0, 0)\n",
    "\n",
    "# Layer type\n",
    "layer_type = 'image'\n",
    "\n",
    "# number of channels \n",
    "num_channels = 3"
   ]
  },
  {
   "cell_type": "code",
   "execution_count": 7,
   "metadata": {},
   "outputs": [
    {
     "name": "stdout",
     "output_type": "stream",
     "text": [
      "(1193, 875, 446)\n"
     ]
    }
   ],
   "source": [
    "import os\n",
    "import sys\n",
    "import numpy as np\n",
    "sys.path.append(os.path.join(os.getcwd(), '../'))\n",
    "from utilities.sqlcontroller import SqlController\n",
    "\n",
    "DIR = os.path.join('./')\n",
    "animal = 'MD585'\n",
    "volume_path = os.path.join(DIR, f'{animal}_annotations.npy')\n",
    "\n",
    "# Numpy array whose shape should match (x, y, z, channel)\n",
    "with open(volume_path, 'rb') as file:\n",
    "    volume = np.load(file)\n",
    "# volume = np.swapaxes(volume, 0, 1)\n",
    "print(volume.shape)\n",
    "\n",
    "# Precomputed folder path\n",
    "precompute_path = os.path.join(DIR, f'{animal}_annotations')\n",
    "\n",
    "# Voxel resolution in nanometer (how much nanometer each element in numpy array represent)\n",
    "resol = (14464, 14464, 20000)\n",
    "\n",
    "# Voxel offset\n",
    "offset = (0, 0, 0)\n",
    "\n",
    "# Layer type\n",
    "layer_type = 'segmentation'\n",
    "\n",
    "# number of channels \n",
    "num_channels = 1\n",
    "\n",
    "# segmentation properties in the format of [(number1, label1), (number2, label2) ...]\n",
    "# where number is an integer that is in the volume and label is a string that describes that segmenetation\n",
    "sqlController = SqlController('MD589')\n",
    "db_structures = sqlController.get_structures_dict()\n",
    "\n",
    "segmentation_properties = [(number, f'{structure}: {label}') for structure, (label, number) in db_structures.items()]\n",
    "extra_structures = ['Pr5', 'VTg', 'DRD', 'IF', 'MPB', 'Op', 'RPC', 'LSO', 'MVe', 'CnF', \n",
    "                    'pc', 'DTgC', 'LPB', 'Pr5DM', 'DTgP', 'RMC', 'VTA', 'IPC', 'DRI', 'LDTg', \n",
    "                    'IPA', 'PTg', 'DTg', 'IPL', 'SuVe', 'Sol', 'IPR', '8n', 'Dk', 'IO', \n",
    "                    'Cb', 'Pr5VL', 'APT', 'Gr', 'RR', 'InC', 'X', 'EW']\n",
    "segmentation_properties += [(len(db_structures) + index + 1, structure) for index, structure in enumerate(extra_structures)]"
   ]
  },
  {
   "cell_type": "code",
   "execution_count": 8,
   "metadata": {},
   "outputs": [
    {
     "name": "stdout",
     "output_type": "stream",
     "text": [
      "http://127.0.0.1:40865/v/d8be9d6fdab1c8bec02b27e6d5f5740b5b583a8a/\n"
     ]
    }
   ],
   "source": [
    "# Run this cell if you want to preview the numpy array before converting to precomputed format\n",
    "import neuroglancer\n",
    "viewer = neuroglancer.Viewer()\n",
    "print(viewer)\n",
    "\n",
    "all_volume_layer = neuroglancer.SegmentationLayer(\n",
    "    source = neuroglancer.LocalVolume(\n",
    "        data=volume, \n",
    "        dimensions=neuroglancer.CoordinateSpace(names=['x', 'y', 'z'], units='nm', scales=resol), \n",
    "        voxel_offset=offset\n",
    "    ),\n",
    ")\n",
    "\n",
    "with viewer.txn() as s:\n",
    "    s.layers.clear()\n",
    "    s.layers['all'] = all_volume_layer"
   ]
  },
  {
   "cell_type": "code",
   "execution_count": 9,
   "metadata": {
    "scrolled": true
   },
   "outputs": [
    {
     "name": "stderr",
     "output_type": "stream",
     "text": [
      "Uploading: 100%|██████████| 1862/1862 [00:09<00:00, 189.63it/s]\n"
     ]
    }
   ],
   "source": [
    "# https://github.com/seung-lab/cloud-volume\n",
    "# Don't change all compress=False. It seems that Neuroglancer can only read with compress=False\n",
    "from cloudvolume import CloudVolume\n",
    "\n",
    "cloudpath = f'file://{precompute_path}'\n",
    "info = CloudVolume.create_new_info(\n",
    "    num_channels = num_channels,\n",
    "    layer_type = layer_type,\n",
    "    data_type = str(volume.dtype), # Channel images might be 'uint8'\n",
    "    encoding = 'raw', # raw, jpeg, compressed_segmentation, fpzip, kempressed\n",
    "    resolution = resol, # Voxel scaling, units are in nanometers\n",
    "    voxel_offset = offset, # x,y,z offset in voxels from the origin\n",
    "    chunk_size = [64, 64, 64], # units are voxels\n",
    "    volume_size = volume.shape, # e.g. a cubic millimeter dataset\n",
    ")\n",
    "vol = CloudVolume(cloudpath, mip=0, info=info, compress=False)\n",
    "vol.commit_info()\n",
    "vol[:, :, :] = volume[:, :, :]"
   ]
  },
  {
   "cell_type": "code",
   "execution_count": 10,
   "metadata": {},
   "outputs": [],
   "source": [
    "import json\n",
    "\n",
    "vol.info['segment_properties'] = 'names'\n",
    "vol.commit_info()\n",
    "\n",
    "segment_properties_path = os.path.join(precompute_path, 'names')\n",
    "os.makedirs(segment_properties_path, exist_ok=True)\n",
    "\n",
    "info = {\n",
    "    \"@type\": \"neuroglancer_segment_properties\", \n",
    "    \"inline\": {\n",
    "        \"ids\": [str(number) for number, label in segmentation_properties],\n",
    "        \"properties\": [{\n",
    "            \"id\": \"label\", \n",
    "            \"description\": \"Name of structures\",\n",
    "            \"type\": \"label\",\n",
    "            \"values\": [str(label) for number, label in segmentation_properties]\n",
    "        }]\n",
    "    }\n",
    "}\n",
    "with open(os.path.join(segment_properties_path, 'info'), 'w') as file:\n",
    "    json.dump(info, file, indent=2)"
   ]
  },
  {
   "cell_type": "code",
   "execution_count": 11,
   "metadata": {},
   "outputs": [
    {
     "name": "stderr",
     "output_type": "stream",
     "text": [
      "\r",
      "Tasks:   0%|          | 0/7 [00:00<?, ?it/s]"
     ]
    },
    {
     "name": "stdout",
     "output_type": "stream",
     "text": [
      "Volume Bounds:  Bbox([0, 0, 0],[1193, 875, 446], dtype=int32)\n",
      "Selected ROI:   Bbox([0, 0, 0],[1193, 875, 446], dtype=int32)\n"
     ]
    },
    {
     "name": "stderr",
     "output_type": "stream",
     "text": [
      "Tasks: 100%|██████████| 7/7 [00:03<00:00,  1.80it/s]\n"
     ]
    }
   ],
   "source": [
    "# https://github.com/seung-lab/igneous\n",
    "from taskqueue import LocalTaskQueue\n",
    "import igneous.task_creation as tc\n",
    "\n",
    "tq = LocalTaskQueue(parallel=True)\n",
    "tasks = tc.create_downsampling_tasks(cloudpath, compress=False) # Downsample the volumes \n",
    "tq.insert(tasks)\n",
    "tq.execute()"
   ]
  },
  {
   "cell_type": "code",
   "execution_count": null,
   "metadata": {},
   "outputs": [
    {
     "name": "stderr",
     "output_type": "stream",
     "text": [
      "Tasks:  17%|█▋        | 1/6 [00:01<00:07,  1.52s/it]"
     ]
    }
   ],
   "source": [
    "tasks = tc.create_meshing_tasks(cloudpath, mip=0, compress=False) # The first phase of creating mesh\n",
    "tq.insert(tasks)\n",
    "tq.execute()\n",
    "\n",
    "# It should be able to incoporated to above cell, but it will give a weird bug. Don't know the reason\n",
    "tasks = tc.create_mesh_manifest_tasks(cloudpath) # The second phase of creating mesh\n",
    "tq.insert(tasks)\n",
    "tq.execute()"
   ]
  },
  {
   "cell_type": "code",
   "execution_count": null,
   "metadata": {},
   "outputs": [],
   "source": []
  }
 ],
 "metadata": {
  "kernelspec": {
   "display_name": "Python 3",
   "language": "python",
   "name": "python3"
  },
  "language_info": {
   "codemirror_mode": {
    "name": "ipython",
    "version": 3
   },
   "file_extension": ".py",
   "mimetype": "text/x-python",
   "name": "python",
   "nbconvert_exporter": "python",
   "pygments_lexer": "ipython3",
   "version": "3.8.2"
  }
 },
 "nbformat": 4,
 "nbformat_minor": 4
}
