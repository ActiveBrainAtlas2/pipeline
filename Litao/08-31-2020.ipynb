{
 "cells": [
  {
   "cell_type": "code",
   "execution_count": 1,
   "metadata": {},
   "outputs": [
    {
     "name": "stdout",
     "output_type": "stream",
     "text": [
      "http://127.0.0.1:34105/v/a609b026c6c4a1bde34373996fc4e4c0945de020/\n"
     ]
    }
   ],
   "source": [
    "import os \n",
    "import cv2\n",
    "import numpy as np\n",
    "import neuroglancer\n",
    "from skimage import io, measure\n",
    "import matplotlib.pyplot as plt\n",
    "\n",
    "viewer = neuroglancer.Viewer()\n",
    "print(viewer)"
   ]
  },
  {
   "cell_type": "code",
   "execution_count": 2,
   "metadata": {},
   "outputs": [],
   "source": [
    "def mask_to_shell(mask):\n",
    "    sub_contours = measure.find_contours(mask, 1)\n",
    "\n",
    "    sub_shells = []\n",
    "    for sub_contour in sub_contours:\n",
    "        sub_contour.T[[0, 1]] = sub_contour.T[[1, 0]]\n",
    "        pts = sub_contour.astype(np.int32).reshape((-1, 1, 2))\n",
    "\n",
    "        sub_shell = np.zeros(mask.shape, dtype='uint8')\n",
    "        sub_shell = cv2.polylines(sub_shell, [pts], True, 1, 5, lineType=cv2.LINE_AA)\n",
    "        sub_shells.append(sub_shell)\n",
    "    shell = np.array(sub_shells).sum(axis=0)\n",
    "    \n",
    "    return shell"
   ]
  },
  {
   "cell_type": "code",
   "execution_count": 3,
   "metadata": {},
   "outputs": [],
   "source": [
    "VOL_DIR = '/net/birdstore/Active_Atlas_Data/data_root/brains_info/masks/MD594/aligned'\n",
    "files = sorted(os.listdir(VOL_DIR))\n",
    "\n",
    "volume = []\n",
    "for file in files:\n",
    "    tif = io.imread(os.path.join(VOL_DIR, file))\n",
    "    tif = mask_to_shell(tif)\n",
    "    volume.append(tif)\n",
    "volume = np.array(volume).astype('uint8')\n",
    "volume = np.swapaxes(volume, 0, 2)"
   ]
  },
  {
   "cell_type": "code",
   "execution_count": 4,
   "metadata": {},
   "outputs": [],
   "source": [
    "layer = neuroglancer.SegmentationLayer(\n",
    "    source = neuroglancer.LocalVolume(\n",
    "        data=volume, \n",
    "        dimensions=neuroglancer.CoordinateSpace(names=['x', 'y', 'z'], units='nm', scales=[460, 460, 20000]), \n",
    "        voxel_offset=(0, 0, 0)\n",
    "    ),\n",
    ")\n",
    "\n",
    "with viewer.txn() as s:\n",
    "#     s.layers.clear()\n",
    "    s.layers['layer'] = layer"
   ]
  },
  {
   "cell_type": "code",
   "execution_count": null,
   "metadata": {},
   "outputs": [],
   "source": []
  }
 ],
 "metadata": {
  "kernelspec": {
   "display_name": "Python 3",
   "language": "python",
   "name": "python3"
  },
  "language_info": {
   "codemirror_mode": {
    "name": "ipython",
    "version": 3
   },
   "file_extension": ".py",
   "mimetype": "text/x-python",
   "name": "python",
   "nbconvert_exporter": "python",
   "pygments_lexer": "ipython3",
   "version": "3.8.2"
  }
 },
 "nbformat": 4,
 "nbformat_minor": 4
}
