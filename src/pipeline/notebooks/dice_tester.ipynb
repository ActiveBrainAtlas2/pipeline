{
 "cells": [
  {
   "cell_type": "code",
   "execution_count": 1,
   "id": "194bc0cd",
   "metadata": {},
   "outputs": [],
   "source": [
    "import os\n",
    "import sys\n",
    "import numpy as np\n",
    "from skimage import io\n",
    "import itk\n",
    "from itkwidgets import compare, checkerboard, view"
   ]
  },
  {
   "cell_type": "code",
   "execution_count": 2,
   "id": "3869f5c2",
   "metadata": {},
   "outputs": [],
   "source": [
    "def compute_dice_coefficient(source_image: itk.Image, target_image: itk.Image) -> float:\n",
    "    \"\"\"Compute the dice coefficient to compare volume overlap between two label regions\"\"\"\n",
    "    dice_filter = itk.LabelOverlapMeasuresImageFilter[type(source_image)].New()\n",
    "    dice_filter.SetInput(source_image)\n",
    "    dice_filter.SetTargetImage(target_image)\n",
    "    dice_filter.Update()\n",
    "    return dice_filter.GetDiceCoefficient()"
   ]
  },
  {
   "cell_type": "code",
   "execution_count": 14,
   "id": "7b783761",
   "metadata": {},
   "outputs": [],
   "source": [
    "DATA = '/net/birdstore/Active_Atlas_Data/data_root/pipeline_data/DK52/preps/CH1/thumbnail_cleaned'\n",
    "file100path = os.path.join(DATA, '225.tif')\n",
    "file101path = os.path.join(DATA, '226.tif')"
   ]
  },
  {
   "cell_type": "code",
   "execution_count": 15,
   "id": "e2098db4",
   "metadata": {},
   "outputs": [],
   "source": [
    "file100img = io.imread(file100path)\n",
    "file100img = itk.GetImageFromArray(np.ascontiguousarray(file100img))\n",
    "file101img = io.imread(file101path)\n",
    "file101img = itk.GetImageFromArray(np.ascontiguousarray(file101img))"
   ]
  },
  {
   "cell_type": "code",
   "execution_count": 5,
   "id": "a7ae76f8",
   "metadata": {},
   "outputs": [],
   "source": [
    "binary100 = itk.binary_threshold_image_filter(\n",
    "    file100img,\n",
    "    lower_threshold=0,\n",
    "    upper_threshold=15,\n",
    "    inside_value=1,\n",
    "    outside_value=0,\n",
    "    ttype=[type(file100img), itk.Image[itk.UC, file100img.GetImageDimension()]]\n",
    ")\n",
    "binary101 = itk.binary_threshold_image_filter(\n",
    "    file101img,\n",
    "    lower_threshold=0,\n",
    "    upper_threshold=15,\n",
    "    inside_value=1,\n",
    "    outside_value=0,\n",
    "    ttype=[type(file101img), itk.Image[itk.UC, file101img.GetImageDimension()]]\n",
    ")"
   ]
  },
  {
   "cell_type": "code",
   "execution_count": 6,
   "id": "316126ee",
   "metadata": {},
   "outputs": [
    {
     "data": {
      "application/vnd.jupyter.widget-view+json": {
       "model_id": "20c1a1b1f2d54a2a98e882010f41de6c",
       "version_major": 2,
       "version_minor": 0
      },
      "text/plain": [
       "Viewer(geometries=[], gradient_opacity=0.22, point_sets=[], rendered_image=<itk.itkImagePython.itkImageUC2; pr…"
      ]
     },
     "metadata": {},
     "output_type": "display_data"
    }
   ],
   "source": [
    "view(binary100)"
   ]
  },
  {
   "cell_type": "code",
   "execution_count": 7,
   "id": "a584b205",
   "metadata": {},
   "outputs": [
    {
     "data": {
      "application/vnd.jupyter.widget-view+json": {
       "model_id": "2158ea2c6f43413c83fb5316fe4ddb2f",
       "version_major": 2,
       "version_minor": 0
      },
      "text/plain": [
       "Viewer(geometries=[], gradient_opacity=0.22, point_sets=[], rendered_image=<itk.itkImagePython.itkImageUC2; pr…"
      ]
     },
     "metadata": {},
     "output_type": "display_data"
    }
   ],
   "source": [
    "view(binary101)"
   ]
  },
  {
   "cell_type": "code",
   "execution_count": 8,
   "id": "647e2ee6",
   "metadata": {},
   "outputs": [
    {
     "name": "stdout",
     "output_type": "stream",
     "text": [
      "Evaluated dice value: 0.992935077024429\n"
     ]
    }
   ],
   "source": [
    "# cleaned = 0.9412216469382709\n",
    "# aligned = 0.992935077024429\n",
    "dice_score = compute_dice_coefficient(binary100, binary101)\n",
    "print(f'Evaluated dice value: {dice_score}')"
   ]
  },
  {
   "cell_type": "code",
   "execution_count": 18,
   "id": "9c8fb3b4",
   "metadata": {},
   "outputs": [
    {
     "data": {
      "application/vnd.jupyter.widget-view+json": {
       "model_id": "7cd85dc625064d89a60c3dd3ddc57fe3",
       "version_major": 2,
       "version_minor": 0
      },
      "text/plain": [
       "AppLayout(children=(HBox(children=(Label(value='Link:'), Checkbox(value=True, description='cmap'), Checkbox(va…"
      ]
     },
     "metadata": {},
     "output_type": "display_data"
    }
   ],
   "source": [
    "compare(file100img, file101img, link_cmap=True)"
   ]
  }
 ],
 "metadata": {
  "kernelspec": {
   "display_name": "Python 3",
   "language": "python",
   "name": "python3"
  },
  "language_info": {
   "codemirror_mode": {
    "name": "ipython",
    "version": 3
   },
   "file_extension": ".py",
   "mimetype": "text/x-python",
   "name": "python",
   "nbconvert_exporter": "python",
   "pygments_lexer": "ipython3",
   "version": "3.10.6"
  }
 },
 "nbformat": 4,
 "nbformat_minor": 5
}
