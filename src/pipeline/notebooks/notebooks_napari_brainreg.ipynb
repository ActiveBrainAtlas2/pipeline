{
 "cells": [
  {
   "cell_type": "markdown",
   "metadata": {},
   "source": [
    "### some notes\n",
    "\n",
    "0. Start the VNC from the launcher. The link should open in a different window.\n",
    "\n",
    "1. Run the first cell below and wait for QT to be initialised before running the following cells. Run all cells will not work."
   ]
  },
  {
   "cell_type": "code",
   "execution_count": 3,
   "metadata": {},
   "outputs": [],
   "source": [
    "# Step 1: run the first cell and wait for QT to be initialised before running the following cells. \n",
    "# Use the novnc Desktop in the other window\n",
    "import os\n",
    "os.environ['DISPLAY'] = ':1.0'\n",
    "# instantiate Qt GUI\n",
    "%gui qt5"
   ]
  },
  {
   "cell_type": "markdown",
   "metadata": {},
   "source": [
    "# Image\n",
    "\n",
    "From the **Tutorial - brainglobe** https://docs.brainglobe.info/brainreg/tutorial\n",
    " , we have access to a \"test_brain.zip\""
   ]
  },
  {
   "cell_type": "code",
   "execution_count": 4,
   "metadata": {},
   "outputs": [],
   "source": [
    "# where to store the zip file\n",
    "data_folder = \"../data/\"\n",
    "\n",
    "# the url of the zip file\n",
    "url = \"https://gin.g-node.org/cellfinder/data/raw/master/brainreg/test_brain.zip\"\n",
    "\n",
    "theZipFile = os.path.basename(url)\n",
    "theZipFile_nameNoExt= os.path.splitext(theZipFile)[0]\n",
    "path_to_zip_file = data_folder+theZipFile \n",
    "directory_to_extract_to = data_folder \n",
    "final_folder = data_folder+theZipFile_nameNoExt+\"/\"\n",
    "\n",
    "## Download the zip \n",
    "# import the requests library\n",
    "import requests\n",
    " \n",
    "# download the file contents in binary format\n",
    "r = requests.get(url)\n",
    "# open method to open a file on your system and write the contents\n",
    "with open(path_to_zip_file, \"wb\") as code:\n",
    "    code.write(r.content)\n",
    "      \n",
    "# Extract the zip file \n",
    "import zipfile\n",
    "with zipfile.ZipFile(path_to_zip_file, 'r') as zip_ref: \n",
    "    zip_ref.extractall(directory_to_extract_to)"
   ]
  },
  {
   "cell_type": "markdown",
   "metadata": {},
   "source": [
    "# Now we can use Brainreg command line"
   ]
  },
  {
   "cell_type": "code",
   "execution_count": 5,
   "metadata": {},
   "outputs": [],
   "source": [
    "brainreg_output_dir = \"../brainreg_output/\""
   ]
  },
  {
   "cell_type": "code",
   "execution_count": 6,
   "metadata": {},
   "outputs": [
    {
     "name": "stdout",
     "output_type": "stream",
     "text": [
      "INFO:root:Starting logging\n",
      "\u001b[2;36m2021-07-08 07:35:44 AM\u001b[0m\u001b[2;36m \u001b[0m\u001b[34mINFO    \u001b[0m \u001b[1;36m2021\u001b[0m-\u001b[1;36m07\u001b[0m-\u001b[1;36m08\u001b[0m \u001b[1;92m07:35:44\u001b[0m AM - INFO -  \u001b]8;id=1625729744.0778568-742433;file:///opt/conda/lib/python3.8/site-packages/fancylog/fancylog.py\u001b\\\u001b[2mfancylog.py\u001b[0m\u001b]8;;\u001b\\\u001b[2m:280\u001b[0m\n",
      "                                MainProcess fancylog.py:\u001b[1;36m280\u001b[0m -                   \n",
      "                                Starting logging                                \n",
      "INFO:root:Not logging multiple processes\n",
      "\u001b[2;36m                      \u001b[0m\u001b[2;36m \u001b[0m\u001b[34mINFO    \u001b[0m \u001b[1;36m2021\u001b[0m-\u001b[1;36m07\u001b[0m-\u001b[1;36m08\u001b[0m \u001b[1;92m07:35:44\u001b[0m AM - INFO -  \u001b]8;id=1625729744.0807326-341071;file:///opt/conda/lib/python3.8/site-packages/fancylog/fancylog.py\u001b\\\u001b[2mfancylog.py\u001b[0m\u001b]8;;\u001b\\\u001b[2m:281\u001b[0m\n",
      "                                MainProcess fancylog.py:\u001b[1;36m281\u001b[0m -                   \n",
      "                                Not logging multiple processes                  \n",
      "INFO:root:Starting registration\n",
      "\u001b[2;36m                      \u001b[0m\u001b[2;36m \u001b[0m\u001b[34mINFO    \u001b[0m \u001b[1;36m2021\u001b[0m-\u001b[1;36m07\u001b[0m-\u001b[1;36m08\u001b[0m \u001b[1;92m07:35:44\u001b[0m AM - INFO -       \u001b]8;id=1625729744.082843-508155;file:///opt/conda/lib/python3.8/site-packages/brainreg/cli.py\u001b\\\u001b[2mcli.py\u001b[0m\u001b]8;;\u001b\\\u001b[2m:197\u001b[0m\n",
      "                                MainProcess cli.py:\u001b[1;36m197\u001b[0m - Starting               \n",
      "                                registration                                    \n",
      "allen mouse atlas (res. 50um)\n",
      "From: http://www.brain-map.org (Wang et al 2020, https://doi.org/10.1016/j.cell.2020.04.007 )\n",
      "DEBUG:root:Determining the maximum number of CPU cores to use\n",
      "DEBUG:root:Number of CPU cores available is: 4\n",
      "DEBUG:root:Setting number of processes to: 4\n",
      "INFO:root:Loading raw image data\n",
      "\u001b[2;36m2021-07-08 07:35:46 AM\u001b[0m\u001b[2;36m \u001b[0m\u001b[34mINFO    \u001b[0m \u001b[1;36m2021\u001b[0m-\u001b[1;36m07\u001b[0m-\u001b[1;36m08\u001b[0m \u001b[1;92m07:35:46\u001b[0m AM - INFO -       \u001b]8;id=1625729746.198584-799807;file:///opt/conda/lib/python3.8/site-packages/brainreg/main.py\u001b\\\u001b[2mmain.py\u001b[0m\u001b]8;;\u001b\\\u001b[2m:48\u001b[0m\n",
      "                                MainProcess main.py:\u001b[1;36m48\u001b[0m - Loading raw            \n",
      "                                image data                                      \n",
      "DEBUG:root:Data type is: directory of files\n",
      "DEBUG:root:Determining the maximum number of CPU cores to use\n",
      "DEBUG:root:Number of CPU cores available is: 4\n",
      "DEBUG:root:Setting number of processes to: 4\n",
      "Loading images: 100%|███████████████████████| 68/68 [00:00<00:00, 606.32plane/s]\n",
      "Loading images: 100%|███████████████████████| 66/66 [00:00<00:00, 576.41plane/s]\n",
      "Loading images: 100%|███████████████████████| 68/68 [00:00<00:00, 558.11plane/s]\n",
      "Loading images: 100%|███████████████████████| 68/68 [00:00<00:00, 451.74plane/s]\n",
      "filtering: 100%|██████████████████████████| 228/228 [00:01<00:00, 115.43plane/s]\n",
      "filtering: 100%|██████████████████████████| 271/271 [00:02<00:00, 132.31plane/s]\n",
      "INFO:root:Registering\n",
      "\u001b[2;36m2021-07-08 07:35:52 AM\u001b[0m\u001b[2;36m \u001b[0m\u001b[34mINFO    \u001b[0m \u001b[1;36m2021\u001b[0m-\u001b[1;36m07\u001b[0m-\u001b[1;36m08\u001b[0m \u001b[1;92m07:35:52\u001b[0m AM - INFO -        \u001b]8;id=1625729752.1228511-342684;file:///opt/conda/lib/python3.8/site-packages/brainreg/backend/niftyreg/run.py\u001b\\\u001b[2mrun.py\u001b[0m\u001b]8;;\u001b\\\u001b[2m:56\u001b[0m\n",
      "                                MainProcess run.py:\u001b[1;36m56\u001b[0m - Registering             \n",
      "INFO:root:Starting affine registration\n",
      "\u001b[2;36m                      \u001b[0m\u001b[2;36m \u001b[0m\u001b[34mINFO    \u001b[0m \u001b[1;36m2021\u001b[0m-\u001b[1;36m07\u001b[0m-\u001b[1;36m08\u001b[0m \u001b[1;92m07:35:52\u001b[0m AM - INFO -        \u001b]8;id=1625729752.1250162-318610;file:///opt/conda/lib/python3.8/site-packages/brainreg/backend/niftyreg/run.py\u001b\\\u001b[2mrun.py\u001b[0m\u001b]8;;\u001b\\\u001b[2m:76\u001b[0m\n",
      "                                MainProcess run.py:\u001b[1;36m76\u001b[0m - Starting                \n",
      "                                affine registration                             \n",
      "INFO:root:Starting freeform registration\n",
      "\u001b[2;36m2021-07-08 07:36:35 AM\u001b[0m\u001b[2;36m \u001b[0m\u001b[34mINFO    \u001b[0m \u001b[1;36m2021\u001b[0m-\u001b[1;36m07\u001b[0m-\u001b[1;36m08\u001b[0m \u001b[1;92m07:36:35\u001b[0m AM - INFO -        \u001b]8;id=1625729795.5399163-333839;file:///opt/conda/lib/python3.8/site-packages/brainreg/backend/niftyreg/run.py\u001b\\\u001b[2mrun.py\u001b[0m\u001b]8;;\u001b\\\u001b[2m:79\u001b[0m\n",
      "                                MainProcess run.py:\u001b[1;36m79\u001b[0m - Starting                \n",
      "                                freeform registration                           \n",
      "INFO:root:Starting segmentation\n",
      "\u001b[2;36m2021-07-08 07:36:39 AM\u001b[0m\u001b[2;36m \u001b[0m\u001b[34mINFO    \u001b[0m \u001b[1;36m2021\u001b[0m-\u001b[1;36m07\u001b[0m-\u001b[1;36m08\u001b[0m \u001b[1;92m07:36:39\u001b[0m AM - INFO -        \u001b]8;id=1625729799.1576653-458801;file:///opt/conda/lib/python3.8/site-packages/brainreg/backend/niftyreg/run.py\u001b\\\u001b[2mrun.py\u001b[0m\u001b]8;;\u001b\\\u001b[2m:82\u001b[0m\n",
      "                                MainProcess run.py:\u001b[1;36m82\u001b[0m - Starting                \n",
      "                                segmentation                                    \n",
      "INFO:root:Segmenting hemispheres\n",
      "\u001b[2;36m                      \u001b[0m\u001b[2;36m \u001b[0m\u001b[34mINFO    \u001b[0m \u001b[1;36m2021\u001b[0m-\u001b[1;36m07\u001b[0m-\u001b[1;36m08\u001b[0m \u001b[1;92m07:36:39\u001b[0m AM - INFO -        \u001b]8;id=1625729799.957456-986044;file:///opt/conda/lib/python3.8/site-packages/brainreg/backend/niftyreg/run.py\u001b\\\u001b[2mrun.py\u001b[0m\u001b]8;;\u001b\\\u001b[2m:85\u001b[0m\n",
      "                                MainProcess run.py:\u001b[1;36m85\u001b[0m - Segmenting              \n",
      "                                hemispheres                                     \n",
      "INFO:root:Generating inverse (sample to atlas) transforms\n",
      "\u001b[2;36m2021-07-08 07:36:40 AM\u001b[0m\u001b[2;36m \u001b[0m\u001b[34mINFO    \u001b[0m \u001b[1;36m2021\u001b[0m-\u001b[1;36m07\u001b[0m-\u001b[1;36m08\u001b[0m \u001b[1;92m07:36:40\u001b[0m AM - INFO -        \u001b]8;id=1625729800.6156967-973659;file:///opt/conda/lib/python3.8/site-packages/brainreg/backend/niftyreg/run.py\u001b\\\u001b[2mrun.py\u001b[0m\u001b]8;;\u001b\\\u001b[2m:88\u001b[0m\n",
      "                                MainProcess run.py:\u001b[1;36m88\u001b[0m - Generating              \n",
      "                                inverse \u001b[1m(\u001b[0msample to atlas\u001b[1m)\u001b[0m transforms            \n",
      "DEBUG:root:Generating inverse affine transform\n",
      "DEBUG:root:Registering sample to atlas\n",
      "INFO:root:Transforming image to standard space\n",
      "\u001b[2;36m2021-07-08 07:36:43 AM\u001b[0m\u001b[2;36m \u001b[0m\u001b[34mINFO    \u001b[0m \u001b[1;36m2021\u001b[0m-\u001b[1;36m07\u001b[0m-\u001b[1;36m08\u001b[0m \u001b[1;92m07:36:43\u001b[0m AM - INFO -        \u001b]8;id=1625729803.5675254-631171;file:///opt/conda/lib/python3.8/site-packages/brainreg/backend/niftyreg/run.py\u001b\\\u001b[2mrun.py\u001b[0m\u001b]8;;\u001b\\\u001b[2m:91\u001b[0m\n",
      "                                MainProcess run.py:\u001b[1;36m91\u001b[0m - Transforming            \n",
      "                                image to standard space                         \n",
      "INFO:root:Generating deformation field\n",
      "\u001b[2;36m2021-07-08 07:36:44 AM\u001b[0m\u001b[2;36m \u001b[0m\u001b[34mINFO    \u001b[0m \u001b[1;36m2021\u001b[0m-\u001b[1;36m07\u001b[0m-\u001b[1;36m08\u001b[0m \u001b[1;92m07:36:44\u001b[0m AM - INFO -        \u001b]8;id=1625729804.0623777-774136;file:///opt/conda/lib/python3.8/site-packages/brainreg/backend/niftyreg/run.py\u001b\\\u001b[2mrun.py\u001b[0m\u001b]8;;\u001b\\\u001b[2m:97\u001b[0m\n",
      "                                MainProcess run.py:\u001b[1;36m97\u001b[0m - Generating              \n",
      "                                deformation field                               \n",
      "INFO:root:Generating deformation field\n",
      "\u001b[2;36m                      \u001b[0m\u001b[2;36m \u001b[0m\u001b[34mINFO    \u001b[0m \u001b[1;36m2021\u001b[0m-\u001b[1;36m07\u001b[0m-\u001b[1;36m08\u001b[0m \u001b[1;92m07:36:44\u001b[0m AM -     \u001b]8;id=1625729804.0670474-859521;file:///opt/conda/lib/python3.8/site-packages/brainreg/backend/niftyreg/registration.py\u001b\\\u001b[2mregistration.py\u001b[0m\u001b]8;;\u001b\\\u001b[2m:285\u001b[0m\n",
      "                                INFO - MainProcess                              \n",
      "                                registration.py:\u001b[1;36m285\u001b[0m -                           \n",
      "                                Generating deformation field                    \n",
      "INFO:root:Exporting images as tiff\n",
      "\u001b[2;36m                      \u001b[0m\u001b[2;36m \u001b[0m\u001b[34mINFO    \u001b[0m \u001b[1;36m2021\u001b[0m-\u001b[1;36m07\u001b[0m-\u001b[1;36m08\u001b[0m \u001b[1;92m07:36:44\u001b[0m AM - INFO -       \u001b]8;id=1625729804.8584614-940601;file:///opt/conda/lib/python3.8/site-packages/brainreg/backend/niftyreg/run.py\u001b\\\u001b[2mrun.py\u001b[0m\u001b]8;;\u001b\\\u001b[2m:100\u001b[0m\n",
      "                                MainProcess run.py:\u001b[1;36m100\u001b[0m - Exporting              \n",
      "                                images as tiff                                  \n",
      "DEBUG:root:Data type is: NifTI\n",
      "pixdim[0] (qfac) should be 1 (default) or -1; setting qfac to 1\n",
      "INFO:nibabel.global:pixdim[0] (qfac) should be 1 (default) or -1; setting qfac to 1\n",
      "\u001b[2;36m                      \u001b[0m\u001b[2;36m \u001b[0m\u001b[34mINFO    \u001b[0m \u001b[1;36m2021\u001b[0m-\u001b[1;36m07\u001b[0m-\u001b[1;36m08\u001b[0m \u001b[1;92m07:36:44\u001b[0m AM -   \u001b]8;id=1625729804.8665667-90857;file:///opt/conda/lib/python3.8/site-packages/nibabel/batteryrunners.py\u001b\\\u001b[2mbatteryrunners.py\u001b[0m\u001b]8;;\u001b\\\u001b[2m:274\u001b[0m\n",
      "                                INFO - MainProcess                              \n",
      "                                batteryrunners.py:\u001b[1;36m274\u001b[0m -                         \n",
      "                                pixdim\u001b[1m[\u001b[0m\u001b[1;36m0\u001b[0m\u001b[1m]\u001b[0m \u001b[1m(\u001b[0mqfac\u001b[1m)\u001b[0m should be                      \n",
      "                                \u001b[1;36m1\u001b[0m \u001b[1m(\u001b[0mdefault\u001b[1m)\u001b[0m or \u001b[1;36m-1\u001b[0m; setting                      \n",
      "                                qfac to \u001b[1;36m1\u001b[0m                                       \n"
     ]
    },
    {
     "name": "stdout",
     "output_type": "stream",
     "text": [
      "DEBUG:root:Data type is: NifTI\n",
      "pixdim[0] (qfac) should be 1 (default) or -1; setting qfac to 1\n",
      "INFO:nibabel.global:pixdim[0] (qfac) should be 1 (default) or -1; setting qfac to 1\n",
      "\u001b[2;36m2021-07-08 07:36:45 AM\u001b[0m\u001b[2;36m \u001b[0m\u001b[34mINFO    \u001b[0m \u001b[1;36m2021\u001b[0m-\u001b[1;36m07\u001b[0m-\u001b[1;36m08\u001b[0m \u001b[1;92m07:36:45\u001b[0m AM -   \u001b]8;id=1625729805.3170784-91799;file:///opt/conda/lib/python3.8/site-packages/nibabel/batteryrunners.py\u001b\\\u001b[2mbatteryrunners.py\u001b[0m\u001b]8;;\u001b\\\u001b[2m:274\u001b[0m\n",
      "                                INFO - MainProcess                              \n",
      "                                batteryrunners.py:\u001b[1;36m274\u001b[0m -                         \n",
      "                                pixdim\u001b[1m[\u001b[0m\u001b[1;36m0\u001b[0m\u001b[1m]\u001b[0m \u001b[1m(\u001b[0mqfac\u001b[1m)\u001b[0m should be                      \n",
      "                                \u001b[1;36m1\u001b[0m \u001b[1m(\u001b[0mdefault\u001b[1m)\u001b[0m or \u001b[1;36m-1\u001b[0m; setting                      \n",
      "                                qfac to \u001b[1;36m1\u001b[0m                                       \n",
      "DEBUG:root:Data type is: NifTI\n",
      "pixdim[0] (qfac) should be 1 (default) or -1; setting qfac to 1\n",
      "INFO:nibabel.global:pixdim[0] (qfac) should be 1 (default) or -1; setting qfac to 1\n",
      "\u001b[2;36m                      \u001b[0m\u001b[2;36m \u001b[0m\u001b[34mINFO    \u001b[0m \u001b[1;36m2021\u001b[0m-\u001b[1;36m07\u001b[0m-\u001b[1;36m08\u001b[0m \u001b[1;92m07:36:45\u001b[0m AM -   \u001b]8;id=1625729805.4886284-153050;file:///opt/conda/lib/python3.8/site-packages/nibabel/batteryrunners.py\u001b\\\u001b[2mbatteryrunners.py\u001b[0m\u001b]8;;\u001b\\\u001b[2m:274\u001b[0m\n",
      "                                INFO - MainProcess                              \n",
      "                                batteryrunners.py:\u001b[1;36m274\u001b[0m -                         \n",
      "                                pixdim\u001b[1m[\u001b[0m\u001b[1;36m0\u001b[0m\u001b[1m]\u001b[0m \u001b[1m(\u001b[0mqfac\u001b[1m)\u001b[0m should be                      \n",
      "                                \u001b[1;36m1\u001b[0m \u001b[1m(\u001b[0mdefault\u001b[1m)\u001b[0m or \u001b[1;36m-1\u001b[0m; setting                      \n",
      "                                qfac to \u001b[1;36m1\u001b[0m                                       \n",
      "DEBUG:root:Data type is: NifTI\n",
      "pixdim[0] (qfac) should be 1 (default) or -1; setting qfac to 1\n",
      "INFO:nibabel.global:pixdim[0] (qfac) should be 1 (default) or -1; setting qfac to 1\n",
      "\u001b[2;36m                      \u001b[0m\u001b[2;36m \u001b[0m\u001b[34mINFO    \u001b[0m \u001b[1;36m2021\u001b[0m-\u001b[1;36m07\u001b[0m-\u001b[1;36m08\u001b[0m \u001b[1;92m07:36:45\u001b[0m AM -   \u001b]8;id=1625729805.6245694-192097;file:///opt/conda/lib/python3.8/site-packages/nibabel/batteryrunners.py\u001b\\\u001b[2mbatteryrunners.py\u001b[0m\u001b]8;;\u001b\\\u001b[2m:274\u001b[0m\n",
      "                                INFO - MainProcess                              \n",
      "                                batteryrunners.py:\u001b[1;36m274\u001b[0m -                         \n",
      "                                pixdim\u001b[1m[\u001b[0m\u001b[1;36m0\u001b[0m\u001b[1m]\u001b[0m \u001b[1m(\u001b[0mqfac\u001b[1m)\u001b[0m should be                      \n",
      "                                \u001b[1;36m1\u001b[0m \u001b[1m(\u001b[0mdefault\u001b[1m)\u001b[0m or \u001b[1;36m-1\u001b[0m; setting                      \n",
      "                                qfac to \u001b[1;36m1\u001b[0m                                       \n",
      "INFO:root:Deleting intermediate niftyreg files\n",
      "\u001b[2;36m2021-07-08 07:36:47 AM\u001b[0m\u001b[2;36m \u001b[0m\u001b[34mINFO    \u001b[0m \u001b[1;36m2021\u001b[0m-\u001b[1;36m07\u001b[0m-\u001b[1;36m08\u001b[0m \u001b[1;92m07:36:47\u001b[0m AM - INFO -       \u001b]8;id=1625729807.1439812-800817;file:///opt/conda/lib/python3.8/site-packages/brainreg/backend/niftyreg/run.py\u001b\\\u001b[2mrun.py\u001b[0m\u001b]8;;\u001b\\\u001b[2m:196\u001b[0m\n",
      "                                MainProcess run.py:\u001b[1;36m196\u001b[0m - Deleting               \n",
      "                                intermediate niftyreg files                     \n",
      "INFO:root:Calculating volumes of each brain area\n",
      "\u001b[2;36m                      \u001b[0m\u001b[2;36m \u001b[0m\u001b[34mINFO    \u001b[0m \u001b[1;36m2021\u001b[0m-\u001b[1;36m07\u001b[0m-\u001b[1;36m08\u001b[0m \u001b[1;92m07:36:47\u001b[0m AM - INFO -       \u001b]8;id=1625729807.2609992-97196;file:///opt/conda/lib/python3.8/site-packages/brainreg/main.py\u001b\\\u001b[2mmain.py\u001b[0m\u001b]8;;\u001b\\\u001b[2m:82\u001b[0m\n",
      "                                MainProcess main.py:\u001b[1;36m82\u001b[0m - Calculating            \n",
      "                                volumes of each brain area                      \n",
      "DEBUG:root:Data type is: tif stack\n",
      "DEBUG:root:Loading: ../brainreg_output/registered_atlas.tiff\n",
      "DEBUG:root:Data type is: tif stack\n",
      "DEBUG:root:Loading: ../brainreg_output/registered_hemispheres.tiff\n",
      "INFO:root:Generating boundary image\n",
      "\u001b[2;36m2021-07-08 07:36:49 AM\u001b[0m\u001b[2;36m \u001b[0m\u001b[34mINFO    \u001b[0m \u001b[1;36m2021\u001b[0m-\u001b[1;36m07\u001b[0m-\u001b[1;36m08\u001b[0m \u001b[1;92m07:36:49\u001b[0m AM - INFO -       \u001b]8;id=1625729809.7451599-262234;file:///opt/conda/lib/python3.8/site-packages/brainreg/main.py\u001b\\\u001b[2mmain.py\u001b[0m\u001b]8;;\u001b\\\u001b[2m:93\u001b[0m\n",
      "                                MainProcess main.py:\u001b[1;36m93\u001b[0m - Generating             \n",
      "                                boundary image                                  \n",
      "DEBUG:root:Data type is: tif stack\n",
      "DEBUG:root:Loading: ../brainreg_output/registered_atlas.tiff\n",
      "DEBUG:root:Saving segmentation boundary image\n",
      "INFO:root:brainreg completed. Results can be found here: ../brainreg_output/\n",
      "\u001b[2;36m2021-07-08 07:36:50 AM\u001b[0m\u001b[2;36m \u001b[0m\u001b[34mINFO    \u001b[0m \u001b[1;36m2021\u001b[0m-\u001b[1;36m07\u001b[0m-\u001b[1;36m08\u001b[0m \u001b[1;92m07:36:50\u001b[0m AM - INFO -       \u001b]8;id=1625729810.4704278-167418;file:///opt/conda/lib/python3.8/site-packages/brainreg/main.py\u001b\\\u001b[2mmain.py\u001b[0m\u001b]8;;\u001b\\\u001b[2m:99\u001b[0m\n",
      "                                MainProcess main.py:\u001b[1;36m99\u001b[0m - brainreg               \n",
      "                                completed. Results can be found here:           \n",
      "                                ..\u001b[35m/brainreg_output/\u001b[0m                             \n",
      "INFO:root:Finished. Total time taken: 0:01:06.482269\n",
      "\u001b[2;36m                      \u001b[0m\u001b[2;36m \u001b[0m\u001b[34mINFO    \u001b[0m \u001b[1;36m2021\u001b[0m-\u001b[1;36m07\u001b[0m-\u001b[1;36m08\u001b[0m \u001b[1;92m07:36:50\u001b[0m AM - INFO -       \u001b]8;id=1625729810.4773571-809203;file:///opt/conda/lib/python3.8/site-packages/brainreg/cli.py\u001b\\\u001b[2mcli.py\u001b[0m\u001b]8;;\u001b\\\u001b[2m:213\u001b[0m\n",
      "                                MainProcess cli.py:\u001b[1;36m213\u001b[0m - Finished.              \n",
      "                                Total time taken: \u001b[1;92m0:01:06\u001b[0m.\u001b[1;36m482269\u001b[0m                \n"
     ]
    }
   ],
   "source": [
    "!brainreg $final_folder $brainreg_output_dir -v 50 50 50  --orientation psl --atlas allen_mouse_50um --sort-input-file"
   ]
  },
  {
   "cell_type": "markdown",
   "metadata": {},
   "source": [
    "# We'll start using Napari from here"
   ]
  },
  {
   "cell_type": "markdown",
   "metadata": {},
   "source": [
    "# Open the Image Of Interest (IOI) and the Atlas labels *fitted to the IOI* \n",
    "note : the IOI is resized to Atlas size"
   ]
  },
  {
   "cell_type": "code",
   "execution_count": 7,
   "metadata": {},
   "outputs": [
    {
     "name": "stderr",
     "output_type": "stream",
     "text": [
      "/opt/conda/lib/python3.8/site-packages/napari/_vispy/vispy_camera.py:109: RuntimeWarning: divide by zero encountered in true_divide\n",
      "  zoom = np.min(canvas_size / scale)\n"
     ]
    },
    {
     "data": {
      "text/plain": [
       "<Labels layer 'atlas' at 0x7f52a5bc60d0>"
      ]
     },
     "execution_count": 7,
     "metadata": {},
     "output_type": "execute_result"
    }
   ],
   "source": [
    "import matplotlib.pyplot as plt\n",
    "import numpy as np\n",
    "import napari\n",
    "import skimage.io\n",
    "\n",
    "image_name = \"downsampled.tiff\"\n",
    "image = skimage.io.imread(brainreg_output_dir+image_name)\n",
    "\n",
    "atlas_name = \"registered_atlas.tiff\"\n",
    "atlas = skimage.io.imread(brainreg_output_dir+atlas_name)\n",
    "\n",
    "viewer = napari.view_image(data = image, colormap=\"gray\")\n",
    "viewer.add_labels(data=atlas , name=\"atlas\")"
   ]
  },
  {
   "cell_type": "code",
   "execution_count": 8,
   "metadata": {},
   "outputs": [
    {
     "data": {
      "text/plain": [
       "<Labels layer 'Reg1021' at 0x7f52f816d820>"
      ]
     },
     "execution_count": 8,
     "metadata": {},
     "output_type": "execute_result"
    }
   ],
   "source": [
    "# here we make a mask of the region with a value 1021\n",
    "region= atlas==1021\n",
    "viewer.add_labels(data=region , name=\"Reg1021\")"
   ]
  },
  {
   "cell_type": "code",
   "execution_count": 9,
   "metadata": {},
   "outputs": [
    {
     "data": {
      "image/png": "[encoded data removed]",
      "text/plain": [
       "<Figure size 432x288 with 1 Axes>"
      ]
     },
     "metadata": {
      "needs_background": "light"
     },
     "output_type": "display_data"
    }
   ],
   "source": [
    "proj = np.average(region , axis = 1)\n",
    "plt.imshow(proj);"
   ]
  },
  {
   "cell_type": "code",
   "execution_count": 10,
   "metadata": {},
   "outputs": [
    {
     "data": {
      "image/png": "[encoded data removed]",
      "text/plain": [
       "<Figure size 432x288 with 1 Axes>"
      ]
     },
     "metadata": {
      "needs_background": "light"
     },
     "output_type": "display_data"
    }
   ],
   "source": [
    "proj = np.average(image, axis = 1)\n",
    "plt.imshow(proj);"
   ]
  },
  {
   "cell_type": "markdown",
   "metadata": {},
   "source": [
    "# Open the Atlas and the IOI *fitted to the Atlas*"
   ]
  },
  {
   "cell_type": "code",
   "execution_count": 11,
   "metadata": {},
   "outputs": [
    {
     "name": "stderr",
     "output_type": "stream",
     "text": [
      "/opt/conda/lib/python3.8/site-packages/napari/_vispy/vispy_camera.py:109: RuntimeWarning: divide by zero encountered in true_divide\n",
      "  zoom = np.min(canvas_size / scale)\n"
     ]
    },
    {
     "data": {
      "text/plain": [
       "<Labels layer 'atlas' at 0x7f522c3e2a00>"
      ]
     },
     "execution_count": 11,
     "metadata": {},
     "output_type": "execute_result"
    }
   ],
   "source": [
    "image_name = \"downsampled_standard.tiff\"\n",
    "\n",
    "# the original atlas is stored in a different folder : home/jovyan/.brainglobe/name_of_atlas\n",
    "# copy folder to /home/jovyan/work/brainreg/ , to be able to access data\n",
    "# TODO : find a better way to do it\n",
    "#atlas_folder = \"../allen_mouse_25um_v1.2/\"\n",
    "atlas_folder = \"/home/jovyan/.brainglobe/allen_mouse_50um_v1.2/\"\n",
    "atlas_name = \"annotation.tiff\"\n",
    "\n",
    "\n",
    "image = skimage.io.imread(brainreg_output_dir+image_name)\n",
    "atlas = skimage.io.imread(atlas_folder+atlas_name)\n",
    "\n",
    "viewer = napari.view_image(data = image, colormap=\"green\",name=\"brain\")\n",
    "viewer.add_labels(data=atlas, name=\"atlas\")\n"
   ]
  },
  {
   "cell_type": "markdown",
   "metadata": {},
   "source": [
    "# Match Value to Region name\n",
    "We'll open the Atlas json file to get correspondance between gray value and Name of the Region"
   ]
  },
  {
   "cell_type": "code",
   "execution_count": 12,
   "metadata": {},
   "outputs": [],
   "source": [
    "import json\n",
    "atlasLabels_json = atlas_folder+\"structures.json\"\n",
    "\n",
    "f = open(atlasLabels_json)\n",
    "\n",
    "json_dict = json.load(f)"
   ]
  },
  {
   "cell_type": "markdown",
   "metadata": {},
   "source": [
    "# Find value matching multiple Region(s)"
   ]
  },
  {
   "cell_type": "code",
   "execution_count": 13,
   "metadata": {},
   "outputs": [],
   "source": [
    "regions_list = ['MO','VIS']"
   ]
  },
  {
   "cell_type": "code",
   "execution_count": 14,
   "metadata": {},
   "outputs": [
    {
     "name": "stdout",
     "output_type": "stream",
     "text": [
      "['MO', 'VIS', 'V', 'VI']\n"
     ]
    }
   ],
   "source": [
    "# using 'any' will result with some region that we don't want\n",
    "region_acronym = [x['acronym'] for x in json_dict if any( x['acronym'] in r for r in regions_list)]\n",
    "print(region_acronym)"
   ]
  },
  {
   "cell_type": "code",
   "execution_count": 15,
   "metadata": {},
   "outputs": [
    {
     "name": "stdout",
     "output_type": "stream",
     "text": [
      "['MO', 'VIS']\n",
      "[500, 669]\n",
      "[500, 985, 320, 943, 648, 844, 882, 993, 656, 962, 767, 1021, 1085, 669, 402, 1074, 905, 1114, 233, 601, 649, 394, 281, 1066, 401, 433, 1046, 441, 409, 421, 973, 573, 613, 74, 121, 385, 593, 821, 721, 778, 33, 305, 425, 750, 269, 869, 902, 377, 393, 533, 805, 41, 501, 565, 257, 469, 312782574, 312782578, 312782582, 312782586, 312782590, 312782594, 312782598, 312782628, 312782632, 312782636, 312782640, 312782644, 312782648, 312782652]\n"
     ]
    }
   ],
   "source": [
    "# so we have to use 'set' ( https://docs.python.org/3/library/stdtypes.html?highlight=set#set ) \n",
    "# Better alternative might exist but you know : it works ! \n",
    "\n",
    "regions_acronym = [x['acronym'] for x in json_dict if len(set(regions_list).intersection(set([x['acronym']])))>0 ]\n",
    "print(regions_acronym)\n",
    "\n",
    "# here we need to set([ x['acronym'] ]) as there is only one acronym\n",
    "regions_id = [x['id'] for x in json_dict if len(set(regions_list).intersection(set([x['acronym']])))>0 ]\n",
    "print(regions_id)\n",
    "\n",
    "# while here we can directly use set( x['structure_id_path'] )\n",
    "regions_children = [x['id'] for x in json_dict if len(set(regions_id).intersection(set(x['structure_id_path'])))>0]\n",
    "print(regions_children)"
   ]
  },
  {
   "cell_type": "markdown",
   "metadata": {},
   "source": [
    "#### Prepare a mask with all the defined regions"
   ]
  },
  {
   "cell_type": "code",
   "execution_count": 16,
   "metadata": {},
   "outputs": [],
   "source": [
    "regions = np.zeros( image.shape, dtype=int)\n",
    "for i in regions_children:\n",
    "    region = atlas== i\n",
    "    regions+=region"
   ]
  },
  {
   "cell_type": "markdown",
   "metadata": {},
   "source": [
    "#### Use the mask on the image"
   ]
  },
  {
   "cell_type": "code",
   "execution_count": 17,
   "metadata": {},
   "outputs": [],
   "source": [
    "mask = image * regions"
   ]
  },
  {
   "cell_type": "markdown",
   "metadata": {},
   "source": [
    "#### Adds them to napari viewer"
   ]
  },
  {
   "cell_type": "code",
   "execution_count": 18,
   "metadata": {},
   "outputs": [],
   "source": [
    "viewer.add_labels(data=regions , name=\"Regions\")\n",
    "viewer.add_image(data=mask,colormap=\"green\").contrast_limits=(100, 500)"
   ]
  },
  {
   "cell_type": "markdown",
   "metadata": {},
   "source": [
    "# Make and Save projection maps"
   ]
  },
  {
   "cell_type": "code",
   "execution_count": null,
   "metadata": {},
   "outputs": [],
   "source": [
    "ouput_dir = \"../output_data/\"\n",
    "os.mkdir(ouput_dir)"
   ]
  },
  {
   "cell_type": "code",
   "execution_count": 20,
   "metadata": {},
   "outputs": [],
   "source": [
    "proj = np.average(image, axis = 1)\n",
    "masked_proj = np.average(mask, axis = 1)"
   ]
  },
  {
   "cell_type": "code",
   "execution_count": 22,
   "metadata": {},
   "outputs": [
    {
     "name": "stderr",
     "output_type": "stream",
     "text": [
      "/opt/conda/lib/python3.8/site-packages/napari/_vispy/vispy_camera.py:109: RuntimeWarning: divide by zero encountered in true_divide\n",
      "  zoom = np.min(canvas_size / scale)\n"
     ]
    },
    {
     "data": {
      "text/plain": [
       "<Image layer 'masked_proj' at 0x7f522d9acb80>"
      ]
     },
     "execution_count": 22,
     "metadata": {},
     "output_type": "execute_result"
    }
   ],
   "source": [
    "viewer_proj = napari.view_image(data = proj, name=\"proj\")\n",
    "viewer_proj.add_image(data = masked_proj, name=\"masked_proj\")"
   ]
  },
  {
   "cell_type": "code",
   "execution_count": null,
   "metadata": {},
   "outputs": [],
   "source": [
    "skimage.io.imsave(ouput_dir+theZipFile_nameNoExt+\"_proj.png\", proj)\n",
    "skimage.io.imsave(ouput_dir+theZipFile_nameNoExt+\"_masked_proj.png\", masked_proj)\n"
   ]
  },
  {
   "cell_type": "markdown",
   "metadata": {},
   "source": [
    "# We're done, you can found your images in the output folder and download them!"
   ]
  },
  {
   "cell_type": "code",
   "execution_count": null,
   "metadata": {},
   "outputs": [],
   "source": []
  }
 ],
 "metadata": {
  "kernelspec": {
   "display_name": "Python 3",
   "language": "python",
   "name": "python3"
  },
  "language_info": {
   "codemirror_mode": {
    "name": "ipython",
    "version": 3
   },
   "file_extension": ".py",
   "mimetype": "text/x-python",
   "name": "python",
   "nbconvert_exporter": "python",
   "pygments_lexer": "ipython3",
   "version": "3.8.6"
  }
 },
 "nbformat": 4,
 "nbformat_minor": 4
}
