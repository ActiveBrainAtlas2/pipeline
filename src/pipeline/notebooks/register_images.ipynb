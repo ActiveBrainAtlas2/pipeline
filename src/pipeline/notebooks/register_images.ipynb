{
 "cells": [
  {
   "cell_type": "code",
   "execution_count": 1,
   "metadata": {},
   "outputs": [],
   "source": [
    "import os\n",
    "import sys\n",
    "import numpy as np\n",
    "from skimage import io\n",
    "import itk\n",
    "from scipy import ndimage\n"
   ]
  },
  {
   "cell_type": "code",
   "execution_count": 2,
   "metadata": {},
   "outputs": [],
   "source": [
    "def compare_two_images(img1, img2):\n",
    "    plt.figure(figsize=[20,20])\n",
    "    plt.imshow(img1,cmap='Blues')\n",
    "    plt.imshow(img2,alpha=0.5,cmap='Reds')\n",
    "    \n",
    "def compute_dice_coefficient(source_image: itk.Image, target_image: itk.Image) -> float:\n",
    "    \"\"\"Compute the dice coefficient to compare volume overlap between two label regions\"\"\"\n",
    "    dice_filter = itk.LabelOverlapMeasuresImageFilter[type(source_image)].New()\n",
    "    dice_filter.SetInput(source_image)\n",
    "    dice_filter.SetTargetImage(target_image)\n",
    "    dice_filter.Update()\n",
    "    return dice_filter.GetDiceCoefficient()"
   ]
  },
  {
   "cell_type": "code",
   "execution_count": 3,
   "metadata": {},
   "outputs": [],
   "source": [
    "DATA = '/net/birdstore/Active_Atlas_Data/data_root/pipeline_data/DK52/preps/CH1'\n",
    "REGDATA = '/net/birdstore/Active_Atlas_Data/data_root/brains_info/registration'"
   ]
  },
  {
   "cell_type": "code",
   "execution_count": 4,
   "metadata": {},
   "outputs": [
    {
     "name": "stdout",
     "output_type": "stream",
     "text": [
      "Fixed volume shape=(228, 160, 264) dtype=uint16\n"
     ]
    }
   ],
   "source": [
    "filename = 'allen_50um_sagittal.tif'\n",
    "fixedFilepath = os.path.join(REGDATA, filename)\n",
    "fixed_volume = io.imread(fixedFilepath)\n",
    "fz, fy, fx = fixed_volume.shape\n",
    "print(f'Fixed volume shape={fixed_volume.shape} dtype={fixed_volume.dtype}')"
   ]
  },
  {
   "cell_type": "code",
   "execution_count": null,
   "metadata": {},
   "outputs": [],
   "source": [
    "colpad = np.zeros((fixed_volume.shape[0], fixed_volume.shape[1], 100), np.uint16)\n",
    "print(f'colspad shape={colpad.shape}')\n",
    "fixed_volume = np.concatenate((fixed_volume, colpad), axis=2)\n",
    "rowpad = np.zeros((fixed_volume.shape[0], 50, fixed_volume.shape[2]), np.uint16)\n",
    "print(f'rowpad shape={rowpad.shape}')\n",
    "fixed_volume = np.concatenate((fixed_volume, rowpad), axis=1)\n",
    "print(f'Fixed volume after padding shape={fixed_volume.shape} dtype={fixed_volume.dtype}')"
   ]
  },
  {
   "cell_type": "code",
   "execution_count": null,
   "metadata": {},
   "outputs": [],
   "source": [
    "#outpath = os.path.join(REGDATA, 'allen_25um_sagittal_padded.tif')\n",
    "#imwrite(outpath, fixed_volume)"
   ]
  },
  {
   "cell_type": "code",
   "execution_count": 5,
   "metadata": {},
   "outputs": [
    {
     "name": "stdout",
     "output_type": "stream",
     "text": [
      "Moving volume shape=(486, 139, 256) dtype=uint16\n"
     ]
    }
   ],
   "source": [
    "movingFilepath = os.path.join(DATA, 'aligned_volume.128.tif')\n",
    "moving_volume = io.imread(movingFilepath)\n",
    "mz, my, mx = moving_volume.shape\n",
    "print(f'Moving volume shape={moving_volume.shape} dtype={moving_volume.dtype}')"
   ]
  },
  {
   "cell_type": "code",
   "execution_count": null,
   "metadata": {},
   "outputs": [],
   "source": [
    "fixed_midpoint = fixed_volume.shape[0] // 2\n",
    "fixed_image = fixed_volume[fixed_midpoint,:,:]\n",
    "print(f'Fixed image shape={fixed_image.shape} dtype={fixed_image.dtype}')"
   ]
  },
  {
   "cell_type": "code",
   "execution_count": null,
   "metadata": {},
   "outputs": [],
   "source": [
    "# moving_volume around x=1200, y = 750 for 10um\n",
    "# moving volume around x=600, y=350 for 25um\n",
    "files = os.listdir(os.path.join(DATA, 'thumbnail_aligned'))\n",
    "midpoint = len(files) // 2\n",
    "filename = f'{midpoint}.tif'\n",
    "movingFilepath = os.path.join(DATA, 'thumbnail_aligned', filename)\n",
    "moving_image = io.imread(movingFilepath)\n",
    "print(f'Moving image shape={moving_image.shape} dtype={moving_image.dtype}')\n",
    "#moving_image = moving_image[200:-200,200:-200]\n",
    "#print(f'Shape after cropping of {filename}: {moving_image.shape}')"
   ]
  },
  {
   "cell_type": "code",
   "execution_count": null,
   "metadata": {},
   "outputs": [],
   "source": [
    "#movingImage = itk.image_from_array(moving_image.astype(np.float32))\n",
    "#fixedImage = itk.image_from_array(fixed_image.astype(np.float32))\n",
    "movingImage = itk.GetImageFromArray(np.ascontiguousarray(moving_image))\n",
    "fixedImage = itk.GetImageFromArray(np.ascontiguousarray(fixed_image))"
   ]
  },
  {
   "cell_type": "code",
   "execution_count": null,
   "metadata": {},
   "outputs": [],
   "source": [
    "parameter_object = itk.ParameterObject.New()\n",
    "trans_parameter_map = parameter_object.GetDefaultParameterMap('translation')\n",
    "rigid_parameter_map = parameter_object.GetDefaultParameterMap('rigid')\n",
    "affine_parameter_map = parameter_object.GetDefaultParameterMap('affine')\n",
    "bspline_parameter_map = parameter_object.GetDefaultParameterMap(\"bspline\", 3, 20.0)\n",
    "\n",
    "parameter_object.AddParameterMap(trans_parameter_map)\n",
    "parameter_object.AddParameterMap(rigid_parameter_map)\n",
    "parameter_object.AddParameterMap(affine_parameter_map)\n",
    "parameter_object.AddParameterMap(bspline_parameter_map)"
   ]
  },
  {
   "cell_type": "code",
   "execution_count": null,
   "metadata": {},
   "outputs": [],
   "source": [
    "# Load Elastix Image Filter Object\n",
    "elastix_object = itk.ElastixRegistrationMethod.New(fixedImage, movingImage)\n",
    "# elastix_object.SetFixedImage(fixed_image)\n",
    "# elastix_object.SetMovingImage(moving_image)\n",
    "elastix_object.SetParameterObject(parameter_object)\n",
    "# Set additional options\n",
    "elastix_object.SetLogToConsole(False)\n",
    "#elastix_object.SetNumberOfThreads(2)\n",
    "# Update filter object (required)\n",
    "elastix_object.UpdateLargestPossibleRegion()\n",
    "# Results of Registration\n",
    "resultImage = elastix_object.GetOutput()\n",
    "result_transform_parameters = elastix_object.GetTransformParameterObject()"
   ]
  },
  {
   "cell_type": "code",
   "execution_count": null,
   "metadata": {},
   "outputs": [],
   "source": [
    "registered_image = np.asarray(resultImage).astype(np.uint16)\n",
    "print(f'image dtype={registered_image.dtype} shape={registered_image.shape}')"
   ]
  },
  {
   "cell_type": "code",
   "execution_count": null,
   "metadata": {},
   "outputs": [],
   "source": [
    "type(resultImage)"
   ]
  },
  {
   "cell_type": "code",
   "execution_count": null,
   "metadata": {},
   "outputs": [],
   "source": [
    "#rImage = itk.GetImageFromArray(np.ascontiguousarray(registered_image))\n",
    "#print(type(rImage))\n",
    "#itk.LabelOverlapMeasuresImageFilter.GetTypes()\n",
    "dice_score = compute_dice_coefficient(resultImage, fixedImage)\n",
    "print(f'Evaluated dice value: {dice_score}')"
   ]
  },
  {
   "cell_type": "code",
   "execution_count": null,
   "metadata": {},
   "outputs": [],
   "source": [
    "fixedImage = sitk.ReadImage(fixedFilepath)\n",
    "movingImage = sitk.ReadImage(movingFilepath)\n",
    "\n",
    "initial_transform = sitk.CenteredTransformInitializer(fixedImage, \n",
    "                                                    movingImage, \n",
    "                                                    sitk.Euler3DTransform(), \n",
    "                                                    sitk.CenteredTransformInitializerFilter.MOMENTS)\n",
    "\n",
    "moving_resampled = sitk.Resample(movingImage, fixedImage, initial_transform, sitk.sitkLinear, 0.0, movingImage.GetPixelID())\n",
    "moving_volume = sitk.GetArrayFromImage(moving_resampled)"
   ]
  },
  {
   "cell_type": "code",
   "execution_count": null,
   "metadata": {},
   "outputs": [],
   "source": [
    "%%time\n",
    "elastixImageFilter = sitk.ElastixImageFilter()\n",
    "elastixImageFilter.SetFixedImage(fixedImage)\n",
    "elastixImageFilter.SetMovingImage(movingImage)\n",
    "translateParameterMap = sitk.GetDefaultParameterMap('translation')\n",
    "translateParameterMap[\"ResultImagePixelType\"] = [\"unsigned char\"]\n",
    "translateParameterMap[\"MaximumNumberOfIterations\"] = [\"15\"] # 250 works ok        \n",
    "rigidParameterMap = sitk.GetDefaultParameterMap('rigid')\n",
    "rigidParameterMap[\"ResultImagePixelType\"] = [\"unsigned char\"]\n",
    "rigidParameterMap[\"MaximumNumberOfIterations\"] = [\"1500\"] # 250 works ok        \n",
    "rigidParameterMap[\"MaximumNumberOfSamplingAttempts\"] = [\"10\"]\n",
    "rigidParameterMap[\"UseDirectionCosines\"] = [\"true\"]\n",
    "rigidParameterMap[\"NumberOfResolutions\"]= [\"6\"]\n",
    "rigidParameterMap[\"NumberOfSpatialSamples\"] = [\"4000\"]\n",
    "rigidParameterMap[\"WriteResultImage\"] = [\"false\"]\n",
    "\n",
    "\n",
    "affineParameterMap = sitk.GetDefaultParameterMap('affine')\n",
    "affineParameterMap[\"UseDirectionCosines\"] = [\"true\"]\n",
    "affineParameterMap[\"MaximumNumberOfIterations\"] = [\"1000\"] # 250 works ok\n",
    "affineParameterMap[\"MaximumNumberOfSamplingAttempts\"] = [\"10\"]\n",
    "affineParameterMap[\"NumberOfResolutions\"]= [\"6\"]\n",
    "affineParameterMap[\"NumberOfSpatialSamples\"] = [\"4000\"]\n",
    "affineParameterMap[\"WriteResultImage\"] = [\"false\"]\n",
    "\n",
    "bsplineParameterMap = sitk.GetDefaultParameterMap('bspline')\n",
    "bsplineParameterMap[\"MaximumNumberOfIterations\"] = [\"1500\"] # 150 works ok\n",
    "bsplineParameterMap[\"WriteResultImage\"] = [\"false\"]\n",
    "bsplineParameterMap[\"UseDirectionCosines\"] = [\"true\"]\n",
    "bsplineParameterMap[\"FinalGridSpacingInVoxels\"] = [\"10\"]\n",
    "bsplineParameterMap[\"MaximumNumberOfSamplingAttempts\"] = [\"10\"]\n",
    "bsplineParameterMap[\"NumberOfResolutions\"]= [\"6\"]\n",
    "bsplineParameterMap[\"GridSpacingSchedule\"] = [\"6.219\", \"4.1\", \"2.8\", \"1.9\", \"1.4\", \"1.0\"]\n",
    "bsplineParameterMap[\"NumberOfSpatialSamples\"] = [\"4000\"]\n",
    "del bsplineParameterMap[\"FinalGridSpacingInPhysicalUnits\"]\n",
    "\n",
    "elastixImageFilter.SetParameterMap(translateParameterMap)\n",
    "elastixImageFilter.SetParameterMap(rigidParameterMap)\n",
    "elastixImageFilter.AddParameterMap(affineParameterMap)\n",
    "#elastixImageFilter.AddParameterMap(bsplineParameterMap)\n",
    "resultImage = elastixImageFilter.Execute()"
   ]
  },
  {
   "cell_type": "code",
   "execution_count": null,
   "metadata": {},
   "outputs": [],
   "source": [
    "sitk.PrintParameterMap(sitk.GetDefaultParameterMap(\"rigid\"))"
   ]
  },
  {
   "cell_type": "code",
   "execution_count": null,
   "metadata": {
    "scrolled": true
   },
   "outputs": [],
   "source": [
    "#arr = fixed_volume\n",
    "#r = sitk.Cast(resultImage, sitk.sitkUInt16)\n",
    "#registered_image = sitk.GetArrayFromImage(resultImage)\n",
    "plt.title('all')\n",
    "plt.imshow(registered_image, cmap=\"gray\")\n",
    "plt.show()"
   ]
  },
  {
   "cell_type": "code",
   "execution_count": null,
   "metadata": {},
   "outputs": [],
   "source": [
    "type(registered_image)"
   ]
  },
  {
   "cell_type": "code",
   "execution_count": null,
   "metadata": {},
   "outputs": [],
   "source": [
    "# 1- blue is fixed (Allen), 2 red is moving (DKXX)\n",
    "compare_two_images(fixed_image, registered_image)"
   ]
  },
  {
   "cell_type": "code",
   "execution_count": null,
   "metadata": {
    "scrolled": true
   },
   "outputs": [],
   "source": [
    "plt.title('fixed image')\n",
    "plt.imshow(fixed_image, cmap=\"gray\")\n",
    "plt.show()"
   ]
  },
  {
   "cell_type": "code",
   "execution_count": null,
   "metadata": {},
   "outputs": [],
   "source": [
    "plt.title('reg image')\n",
    "plt.imshow(resultImage, cmap=\"gray\")\n",
    "plt.show()"
   ]
  },
  {
   "cell_type": "code",
   "execution_count": null,
   "metadata": {},
   "outputs": [],
   "source": [
    "#ri = sitk.GetArrayFromImage(registered_image)\n",
    "#plt.title('registered image')\n",
    "#plt.imshow(ri, cmap=\"gray\")\n",
    "#plt.show()"
   ]
  },
  {
   "cell_type": "code",
   "execution_count": null,
   "metadata": {},
   "outputs": [],
   "source": [
    "#scaled = zoom(moving_volume, zoom=(1, scaler, scaler))\n",
    "#print(scaled.shape)\n",
    "outpath = os.path.join(DATA, 'registered_243.allparams.tif')\n",
    "imwrite(outpath, registered_image)\n",
    "#vm2 = np.swapaxes(volume, 0,2)\n",
    "#print(vm2.shape)\n",
    "#outpath = os.path.join(DATA, 'allen_50um_sagittal.tif')\n",
    "#imwrite(outpath, vm2)"
   ]
  },
  {
   "cell_type": "code",
   "execution_count": null,
   "metadata": {},
   "outputs": [],
   "source": [
    "result_image_affine, result_transform_parameters = itk.elastix_registration_method(fixed, moving, parameter_object = parameter_object, log_to_console=True)\n"
   ]
  }
 ],
 "metadata": {
  "kernelspec": {
   "display_name": "Python 3",
   "language": "python",
   "name": "python3"
  },
  "language_info": {
   "codemirror_mode": {
    "name": "ipython",
    "version": 3
   },
   "file_extension": ".py",
   "mimetype": "text/x-python",
   "name": "python",
   "nbconvert_exporter": "python",
   "pygments_lexer": "ipython3",
   "version": "3.10.6"
  }
 },
 "nbformat": 4,
 "nbformat_minor": 4
}
