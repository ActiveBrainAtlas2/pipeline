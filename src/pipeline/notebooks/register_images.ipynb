{
 "cells": [
  {
   "cell_type": "code",
   "execution_count": null,
   "metadata": {},
   "outputs": [],
   "source": [
    "import os\n",
    "import sys\n",
    "import numpy as np\n",
    "from skimage import io\n",
    "from matplotlib import pyplot as plt\n",
    "import cv2\n",
    "import SimpleITK as sitk\n",
    "from tifffile import imwrite"
   ]
  },
  {
   "cell_type": "code",
   "execution_count": null,
   "metadata": {},
   "outputs": [],
   "source": [
    "def compare_two_images(img1, img2):\n",
    "    plt.figure(figsize=[20,20])\n",
    "    plt.imshow(img1,cmap='Blues')\n",
    "    plt.imshow(img2,alpha=0.5,cmap='Reds')"
   ]
  },
  {
   "cell_type": "code",
   "execution_count": null,
   "metadata": {},
   "outputs": [],
   "source": [
    "DATA = '/net/birdstore/Active_Atlas_Data/data_root/pipeline_data/DK52/preps/CH1'\n",
    "REGDATA = '/net/birdstore/Active_Atlas_Data/data_root/brains_info/registration'"
   ]
  },
  {
   "cell_type": "code",
   "execution_count": null,
   "metadata": {},
   "outputs": [],
   "source": [
    "filename = 'allen_10um_sagittal.tif'\n",
    "fixedFilepath = os.path.join(REGDATA, filename)\n",
    "fixed_volume = io.imread(fixedFilepath)\n",
    "print(f'Fixed volume shape={fixed_volume.shape} dtype={fixed_volume.dtype}')"
   ]
  },
  {
   "cell_type": "code",
   "execution_count": null,
   "metadata": {},
   "outputs": [],
   "source": [
    "fixed_midpoint = fixed_volume.shape[0] // 2\n",
    "fixed_image = fixed_volume[fixed_midpoint,:,:]\n",
    "del fixed_volume\n",
    "print(f'Fixed image shape={fixed_image.shape} dtype={fixed_image.dtype}')"
   ]
  },
  {
   "cell_type": "code",
   "execution_count": null,
   "metadata": {},
   "outputs": [],
   "source": [
    "# moving_volume around x=1200, y = 750 for 10um\n",
    "# moving volume around x=600, y=350 for 25um\n",
    "files = os.listdir(os.path.join(DATA, 'thumbnail_aligned'))\n",
    "midpoint = len(files) // 2\n",
    "filename = f'{midpoint}.tif'\n",
    "movingFilepath = os.path.join(DATA, 'thumbnail_aligned', filename)\n",
    "moving_image = io.imread(movingFilepath)\n",
    "print(f'Shape of {filename}: {moving_image.shape}')\n",
    "#moving_image = moving_image[200:,200:]\n",
    "#print(f'Shape of {filename}: {moving_image.shape}')"
   ]
  },
  {
   "cell_type": "code",
   "execution_count": null,
   "metadata": {},
   "outputs": [],
   "source": [
    "fx = 65500\n",
    "fy = 35500\n",
    "print(fx/2252)\n",
    "print(fy/1220)\n",
    "1/29.85*100"
   ]
  },
  {
   "cell_type": "code",
   "execution_count": null,
   "metadata": {},
   "outputs": [],
   "source": [
    "fixedImage = sitk.ReadImage(fixedFilepath)\n",
    "movingImage = sitk.ReadImage(movingFilepath)\n",
    "\n",
    "initial_transform = sitk.CenteredTransformInitializer(fixedImage, \n",
    "                                                    movingImage, \n",
    "                                                    sitk.Euler3DTransform(), \n",
    "                                                    sitk.CenteredTransformInitializerFilter.MOMENTS)\n",
    "\n",
    "moving_resampled = sitk.Resample(movingImage, fixedImage, initial_transform, sitk.sitkLinear, 0.0, movingImage.GetPixelID())\n",
    "moving_volume = sitk.GetArrayFromImage(moving_resampled)"
   ]
  },
  {
   "cell_type": "code",
   "execution_count": null,
   "metadata": {},
   "outputs": [],
   "source": [
    "fixedImage = sitk.GetImageFromArray(fixed_image)\n",
    "movingImage = sitk.GetImageFromArray(moving_image)\n",
    "print(type(fixedImage))"
   ]
  },
  {
   "cell_type": "code",
   "execution_count": null,
   "metadata": {},
   "outputs": [],
   "source": [
    "%%time\n",
    "elastixImageFilter = sitk.ElastixImageFilter()\n",
    "elastixImageFilter.SetFixedImage(fixedImage)\n",
    "elastixImageFilter.SetMovingImage(movingImage)\n",
    "translateParameterMap = sitk.GetDefaultParameterMap('translation')\n",
    "translateParameterMap[\"ResultImagePixelType\"] = [\"unsigned char\"]\n",
    "translateParameterMap[\"MaximumNumberOfIterations\"] = [\"15\"] # 250 works ok        \n",
    "rigidParameterMap = sitk.GetDefaultParameterMap('rigid')\n",
    "rigidParameterMap[\"ResultImagePixelType\"] = [\"unsigned char\"]\n",
    "rigidParameterMap[\"MaximumNumberOfIterations\"] = [\"1500\"] # 250 works ok        \n",
    "rigidParameterMap[\"MaximumNumberOfSamplingAttempts\"] = [\"10\"]\n",
    "rigidParameterMap[\"UseDirectionCosines\"] = [\"true\"]\n",
    "rigidParameterMap[\"NumberOfResolutions\"]= [\"6\"]\n",
    "rigidParameterMap[\"NumberOfSpatialSamples\"] = [\"4000\"]\n",
    "rigidParameterMap[\"WriteResultImage\"] = [\"false\"]\n",
    "\n",
    "\n",
    "affineParameterMap = sitk.GetDefaultParameterMap('affine')\n",
    "affineParameterMap[\"UseDirectionCosines\"] = [\"true\"]\n",
    "affineParameterMap[\"MaximumNumberOfIterations\"] = [\"1000\"] # 250 works ok\n",
    "affineParameterMap[\"MaximumNumberOfSamplingAttempts\"] = [\"10\"]\n",
    "affineParameterMap[\"NumberOfResolutions\"]= [\"6\"]\n",
    "affineParameterMap[\"NumberOfSpatialSamples\"] = [\"4000\"]\n",
    "affineParameterMap[\"WriteResultImage\"] = [\"false\"]\n",
    "\n",
    "bsplineParameterMap = sitk.GetDefaultParameterMap('bspline')\n",
    "\n",
    "bsplineParameterMap[\"MaximumNumberOfIterations\"] = [\"1500\"] # 150 works ok\n",
    "\n",
    "bsplineParameterMap[\"WriteResultImage\"] = [\"true\"]\n",
    "\"\"\"\n",
    "bsplineParameterMap[\"UseDirectionCosines\"] = [\"true\"]\n",
    "bsplineParameterMap[\"FinalGridSpacingInVoxels\"] = [\"10\"]\n",
    "bsplineParameterMap[\"MaximumNumberOfSamplingAttempts\"] = [\"10\"]\n",
    "bsplineParameterMap[\"NumberOfResolutions\"]= [\"6\"]\n",
    "bsplineParameterMap[\"GridSpacingSchedule\"] = [\"6.219\", \"4.1\", \"2.8\", \"1.9\", \"1.4\", \"1.0\"]\n",
    "bsplineParameterMap[\"NumberOfSpatialSamples\"] = [\"4000\"]\n",
    "del bsplineParameterMap[\"FinalGridSpacingInPhysicalUnits\"]\n",
    "\"\"\"\n",
    "#elastixImageFilter.SetParameterMap(translateParameterMap)\n",
    "elastixImageFilter.SetParameterMap(rigidParameterMap)\n",
    "#elastixImageFilter.AddParameterMap(affineParameterMap)\n",
    "#elastixImageFilter.AddParameterMap(bsplineParameterMap)\n",
    "resultImage = elastixImageFilter.Execute()"
   ]
  },
  {
   "cell_type": "code",
   "execution_count": null,
   "metadata": {},
   "outputs": [],
   "source": [
    "sitk.PrintParameterMap(sitk.GetDefaultParameterMap(\"rigid\"))"
   ]
  },
  {
   "cell_type": "code",
   "execution_count": null,
   "metadata": {
    "scrolled": true
   },
   "outputs": [],
   "source": [
    "#arr = fixed_volume\n",
    "r = sitk.Cast(resultImage, sitk.sitkUInt16)\n",
    "registered_image = sitk.GetArrayFromImage(r)\n",
    "plt.title('all')\n",
    "plt.imshow(registered_image, cmap=\"gray\")\n",
    "plt.show()"
   ]
  },
  {
   "cell_type": "code",
   "execution_count": null,
   "metadata": {},
   "outputs": [],
   "source": [
    "registered_image.dtype"
   ]
  },
  {
   "cell_type": "code",
   "execution_count": null,
   "metadata": {},
   "outputs": [],
   "source": [
    "# 1- blue is fixed, 2 red is moving\n",
    "compare_two_images(fixed_image, registered_image)"
   ]
  },
  {
   "cell_type": "code",
   "execution_count": null,
   "metadata": {
    "scrolled": true
   },
   "outputs": [],
   "source": [
    "plt.title('fixed image')\n",
    "plt.imshow(fixed_image, cmap=\"gray\")\n",
    "plt.show()"
   ]
  },
  {
   "cell_type": "code",
   "execution_count": null,
   "metadata": {},
   "outputs": [],
   "source": [
    "plt.title('moving image')\n",
    "plt.imshow(moving_image, cmap=\"gray\")\n",
    "plt.show()"
   ]
  },
  {
   "cell_type": "code",
   "execution_count": null,
   "metadata": {},
   "outputs": [],
   "source": [
    "plt.title('registered image')\n",
    "plt.imshow(registered_image, cmap=\"gray\")\n",
    "plt.show()"
   ]
  },
  {
   "cell_type": "code",
   "execution_count": null,
   "metadata": {},
   "outputs": [],
   "source": [
    "#scaled = zoom(moving_volume, zoom=(1, scaler, scaler))\n",
    "#print(scaled.shape)\n",
    "outpath = os.path.join(DATA, 'registered_243.allparams.tif')\n",
    "imwrite(outpath, registered_image)\n",
    "#vm2 = np.swapaxes(volume, 0,2)\n",
    "#print(vm2.shape)\n",
    "#outpath = os.path.join(DATA, 'allen_50um_sagittal.tif')\n",
    "#imwrite(outpath, vm2)"
   ]
  },
  {
   "cell_type": "code",
   "execution_count": null,
   "metadata": {},
   "outputs": [],
   "source": [
    "result_image_affine, result_transform_parameters = itk.elastix_registration_method(fixed, moving, parameter_object = parameter_object, log_to_console=True)\n"
   ]
  }
 ],
 "metadata": {
  "kernelspec": {
   "display_name": "Python 3",
   "language": "python",
   "name": "python3"
  },
  "language_info": {
   "codemirror_mode": {
    "name": "ipython",
    "version": 3
   },
   "file_extension": ".py",
   "mimetype": "text/x-python",
   "name": "python",
   "nbconvert_exporter": "python",
   "pygments_lexer": "ipython3",
   "version": "3.10.6"
  }
 },
 "nbformat": 4,
 "nbformat_minor": 4
}
