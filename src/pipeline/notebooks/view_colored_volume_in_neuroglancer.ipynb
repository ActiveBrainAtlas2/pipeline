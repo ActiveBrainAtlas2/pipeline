{
 "cells": [
  {
   "cell_type": "code",
   "execution_count": 32,
   "metadata": {},
   "outputs": [],
   "source": [
    "import os\n",
    "import sys\n",
    "import numpy as np\n",
    "import neuroglancer\n",
    "from skimage import io\n",
    "import matplotlib\n",
    "from pprint import pprint\n",
    "from matplotlib import pyplot as plt\n",
    "from tqdm import tqdm\n",
    "import cv2\n",
    "from pathlib import Path\n",
    "from tifffile import imwrite\n",
    "import SimpleITK as sitk\n",
    "from scipy.ndimage import zoom\n",
    "PIPELINE_ROOT = Path('.').resolve().parent.parent\n",
    "sys.path.append(PIPELINE_ROOT.as_posix())\n",
    "\n",
    "from library.utilities.utilities_mask import normalize16"
   ]
  },
  {
   "cell_type": "code",
   "execution_count": 25,
   "metadata": {},
   "outputs": [
    {
     "name": "stdout",
     "output_type": "stream",
     "text": [
      "Volume shape=(1140, 800, 1320) dtype=uint16\n"
     ]
    }
   ],
   "source": [
    "filename = 'allen_10um_sagittal.tif'\n",
    "DATA = '/net/birdstore/Active_Atlas_Data/data_root/brains_info/registration'\n",
    "filepath = os.path.join(DATA, filename)\n",
    "fixedvolume = io.imread(filepath)\n",
    "print(f'Volume shape={volume.shape} dtype={volume.dtype}')"
   ]
  },
  {
   "cell_type": "code",
   "execution_count": 26,
   "metadata": {},
   "outputs": [
    {
     "name": "stdout",
     "output_type": "stream",
     "text": [
      "Volume shape=(486, 555, 1024) dtype=uint16\n"
     ]
    }
   ],
   "source": [
    "filename = 'moving_volume.tif'\n",
    "DATA = '/net/birdstore/Active_Atlas_Data/data_root/pipeline_data/DK52/preps/CH1'\n",
    "filepath = os.path.join(DATA, filename)\n",
    "volume = io.imread(filepath)\n",
    "print(f'Volume shape={volume.shape} dtype={volume.dtype}')"
   ]
  },
  {
   "cell_type": "code",
   "execution_count": 30,
   "metadata": {},
   "outputs": [
    {
     "name": "stdout",
     "output_type": "stream",
     "text": [
      "(486, 800, 1320)\n"
     ]
    }
   ],
   "source": [
    "scaled = zoom(volume, zoom=(1, 800/555, 1320/1024))\n",
    "print(scaled.shape)"
   ]
  },
  {
   "cell_type": "code",
   "execution_count": 31,
   "metadata": {},
   "outputs": [],
   "source": [
    "outpath = os.path.join(DATA, 'scaled_volume.64.tif')\n",
    "imwrite(outpath, scaled)"
   ]
  },
  {
   "cell_type": "code",
   "execution_count": 35,
   "metadata": {},
   "outputs": [],
   "source": [
    "fixed_file = '/net/birdstore/Active_Atlas_Data/data_root/brains_info/registration/allen_25um_sagittal.tif'\n",
    "moving_file = '/net/birdstore/Active_Atlas_Data/data_root/pipeline_data/DK52/preps/CH1/moving_volume.tif'\n",
    "pixelType = sitk.sitkFloat32\n",
    "fixed_image = sitk.ReadImage(fixed_file, pixelType)\n",
    "moving_image = sitk.ReadImage(moving_file, pixelType)"
   ]
  },
  {
   "cell_type": "code",
   "execution_count": 37,
   "metadata": {},
   "outputs": [
    {
     "data": {
      "text/plain": [
       "'/net/birdstore/Active_Atlas_Data/data_root/pipeline_data/DK52/preps/CH1'"
      ]
     },
     "execution_count": 37,
     "metadata": {},
     "output_type": "execute_result"
    }
   ],
   "source": [
    "DATA"
   ]
  },
  {
   "cell_type": "code",
   "execution_count": 36,
   "metadata": {},
   "outputs": [],
   "source": [
    "initial_transform = sitk.CenteredTransformInitializer(fixed_image, \n",
    "                                                      moving_image, \n",
    "                                                      sitk.Euler3DTransform(), \n",
    "                                                      sitk.CenteredTransformInitializerFilter.GEOMETRY)\n",
    "\n",
    "moving_resampled = sitk.Resample(moving_image, fixed_image, initial_transform, sitk.sitkLinear, 0.0, moving_image.GetPixelID())"
   ]
  },
  {
   "cell_type": "code",
   "execution_count": 24,
   "metadata": {},
   "outputs": [
    {
     "name": "stdout",
     "output_type": "stream",
     "text": [
      "(228, 160, 264)\n"
     ]
    }
   ],
   "source": [
    "vm2 = np.swapaxes(volume, 0,2)\n",
    "print(vm2.shape)\n",
    "outpath = os.path.join(DATA, 'allen_50um_sagittal.tif')\n",
    "imwrite(outpath, vm2)"
   ]
  },
  {
   "cell_type": "code",
   "execution_count": null,
   "metadata": {},
   "outputs": [],
   "source": [
    "sagittal = volume.swapaxes(-2,-1)[...,::-1]\n",
    "sagittal = np.flip(sagittal, axis=2)\n",
    "arr = sagittal\n",
    "#arr = np.swapaxes(volume, 1,2)\n",
    "midpoint = arr.shape[2] // 2\n",
    "plt.title('Z {}'.format(i))\n",
    "img = arr[:,:,midpoint]\n",
    "#img = np.rot90(img, 1, axes=(1,0))\n",
    "#img = np.flip(img, axis=1)\n",
    "plt.imshow(img, cmap=\"seismic\")\n",
    "plt.show()"
   ]
  },
  {
   "cell_type": "code",
   "execution_count": 17,
   "metadata": {},
   "outputs": [
    {
     "name": "stderr",
     "output_type": "stream",
     "text": [
      " 60%|██████████████████████████████████████████████████████████████████████████████████████████████████████████████████████▏                                                                              | 3/5 [00:00<00:00,  9.79it/s]"
     ]
    },
    {
     "name": "stdout",
     "output_type": "stream",
     "text": [
      "img shape=(640, 352) img2 shape=(1280, 1056)\n",
      "img shape=(640, 352) img2 shape=(1280, 1056)\n",
      "img shape=(640, 352) img2 shape=(1280, 1056)\n"
     ]
    },
    {
     "name": "stderr",
     "output_type": "stream",
     "text": [
      "100%|█████████████████████████████████████████████████████████████████████████████████████████████████████████████████████████████████████████████████████████████████████████████████████████████████████| 5/5 [00:00<00:00,  9.82it/s]\n"
     ]
    },
    {
     "name": "stdout",
     "output_type": "stream",
     "text": [
      "img shape=(640, 352) img2 shape=(1280, 1056)\n",
      "img shape=(640, 352) img2 shape=(1280, 1056)\n"
     ]
    },
    {
     "data": {
      "image/png": "[encoded data removed]",
      "text/plain": [
       "<Figure size 640x480 with 1 Axes>"
      ]
     },
     "metadata": {},
     "output_type": "display_data"
    }
   ],
   "source": [
    "#arr = normalize16(volume)\n",
    "arr = volume\n",
    "arr = np.swapaxes(volume, 0,2)\n",
    "midpoint = arr.shape[2] // 2\n",
    "limit = 8\n",
    "start = midpoint - 10\n",
    "end = midpoint + 10\n",
    "for i in tqdm(range(start, end, 4)):\n",
    "    plt.title('Z {}'.format(i))\n",
    "    img = arr[:,:,i]\n",
    "    #img = np.rot90(img, 1, axes=(1,0))\n",
    "    #img = np.flip(img, axis=1)\n",
    "    #plt.imshow(img, cmap=\"seismic\")\n",
    "    #plt.show()"
   ]
  },
  {
   "cell_type": "code",
   "execution_count": null,
   "metadata": {},
   "outputs": [],
   "source": [
    "image_stack = np.zeros(volume.shape)\n",
    "file_list = []\n",
    "\n",
    "for i in tqdm(range(0, volume.shape[2], 1)):\n",
    "    img = volume[:,:,i]\n",
    "    img = np.rot90(img, 1, axes=(1,0))\n",
    "    img = np.flip(img, axis=1)\n",
    "    filepath = os.path.join(OUTPUT, str(i).zfill(3) + '.tif')\n",
    "    cv2.imwrite(filepath, img)"
   ]
  },
  {
   "cell_type": "code",
   "execution_count": 4,
   "metadata": {},
   "outputs": [
    {
     "name": "stdout",
     "output_type": "stream",
     "text": [
      "new volume shape=(540, 352, 640)\n",
      "http://127.0.0.1:41169/v/16f21bc2580a667684704f132cdc3f8b80e14fb8/\n"
     ]
    }
   ],
   "source": [
    "# The default atlas created by brainreg is isotropic 25um\n",
    "vm2 = volume\n",
    "#print(f'Orig volume shape={sagittal.shape}')\n",
    "#vm2 = np.swapaxes(volume, 0,2)\n",
    "#sagittal = np.rot90(sagittal, axes=(1, 0))\n",
    "#sagittal = np.flip(sagittal, axis=1)\n",
    "print(f'new volume shape={vm2.shape}')\n",
    "\n",
    "dimensions = neuroglancer.CoordinateSpace(\n",
    "    names=['x', 'y', 'z'],\n",
    "    units='um',\n",
    "    scales=[20,20,20])\n",
    "viewer = neuroglancer.Viewer()\n",
    "with viewer.txn() as s:\n",
    "    s.dimensions = dimensions\n",
    "    s.layout = '4panel'\n",
    "    s.layers['Princeton'] = neuroglancer.SegmentationLayer(\n",
    "        source=neuroglancer.LocalVolume(\n",
    "            data=vm2,\n",
    "            dimensions=dimensions,\n",
    "            voxel_offset=(0, 0, 0),\n",
    "        ))\n",
    "\n",
    "print(viewer)"
   ]
  }
 ],
 "metadata": {
  "kernelspec": {
   "display_name": "Python 3",
   "language": "python",
   "name": "python3"
  },
  "language_info": {
   "codemirror_mode": {
    "name": "ipython",
    "version": 3
   },
   "file_extension": ".py",
   "mimetype": "text/x-python",
   "name": "python",
   "nbconvert_exporter": "python",
   "pygments_lexer": "ipython3",
   "version": "3.10.6"
  }
 },
 "nbformat": 4,
 "nbformat_minor": 4
}
