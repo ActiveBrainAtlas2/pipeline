{
 "cells": [
  {
   "cell_type": "code",
   "execution_count": null,
   "metadata": {},
   "outputs": [],
   "source": [
    "import os\n",
    "import sys\n",
    "import numpy as np\n",
    "import neuroglancer\n",
    "from skimage import io\n",
    "import matplotlib\n",
    "from pprint import pprint\n",
    "from matplotlib import pyplot as plt\n",
    "from tqdm import tqdm\n",
    "import cv2\n",
    "from pathlib import Path\n",
    "from tifffile import imwrite\n",
    "PIPELINE_ROOT = Path('.').resolve().parent.parent\n",
    "sys.path.append(PIPELINE_ROOT.as_posix())\n",
    "\n",
    "from library.utilities.utilities_mask import normalize16"
   ]
  },
  {
   "cell_type": "code",
   "execution_count": null,
   "metadata": {},
   "outputs": [],
   "source": [
    "animal = 'DK52'\n",
    "filename = 'princeton_annotations.tif'\n",
    "DATA = '/net/birdstore/Active_Atlas_Data/data_root/brains_info/registration'\n",
    "filepath = os.path.join(DATA, filename)\n",
    "volume = io.imread(filepath)\n",
    "#volume = volume.astype(np.uint32)\n",
    "print(f'Volume shape={volume.shape} dtype={volume.dtype}')"
   ]
  },
  {
   "cell_type": "code",
   "execution_count": null,
   "metadata": {},
   "outputs": [],
   "source": [
    "sagittal = volume.swapaxes(-2,-1)[...,::-1]\n",
    "sagittal = np.flip(sagittal, axis=2)\n",
    "outpath = os.path.join(DATA, 'princeton_annotations.tif')\n",
    "print(sagittal.shape)\n",
    "imwrite(outpath, sagittal)"
   ]
  },
  {
   "cell_type": "code",
   "execution_count": null,
   "metadata": {},
   "outputs": [],
   "source": [
    "vm2 = np.swapaxes(volume, 0,2)\n",
    "outpath = os.path.join(DATA, 'test_princeton_annotations.tif')\n",
    "imwrite(outpath, vm2)"
   ]
  },
  {
   "cell_type": "code",
   "execution_count": null,
   "metadata": {},
   "outputs": [],
   "source": [
    "sagittal = volume.swapaxes(-2,-1)[...,::-1]\n",
    "sagittal = np.flip(sagittal, axis=2)\n",
    "arr = sagittal\n",
    "#arr = np.swapaxes(volume, 1,2)\n",
    "midpoint = arr.shape[2] // 2\n",
    "plt.title('Z {}'.format(i))\n",
    "img = arr[:,:,midpoint]\n",
    "#img = np.rot90(img, 1, axes=(1,0))\n",
    "#img = np.flip(img, axis=1)\n",
    "plt.imshow(img, cmap=\"seismic\")\n",
    "plt.show()"
   ]
  },
  {
   "cell_type": "code",
   "execution_count": null,
   "metadata": {},
   "outputs": [],
   "source": [
    "#arr = normalize16(volume)\n",
    "arr = volume\n",
    "#arr = np.swapaxes(volume, 0,2)\n",
    "midpoint = arr.shape[2] // 2\n",
    "limit = 8\n",
    "start = midpoint - 10\n",
    "end = midpoint + 10\n",
    "for i in tqdm(range(start, end, 4)):\n",
    "    plt.title('Z {}'.format(i))\n",
    "    img = arr[:,:,i]\n",
    "    #img = np.rot90(img, 1, axes=(1,0))\n",
    "    #img = np.flip(img, axis=1)\n",
    "    plt.imshow(img, cmap=\"seismic\")\n",
    "    plt.show()"
   ]
  },
  {
   "cell_type": "code",
   "execution_count": null,
   "metadata": {},
   "outputs": [],
   "source": [
    "image_stack = np.zeros(volume.shape)\n",
    "file_list = []\n",
    "\n",
    "for i in tqdm(range(0, volume.shape[2], 1)):\n",
    "    img = volume[:,:,i]\n",
    "    img = np.rot90(img, 1, axes=(1,0))\n",
    "    img = np.flip(img, axis=1)\n",
    "    filepath = os.path.join(OUTPUT, str(i).zfill(3) + '.tif')\n",
    "    cv2.imwrite(filepath, img)"
   ]
  },
  {
   "cell_type": "code",
   "execution_count": null,
   "metadata": {},
   "outputs": [],
   "source": [
    "# The default atlas created by brainreg is isotropic 25um\n",
    "#sagittal = volume\n",
    "print(f'Orig volume shape={sagittal.shape}')\n",
    "vm2 = np.swapaxes(volume, 0,2)\n",
    "#sagittal = np.rot90(sagittal, axes=(1, 0))\n",
    "#sagittal = np.flip(sagittal, axis=1)\n",
    "print(f'new volume shape={vm2.shape}')\n",
    "\n",
    "dimensions = neuroglancer.CoordinateSpace(\n",
    "    names=['x', 'y', 'z'],\n",
    "    units='um',\n",
    "    scales=[20,20,20])\n",
    "viewer = neuroglancer.Viewer()\n",
    "with viewer.txn() as s:\n",
    "    s.dimensions = dimensions\n",
    "    s.layout = '4panel'\n",
    "    s.layers['Princeton'] = neuroglancer.SegmentationLayer(\n",
    "        source=neuroglancer.LocalVolume(\n",
    "            data=vm2,\n",
    "            dimensions=dimensions,\n",
    "            voxel_offset=(0, 0, 0),\n",
    "        ))\n",
    "\n",
    "print(viewer)"
   ]
  }
 ],
 "metadata": {
  "kernelspec": {
   "display_name": "Python 3",
   "language": "python",
   "name": "python3"
  },
  "language_info": {
   "codemirror_mode": {
    "name": "ipython",
    "version": 3
   },
   "file_extension": ".py",
   "mimetype": "text/x-python",
   "name": "python",
   "nbconvert_exporter": "python",
   "pygments_lexer": "ipython3",
   "version": "3.10.6"
  }
 },
 "nbformat": 4,
 "nbformat_minor": 4
}
