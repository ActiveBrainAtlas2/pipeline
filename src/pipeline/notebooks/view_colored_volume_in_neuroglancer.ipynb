{
 "cells": [
  {
   "cell_type": "code",
   "execution_count": 1,
   "metadata": {},
   "outputs": [],
   "source": [
    "import os\n",
    "import sys\n",
    "import numpy as np\n",
    "import neuroglancer\n",
    "from skimage import io\n",
    "import matplotlib\n",
    "from pprint import pprint\n",
    "from matplotlib import pyplot as plt\n",
    "from tqdm import tqdm\n",
    "import cv2\n",
    "from pathlib import Path\n",
    "from tifffile import imwrite\n",
    "import SimpleITK as sitk\n",
    "from scipy.ndimage import zoom\n",
    "PIPELINE_ROOT = Path('.').resolve().parent.parent\n",
    "sys.path.append(PIPELINE_ROOT.as_posix())\n",
    "\n",
    "from library.utilities.utilities_mask import normalize16"
   ]
  },
  {
   "cell_type": "code",
   "execution_count": 2,
   "metadata": {},
   "outputs": [],
   "source": [
    "def compare_two_images(img1, img2):\n",
    "    plt.figure(figsize=[20,20])\n",
    "    plt.imshow(img1,cmap='Blues')\n",
    "    plt.imshow(img2,alpha=0.5,cmap='Reds')"
   ]
  },
  {
   "cell_type": "code",
   "execution_count": 3,
   "metadata": {},
   "outputs": [],
   "source": [
    "DATA = '/net/birdstore/Active_Atlas_Data/data_root/pipeline_data/DK52/preps/CH1'\n",
    "REGDATA = '/net/birdstore/Active_Atlas_Data/data_root/brains_info/registration'"
   ]
  },
  {
   "cell_type": "code",
   "execution_count": null,
   "metadata": {},
   "outputs": [],
   "source": [
    "filename = 'allen_50um_coronal.tif'\n",
    "fixedFilepath = os.path.join(REGDATA, filename)\n",
    "fixed_volume = io.imread(fixedFilepath)\n",
    "print(f'Fixed volume shape={fixed_volume.shape} dtype={fixed_volume.dtype}')"
   ]
  },
  {
   "cell_type": "code",
   "execution_count": null,
   "metadata": {},
   "outputs": [],
   "source": [
    "#arr = np.swapaxes(fixed_volume, 0,2)\n",
    "arr = fixed_volume\n",
    "fixed_midpoint = arr.shape[2] // 2\n",
    "fixed_image = arr[:,:,fixed_midpoint]\n",
    "#img = np.rot90(img, 1, axes=(1,0))\n",
    "#fixed_image = np.flip(img, axis=1)\n",
    "print(f'Fixed image shape={fixed_image.shape} dtype={fixed_image.dtype}')"
   ]
  },
  {
   "cell_type": "code",
   "execution_count": null,
   "metadata": {},
   "outputs": [],
   "source": [
    "del fixed_volume"
   ]
  },
  {
   "cell_type": "code",
   "execution_count": null,
   "metadata": {},
   "outputs": [],
   "source": [
    "# moving_volume around x=1200, y = 750 for 10um\n",
    "# moving volume around x=600, y=350 for 25um\n",
    "filename = 'aligned_volume.64.tif'\n",
    "movingFilepath = os.path.join(DATA, filename)\n",
    "moving_volume = io.imread(movingFilepath)\n",
    "print(f'Shape before scaling: {moving_volume.shape}')\n",
    "scale = fixed_volume.shape[1] / moving_volume.shape[1]\n",
    "print(f'scale={scale}')\n",
    "moving_volume = zoom(moving_volume, zoom=(1, scale, scale))\n",
    "print(f'Shape after scaling: {moving_volume.shape}')\n",
    "#moving_volume = moving_volume[:, 50:, 50:]\n",
    "#print(f'Shape after scaling and cropping: {moving_volume.shape}')\n"
   ]
  },
  {
   "cell_type": "code",
   "execution_count": 4,
   "metadata": {},
   "outputs": [],
   "source": [
    "fy = 35500"
   ]
  },
  {
   "cell_type": "code",
   "execution_count": null,
   "metadata": {},
   "outputs": [],
   "source": [
    "tay"
   ]
  },
  {
   "cell_type": "code",
   "execution_count": 5,
   "metadata": {},
   "outputs": [
    {
     "data": {
      "text/plain": [
       "0.03123943661971831"
      ]
     },
     "execution_count": 5,
     "metadata": {},
     "output_type": "execute_result"
    }
   ],
   "source": [
    "# thumbnail_aligned.32/100.tif TIFF 2047x1109\n",
    "ta32 = 1109\n",
    "ta32/fy"
   ]
  },
  {
   "cell_type": "code",
   "execution_count": 7,
   "metadata": {},
   "outputs": [
    {
     "data": {
      "text/plain": [
       "0.009014084507042254"
      ]
     },
     "execution_count": 7,
     "metadata": {},
     "output_type": "execute_result"
    }
   ],
   "source": [
    "tay = 320\n",
    "tay/fy"
   ]
  },
  {
   "cell_type": "code",
   "execution_count": 8,
   "metadata": {},
   "outputs": [
    {
     "data": {
      "text/plain": [
       "32.01082055906222"
      ]
     },
     "execution_count": 8,
     "metadata": {},
     "output_type": "execute_result"
    }
   ],
   "source": [
    "1/ (ta32/fy)"
   ]
  },
  {
   "cell_type": "code",
   "execution_count": 9,
   "metadata": {},
   "outputs": [
    {
     "data": {
      "text/plain": [
       "110.9375"
      ]
     },
     "execution_count": 9,
     "metadata": {},
     "output_type": "execute_result"
    }
   ],
   "source": [
    "1/ (tay/fy)"
   ]
  },
  {
   "cell_type": "code",
   "execution_count": null,
   "metadata": {},
   "outputs": [],
   "source": [
    "scale = 1 / (tay/fy)\n",
    "scale"
   ]
  },
  {
   "cell_type": "code",
   "execution_count": null,
   "metadata": {},
   "outputs": [],
   "source": [
    "# Allen center of mass for SC: (368.08973894913635, 62.21607279887645, 227.68008600344592)\n",
    "# from points.pts using center initalization [350.161977, 70.526061, 238.480457\n",
    "# scaling_factor=64, COMPUTER SC [569.643591, 178.42558, 235.831656] \n",
    "# scaling factor 110, using NO center initial [360.939419, 69.148879, 218.973584]\n",
    "scx,scy,scz = 647.63034, 216.404544, 229.740944\n",
    "7521 DK52 33 COMPUTER SC [277.901391, 104.727709, 209.847688]\n",
    "\n",
    "scx / 25"
   ]
  },
  {
   "cell_type": "code",
   "execution_count": null,
   "metadata": {},
   "outputs": [],
   "source": [
    "fixedImage = sitk.ReadImage(fixedFilepath)\n",
    "movingImage = sitk.ReadImage(movingFilepath)\n",
    "\n",
    "initial_transform = sitk.CenteredTransformInitializer(fixedImage, \n",
    "                                                    movingImage, \n",
    "                                                    sitk.Euler3DTransform(), \n",
    "                                                    sitk.CenteredTransformInitializerFilter.MOMENTS)\n",
    "\n",
    "moving_resampled = sitk.Resample(movingImage, fixedImage, initial_transform, sitk.sitkLinear, 0.0, movingImage.GetPixelID())\n",
    "moving_volume = sitk.GetArrayFromImage(moving_resampled)"
   ]
  },
  {
   "cell_type": "code",
   "execution_count": null,
   "metadata": {},
   "outputs": [],
   "source": [
    "arr = np.swapaxes(moving_volume, 0,2)\n",
    "moving_midpoint = arr.shape[2] // 2\n",
    "img = arr[:,:, moving_midpoint]\n",
    "img = np.rot90(img, 1, axes=(1,0))\n",
    "moving_image = np.flip(img, axis=1)\n",
    "#moving_img = img[50:, 50:]\n",
    "\n",
    "print(f'Moving image shape={moving_image.shape} dtype={moving_image.dtype}')\n",
    "del img\n",
    "del arr"
   ]
  },
  {
   "cell_type": "code",
   "execution_count": null,
   "metadata": {},
   "outputs": [],
   "source": [
    "# blue is fixed, red is moving\n",
    "compare_two_images(fixed_image, moving_image)"
   ]
  },
  {
   "cell_type": "code",
   "execution_count": null,
   "metadata": {},
   "outputs": [],
   "source": [
    "# cornal to sagittal volume\n",
    "arr = np.swapaxes(fixed_volume, 0,2)\n",
    "#arr = np.rot90(arr, 1, axes=(0,1))\n",
    "#arr = np.flip(arr, axis=0)\n",
    "outpath = os.path.join(REGDATA, 'allen_50um_sagittal.tif')\n",
    "imwrite(outpath, arr)"
   ]
  },
  {
   "cell_type": "code",
   "execution_count": null,
   "metadata": {},
   "outputs": [],
   "source": [
    "#arr = fixed_volume\n",
    "fixed_image = arr[:,:,fixed_midpoint]\n",
    "plt.title('Z {}'.format(fixed_midpoint))\n",
    "plt.imshow(fixed_image, cmap=\"gray\")\n",
    "plt.show()"
   ]
  },
  {
   "cell_type": "code",
   "execution_count": null,
   "metadata": {
    "scrolled": true
   },
   "outputs": [],
   "source": [
    "plt.title('Z {}'.format(moving_midpoint))\n",
    "plt.imshow(moving_image, cmap=\"gray\")\n",
    "plt.show()"
   ]
  },
  {
   "cell_type": "code",
   "execution_count": null,
   "metadata": {},
   "outputs": [],
   "source": [
    "#scaled = zoom(moving_volume, zoom=(1, scaler, scaler))\n",
    "#print(scaled.shape)\n",
    "outpath = os.path.join(DATA, 'scaled_volume.tif')\n",
    "imwrite(outpath, moving_volume)\n",
    "#vm2 = np.swapaxes(volume, 0,2)\n",
    "#print(vm2.shape)\n",
    "#outpath = os.path.join(DATA, 'allen_50um_sagittal.tif')\n",
    "#imwrite(outpath, vm2)"
   ]
  },
  {
   "cell_type": "code",
   "execution_count": null,
   "metadata": {},
   "outputs": [],
   "source": [
    "#arr = normalize16(volume)\n",
    "arr = volume\n",
    "arr = np.swapaxes(volume, 0,2)\n",
    "midpoint = arr.shape[2] // 2\n",
    "limit = 8\n",
    "start = midpoint - 10\n",
    "end = midpoint + 10\n",
    "for i in tqdm(range(start, end, 4)):\n",
    "    plt.title('Z {}'.format(i))\n",
    "    img = arr[:,:,i]\n",
    "    #img = np.rot90(img, 1, axes=(1,0))\n",
    "    #img = np.flip(img, axis=1)\n",
    "    #plt.imshow(img, cmap=\"seismic\")\n",
    "    #plt.show()"
   ]
  },
  {
   "cell_type": "code",
   "execution_count": null,
   "metadata": {},
   "outputs": [],
   "source": [
    "image_stack = np.zeros(volume.shape)\n",
    "file_list = []\n",
    "\n",
    "for i in tqdm(range(0, volume.shape[2], 1)):\n",
    "    img = volume[:,:,i]\n",
    "    img = np.rot90(img, 1, axes=(1,0))\n",
    "    img = np.flip(img, axis=1)\n",
    "    filepath = os.path.join(OUTPUT, str(i).zfill(3) + '.tif')\n",
    "    cv2.imwrite(filepath, img)"
   ]
  },
  {
   "cell_type": "code",
   "execution_count": null,
   "metadata": {},
   "outputs": [],
   "source": [
    "# The default atlas created by brainreg is isotropic 25um\n",
    "vm2 = volume\n",
    "#print(f'Orig volume shape={sagittal.shape}')\n",
    "#vm2 = np.swapaxes(volume, 0,2)\n",
    "#sagittal = np.rot90(sagittal, axes=(1, 0))\n",
    "#sagittal = np.flip(sagittal, axis=1)\n",
    "print(f'new volume shape={vm2.shape}')\n",
    "\n",
    "dimensions = neuroglancer.CoordinateSpace(\n",
    "    names=['x', 'y', 'z'],\n",
    "    units='um',\n",
    "    scales=[20,20,20])\n",
    "viewer = neuroglancer.Viewer()\n",
    "with viewer.txn() as s:\n",
    "    s.dimensions = dimensions\n",
    "    s.layout = '4panel'\n",
    "    s.layers['Princeton'] = neuroglancer.SegmentationLayer(\n",
    "        source=neuroglancer.LocalVolume(\n",
    "            data=vm2,\n",
    "            dimensions=dimensions,\n",
    "            voxel_offset=(0, 0, 0),\n",
    "        ))\n",
    "\n",
    "print(viewer)"
   ]
  }
 ],
 "metadata": {
  "kernelspec": {
   "display_name": "Python 3",
   "language": "python",
   "name": "python3"
  },
  "language_info": {
   "codemirror_mode": {
    "name": "ipython",
    "version": 3
   },
   "file_extension": ".py",
   "mimetype": "text/x-python",
   "name": "python",
   "nbconvert_exporter": "python",
   "pygments_lexer": "ipython3",
   "version": "3.10.6"
  }
 },
 "nbformat": 4,
 "nbformat_minor": 4
}
