{
 "cells": [
  {
   "cell_type": "code",
   "execution_count": 21,
   "id": "46c17e60",
   "metadata": {},
   "outputs": [
    {
     "name": "stdout",
     "output_type": "stream",
     "text": [
      "Overwriting Detections2Features.py\n"
     ]
    }
   ],
   "source": [
    "%%writefile Detections2Features.py\n",
    "import sys\n",
    "import numpy as np\n",
    "import pickle as pkl\n",
    "import cv2\n",
    "\n",
    "if __name__=='__main__':\n",
    "    DATA_DIR =sys.argv[1]\n",
    "\n",
    "DATA_DIR='/Users/yoavfreund/projects/butons/data/164'\n",
    "print('DATA_DIR=%s'%(DATA_DIR))\n",
    "\n",
    "with open(DATA_DIR+'/extracted_cells.pkl','br') as pkl_file:\n",
    "    E=pkl.load(pkl_file)\n",
    "    Examples=E['Examples']\n",
    "\n",
    "df_dict=None\n",
    "thresh=2000\n",
    "for i in range(len(Examples)):\n",
    "    e=Examples[i]\n",
    "\n",
    "    Stats=cv2.connectedComponentsWithStats(np.int8(e['image']>thresh))\n",
    "\n",
    "    if Stats[1] is None:\n",
    "        continue\n",
    "    seg=Stats[1]\n",
    "\n",
    "    # Isolate the connected component at the middle of seg\n",
    "    middle=np.array(np.array(seg.shape)/2,dtype=np.int16)\n",
    "    middle_seg=seg[middle[0],middle[1]]\n",
    "    middle_seg_mask = np.uint8(seg==middle_seg)\n",
    "\n",
    "    # Calculate Moments\n",
    "    moments = cv2.moments(middle_seg_mask)\n",
    "    # Calculate Hu Moments\n",
    "    huMoments = cv2.HuMoments(moments)\n",
    "\n",
    "    features={'h%d'%i:huMoments[i,0]  for i in range(7)}\n",
    "    features.update(moments)\n",
    "\n",
    "    for key in ['animal','section','index','label','area','height2','width2']:\n",
    "        features[key]=e[key]\n",
    "\n",
    "    features['row']=e['row_center']+e['origin'][0]\n",
    "    features['col']=e['col_center']+e['origin'][0]\n",
    "\n",
    "    if df_dict==None:\n",
    "        df_dict={}\n",
    "        for key in features:\n",
    "            df_dict[key]=[]\n",
    "\n",
    "    for key in features:\n",
    "        df_dict[key].append(features[key])\n",
    "\n",
    "\n",
    "import pandas as pd\n",
    "df=pd.DataFrame(df_dict)\n",
    "outfile=DATA_DIR+'/puntas.csv'\n",
    "print('df shape=',df.shape,'output_file=',outfile)\n",
    "\n",
    "df.to_csv(outfile)"
   ]
  },
  {
   "cell_type": "code",
   "execution_count": 20,
   "id": "f16bb688",
   "metadata": {},
   "outputs": [
    {
     "data": {
      "text/plain": [
       "{'animal': 'DK55',\n",
       " 'section': 164,\n",
       " 'index': 3838,\n",
       " 'label': 0,\n",
       " 'area': 1,\n",
       " 'row_center': 5507,\n",
       " 'origin': array([20400, 30000], dtype=int32),\n",
       " 'height2': 50,\n",
       " 'col_center': 867,\n",
       " 'width2': 50,\n",
       " 'image': array([[-213.23662 , -213.55351 , -213.87042 , ...,  264.79837 ,\n",
       "          264.35217 ,  263.90594 ],\n",
       "        [-212.8326  , -213.1473  , -213.46199 , ...,  265.4374  ,\n",
       "          264.99405 ,  264.5507  ],\n",
       "        [-212.42857 , -212.74107 , -213.05357 , ...,  266.07645 ,\n",
       "          265.63593 ,  265.19543 ],\n",
       "        ...,\n",
       "        [  68.54266 , -130.72748 , -109.997635, ...,  419.47955 ,\n",
       "          306.3514  ,  331.22327 ],\n",
       "        [-104.17049 ,   22.558258,   12.287003, ...,  576.8917  ,\n",
       "          324.76743 ,  442.64313 ],\n",
       "        [-156.88365 ,  104.843994,   74.571625, ...,  570.3039  ,\n",
       "          328.18344 ,  583.063   ]], dtype=float32)}"
      ]
     },
     "execution_count": 20,
     "metadata": {},
     "output_type": "execute_result"
    }
   ],
   "source": [
    "e"
   ]
  },
  {
   "cell_type": "code",
   "execution_count": 16,
   "id": "318b89b6",
   "metadata": {},
   "outputs": [
    {
     "name": "stdout",
     "output_type": "stream",
     "text": [
      ",h0,h1,h2,h3,h4,h5,h6,m00,m10,m01,m20,m11,m02,m30,m21,m12,m03,mu20,mu11,mu02,mu30,mu21,mu12,mu03,nu20,nu11,nu02,nu30,nu21,nu12,nu03,index,label,area,height2,width2\r\n",
      "0,0.16909452653254692,0.0030094991945560407,8.595678911552031e-05,1.3515799993096256e-06,1.0145078461049756e-11,4.9236948474367563e-08,-1.0454986261521404e-11,66.0,3285.0,3299.0,163897.0,164317.0,165243.0,8196729.0,8204049.0,8236339.0,8293913.0,393.59090909091174,116.77272727273521,342.9848484848626,-51.86776859499514,58.093663911253316,70.49311294711879,-21.40955004747957,0.09035603973620564,0.02680732949328173,0.07873848679634128,-0.0014656751538404413,0.0016416059934087294,0.001991988607997097,-0.0006049893105006667,1,0,66,50,50\r\n",
      "1,0.1735983288380241,0.004454153670905496,1.1538386544119013e-05,3.201714542295251e-07,-6.063278058438364e-13,-2.050287300613722e-08,1.0518794211984896e-13,152.0,7508.0,7638.0,373344.0,376676.0,385332.0,18686798.0,18701012.0,18973174.0,19515942.0,2488.3157894737087,-601.0,1522.5,-250.03878116607666,-151.52631578948058,201.76315789669752,-2.25,0.10770064878262244,-0.026012811634349032,0.06589768005540166,-0.0008778057136981626,-0.0005319601429639508,0.0007083255325015734,-7.899026089512978e-06,1,0,152,50,50\r\n",
      "2,0.17569412835685522,0.007167468196896944,0.0006423782736717044,2.4527324756319978e-05,-3.0787235526798896e-09,-2.0765054186050288e-06,0.0,13.0,650.0,652.0,32522.0,32600.0,32708.0,1628300.0,1631108.0,1635400.0,1641202.0,22.0,0.0,7.692307692308532,0.0,4.615384615492076,0.0,-1.5976331362035125,0.1301775147928994,0.0,0.04551661356395581,0.0,0.007574422342805793,0.0,-0.002621915426473422,2,0,13,50,50\r\n",
      "3,0.18472201341527833,0.0069191353774715626,0.00043130233126735724,2.0998553411585158e-05,-3.226106665605749e-10,-2.2507637734298062e-07,-1.9721531031883265e-09,87.0,4278.0,4307.0,211110.0,211475.0,213869.0,10454928.0,10420273.0,10485683.0,10652267.0,750.4137931034493,-310.5862068965507,647.7471264367923,340.4090368617326,-340.7288941726765,-20.361078081878077,387.9569295812398,0.09914305629587122,-0.04103398162195148,0.0855789571194071,0.004821730682937304,-0.004826261308283088,-0.0002884049020265897,0.005495223770395441,3,0,87,50,50\r\n",
      "4,0.22972849854227667,0.012213586683827809,0.001708880934946799,0.0002843355424698167,1.9814303333491084e-07,2.8368209128813235e-05,4.732176352079669e-09,28.0,1388.0,1407.0,68916.0,69709.0,70771.0,3427244.0,3459307.0,3504361.0,3563205.0,110.85714285714494,-38.0,69.25,-11.265306122601032,45.428571428571104,-39.57142857136205,2.625,0.14139941690962363,-0.04846938775510204,0.08832908163265306,-0.0027154881963753316,0.01095050131349612,-0.009538644225891029,0.0006327530240109831,4,0,28,50,50\r\n",
      "5,0.15912208504807585,0.002559079935496076,0.0002389135387597085,2.5192265931742103e-06,3.305605142671973e-11,-6.412926996773183e-08,-5.222177310237767e-11,9.0,444.0,451.0,21912.0,22248.0,22605.0,1081782.0,1097904.0,1115046.0,1133251.0,8.000000000003638,-1.3333333333321207,4.888888888890506,0.6666666665114462,0.8888888889244413,-0.3703703704919121,-0.6419753087684512,0.09876543209881034,-0.016460905349779266,0.0603566529492655,0.0027434842243269394,0.0036579789667672484,-0.0015241579032588977,-0.002641873698635602,5,0,9,50,50\r\n",
      "6,0.16675002000400044,2.5025015182816466e-17,1.2511267559577418e-21,5.564452633256203e-14,-4.6428465566034475e-31,2.7836179266003053e-22,0.0,9997.0,494852.0,494852.0,32827698.0,24495199.0,32827698.0,2449889702.0,1624972301.0,1624972301.0,2449889702.0,8332499.249974992,0.24997499212622643,8332499.249974992,-1250.1249628067017,-416.62501256625643,-416.62501256625643,-1250.1249628067017,0.08337501000200022,2.5012504464175746e-09,0.08337501000200022,-1.2510630489871088e-07,-4.16937645445631e-08,-4.16937645445631e-08,-1.2510630489871088e-07,6,0,3,50,50\r\n",
      "7,0.1611670834008238,0.00023382550640193203,8.868096242998e-06,2.2641111983211003e-08,-7.218157220557468e-15,3.105206503435477e-10,-7.129085863930896e-15,168.0,8351.0,8418.0,417187.0,418368.0,424278.0,20943995.0,20896522.0,21082220.0,21507342.0,2072.708333333372,-76.74999999994179,2476.0714285714785,262.7881944440305,103.62202380639701,-240.80357142484627,-154.0867346972227,0.07343779525699307,-0.002719316893421974,0.08772928814383073,0.0007183442944515927,0.00028325583551549565,-0.0006582482595253978,-0.000421203574059339,7,0,168,50,50\r\n",
      "8,0.16715029975450418,1.4585592327036652e-13,5.4531552408621015e-17,6.322755621397229e-12,1.6262273112610235e-26,2.3653148594323237e-18,-1.1627242912798851e-25,9985.0,494258.0,494250.0,32798238.0,24465401.0,32797484.0,2448425738.0,1623494511.0,1623476813.0,2448372600.0,8332442.249974962,1.2503755651414394,8332480.244366549,-1302.6189532279968,6241.8446418198355,-411.12300876514223,18750.369921684265,0.08357495933409341,1.254135148783706e-08,0.08357534042041077,-1.3075166258685185e-07,6.26531314091765e-07,-4.126687761646786e-08,1.8820868798994106e-06,8,0,15,50,50\r\n"
     ]
    }
   ],
   "source": [
    "!head $DATA_DIR/puntas.csv"
   ]
  },
  {
   "cell_type": "code",
   "execution_count": 80,
   "id": "d536846a",
   "metadata": {},
   "outputs": [
    {
     "data": {
      "text/plain": [
       "3"
      ]
     },
     "execution_count": 80,
     "metadata": {},
     "output_type": "execute_result"
    }
   ],
   "source": [
    "import cv2\n",
    "thresh=2000\n",
    "Stats=cv2.connectedComponentsWithStats(np.int8(e['image']>thresh))\n",
    "Stats[0]"
   ]
  },
  {
   "cell_type": "code",
   "execution_count": 81,
   "id": "764c8835",
   "metadata": {},
   "outputs": [
    {
     "data": {
      "text/plain": [
       "<matplotlib.image.AxesImage at 0x7fd04e9623d0>"
      ]
     },
     "execution_count": 81,
     "metadata": {},
     "output_type": "execute_result"
    },
    {
     "data": {
      "image/png": "[encoded data removed]",
      "text/plain": [
       "<Figure size 432x288 with 1 Axes>"
      ]
     },
     "metadata": {
      "needs_background": "light"
     },
     "output_type": "display_data"
    }
   ],
   "source": [
    "seg=Stats[1]\n",
    "imshow(seg)\n"
   ]
  },
  {
   "cell_type": "code",
   "execution_count": 82,
   "id": "09e3675c",
   "metadata": {},
   "outputs": [
    {
     "data": {
      "text/plain": [
       "array([50, 50], dtype=int16)"
      ]
     },
     "execution_count": 82,
     "metadata": {},
     "output_type": "execute_result"
    }
   ],
   "source": [
    "middle=np.array(np.array(seg.shape)/2,dtype=np.int16)\n",
    "middle"
   ]
  },
  {
   "cell_type": "code",
   "execution_count": 83,
   "id": "03a3e537",
   "metadata": {
    "scrolled": true
   },
   "outputs": [
    {
     "data": {
      "text/plain": [
       "2"
      ]
     },
     "execution_count": 83,
     "metadata": {},
     "output_type": "execute_result"
    }
   ],
   "source": [
    "middle_seg=seg[middle[0],middle[1]]\n",
    "middle_seg"
   ]
  },
  {
   "cell_type": "code",
   "execution_count": 86,
   "id": "c3d78964",
   "metadata": {},
   "outputs": [
    {
     "data": {
      "text/plain": [
       "(array([49, 49,  3,  3,  7], dtype=int32), 7)"
      ]
     },
     "execution_count": 86,
     "metadata": {},
     "output_type": "execute_result"
    }
   ],
   "source": [
    "Stats[2][middle_seg],e['area']"
   ]
  },
  {
   "cell_type": "code",
   "execution_count": 122,
   "id": "ad4519f7",
   "metadata": {
    "scrolled": true
   },
   "outputs": [
    {
     "data": {
      "text/plain": [
       "{'h0': 0.19996952888869568,\n",
       " 'h1': 0.004807484490333493,\n",
       " 'h2': 0.0029203280141626353,\n",
       " 'h3': 0.00016871685648051798,\n",
       " 'h4': 1.0003237196370746e-07,\n",
       " 'h5': 8.329713986313898e-06,\n",
       " 'h6': 6.339290075281958e-08,\n",
       " 'm00': 1599.0,\n",
       " 'm10': 82733.0,\n",
       " 'm01': 99098.0,\n",
       " 'm20': 4458461.0,\n",
       " 'm11': 5169807.0,\n",
       " 'm02': 6475062.0,\n",
       " 'm30': 248329187.0,\n",
       " 'm21': 280669813.0,\n",
       " 'm12': 341828093.0,\n",
       " 'm03': 443725004.0,\n",
       " 'mu20': 177817.29205753654,\n",
       " 'mu11': 42430.618511569686,\n",
       " 'mu02': 333464.99937460944,\n",
       " 'mu30': -754346.4337663054,\n",
       " 'mu21': -33997.44442487601,\n",
       " 'mu12': 1546114.6932338718,\n",
       " 'mu03': 1100161.5409317613,\n",
       " 'nu20': 0.06954678602579416,\n",
       " 'nu11': 0.016595197870921393,\n",
       " 'nu02': 0.1304227428629015,\n",
       " 'nu30': -0.007378187406689129,\n",
       " 'nu21': -0.00033252562097077954,\n",
       " 'nu12': 0.015122393966866952,\n",
       " 'nu03': 0.010760570559204253,\n",
       " 'index': 66,\n",
       " 'label': 1,\n",
       " 'area': 1599,\n",
       " 'height2': 66,\n",
       " 'width2': 50}"
      ]
     },
     "execution_count": 122,
     "metadata": {},
     "output_type": "execute_result"
    }
   ],
   "source": [
    "for key in ['index','label','area','height2','width2']:\n",
    "    features[key]=e[key]\n",
    "features"
   ]
  },
  {
   "cell_type": "code",
   "execution_count": null,
   "id": "d757efe8",
   "metadata": {},
   "outputs": [],
   "source": [
    "# Calculate Moments\n",
    "moments = cv2.moments(im)\n",
    "# Calculate Hu Moments\n",
    "huMoments = cv2.HuMoments(moments)"
   ]
  },
  {
   "cell_type": "code",
   "execution_count": 30,
   "id": "d8a3028f",
   "metadata": {},
   "outputs": [],
   "source": [
    "def plot_dist(uimg):\n",
    "    H=uimg.flatten()\n",
    "    H=np.sort(H)\n",
    "\n",
    "    H=H[0:-1:10]\n",
    "    plt.figure()\n",
    "    plt.plot(H,np.arange(0,1,1./H.shape[0]))\n",
    "    plt.grid()\n",
    "    plt.figure()\n",
    "    plt.hist(H,bins=100);"
   ]
  },
  {
   "cell_type": "code",
   "execution_count": 31,
   "id": "624f5117",
   "metadata": {},
   "outputs": [
    {
     "data": {
      "image/png": "[encoded data removed]",
      "text/plain": [
       "<Figure size 432x288 with 1 Axes>"
      ]
     },
     "metadata": {
      "needs_background": "light"
     },
     "output_type": "display_data"
    },
    {
     "data": {
      "image/png": "[encoded data removed]",
      "text/plain": [
       "<Figure size 432x288 with 1 Axes>"
      ]
     },
     "metadata": {
      "needs_background": "light"
     },
     "output_type": "display_data"
    }
   ],
   "source": [
    "plot_dist(e['image']);"
   ]
  },
  {
   "cell_type": "code",
   "execution_count": 29,
   "id": "b429b587",
   "metadata": {},
   "outputs": [
    {
     "data": {
      "image/png": "[encoded data removed]",
      "text/plain": [
       "<Figure size 432x288 with 1 Axes>"
      ]
     },
     "metadata": {
      "needs_background": "light"
     },
     "output_type": "display_data"
    }
   ],
   "source": [
    "hist(e['image'].flatten());"
   ]
  },
  {
   "cell_type": "code",
   "execution_count": null,
   "id": "08732a4a",
   "metadata": {},
   "outputs": [],
   "source": []
  }
 ],
 "metadata": {
  "kernelspec": {
   "display_name": "Python 3 (ipykernel)",
   "language": "python",
   "name": "python3"
  },
  "language_info": {
   "codemirror_mode": {
    "name": "ipython",
    "version": 3
   },
   "file_extension": ".py",
   "mimetype": "text/x-python",
   "name": "python",
   "nbconvert_exporter": "python",
   "pygments_lexer": "ipython3",
   "version": "3.9.6"
  },
  "toc": {
   "base_numbering": 1,
   "nav_menu": {},
   "number_sections": true,
   "sideBar": true,
   "skip_h1_title": false,
   "title_cell": "Table of Contents",
   "title_sidebar": "Contents",
   "toc_cell": false,
   "toc_position": {},
   "toc_section_display": true,
   "toc_window_display": false
  }
 },
 "nbformat": 4,
 "nbformat_minor": 5
}
