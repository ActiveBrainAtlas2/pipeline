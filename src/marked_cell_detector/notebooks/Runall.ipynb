{
 "cells": [
  {
   "cell_type": "code",
   "execution_count": 14,
   "id": "85c06219",
   "metadata": {},
   "outputs": [
    {
     "name": "stdout",
     "output_type": "stream",
     "text": [
      "C= date\n",
      "Tue Aug 31 09:06:10 PDT 2021\n"
     ]
    }
   ],
   "source": [
    "import sys,os\n",
    "def run(cmd):\n",
    "    print('C=',cmd)\n",
    "    os.system(cmd)\n",
    "run('date')"
   ]
  },
  {
   "cell_type": "code",
   "execution_count": 15,
   "id": "ff89608f",
   "metadata": {},
   "outputs": [
    {
     "name": "stdout",
     "output_type": "stream",
     "text": [
      "\u001b[34m164\u001b[m\u001b[m \u001b[34m172\u001b[m\u001b[m \u001b[34m248\u001b[m\u001b[m\r\n"
     ]
    }
   ],
   "source": [
    "!ls data"
   ]
  },
  {
   "cell_type": "code",
   "execution_count": 39,
   "id": "6269fded",
   "metadata": {},
   "outputs": [
    {
     "name": "stdout",
     "output_type": "stream",
     "text": [
      "C= python Detections2Features.py ./data/164\n",
      "DATA_DIR=./data/164\n",
      "df shape= (3814, 42) output_file= ./data/164/puntas.csv\n",
      "C= python Detections2Features.py ./data/172\n",
      "DATA_DIR=./data/172\n",
      "df shape= (5504, 42) output_file= ./data/172/puntas.csv\n",
      "C= python Detections2Features.py ./data/248\n",
      "DATA_DIR=./data/248\n",
      "df shape= (5000, 42) output_file= ./data/248/puntas.csv\n"
     ]
    }
   ],
   "source": [
    "for section in [164,172,248]:\n",
    "    #run(\"python extract_examples.py %d ./data/%d/\"%(section,section))\n",
    "    run(\"python Detections2Features.py ./data/%d\"%section)\n",
    "    \n",
    "    "
   ]
  },
  {
   "cell_type": "code",
   "execution_count": 40,
   "id": "ba4b1e6e",
   "metadata": {
    "scrolled": true
   },
   "outputs": [
    {
     "name": "stdout",
     "output_type": "stream",
     "text": [
      "-rwxr--r--@ 1 yoavfreund  staff       4458 Jul 24 17:18 \u001b[31m./data/172/172.csv\u001b[m\u001b[m\r\n",
      "-rwxr--r--@ 1 yoavfreund  staff       2299 Aug 16 10:19 \u001b[31m./data/164/164.csv\u001b[m\u001b[m\r\n",
      "-rwxr--r--@ 1 yoavfreund  staff        781 Aug 16 10:22 \u001b[31m./data/248/248.csv\u001b[m\u001b[m\r\n",
      "-rw-r--r--  1 yoavfreund  staff    3408860 Aug 20 17:10 ./data/172/BoostedTrees.pkl\r\n",
      "-rw-r--r--  1 yoavfreund  staff        741 Aug 30 19:38 ./data/172/BadExamples.pkl\r\n",
      "-rw-r--r--  1 yoavfreund  staff  175981310 Aug 31 09:17 ./data/164/extracted_cells.pkl\r\n",
      "-rw-r--r--  1 yoavfreund  staff  238669572 Aug 31 09:18 ./data/172/extracted_cells.pkl\r\n",
      "-rw-r--r--  1 yoavfreund  staff  210715096 Aug 31 09:19 ./data/248/extracted_cells.pkl\r\n",
      "-rw-r--r--@ 1 yoavfreund  staff    1769618 Aug 31 09:26 ./data/164/puntas.csv\r\n",
      "-rw-r--r--  1 yoavfreund  staff    2545734 Aug 31 09:26 ./data/172/puntas.csv\r\n",
      "-rw-r--r--  1 yoavfreund  staff    2473982 Aug 31 09:26 ./data/248/puntas.csv\r\n"
     ]
    }
   ],
   "source": [
    "!ls -lrt ./data/*/*.{csv,pkl}"
   ]
  },
  {
   "cell_type": "code",
   "execution_count": 35,
   "id": "48a43afd",
   "metadata": {},
   "outputs": [
    {
     "data": {
      "text/plain": [
       "Index(['animal', 'section', 'index', 'label', 'area', 'height2', 'width2',\n",
       "       'row', 'col', 'corr', 'energy', 'h0', 'h1', 'h2', 'h3', 'h4', 'h5',\n",
       "       'h6', 'm00', 'm10', 'm01', 'm20', 'm11', 'm02', 'm30', 'm21', 'm12',\n",
       "       'm03', 'mu20', 'mu11', 'mu02', 'mu30', 'mu21', 'mu12', 'mu03', 'nu20',\n",
       "       'nu11', 'nu02', 'nu30', 'nu21', 'nu12', 'nu03'],\n",
       "      dtype='object')"
      ]
     },
     "execution_count": 35,
     "metadata": {},
     "output_type": "execute_result"
    }
   ],
   "source": [
    "import pandas as pd\n",
    "features=pd.read_csv('/Users/yoavfreund/projects/butons/data/164/puntas.csv')\n",
    "features.columns"
   ]
  },
  {
   "cell_type": "code",
   "execution_count": 18,
   "id": "db2fce28",
   "metadata": {},
   "outputs": [],
   "source": [
    "import pickle as pkl\n",
    "with open('./data/164/extracted_cells.pkl','br') as pkl_file:\n",
    "    E=pkl.load(pkl_file)"
   ]
  },
  {
   "cell_type": "code",
   "execution_count": 19,
   "id": "6581c071",
   "metadata": {},
   "outputs": [
    {
     "data": {
      "text/plain": [
       "dict_keys(['Examples'])"
      ]
     },
     "execution_count": 19,
     "metadata": {},
     "output_type": "execute_result"
    }
   ],
   "source": [
    "E.keys()"
   ]
  },
  {
   "cell_type": "code",
   "execution_count": 20,
   "id": "4e9d0a8a",
   "metadata": {},
   "outputs": [],
   "source": [
    "Examples=E['Examples']"
   ]
  },
  {
   "cell_type": "code",
   "execution_count": 21,
   "id": "a46454d2",
   "metadata": {},
   "outputs": [],
   "source": [
    "e=Examples[10]"
   ]
  },
  {
   "cell_type": "code",
   "execution_count": 22,
   "id": "ff3040d8",
   "metadata": {},
   "outputs": [
    {
     "data": {
      "text/plain": [
       "dict_keys(['animal', 'section', 'index', 'label', 'area', 'row_center', 'origin', 'height2', 'col_center', 'width2', 'image'])"
      ]
     },
     "execution_count": 22,
     "metadata": {},
     "output_type": "execute_result"
    }
   ],
   "source": [
    "e.keys()"
   ]
  },
  {
   "cell_type": "code",
   "execution_count": null,
   "id": "323959f4",
   "metadata": {},
   "outputs": [],
   "source": []
  }
 ],
 "metadata": {
  "kernelspec": {
   "display_name": "Python 3 (ipykernel)",
   "language": "python",
   "name": "python3"
  },
  "language_info": {
   "codemirror_mode": {
    "name": "ipython",
    "version": 3
   },
   "file_extension": ".py",
   "mimetype": "text/x-python",
   "name": "python",
   "nbconvert_exporter": "python",
   "pygments_lexer": "ipython3",
   "version": "3.9.6"
  }
 },
 "nbformat": 4,
 "nbformat_minor": 5
}
