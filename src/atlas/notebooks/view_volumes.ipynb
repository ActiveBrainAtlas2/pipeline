{
 "cells": [
  {
   "cell_type": "code",
   "execution_count": null,
   "id": "bdf185d3",
   "metadata": {},
   "outputs": [],
   "source": [
    "import os\n",
    "import matplotlib.pyplot as plt\n",
    "import numpy as np\n",
    "from mpl_toolkits.mplot3d import Axes3D\n",
    "\n",
    "structure = '10N_R'\n",
    "atlas_path = '/net/birdstore/Active_Atlas_Data/data_root/atlas_data/atlasV8'\n",
    "volume_path = os.path.join(atlas_path, 'structure', f'{structure}.npy')\n",
    "volume = np.load(volume_path)\n",
    "\n",
    "volume.shape"
   ]
  },
  {
   "cell_type": "code",
   "execution_count": null,
   "id": "16ca7440",
   "metadata": {},
   "outputs": [],
   "source": [
    "%%time\n",
    "fig = plt.figure()\n",
    "ax = fig.add_subplot(projection='3d')\n",
    "\n",
    "cmap = plt.get_cmap(\"viridis\")\n",
    "norm= plt.Normalize(volume.min(), volume.max())\n",
    "ax.voxels(np.ones_like(volume), facecolors=cmap(norm(volume)), edgecolor=\"black\")\n",
    "#ax.voxels(volume)\n",
    "plt.show()"
   ]
  }
 ],
 "metadata": {
  "kernelspec": {
   "display_name": "Python 3",
   "language": "python",
   "name": "python3"
  },
  "language_info": {
   "codemirror_mode": {
    "name": "ipython",
    "version": 3
   },
   "file_extension": ".py",
   "mimetype": "text/x-python",
   "name": "python",
   "nbconvert_exporter": "python",
   "pygments_lexer": "ipython3",
   "version": "3.10.6"
  }
 },
 "nbformat": 4,
 "nbformat_minor": 5
}
