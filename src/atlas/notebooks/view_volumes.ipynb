{
 "cells": [
  {
   "cell_type": "code",
   "execution_count": null,
   "id": "bdf185d3",
   "metadata": {},
   "outputs": [],
   "source": [
    "import os\n",
    "import matplotlib.pyplot as plt\n",
    "import numpy as np\n",
    "from mpl_toolkits.mplot3d import Axes3D\n",
    "import numpy as np\n",
    "from skimage import io\n",
    "from skimage.exposure import rescale_intensity\n",
    "import cv2\n",
    "from ultralytics import YOLO"
   ]
  },
  {
   "cell_type": "code",
   "execution_count": null,
   "id": "853961c2",
   "metadata": {},
   "outputs": [],
   "source": [
    "structure = '10N_R'\n",
    "atlas_path = '/net/birdstore/Active_Atlas_Data/data_root/atlas_data/atlasV8'\n",
    "volume_path = os.path.join(atlas_path, 'structure', f'{structure}.npy')\n",
    "volume = np.load(volume_path)\n",
    "volume.shape"
   ]
  },
  {
   "cell_type": "code",
   "execution_count": null,
   "id": "4a57be5a",
   "metadata": {},
   "outputs": [],
   "source": [
    "model = YOLO(\"yolov8x-seg.pt\")"
   ]
  },
  {
   "cell_type": "code",
   "execution_count": null,
   "id": "d4a04fcb",
   "metadata": {},
   "outputs": [],
   "source": [
    "filepath = '/net/birdstore/Active_Atlas_Data/data_root/brains_info/masks/normalized/DK41.037.tif'\n",
    "#img[img == 255] = 0\n",
    "img.dtype"
   ]
  },
  {
   "cell_type": "code",
   "execution_count": null,
   "id": "c01ed888",
   "metadata": {},
   "outputs": [],
   "source": [
    "#img = io.imread(filepath)\n",
    "# {object_class_id} {x_center} {y_center} {width} {height}\n",
    "bigtissue = 1000\n",
    "smalltissue = 1001\n",
    "barcode = 1003\n",
    "junk = 1004\n",
    "\n",
    "img = cv2.imread(filepath, cv2.IMREAD_GRAYSCALE)\n",
    "ret, thresh = cv2.threshold(img, 10, 255, cv2.THRESH_BINARY)\n",
    "contours, hierarchy = cv2.findContours(thresh, cv2.RETR_TREE, cv2.CHAIN_APPROX_SIMPLE)\n",
    "boxes = []\n",
    "imgw = img.shape[1]\n",
    "imgh = img.shape[0]\n",
    "big_contour = max(contours, key=cv2.contourArea)\n",
    "bigarea = cv2.contourArea(big_contour)\n",
    "bx,by,bw,bh = cv2.boundingRect(big_contour)\n",
    "boxes.append([bigtissue, ((bx+bw)/2)/imgw, ((by+bh)/2)/imgh, bw/imgw, bh/imgh])\n",
    "for contour in contours:\n",
    "    x,y,w,h = cv2.boundingRect(contour)\n",
    "    area = cv2.contourArea(contour)\n",
    "    \n",
    "    if area > 25 and area < bigarea:\n",
    "        x_center = ((x+w)/2)/imgw\n",
    "        y_center = ((y+h)/2)/imgh\n",
    "        width = w/imgw\n",
    "        height = h/imgh\n",
    "        if x > imgw * 0.9:\n",
    "            id = barcode\n",
    "        else:\n",
    "            id = smalltissue\n",
    "        cv2.rectangle(img,(x,y),(x+w,y+h),255, 1)\n",
    "        boxes.append([id, x_center, y_center, width, height])\n",
    "boxes"
   ]
  },
  {
   "cell_type": "code",
   "execution_count": null,
   "id": "bf60470f",
   "metadata": {},
   "outputs": [],
   "source": [
    "results = model.predict(filepath)"
   ]
  },
  {
   "cell_type": "code",
   "execution_count": null,
   "id": "32103e26",
   "metadata": {},
   "outputs": [],
   "source": [
    "result = results[0]\n",
    "len(result.boxes)\n",
    "box = result.boxes"
   ]
  },
  {
   "cell_type": "code",
   "execution_count": null,
   "id": "5e8cf980",
   "metadata": {},
   "outputs": [],
   "source": [
    "print(\"Object type:\", box.cls)\n",
    "print(\"Coordinates:\", box.xyxy)\n",
    "print(\"Probability:\", box.conf)"
   ]
  },
  {
   "cell_type": "code",
   "execution_count": null,
   "id": "0183a2c8",
   "metadata": {},
   "outputs": [],
   "source": [
    "cords = box.xyxy[0].tolist()\n",
    "class_id = box.cls[0].item()\n",
    "class_id = result.names[box.cls[0].item()]\n",
    "conf = round(box.conf[0].item(), 2)\n",
    "print(\"Object type:\", class_id)\n",
    "print(\"Coordinates:\", cords)\n",
    "print(\"Probability:\", conf)"
   ]
  },
  {
   "cell_type": "code",
   "execution_count": null,
   "id": "f4fc887d",
   "metadata": {},
   "outputs": [],
   "source": [
    "plt.imshow(img, cmap='gray')"
   ]
  },
  {
   "cell_type": "code",
   "execution_count": null,
   "id": "6b05f1fe",
   "metadata": {},
   "outputs": [],
   "source": [
    "smooth_img = smooth_image(img)\n",
    "plt.imshow(smooth_img, cmap='gray')"
   ]
  },
  {
   "cell_type": "code",
   "execution_count": null,
   "id": "16ca7440",
   "metadata": {},
   "outputs": [],
   "source": [
    "%%time\n",
    "fig = plt.figure()\n",
    "ax = fig.add_subplot(projection='3d')\n",
    "\n",
    "cmap = plt.get_cmap(\"viridis\")\n",
    "norm= plt.Normalize(volume.min(), volume.max())\n",
    "ax.voxels(np.ones_like(volume), facecolors=cmap(norm(volume)), edgecolor=\"black\")\n",
    "#ax.voxels(volume)\n",
    "plt.show()"
   ]
  }
 ],
 "metadata": {
  "kernelspec": {
   "display_name": "Python 3",
   "language": "python",
   "name": "python3"
  },
  "language_info": {
   "codemirror_mode": {
    "name": "ipython",
    "version": 3
   },
   "file_extension": ".py",
   "mimetype": "text/x-python",
   "name": "python",
   "nbconvert_exporter": "python",
   "pygments_lexer": "ipython3",
   "version": "3.10.6"
  }
 },
 "nbformat": 4,
 "nbformat_minor": 5
}
