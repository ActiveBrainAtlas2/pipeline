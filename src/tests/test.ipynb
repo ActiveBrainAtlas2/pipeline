{
 "cells": [
  {
   "cell_type": "code",
   "execution_count": 1,
   "metadata": {},
   "outputs": [],
   "source": [
    "import numpy as np\n",
    "a = np.array([[3832.73, 3821.33, 3798.53, 3751.23, 3693.67, 3649.22, 3586.53,\n",
    "        3563.73, 3539.8 , 3527.83, 3515.86, 3514.72, 3524.98, 3545.5 ,\n",
    "        3571.71, 3597.93, 3636.11, 3671.44, 3721.03, 3739.26, 3763.2 ,\n",
    "        3780.3 , 3801.38, 3825.89, 3844.12, 3849.25, 3853.24, 3848.11,\n",
    "        3835.01, 3835.01, 4153.  , 4096.84, 4044.09, 3996.44, 3957.3 ,\n",
    "        3911.35, 3843.28, 3853.49, 3923.26, 3981.12, 4052.59, 4113.86,\n",
    "        4221.06, 4221.06, 4149.59, 4158.1 , 4171.71, 4156.4 , 4153.  ,\n",
    "        3832.73],\n",
    "       [3064.84, 3086.5 , 3109.86, 3141.21, 3183.38, 3217.01, 3261.46,\n",
    "        3278.55, 3299.64, 3310.47, 3326.43, 3340.1 , 3341.81, 3339.53,\n",
    "        3332.7 , 3320.73, 3311.04, 3276.84, 3246.07, 3232.96, 3218.71,\n",
    "        3194.21, 3164.57, 3124.68, 3103.02, 3080.8 , 3059.71, 3051.16,\n",
    "        3062.56, 3062.56, 2712.66, 2762.01, 2833.48, 2886.24, 2944.1 ,\n",
    "        2996.85, 3056.41, 3080.23, 3100.65, 3085.34, 3078.53, 3032.58,\n",
    "        2959.41, 2915.17, 2910.06, 2807.96, 2739.89, 2704.15, 2712.66,\n",
    "        3064.84]])"
   ]
  },
  {
   "cell_type": "code",
   "execution_count": 33,
   "metadata": {},
   "outputs": [],
   "source": [
    "def eliminate_duplicates(point_list):\n",
    "    point_list = [list(i) for i in a.T]\n",
    "    output = []\n",
    "    for _ in range(len(point_list)):\n",
    "        elementi = point_list.pop(0)\n",
    "        if not elementi in output:\n",
    "            output.append(elementi)\n",
    "        else:\n",
    "            elementi = [i+0.01 for i in elementi]\n",
    "            assert elementi not in output\n",
    "            output.append(elementi)\n",
    "    output = np.array(output)\n",
    "\n"
   ]
  },
  {
   "cell_type": "code",
   "execution_count": 35,
   "metadata": {},
   "outputs": [],
   "source": []
  },
  {
   "cell_type": "code",
   "execution_count": 12,
   "metadata": {},
   "outputs": [
    {
     "data": {
      "text/plain": [
       "array([[4221.06, 4221.06],\n",
       "       [2959.41, 2915.17]])"
      ]
     },
     "execution_count": 12,
     "metadata": {},
     "output_type": "execute_result"
    }
   ],
   "source": [
    "a[:,a[0]==4221.06]"
   ]
  },
  {
   "cell_type": "code",
   "execution_count": 6,
   "metadata": {},
   "outputs": [
    {
     "name": "stdout",
     "output_type": "stream",
     "text": [
      "[3832.73, 3835.01, 4153.0, 4221.06]\n"
     ]
    }
   ],
   "source": [
    "import collections\n",
    "print([item for item, count in collections.Counter(list(a[0])).items() if count > 1])"
   ]
  },
  {
   "cell_type": "code",
   "execution_count": 3,
   "metadata": {},
   "outputs": [
    {
     "data": {
      "text/plain": [
       "<matplotlib.collections.PathCollection at 0x7fd658eb7b50>"
      ]
     },
     "execution_count": 3,
     "metadata": {},
     "output_type": "execute_result"
    },
    {
     "data": {
      "image/png": "[encoded data removed]",
      "text/plain": [
       "<Figure size 432x288 with 1 Axes>"
      ]
     },
     "metadata": {
      "needs_background": "light"
     },
     "output_type": "display_data"
    }
   ],
   "source": [
    "import matplotlib.pyplot as plt\n",
    "plt.scatter(a[0],a[1])"
   ]
  },
  {
   "cell_type": "code",
   "execution_count": null,
   "metadata": {},
   "outputs": [],
   "source": []
  }
 ],
 "metadata": {
  "interpreter": {
   "hash": "2bd29f7b10431261d8beeb897d602198a8ccc2be7cc6f93af9f327223ffe0508"
  },
  "kernelspec": {
   "display_name": "Python 3.8.10 64-bit ('pipeline': venv)",
   "name": "python3"
  },
  "language_info": {
   "codemirror_mode": {
    "name": "ipython",
    "version": 3
   },
   "file_extension": ".py",
   "mimetype": "text/x-python",
   "name": "python",
   "nbconvert_exporter": "python",
   "pygments_lexer": "ipython3",
   "version": "3.8.10"
  },
  "orig_nbformat": 4
 },
 "nbformat": 4,
 "nbformat_minor": 2
}
