{
 "cells": [
  {
   "cell_type": "code",
   "execution_count": 1,
   "metadata": {},
   "outputs": [],
   "source": [
    "import os\n",
    "import sys\n",
    "sys.path.append('/scratch/programming/preprocessing-pipeline/src')\n",
    "import numpy as np\n",
    "import shutil\n",
    "from skimage import io\n",
    "from tqdm import tqdm\n",
    "from atlas.NgSegmentMaker import NgConverter\n",
    "from lib.sqlcontroller import SqlController\n",
    "from lib.file_location import FileLocationManager\n",
    "from lib.utilities_process import test_dir, SCALING_FACTOR\n",
    "from lib.utilities_mask import place_image\n",
    "import scipy"
   ]
  },
  {
   "cell_type": "code",
   "execution_count": 11,
   "metadata": {},
   "outputs": [],
   "source": [
    "animal = 'DK55'\n",
    "sqlController = SqlController(animal)\n",
    "fileLocationManager = FileLocationManager(animal)\n",
    "INPUT = fileLocationManager.aligned_rotated_and_padded_thumbnail_mask\n",
    "error = test_dir(animal, INPUT, downsample=True, same_size=True)\n",
    "if len(error) > 0:\n",
    "    print(error)\n",
    "    sys.exit()\n",
    "\n",
    "OUTPUT_DIR = os.path.join(fileLocationManager.neuroglancer_data, 'shell')\n",
    "if os.path.exists(OUTPUT_DIR):\n",
    "    shutil.rmtree(OUTPUT_DIR)\n",
    "os.makedirs(OUTPUT_DIR, exist_ok=True)\n",
    "\n",
    "files = sorted(os.listdir(INPUT))\n",
    "len_files = len(files)\n",
    "midpoint = len_files // 2\n",
    "resolution = sqlController.scan_run.resolution\n",
    "resolution = int(resolution * 1000 / SCALING_FACTOR)\n"
   ]
  },
  {
   "cell_type": "code",
   "execution_count": 18,
   "metadata": {},
   "outputs": [
    {
     "name": "stderr",
     "output_type": "stream",
     "text": [
      "100%|██████████| 485/485 [00:04<00:00, 117.16it/s]\n"
     ]
    }
   ],
   "source": [
    "volume = []\n",
    "for file in tqdm(files):\n",
    "    tif = io.imread(os.path.join(INPUT, file))\n",
    "    volume.append(tif)\n",
    "ids = np.unique(volume)\n",
    "ids = [(i,i) for i in ids]\n",
    "volume = np.array(volume).astype('uint8')\n",
    "volume = np.swapaxes(volume, 0, 2)\n"
   ]
  },
  {
   "cell_type": "code",
   "execution_count": 19,
   "metadata": {},
   "outputs": [
    {
     "name": "stderr",
     "output_type": "stream",
     "text": [
      "Uploading:  51%|█████▏    | 3793/7400 [00:49<12:11,  4.93it/s] "
     ]
    }
   ],
   "source": [
    "fvolume = scipy.ndimage.gaussian_filter(volume,sigma=1.5)\n",
    "fvolume = (fvolume!=0).astype('uint8')\n",
    "fvolume = np.pad(fvolume,[10,10,10])\n",
    "ng = NgConverter(fvolume, [resolution, resolution, 20000], offset=[0,0,0])\n",
    "ng.create_neuroglancer_files(OUTPUT_DIR,ids)"
   ]
  },
  {
   "cell_type": "code",
   "execution_count": 8,
   "metadata": {},
   "outputs": [
    {
     "data": {
      "text/plain": [
       "(2359, 1546, 485)"
      ]
     },
     "execution_count": 8,
     "metadata": {},
     "output_type": "execute_result"
    }
   ],
   "source": [
    "volume.shape"
   ]
  },
  {
   "cell_type": "code",
   "execution_count": null,
   "metadata": {},
   "outputs": [],
   "source": []
  }
 ],
 "metadata": {
  "interpreter": {
   "hash": "2bd29f7b10431261d8beeb897d602198a8ccc2be7cc6f93af9f327223ffe0508"
  },
  "kernelspec": {
   "display_name": "Python 3.8.10 64-bit ('pipeline': venv)",
   "name": "python3"
  },
  "language_info": {
   "codemirror_mode": {
    "name": "ipython",
    "version": 3
   },
   "file_extension": ".py",
   "mimetype": "text/x-python",
   "name": "python",
   "nbconvert_exporter": "python",
   "pygments_lexer": "ipython3",
   "version": "3.8.10"
  },
  "orig_nbformat": 4
 },
 "nbformat": 4,
 "nbformat_minor": 2
}
