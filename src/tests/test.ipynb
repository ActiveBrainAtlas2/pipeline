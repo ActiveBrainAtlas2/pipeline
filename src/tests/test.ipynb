{
 "cells": [
  {
   "cell_type": "code",
   "execution_count": 3,
   "source": [
    "import cv2\n",
    "bad_masks = []\n",
    "dir = '/net/birdstore/Active_Atlas_Data/data_root/pipeline_data/DK60/preps/masks/full_masked/'\n",
    "files = os.listdir(dir)\n",
    "for filei in files:\n",
    "    try:\n",
    "        mask = cv2.imread(dir + filei, cv2.IMREAD_GRAYSCALE)\n",
    "    except:\n",
    "        bad_masks.append(filei)"
   ],
   "outputs": [],
   "metadata": {}
  },
  {
   "cell_type": "code",
   "execution_count": null,
   "source": [
    "bad_masks"
   ],
   "outputs": [],
   "metadata": {}
  },
  {
   "cell_type": "code",
   "execution_count": 23,
   "source": [
    "os.environ['CV_IO_MAX_IMAGE_PIXELS']"
   ],
   "outputs": [
    {
     "output_type": "execute_result",
     "data": {
      "text/plain": [
       "'1125899906842624'"
      ]
     },
     "metadata": {},
     "execution_count": 23
    }
   ],
   "metadata": {}
  },
  {
   "cell_type": "code",
   "execution_count": 1,
   "source": [
    "import os \n",
    "os.environ['OPENCV_IO_MAX_IMAGE_PIXELS'] = pow(2,50).__str__()"
   ],
   "outputs": [],
   "metadata": {}
  },
  {
   "cell_type": "code",
   "execution_count": 2,
   "source": [
    "import cv2\n",
    "dir = '/net/birdstore/Active_Atlas_Data/data_root/pipeline_data/DK60/preps/masks/full_masked/'\n",
    "mask = cv2.imread(dir + '149.tif', cv2.IMREAD_GRAYSCALE)"
   ],
   "outputs": [],
   "metadata": {}
  },
  {
   "cell_type": "code",
   "execution_count": null,
   "source": [],
   "outputs": [],
   "metadata": {}
  }
 ],
 "metadata": {
  "interpreter": {
   "hash": "2bd29f7b10431261d8beeb897d602198a8ccc2be7cc6f93af9f327223ffe0508"
  },
  "kernelspec": {
   "name": "python3",
   "display_name": "Python 3.8.10 64-bit ('pipeline': venv)"
  },
  "language_info": {
   "codemirror_mode": {
    "name": "ipython",
    "version": 3
   },
   "file_extension": ".py",
   "mimetype": "text/x-python",
   "name": "python",
   "nbconvert_exporter": "python",
   "pygments_lexer": "ipython3",
   "version": "3.8.10"
  },
  "orig_nbformat": 4
 },
 "nbformat": 4,
 "nbformat_minor": 2
}