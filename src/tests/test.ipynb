{
 "cells": [
  {
   "cell_type": "code",
   "execution_count": 26,
   "metadata": {},
   "outputs": [],
   "source": [
    "import os\n",
    "import sys\n",
    "sys.path.append('/scratch/programming/preprocessing-pipeline/src')\n",
    "import numpy as np\n",
    "import shutil\n",
    "from skimage import io\n",
    "from tqdm import tqdm\n",
    "from atlas.NgSegmentMaker import NgConverter\n",
    "from lib.sqlcontroller import SqlController\n",
    "from lib.file_location import FileLocationManager\n",
    "from lib.utilities_process import test_dir, SCALING_FACTOR\n",
    "from lib.utilities_mask import place_image\n",
    "import scipy\n",
    "import cv2"
   ]
  },
  {
   "cell_type": "code",
   "execution_count": 11,
   "metadata": {},
   "outputs": [],
   "source": [
    "animal = 'DK55'\n",
    "sqlController = SqlController(animal)\n",
    "fileLocationManager = FileLocationManager(animal)\n",
    "INPUT = fileLocationManager.aligned_rotated_and_padded_thumbnail_mask\n",
    "error = test_dir(animal, INPUT, downsample=True, same_size=True)\n",
    "if len(error) > 0:\n",
    "    print(error)\n",
    "    sys.exit()\n",
    "\n",
    "OUTPUT_DIR = os.path.join(fileLocationManager.neuroglancer_data, 'shell')\n",
    "if os.path.exists(OUTPUT_DIR):\n",
    "    shutil.rmtree(OUTPUT_DIR)\n",
    "os.makedirs(OUTPUT_DIR, exist_ok=True)\n",
    "\n",
    "files = sorted(os.listdir(INPUT))\n",
    "len_files = len(files)\n",
    "midpoint = len_files // 2\n",
    "resolution = sqlController.scan_run.resolution\n",
    "resolution = int(resolution * 1000 / SCALING_FACTOR)\n"
   ]
  },
  {
   "cell_type": "code",
   "execution_count": 49,
   "metadata": {},
   "outputs": [
    {
     "name": "stderr",
     "output_type": "stream",
     "text": [
      "100%|██████████| 485/485 [00:28<00:00, 17.22it/s]\n"
     ]
    }
   ],
   "source": [
    "volume = []\n",
    "for file in tqdm(files):\n",
    "    tif = io.imread(os.path.join(INPUT, file))\n",
    "    # nseg,map,stat,position = cv2.connectedComponentsWithStats(tif)\n",
    "    # maskid = np.argmax(stat[1:,-1])+1\n",
    "    # tif = map[position[maskid].astype(int)]\n",
    "    volume.append(tif)\n",
    "ids = np.unique(volume)\n",
    "ids = [(i,i) for i in ids]\n",
    "volume = np.array(volume).astype('uint8')\n",
    "volume = np.swapaxes(volume, 0, 2)\n"
   ]
  },
  {
   "cell_type": "code",
   "execution_count": 50,
   "metadata": {},
   "outputs": [
    {
     "name": "stderr",
     "output_type": "stream",
     "text": [
      "Uploading: 100%|██████████| 304/304 [00:01<00:00, 184.49it/s]\n",
      "Tasks:   0%|          | 0/16 [00:00<?, ?it/s]"
     ]
    },
    {
     "name": "stdout",
     "output_type": "stream",
     "text": [
      "No factors generated. Image Shape: (331, 22, 64, 1), Downsample Shape: [2048   22   64], Volume Shape: [2379   22  505], Bounds: Bbox([2048, 0, 0],[2379, 22, 64], dtype=int32)"
     ]
    },
    {
     "name": "stderr",
     "output_type": "stream",
     "text": [
      "Downloading:   0%|          | 0/32 [00:00<?, ?it/s]"
     ]
    },
    {
     "name": "stdout",
     "output_type": "stream",
     "text": [
      "\n"
     ]
    },
    {
     "name": "stderr",
     "output_type": "stream",
     "text": [
      "Downloading: 100%|██████████| 6/6 [00:00<00:00, 67.78it/s]\n"
     ]
    },
    {
     "name": "stdout",
     "output_type": "stream",
     "text": [
      "WARNING: No scales generated.\n",
      "Volume Bounds:  Bbox([0, 0, 0],[2379, 22, 505], dtype=int32)\n",
      "Selected ROI:   Bbox([0, 0, 0],[2379, 22, 505], dtype=int32)\n"
     ]
    },
    {
     "name": "stdout",
     "output_type": "stream",
     "text": [
      "No factors generated. Image Shape: (331, 22, 64, 1), Downsample Shape: [2048   22   64], Volume Shape: [2379   22  505], Bounds: Bbox([2048, 0, 64],[2379, 22, 128], dtype=int32)"
     ]
    },
    {
     "name": "stderr",
     "output_type": "stream",
     "text": [
      "Downloading: 100%|██████████| 32/32 [00:00<00:00, 325.41it/s]"
     ]
    },
    {
     "name": "stdout",
     "output_type": "stream",
     "text": [
      "\n"
     ]
    },
    {
     "name": "stderr",
     "output_type": "stream",
     "text": [
      "\n"
     ]
    },
    {
     "name": "stdout",
     "output_type": "stream",
     "text": [
      "No factors generated. Image Shape: (2048, 22, 64, 1), Downsample Shape: [2048   22   64], Volume Shape: [2379   22  505], Bounds: Bbox([0, 0, 0],[2048, 22, 64], dtype=int32)"
     ]
    },
    {
     "name": "stderr",
     "output_type": "stream",
     "text": [
      "\n"
     ]
    },
    {
     "name": "stdout",
     "output_type": "stream",
     "text": [
      "\n"
     ]
    },
    {
     "name": "stderr",
     "output_type": "stream",
     "text": [
      "Downloading: 100%|██████████| 6/6 [00:00<00:00, 75.95it/s]\n"
     ]
    },
    {
     "name": "stdout",
     "output_type": "stream",
     "text": [
      "No factors generated. Image Shape: (331, 22, 64, 1), Downsample Shape: [2048   22   64], Volume Shape: [2379   22  505], Bounds: Bbox([2048, 0, 128],[2379, 22, 192], dtype=int32)"
     ]
    },
    {
     "name": "stderr",
     "output_type": "stream",
     "text": [
      "\n"
     ]
    },
    {
     "name": "stdout",
     "output_type": "stream",
     "text": [
      "\n"
     ]
    },
    {
     "name": "stderr",
     "output_type": "stream",
     "text": [
      "Downloading: 100%|██████████| 32/32 [00:00<00:00, 324.07it/s]\n"
     ]
    },
    {
     "name": "stderr",
     "output_type": "stream",
     "text": [
      "Tasks: 100%|██████████| 16/16 [00:00<00:00, 82.47it/s]\n",
      "Tasks: 100%|██████████| 12/12 [00:10<00:00,  1.12it/s]\n",
      "Tasks: 100%|██████████| 999/999 [00:00<00:00, 1017.80it/s]\n"
     ]
    },
    {
     "name": "stdout",
     "output_type": "stream",
     "text": [
      "No factors generated. Image Shape: (2048, 22, 64, 1), Downsample Shape: [2048   22   64], Volume Shape: [2379   22  505], Bounds: Bbox([0, 0, 64],[2048, 22, 128], dtype=int32)"
     ]
    },
    {
     "name": "stderr",
     "output_type": "stream",
     "text": [
      "\n"
     ]
    },
    {
     "name": "stdout",
     "output_type": "stream",
     "text": [
      "\n"
     ]
    },
    {
     "name": "stderr",
     "output_type": "stream",
     "text": [
      "Downloading: 100%|██████████| 32/32 [00:00<00:00, 312.99it/s]\n"
     ]
    },
    {
     "name": "stdout",
     "output_type": "stream",
     "text": [
      "No factors generated. Image Shape: (2048, 22, 64, 1), Downsample Shape: [2048   22   64], Volume Shape: [2379   22  505], Bounds: Bbox([0, 0, 128],[2048, 22, 192], dtype=int32)\n"
     ]
    },
    {
     "name": "stderr",
     "output_type": "stream",
     "text": [
      "Downloading: 100%|██████████| 6/6 [00:00<00:00, 91.51it/s]\n"
     ]
    },
    {
     "name": "stdout",
     "output_type": "stream",
     "text": [
      "No factors generated. Image Shape: (331, 22, 64, 1), Downsample Shape: [2048   22   64], Volume Shape: [2379   22  505], Bounds: Bbox([2048, 0, 192],[2379, 22, 256], dtype=int32)"
     ]
    },
    {
     "name": "stderr",
     "output_type": "stream",
     "text": [
      "Downloading: 100%|██████████| 32/32 [00:00<00:00, 396.03it/s]"
     ]
    },
    {
     "name": "stdout",
     "output_type": "stream",
     "text": [
      "\n"
     ]
    },
    {
     "name": "stderr",
     "output_type": "stream",
     "text": [
      "\n"
     ]
    },
    {
     "name": "stdout",
     "output_type": "stream",
     "text": [
      "No factors generated. Image Shape: (2048, 22, 64, 1), Downsample Shape: [2048   22   64], Volume Shape: [2379   22  505], Bounds: Bbox([0, 0, 192],[2048, 22, 256], dtype=int32)\n"
     ]
    },
    {
     "name": "stderr",
     "output_type": "stream",
     "text": [
      "Downloading: 100%|██████████| 6/6 [00:00<00:00, 182.30it/s]\n"
     ]
    },
    {
     "name": "stdout",
     "output_type": "stream",
     "text": [
      "No factors generated. Image Shape: (331, 22, 64, 1), Downsample Shape: [2048   22   64], Volume Shape: [2379   22  505], Bounds: Bbox([2048, 0, 384],[2379, 22, 448], dtype=int32)"
     ]
    },
    {
     "name": "stderr",
     "output_type": "stream",
     "text": [
      "Downloading: 100%|██████████| 6/6 [00:00<00:00, 88.00it/s]"
     ]
    },
    {
     "name": "stdout",
     "output_type": "stream",
     "text": [
      "\n"
     ]
    },
    {
     "name": "stderr",
     "output_type": "stream",
     "text": [
      "\n",
      "Downloading: 100%|██████████| 32/32 [00:00<00:00, 409.35it/s]"
     ]
    },
    {
     "name": "stdout",
     "output_type": "stream",
     "text": [
      "No factors generated. Image Shape: (331, 22, 64, 1), Downsample Shape: [2048   22   64], Volume Shape: [2379   22  505], Bounds: Bbox([2048, 0, 320],[2379, 22, 384], dtype=int32)"
     ]
    },
    {
     "name": "stderr",
     "output_type": "stream",
     "text": [
      "\n"
     ]
    },
    {
     "name": "stdout",
     "output_type": "stream",
     "text": [
      "\n"
     ]
    },
    {
     "name": "stderr",
     "output_type": "stream",
     "text": [
      "Downloading: 100%|██████████| 32/32 [00:00<00:00, 505.20it/s]"
     ]
    },
    {
     "name": "stdout",
     "output_type": "stream",
     "text": [
      "No factors generated. Image Shape: (2048, 22, 57, 1), Downsample Shape: [2048   22   64], Volume Shape: [2379   22  505], Bounds: Bbox([0, 0, 448],[2048, 22, 505], dtype=int32)"
     ]
    },
    {
     "name": "stderr",
     "output_type": "stream",
     "text": [
      "\n"
     ]
    },
    {
     "name": "stdout",
     "output_type": "stream",
     "text": [
      "\n"
     ]
    },
    {
     "name": "stderr",
     "output_type": "stream",
     "text": [
      "Downloading: 100%|██████████| 6/6 [00:00<00:00, 168.28it/s]"
     ]
    },
    {
     "name": "stdout",
     "output_type": "stream",
     "text": [
      "No factors generated. Image Shape: (2048, 22, 64, 1), Downsample Shape: [2048   22   64], Volume Shape: [2379   22  505], Bounds: Bbox([0, 0, 256],[2048, 22, 320], dtype=int32)"
     ]
    },
    {
     "name": "stderr",
     "output_type": "stream",
     "text": [
      "\n"
     ]
    },
    {
     "name": "stdout",
     "output_type": "stream",
     "text": [
      "\n"
     ]
    },
    {
     "name": "stderr",
     "output_type": "stream",
     "text": [
      "Downloading: 100%|██████████| 6/6 [00:00<00:00, 128.56it/s]"
     ]
    },
    {
     "name": "stdout",
     "output_type": "stream",
     "text": [
      "No factors generated. Image Shape: (331, 22, 57, 1), Downsample Shape: [2048   22   64], Volume Shape: [2379   22  505], Bounds: Bbox([2048, 0, 448],[2379, 22, 505], dtype=int32)"
     ]
    },
    {
     "name": "stderr",
     "output_type": "stream",
     "text": [
      "\n"
     ]
    },
    {
     "name": "stdout",
     "output_type": "stream",
     "text": [
      "\n",
      "No factors generated. Image Shape: (331, 22, 64, 1), Downsample Shape: [2048   22   64], Volume Shape: [2379   22  505], Bounds: Bbox([2048, 0, 256],[2379, 22, 320], dtype=int32)"
     ]
    },
    {
     "name": "stderr",
     "output_type": "stream",
     "text": [
      "Downloading: 100%|██████████| 32/32 [00:00<00:00, 400.18it/s]"
     ]
    },
    {
     "name": "stdout",
     "output_type": "stream",
     "text": [
      "\n"
     ]
    },
    {
     "name": "stderr",
     "output_type": "stream",
     "text": [
      "\n",
      "Downloading: 100%|██████████| 32/32 [00:00<00:00, 499.42it/s]"
     ]
    },
    {
     "name": "stdout",
     "output_type": "stream",
     "text": [
      "No factors generated. Image Shape: (2048, 22, 64, 1), Downsample Shape: [2048   22   64], Volume Shape: [2379   22  505], Bounds: Bbox([0, 0, 320],[2048, 22, 384], dtype=int32)"
     ]
    },
    {
     "name": "stderr",
     "output_type": "stream",
     "text": [
      "\n"
     ]
    },
    {
     "name": "stdout",
     "output_type": "stream",
     "text": [
      "\n",
      "No factors generated. Image Shape: (2048, 22, 64, 1), Downsample Shape: [2048   22   64], Volume Shape: [2379   22  505], Bounds: Bbox([0, 0, 384],[2048, 22, 448], dtype=int32)\n"
     ]
    },
    {
     "name": "stderr",
     "output_type": "stream",
     "text": [
      "Downloading: 100%|██████████| 8/8 [00:00<00:00, 188.53it/s]\n",
      "Downloading: 100%|██████████| 8/8 [00:00<00:00, 194.43it/s]\n",
      "Downloading: 100%|██████████| 8/8 [00:00<00:00, 147.98it/s]\n",
      "Downloading: 100%|██████████| 3/3 [00:00<00:00, 72.02it/s]\n",
      "Downloading: 100%|██████████| 8/8 [00:00<00:00, 133.46it/s]\n",
      "Downloading: 100%|██████████| 8/8 [00:00<00:00, 164.33it/s]\n",
      "Downloading: 100%|██████████| 24/24 [00:00<00:00, 277.02it/s]\n",
      "Downloading: 100%|██████████| 64/64 [00:00<00:00, 271.61it/s]\n",
      "Downloading: 100%|██████████| 64/64 [00:00<00:00, 359.87it/s]\n",
      "Downloading: 100%|██████████| 64/64 [00:00<00:00, 259.29it/s]\n",
      "Downloading: 100%|██████████| 64/64 [00:00<00:00, 266.80it/s]\n",
      "Downloading: 100%|██████████| 64/64 [00:00<00:00, 269.24it/s]\n"
     ]
    }
   ],
   "source": [
    "# fvolume = scipy.ndimage.gaussian_filter(volume,sigma=1.5)\n",
    "fvolume = volume\n",
    "fvolume = (fvolume!=0).astype('uint8')\n",
    "fvolume = np.pad(fvolume,[[10,10],[10,10],[10,10]])\n",
    "ng = NgConverter(fvolume, [resolution, resolution, 20000], offset=[0,0,0])\n",
    "ng.create_neuroglancer_files(OUTPUT_DIR,ids)"
   ]
  },
  {
   "cell_type": "code",
   "execution_count": 8,
   "metadata": {},
   "outputs": [
    {
     "data": {
      "text/plain": [
       "(2359, 1546, 485)"
      ]
     },
     "execution_count": 8,
     "metadata": {},
     "output_type": "execute_result"
    }
   ],
   "source": [
    "volume.shape"
   ]
  },
  {
   "cell_type": "code",
   "execution_count": null,
   "metadata": {},
   "outputs": [],
   "source": []
  }
 ],
 "metadata": {
  "interpreter": {
   "hash": "2bd29f7b10431261d8beeb897d602198a8ccc2be7cc6f93af9f327223ffe0508"
  },
  "kernelspec": {
   "display_name": "Python 3.8.10 64-bit ('pipeline': venv)",
   "name": "python3"
  },
  "language_info": {
   "codemirror_mode": {
    "name": "ipython",
    "version": 3
   },
   "file_extension": ".py",
   "mimetype": "text/x-python",
   "name": "python",
   "nbconvert_exporter": "python",
   "pygments_lexer": "ipython3",
   "version": "3.8.10"
  },
  "orig_nbformat": 4
 },
 "nbformat": 4,
 "nbformat_minor": 2
}
