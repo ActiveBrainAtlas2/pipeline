{
 "cells": [
  {
   "cell_type": "code",
   "execution_count": null,
   "metadata": {},
   "outputs": [],
   "source": [
    "from cell_extractor.FeatureFinder import test_one_section,calculate_all_sections_of_animali\n",
    "animali = 'DK55'\n",
    "section = 180\n",
    "calculate_all_sections_of_animali(animali)\n",
    "test_one_section(animai,section)"
   ]
  }
 ],
 "metadata": {
  "language_info": {
   "name": "python"
  },
  "orig_nbformat": 4
 },
 "nbformat": 4,
 "nbformat_minor": 2
}
