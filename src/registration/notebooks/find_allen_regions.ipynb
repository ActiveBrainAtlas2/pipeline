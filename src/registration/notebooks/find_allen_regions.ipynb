{
 "cells": [
  {
   "cell_type": "markdown",
   "metadata": {},
   "source": [
    "# Finding brain regions and getting their center of mass using the Allen SDK\n",
    "\n",
    "1. Create a new python virtual environment or use an existing one.\n",
    "1. pip install allensdk==2.15.1 # this works with the current ubuntu/pipeline we have, you can try just doing pip install allensdk\n",
    "1. The Allen data has to be download which happens in the commands below. You might get an error on downloading, if you do, just copy the link that is in the error message and use curl or wget or just put that link in the browser. It will then download. You will need to move that into the current working directory of this notebook under the 'mouse_connectivity' directory\n",
    "1. You'll notice the atlas below has the rostrum at the top. These are the coordinates of the Allen atlas. We need the rostrum at the left, with the superior at the top in the sagittal view. So the center of mass coordinates you get below need to be flipped.\n"
   ]
  },
  {
   "cell_type": "code",
   "execution_count": 2,
   "metadata": {},
   "outputs": [
    {
     "ename": "ModuleNotFoundError",
     "evalue": "No module named 'allensdk'",
     "output_type": "error",
     "traceback": [
      "\u001b[0;31m---------------------------------------------------------------------------\u001b[0m",
      "\u001b[0;31mModuleNotFoundError\u001b[0m                       Traceback (most recent call last)",
      "Input \u001b[0;32mIn [2]\u001b[0m, in \u001b[0;36m<cell line: 4>\u001b[0;34m()\u001b[0m\n\u001b[1;32m      2\u001b[0m \u001b[38;5;28;01mimport\u001b[39;00m \u001b[38;5;21;01mpandas\u001b[39;00m \u001b[38;5;28;01mas\u001b[39;00m \u001b[38;5;21;01mpd\u001b[39;00m\n\u001b[1;32m      3\u001b[0m \u001b[38;5;28;01mfrom\u001b[39;00m \u001b[38;5;21;01mscipy\u001b[39;00m\u001b[38;5;21;01m.\u001b[39;00m\u001b[38;5;21;01mndimage\u001b[39;00m \u001b[38;5;28;01mimport\u001b[39;00m center_of_mass\n\u001b[0;32m----> 4\u001b[0m \u001b[38;5;28;01mfrom\u001b[39;00m \u001b[38;5;21;01mallensdk\u001b[39;00m\u001b[38;5;21;01m.\u001b[39;00m\u001b[38;5;21;01mcore\u001b[39;00m\u001b[38;5;21;01m.\u001b[39;00m\u001b[38;5;21;01mmouse_connectivity_cache\u001b[39;00m \u001b[38;5;28;01mimport\u001b[39;00m MouseConnectivityCache\n\u001b[1;32m      5\u001b[0m \u001b[38;5;28;01mfrom\u001b[39;00m \u001b[38;5;21;01mmatplotlib\u001b[39;00m \u001b[38;5;28;01mimport\u001b[39;00m pyplot \u001b[38;5;28;01mas\u001b[39;00m plt\n",
      "\u001b[0;31mModuleNotFoundError\u001b[0m: No module named 'allensdk'"
     ]
    }
   ],
   "source": [
    "import numpy as np\n",
    "import pandas as pd\n",
    "from scipy.ndimage import center_of_mass\n",
    "from allensdk.core.mouse_connectivity_cache import MouseConnectivityCache\n",
    "from matplotlib import pyplot as plt"
   ]
  },
  {
   "cell_type": "code",
   "execution_count": 3,
   "metadata": {},
   "outputs": [
    {
     "name": "stdout",
     "output_type": "stream",
     "text": [
      "Collecting allensdk\n",
      "  Downloading allensdk-2.15.1-py3-none-any.whl (4.0 MB)\n",
      "\u001b[2K     \u001b[38;2;114;156;31m━━━━━━━━━━━━━━━━━━━━━━━━━━━━━━━━━━━━━━━━\u001b[0m \u001b[32m4.0/4.0 MB\u001b[0m \u001b[31m590.8 kB/s\u001b[0m eta \u001b[36m0:00:00\u001b[0mm eta \u001b[36m0:00:01\u001b[0m[36m0:00:01\u001b[0m\n",
      "\u001b[?25hCollecting aiohttp==3.7.4\n",
      "  Downloading aiohttp-3.7.4.tar.gz (1.1 MB)\n",
      "\u001b[2K     \u001b[38;2;114;156;31m━━━━━━━━━━━━━━━━━━━━━━━━━━━━━━━━━━━━━━━━\u001b[0m \u001b[32m1.1/1.1 MB\u001b[0m \u001b[31m1.2 MB/s\u001b[0m eta \u001b[36m0:00:00\u001b[0mm eta \u001b[36m0:00:01\u001b[0m0:01\u001b[0m:01\u001b[0m\n",
      "\u001b[?25h  Installing build dependencies ... \u001b[?25ldone\n",
      "\u001b[?25h  Getting requirements to build wheel ... \u001b[?25ldone\n",
      "\u001b[?25h  Preparing metadata (pyproject.toml) ... \u001b[?25ldone\n",
      "\u001b[?25hRequirement already satisfied: requests<3.0.0 in /usr/local/share/pipeline/lib/python3.10/site-packages (from allensdk) (2.28.1)\n",
      "Collecting h5py\n",
      "  Downloading h5py-3.8.0-cp310-cp310-manylinux_2_17_x86_64.manylinux2014_x86_64.whl (4.6 MB)\n",
      "\u001b[2K     \u001b[38;2;114;156;31m━━━━━━━━━━━━━━━━━━━━━━━━━━━━━━━━━━━━━━━━\u001b[0m \u001b[32m4.6/4.6 MB\u001b[0m \u001b[31m875.3 kB/s\u001b[0m eta \u001b[36m0:00:00\u001b[0mm eta \u001b[36m0:00:01\u001b[0m[36m0:00:01\u001b[0m\n",
      "\u001b[?25hRequirement already satisfied: numpy in /usr/local/share/pipeline/lib/python3.10/site-packages (from allensdk) (1.23.2)\n",
      "Collecting requests-toolbelt<1.0.0\n",
      "  Downloading requests_toolbelt-0.10.1-py2.py3-none-any.whl (54 kB)\n",
      "\u001b[2K     \u001b[38;2;114;156;31m━━━━━━━━━━━━━━━━━━━━━━━━━━━━━━━━━━━━━━━━\u001b[0m \u001b[32m54.5/54.5 kB\u001b[0m \u001b[31m1.4 MB/s\u001b[0m eta \u001b[36m0:00:00\u001b[0m[31m1.6 MB/s\u001b[0m eta \u001b[36m0:00:01\u001b[0m\n",
      "\u001b[?25hCollecting cachetools<5.0.0,>=4.2.1\n",
      "  Downloading cachetools-4.2.4-py3-none-any.whl (10 kB)\n",
      "Collecting statsmodels<=0.13.0\n",
      "  Downloading statsmodels-0.13.0.tar.gz (17.8 MB)\n",
      "\u001b[2K     \u001b[38;2;114;156;31m━━━━━━━━━━━━━━━━━━━━━━━━━━━━━━━━━━━━━━━━\u001b[0m \u001b[32m17.8/17.8 MB\u001b[0m \u001b[31m2.3 MB/s\u001b[0m eta \u001b[36m0:00:00\u001b[0mm eta \u001b[36m0:00:01\u001b[0m[36m0:00:01\u001b[0m\n",
      "\u001b[?25h  Installing build dependencies ... \u001b[?25ldone\n",
      "\u001b[?25h  Getting requirements to build wheel ... \u001b[?25ldone\n",
      "\u001b[?25h  Preparing metadata (pyproject.toml) ... \u001b[?25ldone\n",
      "\u001b[?25hRequirement already satisfied: future<1.0.0,>=0.14.3 in /usr/local/share/pipeline/lib/python3.10/site-packages (from allensdk) (0.18.2)\n",
      "Collecting matplotlib<3.4.3,>=1.4.3\n",
      "  Downloading matplotlib-3.4.2.tar.gz (37.3 MB)\n",
      "\u001b[2K     \u001b[38;2;114;156;31m━━━━━━━━━━━━━━━━━━━━━━━━━━━━━━━━━━━━━━━━\u001b[0m \u001b[32m37.3/37.3 MB\u001b[0m \u001b[31m2.3 MB/s\u001b[0m eta \u001b[36m0:00:00\u001b[0mm eta \u001b[36m0:00:01\u001b[0m[36m0:00:01\u001b[0m\n",
      "\u001b[?25h  Preparing metadata (setup.py) ... \u001b[?25ldone\n",
      "\u001b[?25hCollecting pynwb\n",
      "  Downloading pynwb-2.3.2-py3-none-any.whl (131 kB)\n",
      "\u001b[2K     \u001b[38;2;114;156;31m━━━━━━━━━━━━━━━━━━━━━━━━━━━━━━━━━━━━━━━\u001b[0m \u001b[32m131.9/131.9 kB\u001b[0m \u001b[31m2.5 MB/s\u001b[0m eta \u001b[36m0:00:00\u001b[0m MB/s\u001b[0m eta \u001b[36m0:00:01\u001b[0m\n",
      "\u001b[?25hRequirement already satisfied: sqlalchemy in /usr/local/share/pipeline/lib/python3.10/site-packages (from allensdk) (1.4.40)\n",
      "Collecting semver\n",
      "  Downloading semver-3.0.0-py3-none-any.whl (17 kB)\n",
      "Requirement already satisfied: jinja2>=3.0.0 in /usr/local/share/pipeline/lib/python3.10/site-packages (from allensdk) (3.1.2)\n",
      "Requirement already satisfied: scipy<2.0.0,>=1.4.0 in /usr/local/share/pipeline/lib/python3.10/site-packages (from allensdk) (1.9.1)\n",
      "Requirement already satisfied: pandas>=1.1.5 in /usr/local/share/pipeline/lib/python3.10/site-packages (from allensdk) (1.4.4)\n",
      "Requirement already satisfied: xarray in /usr/local/share/pipeline/lib/python3.10/site-packages (from allensdk) (2022.6.0)\n",
      "Requirement already satisfied: tables in /usr/local/share/pipeline/lib/python3.10/site-packages (from allensdk) (3.7.0)\n",
      "Collecting argschema<4.0.0,>=3.0.1\n",
      "  Downloading argschema-3.0.4.tar.gz (25 kB)\n",
      "  Installing build dependencies ... \u001b[?25ldone\n",
      "\u001b[?25h  Getting requirements to build wheel ... \u001b[?25ldone\n",
      "\u001b[?25h  Preparing metadata (pyproject.toml) ... \u001b[?25ldone\n",
      "\u001b[?25hCollecting scikit-build<1.0.0\n",
      "  Downloading scikit_build-0.17.1-py3-none-any.whl (81 kB)\n",
      "\u001b[2K     \u001b[38;2;114;156;31m━━━━━━━━━━━━━━━━━━━━━━━━━━━━━━━━━━━━━━━━\u001b[0m \u001b[32m82.0/82.0 kB\u001b[0m \u001b[31m2.0 MB/s\u001b[0m eta \u001b[36m0:00:00\u001b[0mm eta \u001b[36m0:00:01\u001b[0m\n",
      "\u001b[?25hRequirement already satisfied: seaborn<1.0.0 in /usr/local/share/pipeline/lib/python3.10/site-packages (from allensdk) (0.12.0)\n",
      "Requirement already satisfied: nest-asyncio in /usr/local/share/pipeline/lib/python3.10/site-packages (from allensdk) (1.5.5)\n",
      "Requirement already satisfied: six<2.0.0,>=1.9.0 in /usr/local/share/pipeline/lib/python3.10/site-packages (from allensdk) (1.16.0)\n",
      "Collecting glymur==0.8.19\n",
      "  Downloading Glymur-0.8.19.tar.gz (3.4 MB)\n",
      "\u001b[2K     \u001b[38;2;114;156;31m━━━━━━━━━━━━━━━━━━━━━━━━━━━━━━━━━━━━━━━━\u001b[0m \u001b[32m3.4/3.4 MB\u001b[0m \u001b[31m2.7 MB/s\u001b[0m eta \u001b[36m0:00:00\u001b[0mm eta \u001b[36m0:00:01\u001b[0m[36m0:00:01\u001b[0m\n",
      "\u001b[?25h  Preparing metadata (setup.py) ... \u001b[?25ldone\n",
      "\u001b[?25hRequirement already satisfied: pynrrd<1.0.0,>=0.2.1 in /usr/local/share/pipeline/lib/python3.10/site-packages (from allensdk) (0.4.3)\n",
      "Collecting hdmf<=3.4.7\n",
      "  Downloading hdmf-3.4.7-py3-none-any.whl (187 kB)\n",
      "\u001b[2K     \u001b[38;2;114;156;31m━━━━━━━━━━━━━━━━━━━━━━━━━━━━━━━━━━━━━━━\u001b[0m \u001b[32m187.5/187.5 kB\u001b[0m \u001b[31m3.2 MB/s\u001b[0m eta \u001b[36m0:00:00\u001b[0m MB/s\u001b[0m eta \u001b[36m0:00:01\u001b[0m\n",
      "\u001b[?25hRequirement already satisfied: simpleitk<3.0.0,>=2.0.2 in /usr/local/share/pipeline/lib/python3.10/site-packages (from allensdk) (2.2.0)\n",
      "Requirement already satisfied: python-dateutil in /usr/local/share/pipeline/lib/python3.10/site-packages (from allensdk) (2.8.2)\n",
      "Requirement already satisfied: tqdm>=4.27 in /usr/local/share/pipeline/lib/python3.10/site-packages (from allensdk) (4.64.0)\n",
      "Collecting boto3==1.17.21\n",
      "  Downloading boto3-1.17.21-py2.py3-none-any.whl (130 kB)\n",
      "\u001b[2K     \u001b[38;2;114;156;31m━━━━━━━━━━━━━━━━━━━━━━━━━━━━━━━━━━━━━━━\u001b[0m \u001b[32m130.3/130.3 kB\u001b[0m \u001b[31m2.2 MB/s\u001b[0m eta \u001b[36m0:00:00\u001b[0m[31m3.9 MB/s\u001b[0m eta \u001b[36m0:00:01\u001b[0m\n",
      "\u001b[?25hCollecting simplejson<4.0.0,>=3.10.0\n",
      "  Downloading simplejson-3.19.1-cp310-cp310-manylinux_2_5_x86_64.manylinux1_x86_64.manylinux_2_17_x86_64.manylinux2014_x86_64.whl (137 kB)\n",
      "\u001b[2K     \u001b[38;2;114;156;31m━━━━━━━━━━━━━━━━━━━━━━━━━━━━━━━━━━━━━━━\u001b[0m \u001b[32m137.9/137.9 kB\u001b[0m \u001b[31m2.9 MB/s\u001b[0m eta \u001b[36m0:00:00\u001b[0m[31m3.5 MB/s\u001b[0m eta \u001b[36m0:00:01\u001b[0m\n",
      "\u001b[?25hCollecting ndx-events<=0.2.0\n",
      "  Downloading ndx_events-0.2.0-py2.py3-none-any.whl (13 kB)\n",
      "Collecting psycopg2-binary\n",
      "  Downloading psycopg2_binary-2.9.6-cp310-cp310-manylinux_2_17_x86_64.manylinux2014_x86_64.whl (3.0 MB)\n",
      "\u001b[2K     \u001b[38;2;114;156;31m━━━━━━━━━━━━━━━━━━━━━━━━━━━━━━━━━━━━━━━━\u001b[0m \u001b[32m3.0/3.0 MB\u001b[0m \u001b[31m2.8 MB/s\u001b[0m eta \u001b[36m0:00:00\u001b[0mm eta \u001b[36m0:00:01\u001b[0m0:01\u001b[0m:01\u001b[0m\n",
      "\u001b[?25hRequirement already satisfied: scikit-image>=0.14.0 in /usr/local/share/pipeline/lib/python3.10/site-packages (from allensdk) (0.19.3)\n",
      "Requirement already satisfied: attrs>=17.3.0 in /usr/local/share/pipeline/lib/python3.10/site-packages (from aiohttp==3.7.4->allensdk) (22.1.0)\n",
      "Requirement already satisfied: typing-extensions>=3.6.5 in /usr/local/share/pipeline/lib/python3.10/site-packages (from aiohttp==3.7.4->allensdk) (4.3.0)\n",
      "Requirement already satisfied: multidict<7.0,>=4.5 in /usr/local/share/pipeline/lib/python3.10/site-packages (from aiohttp==3.7.4->allensdk) (6.0.2)\n",
      "Collecting async-timeout<4.0,>=3.0\n",
      "  Downloading async_timeout-3.0.1-py3-none-any.whl (8.2 kB)\n",
      "Collecting chardet<4.0,>=2.0\n",
      "  Downloading chardet-3.0.4-py2.py3-none-any.whl (133 kB)\n",
      "\u001b[2K     \u001b[38;2;114;156;31m━━━━━━━━━━━━━━━━━━━━━━━━━━━━━━━━━━━━━━━\u001b[0m \u001b[32m133.4/133.4 kB\u001b[0m \u001b[31m2.6 MB/s\u001b[0m eta \u001b[36m0:00:00\u001b[0mm eta \u001b[36m0:00:01\u001b[0m\n",
      "\u001b[?25hRequirement already satisfied: yarl<2.0,>=1.0 in /usr/local/share/pipeline/lib/python3.10/site-packages (from aiohttp==3.7.4->allensdk) (1.8.1)\n",
      "Collecting botocore<1.21.0,>=1.20.21\n",
      "  Downloading botocore-1.20.112-py2.py3-none-any.whl (7.7 MB)\n",
      "\u001b[2K     \u001b[38;2;114;156;31m━━━━━━━━━━━━━━━━━━━━━━━━━━━━━━━━━━━━━━━━\u001b[0m \u001b[32m7.7/7.7 MB\u001b[0m \u001b[31m2.3 MB/s\u001b[0m eta \u001b[36m0:00:00\u001b[0mm eta \u001b[36m0:00:01\u001b[0m[36m0:00:01\u001b[0m\n",
      "\u001b[?25hCollecting s3transfer<0.4.0,>=0.3.0\n",
      "  Downloading s3transfer-0.3.7-py2.py3-none-any.whl (73 kB)\n",
      "\u001b[2K     \u001b[38;2;114;156;31m━━━━━━━━━━━━━━━━━━━━━━━━━━━━━━━━━━━━━━━━\u001b[0m \u001b[32m73.4/73.4 kB\u001b[0m \u001b[31m1.7 MB/s\u001b[0m eta \u001b[36m0:00:00\u001b[0m[36m0:00:01\u001b[0m\n",
      "\u001b[?25hCollecting jmespath<1.0.0,>=0.7.1\n",
      "  Downloading jmespath-0.10.0-py2.py3-none-any.whl (24 kB)\n",
      "Requirement already satisfied: setuptools in /usr/local/share/pipeline/lib/python3.10/site-packages (from glymur==0.8.19->allensdk) (59.6.0)\n"
     ]
    },
    {
     "name": "stdout",
     "output_type": "stream",
     "text": [
      "Collecting marshmallow<4.0,>=3.0.0\n",
      "  Downloading marshmallow-3.19.0-py3-none-any.whl (49 kB)\n",
      "\u001b[2K     \u001b[38;2;114;156;31m━━━━━━━━━━━━━━━━━━━━━━━━━━━━━━━━━━━━━━━━\u001b[0m \u001b[32m49.1/49.1 kB\u001b[0m \u001b[31m2.0 MB/s\u001b[0m eta \u001b[36m0:00:00\u001b[0m\n",
      "\u001b[?25hRequirement already satisfied: pyyaml in /usr/local/share/pipeline/lib/python3.10/site-packages (from argschema<4.0.0,>=3.0.1->allensdk) (6.0)\n",
      "Requirement already satisfied: jsonschema<5,>=2.6.0 in /usr/local/share/pipeline/lib/python3.10/site-packages (from hdmf<=3.4.7->allensdk) (4.15.0)\n",
      "Collecting ruamel.yaml<1,>=0.16\n",
      "  Downloading ruamel.yaml-0.17.21-py3-none-any.whl (109 kB)\n",
      "\u001b[2K     \u001b[38;2;114;156;31m━━━━━━━━━━━━━━━━━━━━━━━━━━━━━━━━━━━━━━━\u001b[0m \u001b[32m109.5/109.5 kB\u001b[0m \u001b[31m2.3 MB/s\u001b[0m eta \u001b[36m0:00:00\u001b[0m MB/s\u001b[0m eta \u001b[36m0:00:01\u001b[0m\n",
      "\u001b[?25hRequirement already satisfied: MarkupSafe>=2.0 in /usr/local/share/pipeline/lib/python3.10/site-packages (from jinja2>=3.0.0->allensdk) (2.1.1)\n",
      "Requirement already satisfied: cycler>=0.10 in /usr/local/share/pipeline/lib/python3.10/site-packages (from matplotlib<3.4.3,>=1.4.3->allensdk) (0.11.0)\n",
      "Requirement already satisfied: kiwisolver>=1.0.1 in /usr/local/share/pipeline/lib/python3.10/site-packages (from matplotlib<3.4.3,>=1.4.3->allensdk) (1.4.4)\n",
      "Requirement already satisfied: pillow>=6.2.0 in /usr/local/share/pipeline/lib/python3.10/site-packages (from matplotlib<3.4.3,>=1.4.3->allensdk) (9.2.0)\n",
      "Requirement already satisfied: pyparsing>=2.2.1 in /usr/local/share/pipeline/lib/python3.10/site-packages (from matplotlib<3.4.3,>=1.4.3->allensdk) (3.0.9)\n",
      "Requirement already satisfied: pytz>=2020.1 in /usr/local/share/pipeline/lib/python3.10/site-packages (from pandas>=1.1.5->allensdk) (2022.2.1)\n",
      "Collecting pynwb\n",
      "  Downloading pynwb-2.3.1-py3-none-any.whl (131 kB)\n",
      "\u001b[2K     \u001b[38;2;114;156;31m━━━━━━━━━━━━━━━━━━━━━━━━━━━━━━━━━━━━━━━\u001b[0m \u001b[32m131.7/131.7 kB\u001b[0m \u001b[31m2.1 MB/s\u001b[0m eta \u001b[36m0:00:00\u001b[0m[31m2.4 MB/s\u001b[0m eta \u001b[36m0:00:01\u001b[0m\n",
      "\u001b[?25h  Downloading pynwb-2.3.0-py3-none-any.whl (131 kB)\n",
      "\u001b[2K     \u001b[38;2;114;156;31m━━━━━━━━━━━━━━━━━━━━━━━━━━━━━━━━━━━━━━━\u001b[0m \u001b[32m131.6/131.6 kB\u001b[0m \u001b[31m2.0 MB/s\u001b[0m eta \u001b[36m0:00:00\u001b[0m MB/s\u001b[0m eta \u001b[36m0:00:01\u001b[0m\n",
      "\u001b[?25h  Downloading pynwb-2.2.0-py3-none-any.whl (126 kB)\n",
      "\u001b[2K     \u001b[38;2;114;156;31m━━━━━━━━━━━━━━━━━━━━━━━━━━━━━━━━━━━━━━━\u001b[0m \u001b[32m126.6/126.6 kB\u001b[0m \u001b[31m1.9 MB/s\u001b[0m eta \u001b[36m0:00:00\u001b[0m[31m2.8 MB/s\u001b[0m eta \u001b[36m0:00:01\u001b[0m\n",
      "\u001b[?25hRequirement already satisfied: certifi>=2017.4.17 in /usr/local/share/pipeline/lib/python3.10/site-packages (from requests<3.0.0->allensdk) (2022.6.15)\n",
      "Requirement already satisfied: idna<4,>=2.5 in /usr/local/share/pipeline/lib/python3.10/site-packages (from requests<3.0.0->allensdk) (3.3)\n",
      "Requirement already satisfied: urllib3<1.27,>=1.21.1 in /usr/local/share/pipeline/lib/python3.10/site-packages (from requests<3.0.0->allensdk) (1.26.12)\n",
      "Requirement already satisfied: charset-normalizer<3,>=2 in /usr/local/share/pipeline/lib/python3.10/site-packages (from requests<3.0.0->allensdk) (2.1.1)\n",
      "Requirement already satisfied: tomli in /usr/local/share/pipeline/lib/python3.10/site-packages (from scikit-build<1.0.0->allensdk) (2.0.1)\n",
      "Requirement already satisfied: wheel>=0.32.0 in /usr/local/share/pipeline/lib/python3.10/site-packages (from scikit-build<1.0.0->allensdk) (0.37.1)\n",
      "Requirement already satisfied: packaging in /usr/local/share/pipeline/lib/python3.10/site-packages (from scikit-build<1.0.0->allensdk) (21.3)\n",
      "Collecting distro\n",
      "  Downloading distro-1.8.0-py3-none-any.whl (20 kB)\n",
      "Requirement already satisfied: networkx>=2.2 in /usr/local/share/pipeline/lib/python3.10/site-packages (from scikit-image>=0.14.0->allensdk) (2.8.6)\n",
      "Requirement already satisfied: tifffile>=2019.7.26 in /usr/local/share/pipeline/lib/python3.10/site-packages (from scikit-image>=0.14.0->allensdk) (2022.8.12)\n",
      "Requirement already satisfied: PyWavelets>=1.1.1 in /usr/local/share/pipeline/lib/python3.10/site-packages (from scikit-image>=0.14.0->allensdk) (1.3.0)\n",
      "Requirement already satisfied: imageio>=2.4.1 in /usr/local/share/pipeline/lib/python3.10/site-packages (from scikit-image>=0.14.0->allensdk) (2.21.2)\n",
      "Collecting patsy>=0.5.2\n",
      "  Downloading patsy-0.5.3-py2.py3-none-any.whl (233 kB)\n",
      "\u001b[2K     \u001b[38;2;114;156;31m━━━━━━━━━━━━━━━━━━━━━━━━━━━━━━━━━━━━━━━\u001b[0m \u001b[32m233.8/233.8 kB\u001b[0m \u001b[31m2.5 MB/s\u001b[0m eta \u001b[36m0:00:00\u001b[0m[31m3.1 MB/s\u001b[0m eta \u001b[36m0:00:01\u001b[0m\n",
      "\u001b[?25hRequirement already satisfied: greenlet!=0.4.17 in /usr/local/share/pipeline/lib/python3.10/site-packages (from sqlalchemy->allensdk) (1.1.3)\n",
      "Requirement already satisfied: numexpr>=2.6.2 in /usr/local/share/pipeline/lib/python3.10/site-packages (from tables->allensdk) (2.8.3)\n",
      "Requirement already satisfied: pyrsistent!=0.17.0,!=0.17.1,!=0.17.2,>=0.14.0 in /usr/local/share/pipeline/lib/python3.10/site-packages (from jsonschema<5,>=2.6.0->hdmf<=3.4.7->allensdk) (0.18.1)\n",
      "Collecting ruamel.yaml.clib>=0.2.6\n",
      "  Downloading ruamel.yaml.clib-0.2.7-cp310-cp310-manylinux_2_17_x86_64.manylinux2014_x86_64.manylinux_2_24_x86_64.whl (485 kB)\n",
      "\u001b[2K     \u001b[38;2;114;156;31m━━━━━━━━━━━━━━━━━━━━━━━━━━━━━━━━━━━━━━━\u001b[0m \u001b[32m485.6/485.6 kB\u001b[0m \u001b[31m2.7 MB/s\u001b[0m eta \u001b[36m0:00:00\u001b[0m MB/s\u001b[0m eta \u001b[36m0:00:01\u001b[0m:01\u001b[0m\n",
      "\u001b[?25hBuilding wheels for collected packages: aiohttp, glymur, argschema, matplotlib, statsmodels\n",
      "  Building wheel for aiohttp (pyproject.toml) ... \u001b[?25ldone\n",
      "\u001b[?25h  Created wheel for aiohttp: filename=aiohttp-3.7.4-cp310-cp310-linux_x86_64.whl size=1273573 sha256=0e1843fcafaa69c3806172623539f68e5dbbc3aaad7f1865c90bcb30e78bb0f5\n",
      "  Stored in directory: /home/eddyod/.cache/pip/wheels/a0/67/11/5beda0150ba642c0c5475964d4c5e00b8a2b50a19e3aaab8ac\n",
      "  Building wheel for glymur (setup.py) ... \u001b[?25ldone\n",
      "\u001b[?25h  Created wheel for glymur: filename=Glymur-0.8.19-py3-none-any.whl size=2722014 sha256=be61adcfe59b92cbae02e66c0618750219721e78bf37aa33a780cf6d8334bef8\n",
      "  Stored in directory: /home/eddyod/.cache/pip/wheels/f0/01/40/c32b31570ca7c988ebd7a2f374e5d24b2be4fca49e0c600efa\n",
      "  Building wheel for argschema (pyproject.toml) ... \u001b[?25ldone\n",
      "\u001b[?25h  Created wheel for argschema: filename=argschema-3.0.4-py2.py3-none-any.whl size=19085 sha256=46f25b8d31aae4360c4ec9a81f4e0ec11711b1b620a166a29f317c154d7c89a0\n",
      "  Stored in directory: /home/eddyod/.cache/pip/wheels/2a/1c/a0/2070782fe062fa827fa64ae376585cfdcfceb2165ab833b904\n",
      "  Building wheel for matplotlib (setup.py) ... \u001b[?25ldone\n",
      "\u001b[?25h  Created wheel for matplotlib: filename=matplotlib-3.4.2-cp310-cp310-linux_x86_64.whl size=10436502 sha256=f0f202577cf3a90d3aa8c67ab8bfd0af8417b05217736cd1da5bda27ecc70f5e\n",
      "  Stored in directory: /home/eddyod/.cache/pip/wheels/d9/e8/73/f806fc40c211022378c2828e3cce1eac412344111ab1becd9d\n",
      "  Building wheel for statsmodels (pyproject.toml) ... \u001b[?25ldone\n",
      "\u001b[?25h  Created wheel for statsmodels: filename=statsmodels-0.13.0-cp310-cp310-linux_x86_64.whl size=20479095 sha256=ea57713c45c50571ce89bcc85cb3233eb618624d43fb1c9ecb38acaaf5362655\n",
      "  Stored in directory: /home/eddyod/.cache/pip/wheels/ad/30/84/c052bf95214a1901b6ea959e60bf33aad07b2ec08f594deff0\n",
      "Successfully built aiohttp glymur argschema matplotlib statsmodels\n",
      "Installing collected packages: chardet, simplejson, semver, ruamel.yaml.clib, psycopg2-binary, patsy, jmespath, h5py, glymur, distro, cachetools, async-timeout, scikit-build, ruamel.yaml, requests-toolbelt, matplotlib, marshmallow, botocore, aiohttp, statsmodels, s3transfer, hdmf, argschema, pynwb, boto3, ndx-events, allensdk\n",
      "  Attempting uninstall: chardet\n",
      "    Found existing installation: chardet 5.0.0\n",
      "    Uninstalling chardet-5.0.0:\n",
      "      Successfully uninstalled chardet-5.0.0\n",
      "  Attempting uninstall: jmespath\n",
      "    Found existing installation: jmespath 1.0.1\n",
      "    Uninstalling jmespath-1.0.1:\n",
      "      Successfully uninstalled jmespath-1.0.1\n",
      "  Attempting uninstall: cachetools\n",
      "    Found existing installation: cachetools 5.2.0\n",
      "    Uninstalling cachetools-5.2.0:\n",
      "      Successfully uninstalled cachetools-5.2.0\n",
      "  Attempting uninstall: async-timeout\n",
      "    Found existing installation: async-timeout 4.0.2\n",
      "    Uninstalling async-timeout-4.0.2:\n",
      "      Successfully uninstalled async-timeout-4.0.2\n",
      "  Attempting uninstall: matplotlib\n",
      "    Found existing installation: matplotlib 3.5.3\n",
      "    Uninstalling matplotlib-3.5.3:\n",
      "      Successfully uninstalled matplotlib-3.5.3\n"
     ]
    },
    {
     "name": "stdout",
     "output_type": "stream",
     "text": [
      "  Attempting uninstall: botocore\n",
      "    Found existing installation: botocore 1.27.64\n",
      "    Uninstalling botocore-1.27.64:\n",
      "      Successfully uninstalled botocore-1.27.64\n",
      "  Attempting uninstall: aiohttp\n",
      "    Found existing installation: aiohttp 3.8.1\n",
      "    Uninstalling aiohttp-3.8.1:\n",
      "      Successfully uninstalled aiohttp-3.8.1\n",
      "  Attempting uninstall: s3transfer\n",
      "    Found existing installation: s3transfer 0.6.0\n",
      "    Uninstalling s3transfer-0.6.0:\n",
      "      Successfully uninstalled s3transfer-0.6.0\n",
      "  Attempting uninstall: boto3\n",
      "    Found existing installation: boto3 1.24.64\n",
      "    Uninstalling boto3-1.24.64:\n",
      "      Successfully uninstalled boto3-1.24.64\n",
      "Successfully installed aiohttp-3.7.4 allensdk-2.15.1 argschema-3.0.4 async-timeout-3.0.1 boto3-1.17.21 botocore-1.20.112 cachetools-4.2.4 chardet-3.0.4 distro-1.8.0 glymur-0.8.19 h5py-3.8.0 hdmf-3.4.7 jmespath-0.10.0 marshmallow-3.19.0 matplotlib-3.4.2 ndx-events-0.2.0 patsy-0.5.3 psycopg2-binary-2.9.6 pynwb-2.2.0 requests-toolbelt-0.10.1 ruamel.yaml-0.17.21 ruamel.yaml.clib-0.2.7 s3transfer-0.3.7 scikit-build-0.17.1 semver-3.0.0 simplejson-3.19.1 statsmodels-0.13.0\n"
     ]
    }
   ],
   "source": [
    "! pip install allensdk"
   ]
  },
  {
   "cell_type": "code",
   "execution_count": 79,
   "metadata": {},
   "outputs": [],
   "source": [
    "%matplotlib notebook"
   ]
  },
  {
   "cell_type": "markdown",
   "metadata": {},
   "source": [
    "### Accessing the CCF from the MouseConnectivityCache\n",
    "\n",
    "Instantiate the MouseConnectivityCache (mcc). The default resolution is 25 microns, but 10,50, and 100 microns are also valid options. You can also specify a location of a manifest file, which would keep track of all downloaded assets from template and annotation volumes to experimental data. If a manifest file directory is not provided, one will be created in the current working directory. (This is where you might get downloading errors, just download it manually and place it under the dir: mouse_connectivity'"
   ]
  },
  {
   "cell_type": "code",
   "execution_count": 80,
   "metadata": {},
   "outputs": [],
   "source": [
    "mcc = MouseConnectivityCache(resolution=25)"
   ]
  },
  {
   "cell_type": "markdown",
   "metadata": {},
   "source": [
    "#### Annotated Volume and Reference Space\n",
    "Now you can get the Reference Space (rsp) at that resolution. This automatically downloads the annotated volume at the specified resolution (25 microns)."
   ]
  },
  {
   "cell_type": "code",
   "execution_count": 81,
   "metadata": {},
   "outputs": [],
   "source": [
    "rsp = mcc.get_reference_space()"
   ]
  },
  {
   "cell_type": "markdown",
   "metadata": {},
   "source": [
    "The annotated volume is a 3D numpy ndarray, with axes correspond to AP,DV, and ML respectively:"
   ]
  },
  {
   "cell_type": "code",
   "execution_count": 82,
   "metadata": {},
   "outputs": [
    {
     "name": "stdout",
     "output_type": "stream",
     "text": [
      "Type of annotated volume <class 'allensdk.core.reference_space.ReferenceSpace'>\n",
      "Shape of annotated volume: (528, 320, 456)\n",
      "Annotated volume data type: uint32\n"
     ]
    }
   ],
   "source": [
    "print('Type of annotated volume', type(rsp))\n",
    "print('Shape of annotated volume:',rsp.annotation.shape)\n",
    "print('Annotated volume data type:',rsp.annotation.dtype)"
   ]
  },
  {
   "cell_type": "markdown",
   "metadata": {},
   "source": [
    "The rsp provides access to the structure tree from the ontology. Given that there are multiple atlases and associated ontologies, we are only interested in the structures belonging to this annotation. Thus, we remove unassigned structures from the structure tree. This returns a structure graph which is more easily viewed as a pandas DataFrame:"
   ]
  },
  {
   "cell_type": "code",
   "execution_count": 83,
   "metadata": {},
   "outputs": [],
   "source": [
    "sg = rsp.remove_unassigned()"
   ]
  },
  {
   "cell_type": "code",
   "execution_count": 84,
   "metadata": {},
   "outputs": [],
   "source": [
    "sg = pd.DataFrame(sg)"
   ]
  },
  {
   "cell_type": "code",
   "execution_count": 85,
   "metadata": {},
   "outputs": [
    {
     "data": {
      "text/html": [
       "<div>\n",
       "<style scoped>\n",
       "    .dataframe tbody tr th:only-of-type {\n",
       "        vertical-align: middle;\n",
       "    }\n",
       "\n",
       "    .dataframe tbody tr th {\n",
       "        vertical-align: top;\n",
       "    }\n",
       "\n",
       "    .dataframe thead th {\n",
       "        text-align: right;\n",
       "    }\n",
       "</style>\n",
       "<table border=\"1\" class=\"dataframe\">\n",
       "  <thead>\n",
       "    <tr style=\"text-align: right;\">\n",
       "      <th></th>\n",
       "      <th>acronym</th>\n",
       "      <th>graph_id</th>\n",
       "      <th>graph_order</th>\n",
       "      <th>id</th>\n",
       "      <th>name</th>\n",
       "      <th>structure_id_path</th>\n",
       "      <th>structure_set_ids</th>\n",
       "      <th>rgb_triplet</th>\n",
       "    </tr>\n",
       "  </thead>\n",
       "  <tbody>\n",
       "    <tr>\n",
       "      <th>0</th>\n",
       "      <td>root</td>\n",
       "      <td>1</td>\n",
       "      <td>0</td>\n",
       "      <td>997</td>\n",
       "      <td>root</td>\n",
       "      <td>[997]</td>\n",
       "      <td>[691663206]</td>\n",
       "      <td>[255, 255, 255]</td>\n",
       "    </tr>\n",
       "    <tr>\n",
       "      <th>1</th>\n",
       "      <td>grey</td>\n",
       "      <td>1</td>\n",
       "      <td>1</td>\n",
       "      <td>8</td>\n",
       "      <td>Basic cell groups and regions</td>\n",
       "      <td>[997, 8]</td>\n",
       "      <td>[112905828, 691663206, 12, 184527634, 11290581...</td>\n",
       "      <td>[191, 218, 227]</td>\n",
       "    </tr>\n",
       "    <tr>\n",
       "      <th>2</th>\n",
       "      <td>CH</td>\n",
       "      <td>1</td>\n",
       "      <td>2</td>\n",
       "      <td>567</td>\n",
       "      <td>Cerebrum</td>\n",
       "      <td>[997, 8, 567]</td>\n",
       "      <td>[112905828, 691663206, 12, 184527634, 11290581...</td>\n",
       "      <td>[176, 240, 255]</td>\n",
       "    </tr>\n",
       "    <tr>\n",
       "      <th>3</th>\n",
       "      <td>CTX</td>\n",
       "      <td>1</td>\n",
       "      <td>3</td>\n",
       "      <td>688</td>\n",
       "      <td>Cerebral cortex</td>\n",
       "      <td>[997, 8, 567, 688]</td>\n",
       "      <td>[112905828, 691663206, 12, 184527634, 11290581...</td>\n",
       "      <td>[176, 255, 184]</td>\n",
       "    </tr>\n",
       "    <tr>\n",
       "      <th>4</th>\n",
       "      <td>CTXpl</td>\n",
       "      <td>1</td>\n",
       "      <td>4</td>\n",
       "      <td>695</td>\n",
       "      <td>Cortical plate</td>\n",
       "      <td>[997, 8, 567, 688, 695]</td>\n",
       "      <td>[112905828, 691663206, 12, 184527634, 11290581...</td>\n",
       "      <td>[112, 255, 112]</td>\n",
       "    </tr>\n",
       "  </tbody>\n",
       "</table>\n",
       "</div>"
      ],
      "text/plain": [
       "  acronym  graph_id  graph_order   id                           name  \\\n",
       "0    root         1            0  997                           root   \n",
       "1    grey         1            1    8  Basic cell groups and regions   \n",
       "2      CH         1            2  567                       Cerebrum   \n",
       "3     CTX         1            3  688                Cerebral cortex   \n",
       "4   CTXpl         1            4  695                 Cortical plate   \n",
       "\n",
       "         structure_id_path                                  structure_set_ids  \\\n",
       "0                    [997]                                        [691663206]   \n",
       "1                 [997, 8]  [112905828, 691663206, 12, 184527634, 11290581...   \n",
       "2            [997, 8, 567]  [112905828, 691663206, 12, 184527634, 11290581...   \n",
       "3       [997, 8, 567, 688]  [112905828, 691663206, 12, 184527634, 11290581...   \n",
       "4  [997, 8, 567, 688, 695]  [112905828, 691663206, 12, 184527634, 11290581...   \n",
       "\n",
       "       rgb_triplet  \n",
       "0  [255, 255, 255]  \n",
       "1  [191, 218, 227]  \n",
       "2  [176, 240, 255]  \n",
       "3  [176, 255, 184]  \n",
       "4  [112, 255, 112]  "
      ]
     },
     "execution_count": 85,
     "metadata": {},
     "output_type": "execute_result"
    }
   ],
   "source": [
    "sg.head()"
   ]
  },
  {
   "cell_type": "code",
   "execution_count": 92,
   "metadata": {},
   "outputs": [
    {
     "data": {
      "text/html": [
       "<div>\n",
       "<style scoped>\n",
       "    .dataframe tbody tr th:only-of-type {\n",
       "        vertical-align: middle;\n",
       "    }\n",
       "\n",
       "    .dataframe tbody tr th {\n",
       "        vertical-align: top;\n",
       "    }\n",
       "\n",
       "    .dataframe thead th {\n",
       "        text-align: right;\n",
       "    }\n",
       "</style>\n",
       "<table border=\"1\" class=\"dataframe\">\n",
       "  <thead>\n",
       "    <tr style=\"text-align: right;\">\n",
       "      <th></th>\n",
       "      <th>acronym</th>\n",
       "      <th>graph_id</th>\n",
       "      <th>graph_order</th>\n",
       "      <th>id</th>\n",
       "      <th>name</th>\n",
       "      <th>structure_id_path</th>\n",
       "      <th>structure_set_ids</th>\n",
       "      <th>rgb_triplet</th>\n",
       "    </tr>\n",
       "  </thead>\n",
       "  <tbody>\n",
       "  </tbody>\n",
       "</table>\n",
       "</div>"
      ],
      "text/plain": [
       "Empty DataFrame\n",
       "Columns: [acronym, graph_id, graph_order, id, name, structure_id_path, structure_set_ids, rgb_triplet]\n",
       "Index: []"
      ]
     },
     "execution_count": 92,
     "metadata": {},
     "output_type": "execute_result"
    }
   ],
   "source": [
    "# I picked the cerebellum as it is easy to see\n",
    "# get data with structure name\n",
    "structure = 'SC'\n",
    "row = sg.loc[sg['name'] == structure]\n",
    "row"
   ]
  },
  {
   "cell_type": "code",
   "execution_count": 86,
   "metadata": {},
   "outputs": [
    {
     "data": {
      "text/html": [
       "<div>\n",
       "<style scoped>\n",
       "    .dataframe tbody tr th:only-of-type {\n",
       "        vertical-align: middle;\n",
       "    }\n",
       "\n",
       "    .dataframe tbody tr th {\n",
       "        vertical-align: top;\n",
       "    }\n",
       "\n",
       "    .dataframe thead th {\n",
       "        text-align: right;\n",
       "    }\n",
       "</style>\n",
       "<table border=\"1\" class=\"dataframe\">\n",
       "  <thead>\n",
       "    <tr style=\"text-align: right;\">\n",
       "      <th></th>\n",
       "      <th>acronym</th>\n",
       "      <th>graph_id</th>\n",
       "      <th>graph_order</th>\n",
       "      <th>id</th>\n",
       "      <th>name</th>\n",
       "      <th>structure_id_path</th>\n",
       "      <th>structure_set_ids</th>\n",
       "      <th>rgb_triplet</th>\n",
       "    </tr>\n",
       "  </thead>\n",
       "  <tbody>\n",
       "    <tr>\n",
       "      <th>536</th>\n",
       "      <td>SCs</td>\n",
       "      <td>1</td>\n",
       "      <td>808</td>\n",
       "      <td>302</td>\n",
       "      <td>Superior colliculus, sensory related</td>\n",
       "      <td>[997, 8, 343, 313, 339, 302]</td>\n",
       "      <td>[112905828, 691663206, 687527945, 10, 12, 6881...</td>\n",
       "      <td>[255, 122, 255]</td>\n",
       "    </tr>\n",
       "  </tbody>\n",
       "</table>\n",
       "</div>"
      ],
      "text/plain": [
       "    acronym  graph_id  graph_order   id                                  name  \\\n",
       "536     SCs         1          808  302  Superior colliculus, sensory related   \n",
       "\n",
       "                structure_id_path  \\\n",
       "536  [997, 8, 343, 313, 339, 302]   \n",
       "\n",
       "                                     structure_set_ids      rgb_triplet  \n",
       "536  [112905828, 691663206, 687527945, 10, 12, 6881...  [255, 122, 255]  "
      ]
     },
     "execution_count": 86,
     "metadata": {},
     "output_type": "execute_result"
    }
   ],
   "source": [
    "# get data with acronym\n",
    "acronym = 'SCs'\n",
    "row = sg.loc[sg['acronym'] == acronym]\n",
    "row"
   ]
  },
  {
   "cell_type": "code",
   "execution_count": 1,
   "metadata": {},
   "outputs": [
    {
     "ename": "NameError",
     "evalue": "name 'sg' is not defined",
     "output_type": "error",
     "traceback": [
      "\u001b[0;31m---------------------------------------------------------------------------\u001b[0m",
      "\u001b[0;31mNameError\u001b[0m                                 Traceback (most recent call last)",
      "Input \u001b[0;32mIn [1]\u001b[0m, in \u001b[0;36m<cell line: 1>\u001b[0;34m()\u001b[0m\n\u001b[0;32m----> 1\u001b[0m \u001b[43msg\u001b[49m\u001b[38;5;241m.\u001b[39mquery(\u001b[38;5;124m'\u001b[39m\u001b[38;5;124mname.str.contains(\u001b[39m\u001b[38;5;124m\"\u001b[39m\u001b[38;5;124mfacial\u001b[39m\u001b[38;5;124m\"\u001b[39m\u001b[38;5;124m)\u001b[39m\u001b[38;5;124m'\u001b[39m, engine\u001b[38;5;241m=\u001b[39m\u001b[38;5;124m'\u001b[39m\u001b[38;5;124mpython\u001b[39m\u001b[38;5;124m'\u001b[39m)\n",
      "\u001b[0;31mNameError\u001b[0m: name 'sg' is not defined"
     ]
    }
   ],
   "source": [
    "sg.query('name.str.contains(\"facial\")', engine='python')"
   ]
  },
  {
   "cell_type": "code",
   "execution_count": 87,
   "metadata": {},
   "outputs": [],
   "source": [
    "structure_id = row.iat[0, 3]"
   ]
  },
  {
   "cell_type": "code",
   "execution_count": 88,
   "metadata": {},
   "outputs": [
    {
     "name": "stdout",
     "output_type": "stream",
     "text": [
      "['SCs', 'SCop', 'SCsg', 'SCzo']\n"
     ]
    }
   ],
   "source": [
    "# Get a list of acronymns\n",
    "id_acronym_map = rsp.structure_tree.get_id_acronym_map() # Dictionary returns IDs given acronyms\n",
    "acronym_id_map = {v:k for k,v in id_acronym_map.items()} # Flip key:value pairs to get dictionary for acronyms given IDs\n",
    "print(list(map(acronym_id_map.get,rsp.structure_tree.descendant_ids([structure_id])[0])))"
   ]
  },
  {
   "cell_type": "markdown",
   "metadata": {},
   "source": [
    "The structures' acronyms, names and IDs can all be linked through the structure graph."
   ]
  },
  {
   "cell_type": "markdown",
   "metadata": {},
   "source": [
    "While the rsp can be used to generate sections in the coronal (0), horizontal (1), or sagittal (2) planes:"
   ]
  },
  {
   "cell_type": "code",
   "execution_count": 89,
   "metadata": {},
   "outputs": [
    {
     "data": {
      "text/plain": [
       "<matplotlib.image.AxesImage at 0x7f1cc8d4d420>"
      ]
     },
     "execution_count": 89,
     "metadata": {},
     "output_type": "execute_result"
    }
   ],
   "source": [
    "orientation = {'coronal':0,'horizontal':1,'sagittal':2} # makes orientation arguments more readible\n",
    "pos_microns = lambda x:x*25 # get_slice_image function takes positional arguments in microns instead of 25 micron increments\n",
    "\n",
    "img = rsp.get_slice_image(orientation['sagittal'],pos_microns(200))\n",
    "plt.imshow(img)"
   ]
  },
  {
   "cell_type": "markdown",
   "metadata": {},
   "source": [
    "The rsp can also generate masks of given structure IDs. The IDs are provided as a list, and by default include all voxels annotated as children of the given structures (direct_only=False). If only the parent level voxels are desired, set direct_only to True.\n",
    "\n",
    "Here we make a mask of the Cerebral Cortex, which from the structure graph is shown to have the ID 688."
   ]
  },
  {
   "cell_type": "code",
   "execution_count": 90,
   "metadata": {},
   "outputs": [],
   "source": [
    "structure_mask = rsp.make_structure_mask([structure_id], direct_only=False)"
   ]
  },
  {
   "cell_type": "code",
   "execution_count": 93,
   "metadata": {},
   "outputs": [
    {
     "name": "stdout",
     "output_type": "stream",
     "text": [
      "Shape of entire brain (528, 320, 456)\n",
      "Shape of mask: (528, 320, 456)\n",
      "Mask data type: uint8\n",
      "Center of mass for SC: (368.08973894913635, 62.21607279887645, 227.68008600344592)\n"
     ]
    }
   ],
   "source": [
    "print('Shape of entire brain', rsp.annotation.shape)\n",
    "print('Shape of mask:',structure_mask.shape)\n",
    "print('Mask data type:',structure_mask.dtype)\n",
    "values, counts = np.unique(structure_mask, return_counts=True)\n",
    "com = center_of_mass(structure_mask)\n",
    "print(f'Center of mass for {structure}: {com}')"
   ]
  },
  {
   "cell_type": "code",
   "execution_count": 77,
   "metadata": {},
   "outputs": [
    {
     "data": {
      "text/plain": [
       "<matplotlib.image.AxesImage at 0x7f1cc7b6cdf0>"
      ]
     },
     "execution_count": 77,
     "metadata": {},
     "output_type": "execute_result"
    }
   ],
   "source": [
    "com_section = int(round(com[2])) \n",
    "plt.scatter([com[1]], [com[0]], c='r', s=40)\n",
    "plt.imshow(structure_mask[:,:,com_section])"
   ]
  }
 ],
 "metadata": {
  "kernelspec": {
   "display_name": "Python 3",
   "language": "python",
   "name": "python3"
  },
  "language_info": {
   "codemirror_mode": {
    "name": "ipython",
    "version": 3
   },
   "file_extension": ".py",
   "mimetype": "text/x-python",
   "name": "python",
   "nbconvert_exporter": "python",
   "pygments_lexer": "ipython3",
   "version": "3.10.6"
  }
 },
 "nbformat": 4,
 "nbformat_minor": 4
}
