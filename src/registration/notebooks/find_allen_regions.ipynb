{
 "cells": [
  {
   "cell_type": "markdown",
   "metadata": {},
   "source": [
    "# Finding brain regions and getting their center of mass using the Allen SDK\n",
    "\n",
    "1. Create a new python virtual environment or use an existing one.\n",
    "1. pip install allensdk==2.15.1 # this works with the current ubuntu/pipeline we have, you can try just doing pip install allensdk\n",
    "1. The Allen data has to be download which happens in the commands below. You might get an error on downloading, if you do, just copy the link that is in the error message and use curl or wget or just put that link in the browser. It will then download. You will need to move that into the current working directory of this notebook under the 'mouse_connectivity' directory\n"
   ]
  },
  {
   "cell_type": "code",
   "execution_count": 1,
   "metadata": {},
   "outputs": [],
   "source": [
    "import numpy as np\n",
    "import pandas as pd\n",
    "from scipy.ndimage import center_of_mass\n",
    "from allensdk.core.mouse_connectivity_cache import MouseConnectivityCache\n",
    "from matplotlib import pyplot as plt"
   ]
  },
  {
   "cell_type": "markdown",
   "metadata": {},
   "source": [
    "### Accessing the CCF from the MouseConnectivityCache\n",
    "\n",
    "Instantiate the MouseConnectivityCache (mcc). The default resolution is 25 microns, but 10,50, and 100 microns are also valid options. You can also specify a location of a manifest file, which would keep track of all downloaded assets from template and annotation volumes to experimental data. If a manifest file directory is not provided, one will be created in the current working directory. (This is where you might get downloading errors, just download it manually and place it under the dir: mouse_connectivity'"
   ]
  },
  {
   "cell_type": "code",
   "execution_count": null,
   "metadata": {},
   "outputs": [],
   "source": [
    "mcc = MouseConnectivityCache(resolution=25)"
   ]
  },
  {
   "cell_type": "markdown",
   "metadata": {},
   "source": [
    "#### Annotated Volume and Reference Space\n",
    "Now you can get the Reference Space (rsp) at that resolution. This automatically downloads the annotated volume at the specified resolution (25 microns)."
   ]
  },
  {
   "cell_type": "code",
   "execution_count": null,
   "metadata": {},
   "outputs": [],
   "source": [
    "rsp = mcc.get_reference_space()"
   ]
  },
  {
   "cell_type": "markdown",
   "metadata": {},
   "source": [
    "The annotated volume is a 3D numpy ndarray, with axes correspond to AP,DV, and ML respectively:"
   ]
  },
  {
   "cell_type": "code",
   "execution_count": null,
   "metadata": {},
   "outputs": [],
   "source": [
    "print('Type of annotated volume', type(rsp))\n",
    "print('Shape of annotated volume:',rsp.annotation.shape)\n",
    "print('Annotated volume data type:',rsp.annotation.dtype)"
   ]
  },
  {
   "cell_type": "markdown",
   "metadata": {},
   "source": [
    "The rsp provides access to the structure tree from the ontology. Given that there are multiple atlases and associated ontologies, we are only interested in the structures belonging to this annotation. Thus, we remove unassigned structures from the structure tree. This returns a structure graph which is more easily viewed as a pandas DataFrame:"
   ]
  },
  {
   "cell_type": "code",
   "execution_count": null,
   "metadata": {},
   "outputs": [],
   "source": [
    "sg = rsp.remove_unassigned()"
   ]
  },
  {
   "cell_type": "code",
   "execution_count": null,
   "metadata": {},
   "outputs": [],
   "source": [
    "sg = pd.DataFrame(sg)"
   ]
  },
  {
   "cell_type": "code",
   "execution_count": null,
   "metadata": {},
   "outputs": [],
   "source": [
    "sg.head(10)"
   ]
  },
  {
   "cell_type": "code",
   "execution_count": null,
   "metadata": {},
   "outputs": [],
   "source": [
    "# I picked the cerebellum as it is easy to see\n",
    "# get data with structure name\n",
    "structure = 'facial nerve'\n",
    "row = sg.loc[sg['name'] == structure]\n",
    "row"
   ]
  },
  {
   "cell_type": "code",
   "execution_count": null,
   "metadata": {},
   "outputs": [],
   "source": [
    "# get data with acronym\n",
    "# our facial nerve is 7n_L and 7n_R, Allen has it as Vlln\n",
    "acronym = 'VIIn'\n",
    "row = sg.loc[sg['acronym'] == acronym]\n",
    "row"
   ]
  },
  {
   "cell_type": "code",
   "execution_count": null,
   "metadata": {},
   "outputs": [],
   "source": [
    "sg.query('name.str.contains(\"facial\")', engine='python')"
   ]
  },
  {
   "cell_type": "code",
   "execution_count": null,
   "metadata": {},
   "outputs": [],
   "source": [
    "structure_id = row.iat[0, 3]"
   ]
  },
  {
   "cell_type": "code",
   "execution_count": null,
   "metadata": {},
   "outputs": [],
   "source": [
    "# Get a list of acronymns\n",
    "id_acronym_map = rsp.structure_tree.get_id_acronym_map() # Dictionary returns IDs given acronyms\n",
    "acronym_id_map = {v:k for k,v in id_acronym_map.items()} # Flip key:value pairs to get dictionary for acronyms given IDs\n",
    "print(list(map(acronym_id_map.get,rsp.structure_tree.descendant_ids([structure_id])[0])))"
   ]
  },
  {
   "cell_type": "markdown",
   "metadata": {},
   "source": [
    "The structures' acronyms, names and IDs can all be linked through the structure graph."
   ]
  },
  {
   "cell_type": "markdown",
   "metadata": {},
   "source": [
    "While the rsp can be used to generate sections in the coronal (0), horizontal (1), or sagittal (2) planes:"
   ]
  },
  {
   "cell_type": "code",
   "execution_count": null,
   "metadata": {},
   "outputs": [],
   "source": [
    "orientation = {'coronal':0,'horizontal':1,'sagittal':2} # makes orientation arguments more readible\n",
    "pos_microns = lambda x:x*25 # get_slice_image function takes positional arguments in microns instead of 25 micron increments\n",
    "\n",
    "img = rsp.get_slice_image(orientation['sagittal'],pos_microns(200))\n",
    "plt.imshow(img)"
   ]
  },
  {
   "cell_type": "markdown",
   "metadata": {},
   "source": [
    "The rsp can also generate masks of given structure IDs. The IDs are provided as a list, and by default include all voxels annotated as children of the given structures (direct_only=False). If only the parent level voxels are desired, set direct_only to True.\n",
    "\n",
    "Here we make a mask of the Cerebral Cortex, which from the structure graph is shown to have the ID 688."
   ]
  },
  {
   "cell_type": "code",
   "execution_count": null,
   "metadata": {},
   "outputs": [],
   "source": [
    "structure_mask = rsp.make_structure_mask([structure_id], direct_only=False)"
   ]
  },
  {
   "cell_type": "code",
   "execution_count": null,
   "metadata": {},
   "outputs": [],
   "source": [
    "print('Shape of entire brain', rsp.annotation.shape)\n",
    "print('Shape of mask:',structure_mask.shape)\n",
    "print('Mask data type:',structure_mask.dtype)\n",
    "values, counts = np.unique(structure_mask, return_counts=True)\n",
    "com = center_of_mass(structure_mask)\n",
    "print(f'Center of mass for {structure}: {com}')"
   ]
  },
  {
   "cell_type": "code",
   "execution_count": null,
   "metadata": {},
   "outputs": [],
   "source": [
    "com_section = int(round(com[2])) \n",
    "plt.scatter([com[1]], [com[0]], c='r', s=40)\n",
    "plt.imshow(structure_mask[:,:,com_section])"
   ]
  },
  {
   "cell_type": "code",
   "execution_count": 55,
   "metadata": {},
   "outputs": [
    {
     "name": "stdout",
     "output_type": "stream",
     "text": [
      "(0, 0, 0)\n",
      "(0, 0, 0)\n"
     ]
    }
   ],
   "source": [
    "def create_com(structure_id):\n",
    "    com = (0,0,0)\n",
    "    try:\n",
    "        structure_mask = rsp.make_structure_mask([structure_id], direct_only=False)\n",
    "    except:\n",
    "        structure_mask = None\n",
    "    if structure_mask is not None:\n",
    "        com = center_of_mass(structure_mask)\n",
    "    return com\n",
    "def round_com(com):\n",
    "    x,y,z = com\n",
    "    return (round(x,2), round(y,2), round(z,2))\n",
    "def calculate_distance(com1, com2):\n",
    "    a = np.array([float(i) for i in eval(com1)]).astype(np.float64)\n",
    "    b = np.array([float(i) for i in eval(com2)]).astype(np.float64)\n",
    "    return (np.linalg.norm(a-b))*25\n",
    "    \n",
    "com = create_com(526157192)\n",
    "print(com)\n",
    "com_round = round_com(com)\n",
    "print(com_round)"
   ]
  },
  {
   "cell_type": "code",
   "execution_count": 30,
   "metadata": {},
   "outputs": [
    {
     "name": "stdout",
     "output_type": "stream",
     "text": [
      "6.708203932499369\n"
     ]
    }
   ],
   "source": [
    "x1 = 5\n",
    "y1 = 2\n",
    "z1 = 4\n",
    "\n",
    "x2 = 0\n",
    "y2 = 0\n",
    "z2 = 0\n",
    "x = (x1-x2)**2\n",
    "y = (y1-y2)**2\n",
    "z = (z1-z2)**2\n",
    "distance = (x+y+z)**0.5\n",
    "print(distance)"
   ]
  },
  {
   "cell_type": "code",
   "execution_count": 33,
   "metadata": {},
   "outputs": [
    {
     "data": {
      "text/plain": [
       "8.611950998467202"
      ]
     },
     "execution_count": 33,
     "metadata": {},
     "output_type": "execute_result"
    }
   ],
   "source": [
    "com1 = (368.09, 62.22, 227.68)\n",
    "com2 = (369.09,64.03,219.32)\n",
    "a = np.array(com1)\n",
    "b = np.array(com2)\n",
    "np.linalg.norm(a-b)"
   ]
  },
  {
   "cell_type": "code",
   "execution_count": 35,
   "metadata": {},
   "outputs": [
    {
     "name": "stdout",
     "output_type": "stream",
     "text": [
      "(368.09, 62.22, 227.68) (369.09, 64.03, 219.32)\n"
     ]
    },
    {
     "data": {
      "text/plain": [
       "8.611950998467202"
      ]
     },
     "execution_count": 35,
     "metadata": {},
     "output_type": "execute_result"
    }
   ],
   "source": [
    "calculate_distance(com1, com2)"
   ]
  },
  {
   "cell_type": "code",
   "execution_count": null,
   "metadata": {},
   "outputs": [],
   "source": [
    "#sg['com'] = create_com(sg['id'])\n",
    "sg['com'] = sg['id'].apply(create_com)"
   ]
  },
  {
   "cell_type": "code",
   "execution_count": null,
   "metadata": {},
   "outputs": [],
   "source": [
    "sg['com_rounded'] = sg['com'].apply(round_com)"
   ]
  },
  {
   "cell_type": "code",
   "execution_count": null,
   "metadata": {},
   "outputs": [],
   "source": [
    "df = sg.drop(sg.columns[[1, 2, 5,6,7,8]], axis=1)"
   ]
  },
  {
   "cell_type": "code",
   "execution_count": null,
   "metadata": {},
   "outputs": [],
   "source": [
    "sg.head()"
   ]
  },
  {
   "cell_type": "code",
   "execution_count": null,
   "metadata": {},
   "outputs": [],
   "source": [
    "df.head()"
   ]
  },
  {
   "cell_type": "code",
   "execution_count": 58,
   "metadata": {},
   "outputs": [],
   "source": [
    "outfile = '/home/eddyod/allen-coms.csv'\n",
    "com_df.to_csv(outfile, index=False)"
   ]
  },
  {
   "cell_type": "code",
   "execution_count": 5,
   "metadata": {},
   "outputs": [
    {
     "data": {
      "text/html": [
       "<div>\n",
       "<style scoped>\n",
       "    .dataframe tbody tr th:only-of-type {\n",
       "        vertical-align: middle;\n",
       "    }\n",
       "\n",
       "    .dataframe tbody tr th {\n",
       "        vertical-align: top;\n",
       "    }\n",
       "\n",
       "    .dataframe thead th {\n",
       "        text-align: right;\n",
       "    }\n",
       "</style>\n",
       "<table border=\"1\" class=\"dataframe\">\n",
       "  <thead>\n",
       "    <tr style=\"text-align: right;\">\n",
       "      <th></th>\n",
       "      <th>acronym</th>\n",
       "      <th>ID</th>\n",
       "      <th>Allen Terminology</th>\n",
       "      <th>allen_com</th>\n",
       "      <th>UCSD Terminology</th>\n",
       "      <th>dk52_l_com</th>\n",
       "      <th>dk52_r_com</th>\n",
       "    </tr>\n",
       "  </thead>\n",
       "  <tbody>\n",
       "    <tr>\n",
       "      <th>0</th>\n",
       "      <td>SCs</td>\n",
       "      <td>302</td>\n",
       "      <td>Superior colliculus, sensory related</td>\n",
       "      <td>(368.09, 62.22, 227.68)</td>\n",
       "      <td>SC</td>\n",
       "      <td>(369.09,64.03,219.32)</td>\n",
       "      <td>(369.09,64.03,219.32)</td>\n",
       "    </tr>\n",
       "    <tr>\n",
       "      <th>1</th>\n",
       "      <td>ICc</td>\n",
       "      <td>811</td>\n",
       "      <td>Inferior colliculus, central nucleus</td>\n",
       "      <td>(416.1, 93.29, 227.68)</td>\n",
       "      <td>IC</td>\n",
       "      <td>(416.77,77.57,225.96)</td>\n",
       "      <td>(416.77,77.57,225.96)</td>\n",
       "    </tr>\n",
       "    <tr>\n",
       "      <th>2</th>\n",
       "      <td>PBG</td>\n",
       "      <td>874</td>\n",
       "      <td>Parabigeminal nucleus</td>\n",
       "      <td>(376.07, 153.81, 227.21)</td>\n",
       "      <td>PBG</td>\n",
       "      <td>(369.77,146.82,145.24)</td>\n",
       "      <td>(372.49,154.53,308.30)</td>\n",
       "    </tr>\n",
       "    <tr>\n",
       "      <th>3</th>\n",
       "      <td>SNr</td>\n",
       "      <td>381</td>\n",
       "      <td>Substantia nigra, reticular part</td>\n",
       "      <td>(337.62, 206.69, 227.71)</td>\n",
       "      <td>SNR</td>\n",
       "      <td>(339.93,195.32,153.43)</td>\n",
       "      <td>(338.77,202.11,290.72)</td>\n",
       "    </tr>\n",
       "    <tr>\n",
       "      <th>4</th>\n",
       "      <td>III</td>\n",
       "      <td>35</td>\n",
       "      <td>Oculomotor nucleus</td>\n",
       "      <td>(364.12, 151.77, 227.75)</td>\n",
       "      <td>3N</td>\n",
       "      <td>(358.99,155.14,222.43)</td>\n",
       "      <td>(356.17,154.13,233.12)</td>\n",
       "    </tr>\n",
       "  </tbody>\n",
       "</table>\n",
       "</div>"
      ],
      "text/plain": [
       "  acronym   ID                     Allen Terminology  \\\n",
       "0     SCs  302  Superior colliculus, sensory related   \n",
       "1     ICc  811  Inferior colliculus, central nucleus   \n",
       "2     PBG  874                 Parabigeminal nucleus   \n",
       "3     SNr  381      Substantia nigra, reticular part   \n",
       "4     III   35                    Oculomotor nucleus   \n",
       "\n",
       "                  allen_com UCSD Terminology              dk52_l_com  \\\n",
       "0   (368.09, 62.22, 227.68)               SC   (369.09,64.03,219.32)   \n",
       "1    (416.1, 93.29, 227.68)               IC   (416.77,77.57,225.96)   \n",
       "2  (376.07, 153.81, 227.21)              PBG  (369.77,146.82,145.24)   \n",
       "3  (337.62, 206.69, 227.71)              SNR  (339.93,195.32,153.43)   \n",
       "4  (364.12, 151.77, 227.75)               3N  (358.99,155.14,222.43)   \n",
       "\n",
       "               dk52_r_com  \n",
       "0   (369.09,64.03,219.32)  \n",
       "1   (416.77,77.57,225.96)  \n",
       "2  (372.49,154.53,308.30)  \n",
       "3  (338.77,202.11,290.72)  \n",
       "4  (356.17,154.13,233.12)  "
      ]
     },
     "execution_count": 5,
     "metadata": {},
     "output_type": "execute_result"
    }
   ],
   "source": [
    "infile = '/home/eddyod/sql/allen.DK52.COMS.csv'\n",
    "com_df = pd.read_csv(infile)\n",
    "com_df.head()"
   ]
  },
  {
   "cell_type": "code",
   "execution_count": 56,
   "metadata": {},
   "outputs": [],
   "source": [
    "#com_df['distance_l'] = com_df[['allen_com', 'dk52_l_com']].apply(calculate_distance)\n",
    "com_df['distance_l'] = com_df.apply(lambda x: calculate_distance(x.allen_com, x.dk52_l_com), axis=1)"
   ]
  },
  {
   "cell_type": "code",
   "execution_count": 57,
   "metadata": {},
   "outputs": [
    {
     "data": {
      "text/html": [
       "<div>\n",
       "<style scoped>\n",
       "    .dataframe tbody tr th:only-of-type {\n",
       "        vertical-align: middle;\n",
       "    }\n",
       "\n",
       "    .dataframe tbody tr th {\n",
       "        vertical-align: top;\n",
       "    }\n",
       "\n",
       "    .dataframe thead th {\n",
       "        text-align: right;\n",
       "    }\n",
       "</style>\n",
       "<table border=\"1\" class=\"dataframe\">\n",
       "  <thead>\n",
       "    <tr style=\"text-align: right;\">\n",
       "      <th></th>\n",
       "      <th>acronym</th>\n",
       "      <th>ID</th>\n",
       "      <th>Allen Terminology</th>\n",
       "      <th>allen_com</th>\n",
       "      <th>UCSD Terminology</th>\n",
       "      <th>dk52_l_com</th>\n",
       "      <th>dk52_r_com</th>\n",
       "      <th>distance_l</th>\n",
       "    </tr>\n",
       "  </thead>\n",
       "  <tbody>\n",
       "    <tr>\n",
       "      <th>0</th>\n",
       "      <td>SCs</td>\n",
       "      <td>302</td>\n",
       "      <td>Superior colliculus, sensory related</td>\n",
       "      <td>(368.09, 62.22, 227.68)</td>\n",
       "      <td>SC</td>\n",
       "      <td>(369.09,64.03,219.32)</td>\n",
       "      <td>(369.09,64.03,219.32)</td>\n",
       "      <td>215.298775</td>\n",
       "    </tr>\n",
       "    <tr>\n",
       "      <th>1</th>\n",
       "      <td>ICc</td>\n",
       "      <td>811</td>\n",
       "      <td>Inferior colliculus, central nucleus</td>\n",
       "      <td>(416.1, 93.29, 227.68)</td>\n",
       "      <td>IC</td>\n",
       "      <td>(416.77,77.57,225.96)</td>\n",
       "      <td>(416.77,77.57,225.96)</td>\n",
       "      <td>395.700092</td>\n",
       "    </tr>\n",
       "    <tr>\n",
       "      <th>2</th>\n",
       "      <td>PBG</td>\n",
       "      <td>874</td>\n",
       "      <td>Parabigeminal nucleus</td>\n",
       "      <td>(376.07, 153.81, 227.21)</td>\n",
       "      <td>PBG</td>\n",
       "      <td>(369.77,146.82,145.24)</td>\n",
       "      <td>(372.49,154.53,308.30)</td>\n",
       "      <td>2062.709232</td>\n",
       "    </tr>\n",
       "    <tr>\n",
       "      <th>3</th>\n",
       "      <td>SNr</td>\n",
       "      <td>381</td>\n",
       "      <td>Substantia nigra, reticular part</td>\n",
       "      <td>(337.62, 206.69, 227.71)</td>\n",
       "      <td>SNR</td>\n",
       "      <td>(339.93,195.32,153.43)</td>\n",
       "      <td>(338.77,202.11,290.72)</td>\n",
       "      <td>1879.516460</td>\n",
       "    </tr>\n",
       "    <tr>\n",
       "      <th>4</th>\n",
       "      <td>III</td>\n",
       "      <td>35</td>\n",
       "      <td>Oculomotor nucleus</td>\n",
       "      <td>(364.12, 151.77, 227.75)</td>\n",
       "      <td>3N</td>\n",
       "      <td>(358.99,155.14,222.43)</td>\n",
       "      <td>(356.17,154.13,233.12)</td>\n",
       "      <td>203.064337</td>\n",
       "    </tr>\n",
       "    <tr>\n",
       "      <th>5</th>\n",
       "      <td>IV</td>\n",
       "      <td>115</td>\n",
       "      <td>Trochlear nucleus</td>\n",
       "      <td>(383.51, 151.05, 227.98)</td>\n",
       "      <td>4N</td>\n",
       "      <td>(378.42,155.75,214.87)</td>\n",
       "      <td>(377.89,157.00,237.17)</td>\n",
       "      <td>370.700519</td>\n",
       "    </tr>\n",
       "    <tr>\n",
       "      <th>6</th>\n",
       "      <td>SNc</td>\n",
       "      <td>374</td>\n",
       "      <td>Substantia nigra, compact part</td>\n",
       "      <td>(334.2, 204.95, 227.85)</td>\n",
       "      <td>SNC</td>\n",
       "      <td>(316.13,206.56,169.94)</td>\n",
       "      <td>(329.01,196.54,290.55)</td>\n",
       "      <td>1517.128270</td>\n",
       "    </tr>\n",
       "    <tr>\n",
       "      <th>7</th>\n",
       "      <td>P</td>\n",
       "      <td>771</td>\n",
       "      <td>Pons</td>\n",
       "      <td>(394.79, 221.28, 227.7)</td>\n",
       "      <td>Pn</td>\n",
       "      <td>(346.57,253.20,204.73)</td>\n",
       "      <td>(350.02,253.64,255.41)</td>\n",
       "      <td>1555.569771</td>\n",
       "    </tr>\n",
       "    <tr>\n",
       "      <th>8</th>\n",
       "      <td>NLL</td>\n",
       "      <td>612</td>\n",
       "      <td>Nucleus of the lateral lemniscus</td>\n",
       "      <td>(378.59, 206.99, 227.76)</td>\n",
       "      <td>VLL</td>\n",
       "      <td>(367.29,211.98,154.19)</td>\n",
       "      <td>(372.64,215.14,283.04)</td>\n",
       "      <td>1864.995811</td>\n",
       "    </tr>\n",
       "    <tr>\n",
       "      <th>9</th>\n",
       "      <td>V</td>\n",
       "      <td>621</td>\n",
       "      <td>Motor nucleus of trigeminal</td>\n",
       "      <td>(407.73, 211.44, 227.62)</td>\n",
       "      <td>5N</td>\n",
       "      <td>(402.39,206.28,172.58)</td>\n",
       "      <td>(400.76,209.76,281.29)</td>\n",
       "      <td>1388.466510</td>\n",
       "    </tr>\n",
       "    <tr>\n",
       "      <th>10</th>\n",
       "      <td>LC</td>\n",
       "      <td>147</td>\n",
       "      <td>Locus ceruleus</td>\n",
       "      <td>(428.39, 171.13, 227.39)</td>\n",
       "      <td>LC</td>\n",
       "      <td>(422.64,178.47,186.88)</td>\n",
       "      <td>(424.78,174.61,265.46)</td>\n",
       "      <td>1039.229943</td>\n",
       "    </tr>\n",
       "    <tr>\n",
       "      <th>11</th>\n",
       "      <td>AP</td>\n",
       "      <td>207</td>\n",
       "      <td>Area postrema</td>\n",
       "      <td>(506.13, 200.42, 227.69)</td>\n",
       "      <td>AP</td>\n",
       "      <td>(496.74,206.69,226.96)</td>\n",
       "      <td>(496.74,206.69,226.96)</td>\n",
       "      <td>282.862489</td>\n",
       "    </tr>\n",
       "    <tr>\n",
       "      <th>12</th>\n",
       "      <td>DCO</td>\n",
       "      <td>96</td>\n",
       "      <td>Dorsal cochlear nucleus</td>\n",
       "      <td>(450.82, 200.08, 227.59)</td>\n",
       "      <td>DC</td>\n",
       "      <td>(456.55,188.66,136.92)</td>\n",
       "      <td>(452.15,195.45,325.93)</td>\n",
       "      <td>2289.145337</td>\n",
       "    </tr>\n",
       "    <tr>\n",
       "      <th>13</th>\n",
       "      <td>VCO</td>\n",
       "      <td>101</td>\n",
       "      <td>Ventral cochlear nucleus</td>\n",
       "      <td>(425.62, 228.93, 227.51)</td>\n",
       "      <td>VCp</td>\n",
       "      <td>(451.61,223.69,129.84)</td>\n",
       "      <td>(451.95,230.88,321.90)</td>\n",
       "      <td>2530.114449</td>\n",
       "    </tr>\n",
       "    <tr>\n",
       "      <th>14</th>\n",
       "      <td>NTB</td>\n",
       "      <td>642</td>\n",
       "      <td>Nucleus of the trapezoid body</td>\n",
       "      <td>(396.07, 270.25, 227.7)</td>\n",
       "      <td>Tz</td>\n",
       "      <td>(397.33,264.91,201.48)</td>\n",
       "      <td>(400.58,265.46,254.39)</td>\n",
       "      <td>669.697506</td>\n",
       "    </tr>\n",
       "    <tr>\n",
       "      <th>15</th>\n",
       "      <td>SPVI</td>\n",
       "      <td>437</td>\n",
       "      <td>Spinal nucleus of the trigeminal, interpolar part</td>\n",
       "      <td>(484.26, 234.88, 227.73)</td>\n",
       "      <td>SP5I</td>\n",
       "      <td>(480.24,228.80,163.31)</td>\n",
       "      <td>(474.44,239.23,291.81)</td>\n",
       "      <td>1620.775894</td>\n",
       "    </tr>\n",
       "    <tr>\n",
       "      <th>16</th>\n",
       "      <td>SPVO</td>\n",
       "      <td>445</td>\n",
       "      <td>Spinal nucleus of the trigeminal, oral part</td>\n",
       "      <td>(445.55, 236.5, 227.86)</td>\n",
       "      <td>SP5O</td>\n",
       "      <td>(0,0,0)</td>\n",
       "      <td>(0,0,0)</td>\n",
       "      <td>13837.612513</td>\n",
       "    </tr>\n",
       "    <tr>\n",
       "      <th>17</th>\n",
       "      <td>VI</td>\n",
       "      <td>653</td>\n",
       "      <td>Abducens nucleus</td>\n",
       "      <td>(430.85, 208.59, 227.71)</td>\n",
       "      <td>6N</td>\n",
       "      <td>(425.29,212.32,207.96)</td>\n",
       "      <td>(426.91,210.46,244.63)</td>\n",
       "      <td>521.349811</td>\n",
       "    </tr>\n",
       "    <tr>\n",
       "      <th>18</th>\n",
       "      <td>VII</td>\n",
       "      <td>661</td>\n",
       "      <td>Facial motor nucleus</td>\n",
       "      <td>(434.11, 271.02, 227.72)</td>\n",
       "      <td>7N</td>\n",
       "      <td>(434.59,269.61,172.81)</td>\n",
       "      <td>(439.59,268.04,279.20)</td>\n",
       "      <td>1373.254938</td>\n",
       "    </tr>\n",
       "    <tr>\n",
       "      <th>19</th>\n",
       "      <td>AMB</td>\n",
       "      <td>135</td>\n",
       "      <td>Nucleus ambiguus</td>\n",
       "      <td>(475.29, 264.71, 227.69)</td>\n",
       "      <td>Amb</td>\n",
       "      <td>(463.08,257.33,173.71)</td>\n",
       "      <td>(462.75,256.50,280.32)</td>\n",
       "      <td>1395.839555</td>\n",
       "    </tr>\n",
       "  </tbody>\n",
       "</table>\n",
       "</div>"
      ],
      "text/plain": [
       "   acronym   ID                                  Allen Terminology  \\\n",
       "0      SCs  302               Superior colliculus, sensory related   \n",
       "1      ICc  811               Inferior colliculus, central nucleus   \n",
       "2      PBG  874                              Parabigeminal nucleus   \n",
       "3      SNr  381                   Substantia nigra, reticular part   \n",
       "4      III   35                                 Oculomotor nucleus   \n",
       "5       IV  115                                  Trochlear nucleus   \n",
       "6      SNc  374                     Substantia nigra, compact part   \n",
       "7        P  771                                               Pons   \n",
       "8      NLL  612                   Nucleus of the lateral lemniscus   \n",
       "9        V  621                        Motor nucleus of trigeminal   \n",
       "10      LC  147                                     Locus ceruleus   \n",
       "11      AP  207                                      Area postrema   \n",
       "12     DCO   96                            Dorsal cochlear nucleus   \n",
       "13     VCO  101                           Ventral cochlear nucleus   \n",
       "14     NTB  642                      Nucleus of the trapezoid body   \n",
       "15    SPVI  437  Spinal nucleus of the trigeminal, interpolar part   \n",
       "16    SPVO  445        Spinal nucleus of the trigeminal, oral part   \n",
       "17      VI  653                                   Abducens nucleus   \n",
       "18     VII  661                               Facial motor nucleus   \n",
       "19     AMB  135                                   Nucleus ambiguus   \n",
       "\n",
       "                   allen_com UCSD Terminology              dk52_l_com  \\\n",
       "0    (368.09, 62.22, 227.68)               SC   (369.09,64.03,219.32)   \n",
       "1     (416.1, 93.29, 227.68)               IC   (416.77,77.57,225.96)   \n",
       "2   (376.07, 153.81, 227.21)              PBG  (369.77,146.82,145.24)   \n",
       "3   (337.62, 206.69, 227.71)              SNR  (339.93,195.32,153.43)   \n",
       "4   (364.12, 151.77, 227.75)               3N  (358.99,155.14,222.43)   \n",
       "5   (383.51, 151.05, 227.98)               4N  (378.42,155.75,214.87)   \n",
       "6    (334.2, 204.95, 227.85)              SNC  (316.13,206.56,169.94)   \n",
       "7    (394.79, 221.28, 227.7)               Pn  (346.57,253.20,204.73)   \n",
       "8   (378.59, 206.99, 227.76)              VLL  (367.29,211.98,154.19)   \n",
       "9   (407.73, 211.44, 227.62)               5N  (402.39,206.28,172.58)   \n",
       "10  (428.39, 171.13, 227.39)               LC  (422.64,178.47,186.88)   \n",
       "11  (506.13, 200.42, 227.69)               AP  (496.74,206.69,226.96)   \n",
       "12  (450.82, 200.08, 227.59)               DC  (456.55,188.66,136.92)   \n",
       "13  (425.62, 228.93, 227.51)              VCp  (451.61,223.69,129.84)   \n",
       "14   (396.07, 270.25, 227.7)               Tz  (397.33,264.91,201.48)   \n",
       "15  (484.26, 234.88, 227.73)             SP5I  (480.24,228.80,163.31)   \n",
       "16   (445.55, 236.5, 227.86)             SP5O                 (0,0,0)   \n",
       "17  (430.85, 208.59, 227.71)               6N  (425.29,212.32,207.96)   \n",
       "18  (434.11, 271.02, 227.72)               7N  (434.59,269.61,172.81)   \n",
       "19  (475.29, 264.71, 227.69)              Amb  (463.08,257.33,173.71)   \n",
       "\n",
       "                dk52_r_com    distance_l  \n",
       "0    (369.09,64.03,219.32)    215.298775  \n",
       "1    (416.77,77.57,225.96)    395.700092  \n",
       "2   (372.49,154.53,308.30)   2062.709232  \n",
       "3   (338.77,202.11,290.72)   1879.516460  \n",
       "4   (356.17,154.13,233.12)    203.064337  \n",
       "5   (377.89,157.00,237.17)    370.700519  \n",
       "6   (329.01,196.54,290.55)   1517.128270  \n",
       "7   (350.02,253.64,255.41)   1555.569771  \n",
       "8   (372.64,215.14,283.04)   1864.995811  \n",
       "9   (400.76,209.76,281.29)   1388.466510  \n",
       "10  (424.78,174.61,265.46)   1039.229943  \n",
       "11  (496.74,206.69,226.96)    282.862489  \n",
       "12  (452.15,195.45,325.93)   2289.145337  \n",
       "13  (451.95,230.88,321.90)   2530.114449  \n",
       "14  (400.58,265.46,254.39)    669.697506  \n",
       "15  (474.44,239.23,291.81)   1620.775894  \n",
       "16                 (0,0,0)  13837.612513  \n",
       "17  (426.91,210.46,244.63)    521.349811  \n",
       "18  (439.59,268.04,279.20)   1373.254938  \n",
       "19  (462.75,256.50,280.32)   1395.839555  "
      ]
     },
     "execution_count": 57,
     "metadata": {},
     "output_type": "execute_result"
    }
   ],
   "source": [
    "com_df.head(20)"
   ]
  },
  {
   "cell_type": "code",
   "execution_count": null,
   "metadata": {},
   "outputs": [],
   "source": []
  }
 ],
 "metadata": {
  "kernelspec": {
   "display_name": "Python 3 (ipykernel)",
   "language": "python",
   "name": "python3"
  },
  "language_info": {
   "codemirror_mode": {
    "name": "ipython",
    "version": 3
   },
   "file_extension": ".py",
   "mimetype": "text/x-python",
   "name": "python",
   "nbconvert_exporter": "python",
   "pygments_lexer": "ipython3",
   "version": "3.10.6"
  }
 },
 "nbformat": 4,
 "nbformat_minor": 4
}
