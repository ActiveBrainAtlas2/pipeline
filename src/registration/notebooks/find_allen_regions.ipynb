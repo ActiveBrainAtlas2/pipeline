{
 "cells": [
  {
   "cell_type": "markdown",
   "metadata": {},
   "source": [
    "# Finding brain regions and getting their center of mass using the Allen SDK\n",
    "\n",
    "1. Create a new python virtual environment or use an existing one.\n",
    "1. pip install allensdk==2.15.1 # this works with the current ubuntu/pipeline we have, you can try just doing pip install allensdk\n",
    "1. The Allen data has to be download which happens in the commands below. You might get an error on downloading, if you do, just copy the link that is in the error message and use curl or wget or just put that link in the browser. It will then download. You will need to move that into the current working directory of this notebook under the 'mouse_connectivity' directory\n",
    "1. You'll notice the atlas below has the rostrum at the top. These are the coordinates of the Allen atlas. We need the rostrum at the left, with the superior at the top in the sagittal view. So the center of mass coordinates you get below need to be flipped.\n"
   ]
  },
  {
   "cell_type": "code",
   "execution_count": 78,
   "metadata": {},
   "outputs": [],
   "source": [
    "import numpy as np\n",
    "import pandas as pd\n",
    "from scipy.ndimage import center_of_mass\n",
    "from allensdk.core.mouse_connectivity_cache import MouseConnectivityCache\n",
    "from matplotlib import pyplot as plt"
   ]
  },
  {
   "cell_type": "code",
   "execution_count": 79,
   "metadata": {},
   "outputs": [],
   "source": [
    "%matplotlib notebook"
   ]
  },
  {
   "cell_type": "markdown",
   "metadata": {},
   "source": [
    "### Accessing the CCF from the MouseConnectivityCache\n",
    "\n",
    "Instantiate the MouseConnectivityCache (mcc). The default resolution is 25 microns, but 10,50, and 100 microns are also valid options. You can also specify a location of a manifest file, which would keep track of all downloaded assets from template and annotation volumes to experimental data. If a manifest file directory is not provided, one will be created in the current working directory. (This is where you might get downloading errors, just download it manually and place it under the dir: mouse_connectivity'"
   ]
  },
  {
   "cell_type": "code",
   "execution_count": 80,
   "metadata": {},
   "outputs": [],
   "source": [
    "mcc = MouseConnectivityCache(resolution=25)"
   ]
  },
  {
   "cell_type": "markdown",
   "metadata": {},
   "source": [
    "#### Annotated Volume and Reference Space\n",
    "Now you can get the Reference Space (rsp) at that resolution. This automatically downloads the annotated volume at the specified resolution (25 microns)."
   ]
  },
  {
   "cell_type": "code",
   "execution_count": 81,
   "metadata": {},
   "outputs": [],
   "source": [
    "rsp = mcc.get_reference_space()"
   ]
  },
  {
   "cell_type": "markdown",
   "metadata": {},
   "source": [
    "The annotated volume is a 3D numpy ndarray, with axes correspond to AP,DV, and ML respectively:"
   ]
  },
  {
   "cell_type": "code",
   "execution_count": 82,
   "metadata": {},
   "outputs": [
    {
     "name": "stdout",
     "output_type": "stream",
     "text": [
      "Type of annotated volume <class 'allensdk.core.reference_space.ReferenceSpace'>\n",
      "Shape of annotated volume: (528, 320, 456)\n",
      "Annotated volume data type: uint32\n"
     ]
    }
   ],
   "source": [
    "print('Type of annotated volume', type(rsp))\n",
    "print('Shape of annotated volume:',rsp.annotation.shape)\n",
    "print('Annotated volume data type:',rsp.annotation.dtype)"
   ]
  },
  {
   "cell_type": "markdown",
   "metadata": {},
   "source": [
    "The rsp provides access to the structure tree from the ontology. Given that there are multiple atlases and associated ontologies, we are only interested in the structures belonging to this annotation. Thus, we remove unassigned structures from the structure tree. This returns a structure graph which is more easily viewed as a pandas DataFrame:"
   ]
  },
  {
   "cell_type": "code",
   "execution_count": 83,
   "metadata": {},
   "outputs": [],
   "source": [
    "sg = rsp.remove_unassigned()"
   ]
  },
  {
   "cell_type": "code",
   "execution_count": 84,
   "metadata": {},
   "outputs": [],
   "source": [
    "sg = pd.DataFrame(sg)"
   ]
  },
  {
   "cell_type": "code",
   "execution_count": 85,
   "metadata": {},
   "outputs": [
    {
     "data": {
      "text/html": [
       "<div>\n",
       "<style scoped>\n",
       "    .dataframe tbody tr th:only-of-type {\n",
       "        vertical-align: middle;\n",
       "    }\n",
       "\n",
       "    .dataframe tbody tr th {\n",
       "        vertical-align: top;\n",
       "    }\n",
       "\n",
       "    .dataframe thead th {\n",
       "        text-align: right;\n",
       "    }\n",
       "</style>\n",
       "<table border=\"1\" class=\"dataframe\">\n",
       "  <thead>\n",
       "    <tr style=\"text-align: right;\">\n",
       "      <th></th>\n",
       "      <th>acronym</th>\n",
       "      <th>graph_id</th>\n",
       "      <th>graph_order</th>\n",
       "      <th>id</th>\n",
       "      <th>name</th>\n",
       "      <th>structure_id_path</th>\n",
       "      <th>structure_set_ids</th>\n",
       "      <th>rgb_triplet</th>\n",
       "    </tr>\n",
       "  </thead>\n",
       "  <tbody>\n",
       "    <tr>\n",
       "      <th>0</th>\n",
       "      <td>root</td>\n",
       "      <td>1</td>\n",
       "      <td>0</td>\n",
       "      <td>997</td>\n",
       "      <td>root</td>\n",
       "      <td>[997]</td>\n",
       "      <td>[691663206]</td>\n",
       "      <td>[255, 255, 255]</td>\n",
       "    </tr>\n",
       "    <tr>\n",
       "      <th>1</th>\n",
       "      <td>grey</td>\n",
       "      <td>1</td>\n",
       "      <td>1</td>\n",
       "      <td>8</td>\n",
       "      <td>Basic cell groups and regions</td>\n",
       "      <td>[997, 8]</td>\n",
       "      <td>[112905828, 691663206, 12, 184527634, 11290581...</td>\n",
       "      <td>[191, 218, 227]</td>\n",
       "    </tr>\n",
       "    <tr>\n",
       "      <th>2</th>\n",
       "      <td>CH</td>\n",
       "      <td>1</td>\n",
       "      <td>2</td>\n",
       "      <td>567</td>\n",
       "      <td>Cerebrum</td>\n",
       "      <td>[997, 8, 567]</td>\n",
       "      <td>[112905828, 691663206, 12, 184527634, 11290581...</td>\n",
       "      <td>[176, 240, 255]</td>\n",
       "    </tr>\n",
       "    <tr>\n",
       "      <th>3</th>\n",
       "      <td>CTX</td>\n",
       "      <td>1</td>\n",
       "      <td>3</td>\n",
       "      <td>688</td>\n",
       "      <td>Cerebral cortex</td>\n",
       "      <td>[997, 8, 567, 688]</td>\n",
       "      <td>[112905828, 691663206, 12, 184527634, 11290581...</td>\n",
       "      <td>[176, 255, 184]</td>\n",
       "    </tr>\n",
       "    <tr>\n",
       "      <th>4</th>\n",
       "      <td>CTXpl</td>\n",
       "      <td>1</td>\n",
       "      <td>4</td>\n",
       "      <td>695</td>\n",
       "      <td>Cortical plate</td>\n",
       "      <td>[997, 8, 567, 688, 695]</td>\n",
       "      <td>[112905828, 691663206, 12, 184527634, 11290581...</td>\n",
       "      <td>[112, 255, 112]</td>\n",
       "    </tr>\n",
       "  </tbody>\n",
       "</table>\n",
       "</div>"
      ],
      "text/plain": [
       "  acronym  graph_id  graph_order   id                           name  \\\n",
       "0    root         1            0  997                           root   \n",
       "1    grey         1            1    8  Basic cell groups and regions   \n",
       "2      CH         1            2  567                       Cerebrum   \n",
       "3     CTX         1            3  688                Cerebral cortex   \n",
       "4   CTXpl         1            4  695                 Cortical plate   \n",
       "\n",
       "         structure_id_path                                  structure_set_ids  \\\n",
       "0                    [997]                                        [691663206]   \n",
       "1                 [997, 8]  [112905828, 691663206, 12, 184527634, 11290581...   \n",
       "2            [997, 8, 567]  [112905828, 691663206, 12, 184527634, 11290581...   \n",
       "3       [997, 8, 567, 688]  [112905828, 691663206, 12, 184527634, 11290581...   \n",
       "4  [997, 8, 567, 688, 695]  [112905828, 691663206, 12, 184527634, 11290581...   \n",
       "\n",
       "       rgb_triplet  \n",
       "0  [255, 255, 255]  \n",
       "1  [191, 218, 227]  \n",
       "2  [176, 240, 255]  \n",
       "3  [176, 255, 184]  \n",
       "4  [112, 255, 112]  "
      ]
     },
     "execution_count": 85,
     "metadata": {},
     "output_type": "execute_result"
    }
   ],
   "source": [
    "sg.head()"
   ]
  },
  {
   "cell_type": "code",
   "execution_count": 92,
   "metadata": {},
   "outputs": [
    {
     "data": {
      "text/html": [
       "<div>\n",
       "<style scoped>\n",
       "    .dataframe tbody tr th:only-of-type {\n",
       "        vertical-align: middle;\n",
       "    }\n",
       "\n",
       "    .dataframe tbody tr th {\n",
       "        vertical-align: top;\n",
       "    }\n",
       "\n",
       "    .dataframe thead th {\n",
       "        text-align: right;\n",
       "    }\n",
       "</style>\n",
       "<table border=\"1\" class=\"dataframe\">\n",
       "  <thead>\n",
       "    <tr style=\"text-align: right;\">\n",
       "      <th></th>\n",
       "      <th>acronym</th>\n",
       "      <th>graph_id</th>\n",
       "      <th>graph_order</th>\n",
       "      <th>id</th>\n",
       "      <th>name</th>\n",
       "      <th>structure_id_path</th>\n",
       "      <th>structure_set_ids</th>\n",
       "      <th>rgb_triplet</th>\n",
       "    </tr>\n",
       "  </thead>\n",
       "  <tbody>\n",
       "  </tbody>\n",
       "</table>\n",
       "</div>"
      ],
      "text/plain": [
       "Empty DataFrame\n",
       "Columns: [acronym, graph_id, graph_order, id, name, structure_id_path, structure_set_ids, rgb_triplet]\n",
       "Index: []"
      ]
     },
     "execution_count": 92,
     "metadata": {},
     "output_type": "execute_result"
    }
   ],
   "source": [
    "# I picked the cerebellum as it is easy to see\n",
    "# get data with structure name\n",
    "structure = 'SC'\n",
    "row = sg.loc[sg['name'] == structure]\n",
    "row"
   ]
  },
  {
   "cell_type": "code",
   "execution_count": 86,
   "metadata": {},
   "outputs": [
    {
     "data": {
      "text/html": [
       "<div>\n",
       "<style scoped>\n",
       "    .dataframe tbody tr th:only-of-type {\n",
       "        vertical-align: middle;\n",
       "    }\n",
       "\n",
       "    .dataframe tbody tr th {\n",
       "        vertical-align: top;\n",
       "    }\n",
       "\n",
       "    .dataframe thead th {\n",
       "        text-align: right;\n",
       "    }\n",
       "</style>\n",
       "<table border=\"1\" class=\"dataframe\">\n",
       "  <thead>\n",
       "    <tr style=\"text-align: right;\">\n",
       "      <th></th>\n",
       "      <th>acronym</th>\n",
       "      <th>graph_id</th>\n",
       "      <th>graph_order</th>\n",
       "      <th>id</th>\n",
       "      <th>name</th>\n",
       "      <th>structure_id_path</th>\n",
       "      <th>structure_set_ids</th>\n",
       "      <th>rgb_triplet</th>\n",
       "    </tr>\n",
       "  </thead>\n",
       "  <tbody>\n",
       "    <tr>\n",
       "      <th>536</th>\n",
       "      <td>SCs</td>\n",
       "      <td>1</td>\n",
       "      <td>808</td>\n",
       "      <td>302</td>\n",
       "      <td>Superior colliculus, sensory related</td>\n",
       "      <td>[997, 8, 343, 313, 339, 302]</td>\n",
       "      <td>[112905828, 691663206, 687527945, 10, 12, 6881...</td>\n",
       "      <td>[255, 122, 255]</td>\n",
       "    </tr>\n",
       "  </tbody>\n",
       "</table>\n",
       "</div>"
      ],
      "text/plain": [
       "    acronym  graph_id  graph_order   id                                  name  \\\n",
       "536     SCs         1          808  302  Superior colliculus, sensory related   \n",
       "\n",
       "                structure_id_path  \\\n",
       "536  [997, 8, 343, 313, 339, 302]   \n",
       "\n",
       "                                     structure_set_ids      rgb_triplet  \n",
       "536  [112905828, 691663206, 687527945, 10, 12, 6881...  [255, 122, 255]  "
      ]
     },
     "execution_count": 86,
     "metadata": {},
     "output_type": "execute_result"
    }
   ],
   "source": [
    "# get data with acronym\n",
    "acronym = 'SCs'\n",
    "row = sg.loc[sg['acronym'] == acronym]\n",
    "row"
   ]
  },
  {
   "cell_type": "code",
   "execution_count": 44,
   "metadata": {},
   "outputs": [
    {
     "data": {
      "text/html": [
       "<div>\n",
       "<style scoped>\n",
       "    .dataframe tbody tr th:only-of-type {\n",
       "        vertical-align: middle;\n",
       "    }\n",
       "\n",
       "    .dataframe tbody tr th {\n",
       "        vertical-align: top;\n",
       "    }\n",
       "\n",
       "    .dataframe thead th {\n",
       "        text-align: right;\n",
       "    }\n",
       "</style>\n",
       "<table border=\"1\" class=\"dataframe\">\n",
       "  <thead>\n",
       "    <tr style=\"text-align: right;\">\n",
       "      <th></th>\n",
       "      <th>acronym</th>\n",
       "      <th>graph_id</th>\n",
       "      <th>graph_order</th>\n",
       "      <th>id</th>\n",
       "      <th>name</th>\n",
       "      <th>structure_id_path</th>\n",
       "      <th>structure_set_ids</th>\n",
       "      <th>rgb_triplet</th>\n",
       "    </tr>\n",
       "  </thead>\n",
       "  <tbody>\n",
       "    <tr>\n",
       "      <th>656</th>\n",
       "      <td>ACVII</td>\n",
       "      <td>1</td>\n",
       "      <td>968</td>\n",
       "      <td>576</td>\n",
       "      <td>Accessory facial motor nucleus</td>\n",
       "      <td>[997, 8, 343, 1065, 354, 370, 576]</td>\n",
       "      <td>[112905828, 691663206, 687527945, 12, 68815236...</td>\n",
       "      <td>[255, 179, 217]</td>\n",
       "    </tr>\n",
       "    <tr>\n",
       "      <th>745</th>\n",
       "      <td>VIIn</td>\n",
       "      <td>1</td>\n",
       "      <td>1130</td>\n",
       "      <td>798</td>\n",
       "      <td>facial nerve</td>\n",
       "      <td>[997, 1009, 967, 798]</td>\n",
       "      <td>[184527634, 691663206]</td>\n",
       "      <td>[204, 204, 204]</td>\n",
       "    </tr>\n",
       "    <tr>\n",
       "      <th>746</th>\n",
       "      <td>gVIIn</td>\n",
       "      <td>1</td>\n",
       "      <td>1132</td>\n",
       "      <td>1116</td>\n",
       "      <td>genu of the facial nerve</td>\n",
       "      <td>[997, 1009, 967, 798, 1116]</td>\n",
       "      <td>[184527634, 691663206]</td>\n",
       "      <td>[204, 204, 204]</td>\n",
       "    </tr>\n",
       "  </tbody>\n",
       "</table>\n",
       "</div>"
      ],
      "text/plain": [
       "    acronym  graph_id  graph_order    id                            name  \\\n",
       "656   ACVII         1          968   576  Accessory facial motor nucleus   \n",
       "745    VIIn         1         1130   798                    facial nerve   \n",
       "746   gVIIn         1         1132  1116        genu of the facial nerve   \n",
       "\n",
       "                      structure_id_path  \\\n",
       "656  [997, 8, 343, 1065, 354, 370, 576]   \n",
       "745               [997, 1009, 967, 798]   \n",
       "746         [997, 1009, 967, 798, 1116]   \n",
       "\n",
       "                                     structure_set_ids      rgb_triplet  \n",
       "656  [112905828, 691663206, 687527945, 12, 68815236...  [255, 179, 217]  \n",
       "745                             [184527634, 691663206]  [204, 204, 204]  \n",
       "746                             [184527634, 691663206]  [204, 204, 204]  "
      ]
     },
     "execution_count": 44,
     "metadata": {},
     "output_type": "execute_result"
    }
   ],
   "source": [
    "sg.query('name.str.contains(\"facial\")', engine='python')"
   ]
  },
  {
   "cell_type": "code",
   "execution_count": 87,
   "metadata": {},
   "outputs": [],
   "source": [
    "structure_id = row.iat[0, 3]"
   ]
  },
  {
   "cell_type": "code",
   "execution_count": 88,
   "metadata": {},
   "outputs": [
    {
     "name": "stdout",
     "output_type": "stream",
     "text": [
      "['SCs', 'SCop', 'SCsg', 'SCzo']\n"
     ]
    }
   ],
   "source": [
    "# Get a list of acronymns\n",
    "id_acronym_map = rsp.structure_tree.get_id_acronym_map() # Dictionary returns IDs given acronyms\n",
    "acronym_id_map = {v:k for k,v in id_acronym_map.items()} # Flip key:value pairs to get dictionary for acronyms given IDs\n",
    "print(list(map(acronym_id_map.get,rsp.structure_tree.descendant_ids([structure_id])[0])))"
   ]
  },
  {
   "cell_type": "markdown",
   "metadata": {},
   "source": [
    "The structures' acronyms, names and IDs can all be linked through the structure graph."
   ]
  },
  {
   "cell_type": "markdown",
   "metadata": {},
   "source": [
    "While the rsp can be used to generate sections in the coronal (0), horizontal (1), or sagittal (2) planes:"
   ]
  },
  {
   "cell_type": "code",
   "execution_count": 89,
   "metadata": {},
   "outputs": [
    {
     "data": {
      "text/plain": [
       "<matplotlib.image.AxesImage at 0x7f1cc8d4d420>"
      ]
     },
     "execution_count": 89,
     "metadata": {},
     "output_type": "execute_result"
    }
   ],
   "source": [
    "orientation = {'coronal':0,'horizontal':1,'sagittal':2} # makes orientation arguments more readible\n",
    "pos_microns = lambda x:x*25 # get_slice_image function takes positional arguments in microns instead of 25 micron increments\n",
    "\n",
    "img = rsp.get_slice_image(orientation['sagittal'],pos_microns(200))\n",
    "plt.imshow(img)"
   ]
  },
  {
   "cell_type": "markdown",
   "metadata": {},
   "source": [
    "The rsp can also generate masks of given structure IDs. The IDs are provided as a list, and by default include all voxels annotated as children of the given structures (direct_only=False). If only the parent level voxels are desired, set direct_only to True.\n",
    "\n",
    "Here we make a mask of the Cerebral Cortex, which from the structure graph is shown to have the ID 688."
   ]
  },
  {
   "cell_type": "code",
   "execution_count": 90,
   "metadata": {},
   "outputs": [],
   "source": [
    "structure_mask = rsp.make_structure_mask([structure_id], direct_only=False)"
   ]
  },
  {
   "cell_type": "code",
   "execution_count": 93,
   "metadata": {},
   "outputs": [
    {
     "name": "stdout",
     "output_type": "stream",
     "text": [
      "Shape of entire brain (528, 320, 456)\n",
      "Shape of mask: (528, 320, 456)\n",
      "Mask data type: uint8\n",
      "Center of mass for SC: (368.08973894913635, 62.21607279887645, 227.68008600344592)\n"
     ]
    }
   ],
   "source": [
    "print('Shape of entire brain', rsp.annotation.shape)\n",
    "print('Shape of mask:',structure_mask.shape)\n",
    "print('Mask data type:',structure_mask.dtype)\n",
    "values, counts = np.unique(structure_mask, return_counts=True)\n",
    "com = center_of_mass(structure_mask)\n",
    "print(f'Center of mass for {structure}: {com}')"
   ]
  },
  {
   "cell_type": "code",
   "execution_count": 77,
   "metadata": {},
   "outputs": [
    {
     "data": {
      "text/plain": [
       "<matplotlib.image.AxesImage at 0x7f1cc7b6cdf0>"
      ]
     },
     "execution_count": 77,
     "metadata": {},
     "output_type": "execute_result"
    }
   ],
   "source": [
    "com_section = int(round(com[2])) \n",
    "plt.scatter([com[1]], [com[0]], c='r', s=40)\n",
    "plt.imshow(structure_mask[:,:,com_section])"
   ]
  }
 ],
 "metadata": {
  "kernelspec": {
   "display_name": "Python 3",
   "language": "python",
   "name": "python3"
  },
  "language_info": {
   "codemirror_mode": {
    "name": "ipython",
    "version": 3
   },
   "file_extension": ".py",
   "mimetype": "text/x-python",
   "name": "python",
   "nbconvert_exporter": "python",
   "pygments_lexer": "ipython3",
   "version": "3.10.6"
  }
 },
 "nbformat": 4,
 "nbformat_minor": 4
}
