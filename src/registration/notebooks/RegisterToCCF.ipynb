{
 "cells": [
  {
   "cell_type": "code",
   "execution_count": null,
   "id": "8cc44ebf",
   "metadata": {},
   "outputs": [],
   "source": [
    "import os\n",
    "import itertools\n",
    "import itk\n",
    "import itkwidgets\n",
    "from skimage import io\n",
    "import numpy as np\n",
    "assert \"ElastixRegistrationMethod\" in dir(itk)  # Ensure itk-elastix is installed"
   ]
  },
  {
   "cell_type": "code",
   "execution_count": null,
   "id": "44a60f0e",
   "metadata": {},
   "outputs": [],
   "source": [
    "DATA = '/net/birdstore/Active_Atlas_Data/data_root/pipeline_data/DK52/preps/CH1'\n",
    "REGDATA = '/net/birdstore/Active_Atlas_Data/data_root/brains_info/registration'"
   ]
  },
  {
   "cell_type": "code",
   "execution_count": null,
   "id": "41ca23b7",
   "metadata": {},
   "outputs": [],
   "source": [
    "filename = 'allen_100um_sagittal.tif'\n",
    "fixedFilepath = os.path.join(REGDATA, filename)\n",
    "fixed_volume = io.imread(fixedFilepath)\n",
    "fz, fy, fx = fixed_volume.shape\n",
    "print(f'Fixed volume shape={fixed_volume.shape} dtype={fixed_volume.dtype}')"
   ]
  },
  {
   "cell_type": "code",
   "execution_count": null,
   "id": "385a85fc",
   "metadata": {},
   "outputs": [],
   "source": [
    "movingFilepath = os.path.join(DATA, 'aligned_volume.256.tif')\n",
    "moving_volume = io.imread(movingFilepath)\n",
    "mz, my, mx = moving_volume.shape\n",
    "print(f'Moving volume shape={moving_volume.shape} dtype={moving_volume.dtype}')"
   ]
  },
  {
   "cell_type": "code",
   "execution_count": null,
   "id": "3c54aa45",
   "metadata": {},
   "outputs": [],
   "source": [
    "source_image = itk.image_from_array(moving_volume.astype(np.float32))\n",
    "target_image = itk.image_from_array(fixed_volume.astype(np.float32))\n",
    "#source_image.SetSpacing([axis_spacings[axis_name] for axis_name in itk_spatial_axes])\n",
    "#print(source_image)"
   ]
  },
  {
   "cell_type": "code",
   "execution_count": null,
   "id": "08ae5c8e",
   "metadata": {},
   "outputs": [],
   "source": [
    "# Image orientation is derived from accompanying \"acquisition.json\" file\n",
    "\n",
    "# ITK is in \"right-to-left\", \"anterior-to-posterior\", \"inferior-to-superior\" (LPS) space.\n",
    "# \"acquisition.json\" for \"SmartSPIM_631680_2022-09-09_13-52-33\" shows voxel data uses same\n",
    "# axes order but inverted, i.e. \"left-to-right\", \"posterior-to-anterior\", \"superior-to-inferior\" (RAI).\n",
    "# moving is LPI\n",
    "INPUT_COORDINATE_ORIENTATION = (\n",
    "    itk.SpatialOrientationEnums.ValidCoordinateOrientations_ITK_COORDINATE_ORIENTATION_RAI\n",
    ")"
   ]
  },
  {
   "cell_type": "code",
   "execution_count": null,
   "id": "c299f280",
   "metadata": {},
   "outputs": [],
   "source": [
    "def get_bounds(image, transform=None):\n",
    "    \"\"\"Get the physical boundaries of the space sampled by the ITK image.\n",
    "       Each voxel in an ITK image is considered to be a sample of the spatial\n",
    "       volume occupied by that voxel taken at the spatial center of the volume.\n",
    "       The physical point returned at each discrete voxel coordinate is\n",
    "       considered to be the physical location of the sample point. We adjust by\n",
    "       half a voxel in each direction to get the bounds of the space sampled\n",
    "       by the image.\n",
    "    \"\"\"\n",
    "    HALF_VOXEL_STEP = 0.5\n",
    "    dimension = image.GetImageDimension()\n",
    "    lower_index = itk.ContinuousIndex[itk.D,dimension]()\n",
    "    lower_index.Fill(-1 * HALF_VOXEL_STEP)\n",
    "    upper_index = itk.ContinuousIndex[itk.D,dimension]()\n",
    "    for dim in range(dimension):\n",
    "        upper_index.SetElement(dim, itk.size(image)[dim] + HALF_VOXEL_STEP)\n",
    "    \n",
    "    image_bounds = [\n",
    "        image.TransformContinuousIndexToPhysicalPoint(lower_index),\n",
    "        image.TransformContinuousIndexToPhysicalPoint(upper_index)\n",
    "    ]\n",
    "    return (\n",
    "        [transform.TransformPoint(pt) for pt in image_bounds]\n",
    "        if transform\n",
    "        else image_bounds\n",
    "    )\n",
    "\n",
    "def get_physical_size(image, transform=None):\n",
    "    \"\"\"Get the distance along each size of the physical space sampled by the image\"\"\"\n",
    "    bounds = get_bounds(image, transform)\n",
    "    return np.absolute(np.array(bounds[1]) - np.array(bounds[0]))"
   ]
  },
  {
   "cell_type": "code",
   "execution_count": null,
   "id": "980ac1a9",
   "metadata": {},
   "outputs": [],
   "source": [
    "print(f\"CCF physical bounds: {get_bounds(target_image)}\")\n",
    "print(f\"Moving image physical bounds: {get_bounds(source_image)}\")"
   ]
  },
  {
   "cell_type": "code",
   "execution_count": null,
   "id": "f35d81fa",
   "metadata": {},
   "outputs": [],
   "source": [
    "print(f\"CCF physical size: {get_physical_size(target_image)}\")\n",
    "print(f\"Moving image physical size: {get_physical_size(source_image)}\")"
   ]
  },
  {
   "cell_type": "code",
   "execution_count": null,
   "id": "1c8ebb3b",
   "metadata": {},
   "outputs": [],
   "source": [
    "itk.auto_progress(1)\n",
    "itk.CenteredTransformInitializer\n",
    "itk.auto_progress(0)"
   ]
  },
  {
   "cell_type": "code",
   "execution_count": null,
   "id": "19bc8772",
   "metadata": {},
   "outputs": [],
   "source": [
    "# Translate to roughly position sample data on top of CCF data\n",
    "init_transform = itk.VersorRigid3DTransform[\n",
    "    itk.D\n",
    "].New()  # Represents 3D rigid transformation with unit quaternion\n",
    "init_transform.SetIdentity()\n",
    "\n",
    "transform_initializer = itk.CenteredVersorTransformInitializer[\n",
    "    type(target_image), type(source_image)\n",
    "].New()\n",
    "transform_initializer.SetFixedImage(target_image)\n",
    "transform_initializer.SetMovingImage(source_image)\n",
    "transform_initializer.SetTransform(init_transform)\n",
    "transform_initializer.GeometryOn()  # We compute translation between the center of each image\n",
    "transform_initializer.ComputeRotationOff()  # We have previously verified that spatial orientation aligns\n",
    "\n",
    "transform_initializer.InitializeTransform()\n",
    "\n",
    "# initializer maps from the fixed image to the moving image,\n",
    "# whereas we want to map from the moving image to the fixed image.\n",
    "init_transform = init_transform.GetInverseTransform()\n",
    "\n",
    "print(init_transform)"
   ]
  },
  {
   "cell_type": "code",
   "execution_count": null,
   "id": "6e966580",
   "metadata": {},
   "outputs": [],
   "source": [
    "# Apply translation without resampling the image by updating the image origin directly\n",
    "change_information_filter = itk.ChangeInformationImageFilter[type(source_image)].New()\n",
    "change_information_filter.SetInput(source_image)\n",
    "change_information_filter.SetOutputOrigin(\n",
    "    init_transform.TransformPoint(itk.origin(source_image))\n",
    ")\n",
    "change_information_filter.ChangeOriginOn()\n",
    "change_information_filter.UpdateOutputInformation()\n",
    "\n",
    "source_image_init = change_information_filter.GetOutput()\n",
    "print(source_image_init)"
   ]
  },
  {
   "cell_type": "code",
   "execution_count": null,
   "id": "d75656dc",
   "metadata": {},
   "outputs": [],
   "source": [
    "# Verify that the initialized source image bounds overlap with the target image\n",
    "\n",
    "print(\n",
    "    f\"Original input source image bounds: {get_bounds(source_image)[0]}, {get_bounds(source_image)[1]}\"\n",
    ")\n",
    "print(\n",
    "    f\"Translated source image bounds: {get_bounds(source_image_init)[0]}, {get_bounds(source_image_init)[1]}\"\n",
    ")\n",
    "print(\n",
    "    f\"Target image bounds: {get_bounds(target_image)[0]}, {get_bounds(target_image)[1]}\"\n",
    ")"
   ]
  },
  {
   "cell_type": "code",
   "execution_count": null,
   "id": "8687085a",
   "metadata": {},
   "outputs": [],
   "source": [
    "itk.auto_progress(1)\n",
    "itk.ElastixRegistrationMethod\n",
    "itk.auto_progress(0)"
   ]
  },
  {
   "cell_type": "code",
   "execution_count": null,
   "id": "fd94346a",
   "metadata": {},
   "outputs": [],
   "source": [
    "parameter_object = itk.ParameterObject.New()\n",
    "parameter_object.AddParameterMap(\n",
    "    parameter_object.GetDefaultParameterMap(\"rigid\")\n",
    ")\n",
    "parameter_object.AddParameterMap(\n",
    "    parameter_object.GetDefaultParameterMap(\"affine\")\n",
    ")\n",
    "\n",
    "bspline_map = parameter_object.GetDefaultParameterMap(\"bspline\")\n",
    "bspline_map[\"FinalGridSpacingInPhysicalUnits\"] = (\"0.5000\",)\n",
    "parameter_object.AddParameterMap(bspline_map)\n",
    "\n",
    "print(parameter_object)"
   ]
  },
  {
   "cell_type": "code",
   "execution_count": null,
   "id": "df0f5e75",
   "metadata": {},
   "outputs": [],
   "source": [
    "registration_method = itk.ElastixRegistrationMethod[\n",
    "    type(target_image), type(source_image)\n",
    "].New(\n",
    "    fixed_image=target_image,\n",
    "    moving_image=source_image_init,\n",
    "    parameter_object=parameter_object,\n",
    "    log_to_console=False,\n",
    ")"
   ]
  },
  {
   "cell_type": "code",
   "execution_count": null,
   "id": "db7b2a4a",
   "metadata": {},
   "outputs": [],
   "source": [
    "# Run registration with `itk-elastix`, may take a few minutes\n",
    "registration_method.Update()"
   ]
  }
 ],
 "metadata": {
  "kernelspec": {
   "display_name": "Python 3",
   "language": "python",
   "name": "python3"
  },
  "language_info": {
   "codemirror_mode": {
    "name": "ipython",
    "version": 3
   },
   "file_extension": ".py",
   "mimetype": "text/x-python",
   "name": "python",
   "nbconvert_exporter": "python",
   "pygments_lexer": "ipython3",
   "version": "3.10.6"
  }
 },
 "nbformat": 4,
 "nbformat_minor": 5
}
