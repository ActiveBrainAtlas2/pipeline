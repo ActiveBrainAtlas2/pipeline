{
 "cells": [
  {
   "cell_type": "code",
   "execution_count": 1,
   "metadata": {},
   "outputs": [],
   "source": [
    "import os\n",
    "import sys\n",
    "import numpy as np\n",
    "from skimage import io\n",
    "import itk\n",
    "from scipy import ndimage\n",
    "import matplotlib\n",
    "from matplotlib import pyplot as plt\n"
   ]
  },
  {
   "cell_type": "code",
   "execution_count": 2,
   "metadata": {},
   "outputs": [],
   "source": [
    "def compare_two_images(img1, img2):\n",
    "    plt.figure(figsize=[20,20])\n",
    "    plt.imshow(img1,cmap='Blues')\n",
    "    plt.imshow(img2,alpha=0.5,cmap='Reds')\n",
    "    \n",
    "def compute_dice_coefficient(source_image: itk.Image, target_image: itk.Image) -> float:\n",
    "    \"\"\"Compute the dice coefficient to compare volume overlap between two label regions\"\"\"\n",
    "    dice_filter = itk.LabelOverlapMeasuresImageFilter[type(source_image)].New()\n",
    "    dice_filter.SetInput(source_image)\n",
    "    dice_filter.SetTargetImage(target_image)\n",
    "    dice_filter.Update()\n",
    "    return dice_filter.GetDiceCoefficient()"
   ]
  },
  {
   "cell_type": "code",
   "execution_count": 3,
   "metadata": {},
   "outputs": [],
   "source": [
    "DATA = '/net/birdstore/Active_Atlas_Data/data_root/pipeline_data/MD589/preps/CH1'\n",
    "REGDATA = '/net/birdstore/Active_Atlas_Data/data_root/brains_info/registration'"
   ]
  },
  {
   "cell_type": "code",
   "execution_count": 4,
   "metadata": {},
   "outputs": [
    {
     "name": "stdout",
     "output_type": "stream",
     "text": [
      "Fixed volume shape=(456, 320, 528) dtype=uint32\n"
     ]
    }
   ],
   "source": [
    "filename = 'allen_25um_annnotations.tif'\n",
    "fixedFilepath = os.path.join(REGDATA, filename)\n",
    "fixed_volume = io.imread(fixedFilepath)\n",
    "print(f'Fixed volume shape={fixed_volume.shape} dtype={fixed_volume.dtype}')\n",
    "#fixed_volume = itk.imread(fixedFilepath, itk.F)"
   ]
  },
  {
   "cell_type": "code",
   "execution_count": null,
   "metadata": {},
   "outputs": [],
   "source": [
    "#colpad = np.zeros((fixed_volume.shape[0], fixed_volume.shape[1], 100), np.uint16)\n",
    "#print(f'colspad shape={colpad.shape}')\n",
    "#fixed_volume = np.concatenate((fixed_volume, colpad), axis=2)\n",
    "#rowpad = np.zeros((fixed_volume.shape[0], 50, fixed_volume.shape[2]), np.uint16)\n",
    "#print(f'rowpad shape={rowpad.shape}')\n",
    "#fixed_volume = np.concatenate((fixed_volume, rowpad), axis=1)\n",
    "#print(f'Fixed volume after padding shape={fixed_volume.shape} dtype={fixed_volume.dtype}')"
   ]
  },
  {
   "cell_type": "code",
   "execution_count": null,
   "metadata": {},
   "outputs": [],
   "source": [
    "#outpath = os.path.join(REGDATA, 'allen_25um_sagittal_padded.tif')\n",
    "#imwrite(outpath, fixed_volume)"
   ]
  },
  {
   "cell_type": "code",
   "execution_count": 5,
   "metadata": {},
   "outputs": [
    {
     "name": "stdout",
     "output_type": "stream",
     "text": [
      "Fixed image shape=(320, 528) dtype=uint32\n"
     ]
    }
   ],
   "source": [
    "fixed_midpoint = fixed_volume.shape[0] // 2\n",
    "fixed_image = fixed_volume[fixed_midpoint,:,:]\n",
    "#del fixed_volume\n",
    "print(f'Fixed image shape={fixed_image.shape} dtype={fixed_image.dtype}')"
   ]
  },
  {
   "cell_type": "code",
   "execution_count": null,
   "metadata": {},
   "outputs": [],
   "source": [
    "scale = 64\n",
    "# moving_volume around x=1200, y = 750 for 10um\n",
    "# moving volume around x=600, y=350 for 25um\n",
    "files = sorted(os.listdir(os.path.join(DATA, f'thumbnail_aligned.{scale}')))\n",
    "midpoint = len(files) // 2\n",
    "filename = f'{files[midpoint]}'\n",
    "movingFilepath = os.path.join(DATA, f'thumbnail_aligned.{scale}', filename)\n",
    "moving_image = io.imread(movingFilepath)\n",
    "print(f'Moving image: {filename} shape={moving_image.shape} dtype={moving_image.dtype}')"
   ]
  },
  {
   "cell_type": "code",
   "execution_count": null,
   "metadata": {},
   "outputs": [],
   "source": [
    "movingImage = itk.GetImageFromArray(np.ascontiguousarray(moving_image.astype(np.float32)))\n",
    "fixedImage = itk.GetImageFromArray(np.ascontiguousarray(fixed_image.astype(np.float32)))"
   ]
  },
  {
   "cell_type": "code",
   "execution_count": null,
   "metadata": {},
   "outputs": [],
   "source": [
    "print(type(movingImage))"
   ]
  },
  {
   "cell_type": "code",
   "execution_count": null,
   "metadata": {},
   "outputs": [],
   "source": [
    "um = 25\n",
    "parameter_object = itk.ParameterObject.New()\n",
    "trans_parameter_map = parameter_object.GetDefaultParameterMap('translation')\n",
    "rigid_parameter_map = parameter_object.GetDefaultParameterMap('rigid')\n",
    "affine_parameter_map = parameter_object.GetDefaultParameterMap('affine')\n",
    "# For the bspline default parameter map, an extra argument can be specified that define the \n",
    "#final bspline grid spacing in physical space. \n",
    "\n",
    "bspline_parameter_map = parameter_object.GetDefaultParameterMap(\"bspline\")\n",
    "bspline_parameter_map[\"FinalGridSpacingInVoxels\"] = (f\"{um}\",f\"{um}\")\n",
    "parameter_object.AddParameterMap(trans_parameter_map)\n",
    "parameter_object.AddParameterMap(rigid_parameter_map)\n",
    "parameter_object.AddParameterMap(affine_parameter_map)\n",
    "parameter_object.AddParameterMap(bspline_parameter_map)\n",
    "parameter_object.SetParameter(\"ResultImageFormat\", \"tif\")\n",
    "# here the 'DefaultPixelValue' of all parameter maps is in the parameter_object set to 0\n",
    "\n",
    "#parameter_object.SetParameter(3, \"FinalGridSpacingInPhysicalUnits\", \"10\")\n",
    "parameter_object.RemoveParameter(\"FinalGridSpacingInPhysicalUnits\")"
   ]
  },
  {
   "cell_type": "code",
   "execution_count": null,
   "metadata": {},
   "outputs": [],
   "source": [
    "#print(parameter_object)"
   ]
  },
  {
   "cell_type": "code",
   "execution_count": null,
   "metadata": {},
   "outputs": [],
   "source": [
    "%%time\n",
    "# Load Elastix Image Filter Object\n",
    "elastix_object = itk.ElastixRegistrationMethod.New(fixedImage, movingImage)\n",
    "elastix_object.SetParameterObject(parameter_object)\n",
    "# Set additional options\n",
    "elastix_object.SetLogToConsole(False)\n",
    "# Update filter object (required)\n",
    "elastix_object.UpdateLargestPossibleRegion()\n",
    "# Results of Registration\n",
    "resultImage = elastix_object.GetOutput()"
   ]
  },
  {
   "cell_type": "code",
   "execution_count": null,
   "metadata": {},
   "outputs": [],
   "source": [
    "print(type(resultImage))\n",
    "print(type(fixedImage))"
   ]
  },
  {
   "cell_type": "code",
   "execution_count": null,
   "metadata": {},
   "outputs": [],
   "source": [
    "#registered_image = np.asarray(resultImage).astype(np.uint16)\n",
    "#print(f'image dtype={registered_image.dtype} shape={registered_image.shape}')"
   ]
  },
  {
   "cell_type": "code",
   "execution_count": null,
   "metadata": {},
   "outputs": [],
   "source": [
    "Dimension = 2\n",
    "InputPixelType = itk.F\n",
    "OutputPixelType = itk.UC\n",
    "\n",
    "InputImageType = itk.Image[InputPixelType, Dimension]\n",
    "OutputImageType = itk.Image[OutputPixelType, Dimension]\n",
    "\n",
    "castImageFilter = itk.CastImageFilter[InputImageType, OutputImageType].New()\n",
    "rescaler = itk.RescaleIntensityImageFilter[InputImageType, InputImageType].New()\n",
    "rescaler.SetInput(fixedImage)\n",
    "rescaler.SetOutputMinimum(0)\n",
    "outputPixelTypeMaximum = itk.NumericTraits[OutputPixelType].max()\n",
    "rescaler.SetOutputMaximum(outputPixelTypeMaximum)\n",
    "castImageFilter.SetInput(rescaler.GetOutput())\n",
    "targetImage = castImageFilter.GetOutput()\n",
    "\n",
    "castImageFilterS = itk.CastImageFilter[InputImageType, OutputImageType].New()\n",
    "rescalerS = itk.RescaleIntensityImageFilter[InputImageType, InputImageType].New()\n",
    "rescalerS.SetInput(resultImage)\n",
    "rescalerS.SetOutputMinimum(0)\n",
    "outputPixelTypeMaximum = itk.NumericTraits[OutputPixelType].max()\n",
    "rescalerS.SetOutputMaximum(outputPixelTypeMaximum)\n",
    "castImageFilterS.SetInput(rescalerS.GetOutput())\n",
    "sourceImage = castImageFilterS.GetOutput()\n",
    "\n",
    "dice_score = compute_dice_coefficient(sourceImage, targetImage)\n",
    "print(f'Evaluated dice value: {dice_score}')"
   ]
  },
  {
   "cell_type": "code",
   "execution_count": null,
   "metadata": {},
   "outputs": [],
   "source": [
    "# 1- blue is fixed (Allen), 2 red is moving (DKXX)\n",
    "compare_two_images(targetImage, sourceImage)"
   ]
  },
  {
   "cell_type": "code",
   "execution_count": 6,
   "metadata": {
    "scrolled": true
   },
   "outputs": [
    {
     "data": {
      "image/png": "[encoded data removed]",
      "text/plain": [
       "<Figure size 640x480 with 1 Axes>"
      ]
     },
     "metadata": {},
     "output_type": "display_data"
    }
   ],
   "source": [
    "plt.title('fixed image')\n",
    "plt.imshow(fixed_image, cmap=\"gray\")\n",
    "plt.show()"
   ]
  },
  {
   "cell_type": "code",
   "execution_count": null,
   "metadata": {},
   "outputs": [],
   "source": [
    "#ri = sitk.GetArrayFromImage(registered_image)\n",
    "plt.title('moving image')\n",
    "plt.imshow(movingImage, cmap=\"gray\")\n",
    "plt.show()"
   ]
  },
  {
   "cell_type": "code",
   "execution_count": null,
   "metadata": {},
   "outputs": [],
   "source": [
    "plt.title('registered image')\n",
    "plt.imshow(resultImage, cmap=\"gray\")\n",
    "plt.show()"
   ]
  }
 ],
 "metadata": {
  "kernelspec": {
   "display_name": "Python 3",
   "language": "python",
   "name": "python3"
  },
  "language_info": {
   "codemirror_mode": {
    "name": "ipython",
    "version": 3
   },
   "file_extension": ".py",
   "mimetype": "text/x-python",
   "name": "python",
   "nbconvert_exporter": "python",
   "pygments_lexer": "ipython3",
   "version": "3.10.6"
  }
 },
 "nbformat": 4,
 "nbformat_minor": 4
}
