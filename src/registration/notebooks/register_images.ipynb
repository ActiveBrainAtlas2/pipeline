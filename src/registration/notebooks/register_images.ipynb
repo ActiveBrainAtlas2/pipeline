{
 "cells": [
  {
   "cell_type": "code",
   "execution_count": 1,
   "metadata": {},
   "outputs": [],
   "source": [
    "import os\n",
    "import sys\n",
    "import numpy as np\n",
    "from skimage import io\n",
    "import itk\n",
    "from scipy import ndimage\n",
    "import matplotlib\n",
    "from matplotlib import pyplot as plt"
   ]
  },
  {
   "cell_type": "code",
   "execution_count": 2,
   "metadata": {},
   "outputs": [],
   "source": [
    "def compare_two_images(img1, img2):\n",
    "    plt.figure(figsize=[20,20])\n",
    "    plt.imshow(img1,cmap='Blues')\n",
    "    plt.imshow(img2,alpha=0.5,cmap='Reds')\n",
    "    \n",
    "def compute_dice_coefficient(source_image: itk.Image, target_image: itk.Image) -> float:\n",
    "    \"\"\"Compute the dice coefficient to compare volume overlap between two label regions\"\"\"\n",
    "    dice_filter = itk.LabelOverlapMeasuresImageFilter[type(source_image)].New()\n",
    "    dice_filter.SetInput(source_image)\n",
    "    dice_filter.SetTargetImage(target_image)\n",
    "    dice_filter.Update()\n",
    "    return dice_filter.GetDiceCoefficient()"
   ]
  },
  {
   "cell_type": "code",
   "execution_count": 3,
   "metadata": {},
   "outputs": [],
   "source": [
    "DATA = '/net/birdstore/Active_Atlas_Data/data_root/pipeline_data/DK52/preps/CH1'\n",
    "REGDATA = '/net/birdstore/Active_Atlas_Data/data_root/brains_info/registration'"
   ]
  },
  {
   "cell_type": "code",
   "execution_count": 4,
   "metadata": {},
   "outputs": [
    {
     "name": "stdout",
     "output_type": "stream",
     "text": [
      "Fixed volume shape=(456, 320, 528) dtype=uint16\n"
     ]
    }
   ],
   "source": [
    "filename = 'allen_25um_sagittal.tif'\n",
    "fixedFilepath = os.path.join(REGDATA, filename)\n",
    "fixed_volume = io.imread(fixedFilepath)\n",
    "print(f'Fixed volume shape={fixed_volume.shape} dtype={fixed_volume.dtype}')\n",
    "#fixed_volume = itk.imread(fixedFilepath, itk.F)"
   ]
  },
  {
   "cell_type": "code",
   "execution_count": 5,
   "metadata": {},
   "outputs": [],
   "source": [
    "#colpad = np.zeros((fixed_volume.shape[0], fixed_volume.shape[1], 100), np.uint16)\n",
    "#print(f'colspad shape={colpad.shape}')\n",
    "#fixed_volume = np.concatenate((fixed_volume, colpad), axis=2)\n",
    "#rowpad = np.zeros((fixed_volume.shape[0], 50, fixed_volume.shape[2]), np.uint16)\n",
    "#print(f'rowpad shape={rowpad.shape}')\n",
    "#fixed_volume = np.concatenate((fixed_volume, rowpad), axis=1)\n",
    "#print(f'Fixed volume after padding shape={fixed_volume.shape} dtype={fixed_volume.dtype}')"
   ]
  },
  {
   "cell_type": "code",
   "execution_count": 6,
   "metadata": {},
   "outputs": [],
   "source": [
    "#outpath = os.path.join(REGDATA, 'allen_25um_sagittal_padded.tif')\n",
    "#imwrite(outpath, fixed_volume)"
   ]
  },
  {
   "cell_type": "code",
   "execution_count": 7,
   "metadata": {},
   "outputs": [
    {
     "name": "stdout",
     "output_type": "stream",
     "text": [
      "Fixed image shape=(320, 528) dtype=uint16\n"
     ]
    }
   ],
   "source": [
    "fixed_midpoint = fixed_volume.shape[0] // 2\n",
    "fixed_image = fixed_volume[fixed_midpoint,:,:]\n",
    "del fixed_volume\n",
    "print(f'Fixed image shape={fixed_image.shape} dtype={fixed_image.dtype}')"
   ]
  },
  {
   "cell_type": "code",
   "execution_count": 8,
   "metadata": {},
   "outputs": [
    {
     "name": "stdout",
     "output_type": "stream",
     "text": [
      "Moving image: 242.tif shape=(555, 1024) dtype=uint16\n"
     ]
    }
   ],
   "source": [
    "scale = 64\n",
    "# moving_volume around x=1200, y = 750 for 10um\n",
    "# moving volume around x=600, y=350 for 25um\n",
    "files = sorted(os.listdir(os.path.join(DATA, f'thumbnail_aligned.{scale}')))\n",
    "midpoint = len(files) // 2\n",
    "filename = f'{files[midpoint]}'\n",
    "movingFilepath = os.path.join(DATA, f'thumbnail_aligned.{scale}', filename)\n",
    "moving_image = io.imread(movingFilepath)\n",
    "print(f'Moving image: {filename} shape={moving_image.shape} dtype={moving_image.dtype}')"
   ]
  },
  {
   "cell_type": "code",
   "execution_count": 9,
   "metadata": {},
   "outputs": [],
   "source": [
    "movingImage = itk.GetImageFromArray(np.ascontiguousarray(moving_image.astype(np.float32)))\n",
    "fixedImage = itk.GetImageFromArray(np.ascontiguousarray(fixed_image.astype(np.float32)))"
   ]
  },
  {
   "cell_type": "code",
   "execution_count": 10,
   "metadata": {},
   "outputs": [],
   "source": [
    "parameter_object = itk.ParameterObject.New()\n",
    "trans_parameter_map = parameter_object.GetDefaultParameterMap('translation')\n",
    "rigid_parameter_map = parameter_object.GetDefaultParameterMap('rigid')\n",
    "affine_parameter_map = parameter_object.GetDefaultParameterMap('affine')\n",
    "# For the bspline default parameter map, an extra argument can be specified that define the \n",
    "#final bspline grid spacing in physical space. \n",
    "\n",
    "bspline_parameter_map = parameter_object.GetDefaultParameterMap(\"bspline\")\n",
    "bspline_parameter_map[\"FinalGridSpacingInPhysicalUnits\"] = (\"0.500\",)\n",
    "parameter_object.AddParameterMap(trans_parameter_map)\n",
    "parameter_object.AddParameterMap(rigid_parameter_map)\n",
    "parameter_object.AddParameterMap(affine_parameter_map)\n",
    "parameter_object.AddParameterMap(bspline_parameter_map)\n",
    "parameter_object.SetParameter(\"ResultImageFormat\", \"tif\")\n",
    "# here the 'DefaultPixelValue' of all parameter maps is in the parameter_object set to 0\n",
    "\n",
    "#parameter_object.SetParameter(3, \"FinalGridSpacingInPhysicalUnits\", \"10\")\n",
    "#parameter_object.RemoveParameter(\"FinalGridSpacingInPhysicalUnits\")"
   ]
  },
  {
   "cell_type": "code",
   "execution_count": 11,
   "metadata": {},
   "outputs": [],
   "source": [
    "#print(parameter_object)"
   ]
  },
  {
   "cell_type": "code",
   "execution_count": null,
   "metadata": {},
   "outputs": [],
   "source": [
    "%%time\n",
    "# Load Elastix Image Filter Object\n",
    "elastix_object = itk.ElastixRegistrationMethod.New(fixedImage, movingImage)\n",
    "elastix_object.SetParameterObject(parameter_object)\n",
    "# Set additional options\n",
    "elastix_object.SetLogToConsole(False)\n",
    "# Update filter object (required)\n",
    "elastix_object.UpdateLargestPossibleRegion()\n",
    "# Results of Registration\n",
    "resultImage = elastix_object.GetOutput()\n",
    "result_transform_parameters = elastix_object.GetTransformParameterObject()"
   ]
  },
  {
   "cell_type": "code",
   "execution_count": null,
   "metadata": {},
   "outputs": [],
   "source": [
    "type(resultImage)"
   ]
  },
  {
   "cell_type": "code",
   "execution_count": null,
   "metadata": {},
   "outputs": [],
   "source": [
    "#registered_image = np.asarray(resultImage).astype(np.uint16)\n",
    "#print(f'image dtype={registered_image.dtype} shape={registered_image.shape}')"
   ]
  },
  {
   "cell_type": "code",
   "execution_count": null,
   "metadata": {},
   "outputs": [],
   "source": [
    "#rImage = itk.GetImageFromArray(np.ascontiguousarray(registered_image))\n",
    "#print(type(rImage))\n",
    "#itk.LabelOverlapMeasuresImageFilter.GetTypes()\n",
    "#dice_score = compute_dice_coefficient(resultImage, fixedImage)\n",
    "#print(f'Evaluated dice value: {dice_score}')"
   ]
  },
  {
   "cell_type": "code",
   "execution_count": null,
   "metadata": {},
   "outputs": [],
   "source": [
    "# 1- blue is fixed (Allen), 2 red is moving (DKXX)\n",
    "compare_two_images(fixedImage, resultImage)"
   ]
  },
  {
   "cell_type": "code",
   "execution_count": null,
   "metadata": {
    "scrolled": true
   },
   "outputs": [],
   "source": [
    "plt.title('fixed image')\n",
    "plt.imshow(fixedImage, cmap=\"gray\")\n",
    "plt.show()"
   ]
  },
  {
   "cell_type": "code",
   "execution_count": null,
   "metadata": {},
   "outputs": [],
   "source": [
    "#ri = sitk.GetArrayFromImage(registered_image)\n",
    "plt.title('moving image')\n",
    "plt.imshow(movingImage, cmap=\"gray\")\n",
    "plt.show()"
   ]
  },
  {
   "cell_type": "code",
   "execution_count": null,
   "metadata": {},
   "outputs": [],
   "source": [
    "plt.title('registered image')\n",
    "plt.imshow(resultImage, cmap=\"gray\")\n",
    "plt.show()"
   ]
  },
  {
   "cell_type": "code",
   "execution_count": null,
   "metadata": {},
   "outputs": [],
   "source": [
    "#scaled = zoom(moving_volume, zoom=(1, scaler, scaler))\n",
    "#print(scaled.shape)\n",
    "#outpath = os.path.join(DATA, 'registered_243.allparams.tif')\n",
    "#imwrite(outpath, registered_image)\n",
    "#vm2 = np.swapaxes(volume, 0,2)\n",
    "#print(vm2.shape)\n",
    "#outpath = os.path.join(DATA, 'allen_50um_sagittal.tif')\n",
    "#imwrite(outpath, vm2)"
   ]
  }
 ],
 "metadata": {
  "kernelspec": {
   "display_name": "Python 3",
   "language": "python",
   "name": "python3"
  },
  "language_info": {
   "codemirror_mode": {
    "name": "ipython",
    "version": 3
   },
   "file_extension": ".py",
   "mimetype": "text/x-python",
   "name": "python",
   "nbconvert_exporter": "python",
   "pygments_lexer": "ipython3",
   "version": "3.10.6"
  }
 },
 "nbformat": 4,
 "nbformat_minor": 4
}
