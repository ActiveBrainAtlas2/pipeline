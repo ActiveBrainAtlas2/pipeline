{
 "cells": [
  {
   "cell_type": "code",
   "execution_count": 1,
   "metadata": {},
   "outputs": [],
   "source": [
    "import os\n",
    "import sys\n",
    "import numpy as np\n",
    "from skimage import io\n",
    "import itk\n",
    "from scipy import ndimage\n",
    "from itkwidgets import compare, checkerboard, view"
   ]
  },
  {
   "cell_type": "code",
   "execution_count": 2,
   "metadata": {},
   "outputs": [],
   "source": [
    "DATA = '/net/birdstore/Active_Atlas_Data/data_root/pipeline_data/DK52/preps/CH1'\n",
    "REGDATA = '/net/birdstore/Active_Atlas_Data/data_root/brains_info/registration'"
   ]
  },
  {
   "cell_type": "code",
   "execution_count": 6,
   "metadata": {},
   "outputs": [],
   "source": [
    "filename = 'allen_50um_sagittal.tif'\n",
    "fixedFilepath = os.path.join(REGDATA, filename)\n",
    "fixedImage = itk.imread(fixedFilepath, itk.F)"
   ]
  },
  {
   "cell_type": "code",
   "execution_count": 7,
   "metadata": {},
   "outputs": [],
   "source": [
    "movingFilepath = os.path.join(DATA, 'aligned_volume.256.tif')\n",
    "movingImage = itk.imread(movingFilepath, itk.F)"
   ]
  },
  {
   "cell_type": "code",
   "execution_count": 9,
   "metadata": {},
   "outputs": [],
   "source": [
    "um = 50\n",
    "# init transform start\n",
    "# Translate to roughly position sample data on top of CCF data\n",
    "init_transform = itk.VersorRigid3DTransform[itk.D].New()  # Represents 3D rigid transformation with unit quaternion\n",
    "init_transform.SetIdentity()\n",
    "transform_initializer = itk.CenteredVersorTransformInitializer[\n",
    "    type(fixedImage), type(movingImage)\n",
    "].New()\n",
    "transform_initializer.SetFixedImage(fixedImage)\n",
    "transform_initializer.SetMovingImage(movingImage)\n",
    "transform_initializer.SetTransform(init_transform)\n",
    "transform_initializer.GeometryOn()  # We compute translation between the center of each image\n",
    "transform_initializer.ComputeRotationOff()  # We have previously verified that spatial orientation aligns\n",
    "transform_initializer.InitializeTransform()\n",
    "# initializer maps from the fixed image to the moving image,\n",
    "# whereas we want to map from the moving image to the fixed image.\n",
    "init_transform = init_transform.GetInverseTransform()\n",
    "# init transform end\n",
    "# Apply translation without resampling the image by updating the image origin directly\n",
    "change_information_filter = itk.ChangeInformationImageFilter[type(movingImage)].New()\n",
    "change_information_filter.SetInput(movingImage)\n",
    "change_information_filter.SetOutputOrigin(\n",
    "    init_transform.TransformPoint(itk.origin(movingImage))\n",
    ")\n",
    "change_information_filter.ChangeOriginOn()\n",
    "change_information_filter.UpdateOutputInformation()\n",
    "source_image_init = change_information_filter.GetOutput()\n",
    "# end apply translation        \n",
    "\n",
    "parameter_object = itk.ParameterObject.New()\n",
    "rigid_parameter_map = parameter_object.GetDefaultParameterMap('rigid')\n",
    "affine_parameter_map = parameter_object.GetDefaultParameterMap('affine')\n",
    "bspline_parameter_map = parameter_object.GetDefaultParameterMap(\"bspline\")\n",
    "bspline_parameter_map[\"FinalGridSpacingInVoxels\"] = (f\"{um}\",)\n",
    "parameter_object.AddParameterMap(rigid_parameter_map)\n",
    "parameter_object.AddParameterMap(affine_parameter_map)\n",
    "parameter_object.AddParameterMap(bspline_parameter_map)\n",
    "parameter_object.RemoveParameter(\"FinalGridSpacingInPhysicalUnits\")\n",
    "registration_method = itk.ElastixRegistrationMethod[type(fixedImage), type(movingImage)\n",
    "].New(\n",
    "    fixed_image=fixedImage,\n",
    "    moving_image=source_image_init,\n",
    "    parameter_object=parameter_object,\n",
    "    log_to_console=False,\n",
    ")\n",
    "registration_method.Update()\n",
    "resultImage = registration_method.GetOutput()\n",
    "registered_output = os.path.join(DATA, 'registered')\n",
    "## write transformation \n",
    "os.makedirs(registered_output, exist_ok=True)\n",
    "outputpath = os.path.join(registered_output, 'init-transform.hdf5')\n",
    "itk.transformwrite([init_transform], outputpath)\n",
    "for index in range(parameter_object.GetNumberOfParameterMaps()):\n",
    "    outputpath = os.path.join(registered_output, f'elastix-transform.{index}.txt')\n",
    "    registration_method.GetTransformParameterObject().WriteParameterFile(\n",
    "        registration_method.GetTransformParameterObject().GetParameterMap(index), outputpath) \n"
   ]
  },
  {
   "cell_type": "code",
   "execution_count": 10,
   "metadata": {},
   "outputs": [
    {
     "data": {
      "text/plain": [
       "itk.itkImagePython.itkImageF3"
      ]
     },
     "execution_count": 10,
     "metadata": {},
     "output_type": "execute_result"
    }
   ],
   "source": [
    "type(resultImage)"
   ]
  },
  {
   "cell_type": "code",
   "execution_count": 11,
   "metadata": {},
   "outputs": [
    {
     "data": {
      "application/vnd.jupyter.widget-view+json": {
       "model_id": "52aee2d1fe514615b26920cc3a568fd7",
       "version_major": 2,
       "version_minor": 0
      },
      "text/plain": [
       "Viewer(geometries=[], gradient_opacity=0.22, point_sets=[], rendered_image=<itk.itkImagePython.itkImageF3; pro…"
      ]
     },
     "metadata": {},
     "output_type": "display_data"
    }
   ],
   "source": [
    "# 1- blue is fixed (Allen), 2 red is moving (DKXX)\n",
    "view(resultImage)"
   ]
  },
  {
   "cell_type": "code",
   "execution_count": null,
   "metadata": {},
   "outputs": [],
   "source": [
    "Dimension = 3\n",
    "InputPixelType = itk.F\n",
    "OutputPixelType = itk.UC\n",
    "InputImageType = itk.Image[InputPixelType, Dimension]\n",
    "OutputImageType = itk.Image[OutputPixelType, Dimension]\n",
    "castImageFilter = itk.CastImageFilter[InputImageType, OutputImageType].New()\n",
    "outpath = os.path.join(REGDATA, 'allen_test_affine_bpsline.tif')\n",
    "#writer = itk.ImageFileWriter[OutputImageType].New()\n",
    "#writer.SetFileName(outpath)\n",
    "#writer.SetInput(castImageFilter.GetOutput())\n",
    "#writer.Update()\n",
    "\n",
    "itk.imwrite(resultImage, outpath)"
   ]
  }
 ],
 "metadata": {
  "kernelspec": {
   "display_name": "Python 3",
   "language": "python",
   "name": "python3"
  },
  "language_info": {
   "codemirror_mode": {
    "name": "ipython",
    "version": 3
   },
   "file_extension": ".py",
   "mimetype": "text/x-python",
   "name": "python",
   "nbconvert_exporter": "python",
   "pygments_lexer": "ipython3",
   "version": "3.10.6"
  }
 },
 "nbformat": 4,
 "nbformat_minor": 4
}
