{
 "cells": [
  {
   "cell_type": "markdown",
   "metadata": {},
   "source": [
    "# DK52 Alignment Experiment\n",
    "Bili Dong 2020-10-28\n",
    "\n",
    "- [Introduction](#Introduction)\n",
    "- [Source Data](#Source-Data)\n",
    "- [Output Data](#Output-Data)\n",
    "- [Manual Transformation](#Manual-Transformation)\n",
    "    - [Output Point Set Comparison](#Output-Point-Set-Comparison)\n",
    "    - [Source Point Set Comparison](#Source-Point-Set-Comparison)"
   ]
  },
  {
   "cell_type": "code",
   "execution_count": 1,
   "metadata": {},
   "outputs": [],
   "source": [
    "import sys\n",
    "from pathlib import Path\n",
    "\n",
    "PIPELINE_ROOT = Path('.').absolute().parent\n",
    "sys.path.append(PIPELINE_ROOT.as_posix())"
   ]
  },
  {
   "cell_type": "markdown",
   "metadata": {},
   "source": [
    "## Introduction\n",
    "\n",
    "In this experiment, I tried to verify the transformation matrix from [DK52 Aligned for projections 5], but found an inconsistent result. I haven't figured out the causes yet, but I suspect the issue is in the coordinate transformation.\n",
    "\n",
    "[DK52 Aligned for projections 5]: https://activebrainatlas.ucsd.edu/ng/?id=188&#!{%22dimensions%22:{%22x%22:[3.25e-7,%22m%22],%22y%22:[3.25e-7,%22m%22],%22z%22:[0.00002,%22m%22]},%22position%22:[42892.5,22238.5,251.5],%22crossSectionScale%22:14.240847721792429,%22crossSectionDepth%22:-3.678794411714423,%22projectionOrientation%22:[0.5623210072517395,-0.2938638925552368,-0.6760111451148987,0.37476402521133423],%22projectionScale%22:22643.530714632085,%22layers%22:[{%22type%22:%22image%22,%22source%22:%22precomputed://https://activebrainatlas.ucsd.edu/data/DK52/neuroglancer_data/C1%22,%22tab%22:%22source%22,%22shader%22:%22#uicontrol%20float%20min%20slider(min=0,%20max=1,%20default=0)\\n#uicontrol%20float%20max%20slider(min=0,%20max=1,%20default=1)\\n#uicontrol%20float%20invert%20slider(min=0,%20max=1,%20default=0,%20step=1)\\n#uicontrol%20float%20brightness%20slider(min=-1,%20max=1)\\n#uicontrol%20float%20contrast%20slider(min=-3,%20max=3,%20step=0.01)\\n#uicontrol%20float%20gamma%20slider(min=0.05,%20max=2.5,%20default=1,%20step=0.05)\\n#uicontrol%20float%20linlog%20slider(min=0,%20max=1,%20default=0,%20step=1)\\n\\n%20%20void%20main()%20{\\n%20%20%20%20float%20limit%20=%2040000.0;\\n%20%20%20%20float%20pix%20=%20float(toRaw(getDataValue()));\\n\\n%20%20%20%20if%20(linlog==1.0)%20{\\n%20%20%20%20\\tpix%20=%20log(pix);\\n%20%20%20%20%20%20\\tlimit%20=%2010.0;\\n%20%20%20%20}%20else%20{\\n%20%20%20%20pix%20=%20pow(pix,gamma);\\n%20%20%20%20limit%20=%2040000.0;\\n%20%20%20%20}\\n\\n\\n%20%20%20%20float%20pix_val%20=%20pix/limit;\\n%20%20\\tif(pix_val%20%3C%20min){\\n%20%20\\t\\tpix_val%20=%200.0;\\n%20%20\\t}\\n%20%20\\tif(pix_val%20%3E%20max){\\n%20%20%20%20\\tpix_val%20=%201.0;\\n%20%20\\t}\\n\\n\\n%20%20\\tif(invert==1.0){\\n%20%20\\t%20%20emitGrayscale((1.0%20-(%20pix_val%20%20-%20brightness))%20*%20exp(contrast))%20;\\n%20%20\\t}\\n%20%20\\telse{\\n%20%20%20%20\\temitGrayscale((pix_val%20+%20brightness)%20*\\n%20%20%20%20%20%20%20%20%20%20%20%20%20%20%20%20%20%20exp(contrast));\\n%20%20\\t}\\n\\n}\\n%22,%22shaderControls%22:{%22brightness%22:0.06,%22contrast%22:0.76,%22gamma%22:0.95},%22name%22:%22C1%22},{%22type%22:%22image%22,%22source%22:%22precomputed://https://activebrainatlas.ucsd.edu/data/DK52/neuroglancer_data/C2%22,%22tab%22:%22source%22,%22shader%22:%22#uicontrol%20float%20min%20slider(min=0,%20max=1,%20default=0)\\n#uicontrol%20float%20max%20slider(min=0,%20max=1,%20default=1)\\n#uicontrol%20float%20invert%20slider(min=0,%20max=1,%20default=0,%20step=1)\\n#uicontrol%20float%20brightness%20slider(min=-1,%20max=1)\\n#uicontrol%20float%20contrast%20slider(min=-3,%20max=3,%20step=0.01)\\nvoid%20main()%20{\\n%20%20float%20limit%20=%2040000.0;\\n%20%20\\n%20%20float%20pix_val%20=%20float(toRaw(getDataValue()));\\n%20%20pix_val%20=%20pix_val%20/%20limit;\\n%20%20if(pix_val%20%3C%20min){\\n%20%20\\tpix_val%20=%200.0;\\n%20%20}\\n%20%20if(pix_val%20%3E%20max){\\n%20%20%20%20pix_val%20=%201.0;\\n%20%20}\\n\\n%20%20if(invert==1.0){\\n\\n%20%20\\t%20%20emitRGB(vec3((1.0%20-(pix_val%20-%20brightness))%20*\\n%20%20%20%20%20%20%20exp(contrast),0,0));\\n%20%20}\\n%20%20else{\\n%20%20%20%20emitRGB(vec3((pix_val%20+%20brightness)%20*\\n%20%20%20%20%20%20%20%20%20%20%20%20%20%20%20%20%20%20exp(contrast),0,0));\\n%20%20}\\n\\n}\\n%22,%22shaderControls%22:{%22brightness%22:0.04,%22contrast%22:1.83},%22name%22:%22C2%22,%22visible%22:false},{%22type%22:%22image%22,%22source%22:%22precomputed://https://activebrainatlas.ucsd.edu/data/DK52/neuroglancer_data/C3%22,%22tab%22:%22annotations%22,%22shader%22:%22#uicontrol%20float%20min%20slider(min=0,%20max=1,%20default=0)\\n#uicontrol%20float%20max%20slider(min=0,%20max=1,%20default=1)\\n#uicontrol%20float%20invert%20slider(min=0,%20max=1,%20default=0,%20step=1)\\n#uicontrol%20float%20brightness%20slider(min=-1,%20max=1)\\n#uicontrol%20float%20contrast%20slider(min=-3,%20max=3,%20step=0.01)\\nvoid%20main()%20{\\n%20%20float%20limit%20=%2040000.0;\\n%20%20\\n%20%20float%20pix_val%20=%20float(toRaw(getDataValue()));\\n%20%20pix_val%20=%20pix_val%20/%20limit;\\n%20%20if(pix_val%20%3C%20min){\\n%20%20\\tpix_val%20=%200.0;\\n%20%20}\\n%20%20if(pix_val%20%3E%20max){\\n%20%20%20%20pix_val%20=%201.0;\\n%20%20}\\n\\n%20%20if(invert==1.0){\\n\\n%20%20\\t%20%20emitRGB(vec3(0,(1.0%20-(pix_val%20-%20brightness))%20*\\n%20%20%20%20%20%20%20exp(contrast),0));\\n%20%20}\\n%20%20else{\\n%20%20%20%20emitRGB(vec3(0,(pix_val%20+%20brightness)%20*\\n%20%20%20%20%20%20%20%20%20%20%20%20%20%20%20%20%20%20exp(contrast),0));\\n%20%20}\\n\\n}\\n%22,%22shaderControls%22:{%22brightness%22:0.04,%22contrast%22:1.92},%22name%22:%22C3%22},{%22type%22:%22segmentation%22,%22source%22:{%22url%22:%22precomputed://https://activebrainatlas.ucsd.edu/data/structures/atlasV7%22,%22transform%22:{%22matrix%22:[[0.8879282700452737,0.5297064165901834,-0.0656862661295595,18309.0995011312],[-0.35874630775873184,1.3064870877277086,0.047808994348642005,3239.384824729],[0.06696621479436028,-0.024547949485823613,1.1270756915581706,53.29533787371052]],%22outputDimensions%22:{%22x%22:[3.25e-7,%22m%22],%22y%22:[3.25e-7,%22m%22],%22z%22:[0.00002,%22m%22]},%22operations%22:[0.007841571972656248,0.0009349309509277346,0.0016592251586914056,-1,-4,-22,0.96,1.4100000000000004,1.1300000000000001,0.00003,0.000005,0.5,5,0.01,0.1]}},%22tab%22:%22source%22,%22segments%22:[%221%22,%2210%22,%2211%22,%2212%22,%2213%22,%2214%22,%2215%22,%2216%22,%2217%22,%2218%22,%2219%22,%222%22,%2220%22,%2221%22,%2222%22,%2223%22,%2224%22,%2225%22,%2226%22,%2227%22,%2228%22,%223%22,%224%22,%225%22,%226%22,%227%22,%228%22,%229%22],%22name%22:%22annotations%22}],%22selectedLayer%22:{%22layer%22:%22annotations%22,%22visible%22:true,%22size%22:426.207275390625},%22layout%22:%22xy%22}"
   ]
  },
  {
   "cell_type": "code",
   "execution_count": 2,
   "metadata": {},
   "outputs": [
    {
     "name": "stdout",
     "output_type": "stream",
     "text": [
      "Connecting dklab@db.dk.ucsd.edu:3306\n"
     ]
    }
   ],
   "source": [
    "import matplotlib.pyplot as plt\n",
    "import numpy as np\n",
    "\n",
    "from utilities.sqlcontroller import SqlController\n",
    "\n",
    "animal = 'DK52'\n",
    "\n",
    "sql_controller = SqlController(animal)"
   ]
  },
  {
   "cell_type": "markdown",
   "metadata": {},
   "source": [
    "## Source Data\n",
    "\n",
    "The source data are the atlas structure of the foundation brains. We load structures' origins and volumes from files, and then estimate their centers."
   ]
  },
  {
   "cell_type": "code",
   "execution_count": 3,
   "metadata": {},
   "outputs": [
    {
     "name": "stdout",
     "output_type": "stream",
     "text": [
      "resolution: 0.325\n",
      "width: 65000\n",
      "height: 36000\n",
      "box center: [1056.25  585.    243.  ]\n"
     ]
    },
    {
     "data": {
      "text/plain": [
       "{'10N_L': array([1269.06074091,  648.23146956,  201.35771155]),\n",
       " '10N_R': array([1269.06074091,  648.23146956,  259.64228845]),\n",
       " '12N': array([1260.05026858,  655.12536632,  220.75      ]),\n",
       " '3N_L': array([922.16706935, 478.31481492, 217.30805959]),\n",
       " '3N_R': array([922.16706935, 478.31481492, 244.19194041]),\n",
       " '4N_L': array([956.11454699, 482.93515455, 213.91315946]),\n",
       " '4N_R': array([956.11454699, 482.93515455, 263.08684054]),\n",
       " '5N_L': array([1010.78141394,  587.58009809,   91.75519758]),\n",
       " '5N_R': array([1010.78141394,  587.58009809,  366.24480242]),\n",
       " '6N_L': array([1072.1760463 ,  597.03141451,  200.71336845]),\n",
       " '6N_R': array([1072.1760463 ,  597.03141451,  273.78663155]),\n",
       " '7N_L': array([1088.27028024,  705.01534472,  104.10451566]),\n",
       " '7N_R': array([1088.27028024,  705.01534472,  336.39548434]),\n",
       " '7n_L': array([1049.29059535,  631.93840451,  102.67633749]),\n",
       " '7n_R': array([1049.29059535,  631.93840451,  309.82366251]),\n",
       " 'AP': array([1259.15888976,  613.03375035,  235.        ]),\n",
       " 'Amb_L': array([1173.40475746,  690.18263642,  115.98756146]),\n",
       " 'Amb_R': array([1173.40475746,  690.18263642,  364.51243854]),\n",
       " 'DC_L': array([1130.54029567,  552.65523228,   19.69314462]),\n",
       " 'DC_R': array([1130.54029567,  552.65523228,  394.30685538]),\n",
       " 'IC': array([1013.07581905,  340.04438461,  146.5       ]),\n",
       " 'LC_L': array([1055.79820385,  531.98921799,  152.66115814]),\n",
       " 'LC_R': array([1055.79820385,  531.98921799,  319.33884186]),\n",
       " 'LRt_L': array([1248.03736969,  724.03244342,  108.32336828]),\n",
       " 'LRt_R': array([1248.03736969,  724.03244342,  337.17663172]),\n",
       " 'PBG_L': array([957.61053103, 457.33893768,  49.70559819]),\n",
       " 'PBG_R': array([957.61053103, 457.33893768, 420.79440181]),\n",
       " 'Pn_L': array([892.9188014 , 676.54472307, 151.72371779]),\n",
       " 'Pn_R': array([892.9188014 , 676.54472307, 277.77628221]),\n",
       " 'RMC_L': array([883.08010101, 526.66036868, 166.56110583]),\n",
       " 'RMC_R': array([883.08010101, 526.66036868, 277.43889417]),\n",
       " 'RtTg': array([956.33797693, 655.12309154, 193.75      ]),\n",
       " 'SC': array([927.12494713, 355.20218382, 152.5       ]),\n",
       " 'SNC_L': array([831.428536  , 560.85899612,  98.8391704 ]),\n",
       " 'SNC_R': array([831.428536  , 560.85899612, 336.6608296 ]),\n",
       " 'SNR_L': array([854.13493397, 555.03121739,  70.23754573]),\n",
       " 'SNR_R': array([854.13493397, 555.03121739, 347.26245427]),\n",
       " 'Sp5C_L': array([1331.48590715,  674.31701834,   76.34608067]),\n",
       " 'Sp5C_R': array([1331.48590715,  674.31701834,  320.15391933]),\n",
       " 'Sp5I_L': array([1242.61925452,  642.21689417,   27.42444889]),\n",
       " 'Sp5I_R': array([1242.61925452,  642.21689417,  414.07555111]),\n",
       " 'Sp5O_L': array([1155.0492747 ,  635.17000918,   31.13301158]),\n",
       " 'Sp5O_R': array([1155.0492747 ,  635.17000918,  406.86698842]),\n",
       " 'Tz_L': array([986.84306613, 705.16485079, 179.06216838]),\n",
       " 'Tz_R': array([986.84306613, 705.16485079, 277.93783162]),\n",
       " 'VCA_L': array([1059.85678678,  590.38256546,  -12.63398879]),\n",
       " 'VCA_R': array([1059.85678678,  590.38256546,  462.13398879]),\n",
       " 'VCP_L': array([1.11851295e+03, 5.95548415e+02, 2.92231045e-01]),\n",
       " 'VCP_R': array([1118.51294675,  595.54841477,  449.70776896]),\n",
       " 'VLL_L': array([946.57063937, 601.8309967 ,  74.68156974]),\n",
       " 'VLL_R': array([946.57063937, 601.8309967 , 365.31843026])}"
      ]
     },
     "execution_count": 3,
     "metadata": {},
     "output_type": "execute_result"
    }
   ],
   "source": [
    "from scipy import ndimage\n",
    "\n",
    "from utilities.utilities_cvat_neuroglancer import get_structure_number\n",
    "\n",
    "def load_atlas_data():\n",
    "    atlas_dir = Path('/net/birdstore/Active_Atlas_Data/data_root/atlas_data/atlasV7')\n",
    "    origin_dir = atlas_dir / 'origin'\n",
    "    volume_dir = atlas_dir / 'structure'\n",
    "    \n",
    "    atlas_data = {}\n",
    "    \n",
    "    for origin_file, volume_file in zip(sorted(origin_dir.iterdir()), sorted(volume_dir.iterdir())):\n",
    "        name = origin_file.stem\n",
    "        if name != volume_file.stem:\n",
    "            print(f'Error! {origin_file.name} and {volume_file.name} are not compatible!')\n",
    "            break\n",
    "            \n",
    "        origin = np.loadtxt(origin_file)\n",
    "        \n",
    "        volume = np.load(volume_file)\n",
    "        volume = np.rot90(volume, axes=(0, 1))\n",
    "        volume = np.flip(volume, axis=0)\n",
    "        \n",
    "        atlas_data[name] = (origin, volume)\n",
    "        \n",
    "    return atlas_data\n",
    "\n",
    "def estimate_structure_centers(atlas_data, animal):\n",
    "    pipeline_data_dir = Path('/net/birdstore/Active_Atlas_Data/data_root/pipeline_data')\n",
    "    thumbnail_dir = pipeline_data_dir / animal / 'preps/CH1/thumbnail'\n",
    "    \n",
    "    # Compute box center\n",
    "    print(f'resolution: {sql_controller.scan_run.resolution}')\n",
    "    print(f'width: {sql_controller.scan_run.width}')\n",
    "    print(f'height: {sql_controller.scan_run.height}')\n",
    "    box_w = sql_controller.scan_run.width * sql_controller.scan_run.resolution / 10  # 10 mum scale\n",
    "    box_h = sql_controller.scan_run.height * sql_controller.scan_run.resolution / 10  # 10 mum scale\n",
    "    box_z = len(list(thumbnail_dir.iterdir()))  # 20 mum scale\n",
    "    box_center = np.array([box_w, box_h, box_z]) / 2\n",
    "    print(f'box center: {box_center}')\n",
    "    \n",
    "    # From the neuroglancer righ panel, I would expect the following:\n",
    "    # box_center = np.array([1000, 1000, 300]) / 2\n",
    "\n",
    "    # Estimate structure volume center of mass\n",
    "    atlas_com = {}\n",
    "    for name, (origin, volume) in atlas_data.items():\n",
    "        sx, sy, sz = volume.shape\n",
    "        grid_com = np.array([sx, sy, (sz + 1) / 2]) / 2  # Why (sz + 1) instead of sz?\n",
    "        # I'm considering an alternative way to compute com like the following:\n",
    "        # grid_com = np.array(ndimage.measurements.center_of_mass(volume))\n",
    "        # grid_com[2] /= 2\n",
    "        atlas_com[name] = box_center + origin + grid_com\n",
    "    return atlas_com\n",
    "\n",
    "atlas_data = load_atlas_data()\n",
    "source_centers = estimate_structure_centers(atlas_data, animal)\n",
    "source_centers"
   ]
  },
  {
   "cell_type": "markdown",
   "metadata": {},
   "source": [
    "## Output Data\n",
    "\n",
    "The output data are gotten by manually annotating the structures. I got those data from Ed."
   ]
  },
  {
   "cell_type": "code",
   "execution_count": 4,
   "metadata": {},
   "outputs": [],
   "source": [
    "# DK52 structure centers\n",
    "output_centers = {\n",
    "    '12N': [46488, 18778, 242],\n",
    "    '5N_L': [38990, 20019, 172],\n",
    "    '5N_R': [39184, 19027, 315],\n",
    "    '7N_L': [42425, 23190, 166],\n",
    "    '7N_R': [42286, 22901, 291]\n",
    "}"
   ]
  },
  {
   "cell_type": "markdown",
   "metadata": {},
   "source": [
    "## Manual Transformation\n",
    "\n",
    "Now let's take the transformation matrix from [DK52 Aligned for projections 5] and see if they indeed transform the source point set to the output point set.\n",
    "\n",
    "[DK52 Aligned for projections 5]: https://activebrainatlas.ucsd.edu/ng/?id=188&#!{%22dimensions%22:{%22x%22:[3.25e-7,%22m%22],%22y%22:[3.25e-7,%22m%22],%22z%22:[0.00002,%22m%22]},%22position%22:[42892.5,22238.5,251.5],%22crossSectionScale%22:14.240847721792429,%22crossSectionDepth%22:-3.678794411714423,%22projectionOrientation%22:[0.5623210072517395,-0.2938638925552368,-0.6760111451148987,0.37476402521133423],%22projectionScale%22:22643.530714632085,%22layers%22:[{%22type%22:%22image%22,%22source%22:%22precomputed://https://activebrainatlas.ucsd.edu/data/DK52/neuroglancer_data/C1%22,%22tab%22:%22source%22,%22shader%22:%22#uicontrol%20float%20min%20slider(min=0,%20max=1,%20default=0)\\n#uicontrol%20float%20max%20slider(min=0,%20max=1,%20default=1)\\n#uicontrol%20float%20invert%20slider(min=0,%20max=1,%20default=0,%20step=1)\\n#uicontrol%20float%20brightness%20slider(min=-1,%20max=1)\\n#uicontrol%20float%20contrast%20slider(min=-3,%20max=3,%20step=0.01)\\n#uicontrol%20float%20gamma%20slider(min=0.05,%20max=2.5,%20default=1,%20step=0.05)\\n#uicontrol%20float%20linlog%20slider(min=0,%20max=1,%20default=0,%20step=1)\\n\\n%20%20void%20main()%20{\\n%20%20%20%20float%20limit%20=%2040000.0;\\n%20%20%20%20float%20pix%20=%20float(toRaw(getDataValue()));\\n\\n%20%20%20%20if%20(linlog==1.0)%20{\\n%20%20%20%20\\tpix%20=%20log(pix);\\n%20%20%20%20%20%20\\tlimit%20=%2010.0;\\n%20%20%20%20}%20else%20{\\n%20%20%20%20pix%20=%20pow(pix,gamma);\\n%20%20%20%20limit%20=%2040000.0;\\n%20%20%20%20}\\n\\n\\n%20%20%20%20float%20pix_val%20=%20pix/limit;\\n%20%20\\tif(pix_val%20%3C%20min){\\n%20%20\\t\\tpix_val%20=%200.0;\\n%20%20\\t}\\n%20%20\\tif(pix_val%20%3E%20max){\\n%20%20%20%20\\tpix_val%20=%201.0;\\n%20%20\\t}\\n\\n\\n%20%20\\tif(invert==1.0){\\n%20%20\\t%20%20emitGrayscale((1.0%20-(%20pix_val%20%20-%20brightness))%20*%20exp(contrast))%20;\\n%20%20\\t}\\n%20%20\\telse{\\n%20%20%20%20\\temitGrayscale((pix_val%20+%20brightness)%20*\\n%20%20%20%20%20%20%20%20%20%20%20%20%20%20%20%20%20%20exp(contrast));\\n%20%20\\t}\\n\\n}\\n%22,%22shaderControls%22:{%22brightness%22:0.06,%22contrast%22:0.76,%22gamma%22:0.95},%22name%22:%22C1%22},{%22type%22:%22image%22,%22source%22:%22precomputed://https://activebrainatlas.ucsd.edu/data/DK52/neuroglancer_data/C2%22,%22tab%22:%22source%22,%22shader%22:%22#uicontrol%20float%20min%20slider(min=0,%20max=1,%20default=0)\\n#uicontrol%20float%20max%20slider(min=0,%20max=1,%20default=1)\\n#uicontrol%20float%20invert%20slider(min=0,%20max=1,%20default=0,%20step=1)\\n#uicontrol%20float%20brightness%20slider(min=-1,%20max=1)\\n#uicontrol%20float%20contrast%20slider(min=-3,%20max=3,%20step=0.01)\\nvoid%20main()%20{\\n%20%20float%20limit%20=%2040000.0;\\n%20%20\\n%20%20float%20pix_val%20=%20float(toRaw(getDataValue()));\\n%20%20pix_val%20=%20pix_val%20/%20limit;\\n%20%20if(pix_val%20%3C%20min){\\n%20%20\\tpix_val%20=%200.0;\\n%20%20}\\n%20%20if(pix_val%20%3E%20max){\\n%20%20%20%20pix_val%20=%201.0;\\n%20%20}\\n\\n%20%20if(invert==1.0){\\n\\n%20%20\\t%20%20emitRGB(vec3((1.0%20-(pix_val%20-%20brightness))%20*\\n%20%20%20%20%20%20%20exp(contrast),0,0));\\n%20%20}\\n%20%20else{\\n%20%20%20%20emitRGB(vec3((pix_val%20+%20brightness)%20*\\n%20%20%20%20%20%20%20%20%20%20%20%20%20%20%20%20%20%20exp(contrast),0,0));\\n%20%20}\\n\\n}\\n%22,%22shaderControls%22:{%22brightness%22:0.04,%22contrast%22:1.83},%22name%22:%22C2%22,%22visible%22:false},{%22type%22:%22image%22,%22source%22:%22precomputed://https://activebrainatlas.ucsd.edu/data/DK52/neuroglancer_data/C3%22,%22tab%22:%22annotations%22,%22shader%22:%22#uicontrol%20float%20min%20slider(min=0,%20max=1,%20default=0)\\n#uicontrol%20float%20max%20slider(min=0,%20max=1,%20default=1)\\n#uicontrol%20float%20invert%20slider(min=0,%20max=1,%20default=0,%20step=1)\\n#uicontrol%20float%20brightness%20slider(min=-1,%20max=1)\\n#uicontrol%20float%20contrast%20slider(min=-3,%20max=3,%20step=0.01)\\nvoid%20main()%20{\\n%20%20float%20limit%20=%2040000.0;\\n%20%20\\n%20%20float%20pix_val%20=%20float(toRaw(getDataValue()));\\n%20%20pix_val%20=%20pix_val%20/%20limit;\\n%20%20if(pix_val%20%3C%20min){\\n%20%20\\tpix_val%20=%200.0;\\n%20%20}\\n%20%20if(pix_val%20%3E%20max){\\n%20%20%20%20pix_val%20=%201.0;\\n%20%20}\\n\\n%20%20if(invert==1.0){\\n\\n%20%20\\t%20%20emitRGB(vec3(0,(1.0%20-(pix_val%20-%20brightness))%20*\\n%20%20%20%20%20%20%20exp(contrast),0));\\n%20%20}\\n%20%20else{\\n%20%20%20%20emitRGB(vec3(0,(pix_val%20+%20brightness)%20*\\n%20%20%20%20%20%20%20%20%20%20%20%20%20%20%20%20%20%20exp(contrast),0));\\n%20%20}\\n\\n}\\n%22,%22shaderControls%22:{%22brightness%22:0.04,%22contrast%22:1.92},%22name%22:%22C3%22},{%22type%22:%22segmentation%22,%22source%22:{%22url%22:%22precomputed://https://activebrainatlas.ucsd.edu/data/structures/atlasV7%22,%22transform%22:{%22matrix%22:[[0.8879282700452737,0.5297064165901834,-0.0656862661295595,18309.0995011312],[-0.35874630775873184,1.3064870877277086,0.047808994348642005,3239.384824729],[0.06696621479436028,-0.024547949485823613,1.1270756915581706,53.29533787371052]],%22outputDimensions%22:{%22x%22:[3.25e-7,%22m%22],%22y%22:[3.25e-7,%22m%22],%22z%22:[0.00002,%22m%22]},%22operations%22:[0.007841571972656248,0.0009349309509277346,0.0016592251586914056,-1,-4,-22,0.96,1.4100000000000004,1.1300000000000001,0.00003,0.000005,0.5,5,0.01,0.1]}},%22tab%22:%22source%22,%22segments%22:[%221%22,%2210%22,%2211%22,%2212%22,%2213%22,%2214%22,%2215%22,%2216%22,%2217%22,%2218%22,%2219%22,%222%22,%2220%22,%2221%22,%2222%22,%2223%22,%2224%22,%2225%22,%2226%22,%2227%22,%2228%22,%223%22,%224%22,%225%22,%226%22,%227%22,%228%22,%229%22],%22name%22:%22annotations%22}],%22selectedLayer%22:{%22layer%22:%22annotations%22,%22visible%22:true,%22size%22:426.207275390625},%22layout%22:%22xy%22}"
   ]
  },
  {
   "cell_type": "code",
   "execution_count": 5,
   "metadata": {},
   "outputs": [],
   "source": [
    "r_man = np.array([\n",
    "    [0.8879282700452737, 0.5297064165901834, -0.0656862661295595],\n",
    "    [-0.35874630775873184, 1.3064870877277086, 0.047808994348642005],\n",
    "    [0.06696621479436028, -0.024547949485823613, 1.1270756915581706]\n",
    "])\n",
    "t_man = np.array([[18309.0995011312, 3239.384824729, 53.29533787371052]]).T"
   ]
  },
  {
   "cell_type": "code",
   "execution_count": 6,
   "metadata": {},
   "outputs": [
    {
     "data": {
      "text/plain": [
       "['12N', '5N_L', '5N_R', '7N_L', '7N_R']"
      ]
     },
     "execution_count": 6,
     "metadata": {},
     "output_type": "execute_result"
    }
   ],
   "source": [
    "structures = sorted(output_centers.keys())\n",
    "structures"
   ]
  },
  {
   "cell_type": "markdown",
   "metadata": {},
   "source": [
    "I'm experimenting with turning scaling on and off. I observed that with scaling on, the results look much better."
   ]
  },
  {
   "cell_type": "code",
   "execution_count": 7,
   "metadata": {},
   "outputs": [],
   "source": [
    "scaling_on = True"
   ]
  },
  {
   "cell_type": "code",
   "execution_count": 8,
   "metadata": {},
   "outputs": [
    {
     "data": {
      "text/plain": [
       "array([[12600.5026858 ,  6551.25366322,  4415.        ],\n",
       "       [10107.81413943,  5875.8009809 ,  1835.1039516 ],\n",
       "       [10107.81413943,  5875.8009809 ,  7324.8960484 ],\n",
       "       [10882.7028024 ,  7050.15344716,  2082.09031318],\n",
       "       [10882.7028024 ,  7050.15344716,  6727.90968682]])"
      ]
     },
     "execution_count": 8,
     "metadata": {},
     "output_type": "execute_result"
    }
   ],
   "source": [
    "source_point_set = np.array([source_centers[s] for s in structures]).T\n",
    "\n",
    "if scaling_on:\n",
    "    source_scale = np.diagflat([10, 10, 20])  # mum\n",
    "    source_point_set = source_scale @ source_point_set\n",
    "\n",
    "source_point_set.T"
   ]
  },
  {
   "cell_type": "code",
   "execution_count": 9,
   "metadata": {},
   "outputs": [
    {
     "data": {
      "text/plain": [
       "array([[15108.6  ,  6102.85 ,  4840.   ],\n",
       "       [12671.75 ,  6506.175,  3440.   ],\n",
       "       [12734.8  ,  6183.775,  6300.   ],\n",
       "       [13788.125,  7536.75 ,  3320.   ],\n",
       "       [13742.95 ,  7442.825,  5820.   ]])"
      ]
     },
     "execution_count": 9,
     "metadata": {},
     "output_type": "execute_result"
    }
   ],
   "source": [
    "output_point_set = np.array([output_centers[s] for s in structures]).T\n",
    "\n",
    "if scaling_on:\n",
    "    output_scale = np.diagflat([0.325, 0.325, 20])  # mum\n",
    "    output_point_set = output_scale @ output_point_set\n",
    "\n",
    "output_point_set.T"
   ]
  },
  {
   "cell_type": "code",
   "execution_count": 10,
   "metadata": {},
   "outputs": [
    {
     "data": {
      "text/plain": [
       "array([[5950.45733787, 1052.80006804, 1065.90675747]])"
      ]
     },
     "execution_count": 10,
     "metadata": {},
     "output_type": "execute_result"
    }
   ],
   "source": [
    "if scaling_on:\n",
    "    t_man = output_scale @ t_man\n",
    "\n",
    "t_man.T"
   ]
  },
  {
   "cell_type": "markdown",
   "metadata": {},
   "source": [
    "### Output Point Set Comparison\n",
    "\n",
    "Now we could compute expected output point set using actual source point set."
   ]
  },
  {
   "cell_type": "code",
   "execution_count": 11,
   "metadata": {},
   "outputs": [
    {
     "data": {
      "text/plain": [
       "array([[20319.03612652,  5302.62128308,  6724.93406108],\n",
       "       [17917.37961628,  5191.05165205,  3666.8509999 ],\n",
       "       [17556.77567161,  5453.51309138,  9854.26222391],\n",
       "       [19211.26359111,  6459.14770847,  3968.28673981],\n",
       "       [18906.09706335,  6681.25966065,  9204.4768232 ]])"
      ]
     },
     "execution_count": 11,
     "metadata": {},
     "output_type": "execute_result"
    }
   ],
   "source": [
    "output_point_set_expected = r_man @ source_point_set + t_man\n",
    "output_point_set_expected.T"
   ]
  },
  {
   "cell_type": "code",
   "execution_count": 12,
   "metadata": {},
   "outputs": [
    {
     "data": {
      "text/plain": [
       "array([[15108.6  ,  6102.85 ,  4840.   ],\n",
       "       [12671.75 ,  6506.175,  3440.   ],\n",
       "       [12734.8  ,  6183.775,  6300.   ],\n",
       "       [13788.125,  7536.75 ,  3320.   ],\n",
       "       [13742.95 ,  7442.825,  5820.   ]])"
      ]
     },
     "execution_count": 12,
     "metadata": {},
     "output_type": "execute_result"
    }
   ],
   "source": [
    "output_point_set.T"
   ]
  },
  {
   "cell_type": "code",
   "execution_count": 13,
   "metadata": {},
   "outputs": [
    {
     "data": {
      "image/png": "[encoded data removed]",
      "text/plain": [
       "<Figure size 432x288 with 1 Axes>"
      ]
     },
     "metadata": {
      "needs_background": "light"
     },
     "output_type": "display_data"
    }
   ],
   "source": [
    "for data, label in [\n",
    "    (output_point_set, 'output'),\n",
    "    (output_point_set_expected, 'output expected')\n",
    "]:\n",
    "    plt.scatter(data[0,:], data[1,:], label=label, alpha=0.8)\n",
    "plt.xlabel('x')\n",
    "plt.ylabel('y')\n",
    "plt.legend()\n",
    "plt.show()"
   ]
  },
  {
   "cell_type": "code",
   "execution_count": 14,
   "metadata": {},
   "outputs": [
    {
     "data": {
      "image/png": "[encoded data removed]",
      "text/plain": [
       "<Figure size 432x288 with 1 Axes>"
      ]
     },
     "metadata": {
      "needs_background": "light"
     },
     "output_type": "display_data"
    }
   ],
   "source": [
    "for data, label in [\n",
    "    (output_point_set, 'output'),\n",
    "    (output_point_set_expected, 'output expected')\n",
    "]:\n",
    "    plt.scatter(data[0,:], data[2,:], label=label, alpha=0.8)\n",
    "plt.xlabel('x')\n",
    "plt.ylabel('z')\n",
    "plt.legend()\n",
    "plt.show()"
   ]
  },
  {
   "cell_type": "markdown",
   "metadata": {},
   "source": [
    "**Output point sets don't match exactly, but does it look reasonable?**"
   ]
  },
  {
   "cell_type": "markdown",
   "metadata": {},
   "source": [
    "### Source Point Set Comparison\n",
    "\n",
    "Working reversely, we could compute expected source point set using actual output point set."
   ]
  },
  {
   "cell_type": "code",
   "execution_count": 15,
   "metadata": {},
   "outputs": [
    {
     "data": {
      "text/plain": [
       "array([[7131.97020666, 5712.14008873, 3049.23045174],\n",
       "       [4525.42500251, 5345.20228513, 1953.95609359],\n",
       "       [4919.48648402, 5114.82122631, 4463.06513815],\n",
       "       [5191.125958  , 6321.37535751, 1829.19390862],\n",
       "       [5365.82064587, 6216.74723981, 4034.66508583]])"
      ]
     },
     "execution_count": 15,
     "metadata": {},
     "output_type": "execute_result"
    }
   ],
   "source": [
    "source_point_set_expected = np.linalg.inv(r_man) @ (output_point_set - t_man)\n",
    "source_point_set_expected.T"
   ]
  },
  {
   "cell_type": "code",
   "execution_count": 16,
   "metadata": {},
   "outputs": [
    {
     "data": {
      "text/plain": [
       "array([[12600.5026858 ,  6551.25366322,  4415.        ],\n",
       "       [10107.81413943,  5875.8009809 ,  1835.1039516 ],\n",
       "       [10107.81413943,  5875.8009809 ,  7324.8960484 ],\n",
       "       [10882.7028024 ,  7050.15344716,  2082.09031318],\n",
       "       [10882.7028024 ,  7050.15344716,  6727.90968682]])"
      ]
     },
     "execution_count": 16,
     "metadata": {},
     "output_type": "execute_result"
    }
   ],
   "source": [
    "source_point_set.T"
   ]
  },
  {
   "cell_type": "code",
   "execution_count": 17,
   "metadata": {},
   "outputs": [
    {
     "data": {
      "image/png": "[encoded data removed]",
      "text/plain": [
       "<Figure size 432x288 with 1 Axes>"
      ]
     },
     "metadata": {
      "needs_background": "light"
     },
     "output_type": "display_data"
    }
   ],
   "source": [
    "for data, label in [\n",
    "    (source_point_set, 'source'),\n",
    "    (source_point_set_expected, 'source expected')\n",
    "]:\n",
    "    plt.scatter(data[0,:], data[1,:], label=label, alpha=0.8)\n",
    "plt.xlabel('x')\n",
    "plt.ylabel('y')\n",
    "plt.legend()\n",
    "plt.show()"
   ]
  },
  {
   "cell_type": "code",
   "execution_count": 18,
   "metadata": {},
   "outputs": [
    {
     "data": {
      "image/png": "[encoded data removed]",
      "text/plain": [
       "<Figure size 432x288 with 1 Axes>"
      ]
     },
     "metadata": {
      "needs_background": "light"
     },
     "output_type": "display_data"
    }
   ],
   "source": [
    "for data, label in [\n",
    "    (source_point_set, 'source'),\n",
    "    (source_point_set_expected, 'source expected')\n",
    "]:\n",
    "    plt.scatter(data[0,:], data[2,:], label=label, alpha=0.8)\n",
    "plt.xlabel('x')\n",
    "plt.ylabel('z')\n",
    "plt.legend()\n",
    "plt.show()"
   ]
  },
  {
   "cell_type": "markdown",
   "metadata": {},
   "source": [
    "**Input point sets don't match exactly, but does it look reasonable?**"
   ]
  }
 ],
 "metadata": {
  "kernelspec": {
   "display_name": "Python 3",
   "language": "python",
   "name": "python3"
  },
  "language_info": {
   "codemirror_mode": {
    "name": "ipython",
    "version": 3
   },
   "file_extension": ".py",
   "mimetype": "text/x-python",
   "name": "python",
   "nbconvert_exporter": "python",
   "pygments_lexer": "ipython3",
   "version": "3.7.7"
  }
 },
 "nbformat": 4,
 "nbformat_minor": 4
}
