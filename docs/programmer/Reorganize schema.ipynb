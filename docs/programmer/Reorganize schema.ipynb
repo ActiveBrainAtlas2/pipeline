{
 "cells": [
  {
   "cell_type": "code",
   "execution_count": 2,
   "id": "64c7cb27",
   "metadata": {},
   "outputs": [
    {
     "name": "stdout",
     "output_type": "stream",
     "text": [
      "-rw-r--r--  1 yoavfreund  staff    77K Nov  2 06:55 schema.sql\r\n"
     ]
    }
   ],
   "source": [
    "!ls -lh schema.sql"
   ]
  },
  {
   "cell_type": "code",
   "execution_count": 3,
   "id": "01bfdfa3",
   "metadata": {},
   "outputs": [
    {
     "name": "stdout",
     "output_type": "stream",
     "text": [
      "-- MySQL dump 10.19  Distrib 10.3.31-MariaDB, for debian-linux-gnu (x86_64)\r\n",
      "--\r\n",
      "-- Host: localhost    Database: active_atlas_development\r\n",
      "-- ------------------------------------------------------\r\n",
      "-- Server version\t10.3.31-MariaDB-0ubuntu0.20.04.1\r\n",
      "\r\n",
      "/*!40101 SET @OLD_CHARACTER_SET_CLIENT=@@CHARACTER_SET_CLIENT */;\r\n",
      "/*!40101 SET @OLD_CHARACTER_SET_RESULTS=@@CHARACTER_SET_RESULTS */;\r\n",
      "/*!40101 SET @OLD_COLLATION_CONNECTION=@@COLLATION_CONNECTION */;\r\n",
      "/*!40101 SET NAMES utf8mb4 */;\r\n"
     ]
    }
   ],
   "source": [
    "!head schema.sql"
   ]
  },
  {
   "cell_type": "code",
   "execution_count": 4,
   "id": "1575221e",
   "metadata": {},
   "outputs": [],
   "source": [
    "lines = open('schema.sql','r').readlines()"
   ]
  },
  {
   "cell_type": "code",
   "execution_count": 5,
   "id": "4cbfc6fe",
   "metadata": {},
   "outputs": [
    {
     "data": {
      "text/plain": [
       "1874"
      ]
     },
     "execution_count": 5,
     "metadata": {},
     "output_type": "execute_result"
    }
   ],
   "source": [
    "len(lines)"
   ]
  },
  {
   "cell_type": "code",
   "execution_count": null,
   "id": "c6d1c38b",
   "metadata": {},
   "outputs": [],
   "source": [
    "import re\n",
    "pattern=re.compile(r'-- Table structure for table \\`([^\\`]+)\\`')"
   ]
  },
  {
   "cell_type": "code",
   "execution_count": 43,
   "id": "558399c5",
   "metadata": {
    "scrolled": false
   },
   "outputs": [
    {
     "name": "stdout",
     "output_type": "stream",
     "text": [
      "line 18 table 1 -- Table structure for table `account_emailaddress`\n",
      "line 38 table 2 -- Table structure for table `account_emailconfirmation`\n",
      "line 58 table 3 -- Table structure for table `animal`\n",
      "line 92 table 4 -- Table structure for table `atlas_coms`\n",
      "line 108 table 5 -- Table structure for table `auth_group`\n",
      "line 123 table 6 -- Table structure for table `auth_group_permissions`\n",
      "line 142 table 7 -- Table structure for table `auth_permission`\n",
      "line 160 table 8 -- Table structure for table `auth_user`\n",
      "line 184 table 9 -- Table structure for table `auth_user_groups`\n",
      "line 203 table 10 -- Table structure for table `auth_user_user_permissions`\n",
      "line 222 table 11 -- Table structure for table `authtoken_token`\n",
      "line 239 table 12 -- Table structure for table `center_of_mass`\n",
      "line 273 table 13 -- Table structure for table `com_type`\n",
      "line 292 table 14 -- Table structure for table `detected_soma`\n",
      "line 316 table 15 -- Table structure for table `django_admin_log`\n",
      "line 340 table 16 -- Table structure for table `django_content_type`\n",
      "line 356 table 17 -- Table structure for table `django_migrations`\n",
      "line 372 table 18 -- Table structure for table `django_plotly_dash_dashapp`\n",
      "line 396 table 19 -- Table structure for table `django_plotly_dash_statelessapp`\n",
      "line 413 table 20 -- Table structure for table `django_session`\n",
      "line 429 table 21 -- Table structure for table `django_site`\n",
      "line 445 table 22 -- Table structure for table `elastix_transformation`\n",
      "line 468 table 23 -- Table structure for table `engine_attributespec`\n",
      "line 489 table 24 -- Table structure for table `engine_clientfile`\n",
      "line 504 table 25 -- Table structure for table `engine_data`\n",
      "line 525 table 26 -- Table structure for table `engine_image`\n",
      "line 545 table 27 -- Table structure for table `engine_job`\n",
      "line 565 table 28 -- Table structure for table `engine_jobcommit`\n",
      "line 587 table 29 -- Table structure for table `engine_label`\n",
      "line 604 table 30 -- Table structure for table `engine_labeledimage`\n",
      "line 625 table 31 -- Table structure for table `engine_labeledimageattributeval`\n",
      "line 645 table 32 -- Table structure for table `engine_labeledshape`\n",
      "line 670 table 33 -- Table structure for table `engine_labeledshapeattributeval`\n",
      "line 690 table 34 -- Table structure for table `engine_labeledtrack`\n",
      "line 711 table 35 -- Table structure for table `engine_labeledtrackattributeval`\n",
      "line 731 table 36 -- Table structure for table `engine_plugin`\n",
      "line 748 table 37 -- Table structure for table `engine_pluginoption`\n",
      "line 764 table 38 -- Table structure for table `engine_project`\n",
      "line 788 table 39 -- Table structure for table `engine_remotefile`\n",
      "line 805 table 40 -- Table structure for table `engine_segment`\n",
      "line 823 table 41 -- Table structure for table `engine_serverfile`\n",
      "line 840 table 42 -- Table structure for table `engine_task`\n",
      "line 874 table 43 -- Table structure for table `engine_trackedshape`\n",
      "line 896 table 44 -- Table structure for table `engine_trackedshapeattributeval`\n",
      "line 916 table 45 -- Table structure for table `engine_video`\n",
      "line 935 table 46 -- Table structure for table `file_log`\n",
      "line 958 table 47 -- Table structure for table `file_operation`\n",
      "line 978 table 48 -- Table structure for table `foundation_coms`\n",
      "line 994 table 49 -- Table structure for table `git_gitdata`\n",
      "line 1013 table 50 -- Table structure for table `histology`\n",
      "line 1056 table 51 -- Table structure for table `injection`\n",
      "line 1091 table 52 -- Table structure for table `injection_virus`\n",
      "line 1112 table 53 -- Table structure for table `journals`\n",
      "line 1146 table 54 -- Table structure for table `layer_data`\n",
      "line 1180 table 55 -- Table structure for table `layer_data_history`\n",
      "line 1202 table 56 -- Table structure for table `location`\n",
      "line 1221 table 57 -- Table structure for table `location_primary_people`\n",
      "line 1240 table 58 -- Table structure for table `logs`\n",
      "line 1261 table 59 -- Table structure for table `neuroglancer_urls`\n",
      "line 1284 table 60 -- Table structure for table `organic_label`\n",
      "line 1315 table 61 -- Table structure for table `problem_category`\n",
      "line 1331 table 62 -- Table structure for table `progress_lookup`\n",
      "line 1351 table 63 -- Table structure for table `resource`\n",
      "line 1369 table 64 -- Table structure for table `row_sequence`\n",
      "line 1382 table 65 -- Table structure for table `scan_run`\n",
      "line 1422 table 66 -- Table structure for table `schedule`\n",
      "line 1470 table 67 -- Table structure for table `seq`\n",
      "line 1483 table 68 -- Table structure for table `slide`\n",
      "line 1522 table 69 -- Table structure for table `slide_czi_to_tif`\n",
      "line 1549 table 70 -- Table structure for table `socialaccount_socialaccount`\n",
      "line 1571 table 71 -- Table structure for table `socialaccount_socialapp`\n",
      "line 1589 table 72 -- Table structure for table `socialaccount_socialapp_sites`\n",
      "line 1608 table 73 -- Table structure for table `socialaccount_socialtoken`\n",
      "line 1630 table 74 -- Table structure for table `structure`\n",
      "line 1650 table 75 -- Table structure for table `table_metadata`\n",
      "line 1672 table 76 -- Table structure for table `task`\n",
      "line 1697 table 77 -- Table structure for table `task_resources`\n",
      "line 1716 table 78 -- Table structure for table `task_roles`\n",
      "line 1730 table 79 -- Table structure for table `task_view`\n",
      "line 1745 table 80 -- Table structure for table `transformation`\n",
      "line 1772 table 81 -- Table structure for table `virus`\n",
      "line 1805 table 82 -- Table structure for table `~jobs`\n",
      "line 1828 table 83 -- Table structure for table `~log`\n",
      "final split 84\n"
     ]
    }
   ],
   "source": [
    "i=0\n",
    "j=1\n",
    "splits=[]\n",
    "tables={}\n",
    "table_names=[]\n",
    "while(i<len(lines)):\n",
    "    if 'Table structure for table' in lines[i]:\n",
    "        splits.append(i-2)\n",
    "        print('line',i,'table',j,lines[i][:-1]); \n",
    "        m=pattern.search(lines[i])\n",
    "        if m:\n",
    "            table_name=m.group(1)\n",
    "            tables[table_name]={'line':i,'table_index':j,'line':lines[i]}\n",
    "            table_names.append(table_name)\n",
    "        else:\n",
    "            raise Exception\n",
    "        i+=2\n",
    "        j+=1\n",
    "    elif 'Final view structure for view' in lines[i]:\n",
    "        print('final split',j); j+=1\n",
    "        splits.append(i-2)\n",
    "        i+=2\n",
    "    else:\n",
    "        i+=1"
   ]
  },
  {
   "cell_type": "code",
   "execution_count": 39,
   "id": "4b405565",
   "metadata": {
    "scrolled": true
   },
   "outputs": [],
   "source": [
    "for table_name in tables:\n",
    "    table=tables[table_name]\n",
    "    table_index=table['table_index']\n",
    "    table_lines=lines[splits[table_index-1]:splits[table_index]]\n",
    "    table['text']=''.join(table_lines)"
   ]
  },
  {
   "cell_type": "code",
   "execution_count": 45,
   "id": "47647c35",
   "metadata": {},
   "outputs": [
    {
     "name": "stdout",
     "output_type": "stream",
     "text": [
      "account_emailaddress\n",
      "account_emailconfirmation\n",
      "animal\n",
      "atlas_coms\n",
      "auth_group\n",
      "auth_group_permissions\n",
      "auth_permission\n",
      "auth_user\n",
      "auth_user_groups\n",
      "auth_user_user_permissions\n",
      "authtoken_token\n",
      "center_of_mass\n",
      "com_type\n",
      "detected_soma\n",
      "django_admin_log\n",
      "django_content_type\n",
      "django_migrations\n",
      "django_plotly_dash_dashapp\n",
      "django_plotly_dash_statelessapp\n",
      "django_session\n",
      "django_site\n",
      "elastix_transformation\n",
      "engine_attributespec\n",
      "engine_clientfile\n",
      "engine_data\n",
      "engine_image\n",
      "engine_job\n",
      "engine_jobcommit\n",
      "engine_label\n",
      "engine_labeledimage\n",
      "engine_labeledimageattributeval\n",
      "engine_labeledshape\n",
      "engine_labeledshapeattributeval\n",
      "engine_labeledtrack\n",
      "engine_labeledtrackattributeval\n",
      "engine_plugin\n",
      "engine_pluginoption\n",
      "engine_project\n",
      "engine_remotefile\n",
      "engine_segment\n",
      "engine_serverfile\n",
      "engine_task\n",
      "engine_trackedshape\n",
      "engine_trackedshapeattributeval\n",
      "engine_video\n",
      "file_log\n",
      "file_operation\n",
      "foundation_coms\n",
      "git_gitdata\n",
      "histology\n",
      "injection\n",
      "injection_virus\n",
      "journals\n",
      "layer_data\n",
      "layer_data_history\n",
      "location\n",
      "location_primary_people\n",
      "logs\n",
      "neuroglancer_urls\n",
      "organic_label\n",
      "problem_category\n",
      "progress_lookup\n",
      "resource\n",
      "row_sequence\n",
      "scan_run\n",
      "schedule\n",
      "seq\n",
      "slide\n",
      "slide_czi_to_tif\n",
      "socialaccount_socialaccount\n",
      "socialaccount_socialapp\n",
      "socialaccount_socialapp_sites\n",
      "socialaccount_socialtoken\n",
      "structure\n",
      "table_metadata\n",
      "task\n",
      "task_resources\n",
      "task_roles\n",
      "task_view\n",
      "transformation\n",
      "virus\n",
      "~jobs\n",
      "~log\n"
     ]
    }
   ],
   "source": [
    "for name in table_names:\n",
    "    print(name)"
   ]
  },
  {
   "cell_type": "code",
   "execution_count": 42,
   "id": "83302455",
   "metadata": {},
   "outputs": [
    {
     "data": {
      "text/plain": [
       "{'line': '-- Table structure for table `engine_plugin`\\n',\n",
       " 'table_index': 36,\n",
       " 'text': '\\n--\\n-- Table structure for table `engine_plugin`\\n--\\n\\nDROP TABLE IF EXISTS `engine_plugin`;\\n/*!40101 SET @saved_cs_client     = @@character_set_client */;\\n/*!40101 SET character_set_client = utf8 */;\\nCREATE TABLE `engine_plugin` (\\n  `name` varchar(32) NOT NULL,\\n  `description` varchar(8192) NOT NULL,\\n  `created_at` datetime(6) NOT NULL,\\n  `updated_at` datetime(6) NOT NULL,\\n  `maintainer_id` int(11) DEFAULT NULL,\\n  PRIMARY KEY (`name`)\\n) ENGINE=InnoDB DEFAULT CHARSET=utf8;\\n/*!40101 SET character_set_client = @saved_cs_client */;\\n'}"
      ]
     },
     "execution_count": 42,
     "metadata": {},
     "output_type": "execute_result"
    }
   ],
   "source": [
    "tables['engine_plugin']"
   ]
  },
  {
   "cell_type": "code",
   "execution_count": 21,
   "id": "fd5154e0",
   "metadata": {},
   "outputs": [
    {
     "name": "stdout",
     "output_type": "stream",
     "text": [
      "account_emailaddress\n"
     ]
    }
   ],
   "source": [
    "print()"
   ]
  },
  {
   "cell_type": "code",
   "execution_count": null,
   "id": "57d165a8",
   "metadata": {},
   "outputs": [],
   "source": []
  }
 ],
 "metadata": {
  "kernelspec": {
   "display_name": "Python 3 (ipykernel)",
   "language": "python",
   "name": "python3"
  },
  "language_info": {
   "codemirror_mode": {
    "name": "ipython",
    "version": 3
   },
   "file_extension": ".py",
   "mimetype": "text/x-python",
   "name": "python",
   "nbconvert_exporter": "python",
   "pygments_lexer": "ipython3",
   "version": "3.9.6"
  }
 },
 "nbformat": 4,
 "nbformat_minor": 5
}
