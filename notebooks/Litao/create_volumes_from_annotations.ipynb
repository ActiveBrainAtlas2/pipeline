{
 "cells": [
  {
   "cell_type": "code",
   "execution_count": 1,
   "metadata": {},
   "outputs": [
    {
     "name": "stdout",
     "output_type": "stream",
     "text": [
      "http://127.0.0.1:38611/v/d8b84c34138f968052809ea70eb26a317e88eaa0/\n"
     ]
    }
   ],
   "source": [
    "import os, sys\n",
    "import numpy as np\n",
    "import json\n",
    "import neuroglancer\n",
    "import pandas as pd\n",
    "import ast\n",
    "from matplotlib import pyplot as plt\n",
    "import cv2\n",
    "\n",
    "viewer = neuroglancer.Viewer()\n",
    "print(viewer)"
   ]
  },
  {
   "cell_type": "code",
   "execution_count": 5,
   "metadata": {},
   "outputs": [],
   "source": [
    "HOME = os.path.expanduser(\"~\")\n",
    "DIR = os.path.join(HOME, 'programming/pipeline_utility')\n",
    "sys.path.append(DIR)\n",
    "\n",
    "from utilities.atlas.utilities_contour import get_contours_from_annotations, add_structure_to_neuroglancer, \\\n",
    "    create_full_volume"
   ]
  },
  {
   "cell_type": "code",
   "execution_count": 9,
   "metadata": {},
   "outputs": [],
   "source": [
    "xy_ng_resolution_um = 5\n",
    "color_radius = 3\n",
    "animal = 'MD589'\n",
    "\n",
    "CSV_PATH = '/net/birdstore/Active_Atlas_Data/data_root/atlas_data'\n",
    "csvfile = os.path.join(CSV_PATH, f'{animal}_corrected_vertices.csv')\n",
    "df = pd.read_csv(csvfile)\n",
    "#hand_annotations['vertices'] = hand_annotations['vertices'] \\\n",
    "#    .apply(lambda x: x.replace(' ', ','))\\\n",
    "#    .apply(lambda x: x.replace('\\n',','))\\\n",
    "#    .apply(lambda x: x.replace(',]',']'))\\\n",
    "#    .apply(lambda x: x.replace(',,', ','))\\\n",
    "#    .apply(lambda x: x.replace(',,', ','))\\\n",
    "#    .apply(lambda x: x.replace(',,', ',')).apply(lambda x: x.replace(',,', ','))\n",
    "\n",
    "#hand_annotations['vertices'] = hand_annotations['vertices'].apply(lambda x: ast.literal_eval(x))"
   ]
  },
  {
   "cell_type": "code",
   "execution_count": 10,
   "metadata": {},
   "outputs": [
    {
     "data": {
      "text/html": [
       "<div>\n",
       "<style scoped>\n",
       "    .dataframe tbody tr th:only-of-type {\n",
       "        vertical-align: middle;\n",
       "    }\n",
       "\n",
       "    .dataframe tbody tr th {\n",
       "        vertical-align: top;\n",
       "    }\n",
       "\n",
       "    .dataframe thead th {\n",
       "        text-align: right;\n",
       "    }\n",
       "</style>\n",
       "<table border=\"1\" class=\"dataframe\">\n",
       "  <thead>\n",
       "    <tr style=\"text-align: right;\">\n",
       "      <th></th>\n",
       "      <th>structure</th>\n",
       "      <th>section</th>\n",
       "      <th>vertices</th>\n",
       "    </tr>\n",
       "  </thead>\n",
       "  <tbody>\n",
       "    <tr>\n",
       "      <th>0</th>\n",
       "      <td>VCA</td>\n",
       "      <td>94</td>\n",
       "      <td>[[1022.13439444  758.34760113]\\n [1028.1366936...</td>\n",
       "    </tr>\n",
       "    <tr>\n",
       "      <th>1</th>\n",
       "      <td>VCA</td>\n",
       "      <td>95</td>\n",
       "      <td>[[1076.00402716  790.21823078]\\n [1067.0006636...</td>\n",
       "    </tr>\n",
       "    <tr>\n",
       "      <th>2</th>\n",
       "      <td>VCA</td>\n",
       "      <td>96</td>\n",
       "      <td>[[1017.68250619  825.98166826]\\n [1008.8574661...</td>\n",
       "    </tr>\n",
       "    <tr>\n",
       "      <th>3</th>\n",
       "      <td>VCA</td>\n",
       "      <td>97</td>\n",
       "      <td>[[1092.0726917   804.5778103 ]\\n [1085.9798054...</td>\n",
       "    </tr>\n",
       "    <tr>\n",
       "      <th>4</th>\n",
       "      <td>VCA</td>\n",
       "      <td>98</td>\n",
       "      <td>[[1051.07068571  832.19302931]\\n [1043.2084949...</td>\n",
       "    </tr>\n",
       "  </tbody>\n",
       "</table>\n",
       "</div>"
      ],
      "text/plain": [
       "  structure  section                                           vertices\n",
       "0       VCA       94  [[1022.13439444  758.34760113]\\n [1028.1366936...\n",
       "1       VCA       95  [[1076.00402716  790.21823078]\\n [1067.0006636...\n",
       "2       VCA       96  [[1017.68250619  825.98166826]\\n [1008.8574661...\n",
       "3       VCA       97  [[1092.0726917   804.5778103 ]\\n [1085.9798054...\n",
       "4       VCA       98  [[1051.07068571  832.19302931]\\n [1043.2084949..."
      ]
     },
     "execution_count": 10,
     "metadata": {},
     "output_type": "execute_result"
    }
   ],
   "source": [
    "df.head()"
   ]
  },
  {
   "cell_type": "code",
   "execution_count": null,
   "metadata": {},
   "outputs": [],
   "source": [
    "original_sizes = {}\n",
    "original_offsets = {}\n",
    "PADDED_SIZE = [47000, 23300]\n",
    "with open('MD594.csv', 'r') as file:\n",
    "    for line in file.readlines():\n",
    "        first, second = line.split()\n",
    "        section = float(first[:-4])\n",
    "        x, y = map(float, second.split('x'))\n",
    "        original_sizes[section] = (x, y)\n",
    "\n",
    "        original_offsets[section] = ((PADDED_SIZE[0] - x) / 4, (PADDED_SIZE[1] - y) / 4) "
   ]
  },
  {
   "cell_type": "code",
   "execution_count": null,
   "metadata": {},
   "outputs": [],
   "source": [
    "contour_annotations, first_sec, last_sec = get_contours_from_annotations(animal, 'SC', hand_annotations, densify=4)"
   ]
  },
  {
   "cell_type": "code",
   "execution_count": null,
   "metadata": {},
   "outputs": [],
   "source": [
    "volume = []\n",
    "for section in list(contour_annotations.keys())[:2]:\n",
    "    vertices = np.array(contour_annotations[section]['SC'][1])\n",
    "    vertices = (vertices * 460) / 452\n",
    "\n",
    "    volume_slice = np.zeros(PADDED_SIZE, dtype=np.uint8)\n",
    "    points = (vertices + np.array(original_offsets[section])).astype(np.int32)\n",
    "    volume_slice = cv2.polylines(volume_slice, [points], True, 1, 10, lineType=cv2.LINE_AA)\n",
    "    volume.append(volume_slice)\n",
    "    \n",
    "volume = np.array(volume).sum(axis=0)"
   ]
  },
  {
   "cell_type": "code",
   "execution_count": 29,
   "metadata": {
    "scrolled": true
   },
   "outputs": [
    {
     "name": "stdout",
     "output_type": "stream",
     "text": [
      "[24952.58519862  9322.76633028]\n"
     ]
    },
    {
     "data": {
      "text/plain": [
       "array([19277.16360817,  4108.28103234])"
      ]
     },
     "execution_count": 29,
     "metadata": {},
     "output_type": "execute_result"
    }
   ],
   "source": [
    "min_max = np.array(min_max)\n",
    "print(min_max.max(axis=0))\n",
    "min_max.min(axis=0)"
   ]
  },
  {
   "cell_type": "code",
   "execution_count": 72,
   "metadata": {},
   "outputs": [],
   "source": [
    "all_volume_layer = neuroglancer.SegmentationLayer(\n",
    "    source = neuroglancer.LocalVolume(\n",
    "        data=section_137.reshape(section_137.shape[0], section_137.shape[1], 1), \n",
    "        dimensions=neuroglancer.CoordinateSpace(names=['x', 'y', 'z'], units='nm', scales=[452, 452, 20000]), \n",
    "        voxel_offset=(0, 0, 137)\n",
    "    ),\n",
    ")\n",
    "\n",
    "with viewer.txn() as s:\n",
    "    s.layers.clear()\n",
    "    s.layers['all'] = all_volume_layer"
   ]
  },
  {
   "cell_type": "code",
   "execution_count": null,
   "metadata": {},
   "outputs": [],
   "source": []
  },
  {
   "cell_type": "code",
   "execution_count": 4,
   "metadata": {},
   "outputs": [],
   "source": [
    "std_structures = get_structures()\n",
    "structures_arr = hand_annotations.name.unique()\n",
    "annotation_structures = structures_arr.tolist()\n",
    "structures = [a for a in annotation_structures if a in std_structures]"
   ]
  },
  {
   "cell_type": "code",
   "execution_count": 5,
   "metadata": {},
   "outputs": [],
   "source": [
    "color_filepath = os.path.join('../', 'neuroglancer/contours/json_cache', 'struct_to_color_2.json')\n",
    "with open(color_filepath, 'r') as json_file:\n",
    "    colors = json.load(json_file)\n",
    "colors = {name.upper(): index for name, index in colors.items()}"
   ]
  },
  {
   "cell_type": "code",
   "execution_count": 18,
   "metadata": {},
   "outputs": [
    {
     "name": "stdout",
     "output_type": "stream",
     "text": [
      "IC 5\tSection start, end: 138 309\n",
      "SC 4\tSection start, end: 137 309\n",
      "RtTg 3\tSection start, end: 188 270\n",
      "12N 2\tSection start, end: 212 251\n",
      "AP 1\tSection start, end: 221 240\n"
     ]
    }
   ],
   "source": [
    "#Litao, this creates the volumes and origins from the hand annotations. This is the part that\n",
    "# needs to really be worked on\n",
    "structure_volume_origin = {}\n",
    "\n",
    "for structure in structures:\n",
    "    try:\n",
    "        color = colors[structure.upper()]\n",
    "    except:\n",
    "        sided = '{}_R'.format(structure)\n",
    "        try:\n",
    "            color = colors[sided]\n",
    "        except:\n",
    "            color = 100\n",
    "\n",
    "    print(structure, color, end=\"\\t\")\n",
    "    contour_annotations, first_sec, last_sec = get_contours_from_annotations(animal, structure, hand_annotations,\n",
    "                                                                             densify=4)\n",
    "    if first_sec == 0 or last_sec == 0:\n",
    "        print('No sections found')\n",
    "        continue\n",
    "    else:\n",
    "        print('Section start, end:', first_sec, last_sec)\n",
    "\n",
    "    threshold = 1\n",
    "    volume, xyz_offsets = create_full_volume(contour_annotations, structure, first_sec, last_sec, \\\n",
    "                                                       color_radius, xy_ng_resolution_um, threshold, color)\n",
    "    volume = np.swapaxes(volume, 0, 2)\n",
    "    structure_volume_origin[structure] = (volume, xyz_offsets)"
   ]
  },
  {
   "cell_type": "code",
   "execution_count": 21,
   "metadata": {},
   "outputs": [
    {
     "name": "stdout",
     "output_type": "stream",
     "text": [
      "IC X range 1647 4268\tY range 266 1338\tZ range 46 263\n",
      "(2621, 1072, 217)\n",
      "[1647, 266, 46]\n",
      "SC X range 1502 3999\tY range 351 1468\tZ range 45 262\n",
      "(2497, 1117, 217)\n",
      "[1502, 351, 45]\n",
      "RtTg X range 2120 4736\tY range 984 2348\tZ range 96 274\n",
      "(2616, 1364, 178)\n",
      "[2120, 984, 96]\n",
      "12N X range 2726 5938\tY range 858 1935\tZ range 120 279\n",
      "(3212, 1077, 159)\n",
      "[2726, 858, 120]\n",
      "AP X range 2770 5719\tY range 807 1771\tZ range 129 277\n",
      "(2949, 964, 148)\n",
      "[2770, 807, 129]\n"
     ]
    }
   ],
   "source": [
    "x_length = 6000\n",
    "y_length = 3000\n",
    "z_length = 300\n",
    "full_brain_volume_annotated = np.zeros((x_length, y_length, z_length), dtype=np.uint8)\n",
    "\n",
    "for structure, (volume, origin) in structure_volume_origin.items():  \n",
    "    \n",
    "    x, y, z = origin\n",
    "    x_start = int(x) #+ x_length // 2\n",
    "    y_start = int(y) #+ y_length // 2\n",
    "    z_start = int(z) #+ z_length // 2\n",
    "    x_end = x_start + volume.shape[0]\n",
    "    y_end = y_start + volume.shape[1]\n",
    "    z_end = z_start + volume.shape[2]\n",
    "    \n",
    "    print(structure,'X range', x_start, x_end, end=\"\\t\")\n",
    "    print('Y range', y_start, y_end, end=\"\\t\")\n",
    "    print('Z range', z_start, z_end)\n",
    "\n",
    "    print(volume.shape)\n",
    "    print(origin)\n",
    "    full_brain_volume_annotated[x_start:x_end, y_start:y_end,z_start:z_end] += volume"
   ]
  },
  {
   "cell_type": "code",
   "execution_count": 22,
   "metadata": {},
   "outputs": [],
   "source": [
    "all_volume_layer = neuroglancer.SegmentationLayer(\n",
    "    source = neuroglancer.LocalVolume(\n",
    "        data=full_brain_volume_annotated, \n",
    "        dimensions=neuroglancer.CoordinateSpace(names=['x', 'y', 'z'], units='um', scales=[5, 5, 20]), \n",
    "        voxel_offset=(0, 0, 0)\n",
    "    ),\n",
    ")\n",
    "\n",
    "with viewer.txn() as s:\n",
    "    s.layers.clear()\n",
    "    s.layers['all'] = all_volume_layer"
   ]
  },
  {
   "cell_type": "code",
   "execution_count": null,
   "metadata": {
    "scrolled": false
   },
   "outputs": [],
   "source": [
    "color_filepath = os.path.join('../', 'neuroglancer/contours/json_cache', 'struct_to_color_2.json')\n",
    "with open(color_filepath, 'r') as json_file:\n",
    "    colors = json.load(json_file)\n",
    "colors = {name.upper(): index for name, index in colors.items()}\n",
    "    \n",
    "surround = False\n",
    "VOL_DIR = '/net/birdstore/Active_Atlas_Data/copied_from_S3/mousebrainatlas-data/CSHL_volumes/atlasV7/atlasV7_10.0um_scoreVolume/score_volumes'\n",
    "files = os.listdir(VOL_DIR)\n",
    "volume_files = sorted([f for f in files if f.endswith('.npy') and surround == ('surround' in f) and 'test' not in f])\n",
    "origin_files = sorted([f for f in files if f.endswith('.txt') and surround == ('surround' in f) and 'test' not in f])\n",
    "    \n",
    "structure_volume_origin = {}\n",
    "for volume_filename, origin_filename in zip(volume_files, origin_files):\n",
    "    prefix = os.path.splitext(volume_filename)[0]\n",
    "    structure = prefix.replace('atlasV7_10.0um_scoreVolume_', '').replace('_surround_200um', '')\n",
    "    if structure not in origin_filename:\n",
    "        print(structure, origin_filename)\n",
    "        break\n",
    "    \n",
    "    try:\n",
    "        color = colors[structure.upper()]\n",
    "    except:\n",
    "        sided = '{}_R'.format(structure.upper())\n",
    "        color = colors[sided]\n",
    "\n",
    "    volume = np.load(os.path.join(VOL_DIR, volume_filename))\n",
    "    origin = np.loadtxt(os.path.join(VOL_DIR, origin_filename))\n",
    "    \n",
    "    volume = np.rot90(volume, axes=(0,1))\n",
    "    volume = np.flip(volume, axis=0)\n",
    "    volume[volume > 0.8] = color\n",
    "    volume = volume.astype(np.uint8)\n",
    "    \n",
    "    structure_volume_origin[structure] = (volume, origin)\n",
    "print(structure_volume_origin.keys())"
   ]
  },
  {
   "cell_type": "code",
   "execution_count": null,
   "metadata": {},
   "outputs": [],
   "source": []
  }
 ],
 "metadata": {
  "kernelspec": {
   "display_name": "Python 3",
   "language": "python",
   "name": "python3"
  },
  "language_info": {
   "codemirror_mode": {
    "name": "ipython",
    "version": 3
   },
   "file_extension": ".py",
   "mimetype": "text/x-python",
   "name": "python",
   "nbconvert_exporter": "python",
   "pygments_lexer": "ipython3",
   "version": "3.8.5"
  }
 },
 "nbformat": 4,
 "nbformat_minor": 1
}
