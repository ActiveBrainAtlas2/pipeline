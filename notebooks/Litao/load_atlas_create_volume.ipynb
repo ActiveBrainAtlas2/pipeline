{
 "cells": [
  {
   "cell_type": "code",
   "execution_count": 21,
   "metadata": {},
   "outputs": [],
   "source": [
    "import os\n",
    "import sys\n",
    "import numpy as np\n",
    "import neuroglancer\n",
    "import matplotlib.pyplot as plt\n",
    "import shutil"
   ]
  },
  {
   "cell_type": "code",
   "execution_count": 14,
   "metadata": {},
   "outputs": [],
   "source": [
    "HOME = os.path.expanduser(\"~\")\n",
    "PATH = os.path.join(HOME, 'programming/pipeline_utility/src')\n",
    "sys.path.append(PATH)\n",
    "from lib.utilities_cvat_neuroglancer import get_structure_number, get_segment_properties, NumpyToNeuroglancer\n",
    "from lib.sqlcontroller import SqlController"
   ]
  },
  {
   "cell_type": "code",
   "execution_count": 15,
   "metadata": {},
   "outputs": [],
   "source": [
    "sqlController = SqlController('MD589')\n",
    "resolution = sqlController.scan_run.resolution\n",
    "surface_threshold = 0.8\n",
    "SCALE = (10 / resolution)\n"
   ]
  },
  {
   "cell_type": "code",
   "execution_count": 28,
   "metadata": {
    "scrolled": false
   },
   "outputs": [
    {
     "name": "stdout",
     "output_type": "stream",
     "text": [
      "dict_keys(['10N_L', '10N_R', '12N', '3N_L', '3N_R', '4N_L', '4N_R', '5N_L', '5N_R', '6N_L', '6N_R', '7N_L', '7N_R', '7n_L', '7n_R', 'AP', 'Amb_L', 'Amb_R', 'DC_L', 'DC_R', 'IC', 'LC_L', 'LC_R', 'LRt_L', 'LRt_R', 'PBG_L', 'PBG_R', 'Pn_L', 'Pn_R', 'RtTg', 'SC', 'SNC_L', 'SNC_R', 'SNR_L', 'SNR_R', 'Sp5C_L', 'Sp5C_R', 'Sp5I_L', 'Sp5I_R', 'Sp5O_L', 'Sp5O_R', 'Tz_L', 'Tz_R', 'VCA_L', 'VCA_R', 'VCP_L', 'VCP_R', 'VLL_L', 'VLL_R'])\n"
     ]
    }
   ],
   "source": [
    "ATLAS_PATH = '/net/birdstore/Active_Atlas_Data/data_root/atlas_data/atlasV8'\n",
    "ORIGIN_PATH = os.path.join(ATLAS_PATH, 'origin')\n",
    "VOLUME_PATH = os.path.join(ATLAS_PATH, 'structure')\n",
    "origin_files = sorted(os.listdir(ORIGIN_PATH))\n",
    "volume_files = sorted(os.listdir(VOLUME_PATH))\n",
    "\n",
    "structure_volume_origin = {}\n",
    "for volume_filename, origin_filename in zip(volume_files, origin_files):\n",
    "    structure = os.path.splitext(volume_filename)[0]\n",
    "    if structure not in origin_filename:\n",
    "        print(structure, origin_filename)\n",
    "        break\n",
    "\n",
    "    color = get_structure_number(structure.replace('_L', '').replace('_R', ''))\n",
    "\n",
    "    origin = np.loadtxt(os.path.join(ORIGIN_PATH, origin_filename))\n",
    "    volume = np.load(os.path.join(VOLUME_PATH, volume_filename))\n",
    "    \n",
    "    volume = np.rot90(volume, axes=(0,1))\n",
    "    volume = np.flip(volume, axis=0)\n",
    "    volume[volume > 0.8] = color\n",
    "    volume = volume.astype(np.uint8)\n",
    "    \n",
    "    structure_volume_origin[structure] = (volume, origin)\n",
    "print(structure_volume_origin.keys())"
   ]
  },
  {
   "cell_type": "code",
   "execution_count": 29,
   "metadata": {},
   "outputs": [],
   "source": [
    "\n",
    "x_length = 1000\n",
    "y_length = 1000\n",
    "z_length = 300\n",
    "atlas_volume = np.zeros((x_length, y_length, z_length), dtype=np.uint32)\n",
    "\n",
    "for structure, (volume, origin) in structure_volume_origin.items():\n",
    "    x, y, z = origin\n",
    "    x_start = int(x) + x_length // 2\n",
    "    y_start = int(y) + y_length // 2\n",
    "    z_start = int(z) // 2 + z_length // 2\n",
    "    x_end = x_start + volume.shape[0]\n",
    "    y_end = y_start + volume.shape[1]\n",
    "    z_end = z_start + (volume.shape[2] + 1) // 2\n",
    "\n",
    "    z_indices = [z for z in range(volume.shape[2]) if z % 2 == 0]\n",
    "    volume = volume[:, :, z_indices]\n",
    "    atlas_volume[x_start:x_end, y_start:y_end, z_start:z_end] += volume"
   ]
  },
  {
   "cell_type": "code",
   "execution_count": 32,
   "metadata": {},
   "outputs": [],
   "source": [
    "atlas_name = 'atlasV8'\n",
    "DATA_PATH = '/net/birdstore/Active_Atlas_Data/data_root'\n",
    "ATLAS_PATH = os.path.join(DATA_PATH, 'atlas_data', atlas_name)\n",
    "ORIGIN_PATH = os.path.join(ATLAS_PATH, 'origin')\n",
    "VOLUME_PATH = os.path.join(ATLAS_PATH, 'structure')\n",
    "OUTPUT_DIR = os.path.join(ATLAS_PATH, 'atlas')\n",
    "if os.path.exists(OUTPUT_DIR):\n",
    "    shutil.rmtree(OUTPUT_DIR)\n",
    "os.makedirs(OUTPUT_DIR, exist_ok=True)\n",
    "origin_files = sorted(os.listdir(ORIGIN_PATH))\n",
    "volume_files = sorted(os.listdir(VOLUME_PATH))\n",
    "sqlController = SqlController('MD589')\n",
    "resolution = sqlController.scan_run.resolution\n",
    "surface_threshold = 0.8\n",
    "SCALE = (10 / resolution)\n",
    "\n",
    "\n",
    "structure_volume_origin = {}\n",
    "for volume_filename, origin_filename in zip(volume_files, origin_files):\n",
    "    structure = os.path.splitext(volume_filename)[0]\n",
    "    if structure not in origin_filename:\n",
    "        print(structure, origin_filename)\n",
    "        break\n",
    "    \n",
    "    try:\n",
    "        color = sqlController.get_structure_color(structure)\n",
    "    except:\n",
    "        print('no color for', structure)\n",
    "        color = 10\n",
    "\n",
    "    origin = np.loadtxt(os.path.join(ORIGIN_PATH, origin_filename))\n",
    "    volume = np.load(os.path.join(VOLUME_PATH, volume_filename))\n",
    "\n",
    "    #volume = np.rot90(volume, axes=(0, 1))\n",
    "    #volume = np.flip(volume, axis=0)\n",
    "    #volume[volume > surface_threshold] = color\n",
    "    #volume = volume.astype(np.uint8)\n",
    "\n",
    "    structure_volume_origin[structure] = (volume, origin)\n"
   ]
  },
  {
   "cell_type": "code",
   "execution_count": 33,
   "metadata": {},
   "outputs": [
    {
     "name": "stdout",
     "output_type": "stream",
     "text": [
      "atlas volume shape (1000, 1000, 300)\n",
      "10N_L  : Row range  515  575 col range  660  735 z range  138  155 \n",
      "10N_R  : Row range  516  578 col range  662  741 z range  150  164 \n",
      "12N    : Row range  532  588 col range  653  733 z range  140  163 \n",
      "3N_L   : Row range  357  381 col range  336  377 z range  142  154 \n",
      "3N_R   : Row range  338  428 col range  333  392 z range  146  165 \n",
      "4N_L   : Row range  363  378 col range  372  384 z range  142  147 \n",
      "4N_R   : Row range  349  431 col range  368  397 z range  151  164 \n",
      "5N_L   : Row range  466  523 col range  423  471 z range  111  124 \n",
      "5N_R   : Row range  461  524 col range  418  473 z range  177  189 \n",
      "6N_L   : Row range  478  492 col range  486  502 z range  138  145 \n",
      "6N_R   : Row range  470  556 col range  479  505 z range  153  169 \n",
      "7N_L   : Row range  578  620 col range  492  558 z range  109  135 \n",
      "7N_R   : Row range  570  623 col range  485  561 z range  166  191 \n",
      "7n_L   : Row range  494  583 col range  456  534 z range  109  139 \n",
      "7n_R   : Row range  498  584 col range  464  540 z range  154  194 \n",
      "AP     : Row range  489  519 col range  659  702 z range  146  156 \n",
      "Amb_L  : Row range  566  589 col range  574  619 z range  118  124 \n",
      "Amb_R  : Row range  563  588 col range  569  610 z range  179  184 \n",
      "DC_L   : Row range  414  484 col range  541  633 z range   88  120 \n",
      "DC_R   : Row range  417  473 col range  545  641 z range  184  213 \n",
      "IC     : Row range  197  348 col range  454  608 z range  103  199 \n",
      "LC_L   : Row range  404  455 col range  462  520 z range  126  132 \n",
      "LC_R   : Row range  406  459 col range  466  529 z range  167  176 \n",
      "LRt_L  : Row range  605  660 col range  643  736 z range  107  130 \n",
      "LRt_R  : Row range  603  668 col range  639  733 z range  168  190 \n",
      "PBG_L  : Row range  342  393 col range  363  406 z range   98  113 \n",
      "PBG_R  : Row range  344  402 col range  355  398 z range  192  200 \n",
      "Pn_L   : Row range  550  624 col range  292  360 z range  120  153 \n",
      "Pn_R   : Row range  528  659 col range  292  384 z range  143  181 \n",
      "RtTg   : Row range  504  606 col range  346  470 z range  126  183 \n",
      "SC     : Row range  214  359 col range  338  501 z range  106  198 \n",
      "SNC_L  : Row range  442  503 col range  244  303 z range  103  136 \n",
      "SNC_R  : Row range  440  506 col range  242  298 z range  165  194 \n",
      "SNR_L  : Row range  444  530 col range  271  367 z range   98  134 \n",
      "SNR_R  : Row range  432  532 col range  262  368 z range  167  203 \n",
      "Sp5C_L : Row range  538  653 col range  707  827 z range  101  138 \n",
      "Sp5C_R : Row range  546  660 col range  701  805 z range  160  202 \n",
      "Sp5I_L : Row range  516  607 col range  637  713 z range   97  120 \n",
      "Sp5I_R : Row range  517  605 col range  635  702 z range  181  205 \n",
      "Sp5O_L : Row range  507  587 col range  566  695 z range   95  118 \n",
      "Sp5O_R : Row range  509  596 col range  558  699 z range  179  201 \n",
      "Tz_L   : Row range  573  609 col range  383  454 z range  130  144 \n",
      "Tz_R   : Row range  578  673 col range  385  448 z range  155  170 \n",
      "VCA_L  : Row range  452  538 col range  452  540 z range   74  100 \n",
      "VCA_R  : Row range  454  520 col range  466  556 z range  200  219 \n",
      "VCP_L  : Row range  472  552 col range  518  586 z range   83   98 \n",
      "VCP_R  : Row range  472  536 col range  531  598 z range  197  216 \n",
      "VLL_L  : Row range  467  628 col range  346  436 z range  103  128 \n",
      "VLL_R  : Row range  471  607 col range  351  427 z range  180  196 \n"
     ]
    }
   ],
   "source": [
    "col_length = 1000\n",
    "row_length = 1000\n",
    "z_length = 300\n",
    "atlas_volume = np.zeros(( int(row_length), int(col_length), z_length), dtype=np.uint8)\n",
    "print('atlas volume shape', atlas_volume.shape)\n",
    "\n",
    "for structure, (volume, origin) in sorted(structure_volume_origin.items()):\n",
    "    print(str(structure).ljust(7),end=\": \")\n",
    "    x, y, z = origin\n",
    "    x_start = int( round(x + col_length / 2))\n",
    "    y_start = int( round(y + row_length / 2))\n",
    "    z_start = int(z) // 2 + z_length // 2\n",
    "    x_end = x_start + volume.shape[0]\n",
    "    y_end = y_start + volume.shape[1]\n",
    "    z_end = z_start + (volume.shape[2] + 1) // 2\n",
    "\n",
    "    print('Row range',\n",
    "          str(y_start).rjust(4),\n",
    "          str(y_end).rjust(4),\n",
    "          'col range',\n",
    "          str(x_start).rjust(4),\n",
    "          str(x_end).rjust(4),\n",
    "          'z range',\n",
    "          str(z_start).rjust(4),\n",
    "          str(z_end).rjust(4),\n",
    "          end=\" \")\n",
    "\n",
    "\n",
    "    z_indices = [z for z in range(volume.shape[2]) if z % 2 == 0]\n",
    "    volume = volume[:, :, z_indices]\n",
    "    #volume = np.swapaxes(volume, 0, 1)\n",
    "\n",
    "    try:\n",
    "        atlas_volume[x_start:x_end, y_start:y_end, z_start:z_end] += volume\n",
    "    except ValueError as ve:\n",
    "        print(ve, end=\" \")\n",
    "\n",
    "    print()\n"
   ]
  },
  {
   "cell_type": "code",
   "execution_count": 36,
   "metadata": {},
   "outputs": [
    {
     "name": "stdout",
     "output_type": "stream",
     "text": [
      "(1000, 1000, 300) uint8\n"
     ]
    },
    {
     "data": {
      "text/plain": [
       "<matplotlib.image.AxesImage at 0x7fbaee6ba250>"
      ]
     },
     "execution_count": 36,
     "metadata": {},
     "output_type": "execute_result"
    },
    {
     "data": {
      "image/png": "[encoded data removed]",
      "text/plain": [
       "<Figure size 432x288 with 1 Axes>"
      ]
     },
     "metadata": {
      "needs_background": "light"
     },
     "output_type": "display_data"
    }
   ],
   "source": [
    "#arr = np.swapaxes(atlas_volume, 0, 1)\n",
    "arr = atlas_volume.copy()\n",
    "arr = np.rot90(arr, axes=(0,1))\n",
    "print(arr.shape, arr.dtype)\n",
    "plt.imshow(arr[:,:,100])"
   ]
  },
  {
   "cell_type": "code",
   "execution_count": 40,
   "metadata": {},
   "outputs": [
    {
     "data": {
      "text/plain": [
       "Text(0.5, 1.0, ' uint32')"
      ]
     },
     "execution_count": 40,
     "metadata": {},
     "output_type": "execute_result"
    },
    {
     "data": {
      "image/png": "[encoded data removed]",
      "text/plain": [
       "<Figure size 432x288 with 1 Axes>"
      ]
     },
     "metadata": {
      "needs_background": "light"
     },
     "output_type": "display_data"
    }
   ],
   "source": [
    "flat = arr.flatten()\n",
    "fig = plt.figure()\n",
    "plt.rcParams['figure.figsize'] = [10, 6]\n",
    "plt.hist(flat, bins=20, color='b')\n",
    "plt.style.use('ggplot')\n",
    "plt.yscale('log')\n",
    "plt.grid(axis='y', alpha=0.75)\n",
    "plt.xlabel('Value')\n",
    "plt.ylabel('Frequency')\n",
    "plt.title(f' {arr.dtype}')"
   ]
  },
  {
   "cell_type": "code",
   "execution_count": 31,
   "metadata": {},
   "outputs": [
    {
     "name": "stdout",
     "output_type": "stream",
     "text": [
      "A new layer named segmentation_[10000, 10000, 20000] is added to:\n",
      "http://127.0.0.1:40369/v/c4af47fd9335343869994020dd1df41bd9df4597/\n",
      "CPU times: user 0 ns, sys: 4.01 ms, total: 4.01 ms\n",
      "Wall time: 7.66 ms\n"
     ]
    }
   ],
   "source": [
    "%%time\n",
    "OUTPUT_DIR = '/net/birdstore/Active_Atlas_Data/data_root/pipeline_data/structures/atlasV7'\n",
    "\n",
    "ng = NumpyToNeuroglancer(animal = 'Atlas' , volume = atlas_volume, scales = [10000, 10000, 20000],layer_type = 'segmentation', data_type = atlas_volume.dtype)\n",
    "ng.preview()\n"
   ]
  },
  {
   "cell_type": "code",
   "execution_count": 11,
   "metadata": {},
   "outputs": [
    {
     "name": "stderr",
     "output_type": "stream",
     "text": [
      "\r",
      "Tasks:   0%|          | 0/5 [00:00<?, ?it/s]"
     ]
    },
    {
     "name": "stdout",
     "output_type": "stream",
     "text": [
      "Volume Bounds:  Bbox([0, 0, 0],[1000, 1000, 300], dtype=int32)\n",
      "Selected ROI:   Bbox([0, 0, 0],[1000, 1000, 300], dtype=int32)\n"
     ]
    },
    {
     "name": "stderr",
     "output_type": "stream",
     "text": [
      "\n",
      "Downloading:   0%|          | 0/16 [00:00<?, ?it/s]\u001b[A\n",
      "Downloading:   0%|          | 0/16 [00:00<?, ?it/s]\u001b[A\n",
      "Downloading:   0%|          | 0/16 [00:00<?, ?it/s]\u001b[A\n",
      "Tasks:   0%|          | 0/5 [00:00<?, ?it/s] ?it/s]\u001b[A\n"
     ]
    },
    {
     "ename": "EmptyVolumeException",
     "evalue": "10000_10000_20000/0-256_0-256_0-128",
     "output_type": "error",
     "traceback": [
      "\u001b[0;31m---------------------------------------------------------------------------\u001b[0m",
      "\u001b[0;31mRemoteTraceback\u001b[0m                           Traceback (most recent call last)",
      "\u001b[0;31mRemoteTraceback\u001b[0m: \n\"\"\"\nTraceback (most recent call last):\n  File \"/usr/local/share/pipeline/lib/python3.8/site-packages/multiprocess/pool.py\", line 125, in worker\n    result = (True, func(*args, **kwds))\n  File \"/usr/local/share/pipeline/lib/python3.8/site-packages/pathos/helpers/mp_helper.py\", line 15, in <lambda>\n    func = lambda args: f(*args)\n  File \"/usr/local/share/pipeline/lib/python3.8/site-packages/taskqueue/taskqueue.py\", line 500, in _task_execute\n    task.execute(*args, **kwargs)\n  File \"/usr/local/share/pipeline/lib/python3.8/site-packages/taskqueue/queueablefns.py\", line 78, in execute\n    self(*args, **kwargs)\n  File \"/usr/local/share/pipeline/lib/python3.8/site-packages/taskqueue/queueablefns.py\", line 87, in __call__\n    return self.tofunc()()\n  File \"/usr/local/share/pipeline/lib/python3.8/site-packages/igneous/tasks/tasks.py\", line 446, in DownsampleTask\n    return TransferTask(\n  File \"/usr/local/share/pipeline/lib/python3.8/site-packages/igneous/tasks/tasks.py\", line 416, in TransferTask\n    image = srccv.download(\n  File \"/usr/local/share/pipeline/lib/python3.8/site-packages/cloudvolume/frontends/precomputed.py\", line 577, in download\n    tup = self.image.download(bbox, mip, parallel=parallel, renumber=bool(renumber))\n  File \"/usr/local/share/pipeline/lib/python3.8/site-packages/cloudvolume/datasource/precomputed/image/__init__.py\", line 160, in download\n    return rx.download(\n  File \"/usr/local/share/pipeline/lib/python3.8/site-packages/cloudvolume/datasource/precomputed/image/rx.py\", line 174, in download\n    download_chunks_threaded(\n  File \"/usr/local/share/pipeline/lib/python3.8/site-packages/cloudvolume/datasource/precomputed/image/rx.py\", line 344, in download_chunks_threaded\n    schedule_jobs(\n  File \"/usr/local/share/pipeline/lib/python3.8/site-packages/cloudvolume/scheduler.py\", line 103, in schedule_jobs\n    return schedule_threaded_jobs(fns, concurrency, progress, total)\n  File \"/usr/local/share/pipeline/lib/python3.8/site-packages/cloudvolume/scheduler.py\", line 30, in schedule_threaded_jobs\n    tq.put(updatefn(fn))\n  File \"/usr/local/share/pipeline/lib/python3.8/site-packages/cloudvolume/threaded_queue.py\", line 257, in __exit__\n    self.wait(progress=self.with_progress)\n  File \"/usr/local/share/pipeline/lib/python3.8/site-packages/cloudvolume/threaded_queue.py\", line 234, in wait\n    self._check_errors()\n  File \"/usr/local/share/pipeline/lib/python3.8/site-packages/cloudvolume/threaded_queue.py\", line 191, in _check_errors\n    raise err\n  File \"/usr/local/share/pipeline/lib/python3.8/site-packages/cloudvolume/threaded_queue.py\", line 153, in _consume_queue\n    self._consume_queue_execution(fn)\n  File \"/usr/local/share/pipeline/lib/python3.8/site-packages/cloudvolume/threaded_queue.py\", line 180, in _consume_queue_execution\n    fn()\n  File \"/usr/local/share/pipeline/lib/python3.8/site-packages/cloudvolume/scheduler.py\", line 23, in realupdatefn\n    res = fn()\n  File \"/usr/local/share/pipeline/lib/python3.8/site-packages/cloudvolume/datasource/precomputed/image/rx.py\", line 324, in process\n    img3d, bbox = download_chunk(\n  File \"/usr/local/share/pipeline/lib/python3.8/site-packages/cloudvolume/datasource/precomputed/image/rx.py\", line 311, in download_chunk\n    img3d = decode(meta, filename, content, fill_missing, mip,\n  File \"/usr/local/share/pipeline/lib/python3.8/site-packages/cloudvolume/datasource/precomputed/image/rx.py\", line 370, in decode\n    raise EmptyVolumeException(input_bbox)\ncloudvolume.exceptions.EmptyVolumeException: 10000_10000_20000/0-256_0-256_0-128\n\"\"\"",
      "\nThe above exception was the direct cause of the following exception:\n",
      "\u001b[0;31mEmptyVolumeException\u001b[0m                      Traceback (most recent call last)",
      "\u001b[0;32m<ipython-input-11-86764a67a81f>\u001b[0m in \u001b[0;36m<module>\u001b[0;34m\u001b[0m\n\u001b[1;32m      1\u001b[0m \u001b[0mng\u001b[0m\u001b[0;34m.\u001b[0m\u001b[0minit_precomputed\u001b[0m\u001b[0;34m(\u001b[0m\u001b[0mOUTPUT_DIR\u001b[0m\u001b[0;34m,\u001b[0m \u001b[0mvolume_size\u001b[0m\u001b[0;34m=\u001b[0m\u001b[0matlas_volume\u001b[0m\u001b[0;34m.\u001b[0m\u001b[0mshape\u001b[0m\u001b[0;34m)\u001b[0m\u001b[0;34m\u001b[0m\u001b[0;34m\u001b[0m\u001b[0m\n\u001b[1;32m      2\u001b[0m \u001b[0mng\u001b[0m\u001b[0;34m.\u001b[0m\u001b[0madd_segment_properties\u001b[0m\u001b[0;34m(\u001b[0m\u001b[0mget_segment_properties\u001b[0m\u001b[0;34m(\u001b[0m\u001b[0;34m)\u001b[0m\u001b[0;34m)\u001b[0m\u001b[0;34m\u001b[0m\u001b[0;34m\u001b[0m\u001b[0m\n\u001b[0;32m----> 3\u001b[0;31m \u001b[0mng\u001b[0m\u001b[0;34m.\u001b[0m\u001b[0madd_downsampled_volumes\u001b[0m\u001b[0;34m(\u001b[0m\u001b[0;34m)\u001b[0m\u001b[0;34m\u001b[0m\u001b[0;34m\u001b[0m\u001b[0m\n\u001b[0m\u001b[1;32m      4\u001b[0m \u001b[0mng\u001b[0m\u001b[0;34m.\u001b[0m\u001b[0madd_segmentation_mesh\u001b[0m\u001b[0;34m(\u001b[0m\u001b[0;34m)\u001b[0m\u001b[0;34m\u001b[0m\u001b[0;34m\u001b[0m\u001b[0m\n",
      "\u001b[0;32m~/programming/pipeline_utility/src/lib/utilities_cvat_neuroglancer.py\u001b[0m in \u001b[0;36madd_downsampled_volumes\u001b[0;34m(self, chunk_size, num_mips)\u001b[0m\n\u001b[1;32m    231\u001b[0m                                              num_mips=num_mips, chunk_size=chunk_size, compress=True)\n\u001b[1;32m    232\u001b[0m         \u001b[0mtq\u001b[0m\u001b[0;34m.\u001b[0m\u001b[0minsert\u001b[0m\u001b[0;34m(\u001b[0m\u001b[0mtasks\u001b[0m\u001b[0;34m)\u001b[0m\u001b[0;34m\u001b[0m\u001b[0;34m\u001b[0m\u001b[0m\n\u001b[0;32m--> 233\u001b[0;31m         \u001b[0mtq\u001b[0m\u001b[0;34m.\u001b[0m\u001b[0mexecute\u001b[0m\u001b[0;34m(\u001b[0m\u001b[0;34m)\u001b[0m\u001b[0;34m\u001b[0m\u001b[0;34m\u001b[0m\u001b[0m\n\u001b[0m\u001b[1;32m    234\u001b[0m \u001b[0;34m\u001b[0m\u001b[0m\n\u001b[1;32m    235\u001b[0m     \u001b[0;32mdef\u001b[0m \u001b[0madd_segmentation_mesh\u001b[0m\u001b[0;34m(\u001b[0m\u001b[0mself\u001b[0m\u001b[0;34m,\u001b[0m \u001b[0mshape\u001b[0m\u001b[0;34m=\u001b[0m\u001b[0;34m[\u001b[0m\u001b[0;36m448\u001b[0m\u001b[0;34m,\u001b[0m \u001b[0;36m448\u001b[0m\u001b[0;34m,\u001b[0m \u001b[0;36m448\u001b[0m\u001b[0;34m]\u001b[0m\u001b[0;34m,\u001b[0m \u001b[0mmip\u001b[0m\u001b[0;34m=\u001b[0m\u001b[0;36m0\u001b[0m\u001b[0;34m)\u001b[0m\u001b[0;34m:\u001b[0m\u001b[0;34m\u001b[0m\u001b[0;34m\u001b[0m\u001b[0m\n",
      "\u001b[0;32m/usr/local/share/pipeline/lib/python3.8/site-packages/taskqueue/taskqueue.py\u001b[0m in \u001b[0;36mexecute\u001b[0;34m(self, progress, parallel, total)\u001b[0m\n\u001b[1;32m    474\u001b[0m       \u001b[0;32melse\u001b[0m\u001b[0;34m:\u001b[0m\u001b[0;34m\u001b[0m\u001b[0;34m\u001b[0m\u001b[0m\n\u001b[1;32m    475\u001b[0m         \u001b[0;32mwith\u001b[0m \u001b[0mpathos\u001b[0m\u001b[0;34m.\u001b[0m\u001b[0mpools\u001b[0m\u001b[0;34m.\u001b[0m\u001b[0mProcessPool\u001b[0m\u001b[0;34m(\u001b[0m\u001b[0mself\u001b[0m\u001b[0;34m.\u001b[0m\u001b[0mparallel\u001b[0m\u001b[0;34m)\u001b[0m \u001b[0;32mas\u001b[0m \u001b[0mexecutor\u001b[0m\u001b[0;34m:\u001b[0m\u001b[0;34m\u001b[0m\u001b[0;34m\u001b[0m\u001b[0m\n\u001b[0;32m--> 476\u001b[0;31m           \u001b[0;32mfor\u001b[0m \u001b[0m_\u001b[0m \u001b[0;32min\u001b[0m \u001b[0mexecutor\u001b[0m\u001b[0;34m.\u001b[0m\u001b[0mimap\u001b[0m\u001b[0;34m(\u001b[0m\u001b[0m_task_execute\u001b[0m\u001b[0;34m,\u001b[0m \u001b[0mself\u001b[0m\u001b[0;34m.\u001b[0m\u001b[0mqueue\u001b[0m\u001b[0;34m)\u001b[0m\u001b[0;34m:\u001b[0m\u001b[0;34m\u001b[0m\u001b[0;34m\u001b[0m\u001b[0m\n\u001b[0m\u001b[1;32m    477\u001b[0m             \u001b[0mpbar\u001b[0m\u001b[0;34m.\u001b[0m\u001b[0mupdate\u001b[0m\u001b[0;34m(\u001b[0m\u001b[0;34m)\u001b[0m\u001b[0;34m\u001b[0m\u001b[0;34m\u001b[0m\u001b[0m\n\u001b[1;32m    478\u001b[0m \u001b[0;34m\u001b[0m\u001b[0m\n",
      "\u001b[0;32m/usr/local/share/pipeline/lib/python3.8/site-packages/multiprocess/pool.py\u001b[0m in \u001b[0;36mnext\u001b[0;34m(self, timeout)\u001b[0m\n\u001b[1;32m    866\u001b[0m         \u001b[0;32mif\u001b[0m \u001b[0msuccess\u001b[0m\u001b[0;34m:\u001b[0m\u001b[0;34m\u001b[0m\u001b[0;34m\u001b[0m\u001b[0m\n\u001b[1;32m    867\u001b[0m             \u001b[0;32mreturn\u001b[0m \u001b[0mvalue\u001b[0m\u001b[0;34m\u001b[0m\u001b[0;34m\u001b[0m\u001b[0m\n\u001b[0;32m--> 868\u001b[0;31m         \u001b[0;32mraise\u001b[0m \u001b[0mvalue\u001b[0m\u001b[0;34m\u001b[0m\u001b[0;34m\u001b[0m\u001b[0m\n\u001b[0m\u001b[1;32m    869\u001b[0m \u001b[0;34m\u001b[0m\u001b[0m\n\u001b[1;32m    870\u001b[0m     \u001b[0m__next__\u001b[0m \u001b[0;34m=\u001b[0m \u001b[0mnext\u001b[0m                    \u001b[0;31m# XXX\u001b[0m\u001b[0;34m\u001b[0m\u001b[0;34m\u001b[0m\u001b[0m\n",
      "\u001b[0;31mEmptyVolumeException\u001b[0m: 10000_10000_20000/0-256_0-256_0-128"
     ]
    },
    {
     "name": "stderr",
     "output_type": "stream",
     "text": [
      "\n",
      "\n",
      "Downloading:   0%|          | 0/16 [00:00<?, ?it/s]\u001b[A\u001b[A"
     ]
    }
   ],
   "source": [
    "ng.init_precomputed(OUTPUT_DIR, volume_size=atlas_volume.shape)\n",
    "ng.add_segment_properties(get_segment_properties())\n",
    "ng.add_downsampled_volumes()\n",
    "ng.add_segmentation_mesh()"
   ]
  },
  {
   "cell_type": "code",
   "execution_count": 6,
   "metadata": {},
   "outputs": [],
   "source": [
    "with open('atlasV7.npy', 'wb') as file:\n",
    "    np.save(file, atlasV7_volume)"
   ]
  }
 ],
 "metadata": {
  "interpreter": {
   "hash": "2bd29f7b10431261d8beeb897d602198a8ccc2be7cc6f93af9f327223ffe0508"
  },
  "kernelspec": {
   "display_name": "Python 3",
   "language": "python",
   "name": "python3"
  },
  "language_info": {
   "codemirror_mode": {
    "name": "ipython",
    "version": 3
   },
   "file_extension": ".py",
   "mimetype": "text/x-python",
   "name": "python",
   "nbconvert_exporter": "python",
   "pygments_lexer": "ipython3",
   "version": "3.8.10"
  }
 },
 "nbformat": 4,
 "nbformat_minor": 1
}
