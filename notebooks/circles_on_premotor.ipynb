{
 "cells": [
  {
   "cell_type": "code",
   "execution_count": null,
   "metadata": {},
   "outputs": [],
   "source": [
    "import pandas as pd\n",
    "import numpy as np\n",
    "import matplotlib\n",
    "from matplotlib import pyplot as plt\n",
    "from os.path import expanduser\n",
    "HOME = expanduser(\"~\")\n",
    "import os\n",
    "import cv2"
   ]
  },
  {
   "cell_type": "code",
   "execution_count": null,
   "metadata": {},
   "outputs": [],
   "source": [
    "animal = 'DK55'\n",
    "section = 172\n",
    "INPUT = os.path.join(HOME, 'programming/brains', animal, str(section))\n",
    "files = sorted(os.listdir(INPUT))\n",
    "files"
   ]
  },
  {
   "cell_type": "code",
   "execution_count": null,
   "metadata": {},
   "outputs": [],
   "source": [
    "# I think either tile 5 or 7 would contain lots of premotor cells\n",
    "# the original images are width=60000, height=34000. We also need to adjust the origin point of the tile.\n",
    "SCALE = 32 # images are downsampled by 1/32\n",
    "# downsampled size\n",
    "width = 60000 / 32\n",
    "height = 34000 / 32\n",
    "tile_height = height / 5\n",
    "# for using tile = 5, we push the origin down 2 tile_heights\n",
    "print(width, height, tile_height)\n",
    "dfpath = os.path.join(INPUT, '172.csv')\n",
    "df = pd.read_csv(dfpath)\n",
    "df['xs'] = (df['x'] / SCALE) - (width/2)\n",
    "df['ys'] = (df['y'] / SCALE) - (tile_height * 2)\n",
    "df = df.loc[df['ys'] > 0] # remove rows that are not on the tile\n",
    "df.head()"
   ]
  },
  {
   "cell_type": "code",
   "execution_count": null,
   "metadata": {},
   "outputs": [],
   "source": [
    "file = 'tile-norm-5.tif'\n",
    "radius = 4\n",
    "color = (255)\n",
    "infile = os.path.join(INPUT, file)\n",
    "img = cv2.imread(infile, -1)\n",
    "for index,row in df.iterrows():\n",
    "    x = int(round(row['xs']))\n",
    "    y = int(round(row['ys']))\n",
    "    cv2.circle(img, (int(x), int(y)), radius, color, 2)"
   ]
  },
  {
   "cell_type": "code",
   "execution_count": null,
   "metadata": {
    "scrolled": false
   },
   "outputs": [],
   "source": [
    "fig=plt.figure(figsize=(26,18), dpi= 100, facecolor='w', edgecolor='k')\n",
    "plt.imshow(img, cmap=\"gray\")\n",
    "plt.title(f'{animal} CH3, section: {section}', fontsize=30)\n",
    "plt.tick_params(axis='x', labelsize=30)\n",
    "plt.tick_params(axis='y', labelsize=30)\n",
    "plt.show()"
   ]
  }
 ],
 "metadata": {
  "kernelspec": {
   "display_name": "Python 3",
   "language": "python",
   "name": "python3"
  },
  "language_info": {
   "codemirror_mode": {
    "name": "ipython",
    "version": 3
   },
   "file_extension": ".py",
   "mimetype": "text/x-python",
   "name": "python",
   "nbconvert_exporter": "python",
   "pygments_lexer": "ipython3",
   "version": "3.8.10"
  }
 },
 "nbformat": 4,
 "nbformat_minor": 4
}
