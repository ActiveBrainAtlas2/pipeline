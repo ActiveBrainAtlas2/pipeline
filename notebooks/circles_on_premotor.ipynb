{
 "cells": [
  {
   "cell_type": "code",
   "execution_count": 1,
   "metadata": {},
   "outputs": [],
   "source": [
    "import pandas as pd\n",
    "import numpy as np\n",
    "import matplotlib\n",
    "from matplotlib import pyplot as plt\n",
    "from os.path import expanduser\n",
    "HOME = expanduser(\"~\")\n",
    "import os\n",
    "import cv2"
   ]
  },
  {
   "cell_type": "code",
   "execution_count": 2,
   "metadata": {},
   "outputs": [
    {
     "data": {
      "text/plain": [
       "['172.csv',\n",
       " '172.out.tif',\n",
       " '172.tif',\n",
       " 'tile-norm-0.tif',\n",
       " 'tile-norm-1.tif',\n",
       " 'tile-norm-2.tif',\n",
       " 'tile-norm-3.tif',\n",
       " 'tile-norm-4.tif',\n",
       " 'tile-norm-5.tif',\n",
       " 'tile-norm-6.tif',\n",
       " 'tile-norm-7.tif',\n",
       " 'tile-norm-8.tif',\n",
       " 'tile-norm-9.tif']"
      ]
     },
     "execution_count": 2,
     "metadata": {},
     "output_type": "execute_result"
    }
   ],
   "source": [
    "animal = 'DK55'\n",
    "section = 172\n",
    "INPUT = os.path.join(HOME, 'programming/brains', animal, str(section))\n",
    "files = sorted(os.listdir(INPUT))\n",
    "files"
   ]
  },
  {
   "cell_type": "code",
   "execution_count": 26,
   "metadata": {},
   "outputs": [
    {
     "name": "stdout",
     "output_type": "stream",
     "text": [
      "1875.0 1062.5 212.5\n",
      "         Layer             X             Y  Section\n",
      "1871  Premotor  32694.339844  16725.058594      248\n",
      "1872  Premotor  32703.347656  16788.117188      248\n"
     ]
    },
    {
     "name": "stderr",
     "output_type": "stream",
     "text": [
      "/usr/local/share/pipeline/lib/python3.8/site-packages/pandas/core/frame.py:4167: SettingWithCopyWarning: \n",
      "A value is trying to be set on a copy of a slice from a DataFrame\n",
      "\n",
      "See the caveats in the documentation: https://pandas.pydata.org/pandas-docs/stable/user_guide/indexing.html#returning-a-view-versus-a-copy\n",
      "  return super().drop(\n"
     ]
    }
   ],
   "source": [
    "# I think either tile 5 or 7 would contain lots of premotor cells\n",
    "# the original images are width=60000, height=34000. We also need to adjust the origin point of the tile.\n",
    "SCALE = 32 # images are downsampled by 1/32\n",
    "# downsampled size\n",
    "width = 60000 / 32\n",
    "height = 34000 / 32\n",
    "tile_height = height / 5\n",
    "# for using tile = 5, we push the origin down 2 tile_heights\n",
    "print(width, height, tile_height)\n",
    "section = 248\n",
    "dfpath = os.path.join(HOME, f'programming/brains/{animal}', f'{animal}.CH3.Premotor.csv')\n",
    "df = pd.read_csv(dfpath)\n",
    "options = ['Premotor']\n",
    "rslt_df = df[(df['Section'] == section) & df['Layer'].isin(options)]\n",
    "rslt_df.drop(columns=['Description'], inplace=True)\n",
    "#print(df.groupby(['Section']).agg(['count']).tail(10))\n",
    "print(rslt_df.head(2))\n",
    "outpath = os.path.join(HOME, f'programming/brains/{animal}', f'CH3.{section}.csv')\n",
    "rslt_df.to_csv(outpath, index=False)\n",
    "#df['xs'] = (df['x'] / SCALE) - (width/2)\n",
    "#df['ys'] = (df['y'] / SCALE) - (tile_height * 2)\n",
    "#df = df.loc[df['ys'] > 0] # remove rows that are not on the tile\n",
    "#df.head()"
   ]
  },
  {
   "cell_type": "code",
   "execution_count": null,
   "metadata": {},
   "outputs": [],
   "source": [
    "file = 'tile-norm-5.tif'\n",
    "radius = 4\n",
    "color = (255)\n",
    "infile = os.path.join(INPUT, file)\n",
    "img = cv2.imread(infile, -1)\n",
    "for index,row in df.iterrows():\n",
    "    x = int(round(row['xs']))\n",
    "    y = int(round(row['ys']))\n",
    "    cv2.circle(img, (int(x), int(y)), radius, color, 2)"
   ]
  },
  {
   "cell_type": "code",
   "execution_count": null,
   "metadata": {
    "scrolled": false
   },
   "outputs": [],
   "source": [
    "fig=plt.figure(figsize=(26,18), dpi= 100, facecolor='w', edgecolor='k')\n",
    "plt.imshow(img, cmap=\"gray\")\n",
    "plt.title(f'{animal} CH3, section: {section}', fontsize=30)\n",
    "plt.tick_params(axis='x', labelsize=30)\n",
    "plt.tick_params(axis='y', labelsize=30)\n",
    "plt.show()"
   ]
  }
 ],
 "metadata": {
  "kernelspec": {
   "display_name": "Python 3",
   "language": "python",
   "name": "python3"
  },
  "language_info": {
   "codemirror_mode": {
    "name": "ipython",
    "version": 3
   },
   "file_extension": ".py",
   "mimetype": "text/x-python",
   "name": "python",
   "nbconvert_exporter": "python",
   "pygments_lexer": "ipython3",
   "version": "3.8.10"
  }
 },
 "nbformat": 4,
 "nbformat_minor": 4
}
