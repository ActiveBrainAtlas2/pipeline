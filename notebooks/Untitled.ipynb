{
 "cells": [
  {
   "cell_type": "code",
   "execution_count": 1,
   "metadata": {},
   "outputs": [],
   "source": [
    "import bioformats\n",
    "import subprocess"
   ]
  },
  {
   "cell_type": "code",
   "execution_count": 2,
   "metadata": {},
   "outputs": [],
   "source": [
    "infile = '/net/birdstore/Active_Atlas_Data/data_root/pipeline_data/DK39/czi/DK39_slide005_2020_01_02.czi'\n",
    "command = ['/usr/local/share/bftools/showinf', '-nopix', '-omexml-only', infile]\n",
    "metadata = subprocess.check_output(command).decode('utf-8')\n",
    "metadata = bioformats.OMEXML(metadata)"
   ]
  },
  {
   "cell_type": "code",
   "execution_count": 4,
   "metadata": {},
   "outputs": [],
   "source": [
    "metadata_dict = {}\n",
    "for i in range(metadata.image_count):\n",
    "    image = metadata.image(i)\n",
    "    metadata_dict[i] = {}\n",
    "    metadata_dict[i]['width'] = image.Pixels.SizeX\n",
    "    metadata_dict[i]['height'] = image.Pixels.SizeY\n",
    "    metadata_dict[i]['channels'] = image.Pixels.channel_count\n",
    "\n",
    "image = metadata.image(0)\n",
    "for i in range(image.Pixels.channel_count):\n",
    "    metadata_dict[f'channel_{i}_name'] = image.Pixels.channel(i).Name"
   ]
  },
  {
   "cell_type": "code",
   "execution_count": 5,
   "metadata": {},
   "outputs": [
    {
     "name": "stdout",
     "output_type": "stream",
     "text": [
      "{0: {'width': 13147, 'height': 18682, 'channels': 3}, 1: {'width': 6573, 'height': 9341, 'channels': 3}, 2: {'width': 3286, 'height': 4670, 'channels': 3}, 3: {'width': 1643, 'height': 2335, 'channels': 3}, 4: {'width': 821, 'height': 1167, 'channels': 3}, 5: {'width': 410, 'height': 583, 'channels': 3}, 6: {'width': 13149, 'height': 18678, 'channels': 3}, 7: {'width': 6574, 'height': 9339, 'channels': 3}, 8: {'width': 3287, 'height': 4669, 'channels': 3}, 9: {'width': 1643, 'height': 2334, 'channels': 3}, 10: {'width': 821, 'height': 1167, 'channels': 3}, 11: {'width': 410, 'height': 583, 'channels': 3}, 12: {'width': 14986, 'height': 16833, 'channels': 3}, 13: {'width': 7493, 'height': 8416, 'channels': 3}, 14: {'width': 3746, 'height': 4208, 'channels': 3}, 15: {'width': 1873, 'height': 2104, 'channels': 3}, 16: {'width': 936, 'height': 1052, 'channels': 3}, 17: {'width': 468, 'height': 526, 'channels': 3}, 18: {'width': 13140, 'height': 16828, 'channels': 3}, 19: {'width': 6570, 'height': 8414, 'channels': 3}, 20: {'width': 3285, 'height': 4207, 'channels': 3}, 21: {'width': 1642, 'height': 2103, 'channels': 3}, 22: {'width': 821, 'height': 1051, 'channels': 3}, 23: {'width': 410, 'height': 525, 'channels': 3}, 24: {'width': 747, 'height': 569, 'channels': 1}, 25: {'width': 1653, 'height': 797, 'channels': 1}, 'channel_0_name': 'CFP', 'channel_1_name': 'AF568', 'channel_2_name': 'TuYFP'}\n"
     ]
    }
   ],
   "source": [
    "print(metadata_dict)"
   ]
  }
 ],
 "metadata": {
  "kernelspec": {
   "display_name": "Python 3",
   "language": "python",
   "name": "python3"
  },
  "language_info": {
   "codemirror_mode": {
    "name": "ipython",
    "version": 3
   },
   "file_extension": ".py",
   "mimetype": "text/x-python",
   "name": "python",
   "nbconvert_exporter": "python",
   "pygments_lexer": "ipython3",
   "version": "3.8.5"
  }
 },
 "nbformat": 4,
 "nbformat_minor": 4
}
