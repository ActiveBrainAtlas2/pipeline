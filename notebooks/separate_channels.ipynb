{
 "cells": [
  {
   "cell_type": "code",
   "execution_count": 1,
   "metadata": {},
   "outputs": [],
   "source": [
    "import numpy as np\n",
    "import matplotlib\n",
    "from matplotlib import pyplot as plt\n",
    "from skimage import io\n",
    "from os.path import expanduser\n",
    "from tqdm import tqdm\n",
    "HOME = expanduser(\"~\")\n",
    "import os\n",
    "import cv2"
   ]
  },
  {
   "cell_type": "code",
   "execution_count": 2,
   "metadata": {},
   "outputs": [],
   "source": [
    "#DIR = os.path.join(HOME, 'programming', 'dk39')\n",
    "DIR = '/net/birdstore/Active_Atlas_Data/data_root/pipeline_data/MD589'\n",
    "INPUT = os.path.join(DIR, 'tif')\n",
    "CH1 = os.path.join(DIR, 'preps', 'CH1', 'thumbnail')\n",
    "CH2 = os.path.join(DIR, 'preps', 'CH2', 'thumbnail')\n",
    "CH3 = os.path.join(DIR, 'preps', 'CH3', 'thumbnail')\n",
    "files = sorted(os.listdir(INPUT))"
   ]
  },
  {
   "cell_type": "code",
   "execution_count": 5,
   "metadata": {},
   "outputs": [
    {
     "name": "stderr",
     "output_type": "stream",
     "text": [
      "100%|██████████| 225/225 [00:05<00:00, 38.76it/s]"
     ]
    },
    {
     "name": "stdout",
     "output_type": "stream",
     "text": [
      "Finished\n",
      "CPU times: user 5.48 s, sys: 334 ms, total: 5.81 s\n",
      "Wall time: 5.81 s\n"
     ]
    },
    {
     "name": "stderr",
     "output_type": "stream",
     "text": [
      "\n"
     ]
    }
   ],
   "source": [
    "%%time\n",
    "# get oriented for comparison\n",
    "img_inputs = []\n",
    "file_inputs = []\n",
    "titles = []\n",
    "ch1s = []\n",
    "ch2s = []\n",
    "ch3s = [] \n",
    "for i, file in enumerate(tqdm(files)):\n",
    "    infile = os.path.join(INPUT, file)\n",
    "    img = io.imread(infile)\n",
    "    ch1 = img[:,:,0]\n",
    "    ch2 = img[:,:,1]\n",
    "    ch3 = img[:,:,2]\n",
    "    \n",
    "    outpath = os.path.join(DIR, 'preps', CH1, file)\n",
    "    cv2.imwrite(outpath, ch1.astype('uint8'))\n",
    "    \n",
    "    outpath = os.path.join(DIR, 'preps', CH2, file)\n",
    "    cv2.imwrite(outpath, ch2.astype('uint8'))\n",
    "    \n",
    "    outpath = os.path.join(DIR, 'preps', CH3, file)\n",
    "    cv2.imwrite(outpath, ch3.astype('uint8'))\n",
    "    \n",
    "print('Finished')\n"
   ]
  },
  {
   "cell_type": "code",
   "execution_count": null,
   "metadata": {},
   "outputs": [],
   "source": [
    "start, finish = (0,5)\n",
    "#displays = masks[start:finish]\n",
    "dch1s = ch1s[start:finish]\n",
    "dch2s = ch2s[start:finish]\n",
    "dch3s = ch3s[start:finish]\n",
    "\n",
    "names = file_inputs[start:finish]\n",
    "\n",
    "fig, ax = plt.subplots(nrows=len(names), ncols=3, sharex=False)\n",
    "plt.style.use('classic')\n",
    "i = 0\n",
    "for ch1, ch2, ch3, name in zip(dch1s, dch2s, dch3s, names):\n",
    "    ax[i,0].set_title('CH1 {}'.format(name))\n",
    "    ax[i,0].imshow(ch1, cmap=\"gray\")\n",
    "    ax[i,1].set_title('CH2 {}'.format(name))\n",
    "    ax[i,1].imshow(ch2, cmap=\"gray\")\n",
    "    ax[i,2].set_title('CH3 {}'.format(name))\n",
    "    ax[i,2].imshow(ch3, cmap=\"gray\")\n",
    "\n",
    "    i += 1\n",
    "# swap the 10 and the six below if the images are wider than height\n",
    "fig.set_size_inches(np.array([12, 4 * len(names)]), forward=True)\n",
    "plt.show()"
   ]
  }
 ],
 "metadata": {
  "kernelspec": {
   "display_name": "Python 3",
   "language": "python",
   "name": "python3"
  },
  "language_info": {
   "codemirror_mode": {
    "name": "ipython",
    "version": 3
   },
   "file_extension": ".py",
   "mimetype": "text/x-python",
   "name": "python",
   "nbconvert_exporter": "python",
   "pygments_lexer": "ipython3",
   "version": "3.8.2"
  }
 },
 "nbformat": 4,
 "nbformat_minor": 4
}
