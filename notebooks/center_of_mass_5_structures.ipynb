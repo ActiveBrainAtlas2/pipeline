{
 "cells": [
  {
   "cell_type": "code",
   "execution_count": 1,
   "metadata": {},
   "outputs": [
    {
     "name": "stdout",
     "output_type": "stream",
     "text": [
      "Connecting dklab@192.168.1.12:3306\n"
     ]
    }
   ],
   "source": [
    "%reload_ext autoreload\n",
    "%autoreload 2\n",
    "import os, sys\n",
    "import numpy as np\n",
    "HOME = os.path.expanduser(\"~\")\n",
    "PATH = os.path.join(HOME, 'programming/pipeline_utility')\n",
    "sys.path.append(PATH)\n",
    "from utilities.sqlcontroller import SqlController"
   ]
  },
  {
   "cell_type": "code",
   "execution_count": 5,
   "metadata": {},
   "outputs": [
    {
     "name": "stdout",
     "output_type": "stream",
     "text": [
      "DC_L 583 457 42\n",
      "DC_R 583 457 257\n",
      "SC 372 259 151\n"
     ]
    }
   ],
   "source": [
    "atlas_centers = {}\n",
    "atlas_centers['DC_L'] = [83,-43,-215]\n",
    "atlas_centers['DC_R'] = [83,-43,215]\n",
    "atlas_centers['SC'] = [-128,-241,3]\n",
    "atlas_box_size=(1000, 1000, 300)\n",
    "atlas_box_scales=(10, 10, 20)\n",
    "atlas_raw_scale=10\n",
    "atlas_box_scales = np.array(atlas_box_scales)\n",
    "atlas_box_size = np.array(atlas_box_size)\n",
    "atlas_box_center = atlas_box_size / 2\n",
    "for structure, origin in atlas_centers.items():\n",
    "    x,y,section = atlas_box_center + np.array(origin) * atlas_raw_scale / atlas_box_scales\n",
    "    print(structure, int(x),int(y),int(section))\n",
    "\n",
    "SC = [347,  260,  153]"
   ]
  }
 ],
 "metadata": {
  "kernelspec": {
   "display_name": "Python 3",
   "language": "python",
   "name": "python3"
  },
  "language_info": {
   "codemirror_mode": {
    "name": "ipython",
    "version": 3
   },
   "file_extension": ".py",
   "mimetype": "text/x-python",
   "name": "python",
   "nbconvert_exporter": "python",
   "pygments_lexer": "ipython3",
   "version": "3.8.5"
  }
 },
 "nbformat": 4,
 "nbformat_minor": 1
}
