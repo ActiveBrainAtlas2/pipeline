{
 "cells": [
  {
   "cell_type": "code",
   "execution_count": 1,
   "metadata": {},
   "outputs": [
    {
     "ename": "ModuleNotFoundError",
     "evalue": "No module named 'SimpleITK'",
     "output_type": "error",
     "traceback": [
      "\u001b[0;31m---------------------------------------------------------------------------\u001b[0m",
      "\u001b[0;31mModuleNotFoundError\u001b[0m                       Traceback (most recent call last)",
      "\u001b[0;32m/var/folders/80/c2kfvdvx5cx570r4vlzqgb840000gq/T/ipykernel_25587/3301081630.py\u001b[0m in \u001b[0;36m<module>\u001b[0;34m\u001b[0m\n\u001b[1;32m      3\u001b[0m \u001b[0;32mfrom\u001b[0m \u001b[0mscipy\u001b[0m \u001b[0;32mimport\u001b[0m \u001b[0mlinalg\u001b[0m\u001b[0;34m\u001b[0m\u001b[0;34m\u001b[0m\u001b[0m\n\u001b[1;32m      4\u001b[0m \u001b[0;32mimport\u001b[0m \u001b[0mmatplotlib\u001b[0m\u001b[0;34m.\u001b[0m\u001b[0mpyplot\u001b[0m \u001b[0;32mas\u001b[0m \u001b[0mplt\u001b[0m\u001b[0;34m\u001b[0m\u001b[0;34m\u001b[0m\u001b[0m\n\u001b[0;32m----> 5\u001b[0;31m \u001b[0;32mimport\u001b[0m \u001b[0mSimpleITK\u001b[0m \u001b[0;32mas\u001b[0m \u001b[0msitk\u001b[0m\u001b[0;34m\u001b[0m\u001b[0;34m\u001b[0m\u001b[0m\n\u001b[0m\u001b[1;32m      6\u001b[0m \u001b[0;34m\u001b[0m\u001b[0m\n\u001b[1;32m      7\u001b[0m \u001b[0;31m# Enabling the `widget` backend.\u001b[0m\u001b[0;34m\u001b[0m\u001b[0;34m\u001b[0m\u001b[0;34m\u001b[0m\u001b[0m\n",
      "\u001b[0;31mModuleNotFoundError\u001b[0m: No module named 'SimpleITK'"
     ]
    }
   ],
   "source": [
    "# %load registration_utilities.py\n",
    "import numpy as np\n",
    "from scipy import linalg\n",
    "import matplotlib.pyplot as plt\n",
    "import SimpleITK as sitk\n",
    "\n",
    "# Enabling the `widget` backend.\n",
    "# This requires jupyter-matplotlib a.k.a. ipympl.\n",
    "# ipympl can be install via pip or conda.\n",
    "%matplotlib widget\n",
    "# aka import ipympl\n",
    "\n",
    "import matplotlib.pyplot as plt\n",
    "import numpy as np\n",
    "\n",
    "import SimpleITK as sitk\n",
    "import registration_utilities as ru\n",
    "import math,euler\n",
    "from transform_tools import *"
   ]
  },
  {
   "cell_type": "code",
   "execution_count": 8,
   "metadata": {
    "scrolled": true
   },
   "outputs": [],
   "source": [
    "#create fixed and moving datapoints\n",
    "\n",
    "sigma=0.1\n",
    "\n",
    "N=3\n",
    "shift=(N-1)/2.\n",
    "\n",
    "Dict2d={}\n",
    "_range=range(N)\n",
    "fixed=[]\n",
    "i=0\n",
    "for x in _range:\n",
    "    for y in _range:\n",
    "        for z in _range:\n",
    "            fixed.append([float(x-shift),float(y-shift),float(z-shift)])\n",
    "            Dict2d[(x,y,z)]=i\n",
    "            i+=1\n",
    "nbrs=create_neighborhood(Dict2d,N)\n",
    "            \n",
    "fixed=np.array(fixed)\n",
    "moving=np.array(fixed)\n",
    "            \n",
    "moving+=np.random.normal(0,sigma,size=moving.shape) #add gaussian noise.\n"
   ]
  },
  {
   "cell_type": "code",
   "execution_count": 29,
   "metadata": {},
   "outputs": [],
   "source": [
    "## rigid\n",
    "moving=np.array(fixed*euler.Rx(math.pi/10)*euler.Ry(-math.pi/8))"
   ]
  },
  {
   "cell_type": "code",
   "execution_count": 30,
   "metadata": {},
   "outputs": [],
   "source": [
    "# rigid+ scaling\n",
    "moving=np.array(fixed*euler.Rx(math.pi/10)*1.1)"
   ]
  },
  {
   "cell_type": "code",
   "execution_count": 31,
   "metadata": {},
   "outputs": [],
   "source": [
    "# Rigid + squeezing the belt\n",
    "moving=np.array(fixed*euler.Rx(math.pi/10))\n",
    "belt= moving[:,0]==0\n",
    "moving[belt]=moving[belt]*0.8"
   ]
  },
  {
   "cell_type": "code",
   "execution_count": 32,
   "metadata": {
    "scrolled": true
   },
   "outputs": [
    {
     "data": {
      "application/vnd.jupyter.widget-view+json": {
       "model_id": "7941b53e17114d89844b739b03b08cd5",
       "version_major": 2,
       "version_minor": 0
      },
      "text/plain": [
       "Canvas(toolbar=Toolbar(toolitems=[('Home', 'Reset original view', 'home', 'home'), ('Back', 'Back to previous …"
      ]
     },
     "metadata": {},
     "output_type": "display_data"
    }
   ],
   "source": [
    "moved,transform,inv_transform=find_and_eval_transform(sitk.VersorRigid3DTransform(),fixed,moving)"
   ]
  },
  {
   "cell_type": "code",
   "execution_count": 33,
   "metadata": {},
   "outputs": [
    {
     "data": {
      "application/vnd.jupyter.widget-view+json": {
       "model_id": "276b64a394994b01a96b5b15108f3917",
       "version_major": 2,
       "version_minor": 0
      },
      "text/plain": [
       "Canvas(toolbar=Toolbar(toolitems=[('Home', 'Reset original view', 'home', 'home'), ('Back', 'Back to previous …"
      ]
     },
     "metadata": {},
     "output_type": "display_data"
    }
   ],
   "source": [
    "moved,transform,inv_transform=find_and_eval_transform(sitk.AffineTransform(3),fixed,moving)"
   ]
  },
  {
   "cell_type": "markdown",
   "metadata": {},
   "source": [
    "N = 256\n",
    "grid_spacing = 64\n",
    "\n",
    "grid = sitk.GridSource(\n",
    "    outputPixelType=sitk.sitkFloat32,\n",
    "    size=(N, N),\n",
    "    sigma=(0.5, 0.5),\n",
    "    gridSpacing=(grid_spacing, grid_spacing),\n",
    "    gridOffset=(0, 0),\n",
    "    spacing=(1, 1),\n",
    ")\n",
    "\n",
    "array = sitk.GetArrayViewFromImage(grid)\n",
    "fig, ax = plt.subplots(dpi=150)\n",
    "ax.imshow(\n",
    "    array,\n",
    "    interpolation='hamming',\n",
    ");"
   ]
  },
  {
   "cell_type": "raw",
   "metadata": {},
   "source": [
    "ctrl_pts = 7, 7\n",
    "fix_edges = 2\n",
    "\n",
    "ctrl_pts = np.array(ctrl_pts, np.uint32)\n",
    "SPLINE_ORDER = 3\n",
    "mesh_size = ctrl_pts - SPLINE_ORDER\n",
    "# BSplines_transform = sitk.BSplineTransformInitializer(grid, mesh_size.tolist())\n",
    "BSplines_transform = sitk.BSplineTransformInitializer(grid,3,2)\n",
    "\n",
    "params = BSplines_transform.GetParameters()"
   ]
  },
  {
   "cell_type": "raw",
   "metadata": {},
   "source": [
    "moved,transform,inv_transform=find_and_eval_transform(BSplines_transform,fixed,moving)"
   ]
  },
  {
   "cell_type": "code",
   "execution_count": 22,
   "metadata": {},
   "outputs": [
    {
     "data": {
      "application/vnd.jupyter.widget-view+json": {
       "model_id": "9b7b9172bae94816bfb675d80d024a6e",
       "version_major": 2,
       "version_minor": 0
      },
      "text/plain": [
       "Canvas(toolbar=Toolbar(toolitems=[('Home', 'Reset original view', 'home', 'home'), ('Back', 'Back to previous …"
      ]
     },
     "metadata": {},
     "output_type": "display_data"
    }
   ],
   "source": [
    "fig = plt.figure(figsize=plt.figaspect(1)*1.5)\n",
    "ax = fig.add_subplot(projection='3d')\n",
    "\n",
    "dplt(ax,moving,N,nbrs,m='^',linewidth=1,linestyle='dashed')\n",
    "dplt(ax,fixed,N,nbrs,m='o',linewidth=1)"
   ]
  },
  {
   "cell_type": "code",
   "execution_count": 34,
   "metadata": {},
   "outputs": [],
   "source": [
    "back=transformPoints(inv_transform,moving)"
   ]
  },
  {
   "cell_type": "code",
   "execution_count": 35,
   "metadata": {},
   "outputs": [
    {
     "data": {
      "application/vnd.jupyter.widget-view+json": {
       "model_id": "e048e24c734d4d2e8cb368f110a21dc8",
       "version_major": 2,
       "version_minor": 0
      },
      "text/plain": [
       "Canvas(toolbar=Toolbar(toolitems=[('Home', 'Reset original view', 'home', 'home'), ('Back', 'Back to previous …"
      ]
     },
     "metadata": {},
     "output_type": "display_data"
    }
   ],
   "source": [
    "fig = plt.figure(figsize=plt.figaspect(1)*1.5)\n",
    "ax = fig.add_subplot(projection='3d')\n",
    "\n",
    "dplt(ax,back,N,nbrs,m='^',linewidth=1,linestyle='dashed')\n",
    "dplt(ax,fixed,N,nbrs,m='o',linewidth=1)"
   ]
  },
  {
   "cell_type": "code",
   "execution_count": null,
   "metadata": {},
   "outputs": [],
   "source": []
  },
  {
   "cell_type": "code",
   "execution_count": null,
   "metadata": {},
   "outputs": [],
   "source": []
  }
 ],
 "metadata": {
  "anaconda-cloud": {},
  "kernelspec": {
   "display_name": "Python 3 (ipykernel)",
   "language": "python",
   "name": "python3"
  },
  "language_info": {
   "codemirror_mode": {
    "name": "ipython",
    "version": 3
   },
   "file_extension": ".py",
   "mimetype": "text/x-python",
   "name": "python",
   "nbconvert_exporter": "python",
   "pygments_lexer": "ipython3",
   "version": "3.9.6"
  },
  "toc": {
   "base_numbering": 1,
   "nav_menu": {},
   "number_sections": true,
   "sideBar": true,
   "skip_h1_title": false,
   "title_cell": "Table of Contents",
   "title_sidebar": "Contents",
   "toc_cell": false,
   "toc_position": {},
   "toc_section_display": true,
   "toc_window_display": false
  },
  "widgets": {
   "state": {
    "533c967c71954d0ba484f642667e3b98": {
     "views": [
      {
       "cell_index": 10
      }
     ]
    },
    "65a69dcc8b734278bf7f85bbbb7b10ea": {
     "views": [
      {
       "cell_index": 5
      }
     ]
    },
    "cffd349d2e4e4ab28219c46e5769e04b": {
     "views": [
      {
       "cell_index": 15
      }
     ]
    }
   },
   "version": "1.2.0"
  }
 },
 "nbformat": 4,
 "nbformat_minor": 4
}
