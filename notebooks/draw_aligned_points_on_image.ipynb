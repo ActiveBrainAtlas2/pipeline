{
 "cells": [
  {
   "cell_type": "code",
   "execution_count": null,
   "metadata": {},
   "outputs": [],
   "source": [
    "import os, sys\n",
    "import pandas as pd\n",
    "import numpy as np\n",
    "import json\n",
    "from matplotlib import pyplot as plt\n",
    "import cv2\n",
    "from tqdm import tqdm\n",
    "from collections import defaultdict\n",
    "import random\n",
    "from scipy.ndimage.measurements import center_of_mass"
   ]
  },
  {
   "cell_type": "code",
   "execution_count": null,
   "metadata": {},
   "outputs": [],
   "source": [
    "HOME = os.path.expanduser(\"~\")\n",
    "PATH = os.path.join(HOME, 'programming/pipeline_utility/src')\n",
    "sys.path.append(PATH)\n",
    "from lib.file_location import DATA_PATH\n",
    "from lib.sqlcontroller import SqlController\n",
    "color_radius = 3\n",
    "animal = 'MD585'\n",
    "sqlController = SqlController(animal)\n",
    "ATLAS = 'atlasV8'\n",
    "CSVPATH = os.path.join(DATA_PATH, 'atlas_data', ATLAS, animal)\n",
    "#jsonpath = os.path.join(CSVPATH,  'aligned_padded_structures.json')\n",
    "jsonpath = os.path.join(CSVPATH,  'original_structures.json')\n",
    "with open(jsonpath) as f:\n",
    "    aligned_dict = json.load(f)"
   ]
  },
  {
   "cell_type": "code",
   "execution_count": null,
   "metadata": {},
   "outputs": [],
   "source": [
    "def flatten(t):\n",
    "    return [item for sublist in t for item in sublist]"
   ]
  },
  {
   "cell_type": "code",
   "execution_count": null,
   "metadata": {},
   "outputs": [],
   "source": [
    "structure = random.choice(list(aligned_dict.keys()))\n",
    "structure = 'SC'"
   ]
  },
  {
   "cell_type": "code",
   "execution_count": null,
   "metadata": {},
   "outputs": [],
   "source": [
    "onestructure = aligned_dict[structure]"
   ]
  },
  {
   "cell_type": "code",
   "execution_count": null,
   "metadata": {},
   "outputs": [],
   "source": [
    "mins = []\n",
    "maxs = []\n",
    "\n",
    "for index, points in onestructure.items():\n",
    "    arr_tmp = np.array(points)\n",
    "    min_tmp = np.min(arr_tmp, axis=0)\n",
    "    max_tmp = np.max(arr_tmp, axis=0)\n",
    "    mins.append(min_tmp)\n",
    "    maxs.append(max_tmp)"
   ]
  },
  {
   "cell_type": "code",
   "execution_count": null,
   "metadata": {},
   "outputs": [],
   "source": [
    "minx = []\n",
    "miny = []\n",
    "maxx = []\n",
    "maxy = []\n",
    "xss = []\n",
    "for index, points in onestructure.items():\n",
    "    x1 = min([i[0] for i in points])\n",
    "    y1 = min([i[1] for i in points])\n",
    "    minx.append(x1)\n",
    "    miny.append(y1)\n",
    "    x2 = max([i[0] for i in points])\n",
    "    y2 = max([i[1] for i in points])\n",
    "    maxx.append(x2)\n",
    "    maxy.append(y2)\n",
    "    \n",
    "print(min(minx), max(maxx))\n",
    "print(min(miny), max(maxy))"
   ]
  },
  {
   "cell_type": "code",
   "execution_count": null,
   "metadata": {},
   "outputs": [],
   "source": [
    "sections = [int(i) for i in onestructure.keys()]\n",
    "zlength = (max(sections) - min(sections))\n",
    "min_xy = np.min(mins, axis=0)\n",
    "min_x = min_xy[0]\n",
    "min_y = min_xy[1]\n",
    "max_xy = np.max(maxs, axis=0)\n",
    "max_x = max_xy[0]\n",
    "max_y = max_xy[1]\n",
    "xlength = max_x - min_x\n",
    "ylength = max_y - min_y"
   ]
  },
  {
   "cell_type": "code",
   "execution_count": null,
   "metadata": {},
   "outputs": [],
   "source": [
    "print(zlength, int(xlength), int(ylength))\n",
    "print(int(min_x), int(max_x))\n",
    "print(int(min_y), int(max_y))\n",
    "print(min(sections), max(sections))"
   ]
  },
  {
   "cell_type": "code",
   "execution_count": null,
   "metadata": {},
   "outputs": [],
   "source": [
    "section = random.choice(sections)\n",
    "section = 159\n",
    "points = onestructure[str(section)]\n",
    "arr = np.array(np.round(points)).astype(np.int32)\n",
    "np.mean(arr, axis=0)"
   ]
  },
  {
   "cell_type": "code",
   "execution_count": null,
   "metadata": {},
   "outputs": [],
   "source": [
    "x = np.array([[1, 2],[2,3],[4,5]] )\n",
    "x.shape"
   ]
  },
  {
   "cell_type": "code",
   "execution_count": null,
   "metadata": {},
   "outputs": [],
   "source": [
    "mins = []\n",
    "maxs = []\n",
    "avgs = []\n",
    "\n",
    "for section, points in onestructure.items():\n",
    "    lpoints = len(points)\n",
    "    arr_tmp = np.array(points)\n",
    "    min_tmp = np.min(arr_tmp, axis=0)\n",
    "    max_tmp = np.max(arr_tmp, axis=0)\n",
    "    mins.append(min_tmp)\n",
    "    maxs.append(max_tmp)\n",
    "    ss = [int(section) for s in range(lpoints)]\n",
    "    avgarr = np.column_stack((arr_tmp, ss))\n",
    "    com = np.mean(avgarr, axis=0)\n",
    "    avgs.append(com)\n"
   ]
  },
  {
   "cell_type": "code",
   "execution_count": null,
   "metadata": {},
   "outputs": [],
   "source": [
    "avgarr = np.array(avgs)\n",
    "np.mean(avgarr, axis=0)"
   ]
  },
  {
   "cell_type": "code",
   "execution_count": null,
   "metadata": {},
   "outputs": [],
   "source": [
    "INPUT = f'/net/birdstore/Active_Atlas_Data/data_root/pipeline_data/{animal}/preps/CH1/thumbnail_aligned'\n",
    "ORIGINPATH = '/net/birdstore/Active_Atlas_Data/data_root/CSHL/CSHL_volumes/MD585/10.0um_annotationAsScoreVolume'"
   ]
  },
  {
   "cell_type": "code",
   "execution_count": null,
   "metadata": {},
   "outputs": [],
   "source": [
    "structure = '10N_R'\n",
    "onestructure = aligned_dict[structure]\n",
    "#originpath = os.path.join(CSVPATH, 'origin', f'{structure}.txt')\n",
    "originpath = os.path.join(ORIGINPATH, f'{structure}_origin_wrt_wholebrain.txt')\n",
    "origin = np.loadtxt(originpath)\n",
    "print(origin)\n",
    "section = str(int(origin[2]))\n",
    "title = []\n",
    "filepath = os.path.join(INPUT, f'{section}.tif')\n",
    "img = cv2.imread(filepath)\n",
    "for s, points in onestructure.items():\n",
    "    if s == section:\n",
    "        title.append(structure)\n",
    "        arr = np.array(np.round(points)).astype(np.int32)\n",
    "        color = sqlController.get_structure_color_rgb(structure)\n",
    "        #cv2.polylines(img, [arr], isClosed=True, color=color, thickness=3)\n",
    "        #cv2.fillPoly(img, pts = [arr], color = color)\n",
    "        #com = np.mean(arr, axis=0)\n",
    "        #print(com)\n",
    "        #cv2.circle(img, (int(com[0]), int(com[1])), 5, (255,255,200), 2)\n",
    "        cv2.circle(img, (int(origin[0]), int(origin[1])), 5, (255,0,0), 5)\n",
    "\n",
    "\n",
    "fig=plt.figure(figsize=(26,18), dpi= 100, facecolor='w', edgecolor='k')\n",
    "plt.imshow(img, cmap=\"gray\")\n",
    "plt.title(f'{title} on {animal} aligned section:{section}', fontsize=20)\n",
    "plt.tick_params(axis='x', labelsize=30)\n",
    "plt.tick_params(axis='y', labelsize=30)\n",
    "plt.show()"
   ]
  },
  {
   "cell_type": "code",
   "execution_count": null,
   "metadata": {},
   "outputs": [],
   "source": [
    "section = str(319)\n",
    "title = []\n",
    "filepath = os.path.join(INPUT, f'{section}.tif')\n",
    "print(filepath)\n",
    "img = cv2.imread(filepath)\n",
    "for structure, data in aligned_dict.items():\n",
    "    for s, points in data.items():\n",
    "        if s == section:\n",
    "            title.append(structure)\n",
    "            arr = np.array(np.round(points)).astype(np.int32)\n",
    "            color = sqlController.get_structure_color_rgb(structure)\n",
    "            cv2.polylines(img, [arr], isClosed=True, color=color, thickness=3)\n",
    "            cv2.fillPoly(img, pts = [arr], color = color)\n",
    "            com = np.mean(arr, axis=0)\n",
    "            cv2.circle(img, (int(com[0]), int(com[1])), 5, (255,255,200), 2)\n",
    "\n",
    "\n",
    "fig=plt.figure(figsize=(26,18), dpi= 100, facecolor='w', edgecolor='k')\n",
    "plt.imshow(img, cmap=\"gray\")\n",
    "plt.title(f'{title} on {animal} aligned section:{section}', fontsize=20)\n",
    "plt.tick_params(axis='x', labelsize=30)\n",
    "plt.tick_params(axis='y', labelsize=30)\n",
    "plt.show()"
   ]
  },
  {
   "cell_type": "code",
   "execution_count": null,
   "metadata": {},
   "outputs": [],
   "source": [
    "padding = 1.1\n",
    "PADDED_SIZE = (int(ylength*padding), int(xlength*padding))\n",
    "volume = []\n",
    "for section, points in sorted(onestructure.items()):\n",
    "    vertices = np.array(points) - np.array((min_x, min_y))\n",
    "    volume_slice = np.zeros(PADDED_SIZE, dtype=np.uint8)\n",
    "    points = (vertices).astype(np.int32)\n",
    "    volume_slice = cv2.polylines(volume_slice, [points], isClosed=True, color=color, thickness=1)\n",
    "    cv2.fillPoly(volume_slice, pts = [points], color = color)\n",
    "\n",
    "    volume.append(volume_slice)\n",
    "\n",
    "volume = np.array(volume)"
   ]
  },
  {
   "cell_type": "code",
   "execution_count": null,
   "metadata": {},
   "outputs": [],
   "source": [
    "#v = np.array(volume)\n",
    "volume.shape"
   ]
  },
  {
   "cell_type": "code",
   "execution_count": null,
   "metadata": {},
   "outputs": [],
   "source": [
    "flat = arr.flatten()\n",
    "fig = plt.figure()\n",
    "plt.rcParams['figure.figsize'] = [10, 6]\n",
    "plt.hist(flat, bins=20, color='b')\n",
    "plt.style.use('ggplot')\n",
    "plt.yscale('log')\n",
    "plt.grid(axis='y', alpha=0.75)\n",
    "plt.xlabel('Value')\n",
    "plt.ylabel('Frequency')\n",
    "plt.title(f' {arr.dtype}')"
   ]
  },
  {
   "cell_type": "code",
   "execution_count": null,
   "metadata": {
    "scrolled": true
   },
   "outputs": [],
   "source": [
    "arr = volume.copy()\n",
    "print(arr.shape)\n",
    "arr = np.swapaxes(arr, 0, 2)\n",
    "\n",
    "start = 100\n",
    "end = start + 2\n",
    "plt.style.use('classic')\n",
    "plt.rcParams[\"figure.figsize\"] = (8,5)\n",
    "for i in range(start, end):\n",
    "    plt.title('{} Z {}'.format(animal, i))\n",
    "    plt.imshow(arr[i,:,:], cmap=\"cool\")\n",
    "    plt.show()"
   ]
  },
  {
   "cell_type": "code",
   "execution_count": null,
   "metadata": {},
   "outputs": [],
   "source": [
    "sc = '/net/birdstore/Active_Atlas_Data/data_root/CSHL/CSHL_volumes/MD585/10.0um_annotationAsScoreVolume/SC.npy'\n",
    "sc = np.load(sc)\n",
    "arr = sc.copy()\n",
    "print(arr.shape, arr.dtype)\n",
    "start = 100\n",
    "end = start + 2\n",
    "plt.style.use('classic')\n",
    "plt.rcParams[\"figure.figsize\"] = (8,5)\n",
    "for i in range(start, end):\n",
    "    plt.title('{} Z {}'.format(animal, i))\n",
    "    plt.imshow(arr[i,:,:], cmap=\"cool\")\n",
    "    plt.show()"
   ]
  },
  {
   "cell_type": "code",
   "execution_count": null,
   "metadata": {},
   "outputs": [],
   "source": [
    "sc = '/net/birdstore/Active_Atlas_Data/data_root/atlas_data/atlasV8/MD585/structure/SC.npy'\n",
    "sc = np.load(sc)\n",
    "arr = sc.copy()\n",
    "#arr = np.swapaxes(arr, 0, 2)\n",
    "#arr = np.rot90(arr, axes=(1, 2))\n",
    "#arr = np.flip(arr, axis=1)\n",
    "\n",
    "print(arr.shape, arr.dtype)\n",
    "start = 100\n",
    "end = start + 10\n",
    "plt.style.use('classic')\n",
    "plt.rcParams[\"figure.figsize\"] = (8,5)\n",
    "for i in range(start, end):\n",
    "    plt.title('{} Z {}'.format(animal, i))\n",
    "    plt.imshow(arr[i,:,:], cmap=\"cool\")\n",
    "\n",
    "    plt.show()"
   ]
  },
  {
   "cell_type": "code",
   "execution_count": null,
   "metadata": {},
   "outputs": [],
   "source": [
    "DIR = '/net/birdstore/Active_Atlas_Data/data_root'\n",
    "newpath = os.path.join(DIR, 'atlas_data/atlasV8/MD585/origin')\n",
    "for structure in aligned_dict.keys():\n",
    "    newfile = os.path.join(newpath, f'{structure}.txt')\n",
    "    if not os.path.exists(newfile):\n",
    "        print(newpath)\n",
    "        continue\n",
    "    origin = np.loadtxt(newfile)\n",
    "    x, y, z = origin\n",
    "    print(structure, round(x*(10)), round(y*10), round(z*10) )\n"
   ]
  },
  {
   "cell_type": "code",
   "execution_count": null,
   "metadata": {},
   "outputs": [],
   "source": [
    "flat = ratios\n",
    "fig = plt.figure()\n",
    "plt.rcParams['figure.figsize'] = [10, 6]\n",
    "plt.hist(flat, bins=20, color='b')\n",
    "plt.style.use('ggplot')\n",
    "plt.yscale('log')\n",
    "plt.grid(axis='y', alpha=0.75)\n",
    "plt.xlabel('Value')\n",
    "plt.ylabel('Frequency')\n",
    "plt.title(f' ratios')"
   ]
  },
  {
   "cell_type": "code",
   "execution_count": null,
   "metadata": {},
   "outputs": [],
   "source": [
    "10*0.452"
   ]
  }
 ],
 "metadata": {
  "kernelspec": {
   "display_name": "Python 3",
   "language": "python",
   "name": "python3"
  },
  "language_info": {
   "codemirror_mode": {
    "name": "ipython",
    "version": 3
   },
   "file_extension": ".py",
   "mimetype": "text/x-python",
   "name": "python",
   "nbconvert_exporter": "python",
   "pygments_lexer": "ipython3",
   "version": "3.8.10"
  }
 },
 "nbformat": 4,
 "nbformat_minor": 1
}
