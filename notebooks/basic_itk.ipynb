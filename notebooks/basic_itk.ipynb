{
 "cells": [
  {
   "cell_type": "code",
   "execution_count": 1,
   "metadata": {},
   "outputs": [],
   "source": [
    "import numpy as np\n",
    "import matplotlib\n",
    "from matplotlib import pyplot as plt\n",
    "from skimage import io\n",
    "from os.path import expanduser\n",
    "from tqdm import tqdm\n",
    "HOME = expanduser(\"~\")\n",
    "import os, sys\n",
    "import SimpleITK as sitk\n",
    "%load_ext autoreload\n",
    "%autoreload 2"
   ]
  },
  {
   "cell_type": "code",
   "execution_count": 6,
   "metadata": {},
   "outputs": [],
   "source": [
    "animal = 'DK63'\n",
    "DIR = f'/net/birdstore/Active_Atlas_Data/data_root/pipeline_data/{animal}/preps'\n",
    "INPUT = os.path.join(DIR, 'CH1', 'thumbnail_cleaned')\n",
    "ELASTIX = os.path.join(DIR, 'elastix')\n",
    "PATH = os.path.join(HOME, 'programming/pipeline_utility')\n",
    "sys.path.append(PATH)\n",
    "from utilities.registration.utilities_registration import register_test, register, register_simple"
   ]
  },
  {
   "cell_type": "code",
   "execution_count": 3,
   "metadata": {},
   "outputs": [],
   "source": [
    "fixed_index = str(225).zfill(3)\n",
    "moving_index = str(226).zfill(3)"
   ]
  },
  {
   "cell_type": "code",
   "execution_count": 5,
   "metadata": {},
   "outputs": [
    {
     "ename": "RuntimeError",
     "evalue": "Exception thrown in SimpleITK ReadImage: /home/eddyod/programming/SimpleElastix/Code/IO/src/sitkImageReaderBase.cxx:99:\nsitk::ERROR: The file \"/net/birdstore/Active_Atlas_Data/data_root/pipeline_data/DK61/preps/CH1/thumbnail_cleaned/226.tif\" does not exist.",
     "output_type": "error",
     "traceback": [
      "\u001b[0;31m---------------------------------------------------------------------------\u001b[0m",
      "\u001b[0;31mRuntimeError\u001b[0m                              Traceback (most recent call last)",
      "\u001b[0;32m<ipython-input-5-56e6d463e537>\u001b[0m in \u001b[0;36m<module>\u001b[0;34m\u001b[0m\n\u001b[0;32m----> 1\u001b[0;31m \u001b[0mtest_transform\u001b[0m\u001b[0;34m,\u001b[0m \u001b[0mfixed\u001b[0m\u001b[0;34m,\u001b[0m \u001b[0mmoving\u001b[0m\u001b[0;34m,\u001b[0m \u001b[0mR\u001b[0m \u001b[0;34m=\u001b[0m \u001b[0mregister_test\u001b[0m\u001b[0;34m(\u001b[0m\u001b[0mINPUT\u001b[0m\u001b[0;34m,\u001b[0m \u001b[0mfixed_index\u001b[0m\u001b[0;34m,\u001b[0m \u001b[0mmoving_index\u001b[0m\u001b[0;34m)\u001b[0m\u001b[0;34m\u001b[0m\u001b[0;34m\u001b[0m\u001b[0m\n\u001b[0m\u001b[1;32m      2\u001b[0m \u001b[0mtestParameters\u001b[0m \u001b[0;34m=\u001b[0m \u001b[0mtest_transform\u001b[0m\u001b[0;34m.\u001b[0m\u001b[0mGetParameters\u001b[0m\u001b[0;34m(\u001b[0m\u001b[0;34m)\u001b[0m\u001b[0;34m\u001b[0m\u001b[0;34m\u001b[0m\u001b[0m\n\u001b[1;32m      3\u001b[0m \u001b[0mtestFixedParameters\u001b[0m \u001b[0;34m=\u001b[0m \u001b[0mtest_transform\u001b[0m\u001b[0;34m.\u001b[0m\u001b[0mGetFixedParameters\u001b[0m\u001b[0;34m(\u001b[0m\u001b[0;34m)\u001b[0m\u001b[0;34m\u001b[0m\u001b[0;34m\u001b[0m\u001b[0m\n\u001b[1;32m      4\u001b[0m \u001b[0;31m# Always check the reason optimization terminated.\u001b[0m\u001b[0;34m\u001b[0m\u001b[0;34m\u001b[0m\u001b[0;34m\u001b[0m\u001b[0m\n\u001b[1;32m      5\u001b[0m \u001b[0mstop_condition\u001b[0m \u001b[0;34m=\u001b[0m \u001b[0mR\u001b[0m\u001b[0;34m.\u001b[0m\u001b[0mGetOptimizerStopConditionDescription\u001b[0m\u001b[0;34m(\u001b[0m\u001b[0;34m)\u001b[0m\u001b[0;34m\u001b[0m\u001b[0;34m\u001b[0m\u001b[0m\n",
      "\u001b[0;32m~/programming/pipeline_utility/utilities/registration/utilities_registration.py\u001b[0m in \u001b[0;36mregister_test\u001b[0;34m(INPUT, fixed_index, moving_index)\u001b[0m\n\u001b[1;32m    107\u001b[0m     \u001b[0mmoving_file\u001b[0m \u001b[0;34m=\u001b[0m \u001b[0mos\u001b[0m\u001b[0;34m.\u001b[0m\u001b[0mpath\u001b[0m\u001b[0;34m.\u001b[0m\u001b[0mjoin\u001b[0m\u001b[0;34m(\u001b[0m\u001b[0mINPUT\u001b[0m\u001b[0;34m,\u001b[0m \u001b[0;34mf'{moving_index}.tif'\u001b[0m\u001b[0;34m)\u001b[0m\u001b[0;34m\u001b[0m\u001b[0;34m\u001b[0m\u001b[0m\n\u001b[1;32m    108\u001b[0m     \u001b[0mfixed\u001b[0m \u001b[0;34m=\u001b[0m \u001b[0msitk\u001b[0m\u001b[0;34m.\u001b[0m\u001b[0mReadImage\u001b[0m\u001b[0;34m(\u001b[0m\u001b[0mfixed_file\u001b[0m\u001b[0;34m,\u001b[0m \u001b[0mpixelType\u001b[0m\u001b[0;34m)\u001b[0m\u001b[0;34m;\u001b[0m\u001b[0;34m\u001b[0m\u001b[0;34m\u001b[0m\u001b[0m\n\u001b[0;32m--> 109\u001b[0;31m     \u001b[0mmoving\u001b[0m \u001b[0;34m=\u001b[0m \u001b[0msitk\u001b[0m\u001b[0;34m.\u001b[0m\u001b[0mReadImage\u001b[0m\u001b[0;34m(\u001b[0m\u001b[0mmoving_file\u001b[0m\u001b[0;34m,\u001b[0m \u001b[0mpixelType\u001b[0m\u001b[0;34m)\u001b[0m\u001b[0;34m\u001b[0m\u001b[0;34m\u001b[0m\u001b[0m\n\u001b[0m\u001b[1;32m    110\u001b[0m \u001b[0;34m\u001b[0m\u001b[0m\n\u001b[1;32m    111\u001b[0m     initial_transform = sitk.CenteredTransformInitializer(\n",
      "\u001b[0;32m/usr/local/share/pipeline/lib/python3.8/site-packages/SimpleITK-2.0.0rc2.dev910+ga138e-py3.8-linux-x86_64.egg/SimpleITK/SimpleITK.py\u001b[0m in \u001b[0;36mReadImage\u001b[0;34m(*args)\u001b[0m\n\u001b[1;32m   9016\u001b[0m \u001b[0;34m\u001b[0m\u001b[0m\n\u001b[1;32m   9017\u001b[0m     \"\"\"\n\u001b[0;32m-> 9018\u001b[0;31m     \u001b[0;32mreturn\u001b[0m \u001b[0m_SimpleITK\u001b[0m\u001b[0;34m.\u001b[0m\u001b[0mReadImage\u001b[0m\u001b[0;34m(\u001b[0m\u001b[0;34m*\u001b[0m\u001b[0margs\u001b[0m\u001b[0;34m)\u001b[0m\u001b[0;34m\u001b[0m\u001b[0;34m\u001b[0m\u001b[0m\n\u001b[0m\u001b[1;32m   9019\u001b[0m \u001b[0;32mclass\u001b[0m \u001b[0mImageViewer\u001b[0m\u001b[0;34m(\u001b[0m\u001b[0m_object\u001b[0m\u001b[0;34m)\u001b[0m\u001b[0;34m:\u001b[0m\u001b[0;34m\u001b[0m\u001b[0;34m\u001b[0m\u001b[0m\n\u001b[1;32m   9020\u001b[0m     \"\"\"\n",
      "\u001b[0;31mRuntimeError\u001b[0m: Exception thrown in SimpleITK ReadImage: /home/eddyod/programming/SimpleElastix/Code/IO/src/sitkImageReaderBase.cxx:99:\nsitk::ERROR: The file \"/net/birdstore/Active_Atlas_Data/data_root/pipeline_data/DK61/preps/CH1/thumbnail_cleaned/226.tif\" does not exist."
     ]
    }
   ],
   "source": [
    "test_transform, fixed, moving, R = register_test(INPUT, fixed_index, moving_index)\n",
    "testParameters = test_transform.GetParameters()\n",
    "testFixedParameters = test_transform.GetFixedParameters()\n",
    "# Always check the reason optimization terminated.\n",
    "stop_condition = R.GetOptimizerStopConditionDescription()\n",
    "iterations = R.GetOptimizerIteration()\n",
    "metric_value = R.GetMetricValue()\n",
    "\n",
    "print(f'Final metric value: {metric_value}')\n",
    "print(f'Optimizer\\'s stopping condition, {stop_condition}')\n",
    "print('final', testParameters)\n",
    "print('fixed', testFixedParameters)"
   ]
  },
  {
   "cell_type": "code",
   "execution_count": null,
   "metadata": {},
   "outputs": [],
   "source": [
    "%%time\n",
    "# register\n",
    "#final_transform = register(INPUT, fixed_index, moving_index)\n",
    "files = sorted(os.listdir(INPUT))\n",
    "for f in range(len(files) - 1):\n",
    "    fixed_index = str(f).zfill(3)\n",
    "    moving_index = str(f+1).zfill(3)\n",
    "    outdir = os.path.join(ELASTIX, f'{moving_index}_to_{fixed_index}')\n",
    "    os.makedirs(outdir, exist_ok=True)\n",
    "    outfile = os.path.join(outdir, 'TransformParameters.0.txt')\n",
    "    \n",
    "    if os.path.exists(outfile):\n",
    "        continue\n",
    "    \n",
    "    final_transform = register(INPUT, fixed_index, moving_index)\n",
    "    R, xshift, yshift = final_transform.GetParameters()\n",
    "    midx, midy = final_transform.GetFixedParameters()\n",
    "\n",
    "    f = open(outfile, \"a\")\n",
    "    f.write(f\"(TransformParameters {R} {xshift} {yshift})\\n\")\n",
    "    f.write(f\"(CenterOfRotationPoint {midx} {midy})\\n\")\n",
    "    f.write(\"(Spacing 1.0 1.0)\\n\")\n",
    "    f.close()\n"
   ]
  },
  {
   "cell_type": "code",
   "execution_count": null,
   "metadata": {},
   "outputs": [],
   "source": [
    "f = sitk.SimpleElastix()\n",
    "#test_transform = register_simple(INPUT, fixed_index, moving_index)\n"
   ]
  },
  {
   "cell_type": "code",
   "execution_count": null,
   "metadata": {
    "scrolled": true
   },
   "outputs": [],
   "source": [
    "moving_resampled = sitk.Resample(moving, fixed, final_transform, sitk.sitkLinear, 0.0, moving.GetPixelID())\n",
    "fig = plt.figure(figsize=(15,8))\n",
    "plt.imshow(sitk.GetArrayViewFromImage(fixed), cmap='gray')\n",
    "plt.grid()\n",
    "plt.title('fixed image', fontsize=10)\n",
    "\n",
    "fig = plt.figure(figsize=(15, 8))\n",
    "plt.imshow(sitk.GetArrayViewFromImage(moving_resampled), cmap='gray')\n",
    "plt.grid()\n",
    "plt.title('resampled image')\n",
    "\n",
    "fig = plt.figure(figsize=(15, 8))\n",
    "plt.title('moving image')\n",
    "plt.grid()\n",
    "plt.imshow(sitk.GetArrayViewFromImage(moving), cmap='gray')\n",
    "    "
   ]
  },
  {
   "cell_type": "code",
   "execution_count": null,
   "metadata": {},
   "outputs": [],
   "source": [
    "#geometry Final metric value: -0.3050850951798145\n",
    "#Optimizer's stopping condition, RegularStepGradientDescentOptimizerv4: Step too small after 69 iterations. Current step (6.10352e-05) is less than minimum step (0.0001).\n",
    "#rotation, xshift, yshift (0.002372645049694355, 1.06484770727788, -29.715144692551913)\n",
    "\n",
    "#moments Final metric value: -0.31838088083076627\n",
    "#Optimizer's stopping condition, RegularStepGradientDescentOptimizerv4: Maximum number of iterations (80) exceeded.\n",
    "#rotation, xshift, yshift (-0.0034537801668540033, -28.17482735969523, -45.74971520579796)\n",
    "\n",
    "#moments, with no Setoptscales Final metric value: -0.31014666630255233\n",
    "#Optimizer's stopping condition, RegularStepGradientDescentOptimizerv4: Step too small after 26 iterations. .\n",
    "#rotation, xshift, yshift (-0.06870509561607951, -4.210244784366168, -35.41774791170732)\n",
    "\n",
    "# means square\n",
    "#rotation, xshift, yshift (-0.004593785628556457, -28.54399266359482, -45.8018880776268)\n",
    "\n",
    "#simialarity Final metric value: -0.3653938756091227\n",
    "#Optimizer's stopping condition, RegularStepGradientDescentOptimizerv4: Maximum number of iterations (80) exceeded.\n",
    "#rotation, xshift, yshift (0.9354990407253294, 0.006315032681630877, -47.83047698059379, -41.41794215960105)"
   ]
  },
  {
   "cell_type": "code",
   "execution_count": null,
   "metadata": {},
   "outputs": [],
   "source": [
    "0.9354990407253294 * 0.006315032681630877"
   ]
  }
 ],
 "metadata": {
  "kernelspec": {
   "display_name": "Python 3",
   "language": "python",
   "name": "python3"
  },
  "language_info": {
   "codemirror_mode": {
    "name": "ipython",
    "version": 3
   },
   "file_extension": ".py",
   "mimetype": "text/x-python",
   "name": "python",
   "nbconvert_exporter": "python",
   "pygments_lexer": "ipython3",
   "version": "3.8.10"
  }
 },
 "nbformat": 4,
 "nbformat_minor": 4
}
