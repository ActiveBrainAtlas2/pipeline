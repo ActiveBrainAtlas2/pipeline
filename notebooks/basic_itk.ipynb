{
 "cells": [
  {
   "cell_type": "code",
   "execution_count": null,
   "metadata": {},
   "outputs": [],
   "source": [
    "import numpy as np\n",
    "import matplotlib\n",
    "from matplotlib import pyplot as plt\n",
    "from skimage import io\n",
    "from os.path import expanduser\n",
    "from tqdm import tqdm\n",
    "HOME = expanduser(\"~\")\n",
    "import os, sys\n",
    "import SimpleITK as sitk\n",
    "%load_ext autoreload\n",
    "%autoreload 2"
   ]
  },
  {
   "cell_type": "code",
   "execution_count": null,
   "metadata": {},
   "outputs": [],
   "source": [
    "animal = 'DK39'\n",
    "DIR = f'/net/birdstore/Active_Atlas_Data/data_root/pipeline_data/{animal}/preps'\n",
    "INPUT = os.path.join(DIR, 'CH1', 'thumbnail_cleaned')\n",
    "MASKED = os.path.join(DIR, 'rotated_masked')\n",
    "ELASTIX = os.path.join(DIR, 'elastix')"
   ]
  },
  {
   "cell_type": "code",
   "execution_count": null,
   "metadata": {},
   "outputs": [],
   "source": [
    "PATH = '/home/eddyod/programming/pipeline_utility'\n",
    "sys.path.append(PATH)\n",
    "from utilities.utilities_registration import register_test, register"
   ]
  },
  {
   "cell_type": "code",
   "execution_count": null,
   "metadata": {},
   "outputs": [],
   "source": [
    "# dk39, 169, 170 have a lot of shift and rotation\n",
    "# 113, 114\n",
    "# 137, 138 rotation off\n",
    "# 192 193 shift off\n",
    "fixed_index = str(215).zfill(3)\n",
    "moving_index = str(216).zfill(3)\n",
    "\n",
    "final_transform, fixed, moving, R = register_test(MASKED, INPUT, fixed_index, moving_index)    \n",
    "\n",
    "# Always check the reason optimization terminated.\n",
    "stop_condition = R.GetOptimizerStopConditionDescription()\n",
    "iterations = R.GetOptimizerIteration()\n",
    "metric_value = R.GetMetricValue()\n",
    "finalParameters = final_transform.GetParameters()\n",
    "fixedParameters = final_transform.GetFixedParameters()\n",
    "\n",
    "print(f'Final metric value: {metric_value}')\n",
    "print(f'Optimizer\\'s stopping condition, {stop_condition}')\n",
    "print('rotation, xshift, yshift', finalParameters)\n",
    "print('center', fixedParameters)"
   ]
  },
  {
   "cell_type": "code",
   "execution_count": null,
   "metadata": {
    "scrolled": true
   },
   "outputs": [],
   "source": [
    "moving_resampled = sitk.Resample(moving, fixed, final_transform, sitk.sitkLinear, 0.0, moving.GetPixelID())\n",
    "fig = plt.figure(figsize=(15,8))\n",
    "plt.imshow(sitk.GetArrayViewFromImage(fixed), cmap='gray')\n",
    "plt.grid()\n",
    "plt.title('fixed image', fontsize=10)\n",
    "\n",
    "fig = plt.figure(figsize=(15, 8))\n",
    "plt.imshow(sitk.GetArrayViewFromImage(moving_resampled), cmap='gray')\n",
    "plt.grid()\n",
    "plt.title('resampled image')\n",
    "\n",
    "fig = plt.figure(figsize=(15, 8))\n",
    "plt.title('moving image')\n",
    "plt.grid()\n",
    "plt.imshow(sitk.GetArrayViewFromImage(moving), cmap='gray')\n",
    "    "
   ]
  },
  {
   "cell_type": "code",
   "execution_count": null,
   "metadata": {},
   "outputs": [],
   "source": [
    "#geometry Final metric value: -0.3050850951798145\n",
    "#Optimizer's stopping condition, RegularStepGradientDescentOptimizerv4: Step too small after 69 iterations. Current step (6.10352e-05) is less than minimum step (0.0001).\n",
    "#rotation, xshift, yshift (0.002372645049694355, 1.06484770727788, -29.715144692551913)\n",
    "\n",
    "#moments Final metric value: -0.31838088083076627\n",
    "#Optimizer's stopping condition, RegularStepGradientDescentOptimizerv4: Maximum number of iterations (80) exceeded.\n",
    "#rotation, xshift, yshift (-0.0034537801668540033, -28.17482735969523, -45.74971520579796)\n",
    "\n",
    "#moments, with no Setoptscales Final metric value: -0.31014666630255233\n",
    "#Optimizer's stopping condition, RegularStepGradientDescentOptimizerv4: Step too small after 26 iterations. .\n",
    "#rotation, xshift, yshift (-0.06870509561607951, -4.210244784366168, -35.41774791170732)\n",
    "\n",
    "# means square\n",
    "#rotation, xshift, yshift (-0.004593785628556457, -28.54399266359482, -45.8018880776268)\n",
    "\n",
    "#simialarity Final metric value: -0.3653938756091227\n",
    "#Optimizer's stopping condition, RegularStepGradientDescentOptimizerv4: Maximum number of iterations (80) exceeded.\n",
    "#rotation, xshift, yshift (0.9354990407253294, 0.006315032681630877, -47.83047698059379, -41.41794215960105)"
   ]
  },
  {
   "cell_type": "code",
   "execution_count": null,
   "metadata": {},
   "outputs": [],
   "source": [
    "0.9354990407253294 * 0.006315032681630877"
   ]
  }
 ],
 "metadata": {
  "kernelspec": {
   "display_name": "Python 3",
   "language": "python",
   "name": "python3"
  },
  "language_info": {
   "codemirror_mode": {
    "name": "ipython",
    "version": 3
   },
   "file_extension": ".py",
   "mimetype": "text/x-python",
   "name": "python",
   "nbconvert_exporter": "python",
   "pygments_lexer": "ipython3",
   "version": "3.8.5"
  }
 },
 "nbformat": 4,
 "nbformat_minor": 4
}
