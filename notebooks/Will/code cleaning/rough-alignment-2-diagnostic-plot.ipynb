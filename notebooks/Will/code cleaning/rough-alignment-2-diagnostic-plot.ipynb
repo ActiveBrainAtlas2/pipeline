{
 "cells": [
  {
   "cell_type": "markdown",
   "metadata": {},
   "source": [
    "# Rough Alignment 2: Diagnostic Plot"
   ]
  },
  {
   "cell_type": "code",
   "execution_count": 1,
   "metadata": {},
   "outputs": [],
   "source": [
    "from pathlib import Path\n",
    "\n",
    "import matplotlib.pyplot as plt\n",
    "from matplotlib.backends.backend_pdf import PdfPages\n",
    "import numpy as np\n",
    "import SimpleITK as sitk\n",
    "\n",
    "import utility"
   ]
  },
  {
   "cell_type": "markdown",
   "metadata": {},
   "source": [
    "## Load Images and Transformations"
   ]
  },
  {
   "cell_type": "code",
   "execution_count": 2,
   "metadata": {},
   "outputs": [],
   "source": [
    "mov_brain = 'DK52'\n",
    "fix_brain = 'DK43'\n",
    "thumb_spacing = (10.4, 10.4, 20.0)"
   ]
  },
  {
   "cell_type": "code",
   "execution_count": 3,
   "metadata": {},
   "outputs": [],
   "source": [
    "data_dir = Path('/net/birdstore/Active_Atlas_Data/data_root/pipeline_data')\n",
    "mov_img_thumb_dir = data_dir / mov_brain / 'preps/CH1/thumbnail_aligned'\n",
    "fix_img_thumb_dir = data_dir / fix_brain / 'preps/CH1/thumbnail_aligned'\n",
    "affine_save_path = f'../data/automatic-alignment/{fix_brain}/1-affine.tfm'\n",
    "demons_save_path = f'../data/automatic-alignment/{fix_brain}/1-demons.tfm'"
   ]
  },
  {
   "cell_type": "code",
   "execution_count": 4,
   "metadata": {},
   "outputs": [
    {
     "name": "stdout",
     "output_type": "stream",
     "text": [
      "CPU times: user 18.3 s, sys: 5.78 s, total: 24.1 s\n",
      "Wall time: 18.8 s\n"
     ]
    }
   ],
   "source": [
    "%%time\n",
    "moving_image = utility.load_image_dir(mov_img_thumb_dir, spacing=thumb_spacing)"
   ]
  },
  {
   "cell_type": "code",
   "execution_count": 5,
   "metadata": {},
   "outputs": [
    {
     "name": "stdout",
     "output_type": "stream",
     "text": [
      "CPU times: user 12.9 s, sys: 3.14 s, total: 16 s\n",
      "Wall time: 13.2 s\n"
     ]
    }
   ],
   "source": [
    "%%time\n",
    "fixed_image = utility.load_image_dir(fix_img_thumb_dir, spacing=thumb_spacing)"
   ]
  },
  {
   "cell_type": "code",
   "execution_count": 6,
   "metadata": {},
   "outputs": [
    {
     "name": "stdout",
     "output_type": "stream",
     "text": [
      "CPU times: user 0 ns, sys: 811 µs, total: 811 µs\n",
      "Wall time: 523 µs\n"
     ]
    }
   ],
   "source": [
    "%%time\n",
    "affine_transform = sitk.ReadTransform(affine_save_path)"
   ]
  },
  {
   "cell_type": "code",
   "execution_count": 7,
   "metadata": {},
   "outputs": [
    {
     "name": "stdout",
     "output_type": "stream",
     "text": [
      "CPU times: user 27.6 s, sys: 2.43 s, total: 30 s\n",
      "Wall time: 30 s\n"
     ]
    }
   ],
   "source": [
    "%%time\n",
    "demons_transform = sitk.ReadTransform(demons_save_path)"
   ]
  },
  {
   "cell_type": "markdown",
   "metadata": {},
   "source": [
    "## Apply Transformations"
   ]
  },
  {
   "cell_type": "code",
   "execution_count": 8,
   "metadata": {},
   "outputs": [
    {
     "name": "stdout",
     "output_type": "stream",
     "text": [
      "CPU times: user 42.7 s, sys: 3.87 s, total: 46.6 s\n",
      "Wall time: 3.24 s\n"
     ]
    }
   ],
   "source": [
    "%%time\n",
    "affine_transformed_image = sitk.Resample(\n",
    "    moving_image, fixed_image, affine_transform,\n",
    "    sitk.sitkLinear, 0.0, moving_image.GetPixelID()\n",
    ")"
   ]
  },
  {
   "cell_type": "code",
   "execution_count": 9,
   "metadata": {},
   "outputs": [
    {
     "name": "stdout",
     "output_type": "stream",
     "text": [
      "CPU times: user 3min 22s, sys: 3.06 s, total: 3min 25s\n",
      "Wall time: 14.2 s\n"
     ]
    }
   ],
   "source": [
    "%%time\n",
    "demons_transformed_image = sitk.Resample(\n",
    "    moving_image, fixed_image, demons_transform,\n",
    "    sitk.sitkLinear, 0.0, moving_image.GetPixelID()\n",
    ")"
   ]
  },
  {
   "cell_type": "markdown",
   "metadata": {},
   "source": [
    "## Plot & Save"
   ]
  },
  {
   "cell_type": "code",
   "execution_count": 10,
   "metadata": {},
   "outputs": [],
   "source": [
    "z_step = 10"
   ]
  },
  {
   "cell_type": "code",
   "execution_count": 11,
   "metadata": {},
   "outputs": [],
   "source": [
    "# convert all images to arrays\n",
    "fixed_arr = sitk.GetArrayViewFromImage(fixed_image)\n",
    "affine_transformed_arr = sitk.GetArrayViewFromImage(affine_transformed_image)\n",
    "demons_transformed_arr = sitk.GetArrayViewFromImage(demons_transformed_image)"
   ]
  },
  {
   "cell_type": "markdown",
   "metadata": {},
   "source": [
    "### General Diagnostic Plots"
   ]
  },
  {
   "cell_type": "code",
   "execution_count": 12,
   "metadata": {},
   "outputs": [
    {
     "name": "stdout",
     "output_type": "stream",
     "text": [
      "Finished!\n"
     ]
    }
   ],
   "source": [
    "save_path = f'../data/automatic-alignment/{fix_brain}/1-diagnostics.pdf'\n",
    "figure_kwargs = {\n",
    "    'dpi': 200,\n",
    "    'figsize': (8, 6),\n",
    "}\n",
    "imshow_kwargs = {\n",
    "    'aspect':'equal',\n",
    "    'cmap': 'gray',\n",
    "}\n",
    "with PdfPages(save_path) as pdf:\n",
    "    sz = fixed_arr.shape[0]\n",
    "    for z in range(0, sz, z_step):\n",
    "        print(f'{z}/{sz}', end='\\r')\n",
    "        fig, ax = plt.subplots(1, 3, **figure_kwargs)\n",
    "        ax[0].imshow(affine_transformed_arr[z,:,:].T, **imshow_kwargs)\n",
    "        ax[0].set_title(f'{mov_brain} after Affine')\n",
    "        ax[0].set_axis_off()\n",
    "        ax[1].imshow(demons_transformed_arr[z,:,:].T, **imshow_kwargs)\n",
    "        ax[1].set_title(f'{mov_brain} after Demons')\n",
    "        ax[1].set_axis_off()\n",
    "        ax[2].imshow(fixed_arr[z,:,:].T, **imshow_kwargs)\n",
    "        ax[2].set_title(f'{fix_brain} Fixed')\n",
    "        ax[2].set_axis_off()\n",
    "        fig.suptitle(f'z = {z}')\n",
    "        fig.tight_layout()\n",
    "        pdf.savefig(fig)\n",
    "        plt.close()\n",
    "print('Finished!')"
   ]
  },
  {
   "cell_type": "markdown",
   "metadata": {},
   "source": [
    "### Alternating Plots"
   ]
  },
  {
   "cell_type": "code",
   "execution_count": 13,
   "metadata": {},
   "outputs": [
    {
     "name": "stdout",
     "output_type": "stream",
     "text": [
      "Finished!\n"
     ]
    }
   ],
   "source": [
    "save_path = f'../data/automatic-alignment/{fix_brain}/1-diagnostics-alt.pdf'\n",
    "figure_kwargs = {\n",
    "    'dpi': 200,\n",
    "    'figsize': (8, 6),\n",
    "}\n",
    "imshow_kwargs = {\n",
    "    'aspect':'equal',\n",
    "    'cmap': 'gray',\n",
    "}\n",
    "with PdfPages(save_path) as pdf:\n",
    "    sz = fixed_arr.shape[0]\n",
    "    for z in range(0, sz, z_step):\n",
    "        print(f'{z}/{sz}', end='\\r')\n",
    "        \n",
    "        fig = plt.figure(**figure_kwargs)\n",
    "        plt.imshow(fixed_arr[z,:,:], **imshow_kwargs)\n",
    "        plt.title(f'z = {z}\\n{fix_brain} Fixed')\n",
    "        plt.axis('off')\n",
    "        pdf.savefig(fig)\n",
    "        plt.close()\n",
    "\n",
    "        fig = plt.figure(**figure_kwargs)\n",
    "        plt.imshow(affine_transformed_arr[z,:,:], **imshow_kwargs)\n",
    "        plt.title(f'z = {z}\\n{mov_brain} after Affine')\n",
    "        plt.axis('off')\n",
    "        pdf.savefig(fig)\n",
    "        plt.close()\n",
    "\n",
    "        fig = plt.figure(**figure_kwargs)\n",
    "        plt.imshow(demons_transformed_arr[z,:,:], **imshow_kwargs)\n",
    "        plt.title(f'z = {z}\\n{mov_brain} after Demons')\n",
    "        plt.axis('off')\n",
    "        pdf.savefig(fig)\n",
    "        plt.close()\n",
    "\n",
    "        fig = plt.figure(**figure_kwargs)\n",
    "        plt.imshow(fixed_arr[z,:,:], **imshow_kwargs)\n",
    "        plt.title(f'z = {z}\\n{fix_brain} Fixed')\n",
    "        plt.axis('off')\n",
    "        pdf.savefig(fig)\n",
    "        plt.close()\n",
    "print('Finished!')"
   ]
  }
 ],
 "metadata": {
  "interpreter": {
   "hash": "2bd29f7b10431261d8beeb897d602198a8ccc2be7cc6f93af9f327223ffe0508"
  },
  "kernelspec": {
   "display_name": "Python 3.6.9 64-bit ('pipeline': venv)",
   "name": "python3"
  },
  "language_info": {
   "name": "python",
   "version": ""
  }
 },
 "nbformat": 4,
 "nbformat_minor": 5
}