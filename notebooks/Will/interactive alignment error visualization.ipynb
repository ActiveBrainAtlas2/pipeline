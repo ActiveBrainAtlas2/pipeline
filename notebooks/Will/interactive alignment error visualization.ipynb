{
 "cells": [
  {
   "cell_type": "markdown",
   "id": "a86224cf",
   "metadata": {},
   "source": [
    "# Alignment Error Visualization\n",
    "\n",
    "This notebook collects COM data from the database and tries to quantify some alignment errors. The main results are shown in the plots at the end of the notebook."
   ]
  },
  {
   "cell_type": "code",
   "execution_count": 16,
   "id": "116fa24e",
   "metadata": {},
   "outputs": [],
   "source": [
    "import os\n",
    "import sys\n",
    "from pathlib import Path\n",
    "import numpy as np\n",
    "import pandas as pd\n",
    "import seaborn as sns\n",
    "from matplotlib.backends.backend_pdf import PdfPages\n",
    "from sqlalchemy import func\n",
    "pipeline_utility_root = '/home/zhw272/programming/pipeline_utility'\n",
    "sys.path.append(pipeline_utility_root)\n",
    "from utilities.model.center_of_mass import CenterOfMass\n",
    "from utilities.model.structure import Structure\n",
    "from sql_setup import session\n",
    "import plotly.express as px"
   ]
  },
  {
   "cell_type": "code",
   "execution_count": 9,
   "id": "6342efe3-8054-4acd-9dc6-8a5d22d87ba3",
   "metadata": {},
   "outputs": [],
   "source": [
    "# configurations for brains\n",
    "brains_to_extract_common_structures = ['DK39', 'DK41', 'DK43', 'DK54', 'DK55']\n",
    "brains_to_examine = ['DK39', 'DK41', 'DK43', 'DK52', 'DK54', 'DK55']"
   ]
  },
  {
   "cell_type": "markdown",
   "id": "f44ad938",
   "metadata": {},
   "source": [
    "## Data Collection"
   ]
  },
  {
   "cell_type": "code",
   "execution_count": 10,
   "id": "1ab15eee",
   "metadata": {},
   "outputs": [],
   "source": [
    "def query_brain_coms(brain, person_id=28, input_type_id=4):\n",
    "    # default: person is bili, input_type is aligned\n",
    "    rows = session.query(CenterOfMass)\\\n",
    "        .filter(CenterOfMass.active.is_(True))\\\n",
    "        .filter(CenterOfMass.prep_id == brain)\\\n",
    "        .filter(CenterOfMass.person_id == person_id)\\\n",
    "        .filter(CenterOfMass.input_type_id == input_type_id)\\\n",
    "        .all()\n",
    "    row_dict = {}\n",
    "    for row in rows:\n",
    "        structure = row.structure.abbreviation\n",
    "        row_dict[structure] = np.array([row.x, row.y, row.section])\n",
    "    return row_dict"
   ]
  },
  {
   "cell_type": "code",
   "execution_count": 11,
   "id": "81840868",
   "metadata": {
    "collapsed": true
   },
   "outputs": [
    {
     "name": "stdout",
     "output_type": "stream",
     "text": [
      "No histology for Atlas\n",
      "No scan run for Atlas\n"
     ]
    }
   ],
   "source": [
    "from utilities.sqlcontroller import SqlController\n",
    "\n",
    "def get_atlas_centers(\n",
    "        atlas_box_size=(1000, 1000, 300),\n",
    "        atlas_box_scales=(10, 10, 20),\n",
    "        atlas_raw_scale=10\n",
    "):\n",
    "    atlas_box_scales = np.array(atlas_box_scales)\n",
    "    atlas_box_size = np.array(atlas_box_size)\n",
    "    atlas_box_center = atlas_box_size / 2\n",
    "    sqlController = SqlController('Atlas')\n",
    "    # person is lauren, input_type is manual\n",
    "    atlas_centers = sqlController.get_centers_dict('Atlas', input_type_id=1, person_id=16)\n",
    "\n",
    "    for structure, center in atlas_centers.items():\n",
    "        # transform into the atlas box coordinates that neuroglancer assumes\n",
    "        center = atlas_box_center + np.array(center) * atlas_raw_scale / atlas_box_scales\n",
    "        atlas_centers[structure] = center\n",
    "\n",
    "    return atlas_centers\n",
    "\n",
    "atlas_coms = get_atlas_centers()"
   ]
  },
  {
   "cell_type": "code",
   "execution_count": 12,
   "id": "397b771f-50da-4219-992e-0d7d0b96b0a0",
   "metadata": {
    "collapsed": true
   },
   "outputs": [
    {
     "data": {
      "text/plain": [
       "['10N_L',\n",
       " '10N_R',\n",
       " '3N_L',\n",
       " '3N_R',\n",
       " '4N_L',\n",
       " '4N_R',\n",
       " '5N_L',\n",
       " '5N_R',\n",
       " '6N_L',\n",
       " '6N_R',\n",
       " '7N_L',\n",
       " '7N_R',\n",
       " 'DC_L',\n",
       " 'DC_R',\n",
       " 'LC_L',\n",
       " 'LC_R',\n",
       " 'LRt_L',\n",
       " 'LRt_R',\n",
       " 'Pn_L',\n",
       " 'Pn_R',\n",
       " 'SC',\n",
       " 'Tz_L',\n",
       " 'Tz_R']"
      ]
     },
     "execution_count": 12,
     "metadata": {},
     "output_type": "execute_result"
    }
   ],
   "source": [
    "common_structures = set()\n",
    "for brain in brains_to_extract_common_structures:\n",
    "    common_structures = common_structures | set(query_brain_coms(brain).keys())\n",
    "common_structures = list(sorted(common_structures))\n",
    "common_structures"
   ]
  },
  {
   "cell_type": "code",
   "execution_count": 63,
   "id": "327f59c4",
   "metadata": {},
   "outputs": [],
   "source": [
    "def prepare_table(brains, person_id, input_type_id, save_path):\n",
    "    df_save = prepare_table_for_save(\n",
    "        brains,\n",
    "        person_id=person_id,\n",
    "        input_type_id=input_type_id\n",
    "    )\n",
    "    df_save.to_csv(save_path, index=False)\n",
    "    \n",
    "    df = prepare_table_for_plot(\n",
    "        brains,\n",
    "        person_id=person_id,\n",
    "        input_type_id=input_type_id\n",
    "    )\n",
    "\n",
    "    return df_save, df\n",
    "\n",
    "def get_brain_coms(brains, person_id, input_type_id):\n",
    "    brain_coms = {}\n",
    "    for brain in brains:\n",
    "        brain_coms[brain] = query_brain_coms(\n",
    "            brain,\n",
    "            person_id=person_id,\n",
    "            input_type_id=input_type_id\n",
    "        )\n",
    "        # A temporary hack: for ('DK55', corrected), use ('DK55', aligned)\n",
    "        if (brain, input_type_id) == ('DK55', 2):\n",
    "            brain_coms[brain] = query_brain_coms(\n",
    "                brain,\n",
    "                person_id=person_id,\n",
    "                input_type_id=4\n",
    "            )\n",
    "    return brain_coms\n",
    "\n",
    "def prepare_table_for_save(brains, person_id, input_type_id):\n",
    "    brain_coms = get_brain_coms(brains, person_id, input_type_id)\n",
    "\n",
    "    data = {}\n",
    "    data['name'] = []\n",
    "    for s in common_structures:\n",
    "        for c in ['dx', 'dy', 'dz', 'dist']:\n",
    "            data['name'] += [f'{s}_{c}']\n",
    "    for brain in brain_coms.keys():\n",
    "        data[brain] = []\n",
    "        offset = [brain_coms[brain][s] - atlas_coms[s]\n",
    "                  if s in brain_coms[brain] else [np.nan, np.nan, np.nan]\n",
    "                  for s in common_structures]\n",
    "        offset = np.array(offset)\n",
    "        scale = np.array([10, 10, 20])\n",
    "        dx, dy, dz = (offset * scale).T\n",
    "        dist = np.sqrt(dx * dx + dy * dy + dz * dz)\n",
    "        for dx_i, dy_i, dz_i, dist_i in zip(dx, dy, dz, dist):\n",
    "            data[brain] += [dx_i, dy_i, dz_i, dist_i]\n",
    "    df = pd.DataFrame(data)\n",
    "\n",
    "    return df\n",
    "\n",
    "def get_row(row_type = 'dx'):\n",
    "    global dx,dy,dz,dist,structurei\n",
    "    row = {}\n",
    "    row['structure'] = row_type +'_'+ common_structures[structurei] \n",
    "    row['value'] = eval(row_type+'[structurei]')\n",
    "    row['type'] = row_type\n",
    "    return row\n",
    "\n",
    "\n",
    "def prepare_table_for_plot(brains, person_id, input_type_id):\n",
    "    global dx,dy,dz,dist,structurei\n",
    "\n",
    "    brain_coms = get_brain_coms(brains, person_id, input_type_id)\n",
    "\n",
    "    df = pd.DataFrame()\n",
    "    for brain in brain_coms.keys():\n",
    "        offset = [brain_coms[brain][s] - atlas_coms[s]\n",
    "                  if s in brain_coms[brain] else [np.nan, np.nan, np.nan]\n",
    "                  for s in common_structures]\n",
    "        offset = np.array(offset)\n",
    "        scale = np.array([10, 10, 20])\n",
    "        dx, dy, dz = (offset * scale).T\n",
    "        dist = np.sqrt(dx * dx + dy * dy + dz * dz)\n",
    "\n",
    "        df_brain = pd.DataFrame()\n",
    "        \n",
    "        n_structures = len(common_structures)\n",
    "        for structurei in range(n_structures):\n",
    "            row = get_row('dx')\n",
    "            df_brain = df_brain.append(pd.DataFrame(row,index=[0]), ignore_index=True)\n",
    "            row = get_row('dy')\n",
    "            df_brain = df_brain.append(pd.DataFrame(row,index=[0]), ignore_index=True)\n",
    "            row = get_row('dz')\n",
    "            df_brain = df_brain.append(pd.DataFrame(row,index=[0]), ignore_index=True)\n",
    "            row = get_row('dist')\n",
    "            df_brain = df_brain.append(pd.DataFrame(row,index=[0]), ignore_index=True)\n",
    "\n",
    "        df_brain['brain'] = brain\n",
    "        df = df.append(df_brain, ignore_index=True)\n",
    "    return df"
   ]
  },
  {
   "cell_type": "markdown",
   "id": "a021b972",
   "metadata": {},
   "source": [
    "## Rigid Alignment Error\n",
    "\n",
    "Rigid alignment error is computed as follows:\n",
    "1. Anotomist manually annotate the COMs for each brain.\n",
    "2. Computer finds the best transformation between atlas COMs and **anotomist's manual COMs**. The transformation is restricted to rigid + uniform scaling.\n",
    "3. Using the transformation, the **anotomist's manual COMs** are brought to the atlas space.\n",
    "4. The errors between the 2 sets of COMs are calculated, and displayed in the following plots.\n",
    "\n",
    "The errors for a single structure are quantified by 4 numbers: dx, dy, dz, dist. (dx, dy, dz) are the offset. dist is the corresponding distance of the offset."
   ]
  },
  {
   "cell_type": "code",
   "execution_count": 57,
   "id": "f2843009",
   "metadata": {},
   "outputs": [
    {
     "data": {
      "text/plain": [
       "'/home/zhw272/programming/pipeline_utility'"
      ]
     },
     "execution_count": 57,
     "metadata": {},
     "output_type": "execute_result"
    }
   ],
   "source": [
    "pipeline_utility_root"
   ]
  },
  {
   "cell_type": "code",
   "execution_count": 78,
   "id": "ee68c20f-5af1-430d-a347-6ed2954d568e",
   "metadata": {},
   "outputs": [
    {
     "data": {
      "text/html": [
       "<div>\n",
       "<style scoped>\n",
       "    .dataframe tbody tr th:only-of-type {\n",
       "        vertical-align: middle;\n",
       "    }\n",
       "\n",
       "    .dataframe tbody tr th {\n",
       "        vertical-align: top;\n",
       "    }\n",
       "\n",
       "    .dataframe thead th {\n",
       "        text-align: right;\n",
       "    }\n",
       "</style>\n",
       "<table border=\"1\" class=\"dataframe\">\n",
       "  <thead>\n",
       "    <tr style=\"text-align: right;\">\n",
       "      <th></th>\n",
       "      <th>structure</th>\n",
       "      <th>value</th>\n",
       "      <th>type</th>\n",
       "      <th>brain</th>\n",
       "    </tr>\n",
       "  </thead>\n",
       "  <tbody>\n",
       "    <tr>\n",
       "      <th>0</th>\n",
       "      <td>dx_10N_L</td>\n",
       "      <td>-886.170000</td>\n",
       "      <td>dx</td>\n",
       "      <td>DK39</td>\n",
       "    </tr>\n",
       "    <tr>\n",
       "      <th>1</th>\n",
       "      <td>dy_10N_L</td>\n",
       "      <td>346.284000</td>\n",
       "      <td>dy</td>\n",
       "      <td>DK39</td>\n",
       "    </tr>\n",
       "    <tr>\n",
       "      <th>2</th>\n",
       "      <td>dz_10N_L</td>\n",
       "      <td>-804.622000</td>\n",
       "      <td>dz</td>\n",
       "      <td>DK39</td>\n",
       "    </tr>\n",
       "    <tr>\n",
       "      <th>3</th>\n",
       "      <td>dist_10N_L</td>\n",
       "      <td>1246.044317</td>\n",
       "      <td>dist</td>\n",
       "      <td>DK39</td>\n",
       "    </tr>\n",
       "    <tr>\n",
       "      <th>4</th>\n",
       "      <td>dx_10N_R</td>\n",
       "      <td>-339.800000</td>\n",
       "      <td>dx</td>\n",
       "      <td>DK39</td>\n",
       "    </tr>\n",
       "  </tbody>\n",
       "</table>\n",
       "</div>"
      ],
      "text/plain": [
       "    structure        value  type brain\n",
       "0    dx_10N_L  -886.170000    dx  DK39\n",
       "1    dy_10N_L   346.284000    dy  DK39\n",
       "2    dz_10N_L  -804.622000    dz  DK39\n",
       "3  dist_10N_L  1246.044317  dist  DK39\n",
       "4    dx_10N_R  -339.800000    dx  DK39"
      ]
     },
     "execution_count": 78,
     "metadata": {},
     "output_type": "execute_result"
    }
   ],
   "source": [
    "# person is bili, input_type is aligned\n",
    "df_save, df = prepare_table(\n",
    "    brains_to_examine,\n",
    "    person_id=28,\n",
    "    input_type_id=4,\n",
    "    save_path=pipeline_utility_root+'/notebooks/Bili/data/rigid-alignment-error.csv'\n",
    ")\n",
    "df.head()"
   ]
  },
  {
   "cell_type": "code",
   "execution_count": 79,
   "id": "3b01d9ed",
   "metadata": {},
   "outputs": [
    {
     "data": {
      "text/plain": [
       "'/home/zhw272/programming/pipeline_utility'"
      ]
     },
     "execution_count": 79,
     "metadata": {},
     "output_type": "execute_result"
    }
   ],
   "source": [
    "pipeline_utility_root"
   ]
  },
  {
   "cell_type": "code",
   "execution_count": 80,
   "id": "4b174019",
   "metadata": {},
   "outputs": [],
   "source": [
    "fig = px.scatter(df, x=\"structure\", y=\"value\", color=\"type\", hover_data=['brain'])\n",
    "fig.write_html(\"/home/zhw272/plots/Rigid Alignment Error(fig1).html\")"
   ]
  },
  {
   "cell_type": "code",
   "execution_count": 81,
   "id": "5ffc08f3-cee9-4e5e-abcb-eaa917224434",
   "metadata": {},
   "outputs": [
    {
     "data": {
      "text/html": [
       "<div>\n",
       "<style scoped>\n",
       "    .dataframe tbody tr th:only-of-type {\n",
       "        vertical-align: middle;\n",
       "    }\n",
       "\n",
       "    .dataframe tbody tr th {\n",
       "        vertical-align: top;\n",
       "    }\n",
       "\n",
       "    .dataframe thead th {\n",
       "        text-align: right;\n",
       "    }\n",
       "</style>\n",
       "<table border=\"1\" class=\"dataframe\">\n",
       "  <thead>\n",
       "    <tr style=\"text-align: right;\">\n",
       "      <th></th>\n",
       "      <th>name</th>\n",
       "      <th>DK39</th>\n",
       "      <th>DK41</th>\n",
       "      <th>DK43</th>\n",
       "      <th>DK52</th>\n",
       "      <th>DK54</th>\n",
       "      <th>DK55</th>\n",
       "    </tr>\n",
       "  </thead>\n",
       "  <tbody>\n",
       "    <tr>\n",
       "      <th>0</th>\n",
       "      <td>10N_L_dx</td>\n",
       "      <td>-240.390000</td>\n",
       "      <td>-223.260000</td>\n",
       "      <td>-829.930000</td>\n",
       "      <td>-289.970000</td>\n",
       "      <td>-214.860000</td>\n",
       "      <td>-376.260000</td>\n",
       "    </tr>\n",
       "    <tr>\n",
       "      <th>1</th>\n",
       "      <td>10N_L_dy</td>\n",
       "      <td>-258.426000</td>\n",
       "      <td>-342.526000</td>\n",
       "      <td>-1.466000</td>\n",
       "      <td>-327.406000</td>\n",
       "      <td>-357.226000</td>\n",
       "      <td>-440.396000</td>\n",
       "    </tr>\n",
       "    <tr>\n",
       "      <th>2</th>\n",
       "      <td>10N_L_dz</td>\n",
       "      <td>-90.620000</td>\n",
       "      <td>-27.120000</td>\n",
       "      <td>162.340000</td>\n",
       "      <td>-10.680000</td>\n",
       "      <td>-2.580000</td>\n",
       "      <td>256.100000</td>\n",
       "    </tr>\n",
       "    <tr>\n",
       "      <th>3</th>\n",
       "      <td>10N_L_dist</td>\n",
       "      <td>364.394476</td>\n",
       "      <td>409.761617</td>\n",
       "      <td>845.659642</td>\n",
       "      <td>437.482974</td>\n",
       "      <td>416.871552</td>\n",
       "      <td>633.330431</td>\n",
       "    </tr>\n",
       "    <tr>\n",
       "      <th>4</th>\n",
       "      <td>10N_R_dx</td>\n",
       "      <td>-183.780000</td>\n",
       "      <td>-125.350000</td>\n",
       "      <td>-856.030000</td>\n",
       "      <td>-266.000000</td>\n",
       "      <td>-254.910000</td>\n",
       "      <td>-988.280000</td>\n",
       "    </tr>\n",
       "  </tbody>\n",
       "</table>\n",
       "</div>"
      ],
      "text/plain": [
       "         name        DK39        DK41        DK43        DK52        DK54  \\\n",
       "0    10N_L_dx -240.390000 -223.260000 -829.930000 -289.970000 -214.860000   \n",
       "1    10N_L_dy -258.426000 -342.526000   -1.466000 -327.406000 -357.226000   \n",
       "2    10N_L_dz  -90.620000  -27.120000  162.340000  -10.680000   -2.580000   \n",
       "3  10N_L_dist  364.394476  409.761617  845.659642  437.482974  416.871552   \n",
       "4    10N_R_dx -183.780000 -125.350000 -856.030000 -266.000000 -254.910000   \n",
       "\n",
       "         DK55  \n",
       "0 -376.260000  \n",
       "1 -440.396000  \n",
       "2  256.100000  \n",
       "3  633.330431  \n",
       "4 -988.280000  "
      ]
     },
     "execution_count": 81,
     "metadata": {},
     "output_type": "execute_result"
    }
   ],
   "source": [
    "# person is bili, input_type is corrected\n",
    "df_save, df = prepare_table(\n",
    "    brains_to_examine,\n",
    "    person_id=28,\n",
    "    input_type_id=2,\n",
    "    save_path=pipeline_utility_root+'/notebooks/Bili/data/rigid-alignment-error-after-correction.csv'\n",
    ")\n",
    "df_save.head()"
   ]
  },
  {
   "cell_type": "code",
   "execution_count": 82,
   "id": "5f283a84-572e-4814-9dc1-e75314222e2f",
   "metadata": {},
   "outputs": [],
   "source": [
    "fig = px.scatter(df, x=\"structure\", y=\"value\", color=\"type\", hover_data=['brain'])\n",
    "fig.write_html(\"/home/zhw272/plots/Rigid Alignment Error After Correction(fig2).html\")"
   ]
  },
  {
   "cell_type": "markdown",
   "id": "b47847d1",
   "metadata": {},
   "source": [
    "## Rough Alignment Error\n",
    "\n",
    "**Rough alignment** is an **automatic method** to find the best 3D affine transformation between 2 brains, solely based on the thumbnail-resolution gray value images. Rough alignment is planned to be the first step of an automatic pipeline, which defines the starting points for Kui's automatic detection method.\n",
    "\n",
    "We start with an anotomist manually annotate the COMs extensively for one brain (DK52).\n",
    "\n",
    "Rough alignment error is computed as follows:\n",
    "1. Computer finds the best 3D affine transformation between DK52 and the brain, as determined by aligning the gray value images.\n",
    "2. Using the transformation, the DK52 COMs are brought to that brain's space. And we call it the **rough COMs** of the brain.\n",
    "3. Computer finds the best transformation between atlas COMs and **rough COMs**. The transformation is restricted to rigid + uniform scaling.\n",
    "4. Using the transformation, the **rough COMs** are brought to the atlas space.\n",
    "5. The errors between the 2 sets of COMs are calculated, and displayed in the following plots.\n",
    "\n",
    "The errors for a single structure are quantified by 4 numbers: dx, dy, dz, dist. (dx, dy, dz) are the offset. dist is the corresponding distance of the offset."
   ]
  },
  {
   "cell_type": "code",
   "execution_count": 83,
   "id": "7d501178-b8c8-4f97-a180-a4cbab24e66f",
   "metadata": {},
   "outputs": [
    {
     "data": {
      "text/html": [
       "<div>\n",
       "<style scoped>\n",
       "    .dataframe tbody tr th:only-of-type {\n",
       "        vertical-align: middle;\n",
       "    }\n",
       "\n",
       "    .dataframe tbody tr th {\n",
       "        vertical-align: top;\n",
       "    }\n",
       "\n",
       "    .dataframe thead th {\n",
       "        text-align: right;\n",
       "    }\n",
       "</style>\n",
       "<table border=\"1\" class=\"dataframe\">\n",
       "  <thead>\n",
       "    <tr style=\"text-align: right;\">\n",
       "      <th></th>\n",
       "      <th>name</th>\n",
       "      <th>DK39</th>\n",
       "      <th>DK41</th>\n",
       "      <th>DK43</th>\n",
       "      <th>DK52</th>\n",
       "      <th>DK54</th>\n",
       "      <th>DK55</th>\n",
       "    </tr>\n",
       "  </thead>\n",
       "  <tbody>\n",
       "    <tr>\n",
       "      <th>0</th>\n",
       "      <td>10N_L_dx</td>\n",
       "      <td>-348.050000</td>\n",
       "      <td>212.630000</td>\n",
       "      <td>-648.200000</td>\n",
       "      <td>NaN</td>\n",
       "      <td>-418.430000</td>\n",
       "      <td>NaN</td>\n",
       "    </tr>\n",
       "    <tr>\n",
       "      <th>1</th>\n",
       "      <td>10N_L_dy</td>\n",
       "      <td>-1940.336000</td>\n",
       "      <td>-1430.836000</td>\n",
       "      <td>-1635.796000</td>\n",
       "      <td>NaN</td>\n",
       "      <td>-1034.106000</td>\n",
       "      <td>NaN</td>\n",
       "    </tr>\n",
       "    <tr>\n",
       "      <th>2</th>\n",
       "      <td>10N_L_dz</td>\n",
       "      <td>-410.060000</td>\n",
       "      <td>473.260000</td>\n",
       "      <td>-152.980000</td>\n",
       "      <td>NaN</td>\n",
       "      <td>22.040000</td>\n",
       "      <td>NaN</td>\n",
       "    </tr>\n",
       "    <tr>\n",
       "      <th>3</th>\n",
       "      <td>10N_L_dist</td>\n",
       "      <td>2013.502371</td>\n",
       "      <td>1521.998096</td>\n",
       "      <td>1766.180816</td>\n",
       "      <td>NaN</td>\n",
       "      <td>1115.770875</td>\n",
       "      <td>NaN</td>\n",
       "    </tr>\n",
       "    <tr>\n",
       "      <th>4</th>\n",
       "      <td>10N_R_dx</td>\n",
       "      <td>712.030000</td>\n",
       "      <td>515.200000</td>\n",
       "      <td>-132.220000</td>\n",
       "      <td>NaN</td>\n",
       "      <td>22.640000</td>\n",
       "      <td>NaN</td>\n",
       "    </tr>\n",
       "  </tbody>\n",
       "</table>\n",
       "</div>"
      ],
      "text/plain": [
       "         name         DK39         DK41         DK43  DK52         DK54  DK55\n",
       "0    10N_L_dx  -348.050000   212.630000  -648.200000   NaN  -418.430000   NaN\n",
       "1    10N_L_dy -1940.336000 -1430.836000 -1635.796000   NaN -1034.106000   NaN\n",
       "2    10N_L_dz  -410.060000   473.260000  -152.980000   NaN    22.040000   NaN\n",
       "3  10N_L_dist  2013.502371  1521.998096  1766.180816   NaN  1115.770875   NaN\n",
       "4    10N_R_dx   712.030000   515.200000  -132.220000   NaN    22.640000   NaN"
      ]
     },
     "execution_count": 83,
     "metadata": {},
     "output_type": "execute_result"
    }
   ],
   "source": [
    "# person is ed, input_type is aligned\n",
    "df_save, df = prepare_table(\n",
    "    brains_to_examine,\n",
    "    person_id=1,\n",
    "    input_type_id=4,\n",
    "    save_path=pipeline_utility_root+'/notebooks/Bili/data/rough-alignment-error.csv'\n",
    ")\n",
    "df_save.head()"
   ]
  },
  {
   "cell_type": "code",
   "execution_count": 84,
   "id": "c42f5165-b897-4be6-9f97-a3d35b51d3cb",
   "metadata": {},
   "outputs": [],
   "source": [
    "fig = px.scatter(df, x=\"structure\", y=\"value\", color=\"type\", hover_data=['brain'])\n",
    "fig.write_html(\"/home/zhw272/plots/Rough Alignment Error(fig3).html\")"
   ]
  },
  {
   "cell_type": "code",
   "execution_count": null,
   "id": "e707041a",
   "metadata": {},
   "outputs": [],
   "source": []
  }
 ],
 "metadata": {
  "kernelspec": {
   "display_name": "Python 3",
   "language": "python",
   "name": "python3"
  },
  "language_info": {
   "codemirror_mode": {
    "name": "ipython",
    "version": 3
   },
   "file_extension": ".py",
   "mimetype": "text/x-python",
   "name": "python",
   "nbconvert_exporter": "python",
   "pygments_lexer": "ipython3",
   "version": "3.6.9"
  }
 },
 "nbformat": 4,
 "nbformat_minor": 5
}
