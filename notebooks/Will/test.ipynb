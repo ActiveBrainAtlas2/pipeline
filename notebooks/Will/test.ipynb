{
 "cells": [
  {
   "cell_type": "code",
   "execution_count": 10,
   "id": "bb6dc955",
   "metadata": {},
   "outputs": [],
   "source": [
    "import sys\n",
    "sys.path.append('/home/zhw272/programming/pipeline_utility')\n",
    "from toolbox.sitk.registration_method_util import *"
   ]
  },
  {
   "cell_type": "code",
   "execution_count": 4,
   "id": "92f3a533",
   "metadata": {},
   "outputs": [],
   "source": [
    "from notebooks.Will.toolbox.sitk.utility import get_test_fixed_and_moving_image\n",
    "from notebooks.Will.toolbox.sitk.get_registeration_method_demons import get_demons_transform\n",
    "fixed_image,moving_image = get_test_fixed_and_moving_image()\n",
    "transform = sitk.AffineTransform(3)"
   ]
  },
  {
   "cell_type": "code",
   "execution_count": 5,
   "id": "db1a40a4",
   "metadata": {},
   "outputs": [
    {
     "name": "stdout",
     "output_type": "stream",
     "text": [
      "starting optimization\n"
     ]
    }
   ],
   "source": [
    "transform = get_demons_transform(fixed_image,moving_image,transform)"
   ]
  },
  {
   "cell_type": "code",
   "execution_count": 7,
   "id": "f800f372",
   "metadata": {},
   "outputs": [
    {
     "data": {
      "text/plain": [
       "'/net/birdstore/Active_Atlas_Data/data_root/tfm/example.tfm'"
      ]
     },
     "execution_count": 7,
     "metadata": {},
     "output_type": "execute_result"
    }
   ],
   "source": [
    "save_path = '/net/birdstore/Active_Atlas_Data/data_root/tfm'\n",
    "save_path+'/example.tfm'"
   ]
  },
  {
   "cell_type": "code",
   "execution_count": 9,
   "id": "56c68ff2",
   "metadata": {},
   "outputs": [],
   "source": [
    "  sitk.WriteTransform(transform, save_path+'/example.tfm')"
   ]
  },
  {
   "cell_type": "code",
   "execution_count": null,
   "id": "72a0981d",
   "metadata": {},
   "outputs": [],
   "source": []
  }
 ],
 "metadata": {
  "kernelspec": {
   "display_name": "Python 3",
   "language": "python",
   "name": "python3"
  },
  "language_info": {
   "codemirror_mode": {
    "name": "ipython",
    "version": 3
   },
   "file_extension": ".py",
   "mimetype": "text/x-python",
   "name": "python",
   "nbconvert_exporter": "python",
   "pygments_lexer": "ipython3",
   "version": "3.6.9"
  }
 },
 "nbformat": 4,
 "nbformat_minor": 5
}
