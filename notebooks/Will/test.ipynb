{
 "cells": [
  {
   "cell_type": "code",
   "execution_count": 1,
   "id": "5ecd1578",
   "metadata": {},
   "outputs": [],
   "source": [
    "import sys\n",
    "sys.path.append('/home/zhw272/programming/pipeline_utility')\n",
    "from toolbox.sitk.registration_method_util import *\n",
    "from notebooks.Will.toolbox.sitk.utility import get_fixed_and_moving_image\n",
    "import json\n",
    "import numpy as np\n",
    "from notebooks.Will.toolbox.coordinate_transforms import atlas_to_thumbnail_coord"
   ]
  },
  {
   "cell_type": "code",
   "execution_count": 2,
   "id": "b0743236",
   "metadata": {},
   "outputs": [],
   "source": [
    "def get_atlas_com(braini):\n",
    "    with open('/home/zhw272/programming/pipeline_utility/notebooks/Bili/data/DK52_coms_kui_detected.json', 'r') as f:\n",
    "        atlas_coms = json.load(f)\n",
    "    return atlas_coms"
   ]
  },
  {
   "cell_type": "code",
   "execution_count": 3,
   "id": "ad9f459e",
   "metadata": {},
   "outputs": [],
   "source": [
    "def get_demons_transform(braini):\n",
    "    save_path = '/net/birdstore/Active_Atlas_Data/data_root/tfm'\n",
    "    transform = sitk.ReadTransform(save_path + '/demons/' + braini + '_demons.tfm')\n",
    "    return transform"
   ]
  },
  {
   "cell_type": "code",
   "execution_count": 4,
   "id": "2ada0869",
   "metadata": {},
   "outputs": [],
   "source": [
    "def transform_atlas_com(atlas_com):\n",
    "    transform = get_demons_transform(braini)\n",
    "    estimated_target_coms = {}\n",
    "    for name, com in atlas_com.items():\n",
    "        transformed_coms[name] = transform.TransformPoint(com)\n",
    "    return estimated_target_coms"
   ]
  },
  {
   "cell_type": "code",
   "execution_count": 7,
   "id": "57337880",
   "metadata": {},
   "outputs": [
    {
     "data": {
      "text/plain": [
       "[45413, 16981, 216]"
      ]
     },
     "execution_count": 7,
     "metadata": {},
     "output_type": "execute_result"
    }
   ],
   "source": [
    "atlas_com"
   ]
  },
  {
   "cell_type": "code",
   "execution_count": 11,
   "id": "a03bd891",
   "metadata": {},
   "outputs": [
    {
     "name": "stdout",
     "output_type": "stream",
     "text": [
      "Loading image 485.tif\r"
     ]
    }
   ],
   "source": [
    "fixed_image,moving_image = get_fixed_and_moving_image(fixed_brain = \"DK52\",moving_brain = 'DK39')"
   ]
  },
  {
   "cell_type": "code",
   "execution_count": 25,
   "id": "34bb2800",
   "metadata": {},
   "outputs": [
    {
     "data": {
      "text/plain": [
       "array([2.6, 2.6, 5. ])"
      ]
     },
     "execution_count": 25,
     "metadata": {},
     "output_type": "execute_result"
    }
   ],
   "source": [
    "np.array((10.4, 10.4, 20.0))/4"
   ]
  },
  {
   "cell_type": "code",
   "execution_count": 32,
   "id": "8a650d04",
   "metadata": {},
   "outputs": [
    {
     "data": {
      "text/plain": [
       "(1.0, 0.0, 0.0, 0.0, 1.0, 0.0, 0.0, 0.0, 1.0)"
      ]
     },
     "execution_count": 32,
     "metadata": {},
     "output_type": "execute_result"
    }
   ],
   "source": [
    "moving_image.GetDirection()"
   ]
  },
  {
   "cell_type": "code",
   "execution_count": 34,
   "id": "9bb6b4b2",
   "metadata": {},
   "outputs": [
    {
     "data": {
      "text/plain": [
       "array([32., 32.,  1.])"
      ]
     },
     "execution_count": 34,
     "metadata": {},
     "output_type": "execute_result"
    }
   ],
   "source": [
    "np.array([10.4,10.4,20.0])/np.array([0.325,0.325,20.0])"
   ]
  },
  {
   "cell_type": "code",
   "execution_count": null,
   "id": "3fe638bd",
   "metadata": {},
   "outputs": [],
   "source": []
  },
  {
   "cell_type": "code",
   "execution_count": 28,
   "id": "beebc976",
   "metadata": {},
   "outputs": [
    {
     "data": {
      "text/plain": [
       "['this',\n",
       " '__module__',\n",
       " '__doc__',\n",
       " 'thisown',\n",
       " '__repr__',\n",
       " '__swig_destroy__',\n",
       " '__init__',\n",
       " 'GetITKBase',\n",
       " 'GetPixelID',\n",
       " 'GetPixelIDValue',\n",
       " 'GetPixelIDTypeAsString',\n",
       " 'GetDimension',\n",
       " 'GetNumberOfComponentsPerPixel',\n",
       " 'GetNumberOfPixels',\n",
       " 'GetOrigin',\n",
       " 'SetOrigin',\n",
       " 'GetSpacing',\n",
       " 'SetSpacing',\n",
       " 'GetDirection',\n",
       " 'SetDirection',\n",
       " 'TransformIndexToPhysicalPoint',\n",
       " 'TransformPhysicalPointToIndex',\n",
       " 'TransformPhysicalPointToContinuousIndex',\n",
       " 'TransformContinuousIndexToPhysicalPoint',\n",
       " 'GetSize',\n",
       " 'GetWidth',\n",
       " 'GetHeight',\n",
       " 'GetDepth',\n",
       " 'CopyInformation',\n",
       " 'GetMetaDataKeys',\n",
       " 'HasMetaDataKey',\n",
       " 'GetMetaData',\n",
       " 'SetMetaData',\n",
       " 'EraseMetaData',\n",
       " '__str__',\n",
       " '__GetPixelAsInt8__',\n",
       " '__GetPixelAsUInt8__',\n",
       " '__GetPixelAsInt16__',\n",
       " '__GetPixelAsUInt16__',\n",
       " '__GetPixelAsInt32__',\n",
       " '__GetPixelAsUInt32__',\n",
       " '__GetPixelAsInt64__',\n",
       " '__GetPixelAsUInt64__',\n",
       " '__GetPixelAsFloat__',\n",
       " '__GetPixelAsDouble__',\n",
       " '__GetPixelAsVectorInt8__',\n",
       " '__GetPixelAsVectorUInt8__',\n",
       " '__GetPixelAsVectorInt16__',\n",
       " '__GetPixelAsVectorUInt16__',\n",
       " '__GetPixelAsVectorInt32__',\n",
       " '__GetPixelAsVectorUInt32__',\n",
       " '__GetPixelAsVectorInt64__',\n",
       " '__GetPixelAsVectorUInt64__',\n",
       " '__GetPixelAsVectorFloat32__',\n",
       " '__GetPixelAsVectorFloat64__',\n",
       " '__GetPixelAsComplexFloat32__',\n",
       " 'GetPixelAsComplexFloat64',\n",
       " '__SetPixelAsInt8__',\n",
       " '__SetPixelAsUInt8__',\n",
       " '__SetPixelAsInt16__',\n",
       " '__SetPixelAsUInt16__',\n",
       " '__SetPixelAsInt32__',\n",
       " '__SetPixelAsUInt32__',\n",
       " '__SetPixelAsInt64__',\n",
       " '__SetPixelAsUInt64__',\n",
       " '__SetPixelAsFloat__',\n",
       " '__SetPixelAsDouble__',\n",
       " '__SetPixelAsVectorInt8__',\n",
       " '__SetPixelAsVectorUInt8__',\n",
       " '__SetPixelAsVectorInt16__',\n",
       " '__SetPixelAsVectorUInt16__',\n",
       " '__SetPixelAsVectorInt32__',\n",
       " '__SetPixelAsVectorUInt32__',\n",
       " '__SetPixelAsVectorInt64__',\n",
       " '__SetPixelAsVectorUInt64__',\n",
       " '__SetPixelAsVectorFloat32__',\n",
       " '__SetPixelAsVectorFloat64__',\n",
       " '__SetPixelAsComplexFloat32__',\n",
       " 'SetPixelAsComplexFloat64',\n",
       " 'MakeUnique',\n",
       " 'IsUnique',\n",
       " '__iadd__',\n",
       " '__isub__',\n",
       " '__imul__',\n",
       " '__imod__',\n",
       " '__ifloordiv__',\n",
       " '__itruediv__',\n",
       " '__ipow__',\n",
       " '__ior__',\n",
       " '__ixor__',\n",
       " '__iand__',\n",
       " '_Image__ipaste',\n",
       " '__copy__',\n",
       " '__deepcopy__',\n",
       " '__setstate__',\n",
       " '__reduce_ex__',\n",
       " '__add__',\n",
       " '__sub__',\n",
       " '__mul__',\n",
       " '__div__',\n",
       " '__floordiv__',\n",
       " '__truediv__',\n",
       " '__neg__',\n",
       " '__pos__',\n",
       " '__radd__',\n",
       " '__rsub__',\n",
       " '__rmul__',\n",
       " '__rdiv__',\n",
       " '__rfloordiv__',\n",
       " '__rtruediv__',\n",
       " '__and__',\n",
       " '__rand__',\n",
       " '__or__',\n",
       " '__ror__',\n",
       " '__xor__',\n",
       " '__rxor__',\n",
       " '__invert__',\n",
       " '__lt__',\n",
       " '__le__',\n",
       " '__eq__',\n",
       " '__ne__',\n",
       " '__gt__',\n",
       " '__ge__',\n",
       " '__pow__',\n",
       " '__rpow__',\n",
       " '__mod__',\n",
       " '__abs__',\n",
       " '__iter__',\n",
       " '__len__',\n",
       " '__getitem__',\n",
       " '__setitem__',\n",
       " 'GetPixel',\n",
       " 'SetPixel',\n",
       " '__dict__',\n",
       " '__weakref__',\n",
       " '__hash__',\n",
       " '__getattribute__',\n",
       " '__setattr__',\n",
       " '__delattr__',\n",
       " '__new__',\n",
       " '__reduce__',\n",
       " '__subclasshook__',\n",
       " '__init_subclass__',\n",
       " '__format__',\n",
       " '__sizeof__',\n",
       " '__dir__',\n",
       " '__class__']"
      ]
     },
     "execution_count": 28,
     "metadata": {},
     "output_type": "execute_result"
    }
   ],
   "source": [
    "moving_image.__dir__()"
   ]
  },
  {
   "cell_type": "code",
   "execution_count": 26,
   "id": "1ee77bd7",
   "metadata": {},
   "outputs": [
    {
     "data": {
      "text/plain": [
       "(2031, 1125, 486)"
      ]
     },
     "execution_count": 26,
     "metadata": {},
     "output_type": "execute_result"
    }
   ],
   "source": [
    "moving_image.GetSize()"
   ]
  },
  {
   "cell_type": "code",
   "execution_count": 22,
   "id": "13bd8c0b",
   "metadata": {},
   "outputs": [
    {
     "data": {
      "text/plain": [
       "array([4.66896552, 4.29389313, 4.15384615])"
      ]
     },
     "execution_count": 22,
     "metadata": {},
     "output_type": "execute_result"
    }
   ],
   "source": [
    "np.array(moving_image.GetSize())/np.array([435, 262, 117])"
   ]
  },
  {
   "cell_type": "code",
   "execution_count": 17,
   "id": "0360edb4",
   "metadata": {},
   "outputs": [
    {
     "name": "stdout",
     "output_type": "stream",
     "text": [
      "itk::simple::Transform\n",
      " GaussianSmoothingOnUpdateDisplacementFieldTransform (0x2084a330)\n",
      "   RTTI typeinfo:   itk::GaussianSmoothingOnUpdateDisplacementFieldTransform<double, 3u>\n",
      "   Reference Count: 1\n",
      "   Modified Time: 189904\n",
      "   Debug: Off\n",
      "   Object Name: \n",
      "   Observers: \n",
      "     none\n",
      "   DisplacementField: \n",
      "     Image (0x1f53df0)\n",
      "       RTTI typeinfo:   itk::Image<itk::Vector<double, 3u>, 3u>\n",
      "       Reference Count: 3\n",
      "       Modified Time: 189901\n",
      "       Debug: Off\n",
      "       Object Name: \n",
      "       Observers: \n",
      "         none\n",
      "       Source: (none)\n",
      "       Source output name: (none)\n",
      "       Release Data: Off\n",
      "       Data Released: False\n",
      "       Global Release Data: Off\n",
      "       PipelineMTime: 0\n",
      "       UpdateMTime: 0\n",
      "       RealTimeStamp: 0 seconds \n",
      "       LargestPossibleRegion: \n",
      "         Dimension: 3\n",
      "         Index: [0, 0, 0]\n",
      "         Size: [435, 262, 117]\n",
      "       BufferedRegion: \n",
      "         Dimension: 3\n",
      "         Index: [0, 0, 0]\n",
      "         Size: [435, 262, 117]\n",
      "       RequestedRegion: \n",
      "         Dimension: 3\n",
      "         Index: [0, 0, 0]\n",
      "         Size: [435, 262, 117]\n",
      "       Spacing: [41.6, 41.6, 80]\n",
      "       Origin: [31.2, 26, 40]\n",
      "       Direction: \n",
      "1 0 0\n",
      "0 1 0\n",
      "0 0 1\n",
      "\n",
      "       IndexToPointMatrix: \n",
      "41.6 0 0\n",
      "0 41.6 0\n",
      "0 0 80\n",
      "\n",
      "       PointToIndexMatrix: \n",
      "0.0240385 0 0\n",
      "0 0.0240385 0\n",
      "0 0 0.0125\n",
      "\n",
      "       Inverse Direction: \n",
      "1 0 0\n",
      "0 1 0\n",
      "0 0 1\n",
      "\n",
      "       PixelContainer: \n",
      "         ImportImageContainer (0x2085bdc0)\n",
      "           RTTI typeinfo:   itk::ImportImageContainer<unsigned long, itk::Vector<double, 3u> >\n",
      "           Reference Count: 1\n",
      "           Modified Time: 189902\n",
      "           Debug: Off\n",
      "           Object Name: \n",
      "           Observers: \n",
      "             none\n",
      "           Pointer: 0x2e1e8c30\n",
      "           Container manages memory: true\n",
      "           Size: 13334490\n",
      "           Capacity: 13334490\n",
      "   InverseDisplacementField: (null)\n",
      "   Interpolator: \n",
      "     VectorLinearInterpolateImageFunction (0x1d5f950)\n",
      "       RTTI typeinfo:   itk::VectorLinearInterpolateImageFunction<itk::Image<itk::Vector<double, 3u>, 3u>, double>\n",
      "       Reference Count: 1\n",
      "       Modified Time: 189893\n",
      "       Debug: Off\n",
      "       Object Name: \n",
      "       Observers: \n",
      "         none\n",
      "       InputImage: 0x1f53df0\n",
      "       StartIndex: [0, 0, 0]\n",
      "       EndIndex: [434, 261, 116]\n",
      "       StartContinuousIndex: [-0.5, -0.5, -0.5]\n",
      "       EndContinuousIndex: [434.5, 261.5, 116.5]\n",
      "   InverseInterpolator: \n",
      "     VectorLinearInterpolateImageFunction (0x1d9efa0)\n",
      "       RTTI typeinfo:   itk::VectorLinearInterpolateImageFunction<itk::Image<itk::Vector<double, 3u>, 3u>, double>\n",
      "       Reference Count: 1\n",
      "       Modified Time: 189894\n",
      "       Debug: Off\n",
      "       Object Name: \n",
      "       Observers: \n",
      "         none\n",
      "       InputImage: 0\n",
      "       StartIndex: [0, 0, 0]\n",
      "       EndIndex: [0, 0, 0]\n",
      "       StartContinuousIndex: [0, 0, 0]\n",
      "       EndContinuousIndex: [0, 0, 0]\n",
      "   DisplacementFieldSetTime: 189903\n",
      "   m_IdentityJacobian: [1, 0, 0]\n",
      "[0, 1, 0]\n",
      "[0, 0, 1]\n",
      "\n",
      "    CoordinateTolerance: 1e-06\n",
      "    DirectionTolerance: 1e-06\n",
      "   Gaussian smoothing parameters: \n",
      "   m_GaussianSmoothingVarianceForTheUpdateField: 3\n",
      "   m_GaussianSmoothingVarianceForTheTotalField: 0.5\n",
      "\n"
     ]
    }
   ],
   "source": [
    "transform = get_demons_transform('DK39')\n",
    "print(transform)"
   ]
  },
  {
   "cell_type": "code",
   "execution_count": 6,
   "id": "ff43a6bf",
   "metadata": {},
   "outputs": [
    {
     "data": {
      "text/plain": [
       "array([43666.34615385, 16327.88461538,   216.        ])"
      ]
     },
     "execution_count": 6,
     "metadata": {},
     "output_type": "execute_result"
    }
   ],
   "source": [
    "braini = 'DK39'\n",
    "atlas_coms = get_atlas_com(braini)\n",
    "atlas_com = atlas_coms['10N_L']\n",
    "thumbnail_com = atlas_to_thumbnail_coord(atlas_com)\n",
    "thumbnail_com"
   ]
  },
  {
   "cell_type": "code",
   "execution_count": 9,
   "id": "31dd5d0a",
   "metadata": {},
   "outputs": [
    {
     "data": {
      "text/plain": [
       "array([10916.58653846,  4081.97115385,    54.        ])"
      ]
     },
     "execution_count": 9,
     "metadata": {},
     "output_type": "execute_result"
    }
   ],
   "source": [
    "thumbnail_com/4"
   ]
  },
  {
   "cell_type": "code",
   "execution_count": 10,
   "id": "81c7e28d",
   "metadata": {},
   "outputs": [
    {
     "data": {
      "text/plain": [
       "[45413, 16981, 216]"
      ]
     },
     "execution_count": 10,
     "metadata": {},
     "output_type": "execute_result"
    }
   ],
   "source": [
    "atlas_com"
   ]
  },
  {
   "cell_type": "code",
   "execution_count": 11,
   "id": "73e6f06c",
   "metadata": {},
   "outputs": [
    {
     "data": {
      "text/plain": [
       "43666.34615384615"
      ]
     },
     "execution_count": 11,
     "metadata": {},
     "output_type": "execute_result"
    }
   ],
   "source": [
    "45413*10/0.325/32"
   ]
  },
  {
   "cell_type": "code",
   "execution_count": 5,
   "id": "927681b9",
   "metadata": {},
   "outputs": [],
   "source": [
    "com_diff = {}\n",
    "for structure in atlas_coms.keys():\n",
    "    moving_com = atlas_coms[structure]\n",
    "    fixed_com = estimated_target_coms[structure]\n",
    "    com_diffi= np.array(moving_com)-np.array(fixed_com)\n",
    "    com_diff[structure] = com_diffi"
   ]
  },
  {
   "cell_type": "code",
   "execution_count": 29,
   "id": "646136c9",
   "metadata": {},
   "outputs": [
    {
     "data": {
      "text/plain": [
       "array([[1.        , 0.        , 0.        ],\n",
       "       [0.        , 0.5       , 0.        ],\n",
       "       [0.        , 0.        , 0.33333333]])"
      ]
     },
     "execution_count": 29,
     "metadata": {},
     "output_type": "execute_result"
    }
   ],
   "source": [
    "np.linalg.inv(np.diag([1,2,3]))"
   ]
  },
  {
   "cell_type": "code",
   "execution_count": null,
   "id": "17bc2a08",
   "metadata": {},
   "outputs": [],
   "source": []
  }
 ],
 "metadata": {
  "kernelspec": {
   "display_name": "Python 3",
   "language": "python",
   "name": "python3"
  },
  "language_info": {
   "codemirror_mode": {
    "name": "ipython",
    "version": 3
   },
   "file_extension": ".py",
   "mimetype": "text/x-python",
   "name": "python",
   "nbconvert_exporter": "python",
   "pygments_lexer": "ipython3",
   "version": "3.6.9"
  }
 },
 "nbformat": 4,
 "nbformat_minor": 5
}
