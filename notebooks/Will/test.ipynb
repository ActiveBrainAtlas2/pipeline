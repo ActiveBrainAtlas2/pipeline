{
 "cells": [
  {
   "cell_type": "code",
   "execution_count": 13,
   "id": "5ecd1578",
   "metadata": {},
   "outputs": [],
   "source": [
    "import sys\n",
    "sys.path.append('/home/zhw272/programming/pipeline_utility')\n",
    "from toolbox.sitk.registration_method_util import *\n",
    "from notebooks.Will.toolbox.sitk.utility import get_fixed_and_moving_image\n",
    "import json\n",
    "import numpy as np\n",
    "from notebooks.Will.toolbox.coordinate_transforms import atlas_to_thumbnail_coord\n",
    "from notebooks.Will.toolbox.atlas.get_volumn_and_origin import get_origin_and_volumn\n",
    "from notebooks.Will.toolbox.data_base.sql_tools import get_atlas_centers"
   ]
  },
  {
   "cell_type": "code",
   "execution_count": 14,
   "id": "47e013a6",
   "metadata": {},
   "outputs": [],
   "source": [
    "def get_atlas_com(braini):\n",
    "    with open('/home/zhw272/programming/pipeline_utility/notebooks/Bili/data/DK52_coms_kui_detected.json', 'r') as f:\n",
    "        atlas_coms = json.load(f)\n",
    "    return atlas_coms"
   ]
  },
  {
   "cell_type": "code",
   "execution_count": 3,
   "id": "31f13157",
   "metadata": {},
   "outputs": [],
   "source": [
    "def get_demons_transform(braini):\n",
    "    save_path = '/net/birdstore/Active_Atlas_Data/data_root/tfm'\n",
    "    transform = sitk.ReadTransform(save_path + '/demons/' + braini + '_demons.tfm')\n",
    "    return transform"
   ]
  },
  {
   "cell_type": "code",
   "execution_count": 4,
   "id": "c88412be",
   "metadata": {},
   "outputs": [],
   "source": [
    "def transform_atlas_com(atlas_com):\n",
    "    transform = get_demons_transform(braini)\n",
    "    estimated_target_coms = {}\n",
    "    for name, com in atlas_com.items():\n",
    "        transformed_coms[name] = transform.TransformPoint(com)\n",
    "    return estimated_target_coms"
   ]
  },
  {
   "cell_type": "code",
   "execution_count": 15,
   "id": "ba26df63",
   "metadata": {},
   "outputs": [
    {
     "name": "stdout",
     "output_type": "stream",
     "text": [
      "No histology for Atlas\n",
      "No scan run for Atlas\n"
     ]
    },
    {
     "data": {
      "text/plain": [
       "{'10N_L': array([703.341 , 547.9286, 135.5   ]),\n",
       " '10N_R': array([703.341 , 547.9286, 164.5   ]),\n",
       " '12N': array([697.227 , 567.0988, 149.    ]),\n",
       " '3N_L': array([364.555, 391.506, 143.   ]),\n",
       " '3N_R': array([364.555, 391.506, 157.   ]),\n",
       " '4N_L': array([399.441, 396.104, 137.5  ]),\n",
       " '4N_R': array([399.441, 396.104, 162.5  ]),\n",
       " '5N_L': array([456.7992 , 502.07948,  82.     ]),\n",
       " '5N_R': array([456.7992 , 502.07948, 218.     ]),\n",
       " '6N_L': array([517.1597, 512.4922, 132.5   ]),\n",
       " '6N_R': array([517.1597, 512.4922, 167.5   ]),\n",
       " 'AP': array([702.306 , 525.6525, 151.    ]),\n",
       " 'Amb_L': array([612.44 , 603.826,  88.5  ]),\n",
       " 'Amb_R': array([612.44 , 603.826, 211.5  ]),\n",
       " 'DC_L': array([583.2885, 456.4954,  42.    ]),\n",
       " 'DC_R': array([583.2885, 456.4954, 258.    ]),\n",
       " 'IC': array([496.7529, 251.693 , 150.    ]),\n",
       " 'LC_L': array([496.19734, 442.8079 , 108.     ]),\n",
       " 'LC_R': array([496.19734, 442.8079 , 192.     ]),\n",
       " 'LRt_L': array([688.194, 646.863,  94.   ]),\n",
       " 'LRt_R': array([688.194, 646.863, 206.   ]),\n",
       " 'PBG_L': array([396.038, 372.985,  57.   ]),\n",
       " 'PBG_R': array([396.038, 372.985, 243.   ]),\n",
       " 'Pn_L': array([328.332 , 593.0847, 122.5   ]),\n",
       " 'Pn_R': array([328.332 , 593.0847, 177.5   ]),\n",
       " 'RtTg': array([378.454 , 562.2477, 148.    ]),\n",
       " 'SC': array([371.982, 258.871, 151.5  ]),\n",
       " 'SNC_L': array([268.515 , 482.5814,  89.5   ]),\n",
       " 'SNC_R': array([268.515 , 482.5814, 210.5   ]),\n",
       " 'SNR_L': array([301.875 , 477.6826,  79.5   ]),\n",
       " 'SNR_R': array([301.875 , 477.6826, 220.5   ]),\n",
       " 'Sp5C_L': array([756.283 , 582.0335,  83.    ]),\n",
       " 'Sp5C_R': array([756.283 , 582.0335, 217.    ]),\n",
       " 'Sp5I_L': array([679.326 , 550.5224,  54.5   ]),\n",
       " 'Sp5I_R': array([679.326 , 550.5224, 245.5   ]),\n",
       " 'Sp5O_L': array([601.378 , 549.4977,  57.    ]),\n",
       " 'Sp5O_R': array([601.378 , 549.4977, 243.    ]),\n",
       " 'Tz_L': array([427.2079, 620.224 , 124.5   ]),\n",
       " 'Tz_R': array([427.2079, 620.224 , 175.5   ]),\n",
       " 'VCA_L': array([504.07409, 495.00897,  28.5    ]),\n",
       " 'VCA_R': array([504.07409, 495.00897, 271.5    ]),\n",
       " 'VCP_L': array([560.0779, 513.7844,  34.5   ]),\n",
       " 'VCP_R': array([560.0779, 513.7844, 265.5   ]),\n",
       " 'VLL_L': array([378.011 , 515.4707,  76.    ]),\n",
       " 'VLL_R': array([378.011 , 515.4707, 224.    ]),\n",
       " '7N_L': array([529.6329, 614.424 ,  92.5   ]),\n",
       " '7N_R': array([529.6329, 614.424 , 207.5   ]),\n",
       " '7n_L': array([494.89182, 540.307  ,  96.     ]),\n",
       " '7n_R': array([494.89182, 540.307  , 204.     ])}"
      ]
     },
     "execution_count": 15,
     "metadata": {},
     "output_type": "execute_result"
    }
   ],
   "source": [
    "get_atlas_centers()"
   ]
  },
  {
   "cell_type": "code",
   "execution_count": 3,
   "id": "a57ac585",
   "metadata": {},
   "outputs": [],
   "source": [
    "origins,volumns = get_origin_and_volumn()"
   ]
  },
  {
   "cell_type": "code",
   "execution_count": 6,
   "id": "abf3987f",
   "metadata": {},
   "outputs": [
    {
     "data": {
      "text/plain": [
       "dict_keys(['10N_L', '10N_R', '12N', '3N_L', '3N_R', '4N_L', '4N_R', '5N_L', '5N_R', '6N_L', '6N_R', '7N_L', '7N_R', '7n_L', '7n_R', 'AP', 'Amb_L', 'Amb_R', 'DC_L', 'DC_R', 'IC', 'LC_L', 'LC_R', 'LRt_L', 'LRt_R', 'PBG_L', 'PBG_R', 'Pn_L', 'Pn_R', 'RtTg', 'SC', 'SNC_L', 'SNC_R', 'SNR_L', 'SNR_R', 'Sp5C_L', 'Sp5C_R', 'Sp5I_L', 'Sp5I_R', 'Sp5O_L', 'Sp5O_R', 'Tz_L', 'Tz_R', 'VCA_L', 'VCA_R', 'VCP_L', 'VCP_R', 'VLL_L', 'VLL_R'])"
      ]
     },
     "execution_count": 6,
     "metadata": {},
     "output_type": "execute_result"
    }
   ],
   "source": [
    "volumns.keys()"
   ]
  },
  {
   "cell_type": "code",
   "execution_count": 9,
   "id": "f2c687b3",
   "metadata": {},
   "outputs": [
    {
     "data": {
      "text/plain": [
       "(111, 87, 55)"
      ]
     },
     "execution_count": 9,
     "metadata": {},
     "output_type": "execute_result"
    }
   ],
   "source": [
    "volumns['10N_L'].shape"
   ]
  },
  {
   "cell_type": "code",
   "execution_count": 10,
   "id": "32920ecf",
   "metadata": {},
   "outputs": [
    {
     "data": {
      "text/plain": [
       "array([False, False, False])"
      ]
     },
     "execution_count": 10,
     "metadata": {},
     "output_type": "execute_result"
    }
   ],
   "source": [
    "origins['10N_L'] == origins['12N']"
   ]
  },
  {
   "cell_type": "code",
   "execution_count": 5,
   "id": "9a8dd04d",
   "metadata": {},
   "outputs": [
    {
     "data": {
      "text/plain": [
       "{'10N_L': array([153.91836816,  18.02326025, -49.05752672]),\n",
       " '10N_R': array([152.91836816,  24.02326025,   4.05752672]),\n",
       " '12N': array([140.42555865,  32.54898725, -41.        ]),\n",
       " '3N_L': array([-183.97207982, -123.14021395,  -44.5912844 ]),\n",
       " '3N_R': array([-181.97207982, -126.14021395,   -7.4087156 ]),\n",
       " '4N_L': array([-122.44813694, -114.83714871,  -31.51951106]),\n",
       " '4N_R': array([-123.44813694, -113.83714871,   13.51951106]),\n",
       " '5N_L': array([ -83.05035119,  -44.18323356, -157.58118521]),\n",
       " '5N_R': array([-86.05035119, -39.18323356, 106.58118521]),\n",
       " '6N_L': array([  0.45777028,  -6.1157717 , -47.09098064]),\n",
       " '6N_R': array([ 3.45777028, -2.1157717 , 23.09098064]),\n",
       " '7N_L': array([ -18.98770849,   76.72714712, -161.80292974]),\n",
       " '7N_R': array([-21.98770849,  75.72714712,  67.80292974]),\n",
       " '7n_L': array([ -65.76858808,  -22.50380136, -163.05430646]),\n",
       " '7n_R': array([-59.76858808, -12.50380136,  27.05430646]),\n",
       " 'AP': array([171.5543851 ,   8.37782434, -18.        ]),\n",
       " 'Amb_L': array([  81.37392126,   89.05682801, -126.28496011]),\n",
       " 'Amb_R': array([ 88.37392126,  90.05682801, 114.28496011]),\n",
       " 'DC_L': array([   7.95386995,  -85.08617873, -253.59951279]),\n",
       " 'DC_R': array([  1.95386995, -81.08617873, 145.59951279]),\n",
       " 'IC': array([-167.95063025, -332.21975967, -190.        ]),\n",
       " 'LC_L': array([-52.76434766, -95.41564452, -94.73848693]),\n",
       " 'LC_R': array([-48.76434766, -90.41564452,  67.73848693]),\n",
       " 'LRt_L': array([ 114.89390304,   90.59688854, -150.59701176]),\n",
       " 'LRt_R': array([116.89390304,  98.59688854,  70.59701176]),\n",
       " 'PBG_L': array([-136.03080367, -164.08567306, -206.51692917]),\n",
       " 'PBG_R': array([-138.03080367, -174.08567306,  167.51692917]),\n",
       " 'Pn_L': array([-225.691927  ,   29.95884043, -122.222509  ]),\n",
       " 'Pn_R': array([-216.691927  ,   29.95884043,    7.222509  ]),\n",
       " 'RtTg': array([-181.53772906,   12.02923189,  -87.        ]),\n",
       " 'SC': array([-270.87330994, -324.30039887, -179.        ]),\n",
       " 'SNC_L': array([-280.48175708,  -75.69429197, -173.51211664]),\n",
       " 'SNC_R': array([-279.48175708,  -72.69429197,   63.51211664]),\n",
       " 'SNR_L': array([-282.56715932,  -95.30400782, -203.58081813]),\n",
       " 'SNR_R': array([-285.56715932, -101.30400782,   65.58081813]),\n",
       " 'Sp5C_L': array([ 178.27750289,    7.28615535, -196.85590941]),\n",
       " 'Sp5C_R': array([193.27750289,   2.28615535,  37.85590941]),\n",
       " 'Sp5I_L': array([ 1.29443825e+02,  9.42015999e-02, -2.29228011e+02]),\n",
       " 'Sp5I_R': array([136.44382547,  -5.9057984 , 146.22801066]),\n",
       " 'Sp5O_L': array([ -15.99291429,  -11.50688637, -235.32945823]),\n",
       " 'Sp5O_R': array([-12.99291429, -16.50688637, 136.32945823]),\n",
       " 'Tz_L': array([-127.22401942,   90.2008685 ,  -76.10547253]),\n",
       " 'Tz_R': array([-119.22401942,   90.2008685 ,   19.10547253]),\n",
       " 'VCA_L': array([ -62.64882784,  -61.58732202, -267.42907133]),\n",
       " 'VCA_R': array([-61.64882784, -53.58732202, 198.42907133]),\n",
       " 'VCP_L': array([  17.52996106,  -60.94339459, -254.70847258]),\n",
       " 'VCP_R': array([ 14.52996106, -40.94339459, 187.70847258]),\n",
       " 'VLL_L': array([-180.83877583,  -95.97650639, -181.34803236]),\n",
       " 'VLL_R': array([-170.83877583,  -90.97650639,  120.34803236])}"
      ]
     },
     "execution_count": 5,
     "metadata": {},
     "output_type": "execute_result"
    }
   ],
   "source": [
    "origins"
   ]
  },
  {
   "cell_type": "code",
   "execution_count": 7,
   "id": "03d0c4bd",
   "metadata": {},
   "outputs": [
    {
     "data": {
      "text/plain": [
       "[45413, 16981, 216]"
      ]
     },
     "execution_count": 7,
     "metadata": {},
     "output_type": "execute_result"
    }
   ],
   "source": [
    "atlas_com"
   ]
  },
  {
   "cell_type": "code",
   "execution_count": 11,
   "id": "00ca094e",
   "metadata": {},
   "outputs": [
    {
     "name": "stdout",
     "output_type": "stream",
     "text": [
      "Loading image 485.tif\r"
     ]
    }
   ],
   "source": [
    "fixed_image,moving_image = get_fixed_and_moving_image(fixed_brain = \"DK52\",moving_brain = 'DK39')"
   ]
  },
  {
   "cell_type": "code",
   "execution_count": 25,
   "id": "8daf414e",
   "metadata": {},
   "outputs": [
    {
     "data": {
      "text/plain": [
       "array([2.6, 2.6, 5. ])"
      ]
     },
     "execution_count": 25,
     "metadata": {},
     "output_type": "execute_result"
    }
   ],
   "source": [
    "np.array((10.4, 10.4, 20.0))/4"
   ]
  },
  {
   "cell_type": "code",
   "execution_count": 32,
   "id": "bcaafec8",
   "metadata": {},
   "outputs": [
    {
     "data": {
      "text/plain": [
       "(1.0, 0.0, 0.0, 0.0, 1.0, 0.0, 0.0, 0.0, 1.0)"
      ]
     },
     "execution_count": 32,
     "metadata": {},
     "output_type": "execute_result"
    }
   ],
   "source": [
    "moving_image.GetDirection()"
   ]
  },
  {
   "cell_type": "code",
   "execution_count": 34,
   "id": "d9b7bbab",
   "metadata": {},
   "outputs": [
    {
     "data": {
      "text/plain": [
       "array([32., 32.,  1.])"
      ]
     },
     "execution_count": 34,
     "metadata": {},
     "output_type": "execute_result"
    }
   ],
   "source": [
    "np.array([10.4,10.4,20.0])/np.array([0.325,0.325,20.0])"
   ]
  },
  {
   "cell_type": "code",
   "execution_count": null,
   "id": "27b78ad5",
   "metadata": {},
   "outputs": [],
   "source": []
  },
  {
   "cell_type": "code",
   "execution_count": 28,
   "id": "9fbf9d96",
   "metadata": {},
   "outputs": [
    {
     "data": {
      "text/plain": [
       "['this',\n",
       " '__module__',\n",
       " '__doc__',\n",
       " 'thisown',\n",
       " '__repr__',\n",
       " '__swig_destroy__',\n",
       " '__init__',\n",
       " 'GetITKBase',\n",
       " 'GetPixelID',\n",
       " 'GetPixelIDValue',\n",
       " 'GetPixelIDTypeAsString',\n",
       " 'GetDimension',\n",
       " 'GetNumberOfComponentsPerPixel',\n",
       " 'GetNumberOfPixels',\n",
       " 'GetOrigin',\n",
       " 'SetOrigin',\n",
       " 'GetSpacing',\n",
       " 'SetSpacing',\n",
       " 'GetDirection',\n",
       " 'SetDirection',\n",
       " 'TransformIndexToPhysicalPoint',\n",
       " 'TransformPhysicalPointToIndex',\n",
       " 'TransformPhysicalPointToContinuousIndex',\n",
       " 'TransformContinuousIndexToPhysicalPoint',\n",
       " 'GetSize',\n",
       " 'GetWidth',\n",
       " 'GetHeight',\n",
       " 'GetDepth',\n",
       " 'CopyInformation',\n",
       " 'GetMetaDataKeys',\n",
       " 'HasMetaDataKey',\n",
       " 'GetMetaData',\n",
       " 'SetMetaData',\n",
       " 'EraseMetaData',\n",
       " '__str__',\n",
       " '__GetPixelAsInt8__',\n",
       " '__GetPixelAsUInt8__',\n",
       " '__GetPixelAsInt16__',\n",
       " '__GetPixelAsUInt16__',\n",
       " '__GetPixelAsInt32__',\n",
       " '__GetPixelAsUInt32__',\n",
       " '__GetPixelAsInt64__',\n",
       " '__GetPixelAsUInt64__',\n",
       " '__GetPixelAsFloat__',\n",
       " '__GetPixelAsDouble__',\n",
       " '__GetPixelAsVectorInt8__',\n",
       " '__GetPixelAsVectorUInt8__',\n",
       " '__GetPixelAsVectorInt16__',\n",
       " '__GetPixelAsVectorUInt16__',\n",
       " '__GetPixelAsVectorInt32__',\n",
       " '__GetPixelAsVectorUInt32__',\n",
       " '__GetPixelAsVectorInt64__',\n",
       " '__GetPixelAsVectorUInt64__',\n",
       " '__GetPixelAsVectorFloat32__',\n",
       " '__GetPixelAsVectorFloat64__',\n",
       " '__GetPixelAsComplexFloat32__',\n",
       " 'GetPixelAsComplexFloat64',\n",
       " '__SetPixelAsInt8__',\n",
       " '__SetPixelAsUInt8__',\n",
       " '__SetPixelAsInt16__',\n",
       " '__SetPixelAsUInt16__',\n",
       " '__SetPixelAsInt32__',\n",
       " '__SetPixelAsUInt32__',\n",
       " '__SetPixelAsInt64__',\n",
       " '__SetPixelAsUInt64__',\n",
       " '__SetPixelAsFloat__',\n",
       " '__SetPixelAsDouble__',\n",
       " '__SetPixelAsVectorInt8__',\n",
       " '__SetPixelAsVectorUInt8__',\n",
       " '__SetPixelAsVectorInt16__',\n",
       " '__SetPixelAsVectorUInt16__',\n",
       " '__SetPixelAsVectorInt32__',\n",
       " '__SetPixelAsVectorUInt32__',\n",
       " '__SetPixelAsVectorInt64__',\n",
       " '__SetPixelAsVectorUInt64__',\n",
       " '__SetPixelAsVectorFloat32__',\n",
       " '__SetPixelAsVectorFloat64__',\n",
       " '__SetPixelAsComplexFloat32__',\n",
       " 'SetPixelAsComplexFloat64',\n",
       " 'MakeUnique',\n",
       " 'IsUnique',\n",
       " '__iadd__',\n",
       " '__isub__',\n",
       " '__imul__',\n",
       " '__imod__',\n",
       " '__ifloordiv__',\n",
       " '__itruediv__',\n",
       " '__ipow__',\n",
       " '__ior__',\n",
       " '__ixor__',\n",
       " '__iand__',\n",
       " '_Image__ipaste',\n",
       " '__copy__',\n",
       " '__deepcopy__',\n",
       " '__setstate__',\n",
       " '__reduce_ex__',\n",
       " '__add__',\n",
       " '__sub__',\n",
       " '__mul__',\n",
       " '__div__',\n",
       " '__floordiv__',\n",
       " '__truediv__',\n",
       " '__neg__',\n",
       " '__pos__',\n",
       " '__radd__',\n",
       " '__rsub__',\n",
       " '__rmul__',\n",
       " '__rdiv__',\n",
       " '__rfloordiv__',\n",
       " '__rtruediv__',\n",
       " '__and__',\n",
       " '__rand__',\n",
       " '__or__',\n",
       " '__ror__',\n",
       " '__xor__',\n",
       " '__rxor__',\n",
       " '__invert__',\n",
       " '__lt__',\n",
       " '__le__',\n",
       " '__eq__',\n",
       " '__ne__',\n",
       " '__gt__',\n",
       " '__ge__',\n",
       " '__pow__',\n",
       " '__rpow__',\n",
       " '__mod__',\n",
       " '__abs__',\n",
       " '__iter__',\n",
       " '__len__',\n",
       " '__getitem__',\n",
       " '__setitem__',\n",
       " 'GetPixel',\n",
       " 'SetPixel',\n",
       " '__dict__',\n",
       " '__weakref__',\n",
       " '__hash__',\n",
       " '__getattribute__',\n",
       " '__setattr__',\n",
       " '__delattr__',\n",
       " '__new__',\n",
       " '__reduce__',\n",
       " '__subclasshook__',\n",
       " '__init_subclass__',\n",
       " '__format__',\n",
       " '__sizeof__',\n",
       " '__dir__',\n",
       " '__class__']"
      ]
     },
     "execution_count": 28,
     "metadata": {},
     "output_type": "execute_result"
    }
   ],
   "source": [
    "moving_image.__dir__()"
   ]
  },
  {
   "cell_type": "code",
   "execution_count": 26,
   "id": "8831e0c9",
   "metadata": {},
   "outputs": [
    {
     "data": {
      "text/plain": [
       "(2031, 1125, 486)"
      ]
     },
     "execution_count": 26,
     "metadata": {},
     "output_type": "execute_result"
    }
   ],
   "source": [
    "moving_image.GetSize()"
   ]
  },
  {
   "cell_type": "code",
   "execution_count": 17,
   "id": "155e5aaf",
   "metadata": {},
   "outputs": [
    {
     "data": {
      "text/plain": [
       "array([64992, 36000,   486])"
      ]
     },
     "execution_count": 17,
     "metadata": {},
     "output_type": "execute_result"
    }
   ],
   "source": [
    "np.array((2031, 1125, 486))*np.array([32,32,1])"
   ]
  },
  {
   "cell_type": "code",
   "execution_count": 22,
   "id": "241b0d2d",
   "metadata": {},
   "outputs": [
    {
     "data": {
      "text/plain": [
       "array([4.66896552, 4.29389313, 4.15384615])"
      ]
     },
     "execution_count": 22,
     "metadata": {},
     "output_type": "execute_result"
    }
   ],
   "source": [
    "np.array(moving_image.GetSize())/np.array([435, 262, 117])"
   ]
  },
  {
   "cell_type": "code",
   "execution_count": 17,
   "id": "3fdf4715",
   "metadata": {},
   "outputs": [
    {
     "name": "stdout",
     "output_type": "stream",
     "text": [
      "itk::simple::Transform\n",
      " GaussianSmoothingOnUpdateDisplacementFieldTransform (0x2084a330)\n",
      "   RTTI typeinfo:   itk::GaussianSmoothingOnUpdateDisplacementFieldTransform<double, 3u>\n",
      "   Reference Count: 1\n",
      "   Modified Time: 189904\n",
      "   Debug: Off\n",
      "   Object Name: \n",
      "   Observers: \n",
      "     none\n",
      "   DisplacementField: \n",
      "     Image (0x1f53df0)\n",
      "       RTTI typeinfo:   itk::Image<itk::Vector<double, 3u>, 3u>\n",
      "       Reference Count: 3\n",
      "       Modified Time: 189901\n",
      "       Debug: Off\n",
      "       Object Name: \n",
      "       Observers: \n",
      "         none\n",
      "       Source: (none)\n",
      "       Source output name: (none)\n",
      "       Release Data: Off\n",
      "       Data Released: False\n",
      "       Global Release Data: Off\n",
      "       PipelineMTime: 0\n",
      "       UpdateMTime: 0\n",
      "       RealTimeStamp: 0 seconds \n",
      "       LargestPossibleRegion: \n",
      "         Dimension: 3\n",
      "         Index: [0, 0, 0]\n",
      "         Size: [435, 262, 117]\n",
      "       BufferedRegion: \n",
      "         Dimension: 3\n",
      "         Index: [0, 0, 0]\n",
      "         Size: [435, 262, 117]\n",
      "       RequestedRegion: \n",
      "         Dimension: 3\n",
      "         Index: [0, 0, 0]\n",
      "         Size: [435, 262, 117]\n",
      "       Spacing: [41.6, 41.6, 80]\n",
      "       Origin: [31.2, 26, 40]\n",
      "       Direction: \n",
      "1 0 0\n",
      "0 1 0\n",
      "0 0 1\n",
      "\n",
      "       IndexToPointMatrix: \n",
      "41.6 0 0\n",
      "0 41.6 0\n",
      "0 0 80\n",
      "\n",
      "       PointToIndexMatrix: \n",
      "0.0240385 0 0\n",
      "0 0.0240385 0\n",
      "0 0 0.0125\n",
      "\n",
      "       Inverse Direction: \n",
      "1 0 0\n",
      "0 1 0\n",
      "0 0 1\n",
      "\n",
      "       PixelContainer: \n",
      "         ImportImageContainer (0x2085bdc0)\n",
      "           RTTI typeinfo:   itk::ImportImageContainer<unsigned long, itk::Vector<double, 3u> >\n",
      "           Reference Count: 1\n",
      "           Modified Time: 189902\n",
      "           Debug: Off\n",
      "           Object Name: \n",
      "           Observers: \n",
      "             none\n",
      "           Pointer: 0x2e1e8c30\n",
      "           Container manages memory: true\n",
      "           Size: 13334490\n",
      "           Capacity: 13334490\n",
      "   InverseDisplacementField: (null)\n",
      "   Interpolator: \n",
      "     VectorLinearInterpolateImageFunction (0x1d5f950)\n",
      "       RTTI typeinfo:   itk::VectorLinearInterpolateImageFunction<itk::Image<itk::Vector<double, 3u>, 3u>, double>\n",
      "       Reference Count: 1\n",
      "       Modified Time: 189893\n",
      "       Debug: Off\n",
      "       Object Name: \n",
      "       Observers: \n",
      "         none\n",
      "       InputImage: 0x1f53df0\n",
      "       StartIndex: [0, 0, 0]\n",
      "       EndIndex: [434, 261, 116]\n",
      "       StartContinuousIndex: [-0.5, -0.5, -0.5]\n",
      "       EndContinuousIndex: [434.5, 261.5, 116.5]\n",
      "   InverseInterpolator: \n",
      "     VectorLinearInterpolateImageFunction (0x1d9efa0)\n",
      "       RTTI typeinfo:   itk::VectorLinearInterpolateImageFunction<itk::Image<itk::Vector<double, 3u>, 3u>, double>\n",
      "       Reference Count: 1\n",
      "       Modified Time: 189894\n",
      "       Debug: Off\n",
      "       Object Name: \n",
      "       Observers: \n",
      "         none\n",
      "       InputImage: 0\n",
      "       StartIndex: [0, 0, 0]\n",
      "       EndIndex: [0, 0, 0]\n",
      "       StartContinuousIndex: [0, 0, 0]\n",
      "       EndContinuousIndex: [0, 0, 0]\n",
      "   DisplacementFieldSetTime: 189903\n",
      "   m_IdentityJacobian: [1, 0, 0]\n",
      "[0, 1, 0]\n",
      "[0, 0, 1]\n",
      "\n",
      "    CoordinateTolerance: 1e-06\n",
      "    DirectionTolerance: 1e-06\n",
      "   Gaussian smoothing parameters: \n",
      "   m_GaussianSmoothingVarianceForTheUpdateField: 3\n",
      "   m_GaussianSmoothingVarianceForTheTotalField: 0.5\n",
      "\n"
     ]
    }
   ],
   "source": [
    "transform = get_demons_transform('DK39')\n",
    "print(transform)"
   ]
  },
  {
   "cell_type": "code",
   "execution_count": 6,
   "id": "ff43a6bf",
   "metadata": {},
   "outputs": [
    {
     "data": {
      "text/plain": [
       "array([43666.34615385, 16327.88461538,   216.        ])"
      ]
     },
     "execution_count": 6,
     "metadata": {},
     "output_type": "execute_result"
    }
   ],
   "source": [
    "braini = 'DK39'\n",
    "atlas_coms = get_atlas_com(braini)\n",
    "atlas_com = atlas_coms['10N_L']\n",
    "thumbnail_com = atlas_to_thumbnail_coord(atlas_com)\n",
    "thumbnail_com"
   ]
  },
  {
   "cell_type": "code",
   "execution_count": 9,
   "id": "8710c6d3",
   "metadata": {},
   "outputs": [
    {
     "data": {
      "text/plain": [
       "array([10916.58653846,  4081.97115385,    54.        ])"
      ]
     },
     "execution_count": 9,
     "metadata": {},
     "output_type": "execute_result"
    }
   ],
   "source": [
    "thumbnail_com/4"
   ]
  },
  {
   "cell_type": "code",
   "execution_count": 14,
   "id": "437f88e4",
   "metadata": {},
   "outputs": [
    {
     "data": {
      "text/plain": [
       "array([10916.58653846,  4081.97115385,    54.        ])"
      ]
     },
     "execution_count": 14,
     "metadata": {},
     "output_type": "execute_result"
    }
   ],
   "source": [
    "np.array(atlas_com)*np.array([10,10,20])/np.array([0.325,0.325,20.0])/np.array([32,32,1])/4"
   ]
  },
  {
   "cell_type": "code",
   "execution_count": 23,
   "id": "c9c19bb3",
   "metadata": {},
   "outputs": [
    {
     "data": {
      "text/plain": [
       "array([44913, 16481,   132])"
      ]
     },
     "execution_count": 23,
     "metadata": {},
     "output_type": "execute_result"
    }
   ],
   "source": [
    "(np.array(atlas_com-np.array([500,500,150])))*np.array([1,1,2])"
   ]
  },
  {
   "cell_type": "code",
   "execution_count": 5,
   "id": "927681b9",
   "metadata": {},
   "outputs": [],
   "source": [
    "com_diff = {}\n",
    "for structure in atlas_coms.keys():\n",
    "    moving_com = atlas_coms[structure]\n",
    "    fixed_com = estimated_target_coms[structure]\n",
    "    com_diffi= np.array(moving_com)-np.array(fixed_com)\n",
    "    com_diff[structure] = com_diffi"
   ]
  },
  {
   "cell_type": "code",
   "execution_count": 29,
   "id": "646136c9",
   "metadata": {},
   "outputs": [
    {
     "data": {
      "text/plain": [
       "array([[1.        , 0.        , 0.        ],\n",
       "       [0.        , 0.5       , 0.        ],\n",
       "       [0.        , 0.        , 0.33333333]])"
      ]
     },
     "execution_count": 29,
     "metadata": {},
     "output_type": "execute_result"
    }
   ],
   "source": [
    "np.linalg.inv(np.diag([1,2,3]))"
   ]
  },
  {
   "cell_type": "code",
   "execution_count": null,
   "id": "bf0a23c8",
   "metadata": {},
   "outputs": [],
   "source": []
  }
 ],
 "metadata": {
  "kernelspec": {
   "display_name": "Python 3",
   "language": "python",
   "name": "python3"
  },
  "language_info": {
   "codemirror_mode": {
    "name": "ipython",
    "version": 3
   },
   "file_extension": ".py",
   "mimetype": "text/x-python",
   "name": "python",
   "nbconvert_exporter": "python",
   "pygments_lexer": "ipython3",
   "version": "3.6.9"
  }
 },
 "nbformat": 4,
 "nbformat_minor": 5
}
