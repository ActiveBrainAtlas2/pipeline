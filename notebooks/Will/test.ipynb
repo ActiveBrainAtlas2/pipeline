{
 "cells": [
  {
   "cell_type": "code",
   "execution_count": 1,
   "id": "5ecd1578",
   "metadata": {},
   "outputs": [],
   "source": [
    "import sys\n",
    "sys.path.append('/home/zhw272/programming/pipeline_utility')\n",
    "from toolbox.sitk.registration_method_util import *\n",
    "from notebooks.Will.toolbox.sitk.utility import get_fixed_and_moving_image\n",
    "import json\n",
    "import numpy as np\n",
    "from notebooks.Will.toolbox.coordinate_transforms import atlas_to_thumbnail_coord\n",
    "from notebooks.Will.toolbox.atlas.get_volumn_and_origin import get_origin_and_volumn\n",
    "from notebooks.Will.toolbox.data_base.sql_tools import get_atlas_centers"
   ]
  },
  {
   "cell_type": "code",
   "execution_count": 10,
   "id": "4437a3ae",
   "metadata": {},
   "outputs": [],
   "source": [
    "def get_DK52_com():\n",
    "    with open('/home/zhw272/programming/pipeline_utility/notebooks/Bili/data/DK52_coms_kui_detected.json', 'r') as f:\n",
    "        atlas_coms = json.load(f)\n",
    "    return atlas_coms"
   ]
  },
  {
   "cell_type": "code",
   "execution_count": 3,
   "id": "797fb16d",
   "metadata": {},
   "outputs": [],
   "source": [
    "def get_demons_transform(braini):\n",
    "    save_path = '/net/birdstore/Active_Atlas_Data/data_root/tfm'\n",
    "    transform = sitk.ReadTransform(save_path + '/demons/' + braini + '_demons.tfm')\n",
    "    return transform"
   ]
  },
  {
   "cell_type": "code",
   "execution_count": 4,
   "id": "ad8aa38e",
   "metadata": {},
   "outputs": [],
   "source": [
    "def transform_atlas_com(atlas_com):\n",
    "    transform = get_demons_transform(braini)\n",
    "    estimated_target_coms = {}\n",
    "    for name, com in atlas_com.items():\n",
    "        transformed_coms[name] = transform.TransformPoint(com)\n",
    "    return estimated_target_coms"
   ]
  },
  {
   "cell_type": "code",
   "execution_count": 5,
   "id": "bc13e843",
   "metadata": {},
   "outputs": [
    {
     "name": "stdout",
     "output_type": "stream",
     "text": [
      "Loading image 485.tif\r"
     ]
    }
   ],
   "source": [
    "fixed_image,moving_image = get_fixed_and_moving_image(fixed_brain = \"DK52\",moving_brain = 'DK39')"
   ]
  },
  {
   "cell_type": "code",
   "execution_count": 11,
   "id": "ff43a6bf",
   "metadata": {},
   "outputs": [],
   "source": [
    "atlas_coms = get_DK52_com()\n",
    "com_10N_L = atlas_coms['10N_L']"
   ]
  },
  {
   "cell_type": "code",
   "execution_count": 8,
   "id": "81ed739b",
   "metadata": {},
   "outputs": [],
   "source": [
    "values = []\n",
    "for valuei in atlas_coms.values():\n",
    "    coord = np.array(valuei)*np.array([0.325,0.325,20])/4/np.array([10.4,10.4,20.0])\n",
    "    values.append(coord)"
   ]
  },
  {
   "cell_type": "code",
   "execution_count": 12,
   "id": "4b4ecaea",
   "metadata": {},
   "outputs": [
    {
     "data": {
      "text/plain": [
       "[45413, 16981, 216]"
      ]
     },
     "execution_count": 12,
     "metadata": {},
     "output_type": "execute_result"
    }
   ],
   "source": [
    "com_10N_L"
   ]
  },
  {
   "cell_type": "code",
   "execution_count": null,
   "id": "eedff876",
   "metadata": {},
   "outputs": [],
   "source": [
    "atlas_spacing = np.array([10.0,10.0,20.0])\n",
    "image_spacing = np.array([0.325,0.325,20.0])\n",
    "thumbnail_spacing = np.array([10.4,10.4,20.0])\n",
    "image_to_thumbnail_factor = np.array([32,32,1])"
   ]
  },
  {
   "cell_type": "code",
   "execution_count": 28,
   "id": "3e5e8268",
   "metadata": {
    "collapsed": true
   },
   "outputs": [
    {
     "data": {
      "text/plain": [
       "['this',\n",
       " '__module__',\n",
       " '__doc__',\n",
       " 'thisown',\n",
       " '__repr__',\n",
       " '__swig_destroy__',\n",
       " '__init__',\n",
       " 'GetITKBase',\n",
       " 'GetPixelID',\n",
       " 'GetPixelIDValue',\n",
       " 'GetPixelIDTypeAsString',\n",
       " 'GetDimension',\n",
       " 'GetNumberOfComponentsPerPixel',\n",
       " 'GetNumberOfPixels',\n",
       " 'GetOrigin',\n",
       " 'SetOrigin',\n",
       " 'GetSpacing',\n",
       " 'SetSpacing',\n",
       " 'GetDirection',\n",
       " 'SetDirection',\n",
       " 'TransformIndexToPhysicalPoint',\n",
       " 'TransformPhysicalPointToIndex',\n",
       " 'TransformPhysicalPointToContinuousIndex',\n",
       " 'TransformContinuousIndexToPhysicalPoint',\n",
       " 'GetSize',\n",
       " 'GetWidth',\n",
       " 'GetHeight',\n",
       " 'GetDepth',\n",
       " 'CopyInformation',\n",
       " 'GetMetaDataKeys',\n",
       " 'HasMetaDataKey',\n",
       " 'GetMetaData',\n",
       " 'SetMetaData',\n",
       " 'EraseMetaData',\n",
       " '__str__',\n",
       " '__GetPixelAsInt8__',\n",
       " '__GetPixelAsUInt8__',\n",
       " '__GetPixelAsInt16__',\n",
       " '__GetPixelAsUInt16__',\n",
       " '__GetPixelAsInt32__',\n",
       " '__GetPixelAsUInt32__',\n",
       " '__GetPixelAsInt64__',\n",
       " '__GetPixelAsUInt64__',\n",
       " '__GetPixelAsFloat__',\n",
       " '__GetPixelAsDouble__',\n",
       " '__GetPixelAsVectorInt8__',\n",
       " '__GetPixelAsVectorUInt8__',\n",
       " '__GetPixelAsVectorInt16__',\n",
       " '__GetPixelAsVectorUInt16__',\n",
       " '__GetPixelAsVectorInt32__',\n",
       " '__GetPixelAsVectorUInt32__',\n",
       " '__GetPixelAsVectorInt64__',\n",
       " '__GetPixelAsVectorUInt64__',\n",
       " '__GetPixelAsVectorFloat32__',\n",
       " '__GetPixelAsVectorFloat64__',\n",
       " '__GetPixelAsComplexFloat32__',\n",
       " 'GetPixelAsComplexFloat64',\n",
       " '__SetPixelAsInt8__',\n",
       " '__SetPixelAsUInt8__',\n",
       " '__SetPixelAsInt16__',\n",
       " '__SetPixelAsUInt16__',\n",
       " '__SetPixelAsInt32__',\n",
       " '__SetPixelAsUInt32__',\n",
       " '__SetPixelAsInt64__',\n",
       " '__SetPixelAsUInt64__',\n",
       " '__SetPixelAsFloat__',\n",
       " '__SetPixelAsDouble__',\n",
       " '__SetPixelAsVectorInt8__',\n",
       " '__SetPixelAsVectorUInt8__',\n",
       " '__SetPixelAsVectorInt16__',\n",
       " '__SetPixelAsVectorUInt16__',\n",
       " '__SetPixelAsVectorInt32__',\n",
       " '__SetPixelAsVectorUInt32__',\n",
       " '__SetPixelAsVectorInt64__',\n",
       " '__SetPixelAsVectorUInt64__',\n",
       " '__SetPixelAsVectorFloat32__',\n",
       " '__SetPixelAsVectorFloat64__',\n",
       " '__SetPixelAsComplexFloat32__',\n",
       " 'SetPixelAsComplexFloat64',\n",
       " 'MakeUnique',\n",
       " 'IsUnique',\n",
       " '__iadd__',\n",
       " '__isub__',\n",
       " '__imul__',\n",
       " '__imod__',\n",
       " '__ifloordiv__',\n",
       " '__itruediv__',\n",
       " '__ipow__',\n",
       " '__ior__',\n",
       " '__ixor__',\n",
       " '__iand__',\n",
       " '_Image__ipaste',\n",
       " '__copy__',\n",
       " '__deepcopy__',\n",
       " '__setstate__',\n",
       " '__reduce_ex__',\n",
       " '__add__',\n",
       " '__sub__',\n",
       " '__mul__',\n",
       " '__div__',\n",
       " '__floordiv__',\n",
       " '__truediv__',\n",
       " '__neg__',\n",
       " '__pos__',\n",
       " '__radd__',\n",
       " '__rsub__',\n",
       " '__rmul__',\n",
       " '__rdiv__',\n",
       " '__rfloordiv__',\n",
       " '__rtruediv__',\n",
       " '__and__',\n",
       " '__rand__',\n",
       " '__or__',\n",
       " '__ror__',\n",
       " '__xor__',\n",
       " '__rxor__',\n",
       " '__invert__',\n",
       " '__lt__',\n",
       " '__le__',\n",
       " '__eq__',\n",
       " '__ne__',\n",
       " '__gt__',\n",
       " '__ge__',\n",
       " '__pow__',\n",
       " '__rpow__',\n",
       " '__mod__',\n",
       " '__abs__',\n",
       " '__iter__',\n",
       " '__len__',\n",
       " '__getitem__',\n",
       " '__setitem__',\n",
       " 'GetPixel',\n",
       " 'SetPixel',\n",
       " '__dict__',\n",
       " '__weakref__',\n",
       " '__hash__',\n",
       " '__getattribute__',\n",
       " '__setattr__',\n",
       " '__delattr__',\n",
       " '__new__',\n",
       " '__reduce__',\n",
       " '__subclasshook__',\n",
       " '__init_subclass__',\n",
       " '__format__',\n",
       " '__sizeof__',\n",
       " '__dir__',\n",
       " '__class__']"
      ]
     },
     "execution_count": 28,
     "metadata": {},
     "output_type": "execute_result"
    }
   ],
   "source": [
    "moving_image.__dir__()"
   ]
  },
  {
   "cell_type": "code",
   "execution_count": 14,
   "id": "df3baee8",
   "metadata": {},
   "outputs": [
    {
     "data": {
      "text/plain": [
       "(2031, 1125, 486)"
      ]
     },
     "execution_count": 14,
     "metadata": {},
     "output_type": "execute_result"
    }
   ],
   "source": [
    "thumb_nail_size = moving_image.GetSize()\n",
    "thumb_nail_size"
   ]
  },
  {
   "cell_type": "code",
   "execution_count": 23,
   "id": "12da53b5",
   "metadata": {},
   "outputs": [],
   "source": [
    "transform_displacement_field_size = np.array([435,262,117])\n",
    "displacement_spacing = np.array([41.6,41.6,80])\n",
    "displacement_origin = np.array([32.2,26,40])"
   ]
  },
  {
   "cell_type": "code",
   "execution_count": 26,
   "id": "a8e8ebc0",
   "metadata": {},
   "outputs": [
    {
     "data": {
      "text/plain": [
       "array([4., 4., 4.])"
      ]
     },
     "execution_count": 26,
     "metadata": {},
     "output_type": "execute_result"
    }
   ],
   "source": [
    "displacement_spacing/np.array([10.4,10.4,20])"
   ]
  },
  {
   "cell_type": "code",
   "execution_count": 15,
   "id": "4529abcf",
   "metadata": {
    "collapsed": true
   },
   "outputs": [
    {
     "name": "stdout",
     "output_type": "stream",
     "text": [
      "itk::simple::Transform\n",
      " GaussianSmoothingOnUpdateDisplacementFieldTransform (0x3969a20)\n",
      "   RTTI typeinfo:   itk::GaussianSmoothingOnUpdateDisplacementFieldTransform<double, 3u>\n",
      "   Reference Count: 1\n",
      "   Modified Time: 189881\n",
      "   Debug: Off\n",
      "   Object Name: \n",
      "   Observers: \n",
      "     none\n",
      "   DisplacementField: \n",
      "     Image (0x3a5d340)\n",
      "       RTTI typeinfo:   itk::Image<itk::Vector<double, 3u>, 3u>\n",
      "       Reference Count: 3\n",
      "       Modified Time: 189878\n",
      "       Debug: Off\n",
      "       Object Name: \n",
      "       Observers: \n",
      "         none\n",
      "       Source: (none)\n",
      "       Source output name: (none)\n",
      "       Release Data: Off\n",
      "       Data Released: False\n",
      "       Global Release Data: Off\n",
      "       PipelineMTime: 0\n",
      "       UpdateMTime: 0\n",
      "       RealTimeStamp: 0 seconds \n",
      "       LargestPossibleRegion: \n",
      "         Dimension: 3\n",
      "         Index: [0, 0, 0]\n",
      "         Size: [435, 262, 117]\n",
      "       BufferedRegion: \n",
      "         Dimension: 3\n",
      "         Index: [0, 0, 0]\n",
      "         Size: [435, 262, 117]\n",
      "       RequestedRegion: \n",
      "         Dimension: 3\n",
      "         Index: [0, 0, 0]\n",
      "         Size: [435, 262, 117]\n",
      "       Spacing: [41.6, 41.6, 80]\n",
      "       Origin: [31.2, 26, 40]\n",
      "       Direction: \n",
      "1 0 0\n",
      "0 1 0\n",
      "0 0 1\n",
      "\n",
      "       IndexToPointMatrix: \n",
      "41.6 0 0\n",
      "0 41.6 0\n",
      "0 0 80\n",
      "\n",
      "       PointToIndexMatrix: \n",
      "0.0240385 0 0\n",
      "0 0.0240385 0\n",
      "0 0 0.0125\n",
      "\n",
      "       Inverse Direction: \n",
      "1 0 0\n",
      "0 1 0\n",
      "0 0 1\n",
      "\n",
      "       PixelContainer: \n",
      "         ImportImageContainer (0x3a5ea80)\n",
      "           RTTI typeinfo:   itk::ImportImageContainer<unsigned long, itk::Vector<double, 3u> >\n",
      "           Reference Count: 1\n",
      "           Modified Time: 189879\n",
      "           Debug: Off\n",
      "           Object Name: \n",
      "           Observers: \n",
      "             none\n",
      "           Pointer: 0x7ff20828e010\n",
      "           Container manages memory: true\n",
      "           Size: 13334490\n",
      "           Capacity: 13334490\n",
      "   InverseDisplacementField: (null)\n",
      "   Interpolator: \n",
      "     VectorLinearInterpolateImageFunction (0x3a9b740)\n",
      "       RTTI typeinfo:   itk::VectorLinearInterpolateImageFunction<itk::Image<itk::Vector<double, 3u>, 3u>, double>\n",
      "       Reference Count: 1\n",
      "       Modified Time: 189870\n",
      "       Debug: Off\n",
      "       Object Name: \n",
      "       Observers: \n",
      "         none\n",
      "       InputImage: 0x3a5d340\n",
      "       StartIndex: [0, 0, 0]\n",
      "       EndIndex: [434, 261, 116]\n",
      "       StartContinuousIndex: [-0.5, -0.5, -0.5]\n",
      "       EndContinuousIndex: [434.5, 261.5, 116.5]\n",
      "   InverseInterpolator: \n",
      "     VectorLinearInterpolateImageFunction (0x2f2fdc0)\n",
      "       RTTI typeinfo:   itk::VectorLinearInterpolateImageFunction<itk::Image<itk::Vector<double, 3u>, 3u>, double>\n",
      "       Reference Count: 1\n",
      "       Modified Time: 189871\n",
      "       Debug: Off\n",
      "       Object Name: \n",
      "       Observers: \n",
      "         none\n",
      "       InputImage: 0\n",
      "       StartIndex: [0, 0, 0]\n",
      "       EndIndex: [0, 0, 0]\n",
      "       StartContinuousIndex: [0, 0, 0]\n",
      "       EndContinuousIndex: [0, 0, 0]\n",
      "   DisplacementFieldSetTime: 189880\n",
      "   m_IdentityJacobian: [1, 0, 0]\n",
      "[0, 1, 0]\n",
      "[0, 0, 1]\n",
      "\n",
      "    CoordinateTolerance: 1e-06\n",
      "    DirectionTolerance: 1e-06\n",
      "   Gaussian smoothing parameters: \n",
      "   m_GaussianSmoothingVarianceForTheUpdateField: 3\n",
      "   m_GaussianSmoothingVarianceForTheTotalField: 0.5\n",
      "\n"
     ]
    }
   ],
   "source": [
    "transform = get_demons_transform('DK39')\n",
    "print(transform)"
   ]
  },
  {
   "cell_type": "code",
   "execution_count": 19,
   "id": "a0230a09",
   "metadata": {
    "scrolled": true
   },
   "outputs": [
    {
     "data": {
      "text/plain": [
       "['this',\n",
       " '__module__',\n",
       " '__doc__',\n",
       " 'thisown',\n",
       " '__repr__',\n",
       " '__swig_destroy__',\n",
       " '__init__',\n",
       " 'GetITKBase',\n",
       " 'GetDimension',\n",
       " 'SetParameters',\n",
       " 'GetParameters',\n",
       " 'GetNumberOfParameters',\n",
       " 'SetFixedParameters',\n",
       " 'GetFixedParameters',\n",
       " 'GetNumberOfFixedParameters',\n",
       " 'TransformPoint',\n",
       " 'TransformVector',\n",
       " 'WriteTransform',\n",
       " 'IsLinear',\n",
       " 'SetIdentity',\n",
       " 'SetInverse',\n",
       " 'GetInverse',\n",
       " '__str__',\n",
       " 'GetName',\n",
       " 'MakeUnique',\n",
       " 'GetTransformEnum',\n",
       " '__copy__',\n",
       " '__deepcopy__',\n",
       " '__setstate__',\n",
       " '__reduce_ex__',\n",
       " 'Downcast',\n",
       " '__dict__',\n",
       " '__weakref__',\n",
       " '__hash__',\n",
       " '__getattribute__',\n",
       " '__setattr__',\n",
       " '__delattr__',\n",
       " '__lt__',\n",
       " '__le__',\n",
       " '__eq__',\n",
       " '__ne__',\n",
       " '__gt__',\n",
       " '__ge__',\n",
       " '__new__',\n",
       " '__reduce__',\n",
       " '__subclasshook__',\n",
       " '__init_subclass__',\n",
       " '__format__',\n",
       " '__sizeof__',\n",
       " '__dir__',\n",
       " '__class__']"
      ]
     },
     "execution_count": 19,
     "metadata": {},
     "output_type": "execute_result"
    }
   ],
   "source": [
    "transform.__dir__()"
   ]
  },
  {
   "cell_type": "code",
   "execution_count": 61,
   "id": "6542722e",
   "metadata": {},
   "outputs": [
    {
     "data": {
      "text/plain": [
       "array([402.96875  , 210.8515625,  93.75     ])"
      ]
     },
     "execution_count": 61,
     "metadata": {},
     "output_type": "execute_result"
    }
   ],
   "source": [
    "values= np.array(values)\n",
    "values.max(axis=0)"
   ]
  },
  {
   "cell_type": "code",
   "execution_count": 62,
   "id": "b583f2c6",
   "metadata": {},
   "outputs": [],
   "source": [
    "transformed_values = [transform.TransformPoint(valuei) for valuei in values]"
   ]
  },
  {
   "cell_type": "code",
   "execution_count": 63,
   "id": "3053d995",
   "metadata": {},
   "outputs": [],
   "source": [
    "nstr= len(transformed_values)"
   ]
  },
  {
   "cell_type": "code",
   "execution_count": 66,
   "id": "3a0fe851",
   "metadata": {},
   "outputs": [],
   "source": [
    "diff = [(values[stri]-transformed_values[stri])*4*np.array([10.4,10.4,20.0]) for stri in range(nstr)]"
   ]
  },
  {
   "cell_type": "code",
   "execution_count": 67,
   "id": "08acb01b",
   "metadata": {
    "collapsed": true
   },
   "outputs": [
    {
     "data": {
      "text/plain": [
       "[array([-67.19797688, -17.49888009, -14.66620212]),\n",
       " array([-117.69691066,  -30.64918274,  -25.68769273]),\n",
       " array([-107.03980028,  -27.87398575,  -23.36172989]),\n",
       " array([-56.35003447, -14.67403258, -12.29882398]),\n",
       " array([-63.31472979, -16.48770017, -13.81892799]),\n",
       " array([-61.82843539, -16.10065033, -13.49450047]),\n",
       " array([-61.94459711, -16.13089973, -13.51985306]),\n",
       " array([-12.35794068,  -3.21810832,  -2.69718529]),\n",
       " array([-185.55500233,  -48.32005157,  -40.49845179]),\n",
       " array([-125.36588117,  -32.64628979,  -27.36172774]),\n",
       " array([-70.44439652, -18.34428914, -15.37483135]),\n",
       " array([-21.57632305,  -5.61863259,  -4.70905181]),\n",
       " array([-65.46520229, -17.04769688, -14.28825993]),\n",
       " array([-94.88802838, -24.70957834, -20.7096117 ]),\n",
       " array([-26.29451597,  -6.84729169,  -5.7388393 ]),\n",
       " array([-239.81991355,  -62.45095713,  -52.3414155 ]),\n",
       " array([0., 0., 0.]),\n",
       " array([-237.67807231,  -61.89323529,  -51.87411008]),\n",
       " array([-32.0102368 ,  -8.33575423,  -6.9865521 ]),\n",
       " array([-23.35747755,  -6.08247909,  -5.09790151]),\n",
       " array([-111.8721665 ,  -29.13243964,  -24.41677655]),\n",
       " array([-69.99489067, -18.22715516, -15.27630048]),\n",
       " array([-262.85638231,  -68.44972694,  -57.36863338]),\n",
       " array([0., 0., 0.]),\n",
       " array([-146.41949512,  -38.12889316,  -31.95717   ]),\n",
       " array([-104.27679605,  -27.15451753,  -22.75891194]),\n",
       " array([-223.13645639,  -58.10649169,  -48.70040047]),\n",
       " array([-130.22611714,  -33.91187893,  -28.42220352]),\n",
       " array([-10.55295903,  -2.74807829,  -2.30324878]),\n",
       " array([-195.03223627,  -50.78802872,  -42.56706218]),\n",
       " array([-25.35747715,  -6.60330022,  -5.53443896]),\n",
       " array([-243.5772832 ,  -63.4294741 ,  -53.16184643]),\n",
       " array([-218.30425895,  -56.84808934,  -47.6454193 ]),\n",
       " array([-151.837888  ,  -39.53972564,  -33.13889346]),\n",
       " array([-5.72651299, -1.49122712, -1.24982274]),\n",
       " array([-228.46742206,  -59.49465651,  -49.86356515]),\n",
       " array([-79.90194969, -20.8070851 , -17.43884597]),\n",
       " array([-184.09293007,  -47.93919714,  -40.17871523]),\n",
       " array([0., 0., 0.]),\n",
       " array([-170.45162097,  -44.38707055,  -37.2023938 ]),\n",
       " array([0., 0., 0.]),\n",
       " array([-266.09402736,  -69.29303914,  -58.07635412]),\n",
       " array([-2.4117863 , -0.62804902, -0.52638631]),\n",
       " array([-206.49465352,  -53.77292169,  -45.06872157])]"
      ]
     },
     "execution_count": 67,
     "metadata": {},
     "output_type": "execute_result"
    }
   ],
   "source": [
    "diff"
   ]
  },
  {
   "cell_type": "code",
   "execution_count": 24,
   "id": "9ab7c6e1",
   "metadata": {},
   "outputs": [
    {
     "data": {
      "text/plain": [
       "array([368.980625, 137.970625, 108.      ])"
      ]
     },
     "execution_count": 24,
     "metadata": {},
     "output_type": "execute_result"
    }
   ],
   "source": [
    "np.array(atlas_com)*np.array([0.325,0.325,20])/4/10"
   ]
  },
  {
   "cell_type": "code",
   "execution_count": 9,
   "id": "4b61b3bf",
   "metadata": {},
   "outputs": [
    {
     "data": {
      "text/plain": [
       "array([10916.58653846,  4081.97115385,    54.        ])"
      ]
     },
     "execution_count": 9,
     "metadata": {},
     "output_type": "execute_result"
    }
   ],
   "source": [
    "thumbnail_com/4"
   ]
  },
  {
   "cell_type": "code",
   "execution_count": 14,
   "id": "f116f68a",
   "metadata": {},
   "outputs": [
    {
     "data": {
      "text/plain": [
       "array([10916.58653846,  4081.97115385,    54.        ])"
      ]
     },
     "execution_count": 14,
     "metadata": {},
     "output_type": "execute_result"
    }
   ],
   "source": [
    "np.array(atlas_com)*np.array([10,10,20])/np.array([0.325,0.325,20.0])/np.array([32,32,1])/4"
   ]
  },
  {
   "cell_type": "code",
   "execution_count": 23,
   "id": "f5b8fd56",
   "metadata": {},
   "outputs": [
    {
     "data": {
      "text/plain": [
       "array([44913, 16481,   132])"
      ]
     },
     "execution_count": 23,
     "metadata": {},
     "output_type": "execute_result"
    }
   ],
   "source": [
    "(np.array(atlas_com-np.array([500,500,150])))*np.array([1,1,2])"
   ]
  },
  {
   "cell_type": "code",
   "execution_count": 5,
   "id": "927681b9",
   "metadata": {},
   "outputs": [],
   "source": [
    "com_diff = {}\n",
    "for structure in atlas_coms.keys():\n",
    "    moving_com = atlas_coms[structure]\n",
    "    fixed_com = estimated_target_coms[structure]\n",
    "    com_diffi= np.array(moving_com)-np.array(fixed_com)\n",
    "    com_diff[structure] = com_diffi"
   ]
  }
 ],
 "metadata": {
  "kernelspec": {
   "display_name": "Python 3",
   "language": "python",
   "name": "python3"
  },
  "language_info": {
   "codemirror_mode": {
    "name": "ipython",
    "version": 3
   },
   "file_extension": ".py",
   "mimetype": "text/x-python",
   "name": "python",
   "nbconvert_exporter": "python",
   "pygments_lexer": "ipython3",
   "version": "3.6.9"
  }
 },
 "nbformat": 4,
 "nbformat_minor": 5
}
