{
 "metadata": {
  "language_info": {
   "codemirror_mode": {
    "name": "ipython",
    "version": 3
   },
   "file_extension": ".py",
   "mimetype": "text/x-python",
   "name": "python",
   "nbconvert_exporter": "python",
   "pygments_lexer": "ipython3",
   "version": "3.6.9"
  },
  "orig_nbformat": 4,
  "kernelspec": {
   "name": "python3",
   "display_name": "Python 3.6.9 64-bit ('pipeline': venv)"
  },
  "interpreter": {
   "hash": "2bd29f7b10431261d8beeb897d602198a8ccc2be7cc6f93af9f327223ffe0508"
  }
 },
 "nbformat": 4,
 "nbformat_minor": 2,
 "cells": [
  {
   "cell_type": "code",
   "execution_count": 11,
   "metadata": {},
   "outputs": [],
   "source": [
    "import sys\n",
    "sys.path.append('/home/zhw272/programming/pipeline_utility')\n",
    "from notebooks.Will.toolbox.IOs.get_bilis_json_file import *\n",
    "from utilities.alignment.align_point_sets import align_point_sets\n",
    "from utilities.brain_specimens.get_com import get_atlas_com_dict"
   ]
  },
  {
   "source": [
    "## First we check that the coms in Bili/old/data is Kui's DK52 coms transformed with image to image affine transform calculated using airlab"
   ],
   "cell_type": "markdown",
   "metadata": {}
  },
  {
   "cell_type": "code",
   "execution_count": 2,
   "metadata": {},
   "outputs": [],
   "source": [
    "prepi = 'DK39'\n",
    "billi_dk52_to_DK39_dict = get_transformed_com_dict(prepi)\n",
    "kui_com = get_kui_dk52_com()"
   ]
  },
  {
   "cell_type": "code",
   "execution_count": 3,
   "metadata": {},
   "outputs": [
    {
     "output_type": "execute_result",
     "data": {
      "text/plain": [
       "True"
      ]
     },
     "metadata": {},
     "execution_count": 3
    }
   ],
   "source": [
    "billi_dk52_to_DK39_dict.keys() == kui_com.keys()"
   ]
  },
  {
   "cell_type": "code",
   "execution_count": 4,
   "metadata": {},
   "outputs": [],
   "source": [
    "transform = get_tranformation(prepi)\n",
    "mov_coms = get_kui_dk52_com()\n",
    "fix_coms = {}\n",
    "for name, com in mov_coms.items():\n",
    "    com = np.array(com, dtype=float)\n",
    "    fix_coms[name] = transform.forward_point(com).tolist()"
   ]
  },
  {
   "cell_type": "code",
   "execution_count": 5,
   "metadata": {},
   "outputs": [
    {
     "output_type": "execute_result",
     "data": {
      "text/plain": [
       "True"
      ]
     },
     "metadata": {},
     "execution_count": 5
    }
   ],
   "source": [
    "billi_dk52_to_DK39_dict == fix_coms"
   ]
  },
  {
   "source": [
    "## this seems to be the case, now let's try aligning these transformed coms to atlas using code that ed has written"
   ],
   "cell_type": "markdown",
   "metadata": {}
  },
  {
   "cell_type": "code",
   "execution_count": 6,
   "metadata": {},
   "outputs": [],
   "source": [
    "from fixes.add_aligned_com import *"
   ]
  },
  {
   "cell_type": "code",
   "execution_count": 48,
   "metadata": {},
   "outputs": [],
   "source": [
    "rotation, translation = get_transformation_matrix(prepi, 'corrected')"
   ]
  },
  {
   "cell_type": "code",
   "execution_count": 14,
   "metadata": {},
   "outputs": [],
   "source": [
    "atlas_centers = get_atlas_com_dict()\n",
    "shared_structures = set(atlas_centers.keys())&set(billi_dk52_to_DK39_dict.keys())\n",
    "billi_52_to_39_np = np.array([billi_dk52_to_DK39_dict[structure] for structure in shared_structures])\n",
    "billi_52_to_39_np = billi_52_to_39_np@np.diag([0.325,0.325,20])\n",
    "atlas_centers = np.array([atlas_centers[structure] for structure in shared_structures])\n"
   ]
  },
  {
   "cell_type": "code",
   "execution_count": 34,
   "metadata": {},
   "outputs": [],
   "source": [
    "rotation,translation = align_point_sets(moving_points=billi_52_to_39_np.T,still_points=atlas_centers.T)\n",
    "translation = translation/ np.array([0.325,0.325,20]).reshape([3,1])"
   ]
  },
  {
   "cell_type": "code",
   "execution_count": 49,
   "metadata": {},
   "outputs": [],
   "source": [
    "transformed_com = {}\n",
    "for landmark,com in billi_dk52_to_DK39_dict.items():\n",
    "    if rotation is not None:\n",
    "        scan_run = session.query(ScanRun).filter(ScanRun.prep_id == prepi).one()\n",
    "        brain_coords = np.asarray(com)\n",
    "        brain_scale = [scan_run.resolution, scan_run.resolution, 20]\n",
    "        transformed_com[landmark] = brain_to_atlas_transform(brain_coords, rotation, translation, brain_scale=brain_scale)"
   ]
  },
  {
   "cell_type": "code",
   "execution_count": 39,
   "metadata": {},
   "outputs": [],
   "source": [
    "from utilities.model.center_of_mass import CenterOfMass\n",
    "from sql_setup import session\n",
    "def query_brain_coms(brain, person_id=28, input_type_id=4):\n",
    "    # default: person is bili, input_type is aligned\n",
    "    rows = session.query(CenterOfMass)\\\n",
    "        .filter(CenterOfMass.active.is_(True))\\\n",
    "        .filter(CenterOfMass.prep_id == brain)\\\n",
    "        .filter(CenterOfMass.person_id == person_id)\\\n",
    "        .filter(CenterOfMass.input_type_id == input_type_id)\\\n",
    "        .all()\n",
    "    row_dict = {}\n",
    "    for row in rows:\n",
    "        structure = row.structure.abbreviation\n",
    "        row_dict[structure] = np.array([row.x, row.y, row.section])\n",
    "    return row_dict"
   ]
  },
  {
   "cell_type": "code",
   "execution_count": 40,
   "metadata": {},
   "outputs": [],
   "source": [
    " bili_aligned_com_database = query_brain_coms(prepi,person_id=1,input_type_id=4)"
   ]
  },
  {
   "cell_type": "code",
   "execution_count": 50,
   "metadata": {},
   "outputs": [
    {
     "output_type": "execute_result",
     "data": {
      "text/plain": [
       "(array([668.536, 353.895, 114.997]),\n",
       " array([683.92296748, 380.62047213, 103.18591044]))"
      ]
     },
     "metadata": {},
     "execution_count": 50
    }
   ],
   "source": [
    "bili_aligned_com_database['10N_L'],transformed_com['10N_L']"
   ]
  },
  {
   "cell_type": "code",
   "execution_count": 26,
   "metadata": {},
   "outputs": [
    {
     "output_type": "execute_result",
     "data": {
      "text/plain": [
       "(44, 44)"
      ]
     },
     "metadata": {},
     "execution_count": 26
    }
   ],
   "source": [
    "len(bili_aligned_com_database),len(transformed_com)"
   ]
  },
  {
   "cell_type": "code",
   "execution_count": 37,
   "metadata": {},
   "outputs": [
    {
     "output_type": "execute_result",
     "data": {
      "text/plain": [
       "{'10N_L': array([683.92296748, 380.62047213, 103.18591044]),\n",
       " '10N_R': array([798.3368555 , 417.02491237, 137.79448162]),\n",
       " '12N': array([775.40569323, 425.16730863, 123.21083545]),\n",
       " '3N_L': array([430.952494  , 307.08368797, 132.51701068]),\n",
       " '3N_R': array([434.83718771, 315.60759802, 140.23680938]),\n",
       " '4N_L': array([475.64353269, 312.44408954, 135.42982174]),\n",
       " '4N_R': array([475.61871218, 313.12247789, 135.33276428]),\n",
       " '5N_L': array([434.50821091, 387.00825827,  63.46702891]),\n",
       " '5N_R': array([600.06114129, 531.20509979, 190.79004409]),\n",
       " '6N_L': array([590.52291069, 480.70987016, 136.91001137]),\n",
       " '6N_R': array([542.91159329, 433.24742898,  99.86143635]),\n",
       " '7N_L': array([597.14453657, 551.42345252,  36.86000051]),\n",
       " '7N_R': array([360.90973911, 392.08339648, 121.37223188]),\n",
       " 'AP': array([737.66325299, 415.4187538 , 116.69120271]),\n",
       " 'Amb_L': array([602.10318766, 466.5569262 ,  53.98264432]),\n",
       " 'Amb_R': array([725.79130161, 624.93764372, 173.47486466]),\n",
       " 'DC_L': array([458.49363379, 270.71457142,  32.16307109]),\n",
       " 'DC_R': array([818.68079526, 558.08594122, 210.52569674]),\n",
       " 'IC': array([329.09712736, 140.337009  , 169.71088755]),\n",
       " 'LC_L': array([497.55678524, 318.67357946,  83.50144976]),\n",
       " 'LC_R': array([593.18145983, 397.5961869 , 161.90831096]),\n",
       " 'LRt_L': array([783.88566468, 579.8882928 ,  51.28691326]),\n",
       " 'LRt_R': array([805.2593785 , 682.91827544, 149.6172832 ]),\n",
       " 'PBG_L': array([314.90637034, 230.2778987 ,  60.46647079]),\n",
       " 'PBG_R': array([524.55847972, 443.48335287, 212.7715916 ]),\n",
       " 'Pn_L': array([429.4064946 , 557.91850268, 104.4580322 ]),\n",
       " 'Pn_R': array([497.54659481, 702.67306638, 155.0646395 ]),\n",
       " 'RtTg': array([554.79142691, 611.92225754,  97.91803203]),\n",
       " 'SNC_L': array([298.04833227, 407.50518758,  63.63000137]),\n",
       " 'SNC_R': array([485.86789687, 577.51264842, 199.65416194]),\n",
       " 'SNR_L': array([310.72846407, 392.94248963,  79.4492191 ]),\n",
       " 'SNR_R': array([571.58941546, 665.85391376, 184.32583657]),\n",
       " 'Sp5C_L': array([867.89971906, 544.74171984, 180.74097733]),\n",
       " 'Sp5C_R': array([956.80413004, 423.69108808, 169.31465265]),\n",
       " 'Sp5I_L': array([701.44256004, 383.94675085,  49.79423557]),\n",
       " 'Sp5I_R': array([888.59536673, 545.06062513, 193.16493058]),\n",
       " 'Tz_L': array([427.03373136, 606.95031552,  72.27665065]),\n",
       " 'Tz_R': array([572.61777671, 672.60081448, 118.85130058]),\n",
       " 'VCA_L': array([425.15165983, 296.74660921,  17.32960715]),\n",
       " 'VCA_R': array([589.64189789, 463.79436138, 249.17713057]),\n",
       " 'VCP_L': array([497.62955694, 361.49499853,   0.76643952]),\n",
       " 'VCP_R': array([716.79150542, 614.47606076, 228.64506558]),\n",
       " 'VLL_L': array([360.70630066, 386.6095061 ,  57.69689042]),\n",
       " 'VLL_R': array([503.20273404, 599.13965296, 197.01933124])}"
      ]
     },
     "metadata": {},
     "execution_count": 37
    }
   ],
   "source": [
    "transformed_com"
   ]
  },
  {
   "cell_type": "code",
   "execution_count": 36,
   "metadata": {},
   "outputs": [
    {
     "output_type": "execute_result",
     "data": {
      "text/plain": [
       "{'10N_L': array([668.536, 353.895, 114.997]),\n",
       " '10N_R': array([774.544, 368.762, 153.444]),\n",
       " '12N': array([757.562, 381.363, 138.429]),\n",
       " '3N_L': array([406.494, 322.039, 132.329]),\n",
       " '3N_R': array([409.358, 329.341, 139.998]),\n",
       " '4N_L': array([449.512, 319.728, 137.05 ]),\n",
       " '4N_R': array([449.61 , 320.404, 136.959]),\n",
       " '5N_L': array([439.971 , 403.727 ,  66.1632]),\n",
       " '5N_R': array([585.474, 510.87 , 196.933]),\n",
       " '6N_L': array([583.687, 465.825, 144.193]),\n",
       " '6N_R': array([541.106, 429.15 , 106.136]),\n",
       " '7N_L': array([627.196 , 539.662 ,  48.1463]),\n",
       " '7N_R': array([354.137, 417.74 , 119.062]),\n",
       " 'AP': array([721.589, 378.409, 130.491]),\n",
       " 'Amb_L': array([615.269, 454.56 ,  64.457]),\n",
       " 'Amb_R': array([724.586, 583.007, 185.974]),\n",
       " 'DC_L': array([455.005 , 287.266 ,  36.3045]),\n",
       " 'DC_R': array([794.517, 499.914, 225.335]),\n",
       " 'IC': array([274.613, 173.149, 163.119]),\n",
       " 'LC_L': array([485.556 , 325.062 ,  87.8158]),\n",
       " 'LC_R': array([567.662, 382.394, 168.028]),\n",
       " 'LRt_L': array([807.198 , 535.841 ,  70.0858]),\n",
       " 'LRt_R': array([815.827, 628.071, 166.56 ]),\n",
       " 'PBG_L': array([303.3   , 269.824 ,  57.4134]),\n",
       " 'PBG_R': array([494.33 , 436.046, 214.544]),\n",
       " 'Pn_L': array([448.272, 570.155, 106.465]),\n",
       " 'Pn_R': array([520.792, 698.22 , 159.   ]),\n",
       " 'RtTg': array([578.485, 602.745, 105.697]),\n",
       " 'SNC_L': array([311.413 , 446.484 ,  60.6948]),\n",
       " 'SNC_R': array([479.677, 574.802, 200.946]),\n",
       " 'SNR_L': array([317.273, 429.211,  76.44 ]),\n",
       " 'SNR_R': array([578.951, 648.173, 190.198]),\n",
       " 'Sp5C_L': array([848.084, 480.28 , 198.546]),\n",
       " 'Sp5C_R': array([919.588, 347.287, 190.601]),\n",
       " 'Sp5I_L': array([700.331 , 357.187 ,  64.1484]),\n",
       " 'Sp5I_R': array([864.7  , 476.478, 211.425]),\n",
       " 'Tz_L': array([461.669 , 620.465 ,  75.5204]),\n",
       " 'Tz_R': array([598.619, 658.224, 126.996]),\n",
       " 'VCA_L': array([430.608 , 319.176 ,  20.7042]),\n",
       " 'VCA_R': array([550.051, 443.195, 252.571]),\n",
       " 'VCP_L': array([514.106  , 371.644  ,   8.08211]),\n",
       " 'VCP_R': array([699.5  , 571.197, 238.862]),\n",
       " 'VLL_L': array([370.395 , 415.896 ,  57.4834]),\n",
       " 'VLL_R': array([500.162, 593.308, 199.241])}"
      ]
     },
     "metadata": {},
     "execution_count": 36
    }
   ],
   "source": [
    "bili_aligned_com_database"
   ]
  },
  {
   "cell_type": "code",
   "execution_count": null,
   "metadata": {},
   "outputs": [],
   "source": []
  }
 ]
}