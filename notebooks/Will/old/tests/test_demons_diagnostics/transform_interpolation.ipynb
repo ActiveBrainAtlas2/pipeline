{
 "cells": [
  {
   "cell_type": "code",
   "execution_count": 5,
   "metadata": {},
   "outputs": [],
   "source": [
    "import sys\n",
    "sys.path.append('/home/zhw272/programming/pipeline_utility')\n",
    "from notebooks.Will.demons_assessment_brain_to_atlas import get_demons_transform\n",
    "import numpy as np"
   ]
  },
  {
   "cell_type": "code",
   "execution_count": 2,
   "metadata": {},
   "outputs": [],
   "source": [
    "prepi = 'DK39'\n",
    "demons_transform = get_demons_transform(prepi)\n"
   ]
  },
  {
   "cell_type": "code",
   "execution_count": 3,
   "metadata": {},
   "outputs": [
    {
     "name": "stdout",
     "output_type": "stream",
     "text": [
      "itk::simple::Transform\n",
      " GaussianSmoothingOnUpdateDisplacementFieldTransform (0x204b150)\n",
      "   RTTI typeinfo:   itk::GaussianSmoothingOnUpdateDisplacementFieldTransform<double, 3u>\n",
      "   Reference Count: 1\n",
      "   Modified Time: 682\n",
      "   Debug: Off\n",
      "   Object Name: \n",
      "   Observers: \n",
      "     none\n",
      "   DisplacementField: \n",
      "     Image (0x21d52a0)\n",
      "       RTTI typeinfo:   itk::Image<itk::Vector<double, 3u>, 3u>\n",
      "       Reference Count: 3\n",
      "       Modified Time: 679\n",
      "       Debug: Off\n",
      "       Object Name: \n",
      "       Observers: \n",
      "         none\n",
      "       Source: (none)\n",
      "       Source output name: (none)\n",
      "       Release Data: Off\n",
      "       Data Released: False\n",
      "       Global Release Data: Off\n",
      "       PipelineMTime: 0\n",
      "       UpdateMTime: 0\n",
      "       RealTimeStamp: 0 seconds \n",
      "       LargestPossibleRegion: \n",
      "         Dimension: 3\n",
      "         Index: [0, 0, 0]\n",
      "         Size: [435, 262, 117]\n",
      "       BufferedRegion: \n",
      "         Dimension: 3\n",
      "         Index: [0, 0, 0]\n",
      "         Size: [435, 262, 117]\n",
      "       RequestedRegion: \n",
      "         Dimension: 3\n",
      "         Index: [0, 0, 0]\n",
      "         Size: [435, 262, 117]\n",
      "       Spacing: [41.6, 41.6, 80]\n",
      "       Origin: [31.2, 26, 40]\n",
      "       Direction: \n",
      "1 0 0\n",
      "0 1 0\n",
      "0 0 1\n",
      "\n",
      "       IndexToPointMatrix: \n",
      "41.6 0 0\n",
      "0 41.6 0\n",
      "0 0 80\n",
      "\n",
      "       PointToIndexMatrix: \n",
      "0.0240385 0 0\n",
      "0 0.0240385 0\n",
      "0 0 0.0125\n",
      "\n",
      "       Inverse Direction: \n",
      "1 0 0\n",
      "0 1 0\n",
      "0 0 1\n",
      "\n",
      "       PixelContainer: \n",
      "         ImportImageContainer (0x1f06b50)\n",
      "           RTTI typeinfo:   itk::ImportImageContainer<unsigned long, itk::Vector<double, 3u> >\n",
      "           Reference Count: 1\n",
      "           Modified Time: 680\n",
      "           Debug: Off\n",
      "           Object Name: \n",
      "           Observers: \n",
      "             none\n",
      "           Pointer: 0x7f26125bd010\n",
      "           Container manages memory: true\n",
      "           Size: 13334490\n",
      "           Capacity: 13334490\n",
      "   InverseDisplacementField: (null)\n",
      "   Interpolator: \n",
      "     VectorLinearInterpolateImageFunction (0x20b3190)\n",
      "       RTTI typeinfo:   itk::VectorLinearInterpolateImageFunction<itk::Image<itk::Vector<double, 3u>, 3u>, double>\n",
      "       Reference Count: 1\n",
      "       Modified Time: 671\n",
      "       Debug: Off\n",
      "       Object Name: \n",
      "       Observers: \n",
      "         none\n",
      "       InputImage: 0x21d52a0\n",
      "       StartIndex: [0, 0, 0]\n",
      "       EndIndex: [434, 261, 116]\n",
      "       StartContinuousIndex: [-0.5, -0.5, -0.5]\n",
      "       EndContinuousIndex: [434.5, 261.5, 116.5]\n",
      "   InverseInterpolator: \n",
      "     VectorLinearInterpolateImageFunction (0x1e58d70)\n",
      "       RTTI typeinfo:   itk::VectorLinearInterpolateImageFunction<itk::Image<itk::Vector<double, 3u>, 3u>, double>\n",
      "       Reference Count: 1\n",
      "       Modified Time: 672\n",
      "       Debug: Off\n",
      "       Object Name: \n",
      "       Observers: \n",
      "         none\n",
      "       InputImage: 0\n",
      "       StartIndex: [0, 0, 0]\n",
      "       EndIndex: [0, 0, 0]\n",
      "       StartContinuousIndex: [0, 0, 0]\n",
      "       EndContinuousIndex: [0, 0, 0]\n",
      "   DisplacementFieldSetTime: 681\n",
      "   m_IdentityJacobian: [1, 0, 0]\n",
      "[0, 1, 0]\n",
      "[0, 0, 1]\n",
      "\n",
      "    CoordinateTolerance: 1e-06\n",
      "    DirectionTolerance: 1e-06\n",
      "   Gaussian smoothing parameters: \n",
      "   m_GaussianSmoothingVarianceForTheUpdateField: 3\n",
      "   m_GaussianSmoothingVarianceForTheTotalField: 0.5\n",
      "\n"
     ]
    }
   ],
   "source": [
    "print(demons_transform)\n"
   ]
  },
  {
   "cell_type": "code",
   "execution_count": 41,
   "metadata": {},
   "outputs": [],
   "source": [
    "origin = np.array([31.2,26,40])\n",
    "scale = np. array([41.6, 41.6, 80])\n",
    "size = np.array([435, 262, 117])"
   ]
  },
  {
   "cell_type": "code",
   "execution_count": 42,
   "metadata": {},
   "outputs": [
    {
     "name": "stdout",
     "output_type": "stream",
     "text": [
      "[6.22216194e-06 1.62031151e-06 7.06197739e-07]\n"
     ]
    }
   ],
   "source": [
    "point = origin + np.array([1,1,1])\n",
    "transformed_point = demons_transform.TransformPoint(point)\n",
    "print(transformed_point-point)"
   ]
  },
  {
   "cell_type": "code",
   "execution_count": 44,
   "metadata": {},
   "outputs": [
    {
     "name": "stdout",
     "output_type": "stream",
     "text": [
      "[7.77770243e-07 2.02538939e-07 8.82747173e-08]\n"
     ]
    }
   ],
   "source": [
    "point = origin + np.array([0.5,0.5,0.5])\n",
    "transformed_point = demons_transform.TransformPoint(point)\n",
    "print(transformed_point-point)"
   ]
  },
  {
   "cell_type": "code",
   "execution_count": 45,
   "metadata": {},
   "outputs": [
    {
     "name": "stdout",
     "output_type": "stream",
     "text": [
      "[0. 0. 0.]\n"
     ]
    }
   ],
   "source": [
    "point = origin + scale*size-np.array([1,1,1])\n",
    "transformed_point = demons_transform.TransformPoint(point)\n",
    "print(transformed_point-point)"
   ]
  },
  {
   "cell_type": "code",
   "execution_count": 47,
   "metadata": {},
   "outputs": [
    {
     "name": "stdout",
     "output_type": "stream",
     "text": [
      "[0. 0. 0.]\n"
     ]
    }
   ],
   "source": [
    "point = origin+scale*size-np.array([1,1,1])\n",
    "transformed_point = demons_transform.TransformPoint(point)\n",
    "print(transformed_point-point)"
   ]
  },
  {
   "cell_type": "code",
   "execution_count": 48,
   "metadata": {},
   "outputs": [
    {
     "data": {
      "text/plain": [
       "array([18126.2, 10924.2,  9399. ])"
      ]
     },
     "execution_count": 48,
     "metadata": {},
     "output_type": "execute_result"
    }
   ],
   "source": [
    "point"
   ]
  },
  {
   "cell_type": "code",
   "execution_count": 66,
   "metadata": {},
   "outputs": [
    {
     "name": "stdout",
     "output_type": "stream",
     "text": [
      "[1000.2   27.    41. ]\n",
      "[2000.2   27.    41. ]\n",
      "[3000.2   27.    41. ]\n",
      "[4000.2   27.    41. ]\n",
      "[5000.2   27.    41. ]\n",
      "[6000.2   27.    41. ]\n",
      "[7000.2   27.    41. ]\n",
      "[8000.2   27.    41. ]\n",
      "[9000.2   27.    41. ]\n",
      "[10000.2    27.     41. ]\n",
      "[11000.2    27.     41. ]\n",
      "[12000.2    27.     41. ]\n",
      "[13000.2    27.     41. ]\n",
      "[14000.2    27.     41. ]\n",
      "[15000.2    27.     41. ]\n",
      "[16000.2    27.     41. ]\n",
      "[17000.2    27.     41. ]\n",
      "[18000.2    27.     41. ]\n",
      "[18085.2  1000.     41. ]\n",
      "[18085.2  2000.     41. ]\n",
      "[18085.2  3000.     41. ]\n",
      "[18085.2  4000.     41. ]\n",
      "[18085.2  5000.     41. ]\n",
      "[18085.2  6000.     41. ]\n",
      "[18085.2  7000.     41. ]\n",
      "[18085.2  8000.     41. ]\n",
      "[18085.2  9000.     41. ]\n",
      "[18085.2 10000.     41. ]\n",
      "[18085.2 10883.   1000. ]\n",
      "[18085.2 10883.   2000. ]\n",
      "[18085.2 10883.   3000. ]\n",
      "[18085.2 10883.   4000. ]\n",
      "[18085.2 10883.   5000. ]\n",
      "[18085.2 10883.   6000. ]\n",
      "[18085.2 10883.   7000. ]\n",
      "[18085.2 10883.   8000. ]\n",
      "[18085.2 10883.   9000. ]\n",
      "[18085.2 10883.   9320. ]\n"
     ]
    }
   ],
   "source": [
    "pointi  = origin + np.array([1,1,1])\n",
    "transformed_point = demons_transform.TransformPoint(pointi)\n",
    "diff = transformed_point-pointi\n",
    "while diff[0] != 0 :\n",
    "    pointi = pointi + np.array([1,0,0])\n",
    "    if pointi[0]%1000 <1:\n",
    "        print(pointi)\n",
    "    transformed_point = demons_transform.TransformPoint(pointi)\n",
    "    diff = transformed_point-pointi\n",
    "pointi[0] = pointi[0]-1\n",
    "diff=[1,1,1]\n",
    "while diff[1] != 0 :\n",
    "    pointi = pointi + np.array([0,1,0])\n",
    "    if pointi[1]%1000 <1:\n",
    "        print(pointi)\n",
    "    transformed_point = demons_transform.TransformPoint(pointi)\n",
    "    diff = transformed_point-pointi\n",
    "pointi[1] = pointi[1]-1\n",
    "diff=[1,1,1]\n",
    "while diff[2] != 0 :\n",
    "    pointi = pointi + np.array([0,0,1])\n",
    "    if pointi[2]%1000 <1:\n",
    "        print(pointi)\n",
    "    transformed_point = demons_transform.TransformPoint(pointi)\n",
    "    diff = transformed_point-pointi\n",
    "print(pointi)"
   ]
  },
  {
   "cell_type": "code",
   "execution_count": 61,
   "metadata": {},
   "outputs": [
    {
     "data": {
      "text/plain": [
       "array([18096. , 10899.2,  9360. ])"
      ]
     },
     "execution_count": 61,
     "metadata": {},
     "output_type": "execute_result"
    }
   ],
   "source": [
    "scale*size"
   ]
  },
  {
   "cell_type": "code",
   "execution_count": null,
   "metadata": {},
   "outputs": [],
   "source": []
  }
 ],
 "metadata": {
  "interpreter": {
   "hash": "2bd29f7b10431261d8beeb897d602198a8ccc2be7cc6f93af9f327223ffe0508"
  },
  "kernelspec": {
   "display_name": "Python 3.6.9 64-bit ('pipeline': venv)",
   "name": "python3"
  },
  "language_info": {
   "codemirror_mode": {
    "name": "ipython",
    "version": 3
   },
   "file_extension": ".py",
   "mimetype": "text/x-python",
   "name": "python",
   "nbconvert_exporter": "python",
   "pygments_lexer": "ipython3",
   "version": "3.6.9"
  },
  "orig_nbformat": 4
 },
 "nbformat": 4,
 "nbformat_minor": 2
}