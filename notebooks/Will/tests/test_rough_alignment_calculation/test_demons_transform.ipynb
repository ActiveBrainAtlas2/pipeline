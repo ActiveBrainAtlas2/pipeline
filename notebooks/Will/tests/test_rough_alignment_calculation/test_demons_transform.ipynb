{
 "cells": [
  {
   "cell_type": "code",
   "execution_count": 156,
   "metadata": {},
   "outputs": [],
   "source": [
    "import sys\n",
    "sys.path.append('/home/zhw272/programming/pipeline_utility')\n",
    "from notebooks.Will.toolbox.IOs.get_calculated_transforms import get_demons_transform\n",
    "import SimpleITK as sitk\n"
   ]
  },
  {
   "cell_type": "code",
   "execution_count": 2,
   "metadata": {},
   "outputs": [],
   "source": [
    "demons_transform = get_demons_transform('DK39')"
   ]
  },
  {
   "cell_type": "code",
   "execution_count": 4,
   "metadata": {},
   "outputs": [
    {
     "name": "stdout",
     "output_type": "stream",
     "text": [
      "itk::simple::Transform\n",
      " GaussianSmoothingOnUpdateDisplacementFieldTransform (0x2c72390)\n",
      "   RTTI typeinfo:   itk::GaussianSmoothingOnUpdateDisplacementFieldTransform<double, 3u>\n",
      "   Reference Count: 1\n",
      "   Modified Time: 682\n",
      "   Debug: Off\n",
      "   Object Name: \n",
      "   Observers: \n",
      "     none\n",
      "   DisplacementField: \n",
      "     Image (0x361a290)\n",
      "       RTTI typeinfo:   itk::Image<itk::Vector<double, 3u>, 3u>\n",
      "       Reference Count: 3\n",
      "       Modified Time: 679\n",
      "       Debug: Off\n",
      "       Object Name: \n",
      "       Observers: \n",
      "         none\n",
      "       Source: (none)\n",
      "       Source output name: (none)\n",
      "       Release Data: Off\n",
      "       Data Released: False\n",
      "       Global Release Data: Off\n",
      "       PipelineMTime: 0\n",
      "       UpdateMTime: 0\n",
      "       RealTimeStamp: 0 seconds \n",
      "       LargestPossibleRegion: \n",
      "         Dimension: 3\n",
      "         Index: [0, 0, 0]\n",
      "         Size: [435, 262, 117]\n",
      "       BufferedRegion: \n",
      "         Dimension: 3\n",
      "         Index: [0, 0, 0]\n",
      "         Size: [435, 262, 117]\n",
      "       RequestedRegion: \n",
      "         Dimension: 3\n",
      "         Index: [0, 0, 0]\n",
      "         Size: [435, 262, 117]\n",
      "       Spacing: [41.6, 41.6, 80]\n",
      "       Origin: [31.2, 26, 40]\n",
      "       Direction: \n",
      "1 0 0\n",
      "0 1 0\n",
      "0 0 1\n",
      "\n",
      "       IndexToPointMatrix: \n",
      "41.6 0 0\n",
      "0 41.6 0\n",
      "0 0 80\n",
      "\n",
      "       PointToIndexMatrix: \n",
      "0.0240385 0 0\n",
      "0 0.0240385 0\n",
      "0 0 0.0125\n",
      "\n",
      "       Inverse Direction: \n",
      "1 0 0\n",
      "0 1 0\n",
      "0 0 1\n",
      "\n",
      "       PixelContainer: \n",
      "         ImportImageContainer (0x358c0d0)\n",
      "           RTTI typeinfo:   itk::ImportImageContainer<unsigned long, itk::Vector<double, 3u> >\n",
      "           Reference Count: 1\n",
      "           Modified Time: 680\n",
      "           Debug: Off\n",
      "           Object Name: \n",
      "           Observers: \n",
      "             none\n",
      "           Pointer: 0x7f8140a07010\n",
      "           Container manages memory: true\n",
      "           Size: 13334490\n",
      "           Capacity: 13334490\n",
      "   InverseDisplacementField: (null)\n",
      "   Interpolator: \n",
      "     VectorLinearInterpolateImageFunction (0x3463100)\n",
      "       RTTI typeinfo:   itk::VectorLinearInterpolateImageFunction<itk::Image<itk::Vector<double, 3u>, 3u>, double>\n",
      "       Reference Count: 1\n",
      "       Modified Time: 671\n",
      "       Debug: Off\n",
      "       Object Name: \n",
      "       Observers: \n",
      "         none\n",
      "       InputImage: 0x361a290\n",
      "       StartIndex: [0, 0, 0]\n",
      "       EndIndex: [434, 261, 116]\n",
      "       StartContinuousIndex: [-0.5, -0.5, -0.5]\n",
      "       EndContinuousIndex: [434.5, 261.5, 116.5]\n",
      "   InverseInterpolator: \n",
      "     VectorLinearInterpolateImageFunction (0x3462f00)\n",
      "       RTTI typeinfo:   itk::VectorLinearInterpolateImageFunction<itk::Image<itk::Vector<double, 3u>, 3u>, double>\n",
      "       Reference Count: 1\n",
      "       Modified Time: 672\n",
      "       Debug: Off\n",
      "       Object Name: \n",
      "       Observers: \n",
      "         none\n",
      "       InputImage: 0\n",
      "       StartIndex: [0, 0, 0]\n",
      "       EndIndex: [0, 0, 0]\n",
      "       StartContinuousIndex: [0, 0, 0]\n",
      "       EndContinuousIndex: [0, 0, 0]\n",
      "   DisplacementFieldSetTime: 681\n",
      "   m_IdentityJacobian: [1, 0, 0]\n",
      "[0, 1, 0]\n",
      "[0, 0, 1]\n",
      "\n",
      "    CoordinateTolerance: 1e-06\n",
      "    DirectionTolerance: 1e-06\n",
      "   Gaussian smoothing parameters: \n",
      "   m_GaussianSmoothingVarianceForTheUpdateField: 3\n",
      "   m_GaussianSmoothingVarianceForTheTotalField: 0.5\n",
      "\n"
     ]
    }
   ],
   "source": [
    "print(demons_transform)"
   ]
  },
  {
   "cell_type": "code",
   "execution_count": 53,
   "metadata": {},
   "outputs": [],
   "source": [
    "import numpy as np\n",
    "import plotly.graph_objects as go"
   ]
  },
  {
   "cell_type": "code",
   "execution_count": 6,
   "metadata": {},
   "outputs": [],
   "source": [
    "Size = np.array([435, 262, 117])\n",
    "Spacing = np.array([41.6, 41.6, 80])\n",
    "Origin = np.array([31.2, 26, 40])\n"
   ]
  },
  {
   "cell_type": "code",
   "execution_count": 78,
   "metadata": {},
   "outputs": [
    {
     "data": {
      "text/plain": [
       "(101.38200871177668, 100.35988824286947, 100.15685331431678)"
      ]
     },
     "execution_count": 78,
     "metadata": {},
     "output_type": "execute_result"
    }
   ],
   "source": [
    "demons_transform.TransformPoint([100,100,100])"
   ]
  },
  {
   "cell_type": "code",
   "execution_count": 142,
   "metadata": {},
   "outputs": [],
   "source": [
    "def get_point_list(grid):\n",
    "    x,y,z = grid.shape[1:]\n",
    "    point_list = []\n",
    "    for xi in range(x):\n",
    "        for yi in range(y):\n",
    "            for zi in range(z):\n",
    "                point_list.append(grid[xi,yi,zi])\n",
    "    return point_list \n",
    "\n",
    "def transform_grid(grid):\n",
    "    transformed_grid = np.zeros(grid.shape)\n",
    "    x,y,z = grid.shape[1:]\n",
    "    for xi in range(x):\n",
    "        for yi in range(y):\n",
    "            for zi in range(z):\n",
    "                pointi = grid[:,xi,yi,zi]\n",
    "                transformed_pointi = demons_transform.TransformPoint(pointi)\n",
    "                transformed_grid[:,xi,yi,zi] = transformed_pointi\n",
    "    return transformed_grid\n",
    "\n",
    "def get_changed_points(grid_diff):\n",
    "    # changed_grid = np.zeros(grid_diff.shape)\n",
    "    changed_points = []\n",
    "    x,y,z = grid.shape[1:]\n",
    "    for xi in range(x):\n",
    "        for yi in range(y):\n",
    "            for zi in range(z):\n",
    "                pointi = grid[:,xi,yi,zi]\n",
    "                if np.any(pointi!=0):\n",
    "                    changed_points.append([xi,yi,zi])\n",
    "    return np.asarray(changed_points)\n"
   ]
  },
  {
   "cell_type": "code",
   "execution_count": 143,
   "metadata": {},
   "outputs": [],
   "source": [
    "xstart = -500\n",
    "ystart = -500\n",
    "zstart = -500\n",
    "xend = 1000\n",
    "yend = 1000\n",
    "zend = 1000\n",
    "ndots = 20\n",
    "grid = np.mgrid[xstart:xend:(xend-xstart)/ndots,ystart:yend:(yend-ystart)/ndots,zstart:zend:(zend-zstart)/ndots]"
   ]
  },
  {
   "cell_type": "code",
   "execution_count": 144,
   "metadata": {},
   "outputs": [],
   "source": [
    "transformed_grid = transform_grid(grid)"
   ]
  },
  {
   "cell_type": "code",
   "execution_count": 145,
   "metadata": {},
   "outputs": [],
   "source": [
    "grid_diff= transformed_grid - grid\n",
    "changed_points = get_changed_points(grid_diff)\n"
   ]
  },
  {
   "cell_type": "code",
   "execution_count": 147,
   "metadata": {},
   "outputs": [
    {
     "data": {
      "text/plain": [
       "(8000, 3)"
      ]
     },
     "execution_count": 147,
     "metadata": {},
     "output_type": "execute_result"
    }
   ],
   "source": [
    "changed_points.shape"
   ]
  },
  {
   "cell_type": "code",
   "execution_count": 154,
   "metadata": {},
   "outputs": [
    {
     "data": {
      "text/plain": [
       "array([19, 19, 19])"
      ]
     },
     "execution_count": 154,
     "metadata": {},
     "output_type": "execute_result"
    }
   ],
   "source": [
    "np.max(changed_points,axis=0)"
   ]
  },
  {
   "cell_type": "code",
   "execution_count": 157,
   "metadata": {},
   "outputs": [
    {
     "ename": "TypeError",
     "evalue": "in method 'DisplacementFieldJacobianDeterminant', argument 1 of type 'itk::simple::Image const &'",
     "output_type": "error",
     "traceback": [
      "\u001b[0;31m---------------------------------------------------------------------------\u001b[0m",
      "\u001b[0;31mTypeError\u001b[0m                                 Traceback (most recent call last)",
      "\u001b[0;32m<ipython-input-157-f4cacd600f6f>\u001b[0m in \u001b[0;36m<module>\u001b[0;34m\u001b[0m\n\u001b[0;32m----> 1\u001b[0;31m \u001b[0msitk\u001b[0m\u001b[0;34m.\u001b[0m\u001b[0mDisplacementFieldJacobianDeterminant\u001b[0m\u001b[0;34m(\u001b[0m\u001b[0mdemons_transform\u001b[0m\u001b[0;34m)\u001b[0m\u001b[0;34m\u001b[0m\u001b[0;34m\u001b[0m\u001b[0m\n\u001b[0m",
      "\u001b[0;32m/usr/local/share/pipeline/lib/python3.6/site-packages/SimpleITK/SimpleITK.py\u001b[0m in \u001b[0;36mDisplacementFieldJacobianDeterminant\u001b[0;34m(*args, **kwargs)\u001b[0m\n\u001b[1;32m  11028\u001b[0m \u001b[0;32mdef\u001b[0m \u001b[0mDisplacementFieldJacobianDeterminant\u001b[0m\u001b[0;34m(\u001b[0m\u001b[0;34m*\u001b[0m\u001b[0margs\u001b[0m\u001b[0;34m,\u001b[0m \u001b[0;34m**\u001b[0m\u001b[0mkwargs\u001b[0m\u001b[0;34m)\u001b[0m\u001b[0;34m:\u001b[0m\u001b[0;34m\u001b[0m\u001b[0;34m\u001b[0m\u001b[0m\n\u001b[1;32m  11029\u001b[0m     \u001b[0;34mr\"\"\"DisplacementFieldJacobianDeterminant(Image image1, bool useImageSpacing=True, VectorDouble derivativeWeights=std::vector< double >()) -> Image\"\"\"\u001b[0m\u001b[0;34m\u001b[0m\u001b[0;34m\u001b[0m\u001b[0m\n\u001b[0;32m> 11030\u001b[0;31m     \u001b[0;32mreturn\u001b[0m \u001b[0m_SimpleITK\u001b[0m\u001b[0;34m.\u001b[0m\u001b[0mDisplacementFieldJacobianDeterminant\u001b[0m\u001b[0;34m(\u001b[0m\u001b[0;34m*\u001b[0m\u001b[0margs\u001b[0m\u001b[0;34m,\u001b[0m \u001b[0;34m**\u001b[0m\u001b[0mkwargs\u001b[0m\u001b[0;34m)\u001b[0m\u001b[0;34m\u001b[0m\u001b[0;34m\u001b[0m\u001b[0m\n\u001b[0m\u001b[1;32m  11031\u001b[0m \u001b[0;32mclass\u001b[0m \u001b[0mDivideFloorImageFilter\u001b[0m\u001b[0;34m(\u001b[0m\u001b[0mImageFilter\u001b[0m\u001b[0;34m)\u001b[0m\u001b[0;34m:\u001b[0m\u001b[0;34m\u001b[0m\u001b[0;34m\u001b[0m\u001b[0m\n\u001b[1;32m  11032\u001b[0m     \u001b[0;34mr\"\"\"Proxy of C++ itk::simple::DivideFloorImageFilter class.\"\"\"\u001b[0m\u001b[0;34m\u001b[0m\u001b[0;34m\u001b[0m\u001b[0m\n",
      "\u001b[0;31mTypeError\u001b[0m: in method 'DisplacementFieldJacobianDeterminant', argument 1 of type 'itk::simple::Image const &'"
     ]
    }
   ],
   "source": [
    "sitk.DisplacementFieldJacobianDeterminant(demons_transform)"
   ]
  },
  {
   "cell_type": "code",
   "execution_count": null,
   "metadata": {},
   "outputs": [],
   "source": []
  }
 ],
 "metadata": {
  "interpreter": {
   "hash": "2bd29f7b10431261d8beeb897d602198a8ccc2be7cc6f93af9f327223ffe0508"
  },
  "kernelspec": {
   "display_name": "Python 3.6.9 64-bit ('pipeline': venv)",
   "name": "python3"
  },
  "language_info": {
   "codemirror_mode": {
    "name": "ipython",
    "version": 3
   },
   "file_extension": ".py",
   "mimetype": "text/x-python",
   "name": "python",
   "nbconvert_exporter": "python",
   "pygments_lexer": "ipython3",
   "version": "3.6.9"
  },
  "orig_nbformat": 4
 },
 "nbformat": 4,
 "nbformat_minor": 2
}