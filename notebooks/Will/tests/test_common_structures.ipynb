{
 "metadata": {
  "language_info": {
   "codemirror_mode": {
    "name": "ipython",
    "version": 3
   },
   "file_extension": ".py",
   "mimetype": "text/x-python",
   "name": "python",
   "nbconvert_exporter": "python",
   "pygments_lexer": "ipython3",
   "version": "3.6.9"
  },
  "orig_nbformat": 4,
  "kernelspec": {
   "name": "python3",
   "display_name": "Python 3.6.9 64-bit ('pipeline': venv)"
  },
  "interpreter": {
   "hash": "2bd29f7b10431261d8beeb897d602198a8ccc2be7cc6f93af9f327223ffe0508"
  }
 },
 "nbformat": 4,
 "nbformat_minor": 2,
 "cells": [
  {
   "cell_type": "code",
   "execution_count": 1,
   "metadata": {},
   "outputs": [],
   "source": [
    "import sys\n",
    "sys.path.append('/home/zhw272/programming/pipeline_utility')\n",
    "from notebooks.Will.toolbox.IOs.get_landmark_lists import *\n",
    "from utilities.model.center_of_mass import CenterOfMass\n",
    "from sql_setup import session\n",
    "import numpy as np"
   ]
  },
  {
   "cell_type": "code",
   "execution_count": 2,
   "metadata": {},
   "outputs": [
    {
     "output_type": "stream",
     "name": "stdout",
     "text": [
      "['10N_L', '10N_R', '3N_L', '3N_R', '4N_L', '4N_R', '5N_L', '5N_R', '6N_L', '6N_R', '7N_L', '7N_R', 'DC_L', 'DC_R', 'LC_L', 'LC_R', 'LRt_L', 'LRt_R', 'Pn_L', 'Pn_R', 'SC', 'Tz_L', 'Tz_R']\n"
     ]
    }
   ],
   "source": [
    "brains_to_extract_common_structures = ['DK39', 'DK41', 'DK43', 'DK54', 'DK55']\n",
    "\n",
    "def query_brain_coms(brain, person_id=28, input_type_id=4):\n",
    "    # default: person is bili, input_type is aligned\n",
    "    rows = session.query(CenterOfMass)\\\n",
    "        .filter(CenterOfMass.active.is_(True))\\\n",
    "        .filter(CenterOfMass.prep_id == brain)\\\n",
    "        .filter(CenterOfMass.person_id == person_id)\\\n",
    "        .filter(CenterOfMass.input_type_id == input_type_id)\\\n",
    "        .all()\n",
    "    row_dict = {}\n",
    "    for row in rows:\n",
    "        structure = row.structure.abbreviation\n",
    "        row_dict[structure] = np.array([row.x, row.y, row.section])\n",
    "    return row_dict\n",
    "\n",
    "common_structures = set()\n",
    "for brain in brains_to_extract_common_structures:\n",
    "    common_structures = common_structures | set(query_brain_coms(brain).keys())\n",
    "common_structures = list(sorted(common_structures))\n",
    "print(common_structures)"
   ]
  },
  {
   "cell_type": "code",
   "execution_count": 3,
   "metadata": {},
   "outputs": [],
   "source": [
    "shared_landmark_52_atlas = get_shared_landmarks_between_specimens(['DK39', 'DK41', 'DK43', 'DK54', 'DK55'])"
   ]
  },
  {
   "cell_type": "code",
   "execution_count": 4,
   "metadata": {},
   "outputs": [],
   "source": [
    "all_landmarks = get_all_landmarks_in_specimens(brains_to_extract_common_structures)"
   ]
  },
  {
   "cell_type": "code",
   "execution_count": 10,
   "metadata": {},
   "outputs": [
    {
     "output_type": "execute_result",
     "data": {
      "text/plain": [
       "(24, 23)"
      ]
     },
     "metadata": {},
     "execution_count": 10
    }
   ],
   "source": [
    "len(all_landmarks),len(common_structures)"
   ]
  },
  {
   "cell_type": "code",
   "execution_count": 15,
   "metadata": {},
   "outputs": [],
   "source": [
    "def compare_lists(l1,l2):\n",
    "    print('elements in l1 but not in l2:')\n",
    "    [print(elementi) for elementi in l1 if elementi not in l2]\n",
    "    print('elements in l2 but not in l1:')\n",
    "    [print(elementi) for elementi in l2 if elementi not in l1]\n",
    "    print('elements common in l1 and l2')\n",
    "    print([elementi for elementi in l2 if elementi in l1])"
   ]
  },
  {
   "cell_type": "code",
   "execution_count": 16,
   "metadata": {},
   "outputs": [
    {
     "output_type": "stream",
     "name": "stdout",
     "text": [
      "elements in l1 but not in l2:\nAmb_L\nAmb_R\nelements in l2 but not in l1:\nSC\nelements common in l1 and l2\n['10N_L', '10N_R', '3N_L', '3N_R', '4N_L', '4N_R', '5N_L', '5N_R', '6N_L', '6N_R', '7N_L', '7N_R', 'DC_L', 'DC_R', 'LC_L', 'LC_R', 'LRt_L', 'LRt_R', 'Pn_L', 'Pn_R', 'Tz_L', 'Tz_R']\n"
     ]
    }
   ],
   "source": [
    "compare_lists(all_landmarks,common_structures)"
   ]
  },
  {
   "cell_type": "code",
   "execution_count": 9,
   "metadata": {},
   "outputs": [
    {
     "output_type": "error",
     "ename": "ValueError",
     "evalue": "shape mismatch: objects cannot be broadcast to a single shape",
     "traceback": [
      "\u001b[0;31m---------------------------------------------------------------------------\u001b[0m",
      "\u001b[0;31mValueError\u001b[0m                                Traceback (most recent call last)",
      "\u001b[0;32m<ipython-input-9-32b7ebbbc06a>\u001b[0m in \u001b[0;36m<module>\u001b[0;34m\u001b[0m\n\u001b[0;32m----> 1\u001b[0;31m \u001b[0mnp\u001b[0m\u001b[0;34m.\u001b[0m\u001b[0marray\u001b[0m\u001b[0;34m(\u001b[0m\u001b[0mall_landmarks\u001b[0m\u001b[0;34m)\u001b[0m \u001b[0;34m==\u001b[0m \u001b[0mnp\u001b[0m\u001b[0;34m.\u001b[0m\u001b[0marray\u001b[0m\u001b[0;34m(\u001b[0m\u001b[0mcommon_structures\u001b[0m\u001b[0;34m)\u001b[0m\u001b[0;34m\u001b[0m\u001b[0;34m\u001b[0m\u001b[0m\n\u001b[0m",
      "\u001b[0;31mValueError\u001b[0m: shape mismatch: objects cannot be broadcast to a single shape"
     ]
    }
   ],
   "source": [
    "np.array(all_landmarks) == np.array(common_structures)"
   ]
  },
  {
   "cell_type": "code",
   "execution_count": 7,
   "metadata": {},
   "outputs": [
    {
     "output_type": "execute_result",
     "data": {
      "text/plain": [
       "['10N_L',\n",
       " '10N_R',\n",
       " '3N_L',\n",
       " '3N_R',\n",
       " '4N_L',\n",
       " '4N_R',\n",
       " '5N_L',\n",
       " '5N_R',\n",
       " '6N_L',\n",
       " '6N_R',\n",
       " '7N_L',\n",
       " '7N_R',\n",
       " 'DC_L',\n",
       " 'DC_R',\n",
       " 'LC_L',\n",
       " 'LC_R',\n",
       " 'LRt_L',\n",
       " 'LRt_R',\n",
       " 'Pn_L',\n",
       " 'Pn_R',\n",
       " 'SC',\n",
       " 'Tz_L',\n",
       " 'Tz_R']"
      ]
     },
     "metadata": {},
     "execution_count": 7
    }
   ],
   "source": [
    "common_structures"
   ]
  },
  {
   "cell_type": "code",
   "execution_count": 8,
   "metadata": {},
   "outputs": [
    {
     "output_type": "execute_result",
     "data": {
      "text/plain": [
       "['10N_L',\n",
       " '10N_R',\n",
       " '3N_L',\n",
       " '3N_R',\n",
       " '4N_L',\n",
       " '4N_R',\n",
       " '5N_L',\n",
       " '5N_R',\n",
       " '6N_L',\n",
       " '6N_R',\n",
       " '7N_L',\n",
       " '7N_R',\n",
       " 'Amb_L',\n",
       " 'Amb_R',\n",
       " 'DC_L',\n",
       " 'DC_R',\n",
       " 'LC_L',\n",
       " 'LC_R',\n",
       " 'LRt_L',\n",
       " 'LRt_R',\n",
       " 'Pn_L',\n",
       " 'Pn_R',\n",
       " 'Tz_L',\n",
       " 'Tz_R']"
      ]
     },
     "metadata": {},
     "execution_count": 8
    }
   ],
   "source": [
    "all_landmarks"
   ]
  },
  {
   "cell_type": "code",
   "execution_count": 11,
   "metadata": {},
   "outputs": [
    {
     "output_type": "execute_result",
     "data": {
      "text/plain": [
       "['10N_L',\n",
       " '10N_R',\n",
       " '3N_L',\n",
       " '3N_R',\n",
       " '5N_L',\n",
       " '5N_R',\n",
       " '6N_L',\n",
       " '6N_R',\n",
       " '7N_L',\n",
       " '7N_R',\n",
       " 'DC_L',\n",
       " 'DC_R',\n",
       " 'LC_L',\n",
       " 'LC_R',\n",
       " 'Pn_L',\n",
       " 'Pn_R',\n",
       " 'Tz_L',\n",
       " 'Tz_R']"
      ]
     },
     "metadata": {},
     "execution_count": 11
    }
   ],
   "source": [
    "shared_landmark_52_atlas"
   ]
  },
  {
   "cell_type": "code",
   "execution_count": null,
   "metadata": {},
   "outputs": [],
   "source": []
  }
 ]
}