{
 "metadata": {
  "language_info": {
   "codemirror_mode": {
    "name": "ipython",
    "version": 3
   },
   "file_extension": ".py",
   "mimetype": "text/x-python",
   "name": "python",
   "nbconvert_exporter": "python",
   "pygments_lexer": "ipython3",
   "version": "3.6.9"
  },
  "orig_nbformat": 4,
  "kernelspec": {
   "name": "python3",
   "display_name": "Python 3.6.9 64-bit ('pipeline': venv)"
  },
  "interpreter": {
   "hash": "2bd29f7b10431261d8beeb897d602198a8ccc2be7cc6f93af9f327223ffe0508"
  }
 },
 "nbformat": 4,
 "nbformat_minor": 2,
 "cells": [
  {
   "cell_type": "code",
   "execution_count": 4,
   "metadata": {},
   "outputs": [],
   "source": [
    "import sys\n",
    "sys.path.append('/home/zhw272/programming/pipeline_utility')\n",
    "from utilities.sqlcontroller import SqlController\n",
    "import numpy as np"
   ]
  },
  {
   "cell_type": "code",
   "execution_count": 5,
   "metadata": {},
   "outputs": [
    {
     "output_type": "stream",
     "name": "stdout",
     "text": [
      "No histology for Atlas\nNo scan run for Atlas\n"
     ]
    }
   ],
   "source": [
    "def get_atlas_centers(\n",
    "        atlas_box_size=(1000, 1000, 300),\n",
    "        atlas_box_scales=(10, 10, 20),\n",
    "        atlas_raw_scale=10\n",
    "):\n",
    "    atlas_box_scales = np.array(atlas_box_scales)\n",
    "    atlas_box_size = np.array(atlas_box_size)\n",
    "    atlas_box_center = atlas_box_size / 2\n",
    "    sqlController = SqlController('Atlas')\n",
    "    # person is lauren, input_type is manual\n",
    "    atlas_centers = sqlController.get_centers_dict('Atlas', input_type_id=1, person_id=16)\n",
    "\n",
    "    for structure, center in atlas_centers.items():\n",
    "        # transform into the atlas box coordinates that neuroglancer assumes\n",
    "        center = atlas_box_center + np.array(center) * atlas_raw_scale / atlas_box_scales\n",
    "        atlas_centers[structure] = center\n",
    "\n",
    "    return atlas_centers\n",
    "\n",
    "atlas_coms = get_atlas_centers()"
   ]
  },
  {
   "cell_type": "code",
   "execution_count": 8,
   "metadata": {},
   "outputs": [],
   "source": [
    "atlas_centers = sqlController.get_centers_dict('Atlas', input_type_id=1, person_id=16)"
   ]
  },
  {
   "cell_type": "code",
   "execution_count": 9,
   "metadata": {},
   "outputs": [
    {
     "output_type": "execute_result",
     "data": {
      "text/plain": [
       "{'10N_L': [203.341, 47.9286, -29.0],\n",
       " '10N_R': [203.341, 47.9286, 29.0],\n",
       " '12N': [197.227, 67.0988, -2.0],\n",
       " '3N_L': [-135.445, -108.494, -14.0],\n",
       " '3N_R': [-135.445, -108.494, 14.0],\n",
       " '4N_L': [-100.559, -103.896, -25.0],\n",
       " '4N_R': [-100.559, -103.896, 25.0],\n",
       " '5N_L': [-43.2008, 2.07948, -136.0],\n",
       " '5N_R': [-43.2008, 2.07948, 136.0],\n",
       " '6N_L': [17.1597, 12.4922, -35.0],\n",
       " '6N_R': [17.1597, 12.4922, 35.0],\n",
       " 'AP': [202.306, 25.6525, 2.0],\n",
       " 'Amb_L': [112.44, 103.826, -123.0],\n",
       " 'Amb_R': [112.44, 103.826, 123.0],\n",
       " 'DC_L': [83.2885, -43.5046, -216.0],\n",
       " 'DC_R': [83.2885, -43.5046, 216.0],\n",
       " 'IC': [-3.2471, -248.307, 0.0],\n",
       " 'LC_L': [-3.80266, -57.1921, -84.0],\n",
       " 'LC_R': [-3.80266, -57.1921, 84.0],\n",
       " 'LRt_L': [188.194, 146.863, -112.0],\n",
       " 'LRt_R': [188.194, 146.863, 112.0],\n",
       " 'PBG_L': [-103.962, -127.015, -186.0],\n",
       " 'PBG_R': [-103.962, -127.015, 186.0],\n",
       " 'Pn_L': [-171.668, 93.0847, -55.0],\n",
       " 'Pn_R': [-171.668, 93.0847, 55.0],\n",
       " 'RtTg': [-121.546, 62.2477, -4.0],\n",
       " 'SC': [-128.018, -241.129, 3.0],\n",
       " 'SNC_L': [-231.485, -17.4186, -121.0],\n",
       " 'SNC_R': [-231.485, -17.4186, 121.0],\n",
       " 'SNR_L': [-198.125, -22.3174, -141.0],\n",
       " 'SNR_R': [-198.125, -22.3174, 141.0],\n",
       " 'Sp5C_L': [256.283, 82.0335, -134.0],\n",
       " 'Sp5C_R': [256.283, 82.0335, 134.0],\n",
       " 'Sp5I_L': [179.326, 50.5224, -191.0],\n",
       " 'Sp5I_R': [179.326, 50.5224, 191.0],\n",
       " 'Sp5O_L': [101.378, 49.4977, -186.0],\n",
       " 'Sp5O_R': [101.378, 49.4977, 186.0],\n",
       " 'Tz_L': [-72.7921, 120.224, -51.0],\n",
       " 'Tz_R': [-72.7921, 120.224, 51.0],\n",
       " 'VCA_L': [4.07409, -4.99103, -243.0],\n",
       " 'VCA_R': [4.07409, -4.99103, 243.0],\n",
       " 'VCP_L': [60.0779, 13.7844, -231.0],\n",
       " 'VCP_R': [60.0779, 13.7844, 231.0],\n",
       " 'VLL_L': [-121.989, 15.4707, -148.0],\n",
       " 'VLL_R': [-121.989, 15.4707, 148.0],\n",
       " '7N_L': [29.6329, 114.424, -115.0],\n",
       " '7N_R': [29.6329, 114.424, 115.0],\n",
       " '7n_L': [-5.10818, 40.307, -108.0],\n",
       " '7n_R': [-5.10818, 40.307, 108.0]}"
      ]
     },
     "metadata": {},
     "execution_count": 9
    }
   ],
   "source": [
    "atlas_centers"
   ]
  },
  {
   "cell_type": "code",
   "execution_count": 7,
   "metadata": {},
   "outputs": [
    {
     "output_type": "execute_result",
     "data": {
      "text/plain": [
       "{'10N_L': array([703.341 , 547.9286, 135.5   ]),\n",
       " '10N_R': array([703.341 , 547.9286, 164.5   ]),\n",
       " '12N': array([697.227 , 567.0988, 149.    ]),\n",
       " '3N_L': array([364.555, 391.506, 143.   ]),\n",
       " '3N_R': array([364.555, 391.506, 157.   ]),\n",
       " '4N_L': array([399.441, 396.104, 137.5  ]),\n",
       " '4N_R': array([399.441, 396.104, 162.5  ]),\n",
       " '5N_L': array([456.7992 , 502.07948,  82.     ]),\n",
       " '5N_R': array([456.7992 , 502.07948, 218.     ]),\n",
       " '6N_L': array([517.1597, 512.4922, 132.5   ]),\n",
       " '6N_R': array([517.1597, 512.4922, 167.5   ]),\n",
       " 'AP': array([702.306 , 525.6525, 151.    ]),\n",
       " 'Amb_L': array([612.44 , 603.826,  88.5  ]),\n",
       " 'Amb_R': array([612.44 , 603.826, 211.5  ]),\n",
       " 'DC_L': array([583.2885, 456.4954,  42.    ]),\n",
       " 'DC_R': array([583.2885, 456.4954, 258.    ]),\n",
       " 'IC': array([496.7529, 251.693 , 150.    ]),\n",
       " 'LC_L': array([496.19734, 442.8079 , 108.     ]),\n",
       " 'LC_R': array([496.19734, 442.8079 , 192.     ]),\n",
       " 'LRt_L': array([688.194, 646.863,  94.   ]),\n",
       " 'LRt_R': array([688.194, 646.863, 206.   ]),\n",
       " 'PBG_L': array([396.038, 372.985,  57.   ]),\n",
       " 'PBG_R': array([396.038, 372.985, 243.   ]),\n",
       " 'Pn_L': array([328.332 , 593.0847, 122.5   ]),\n",
       " 'Pn_R': array([328.332 , 593.0847, 177.5   ]),\n",
       " 'RtTg': array([378.454 , 562.2477, 148.    ]),\n",
       " 'SC': array([371.982, 258.871, 151.5  ]),\n",
       " 'SNC_L': array([268.515 , 482.5814,  89.5   ]),\n",
       " 'SNC_R': array([268.515 , 482.5814, 210.5   ]),\n",
       " 'SNR_L': array([301.875 , 477.6826,  79.5   ]),\n",
       " 'SNR_R': array([301.875 , 477.6826, 220.5   ]),\n",
       " 'Sp5C_L': array([756.283 , 582.0335,  83.    ]),\n",
       " 'Sp5C_R': array([756.283 , 582.0335, 217.    ]),\n",
       " 'Sp5I_L': array([679.326 , 550.5224,  54.5   ]),\n",
       " 'Sp5I_R': array([679.326 , 550.5224, 245.5   ]),\n",
       " 'Sp5O_L': array([601.378 , 549.4977,  57.    ]),\n",
       " 'Sp5O_R': array([601.378 , 549.4977, 243.    ]),\n",
       " 'Tz_L': array([427.2079, 620.224 , 124.5   ]),\n",
       " 'Tz_R': array([427.2079, 620.224 , 175.5   ]),\n",
       " 'VCA_L': array([504.07409, 495.00897,  28.5    ]),\n",
       " 'VCA_R': array([504.07409, 495.00897, 271.5    ]),\n",
       " 'VCP_L': array([560.0779, 513.7844,  34.5   ]),\n",
       " 'VCP_R': array([560.0779, 513.7844, 265.5   ]),\n",
       " 'VLL_L': array([378.011 , 515.4707,  76.    ]),\n",
       " 'VLL_R': array([378.011 , 515.4707, 224.    ]),\n",
       " '7N_L': array([529.6329, 614.424 ,  92.5   ]),\n",
       " '7N_R': array([529.6329, 614.424 , 207.5   ]),\n",
       " '7n_L': array([494.89182, 540.307  ,  96.     ]),\n",
       " '7n_R': array([494.89182, 540.307  , 204.     ])}"
      ]
     },
     "metadata": {},
     "execution_count": 7
    }
   ],
   "source": [
    "atlas_coms"
   ]
  },
  {
   "cell_type": "code",
   "execution_count": null,
   "metadata": {},
   "outputs": [],
   "source": []
  }
 ]
}