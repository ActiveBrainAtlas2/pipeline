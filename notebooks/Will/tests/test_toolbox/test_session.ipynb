{
 "cells": [
  {
   "cell_type": "code",
   "execution_count": 8,
   "id": "f1ebea48",
   "metadata": {},
   "outputs": [],
   "source": [
    "import sys\n",
    "sys.path.append('/home/zhw272/programming/pipeline_utility')\n",
    "import yaml\n",
    "from sqlalchemy import create_engine,MetaData\n",
    "from sqlalchemy.orm import scoped_session\n",
    "from sqlalchemy.orm import sessionmaker\n",
    "import os\n",
    "from utilities.model.atlas_model import Base, AtlasModel\n",
    "from utilities.model.animal import Animal\n"
   ]
  },
  {
   "cell_type": "code",
   "execution_count": 3,
   "id": "60d3312b",
   "metadata": {},
   "outputs": [],
   "source": [
    "dirname = '/home/zhw272/programming/pipeline_utility'\n",
    "file_path = os.path.join(dirname, 'parameters.yaml')\n",
    "with open(file_path) as file:\n",
    "    parameters = yaml.load(file, Loader=yaml.FullLoader)\n",
    "user = parameters['user']\n",
    "password = parameters['password']\n",
    "host = parameters['host']\n",
    "database = parameters['schema']\n",
    "connection_string = f'mysql+pymysql://{user}:{password}@{host}/{database}?charset=utf8'\n",
    "engine = create_engine(connection_string, echo=False)\n",
    "Session = sessionmaker(bind=engine)\n",
    "session = Session()"
   ]
  },
  {
   "cell_type": "code",
   "execution_count": 4,
   "id": "09bf38c5",
   "metadata": {},
   "outputs": [],
   "source": [
    "Session = sessionmaker(bind=engine)\n",
    "session = Session()"
   ]
  },
  {
   "cell_type": "code",
   "execution_count": 13,
   "id": "c81cfe08",
   "metadata": {},
   "outputs": [
    {
     "data": {
      "text/plain": [
       "<sqlalchemy.orm.query.Query at 0x7f720fc31e10>"
      ]
     },
     "execution_count": 13,
     "metadata": {},
     "output_type": "execute_result"
    }
   ],
   "source": [
    "session.query(Animal)\\\n",
    "            .filter(Animal.active.is_(True))"
   ]
  },
  {
   "cell_type": "code",
   "execution_count": 37,
   "id": "ad83ddf0",
   "metadata": {},
   "outputs": [
    {
     "data": {
      "text/plain": [
       "['DK39',\n",
       " 'DK40',\n",
       " 'DK41',\n",
       " 'DK43',\n",
       " 'DK46',\n",
       " 'DK50',\n",
       " 'DK52',\n",
       " 'DK54',\n",
       " 'DK55',\n",
       " 'DK60',\n",
       " 'DK61',\n",
       " 'DK62']"
      ]
     },
     "execution_count": 37,
     "metadata": {},
     "output_type": "execute_result"
    }
   ],
   "source": [
    "brains = [ entryi[0] for entryi in session.query(Animal.prep_id).filter(Animal.active.is_(True)).all()]\n",
    "brains.remove('Atlas')\n",
    "brains"
   ]
  },
  {
   "cell_type": "code",
   "execution_count": null,
   "id": "b62fc02e",
   "metadata": {},
   "outputs": [],
   "source": []
  }
 ],
 "metadata": {
  "kernelspec": {
   "display_name": "Python 3",
   "language": "python",
   "name": "python3"
  },
  "language_info": {
   "codemirror_mode": {
    "name": "ipython",
    "version": 3
   },
   "file_extension": ".py",
   "mimetype": "text/x-python",
   "name": "python",
   "nbconvert_exporter": "python",
   "pygments_lexer": "ipython3",
   "version": "3.6.9"
  }
 },
 "nbformat": 4,
 "nbformat_minor": 5
}
