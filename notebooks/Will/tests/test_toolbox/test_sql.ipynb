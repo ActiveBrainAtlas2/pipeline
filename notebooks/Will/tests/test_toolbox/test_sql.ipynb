{
 "cells": [
  {
   "cell_type": "code",
   "execution_count": 1,
   "id": "6f82fa59",
   "metadata": {},
   "outputs": [],
   "source": [
    "import sys\n",
    "sys.path.append('/home/zhw272/programming/pipeline_utility')\n",
    "import yaml\n",
    "from sqlalchemy import create_engine,MetaData\n",
    "from sqlalchemy.orm import scoped_session\n",
    "from sqlalchemy.orm import sessionmaker\n",
    "import os\n",
    "from utilities.model.atlas_model import Base, AtlasModel\n"
   ]
  },
  {
   "cell_type": "code",
   "execution_count": 2,
   "id": "b7c12215",
   "metadata": {},
   "outputs": [
    {
     "data": {
      "text/plain": [
       "'/home/zhw272/programming/pipeline_utility'"
      ]
     },
     "execution_count": 2,
     "metadata": {},
     "output_type": "execute_result"
    }
   ],
   "source": [
    "dirname = '/home/zhw272/programming/pipeline_utility'\n",
    "dirname"
   ]
  },
  {
   "cell_type": "code",
   "execution_count": 3,
   "id": "07a9d017",
   "metadata": {},
   "outputs": [],
   "source": [
    "file_path = os.path.join(dirname, 'parameters.yaml')\n",
    "with open(file_path) as file:\n",
    "    parameters = yaml.load(file, Loader=yaml.FullLoader)"
   ]
  },
  {
   "cell_type": "code",
   "execution_count": 4,
   "id": "6984853a",
   "metadata": {},
   "outputs": [],
   "source": [
    "user = parameters['user']\n",
    "password = parameters['password']\n",
    "host = parameters['host']\n",
    "database = parameters['schema']\n",
    "connection_string = f'mysql+pymysql://{user}:{password}@{host}/{database}?charset=utf8'\n",
    "engine = create_engine(connection_string, echo=False)\n",
    "Session = sessionmaker(bind=engine)\n",
    "session = Session()"
   ]
  },
  {
   "cell_type": "code",
   "execution_count": 6,
   "id": "7e3fa7eb",
   "metadata": {},
   "outputs": [],
   "source": [
    "META_DATA = MetaData(bind=engine)"
   ]
  },
  {
   "cell_type": "code",
   "execution_count": 7,
   "id": "17b6a3fe",
   "metadata": {},
   "outputs": [],
   "source": [
    "META_DATA.create_all(engine, checkfirst=True)"
   ]
  },
  {
   "cell_type": "code",
   "execution_count": 8,
   "id": "b6611b7e",
   "metadata": {},
   "outputs": [],
   "source": [
    "META_DATA.reflect()"
   ]
  },
  {
   "cell_type": "code",
   "execution_count": 9,
   "id": "c0454447",
   "metadata": {},
   "outputs": [
    {
     "name": "stdout",
     "output_type": "stream",
     "text": [
      "account_emailaddress\n",
      "auth_user\n",
      "account_emailconfirmation\n",
      "animal\n",
      "auth_group\n",
      "auth_group_permissions\n",
      "auth_permission\n",
      "django_content_type\n",
      "auth_user_groups\n",
      "auth_user_user_permissions\n",
      "authtoken_token\n",
      "center_of_mass\n",
      "com_type\n",
      "transformation\n",
      "structure\n",
      "django_admin_log\n",
      "django_migrations\n",
      "django_plotly_dash_dashapp\n",
      "django_plotly_dash_statelessapp\n",
      "django_session\n",
      "django_site\n",
      "engine_attributespec\n",
      "engine_label\n",
      "engine_task\n",
      "engine_data\n",
      "engine_project\n",
      "engine_clientfile\n",
      "engine_image\n",
      "engine_job\n",
      "engine_segment\n",
      "engine_jobcommit\n",
      "engine_labeledimage\n",
      "engine_labeledimageattributeval\n",
      "engine_labeledshape\n",
      "engine_labeledshapeattributeval\n",
      "engine_labeledtrack\n",
      "engine_labeledtrackattributeval\n",
      "engine_plugin\n",
      "engine_pluginoption\n",
      "engine_remotefile\n",
      "engine_serverfile\n",
      "engine_trackedshape\n",
      "engine_trackedshapeattributeval\n",
      "engine_video\n",
      "file_log\n",
      "progress_lookup\n",
      "file_operation\n",
      "slide_czi_to_tif\n",
      "slide\n",
      "scan_run\n",
      "git_gitdata\n",
      "histology\n",
      "organic_label\n",
      "virus\n",
      "injection\n",
      "injection_virus\n",
      "journals\n",
      "problem_category\n",
      "neuroglancer_urls\n",
      "layer_data\n",
      "location\n",
      "location_primary_people\n",
      "logs\n",
      "resource\n",
      "task_roles\n",
      "row_sequence\n",
      "schedule\n",
      "seq\n",
      "socialaccount_socialaccount\n",
      "socialaccount_socialapp\n",
      "socialaccount_socialapp_sites\n",
      "socialaccount_socialtoken\n",
      "task\n",
      "task_resources\n",
      "~jobs\n",
      "~log\n"
     ]
    }
   ],
   "source": [
    "for key in META_DATA.tables.keys():\n",
    "    print(key)"
   ]
  },
  {
   "cell_type": "code",
   "execution_count": 10,
   "id": "40379ee0",
   "metadata": {},
   "outputs": [
    {
     "name": "stdout",
     "output_type": "stream",
     "text": [
      "structure.id\n",
      "structure.abbreviation\n",
      "structure.description\n",
      "structure.color\n",
      "structure.hexadecimal\n",
      "structure.active\n",
      "structure.created\n"
     ]
    }
   ],
   "source": [
    "for ci in META_DATA.tables['structure'].columns:\n",
    "    print(ci)"
   ]
  },
  {
   "cell_type": "code",
   "execution_count": 16,
   "id": "32f25b7e",
   "metadata": {},
   "outputs": [
    {
     "data": {
      "text/plain": [
       "Column('x', FLOAT(), table=<layer_data>)"
      ]
     },
     "execution_count": 16,
     "metadata": {},
     "output_type": "execute_result"
    }
   ],
   "source": [
    "META_DATA.tables['layer_data'].columns.x"
   ]
  },
  {
   "cell_type": "code",
   "execution_count": 50,
   "id": "92d27d2c",
   "metadata": {},
   "outputs": [],
   "source": [
    "\n",
    "from sqlalchemy.orm import relationship\n",
    "from sqlalchemy import Column, String, Integer, ForeignKey, DateTime, Boolean, Float\n",
    "\n",
    "\n",
    "\n",
    "class Transformation(Base, AtlasModel):\n",
    "    __tablename__ = 'transformation'\n",
    "    id =  Column(Integer, primary_key=True, nullable=False)\n",
    "    person_id =  Column(Integer, nullable=False)\n",
    "    prep_id = Column(String, ForeignKey('animal.prep_id'), nullable=False)\n",
    "    # com_name = Column(String, ForeignKey('structure.id'), nullable=False)\n",
    "    updated = Column(Boolean, default=True, nullable=False)\n",
    "    input_type_id = Column(Integer, nullable=False)"
   ]
  },
  {
   "cell_type": "code",
   "execution_count": 53,
   "id": "d34a21d1",
   "metadata": {},
   "outputs": [],
   "source": [
    "query_results = session.query(Transformation)"
   ]
  },
  {
   "cell_type": "code",
   "execution_count": 56,
   "id": "f2c2f311",
   "metadata": {},
   "outputs": [
    {
     "data": {
      "text/plain": [
       "['_sa_instance_state',\n",
       " 'created',\n",
       " 'active',\n",
       " 'person_id',\n",
       " 'updated',\n",
       " 'id',\n",
       " 'prep_id',\n",
       " 'input_type_id',\n",
       " '__module__',\n",
       " '__tablename__',\n",
       " '__doc__',\n",
       " '_sa_class_manager',\n",
       " '__table__',\n",
       " '__init__',\n",
       " '__mapper__',\n",
       " 'registry',\n",
       " 'metadata',\n",
       " '__abstract__',\n",
       " '__dict__',\n",
       " '__weakref__',\n",
       " '_sa_registry',\n",
       " '__repr__',\n",
       " '__hash__',\n",
       " '__str__',\n",
       " '__getattribute__',\n",
       " '__setattr__',\n",
       " '__delattr__',\n",
       " '__lt__',\n",
       " '__le__',\n",
       " '__eq__',\n",
       " '__ne__',\n",
       " '__gt__',\n",
       " '__ge__',\n",
       " '__new__',\n",
       " '__reduce_ex__',\n",
       " '__reduce__',\n",
       " '__subclasshook__',\n",
       " '__init_subclass__',\n",
       " '__format__',\n",
       " '__sizeof__',\n",
       " '__dir__',\n",
       " '__class__',\n",
       " '__table_args__',\n",
       " '__mapper_args__']"
      ]
     },
     "execution_count": 56,
     "metadata": {},
     "output_type": "execute_result"
    }
   ],
   "source": [
    "query_results[0].__dir__()"
   ]
  },
  {
   "cell_type": "code",
   "execution_count": null,
   "id": "f08b798a",
   "metadata": {},
   "outputs": [],
   "source": []
  }
 ],
 "metadata": {
  "kernelspec": {
   "display_name": "Python 3",
   "language": "python",
   "name": "python3"
  },
  "language_info": {
   "codemirror_mode": {
    "name": "ipython",
    "version": 3
   },
   "file_extension": ".py",
   "mimetype": "text/x-python",
   "name": "python",
   "nbconvert_exporter": "python",
   "pygments_lexer": "ipython3",
   "version": "3.6.9"
  }
 },
 "nbformat": 4,
 "nbformat_minor": 5
}
