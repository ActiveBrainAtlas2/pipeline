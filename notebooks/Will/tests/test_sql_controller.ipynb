{
 "cells": [
  {
   "cell_type": "code",
   "execution_count": 11,
   "metadata": {},
   "outputs": [],
   "source": [
    "import sys\n",
    "sys.path.append('/home/zhw272/programming/pipeline_utility')\n",
    "from utilities.brain_specimens.get_prep_list import get_prep_list_excluding_DK52\n",
    "from utilities.sqlcontroller import SqlController\n",
    "from utilities.alignment.align_point_sets import align_point_sets\n",
    "from utilities.brain_specimens.get_brain_COM import get_center_of_mass,get_atlas_center_of_mass\n",
    "import numpy as np"
   ]
  },
  {
   "cell_type": "code",
   "execution_count": 2,
   "metadata": {},
   "outputs": [],
   "source": [
    "prep_list_excluding_DK52 = get_prep_list_excluding_DK52()"
   ]
  },
  {
   "cell_type": "code",
   "execution_count": 24,
   "metadata": {},
   "outputs": [],
   "source": [
    "prepi = prep_list_excluding_DK52[0]\n",
    "controller = SqlController('DK52')\n",
    "coms = controller.get_centers_dict(\"DK39\")\n",
    "atlas_coms = controller.get_centers_dict(\"Atlas\", person_id=1, input_type_id=4)"
   ]
  },
  {
   "cell_type": "code",
   "execution_count": 27,
   "metadata": {},
   "outputs": [],
   "source": [
    "com1,com2 = get_common_point_set(coms,atlas_coms)"
   ]
  },
  {
   "cell_type": "code",
   "execution_count": 32,
   "metadata": {},
   "outputs": [
    {
     "name": "stdout",
     "output_type": "stream",
     "text": [
      "[38803.4 22355.4   329. ] [532.02  620.015 209.   ]\n",
      "[39468.5 23531.5   203. ] [532.02  620.015  92.   ]\n",
      "[36351.5 23980.7   236. ] [430.593 620.165 126.   ]\n",
      "[36074.1 23526.    292. ] [430.593 620.165 175.   ]\n",
      "[36316.2 18831.1   324. ] [454.531 502.58  219.   ]\n",
      "[37069.7 20100.4   178. ] [454.531 502.58   82.   ]\n",
      "[32740.3 22805.6   299. ] [336.669 591.545 182.   ]\n",
      "[32964.7 23199.    233. ] [336.669 591.545 119.   ]\n",
      "[33423.7 15830.6   247. ] [365.917 393.315 157.   ]\n",
      "[33190.2 15847.4   233. ] [365.917 393.315 144.   ]\n",
      "[38359.  19339.7   272. ] [515.926 512.031 169.   ]\n",
      "[43814.6 18640.    273. ] [712.811 563.231 165.   ]\n",
      "[41901.3 22575.7   198. ] [712.811 563.231 136.   ]\n",
      "[37587. 16406.   288.] [499.548 446.989 192.   ]\n",
      "[38569.1 17311.8   203. ] [499.548 446.989 109.   ]\n",
      "[38561.3 19710.7   235. ] [515.926 512.031 132.   ]\n",
      "[40112.3 18516.9   135. ] [574.29  467.655  57.   ]\n",
      "[38270.5 16977.2   373. ] [574.29  467.655 244.   ]\n"
     ]
    }
   ],
   "source": [
    "plot_two_point_set(com1,com2)"
   ]
  },
  {
   "cell_type": "code",
   "execution_count": 35,
   "metadata": {},
   "outputs": [
    {
     "data": {
      "text/plain": [
       "(array([38803.4, 22355.4,   329. ]), array([532.02 , 620.015, 209.   ]))"
      ]
     },
     "execution_count": 35,
     "metadata": {},
     "output_type": "execute_result"
    }
   ],
   "source": [
    "point1 = com1[0]\n",
    "point2 = com2[0]\n",
    "point1,point2"
   ]
  },
  {
   "cell_type": "code",
   "execution_count": 40,
   "metadata": {},
   "outputs": [
    {
     "data": {
      "text/plain": [
       "array([1032.02 , 1120.015,  718.   ])"
      ]
     },
     "execution_count": 40,
     "metadata": {},
     "output_type": "execute_result"
    }
   ],
   "source": [
    "((point2+np.array([500,500,150]))*np.array([1,1,2]))"
   ]
  },
  {
   "cell_type": "code",
   "execution_count": 42,
   "metadata": {},
   "outputs": [
    {
     "data": {
      "text/plain": [
       "array([1636.98461538, 1907.73846154,   10.45      ])"
      ]
     },
     "execution_count": 42,
     "metadata": {},
     "output_type": "execute_result"
    }
   ],
   "source": [
    "point2/np.array([0.325,0.325,20])"
   ]
  },
  {
   "cell_type": "code",
   "execution_count": 38,
   "metadata": {},
   "outputs": [
    {
     "data": {
      "text/plain": [
       "array([37.59946513, 19.95991125,  1.83286908])"
      ]
     },
     "execution_count": 38,
     "metadata": {},
     "output_type": "execute_result"
    }
   ],
   "source": [
    "point1/((point2+np.array([500,500,150]))/np.array([1,1,2]))"
   ]
  },
  {
   "cell_type": "code",
   "execution_count": null,
   "metadata": {},
   "outputs": [],
   "source": []
  },
  {
   "cell_type": "code",
   "execution_count": 26,
   "metadata": {},
   "outputs": [
    {
     "name": "stdout",
     "output_type": "stream",
     "text": [
      "((18, 3), (18, 3))\n"
     ]
    },
    {
     "data": {
      "image/png": "[encoded data removed]",
      "text/plain": [
       "<Figure size 432x288 with 1 Axes>"
      ]
     },
     "metadata": {
      "needs_background": "light"
     },
     "output_type": "display_data"
    }
   ],
   "source": [
    "scatter_two_com_dict(coms,atlas_coms)"
   ]
  },
  {
   "cell_type": "code",
   "execution_count": 5,
   "metadata": {},
   "outputs": [],
   "source": [
    "coms = get_center_of_mass(\"DK41\")\n",
    "atlas_coms = get_atlas_center_of_mass()"
   ]
  },
  {
   "cell_type": "code",
   "execution_count": 21,
   "metadata": {},
   "outputs": [],
   "source": [
    "com1,com2 = get_common_point_set(atlas_coms,coms)\n",
    "rotation,translation = align_point_sets(com1.T,com2.T)"
   ]
  },
  {
   "cell_type": "code",
   "execution_count": 17,
   "metadata": {},
   "outputs": [
    {
     "name": "stdout",
     "output_type": "stream",
     "text": [
      "((20, 3), (20, 3))\n"
     ]
    },
    {
     "data": {
      "image/png": "[encoded data removed]",
      "text/plain": [
       "<Figure size 432x288 with 1 Axes>"
      ]
     },
     "metadata": {
      "needs_background": "light"
     },
     "output_type": "display_data"
    }
   ],
   "source": [
    "scatter_two_com_dict(coms,atlas_coms)"
   ]
  },
  {
   "cell_type": "code",
   "execution_count": 35,
   "metadata": {
    "scrolled": true
   },
   "outputs": [],
   "source": [
    "from utilities.model.center_of_mass import CenterOfMass\n",
    "from sql_setup import session\n",
    "def get_coordinate_from_query(query_results):\n",
    "    coordinates = []\n",
    "    for entry in query_results:\n",
    "        coordinates.append([entry.x,entry.y,entry.section])\n",
    "    return np.array(coordinates)\n",
    "\n",
    "def atlas_com_type1():\n",
    "    brain = 'Atlas'\n",
    "    person_id = 1\n",
    "    input_type_id = 4\n",
    "    query_results = session.query(CenterOfMass)\\\n",
    "            .filter(CenterOfMass.active.is_(True))\\\n",
    "            .filter(CenterOfMass.prep_id == brain)\\\n",
    "            .filter(CenterOfMass.person_id == person_id)\\\n",
    "            .filter(CenterOfMass.input_type_id == input_type_id)\\\n",
    "            .all()\n",
    "    coordinates = get_coordinate_from_query(query_results)\n",
    "    return coordinates\n",
    "com1 = atlas_com_type1()"
   ]
  },
  {
   "cell_type": "code",
   "execution_count": 36,
   "metadata": {},
   "outputs": [],
   "source": [
    "def atlas_com_type2():\n",
    "    brain = 'Atlas'\n",
    "    person_id = 16\n",
    "    input_type_id = 1\n",
    "    query_results = session.query(CenterOfMass)\\\n",
    "            .filter(CenterOfMass.active.is_(True))\\\n",
    "            .filter(CenterOfMass.prep_id == brain)\\\n",
    "            .filter(CenterOfMass.person_id == person_id)\\\n",
    "            .filter(CenterOfMass.input_type_id == input_type_id)\\\n",
    "            .all()\n",
    "    coordinates = get_coordinate_from_query(query_results)\n",
    "    return coordinates\n",
    "com2 = atlas_com_type2() "
   ]
  },
  {
   "cell_type": "code",
   "execution_count": 31,
   "metadata": {},
   "outputs": [],
   "source": [
    "import matplotlib.pyplot as plt\n",
    "def get_common_point_set(com1_dict,com2_dict):\n",
    "    key1 = com1_dict.keys()\n",
    "    key2 = com2_dict.keys()\n",
    "    shared_keys = [keyi for keyi in key1 if keyi in key2]\n",
    "    com1 = []\n",
    "    com2 = []\n",
    "    for key in shared_keys:\n",
    "        com1.append(com1_dict[key])\n",
    "        com2.append(com2_dict[key])\n",
    "    com1 = np.array(com1)\n",
    "    com2 = np.array(com2)\n",
    "    return com1,com2\n",
    "\n",
    "def plot_two_point_set(pointset1,pointset2):\n",
    "    assert len(pointset1)==len(pointset2)\n",
    "    for pointi in range(len(pointset1)):\n",
    "        print(pointset1[pointi],pointset2[pointi])\n",
    "\n",
    "def scatter_two_com_array(com1,com2):\n",
    "    plt.scatter(com1[:,0],com1[:,1])\n",
    "    plt.scatter(com2[:,0],com2[:,1])\n",
    "\n",
    "def scatter_two_com_dict(com1_dict,com2_dict):\n",
    "    com1,com2 = get_common_point_set(com1_dict,com2_dict)\n",
    "    print((com1.shape,com2.shape))\n",
    "    plt.scatter(com1[:,0],com1[:,1])\n",
    "    plt.scatter(com2[:,0],com2[:,1])"
   ]
  },
  {
   "cell_type": "code",
   "execution_count": null,
   "metadata": {},
   "outputs": [],
   "source": []
  }
 ],
 "metadata": {
  "kernelspec": {
   "display_name": "Python 3",
   "language": "python",
   "name": "python3"
  },
  "language_info": {
   "codemirror_mode": {
    "name": "ipython",
    "version": 3
   },
   "file_extension": ".py",
   "mimetype": "text/x-python",
   "name": "python",
   "nbconvert_exporter": "python",
   "pygments_lexer": "ipython3",
   "version": "3.6.9"
  }
 },
 "nbformat": 4,
 "nbformat_minor": 2
}
