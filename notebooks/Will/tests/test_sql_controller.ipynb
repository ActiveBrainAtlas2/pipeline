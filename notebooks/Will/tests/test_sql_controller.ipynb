{
 "cells": [
  {
   "cell_type": "code",
<<<<<<< HEAD
   "execution_count": 3,
   "metadata": {},
   "outputs": [],
   "source": [
    "import sys\n",
    "sys.path.append('/home/zhw272/programming/pipeline_utility')\n",
    "from utilities.brain_specimens.get_prep_list import get_prep_list_excluding_DK52,get_active_prep_list"
   ]
  },
  {
   "cell_type": "code",
   "execution_count": 4,
   "metadata": {},
   "outputs": [
    {
     "data": {
      "text/plain": [
       "['DK39',\n",
       " 'DK40',\n",
       " 'DK41',\n",
       " 'DK43',\n",
       " 'DK46',\n",
       " 'DK50',\n",
       " 'DK52',\n",
       " 'DK54',\n",
       " 'DK55',\n",
       " 'DK60',\n",
       " 'DK61',\n",
       " 'DK62']"
      ]
     },
     "execution_count": 4,
     "metadata": {},
     "output_type": "execute_result"
    }
   ],
   "source": [
    "get_active_prep_list()"
   ]
  },
  {
   "cell_type": "code",
   "execution_count": 2,
   "metadata": {},
   "outputs": [
    {
     "data": {
      "text/plain": [
       "['DK39',\n",
       " 'DK40',\n",
       " 'DK41',\n",
       " 'DK43',\n",
       " 'DK46',\n",
       " 'DK50',\n",
       " 'DK54',\n",
       " 'DK55',\n",
       " 'DK60',\n",
       " 'DK61',\n",
       " 'DK62']"
      ]
     },
     "execution_count": 2,
     "metadata": {},
     "output_type": "execute_result"
    }
   ],
   "source": [
    "get_prep_list_excluding_DK52()"
   ]
  },
  {
   "cell_type": "code",
   "execution_count": 2,
=======
   "execution_count": 11,
>>>>>>> 15c0d28f2be48a48d7dd5e04dbb796ced5d1f407
   "metadata": {},
   "outputs": [],
   "source": [
    "import sys\n",
    "sys.path.append('/home/zhw272/programming/pipeline_utility')\n",
    "from utilities.brain_specimens.get_prep_list import get_prep_list_excluding_DK52\n",
<<<<<<< HEAD
    "from utilities.brain_specimens.get_com import get_atlas_com,get_beth_com\n",
    "from utilities.sqlcontroller import SqlController\n",
    "from utilities.alignment.align_point_sets import align_point_sets\n",
=======
    "from utilities.sqlcontroller import SqlController\n",
    "from utilities.alignment.align_point_sets import align_point_sets\n",
    "from utilities.brain_specimens.get_brain_COM import get_center_of_mass,get_atlas_center_of_mass\n",
>>>>>>> 15c0d28f2be48a48d7dd5e04dbb796ced5d1f407
    "import numpy as np"
   ]
  },
  {
   "cell_type": "code",
<<<<<<< HEAD
   "execution_count": 3,
   "metadata": {
    "scrolled": true
   },
   "outputs": [],
   "source": [
    "from utilities.model.center_of_mass import CenterOfMass\n",
    "from sql_setup import session\n",
    "def get_coordinate_from_query(query_results):\n",
    "    coordinates = []\n",
    "    for entry in query_results:\n",
    "        coordinates.append([entry.x,entry.y,entry.section])\n",
    "    return np.array(coordinates)\n"
   ]
  },
  {
   "cell_type": "code",
   "execution_count": 5,
   "metadata": {},
   "outputs": [],
   "source": [
    "import matplotlib.pyplot as plt\n",
    "def get_common_point_set(com1_dict,com2_dict):\n",
    "    key1 = com1_dict.keys()\n",
    "    key2 = com2_dict.keys()\n",
    "    shared_keys = [keyi for keyi in key1 if keyi in key2]\n",
    "    com1 = []\n",
    "    com2 = []\n",
    "    for key in shared_keys:\n",
    "        com1.append(com1_dict[key])\n",
    "        com2.append(com2_dict[key])\n",
    "    com1 = np.array(com1)\n",
    "    com2 = np.array(com2)\n",
    "    return com1,com2\n",
    "\n",
    "def print_two_point_set(pointset1,pointset2):\n",
    "    assert len(pointset1)==len(pointset2)\n",
    "    for pointi in range(len(pointset1)):\n",
    "        print(pointset1[pointi],pointset2[pointi])\n",
    "\n",
    "def scatter_two_com_array(com1,com2):\n",
    "    plt.scatter(com1[:,0],com1[:,1])\n",
    "    plt.scatter(com2[:,0],com2[:,1])\n",
    "\n",
    "def scatter_two_com_dict(com1_dict,com2_dict):\n",
    "    com1,com2 = get_common_point_set(com1_dict,com2_dict)\n",
    "    print((com1.shape,com2.shape))\n",
    "    plt.scatter(com1[:,0],com1[:,1])\n",
    "    plt.scatter(com2[:,0],com2[:,1])"
   ]
  },
  {
   "cell_type": "code",
   "execution_count": 27,
=======
   "execution_count": 2,
>>>>>>> 15c0d28f2be48a48d7dd5e04dbb796ced5d1f407
   "metadata": {},
   "outputs": [],
   "source": [
    "prep_list_excluding_DK52 = get_prep_list_excluding_DK52()"
   ]
  },
  {
   "cell_type": "code",
<<<<<<< HEAD
   "execution_count": 62,
=======
   "execution_count": 24,
>>>>>>> 15c0d28f2be48a48d7dd5e04dbb796ced5d1f407
   "metadata": {},
   "outputs": [],
   "source": [
    "prepi = prep_list_excluding_DK52[0]\n",
<<<<<<< HEAD
    "coms_dict = get_beth_com(\"DK52\")\n",
    "atlas_coms_dict = get_atlas_com()"
=======
    "controller = SqlController('DK52')\n",
    "coms = controller.get_centers_dict(\"DK39\")\n",
    "atlas_coms = controller.get_centers_dict(\"Atlas\", person_id=1, input_type_id=4)"
>>>>>>> 15c0d28f2be48a48d7dd5e04dbb796ced5d1f407
   ]
  },
  {
   "cell_type": "code",
<<<<<<< HEAD
   "execution_count": 63,
   "metadata": {},
   "outputs": [],
   "source": [
    "com,atlas_com = get_common_point_set(coms_dict,atlas_coms_dict)\n",
    "com = com*np.array([0.325,0.325,20])\n",
    "atlas_com = (atlas_com*10/np.array([10,10,20])+np.array([500,500,150]))*np.array([10,10,20])"
=======
   "execution_count": 27,
   "metadata": {},
   "outputs": [],
   "source": [
    "com1,com2 = get_common_point_set(coms,atlas_coms)"
>>>>>>> 15c0d28f2be48a48d7dd5e04dbb796ced5d1f407
   ]
  },
  {
   "cell_type": "code",
<<<<<<< HEAD
   "execution_count": 64,
=======
   "execution_count": 32,
>>>>>>> 15c0d28f2be48a48d7dd5e04dbb796ced5d1f407
   "metadata": {},
   "outputs": [
    {
     "name": "stdout",
     "output_type": "stream",
     "text": [
<<<<<<< HEAD
      "[14818.7  6025.5  4680. ] [6972.27  5670.988 2980.   ]\n",
      "[12598.625  6353.1    3440.   ] [4567.992  5020.7948 1640.    ]\n",
      "[11110.45   6490.575  6440.   ] [3018.75  4776.826 4410.   ]\n",
      "[11068.85   6720.675  3460.   ] [3018.75  4776.826 1590.   ]\n",
      "[12722.125  7913.425  4460.   ] [4272.079 6202.24  2490.   ]\n",
      "[12786.15  7792.2   5520.  ] [4272.079 6202.24  3510.   ]\n",
      "[11362.325  5292.625  4640.   ] [3645.55 3915.06 2860.  ]\n",
      "[11293.425  5275.075  4860.   ] [3645.55 3915.06 3140.  ]\n",
      "[14857.05   5747.625  4940.   ] [7033.41  5479.286 3290.   ]\n",
      "[14801.15   5770.375  4360.   ] [7033.41  5479.286 2710.   ]\n",
      "[11780.275  5218.2    4940.   ] [3994.41 3961.04 3250.  ]\n",
      "[11780.275  5209.75   4460.   ] [3994.41 3961.04 2750.  ]\n",
      "[15011.75   5513.625  4600.   ] [7023.06  5256.525 3020.   ]\n",
      "[14330.55  7122.05  3440.  ] [6124.4  6038.26 1770.  ]\n",
      "[12082.2    3091.075  4440.   ] [4967.529 2516.93  3000.   ]\n",
      "[12978.55   5275.725  5560.   ] [4961.9734 4428.079  3840.    ]\n",
      "[12937.6    5505.175  3760.   ] [4961.9734 4428.079  2160.    ]\n",
      "[15407.925  6932.9    5920.   ] [6881.94 6468.63 4120.  ]\n",
      "[15505.1   7163.65  3660.  ] [6881.94 6468.63 1880.  ]\n",
      "[11639.55  5018.    6600.  ] [3960.38 3729.85 4860.  ]\n",
      "[11557.     5191.875  2760.   ] [3960.38 3729.85 1140.  ]\n",
      "[11950.575  7244.25   4980.   ] [3784.54  5622.477 2960.   ]\n",
      "[10725.325  6868.55   3640.   ] [2685.15  4825.814 1790.   ]\n",
      "[10873.85  6371.3   6380.  ] [2685.15  4825.814 4210.   ]\n",
      "[14450.15  6382.35  3000.  ] [6793.26  5505.224 1090.   ]\n",
      "[14442.025  6208.8    6500.   ] [6793.26  5505.224 4910.   ]\n",
      "[12965.875  5776.225  7200.   ] [5040.7409 4950.0897 5430.    ]\n",
      "[12977.25   6379.425  2320.   ] [5040.7409 4950.0897  570.    ]\n",
      "[11007.1    2944.825  4440.   ] [3719.82 2588.71 3030.  ]\n",
      "[13801.125  7163.65   6180.   ] [5296.329 6144.24  4150.   ]\n",
      "[12659.4    6153.225  6200.   ] [4567.992  5020.7948 4360.    ]\n",
      "[13195.975  6243.25   5140.   ] [5171.597 5124.922 3350.   ]\n",
      "[13170.625  6338.15   4400.   ] [5171.597 5124.922 2650.   ]\n",
      "[13627.25  7562.1   3560.  ] [5296.329 6144.24  1850.   ]\n",
      "[13547.3    5741.775  2500.   ] [5832.885 4564.954  840.   ]\n",
      "[13579.475  5336.5    7020.   ] [5832.885 4564.954 5160.   ]\n"
=======
      "[38803.4 22355.4   329. ] [532.02  620.015 209.   ]\n",
      "[39468.5 23531.5   203. ] [532.02  620.015  92.   ]\n",
      "[36351.5 23980.7   236. ] [430.593 620.165 126.   ]\n",
      "[36074.1 23526.    292. ] [430.593 620.165 175.   ]\n",
      "[36316.2 18831.1   324. ] [454.531 502.58  219.   ]\n",
      "[37069.7 20100.4   178. ] [454.531 502.58   82.   ]\n",
      "[32740.3 22805.6   299. ] [336.669 591.545 182.   ]\n",
      "[32964.7 23199.    233. ] [336.669 591.545 119.   ]\n",
      "[33423.7 15830.6   247. ] [365.917 393.315 157.   ]\n",
      "[33190.2 15847.4   233. ] [365.917 393.315 144.   ]\n",
      "[38359.  19339.7   272. ] [515.926 512.031 169.   ]\n",
      "[43814.6 18640.    273. ] [712.811 563.231 165.   ]\n",
      "[41901.3 22575.7   198. ] [712.811 563.231 136.   ]\n",
      "[37587. 16406.   288.] [499.548 446.989 192.   ]\n",
      "[38569.1 17311.8   203. ] [499.548 446.989 109.   ]\n",
      "[38561.3 19710.7   235. ] [515.926 512.031 132.   ]\n",
      "[40112.3 18516.9   135. ] [574.29  467.655  57.   ]\n",
      "[38270.5 16977.2   373. ] [574.29  467.655 244.   ]\n"
>>>>>>> 15c0d28f2be48a48d7dd5e04dbb796ced5d1f407
     ]
    }
   ],
   "source": [
<<<<<<< HEAD
    "print_two_point_set(com,atlas_com)"
=======
    "plot_two_point_set(com1,com2)"
>>>>>>> 15c0d28f2be48a48d7dd5e04dbb796ced5d1f407
   ]
  },
  {
   "cell_type": "code",
<<<<<<< HEAD
   "execution_count": 65,
=======
   "execution_count": 35,
>>>>>>> 15c0d28f2be48a48d7dd5e04dbb796ced5d1f407
   "metadata": {},
   "outputs": [
    {
     "data": {
<<<<<<< HEAD
      "image/png": "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\n",
      "text/plain": [
       "<Figure size 432x288 with 1 Axes>"
      ]
     },
     "metadata": {
      "needs_background": "light"
     },
     "output_type": "display_data"
    }
   ],
   "source": [
    "scatter_two_com_array(com,atlas_com)"
   ]
  },
  {
   "cell_type": "code",
   "execution_count": 68,
   "metadata": {},
   "outputs": [],
   "source": [
    "a2c_rot,a2c_trans = align_point_sets(atlas_com.T,com.T)"
=======
      "text/plain": [
       "(array([38803.4, 22355.4,   329. ]), array([532.02 , 620.015, 209.   ]))"
      ]
     },
     "execution_count": 35,
     "metadata": {},
     "output_type": "execute_result"
    }
   ],
   "source": [
    "point1 = com1[0]\n",
    "point2 = com2[0]\n",
    "point1,point2"
>>>>>>> 15c0d28f2be48a48d7dd5e04dbb796ced5d1f407
   ]
  },
  {
   "cell_type": "code",
<<<<<<< HEAD
   "execution_count": 70,
=======
   "execution_count": 40,
>>>>>>> 15c0d28f2be48a48d7dd5e04dbb796ced5d1f407
   "metadata": {},
   "outputs": [
    {
     "data": {
      "text/plain": [
<<<<<<< HEAD
       "(array([[ 1.00142856,  0.28670416,  0.03226724],\n",
       "        [-0.28185535,  0.9970747 , -0.11179984],\n",
       "        [-0.06162803,  0.09870342,  1.03564435]]),\n",
       " array([[6438.79890391],\n",
       "        [2842.52514905],\n",
       "        [1480.61079409]]))"
      ]
     },
     "execution_count": 70,
=======
       "array([1032.02 , 1120.015,  718.   ])"
      ]
     },
     "execution_count": 40,
>>>>>>> 15c0d28f2be48a48d7dd5e04dbb796ced5d1f407
     "metadata": {},
     "output_type": "execute_result"
    }
   ],
   "source": [
<<<<<<< HEAD
    "a2c_rot,a2c_trans"
=======
    "((point2+np.array([500,500,150]))*np.array([1,1,2]))"
>>>>>>> 15c0d28f2be48a48d7dd5e04dbb796ced5d1f407
   ]
  },
  {
   "cell_type": "code",
<<<<<<< HEAD
   "execution_count": 69,
   "metadata": {},
   "outputs": [],
   "source": [
    "c2a_rot,c2a_trans = align_point_sets(com.T,atlas_com.T)"
=======
   "execution_count": 42,
   "metadata": {},
   "outputs": [
    {
     "data": {
      "text/plain": [
       "array([1636.98461538, 1907.73846154,   10.45      ])"
      ]
     },
     "execution_count": 42,
     "metadata": {},
     "output_type": "execute_result"
    }
   ],
   "source": [
    "point2/np.array([0.325,0.325,20])"
>>>>>>> 15c0d28f2be48a48d7dd5e04dbb796ced5d1f407
   ]
  },
  {
   "cell_type": "code",
<<<<<<< HEAD
   "execution_count": 71,
=======
   "execution_count": 38,
>>>>>>> 15c0d28f2be48a48d7dd5e04dbb796ced5d1f407
   "metadata": {},
   "outputs": [
    {
     "data": {
      "text/plain": [
<<<<<<< HEAD
       "(array([[ 0.89960903, -0.25319791, -0.05536204],\n",
       "        [ 0.25755372,  0.89569785,  0.08866782],\n",
       "        [ 0.02898649, -0.10043267,  0.93034596]]),\n",
       " array([[-4869.80697574],\n",
       "        [-4215.44619736],\n",
       "        [-1206.4877145 ]]))"
      ]
     },
     "execution_count": 71,
=======
       "array([37.59946513, 19.95991125,  1.83286908])"
      ]
     },
     "execution_count": 38,
>>>>>>> 15c0d28f2be48a48d7dd5e04dbb796ced5d1f407
     "metadata": {},
     "output_type": "execute_result"
    }
   ],
   "source": [
<<<<<<< HEAD
    "c2a_rot,c2a_trans"
=======
    "point1/((point2+np.array([500,500,150]))/np.array([1,1,2]))"
>>>>>>> 15c0d28f2be48a48d7dd5e04dbb796ced5d1f407
   ]
  },
  {
   "cell_type": "code",
<<<<<<< HEAD
   "execution_count": 73,
   "metadata": {},
   "outputs": [
    {
     "data": {
      "text/plain": [
       "array([[ 0.02243214, -0.0063136 , -0.00138048],\n",
       "       [ 0.00642221,  0.02233462,  0.00221097],\n",
       "       [ 0.00072279, -0.00250433,  0.02319858]])"
      ]
     },
     "execution_count": 73,
     "metadata": {},
     "output_type": "execute_result"
    }
   ],
   "source": [
    "np.linalg.inv(a2c_rot)-c2a_rot"
=======
   "execution_count": null,
   "metadata": {},
   "outputs": [],
   "source": []
  },
  {
   "cell_type": "code",
   "execution_count": 26,
   "metadata": {},
   "outputs": [
    {
     "name": "stdout",
     "output_type": "stream",
     "text": [
      "((18, 3), (18, 3))\n"
     ]
    },
    {
     "data": {
      "image/png": "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\n",
      "text/plain": [
       "<Figure size 432x288 with 1 Axes>"
      ]
     },
     "metadata": {
      "needs_background": "light"
     },
     "output_type": "display_data"
    }
   ],
   "source": [
    "scatter_two_com_dict(coms,atlas_coms)"
>>>>>>> 15c0d28f2be48a48d7dd5e04dbb796ced5d1f407
   ]
  },
  {
   "cell_type": "code",
<<<<<<< HEAD
   "execution_count": 74,
   "metadata": {},
   "outputs": [
    {
     "data": {
      "text/plain": [
       "array([[ 0.10181953,  0.53990207,  0.08762929],\n",
       "       [-0.53940907,  0.10137685, -0.20046766],\n",
       "       [-0.09061452,  0.19913609,  0.10529839]])"
      ]
     },
     "execution_count": 74,
     "metadata": {},
     "output_type": "execute_result"
    }
   ],
   "source": [
    "a2c_rot - c2a_rot"
=======
   "execution_count": 5,
   "metadata": {},
   "outputs": [],
   "source": [
    "coms = get_center_of_mass(\"DK41\")\n",
    "atlas_coms = get_atlas_center_of_mass()"
   ]
  },
  {
   "cell_type": "code",
   "execution_count": 21,
   "metadata": {},
   "outputs": [],
   "source": [
    "com1,com2 = get_common_point_set(atlas_coms,coms)\n",
    "rotation,translation = align_point_sets(com1.T,com2.T)"
   ]
  },
  {
   "cell_type": "code",
   "execution_count": 17,
   "metadata": {},
   "outputs": [
    {
     "name": "stdout",
     "output_type": "stream",
     "text": [
      "((20, 3), (20, 3))\n"
     ]
    },
    {
     "data": {
      "image/png": "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\n",
      "text/plain": [
       "<Figure size 432x288 with 1 Axes>"
      ]
     },
     "metadata": {
      "needs_background": "light"
     },
     "output_type": "display_data"
    }
   ],
   "source": [
    "scatter_two_com_dict(coms,atlas_coms)"
   ]
  },
  {
   "cell_type": "code",
   "execution_count": 35,
   "metadata": {
    "scrolled": true
   },
   "outputs": [],
   "source": [
    "from utilities.model.center_of_mass import CenterOfMass\n",
    "from sql_setup import session\n",
    "def get_coordinate_from_query(query_results):\n",
    "    coordinates = []\n",
    "    for entry in query_results:\n",
    "        coordinates.append([entry.x,entry.y,entry.section])\n",
    "    return np.array(coordinates)\n",
    "\n",
    "def atlas_com_type1():\n",
    "    brain = 'Atlas'\n",
    "    person_id = 1\n",
    "    input_type_id = 4\n",
    "    query_results = session.query(CenterOfMass)\\\n",
    "            .filter(CenterOfMass.active.is_(True))\\\n",
    "            .filter(CenterOfMass.prep_id == brain)\\\n",
    "            .filter(CenterOfMass.person_id == person_id)\\\n",
    "            .filter(CenterOfMass.input_type_id == input_type_id)\\\n",
    "            .all()\n",
    "    coordinates = get_coordinate_from_query(query_results)\n",
    "    return coordinates\n",
    "com1 = atlas_com_type1()"
   ]
  },
  {
   "cell_type": "code",
   "execution_count": 36,
   "metadata": {},
   "outputs": [],
   "source": [
    "def atlas_com_type2():\n",
    "    brain = 'Atlas'\n",
    "    person_id = 16\n",
    "    input_type_id = 1\n",
    "    query_results = session.query(CenterOfMass)\\\n",
    "            .filter(CenterOfMass.active.is_(True))\\\n",
    "            .filter(CenterOfMass.prep_id == brain)\\\n",
    "            .filter(CenterOfMass.person_id == person_id)\\\n",
    "            .filter(CenterOfMass.input_type_id == input_type_id)\\\n",
    "            .all()\n",
    "    coordinates = get_coordinate_from_query(query_results)\n",
    "    return coordinates\n",
    "com2 = atlas_com_type2() "
   ]
  },
  {
   "cell_type": "code",
   "execution_count": 31,
   "metadata": {},
   "outputs": [],
   "source": [
    "import matplotlib.pyplot as plt\n",
    "def get_common_point_set(com1_dict,com2_dict):\n",
    "    key1 = com1_dict.keys()\n",
    "    key2 = com2_dict.keys()\n",
    "    shared_keys = [keyi for keyi in key1 if keyi in key2]\n",
    "    com1 = []\n",
    "    com2 = []\n",
    "    for key in shared_keys:\n",
    "        com1.append(com1_dict[key])\n",
    "        com2.append(com2_dict[key])\n",
    "    com1 = np.array(com1)\n",
    "    com2 = np.array(com2)\n",
    "    return com1,com2\n",
    "\n",
    "def plot_two_point_set(pointset1,pointset2):\n",
    "    assert len(pointset1)==len(pointset2)\n",
    "    for pointi in range(len(pointset1)):\n",
    "        print(pointset1[pointi],pointset2[pointi])\n",
    "\n",
    "def scatter_two_com_array(com1,com2):\n",
    "    plt.scatter(com1[:,0],com1[:,1])\n",
    "    plt.scatter(com2[:,0],com2[:,1])\n",
    "\n",
    "def scatter_two_com_dict(com1_dict,com2_dict):\n",
    "    com1,com2 = get_common_point_set(com1_dict,com2_dict)\n",
    "    print((com1.shape,com2.shape))\n",
    "    plt.scatter(com1[:,0],com1[:,1])\n",
    "    plt.scatter(com2[:,0],com2[:,1])"
>>>>>>> 15c0d28f2be48a48d7dd5e04dbb796ced5d1f407
   ]
  },
  {
   "cell_type": "code",
   "execution_count": null,
   "metadata": {},
   "outputs": [],
   "source": []
  }
 ],
 "metadata": {
  "kernelspec": {
   "display_name": "Python 3",
   "language": "python",
   "name": "python3"
  },
  "language_info": {
   "codemirror_mode": {
    "name": "ipython",
    "version": 3
   },
   "file_extension": ".py",
   "mimetype": "text/x-python",
   "name": "python",
   "nbconvert_exporter": "python",
   "pygments_lexer": "ipython3",
   "version": "3.6.9"
  }
 },
 "nbformat": 4,
 "nbformat_minor": 2
}
