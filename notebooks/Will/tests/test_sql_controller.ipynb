{
 "cells": [
  {
   "cell_type": "code",
   "execution_count": 3,
   "metadata": {},
   "outputs": [],
   "source": [
    "import sys\n",
    "sys.path.append('/home/zhw272/programming/pipeline_utility')\n",
    "from utilities.brain_specimens.get_prep_list import get_prep_list_excluding_DK52,get_active_prep_list"
   ]
  },
  {
   "cell_type": "code",
   "execution_count": 4,
   "metadata": {},
   "outputs": [
    {
     "data": {
      "text/plain": [
       "['DK39',\n",
       " 'DK40',\n",
       " 'DK41',\n",
       " 'DK43',\n",
       " 'DK46',\n",
       " 'DK50',\n",
       " 'DK52',\n",
       " 'DK54',\n",
       " 'DK55',\n",
       " 'DK60',\n",
       " 'DK61',\n",
       " 'DK62']"
      ]
     },
     "execution_count": 4,
     "metadata": {},
     "output_type": "execute_result"
    }
   ],
   "source": [
    "get_active_prep_list()"
   ]
  },
  {
   "cell_type": "code",
   "execution_count": 2,
   "metadata": {},
   "outputs": [
    {
     "data": {
      "text/plain": [
       "['DK39',\n",
       " 'DK40',\n",
       " 'DK41',\n",
       " 'DK43',\n",
       " 'DK46',\n",
       " 'DK50',\n",
       " 'DK54',\n",
       " 'DK55',\n",
       " 'DK60',\n",
       " 'DK61',\n",
       " 'DK62']"
      ]
     },
     "execution_count": 2,
     "metadata": {},
     "output_type": "execute_result"
    }
   ],
   "source": [
    "get_prep_list_excluding_DK52()"
   ]
  },
  {
   "cell_type": "code",
   "execution_count": 2,
   "metadata": {},
   "outputs": [],
   "source": [
    "import sys\n",
    "sys.path.append('/home/zhw272/programming/pipeline_utility')\n",
    "from utilities.brain_specimens.get_prep_list import get_prep_list_excluding_DK52\n",
    "from utilities.brain_specimens.get_com import get_atlas_com,get_beth_com\n",
    "from utilities.sqlcontroller import SqlController\n",
    "from utilities.alignment.align_point_sets import align_point_sets\n",
    "import numpy as np"
   ]
  },
  {
   "cell_type": "code",
   "execution_count": 3,
   "metadata": {
    "scrolled": true
   },
   "outputs": [],
   "source": [
    "from utilities.model.center_of_mass import CenterOfMass\n",
    "from sql_setup import session\n",
    "def get_coordinate_from_query(query_results):\n",
    "    coordinates = []\n",
    "    for entry in query_results:\n",
    "        coordinates.append([entry.x,entry.y,entry.section])\n",
    "    return np.array(coordinates)\n"
   ]
  },
  {
   "cell_type": "code",
   "execution_count": 5,
   "metadata": {},
   "outputs": [],
   "source": [
    "import matplotlib.pyplot as plt\n",
    "def get_common_point_set(com1_dict,com2_dict):\n",
    "    key1 = com1_dict.keys()\n",
    "    key2 = com2_dict.keys()\n",
    "    shared_keys = [keyi for keyi in key1 if keyi in key2]\n",
    "    com1 = []\n",
    "    com2 = []\n",
    "    for key in shared_keys:\n",
    "        com1.append(com1_dict[key])\n",
    "        com2.append(com2_dict[key])\n",
    "    com1 = np.array(com1)\n",
    "    com2 = np.array(com2)\n",
    "    return com1,com2\n",
    "\n",
    "def print_two_point_set(pointset1,pointset2):\n",
    "    assert len(pointset1)==len(pointset2)\n",
    "    for pointi in range(len(pointset1)):\n",
    "        print(pointset1[pointi],pointset2[pointi])\n",
    "\n",
    "def scatter_two_com_array(com1,com2):\n",
    "    plt.scatter(com1[:,0],com1[:,1])\n",
    "    plt.scatter(com2[:,0],com2[:,1])\n",
    "\n",
    "def scatter_two_com_dict(com1_dict,com2_dict):\n",
    "    com1,com2 = get_common_point_set(com1_dict,com2_dict)\n",
    "    print((com1.shape,com2.shape))\n",
    "    plt.scatter(com1[:,0],com1[:,1])\n",
    "    plt.scatter(com2[:,0],com2[:,1])"
   ]
  },
  {
   "cell_type": "code",
   "execution_count": 27,
   "metadata": {},
   "outputs": [],
   "source": [
    "prep_list_excluding_DK52 = get_prep_list_excluding_DK52()"
   ]
  },
  {
   "cell_type": "code",
   "execution_count": 62,
   "metadata": {},
   "outputs": [],
   "source": [
    "prepi = prep_list_excluding_DK52[0]\n",
    "coms_dict = get_beth_com(\"DK52\")\n",
    "atlas_coms_dict = get_atlas_com()"
   ]
  },
  {
   "cell_type": "code",
   "execution_count": 63,
   "metadata": {},
   "outputs": [],
   "source": [
    "com,atlas_com = get_common_point_set(coms_dict,atlas_coms_dict)\n",
    "com = com*np.array([0.325,0.325,20])\n",
    "atlas_com = (atlas_com*10/np.array([10,10,20])+np.array([500,500,150]))*np.array([10,10,20])"
   ]
  },
  {
   "cell_type": "code",
   "execution_count": 64,
   "metadata": {},
   "outputs": [
    {
     "name": "stdout",
     "output_type": "stream",
     "text": [
      "[14818.7  6025.5  4680. ] [6972.27  5670.988 2980.   ]\n",
      "[12598.625  6353.1    3440.   ] [4567.992  5020.7948 1640.    ]\n",
      "[11110.45   6490.575  6440.   ] [3018.75  4776.826 4410.   ]\n",
      "[11068.85   6720.675  3460.   ] [3018.75  4776.826 1590.   ]\n",
      "[12722.125  7913.425  4460.   ] [4272.079 6202.24  2490.   ]\n",
      "[12786.15  7792.2   5520.  ] [4272.079 6202.24  3510.   ]\n",
      "[11362.325  5292.625  4640.   ] [3645.55 3915.06 2860.  ]\n",
      "[11293.425  5275.075  4860.   ] [3645.55 3915.06 3140.  ]\n",
      "[14857.05   5747.625  4940.   ] [7033.41  5479.286 3290.   ]\n",
      "[14801.15   5770.375  4360.   ] [7033.41  5479.286 2710.   ]\n",
      "[11780.275  5218.2    4940.   ] [3994.41 3961.04 3250.  ]\n",
      "[11780.275  5209.75   4460.   ] [3994.41 3961.04 2750.  ]\n",
      "[15011.75   5513.625  4600.   ] [7023.06  5256.525 3020.   ]\n",
      "[14330.55  7122.05  3440.  ] [6124.4  6038.26 1770.  ]\n",
      "[12082.2    3091.075  4440.   ] [4967.529 2516.93  3000.   ]\n",
      "[12978.55   5275.725  5560.   ] [4961.9734 4428.079  3840.    ]\n",
      "[12937.6    5505.175  3760.   ] [4961.9734 4428.079  2160.    ]\n",
      "[15407.925  6932.9    5920.   ] [6881.94 6468.63 4120.  ]\n",
      "[15505.1   7163.65  3660.  ] [6881.94 6468.63 1880.  ]\n",
      "[11639.55  5018.    6600.  ] [3960.38 3729.85 4860.  ]\n",
      "[11557.     5191.875  2760.   ] [3960.38 3729.85 1140.  ]\n",
      "[11950.575  7244.25   4980.   ] [3784.54  5622.477 2960.   ]\n",
      "[10725.325  6868.55   3640.   ] [2685.15  4825.814 1790.   ]\n",
      "[10873.85  6371.3   6380.  ] [2685.15  4825.814 4210.   ]\n",
      "[14450.15  6382.35  3000.  ] [6793.26  5505.224 1090.   ]\n",
      "[14442.025  6208.8    6500.   ] [6793.26  5505.224 4910.   ]\n",
      "[12965.875  5776.225  7200.   ] [5040.7409 4950.0897 5430.    ]\n",
      "[12977.25   6379.425  2320.   ] [5040.7409 4950.0897  570.    ]\n",
      "[11007.1    2944.825  4440.   ] [3719.82 2588.71 3030.  ]\n",
      "[13801.125  7163.65   6180.   ] [5296.329 6144.24  4150.   ]\n",
      "[12659.4    6153.225  6200.   ] [4567.992  5020.7948 4360.    ]\n",
      "[13195.975  6243.25   5140.   ] [5171.597 5124.922 3350.   ]\n",
      "[13170.625  6338.15   4400.   ] [5171.597 5124.922 2650.   ]\n",
      "[13627.25  7562.1   3560.  ] [5296.329 6144.24  1850.   ]\n",
      "[13547.3    5741.775  2500.   ] [5832.885 4564.954  840.   ]\n",
      "[13579.475  5336.5    7020.   ] [5832.885 4564.954 5160.   ]\n"
     ]
    }
   ],
   "source": [
    "print_two_point_set(com,atlas_com)"
   ]
  },
  {
   "cell_type": "code",
   "execution_count": 65,
   "metadata": {},
   "outputs": [
    {
     "data": {
      "image/png": "[encoded data removed]",
      "text/plain": [
       "<Figure size 432x288 with 1 Axes>"
      ]
     },
     "metadata": {
      "needs_background": "light"
     },
     "output_type": "display_data"
    }
   ],
   "source": [
    "scatter_two_com_array(com,atlas_com)"
   ]
  },
  {
   "cell_type": "code",
   "execution_count": 68,
   "metadata": {},
   "outputs": [],
   "source": [
    "a2c_rot,a2c_trans = align_point_sets(atlas_com.T,com.T)"
   ]
  },
  {
   "cell_type": "code",
   "execution_count": 70,
   "metadata": {},
   "outputs": [
    {
     "data": {
      "text/plain": [
       "(array([[ 1.00142856,  0.28670416,  0.03226724],\n",
       "        [-0.28185535,  0.9970747 , -0.11179984],\n",
       "        [-0.06162803,  0.09870342,  1.03564435]]),\n",
       " array([[6438.79890391],\n",
       "        [2842.52514905],\n",
       "        [1480.61079409]]))"
      ]
     },
     "execution_count": 70,
     "metadata": {},
     "output_type": "execute_result"
    }
   ],
   "source": [
    "a2c_rot,a2c_trans"
   ]
  },
  {
   "cell_type": "code",
   "execution_count": 69,
   "metadata": {},
   "outputs": [],
   "source": [
    "c2a_rot,c2a_trans = align_point_sets(com.T,atlas_com.T)"
   ]
  },
  {
   "cell_type": "code",
   "execution_count": 71,
   "metadata": {},
   "outputs": [
    {
     "data": {
      "text/plain": [
       "(array([[ 0.89960903, -0.25319791, -0.05536204],\n",
       "        [ 0.25755372,  0.89569785,  0.08866782],\n",
       "        [ 0.02898649, -0.10043267,  0.93034596]]),\n",
       " array([[-4869.80697574],\n",
       "        [-4215.44619736],\n",
       "        [-1206.4877145 ]]))"
      ]
     },
     "execution_count": 71,
     "metadata": {},
     "output_type": "execute_result"
    }
   ],
   "source": [
    "c2a_rot,c2a_trans"
   ]
  },
  {
   "cell_type": "code",
   "execution_count": 73,
   "metadata": {},
   "outputs": [
    {
     "data": {
      "text/plain": [
       "array([[ 0.02243214, -0.0063136 , -0.00138048],\n",
       "       [ 0.00642221,  0.02233462,  0.00221097],\n",
       "       [ 0.00072279, -0.00250433,  0.02319858]])"
      ]
     },
     "execution_count": 73,
     "metadata": {},
     "output_type": "execute_result"
    }
   ],
   "source": [
    "np.linalg.inv(a2c_rot)-c2a_rot"
   ]
  },
  {
   "cell_type": "code",
   "execution_count": 74,
   "metadata": {},
   "outputs": [
    {
     "data": {
      "text/plain": [
       "array([[ 0.10181953,  0.53990207,  0.08762929],\n",
       "       [-0.53940907,  0.10137685, -0.20046766],\n",
       "       [-0.09061452,  0.19913609,  0.10529839]])"
      ]
     },
     "execution_count": 74,
     "metadata": {},
     "output_type": "execute_result"
    }
   ],
   "source": [
    "a2c_rot - c2a_rot"
   ]
  },
  {
   "cell_type": "code",
   "execution_count": null,
   "metadata": {},
   "outputs": [],
   "source": []
  }
 ],
 "metadata": {
  "kernelspec": {
   "display_name": "Python 3",
   "language": "python",
   "name": "python3"
  },
  "language_info": {
   "codemirror_mode": {
    "name": "ipython",
    "version": 3
   },
   "file_extension": ".py",
   "mimetype": "text/x-python",
   "name": "python",
   "nbconvert_exporter": "python",
   "pygments_lexer": "ipython3",
   "version": "3.6.9"
  }
 },
 "nbformat": 4,
 "nbformat_minor": 2
}
