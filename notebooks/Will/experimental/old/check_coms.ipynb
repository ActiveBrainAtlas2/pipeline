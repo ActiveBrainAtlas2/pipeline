{
 "cells": [
  {
   "cell_type": "code",
   "execution_count": 2,
   "metadata": {},
   "outputs": [],
   "source": [
    "import sys\n",
    "sys.path.append('/home/zhw272/programming/pipeline_utility')\n",
    "sys.path.append('/home/zhw272/programming/pipeline_utility/src')\n",
    "from src.sql_setup import session\n",
    "from src.model.center_of_mass import CenterOfMass\n",
    "from src.lib.sqlcontroller import SqlController\n",
    "import notebooks.Will.experimental.get_coms_from_pickle as getcomp\n",
    "import notebooks.Will.experimental.get_coms_from_database as getcomd\n",
    "import notebooks.Will.experimental.get_transformed_coms as gettc\n",
    "import numpy as np\n",
    "from src.lib.comparison_tools import compare_lists"
   ]
  },
  {
   "cell_type": "code",
   "execution_count": 8,
   "metadata": {},
   "outputs": [],
   "source": [
    "def query_brain_coms(brain, person_id=28, input_type_id=4,factor = np.array([0.325,0.325,20])):\n",
    "    # default: person is bili, input_type is aligned\n",
    "    rows = session.query(CenterOfMass)\\\n",
    "        .filter(CenterOfMass.active.is_(True))\\\n",
    "        .filter(CenterOfMass.prep_id == brain)\\\n",
    "        .filter(CenterOfMass.person_id == person_id)\\\n",
    "        .filter(CenterOfMass.input_type_id == input_type_id)\\\n",
    "        .all()\n",
    "    row_dict = {}\n",
    "    for row in rows:\n",
    "        structure = row.structure.abbreviation\n",
    "        row_dict[structure] = np.array([row.x, row.y, row.section])*factor\n",
    "    return row_dict"
   ]
  },
  {
   "cell_type": "code",
   "execution_count": 11,
   "metadata": {},
   "outputs": [],
   "source": [
    "\n",
    "def check_dict(d1:dict,d2:dict,verbose = True):\n",
    "    if (d1.keys()==d2.keys()):\n",
    "        bools = []\n",
    "        for keyi in d1.keys():\n",
    "            equal = np.all(np.isclose(d1[keyi],d2[keyi],atol = 1))\n",
    "            if not equal and verbose:\n",
    "                print('nonequal entry:')\n",
    "                print(keyi,d1[keyi],d2[keyi])\n",
    "            bools.append(equal)\n",
    "            \n",
    "    else:\n",
    "        print('unequal keys')\n",
    "        compare_lists(list(d1.keys()),list(d2.keys()))\n",
    "        bools = None\n",
    "    return np.all(bools)"
   ]
  },
  {
   "cell_type": "code",
   "execution_count": 27,
   "metadata": {},
   "outputs": [
    {
     "data": {
      "text/plain": [
       "True"
      ]
     },
     "execution_count": 27,
     "metadata": {},
     "output_type": "execute_result"
    }
   ],
   "source": [
    "#compare atlas\n",
    "a1 = getcomp.get_atlas_com()\n",
    "a2 = getcomd.get_atlas_com()\n",
    "check_dict(a1,a2) "
   ]
  },
  {
   "cell_type": "code",
   "execution_count": 28,
   "metadata": {},
   "outputs": [
    {
     "name": "stdout",
     "output_type": "stream",
     "text": [
      "DK39 True\n",
      "DK41 True\n",
      "DK43 True\n",
      "DK54 True\n",
      "DK55 True\n",
      "DK52 True\n"
     ]
    }
   ],
   "source": [
    "#compare com save vs database corrected beth\n",
    "prep_list = getcomp.get_prep_list()\n",
    "for prepi in prep_list:\n",
    "    d1 = getcomp.get_corrected_prepi_com(prepi)\n",
    "    d2 = getcomd.get_corrected_prepi_com(prepi)\n",
    "    print(prepi,check_dict(d1,d2) )"
   ]
  },
  {
   "cell_type": "code",
   "execution_count": 3,
   "metadata": {},
   "outputs": [
    {
     "name": "stdout",
     "output_type": "stream",
     "text": [
      "unequal keys\n",
      "{'IC', '12N'}\n",
      "in l2 not l1\n",
      "DK39 None\n",
      "DK41 True\n",
      "DK43 True\n",
      "unequal keys\n",
      "{'IC', 'SC'}\n",
      "in l2 not l1\n",
      "DK54 None\n",
      "unequal keys\n",
      "in l1 not l2\n",
      "{'6N_L', 'LC_L', '10N_L', '6N_R', '3N_L', '10N_R', '7N_R', '3N_R', '7N_L', 'Amb_R', 'DC_R', 'LC_R', 'Tz_L', 'Amb_L', 'Pn_R', 'LRt_L', 'Pn_L', '5N_L', 'LRt_R', 'DC_L', 'Tz_R', '5N_R'}\n",
      "DK55 None\n",
      "unequal keys\n",
      "{'VLL_R', 'Pn_R', 'VCP_L', 'Pn_L', 'Amb_R', 'VCP_R', 'Sp5C_L', 'Sp5C_R', 'VLL_L'}\n",
      "in l2 not l1\n",
      "DK52 None\n"
     ]
    }
   ],
   "source": [
    "#compare com save vs database beth\n",
    "prep_list = getcomp.get_prep_list()\n",
    "for prepi in prep_list:\n",
    "    d1 = getcomp.get_prepi_com(prepi)\n",
    "    d2 = getcomd.get_prepi_com(prepi)\n",
    "    print(prepi,check_dict(d1,d2) )"
   ]
  },
  {
   "cell_type": "code",
   "execution_count": 32,
   "metadata": {},
   "outputs": [
    {
     "name": "stdout",
     "output_type": "stream",
     "text": [
      "DK39 True\n",
      "DK41 True\n",
      "DK43 True\n",
      "DK54 True\n",
      "DK55 True\n",
      "DK52 True\n"
     ]
    }
   ],
   "source": [
    "#compare com Com table(old) vs save beth\n",
    "prep_list = getcomp.get_prep_list()\n",
    "for prepi in prep_list:\n",
    "    d1 = getcomp.get_prepi_com(prepi)\n",
    "    d2 = query_brain_coms(prepi, person_id=2, input_type_id=1)\n",
    "    print(prepi,check_dict(d1,d2) )"
   ]
  },
  {
   "cell_type": "code",
   "execution_count": 34,
   "metadata": {},
   "outputs": [
    {
     "name": "stdout",
     "output_type": "stream",
     "text": [
      "DK39 True\n",
      "DK41 True\n",
      "nonequal entry:\n",
      "6N_R [12704.575  6462.17   4840.   ] [12704.575   245.05   4840.   ]\n",
      "DK43 False\n",
      "DK54 True\n",
      "DK52 True\n"
     ]
    }
   ],
   "source": [
    "#compare com Com table(old) vs save corrected beth\n",
    "prep_list = getcomp.get_prep_list()\n",
    "prep_list.remove('DK55')\n",
    "for prepi in prep_list:\n",
    "    d1 = getcomp.get_corrected_prepi_com(prepi)\n",
    "    d2 = query_brain_coms(prepi, person_id=2, input_type_id=2)\n",
    "    print(prepi,check_dict(d1,d2) )\n"
   ]
  },
  {
   "cell_type": "code",
   "execution_count": 6,
   "metadata": {},
   "outputs": [],
   "source": [
    "beth_aligned = gettc.get_beth_coms_aligned_to_atlas(getcomp.get_corrected_prepi_com)"
   ]
  },
  {
   "cell_type": "code",
   "execution_count": 14,
   "metadata": {},
   "outputs": [
    {
     "data": {
      "text/plain": [
       "['DK39', 'DK41', 'DK43', 'DK54', 'DK55']"
      ]
     },
     "execution_count": 14,
     "metadata": {},
     "output_type": "execute_result"
    }
   ],
   "source": [
    "prep_list"
   ]
  },
  {
   "cell_type": "code",
   "execution_count": 18,
   "metadata": {},
   "outputs": [
    {
     "data": {
      "text/plain": [
       "{'7N_R': array([5163.63, 6145.24, 4328.86]),\n",
       " '7N_L': array([5441.91 , 6138.42 , 1893.556]),\n",
       " 'Tz_R': array([4335.43, 6361.15, 3502.24]),\n",
       " 'Tz_L': array([4381.43, 6362.29, 2557.28]),\n",
       " '5N_R': array([4607.46, 4995.83, 4384.06]),\n",
       " 'Pn_L': array([3392.25, 6032.53, 2349.1 ]),\n",
       " 'Pn_R': array([3488.1 , 6136.84, 3556.48]),\n",
       " '3N_L': array([3891.48, 3875.77, 2829.4 ]),\n",
       " '3N_R': array([3847.92, 3846.75, 3088.66]),\n",
       " '6N_R': array([5105.96, 5134.  , 3402.94]),\n",
       " '6N_L': array([5195.61, 5135.32, 2720.84]),\n",
       " '10N_L': array([6657.15, 5038.89, 2966.1 ]),\n",
       " '10N_R': array([6045.13 , 6029.78 , 1937.684]),\n",
       " 'DC_L': array([5889.11 , 4566.51 , 1089.392]),\n",
       " 'DC_R': array([5677.67, 4485.96, 5188.14]),\n",
       " 'LC_R': array([5163.1 , 4279.56, 3868.18]),\n",
       " 'LC_L': array([5164.15, 4255.9 , 2271.56]),\n",
       " 'LRt_L': array([6782.75 , 6319.4  , 1984.086]),\n",
       " 'LRt_R': array([6925.4 , 6375.3 , 4405.28]),\n",
       " '5N_L': array([4738.52 , 5042.69 , 1676.158])}"
      ]
     },
     "execution_count": 18,
     "metadata": {},
     "output_type": "execute_result"
    }
   ],
   "source": [
    "query_brain_coms(prepi, person_id=28, input_type_id=4,factor = np.array([10,10,20]))"
   ]
  },
  {
   "cell_type": "code",
   "execution_count": 13,
   "metadata": {},
   "outputs": [
    {
     "name": "stdout",
     "output_type": "stream",
     "text": [
      "DK39 True\n",
      "DK41 True\n",
      "DK43 False\n",
      "DK54 True\n",
      "unequal keys\n",
      "in l1 not l2\n",
      "{'Tz_L', 'Pn_L', 'Pn_R', '7N_R', 'LRt_L', '7N_L', '6N_R', 'Amb_L', 'LC_L', 'Amb_R', 'LC_R', 'Tz_R', 'LRt_R', '6N_L', '5N_L', '3N_R', 'DC_L', '3N_L', '10N_L', '10N_R', '5N_R', 'DC_R'}\n",
      "DK55 None\n"
     ]
    }
   ],
   "source": [
    "#compare com Com table(old) vs save corrected beth\n",
    "prep_list = getcomp.get_prep_list()\n",
    "prep_list.remove('DK52')\n",
    "id = 0\n",
    "for prepi in prep_list:\n",
    "    d1 = beth_aligned[id]\n",
    "    d2 = query_brain_coms(prepi, person_id=28, input_type_id=2,factor = np.array([10,10,20]))\n",
    "    print(prepi,check_dict(d1,d2,verbose = False) )\n",
    "    id+=1"
   ]
  },
  {
   "cell_type": "code",
   "execution_count": null,
   "metadata": {},
   "outputs": [],
   "source": []
  }
 ],
 "metadata": {
  "interpreter": {
   "hash": "2bd29f7b10431261d8beeb897d602198a8ccc2be7cc6f93af9f327223ffe0508"
  },
  "kernelspec": {
   "display_name": "Python 3.6.9 64-bit ('pipeline': venv)",
   "name": "python3"
  },
  "language_info": {
   "codemirror_mode": {
    "name": "ipython",
    "version": 3
   },
   "file_extension": ".py",
   "mimetype": "text/x-python",
   "name": "python",
   "nbconvert_exporter": "python",
   "pygments_lexer": "ipython3",
   "version": "3.6.9"
  },
  "orig_nbformat": 4
 },
 "nbformat": 4,
 "nbformat_minor": 2
}