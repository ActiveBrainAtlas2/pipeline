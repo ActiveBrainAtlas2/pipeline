{
 "cells": [
  {
   "cell_type": "markdown",
   "id": "d8d3d785-5c68-44d8-b096-5cc87c6c19f0",
   "metadata": {},
   "source": [
    "# Automatic Registration Step 1: Rough Alignment\n",
    "This step involves doing **registration on downsampled thumbnail images**. We have a reference brain DK52 whose structures are well annotated both by Beth manually and by Kui's detection code automatically. The goal of this step is to find the best transformation from DK52 to another brain we study, so that we could use this transformation to bring DK52 structure annotations to the new brain, as starting points for Kui's detection later.\n",
    "\n",
    "Outline:\n",
    "- [Loading Data](#Loading-Data)\n",
    "- [Registration](#Registration)\n",
    "    - [Centered Transformation](#Centered-Transformation)\n",
    "    - [Affine Transformation](#Affine-Transformation)\n",
    "    - [Demons Transformattion](#Demons-Transformation)\n",
    "- [Saving Result](#Saving-Result)"
   ]
  },
  {
   "cell_type": "code",
   "execution_count": 1,
   "id": "6c300851-3694-4c3e-9d08-4ab3dcc570e7",
   "metadata": {},
   "outputs": [],
   "source": [
    "from pathlib import Path\n",
    "\n",
    "import SimpleITK as sitk\n",
    "import numpy as np\n",
    "\n",
    "%matplotlib inline\n",
    "import matplotlib.pyplot as plt\n",
    "\n",
    "from ipywidgets import interact, fixed\n",
    "from IPython.display import clear_output"
   ]
  },
  {
   "cell_type": "markdown",
   "id": "d5354b8d-c90b-4e1b-a0e3-c0dae230def2",
   "metadata": {},
   "source": [
    "The following are some utility functions used for plotting, copied from http://insightsoftwareconsortium.github.io/SimpleITK-Notebooks/Python_html/60_Registration_Introduction.html."
   ]
  },
  {
   "cell_type": "code",
   "execution_count": 2,
   "id": "6272b256-5c51-409f-bf97-21668b4a46f8",
   "metadata": {},
   "outputs": [],
   "source": [
    "# Callback invoked by the interact IPython method for scrolling through the image stacks of\n",
    "# the two images (moving and fixed).\n",
    "def display_images(fixed_image_z, moving_image_z, fixed_npa, moving_npa):\n",
    "    # Create a figure with two subplots and the specified size.\n",
    "    plt.subplots(1,2,figsize=(10,8))\n",
    "    \n",
    "    # Draw the fixed image in the first subplot.\n",
    "    plt.subplot(1,2,1)\n",
    "    plt.imshow(fixed_npa[fixed_image_z,:,:],cmap=plt.cm.Greys_r);\n",
    "    plt.title('fixed image')\n",
    "    plt.axis('off')\n",
    "    \n",
    "    # Draw the moving image in the second subplot.\n",
    "    plt.subplot(1,2,2)\n",
    "    plt.imshow(moving_npa[moving_image_z,:,:],cmap=plt.cm.Greys_r);\n",
    "    plt.title('moving image')\n",
    "    plt.axis('off')\n",
    "    \n",
    "    plt.show()\n",
    "\n",
    "# Callback invoked by the IPython interact method for scrolling and modifying the alpha blending\n",
    "# of an image stack of two images that occupy the same physical space. \n",
    "def display_images_with_alpha(image_z, alpha, fixed, moving):\n",
    "    img = (1.0 - alpha)*fixed[:,:,image_z] + alpha*moving[:,:,image_z] \n",
    "    plt.imshow(sitk.GetArrayViewFromImage(img),cmap=plt.cm.Greys_r);\n",
    "    plt.axis('off')\n",
    "    plt.show()\n",
    "    \n",
    "# Callback invoked when the StartEvent happens, sets up our new data.\n",
    "def start_plot():\n",
    "    global metric_values, multires_iterations\n",
    "    \n",
    "    metric_values = []\n",
    "    multires_iterations = []\n",
    "\n",
    "# Callback invoked when the EndEvent happens, do cleanup of data and figure.\n",
    "def end_plot():\n",
    "    global metric_values, multires_iterations\n",
    "    \n",
    "    del metric_values\n",
    "    del multires_iterations\n",
    "    # Close figure, we don't want to get a duplicate of the plot latter on.\n",
    "    plt.close()\n",
    "\n",
    "# Callback invoked when the IterationEvent happens, update our data and display new figure.\n",
    "def plot_values(registration_method):\n",
    "    global metric_values, multires_iterations\n",
    "    \n",
    "    metric_values.append(registration_method.GetMetricValue())                                       \n",
    "    # Clear the output area (wait=True, to reduce flickering), and plot current data\n",
    "    clear_output(wait=True)\n",
    "    # Plot the similarity metric values\n",
    "    plt.plot(metric_values, 'r')\n",
    "    plt.plot(multires_iterations, [metric_values[index] for index in multires_iterations], 'b*')\n",
    "    plt.xlabel('Iteration Number',fontsize=12)\n",
    "    plt.ylabel('Metric Value',fontsize=12)\n",
    "    plt.show()\n",
    "    \n",
    "# Callback invoked when the sitkMultiResolutionIterationEvent happens, update the index into the \n",
    "# metric_values list. \n",
    "def update_multires_iterations():\n",
    "    global metric_values, multires_iterations\n",
    "    multires_iterations.append(len(metric_values))"
   ]
  },
  {
   "cell_type": "markdown",
   "id": "ce308402-ca32-427c-a518-bf9a6f784120",
   "metadata": {},
   "source": [
    "## Loading Data"
   ]
  },
  {
   "cell_type": "code",
   "execution_count": 3,
   "id": "2e39d6a7-d040-466e-bd07-d7eb6a01d535",
   "metadata": {},
   "outputs": [],
   "source": [
    "def load_image_stack(image_dir, spacing=None):\n",
    "    \"\"\"A helper function to load a directory of images as a SimpleITK Image.\"\"\"\n",
    "    image_dir = Path(image_dir).resolve()\n",
    "    image_series = []\n",
    "    for image_file in sorted(image_dir.iterdir()):\n",
    "        print(f'Loading image {image_file.name}', end='\\r')\n",
    "        image = sitk.ReadImage(image_file.as_posix())\n",
    "        image_series.append(image)\n",
    "    sitk_image = sitk.JoinSeries(image_series)\n",
    "    if spacing is not None:\n",
    "        sitk_image.SetSpacing(spacing)\n",
    "    return sitk_image"
   ]
  },
  {
   "cell_type": "code",
   "execution_count": 4,
   "id": "5a3c767b-9417-4708-8b7a-29b063e4e4cf",
   "metadata": {},
   "outputs": [],
   "source": [
    "mov_brain = 'DK52'\n",
    "fix_brain = 'DK43'\n",
    "# Full resolution is (0.325, 0.325, 20) um\n",
    "# Thumbnails are downsampled by (32, 32, 1), so\n",
    "thumb_spacing = (10.4, 10.4, 20.0) # in um\n",
    "\n",
    "data_dir = Path('/net/birdstore/Active_Atlas_Data/data_root/pipeline_data')\n",
    "mov_img_thumb_dir = data_dir / mov_brain / 'preps/CH1/thumbnail_aligned'\n",
    "fix_img_thumb_dir = data_dir / fix_brain / 'preps/CH1/thumbnail_aligned'"
   ]
  },
  {
   "cell_type": "code",
   "execution_count": 5,
   "id": "fb79249e-c52d-4ace-83fd-bd526a518dbf",
   "metadata": {},
   "outputs": [
    {
     "name": "stdout",
     "output_type": "stream",
     "text": [
      "CPU times: user 17.5 s, sys: 6.55 s, total: 24.1 s\n",
      "Wall time: 47.6 s\n"
     ]
    }
   ],
   "source": [
    "%%time\n",
    "moving_image = load_image_stack(mov_img_thumb_dir, spacing=thumb_spacing)"
   ]
  },
  {
   "cell_type": "code",
   "execution_count": 6,
   "id": "e204825c-c545-448f-bd44-a2a151ddcfdc",
   "metadata": {},
   "outputs": [
    {
     "name": "stdout",
     "output_type": "stream",
     "text": [
      "CPU times: user 12.6 s, sys: 3.74 s, total: 16.4 s\n",
      "Wall time: 44.9 s\n"
     ]
    }
   ],
   "source": [
    "%%time\n",
    "fixed_image = load_image_stack(fix_img_thumb_dir, spacing=thumb_spacing)"
   ]
  },
  {
   "cell_type": "code",
   "execution_count": 7,
   "id": "f10a3645-fa3f-49a2-8cb0-f4dba983fa30",
   "metadata": {},
   "outputs": [],
   "source": [
    "# Registration later requires the sitkFloat32 type,\n",
    "# so we do the casting once and for all here\n",
    "moving_image = sitk.Cast(moving_image, sitk.sitkFloat32)\n",
    "fixed_image = sitk.Cast(fixed_image, sitk.sitkFloat32)"
   ]
  },
  {
   "cell_type": "code",
   "execution_count": 8,
   "id": "a95b458f-3f68-4a82-8447-db214bd48bd8",
   "metadata": {},
   "outputs": [
    {
     "data": {
      "application/vnd.jupyter.widget-view+json": {
       "model_id": "2ec50842d556409aa47e04627e52b484",
       "version_major": 2,
       "version_minor": 0
      },
      "text/plain": [
       "interactive(children=(IntSlider(value=195, description='image_z', max=391), FloatSlider(value=0.5, description…"
      ]
     },
     "metadata": {},
     "output_type": "display_data"
    }
   ],
   "source": [
    "interact(\n",
    "    display_images_with_alpha,\n",
    "    image_z=(0,fixed_image.GetSize()[2]-1),\n",
    "    alpha=(0.0,1.0,0.05), fixed=fixed(fixed_image), moving=fixed(moving_image)\n",
    ");"
   ]
  },
  {
   "cell_type": "markdown",
   "id": "b7ec90cf-a75d-406c-85d0-f9947fabed38",
   "metadata": {},
   "source": [
    "## Registration\n",
    "We will do a multi-step registration here. Each step generates a transformation that serves as the initial transformation for the next step."
   ]
  },
  {
   "cell_type": "markdown",
   "id": "73c30ec3-008d-4ba8-af7b-1f81fcd7fd36",
   "metadata": {},
   "source": [
    "### Centered Transformation\n",
    "We start with a simple transformatioin that basically align the centers of 2 images using a translation."
   ]
  },
  {
   "cell_type": "code",
   "execution_count": 9,
   "id": "c6a762ff-fd19-4674-b364-aba26619a933",
   "metadata": {},
   "outputs": [
    {
     "name": "stdout",
     "output_type": "stream",
     "text": [
      "CPU times: user 1.03 ms, sys: 473 µs, total: 1.51 ms\n",
      "Wall time: 10.4 ms\n"
     ]
    }
   ],
   "source": [
    "%%time\n",
    "centered_transform = sitk.CenteredTransformInitializer(\n",
    "    fixed_image, moving_image, \n",
    "    sitk.AffineTransform(3), \n",
    "    sitk.CenteredTransformInitializerFilter.GEOMETRY\n",
    ")"
   ]
  },
  {
   "cell_type": "code",
   "execution_count": 10,
   "id": "a6f03352-2f32-4815-82b2-ddbcf17d6b97",
   "metadata": {},
   "outputs": [
    {
     "name": "stdout",
     "output_type": "stream",
     "text": [
      "itk::simple::Transform\n",
      " AffineTransform (0x5611dab80580)\n",
      "   RTTI typeinfo:   itk::AffineTransform<double, 3u>\n",
      "   Reference Count: 1\n",
      "   Modified Time: 174915\n",
      "   Debug: Off\n",
      "   Object Name: \n",
      "   Observers: \n",
      "     none\n",
      "   Matrix: \n",
      "     1 0 0 \n",
      "     0 1 0 \n",
      "     0 0 1 \n",
      "   Offset: [1788.8, 650, 940]\n",
      "   Center: [8767.2, 5194.8, 3910]\n",
      "   Translation: [1788.8, 650, 940]\n",
      "   Inverse: \n",
      "     1 0 0 \n",
      "     0 1 0 \n",
      "     0 0 1 \n",
      "   Singular: 0\n",
      "\n"
     ]
    }
   ],
   "source": [
    "print(centered_transform)"
   ]
  },
  {
   "cell_type": "code",
   "execution_count": 11,
   "id": "f879f085-4d19-4653-a7fe-f2b966c544e7",
   "metadata": {},
   "outputs": [
    {
     "data": {
      "application/vnd.jupyter.widget-view+json": {
       "model_id": "5ff52b6841cd4971aabb4dafc843e74d",
       "version_major": 2,
       "version_minor": 0
      },
      "text/plain": [
       "interactive(children=(IntSlider(value=195, description='image_z', max=391), FloatSlider(value=0.5, description…"
      ]
     },
     "metadata": {},
     "output_type": "display_data"
    }
   ],
   "source": [
    "transform = centered_transform\n",
    "moving_resampled = sitk.Resample(\n",
    "    moving_image, fixed_image, transform,\n",
    "    sitk.sitkLinear, 0.0, moving_image.GetPixelID()\n",
    ")\n",
    "interact(\n",
    "    display_images_with_alpha,\n",
    "    image_z=(0,fixed_image.GetSize()[2]-1),\n",
    "    alpha=(0.0,1.0,0.05), fixed=fixed(fixed_image), moving=fixed(moving_resampled)\n",
    ");"
   ]
  },
  {
   "cell_type": "markdown",
   "id": "a0f6ce03-cbc8-45e1-9620-dea23564f525",
   "metadata": {},
   "source": [
    "### Affine Transformation\n",
    "Then we continue with a general affine transformation.\n",
    "\n",
    "Reference: http://insightsoftwareconsortium.github.io/SimpleITK-Notebooks/Python_html/60_Registration_Introduction.html"
   ]
  },
  {
   "cell_type": "code",
   "execution_count": 12,
   "id": "41d5efe4-9f2f-4060-83c0-ee699f584c68",
   "metadata": {},
   "outputs": [
    {
     "data": {
      "image/png": "[encoded data removed]",
      "text/plain": [
       "<Figure size 432x288 with 1 Axes>"
      ]
     },
     "metadata": {
      "needs_background": "light"
     },
     "output_type": "display_data"
    },
    {
     "name": "stdout",
     "output_type": "stream",
     "text": [
      "CPU times: user 47min 11s, sys: 1min 49s, total: 49min 1s\n",
      "Wall time: 7min 56s\n"
     ]
    },
    {
     "data": {
      "text/plain": [
       "<SimpleITK.SimpleITK.Transform; proxy of <Swig Object of type 'itk::simple::Transform *' at 0x7fe556af46f0> >"
      ]
     },
     "execution_count": 12,
     "metadata": {},
     "output_type": "execute_result"
    }
   ],
   "source": [
    "%%time\n",
    "registration_method = sitk.ImageRegistrationMethod()\n",
    "registration_method.SetInterpolator(sitk.sitkLinear)\n",
    "\n",
    "# Metric\n",
    "registration_method.SetMetricAsMattesMutualInformation(numberOfHistogramBins=50)\n",
    "registration_method.SetMetricSamplingStrategy(registration_method.RANDOM)\n",
    "registration_method.SetMetricSamplingPercentage(0.01)\n",
    "\n",
    "# Optimizer\n",
    "registration_method.SetOptimizerAsGradientDescent(\n",
    "    learningRate=1.0,\n",
    "    numberOfIterations=100,\n",
    "    convergenceMinimumValue=1e-6,\n",
    "    convergenceWindowSize=10\n",
    ")\n",
    "registration_method.SetOptimizerScalesFromPhysicalShift()\n",
    "\n",
    "# Transformation\n",
    "affine_transform = sitk.AffineTransform(centered_transform)    \n",
    "registration_method.SetInitialTransform(affine_transform)\n",
    "\n",
    "# Multi-resolution           \n",
    "registration_method.SetShrinkFactorsPerLevel(shrinkFactors=[4, 2, 1])\n",
    "registration_method.SetSmoothingSigmasPerLevel(smoothingSigmas=[2, 1, 0])\n",
    "registration_method.SmoothingSigmasAreSpecifiedInPhysicalUnitsOn()\n",
    "\n",
    "# Plotting\n",
    "registration_method.AddCommand(sitk.sitkStartEvent, start_plot)\n",
    "registration_method.AddCommand(sitk.sitkEndEvent, end_plot)\n",
    "registration_method.AddCommand(sitk.sitkMultiResolutionIterationEvent, update_multires_iterations)\n",
    "registration_method.AddCommand(sitk.sitkIterationEvent, lambda: plot_values(registration_method))\n",
    "\n",
    "registration_method.Execute(fixed_image, moving_image);"
   ]
  },
  {
   "cell_type": "code",
   "execution_count": 13,
   "id": "022df1be-200e-4930-b97d-1f8f353b1775",
   "metadata": {},
   "outputs": [
    {
     "name": "stdout",
     "output_type": "stream",
     "text": [
      "Final metric value: -0.4308453596019289\n",
      "Optimizer's stopping condition, GradientDescentOptimizerv4Template: Convergence checker passed at iteration 9.\n"
     ]
    }
   ],
   "source": [
    "print(f'Final metric value: {registration_method.GetMetricValue()}')\n",
    "print(f'Optimizer\\'s stopping condition, {registration_method.GetOptimizerStopConditionDescription()}')"
   ]
  },
  {
   "cell_type": "code",
   "execution_count": 14,
   "id": "e543ce26-2a9d-4522-bd5b-104a283c88d0",
   "metadata": {},
   "outputs": [
    {
     "name": "stdout",
     "output_type": "stream",
     "text": [
      "itk::simple::AffineTransform\n",
      " AffineTransform (0x5611dab7fa20)\n",
      "   RTTI typeinfo:   itk::AffineTransform<double, 3u>\n",
      "   Reference Count: 3\n",
      "   Modified Time: 15288901\n",
      "   Debug: Off\n",
      "   Object Name: \n",
      "   Observers: \n",
      "     none\n",
      "   Matrix: \n",
      "     0.969754 0.173453 -0.0210887 \n",
      "     -0.243108 1.01156 -0.079104 \n",
      "     -0.00645055 0.0553896 1.03717 \n",
      "   Offset: [594.713, 2985.35, -90.1035]\n",
      "   Center: [8767.2, 5194.8, 3910]\n",
      "   Translation: [1148.14, 604.718, 286.433]\n",
      "   Inverse: \n",
      "     0.988641 -0.169914 0.00714273 \n",
      "     0.237091 0.943714 0.0767966 \n",
      "     -0.00651301 -0.0514552 0.960101 \n",
      "   Singular: 0\n",
      "\n"
     ]
    }
   ],
   "source": [
    "print(affine_transform)"
   ]
  },
  {
   "cell_type": "code",
   "execution_count": 15,
   "id": "e39f9fe9-c9d3-409b-aa48-ae9e90f9a643",
   "metadata": {},
   "outputs": [
    {
     "data": {
      "application/vnd.jupyter.widget-view+json": {
       "model_id": "04bef21a06df4633a85f947fe2ad7ef0",
       "version_major": 2,
       "version_minor": 0
      },
      "text/plain": [
       "interactive(children=(IntSlider(value=195, description='image_z', max=391), FloatSlider(value=0.5, description…"
      ]
     },
     "metadata": {},
     "output_type": "display_data"
    }
   ],
   "source": [
    "transform = affine_transform\n",
    "moving_resampled = sitk.Resample(\n",
    "    moving_image, fixed_image, transform,\n",
    "    sitk.sitkLinear, 0.0, moving_image.GetPixelID()\n",
    ")\n",
    "interact(\n",
    "    display_images_with_alpha,\n",
    "    image_z=(0,fixed_image.GetSize()[2]-1),\n",
    "    alpha=(0.0,1.0,0.05), fixed=fixed(fixed_image), moving=fixed(moving_resampled)\n",
    ");"
   ]
  },
  {
   "cell_type": "markdown",
   "id": "8421cf0d-3690-4410-b848-6672a2789c13",
   "metadata": {},
   "source": [
    "### Demons Transformation\n",
    "Finally, we refine the registration with a nonlinear transformation.\n",
    "\n",
    "Reference: http://insightsoftwareconsortium.github.io/SimpleITK-Notebooks/Python_html/66_Registration_Demons.html"
   ]
  },
  {
   "cell_type": "code",
   "execution_count": 16,
   "id": "528b2867-94dc-4286-b264-3e627569525d",
   "metadata": {},
   "outputs": [
    {
     "data": {
      "image/png": "[encoded data removed]",
      "text/plain": [
       "<Figure size 432x288 with 1 Axes>"
      ]
     },
     "metadata": {
      "needs_background": "light"
     },
     "output_type": "display_data"
    },
    {
     "name": "stdout",
     "output_type": "stream",
     "text": [
      "CPU times: user 18min 49s, sys: 52.3 s, total: 19min 41s\n",
      "Wall time: 2min 42s\n"
     ]
    },
    {
     "data": {
      "text/plain": [
       "<SimpleITK.SimpleITK.Transform; proxy of <Swig Object of type 'itk::simple::Transform *' at 0x7fe554f18cf0> >"
      ]
     },
     "execution_count": 16,
     "metadata": {},
     "output_type": "execute_result"
    }
   ],
   "source": [
    "%%time\n",
    "registration_method = sitk.ImageRegistrationMethod()\n",
    "registration_method.SetInterpolator(sitk.sitkLinear)\n",
    "\n",
    "# Metric\n",
    "registration_method.SetMetricAsDemons(10) #intensities are equal if the difference is less than 10HU\n",
    "\n",
    "# Optimizer\n",
    "# Running the Demons registration with the conjugate gradient optimizer takes a long time\n",
    "# which is why the code below uses gradient descent.\n",
    "# If you are more interested in accuracy and have the time\n",
    "# then switch to the conjugate gradient optimizer.\n",
    "#registration_method.SetOptimizerAsConjugateGradientLineSearch(...)\n",
    "registration_method.SetOptimizerAsGradientDescent(\n",
    "    learningRate=1.0,\n",
    "    numberOfIterations=20,\n",
    "    convergenceMinimumValue=1e-6,\n",
    "    convergenceWindowSize=10\n",
    ")\n",
    "registration_method.SetOptimizerScalesFromPhysicalShift()\n",
    "\n",
    "# Transformation\n",
    "transform_to_displacment_field_filter = sitk.TransformToDisplacementFieldFilter()\n",
    "transform_to_displacment_field_filter.SetReferenceImage(fixed_image)\n",
    "demons_transform = sitk.DisplacementFieldTransform(transform_to_displacment_field_filter.Execute(affine_transform))\n",
    "# Regularization (update field - viscous, total field - elastic)\n",
    "demons_transform.SetSmoothingGaussianOnUpdate(\n",
    "    varianceForUpdateField=0.0,\n",
    "    varianceForTotalField=2.0\n",
    ")\n",
    "registration_method.SetInitialTransform(demons_transform)\n",
    "\n",
    "# Multi-resolution\n",
    "# We have a memory issue here. If we try to shrink with factor 2, memory will explode.\n",
    "# registration_method.SetShrinkFactorsPerLevel(shrinkFactors=[4, 2, 1])\n",
    "# registration_method.SetSmoothingSigmasPerLevel(smoothingSigmas=[8, 4, 0])\n",
    "registration_method.SetShrinkFactorsPerLevel(shrinkFactors=[4])\n",
    "registration_method.SetSmoothingSigmasPerLevel(smoothingSigmas=[8])\n",
    "registration_method.SmoothingSigmasAreSpecifiedInPhysicalUnitsOn()\n",
    "\n",
    "# Plotting\n",
    "registration_method.AddCommand(sitk.sitkStartEvent, start_plot)\n",
    "registration_method.AddCommand(sitk.sitkEndEvent, end_plot)\n",
    "registration_method.AddCommand(sitk.sitkMultiResolutionIterationEvent, update_multires_iterations) \n",
    "registration_method.AddCommand(sitk.sitkIterationEvent, lambda: plot_values(registration_method))\n",
    "\n",
    "registration_method.Execute(fixed_image, moving_image);"
   ]
  },
  {
   "cell_type": "code",
   "execution_count": 17,
   "id": "6e37b3c7-2b2b-44db-8062-47038511bf1a",
   "metadata": {},
   "outputs": [
    {
     "name": "stdout",
     "output_type": "stream",
     "text": [
      "Final metric value: 33246110.686288267\n",
      "Optimizer's stopping condition, GradientDescentOptimizerv4Template: Maximum number of iterations (20) exceeded.\n"
     ]
    }
   ],
   "source": [
    "print(f'Final metric value: {registration_method.GetMetricValue()}')\n",
    "print(f'Optimizer\\'s stopping condition, {registration_method.GetOptimizerStopConditionDescription()}')"
   ]
  },
  {
   "cell_type": "code",
   "execution_count": 18,
   "id": "8888ed6b-8171-45da-899b-775d5fb0e20c",
   "metadata": {},
   "outputs": [
    {
     "name": "stdout",
     "output_type": "stream",
     "text": [
      "itk::simple::DisplacementFieldTransform\n",
      " GaussianSmoothingOnUpdateDisplacementFieldTransform (0x5611dabf47e0)\n",
      "   RTTI typeinfo:   itk::GaussianSmoothingOnUpdateDisplacementFieldTransform<double, 3u>\n",
      "   Reference Count: 3\n",
      "   Modified Time: 15295017\n",
      "   Debug: Off\n",
      "   Object Name: \n",
      "   Observers: \n",
      "     none\n",
      "   DisplacementField: \n",
      "     Image (0x5611dbf91480)\n",
      "       RTTI typeinfo:   itk::Image<itk::Vector<double, 3u>, 3u>\n",
      "       Reference Count: 3\n",
      "       Modified Time: 15289942\n",
      "       Debug: Off\n",
      "       Object Name: \n",
      "       Observers: \n",
      "         none\n",
      "       Source: (none)\n",
      "       Source output name: (none)\n",
      "       Release Data: Off\n",
      "       Data Released: False\n",
      "       Global Release Data: Off\n",
      "       PipelineMTime: 0\n",
      "       UpdateMTime: 15289935\n",
      "       RealTimeStamp: 0 seconds \n",
      "       LargestPossibleRegion: \n",
      "         Dimension: 3\n",
      "         Index: [0, 0, 0]\n",
      "         Size: [421, 250, 98]\n",
      "       BufferedRegion: \n",
      "         Dimension: 3\n",
      "         Index: [0, 0, 0]\n",
      "         Size: [421, 250, 98]\n",
      "       RequestedRegion: \n",
      "         Dimension: 3\n",
      "         Index: [0, 0, 0]\n",
      "         Size: [421, 250, 98]\n",
      "       Spacing: [41.6, 41.6, 80]\n",
      "       Origin: [31.2, 15.6, 30]\n",
      "       Direction: \n",
      "1 0 0\n",
      "0 1 0\n",
      "0 0 1\n",
      "\n",
      "       IndexToPointMatrix: \n",
      "41.6 0 0\n",
      "0 41.6 0\n",
      "0 0 80\n",
      "\n",
      "       PointToIndexMatrix: \n",
      "0.0240385 0 0\n",
      "0 0.0240385 0\n",
      "0 0 0.0125\n",
      "\n",
      "       Inverse Direction: \n",
      "1 0 0\n",
      "0 1 0\n",
      "0 0 1\n",
      "\n",
      "       PixelContainer: \n",
      "         ImportImageContainer (0x5611db333de0)\n",
      "           RTTI typeinfo:   itk::ImportImageContainer<unsigned long, itk::Vector<double, 3u> >\n",
      "           Reference Count: 1\n",
      "           Modified Time: 15289933\n",
      "           Debug: Off\n",
      "           Object Name: \n",
      "           Observers: \n",
      "             none\n",
      "           Pointer: 0x7fe543bd0010\n",
      "           Container manages memory: true\n",
      "           Size: 10314500\n",
      "           Capacity: 10314500\n",
      "   InverseDisplacementField: (null)\n",
      "   Interpolator: \n",
      "     VectorLinearInterpolateImageFunction (0x5611dab989d0)\n",
      "       RTTI typeinfo:   itk::VectorLinearInterpolateImageFunction<itk::Image<itk::Vector<double, 3u>, 3u>, double>\n",
      "       Reference Count: 1\n",
      "       Modified Time: 15289454\n",
      "       Debug: Off\n",
      "       Object Name: \n",
      "       Observers: \n",
      "         none\n",
      "       InputImage: 0x5611dbf91480\n",
      "       StartIndex: [0, 0, 0]\n",
      "       EndIndex: [420, 249, 97]\n",
      "       StartContinuousIndex: [-0.5, -0.5, -0.5]\n",
      "       EndContinuousIndex: [420.5, 249.5, 97.5]\n",
      "   InverseInterpolator: \n",
      "     VectorLinearInterpolateImageFunction (0x5611dbfbd110)\n",
      "       RTTI typeinfo:   itk::VectorLinearInterpolateImageFunction<itk::Image<itk::Vector<double, 3u>, 3u>, double>\n",
      "       Reference Count: 1\n",
      "       Modified Time: 15289455\n",
      "       Debug: Off\n",
      "       Object Name: \n",
      "       Observers: \n",
      "         none\n",
      "       InputImage: 0\n",
      "       StartIndex: [0, 0, 0]\n",
      "       EndIndex: [0, 0, 0]\n",
      "       StartContinuousIndex: [0, 0, 0]\n",
      "       EndContinuousIndex: [0, 0, 0]\n",
      "   DisplacementFieldSetTime: 15289943\n",
      "   m_IdentityJacobian: [1, 0, 0]\n",
      "[0, 1, 0]\n",
      "[0, 0, 1]\n",
      "\n",
      "    CoordinateTolerance: 1e-06\n",
      "    DirectionTolerance: 1e-06\n",
      "   Gaussian smoothing parameters: \n",
      "   m_GaussianSmoothingVarianceForTheUpdateField: 0\n",
      "   m_GaussianSmoothingVarianceForTheTotalField: 2\n",
      "\n"
     ]
    }
   ],
   "source": [
    "print(demons_transform)"
   ]
  },
  {
   "cell_type": "code",
   "execution_count": 19,
   "id": "fde76b3b-fa79-4897-ae9c-bc23525940c2",
   "metadata": {},
   "outputs": [
    {
     "data": {
      "application/vnd.jupyter.widget-view+json": {
       "model_id": "3aa22259cdaf4a188118c36c58ca9021",
       "version_major": 2,
       "version_minor": 0
      },
      "text/plain": [
       "interactive(children=(IntSlider(value=195, description='image_z', max=391), FloatSlider(value=0.5, description…"
      ]
     },
     "metadata": {},
     "output_type": "display_data"
    }
   ],
   "source": [
    "transform = demons_transform\n",
    "moving_resampled = sitk.Resample(\n",
    "    moving_image, fixed_image, transform,\n",
    "    sitk.sitkLinear, 0.0, moving_image.GetPixelID()\n",
    ")\n",
    "interact(\n",
    "    display_images_with_alpha,\n",
    "    image_z=(0,fixed_image.GetSize()[2]-1),\n",
    "    alpha=(0.0,1.0,0.05), fixed=fixed(fixed_image), moving=fixed(moving_resampled)\n",
    ");"
   ]
  },
  {
   "cell_type": "markdown",
   "id": "e037e5f9-d7a2-4a57-8368-83c34bd23012",
   "metadata": {},
   "source": [
    "## Saving Result\n",
    "Once we have the final transformation ready, we can save it to disk for future reuse."
   ]
  },
  {
   "cell_type": "code",
   "execution_count": 20,
   "id": "919c678c-bbe7-49b3-8c2d-8628ea52745d",
   "metadata": {},
   "outputs": [],
   "source": [
    "final_transform = demons_transform\n",
    "save_path = '../data/automatic-alignment/1-image-transform.tfm'"
   ]
  },
  {
   "cell_type": "code",
   "execution_count": 21,
   "id": "790383cf-d466-49a4-8aa5-990c924587fc",
   "metadata": {},
   "outputs": [
    {
     "name": "stdout",
     "output_type": "stream",
     "text": [
      "CPU times: user 9.3 s, sys: 1.19 s, total: 10.5 s\n",
      "Wall time: 11.7 s\n"
     ]
    }
   ],
   "source": [
    "%%time\n",
    "sitk.WriteTransform(final_transform, save_path)"
   ]
  },
  {
   "cell_type": "code",
   "execution_count": 22,
   "id": "a02e0c7b-2fed-4f04-aec7-93b4bccfaab0",
   "metadata": {},
   "outputs": [
    {
     "name": "stdout",
     "output_type": "stream",
     "text": [
      "532M\t../data/automatic-alignment/1-image-transform.tfm\n"
     ]
    }
   ],
   "source": [
    "!du -h {save_path}"
   ]
  },
  {
   "cell_type": "code",
   "execution_count": 23,
   "id": "1d4995d0-784a-4287-b7ff-ed830f31d66f",
   "metadata": {},
   "outputs": [
    {
     "name": "stdout",
     "output_type": "stream",
     "text": [
      "CPU times: user 31.1 s, sys: 3 s, total: 34.1 s\n",
      "Wall time: 34.1 s\n"
     ]
    }
   ],
   "source": [
    "%%time\n",
    "reloaded_transform = sitk.ReadTransform(save_path)"
   ]
  },
  {
   "cell_type": "code",
   "execution_count": 24,
   "id": "ea07acd0-da6a-4a2c-8f85-ce8b923db8b9",
   "metadata": {},
   "outputs": [
    {
     "name": "stdout",
     "output_type": "stream",
     "text": [
      "itk::simple::Transform\n",
      " GaussianSmoothingOnUpdateDisplacementFieldTransform (0x5611da566df0)\n",
      "   RTTI typeinfo:   itk::GaussianSmoothingOnUpdateDisplacementFieldTransform<double, 3u>\n",
      "   Reference Count: 1\n",
      "   Modified Time: 15295507\n",
      "   Debug: Off\n",
      "   Object Name: \n",
      "   Observers: \n",
      "     none\n",
      "   DisplacementField: \n",
      "     Image (0x5611db27ec50)\n",
      "       RTTI typeinfo:   itk::Image<itk::Vector<double, 3u>, 3u>\n",
      "       Reference Count: 3\n",
      "       Modified Time: 15295504\n",
      "       Debug: Off\n",
      "       Object Name: \n",
      "       Observers: \n",
      "         none\n",
      "       Source: (none)\n",
      "       Source output name: (none)\n",
      "       Release Data: Off\n",
      "       Data Released: False\n",
      "       Global Release Data: Off\n",
      "       PipelineMTime: 0\n",
      "       UpdateMTime: 0\n",
      "       RealTimeStamp: 0 seconds \n",
      "       LargestPossibleRegion: \n",
      "         Dimension: 3\n",
      "         Index: [0, 0, 0]\n",
      "         Size: [421, 250, 98]\n",
      "       BufferedRegion: \n",
      "         Dimension: 3\n",
      "         Index: [0, 0, 0]\n",
      "         Size: [421, 250, 98]\n",
      "       RequestedRegion: \n",
      "         Dimension: 3\n",
      "         Index: [0, 0, 0]\n",
      "         Size: [421, 250, 98]\n",
      "       Spacing: [41.6, 41.6, 80]\n",
      "       Origin: [31.2, 15.6, 30]\n",
      "       Direction: \n",
      "1 0 0\n",
      "0 1 0\n",
      "0 0 1\n",
      "\n",
      "       IndexToPointMatrix: \n",
      "41.6 0 0\n",
      "0 41.6 0\n",
      "0 0 80\n",
      "\n",
      "       PointToIndexMatrix: \n",
      "0.0240385 0 0\n",
      "0 0.0240385 0\n",
      "0 0 0.0125\n",
      "\n",
      "       Inverse Direction: \n",
      "1 0 0\n",
      "0 1 0\n",
      "0 0 1\n",
      "\n",
      "       PixelContainer: \n",
      "         ImportImageContainer (0x5611dab758f0)\n",
      "           RTTI typeinfo:   itk::ImportImageContainer<unsigned long, itk::Vector<double, 3u> >\n",
      "           Reference Count: 1\n",
      "           Modified Time: 15295505\n",
      "           Debug: Off\n",
      "           Object Name: \n",
      "           Observers: \n",
      "             none\n",
      "           Pointer: 0x7fe505042010\n",
      "           Container manages memory: true\n",
      "           Size: 10314500\n",
      "           Capacity: 10314500\n",
      "   InverseDisplacementField: (null)\n",
      "   Interpolator: \n",
      "     VectorLinearInterpolateImageFunction (0x5611dbf4d890)\n",
      "       RTTI typeinfo:   itk::VectorLinearInterpolateImageFunction<itk::Image<itk::Vector<double, 3u>, 3u>, double>\n",
      "       Reference Count: 1\n",
      "       Modified Time: 15295496\n",
      "       Debug: Off\n",
      "       Object Name: \n",
      "       Observers: \n",
      "         none\n",
      "       InputImage: 0x5611db27ec50\n",
      "       StartIndex: [0, 0, 0]\n",
      "       EndIndex: [420, 249, 97]\n",
      "       StartContinuousIndex: [-0.5, -0.5, -0.5]\n",
      "       EndContinuousIndex: [420.5, 249.5, 97.5]\n",
      "   InverseInterpolator: \n",
      "     VectorLinearInterpolateImageFunction (0x5611dc079d80)\n",
      "       RTTI typeinfo:   itk::VectorLinearInterpolateImageFunction<itk::Image<itk::Vector<double, 3u>, 3u>, double>\n",
      "       Reference Count: 1\n",
      "       Modified Time: 15295497\n",
      "       Debug: Off\n",
      "       Object Name: \n",
      "       Observers: \n",
      "         none\n",
      "       InputImage: 0\n",
      "       StartIndex: [0, 0, 0]\n",
      "       EndIndex: [0, 0, 0]\n",
      "       StartContinuousIndex: [0, 0, 0]\n",
      "       EndContinuousIndex: [0, 0, 0]\n",
      "   DisplacementFieldSetTime: 15295506\n",
      "   m_IdentityJacobian: [1, 0, 0]\n",
      "[0, 1, 0]\n",
      "[0, 0, 1]\n",
      "\n",
      "    CoordinateTolerance: 1e-06\n",
      "    DirectionTolerance: 1e-06\n",
      "   Gaussian smoothing parameters: \n",
      "   m_GaussianSmoothingVarianceForTheUpdateField: 3\n",
      "   m_GaussianSmoothingVarianceForTheTotalField: 0.5\n",
      "\n"
     ]
    }
   ],
   "source": [
    "print(reloaded_transform)"
   ]
  }
 ],
 "metadata": {
  "kernelspec": {
   "display_name": "Python 3",
   "language": "python",
   "name": "python3"
  },
  "language_info": {
   "codemirror_mode": {
    "name": "ipython",
    "version": 3
   },
   "file_extension": ".py",
   "mimetype": "text/x-python",
   "name": "python",
   "nbconvert_exporter": "python",
   "pygments_lexer": "ipython3",
   "version": "3.9.4"
  }
 },
 "nbformat": 4,
 "nbformat_minor": 5
}
