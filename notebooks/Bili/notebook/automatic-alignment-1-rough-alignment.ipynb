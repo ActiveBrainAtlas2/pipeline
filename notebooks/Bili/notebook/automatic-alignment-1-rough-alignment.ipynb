{
 "cells": [
  {
   "cell_type": "markdown",
   "id": "ec33e3d8",
   "metadata": {},
   "source": [
    "# Automatic Registration Step 1: Rough Alignment\n",
    "This step involves doing **registration on downsampled thumbnail images**. We have a reference brain DK52 whose structures are well annotated both by Beth manually and by Kui's detection code automatically. The goal of this step is to find the best transformation from DK52 to another brain we study, so that we could use this transformation to bring DK52 structure annotations to the new brain, as starting points for Kui's detection later.\n",
    "\n",
    "Outline:\n",
    "- [Loading Data](#Loading-Data)\n",
    "- [Registration](#Registration)\n",
    "    - [Centered Transformation](#Centered-Transformation)\n",
    "    - [Affine Transformation](#Affine-Transformation)\n",
    "    - [Demons Transformattion](#Demons-Transformation)\n",
    "- [Saving Result](#Saving-Result)"
   ]
  },
  {
   "cell_type": "code",
   "execution_count": 1,
   "id": "0a33bef6",
   "metadata": {},
   "outputs": [],
   "source": [
    "%load_ext autoreload\n",
    "%autoreload 2\n",
    "from ipywidgets import interact, fixed\n",
    "from IPython.display import clear_output"
   ]
  },
  {
   "cell_type": "code",
   "execution_count": 2,
   "id": "bf2b0ef5",
   "metadata": {},
   "outputs": [],
   "source": [
    "from pathlib import Path\n",
    "\n",
    "import SimpleITK as sitk\n",
    "%matplotlib inline\n",
    "import matplotlib.pyplot as plt\n",
    "import numpy as np\n",
    "\n",
    "import toolbox.sitk"
   ]
  },
  {
   "cell_type": "markdown",
   "id": "5bbb0e8f",
   "metadata": {},
   "source": [
    "The following are some utility functions used for plotting, copied from http://insightsoftwareconsortium.github.io/SimpleITK-Notebooks/Python_html/60_Registration_Introduction.html."
   ]
  },
  {
   "cell_type": "code",
   "execution_count": 3,
   "id": "ff4e92c2",
   "metadata": {},
   "outputs": [],
   "source": [
    "# Callback invoked by the interact IPython method for scrolling through the image stacks of\n",
    "# the two images (moving and fixed).\n",
    "def display_images(fixed_image_z, moving_image_z, fixed_npa, moving_npa):\n",
    "    # Create a figure with two subplots and the specified size.\n",
    "    plt.subplots(1,2,figsize=(10,8))\n",
    "    \n",
    "    # Draw the fixed image in the first subplot.\n",
    "    plt.subplot(1,2,1)\n",
    "    plt.imshow(fixed_npa[fixed_image_z,:,:],cmap=plt.cm.Greys_r);\n",
    "    plt.title('fixed image')\n",
    "    plt.axis('off')\n",
    "    \n",
    "    # Draw the moving image in the second subplot.\n",
    "    plt.subplot(1,2,2)\n",
    "    plt.imshow(moving_npa[moving_image_z,:,:],cmap=plt.cm.Greys_r);\n",
    "    plt.title('moving image')\n",
    "    plt.axis('off')\n",
    "    \n",
    "    plt.show()\n",
    "\n",
    "# Callback invoked by the IPython interact method for scrolling and modifying the alpha blending\n",
    "# of an image stack of two images that occupy the same physical space. \n",
    "def display_images_with_alpha(image_z, alpha, fixed, moving):\n",
    "    img = (1.0 - alpha)*fixed[:,:,image_z] + alpha*moving[:,:,image_z] \n",
    "    plt.imshow(sitk.GetArrayViewFromImage(img),cmap=plt.cm.Greys_r);\n",
    "    plt.axis('off')\n",
    "    plt.show()\n",
    "    \n",
    "# Callback invoked when the StartEvent happens, sets up our new data.\n",
    "def start_plot():\n",
    "    global metric_values, multires_iterations\n",
    "    \n",
    "    metric_values = []\n",
    "    multires_iterations = []\n",
    "\n",
    "# Callback invoked when the EndEvent happens, do cleanup of data and figure.\n",
    "def end_plot():\n",
    "    global metric_values, multires_iterations\n",
    "    \n",
    "    del metric_values\n",
    "    del multires_iterations\n",
    "    # Close figure, we don't want to get a duplicate of the plot latter on.\n",
    "    plt.close()\n",
    "\n",
    "# Callback invoked when the IterationEvent happens, update our data and display new figure.\n",
    "def plot_values(registration_method):\n",
    "    global metric_values, multires_iterations\n",
    "    \n",
    "    metric_values.append(registration_method.GetMetricValue())                                       \n",
    "    # Clear the output area (wait=True, to reduce flickering), and plot current data\n",
    "    clear_output(wait=True)\n",
    "    # Plot the similarity metric values\n",
    "    plt.plot(metric_values, 'r')\n",
    "    plt.plot(multires_iterations, [metric_values[index] for index in multires_iterations], 'b*')\n",
    "    plt.xlabel('Iteration Number',fontsize=12)\n",
    "    plt.ylabel('Metric Value',fontsize=12)\n",
    "    plt.show()\n",
    "    \n",
    "# Callback invoked when the sitkMultiResolutionIterationEvent happens, update the index into the \n",
    "# metric_values list. \n",
    "def update_multires_iterations():\n",
    "    global metric_values, multires_iterations\n",
    "    multires_iterations.append(len(metric_values))"
   ]
  },
  {
   "cell_type": "markdown",
   "id": "ce976442",
   "metadata": {},
   "source": [
    "## Loading Data"
   ]
  },
  {
   "cell_type": "code",
   "execution_count": 4,
   "id": "0773e04c",
   "metadata": {},
   "outputs": [],
   "source": [
    "mov_brain = 'DK52'\n",
    "fix_brain = 'DK43'\n",
    "# Full resolution is (0.325, 0.325, 20) um\n",
    "# Thumbnails are downsampled by (32, 32, 1), so\n",
    "thumb_spacing = (10.4, 10.4, 20.0) # in um\n",
    "\n",
    "data_dir = Path('/net/birdstore/Active_Atlas_Data/data_root/pipeline_data')\n",
    "mov_img_thumb_dir = data_dir / mov_brain / 'preps/CH1/thumbnail_aligned'\n",
    "fix_img_thumb_dir = data_dir / fix_brain / 'preps/CH1/thumbnail_aligned'"
   ]
  },
  {
   "cell_type": "code",
   "execution_count": 5,
   "id": "1fc6fd69",
   "metadata": {},
   "outputs": [
    {
     "name": "stdout",
     "output_type": "stream",
     "text": [
      "CPU times: user 18.1 s, sys: 4.99 s, total: 23.1 s\n",
      "Wall time: 24.3 s\n"
     ]
    }
   ],
   "source": [
    "%%time\n",
    "moving_image = toolbox.sitk.load_image_dir(mov_img_thumb_dir, spacing=thumb_spacing)"
   ]
  },
  {
   "cell_type": "code",
   "execution_count": 7,
   "id": "df487f94",
   "metadata": {},
   "outputs": [
    {
     "name": "stdout",
     "output_type": "stream",
     "text": [
      "CPU times: user 12.2 s, sys: 3.76 s, total: 16 s\n",
      "Wall time: 14.3 s\n"
     ]
    }
   ],
   "source": [
    "%%time\n",
    "fixed_image = toolbox.sitk.load_image_dir(fix_img_thumb_dir, spacing=thumb_spacing)"
   ]
  },
  {
   "cell_type": "code",
   "execution_count": 7,
   "id": "b69763ad",
   "metadata": {},
   "outputs": [],
   "source": [
    "# Registration later requires the sitkFloat32 type,\n",
    "# so we do the casting once and for all here\n",
    "moving_image = sitk.Cast(moving_image, sitk.sitkFloat32)\n",
    "fixed_image = sitk.Cast(fixed_image, sitk.sitkFloat32)"
   ]
  },
  {
   "cell_type": "code",
   "execution_count": 8,
   "id": "fbbcf749",
   "metadata": {},
   "outputs": [
    {
     "data": {
      "application/vnd.jupyter.widget-view+json": {
       "model_id": "b0754d5108ea46298627b60e2bf8160a",
       "version_major": 2,
       "version_minor": 0
      },
      "text/plain": [
       "interactive(children=(IntSlider(value=195, description='image_z', max=391), FloatSlider(value=0.5, description…"
      ]
     },
     "metadata": {},
     "output_type": "display_data"
    }
   ],
   "source": [
    "interact(\n",
    "    display_images_with_alpha,\n",
    "    image_z=(0,fixed_image.GetSize()[2]-1),\n",
    "    alpha=(0.0,1.0,0.05), fixed=fixed(fixed_image), moving=fixed(moving_image)\n",
    ");"
   ]
  },
  {
   "cell_type": "markdown",
   "id": "b3b26892",
   "metadata": {},
   "source": [
    "## Registration\n",
    "We will do a multi-step registration here. Each step generates a transformation that serves as the initial transformation for the next step."
   ]
  },
  {
   "cell_type": "markdown",
   "id": "9cb68160",
   "metadata": {},
   "source": [
    "### Centered Transformation\n",
    "We start with a simple transformatioin that basically align the centers of 2 images using a translation."
   ]
  },
  {
   "cell_type": "code",
   "execution_count": 9,
   "id": "fc29fbec",
   "metadata": {},
   "outputs": [
    {
     "name": "stdout",
     "output_type": "stream",
     "text": [
      "CPU times: user 258 µs, sys: 0 ns, total: 258 µs\n",
      "Wall time: 216 µs\n"
     ]
    }
   ],
   "source": [
    "%%time\n",
    "centered_transform = sitk.CenteredTransformInitializer(\n",
    "    fixed_image, moving_image, \n",
    "    sitk.AffineTransform(3), \n",
    "    sitk.CenteredTransformInitializerFilter.GEOMETRY\n",
    ")"
   ]
  },
  {
   "cell_type": "code",
   "execution_count": 10,
   "id": "28bbc018",
   "metadata": {},
   "outputs": [
    {
     "name": "stdout",
     "output_type": "stream",
     "text": [
      "itk::simple::Transform\n",
      " AffineTransform (0x55a87b806970)\n",
      "   RTTI typeinfo:   itk::AffineTransform<double, 3u>\n",
      "   Reference Count: 1\n",
      "   Modified Time: 174915\n",
      "   Debug: Off\n",
      "   Object Name: \n",
      "   Observers: \n",
      "     none\n",
      "   Matrix: \n",
      "     1 0 0 \n",
      "     0 1 0 \n",
      "     0 0 1 \n",
      "   Offset: [1788.8, 650, 940]\n",
      "   Center: [8767.2, 5194.8, 3910]\n",
      "   Translation: [1788.8, 650, 940]\n",
      "   Inverse: \n",
      "     1 0 0 \n",
      "     0 1 0 \n",
      "     0 0 1 \n",
      "   Singular: 0\n",
      "\n"
     ]
    }
   ],
   "source": [
    "print(centered_transform)"
   ]
  },
  {
   "cell_type": "code",
   "execution_count": 11,
   "id": "6e86683e",
   "metadata": {},
   "outputs": [
    {
     "data": {
      "application/vnd.jupyter.widget-view+json": {
       "model_id": "139288a5aa3845569d27fbd376225c99",
       "version_major": 2,
       "version_minor": 0
      },
      "text/plain": [
       "interactive(children=(IntSlider(value=195, description='image_z', max=391), FloatSlider(value=0.5, description…"
      ]
     },
     "metadata": {},
     "output_type": "display_data"
    }
   ],
   "source": [
    "transform = centered_transform\n",
    "moving_resampled = sitk.Resample(\n",
    "    moving_image, fixed_image, transform,\n",
    "    sitk.sitkLinear, 0.0, moving_image.GetPixelID()\n",
    ")\n",
    "interact(\n",
    "    display_images_with_alpha,\n",
    "    image_z=(0,fixed_image.GetSize()[2]-1),\n",
    "    alpha=(0.0,1.0,0.05), fixed=fixed(fixed_image), moving=fixed(moving_resampled)\n",
    ");"
   ]
  },
  {
   "cell_type": "markdown",
   "id": "4cc3a5f4",
   "metadata": {},
   "source": [
    "### Affine Transformation\n",
    "Then we continue with a general affine transformation.\n",
    "\n",
    "Reference: http://insightsoftwareconsortium.github.io/SimpleITK-Notebooks/Python_html/60_Registration_Introduction.html"
   ]
  },
  {
   "cell_type": "code",
   "execution_count": 12,
   "id": "618bb334",
   "metadata": {},
   "outputs": [
    {
     "data": {
      "image/png": "[encoded data removed]",
      "text/plain": [
       "<Figure size 432x288 with 1 Axes>"
      ]
     },
     "metadata": {
      "needs_background": "light"
     },
     "output_type": "display_data"
    },
    {
     "name": "stdout",
     "output_type": "stream",
     "text": [
      "CPU times: user 53min 8s, sys: 2min 10s, total: 55min 19s\n",
      "Wall time: 7min 28s\n"
     ]
    },
    {
     "data": {
      "text/plain": [
       "<SimpleITK.SimpleITK.Transform; proxy of <Swig Object of type 'itk::simple::Transform *' at 0x7fdd1b1e42a0> >"
      ]
     },
     "execution_count": 12,
     "metadata": {},
     "output_type": "execute_result"
    }
   ],
   "source": [
    "%%time\n",
    "registration_method = sitk.ImageRegistrationMethod()\n",
    "registration_method.SetInterpolator(sitk.sitkLinear)\n",
    "\n",
    "# Metric\n",
    "registration_method.SetMetricAsMattesMutualInformation(numberOfHistogramBins=50)\n",
    "registration_method.SetMetricSamplingStrategy(registration_method.RANDOM)\n",
    "registration_method.SetMetricSamplingPercentage(0.01)\n",
    "\n",
    "# Optimizer\n",
    "registration_method.SetOptimizerAsGradientDescent(\n",
    "    learningRate=1.0,\n",
    "    numberOfIterations=100,\n",
    "    convergenceMinimumValue=1e-6,\n",
    "    convergenceWindowSize=10\n",
    ")\n",
    "registration_method.SetOptimizerScalesFromPhysicalShift()\n",
    "\n",
    "# Transformation\n",
    "affine_transform = sitk.AffineTransform(centered_transform)    \n",
    "registration_method.SetInitialTransform(affine_transform)\n",
    "\n",
    "# Multi-resolution           \n",
    "registration_method.SetShrinkFactorsPerLevel(shrinkFactors=[4, 2, 1])\n",
    "registration_method.SetSmoothingSigmasPerLevel(smoothingSigmas=[2, 1, 0])\n",
    "registration_method.SmoothingSigmasAreSpecifiedInPhysicalUnitsOn()\n",
    "\n",
    "# Plotting\n",
    "registration_method.AddCommand(sitk.sitkStartEvent, start_plot)\n",
    "registration_method.AddCommand(sitk.sitkEndEvent, end_plot)\n",
    "registration_method.AddCommand(sitk.sitkMultiResolutionIterationEvent, update_multires_iterations)\n",
    "registration_method.AddCommand(sitk.sitkIterationEvent, lambda: plot_values(registration_method))\n",
    "\n",
    "registration_method.Execute(fixed_image, moving_image);"
   ]
  },
  {
   "cell_type": "code",
   "execution_count": 13,
   "id": "443160b2",
   "metadata": {},
   "outputs": [
    {
     "name": "stdout",
     "output_type": "stream",
     "text": [
      "Final metric value: -0.4304609713145082\n",
      "Optimizer's stopping condition, GradientDescentOptimizerv4Template: Convergence checker passed at iteration 27.\n"
     ]
    }
   ],
   "source": [
    "print(f'Final metric value: {registration_method.GetMetricValue()}')\n",
    "print(f'Optimizer\\'s stopping condition, {registration_method.GetOptimizerStopConditionDescription()}')"
   ]
  },
  {
   "cell_type": "code",
   "execution_count": 14,
   "id": "517f7da6",
   "metadata": {},
   "outputs": [
    {
     "name": "stdout",
     "output_type": "stream",
     "text": [
      "itk::simple::AffineTransform\n",
      " AffineTransform (0x55a87b8029b0)\n",
      "   RTTI typeinfo:   itk::AffineTransform<double, 3u>\n",
      "   Reference Count: 3\n",
      "   Modified Time: 15293217\n",
      "   Debug: Off\n",
      "   Object Name: \n",
      "   Observers: \n",
      "     none\n",
      "   Matrix: \n",
      "     0.970459 0.180948 -0.0253713 \n",
      "     -0.242278 1.01319 -0.0809535 \n",
      "     -0.00583195 0.0665768 1.03528 \n",
      "   Offset: [572.071, 3074.15, -148.14]\n",
      "   Center: [8767.2, 5194.8, 3910]\n",
      "   Translation: [1153.87, 702.022, 284.53]\n",
      "   Inverse: \n",
      "     0.986355 -0.176836 0.0103447 \n",
      "     0.235097 0.939791 0.0792482 \n",
      "     -0.00956231 -0.0614322 0.960884 \n",
      "   Singular: 0\n",
      "\n"
     ]
    }
   ],
   "source": [
    "print(affine_transform)"
   ]
  },
  {
   "cell_type": "code",
   "execution_count": 15,
   "id": "4f1a54ee",
   "metadata": {},
   "outputs": [
    {
     "data": {
      "application/vnd.jupyter.widget-view+json": {
       "model_id": "8cab4ef1ace74770b57039065d4db6ae",
       "version_major": 2,
       "version_minor": 0
      },
      "text/plain": [
       "interactive(children=(IntSlider(value=195, description='image_z', max=391), FloatSlider(value=0.5, description…"
      ]
     },
     "metadata": {},
     "output_type": "display_data"
    }
   ],
   "source": [
    "transform = affine_transform\n",
    "moving_resampled = sitk.Resample(\n",
    "    moving_image, fixed_image, transform,\n",
    "    sitk.sitkLinear, 0.0, moving_image.GetPixelID()\n",
    ")\n",
    "interact(\n",
    "    display_images_with_alpha,\n",
    "    image_z=(0,fixed_image.GetSize()[2]-1),\n",
    "    alpha=(0.0,1.0,0.05), fixed=fixed(fixed_image), moving=fixed(moving_resampled)\n",
    ");"
   ]
  },
  {
   "cell_type": "markdown",
   "id": "a0972ad8",
   "metadata": {},
   "source": [
    "### Demons Transformation\n",
    "Finally, we refine the registration with a nonlinear transformation.\n",
    "\n",
    "Reference: http://insightsoftwareconsortium.github.io/SimpleITK-Notebooks/Python_html/66_Registration_Demons.html"
   ]
  },
  {
   "cell_type": "code",
   "execution_count": 16,
   "id": "739bd794",
   "metadata": {},
   "outputs": [
    {
     "data": {
      "image/png": "[encoded data removed]",
      "text/plain": [
       "<Figure size 432x288 with 1 Axes>"
      ]
     },
     "metadata": {
      "needs_background": "light"
     },
     "output_type": "display_data"
    },
    {
     "name": "stdout",
     "output_type": "stream",
     "text": [
      "CPU times: user 47min 33s, sys: 1min 29s, total: 49min 2s\n",
      "Wall time: 5min 3s\n"
     ]
    },
    {
     "data": {
      "text/plain": [
       "<SimpleITK.SimpleITK.Transform; proxy of <Swig Object of type 'itk::simple::Transform *' at 0x7fdd1af46ea0> >"
      ]
     },
     "execution_count": 16,
     "metadata": {},
     "output_type": "execute_result"
    }
   ],
   "source": [
    "%%time\n",
    "registration_method = sitk.ImageRegistrationMethod()\n",
    "registration_method.SetInterpolator(sitk.sitkLinear)\n",
    "\n",
    "# Metric\n",
    "registration_method.SetMetricAsDemons(10) #intensities are equal if the difference is less than 10HU\n",
    "\n",
    "# Optimizer\n",
    "# Running the Demons registration with the conjugate gradient optimizer takes a long time\n",
    "# which is why the code below uses gradient descent.\n",
    "# If you are more interested in accuracy and have the time\n",
    "# then switch to the conjugate gradient optimizer.\n",
    "#registration_method.SetOptimizerAsConjugateGradientLineSearch(...)\n",
    "registration_method.SetOptimizerAsGradientDescent(\n",
    "    learningRate=1.0,\n",
    "    numberOfIterations=100,\n",
    "    convergenceMinimumValue=1e-6,\n",
    "    convergenceWindowSize=10\n",
    ")\n",
    "registration_method.SetOptimizerScalesFromPhysicalShift()\n",
    "\n",
    "# Transformation\n",
    "transform_to_displacment_field_filter = sitk.TransformToDisplacementFieldFilter()\n",
    "transform_to_displacment_field_filter.SetReferenceImage(fixed_image)\n",
    "demons_transform = sitk.DisplacementFieldTransform(transform_to_displacment_field_filter.Execute(affine_transform))\n",
    "# Regularization (update field - viscous, total field - elastic)\n",
    "demons_transform.SetSmoothingGaussianOnUpdate(\n",
    "    varianceForUpdateField=0.0,\n",
    "    varianceForTotalField=2.0\n",
    ")\n",
    "registration_method.SetInitialTransform(demons_transform)\n",
    "\n",
    "# Multi-resolution\n",
    "# We have a memory issue here. If we try to shrink with factor 2, memory will explode.\n",
    "# registration_method.SetShrinkFactorsPerLevel(shrinkFactors=[4, 2, 1])\n",
    "# registration_method.SetSmoothingSigmasPerLevel(smoothingSigmas=[8, 4, 0])\n",
    "registration_method.SetShrinkFactorsPerLevel(shrinkFactors=[4])\n",
    "registration_method.SetSmoothingSigmasPerLevel(smoothingSigmas=[8])\n",
    "registration_method.SmoothingSigmasAreSpecifiedInPhysicalUnitsOn()\n",
    "\n",
    "# Plotting\n",
    "registration_method.AddCommand(sitk.sitkStartEvent, start_plot)\n",
    "registration_method.AddCommand(sitk.sitkEndEvent, end_plot)\n",
    "registration_method.AddCommand(sitk.sitkMultiResolutionIterationEvent, update_multires_iterations) \n",
    "registration_method.AddCommand(sitk.sitkIterationEvent, lambda: plot_values(registration_method))\n",
    "\n",
    "registration_method.Execute(fixed_image, moving_image);"
   ]
  },
  {
   "cell_type": "code",
   "execution_count": 17,
   "id": "b781504e",
   "metadata": {},
   "outputs": [
    {
     "name": "stdout",
     "output_type": "stream",
     "text": [
      "Final metric value: 30257957.19277143\n",
      "Optimizer's stopping condition, GradientDescentOptimizerv4Template: Maximum number of iterations (100) exceeded.\n"
     ]
    }
   ],
   "source": [
    "print(f'Final metric value: {registration_method.GetMetricValue()}')\n",
    "print(f'Optimizer\\'s stopping condition, {registration_method.GetOptimizerStopConditionDescription()}')"
   ]
  },
  {
   "cell_type": "code",
   "execution_count": 18,
   "id": "3309d2cb",
   "metadata": {},
   "outputs": [
    {
     "name": "stdout",
     "output_type": "stream",
     "text": [
      "itk::simple::DisplacementFieldTransform\n",
      " GaussianSmoothingOnUpdateDisplacementFieldTransform (0x55a87b3fa410)\n",
      "   RTTI typeinfo:   itk::GaussianSmoothingOnUpdateDisplacementFieldTransform<double, 3u>\n",
      "   Reference Count: 3\n",
      "   Modified Time: 15320372\n",
      "   Debug: Off\n",
      "   Object Name: \n",
      "   Observers: \n",
      "     none\n",
      "   DisplacementField: \n",
      "     Image (0x55a87b83d6c0)\n",
      "       RTTI typeinfo:   itk::Image<itk::Vector<double, 3u>, 3u>\n",
      "       Reference Count: 3\n",
      "       Modified Time: 15294257\n",
      "       Debug: Off\n",
      "       Object Name: \n",
      "       Observers: \n",
      "         none\n",
      "       Source: (none)\n",
      "       Source output name: (none)\n",
      "       Release Data: Off\n",
      "       Data Released: False\n",
      "       Global Release Data: Off\n",
      "       PipelineMTime: 0\n",
      "       UpdateMTime: 15294250\n",
      "       RealTimeStamp: 0 seconds \n",
      "       LargestPossibleRegion: \n",
      "         Dimension: 3\n",
      "         Index: [0, 0, 0]\n",
      "         Size: [421, 250, 98]\n",
      "       BufferedRegion: \n",
      "         Dimension: 3\n",
      "         Index: [0, 0, 0]\n",
      "         Size: [421, 250, 98]\n",
      "       RequestedRegion: \n",
      "         Dimension: 3\n",
      "         Index: [0, 0, 0]\n",
      "         Size: [421, 250, 98]\n",
      "       Spacing: [41.6, 41.6, 80]\n",
      "       Origin: [31.2, 15.6, 30]\n",
      "       Direction: \n",
      "1 0 0\n",
      "0 1 0\n",
      "0 0 1\n",
      "\n",
      "       IndexToPointMatrix: \n",
      "41.6 0 0\n",
      "0 41.6 0\n",
      "0 0 80\n",
      "\n",
      "       PointToIndexMatrix: \n",
      "0.0240385 0 0\n",
      "0 0.0240385 0\n",
      "0 0 0.0125\n",
      "\n",
      "       Inverse Direction: \n",
      "1 0 0\n",
      "0 1 0\n",
      "0 0 1\n",
      "\n",
      "       PixelContainer: \n",
      "         ImportImageContainer (0x55a87cc8e480)\n",
      "           RTTI typeinfo:   itk::ImportImageContainer<unsigned long, itk::Vector<double, 3u> >\n",
      "           Reference Count: 1\n",
      "           Modified Time: 15294248\n",
      "           Debug: Off\n",
      "           Object Name: \n",
      "           Observers: \n",
      "             none\n",
      "           Pointer: 0x7fdd053eb010\n",
      "           Container manages memory: true\n",
      "           Size: 10314500\n",
      "           Capacity: 10314500\n",
      "   InverseDisplacementField: (null)\n",
      "   Interpolator: \n",
      "     VectorLinearInterpolateImageFunction (0x55a87b7eef50)\n",
      "       RTTI typeinfo:   itk::VectorLinearInterpolateImageFunction<itk::Image<itk::Vector<double, 3u>, 3u>, double>\n",
      "       Reference Count: 1\n",
      "       Modified Time: 15293770\n",
      "       Debug: Off\n",
      "       Object Name: \n",
      "       Observers: \n",
      "         none\n",
      "       InputImage: 0x55a87b83d6c0\n",
      "       StartIndex: [0, 0, 0]\n",
      "       EndIndex: [420, 249, 97]\n",
      "       StartContinuousIndex: [-0.5, -0.5, -0.5]\n",
      "       EndContinuousIndex: [420.5, 249.5, 97.5]\n",
      "   InverseInterpolator: \n",
      "     VectorLinearInterpolateImageFunction (0x55a87cbe9f90)\n",
      "       RTTI typeinfo:   itk::VectorLinearInterpolateImageFunction<itk::Image<itk::Vector<double, 3u>, 3u>, double>\n",
      "       Reference Count: 1\n",
      "       Modified Time: 15293771\n",
      "       Debug: Off\n",
      "       Object Name: \n",
      "       Observers: \n",
      "         none\n",
      "       InputImage: 0\n",
      "       StartIndex: [0, 0, 0]\n",
      "       EndIndex: [0, 0, 0]\n",
      "       StartContinuousIndex: [0, 0, 0]\n",
      "       EndContinuousIndex: [0, 0, 0]\n",
      "   DisplacementFieldSetTime: 15294258\n",
      "   m_IdentityJacobian: [1, 0, 0]\n",
      "[0, 1, 0]\n",
      "[0, 0, 1]\n",
      "\n",
      "    CoordinateTolerance: 1e-06\n",
      "    DirectionTolerance: 1e-06\n",
      "   Gaussian smoothing parameters: \n",
      "   m_GaussianSmoothingVarianceForTheUpdateField: 0\n",
      "   m_GaussianSmoothingVarianceForTheTotalField: 2\n",
      "\n"
     ]
    }
   ],
   "source": [
    "print(demons_transform)"
   ]
  },
  {
   "cell_type": "code",
   "execution_count": 19,
   "id": "e3f1192c",
   "metadata": {},
   "outputs": [
    {
     "data": {
      "application/vnd.jupyter.widget-view+json": {
       "model_id": "bb16b886042749db906c2b6bb69cc5b1",
       "version_major": 2,
       "version_minor": 0
      },
      "text/plain": [
       "interactive(children=(IntSlider(value=195, description='image_z', max=391), FloatSlider(value=0.5, description…"
      ]
     },
     "metadata": {},
     "output_type": "display_data"
    }
   ],
   "source": [
    "transform = demons_transform\n",
    "moving_resampled = sitk.Resample(\n",
    "    moving_image, fixed_image, transform,\n",
    "    sitk.sitkLinear, 0.0, moving_image.GetPixelID()\n",
    ")\n",
    "interact(\n",
    "    display_images_with_alpha,\n",
    "    image_z=(0,fixed_image.GetSize()[2]-1),\n",
    "    alpha=(0.0,1.0,0.05), fixed=fixed(fixed_image), moving=fixed(moving_resampled)\n",
    ");"
   ]
  },
  {
   "cell_type": "markdown",
   "id": "31f3bf6c",
   "metadata": {},
   "source": [
    "## Saving Result\n",
    "Once we have the final transformation ready, we can save it to disk for future reuse."
   ]
  },
  {
   "cell_type": "code",
   "execution_count": 20,
   "id": "7338de38",
   "metadata": {},
   "outputs": [],
   "source": [
    "save_dir = Path('../data/automatic-alignment') / fix_brain\n",
    "# Make sure the dir exists\n",
    "save_dir.mkdir(parents=True, exist_ok=True)\n",
    "affine_save_path = (save_dir / '1-affine.tfm').as_posix()\n",
    "demons_save_path = (save_dir / '1-demons.tfm').as_posix()"
   ]
  },
  {
   "cell_type": "code",
   "execution_count": 21,
   "id": "32793168",
   "metadata": {},
   "outputs": [
    {
     "name": "stdout",
     "output_type": "stream",
     "text": [
      "CPU times: user 326 µs, sys: 13 µs, total: 339 µs\n",
      "Wall time: 345 µs\n"
     ]
    }
   ],
   "source": [
    "%%time\n",
    "sitk.WriteTransform(affine_transform, affine_save_path)"
   ]
  },
  {
   "cell_type": "code",
   "execution_count": 22,
   "id": "3c8738cb",
   "metadata": {},
   "outputs": [
    {
     "name": "stdout",
     "output_type": "stream",
     "text": [
      "4.0K\t../data/automatic-alignment/DK43/1-affine.tfm\n"
     ]
    }
   ],
   "source": [
    "!du -h {affine_save_path}"
   ]
  },
  {
   "cell_type": "code",
   "execution_count": 23,
   "id": "ab6afe02",
   "metadata": {},
   "outputs": [
    {
     "name": "stdout",
     "output_type": "stream",
     "text": [
      "CPU times: user 278 µs, sys: 11 µs, total: 289 µs\n",
      "Wall time: 295 µs\n"
     ]
    }
   ],
   "source": [
    "%%time\n",
    "reloaded_affine_transform = sitk.ReadTransform(affine_save_path)"
   ]
  },
  {
   "cell_type": "code",
   "execution_count": 24,
   "id": "fa62a999",
   "metadata": {},
   "outputs": [
    {
     "name": "stdout",
     "output_type": "stream",
     "text": [
      "itk::simple::Transform\n",
      " AffineTransform (0x55a87b398510)\n",
      "   RTTI typeinfo:   itk::AffineTransform<double, 3u>\n",
      "   Reference Count: 1\n",
      "   Modified Time: 15320854\n",
      "   Debug: Off\n",
      "   Object Name: \n",
      "   Observers: \n",
      "     none\n",
      "   Matrix: \n",
      "     0.970459 0.180948 -0.0253713 \n",
      "     -0.242278 1.01319 -0.0809535 \n",
      "     -0.00583195 0.0665768 1.03528 \n",
      "   Offset: [572.071, 3074.15, -148.14]\n",
      "   Center: [8767.2, 5194.8, 3910]\n",
      "   Translation: [1153.87, 702.022, 284.53]\n",
      "   Inverse: \n",
      "     0.986355 -0.176836 0.0103447 \n",
      "     0.235097 0.939791 0.0792482 \n",
      "     -0.00956231 -0.0614322 0.960884 \n",
      "   Singular: 0\n",
      "\n"
     ]
    }
   ],
   "source": [
    "print(reloaded_affine_transform)"
   ]
  },
  {
   "cell_type": "code",
   "execution_count": 25,
   "id": "3ae48e7a",
   "metadata": {},
   "outputs": [
    {
     "name": "stdout",
     "output_type": "stream",
     "text": [
      "CPU times: user 8.19 s, sys: 911 ms, total: 9.11 s\n",
      "Wall time: 10.4 s\n"
     ]
    }
   ],
   "source": [
    "%%time\n",
    "sitk.WriteTransform(demons_transform, demons_save_path)"
   ]
  },
  {
   "cell_type": "code",
   "execution_count": 26,
   "id": "71df0ef5",
   "metadata": {},
   "outputs": [
    {
     "name": "stdout",
     "output_type": "stream",
     "text": [
      "531M\t../data/automatic-alignment/DK43/1-demons.tfm\n"
     ]
    }
   ],
   "source": [
    "!du -h {demons_save_path}"
   ]
  },
  {
   "cell_type": "code",
   "execution_count": 27,
   "id": "04e0b7e5",
   "metadata": {},
   "outputs": [
    {
     "name": "stdout",
     "output_type": "stream",
     "text": [
      "CPU times: user 27.7 s, sys: 2.73 s, total: 30.5 s\n",
      "Wall time: 30.5 s\n"
     ]
    }
   ],
   "source": [
    "%%time\n",
    "reloaded_demons_transform = sitk.ReadTransform(demons_save_path)"
   ]
  },
  {
   "cell_type": "code",
   "execution_count": 28,
   "id": "1ed3f2c1",
   "metadata": {},
   "outputs": [
    {
     "name": "stdout",
     "output_type": "stream",
     "text": [
      "itk::simple::Transform\n",
      " GaussianSmoothingOnUpdateDisplacementFieldTransform (0x55a87c959430)\n",
      "   RTTI typeinfo:   itk::GaussianSmoothingOnUpdateDisplacementFieldTransform<double, 3u>\n",
      "   Reference Count: 1\n",
      "   Modified Time: 15320886\n",
      "   Debug: Off\n",
      "   Object Name: \n",
      "   Observers: \n",
      "     none\n",
      "   DisplacementField: \n",
      "     Image (0x55a87cccfe80)\n",
      "       RTTI typeinfo:   itk::Image<itk::Vector<double, 3u>, 3u>\n",
      "       Reference Count: 3\n",
      "       Modified Time: 15320883\n",
      "       Debug: Off\n",
      "       Object Name: \n",
      "       Observers: \n",
      "         none\n",
      "       Source: (none)\n",
      "       Source output name: (none)\n",
      "       Release Data: Off\n",
      "       Data Released: False\n",
      "       Global Release Data: Off\n",
      "       PipelineMTime: 0\n",
      "       UpdateMTime: 0\n",
      "       RealTimeStamp: 0 seconds \n",
      "       LargestPossibleRegion: \n",
      "         Dimension: 3\n",
      "         Index: [0, 0, 0]\n",
      "         Size: [421, 250, 98]\n",
      "       BufferedRegion: \n",
      "         Dimension: 3\n",
      "         Index: [0, 0, 0]\n",
      "         Size: [421, 250, 98]\n",
      "       RequestedRegion: \n",
      "         Dimension: 3\n",
      "         Index: [0, 0, 0]\n",
      "         Size: [421, 250, 98]\n",
      "       Spacing: [41.6, 41.6, 80]\n",
      "       Origin: [31.2, 15.6, 30]\n",
      "       Direction: \n",
      "1 0 0\n",
      "0 1 0\n",
      "0 0 1\n",
      "\n",
      "       IndexToPointMatrix: \n",
      "41.6 0 0\n",
      "0 41.6 0\n",
      "0 0 80\n",
      "\n",
      "       PointToIndexMatrix: \n",
      "0.0240385 0 0\n",
      "0 0.0240385 0\n",
      "0 0 0.0125\n",
      "\n",
      "       Inverse Direction: \n",
      "1 0 0\n",
      "0 1 0\n",
      "0 0 1\n",
      "\n",
      "       PixelContainer: \n",
      "         ImportImageContainer (0x55a87c155010)\n",
      "           RTTI typeinfo:   itk::ImportImageContainer<unsigned long, itk::Vector<double, 3u> >\n",
      "           Reference Count: 1\n",
      "           Modified Time: 15320884\n",
      "           Debug: Off\n",
      "           Object Name: \n",
      "           Observers: \n",
      "             none\n",
      "           Pointer: 0x7fdcd54eb010\n",
      "           Container manages memory: true\n",
      "           Size: 10314500\n",
      "           Capacity: 10314500\n",
      "   InverseDisplacementField: (null)\n",
      "   Interpolator: \n",
      "     VectorLinearInterpolateImageFunction (0x55a87b735070)\n",
      "       RTTI typeinfo:   itk::VectorLinearInterpolateImageFunction<itk::Image<itk::Vector<double, 3u>, 3u>, double>\n",
      "       Reference Count: 1\n",
      "       Modified Time: 15320875\n",
      "       Debug: Off\n",
      "       Object Name: \n",
      "       Observers: \n",
      "         none\n",
      "       InputImage: 0x55a87cccfe80\n",
      "       StartIndex: [0, 0, 0]\n",
      "       EndIndex: [420, 249, 97]\n",
      "       StartContinuousIndex: [-0.5, -0.5, -0.5]\n",
      "       EndContinuousIndex: [420.5, 249.5, 97.5]\n",
      "   InverseInterpolator: \n",
      "     VectorLinearInterpolateImageFunction (0x55a87cafcb10)\n",
      "       RTTI typeinfo:   itk::VectorLinearInterpolateImageFunction<itk::Image<itk::Vector<double, 3u>, 3u>, double>\n",
      "       Reference Count: 1\n",
      "       Modified Time: 15320876\n",
      "       Debug: Off\n",
      "       Object Name: \n",
      "       Observers: \n",
      "         none\n",
      "       InputImage: 0\n",
      "       StartIndex: [0, 0, 0]\n",
      "       EndIndex: [0, 0, 0]\n",
      "       StartContinuousIndex: [0, 0, 0]\n",
      "       EndContinuousIndex: [0, 0, 0]\n",
      "   DisplacementFieldSetTime: 15320885\n",
      "   m_IdentityJacobian: [1, 0, 0]\n",
      "[0, 1, 0]\n",
      "[0, 0, 1]\n",
      "\n",
      "    CoordinateTolerance: 1e-06\n",
      "    DirectionTolerance: 1e-06\n",
      "   Gaussian smoothing parameters: \n",
      "   m_GaussianSmoothingVarianceForTheUpdateField: 3\n",
      "   m_GaussianSmoothingVarianceForTheTotalField: 0.5\n",
      "\n"
     ]
    }
   ],
   "source": [
    "print(reloaded_demons_transform)"
   ]
  }
 ],
 "metadata": {
  "kernelspec": {
   "display_name": "Python 3",
   "language": "python",
   "name": "python3"
  },
  "language_info": {
   "codemirror_mode": {
    "name": "ipython",
    "version": 3
   },
   "file_extension": ".py",
   "mimetype": "text/x-python",
   "name": "python",
   "nbconvert_exporter": "python",
   "pygments_lexer": "ipython3",
   "version": "3.9.4"
  }
 },
 "nbformat": 4,
 "nbformat_minor": 5
}
