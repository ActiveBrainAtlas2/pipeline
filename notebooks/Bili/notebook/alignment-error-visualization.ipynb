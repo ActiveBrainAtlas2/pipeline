{
 "cells": [
  {
   "cell_type": "markdown",
   "id": "a86224cf",
   "metadata": {},
   "source": [
    "# Alignment Error Visualization\n",
    "\n",
    "This notebook collects COM data from the database and tries to quantify some alignment errors. The main results are shown in the plots at the end of the notebook."
   ]
  },
  {
   "cell_type": "code",
   "execution_count": 1,
   "id": "116fa24e",
   "metadata": {},
   "outputs": [],
   "source": [
    "import os\n",
    "import sys\n",
    "from pathlib import Path\n",
    "\n",
    "import matplotlib.pyplot as plt\n",
    "import numpy as np\n",
    "import pandas as pd\n",
    "import seaborn as sns\n",
    "from matplotlib.backends.backend_pdf import PdfPages\n",
    "from sqlalchemy import func\n",
    "\n",
    "sns.set_style(\"whitegrid\")\n",
    "\n",
    "PIPELINE_ROOT = Path('.').absolute().parents[2]\n",
    "sys.path.append(PIPELINE_ROOT.as_posix())\n",
    "from utilities.model.layer_data import LayerData\n",
    "from utilities.model.structure import Structure\n",
    "from sql_setup import session"
   ]
  },
  {
   "cell_type": "code",
   "execution_count": 2,
   "id": "6342efe3-8054-4acd-9dc6-8a5d22d87ba3",
   "metadata": {},
   "outputs": [],
   "source": [
    "# configurations for brains\n",
    "brains_to_extract_common_structures = ['DK39', 'DK41', 'DK43', 'DK54', 'DK55']\n",
    "brains_to_examine = ['DK39', 'DK41', 'DK43', 'DK52', 'DK54', 'DK55']"
   ]
  },
  {
   "cell_type": "markdown",
   "id": "f44ad938",
   "metadata": {},
   "source": [
    "## Data Collection"
   ]
  },
  {
   "cell_type": "code",
   "execution_count": 3,
   "id": "1ab15eee",
   "metadata": {},
   "outputs": [],
   "source": [
    "def query_brain_coms(brain, person_id=28, input_type_id=4):\n",
    "    # default: person is bili, input_type is aligned\n",
    "    rows = session.query(LayerData)\\\n",
    "        .filter(LayerData.active.is_(True))\\\n",
    "        .filter(LayerData.prep_id == brain)\\\n",
    "        .filter(LayerData.person_id == person_id)\\\n",
    "        .filter(LayerData.input_type_id == input_type_id)\\\n",
    "        .all()\n",
    "    row_dict = {}\n",
    "    for row in rows:\n",
    "        structure = row.structure.abbreviation\n",
    "        row_dict[structure] = np.array([row.x, row.y, row.section])\n",
    "    return row_dict"
   ]
  },
  {
   "cell_type": "code",
   "execution_count": 4,
   "id": "81840868",
   "metadata": {},
   "outputs": [
    {
     "name": "stdout",
     "output_type": "stream",
     "text": [
      "No histology for Atlas\n",
      "No scan run for Atlas\n"
     ]
    }
   ],
   "source": [
    "from utilities.sqlcontroller import SqlController\n",
    "\n",
    "def get_atlas_centers(\n",
    "        atlas_box_size=(1000, 1000, 300),\n",
    "        atlas_box_scales=(10, 10, 20),\n",
    "        atlas_raw_scale=10\n",
    "):\n",
    "    atlas_box_scales = np.array(atlas_box_scales)\n",
    "    atlas_box_size = np.array(atlas_box_size)\n",
    "    atlas_box_center = atlas_box_size / 2\n",
    "    sqlController = SqlController('Atlas')\n",
    "    # person is lauren, input_type is manual\n",
    "    atlas_centers = sqlController.get_centers_dict('Atlas', input_type_id=1, person_id=16)\n",
    "\n",
    "    for structure, center in atlas_centers.items():\n",
    "        # transform into the atlas box coordinates that neuroglancer assumes\n",
    "        center = atlas_box_center + np.array(center) * atlas_raw_scale / atlas_box_scales\n",
    "        atlas_centers[structure] = center\n",
    "\n",
    "    return atlas_centers\n",
    "\n",
    "atlas_coms = get_atlas_centers()"
   ]
  },
  {
   "cell_type": "code",
   "execution_count": 5,
   "id": "397b771f-50da-4219-992e-0d7d0b96b0a0",
   "metadata": {},
   "outputs": [
    {
     "name": "stdout",
     "output_type": "stream",
     "text": [
      "['10N_L', '10N_R']\n"
     ]
    }
   ],
   "source": [
    "common_structures = set()\n",
    "for brain in brains_to_extract_common_structures:\n",
    "    common_structures = common_structures | set(query_brain_coms(brain).keys())\n",
    "common_structures = list(sorted(common_structures))\n",
    "print(common_structures[0:2])"
   ]
  },
  {
   "cell_type": "code",
   "execution_count": 6,
   "id": "327f59c4",
   "metadata": {},
   "outputs": [],
   "source": [
    "def prepare_table(brains, person_id, input_type_id, save_path):\n",
    "    df_save = prepare_table_for_save(\n",
    "        brains,\n",
    "        person_id=person_id,\n",
    "        input_type_id=input_type_id\n",
    "    )\n",
    "    df_save.to_csv(save_path, index=False)\n",
    "    \n",
    "    df = prepare_table_for_plot(\n",
    "        brains,\n",
    "        person_id=person_id,\n",
    "        input_type_id=input_type_id\n",
    "    )\n",
    "\n",
    "    return df_save, df\n",
    "\n",
    "def get_brain_coms(brains, person_id, input_type_id):\n",
    "    brain_coms = {}\n",
    "    for brain in brains:\n",
    "        brain_coms[brain] = query_brain_coms(\n",
    "            brain,\n",
    "            person_id=person_id,\n",
    "            input_type_id=input_type_id\n",
    "        )\n",
    "        # A temporary hack: for ('DK55', corrected), use ('DK55', aligned)\n",
    "        if (brain, input_type_id) == ('DK55', 2):\n",
    "            brain_coms[brain] = query_brain_coms(\n",
    "                brain,\n",
    "                person_id=person_id,\n",
    "                input_type_id=4\n",
    "            )\n",
    "    return brain_coms\n",
    "\n",
    "def prepare_table_for_save(brains, person_id, input_type_id):\n",
    "    brain_coms = get_brain_coms(brains, person_id, input_type_id)\n",
    "\n",
    "    data = {}\n",
    "    data['name'] = []\n",
    "    for s in common_structures:\n",
    "        for c in ['dx', 'dy', 'dz', 'dist']:\n",
    "            data['name'] += [f'{s}_{c}']\n",
    "    for brain in brain_coms.keys():\n",
    "        data[brain] = []\n",
    "        offset = [brain_coms[brain][s] - atlas_coms[s]\n",
    "                  if s in brain_coms[brain] else [np.nan, np.nan, np.nan]\n",
    "                  for s in common_structures]\n",
    "        offset = np.array(offset)\n",
    "        scale = np.array([10, 10, 20])\n",
    "        dx, dy, dz = (offset * scale).T\n",
    "        dist = np.sqrt(dx * dx + dy * dy + dz * dz)\n",
    "        for dx_i, dy_i, dz_i, dist_i in zip(dx, dy, dz, dist):\n",
    "            data[brain] += [dx_i, dy_i, dz_i, dist_i]\n",
    "    df = pd.DataFrame(data)\n",
    "\n",
    "    return df\n",
    "\n",
    "def prepare_table_for_plot(brains, person_id, input_type_id):\n",
    "    brain_coms = get_brain_coms(brains, person_id, input_type_id)\n",
    "\n",
    "    df = pd.DataFrame()\n",
    "    for brain in brain_coms.keys():\n",
    "        offset = [brain_coms[brain][s] - atlas_coms[s]\n",
    "                  if s in brain_coms[brain] else [np.nan, np.nan, np.nan]\n",
    "                  for s in common_structures]\n",
    "        offset = np.array(offset)\n",
    "        scale = np.array([10, 10, 20])\n",
    "        dx, dy, dz = (offset * scale).T\n",
    "        dist = np.sqrt(dx * dx + dy * dy + dz * dz)\n",
    "\n",
    "        df_brain = pd.DataFrame()\n",
    "\n",
    "        data = {}\n",
    "        data['structure'] = common_structures\n",
    "        data['value'] = dx\n",
    "        data['type'] = 'dx'\n",
    "        df_brain = df_brain.append(pd.DataFrame(data), ignore_index=True)\n",
    "\n",
    "        data = {}\n",
    "        data['structure'] = common_structures\n",
    "        data['value'] = dy\n",
    "        data['type'] = 'dy'\n",
    "        df_brain = df_brain.append(pd.DataFrame(data), ignore_index=True)\n",
    "\n",
    "        data = {}\n",
    "        data['structure'] = common_structures\n",
    "        data['value'] = dz\n",
    "        data['type'] = 'dz'\n",
    "        df_brain = df_brain.append(pd.DataFrame(data), ignore_index=True)\n",
    "\n",
    "        data = {}\n",
    "        data['structure'] = common_structures\n",
    "        data['value'] = dist\n",
    "        data['type'] = 'dist'\n",
    "        df_brain = df_brain.append(pd.DataFrame(data), ignore_index=True)\n",
    "\n",
    "        df_brain['brain'] = brain\n",
    "        df = df.append(df_brain, ignore_index=True)\n",
    "    return df"
   ]
  },
  {
   "cell_type": "code",
   "execution_count": 7,
   "id": "32e9b799-b0f7-4bf3-9768-cf4c5db960f6",
   "metadata": {},
   "outputs": [],
   "source": [
    "def plot(df, ymin, ymax, ystep, title):\n",
    "    fig, ax = plt.subplots(2, 1, figsize=(16, 12), dpi=200)\n",
    "    \n",
    "    sns.boxplot(ax=ax[0], x=\"structure\", y=\"value\", hue=\"type\", data=df)\n",
    "    ax[0].xaxis.grid(True)\n",
    "    ax[0].set_xlabel('Structure')\n",
    "    ax[0].set_ylabel('um')\n",
    "    ax[0].set_title('full dynamic range')\n",
    "    \n",
    "    sns.boxplot(ax=ax[1], x=\"structure\", y=\"value\", hue=\"type\", data=df)\n",
    "    ax[1].xaxis.grid(True)\n",
    "    ax[1].set_ylim(ymin, ymax)\n",
    "    ax[1].yaxis.set_ticks(np.arange(ymin, ymax + 1, ystep))\n",
    "    ax[0].set_xlabel('Structure')\n",
    "    ax[1].set_ylabel('um')\n",
    "    ax[1].set_title('zoom in')\n",
    "    \n",
    "    fig.suptitle(title, y=0.92)\n",
    "    plt.show()\n",
    "    return fig\n",
    "\n",
    "figs = []"
   ]
  },
  {
   "cell_type": "markdown",
   "id": "a021b972",
   "metadata": {},
   "source": [
    "## Rigid Alignment Error\n",
    "\n",
    "Rigid alignment error is computed as follows:\n",
    "1. Anotomist manually annotate the COMs for each brain.\n",
    "2. Computer finds the best transformation between atlas COMs and **anotomist's manual COMs**. The transformation is restricted to rigid + uniform scaling.\n",
    "3. Using the transformation, the **anotomist's manual COMs** are brought to the atlas space.\n",
    "4. The errors between the 2 sets of COMs are calculated, and displayed in the following plots.\n",
    "\n",
    "The errors for a single structure are quantified by 4 numbers: dx, dy, dz, dist. (dx, dy, dz) are the offset. dist is the corresponding distance of the offset."
   ]
  },
  {
   "cell_type": "code",
   "execution_count": 8,
   "id": "ee68c20f-5af1-430d-a347-6ed2954d568e",
   "metadata": {},
   "outputs": [
    {
     "data": {
      "text/html": [
       "<div>\n",
       "<style scoped>\n",
       "    .dataframe tbody tr th:only-of-type {\n",
       "        vertical-align: middle;\n",
       "    }\n",
       "\n",
       "    .dataframe tbody tr th {\n",
       "        vertical-align: top;\n",
       "    }\n",
       "\n",
       "    .dataframe thead th {\n",
       "        text-align: right;\n",
       "    }\n",
       "</style>\n",
       "<table border=\"1\" class=\"dataframe\">\n",
       "  <thead>\n",
       "    <tr style=\"text-align: right;\">\n",
       "      <th></th>\n",
       "      <th>name</th>\n",
       "      <th>DK39</th>\n",
       "      <th>DK41</th>\n",
       "      <th>DK43</th>\n",
       "      <th>DK52</th>\n",
       "      <th>DK54</th>\n",
       "      <th>DK55</th>\n",
       "    </tr>\n",
       "  </thead>\n",
       "  <tbody>\n",
       "    <tr>\n",
       "      <th>0</th>\n",
       "      <td>10N_L_dx</td>\n",
       "      <td>-886.17000</td>\n",
       "      <td>-226.890000</td>\n",
       "      <td>-922.300000</td>\n",
       "      <td>-347.720000</td>\n",
       "      <td>-442.820000</td>\n",
       "      <td>-376.260000</td>\n",
       "    </tr>\n",
       "    <tr>\n",
       "      <th>1</th>\n",
       "      <td>10N_L_dy</td>\n",
       "      <td>346.28400</td>\n",
       "      <td>-471.536000</td>\n",
       "      <td>556.474000</td>\n",
       "      <td>-303.826000</td>\n",
       "      <td>-576.846000</td>\n",
       "      <td>-440.396000</td>\n",
       "    </tr>\n",
       "    <tr>\n",
       "      <th>2</th>\n",
       "      <td>10N_L_dz</td>\n",
       "      <td>-810.00000</td>\n",
       "      <td>170.000000</td>\n",
       "      <td>-830.000000</td>\n",
       "      <td>-110.000000</td>\n",
       "      <td>-10.000000</td>\n",
       "      <td>250.000000</td>\n",
       "    </tr>\n",
       "    <tr>\n",
       "      <th>3</th>\n",
       "      <td>10N_L_dist</td>\n",
       "      <td>1249.52386</td>\n",
       "      <td>550.204754</td>\n",
       "      <td>1359.853155</td>\n",
       "      <td>474.678245</td>\n",
       "      <td>727.283205</td>\n",
       "      <td>630.888441</td>\n",
       "    </tr>\n",
       "    <tr>\n",
       "      <th>4</th>\n",
       "      <td>10N_R_dx</td>\n",
       "      <td>-339.80000</td>\n",
       "      <td>-910.780000</td>\n",
       "      <td>-202.500000</td>\n",
       "      <td>-321.520000</td>\n",
       "      <td>-458.250000</td>\n",
       "      <td>-988.280000</td>\n",
       "    </tr>\n",
       "  </tbody>\n",
       "</table>\n",
       "</div>"
      ],
      "text/plain": [
       "         name        DK39        DK41         DK43        DK52        DK54  \\\n",
       "0    10N_L_dx  -886.17000 -226.890000  -922.300000 -347.720000 -442.820000   \n",
       "1    10N_L_dy   346.28400 -471.536000   556.474000 -303.826000 -576.846000   \n",
       "2    10N_L_dz  -810.00000  170.000000  -830.000000 -110.000000  -10.000000   \n",
       "3  10N_L_dist  1249.52386  550.204754  1359.853155  474.678245  727.283205   \n",
       "4    10N_R_dx  -339.80000 -910.780000  -202.500000 -321.520000 -458.250000   \n",
       "\n",
       "         DK55  \n",
       "0 -376.260000  \n",
       "1 -440.396000  \n",
       "2  250.000000  \n",
       "3  630.888441  \n",
       "4 -988.280000  "
      ]
     },
     "execution_count": 8,
     "metadata": {},
     "output_type": "execute_result"
    }
   ],
   "source": [
    "# person is bili, input_type is aligned\n",
    "df_save, df = prepare_table(\n",
    "    brains_to_examine,\n",
    "    person_id=28,\n",
    "    input_type_id=4,\n",
    "    save_path='../data/rigid-alignment-error.csv'\n",
    ")\n",
    "df_save.head()"
   ]
  },
  {
   "cell_type": "code",
   "execution_count": null,
   "id": "daf2cb73-f780-4a26-8a97-b147faa40d99",
   "metadata": {
    "scrolled": true
   },
   "outputs": [],
   "source": [
    "fig = plot(df, -1000, 1000, 100, 'Rigid Alignment Error')\n",
    "figs.append(fig)"
   ]
  },
  {
   "cell_type": "markdown",
   "id": "89baf1fe-8eca-47b7-9648-303a25087ea5",
   "metadata": {},
   "source": [
    "## Rigid Alignment Error After Correction\n",
    "\n",
    "After reviewing the rigid alignment error plots, Beth manually re-annotatted the significant outliers as a correction. With this updated data, we compute the alignment error again using the same method."
   ]
  },
  {
   "cell_type": "code",
   "execution_count": null,
   "id": "5ffc08f3-cee9-4e5e-abcb-eaa917224434",
   "metadata": {},
   "outputs": [],
   "source": [
    "# person is bili, input_type is corrected\n",
    "df_save, df = prepare_table(\n",
    "    brains_to_examine,\n",
    "    person_id=28,\n",
    "    input_type_id=2,\n",
    "    save_path='../data/rigid-alignment-error-after-correction.csv'\n",
    ")\n",
    "df_save.head()"
   ]
  },
  {
   "cell_type": "code",
   "execution_count": null,
   "id": "5f283a84-572e-4814-9dc1-e75314222e2f",
   "metadata": {},
   "outputs": [],
   "source": [
    "fig = plot(df, -1000, 1000, 100, 'Rigid Alignment Error After Correction')\n",
    "figs.append(fig)"
   ]
  },
  {
   "cell_type": "markdown",
   "id": "b47847d1",
   "metadata": {},
   "source": [
    "## Rough Alignment Error\n",
    "\n",
    "**Rough alignment** is an **automatic method** to find the best 3D affine transformation between 2 brains, solely based on the thumbnail-resolution gray value images. Rough alignment is planned to be the first step of an automatic pipeline, which defines the starting points for Kui's automatic detection method.\n",
    "\n",
    "We start with an anotomist manually annotate the COMs extensively for one brain (DK52).\n",
    "\n",
    "Rough alignment error is computed as follows:\n",
    "1. Computer finds the best 3D affine transformation between DK52 and the brain, as determined by aligning the gray value images.\n",
    "2. Using the transformation, the DK52 COMs are brought to that brain's space. And we call it the **rough COMs** of the brain.\n",
    "3. Computer finds the best transformation between atlas COMs and **rough COMs**. The transformation is restricted to rigid + uniform scaling.\n",
    "4. Using the transformation, the **rough COMs** are brought to the atlas space.\n",
    "5. The errors between the 2 sets of COMs are calculated, and displayed in the following plots.\n",
    "\n",
    "The errors for a single structure are quantified by 4 numbers: dx, dy, dz, dist. (dx, dy, dz) are the offset. dist is the corresponding distance of the offset."
   ]
  },
  {
   "cell_type": "code",
   "execution_count": null,
   "id": "7d501178-b8c8-4f97-a180-a4cbab24e66f",
   "metadata": {},
   "outputs": [],
   "source": [
    "# person is ed, input_type is aligned\n",
    "df_save, df = prepare_table(\n",
    "    brains_to_examine,\n",
    "    person_id=1,\n",
    "    input_type_id=4,\n",
    "    save_path='../data/rough-alignment-error.csv'\n",
    ")\n",
    "df_save.head()"
   ]
  },
  {
   "cell_type": "code",
   "execution_count": null,
   "id": "c42f5165-b897-4be6-9f97-a3d35b51d3cb",
   "metadata": {},
   "outputs": [],
   "source": [
    "fig = plot(df, -1000, 1000, 100, 'Rough Alignment Error')\n",
    "figs.append(fig)"
   ]
  },
  {
   "cell_type": "markdown",
   "id": "a4c16da1-ec3f-4d28-a553-98285383940a",
   "metadata": {},
   "source": [
    "## Generate Report"
   ]
  },
  {
   "cell_type": "code",
   "execution_count": null,
   "id": "d34d3bf4-a147-4816-afcc-959cc4850421",
   "metadata": {},
   "outputs": [],
   "source": [
    "with PdfPages('../data/alignment-error.pdf') as pdf:\n",
    "    for fig in figs:\n",
    "        pdf.savefig(fig)"
   ]
  }
 ],
 "metadata": {
  "kernelspec": {
   "display_name": "Python 3",
   "language": "python",
   "name": "python3"
  },
  "language_info": {
   "codemirror_mode": {
    "name": "ipython",
    "version": 3
   },
   "file_extension": ".py",
   "mimetype": "text/x-python",
   "name": "python",
   "nbconvert_exporter": "python",
   "pygments_lexer": "ipython3",
   "version": "3.8.5"
  }
 },
 "nbformat": 4,
 "nbformat_minor": 5
}
