{
 "cells": [
  {
   "cell_type": "markdown",
   "id": "81b344f1-75bf-494d-aad3-f9998448947d",
   "metadata": {},
   "source": [
    "# Automatic Registration Step 2: Detection Initial COMs\n",
    "In this step, we use the transformation generated from the previous step to get initial COMs for Kui's detection."
   ]
  },
  {
   "cell_type": "code",
   "execution_count": 1,
   "id": "d352ad2e-25b9-49d5-90b1-359c6ebda2db",
   "metadata": {},
   "outputs": [],
   "source": [
    "import json\n",
    "\n",
    "import numpy as np\n",
    "import SimpleITK as sitk"
   ]
  },
  {
   "cell_type": "code",
   "execution_count": 2,
   "id": "fbc3896c-793b-47d5-a38d-d619768db4c5",
   "metadata": {},
   "outputs": [],
   "source": [
    "fix_brain = 'DK43'"
   ]
  },
  {
   "cell_type": "markdown",
   "id": "58d2c197-046b-41e9-a5da-12e563ba3ad2",
   "metadata": {},
   "source": [
    "## Retrieve DK52 COMs"
   ]
  },
  {
   "cell_type": "code",
   "execution_count": 3,
   "id": "33fcd545-75fa-4724-b9a7-7404ac6f0086",
   "metadata": {},
   "outputs": [
    {
     "data": {
      "text/plain": [
       "{'10N_L': [45413, 16981, 216],\n",
       " '10N_R': [47649, 16137, 259],\n",
       " '12N': [47432, 17112, 245],\n",
       " '3N_L': [36300, 14843, 227],\n",
       " '3N_R': [36088, 14789, 236],\n",
       " '4N_L': [37627, 14650, 232],\n",
       " '4N_R': [37627, 14676, 232],\n",
       " '5N_L': [38765, 20172, 170],\n",
       " '5N_R': [38578, 18830, 322],\n",
       " '6N_L': [40594, 19400, 261],\n",
       " '6N_R': [40691, 19609, 216],\n",
       " '7N_L': [44412, 25652, 172],\n",
       " '7N_R': [34067, 18435, 226],\n",
       " 'AP': [46493, 17268, 236],\n",
       " 'Amb_L': [44278, 22190, 177],\n",
       " 'Amb_R': [42963, 21855, 322],\n",
       " 'DC_L': [41286, 17520, 123],\n",
       " 'DC_R': [44852, 17688, 352],\n",
       " 'IC': [32241, 8524, 237],\n",
       " 'LC_L': [40348, 16804, 182],\n",
       " 'LC_R': [40069, 15693, 274],\n",
       " 'LRt_L': [49842, 24952, 196],\n",
       " 'LRt_R': [46245, 24242, 309],\n",
       " 'PBG_L': [35652, 15883, 141],\n",
       " 'PBG_R': [35630, 15532, 329],\n",
       " 'Pn_L': [36244, 24101, 235],\n",
       " 'Pn_R': [35862, 26388, 308],\n",
       " 'RtTg': [40371, 25410, 240],\n",
       " 'SNC_L': [34197, 21594, 169],\n",
       " 'SNC_R': [34286, 20616, 334],\n",
       " 'SNR_L': [34058, 20419, 183],\n",
       " 'SNR_R': [37306, 23611, 334],\n",
       " 'Sp5C_L': [47688, 18170, 322],\n",
       " 'Sp5C_R': [51580, 14206, 296],\n",
       " 'Sp5I_L': [48060, 19124, 164],\n",
       " 'Sp5I_R': [47879, 17568, 335],\n",
       " 'Tz_L': [37209, 26989, 210],\n",
       " 'Tz_R': [39870, 26440, 270],\n",
       " 'VCA_L': [40659, 19143, 111],\n",
       " 'VCA_R': [36250, 14371, 370],\n",
       " 'VCP_L': [43397, 21497, 106],\n",
       " 'VCP_R': [40557, 19362, 375],\n",
       " 'VLL_L': [36574, 20803, 162],\n",
       " 'VLL_R': [34862, 21325, 335]}"
      ]
     },
     "execution_count": 3,
     "metadata": {},
     "output_type": "execute_result"
    }
   ],
   "source": [
    "with open('../data/DK52_coms_kui_detected.json', 'r') as f:\n",
    "    mov_coms = json.load(f)\n",
    "mov_coms"
   ]
  },
  {
   "cell_type": "markdown",
   "id": "e106acee-67bd-46a7-814b-84282a96eda1",
   "metadata": {},
   "source": [
    "## Load the Transformation"
   ]
  },
  {
   "cell_type": "code",
   "execution_count": 4,
   "id": "76037c38-9fe2-4624-a990-2e591bdaa56b",
   "metadata": {},
   "outputs": [
    {
     "name": "stdout",
     "output_type": "stream",
     "text": [
      "CPU times: user 460 µs, sys: 74 µs, total: 534 µs\n",
      "Wall time: 259 µs\n"
     ]
    }
   ],
   "source": [
    "%%time\n",
    "# We should really load the Demons transformation here.\n",
    "# But somehow in the next step,\n",
    "# transform.TransformPoint doesn't do anything,\n",
    "# if it is a Demons transformation.\n",
    "# This is an issue to be solved.\n",
    "# transform = sitk.ReadTransform(f'../data/automatic-alignment/{fix_brain}/1-demons.tfm')\n",
    "transform = sitk.ReadTransform(f'../data/automatic-alignment/{fix_brain}/1-affine.tfm')"
   ]
  },
  {
   "cell_type": "code",
   "execution_count": 5,
   "id": "7729499e-17c6-484a-b602-f152ab8e8a14",
   "metadata": {},
   "outputs": [
    {
     "name": "stdout",
     "output_type": "stream",
     "text": [
      "itk::simple::Transform\n",
      " AffineTransform (0x560b3b0bdf90)\n",
      "   RTTI typeinfo:   itk::AffineTransform<double, 3u>\n",
      "   Reference Count: 1\n",
      "   Modified Time: 674\n",
      "   Debug: Off\n",
      "   Object Name: \n",
      "   Observers: \n",
      "     none\n",
      "   Matrix: \n",
      "     0.970459 0.180948 -0.0253713 \n",
      "     -0.242278 1.01319 -0.0809535 \n",
      "     -0.00583195 0.0665768 1.03528 \n",
      "   Offset: [572.071, 3074.15, -148.14]\n",
      "   Center: [8767.2, 5194.8, 3910]\n",
      "   Translation: [1153.87, 702.022, 284.53]\n",
      "   Inverse: \n",
      "     0.986355 -0.176836 0.0103447 \n",
      "     0.235097 0.939791 0.0792482 \n",
      "     -0.00956231 -0.0614322 0.960884 \n",
      "   Singular: 0\n",
      "\n"
     ]
    }
   ],
   "source": [
    "print(transform)"
   ]
  },
  {
   "cell_type": "markdown",
   "id": "ab4820f5-e7c9-49c3-82df-72015d31c906",
   "metadata": {},
   "source": [
    "## Apply the Transformation"
   ]
  },
  {
   "cell_type": "code",
   "execution_count": 6,
   "id": "55219a45-5b16-49ef-8c19-16b7d0c7f8e0",
   "metadata": {},
   "outputs": [
    {
     "name": "stdout",
     "output_type": "stream",
     "text": [
      "CPU times: user 695 µs, sys: 109 µs, total: 804 µs\n",
      "Wall time: 500 µs\n"
     ]
    },
    {
     "data": {
      "text/plain": [
       "{'10N_L': (47710.73891813554, 9259.02323653446, 941.175201722139),\n",
       " '10N_R': (49726.87520229028, 7858.679684182105, 916.4611738760659),\n",
       " '12N': (49693.064843860135, 8900.244294823084, 968.1451858904907),\n",
       " '3N_L': (38479.79686294596, 9299.816648058426, 863.3686327056951),\n",
       " '3N_R': (38264.059945390094, 9295.738866245747, 870.3273832523066),\n",
       " '4N_L': (39732.54669935252, 8782.36430368043, 847.9567046300642),\n",
       " '4N_R': (39737.251342892225, 8808.70715684233, 849.6877021095916),\n",
       " '5N_L': (41837.69642801716, 14106.488097841791, 1144.7697811647358),\n",
       " '5N_R': (41409.53209185107, 12779.792603572401, 1213.87689786976),\n",
       " '6N_L': (43470.666156003696, 12873.815254122232, 1176.9163560638144),\n",
       " '6N_R': (43603.76052393092, 13065.713233638135, 1143.6775889058895),\n",
       " '7N_L': (48309.424017743244, 18290.44673073504, 1478.7483036601254),\n",
       " '7N_R': (36962.750993601505, 13480.270261957567, 1114.5000655480667),\n",
       " 'AP': (48810.25967037852, 9286.528786452565, 974.6898509833302),\n",
       " 'Amb_L': (47552.81421936894, 14814.854962245252, 1254.2172161466965),\n",
       " 'Amb_R': (46212.36374244421, 14782.294391826304, 1389.6986774225097),\n",
       " 'DC_L': (43805.54338730707, 10812.539725510826, 904.8474961855507),\n",
       " 'DC_R': (47290.79080814117, 10100.25433688561, 1132.3148974548744),\n",
       " 'IC': (33397.0391165506, 3880.085925588266, 476.6943761576125),\n",
       " 'LC_L': (42764.19691619658, 10309.578333604151, 923.7304135863315),\n",
       " 'LC_R': (42290.071543550504, 9244.075719425915, 946.6364845817827),\n",
       " 'LRt_L': (53451.74616850207, 16263.705095329937, 1425.3237465735228),\n",
       " 'LRt_R': (49829.66378747698, 16406.667825808967, 1516.0184404618897),\n",
       " 'PBG_L': (38041.306847863874, 10517.488746687133, 847.3535119040693),\n",
       " 'PBG_R': (37951.67424273647, 10151.971080516707, 1018.7460902579965),\n",
       " 'Pn_L': (40100.46316167049, 18692.818672027995, 1488.345722821304),\n",
       " 'Pn_R': (40141.72324720633, 21096.617051821202, 1718.4102100752057),\n",
       " 'RtTg': (44342.28295674847, 19018.795039150893, 1556.602715623931),\n",
       " 'SNC_L': (37661.97107165283, 16654.045165544438, 1265.047114531102),\n",
       " 'SNC_R': (37567.188712151576, 15628.228565738116, 1370.2372235759672),\n",
       " 'SNR_L': (37314.1083179498, 15496.094095776942, 1202.123913012399),\n",
       " 'SNR_R': (41039.91484672588, 17931.04385950517, 1552.0223159336847),\n",
       " 'Sp5C_L': (50130.99166017727, 9903.939261826863, 1116.8070891505272),\n",
       " 'Sp5C_R': (53191.40210812078, 4946.827196199829, 803.2812902858047),\n",
       " 'Sp5I_L': (50668.63545592299, 10793.182672433386, 1014.5775691294473),\n",
       " 'Sp5I_R': (50207.08898554886, 9246.67344995001, 1089.0725835569178),\n",
       " 'Tz_L': (41560.16809466805, 21387.127571717214, 1649.109747347953),\n",
       " 'Tz_R': (44041.697920611994, 20181.329838078032, 1659.1570718070159),\n",
       " 'VCA_L': (43491.048124997746, 12609.821255333738, 1004.1349538677525),\n",
       " 'VCA_R': (38342.23841734205, 8822.13008018375, 980.2810855616376),\n",
       " 'VCP_L': (46574.24400736454, 14331.910988168627, 1139.7125090837762),\n",
       " 'VCP_R': (43424.99080879571, 12835.04973778611, 1292.6242004258047),\n",
       " 'VLL_L': (39825.80093276514, 15277.287021008133, 1191.2753259666838),\n",
       " 'VLL_R': (38254.43996565992, 16206.94498011563, 1415.1162681812168)}"
      ]
     },
     "execution_count": 6,
     "metadata": {},
     "output_type": "execute_result"
    }
   ],
   "source": [
    "%%time\n",
    "fix_coms = {}\n",
    "for name, com in mov_coms.items():\n",
    "    fix_coms[name] = transform.TransformPoint(com)\n",
    "fix_coms"
   ]
  },
  {
   "cell_type": "markdown",
   "id": "f893e969-52a2-4833-891b-eaf506e854c8",
   "metadata": {},
   "source": [
    "## Save the Result\n",
    "We can save the result as a JOSN file (or any other format that's convenient to use). This file could be shared with Kui to seed the actual detection."
   ]
  },
  {
   "cell_type": "code",
   "execution_count": 7,
   "id": "48b43266-06e0-42b0-9a25-52a7db60bcbf",
   "metadata": {},
   "outputs": [],
   "source": [
    "with open(f'../data/automatic-alignment/{fix_brain}/2-initial-coms.json', 'w') as f:\n",
    "    json.dump(fix_coms, f, sort_keys=True, indent=4)"
   ]
  }
 ],
 "metadata": {
  "kernelspec": {
   "display_name": "Python 3",
   "language": "python",
   "name": "python3"
  },
  "language_info": {
   "codemirror_mode": {
    "name": "ipython",
    "version": 3
   },
   "file_extension": ".py",
   "mimetype": "text/x-python",
   "name": "python",
   "nbconvert_exporter": "python",
   "pygments_lexer": "ipython3",
   "version": "3.9.4"
  }
 },
 "nbformat": 4,
 "nbformat_minor": 5
}
