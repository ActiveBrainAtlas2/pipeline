{
 "cells": [
  {
   "cell_type": "code",
   "execution_count": 1,
   "metadata": {},
   "outputs": [],
   "source": [
    "import sys\n",
    "from pathlib import Path\n",
    "\n",
    "PIPELINE_ROOT = Path('.').absolute().parent\n",
    "sys.path.append(PIPELINE_ROOT.as_posix())"
   ]
  },
  {
   "cell_type": "code",
   "execution_count": 2,
   "metadata": {},
   "outputs": [
    {
     "name": "stdout",
     "output_type": "stream",
     "text": [
      "Connecting dklab@db.dk.ucsd.edu:3306\n"
     ]
    }
   ],
   "source": [
    "import numpy as np\n",
    "import requests\n",
    "\n",
    "from utilities.sqlcontroller import SqlController"
   ]
  },
  {
   "cell_type": "code",
   "execution_count": 5,
   "metadata": {},
   "outputs": [],
   "source": [
    "def get_transform(animal):\n",
    "    res = requests.get(f'https://activebrainatlas.ucsd.edu/activebrainatlas/alignatlas?animal={animal}')\n",
    "    r = np.array(res.json()['rotation'])\n",
    "    t = np.array(res.json()['translation'])\n",
    "    return r, t\n",
    "\n",
    "def transform_point_dataframe(\n",
    "    src_url_id=182,\n",
    "    src_animal='DK52',\n",
    "    src_scale=(0.325, 0.325, 20),\n",
    "    dst_animal='DK39',\n",
    "    dst_scale=(0.325, 0.325, 20),\n",
    "    layer='premotor'\n",
    "):\n",
    "    \"\"\"Transform coordinates from one animal brain to another.\n",
    "    \n",
    "    The transformation is from src coordinates to dst coordinates. \n",
    "    \"\"\"\n",
    "    src_scale = np.array(src_scale)\n",
    "    dst_scale = np.array(dst_scale)\n",
    "\n",
    "    # Get transformations from atlas to each animal\n",
    "    r_src, t_src = get_transform(src_animal)\n",
    "    r_dst, t_dst = get_transform(dst_animal)\n",
    "\n",
    "    # Get transformation from src to dst\n",
    "    r = r_dst @ np.linalg.inv(r_src)\n",
    "    t_phys = np.diag(dst_scale) @ t_dst - np.diag(src_scale) @ t_src\n",
    "\n",
    "    # Get src points data\n",
    "    sqlController = SqlController(src_animal)\n",
    "    df_src = sqlController.get_point_dataframe(src_url_id)\n",
    "    df_src = df_src[df_src['Layer'] == layer]\n",
    "\n",
    "    # Transform points from src to dst\n",
    "    x_src = df_src[['X', 'Y', 'Section']].to_numpy().T\n",
    "    x_src_phys = np.diag(src_scale) @ x_src\n",
    "    x_dst_phys = r @ x_src_phys + t_phys\n",
    "    x_dst = np.diag(1 / dst_scale) @ x_dst_phys\n",
    "    return x_dst"
   ]
  },
  {
   "cell_type": "code",
   "execution_count": 6,
   "metadata": {},
   "outputs": [
    {
     "data": {
      "text/plain": [
       "array([[29813.51783482, 19724.424011  ,   235.45752087],\n",
       "       [30305.897857  , 18557.92565718,   227.92850872],\n",
       "       [30900.35589941, 18902.60971262,   225.95614745],\n",
       "       ...,\n",
       "       [30363.71514167, 19000.82435774,   228.060085  ],\n",
       "       [38438.55267167, 19657.49554538,   272.55131747],\n",
       "       [38819.48106832, 20039.77589175,   273.20326571]])"
      ]
     },
     "execution_count": 6,
     "metadata": {},
     "output_type": "execute_result"
    }
   ],
   "source": [
    "x_dst = transform_point_dataframe()\n",
    "x_dst.T"
   ]
  }
 ],
 "metadata": {
  "kernelspec": {
   "display_name": "Python 3",
   "language": "python",
   "name": "python3"
  },
  "language_info": {
   "codemirror_mode": {
    "name": "ipython",
    "version": 3
   },
   "file_extension": ".py",
   "mimetype": "text/x-python",
   "name": "python",
   "nbconvert_exporter": "python",
   "pygments_lexer": "ipython3",
   "version": "3.7.7"
  }
 },
 "nbformat": 4,
 "nbformat_minor": 4
}
