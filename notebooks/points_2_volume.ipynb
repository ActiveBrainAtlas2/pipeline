{
 "cells": [
  {
   "cell_type": "code",
   "execution_count": null,
   "metadata": {},
   "outputs": [],
   "source": [
    "import os, sys\n",
    "import pandas as pd\n",
    "import numpy as np\n",
    "import cv2\n",
    "import shutil\n",
    "import struct"
   ]
  },
  {
   "cell_type": "code",
   "execution_count": null,
   "metadata": {},
   "outputs": [],
   "source": [
    "HOME = os.path.expanduser(\"~\")\n",
    "PATH = os.path.join(HOME, 'programming/pipeline_utility')\n",
    "sys.path.append(PATH)\n",
    "from utilities.file_location import FileLocationManager"
   ]
  },
  {
   "cell_type": "code",
   "execution_count": null,
   "metadata": {},
   "outputs": [],
   "source": [
    "DATA_PATH = '/net/birdstore/Active_Atlas_Data/data_root'\n",
    "csvfile = os.path.join(DATA_PATH, 'atlas_data', 'DK52.all.csv')\n",
    "DK52_df = pd.read_csv(csvfile, dtype={'Layer':'str', 'X':np.uint16, 'Y':np.uint16,'Section':np.uint16})\n",
    "DK52_df = DK52_df.loc[DK52_df['Layer'] == 'PM nucleus']\n",
    "animal = 'DK52'\n",
    "outpath = os.path.join(DATA_PATH, 'atlas_data', 'DK52.PM.Nucleus.csv')\n",
    "DK52_df.to_csv(outpath, index=False)\n",
    "fileLocationManager = FileLocationManager(animal)\n",
    "OUTPUT_DIR = os.path.join(fileLocationManager.neuroglancer_data, 'points')\n",
    "if os.path.exists(OUTPUT_DIR):\n",
    "    shutil.rmtree(OUTPUT_DIR)\n",
    "os.makedirs(OUTPUT_DIR, exist_ok=True)"
   ]
  },
  {
   "cell_type": "code",
   "execution_count": null,
   "metadata": {},
   "outputs": [],
   "source": [
    "coordinates = []\n",
    "for index, row in DK52_df.iterrows():\n",
    "    x = row['X']\n",
    "    y = row['Y']\n",
    "    z = row['Section']\n",
    "    coordinates.append((x,y,z))"
   ]
  },
  {
   "cell_type": "markdown",
   "metadata": {},
   "source": [
    "1. This takes the coordinates and packs them into a binary file, \n",
    "2. see https://github.com/google/neuroglancer/issues/227\n",
    "3. Create a dir on birdstore called points\n",
    "4. put the info file under points/info\n",
    "5. create the binary file and put in points/spatial0/0_0_0"
   ]
  },
  {
   "cell_type": "code",
   "execution_count": null,
   "metadata": {},
   "outputs": [],
   "source": [
    "spatial_dir = os.path.join(OUTPUT_DIR, 'spatial0')\n",
    "os.makedirs(spatial_dir)\n",
    "\n",
    "with open(os.path.join(spatial_dir, '0_0_0'), 'wb') as outfile:\n",
    "    total_count=len(coordinates) # coordinates is a list of tuples (x,y,z) \n",
    "    buf = struct.pack('<Q',total_count)\n",
    "    for (x,y,z) in coordinates:\n",
    "        pt_buf = struct.pack('<3f',x,y,z)\n",
    "        buf+=pt_buf\n",
    "    # write the ids at the end of the buffer as increasing integers \n",
    "    id_buf = struct.pack('<%sQ' % len(coordinates), *range(len(coordinates)))\n",
    "    buf+=id_buf\n",
    "    outfile.write(buf)"
   ]
  }
 ],
 "metadata": {
  "kernelspec": {
   "display_name": "Python 3",
   "language": "python",
   "name": "python3"
  },
  "language_info": {
   "codemirror_mode": {
    "name": "ipython",
    "version": 3
   },
   "file_extension": ".py",
   "mimetype": "text/x-python",
   "name": "python",
   "nbconvert_exporter": "python",
   "pygments_lexer": "ipython3",
   "version": "3.8.5"
  }
 },
 "nbformat": 4,
 "nbformat_minor": 4
}
