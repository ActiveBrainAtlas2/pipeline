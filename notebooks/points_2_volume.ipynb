{
 "cells": [
  {
   "cell_type": "code",
   "execution_count": null,
   "metadata": {},
   "outputs": [],
   "source": [
    "import os\n",
    "import struct\n",
    "import sys\n",
    "import numpy as np\n",
    "import shutil\n",
    "import requests\n",
    "from timeit import default_timer as timer\n",
    "HOME = os.path.expanduser(\"~\")\n",
    "PATH = os.path.join(HOME, 'programming/pipeline_utility')\n",
    "sys.path.append(PATH)\n",
    "from utilities.sqlcontroller import SqlController\n",
    "from utilities.file_location import FileLocationManager\n",
    "from utilities.utilities_affine import DATA_PATH"
   ]
  },
  {
   "cell_type": "code",
   "execution_count": null,
   "metadata": {},
   "outputs": [],
   "source": [
    "animal = 'DK39'\n",
    "fileLocationManager = FileLocationManager(animal)\n",
    "sqlController = SqlController(animal)\n",
    "resolution = sqlController.scan_run.resolution\n",
    "src_url_id = 182 # DK52 this needs to be turned into a variable or looked up somehow\n",
    "# Get src points data\n",
    "df = sqlController.get_point_dataframe(src_url_id)\n",
    "df = df[df['Layer'] == 'premotor']"
   ]
  },
  {
   "cell_type": "code",
   "execution_count": null,
   "metadata": {},
   "outputs": [],
   "source": [
    "df.head(2)"
   ]
  },
  {
   "cell_type": "code",
   "execution_count": null,
   "metadata": {},
   "outputs": [],
   "source": [
    "records = df[['X', 'Y', 'Section']].to_records(index=False)\n",
    "result = list(records)"
   ]
  },
  {
   "cell_type": "code",
   "execution_count": null,
   "metadata": {},
   "outputs": [],
   "source": [
    "for x,y,z in records:\n",
    "    print(x,y,z)"
   ]
  }
 ],
 "metadata": {
  "kernelspec": {
   "display_name": "Python 3",
   "language": "python",
   "name": "python3"
  },
  "language_info": {
   "codemirror_mode": {
    "name": "ipython",
    "version": 3
   },
   "file_extension": ".py",
   "mimetype": "text/x-python",
   "name": "python",
   "nbconvert_exporter": "python",
   "pygments_lexer": "ipython3",
   "version": "3.8.5"
  }
 },
 "nbformat": 4,
 "nbformat_minor": 4
}
