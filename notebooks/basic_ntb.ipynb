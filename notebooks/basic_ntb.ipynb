{
 "cells": [
  {
   "cell_type": "code",
   "execution_count": null,
   "metadata": {},
   "outputs": [],
   "source": [
    "import numpy as np\n",
    "import matplotlib\n",
    "from matplotlib import pyplot as plt\n",
    "from matplotlib import rcParams\n",
    "from skimage import io\n",
    "from os.path import expanduser\n",
    "from tqdm import tqdm\n",
    "HOME = expanduser(\"~\")\n",
    "import os, sys\n",
    "import cv2\n",
    "import nipy\n",
    "from nipy.labs.mask import compute_mask\n",
    "from skimage import exposure, img_as_float\n",
    "from skimage.exposure import rescale_intensity, adjust_gamma, equalize_adapthist\n",
    "from scipy import stats\n",
    "import pandas as pd\n",
    "%load_ext autoreload\n",
    "%autoreload 2"
   ]
  },
  {
   "cell_type": "code",
   "execution_count": null,
   "metadata": {},
   "outputs": [],
   "source": [
    "animal = 'DK41'\n",
    "DIR = f'/net/birdstore/Active_Atlas_Data/data_root/pipeline_data/{animal}'\n",
    "INPUT = os.path.join(DIR, 'preps', 'CH1', 'thumbnail')\n",
    "MASK = os.path.join(DIR, 'preps','thumbnail_masked')\n",
    "masks = sorted(os.listdir(MASK))\n",
    "files = sorted(os.listdir(INPUT))"
   ]
  },
  {
   "cell_type": "code",
   "execution_count": null,
   "metadata": {},
   "outputs": [],
   "source": [
    "PATH = '/home/eddyod/programming/pipeline_utility'\n",
    "sys.path.append(PATH)\n",
    "from utilities.utilities_mask import trim_edges, create_mask_pass1, fix_with_fill, equalized\n",
    "from utilities.sqlcontroller import SqlController\n",
    "sqlController = SqlController(animal)"
   ]
  },
  {
   "cell_type": "code",
   "execution_count": null,
   "metadata": {},
   "outputs": [],
   "source": [
    "bad = []\n",
    "bads = ['{}.tif'.format(str(i).zfill(3)) for i in bad]\n",
    "print(f'Need to manually fix {len(bads)} files or %{100*len(bads)/len(files)}')"
   ]
  },
  {
   "cell_type": "code",
   "execution_count": null,
   "metadata": {},
   "outputs": [],
   "source": [
    "names = []\n",
    "norms = []\n",
    "masks1 = []\n",
    "passes1 = []\n",
    "masks2 = []\n",
    "passes2 = []\n",
    "start, finish = (20,30)\n",
    "lowVal, highVal, threshold = (0,0,0)\n",
    "\n",
    "for file in tqdm(files[start:finish]):\n",
    "    infile = os.path.join(INPUT, file)\n",
    "    img = io.imread(infile)\n",
    "    normed = equalized(img)\n",
    "    img8 = (normed/256).astype('uint8')\n",
    "\n",
    "    #gamma_corrected = exposure.adjust_gamma(img, 2)\n",
    "    norms.append(normed)\n",
    "    img = trim_edges(img)\n",
    "    mask1 = create_mask_pass1(img)\n",
    "    pass1 = cv2.bitwise_and(img, img, mask=mask1)\n",
    "    masks1.append(mask1)    \n",
    "    passes1.append(img2)\n",
    "    ## pass2\n",
    "    pass1 = cv2.GaussianBlur(pass1,(33,33),0)\n",
    "    mask2, lowVal, highVal, threshold = fix_with_fill(pass1, debug=True)\n",
    "    #mask2 = mask1\n",
    "    pass2 = cv2.bitwise_and(img, img, mask=mask2)\n",
    "    masks2.append(mask2)\n",
    "    passes2.append(pass2)\n",
    "    name = f'{file} {round(lowVal)} {round(highVal)} {round(threshold)}'\n",
    "    names.append(name)\n",
    "    \n",
    "fig, ax = plt.subplots(nrows=len(masks1), ncols=5, sharex=False, sharey=False)\n",
    "plt.style.use('classic')\n",
    "i = 0\n",
    "for name, norm, mask1, pass1, mask2, pass2 in zip(names, norms, masks1, passes1, masks2, passes2):\n",
    "    ax[i,0].set_title(f'{name}')\n",
    "    ax[i,0].imshow(norm, cmap=\"gray\")\n",
    "    ax[i,1].set_title('1st pass mask')\n",
    "    ax[i,1].imshow(mask1, cmap=\"gray\")\n",
    "    ax[i,2].set_title('1st pass img')\n",
    "    ax[i,2].imshow(pass1, cmap=\"gray\")\n",
    "    ax[i,3].set_title('2nd pass mask')\n",
    "    ax[i,3].imshow(mask2, cmap=\"gray\")\n",
    "    ax[i,4].set_title('2nd pass img')\n",
    "    ax[i,4].imshow(pass2, cmap=\"gray\")\n",
    "\n",
    "    i += 1\n",
    "fig.set_size_inches(np.array([18, 4 * len(names)]), forward=False)\n",
    "plt.tight_layout()\n",
    "plt.show()"
   ]
  },
  {
   "cell_type": "code",
   "execution_count": null,
   "metadata": {},
   "outputs": [],
   "source": [
    "def get_binary_mask(img):\n",
    "    '''\n",
    "    Turn the RGB image into grayscale before\n",
    "    applying an Otsu threshold to obtain a\n",
    "    binary segmentation\n",
    "    '''\n",
    "    img8 = (img/256).astype('uint8')\n",
    "    blurred_img = cv2.GaussianBlur(img8,(225,225),0)\n",
    "    #return blurred_img\n",
    "    #gray_img = cv2.cvtColor(blurred_img, cv2.COLOR_RGBA2GRAY)\n",
    "    gray_img = blurred_img.copy()\n",
    "    ret, otsu = cv2.threshold(gray_img, 0, 255, cv2.THRESH_BINARY+cv2.THRESH_OTSU)\n",
    "    \n",
    "    kernel = np.ones((40,40),np.uint8)\n",
    "    closed_mask = cv2.morphologyEx(otsu, cv2.MORPH_CLOSE, kernel)\n",
    "    return closed_mask"
   ]
  },
  {
   "cell_type": "code",
   "execution_count": null,
   "metadata": {
    "scrolled": true
   },
   "outputs": [],
   "source": [
    "# 181, very dark\n",
    "# 381, kinda light\n",
    "file = '281.tif' \n",
    "infile = os.path.join(INPUT, file)\n",
    "img = io.imread(infile)\n",
    "img = trim_edges(img)\n",
    "normed = equalized(img)\n",
    "#maskfile = os.path.join(MASK, file)\n",
    "#mask1 = io.imread(maskfile)\n",
    "mask1 = create_mask_pass1(img)\n",
    "img = cv2.bitwise_and(img, img, mask=mask1)\n",
    "\n",
    "mask2 = get_binary_mask(img)\n",
    "fixed = cv2.bitwise_and(img, img, mask=mask2)\n",
    "fixed = equalize_adapthist(fixed)\n",
    "#fixed = linnorm(fixed, 43000, mask1)\n",
    "#rescaled = rescale_intensity(fixed.astype(np.float), (0,43000), (0, 2**16-1)).astype(np.uint16)\n",
    "#clahe = cv2.createCLAHE(clipLimit=40.0, tileGridSize=(8, 8))\n",
    "#fixed = clahe.apply(fixed)\n",
    "# figure size in inches optional\n",
    "rcParams['figure.figsize'] = 18 ,18\n",
    "\n",
    "# display images\n",
    "fig, ax = plt.subplots(1,3)\n",
    "ax[0].imshow(normed, cmap=\"gray\");\n",
    "ax[0].set_title('original')\n",
    "ax[1].imshow(mask2, cmap=\"gray\");\n",
    "ax[1].set_title('mask2')\n",
    "ax[2].imshow(fixed, cmap=\"gray\");\n",
    "ax[2].set_title('fixed')\n"
   ]
  }
 ],
 "metadata": {
  "kernelspec": {
   "display_name": "Python 3",
   "language": "python",
   "name": "python3"
  },
  "language_info": {
   "codemirror_mode": {
    "name": "ipython",
    "version": 3
   },
   "file_extension": ".py",
   "mimetype": "text/x-python",
   "name": "python",
   "nbconvert_exporter": "python",
   "pygments_lexer": "ipython3",
   "version": "3.8.5"
  }
 },
 "nbformat": 4,
 "nbformat_minor": 4
}
