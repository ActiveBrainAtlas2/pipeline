{
 "cells": [
  {
   "cell_type": "code",
   "execution_count": 1,
   "metadata": {},
   "outputs": [],
   "source": [
    "import numpy as np\n",
    "import matplotlib\n",
    "import math\n",
    "from matplotlib import pyplot as plt\n",
    "from matplotlib import rcParams\n",
    "from skimage import io\n",
    "from os.path import expanduser\n",
    "from tqdm import tqdm\n",
    "HOME = expanduser(\"~\")\n",
    "import os, sys\n",
    "import cv2\n",
    "from PIL import Image\n",
    "from matplotlib.pyplot import imshow\n",
    "#import nipy\n",
    "from nipy.labs.mask import compute_mask\n",
    "from skimage import exposure, img_as_float\n",
    "from skimage.exposure import rescale_intensity, adjust_gamma, equalize_adapthist\n",
    "#from scipy import stats\n",
    "#import pandas as pd\n",
    "import tifffile as tiff\n",
    "\n",
    "%load_ext autoreload\n",
    "%autoreload 2"
   ]
  },
  {
   "cell_type": "code",
   "execution_count": 2,
   "metadata": {},
   "outputs": [],
   "source": [
    "animal = 'CHATM2'\n",
    "DIR = f'/net/birdstore/Active_Atlas_Data/data_root/pipeline_data/{animal}'\n",
    "INPUT = os.path.join(DIR, 'preps', 'CH0', 'full')\n",
    "files = sorted(os.listdir(INPUT))"
   ]
  },
  {
   "cell_type": "code",
   "execution_count": 3,
   "metadata": {},
   "outputs": [],
   "source": [
    "PATH = '/home/eddyod/programming/pipeline_utility'\n",
    "sys.path.append(PATH)\n",
    "from utilities.utilities_mask import trim_edges, fix_with_fill, get_binary_mask, scaled, equalized, fix_with_blob,create_mask_pass1\n",
    "from utilities.sqlcontroller import SqlController\n",
    "sqlController = SqlController(animal)"
   ]
  },
  {
   "cell_type": "code",
   "execution_count": null,
   "metadata": {},
   "outputs": [],
   "source": [
    "bad = []\n",
    "bads = ['{}.tif'.format(str(i).zfill(3)) for i in bad]\n",
    "print(f'Need to manually fix {len(bads)} files or %{100*len(bads)/len(files)}')"
   ]
  },
  {
   "cell_type": "code",
   "execution_count": null,
   "metadata": {},
   "outputs": [],
   "source": [
    "names = []\n",
    "norms = []\n",
    "masks = []\n",
    "fixes = []\n",
    "start, finish = (0,10)\n",
    "lowVal, highVal, threshold = (0,0,0)\n",
    "\n",
    "for file in tqdm(files[start:finish]):\n",
    "    infile = os.path.join(INPUT, file)\n",
    "    #img = io.imread(infile, plugin='matplotlib')\n",
    "    img = io.imread(infile)\n",
    "    orig = img.copy()\n",
    "    #img = trim_edges(img)\n",
    "    normed = equalized(orig)\n",
    "    norms.append(orig)\n",
    "    \n",
    "    mask1 = create_mask_pass1(img)\n",
    "    pass1 = cv2.bitwise_and(img, img, mask=mask1)\n",
    "    ## pass2\n",
    "    pass1 = cv2.GaussianBlur(pass1,(133,133),0)\n",
    "    #mask2 = fix_with_fill(pass1)    \n",
    "    mask3 = get_binary_mask(img)\n",
    "    fixed = cv2.bitwise_and(img, img, mask=mask3)\n",
    "    #fixed = scaled(fixed, mask2)\n",
    "    #fixed = equalized(fixed)\n",
    "    masks.append(mask3)    \n",
    "    name = f'{file} {round(lowVal)} {round(highVal)} {round(threshold)}'\n",
    "    names.append(name)\n",
    "    fixes.append(fixed)\n",
    "    \n",
    "fig, ax = plt.subplots(nrows=len(names), ncols=3, sharex=False, sharey=False)\n",
    "plt.style.use('classic')\n",
    "i = 0\n",
    "for name, norm, mask, fixed in zip(names, norms, masks, fixes):\n",
    "    ax[i,0].set_title(f'{name}')\n",
    "    ax[i,0].imshow(norm, cmap=\"gray\")\n",
    "    ax[i,1].set_title('mask')\n",
    "    ax[i,1].imshow(mask, cmap=\"gray\")\n",
    "    ax[i,2].set_title('fixed img')\n",
    "    ax[i,2].imshow(fixed, cmap=\"gray\")\n",
    "\n",
    "    i += 1\n",
    "fig.set_size_inches(np.array([18, 4 * len(names)]), forward=False)\n",
    "plt.tight_layout()\n",
    "plt.show()"
   ]
  },
  {
   "cell_type": "code",
   "execution_count": null,
   "metadata": {},
   "outputs": [],
   "source": [
    "for file in tqdm(files):\n",
    "    infile = os.path.join(INPUT, file)\n",
    "    img = io.imread(infile)\n",
    "    mask = compute_mask(img, m=0.2, M=0.9, cc=False, opening=2, exclude_zeros=True)\n",
    "    mask = mask.astype(int)\n",
    "    mask[mask==0] = 0\n",
    "    mask[mask==1] = 255\n",
    "    kernel = np.ones((5, 5), np.uint8)\n",
    "    mask = cv2.dilate(mask.astype(np.uint8), kernel, iterations=2)\n",
    "    mask = mask.astype(np.uint8)\n",
    "    fixed = cv2.bitwise_and(img, img, mask=mask)\n"
   ]
  },
  {
   "cell_type": "code",
   "execution_count": 5,
   "metadata": {},
   "outputs": [
    {
     "data": {
      "text/plain": [
       "-1"
      ]
     },
     "execution_count": 5,
     "metadata": {},
     "output_type": "execute_result"
    }
   ],
   "source": [
    "cv2.IMREAD_UNCHANGED"
   ]
  },
  {
   "cell_type": "code",
   "execution_count": 8,
   "metadata": {
    "scrolled": true
   },
   "outputs": [
    {
     "name": "stdout",
     "output_type": "stream",
     "text": [
      "<class 'numpy.ndarray'>\n",
      "cv2 (9342, 14886) uint16 2\n"
     ]
    },
    {
     "data": {
      "text/plain": [
       "'\\nmask = compute_mask(img, m=0.2, M=0.9, cc=False, opening=2, exclude_zeros=True)\\nmask = mask.astype(int)\\nmask[mask==0] = 0\\nmask[mask==1] = 255\\nkernel = np.ones((5, 5), np.uint8)\\nmask = cv2.dilate(mask.astype(np.uint8), kernel, iterations=2)\\nmask = mask.astype(np.uint8)\\n\\n#fixed = img.copy()\\nprint(mask.shape, mask.dtype)\\n#fixed[fixed < 50] = 0\\nfixed = cv2.bitwise_and(img, img, mask=mask)\\n\\n\\n# figure size in inches optional\\nrcParams[\\'figure.figsize\\'] = 18 ,18\\nfig, ax = plt.subplots(1,2)\\nax[0].imshow(img, cmap=\"gray\");\\nax[0].set_title(\\'original\\')\\nax[1].imshow(fixed, cmap=\"gray\");\\nax[1].set_title(\\'fixed\\')\\n'"
      ]
     },
     "execution_count": 8,
     "metadata": {},
     "output_type": "execute_result"
    }
   ],
   "source": [
    "# 181, very dark\n",
    "# 381, kinda light\n",
    "file = '000.50.tif' \n",
    "infile = os.path.join(INPUT, file)\n",
    "\n",
    "#img = tiff.imread(infile)\n",
    "#print('tifffile', img.shape, img.dtype, img.ndim)\n",
    "#del img\n",
    "#img = io.imread(infile, plugin='tifffile')\n",
    "#print('io tiff', img.shape, img.dtype, img.ndim)\n",
    "#del img\n",
    "img = cv2.imread(infile, cv2.IMREAD_UNCHANGED)\n",
    "print(type(img))\n",
    "print('cv2', img.shape, img.dtype, img.ndim)\n",
    "del img\n",
    "\n",
    "\n",
    "\n",
    "#ch1 = img[:,:,0]\n",
    "#ch2 = img[:,:,1]\n",
    "#ch3 = img[:,:,2]\n",
    "#print('ch1',ch1.shape, ch1.dtype)\n",
    "#print('ch2',ch2.shape, ch2.dtype)\n",
    "#print('ch3',ch3.shape, ch3.dtype)\n",
    "\n",
    "\"\"\"\n",
    "mask = compute_mask(img, m=0.2, M=0.9, cc=False, opening=2, exclude_zeros=True)\n",
    "mask = mask.astype(int)\n",
    "mask[mask==0] = 0\n",
    "mask[mask==1] = 255\n",
    "kernel = np.ones((5, 5), np.uint8)\n",
    "mask = cv2.dilate(mask.astype(np.uint8), kernel, iterations=2)\n",
    "mask = mask.astype(np.uint8)\n",
    "\n",
    "#fixed = img.copy()\n",
    "print(mask.shape, mask.dtype)\n",
    "#fixed[fixed < 50] = 0\n",
    "fixed = cv2.bitwise_and(img, img, mask=mask)\n",
    "\n",
    "\n",
    "# figure size in inches optional\n",
    "rcParams['figure.figsize'] = 18 ,18\n",
    "fig, ax = plt.subplots(1,2)\n",
    "ax[0].imshow(img, cmap=\"gray\");\n",
    "ax[0].set_title('original')\n",
    "ax[1].imshow(fixed, cmap=\"gray\");\n",
    "ax[1].set_title('fixed')\n",
    "\"\"\"\n"
   ]
  }
 ],
 "metadata": {
  "kernelspec": {
   "display_name": "Python 3",
   "language": "python",
   "name": "python3"
  },
  "language_info": {
   "codemirror_mode": {
    "name": "ipython",
    "version": 3
   },
   "file_extension": ".py",
   "mimetype": "text/x-python",
   "name": "python",
   "nbconvert_exporter": "python",
   "pygments_lexer": "ipython3",
   "version": "3.8.5"
  }
 },
 "nbformat": 4,
 "nbformat_minor": 4
}
