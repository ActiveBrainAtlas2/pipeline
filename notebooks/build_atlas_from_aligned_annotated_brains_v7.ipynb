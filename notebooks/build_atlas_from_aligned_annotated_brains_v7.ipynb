{
 "cells": [
  {
   "cell_type": "code",
   "execution_count": 1,
   "metadata": {
    "scrolled": true
   },
   "outputs": [],
   "source": [
    "import os,sys\n",
    "from collections import defaultdict\n",
    "import json\n",
    "import numpy as np\n",
    "import pickle\n",
    "from skimage import io\n",
    "import matplotlib\n",
    "import pandas as pd\n",
    "from matplotlib import pyplot as plt\n",
    "from scipy.ndimage.morphology import distance_transform_edt\n",
    "%load_ext autoreload\n",
    "%autoreload 2"
   ]
  },
  {
   "cell_type": "code",
   "execution_count": 31,
   "metadata": {},
   "outputs": [],
   "source": [
    "PATH = '/home/eddyod/programming/pipeline_utility'\n",
    "MESH_DIR = '/net/birdstore/Active_Atlas_Data/data_root/CSHL_meshes'\n",
    "VOL_DIR = '/net/birdstore/Active_Atlas_Data/data_root/CSHL_volumes'\n",
    "sys.path.append(PATH)\n",
    "from utilities.sqlcontroller import SqlController\n",
    "from utilities.imported_atlas_utilities import load_original_volume_all_known_structures_v3, get_centroid_3d, \\\n",
    "    load_alignment_results_v3, transform_points, average_location, \\\n",
    "    convert_to_original_name, name_unsided_to_color, paired_structures, \\\n",
    "    convert_to_left_name, convert_to_right_name, load_original_volume_v2, save_alignment_results_v3, \\\n",
    "    convert_transform_forms, transform_volume_v4, volume_to_polydata, singular_structures, \\\n",
    "    MESH_DIR, average_shape, convert_to_surround_name, mirror_volume_v2, save_original_volume, \\\n",
    "    save_mesh_stl, get_surround_volume_v2, transform_volume_v4, high_contrast_colors, \\\n",
    "    plot_centroid_means_and_covars_3d, all_known_structures_sided, load_data, \\\n",
    "    get_instance_mesh_filepath, images_to_volume_v2, find_contour_points, load_cropbox_v2, \\\n",
    "    load_mean_shape, \\\n",
    "    display_volume_sections, get_structure_mean_positions_filepath, all_known_structures_unsided_including_surround_200um\n",
    "from utilities.aligner_v3 import Aligner\n",
    "from utilities.alignment_utility import convert_resolution_string_to_um\n",
    "from utilities.conversion import *\n",
    "from utilities.utilities_view import launch_vtk, add_axes"
   ]
  },
  {
   "cell_type": "code",
   "execution_count": 3,
   "metadata": {},
   "outputs": [],
   "source": [
    "INPUT_KEY_LOC = os.path.join(PATH, 'neuroglancer', 'structure_key_minimal.json')\n",
    "NUM_STRUCTS = 49\n",
    "with open(INPUT_KEY_LOC, 'r') as f:\n",
    "    structures = json.load(f)\n",
    "structures = list(structures.values())\n",
    "#structures = structures[0:9]"
   ]
  },
  {
   "cell_type": "code",
   "execution_count": null,
   "metadata": {},
   "outputs": [],
   "source": [
    "structures = ['IC', 'SC']"
   ]
  },
  {
   "cell_type": "code",
   "execution_count": 4,
   "metadata": {},
   "outputs": [],
   "source": [
    "atlas_name = 'atlasV7'\n",
    "fixed_brain_name = 'MD589'\n",
    "moving_brain_names = ['MD585', 'MD594']\n",
    "resolution = '10.0um'\n",
    "resolution_um = 10.0\n",
    "structure_centroids_all_brains_um_wrt_fixed = []\n",
    "fixed_brain_spec = {'name': fixed_brain_name, 'vol_type': 'annotationAsScore', 'resolution': resolution}"
   ]
  },
  {
   "cell_type": "code",
   "execution_count": 5,
   "metadata": {
    "scrolled": true
   },
   "outputs": [],
   "source": [
    "fixed_brain = load_original_volume_all_known_structures_v3(stack_spec=fixed_brain_spec, structures=structures, \n",
    "                                                           in_bbox_wrt='wholebrain')\n",
    "fixed_brain_structure_centroids = get_centroid_3d(fixed_brain)\n",
    "fixed_brain_structure_centroids_um = {s: c * resolution_um for s, c in fixed_brain_structure_centroids.items()}\n",
    "structure_centroids_all_brains_um_wrt_fixed.append(fixed_brain_structure_centroids_um)"
   ]
  },
  {
   "cell_type": "markdown",
   "metadata": {},
   "source": [
    "## Compute instance centroids"
   ]
  },
  {
   "cell_type": "code",
   "execution_count": 6,
   "metadata": {
    "scrolled": true
   },
   "outputs": [
    {
     "name": "stdout",
     "output_type": "stream",
     "text": [
      "Brain {'name': 'MD585', 'vol_type': 'annotationAsScore', 'resolution': '10.0um'}\n",
      "Brain {'name': 'MD594', 'vol_type': 'annotationAsScore', 'resolution': '10.0um'}\n"
     ]
    }
   ],
   "source": [
    "for brain_m in moving_brain_names:\n",
    "    moving_brain_spec = {'name': brain_m, 'vol_type': 'annotationAsScore', 'resolution': resolution}\n",
    "    print('Brain', moving_brain_spec)\n",
    "    moving_brain = load_original_volume_all_known_structures_v3(stack_spec=moving_brain_spec, \n",
    "                                                                structures=structures, in_bbox_wrt='wholebrain')\n",
    "    alignment_spec = dict(stack_m=moving_brain_spec, stack_f=fixed_brain_spec, warp_setting=109)\n",
    "    moving_brain_structure_centroids_input_resol = get_centroid_3d(moving_brain)\n",
    "    # Load registration.\n",
    "    # Alignment results fp: os.path.join(reg_root_dir, alignment_spec['stack_m']['name'], warp_basename, warp_basename + '_' + what + '.' + ext)\n",
    "    transform_parameters_moving_brain_to_fixed_brain = load_alignment_results_v3(alignment_spec=alignment_spec, what='parameters')\n",
    "    # Transform moving brains into alignment with the fixed brain.\n",
    "    transformed_moving_brain_structure_centroids_input_resol_wrt_fixed = \\\n",
    "    dict(list(zip(list(moving_brain_structure_centroids_input_resol.keys()),\n",
    "                  transform_points(pts=list(moving_brain_structure_centroids_input_resol.values()),\n",
    "                                   transform=transform_parameters_moving_brain_to_fixed_brain))))\n",
    "\n",
    "    transformed_moving_brain_structure_centroids_um_wrt_fixed = \\\n",
    "        {s: c * resolution_um for s, c in\n",
    "        list(transformed_moving_brain_structure_centroids_input_resol_wrt_fixed.items())}\n",
    "\n",
    "    structure_centroids_all_brains_um_wrt_fixed.append(transformed_moving_brain_structure_centroids_um_wrt_fixed)\n"
   ]
  },
  {
   "cell_type": "code",
   "execution_count": 7,
   "metadata": {},
   "outputs": [],
   "source": [
    "structure_centroids_all_brains_um_grouped_by_structure_wrt_fixed = defaultdict(list)\n",
    "for sc in structure_centroids_all_brains_um_wrt_fixed:\n",
    "    for k, c in sc.items():\n",
    "        structure_centroids_all_brains_um_grouped_by_structure_wrt_fixed[k].append(c)\n",
    "structure_centroids_all_brains_um_grouped_by_structure_wrt_fixed.default_factory = None"
   ]
  },
  {
   "cell_type": "markdown",
   "metadata": {},
   "source": [
    "## Compute standard centroids"
   ]
  },
  {
   "cell_type": "code",
   "execution_count": 8,
   "metadata": {},
   "outputs": [
    {
     "name": "stdout",
     "output_type": "stream",
     "text": [
      "PBG Mid-sagittal plane normal vector = [ 0.03060831 -0.09308818  0.99518728]\n",
      "Mid-sagittal plane anchor wrt fixed wholebrain = [11866.90779861  5625.28799858  4664.04047394]\n"
     ]
    }
   ],
   "source": [
    "nominal_centroids_wrt_canonicalAtlasSpace_um, \\\n",
    "instance_centroids_wrt_canonicalAtlasSpace_um, \\\n",
    "canonical_center_wrt_fixed_um, \\\n",
    "canonical_normal, \\\n",
    "transform_matrix_to_canonicalAtlasSpace_um = \\\n",
    "average_location(structure_centroids_all_brains_um_grouped_by_structure_wrt_fixed)"
   ]
  },
  {
   "cell_type": "code",
   "execution_count": 9,
   "metadata": {},
   "outputs": [],
   "source": [
    "colors = {name_s: np.array(name_unsided_to_color[convert_to_original_name(name_s)])/255.\n",
    "                                        for name_s in instance_centroids_wrt_canonicalAtlasSpace_um.keys()}"
   ]
  },
  {
   "cell_type": "code",
   "execution_count": null,
   "metadata": {},
   "outputs": [],
   "source": [
    "colors"
   ]
  },
  {
   "cell_type": "code",
   "execution_count": 11,
   "metadata": {},
   "outputs": [
    {
     "name": "stderr",
     "output_type": "stream",
     "text": [
      "No handles with labels found to put in legend.\n"
     ]
    },
    {
     "data": {
      "image/png": "[encoded data removed]",
      "text/plain": [
       "<Figure size 1440x1440 with 1 Axes>"
      ]
     },
     "metadata": {
      "needs_background": "light"
     },
     "output_type": "display_data"
    }
   ],
   "source": [
    "plot_centroid_means_and_covars_3d(instance_centroids=instance_centroids_wrt_canonicalAtlasSpace_um,\n",
    "                                 nominal_locations=nominal_centroids_wrt_canonicalAtlasSpace_um,\n",
    "                                 canonical_centroid=(0,0,0),\n",
    "                                  show_canonical_centroid=True,\n",
    "                                  canonical_normal=[0,0,1],\n",
    "                                 colors=colors,\n",
    "                                 xlim=[-3000, 3000],\n",
    "                                 ylim=[-3000, 3000],\n",
    "                                 zlim=[-3000, 3000],\n",
    "                                 xlabel='Rostral-caudal ($\\mu$m)',\n",
    "                                 ylabel='',\n",
    "                                 zlabel='Medial-lateral ($\\mu$m)',\n",
    "                                 title='Centroid means and covariances (3 brains)')"
   ]
  },
  {
   "cell_type": "code",
   "execution_count": 12,
   "metadata": {},
   "outputs": [],
   "source": [
    "filepath = os.path.join(MESH_DIR, atlas_name, '1um_meanPositions.pkl')\n",
    "with open(filepath, 'wb') as f:\n",
    "    pickle.dump(nominal_centroids_wrt_canonicalAtlasSpace_um, f)"
   ]
  },
  {
   "cell_type": "code",
   "execution_count": 13,
   "metadata": {},
   "outputs": [],
   "source": [
    "filepath = os.path.join(MESH_DIR, atlas_name, 'canonicalCentroid_wrt_fixedWholebrain.txt')\n",
    "np.savetxt(filepath, canonical_center_wrt_fixed_um)"
   ]
  },
  {
   "cell_type": "code",
   "execution_count": 14,
   "metadata": {},
   "outputs": [],
   "source": [
    "reg_root_dir=os.path.join(MESH_DIR, atlas_name, 'mean_shapes', 'instance_registration')"
   ]
  },
  {
   "cell_type": "code",
   "execution_count": 15,
   "metadata": {},
   "outputs": [
    {
     "name": "stdout",
     "output_type": "stream",
     "text": [
      "Registering 10N_L instance 1 to instance 0\n",
      "Entering aligner optimzer\n",
      "Registering 10N_L instance 2 to instance 0\n",
      "Entering aligner optimzer\n",
      "Registering 10N_L instance 3 to instance 0\n",
      "Entering aligner optimzer\n",
      "Registering 10N_L instance 4 to instance 0\n",
      "Entering aligner optimzer\n",
      "Registering 10N_L instance 5 to instance 0\n",
      "Entering aligner optimzer\n",
      "level = 0.1 , volume = 0.037841 mm^3\n",
      "level = 0.2 , volume = 0.025776 mm^3\n",
      "level = 0.30000000000000004 , volume = 0.018669 mm^3\n",
      "level = 0.4 , volume = 0.014137 mm^3\n",
      "level = 0.5 , volume = 0.010822 mm^3\n",
      "level = 0.6 , volume = 0.008146 mm^3\n",
      "level = 0.7000000000000001 , volume = 0.005798 mm^3\n",
      "level = 0.8 , volume = 0.003516 mm^3\n",
      "level = 0.9 , volume = 0.000983 mm^3\n",
      "level = 1.0 , volume = 0.0 mm^3\n"
     ]
    },
    {
     "name": "stderr",
     "output_type": "stream",
     "text": [
      "mesh_to_polydata: No faces are provided, so skip simplification.\n"
     ]
    },
    {
     "name": "stdout",
     "output_type": "stream",
     "text": [
      "Registering 10N_R instance 1 to instance 0\n",
      "Entering aligner optimzer\n",
      "Registering 10N_R instance 2 to instance 0\n",
      "Entering aligner optimzer\n",
      "Registering 10N_R instance 3 to instance 0\n",
      "Entering aligner optimzer\n",
      "Registering 10N_R instance 4 to instance 0\n",
      "Entering aligner optimzer\n",
      "Registering 10N_R instance 5 to instance 0\n",
      "Entering aligner optimzer\n",
      "level = 0.1 , volume = 0.03837 mm^3\n",
      "level = 0.2 , volume = 0.025782 mm^3\n",
      "level = 0.30000000000000004 , volume = 0.018027 mm^3\n",
      "level = 0.4 , volume = 0.012846 mm^3\n",
      "level = 0.5 , volume = 0.009453 mm^3\n",
      "level = 0.6 , volume = 0.006776 mm^3\n",
      "level = 0.7000000000000001 , volume = 0.004406 mm^3\n",
      "level = 0.8 , volume = 0.002078 mm^3\n",
      "level = 0.9 , volume = 0.000372 mm^3\n",
      "level = 1.0 , volume = 0.0 mm^3\n"
     ]
    },
    {
     "name": "stderr",
     "output_type": "stream",
     "text": [
      "mesh_to_polydata: No faces are provided, so skip simplification.\n"
     ]
    },
    {
     "name": "stdout",
     "output_type": "stream",
     "text": [
      "Registering 12N instance 1 to instance 0\n",
      "Entering aligner optimzer\n",
      "Registering 12N instance 2 to instance 0\n",
      "Entering aligner optimzer\n",
      "Registering 12N instance 3 to instance 0\n",
      "Entering aligner optimzer\n",
      "Registering 12N instance 4 to instance 0\n",
      "Entering aligner optimzer\n",
      "Registering 12N instance 5 to instance 0\n",
      "Entering aligner optimzer\n",
      "level = 0.1 , volume = 0.128242 mm^3\n",
      "level = 0.2 , volume = 0.113269 mm^3\n",
      "level = 0.30000000000000004 , volume = 0.103154 mm^3\n",
      "level = 0.4 , volume = 0.094851 mm^3\n",
      "level = 0.5 , volume = 0.087315 mm^3\n",
      "level = 0.6 , volume = 0.080055 mm^3\n",
      "level = 0.7000000000000001 , volume = 0.072614 mm^3\n",
      "level = 0.8 , volume = 0.064194 mm^3\n",
      "level = 0.9 , volume = 0.053205 mm^3\n",
      "level = 1.0 , volume = 0.0 mm^3\n"
     ]
    },
    {
     "name": "stderr",
     "output_type": "stream",
     "text": [
      "mesh_to_polydata: No faces are provided, so skip simplification.\n"
     ]
    },
    {
     "name": "stdout",
     "output_type": "stream",
     "text": [
      "Registering 3N_L instance 1 to instance 0\n",
      "Entering aligner optimzer\n",
      "Registering 3N_L instance 2 to instance 0\n",
      "Entering aligner optimzer\n",
      "Registering 3N_L instance 3 to instance 0\n",
      "Entering aligner optimzer\n",
      "Registering 3N_L instance 4 to instance 0\n",
      "Entering aligner optimzer\n",
      "Registering 3N_L instance 5 to instance 0\n",
      "Entering aligner optimzer\n",
      "level = 0.1 , volume = 0.045171 mm^3\n",
      "level = 0.2 , volume = 0.032985 mm^3\n",
      "level = 0.30000000000000004 , volume = 0.024639 mm^3\n",
      "level = 0.4 , volume = 0.017411 mm^3\n",
      "level = 0.5 , volume = 0.01359 mm^3\n",
      "level = 0.6 , volume = 0.01074 mm^3\n",
      "level = 0.7000000000000001 , volume = 0.0084 mm^3\n",
      "level = 0.8 , volume = 0.006211 mm^3\n",
      "level = 0.9 , volume = 0.003942 mm^3\n",
      "level = 1.0 , volume = 0.0 mm^3\n"
     ]
    },
    {
     "name": "stderr",
     "output_type": "stream",
     "text": [
      "mesh_to_polydata: No faces are provided, so skip simplification.\n"
     ]
    },
    {
     "name": "stdout",
     "output_type": "stream",
     "text": [
      "Registering 3N_R instance 1 to instance 0\n",
      "Entering aligner optimzer\n",
      "Registering 3N_R instance 2 to instance 0\n",
      "Entering aligner optimzer\n",
      "Registering 3N_R instance 3 to instance 0\n",
      "Entering aligner optimzer\n",
      "Registering 3N_R instance 4 to instance 0\n",
      "Entering aligner optimzer\n",
      "Registering 3N_R instance 5 to instance 0\n",
      "Entering aligner optimzer\n",
      "level = 0.1 , volume = 0.039002 mm^3\n",
      "level = 0.2 , volume = 0.028596 mm^3\n",
      "level = 0.30000000000000004 , volume = 0.022268 mm^3\n",
      "level = 0.4 , volume = 0.017652 mm^3\n",
      "level = 0.5 , volume = 0.014245 mm^3\n",
      "level = 0.6 , volume = 0.011192 mm^3\n",
      "level = 0.7000000000000001 , volume = 0.008334 mm^3\n",
      "level = 0.8 , volume = 0.005862 mm^3\n",
      "level = 0.9 , volume = 0.003637 mm^3\n",
      "level = 1.0 , volume = 0.0 mm^3\n"
     ]
    },
    {
     "name": "stderr",
     "output_type": "stream",
     "text": [
      "mesh_to_polydata: No faces are provided, so skip simplification.\n"
     ]
    },
    {
     "name": "stdout",
     "output_type": "stream",
     "text": [
      "Registering 4N_L instance 1 to instance 0\n",
      "Entering aligner optimzer\n",
      "Registering 4N_L instance 2 to instance 0\n",
      "Entering aligner optimzer\n",
      "Registering 4N_L instance 3 to instance 0\n",
      "Entering aligner optimzer\n",
      "Registering 4N_L instance 4 to instance 0\n",
      "Entering aligner optimzer\n",
      "Registering 4N_L instance 5 to instance 0\n",
      "Entering aligner optimzer\n",
      "level = 0.1 , volume = 0.003879 mm^3\n",
      "level = 0.2 , volume = 0.002372 mm^3\n",
      "level = 0.30000000000000004 , volume = 0.001606 mm^3\n",
      "level = 0.4 , volume = 0.001093 mm^3\n",
      "level = 0.5 , volume = 0.000732 mm^3\n",
      "level = 0.6 , volume = 0.00046 mm^3\n",
      "level = 0.7000000000000001 , volume = 0.000244 mm^3\n",
      "level = 0.8 , volume = 9.2e-05 mm^3\n",
      "level = 0.9 , volume = 3e-06 mm^3\n",
      "level = 1.0 , volume = 0.0 mm^3\n"
     ]
    },
    {
     "name": "stderr",
     "output_type": "stream",
     "text": [
      "mesh_to_polydata: No faces are provided, so skip simplification.\n"
     ]
    },
    {
     "name": "stdout",
     "output_type": "stream",
     "text": [
      "Registering 4N_R instance 1 to instance 0\n",
      "Entering aligner optimzer\n",
      "Registering 4N_R instance 2 to instance 0\n",
      "Entering aligner optimzer\n",
      "Registering 4N_R instance 3 to instance 0\n",
      "Entering aligner optimzer\n",
      "Registering 4N_R instance 4 to instance 0\n",
      "Entering aligner optimzer\n",
      "Registering 4N_R instance 5 to instance 0\n",
      "Entering aligner optimzer\n",
      "level = 0.1 , volume = 0.004115 mm^3\n",
      "level = 0.2 , volume = 0.002818 mm^3\n",
      "level = 0.30000000000000004 , volume = 0.002017 mm^3\n",
      "level = 0.4 , volume = 0.001441 mm^3\n",
      "level = 0.5 , volume = 0.001039 mm^3\n",
      "level = 0.6 , volume = 0.000703 mm^3\n",
      "level = 0.7000000000000001 , volume = 0.000448 mm^3\n",
      "level = 0.8 , volume = 0.000235 mm^3\n",
      "level = 0.9 , volume = 6e-05 mm^3\n",
      "level = 1.0 , volume = 0.0 mm^3\n"
     ]
    },
    {
     "name": "stderr",
     "output_type": "stream",
     "text": [
      "mesh_to_polydata: No faces are provided, so skip simplification.\n"
     ]
    },
    {
     "name": "stdout",
     "output_type": "stream",
     "text": [
      "Registering 5N_L instance 1 to instance 0\n",
      "Entering aligner optimzer\n",
      "Registering 5N_L instance 2 to instance 0\n",
      "Entering aligner optimzer\n",
      "Registering 5N_L instance 3 to instance 0\n",
      "Entering aligner optimzer\n",
      "Registering 5N_L instance 4 to instance 0\n",
      "Entering aligner optimzer\n",
      "Registering 5N_L instance 5 to instance 0\n",
      "Entering aligner optimzer\n",
      "level = 0.1 , volume = 0.145594 mm^3\n",
      "level = 0.2 , volume = 0.118698 mm^3\n",
      "level = 0.30000000000000004 , volume = 0.100609 mm^3\n",
      "level = 0.4 , volume = 0.086604 mm^3\n",
      "level = 0.5 , volume = 0.07417 mm^3\n",
      "level = 0.6 , volume = 0.063043 mm^3\n",
      "level = 0.7000000000000001 , volume = 0.0523 mm^3\n",
      "level = 0.8 , volume = 0.041784 mm^3\n",
      "level = 0.9 , volume = 0.029615 mm^3\n",
      "level = 1.0 , volume = 5e-06 mm^3\n",
      "Registering 5N_R instance 1 to instance 0\n",
      "Entering aligner optimzer\n",
      "Registering 5N_R instance 2 to instance 0\n",
      "Entering aligner optimzer\n",
      "Registering 5N_R instance 3 to instance 0\n",
      "Entering aligner optimzer\n",
      "Registering 5N_R instance 4 to instance 0\n",
      "Entering aligner optimzer\n",
      "Registering 5N_R instance 5 to instance 0\n",
      "Entering aligner optimzer\n",
      "level = 0.1 , volume = 0.140962 mm^3\n",
      "level = 0.2 , volume = 0.117768 mm^3\n",
      "level = 0.30000000000000004 , volume = 0.102448 mm^3\n",
      "level = 0.4 , volume = 0.089971 mm^3\n",
      "level = 0.5 , volume = 0.078647 mm^3\n",
      "level = 0.6 , volume = 0.067988 mm^3\n",
      "level = 0.7000000000000001 , volume = 0.058208 mm^3\n",
      "level = 0.8 , volume = 0.049381 mm^3\n",
      "level = 0.9 , volume = 0.039944 mm^3\n",
      "level = 1.0 , volume = 0.001249 mm^3\n",
      "Registering 6N_L instance 1 to instance 0\n",
      "Entering aligner optimzer\n",
      "Registering 6N_L instance 2 to instance 0\n",
      "Entering aligner optimzer\n",
      "Registering 6N_L instance 3 to instance 0\n",
      "Entering aligner optimzer\n",
      "Registering 6N_L instance 4 to instance 0\n",
      "Entering aligner optimzer\n",
      "Registering 6N_L instance 5 to instance 0\n",
      "Entering aligner optimzer\n",
      "level = 0.1 , volume = 0.008055 mm^3\n",
      "level = 0.2 , volume = 0.005959 mm^3\n",
      "level = 0.30000000000000004 , volume = 0.004761 mm^3\n",
      "level = 0.4 , volume = 0.003856 mm^3\n",
      "level = 0.5 , volume = 0.003111 mm^3\n",
      "level = 0.6 , volume = 0.002491 mm^3\n",
      "level = 0.7000000000000001 , volume = 0.001921 mm^3\n",
      "level = 0.8 , volume = 0.001374 mm^3\n",
      "level = 0.9 , volume = 0.000799 mm^3\n",
      "level = 1.0 , volume = 0.0 mm^3\n"
     ]
    },
    {
     "name": "stderr",
     "output_type": "stream",
     "text": [
      "mesh_to_polydata: No faces are provided, so skip simplification.\n"
     ]
    },
    {
     "name": "stdout",
     "output_type": "stream",
     "text": [
      "Registering 6N_R instance 1 to instance 0\n",
      "Entering aligner optimzer\n",
      "Registering 6N_R instance 2 to instance 0\n",
      "Entering aligner optimzer\n",
      "Registering 6N_R instance 3 to instance 0\n",
      "Entering aligner optimzer\n",
      "Registering 6N_R instance 4 to instance 0\n",
      "Entering aligner optimzer\n",
      "Registering 6N_R instance 5 to instance 0\n",
      "Entering aligner optimzer\n",
      "level = 0.1 , volume = 0.006306 mm^3\n",
      "level = 0.2 , volume = 0.004295 mm^3\n",
      "level = 0.30000000000000004 , volume = 0.003166 mm^3\n",
      "level = 0.4 , volume = 0.002359 mm^3\n",
      "level = 0.5 , volume = 0.001729 mm^3\n",
      "level = 0.6 , volume = 0.001239 mm^3\n",
      "level = 0.7000000000000001 , volume = 0.00083 mm^3\n",
      "level = 0.8 , volume = 0.000471 mm^3\n",
      "level = 0.9 , volume = 0.000163 mm^3\n",
      "level = 1.0 , volume = 0.0 mm^3\n"
     ]
    },
    {
     "name": "stderr",
     "output_type": "stream",
     "text": [
      "mesh_to_polydata: No faces are provided, so skip simplification.\n"
     ]
    },
    {
     "name": "stdout",
     "output_type": "stream",
     "text": [
      "Registering 7N_L instance 1 to instance 0\n",
      "Entering aligner optimzer\n",
      "Registering 7N_L instance 2 to instance 0\n",
      "Entering aligner optimzer\n",
      "Registering 7N_L instance 3 to instance 0\n",
      "Entering aligner optimzer\n",
      "Registering 7N_L instance 4 to instance 0\n",
      "Entering aligner optimzer\n",
      "Registering 7N_L instance 5 to instance 0\n",
      "Entering aligner optimzer\n",
      "level = 0.1 , volume = 0.271907 mm^3\n",
      "level = 0.2 , volume = 0.232089 mm^3\n",
      "level = 0.30000000000000004 , volume = 0.205053 mm^3\n",
      "level = 0.4 , volume = 0.180727 mm^3\n",
      "level = 0.5 , volume = 0.155525 mm^3\n",
      "level = 0.6 , volume = 0.134701 mm^3\n",
      "level = 0.7000000000000001 , volume = 0.117977 mm^3\n",
      "level = 0.8 , volume = 0.101375 mm^3\n",
      "level = 0.9 , volume = 0.081884 mm^3\n",
      "level = 1.0 , volume = 0.001511 mm^3\n",
      "Registering 7N_R instance 1 to instance 0\n",
      "Entering aligner optimzer\n",
      "Registering 7N_R instance 2 to instance 0\n",
      "Entering aligner optimzer\n",
      "Registering 7N_R instance 3 to instance 0\n",
      "Entering aligner optimzer\n",
      "Registering 7N_R instance 4 to instance 0\n",
      "Entering aligner optimzer\n",
      "Registering 7N_R instance 5 to instance 0\n",
      "Entering aligner optimzer\n",
      "level = 0.1 , volume = 0.285768 mm^3\n",
      "level = 0.2 , volume = 0.24184 mm^3\n",
      "level = 0.30000000000000004 , volume = 0.213112 mm^3\n",
      "level = 0.4 , volume = 0.18832 mm^3\n",
      "level = 0.5 , volume = 0.154099 mm^3\n",
      "level = 0.6 , volume = 0.129483 mm^3\n",
      "level = 0.7000000000000001 , volume = 0.114006 mm^3\n",
      "level = 0.8 , volume = 0.099785 mm^3\n",
      "level = 0.9 , volume = 0.083794 mm^3\n",
      "level = 1.0 , volume = 0.010025 mm^3\n",
      "Registering Amb_L instance 1 to instance 0\n",
      "Entering aligner optimzer\n",
      "Registering Amb_L instance 2 to instance 0\n",
      "Entering aligner optimzer\n",
      "Registering Amb_L instance 3 to instance 0\n",
      "Entering aligner optimzer\n",
      "Registering Amb_L instance 4 to instance 0\n",
      "Entering aligner optimzer\n",
      "Registering Amb_L instance 5 to instance 0\n",
      "Entering aligner optimzer\n",
      "level = 0.1 , volume = 0.012749 mm^3\n",
      "level = 0.2 , volume = 0.008547 mm^3\n",
      "level = 0.30000000000000004 , volume = 0.006051 mm^3\n",
      "level = 0.4 , volume = 0.004351 mm^3\n",
      "level = 0.5 , volume = 0.003123 mm^3\n",
      "level = 0.6 , volume = 0.002179 mm^3\n",
      "level = 0.7000000000000001 , volume = 0.001464 mm^3\n",
      "level = 0.8 , volume = 0.000863 mm^3\n",
      "level = 0.9 , volume = 0.000304 mm^3\n",
      "level = 1.0 , volume = 0.0 mm^3\n"
     ]
    },
    {
     "name": "stderr",
     "output_type": "stream",
     "text": [
      "mesh_to_polydata: No faces are provided, so skip simplification.\n"
     ]
    },
    {
     "name": "stdout",
     "output_type": "stream",
     "text": [
      "Registering Amb_R instance 1 to instance 0\n",
      "Entering aligner optimzer\n",
      "Registering Amb_R instance 2 to instance 0\n",
      "Entering aligner optimzer\n",
      "Registering Amb_R instance 3 to instance 0\n",
      "Entering aligner optimzer\n",
      "Registering Amb_R instance 4 to instance 0\n",
      "Entering aligner optimzer\n",
      "Registering Amb_R instance 5 to instance 0\n",
      "Entering aligner optimzer\n",
      "level = 0.1 , volume = 0.009766 mm^3\n",
      "level = 0.2 , volume = 0.0069 mm^3\n",
      "level = 0.30000000000000004 , volume = 0.00528 mm^3\n",
      "level = 0.4 , volume = 0.004123 mm^3\n",
      "level = 0.5 , volume = 0.003225 mm^3\n",
      "level = 0.6 , volume = 0.00248 mm^3\n",
      "level = 0.7000000000000001 , volume = 0.001811 mm^3\n",
      "level = 0.8 , volume = 0.0012 mm^3\n",
      "level = 0.9 , volume = 0.000587 mm^3\n",
      "level = 1.0 , volume = 0.0 mm^3\n"
     ]
    },
    {
     "name": "stderr",
     "output_type": "stream",
     "text": [
      "mesh_to_polydata: No faces are provided, so skip simplification.\n"
     ]
    },
    {
     "name": "stdout",
     "output_type": "stream",
     "text": [
      "Registering AP instance 1 to instance 0\n",
      "Entering aligner optimzer\n",
      "Registering AP instance 2 to instance 0\n",
      "Entering aligner optimzer\n",
      "Registering AP instance 3 to instance 0\n",
      "Entering aligner optimzer\n",
      "Registering AP instance 4 to instance 0\n",
      "Entering aligner optimzer\n",
      "Registering AP instance 5 to instance 0\n",
      "Entering aligner optimzer\n",
      "level = 0.1 , volume = 0.017691 mm^3\n",
      "level = 0.2 , volume = 0.01438 mm^3\n",
      "level = 0.30000000000000004 , volume = 0.012265 mm^3\n",
      "level = 0.4 , volume = 0.010483 mm^3\n",
      "level = 0.5 , volume = 0.009198 mm^3\n",
      "level = 0.6 , volume = 0.007834 mm^3\n",
      "level = 0.7000000000000001 , volume = 0.006634 mm^3\n",
      "level = 0.8 , volume = 0.005328 mm^3\n",
      "level = 0.9 , volume = 0.003778 mm^3\n",
      "level = 1.0 , volume = 0.0 mm^3\n"
     ]
    },
    {
     "name": "stderr",
     "output_type": "stream",
     "text": [
      "mesh_to_polydata: No faces are provided, so skip simplification.\n"
     ]
    },
    {
     "name": "stdout",
     "output_type": "stream",
     "text": [
      "Registering DC_L instance 1 to instance 0\n",
      "Entering aligner optimzer\n",
      "Registering DC_L instance 2 to instance 0\n",
      "Entering aligner optimzer\n",
      "Registering DC_L instance 3 to instance 0\n",
      "Entering aligner optimzer\n",
      "Registering DC_L instance 4 to instance 0\n",
      "Entering aligner optimzer\n",
      "Registering DC_L instance 5 to instance 0\n",
      "Entering aligner optimzer\n",
      "level = 0.1 , volume = 0.288314 mm^3\n",
      "level = 0.2 , volume = 0.218434 mm^3\n",
      "level = 0.30000000000000004 , volume = 0.178605 mm^3\n",
      "level = 0.4 , volume = 0.143093 mm^3\n",
      "level = 0.5 , volume = 0.076588 mm^3\n",
      "level = 0.6 , volume = 0.05236 mm^3\n",
      "level = 0.7000000000000001 , volume = 0.040227 mm^3\n",
      "level = 0.8 , volume = 0.03081 mm^3\n",
      "level = 0.9 , volume = 0.021666 mm^3\n",
      "level = 1.0 , volume = 0.0 mm^3\n"
     ]
    },
    {
     "name": "stderr",
     "output_type": "stream",
     "text": [
      "mesh_to_polydata: No faces are provided, so skip simplification.\n"
     ]
    },
    {
     "name": "stdout",
     "output_type": "stream",
     "text": [
      "Registering DC_R instance 1 to instance 0\n",
      "Entering aligner optimzer\n",
      "Registering DC_R instance 2 to instance 0\n",
      "Entering aligner optimzer\n",
      "Registering DC_R instance 3 to instance 0\n",
      "Entering aligner optimzer\n",
      "Registering DC_R instance 4 to instance 0\n",
      "Entering aligner optimzer\n",
      "Registering DC_R instance 5 to instance 0\n",
      "Entering aligner optimzer\n",
      "level = 0.1 , volume = 0.298335 mm^3\n",
      "level = 0.2 , volume = 0.236372 mm^3\n",
      "level = 0.30000000000000004 , volume = 0.193519 mm^3\n",
      "level = 0.4 , volume = 0.153279 mm^3\n",
      "level = 0.5 , volume = 0.093267 mm^3\n",
      "level = 0.6 , volume = 0.068091 mm^3\n",
      "level = 0.7000000000000001 , volume = 0.055636 mm^3\n",
      "level = 0.8 , volume = 0.044937 mm^3\n",
      "level = 0.9 , volume = 0.033698 mm^3\n",
      "level = 1.0 , volume = 0.000327 mm^3\n",
      "Registering IC instance 1 to instance 0\n",
      "Entering aligner optimzer\n",
      "Registering IC instance 2 to instance 0\n",
      "Entering aligner optimzer\n",
      "Registering IC instance 3 to instance 0\n",
      "Entering aligner optimzer\n",
      "Registering IC instance 4 to instance 0\n",
      "Entering aligner optimzer\n",
      "Registering IC instance 5 to instance 0\n",
      "Entering aligner optimzer\n",
      "level = 0.1 , volume = 1.951333 mm^3\n",
      "level = 0.2 , volume = 1.709034 mm^3\n",
      "level = 0.30000000000000004 , volume = 1.545209 mm^3\n",
      "level = 0.4 , volume = 1.411854 mm^3\n",
      "level = 0.5 , volume = 1.292552 mm^3\n",
      "level = 0.6 , volume = 1.178964 mm^3\n",
      "level = 0.7000000000000001 , volume = 1.063192 mm^3\n",
      "level = 0.8 , volume = 0.935399 mm^3\n",
      "level = 0.9 , volume = 0.771429 mm^3\n",
      "level = 1.0 , volume = 0.0 mm^3\n"
     ]
    },
    {
     "name": "stderr",
     "output_type": "stream",
     "text": [
      "mesh_to_polydata: No faces are provided, so skip simplification.\n"
     ]
    },
    {
     "name": "stdout",
     "output_type": "stream",
     "text": [
      "Registering LC_L instance 1 to instance 0\n",
      "Entering aligner optimzer\n",
      "Registering LC_L instance 2 to instance 0\n",
      "Entering aligner optimzer\n",
      "Registering LC_L instance 3 to instance 0\n",
      "Entering aligner optimzer\n",
      "Registering LC_L instance 4 to instance 0\n",
      "Entering aligner optimzer\n",
      "Registering LC_L instance 5 to instance 0\n",
      "Entering aligner optimzer\n",
      "level = 0.1 , volume = 0.053444 mm^3\n",
      "level = 0.2 , volume = 0.041362 mm^3\n",
      "level = 0.30000000000000004 , volume = 0.03326 mm^3\n",
      "level = 0.4 , volume = 0.027231 mm^3\n",
      "level = 0.5 , volume = 0.022311 mm^3\n",
      "level = 0.6 , volume = 0.017867 mm^3\n",
      "level = 0.7000000000000001 , volume = 0.013725 mm^3\n",
      "level = 0.8 , volume = 0.009777 mm^3\n",
      "level = 0.9 , volume = 0.005807 mm^3\n",
      "level = 1.0 , volume = 0.0 mm^3\n"
     ]
    },
    {
     "name": "stderr",
     "output_type": "stream",
     "text": [
      "mesh_to_polydata: No faces are provided, so skip simplification.\n"
     ]
    },
    {
     "name": "stdout",
     "output_type": "stream",
     "text": [
      "Registering LC_R instance 1 to instance 0\n",
      "Entering aligner optimzer\n",
      "Registering LC_R instance 2 to instance 0\n",
      "Entering aligner optimzer\n",
      "Registering LC_R instance 3 to instance 0\n",
      "Entering aligner optimzer\n",
      "Registering LC_R instance 4 to instance 0\n",
      "Entering aligner optimzer\n",
      "Registering LC_R instance 5 to instance 0\n",
      "Entering aligner optimzer\n",
      "level = 0.1 , volume = 0.056138 mm^3\n",
      "level = 0.2 , volume = 0.041274 mm^3\n",
      "level = 0.30000000000000004 , volume = 0.031909 mm^3\n",
      "level = 0.4 , volume = 0.024842 mm^3\n",
      "level = 0.5 , volume = 0.019425 mm^3\n",
      "level = 0.6 , volume = 0.01518 mm^3\n",
      "level = 0.7000000000000001 , volume = 0.011441 mm^3\n",
      "level = 0.8 , volume = 0.008044 mm^3\n",
      "level = 0.9 , volume = 0.004664 mm^3\n",
      "level = 1.0 , volume = 0.0 mm^3\n"
     ]
    },
    {
     "name": "stderr",
     "output_type": "stream",
     "text": [
      "mesh_to_polydata: No faces are provided, so skip simplification.\n"
     ]
    },
    {
     "name": "stdout",
     "output_type": "stream",
     "text": [
      "Registering LRt_L instance 1 to instance 0\n",
      "Entering aligner optimzer\n",
      "Registering LRt_L instance 2 to instance 0\n",
      "Entering aligner optimzer\n",
      "Registering LRt_L instance 3 to instance 0\n",
      "Entering aligner optimzer\n",
      "Registering LRt_L instance 4 to instance 0\n",
      "Entering aligner optimzer\n",
      "Registering LRt_L instance 5 to instance 0\n",
      "Entering aligner optimzer\n",
      "level = 0.1 , volume = 0.206062 mm^3\n",
      "level = 0.2 , volume = 0.157265 mm^3\n",
      "level = 0.30000000000000004 , volume = 0.126804 mm^3\n",
      "level = 0.4 , volume = 0.101103 mm^3\n",
      "level = 0.5 , volume = 0.076697 mm^3\n",
      "level = 0.6 , volume = 0.058486 mm^3\n",
      "level = 0.7000000000000001 , volume = 0.045252 mm^3\n",
      "level = 0.8 , volume = 0.032309 mm^3\n",
      "level = 0.9 , volume = 0.018821 mm^3\n",
      "level = 1.0 , volume = 0.0 mm^3\n"
     ]
    },
    {
     "name": "stderr",
     "output_type": "stream",
     "text": [
      "mesh_to_polydata: No faces are provided, so skip simplification.\n"
     ]
    },
    {
     "name": "stdout",
     "output_type": "stream",
     "text": [
      "Registering LRt_R instance 1 to instance 0\n",
      "Entering aligner optimzer\n",
      "Registering LRt_R instance 2 to instance 0\n",
      "Entering aligner optimzer\n",
      "Registering LRt_R instance 3 to instance 0\n",
      "Entering aligner optimzer\n",
      "Registering LRt_R instance 4 to instance 0\n",
      "Entering aligner optimzer\n",
      "Registering LRt_R instance 5 to instance 0\n",
      "Entering aligner optimzer\n",
      "level = 0.1 , volume = 0.244135 mm^3\n",
      "level = 0.2 , volume = 0.192296 mm^3\n",
      "level = 0.30000000000000004 , volume = 0.158006 mm^3\n",
      "level = 0.4 , volume = 0.128454 mm^3\n",
      "level = 0.5 , volume = 0.102112 mm^3\n",
      "level = 0.6 , volume = 0.079711 mm^3\n",
      "level = 0.7000000000000001 , volume = 0.058466 mm^3\n",
      "level = 0.8 , volume = 0.038565 mm^3\n",
      "level = 0.9 , volume = 0.020293 mm^3\n",
      "level = 1.0 , volume = 0.0 mm^3\n"
     ]
    },
    {
     "name": "stderr",
     "output_type": "stream",
     "text": [
      "mesh_to_polydata: No faces are provided, so skip simplification.\n"
     ]
    },
    {
     "name": "stdout",
     "output_type": "stream",
     "text": [
      "Registering PBG_L instance 1 to instance 0\n",
      "Entering aligner optimzer\n",
      "Registering PBG_L instance 2 to instance 0\n",
      "Entering aligner optimzer\n",
      "Registering PBG_L instance 3 to instance 0\n",
      "Entering aligner optimzer\n",
      "Registering PBG_L instance 4 to instance 0\n",
      "Entering aligner optimzer\n",
      "Registering PBG_L instance 5 to instance 0\n",
      "Entering aligner optimzer\n",
      "level = 0.1 , volume = 0.029263 mm^3\n",
      "level = 0.2 , volume = 0.018778 mm^3\n",
      "level = 0.30000000000000004 , volume = 0.011609 mm^3\n",
      "level = 0.4 , volume = 0.007488 mm^3\n",
      "level = 0.5 , volume = 0.005106 mm^3\n",
      "level = 0.6 , volume = 0.003589 mm^3\n",
      "level = 0.7000000000000001 , volume = 0.002449 mm^3\n",
      "level = 0.8 , volume = 0.001508 mm^3\n",
      "level = 0.9 , volume = 0.000678 mm^3\n",
      "level = 1.0 , volume = 0.0 mm^3\n"
     ]
    },
    {
     "name": "stderr",
     "output_type": "stream",
     "text": [
      "mesh_to_polydata: No faces are provided, so skip simplification.\n"
     ]
    },
    {
     "name": "stdout",
     "output_type": "stream",
     "text": [
      "Registering PBG_R instance 1 to instance 0\n",
      "Entering aligner optimzer\n",
      "Registering PBG_R instance 2 to instance 0\n",
      "Entering aligner optimzer\n",
      "Registering PBG_R instance 3 to instance 0\n",
      "Entering aligner optimzer\n",
      "Registering PBG_R instance 4 to instance 0\n",
      "Entering aligner optimzer\n",
      "Registering PBG_R instance 5 to instance 0\n",
      "Entering aligner optimzer\n",
      "level = 0.1 , volume = 0.026432 mm^3\n",
      "level = 0.2 , volume = 0.017335 mm^3\n",
      "level = 0.30000000000000004 , volume = 0.012497 mm^3\n",
      "level = 0.4 , volume = 0.009475 mm^3\n",
      "level = 0.5 , volume = 0.007233 mm^3\n",
      "level = 0.6 , volume = 0.005349 mm^3\n",
      "level = 0.7000000000000001 , volume = 0.003742 mm^3\n",
      "level = 0.8 , volume = 0.002404 mm^3\n",
      "level = 0.9 , volume = 0.001178 mm^3\n",
      "level = 1.0 , volume = 0.0 mm^3\n"
     ]
    },
    {
     "name": "stderr",
     "output_type": "stream",
     "text": [
      "mesh_to_polydata: No faces are provided, so skip simplification.\n"
     ]
    },
    {
     "name": "stdout",
     "output_type": "stream",
     "text": [
      "Registering Pn_L instance 1 to instance 0\n",
      "Entering aligner optimzer\n",
      "Registering Pn_L instance 2 to instance 0\n",
      "Entering aligner optimzer\n",
      "Registering Pn_L instance 3 to instance 0\n",
      "Entering aligner optimzer\n",
      "Registering Pn_L instance 4 to instance 0\n",
      "Entering aligner optimzer\n",
      "Registering Pn_L instance 5 to instance 0\n",
      "Entering aligner optimzer\n",
      "level = 0.1 , volume = 0.452984 mm^3\n",
      "level = 0.2 , volume = 0.374351 mm^3\n",
      "level = 0.30000000000000004 , volume = 0.326603 mm^3\n",
      "level = 0.4 , volume = 0.285753 mm^3\n",
      "level = 0.5 , volume = 0.250544 mm^3\n",
      "level = 0.6 , volume = 0.220017 mm^3\n",
      "level = 0.7000000000000001 , volume = 0.188308 mm^3\n",
      "level = 0.8 , volume = 0.161946 mm^3\n",
      "level = 0.9 , volume = 0.132783 mm^3\n",
      "level = 1.0 , volume = 0.002147 mm^3\n",
      "Registering Pn_R instance 1 to instance 0\n",
      "Entering aligner optimzer\n",
      "Registering Pn_R instance 2 to instance 0\n",
      "Entering aligner optimzer\n",
      "Registering Pn_R instance 3 to instance 0\n",
      "Entering aligner optimzer\n",
      "Registering Pn_R instance 4 to instance 0\n",
      "Entering aligner optimzer\n",
      "Registering Pn_R instance 5 to instance 0\n",
      "Entering aligner optimzer\n",
      "level = 0.1 , volume = 0.436005 mm^3\n",
      "level = 0.2 , volume = 0.363083 mm^3\n",
      "level = 0.30000000000000004 , volume = 0.313453 mm^3\n",
      "level = 0.4 , volume = 0.26719 mm^3\n",
      "level = 0.5 , volume = 0.229718 mm^3\n",
      "level = 0.6 , volume = 0.197393 mm^3\n",
      "level = 0.7000000000000001 , volume = 0.164902 mm^3\n",
      "level = 0.8 , volume = 0.135641 mm^3\n",
      "level = 0.9 , volume = 0.104078 mm^3\n",
      "level = 1.0 , volume = 0.001458 mm^3\n",
      "Registering RMC_L instance 1 to instance 0\n",
      "Entering aligner optimzer\n",
      "Registering RMC_L instance 2 to instance 0\n",
      "Entering aligner optimzer\n",
      "Registering RMC_L instance 3 to instance 0\n",
      "Entering aligner optimzer\n",
      "Registering RMC_L instance 4 to instance 0\n",
      "Entering aligner optimzer\n",
      "Registering RMC_L instance 5 to instance 0\n",
      "Entering aligner optimzer\n",
      "level = 0.1 , volume = 0.085019 mm^3\n",
      "level = 0.2 , volume = 0.06772 mm^3\n",
      "level = 0.30000000000000004 , volume = 0.056858 mm^3\n",
      "level = 0.4 , volume = 0.048524 mm^3\n",
      "level = 0.5 , volume = 0.041479 mm^3\n",
      "level = 0.6 , volume = 0.035184 mm^3\n",
      "level = 0.7000000000000001 , volume = 0.02937 mm^3\n",
      "level = 0.8 , volume = 0.023822 mm^3\n",
      "level = 0.9 , volume = 0.017846 mm^3\n",
      "level = 1.0 , volume = 0.0 mm^3\n"
     ]
    },
    {
     "name": "stderr",
     "output_type": "stream",
     "text": [
      "mesh_to_polydata: No faces are provided, so skip simplification.\n"
     ]
    },
    {
     "name": "stdout",
     "output_type": "stream",
     "text": [
      "Registering RMC_R instance 1 to instance 0\n",
      "Entering aligner optimzer\n",
      "Registering RMC_R instance 2 to instance 0\n",
      "Entering aligner optimzer\n",
      "Registering RMC_R instance 3 to instance 0\n",
      "Entering aligner optimzer\n",
      "Registering RMC_R instance 4 to instance 0\n",
      "Entering aligner optimzer\n",
      "Registering RMC_R instance 5 to instance 0\n",
      "Entering aligner optimzer\n",
      "level = 0.1 , volume = 0.157534 mm^3\n",
      "level = 0.2 , volume = 0.105593 mm^3\n",
      "level = 0.30000000000000004 , volume = 0.085241 mm^3\n",
      "level = 0.4 , volume = 0.069242 mm^3\n",
      "level = 0.5 , volume = 0.0578 mm^3\n",
      "level = 0.6 , volume = 0.048875 mm^3\n",
      "level = 0.7000000000000001 , volume = 0.0412 mm^3\n",
      "level = 0.8 , volume = 0.03345 mm^3\n",
      "level = 0.9 , volume = 0.024723 mm^3\n",
      "level = 1.0 , volume = 0.0 mm^3\n"
     ]
    },
    {
     "name": "stderr",
     "output_type": "stream",
     "text": [
      "mesh_to_polydata: No faces are provided, so skip simplification.\n"
     ]
    },
    {
     "name": "stdout",
     "output_type": "stream",
     "text": [
      "Registering RtTg instance 1 to instance 0\n",
      "Entering aligner optimzer\n",
      "Registering RtTg instance 2 to instance 0\n",
      "Entering aligner optimzer\n",
      "Registering RtTg instance 3 to instance 0\n",
      "Entering aligner optimzer\n",
      "Registering RtTg instance 4 to instance 0\n",
      "Entering aligner optimzer\n",
      "Registering RtTg instance 5 to instance 0\n",
      "Entering aligner optimzer\n",
      "level = 0.1 , volume = 0.708171 mm^3\n",
      "level = 0.2 , volume = 0.588291 mm^3\n",
      "level = 0.30000000000000004 , volume = 0.514087 mm^3\n",
      "level = 0.4 , volume = 0.455578 mm^3\n",
      "level = 0.5 , volume = 0.406505 mm^3\n",
      "level = 0.6 , volume = 0.361685 mm^3\n",
      "level = 0.7000000000000001 , volume = 0.318181 mm^3\n",
      "level = 0.8 , volume = 0.273662 mm^3\n",
      "level = 0.9 , volume = 0.212969 mm^3\n",
      "level = 1.0 , volume = 0.004608 mm^3\n",
      "Registering SC instance 1 to instance 0\n",
      "Entering aligner optimzer\n",
      "Registering SC instance 2 to instance 0\n",
      "Entering aligner optimzer\n",
      "Registering SC instance 3 to instance 0\n",
      "Entering aligner optimzer\n",
      "Registering SC instance 4 to instance 0\n",
      "Entering aligner optimzer\n",
      "Registering SC instance 5 to instance 0\n",
      "Entering aligner optimzer\n",
      "level = 0.1 , volume = 3.432408 mm^3\n",
      "level = 0.2 , volume = 3.10709 mm^3\n",
      "level = 0.30000000000000004 , volume = 2.88296 mm^3\n",
      "level = 0.4 , volume = 2.698034 mm^3\n",
      "level = 0.5 , volume = 2.530932 mm^3\n",
      "level = 0.6 , volume = 2.368582 mm^3\n",
      "level = 0.7000000000000001 , volume = 2.200339 mm^3\n",
      "level = 0.8 , volume = 2.011798 mm^3\n",
      "level = 0.9 , volume = 1.762202 mm^3\n",
      "level = 1.0 , volume = 0.0 mm^3\n",
      "Registering SNC_L instance 1 to instance 0\n",
      "Entering aligner optimzer\n",
      "Registering SNC_L instance 2 to instance 0\n",
      "Entering aligner optimzer\n",
      "Registering SNC_L instance 3 to instance 0\n",
      "Entering aligner optimzer\n",
      "Registering SNC_L instance 4 to instance 0\n",
      "Entering aligner optimzer\n",
      "Registering SNC_L instance 5 to instance 0\n",
      "Entering aligner optimzer\n",
      "level = 0.1 , volume = 0.10161 mm^3\n",
      "level = 0.2 , volume = 0.057092 mm^3\n",
      "level = 0.30000000000000004 , volume = 0.032408 mm^3\n",
      "level = 0.4 , volume = 0.01828 mm^3\n",
      "level = 0.5 , volume = 0.008686 mm^3\n",
      "level = 0.6 , volume = 0.005218 mm^3\n",
      "level = 0.7000000000000001 , volume = 0.002489 mm^3\n",
      "level = 0.8 , volume = 0.000582 mm^3\n",
      "level = 0.9 , volume = 0.0 mm^3\n",
      "level = 1.0 , volume = 0.0 mm^3\n"
     ]
    },
    {
     "name": "stderr",
     "output_type": "stream",
     "text": [
      "mesh_to_polydata: No faces are provided, so skip simplification.\n",
      "mesh_to_polydata: No faces are provided, so skip simplification.\n"
     ]
    },
    {
     "name": "stdout",
     "output_type": "stream",
     "text": [
      "Registering SNC_R instance 1 to instance 0\n",
      "Entering aligner optimzer\n",
      "Registering SNC_R instance 2 to instance 0\n",
      "Entering aligner optimzer\n",
      "Registering SNC_R instance 3 to instance 0\n",
      "Entering aligner optimzer\n",
      "Registering SNC_R instance 4 to instance 0\n",
      "Entering aligner optimzer\n",
      "Registering SNC_R instance 5 to instance 0\n",
      "Entering aligner optimzer\n",
      "level = 0.1 , volume = 0.095535 mm^3\n",
      "level = 0.2 , volume = 0.049141 mm^3\n",
      "level = 0.30000000000000004 , volume = 0.026387 mm^3\n",
      "level = 0.4 , volume = 0.011264 mm^3\n",
      "level = 0.5 , volume = 0.003428 mm^3\n",
      "level = 0.6 , volume = 0.001976 mm^3\n",
      "level = 0.7000000000000001 , volume = 0.001017 mm^3\n",
      "level = 0.8 , volume = 0.000348 mm^3\n",
      "level = 0.9 , volume = 0.0 mm^3\n",
      "level = 1.0 , volume = 0.0 mm^3\n"
     ]
    },
    {
     "name": "stderr",
     "output_type": "stream",
     "text": [
      "mesh_to_polydata: No faces are provided, so skip simplification.\n",
      "mesh_to_polydata: No faces are provided, so skip simplification.\n"
     ]
    },
    {
     "name": "stdout",
     "output_type": "stream",
     "text": [
      "Registering SNR_L instance 1 to instance 0\n",
      "Entering aligner optimzer\n",
      "Registering SNR_L instance 2 to instance 0\n",
      "Entering aligner optimzer\n",
      "Registering SNR_L instance 3 to instance 0\n",
      "Entering aligner optimzer\n",
      "Registering SNR_L instance 4 to instance 0\n",
      "Entering aligner optimzer\n",
      "Registering SNR_L instance 5 to instance 0\n",
      "Entering aligner optimzer\n",
      "level = 0.1 , volume = 0.793326 mm^3\n",
      "level = 0.2 , volume = 0.677849 mm^3\n",
      "level = 0.30000000000000004 , volume = 0.594226 mm^3\n",
      "level = 0.4 , volume = 0.505934 mm^3\n",
      "level = 0.5 , volume = 0.329056 mm^3\n",
      "level = 0.6 , volume = 0.247723 mm^3\n",
      "level = 0.7000000000000001 , volume = 0.209191 mm^3\n",
      "level = 0.8 , volume = 0.179382 mm^3\n",
      "level = 0.9 , volume = 0.147748 mm^3\n",
      "level = 1.0 , volume = 0.015284 mm^3\n",
      "Registering SNR_R instance 1 to instance 0\n",
      "Entering aligner optimzer\n",
      "Registering SNR_R instance 2 to instance 0\n",
      "Entering aligner optimzer\n",
      "Registering SNR_R instance 3 to instance 0\n",
      "Entering aligner optimzer\n",
      "Registering SNR_R instance 4 to instance 0\n",
      "Entering aligner optimzer\n",
      "Registering SNR_R instance 5 to instance 0\n",
      "Entering aligner optimzer\n",
      "level = 0.1 , volume = 0.886479 mm^3\n",
      "level = 0.2 , volume = 0.756196 mm^3\n",
      "level = 0.30000000000000004 , volume = 0.6669 mm^3\n",
      "level = 0.4 , volume = 0.575602 mm^3\n",
      "level = 0.5 , volume = 0.346372 mm^3\n",
      "level = 0.6 , volume = 0.242122 mm^3\n",
      "level = 0.7000000000000001 , volume = 0.209261 mm^3\n",
      "level = 0.8 , volume = 0.181046 mm^3\n",
      "level = 0.9 , volume = 0.149648 mm^3\n",
      "level = 1.0 , volume = 0.009602 mm^3\n",
      "Registering Sp5C_L instance 1 to instance 0\n",
      "Entering aligner optimzer\n",
      "Registering Sp5C_L instance 2 to instance 0\n",
      "Entering aligner optimzer\n",
      "Registering Sp5C_L instance 3 to instance 0\n",
      "Entering aligner optimzer\n",
      "Registering Sp5C_L instance 4 to instance 0\n",
      "Entering aligner optimzer\n",
      "Registering Sp5C_L instance 5 to instance 0\n",
      "Entering aligner optimzer\n",
      "level = 0.1 , volume = 1.178497 mm^3\n",
      "level = 0.2 , volume = 0.785725 mm^3\n",
      "level = 0.30000000000000004 , volume = 0.629546 mm^3\n",
      "level = 0.4 , volume = 0.465501 mm^3\n",
      "level = 0.5 , volume = 0.310267 mm^3\n",
      "level = 0.6 , volume = 0.231947 mm^3\n",
      "level = 0.7000000000000001 , volume = 0.176222 mm^3\n",
      "level = 0.8 , volume = 0.132443 mm^3\n",
      "level = 0.9 , volume = 0.076109 mm^3\n",
      "level = 1.0 , volume = 0.000325 mm^3\n",
      "Registering Sp5C_R instance 1 to instance 0\n",
      "Entering aligner optimzer\n",
      "Registering Sp5C_R instance 2 to instance 0\n",
      "Entering aligner optimzer\n",
      "Registering Sp5C_R instance 3 to instance 0\n",
      "Entering aligner optimzer\n",
      "Registering Sp5C_R instance 4 to instance 0\n",
      "Entering aligner optimzer\n",
      "Registering Sp5C_R instance 5 to instance 0\n",
      "Entering aligner optimzer\n",
      "level = 0.1 , volume = 1.014568 mm^3\n",
      "level = 0.2 , volume = 0.737394 mm^3\n",
      "level = 0.30000000000000004 , volume = 0.604961 mm^3\n",
      "level = 0.4 , volume = 0.466965 mm^3\n",
      "level = 0.5 , volume = 0.361355 mm^3\n",
      "level = 0.6 , volume = 0.291728 mm^3\n",
      "level = 0.7000000000000001 , volume = 0.205855 mm^3\n",
      "level = 0.8 , volume = 0.145705 mm^3\n",
      "level = 0.9 , volume = 0.06247 mm^3\n",
      "level = 1.0 , volume = 7.3e-05 mm^3\n",
      "Registering Sp5I_L instance 1 to instance 0\n",
      "Entering aligner optimzer\n",
      "Registering Sp5I_L instance 2 to instance 0\n",
      "Entering aligner optimzer\n",
      "Registering Sp5I_L instance 3 to instance 0\n",
      "Entering aligner optimzer\n",
      "Registering Sp5I_L instance 4 to instance 0\n",
      "Entering aligner optimzer\n",
      "Registering Sp5I_L instance 5 to instance 0\n",
      "Entering aligner optimzer\n",
      "level = 0.1 , volume = 0.525977 mm^3\n",
      "level = 0.2 , volume = 0.414967 mm^3\n",
      "level = 0.30000000000000004 , volume = 0.356835 mm^3\n",
      "level = 0.4 , volume = 0.308226 mm^3\n",
      "level = 0.5 , volume = 0.270655 mm^3\n",
      "level = 0.6 , volume = 0.237479 mm^3\n",
      "level = 0.7000000000000001 , volume = 0.207438 mm^3\n",
      "level = 0.8 , volume = 0.177749 mm^3\n",
      "level = 0.9 , volume = 0.143668 mm^3\n",
      "level = 1.0 , volume = 0.017877 mm^3\n",
      "Registering Sp5I_R instance 1 to instance 0\n",
      "Entering aligner optimzer\n",
      "Registering Sp5I_R instance 2 to instance 0\n",
      "Entering aligner optimzer\n",
      "Registering Sp5I_R instance 3 to instance 0\n",
      "Entering aligner optimzer\n",
      "Registering Sp5I_R instance 4 to instance 0\n",
      "Entering aligner optimzer\n",
      "Registering Sp5I_R instance 5 to instance 0\n",
      "Entering aligner optimzer\n",
      "level = 0.1 , volume = 0.529711 mm^3\n",
      "level = 0.2 , volume = 0.438302 mm^3\n",
      "level = 0.30000000000000004 , volume = 0.376551 mm^3\n",
      "level = 0.4 , volume = 0.324711 mm^3\n",
      "level = 0.5 , volume = 0.280763 mm^3\n",
      "level = 0.6 , volume = 0.240928 mm^3\n",
      "level = 0.7000000000000001 , volume = 0.205048 mm^3\n",
      "level = 0.8 , volume = 0.168029 mm^3\n",
      "level = 0.9 , volume = 0.11773 mm^3\n",
      "level = 1.0 , volume = 0.005314 mm^3\n",
      "Registering Sp5O_L instance 1 to instance 0\n",
      "Entering aligner optimzer\n",
      "Registering Sp5O_L instance 2 to instance 0\n",
      "Entering aligner optimzer\n",
      "Registering Sp5O_L instance 3 to instance 0\n",
      "Entering aligner optimzer\n",
      "Registering Sp5O_L instance 4 to instance 0\n",
      "Entering aligner optimzer\n",
      "Registering Sp5O_L instance 5 to instance 0\n",
      "Entering aligner optimzer\n",
      "level = 0.1 , volume = 0.717876 mm^3\n",
      "level = 0.2 , volume = 0.58851 mm^3\n",
      "level = 0.30000000000000004 , volume = 0.510791 mm^3\n",
      "level = 0.4 , volume = 0.444533 mm^3\n",
      "level = 0.5 , volume = 0.389322 mm^3\n",
      "level = 0.6 , volume = 0.34461 mm^3\n",
      "level = 0.7000000000000001 , volume = 0.305801 mm^3\n",
      "level = 0.8 , volume = 0.267473 mm^3\n",
      "level = 0.9 , volume = 0.222939 mm^3\n",
      "level = 1.0 , volume = 0.040392 mm^3\n",
      "Registering Sp5O_R instance 1 to instance 0\n",
      "Entering aligner optimzer\n",
      "Registering Sp5O_R instance 2 to instance 0\n",
      "Entering aligner optimzer\n",
      "Registering Sp5O_R instance 3 to instance 0\n",
      "Entering aligner optimzer\n",
      "Registering Sp5O_R instance 4 to instance 0\n",
      "Entering aligner optimzer\n",
      "Registering Sp5O_R instance 5 to instance 0\n",
      "Entering aligner optimzer\n",
      "level = 0.1 , volume = 0.778826 mm^3\n",
      "level = 0.2 , volume = 0.604076 mm^3\n",
      "level = 0.30000000000000004 , volume = 0.529035 mm^3\n",
      "level = 0.4 , volume = 0.467826 mm^3\n",
      "level = 0.5 , volume = 0.40824 mm^3\n",
      "level = 0.6 , volume = 0.354493 mm^3\n",
      "level = 0.7000000000000001 , volume = 0.294208 mm^3\n",
      "level = 0.8 , volume = 0.24467 mm^3\n",
      "level = 0.9 , volume = 0.188638 mm^3\n",
      "level = 1.0 , volume = 0.026426 mm^3\n",
      "Registering Tz_L instance 1 to instance 0\n",
      "Entering aligner optimzer\n",
      "Registering Tz_L instance 2 to instance 0\n",
      "Entering aligner optimzer\n",
      "Registering Tz_L instance 3 to instance 0\n",
      "Entering aligner optimzer\n",
      "Registering Tz_L instance 4 to instance 0\n",
      "Entering aligner optimzer\n",
      "Registering Tz_L instance 5 to instance 0\n",
      "Entering aligner optimzer\n",
      "level = 0.1 , volume = 0.073266 mm^3\n",
      "level = 0.2 , volume = 0.057298 mm^3\n",
      "level = 0.30000000000000004 , volume = 0.047802 mm^3\n",
      "level = 0.4 , volume = 0.040512 mm^3\n",
      "level = 0.5 , volume = 0.034419 mm^3\n",
      "level = 0.6 , volume = 0.02891 mm^3\n",
      "level = 0.7000000000000001 , volume = 0.023669 mm^3\n",
      "level = 0.8 , volume = 0.018346 mm^3\n",
      "level = 0.9 , volume = 0.012454 mm^3\n",
      "level = 1.0 , volume = 0.0 mm^3\n"
     ]
    },
    {
     "name": "stderr",
     "output_type": "stream",
     "text": [
      "mesh_to_polydata: No faces are provided, so skip simplification.\n"
     ]
    },
    {
     "name": "stdout",
     "output_type": "stream",
     "text": [
      "Registering Tz_R instance 1 to instance 0\n",
      "Entering aligner optimzer\n",
      "Registering Tz_R instance 2 to instance 0\n",
      "Entering aligner optimzer\n",
      "Registering Tz_R instance 3 to instance 0\n",
      "Entering aligner optimzer\n",
      "Registering Tz_R instance 4 to instance 0\n",
      "Entering aligner optimzer\n",
      "Registering Tz_R instance 5 to instance 0\n",
      "Entering aligner optimzer\n",
      "level = 0.1 , volume = 0.072145 mm^3\n",
      "level = 0.2 , volume = 0.058002 mm^3\n",
      "level = 0.30000000000000004 , volume = 0.048805 mm^3\n",
      "level = 0.4 , volume = 0.041616 mm^3\n",
      "level = 0.5 , volume = 0.035433 mm^3\n",
      "level = 0.6 , volume = 0.030011 mm^3\n",
      "level = 0.7000000000000001 , volume = 0.02501 mm^3\n",
      "level = 0.8 , volume = 0.020094 mm^3\n",
      "level = 0.9 , volume = 0.014446 mm^3\n",
      "level = 1.0 , volume = 0.0 mm^3\n"
     ]
    },
    {
     "name": "stderr",
     "output_type": "stream",
     "text": [
      "mesh_to_polydata: No faces are provided, so skip simplification.\n"
     ]
    },
    {
     "name": "stdout",
     "output_type": "stream",
     "text": [
      "Registering VCA_L instance 1 to instance 0\n",
      "Entering aligner optimzer\n",
      "Registering VCA_L instance 2 to instance 0\n",
      "Entering aligner optimzer\n",
      "Registering VCA_L instance 3 to instance 0\n",
      "Entering aligner optimzer\n",
      "Registering VCA_L instance 4 to instance 0\n",
      "Entering aligner optimzer\n",
      "Registering VCA_L instance 5 to instance 0\n",
      "Entering aligner optimzer\n",
      "level = 0.1 , volume = 0.295543 mm^3\n",
      "level = 0.2 , volume = 0.239482 mm^3\n",
      "level = 0.30000000000000004 , volume = 0.202881 mm^3\n",
      "level = 0.4 , volume = 0.171954 mm^3\n",
      "level = 0.5 , volume = 0.132863 mm^3\n",
      "level = 0.6 , volume = 0.107893 mm^3\n",
      "level = 0.7000000000000001 , volume = 0.091174 mm^3\n",
      "level = 0.8 , volume = 0.075422 mm^3\n",
      "level = 0.9 , volume = 0.058523 mm^3\n",
      "level = 1.0 , volume = 0.000732 mm^3\n",
      "Registering VCA_R instance 1 to instance 0\n",
      "Entering aligner optimzer\n",
      "Registering VCA_R instance 2 to instance 0\n",
      "Entering aligner optimzer\n",
      "Registering VCA_R instance 3 to instance 0\n",
      "Entering aligner optimzer\n",
      "Registering VCA_R instance 4 to instance 0\n",
      "Entering aligner optimzer\n",
      "Registering VCA_R instance 5 to instance 0\n",
      "Entering aligner optimzer\n",
      "level = 0.1 , volume = 0.325984 mm^3\n",
      "level = 0.2 , volume = 0.263461 mm^3\n",
      "level = 0.30000000000000004 , volume = 0.223086 mm^3\n",
      "level = 0.4 , volume = 0.186238 mm^3\n",
      "level = 0.5 , volume = 0.13199 mm^3\n",
      "level = 0.6 , volume = 0.098292 mm^3\n",
      "level = 0.7000000000000001 , volume = 0.079852 mm^3\n",
      "level = 0.8 , volume = 0.062937 mm^3\n",
      "level = 0.9 , volume = 0.045005 mm^3\n",
      "level = 1.0 , volume = 0.00013 mm^3\n",
      "Registering VCP_L instance 1 to instance 0\n",
      "Entering aligner optimzer\n",
      "Registering VCP_L instance 2 to instance 0\n",
      "Entering aligner optimzer\n",
      "Registering VCP_L instance 3 to instance 0\n",
      "Entering aligner optimzer\n",
      "Registering VCP_L instance 4 to instance 0\n",
      "Entering aligner optimzer\n",
      "Registering VCP_L instance 5 to instance 0\n",
      "Entering aligner optimzer\n",
      "level = 0.1 , volume = 0.151251 mm^3\n",
      "level = 0.2 , volume = 0.111092 mm^3\n",
      "level = 0.30000000000000004 , volume = 0.088489 mm^3\n",
      "level = 0.4 , volume = 0.071305 mm^3\n",
      "level = 0.5 , volume = 0.05676 mm^3\n",
      "level = 0.6 , volume = 0.045872 mm^3\n",
      "level = 0.7000000000000001 , volume = 0.036507 mm^3\n",
      "level = 0.8 , volume = 0.02906 mm^3\n",
      "level = 0.9 , volume = 0.021474 mm^3\n",
      "level = 1.0 , volume = 0.0 mm^3\n"
     ]
    },
    {
     "name": "stderr",
     "output_type": "stream",
     "text": [
      "mesh_to_polydata: No faces are provided, so skip simplification.\n"
     ]
    },
    {
     "name": "stdout",
     "output_type": "stream",
     "text": [
      "Registering VCP_R instance 1 to instance 0\n",
      "Entering aligner optimzer\n",
      "Registering VCP_R instance 2 to instance 0\n",
      "Entering aligner optimzer\n",
      "Registering VCP_R instance 3 to instance 0\n",
      "Entering aligner optimzer\n",
      "Registering VCP_R instance 4 to instance 0\n",
      "Entering aligner optimzer\n",
      "Registering VCP_R instance 5 to instance 0\n",
      "Entering aligner optimzer\n",
      "level = 0.1 , volume = 0.137726 mm^3\n",
      "level = 0.2 , volume = 0.10776 mm^3\n",
      "level = 0.30000000000000004 , volume = 0.088061 mm^3\n",
      "level = 0.4 , volume = 0.072543 mm^3\n",
      "level = 0.5 , volume = 0.059189 mm^3\n",
      "level = 0.6 , volume = 0.049683 mm^3\n",
      "level = 0.7000000000000001 , volume = 0.042223 mm^3\n",
      "level = 0.8 , volume = 0.035345 mm^3\n",
      "level = 0.9 , volume = 0.027963 mm^3\n",
      "level = 1.0 , volume = 0.000417 mm^3\n",
      "Registering VLL_L instance 1 to instance 0\n",
      "Entering aligner optimzer\n",
      "Registering VLL_L instance 2 to instance 0\n",
      "Entering aligner optimzer\n",
      "Registering VLL_L instance 3 to instance 0\n",
      "Entering aligner optimzer\n",
      "Registering VLL_L instance 4 to instance 0\n",
      "Entering aligner optimzer\n",
      "Registering VLL_L instance 5 to instance 0\n",
      "Entering aligner optimzer\n",
      "level = 0.1 , volume = 0.424373 mm^3\n",
      "level = 0.2 , volume = 0.207147 mm^3\n",
      "level = 0.30000000000000004 , volume = 0.135369 mm^3\n",
      "level = 0.4 , volume = 0.072713 mm^3\n",
      "level = 0.5 , volume = 0.042647 mm^3\n",
      "level = 0.6 , volume = 0.030183 mm^3\n",
      "level = 0.7000000000000001 , volume = 0.021627 mm^3\n",
      "level = 0.8 , volume = 0.015626 mm^3\n",
      "level = 0.9 , volume = 0.009908 mm^3\n",
      "level = 1.0 , volume = 0.0 mm^3\n"
     ]
    },
    {
     "name": "stderr",
     "output_type": "stream",
     "text": [
      "mesh_to_polydata: No faces are provided, so skip simplification.\n"
     ]
    },
    {
     "name": "stdout",
     "output_type": "stream",
     "text": [
      "Registering VLL_R instance 1 to instance 0\n",
      "Entering aligner optimzer\n",
      "Registering VLL_R instance 2 to instance 0\n",
      "Entering aligner optimzer\n",
      "Registering VLL_R instance 3 to instance 0\n",
      "Entering aligner optimzer\n",
      "Registering VLL_R instance 4 to instance 0\n",
      "Entering aligner optimzer\n",
      "Registering VLL_R instance 5 to instance 0\n",
      "Entering aligner optimzer\n",
      "level = 0.1 , volume = 0.238014 mm^3\n",
      "level = 0.2 , volume = 0.173917 mm^3\n",
      "level = 0.30000000000000004 , volume = 0.134306 mm^3\n",
      "level = 0.4 , volume = 0.10246 mm^3\n",
      "level = 0.5 , volume = 0.065236 mm^3\n",
      "level = 0.6 , volume = 0.04815 mm^3\n",
      "level = 0.7000000000000001 , volume = 0.037428 mm^3\n",
      "level = 0.8 , volume = 0.028319 mm^3\n",
      "level = 0.9 , volume = 0.019376 mm^3\n",
      "level = 1.0 , volume = 0.0 mm^3\n"
     ]
    },
    {
     "name": "stderr",
     "output_type": "stream",
     "text": [
      "mesh_to_polydata: No faces are provided, so skip simplification.\n"
     ]
    }
   ],
   "source": [
    "# Note that all shapes have voxel resolution matching input resolution (10.0 micron).\n",
    "for structure in structures:\n",
    "    # for structure in all_known_structures:\n",
    "    # Load instance volumes.\n",
    "    instance_volumes = []\n",
    "    instance_source = []\n",
    "\n",
    "    if structure in paired_structures:\n",
    "        left_name = convert_to_left_name(structure)\n",
    "        right_name = convert_to_right_name(structure)\n",
    "    else:\n",
    "        left_name = structure\n",
    "        right_name = structure\n",
    "\n",
    "    for brain_name in [fixed_brain_name] + moving_brain_names:\n",
    "        brain_spec = {'name': brain_name, 'vol_type': 'annotationAsScore', 'resolution': resolution}\n",
    "        right_instance_vol, _ = load_original_volume_v2(stack_spec=brain_spec,\n",
    "                                                        structure=right_name,\n",
    "                                                        return_origin_instead_of_bbox=True,\n",
    "                                                        crop_to_minimal=True)\n",
    "        instance_volumes.append(right_instance_vol)  # if right, do not mirror\n",
    "        instance_source.append((brain_name, 'R'))\n",
    "\n",
    "        left_instance_vol, _ = load_original_volume_v2(stack_spec=brain_spec,\n",
    "                                                       structure=left_name,\n",
    "                                                       return_origin_instead_of_bbox=True,\n",
    "                                                       crop_to_minimal=True)\n",
    "        instance_volumes.append(left_instance_vol[..., ::-1])  # if left, mirror\n",
    "        instance_source.append((brain_name, 'L'))\n",
    "\n",
    "   # Use the first instance as registration target.\n",
    "    # Register every other instance to the first instance.\n",
    "    template_instance_volume = instance_volumes[0]\n",
    "    template_instance_centroid_wrt_templateOrigin = get_centroid_3d(template_instance_volume).astype(np.int16)\n",
    "    template_instance_wrt_templateCentroid = (template_instance_volume, - template_instance_centroid_wrt_templateOrigin)\n",
    "    aligned_moving_instance_wrt_templateCentroid_all_instances = []\n",
    "\n",
    "    for i in range(1, len(instance_volumes)):\n",
    "        print('Registering {} instance {} to instance 0'.format(structure, i))\n",
    "        # Compute transform.\n",
    "        moving_instance_volume = instance_volumes[i]\n",
    "        aligner = Aligner({0: template_instance_wrt_templateCentroid},\n",
    "                          {0: (moving_instance_volume, np.array((0,0,0)))},\n",
    "                          labelIndexMap_m2f={0:0},\n",
    "                         verbose=False)\n",
    "        aligner.set_centroid(centroid_m='structure_centroid', centroid_f='structure_centroid')\n",
    "        aligner.compute_gradient(smooth_first=True)\n",
    "        lr = 1.\n",
    "        ### max_iter_num was originally 100 and 1000\n",
    "        print('Entering aligner optimzer')\n",
    "        _, _ = aligner.optimize(tf_type='rigid',\n",
    "                                history_len=100,\n",
    "                                max_iter_num=2 if structure in ['SC', 'IC'] else 3,\n",
    "                                grad_computation_sample_number=None,\n",
    "                                full_lr=np.array([lr, lr, lr, 0.1, 0.1, 0.1]),\n",
    "                                terminate_thresh_trans=.01)\n",
    "\n",
    "\n",
    "\n",
    "        reg_root_dir=os.path.join(MESH_DIR, atlas_name, 'mean_shapes', 'instance_registration')\n",
    "        save_alignment_results_v3(aligner=aligner,\n",
    "                              select_best='max_value',\n",
    "                              alignment_spec=dict(warp_setting=108,\n",
    "                                                  stack_f=dict(name='%s_instance0' % structure, vol_type='annotationAsScore'),\n",
    "                                                  stack_m=dict(name='%s_instance%d' % (structure, i),\n",
    "                                                               vol_type='annotationAsScore')),\n",
    "                              reg_root_dir=reg_root_dir)\n",
    "\n",
    "        # Transform instances.\n",
    "        T = convert_transform_forms(aligner=aligner, out_form=(3, 4), select_best='max_value')\n",
    "        aligned_moving_instance_volume, aligned_moving_instance_origin_wrt_templateCentroid = \\\n",
    "            transform_volume_v4(volume=(moving_instance_volume, (0, 0, 0)), transform=T,\n",
    "                                return_origin_instead_of_bbox=True)\n",
    "        aligned_moving_instance_wrt_templateCentroid = (\n",
    "        aligned_moving_instance_volume, aligned_moving_instance_origin_wrt_templateCentroid)\n",
    "        aligned_moving_instance_wrt_templateCentroid_all_instances.append(aligned_moving_instance_wrt_templateCentroid)\n",
    "\n",
    "    # Generate meshes for each instance.\n",
    "    volume_origin_list = [template_instance_wrt_templateCentroid] + aligned_moving_instance_wrt_templateCentroid_all_instances\n",
    "    instance_mesh_wrt_templateCentroid_all_instances = [volume_to_polydata(volume, num_simplify_iter=3, smooth=True)\n",
    "        for volume, o in volume_origin_list]\n",
    "\n",
    "    # Save meshes.\n",
    "    for i, mesh_data in enumerate(instance_mesh_wrt_templateCentroid_all_instances):\n",
    "        meshfile = '{}_{}_{}.stl'.format(resolution, structure, str(i))\n",
    "        meshpath = os.path.join(MESH_DIR, atlas_name, 'aligned_instance_meshes', meshfile)\n",
    "        #print('Save stl at {}'.format( meshpath))\n",
    "        save_mesh_stl(mesh_data, meshpath)\n",
    "\n",
    "    filename = '{}_sources.pkl'.format(structure)\n",
    "    filepath = os.path.join(MESH_DIR, atlas_name, 'instance_sources', filename)\n",
    "    with open(filepath, 'wb') as f:\n",
    "        pickle.dump(instance_source, f)\n",
    "\n",
    "    # Compute average shape.\n",
    "\n",
    "    if structure == 'IC' or structure == 'SC':\n",
    "        # IC and SC boundaries are particularly jagged, so do a larger value smoothing.\n",
    "        sigma = 5.\n",
    "    else:\n",
    "        sigma = 2.\n",
    "\n",
    "\n",
    "    mean_shape_wrt_templateCentroid = \\\n",
    "        average_shape(volume_origin_list=volume_origin_list, force_symmetric=(structure in singular_structures),\n",
    "                      sigma=sigma,\n",
    "                      )\n",
    "\n",
    "    for surface_level in np.arange(0.1, 1.1, .1):\n",
    "        print(\"level =\", surface_level, ', volume =',\n",
    "              np.count_nonzero(mean_shape_wrt_templateCentroid[0] > surface_level) * resolution_um ** 3 / 1e9, \"mm^3\")\n",
    "\n",
    "    # Generate meshes for mean shape.\n",
    "    mean_shape_isosurface_polydata_all_levels = {surface_level:\n",
    "                                                     volume_to_polydata(\n",
    "                                                         (mean_shape_wrt_templateCentroid[0] >= surface_level,\n",
    "                                                         mean_shape_wrt_templateCentroid[1]),\n",
    "                                                         num_simplify_iter=3, smooth=True)\n",
    "        for surface_level in np.arange(0.1, 1.1, .1)}\n",
    "\n",
    "    # Identify the surrouding area as additional structure.\n",
    "\n",
    "    wall_level = .5\n",
    "    surround_distance_um = 200.\n",
    "\n",
    "    # changed to v2 to v3 Jul/27/2020 renamed without the _vX\n",
    "    # volume, distance=5, wall_level=0, prob=False, return_origin_instead_of_bbox=True, padding=5\n",
    "    # def get_surround_volume(volume, origin, distance=5, wall_level=0, prob=False, return_origin_instead_of_bbox=True,\n",
    "    #                        padding=5):\n",
    "    surround_wrt_stdShapeCentroid = \\\n",
    "        get_surround_volume_v2(vol=mean_shape_wrt_templateCentroid[0],\n",
    "                               origin=mean_shape_wrt_templateCentroid[1],\n",
    "                               distance=surround_distance_um / resolution_um,\n",
    "                               wall_level=wall_level,\n",
    "                               prob=True,\n",
    "                               return_origin_instead_of_bbox=True,\n",
    "                               padding=5)\n",
    "\n",
    "    # Generate meshes for surrouding area.\n",
    "    surround_isosurface_polydata_all_levels = {surface_level:\n",
    "             volume_to_polydata((surround_wrt_stdShapeCentroid[0] >= surface_level,\n",
    "                                surround_wrt_stdShapeCentroid[1]),\n",
    "                                num_simplify_iter=3, smooth=True)\n",
    "         for surface_level in np.arange(0.1, 1.1, .1)}\n",
    "\n",
    "    # Save mean shape.\n",
    "    filename = '{}_{}_volume.npy'.format(resolution, structure)\n",
    "    filepath =  os.path.join(MESH_DIR, atlas_name, 'mean_shapes', filename)\n",
    "    np.save(filepath, np.ascontiguousarray(mean_shape_wrt_templateCentroid[0]))\n",
    "\n",
    "    filename = '{}_{}_origin_wrt_meanShapeCentroid.txt'.format(resolution, structure)\n",
    "    filepath = os.path.join(MESH_DIR, atlas_name, 'mean_shapes', filename)\n",
    "    np.savetxt(filepath, mean_shape_wrt_templateCentroid[1])\n",
    "\n",
    "\n",
    "    for level in np.arange(0.1, 1.1, .1):\n",
    "        filename = '{}_{}_mesh_level_{}.stl'.format(resolution, structure, str(level))\n",
    "        filepath = os.path.join(MESH_DIR, atlas_name, 'mean_shapes', filename)\n",
    "        save_mesh_stl(mean_shape_isosurface_polydata_all_levels[level], filepath)\n",
    "\n",
    "    surround_name = convert_to_surround_name(structure, margin=str(int(surround_distance_um)) + 'um')\n",
    "    filename = '{}_{}_volume.npy'.format(resolution, surround_name)\n",
    "    filepath = os.path.join(MESH_DIR, atlas_name, 'mean_shapes', filename)\n",
    "    np.save(filepath, np.ascontiguousarray(surround_wrt_stdShapeCentroid[0]))\n",
    "\n",
    "\n",
    "    filename = '{}_{}_origin_wrt_meanShapeCentroid.txt'.format(resolution, surround_name)\n",
    "    filepath = os.path.join(MESH_DIR, atlas_name, 'mean_shapes', filename)\n",
    "    np.savetxt(filepath, surround_wrt_stdShapeCentroid[1])\n",
    "\n",
    "    for level in np.arange(0.1, 1.1, .1):\n",
    "        filename = '{}_{}_{}.stl'.format(resolution, surround_name, str(level))\n",
    "        filepath = os.path.join(MESH_DIR, atlas_name, 'mean_shapes', filename)\n",
    "        save_mesh_stl(surround_isosurface_polydata_all_levels[level], filepath)\n"
   ]
  },
  {
   "cell_type": "code",
   "execution_count": 16,
   "metadata": {},
   "outputs": [
    {
     "data": {
      "text/plain": [
       "6"
      ]
     },
     "execution_count": 16,
     "metadata": {},
     "output_type": "execute_result"
    }
   ],
   "source": [
    "len(instance_volumes)"
   ]
  },
  {
   "cell_type": "code",
   "execution_count": 17,
   "metadata": {},
   "outputs": [],
   "source": [
    "i = 1\n",
    "# Compute transform.\n",
    "moving_instance_volume = instance_volumes[i]\n",
    "aligner = Aligner({0: template_instance_wrt_templateCentroid}, \n",
    "                  {0: (moving_instance_volume, np.array((0,0,0)))}, \n",
    "                  labelIndexMap_m2f={0:0})\n",
    "aligner.set_centroid(centroid_m='structure_centroid', centroid_f='structure_centroid')\n",
    "aligner.compute_gradient(smooth_first=True)\n",
    "lr = .1\n",
    "_, _ = aligner.optimize(tf_type='rigid', \n",
    "                     history_len=100, \n",
    "                    max_iter_num=100 if structure in ['SC', 'IC'] else 10000,\n",
    "                     grad_computation_sample_number=None,\n",
    "                        full_lr=np.array([lr,lr,lr,0.1,0.1,0.1]),\n",
    "                       terminate_thresh_trans=.01)"
   ]
  },
  {
   "cell_type": "code",
   "execution_count": 18,
   "metadata": {},
   "outputs": [
    {
     "data": {
      "text/plain": [
       "((206, 94, 59), dtype('bool'))"
      ]
     },
     "execution_count": 18,
     "metadata": {},
     "output_type": "execute_result"
    }
   ],
   "source": [
    "moving_instance_volume.shape, moving_instance_volume.dtype"
   ]
  },
  {
   "cell_type": "code",
   "execution_count": 19,
   "metadata": {},
   "outputs": [
    {
     "name": "stdout",
     "output_type": "stream",
     "text": [
      "/net/birdstore/Active_Atlas_Data/data_root/CSHL_volumes/atlasV7/moving_instance_volume.npy\n"
     ]
    }
   ],
   "source": [
    "filename = os.path.join(VOL_DIR, atlas_name, 'moving_instance_volume.npy')\n",
    "print(filename)\n",
    "np.save(filename, moving_instance_volume)"
   ]
  },
  {
   "cell_type": "code",
   "execution_count": 20,
   "metadata": {},
   "outputs": [
    {
     "data": {
      "image/png": "[encoded data removed]",
      "text/plain": [
       "<Figure size 432x288 with 1 Axes>"
      ]
     },
     "metadata": {
      "needs_background": "light"
     },
     "output_type": "display_data"
    }
   ],
   "source": [
    "plt.plot(aligner.Ts);"
   ]
  },
  {
   "cell_type": "code",
   "execution_count": 21,
   "metadata": {},
   "outputs": [
    {
     "data": {
      "image/png": "[encoded data removed]",
      "text/plain": [
       "<Figure size 432x288 with 1 Axes>"
      ]
     },
     "metadata": {
      "needs_background": "light"
     },
     "output_type": "display_data"
    }
   ],
   "source": [
    "plt.plot(aligner.scores);"
   ]
  },
  {
   "cell_type": "code",
   "execution_count": null,
   "metadata": {
    "scrolled": true
   },
   "outputs": [],
   "source": [
    "# doesn't display much\n",
    "# Transform instances.\n",
    "\n",
    "T = convert_transform_forms(aligner=aligner, out_form=(3,4), select_best='max_value')\n",
    "\n",
    "aligned_moving_instance_volume, aligned_moving_instance_origin_wrt_templateCentroid = \\\n",
    "transform_volume_v4((moving_instance_volume, (0,0,0)), transform=T,\n",
    "                    return_origin_instead_of_bbox=True)\n",
    "\n",
    "aligned_moving_instance_wrt_templateCentroid = (aligned_moving_instance_volume, aligned_moving_instance_origin_wrt_templateCentroid)        \n",
    "\n",
    "# Generate meshes for each instance.\n",
    "\n",
    "instance_mesh_wrt_templateCentroid_all_instances = [\n",
    "volume_to_polydata((v, o), num_simplify_iter=3, smooth=True)\n",
    "for v, o in \n",
    "[template_instance_wrt_templateCentroid] + [aligned_moving_instance_wrt_templateCentroid]]"
   ]
  },
  {
   "cell_type": "code",
   "execution_count": null,
   "metadata": {},
   "outputs": [],
   "source": [
    "# crashes the kernel\n",
    "#launch_vtk([actor_mesh(mesh, wireframe=True, color=np.array(high_contrast_colors[i+1])/255., opacity=1) \n",
    "#    for i, mesh in enumerate([instance_mesh_wrt_templateCentroid_all_instances[0],\n",
    "#                             instance_mesh_wrt_templateCentroid_all_instances[1]])], \n",
    "#  background_color=(1,1,1))\n"
   ]
  },
  {
   "cell_type": "markdown",
   "metadata": {},
   "source": [
    "# Visualize Results"
   ]
  },
  {
   "cell_type": "code",
   "execution_count": null,
   "metadata": {},
   "outputs": [],
   "source": [
    "# for name_u in all_known_structures:\n",
    "for name_u in structures:\n",
    "    fig, axes = plt.subplots(1, 5,squeeze=True, figsize=(20,2));\n",
    "    for i in range(1, 6):\n",
    "#         try:\n",
    "        scores = load_alignment_results_v3(what='scoreHistory', alignment_spec=dict(warp_setting=108, \n",
    "                          stack_f=dict(name='%s_instance0' % name_u, vol_type='annotationAsScore'),\n",
    "                         stack_m=dict(name='%s_instance%d' % (name_u, i), vol_type='annotationAsScore')),\n",
    "                 reg_root_dir=os.path.join(MESH_DIR, atlas_name, 'mean_shapes', 'instance_registration')) \n",
    "\n",
    "        axes[i-1].plot(scores);\n",
    "        axes[i-1].set_title('%s_instance%d' % (name_u, i))\n",
    "    plt.show();"
   ]
  },
  {
   "cell_type": "code",
   "execution_count": null,
   "metadata": {},
   "outputs": [],
   "source": [
    "# for name_u in all_known_structures:\n",
    "for name_u in structures:\n",
    "    fig, axes = plt.subplots(1, 5,squeeze=True, figsize=(20,2));\n",
    "    for i in range(1, 6):\n",
    "        trajectory = load_alignment_results_v3(what='trajectory',\n",
    "                          alignment_spec=dict(warp_setting=108, \n",
    "                                              stack_f=dict(name='%s_instance0' % name_u, vol_type='annotationAsScore'),\n",
    "                                             stack_m=dict(name='%s_instance%d' % (name_u, i), vol_type='annotationAsScore')),\n",
    "                                     reg_root_dir=os.path.join(MESH_DIR, atlas_name, 'mean_shapes', 'instance_registration'))        \n",
    "        axes[i-1].plot(trajectory);\n",
    "        axes[i-1].set_title('%s_instance%d' % (name_u, i))\n",
    "    plt.show();"
   ]
  },
  {
   "cell_type": "code",
   "execution_count": null,
   "metadata": {},
   "outputs": [],
   "source": [
    "for name_u in structures:\n",
    "    # Load instance meshes.\n",
    "    instance_meshes = []\n",
    "    for i in range(6):\n",
    "        filepath = get_instance_mesh_filepath(atlas_name=atlas_name, structure=name_u,index=i, resolution='10um')\n",
    "        m = load_data(filepath, filetype='stl')\n",
    "        if m is not None:\n",
    "            instance_meshes.append(m)\n",
    "\n",
    "    #launch_vtk([actor_mesh(m, wireframe=True, color=np.array(high_contrast_colors[i+1])/255., opacity=1, wireframe_linewidth=3) \n",
    "    #    for i, m in enumerate(instance_meshes)], \n",
    "    #  background_color=(1,1,1))\n",
    "    \n",
    "    # Load average shape.\n",
    "    filepath = get_mean_shape_filepath(atlas_name=atlas_name, structure=name_u, what='volume', resolution='10.0um')\n",
    "    vol = load_data(filepath, filetype='stl')\n",
    "    filepath = get_mean_shape_filepath(atlas_name=atlas_name, structure=name_u, what='origin_wrt_meanShapeCentroid', resolution='10.0um')\n",
    "    ori_wrt_meanShapeCentroid = load_data(filepath, filetype='stl')\n",
    "    \n",
    "    standard_shape_volume_actor = actor_volume(vol.astype(np.float32), \n",
    "                                               what='probability', \n",
    "                                               origin=ori_wrt_meanShapeCentroid, \n",
    "                                              c=(0,0,0))\n",
    "    \n",
    "    #launch_vtk([standard_shape_volume_actor])"
   ]
  },
  {
   "cell_type": "markdown",
   "metadata": {},
   "source": [
    "# Combine standard shapes with standard centroid locations"
   ]
  },
  {
   "cell_type": "code",
   "execution_count": 22,
   "metadata": {},
   "outputs": [],
   "source": [
    "#atlas_name = 'atlasVT'\n",
    "atlas_resolution = '10.0um'\n",
    "atlas_resolution_um = 10.0"
   ]
  },
  {
   "cell_type": "code",
   "execution_count": 23,
   "metadata": {
    "scrolled": true
   },
   "outputs": [],
   "source": [
    "filepath = get_structure_mean_positions_filepath(atlas_name=atlas_name, resolution='1um')\n",
    "all_known_structures = all_known_structures_unsided_including_surround_200um()\n",
    "nominal_centroids_wrt_canonicalAtlasSpace_um = load_data(filepath, filetype='pkl')\n",
    "nominal_centroids_wrt_canonicalAtlasSpace_10um = {s: c / atlas_resolution_um for s, c in nominal_centroids_wrt_canonicalAtlasSpace_um.items()}\n",
    "\n",
    "mean_shapes_10um_wrt_stdShapeCentroid = {name_u: load_mean_shape(atlas_name=atlas_name, structure=name_u, resolution=atlas_resolution) \n",
    "                    for name_u in all_known_structures}"
   ]
  },
  {
   "cell_type": "code",
   "execution_count": 24,
   "metadata": {},
   "outputs": [],
   "source": [
    "atlas_spec = dict(name=atlas_name, vol_type='score', resolution=atlas_resolution)"
   ]
  },
  {
   "cell_type": "code",
   "execution_count": 28,
   "metadata": {},
   "outputs": [
    {
     "data": {
      "text/plain": [
       "['10N_L',\n",
       " '10N_R',\n",
       " '12N',\n",
       " '3N_L',\n",
       " '3N_R',\n",
       " '4N_L',\n",
       " '4N_R',\n",
       " '5N_L',\n",
       " '5N_R',\n",
       " '6N_L',\n",
       " '6N_R',\n",
       " '7N_L',\n",
       " '7N_R',\n",
       " 'Amb_L',\n",
       " 'Amb_R',\n",
       " 'AP',\n",
       " 'DC_L',\n",
       " 'DC_R',\n",
       " 'IC',\n",
       " 'LC_L',\n",
       " 'LC_R',\n",
       " 'LRt_L',\n",
       " 'LRt_R',\n",
       " 'PBG_L',\n",
       " 'PBG_R',\n",
       " 'Pn_L',\n",
       " 'Pn_R',\n",
       " 'RMC_L',\n",
       " 'RMC_R',\n",
       " 'RtTg',\n",
       " 'SC',\n",
       " 'SNC_L',\n",
       " 'SNC_R',\n",
       " 'SNR_L',\n",
       " 'SNR_R',\n",
       " 'Sp5C_L',\n",
       " 'Sp5C_R',\n",
       " 'Sp5I_L',\n",
       " 'Sp5I_R',\n",
       " 'Sp5O_L',\n",
       " 'Sp5O_R',\n",
       " 'Tz_L',\n",
       " 'Tz_R',\n",
       " 'VCA_L',\n",
       " 'VCA_R',\n",
       " 'VCP_L',\n",
       " 'VCP_R',\n",
       " 'VLL_L',\n",
       " 'VLL_R']"
      ]
     },
     "execution_count": 28,
     "metadata": {},
     "output_type": "execute_result"
    }
   ],
   "source": [
    "structures"
   ]
  },
  {
   "cell_type": "code",
   "execution_count": 32,
   "metadata": {},
   "outputs": [
    {
     "name": "stdout",
     "output_type": "stream",
     "text": [
      "volume filepath 10N_L.npy\n",
      "origin filepath /net/birdstore/Active_Atlas_Data/data_root/CSHL_volumes/atlasV7/None_annotationAsScoreVolume/10N_L_origin_wrt_canonicalAtlasSpace.txt\n",
      "volume filepath 10N_L_surround_200um.npy\n",
      "origin filepath /net/birdstore/Active_Atlas_Data/data_root/CSHL_volumes/atlasV7/None_annotationAsScoreVolume/10N_L_surround_200um_origin_wrt_canonicalAtlasSpace.txt\n",
      "volume filepath 10N_R.npy\n",
      "origin filepath /net/birdstore/Active_Atlas_Data/data_root/CSHL_volumes/atlasV7/None_annotationAsScoreVolume/10N_R_origin_wrt_canonicalAtlasSpace.txt\n",
      "volume filepath 10N_R_surround_200um.npy\n",
      "origin filepath /net/birdstore/Active_Atlas_Data/data_root/CSHL_volumes/atlasV7/None_annotationAsScoreVolume/10N_R_surround_200um_origin_wrt_canonicalAtlasSpace.txt\n"
     ]
    }
   ],
   "source": [
    "## TODO: simplify this.\n",
    "# mean_shape_wrt_canonicalAtlasSpace_all_structures_10um = {}\n",
    "structures = ['10N']\n",
    "for name_u in structures:\n",
    "# for name_u in ['7N']:\n",
    "#     mean_shape_10um, mean_shape_origin_wrt_stdShapeCentroid_10um = mean_shapes_10um_wrt_stdShapeCentroid[name_u]\n",
    "#     mean_shape_surround_10um, mean_shape_surround_origin_wrt_stdShapeCentroid_10um = mean_shapes_10um_wrt_stdShapeCentroid[convert_to_surround_name(name_u, margin='200um')]\n",
    "    \n",
    "    if name_u in singular_structures:                \n",
    "        for name in [name_u, convert_to_surround_name(name_u, margin='200um')]:\n",
    "            mean_shape_wrt_canonicalAtlasSpace_10um = (mean_shapes_10um_wrt_stdShapeCentroid[name][0], \n",
    "                        mean_shapes_10um_wrt_stdShapeCentroid[name][1] + \n",
    "                                                       nominal_centroids_wrt_canonicalAtlasSpace_10um[name_u])\n",
    "#             mean_shape_wrt_canonicalAtlasSpace_all_structures_10um[name] = mean_shape_wrt_canonicalAtlasSpace_10um\n",
    "            #save_original_volume(volume=mean_shape_wrt_canonicalAtlasSpace_10um, stack_spec=atlas_spec, structure=name, wrt='canonicalAtlasSpace')\n",
    "            print('mean_shape_wrt', np.shape(mean_shape_wrt_canonicalAtlasSpace_10um))\n",
    "    else:\n",
    "        \n",
    "        left_name = convert_to_left_name(name_u)\n",
    "        left_surround_name = convert_to_surround_name(left_name, margin='200um')\n",
    "        right_name = convert_to_right_name(name_u)\n",
    "        right_surround_name = convert_to_surround_name(right_name, margin='200um')\n",
    "\n",
    "        left_mean_shape_wrt_canonicalAtlasSpace_10um = mirror_volume_v2(volume=mean_shapes_10um_wrt_stdShapeCentroid[name_u],\n",
    "             centroid_wrt_origin=-mean_shapes_10um_wrt_stdShapeCentroid[name_u][1],\n",
    "            new_centroid=nominal_centroids_wrt_canonicalAtlasSpace_10um[left_name])\n",
    "\n",
    "        save_original_volume(volume=left_mean_shape_wrt_canonicalAtlasSpace_10um, \n",
    "                             stack_spec=atlas_spec, \n",
    "                             structure=left_name, wrt='canonicalAtlasSpace')\n",
    "\n",
    "        left_mean_shape_wrt_canonicalAtlasSpace_10um = mirror_volume_v2(\\\n",
    "            volume=mean_shapes_10um_wrt_stdShapeCentroid[convert_to_surround_name(name_u, margin='200um')][0],\n",
    "            centroid_wrt_origin=-mean_shapes_10um_wrt_stdShapeCentroid[convert_to_surround_name(name_u, margin='200um')][1],\n",
    "            new_centroid=nominal_centroids_wrt_canonicalAtlasSpace_10um[left_name])        \n",
    "        \n",
    "        save_original_volume(volume=left_mean_shape_wrt_canonicalAtlasSpace_10um, \n",
    "                             stack_spec=atlas_spec, \n",
    "                             structure=left_surround_name, wrt='canonicalAtlasSpace')\n",
    "        \n",
    "        \n",
    "        right_mean_shape_wrt_canonicalAtlasSpace_10um = (mean_shapes_10um_wrt_stdShapeCentroid[name_u][0], \n",
    "        mean_shapes_10um_wrt_stdShapeCentroid[name_u][1] + nominal_centroids_wrt_canonicalAtlasSpace_10um[right_name])\n",
    "        \n",
    "        save_original_volume(volume=right_mean_shape_wrt_canonicalAtlasSpace_10um, \n",
    "                                 stack_spec=atlas_spec, \n",
    "                                 structure=right_name, wrt='canonicalAtlasSpace')\n",
    "            \n",
    "        \n",
    "        \n",
    "        right_mean_shape_wrt_canonicalAtlasSpace_10um = (mean_shapes_10um_wrt_stdShapeCentroid[convert_to_surround_name(name_u, margin='200um')][0], \n",
    "        mean_shapes_10um_wrt_stdShapeCentroid[convert_to_surround_name(name_u, margin='200um')][1] + nominal_centroids_wrt_canonicalAtlasSpace_10um[right_name])\n",
    "        \n",
    "        save_original_volume(volume=right_mean_shape_wrt_canonicalAtlasSpace_10um, \n",
    "                                 stack_spec=atlas_spec, \n",
    "                                 structure=right_surround_name, wrt='canonicalAtlasSpace')"
   ]
  },
  {
   "cell_type": "markdown",
   "metadata": {},
   "source": [
    "# Convert to vtk polydata for visualization"
   ]
  },
  {
   "cell_type": "code",
   "execution_count": null,
   "metadata": {
    "scrolled": true
   },
   "outputs": [],
   "source": [
    "#for name_s in all_known_structures_sided_including_surround_200um:\n",
    "for name_s in structures:\n",
    "    atlas_structure_wrt_canonicalAtlasSpace = \\\n",
    "    load_original_volume_v2(stack_spec=atlas_spec, structure=name_s, bbox_wrt='canonicalAtlasSpace')\n",
    "\n",
    "    for surface_level in np.arange(0.1, 1.1, .1):\n",
    "        mean_shape_isosurface_polydata_wrt_canonicalAtlasSpace = \\\n",
    "        volume_to_polydata(volume=(atlas_structure_wrt_canonicalAtlasSpace[0] >= surface_level, atlas_structure_wrt_canonicalAtlasSpace[1]), \n",
    "                     num_simplify_iter=3, smooth=True, \n",
    "                     return_vertex_face_list=False)\n",
    "        path = '/home/eddyod/tmp/meshes'\n",
    "        if surface_level == 0.2:\n",
    "            filepath = os.path.join(path, '{}_{}.stl'.format(name_s, surface_level))\n",
    "            save_mesh_stl(mean_shape_isosurface_polydata_wrt_canonicalAtlasSpace, filepath)\n",
    "        #save_data(mean_shape_isosurface_polydata_wrt_canonicalAtlasSpace, \n",
    "        #          DataManager.get_mesh_filepath_v2(atlas_spec, structure=name_s, level=surface_level))"
   ]
  },
  {
   "cell_type": "code",
   "execution_count": null,
   "metadata": {},
   "outputs": [],
   "source": [
    "mean_shape_level05isosurface_polydata_wrt_canonicalAtlasSpace_all_structures = \\\n",
    "{name_s: load_data(DataManager.get_mesh_filepath_v2(atlas_spec, structure=name_s, level=0.5))\n",
    "for name_s in all_known_structures_sided}"
   ]
  },
  {
   "cell_type": "code",
   "execution_count": null,
   "metadata": {},
   "outputs": [],
   "source": [
    "#launch_vtk([actor_mesh(v, wireframe=False, opacity=.5, color=name_unsided_to_color_float[convert_to_original_name(s)]) \n",
    "#            for s, v in mean_shape_level05isosurface_polydata_wrt_canonicalAtlasSpace_all_structures.iteritems()] \\\n",
    "#          + [actor_sphere([0,0,0])])"
   ]
  },
  {
   "cell_type": "markdown",
   "metadata": {},
   "source": [
    "# Shell"
   ]
  },
  {
   "cell_type": "markdown",
   "metadata": {},
   "source": [
    "Just use MD589's shell, until we find a way to average the outlines."
   ]
  },
  {
   "cell_type": "code",
   "execution_count": null,
   "metadata": {},
   "outputs": [],
   "source": [
    "stack_fixed = 'MD589'\n",
    "MASKS = '/net/birdstore/Active_Atlas_Data/data_root/brains_info/masks/{}/aligned'.format(stack_fixed)\n",
    "margin_um = 200\n",
    "in_resolution_um = 0.46 * 32\n",
    "margin_tb = margin_um / XY_PIXEL_DISTANCE_TB\n",
    "for stack in ['MD589']:\n",
    "    #sqlController = SqlController(stack)\n",
    "#     contours_valid_by_z = {}\n",
    "    contour_prob_maps_by_sec = {} \n",
    "    sections = sorted(os.listdir(MASKS))\n",
    "    i = 1\n",
    "    for sec in sections[0:10]:\n",
    "        maskfile = os.path.join(MASKS, sec)\n",
    "        m = io.imread(maskfile)\n",
    "        contours = find_contour_points(m, sample_every=1)[1]\n",
    "        contours_valid = [cnt[(cnt[:,0] >= 1) & (cnt[:,1] >= 1)] for cnt in contours]\n",
    "#         z = np.mean(DataManager.convert_section_to_z(stack, sec, downsample=32, z_begin=0))\n",
    "#         contours_valid_by_z[z] = contours_valid[0]\n",
    "        m2 = np.zeros_like(m, np.bool)\n",
    "        for cnt in contours_valid:\n",
    "            m2[cnt[:,1], cnt[:,0]] = 1\n",
    "        distance_to_contour = distance_transform_edt(~m2)\n",
    "        contour_prob_map = np.exp(-distance_to_contour**2/(2*margin_tb)**2)\n",
    "        contour_prob_map[contour_prob_map < 1e-2] = 0\n",
    "        contour_prob_maps_by_sec[i] = contour_prob_map\n",
    "        i += 1\n",
    "        \n",
    "outline_prob_volume_atlasResol, outline_prob_volume_origin_wrt_wholebrainXYcropped_atlasResol = \\\n",
    "images_to_volume_v2(images=contour_prob_maps_by_sec, spacing_um=20, \n",
    "                    in_resol_um = in_resolution_um,\n",
    "                    out_resol_um = atlas_resolution_um)                                                                    \n",
    "#outline_prob_volume_bbox (xm,xm,ym,ym) relative to cropped, (zm,zm) relative to uncropped.\n",
    "# crop_box = metadata_cache['cropbox']['MD589']\n",
    "alignedBrainstemCrop_cropbox_down32 = load_cropbox_v2(stack=stack_fixed, prep_id='alignedBrainstemCrop')\n",
    "alignedBrainstemCrop_cropbox_atlasResol = alignedBrainstemCrop_cropbox_down32 * in_resolution_um / atlas_resolution_um\n",
    "outline_prob_volume_origin_rel2fixedwholebrain_atlasResol = outline_prob_volume_origin_wrt_wholebrainXYcropped_atlasResol + (alignedBrainstemCrop_cropbox_atlasResol[0], alignedBrainstemCrop_cropbox_atlasResol[2], 0)\n",
    "#display_volume_sections(outline_prob_volume, direction='z', ncols=5, cmap=plt.cm.gray, start_level=0)"
   ]
  },
  {
   "cell_type": "code",
   "execution_count": null,
   "metadata": {},
   "outputs": [],
   "source": [
    "outline_prob_volume_origin_rel2canon_atlasResol = outline_prob_volume_origin_rel2fixedwholebrain_atlasResol - \\\n",
    "canonical_center_wrt_fixed_um/convert_resolution_string_to_um(resolution='10.0um')"
   ]
  },
  {
   "cell_type": "code",
   "execution_count": null,
   "metadata": {},
   "outputs": [],
   "source": [
    "shell_vol_origin_dict_rel2canon = {'shell': (outline_prob_volume_atlasResol, outline_prob_volume_origin_rel2canon_atlasResol)}"
   ]
  },
  {
   "cell_type": "markdown",
   "metadata": {},
   "source": [
    "# Side task: compute the volumes of structures"
   ]
  },
  {
   "cell_type": "code",
   "execution_count": null,
   "metadata": {},
   "outputs": [],
   "source": [
    "atlas_resolution = '10.0um'\n",
    "atlas_resolution_um = 10.0\n",
    "atlas_spec = dict(name='atlasV7', vol_type='score', resolution=atlas_resolution)\n",
    "volumes = load_original_volume_all_known_structures_v3(atlas_spec, \n",
    "                           structures=all_known_structures_sided, in_bbox_wrt='canonicalAtlasSpace')\n",
    "\n",
    "volumes_mm3 = defaultdict(dict)\n",
    "structures = ['SC', 'IC']\n",
    "for name_u in structures:\n",
    "    for level in np.arange(0, 1.1, .1):\n",
    "        volumes_mm3[name_u][level] = np.count_nonzero(volumes[convert_to_left_name(name_u)][0] > level) * 10.**3 / 1e9"
   ]
  },
  {
   "cell_type": "code",
   "execution_count": null,
   "metadata": {},
   "outputs": [],
   "source": [
    "df = pd.DataFrame(volumes_mm3)"
   ]
  },
  {
   "cell_type": "code",
   "execution_count": null,
   "metadata": {},
   "outputs": [],
   "source": [
    "df.head()"
   ]
  },
  {
   "cell_type": "markdown",
   "metadata": {},
   "source": [
    "# Load"
   ]
  },
  {
   "cell_type": "code",
   "execution_count": null,
   "metadata": {},
   "outputs": [],
   "source": [
    "standard_shape_level05surface_polydata_wrt_canonicalAtlasSpace_all_structures = \\\n",
    "DataManager.load_meshes_v2(atlas_spec, levels=.5, include_surround=True, \n",
    "                           structures=all_known_structures_sided)\n",
    "#                            structures=all_known_structures_sided + all_known_structures_sided_with_surround_200um)"
   ]
  },
  {
   "cell_type": "code",
   "execution_count": null,
   "metadata": {},
   "outputs": [],
   "source": [
    "launch_vtk([actor_mesh(p, wireframe=True) \n",
    "           for s, p in standard_shape_level05surface_polydata_wrt_canonicalAtlasSpace_all_structures.iteritems()] \\\n",
    "            + [actor_sphere((0,0,0), radius=1)])"
   ]
  },
  {
   "cell_type": "code",
   "execution_count": null,
   "metadata": {},
   "outputs": [],
   "source": [
    "# Show multiple iso-surfaces\n",
    "\n",
    "standard_shape_level010surface_polydata_wrt_canonicalAtlasSpace_all_structures = \\\n",
    "DataManager.load_meshes_v2(atlas_spec, levels=.1, include_surround=True, \n",
    "                           structures=all_known_structures_sided)\n",
    "#                            structures=all_known_structures_sided + all_known_structures_sided_with_surround_200um)\n",
    "\n",
    "standard_shape_level090surface_polydata_wrt_canonicalAtlasSpace_all_structures = \\\n",
    "DataManager.load_meshes_v2(atlas_spec, levels=.9, include_surround=True, \n",
    "                           structures=all_known_structures_sided)\n",
    "#                            structures=all_known_structures_sided + all_known_structures_sided_with_surround_200um)\n",
    "\n",
    "launch_vtk([actor_mesh(p, wireframe=False, color=name_unsided_to_color_float[convert_to_unsided_label(s)], opacity=.2) \n",
    "           for s, p in standard_shape_level010surface_polydata_wrt_canonicalAtlasSpace_all_structures.iteritems()] \\\n",
    "           + [actor_mesh(p, wireframe=False, color=name_unsided_to_color_float[convert_to_unsided_label(s)], opacity=.1) \n",
    "           for s, p in standard_shape_level090surface_polydata_wrt_canonicalAtlasSpace_all_structures.iteritems()] \\\n",
    "            + [actor_sphere((0,0,0), radius=1)])"
   ]
  },
  {
   "cell_type": "code",
   "execution_count": null,
   "metadata": {},
   "outputs": [],
   "source": [
    "# Load shell\n",
    "\n",
    "stack_fixed = 'MD589'\n",
    "shell_polydata_rel2fixedWholebrain = DataManager.load_mesh_v2(brain_spec={'name':stack_fixed, \n",
    "                                                                    'vol_type':'annotationAsScore',\n",
    "                                                                   'resolution':'10.0um'}, \n",
    "                                                        structure='shell')\n",
    "\n",
    "shell_polydata_rel2canonicalAtlasSpace = move_polydata(shell_polydata_rel2fixedWholebrain,\n",
    "                                                       -canonical_center_wrt_fixed_um / convert_resolution_string_to_um(resolution='10.0um'))\n",
    "\n",
    "shell_actor_rel2canon = actor_mesh(shell_polydata_rel2fixedWholebrain, (1,1,1), opacity=.15, \n",
    "                              wireframe=False, origin=-canonical_center_wrt_fixed_um / convert_resolution_string_to_um(resolution='10.0um'))"
   ]
  },
  {
   "cell_type": "code",
   "execution_count": null,
   "metadata": {},
   "outputs": [],
   "source": [
    "save_data(shell_polydata_rel2canonicalAtlasSpace, \n",
    "          DataManager.get_mesh_filepath_v2(atlas_spec, structure='shell', level=None))"
   ]
  },
  {
   "cell_type": "code",
   "execution_count": null,
   "metadata": {},
   "outputs": [],
   "source": [
    "launch_vtk([actor_mesh(p, wireframe=False, color=name_unsided_to_color_float[convert_to_unsided_label(s)], opacity=.2) \n",
    "           for s, p in standard_shape_level010surface_polydata_wrt_canonicalAtlasSpace_all_structures.iteritems()] \\\n",
    "           + [actor_mesh(p, wireframe=False, color=name_unsided_to_color_float[convert_to_unsided_label(s)], opacity=.1) \n",
    "           for s, p in standard_shape_level090surface_polydata_wrt_canonicalAtlasSpace_all_structures.iteritems()] \\\n",
    "            + [actor_sphere((0,0,0), radius=1)]\\\n",
    "#           +[shell_actor_rel2canon] \\\n",
    "           +[actor_mesh(shell_polydata_rel2canonicalAtlasSpace, (1,1,1), opacity=.15, \n",
    "                              wireframe=False)]\n",
    "#           +[actor_volume(shell_vol_origin_dict_rel2canon['shell'][0].astype(np.float32), \n",
    "#                          what='probability', origin=shell_vol_origin_dict_rel2canon['shell'][1])]\n",
    "          )"
   ]
  },
  {
   "cell_type": "code",
   "execution_count": null,
   "metadata": {},
   "outputs": [],
   "source": [
    "# atlas_volume, structure_to_label, label_to_structure = \\\n",
    "# DataManager.load_original_volume_all_known_structures(stack=atlas_name, sided=True)"
   ]
  },
  {
   "cell_type": "code",
   "execution_count": null,
   "metadata": {},
   "outputs": [],
   "source": [
    "vol, origin_rel2canon = structure_vol_origin_dicts_rel2canon['7N_L']\n",
    "\n",
    "one_structure_volume_actor_rel2canon = actor_volume(vol.astype(np.float32), what='score', \n",
    "                                              origin=origin_rel2canon,\n",
    "                                                    auxdata=0.8*(vol>0.1).astype(np.float32),\n",
    "                                              c=np.array(name_unsided_to_color['7N'])/255.)\n",
    "#                                             c=np.array((1,0,0)))"
   ]
  },
  {
   "cell_type": "markdown",
   "metadata": {},
   "source": [
    "# Render"
   ]
  },
  {
   "cell_type": "code",
   "execution_count": null,
   "metadata": {},
   "outputs": [],
   "source": [
    "launch_vtk([] \\\n",
    "    + structure_mesh_actors_rel2canon \\\n",
    "#     + [one_structure_volume_actor_rel2canon] \\\n",
    "#     + [shell_volume_actor_rel2canon] \\\n",
    "#     + structure_mesh_surround_actors_rel2canon \\\n",
    "    + [shell_actor_rel2canon] \\\n",
    "    + [actor_sphere((0,0,0), radius=1)], \n",
    "           init_angle='sagittal', \n",
    "    background_color=(1,1,1),\n",
    "depth_peeling=True)"
   ]
  }
 ],
 "metadata": {
  "kernelspec": {
   "display_name": "Python 2",
   "language": "python",
   "name": "python2"
  },
  "language_info": {
   "codemirror_mode": {
    "name": "ipython",
    "version": 3
   },
   "file_extension": ".py",
   "mimetype": "text/x-python",
   "name": "python",
   "nbconvert_exporter": "python",
   "pygments_lexer": "ipython3",
   "version": "3.8.2"
  }
 },
 "nbformat": 4,
 "nbformat_minor": 2
}
