{
 "cells": [
  {
   "cell_type": "code",
   "execution_count": 1,
   "metadata": {},
   "outputs": [],
   "source": [
    "import numpy as np\n",
    "import os, sys\n",
    "from datetime import datetime\n",
    "import requests\n",
    "from requests.exceptions import HTTPError\n",
    "%load_ext autoreload\n",
    "%autoreload 2"
   ]
  },
  {
   "cell_type": "code",
   "execution_count": 2,
   "metadata": {},
   "outputs": [],
   "source": [
    "HOME = os.path.expanduser(\"~\")\n",
    "DIR = os.path.join(HOME, 'programming/pipeline_utility')\n",
    "sys.path.append(DIR)\n",
    "from utilities.model.center_of_mass import CenterOfMass\n",
    "from utilities.model.structure import Structure\n",
    "from sqlalchemy import func\n",
    "from sql_setup import session"
   ]
  },
  {
   "cell_type": "code",
   "execution_count": 3,
   "metadata": {},
   "outputs": [],
   "source": [
    "def get_transformation_matrix(animal):\n",
    "    try:\n",
    "        url = f'https://activebrainatlas.ucsd.edu/activebrainatlas/rotation/{animal}/manual/2'\n",
    "        response = requests.get(url)\n",
    "        response.raise_for_status()\n",
    "        # access JSOn content\n",
    "        transformation_matrix = response.json()\n",
    "\n",
    "    except HTTPError as http_err:\n",
    "        print(f'HTTP error occurred: {http_err}')\n",
    "    except Exception as err:\n",
    "        print(f'Other error occurred: {err}')\n",
    "\n",
    "    return transformation_matrix"
   ]
  },
  {
   "cell_type": "code",
   "execution_count": 4,
   "metadata": {},
   "outputs": [],
   "source": [
    "prep_id = 'DK52'"
   ]
  },
  {
   "cell_type": "code",
   "execution_count": 5,
   "metadata": {},
   "outputs": [],
   "source": [
    "transformation = get_transformation_matrix(prep_id)\n",
    "r = np.array(transformation['rotation'])\n",
    "t = np.array(transformation['translation'])"
   ]
  },
  {
   "cell_type": "code",
   "execution_count": 6,
   "metadata": {},
   "outputs": [
    {
     "data": {
      "text/plain": [
       "array([[ 0.90823119, -0.24441544, -0.05697743],\n",
       "       [ 0.2488724 ,  0.90471918,  0.08611017],\n",
       "       [ 0.03237074, -0.09804858,  0.93659374]])"
      ]
     },
     "execution_count": 6,
     "metadata": {},
     "output_type": "execute_result"
    }
   ],
   "source": [
    "r"
   ]
  },
  {
   "cell_type": "code",
   "execution_count": 7,
   "metadata": {},
   "outputs": [
    {
     "data": {
      "text/plain": [
       "array([[-15509.17500957],\n",
       "       [-12625.10609468],\n",
       "       [   -66.471405  ]])"
      ]
     },
     "execution_count": 7,
     "metadata": {},
     "output_type": "execute_result"
    }
   ],
   "source": [
    "t"
   ]
  },
  {
   "cell_type": "code",
   "execution_count": 8,
   "metadata": {},
   "outputs": [],
   "source": [
    "# person_id = 2 = beth\n",
    "rows = session.query(CenterOfMass).filter(\n",
    "    CenterOfMass.active.is_(True))\\\n",
    "        .filter(CenterOfMass.prep_id == prep_id)\\\n",
    "        .filter(CenterOfMass.person_id == 2)\\\n",
    "        .all()\n",
    "row_dict = {}\n",
    "for row in rows:\n",
    "    structure = row.structure.abbreviation\n",
    "    row_dict[structure] = [row.x, row.y, row.section]"
   ]
  },
  {
   "cell_type": "code",
   "execution_count": 9,
   "metadata": {},
   "outputs": [],
   "source": [
    "def brain_to_atlas_transform(\n",
    "    brain_coord, r, t,\n",
    "    brain_scale=(0.325, 0.325, 20),\n",
    "    atlas_scale=(10, 10, 20)\n",
    "):\n",
    "    \"\"\"\n",
    "    Takes an x,y,z brain coordinates, and a rotation matrix and transform vector.\n",
    "    Returns the point in atlas coordinates.\n",
    "    \n",
    "    The recorded r, t is the transformation from brain to atlas such that:\n",
    "        t_phys = atlas_scale @ t\n",
    "        atlas_coord_phys = r @ brain_coord_phys + t_phys\n",
    "        \n",
    "    Currently we erraneously have:\n",
    "        t_phys = brain_scale @ t\n",
    "    This should be fixed in the future.\n",
    "    \"\"\"\n",
    "    brain_scale = np.diag(brain_scale)\n",
    "    atlas_scale = np.diag(atlas_scale)\n",
    "\n",
    "    # Transform brain coordinates to physical space\n",
    "    brain_coord = np.array(brain_coord).reshape(3, 1) # Convert to a column vector\n",
    "    brain_coord_phys = brain_scale @ brain_coord\n",
    "    \n",
    "    # Apply affine transformation in physical space\n",
    "    # t_phys = atlas_scale @ t\n",
    "    # The following is wrong but it is what the rest of the code assumes\n",
    "    # We need to fix it in the future\n",
    "    t_phys = brain_scale @ t\n",
    "    atlas_coord_phys = r @ brain_coord_phys + t_phys\n",
    "\n",
    "    # Bring atlas coordinates back to atlas space\n",
    "    atlas_coord = np.linalg.inv(atlas_scale) @ atlas_coord_phys\n",
    "\n",
    "    return atlas_coord.T[0] # Convert back to a row vector"
   ]
  },
  {
   "cell_type": "code",
   "execution_count": 10,
   "metadata": {},
   "outputs": [
    {
     "name": "stdout",
     "output_type": "stream",
     "text": [
      "10N_L 674.359375132126 517.6447529654359 133.37338861407622\n",
      "10N_R 676.6877414897851 521.9721034216176 160.73661356771342\n",
      "12N 667.8943939828612 543.9186974775488 147.1365615789699\n",
      "3N_L 372.11614431893224 391.2500153842294 143.26197019087277\n",
      "3N_R 365.0338770355665 389.8419261207911 153.53902174695074\n",
      "4N_L 413.12685349341 392.60379416947666 135.91538296593458\n",
      "4N_R 410.18540566693946 397.50157003351535 158.35220720300381\n",
      "5N_L 465.3184108344723 507.62809694021973 83.86843992886303\n",
      "5N_R 463.90698515681333 496.1436855205638 214.22627914717543\n",
      "6N_L 515.7034355513595 525.3375217906801 165.16495580569642\n",
      "6N_R 514.9607478183171 527.1120978468601 129.98564316294457\n",
      "7N_L 603.5628429703469 612.797325839532 211.21573722760724\n",
      "7N_R 539.1103004065724 634.4812027175976 210.1544094818655\n",
      "AP 698.3946320438057 501.7239849492789 146.212076085497\n",
      "Amb_L 603.822914775585 620.2993114873375 82.9019022029953\n",
      "DC_L 581.2898481901691 466.81738687662795 49.457019038682986\n",
      "DC_R 575.3076898031396 464.0790662020126 251.32001583909187\n",
      "IC 492.4462676151277 208.2650635450841 145.8541198888011\n",
      "LC_L 515.0064961664998 442.1063737830598 103.5594755546021\n",
      "LC_R 514.0778773356013 437.866555344861 189.04405360206863\n",
      "LRt_L 708.228936865899 655.1886749367413 94.90154518682299\n",
      "LRt_R 692.166186886548 651.3547607774411 201.71059196092224\n",
      "PBG_L 402.9713778932569 370.7911811954225 56.031167079014224\n",
      "PBG_R 392.839265662615 390.1811234522641 236.84318527162924\n",
      "Pn_L 335.850240714281 626.2375921292636 119.98078767015222\n",
      "Pn_R 330.91805662069993 623.474553127181 180.62830124956733\n",
      "RtTg 375.90488187939366 585.384936604937 150.56846524669828\n",
      "SC 398.37690876682314 168.27727368036278 144.83101076983567\n",
      "SNC_L 281.4415201589255 509.36278333141445 87.67541451750317\n",
      "SNC_R 291.4727652219391 491.6661861675698 218.6668829835483\n",
      "SNR_L 347.9729372355659 443.21655591688227 123.07511861604438\n",
      "SNR_R 309.7043852528983 508.8622061956635 221.27487288789126\n",
      "Sp5C_L 748.4908991289008 552.0752051020643 76.21892088386444\n",
      "Sp5C_R 706.8918771477136 574.9529998959911 239.79785523293373\n",
      "Sp5I_L 635.2717772280558 552.564900395629 66.1167437215464\n",
      "Sp5I_R 618.8335679395587 566.7998497444885 230.85831418077964\n",
      "Tz_L 432.58661497347794 660.6505034516156 124.185227452849\n",
      "Tz_R 435.3248834834019 660.4041287961956 174.5226194818884\n",
      "VCA_L 505.4443629046572 509.78836244217285 31.90295269378571\n",
      "VCA_R 491.34940232504334 496.9543722711772 263.3705596040663\n",
      "VCP_L 540.373730871687 549.0515739278466 35.9003721796817\n",
      "VCP_R 555.759180058192 537.5941315626249 263.46153138633963\n",
      "VLL_L 408.2178824330741 461.8656921220588 70.01563019437336\n",
      "VLL_R 410.56242193688934 469.8859489137939 231.82230342432518\n"
     ]
    }
   ],
   "source": [
    "data = []\n",
    "person_id = 28 # bili, this is your database ID\n",
    "for abbrev,v in row_dict.items():\n",
    "    x = v[0]\n",
    "    y = v[1]\n",
    "    section = v[2]\n",
    "    structure = session.query(Structure).filter(Structure.abbreviation == func.binary(abbrev)).one()\n",
    "    x,y,section = brain_to_atlas_transform([[x],[y],[section]], r, t)\n",
    "    data.append([x, y, section])\n",
    "    print(abbrev, x, y, section)\n",
    "    continue\n",
    "    com = CenterOfMass(\n",
    "        prep_id=prep_id, structure=structure, x=x, y=y, section=section,\n",
    "        created=datetime.utcnow(), active=True, person_id=person_id, input_type='aligned'\n",
    "    )\n",
    "    try:\n",
    "        session.add(com)\n",
    "        session.commit()\n",
    "    except Exception as e:\n",
    "        print(f'No merge for {abbrev} {e}')\n",
    "        session.rollback()\n",
    "\n",
    "data = np.array(data)"
   ]
  },
  {
   "cell_type": "code",
   "execution_count": 11,
   "metadata": {},
   "outputs": [
    {
     "name": "stdout",
     "output_type": "stream",
     "text": [
      "No histology for Atlas\n",
      "No scan run for Atlas\n"
     ]
    },
    {
     "data": {
      "text/plain": [
       "{'10N_L': array([703.341 , 547.9286, 135.6302]),\n",
       " '10N_R': array([703.341 , 547.9286, 164.3698]),\n",
       " '12N': array([697.227 , 567.0988, 149.25  ]),\n",
       " '3N_L': array([364.555 , 391.506 , 143.2358]),\n",
       " '3N_R': array([364.555 , 391.506 , 156.7642]),\n",
       " '4N_L': array([399.441  , 396.104  , 137.62875]),\n",
       " '4N_R': array([399.441  , 396.104  , 162.37125]),\n",
       " '5N_L': array([456.7992 , 502.07948,  81.9005 ]),\n",
       " '5N_R': array([456.7992 , 502.07948, 218.0995 ]),\n",
       " '6N_L': array([517.1597, 512.4922, 132.3135]),\n",
       " '6N_R': array([517.1597, 512.4922, 167.6865]),\n",
       " 'AP': array([702.306 , 525.6525, 151.    ]),\n",
       " 'Amb_L': array([612.44  , 603.826 ,  88.2695]),\n",
       " 'Amb_R': array([612.44  , 603.826 , 211.7305]),\n",
       " 'DC_L': array([583.2885, 456.4954,  42.084 ]),\n",
       " 'DC_R': array([583.2885, 456.4954, 257.916 ]),\n",
       " 'IC': array([496.7529, 251.693 , 150.    ]),\n",
       " 'LC_L': array([496.19734, 442.8079 , 108.22515]),\n",
       " 'LC_R': array([496.19734, 442.8079 , 191.77485]),\n",
       " 'LRt_L': array([688.194, 646.863,  93.755]),\n",
       " 'LRt_R': array([688.194, 646.863, 206.245]),\n",
       " 'PBG_L': array([396.038 , 372.985 ,  56.9915]),\n",
       " 'PBG_R': array([396.038 , 372.985 , 243.0085]),\n",
       " 'Pn_L': array([328.332  , 593.0847 , 122.74055]),\n",
       " 'Pn_R': array([328.332  , 593.0847 , 177.25945]),\n",
       " 'RtTg': array([378.454 , 562.2477, 148.25  ]),\n",
       " 'SC': array([371.982, 258.871, 151.5  ]),\n",
       " 'SNC_L': array([268.515 , 482.5814,  89.467 ]),\n",
       " 'SNC_R': array([268.515 , 482.5814, 210.533 ]),\n",
       " 'SNR_L': array([301.875 , 477.6826,  79.542 ]),\n",
       " 'SNR_R': array([301.875 , 477.6826, 220.458 ]),\n",
       " 'Sp5C_L': array([756.283 , 582.0335,  82.774 ]),\n",
       " 'Sp5C_R': array([756.283 , 582.0335, 217.226 ]),\n",
       " 'Sp5I_L': array([679.326 , 550.5224,  54.314 ]),\n",
       " 'Sp5I_R': array([679.326 , 550.5224, 245.686 ]),\n",
       " 'Sp5O_L': array([601.378 , 549.4977,  56.9175]),\n",
       " 'Sp5O_R': array([601.378 , 549.4977, 243.0825]),\n",
       " 'Tz_L': array([427.2079 , 620.224  , 124.34795]),\n",
       " 'Tz_R': array([427.2079 , 620.224  , 175.65205]),\n",
       " 'VCA_L': array([504.07409, 495.00897,  28.266  ]),\n",
       " 'VCA_R': array([504.07409, 495.00897, 271.734  ]),\n",
       " 'VCP_L': array([560.0779, 513.7844,  34.335 ]),\n",
       " 'VCP_R': array([560.0779, 513.7844, 265.665 ]),\n",
       " 'VLL_L': array([378.011 , 515.4707,  75.8025]),\n",
       " 'VLL_R': array([378.011 , 515.4707, 224.1975])}"
      ]
     },
     "execution_count": 11,
     "metadata": {},
     "output_type": "execute_result"
    }
   ],
   "source": [
    "# Print atlas COMs for comparison\n",
    "\n",
    "from utilities.sqlcontroller import SqlController\n",
    "\n",
    "def get_atlas_centers(\n",
    "        atlas_box_size=(1000, 1000, 300),\n",
    "        atlas_box_scales=(10, 10, 20),\n",
    "        atlas_raw_scale=10\n",
    "):\n",
    "    atlas_box_scales = np.array(atlas_box_scales)\n",
    "    atlas_box_size = np.array(atlas_box_size)\n",
    "    atlas_box_center = atlas_box_size / 2\n",
    "    sqlController = SqlController('Atlas')\n",
    "    atlas_centers = sqlController.get_centers_dict('Atlas')\n",
    "\n",
    "    for structure, center in atlas_centers.items():\n",
    "        # transform into the atlas box coordinates that neuroglancer assumes\n",
    "        center = atlas_box_center + np.array(center) * atlas_raw_scale / atlas_box_scales\n",
    "        atlas_centers[structure] = center\n",
    "\n",
    "    return atlas_centers\n",
    "\n",
    "get_atlas_centers()"
   ]
  }
 ],
 "metadata": {
  "kernelspec": {
   "display_name": "Python 3",
   "language": "python",
   "name": "python3"
  },
  "language_info": {
   "codemirror_mode": {
    "name": "ipython",
    "version": 3
   },
   "file_extension": ".py",
   "mimetype": "text/x-python",
   "name": "python",
   "nbconvert_exporter": "python",
   "pygments_lexer": "ipython3",
   "version": "3.9.2"
  }
 },
 "nbformat": 4,
 "nbformat_minor": 4
}
