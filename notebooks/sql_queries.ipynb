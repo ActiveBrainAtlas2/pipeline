{
 "cells": [
  {
   "cell_type": "code",
   "execution_count": 2,
   "metadata": {},
   "outputs": [],
   "source": [
    "import numpy as np\n",
    "import os, sys\n",
    "from datetime import datetime\n",
    "import requests\n",
    "from requests.exceptions import HTTPError\n",
    "%load_ext autoreload\n",
    "%autoreload 2"
   ]
  },
  {
   "cell_type": "code",
   "execution_count": 3,
   "metadata": {},
   "outputs": [],
   "source": [
    "HOME = os.path.expanduser(\"~\")\n",
    "DIR = os.path.join(HOME, 'programming/pipeline_utility')\n",
    "sys.path.append(DIR)\n",
    "from utilities.model.center_of_mass import CenterOfMass\n",
    "from utilities.model.structure import Structure\n",
    "from sqlalchemy import func\n",
    "from sql_setup import session"
   ]
  },
  {
   "cell_type": "code",
   "execution_count": 4,
   "metadata": {},
   "outputs": [],
   "source": [
    "def get_transformation_matrix(animal):\n",
    "    try:\n",
    "        url = f'https://activebrainatlas.ucsd.edu/activebrainatlas/rotation/{animal}/manual/2'\n",
    "        response = requests.get(url)\n",
    "        response.raise_for_status()\n",
    "        # access JSOn content\n",
    "        transformation_matrix = response.json()\n",
    "\n",
    "    except HTTPError as http_err:\n",
    "        print(f'HTTP error occurred: {http_err}')\n",
    "    except Exception as err:\n",
    "        print(f'Other error occurred: {err}')\n",
    "\n",
    "    return transformation_matrix\n"
   ]
  },
  {
   "cell_type": "code",
   "execution_count": 6,
   "metadata": {},
   "outputs": [],
   "source": [
    "prep_id = 'DK52'"
   ]
  },
  {
   "cell_type": "code",
   "execution_count": 7,
   "metadata": {},
   "outputs": [],
   "source": [
    "transformation = get_transformation_matrix(prep_id)\n",
    "r = transformation['rotation']\n",
    "t = transformation['translation']"
   ]
  },
  {
   "cell_type": "code",
   "execution_count": null,
   "metadata": {},
   "outputs": [],
   "source": [
    "r"
   ]
  },
  {
   "cell_type": "code",
   "execution_count": 8,
   "metadata": {},
   "outputs": [],
   "source": [
    "# person_id = 2 = beth\n",
    "rows = session.query(CenterOfMass).filter(\n",
    "    CenterOfMass.active.is_(True))\\\n",
    "        .filter(CenterOfMass.prep_id == prep_id)\\\n",
    "        .filter(CenterOfMass.person_id == 2)\\\n",
    "        .all()\n",
    "row_dict = {}\n",
    "for row in rows:\n",
    "    structure = row.structure.abbreviation\n",
    "    # bili, do your transformation on x,y,section here\n",
    "    row_dict[structure] = [row.x, row.y, row.section]\n"
   ]
  },
  {
   "cell_type": "code",
   "execution_count": 9,
   "metadata": {},
   "outputs": [],
   "source": [
    "def brain_to_atlas_transform(brain_coord, r, t):\n",
    "    \"\"\"\n",
    "    Takes an x,y,z brain coordinates, and a rotation matrix and transform vector.\n",
    "    Returns the point in atlas coordinates. \n",
    "    \"\"\"\n",
    "    atlas_coord = brain_coord @ r + t \n",
    "    return atlas_coord\n"
   ]
  },
  {
   "cell_type": "code",
   "execution_count": 10,
   "metadata": {},
   "outputs": [
    {
     "ename": "NameError",
     "evalue": "name 'brain_to_atlas' is not defined",
     "output_type": "error",
     "traceback": [
      "\u001b[0;31m---------------------------------------------------------------------------\u001b[0m",
      "\u001b[0;31mNameError\u001b[0m                                 Traceback (most recent call last)",
      "\u001b[0;32m<ipython-input-10-4309594303c9>\u001b[0m in \u001b[0;36m<module>\u001b[0;34m\u001b[0m\n\u001b[1;32m      4\u001b[0m     \u001b[0my\u001b[0m \u001b[0;34m=\u001b[0m \u001b[0mv\u001b[0m\u001b[0;34m[\u001b[0m\u001b[0;36m1\u001b[0m\u001b[0;34m]\u001b[0m\u001b[0;34m\u001b[0m\u001b[0;34m\u001b[0m\u001b[0m\n\u001b[1;32m      5\u001b[0m     \u001b[0msection\u001b[0m \u001b[0;34m=\u001b[0m \u001b[0mv\u001b[0m\u001b[0;34m[\u001b[0m\u001b[0;36m2\u001b[0m\u001b[0;34m]\u001b[0m\u001b[0;34m\u001b[0m\u001b[0;34m\u001b[0m\u001b[0m\n\u001b[0;32m----> 6\u001b[0;31m     \u001b[0mbrain_to_atlas\u001b[0m\u001b[0;34m(\u001b[0m\u001b[0mx\u001b[0m\u001b[0;34m,\u001b[0m\u001b[0my\u001b[0m\u001b[0;34m,\u001b[0m\u001b[0mz\u001b[0m\u001b[0;34m,\u001b[0m\u001b[0mr\u001b[0m\u001b[0;34m,\u001b[0m\u001b[0mt\u001b[0m\u001b[0;34m)\u001b[0m\u001b[0;34m\u001b[0m\u001b[0;34m\u001b[0m\u001b[0m\n\u001b[0m\u001b[1;32m      7\u001b[0m     \u001b[0mstructure\u001b[0m \u001b[0;34m=\u001b[0m \u001b[0msession\u001b[0m\u001b[0;34m.\u001b[0m\u001b[0mquery\u001b[0m\u001b[0;34m(\u001b[0m\u001b[0mStructure\u001b[0m\u001b[0;34m)\u001b[0m\u001b[0;34m.\u001b[0m\u001b[0mfilter\u001b[0m\u001b[0;34m(\u001b[0m\u001b[0mStructure\u001b[0m\u001b[0;34m.\u001b[0m\u001b[0mabbreviation\u001b[0m \u001b[0;34m==\u001b[0m \u001b[0mfunc\u001b[0m\u001b[0;34m.\u001b[0m\u001b[0mbinary\u001b[0m\u001b[0;34m(\u001b[0m\u001b[0mabbrev\u001b[0m\u001b[0;34m)\u001b[0m\u001b[0;34m)\u001b[0m\u001b[0;34m.\u001b[0m\u001b[0mone\u001b[0m\u001b[0;34m(\u001b[0m\u001b[0;34m)\u001b[0m\u001b[0;34m\u001b[0m\u001b[0;34m\u001b[0m\u001b[0m\n\u001b[1;32m      8\u001b[0m     \u001b[0;31m#print(k, structure, x, y, section)\u001b[0m\u001b[0;34m\u001b[0m\u001b[0;34m\u001b[0m\u001b[0;34m\u001b[0m\u001b[0m\n",
      "\u001b[0;31mNameError\u001b[0m: name 'brain_to_atlas' is not defined"
     ]
    }
   ],
   "source": [
    "person_id = 28 # bili, this is your database ID\n",
    "for abbrev,v in row_dict.items():\n",
    "    x = v[0]\n",
    "    y = v[1]\n",
    "    section = v[2]\n",
    "    structure = session.query(Structure).filter(Structure.abbreviation == func.binary(abbrev)).one()\n",
    "    #print(k, structure, x, y, section)\n",
    "    x,y,section = brain_to_atlas_transform((x,y,section), r, t)\n",
    "    print(x,y,section)\n",
    "    continue\n",
    "    com = CenterOfMass(prep_id=prep_id, structure=structure, x=x, y=y, section=section,\n",
    "                   created=datetime.utcnow(), active=True, person_id=person_id, input_type='aligned')\n",
    "    try:\n",
    "        session.add(com)\n",
    "        session.commit()\n",
    "    except Exception as e:\n",
    "        print(f'No merge for {abbrev} {e}')\n",
    "        session.rollback()\n",
    "\n"
   ]
  }
 ],
 "metadata": {
  "kernelspec": {
   "display_name": "Python 3",
   "language": "python",
   "name": "python3"
  },
  "language_info": {
   "codemirror_mode": {
    "name": "ipython",
    "version": 3
   },
   "file_extension": ".py",
   "mimetype": "text/x-python",
   "name": "python",
   "nbconvert_exporter": "python",
   "pygments_lexer": "ipython3",
   "version": "3.8.5"
  }
 },
 "nbformat": 4,
 "nbformat_minor": 4
}
