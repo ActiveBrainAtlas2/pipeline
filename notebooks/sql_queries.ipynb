{
 "cells": [
  {
   "cell_type": "code",
   "execution_count": 1,
   "metadata": {},
   "outputs": [],
   "source": [
    "from pathlib import Path\n",
    "import numpy as np\n",
    "import os, sys\n",
    "%load_ext autoreload\n",
    "%autoreload 2"
   ]
  },
  {
   "cell_type": "code",
   "execution_count": 2,
   "metadata": {},
   "outputs": [],
   "source": [
    "HOME = os.path.expanduser(\"~\")\n",
    "DIR = os.path.join(HOME, 'programming/pipeline_utility')\n",
    "sys.path.append(DIR)\n",
    "from utilities.model.center_of_mass import CenterOfMass\n",
    "from sql_setup import session"
   ]
  },
  {
   "cell_type": "code",
   "execution_count": 7,
   "metadata": {},
   "outputs": [
    {
     "name": "stdout",
     "output_type": "stream",
     "text": [
      "10N_L 45542.0 17755.0 218.0 2 manual\n",
      "10N_R 45714.0 17685.0 247.0 2 manual\n",
      "12N 45596.0 18540.0 234.0 2 manual\n",
      "3N_L 34961.0 16285.0 232.0 2 manual\n",
      "3N_R 34749.0 16231.0 243.0 2 manual\n",
      "4N_L 36247.0 16030.0 223.0 2 manual\n",
      "4N_R 36247.0 16056.0 247.0 2 manual\n",
      "5N_L 38765.0 19548.0 172.0 2 manual\n",
      "5N_R 38914.0 18314.0 309.0 2 manual\n",
      "6N_L 40686.0 19124.0 257.0 2 manual\n",
      "6N_R 40599.0 19425.0 220.0 2 manual\n",
      "7N_L 44309.0 20809.0 307.0 2 manual\n",
      "7N_R 42465.0 22042.0 309.0 2 manual\n",
      "AP 46190.0 16965.0 230.0 2 manual\n",
      "Amb_L 44094.0 21914.0 172.0 2 manual\n",
      "DC_L 41986.0 17520.0 130.0 2 manual\n",
      "DC_R 42227.0 16113.0 343.0 2 manual\n",
      "IC 37176.0 9511.0 222.0 2 manual\n",
      "LC_L 39808.0 16939.0 188.0 2 manual\n",
      "LC_R 39934.0 16233.0 278.0 2 manual\n",
      "LRt_L 47708.0 22042.0 183.0 2 manual\n",
      "LRt_R 47409.0 21332.0 296.0 2 manual\n",
      "PBG_L 35560.0 15975.0 138.0 2 manual\n",
      "PBG_R 35814.0 15440.0 330.0 2 manual\n",
      "Pn_L 35794.0 24118.0 220.0 2 manual\n",
      "Pn_R 35751.0 23661.0 284.0 2 manual\n",
      "RtTg 36771.0 22290.0 249.0 2 manual\n",
      "SC 33868.0 9061.0 222.0 2 manual\n",
      "SNC_L 33001.0 21134.0 182.0 2 manual\n",
      "SNC_R 33458.0 19604.0 319.0 2 manual\n",
      "SNR_L 34604.0 18256.0 214.0 2 manual\n",
      "SNR_R 34186.0 19971.0 322.0 2 manual\n",
      "Sp5C_L 48044.0 18595.0 157.0 2 manual\n",
      "Sp5C_R 47299.0 18553.0 332.0 2 manual\n",
      "Sp5I_L 44462.0 19638.0 150.0 2 manual\n",
      "Sp5I_R 44437.0 19104.0 325.0 2 manual\n",
      "Tz_L 39145.0 24349.0 223.0 2 manual\n",
      "Tz_R 39342.0 23976.0 276.0 2 manual\n",
      "VCA_L 39930.0 19629.0 116.0 2 manual\n",
      "VCA_R 39895.0 17773.0 360.0 2 manual\n",
      "VCP_L 41377.0 20537.0 121.0 2 manual\n",
      "VCP_R 42273.0 18501.0 360.0 2 manual\n",
      "VLL_L 36542.0 18691.0 157.0 2 manual\n",
      "VLL_R 37048.0 17823.0 328.0 2 manual\n"
     ]
    }
   ],
   "source": [
    "# person_id = 2 = beth\n",
    "prep_id = 'DK52'\n",
    "rows = session.query(CenterOfMass).filter(\n",
    "    CenterOfMass.active.is_(True))\\\n",
    "        .filter(CenterOfMass.prep_id == prep_id)\\\n",
    "        .filter(CenterOfMass.person_id == 2)\\\n",
    "        .all()\n",
    "row_dict = {}\n",
    "for row in rows:\n",
    "    structure = row.structure.abbreviation\n",
    "    row_dict[structure] = [row.x, row.y, row.section]\n",
    "    print(structure,row.x,row.y, row.section, row.person_id, row.input_type)"
   ]
  }
 ],
 "metadata": {
  "kernelspec": {
   "display_name": "Python 3",
   "language": "python",
   "name": "python3"
  },
  "language_info": {
   "codemirror_mode": {
    "name": "ipython",
    "version": 3
   },
   "file_extension": ".py",
   "mimetype": "text/x-python",
   "name": "python",
   "nbconvert_exporter": "python",
   "pygments_lexer": "ipython3",
   "version": "3.8.5"
  }
 },
 "nbformat": 4,
 "nbformat_minor": 4
}
