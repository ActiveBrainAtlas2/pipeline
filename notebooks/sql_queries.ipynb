{
 "cells": [
  {
   "cell_type": "code",
   "execution_count": 1,
   "metadata": {},
   "outputs": [],
   "source": [
    "import numpy as np\n",
    "import os, sys\n",
    "from datetime import datetime\n",
    "import requests\n",
    "from requests.exceptions import HTTPError\n",
    "%load_ext autoreload\n",
    "%autoreload 2"
   ]
  },
  {
   "cell_type": "code",
   "execution_count": 2,
   "metadata": {},
   "outputs": [],
   "source": [
    "HOME = os.path.expanduser(\"~\")\n",
    "DIR = os.path.join(HOME, 'programming/pipeline_utility')\n",
    "sys.path.append(DIR)\n",
    "from utilities.model.center_of_mass import CenterOfMass\n",
    "from utilities.model.structure import Structure\n",
    "from sqlalchemy import func\n",
    "from sql_setup import session"
   ]
  },
  {
   "cell_type": "code",
   "execution_count": 11,
   "metadata": {},
   "outputs": [],
   "source": [
    "def get_transformation_matrix(animal):\n",
    "    try:\n",
    "        #url = f'https://activebrainatlas.ucsd.edu/activebrainatlas/rotation/{animal}/manual/2'\n",
    "        url = f'http://localhost:8000/rotation/{animal}/manual/2'\n",
    "        response = requests.get(url)\n",
    "        response.raise_for_status()\n",
    "        # access JSOn content\n",
    "        transformation_matrix = response.json()\n",
    "\n",
    "    except HTTPError as http_err:\n",
    "        print(f'HTTP error occurred: {http_err}')\n",
    "    except Exception as err:\n",
    "        print(f'Other error occurred: {err}')\n",
    "\n",
    "    return transformation_matrix"
   ]
  },
  {
   "cell_type": "code",
   "execution_count": 22,
   "metadata": {},
   "outputs": [],
   "source": [
    "prep_id = 'DK39'"
   ]
  },
  {
   "cell_type": "code",
   "execution_count": 23,
   "metadata": {},
   "outputs": [],
   "source": [
    "transformation = get_transformation_matrix(prep_id)\n",
    "r = np.array(transformation['rotation'])\n",
    "t = np.array(transformation['translation'])"
   ]
  },
  {
   "cell_type": "code",
   "execution_count": 24,
   "metadata": {},
   "outputs": [
    {
     "name": "stdout",
     "output_type": "stream",
     "text": [
      "[[ 0.9072506   0.01008301 -0.01509823]\n",
      " [-0.00758282  0.8960958   0.14278686]\n",
      " [ 0.01649619 -0.14263211  0.89600069]]\n",
      "[[-620.2284516 ]\n",
      " [-120.71434773]\n",
      " [ -39.55153204]]\n"
     ]
    }
   ],
   "source": [
    "print(r)\n",
    "print(t)"
   ]
  },
  {
   "cell_type": "code",
   "execution_count": 25,
   "metadata": {},
   "outputs": [],
   "source": [
    "# person_id = 2 = beth\n",
    "rows = session.query(CenterOfMass).filter(\n",
    "    CenterOfMass.active.is_(True))\\\n",
    "        .filter(CenterOfMass.prep_id == prep_id)\\\n",
    "        .filter(CenterOfMass.person_id == 2)\\\n",
    "        .filter(CenterOfMass.input_type == 'manual')\\\n",
    "        .all()\n",
    "row_dict = {}\n",
    "for row in rows:\n",
    "    structure = row.structure.abbreviation\n",
    "    row_dict[structure] = [row.x, row.y, row.section]"
   ]
  },
  {
   "cell_type": "code",
   "execution_count": 26,
   "metadata": {},
   "outputs": [],
   "source": [
    "def brain_to_atlas_transform(\n",
    "    brain_coord, r, t,\n",
    "    brain_scale=(0.325, 0.325, 20),\n",
    "    atlas_scale=(10, 10, 20)\n",
    "):\n",
    "    \"\"\"\n",
    "    Takes an x,y,z brain coordinates, and a rotation matrix and transform vector.\n",
    "    Returns the point in atlas coordinates.\n",
    "    \n",
    "    The recorded r, t is the transformation from brain to atlas such that:\n",
    "        t_phys = atlas_scale @ t\n",
    "        atlas_coord_phys = r @ brain_coord_phys + t_phys\n",
    "        \n",
    "    Currently we erraneously have:\n",
    "        t_phys = brain_scale @ t\n",
    "    This should be fixed in the future.\n",
    "    \"\"\"\n",
    "    brain_scale = np.diag(brain_scale)\n",
    "    atlas_scale = np.diag(atlas_scale)\n",
    "\n",
    "    # Transform brain coordinates to physical space\n",
    "    brain_coord = np.array(brain_coord).reshape(3, 1) # Convert to a column vector\n",
    "    brain_coord_phys = brain_scale @ brain_coord\n",
    "    \n",
    "    # Apply affine transformation in physical space\n",
    "    # t_phys = atlas_scale @ t\n",
    "    # The following is wrong but it is what the rest of the code assumes\n",
    "    # We need to fix it in the future\n",
    "    t_phys = brain_scale @ t\n",
    "    atlas_coord_phys = r @ brain_coord_phys + t_phys\n",
    "\n",
    "    # Bring atlas coordinates back to atlas space\n",
    "    atlas_coord = np.linalg.inv(atlas_scale) @ atlas_coord_phys\n",
    "\n",
    "    return atlas_coord.T[0] # Convert back to a row vector"
   ]
  },
  {
   "cell_type": "code",
   "execution_count": 27,
   "metadata": {},
   "outputs": [
    {
     "name": "stdout",
     "output_type": "stream",
     "text": [
      "10N_L 41901.0 22575.0 198.0 [38935.66228166 22391.95266309    96.76501864]\n",
      "10N_R 43814.0 18639.0 273.0 [40626.90980987 19394.12902556   173.60062479]\n",
      "3N_L 33190.0 15847.0 233.0 [30612.10784985 16510.40145389   141.38391343]\n",
      "3N_R 33423.0 15830.0 247.0 [30818.24653741 16620.65803861   154.02978387]\n",
      "5N_L 37069.0 20100.0 178.0 [34369.84604875 19940.74066948    83.28620907]\n",
      "5N_R 36316.0 18831.0 324.0 [33504.97498655 20098.24795312   216.84171011]\n",
      "6N_L 38545.0 19663.0 233.0 [35704.78372795 20024.45286937   133.97477428]\n",
      "6N_R 38359.0 19339.0 272.0 [35488.20243    20080.36725162   169.61989936]\n",
      "7N_L 39468.0 23531.0 203.0 [36645.22144689 23347.76570382    98.37703457]\n",
      "7N_R 38803.0 22355.0 329.0 [35883.68291688 23408.48221271   213.82055866]\n",
      "DC_L 40364.0 18199.0 140.0 [37495.5967691  17795.88098108    54.52753531]\n",
      "DC_R 39577.0 15979.0 363.0 [36514.26876949 17771.03544894   259.27017603]\n",
      "LC_L 38569.0 17311.0 203.0 [35731.75344342 17558.19081098   112.55258656]\n",
      "LC_R 37587.0 16405.0 288.0 [34713.56158892 17498.35820285   190.54930813]\n",
      "Pn_L 32964.0 23199.0 233.0 [30475.96317995 23363.8039092    124.28307269]\n",
      "Pn_R 32740.0 22805.0 299.0 [30196.70356162 23601.5178847    184.27227391]\n",
      "SC 37095.5 10162.0 230.368 [34240.03422297 11157.4731908    153.24909308]\n",
      "Tz_L 36351.0 23980.0 236.0 [33677.02623589 24092.353517     126.06882482]\n",
      "Tz_R 36074.0 23525.0 292.0 [33356.78216256 24182.25354911   177.22519592]\n"
     ]
    }
   ],
   "source": [
    "data = []\n",
    "scales = np.diag([32,32,1])\n",
    "person_id = 28 # bili, this is your database ID\n",
    "for abbrev,v in row_dict.items():\n",
    "    x = v[0]\n",
    "    y = v[1]\n",
    "    section = v[2]\n",
    "    structure = session.query(Structure).filter(Structure.abbreviation == func.binary(abbrev)).one()\n",
    "    data.append([x, y, section])\n",
    "    brain_coords = np.asarray([x, y, section])\n",
    "    transformed = brain_to_atlas_transform(brain_coords, r, t)\n",
    "    print(abbrev, x, y, section, transformed @ scales)\n",
    "    continue\n",
    "    com = CenterOfMass(\n",
    "        prep_id=prep_id, structure=structure, x=x, y=y, section=section,\n",
    "        created=datetime.utcnow(), active=True, person_id=person_id, input_type='aligned'\n",
    "    )\n",
    "    try:\n",
    "        session.add(com)\n",
    "        session.commit()\n",
    "    except Exception as e:\n",
    "        print(f'No merge for {abbrev} {e}')\n",
    "        session.rollback()\n",
    "\n",
    "data = np.array(data)"
   ]
  },
  {
   "cell_type": "code",
   "execution_count": null,
   "metadata": {},
   "outputs": [],
   "source": [
    "# Print atlas COMs for comparison\n",
    "\n",
    "from utilities.sqlcontroller import SqlController\n",
    "\n",
    "def get_atlas_centers(\n",
    "        atlas_box_size=(1000, 1000, 300),\n",
    "        atlas_box_scales=(10, 10, 20),\n",
    "        atlas_raw_scale=10\n",
    "):\n",
    "    atlas_box_scales = np.array(atlas_box_scales)\n",
    "    atlas_box_size = np.array(atlas_box_size)\n",
    "    atlas_box_center = atlas_box_size / 2\n",
    "    sqlController = SqlController('Atlas')\n",
    "    atlas_centers = sqlController.get_centers_dict('Atlas')\n",
    "\n",
    "    for structure, center in atlas_centers.items():\n",
    "        # transform into the atlas box coordinates that neuroglancer assumes\n",
    "        center = atlas_box_center + np.array(center) * atlas_raw_scale / atlas_box_scales\n",
    "        atlas_centers[structure] = center\n",
    "\n",
    "    return atlas_centers\n",
    "\n",
    "get_atlas_centers()"
   ]
  }
 ],
 "metadata": {
  "kernelspec": {
   "display_name": "Python 3",
   "language": "python",
   "name": "python3"
  },
  "language_info": {
   "codemirror_mode": {
    "name": "ipython",
    "version": 3
   },
   "file_extension": ".py",
   "mimetype": "text/x-python",
   "name": "python",
   "nbconvert_exporter": "python",
   "pygments_lexer": "ipython3",
   "version": "3.8.5"
  }
 },
 "nbformat": 4,
 "nbformat_minor": 4
}
