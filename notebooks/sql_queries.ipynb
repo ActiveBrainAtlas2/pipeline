{
 "cells": [
  {
   "cell_type": "code",
   "execution_count": 1,
   "metadata": {},
   "outputs": [],
   "source": [
    "import numpy as np\n",
    "import os, sys\n",
    "from datetime import datetime\n",
    "import requests\n",
    "from requests.exceptions import HTTPError\n",
    "%load_ext autoreload\n",
    "%autoreload 2"
   ]
  },
  {
   "cell_type": "code",
   "execution_count": 2,
   "metadata": {},
   "outputs": [],
   "source": [
    "HOME = os.path.expanduser(\"~\")\n",
    "DIR = os.path.join(HOME, 'programming/pipeline_utility')\n",
    "sys.path.append(DIR)\n",
    "from utilities.model.center_of_mass import CenterOfMass\n",
    "from utilities.model.structure import Structure\n",
    "from sqlalchemy import func\n",
    "from sql_setup import session"
   ]
  },
  {
   "cell_type": "code",
   "execution_count": 3,
   "metadata": {},
   "outputs": [],
   "source": [
    "def get_transformation_matrix(animal):\n",
    "    try:\n",
    "        url = f'https://activebrainatlas.ucsd.edu/activebrainatlas/rotation/{animal}/manual/2'\n",
    "        response = requests.get(url)\n",
    "        response.raise_for_status()\n",
    "        # access JSOn content\n",
    "        transformation_matrix = response.json()\n",
    "\n",
    "    except HTTPError as http_err:\n",
    "        print(f'HTTP error occurred: {http_err}')\n",
    "    except Exception as err:\n",
    "        print(f'Other error occurred: {err}')\n",
    "\n",
    "    return transformation_matrix"
   ]
  },
  {
   "cell_type": "code",
   "execution_count": 4,
   "metadata": {},
   "outputs": [],
   "source": [
    "prep_id = 'DK52'"
   ]
  },
  {
   "cell_type": "code",
   "execution_count": 5,
   "metadata": {},
   "outputs": [],
   "source": [
    "transformation = get_transformation_matrix(prep_id)\n",
    "r = np.array(transformation['rotation'])\n",
    "t = np.array(transformation['translation'])"
   ]
  },
  {
   "cell_type": "code",
   "execution_count": 6,
   "metadata": {},
   "outputs": [
    {
     "data": {
      "text/plain": [
       "array([[ 0.90823119, -0.24441544, -0.05697743],\n",
       "       [ 0.2488724 ,  0.90471918,  0.08611017],\n",
       "       [ 0.03237074, -0.09804858,  0.93659374]])"
      ]
     },
     "execution_count": 6,
     "metadata": {},
     "output_type": "execute_result"
    }
   ],
   "source": [
    "r"
   ]
  },
  {
   "cell_type": "code",
   "execution_count": 7,
   "metadata": {},
   "outputs": [
    {
     "data": {
      "text/plain": [
       "array([[-15509.17500957],\n",
       "       [-12625.10609468],\n",
       "       [   -66.471405  ]])"
      ]
     },
     "execution_count": 7,
     "metadata": {},
     "output_type": "execute_result"
    }
   ],
   "source": [
    "t"
   ]
  },
  {
   "cell_type": "code",
   "execution_count": 8,
   "metadata": {},
   "outputs": [],
   "source": [
    "# person_id = 2 = beth\n",
    "rows = session.query(CenterOfMass).filter(\n",
    "    CenterOfMass.active.is_(True))\\\n",
    "        .filter(CenterOfMass.prep_id == prep_id)\\\n",
    "        .filter(CenterOfMass.person_id == 2)\\\n",
    "        .all()\n",
    "row_dict = {}\n",
    "for row in rows:\n",
    "    structure = row.structure.abbreviation\n",
    "    row_dict[structure] = [row.x, row.y, row.section]"
   ]
  },
  {
   "cell_type": "code",
   "execution_count": 9,
   "metadata": {},
   "outputs": [],
   "source": [
    "def brain_to_atlas_transform(\n",
    "    brain_coord, r, t,\n",
    "    brain_scale=(0.325, 0.325, 20),\n",
    "    atlas_scale=(10, 10, 20)\n",
    "):\n",
    "    \"\"\"\n",
    "    Takes an x,y,z brain coordinates, and a rotation matrix and transform vector.\n",
    "    Returns the point in atlas coordinates.\n",
    "    \n",
    "    The recorded r, t is the transformation from atlas to brain such that:\n",
    "        t_phys = brain_scale @ t\n",
    "        brain_coord_phys = r @ atlas_coord_phys + t_phys\n",
    "\n",
    "    And so we have the following reverse transformation:\n",
    "        r_inv = inv(r)\n",
    "        atlas_coord_phys = r_inv @ brain_coord_phys - r_inv @ t_phys\n",
    "    \"\"\"\n",
    "    brain_scale = np.diag(brain_scale)\n",
    "    atlas_scale = np.diag(atlas_scale)\n",
    "\n",
    "    # Transform brain coordinates to physical space\n",
    "    brain_coord = np.array(brain_coord).reshape(3, 1) # Convert to a column vector\n",
    "    brain_coord_phys = brain_scale @ brain_coord\n",
    "    \n",
    "    # Apply affine transformation in physical space\n",
    "    t_phys = brain_scale @ t\n",
    "    r_inv = np.linalg.inv(r)\n",
    "    atlas_coord_phys = r_inv @ brain_coord_phys - r_inv @ t_phys\n",
    "    \n",
    "    # Bring atlas coordinates back to atlas space\n",
    "    atlas_coord = np.linalg.inv(atlas_scale) @ atlas_coord_phys\n",
    "\n",
    "    return atlas_coord.T[0] # Convert back to a row vector"
   ]
  },
  {
   "cell_type": "code",
   "execution_count": 10,
   "metadata": {},
   "outputs": [
    {
     "name": "stdout",
     "output_type": "stream",
     "text": [
      "10N_L 2327.168186349307 397.0555881691571 284.29689283677834\n",
      "10N_R 2334.3633121835855 386.7935632075005 314.59867097731797\n",
      "12N 2337.281349934282 419.0353390341218 302.3557967619031\n",
      "3N_L 1963.028625873284 439.94689937538305 307.7824762460805\n",
      "3N_R 1956.2907782280572 437.6258047142414 319.52210687011825\n",
      "4N_L 2002.8028606776597 421.9844237995146 296.5456315403014\n",
      "4N_R 2004.7897444023765 417.5447562723411 321.90368058676336\n",
      "5N_L 2114.8442588432745 527.2254682969826 245.6654449893141\n",
      "5N_R 2118.546004235183 454.7681133596979 388.0835605113692\n",
      "6N_L 2181.043995003098 477.22400972095767 332.65860234837214\n",
      "6N_R 2178.1957551667956 496.1424433562685 294.19321884820977\n",
      "7N_L 2320.4878427877493 489.5687537991928 384.27996139797483\n",
      "7N_R 2270.5617146141744 546.4577428259047 390.25588781775355\n",
      "AP 2342.3894006463825 362.445513549831 295.03463771742815\n",
      "Amb_L 2313.562570345002 557.9028006546095 243.83712251262887\n",
      "DC_L 2200.39017770621 440.5235329591533 194.80551358126246\n",
      "DC_R 2211.1162450898905 344.7283153669336 417.0257710373528\n",
      "IC 1974.2277684050068 198.00548498859695 284.24797300602035\n",
      "LC_L 2126.9182411669362 427.9585654321767 257.3440289648406\n",
      "LC_R 2131.2382055661706 383.5731917498569 351.0389946361982\n",
      "LRt_L 2435.679382814458 527.3788762709845 251.8737769224712\n",
      "LRt_R 2427.510748524627 481.5835428389253 370.2678296702333\n",
      "PBG_L 1973.2642562706858 445.0827117628502 207.51073204169245\n",
      "PBG_R 1990.8350256838858 382.68713857877896 408.93927441933647\n",
      "Pn_L 2061.20441356855 694.548416840408 306.6001568183016\n",
      "Pn_R 2060.2784042811336 665.6635443534537 373.43695569124236\n",
      "RtTg 2079.1469259181804 618.8649900135567 333.29184437289797\n",
      "SC 1860.1527549344298 212.69862462566803 286.9884005601336\n",
      "SNC_L 1938.3955195416916 629.1088552170254 264.724561535395\n",
      "SNC_R 1949.6403146142025 544.0933478033098 406.3549912692064\n",
      "SNR_L 1967.8030280397406 512.3895813638959 292.2732711485866\n",
      "SNR_R 1977.4049889994656 549.071419989494 409.33885155729223\n",
      "Sp5C_L 2413.552309790877 415.9616590687945 218.66405775568683\n",
      "Sp5C_R 2401.1625370828197 382.5850816160286 403.9784183281223\n",
      "Sp5I_L 2303.4586506567125 484.095592343408 216.65905243605704\n",
      "Sp5I_R 2310.523477320848 427.9839312573182 400.4471896214043\n",
      "Tz_L 2174.9326735275763 671.555405310568 306.63437625864236\n",
      "Tz_R 2181.9486768031375 645.7346233291518 361.749625972147\n",
      "VCA_L 2150.2295787270727 531.8533283153606 185.50505248692141\n",
      "VCA_R 2149.950063480324 416.81122210617707 440.0067176684454\n",
      "VCP_L 2206.9719150554406 547.8731760853276 190.70150600370545\n",
      "VCP_R 2235.6394490159605 419.6449818931185 438.6742386205613\n",
      "VLL_L 2032.038963276823 522.0458444085601 230.80981200627002\n",
      "VLL_R 2053.422704790327 451.00592901213815 409.2983151819196\n"
     ]
    }
   ],
   "source": [
    "data = []\n",
    "person_id = 28 # bili, this is your database ID\n",
    "for abbrev,v in row_dict.items():\n",
    "    x = v[0]\n",
    "    y = v[1]\n",
    "    section = v[2]\n",
    "    structure = session.query(Structure).filter(Structure.abbreviation == func.binary(abbrev)).one()\n",
    "    x,y,section = brain_to_atlas_transform([[x],[y],[section]], r, t)\n",
    "    data.append([x, y, section])\n",
    "    print(abbrev, x, y, section)\n",
    "    continue\n",
    "    com = CenterOfMass(\n",
    "        prep_id=prep_id, structure=structure, x=x, y=y, section=section,\n",
    "        created=datetime.utcnow(), active=True, person_id=person_id, input_type='aligned'\n",
    "    )\n",
    "    try:\n",
    "        session.add(com)\n",
    "        session.commit()\n",
    "    except Exception as e:\n",
    "        print(f'No merge for {abbrev} {e}')\n",
    "        session.rollback()\n",
    "\n",
    "data = np.array(data)"
   ]
  },
  {
   "cell_type": "code",
   "execution_count": 11,
   "metadata": {},
   "outputs": [
    {
     "name": "stdout",
     "output_type": "stream",
     "text": [
      "No histology for Atlas\n",
      "No scan run for Atlas\n"
     ]
    },
    {
     "data": {
      "text/plain": [
       "{'10N_L': array([703.341 , 547.9286, 135.6302]),\n",
       " '10N_R': array([703.341 , 547.9286, 164.3698]),\n",
       " '12N': array([697.227 , 567.0988, 149.25  ]),\n",
       " '3N_L': array([364.555 , 391.506 , 143.2358]),\n",
       " '3N_R': array([364.555 , 391.506 , 156.7642]),\n",
       " '4N_L': array([399.441  , 396.104  , 137.62875]),\n",
       " '4N_R': array([399.441  , 396.104  , 162.37125]),\n",
       " '5N_L': array([456.7992 , 502.07948,  81.9005 ]),\n",
       " '5N_R': array([456.7992 , 502.07948, 218.0995 ]),\n",
       " '6N_L': array([517.1597, 512.4922, 132.3135]),\n",
       " '6N_R': array([517.1597, 512.4922, 167.6865]),\n",
       " 'AP': array([702.306 , 525.6525, 151.    ]),\n",
       " 'Amb_L': array([612.44  , 603.826 ,  88.2695]),\n",
       " 'Amb_R': array([612.44  , 603.826 , 211.7305]),\n",
       " 'DC_L': array([583.2885, 456.4954,  42.084 ]),\n",
       " 'DC_R': array([583.2885, 456.4954, 257.916 ]),\n",
       " 'IC': array([496.7529, 251.693 , 150.    ]),\n",
       " 'LC_L': array([496.19734, 442.8079 , 108.22515]),\n",
       " 'LC_R': array([496.19734, 442.8079 , 191.77485]),\n",
       " 'LRt_L': array([688.194, 646.863,  93.755]),\n",
       " 'LRt_R': array([688.194, 646.863, 206.245]),\n",
       " 'PBG_L': array([396.038 , 372.985 ,  56.9915]),\n",
       " 'PBG_R': array([396.038 , 372.985 , 243.0085]),\n",
       " 'Pn_L': array([328.332  , 593.0847 , 122.74055]),\n",
       " 'Pn_R': array([328.332  , 593.0847 , 177.25945]),\n",
       " 'RtTg': array([378.454 , 562.2477, 148.25  ]),\n",
       " 'SC': array([371.982, 258.871, 151.5  ]),\n",
       " 'SNC_L': array([268.515 , 482.5814,  89.467 ]),\n",
       " 'SNC_R': array([268.515 , 482.5814, 210.533 ]),\n",
       " 'SNR_L': array([301.875 , 477.6826,  79.542 ]),\n",
       " 'SNR_R': array([301.875 , 477.6826, 220.458 ]),\n",
       " 'Sp5C_L': array([756.283 , 582.0335,  82.774 ]),\n",
       " 'Sp5C_R': array([756.283 , 582.0335, 217.226 ]),\n",
       " 'Sp5I_L': array([679.326 , 550.5224,  54.314 ]),\n",
       " 'Sp5I_R': array([679.326 , 550.5224, 245.686 ]),\n",
       " 'Sp5O_L': array([601.378 , 549.4977,  56.9175]),\n",
       " 'Sp5O_R': array([601.378 , 549.4977, 243.0825]),\n",
       " 'Tz_L': array([427.2079 , 620.224  , 124.34795]),\n",
       " 'Tz_R': array([427.2079 , 620.224  , 175.65205]),\n",
       " 'VCA_L': array([504.07409, 495.00897,  28.266  ]),\n",
       " 'VCA_R': array([504.07409, 495.00897, 271.734  ]),\n",
       " 'VCP_L': array([560.0779, 513.7844,  34.335 ]),\n",
       " 'VCP_R': array([560.0779, 513.7844, 265.665 ]),\n",
       " 'VLL_L': array([378.011 , 515.4707,  75.8025]),\n",
       " 'VLL_R': array([378.011 , 515.4707, 224.1975])}"
      ]
     },
     "execution_count": 11,
     "metadata": {},
     "output_type": "execute_result"
    }
   ],
   "source": [
    "# Print atlas COMs for comparison\n",
    "\n",
    "from utilities.sqlcontroller import SqlController\n",
    "\n",
    "def get_atlas_centers(\n",
    "        atlas_box_size=(1000, 1000, 300),\n",
    "        atlas_box_scales=(10, 10, 20),\n",
    "        atlas_raw_scale=10\n",
    "):\n",
    "    atlas_box_scales = np.array(atlas_box_scales)\n",
    "    atlas_box_size = np.array(atlas_box_size)\n",
    "    atlas_box_center = atlas_box_size / 2\n",
    "    sqlController = SqlController('Atlas')\n",
    "    atlas_centers = sqlController.get_centers_dict('Atlas')\n",
    "\n",
    "    for structure, center in atlas_centers.items():\n",
    "        # transform into the atlas box coordinates that neuroglancer assumes\n",
    "        center = atlas_box_center + np.array(center) * atlas_raw_scale / atlas_box_scales\n",
    "        atlas_centers[structure] = center\n",
    "\n",
    "    return atlas_centers\n",
    "\n",
    "get_atlas_centers()"
   ]
  }
 ],
 "metadata": {
  "kernelspec": {
   "display_name": "Python 3",
   "language": "python",
   "name": "python3"
  },
  "language_info": {
   "codemirror_mode": {
    "name": "ipython",
    "version": 3
   },
   "file_extension": ".py",
   "mimetype": "text/x-python",
   "name": "python",
   "nbconvert_exporter": "python",
   "pygments_lexer": "ipython3",
   "version": "3.9.2"
  }
 },
 "nbformat": 4,
 "nbformat_minor": 4
}
