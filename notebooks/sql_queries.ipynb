{
 "cells": [
  {
   "cell_type": "code",
   "execution_count": 1,
   "metadata": {},
   "outputs": [],
   "source": [
    "import numpy as np\n",
    "import os, sys\n",
    "from datetime import datetime\n",
    "import requests\n",
    "from requests.exceptions import HTTPError\n",
    "%load_ext autoreload\n",
    "%autoreload 2"
   ]
  },
  {
   "cell_type": "code",
   "execution_count": 2,
   "metadata": {},
   "outputs": [],
   "source": [
    "HOME = os.path.expanduser(\"~\")\n",
    "DIR = os.path.join(HOME, 'programming/pipeline_utility')\n",
    "sys.path.append(DIR)\n",
    "from utilities.model.center_of_mass import CenterOfMass\n",
    "from utilities.model.structure import Structure\n",
    "from sqlalchemy import func\n",
    "from sql_setup import session"
   ]
  },
  {
   "cell_type": "code",
   "execution_count": 3,
   "metadata": {},
   "outputs": [],
   "source": [
    "def get_transformation_matrix(animal):\n",
    "    try:\n",
    "        url = f'https://activebrainatlas.ucsd.edu/activebrainatlas/rotation/{animal}/manual/2'\n",
    "        response = requests.get(url)\n",
    "        response.raise_for_status()\n",
    "        # access JSOn content\n",
    "        transformation_matrix = response.json()\n",
    "\n",
    "    except HTTPError as http_err:\n",
    "        print(f'HTTP error occurred: {http_err}')\n",
    "    except Exception as err:\n",
    "        print(f'Other error occurred: {err}')\n",
    "\n",
    "    return transformation_matrix\n"
   ]
  },
  {
   "cell_type": "code",
   "execution_count": 4,
   "metadata": {},
   "outputs": [],
   "source": [
    "prep_id = 'DK52'"
   ]
  },
  {
   "cell_type": "code",
   "execution_count": 5,
   "metadata": {},
   "outputs": [],
   "source": [
    "transformation = get_transformation_matrix(prep_id)\n",
    "r = np.array(transformation['rotation'])\n",
    "t = np.array(transformation['translation'])"
   ]
  },
  {
   "cell_type": "code",
   "execution_count": 6,
   "metadata": {},
   "outputs": [
    {
     "data": {
      "text/plain": [
       "array([[ 0.90823119, -0.24441544, -0.05697743],\n",
       "       [ 0.2488724 ,  0.90471918,  0.08611017],\n",
       "       [ 0.03237074, -0.09804858,  0.93659374]])"
      ]
     },
     "execution_count": 6,
     "metadata": {},
     "output_type": "execute_result"
    }
   ],
   "source": [
    "r"
   ]
  },
  {
   "cell_type": "code",
   "execution_count": 7,
   "metadata": {},
   "outputs": [
    {
     "data": {
      "text/plain": [
       "array([[-15509.17500957],\n",
       "       [-12625.10609468],\n",
       "       [   -66.471405  ]])"
      ]
     },
     "execution_count": 7,
     "metadata": {},
     "output_type": "execute_result"
    }
   ],
   "source": [
    "t"
   ]
  },
  {
   "cell_type": "code",
   "execution_count": 8,
   "metadata": {},
   "outputs": [],
   "source": [
    "# person_id = 2 = beth\n",
    "rows = session.query(CenterOfMass).filter(\n",
    "    CenterOfMass.active.is_(True))\\\n",
    "        .filter(CenterOfMass.prep_id == prep_id)\\\n",
    "        .filter(CenterOfMass.person_id == 2)\\\n",
    "        .all()\n",
    "row_dict = {}\n",
    "for row in rows:\n",
    "    structure = row.structure.abbreviation\n",
    "    row_dict[structure] = [row.x, row.y, row.section]"
   ]
  },
  {
   "cell_type": "code",
   "execution_count": 9,
   "metadata": {},
   "outputs": [],
   "source": [
    "def brain_to_atlas_transform(\n",
    "    brain_coord, r, t,\n",
    "    brain_scale=(0.325, 0.325, 20),\n",
    "    atlas_scale=(10, 10, 20)\n",
    "):\n",
    "    \"\"\"\n",
    "    Takes an x,y,z brain coordinates, and a rotation matrix and transform vector.\n",
    "    Returns the point in atlas coordinates.\n",
    "    \n",
    "    The recorded r, t is the transformation from atlas to brain such that:\n",
    "        t_phys = brain_scale @ t\n",
    "        brain_coord_phys = r @ atlas_coord_phys + t_phys\n",
    "\n",
    "    And so we have the following reverse transformation:\n",
    "        r_inv = inv(r)\n",
    "        atlas_coord_phys = r_inv @ brain_coord_phys - r_inv @ t_phys\n",
    "    \"\"\"\n",
    "    brain_scale = np.diag(brain_scale)\n",
    "    atlas_scale = np.diag(atlas_scale)\n",
    "\n",
    "    # Transform brain coordinates to physical space\n",
    "    brain_coord = np.array(brain_coord).reshape(3, 1) # Need to be a column vector\n",
    "    brain_coord_phys = brain_scale @ brain_coord\n",
    "    \n",
    "    # Apply affine transformation in physical space\n",
    "    t_phys = atlas_scale @ t\n",
    "    r_inv = np.linalg.inv(r)\n",
    "    atlas_coord_phys = r_inv @ brain_coord_phys - r_inv @ t_phys\n",
    "    \n",
    "    # Bring atlas coordinates back to atlas space\n",
    "    atlas_coord = np.linalg.inv(atlas_scale) @ atlas_coord_phys\n",
    "\n",
    "    return atlas_coord.T[0] # Back to a row vector"
   ]
  },
  {
   "cell_type": "code",
   "execution_count": 10,
   "metadata": {},
   "outputs": [
    {
     "data": {
      "text/plain": [
       "array([[21100.25755719,  8712.99892222,   395.16009494],\n",
       "       [21107.45268303,  8702.73689726,   425.46187308],\n",
       "       [21110.37072078,  8734.97867309,   413.21899887],\n",
       "       [20736.11799672,  8755.89023343,   418.64567835],\n",
       "       [20729.38014907,  8753.56913877,   430.38530898],\n",
       "       [20775.89223152,  8737.92775786,   407.40883365],\n",
       "       [20777.87911524,  8733.48809033,   432.76688269],\n",
       "       [20887.93362969,  8843.16880235,   356.5286471 ],\n",
       "       [20891.63537508,  8770.71144742,   498.94676262],\n",
       "       [20954.13336585,  8793.16734378,   443.52180446],\n",
       "       [20951.28512601,  8812.08577741,   405.05642095],\n",
       "       [21093.57721363,  8805.51208785,   495.1431635 ],\n",
       "       [21043.65108546,  8862.40107688,   501.11908992],\n",
       "       [21115.47877149,  8678.38884761,   405.89783982],\n",
       "       [21086.65194119,  8873.84613471,   354.70032462],\n",
       "       [20973.47954855,  8756.46686701,   305.66871569],\n",
       "       [20984.20561593,  8660.67164942,   527.88897314],\n",
       "       [20747.31713925,  8513.94881904,   395.11117511],\n",
       "       [20900.00761201,  8743.90189949,   368.20723107],\n",
       "       [20904.32757641,  8699.51652581,   461.90219674],\n",
       "       [21208.76875366,  8843.32221033,   362.73697903],\n",
       "       [21200.60011937,  8797.52687689,   481.13103178],\n",
       "       [20746.35362711,  8761.02604582,   318.37393415],\n",
       "       [20763.92439653,  8698.63047263,   519.80247653],\n",
       "       [20834.29378441,  9010.4917509 ,   417.46335892],\n",
       "       [20833.36777512,  8981.60687841,   484.3001578 ],\n",
       "       [20852.23629676,  8934.80832407,   444.15504648],\n",
       "       [20633.24212578,  8528.64195868,   397.85160267],\n",
       "       [20711.48489038,  8945.05218927,   375.58776364],\n",
       "       [20722.72968546,  8860.03668186,   517.21819338],\n",
       "       [20740.89239888,  8828.33291542,   403.13647326],\n",
       "       [20750.49435984,  8865.01475405,   520.20205366],\n",
       "       [21186.64168063,  8731.90499312,   329.52725986],\n",
       "       [21174.25190792,  8698.52841567,   514.84162043],\n",
       "       [21076.5480215 ,  8800.0389264 ,   327.52225454],\n",
       "       [21083.61284816,  8743.92726531,   511.31039173],\n",
       "       [20948.02204437,  8987.49873937,   417.49757837],\n",
       "       [20955.03804765,  8961.67795738,   472.61282808],\n",
       "       [20923.31894957,  8847.79666237,   296.36825459],\n",
       "       [20923.03943432,  8732.75455616,   550.86991978],\n",
       "       [20980.0612859 ,  8863.81651014,   301.56470811],\n",
       "       [21008.72881986,  8735.58831595,   549.53744073],\n",
       "       [20805.12833412,  8837.98917846,   341.67301411],\n",
       "       [20826.51207563,  8766.94926307,   520.16151729]])"
      ]
     },
     "execution_count": 10,
     "metadata": {},
     "output_type": "execute_result"
    }
   ],
   "source": [
    "data = []\n",
    "person_id = 28 # bili, this is your database ID\n",
    "for abbrev,v in row_dict.items():\n",
    "    x = v[0]\n",
    "    y = v[1]\n",
    "    section = v[2]\n",
    "    structure = session.query(Structure).filter(Structure.abbreviation == func.binary(abbrev)).one()\n",
    "    x,y,section = brain_to_atlas_transform([[x],[y],[section]], r, t)\n",
    "    data.append([x, y, section])\n",
    "    continue\n",
    "    com = CenterOfMass(\n",
    "        prep_id=prep_id, structure=structure, x=x, y=y, section=section,\n",
    "        created=datetime.utcnow(), active=True, person_id=person_id, input_type='aligned'\n",
    "    )\n",
    "    try:\n",
    "        session.add(com)\n",
    "        session.commit()\n",
    "    except Exception as e:\n",
    "        print(f'No merge for {abbrev} {e}')\n",
    "        session.rollback()\n",
    "\n",
    "data = np.array(data)\n",
    "data"
   ]
  }
 ],
 "metadata": {
  "kernelspec": {
   "display_name": "Python 3",
   "language": "python",
   "name": "python3"
  },
  "language_info": {
   "codemirror_mode": {
    "name": "ipython",
    "version": 3
   },
   "file_extension": ".py",
   "mimetype": "text/x-python",
   "name": "python",
   "nbconvert_exporter": "python",
   "pygments_lexer": "ipython3",
   "version": "3.9.2"
  }
 },
 "nbformat": 4,
 "nbformat_minor": 4
}
