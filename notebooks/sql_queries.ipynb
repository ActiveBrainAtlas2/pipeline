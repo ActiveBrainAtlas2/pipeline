{
 "cells": [
  {
   "cell_type": "code",
   "execution_count": 1,
   "metadata": {},
   "outputs": [],
   "source": [
    "import numpy as np\n",
    "import os, sys\n",
    "from datetime import datetime\n",
    "import requests\n",
    "from requests.exceptions import HTTPError\n",
    "%load_ext autoreload\n",
    "%autoreload 2"
   ]
  },
  {
   "cell_type": "code",
   "execution_count": 2,
   "metadata": {},
   "outputs": [],
   "source": [
    "HOME = os.path.expanduser(\"~\")\n",
    "DIR = os.path.join(HOME, 'programming/pipeline_utility')\n",
    "sys.path.append(DIR)\n",
    "from utilities.model.center_of_mass import CenterOfMass\n",
    "from utilities.model.structure import Structure\n",
    "from sqlalchemy import func\n",
    "from sql_setup import session"
   ]
  },
  {
   "cell_type": "code",
   "execution_count": 30,
   "metadata": {},
   "outputs": [],
   "source": [
    "def get_transformation_matrix(animal):\n",
    "    try:\n",
    "        #url = f'https://activebrainatlas.ucsd.edu/activebrainatlas/rotation/{animal}/manual/2'\n",
    "        url = f'http://localhost:8000/rotation/{animal}/manual/2'\n",
    "        response = requests.get(url)\n",
    "        response.raise_for_status()\n",
    "        # access JSOn content\n",
    "        transformation_matrix = response.json()\n",
    "\n",
    "    except HTTPError as http_err:\n",
    "        print(f'HTTP error occurred: {http_err}')\n",
    "    except Exception as err:\n",
    "        print(f'Other error occurred: {err}')\n",
    "\n",
    "    return transformation_matrix"
   ]
  },
  {
   "cell_type": "code",
   "execution_count": 18,
   "metadata": {},
   "outputs": [],
   "source": [
    "prep_id = 'DK52'"
   ]
  },
  {
   "cell_type": "code",
   "execution_count": 31,
   "metadata": {},
   "outputs": [],
   "source": [
    "transformation = get_transformation_matrix(prep_id)\n",
    "r = np.array(transformation['rotation'])\n",
    "t = np.array(transformation['translation'])"
   ]
  },
  {
   "cell_type": "code",
   "execution_count": 32,
   "metadata": {},
   "outputs": [
    {
     "name": "stdout",
     "output_type": "stream",
     "text": [
      "[[ 0.90823119 -0.24441544 -0.05697743]\n",
      " [ 0.2488724   0.90471918  0.08611017]\n",
      " [ 0.03237074 -0.09804858  0.93659374]]\n",
      "[[-15509.17500957]\n",
      " [-12625.10609468]\n",
      " [   -66.471405  ]]\n"
     ]
    }
   ],
   "source": [
    "print(r)\n",
    "print(t)"
   ]
  },
  {
   "cell_type": "code",
   "execution_count": 33,
   "metadata": {},
   "outputs": [],
   "source": [
    "person_id = 1 # me\n",
    "rows = session.query(CenterOfMass).filter(\n",
    "    CenterOfMass.active.is_(True))\\\n",
    "        .filter(CenterOfMass.prep_id == prep_id)\\\n",
    "        .filter(CenterOfMass.person_id == 2)\\\n",
    "        .filter(CenterOfMass.input_type == 'manual')\\\n",
    "        .all()\n",
    "row_dict = {}\n",
    "for row in rows:\n",
    "    structure = row.structure.abbreviation\n",
    "    row_dict[structure] = [row.x, row.y, row.section]"
   ]
  },
  {
   "cell_type": "code",
   "execution_count": 34,
   "metadata": {},
   "outputs": [],
   "source": [
    "def brain_to_atlas_transform(\n",
    "    brain_coord, r, t,\n",
    "    brain_scale=(0.325, 0.325, 20),\n",
    "    atlas_scale=(10, 10, 20)\n",
    "):\n",
    "    \"\"\"\n",
    "    Takes an x,y,z brain coordinates, and a rotation matrix and transform vector.\n",
    "    Returns the point in atlas coordinates.\n",
    "    \n",
    "    The recorded r, t is the transformation from brain to atlas such that:\n",
    "        t_phys = atlas_scale @ t\n",
    "        atlas_coord_phys = r @ brain_coord_phys + t_phys\n",
    "        \n",
    "    Currently we erraneously have:\n",
    "        t_phys = brain_scale @ t\n",
    "    This should be fixed in the future.\n",
    "    \"\"\"\n",
    "    brain_scale = np.diag(brain_scale)\n",
    "    atlas_scale = np.diag(atlas_scale)\n",
    "\n",
    "    # Transform brain coordinates to physical space\n",
    "    brain_coord = np.array(brain_coord).reshape(3, 1) # Convert to a column vector\n",
    "    brain_coord_phys = brain_scale @ brain_coord\n",
    "    \n",
    "    # Apply affine transformation in physical space\n",
    "    # t_phys = atlas_scale @ t\n",
    "    # The following is wrong but it is what the rest of the code assumes\n",
    "    # We need to fix it in the future\n",
    "    # this gets flip flopped to above line\n",
    "    t_phys = brain_scale @ t\n",
    "    atlas_coord_phys = r @ brain_coord_phys + t_phys\n",
    "\n",
    "    # Bring atlas coordinates back to atlas space\n",
    "    atlas_coord = np.linalg.inv(atlas_scale) @ atlas_coord_phys\n",
    "\n",
    "    return atlas_coord.T[0] # Convert back to a row vector"
   ]
  },
  {
   "cell_type": "code",
   "execution_count": 37,
   "metadata": {},
   "outputs": [
    {
     "name": "stdout",
     "output_type": "stream",
     "text": [
      "10N_L 45542.0 17755.0 218.0 [674.4 517.6 133.4]\n",
      "10N_R 45714.0 17685.0 247.0 [676.7 522.  160.7]\n",
      "12N 45596.0 18540.0 234.0 [667.9 543.9 147.1]\n",
      "3N_L 34961.0 16285.0 232.0 [372.1 391.3 143.3]\n",
      "3N_R 34749.0 16231.0 243.0 [365.  389.8 153.5]\n",
      "4N_L 36247.0 16030.0 223.0 [413.1 392.6 135.9]\n",
      "4N_R 36247.0 16056.0 247.0 [410.2 397.5 158.4]\n",
      "5N_L 38765.0 19548.0 172.0 [465.3 507.6  83.9]\n",
      "5N_R 38914.0 18314.0 309.0 [463.9 496.1 214.2]\n",
      "6N_L 40686.0 19124.0 257.0 [515.7 525.3 165.2]\n",
      "6N_R 40599.0 19425.0 220.0 [515.  527.1 130. ]\n",
      "7N_L 44309.0 20809.0 307.0 [603.6 612.8 211.2]\n",
      "7N_R 42465.0 22042.0 309.0 [539.1 634.5 210.2]\n",
      "AP 46190.0 16965.0 230.0 [698.4 501.7 146.2]\n",
      "Amb_L 44094.0 21914.0 172.0 [603.8 620.3  82.9]\n",
      "DC_L 41986.0 17520.0 130.0 [581.3 466.8  49.5]\n",
      "DC_R 42227.0 16113.0 343.0 [575.3 464.1 251.3]\n",
      "IC 37176.0 9511.0 222.0 [492.4 208.3 145.9]\n",
      "LC_L 39808.0 16939.0 188.0 [515.  442.1 103.6]\n",
      "LC_R 39934.0 16233.0 278.0 [514.1 437.9 189. ]\n",
      "LRt_L 47708.0 22042.0 183.0 [708.2 655.2  94.9]\n",
      "LRt_R 47409.0 21332.0 296.0 [692.2 651.4 201.7]\n",
      "PBG_L 35560.0 15975.0 138.0 [403.  370.8  56. ]\n",
      "PBG_R 35814.0 15440.0 330.0 [392.8 390.2 236.8]\n",
      "Pn_L 35794.0 24118.0 220.0 [335.9 626.2 120. ]\n",
      "Pn_R 35751.0 23661.0 284.0 [330.9 623.5 180.6]\n",
      "RtTg 36771.0 22290.0 249.0 [375.9 585.4 150.6]\n",
      "SC 33868.0 9061.0 222.0 [398.4 168.3 144.8]\n",
      "SNC_L 33001.0 21134.0 182.0 [281.4 509.4  87.7]\n",
      "SNC_R 33458.0 19604.0 319.0 [291.5 491.7 218.7]\n",
      "SNR_L 34604.0 18256.0 214.0 [348.  443.2 123.1]\n",
      "SNR_R 34186.0 19971.0 322.0 [309.7 508.9 221.3]\n",
      "Sp5C_L 48044.0 18595.0 157.0 [748.5 552.1  76.2]\n",
      "Sp5C_R 47299.0 18553.0 332.0 [706.9 575.  239.8]\n",
      "Sp5I_L 44462.0 19638.0 150.0 [635.3 552.6  66.1]\n",
      "Sp5I_R 44437.0 19104.0 325.0 [618.8 566.8 230.9]\n",
      "Tz_L 39145.0 24349.0 223.0 [432.6 660.7 124.2]\n",
      "Tz_R 39342.0 23976.0 276.0 [435.3 660.4 174.5]\n",
      "VCA_L 39930.0 19629.0 116.0 [505.4 509.8  31.9]\n",
      "VCA_R 39895.0 17773.0 360.0 [491.3 497.  263.4]\n",
      "VCP_L 41377.0 20537.0 121.0 [540.4 549.1  35.9]\n",
      "VCP_R 42273.0 18501.0 360.0 [555.8 537.6 263.5]\n",
      "VLL_L 36542.0 18691.0 157.0 [408.2 461.9  70. ]\n",
      "VLL_R 37048.0 17823.0 328.0 [410.6 469.9 231.8]\n"
     ]
    }
   ],
   "source": [
    "for abbrev,v in row_dict.items():\n",
    "    x = v[0]\n",
    "    y = v[1]\n",
    "    section = v[2]\n",
    "    structure = session.query(Structure).filter(Structure.abbreviation == func.binary(abbrev)).one()\n",
    "    data.append([x, y, section])\n",
    "    brain_coords = np.asarray([x, y, section])\n",
    "    transformed = brain_to_atlas_transform(brain_coords, r, t)\n",
    "    print(abbrev, x, y, section, np.around(transformed,1))\n",
    "    x = transformed[0]\n",
    "    y = transformed[1]\n",
    "    section = transformed[2]\n",
    "    com = CenterOfMass(\n",
    "        prep_id=prep_id, structure=structure, x=x, y=y, section=section,\n",
    "        created=datetime.utcnow(), active=True, person_id=person_id, input_type='aligned'\n",
    "    )\n",
    "    try:\n",
    "        session.add(com)\n",
    "        session.commit()\n",
    "    except Exception as e:\n",
    "        print(f'No merge for {abbrev} {e}')\n",
    "        session.rollback()\n",
    "\n"
   ]
  },
  {
   "cell_type": "code",
   "execution_count": 36,
   "metadata": {},
   "outputs": [
    {
     "name": "stdout",
     "output_type": "stream",
     "text": [
      "No histology for Atlas\n",
      "No scan run for Atlas\n"
     ]
    },
    {
     "data": {
      "text/plain": [
       "{'10N_L': array([703.341 , 547.9286, 135.6302]),\n",
       " '10N_R': array([703.341 , 547.9286, 164.3698]),\n",
       " '12N': array([697.227 , 567.0988, 149.25  ]),\n",
       " '3N_L': array([364.555 , 391.506 , 143.2358]),\n",
       " '3N_R': array([364.555 , 391.506 , 156.7642]),\n",
       " '4N_L': array([399.441  , 396.104  , 137.62875]),\n",
       " '4N_R': array([399.441  , 396.104  , 162.37125]),\n",
       " '5N_L': array([456.7992 , 502.07948,  81.9005 ]),\n",
       " '5N_R': array([456.7992 , 502.07948, 218.0995 ]),\n",
       " '6N_L': array([517.1597, 512.4922, 132.3135]),\n",
       " '6N_R': array([517.1597, 512.4922, 167.6865]),\n",
       " 'AP': array([702.306 , 525.6525, 151.    ]),\n",
       " 'Amb_L': array([612.44  , 603.826 ,  88.2695]),\n",
       " 'Amb_R': array([612.44  , 603.826 , 211.7305]),\n",
       " 'DC_L': array([583.2885, 456.4954,  42.084 ]),\n",
       " 'DC_R': array([583.2885, 456.4954, 257.916 ]),\n",
       " 'IC': array([496.7529, 251.693 , 150.    ]),\n",
       " 'LC_L': array([496.19734, 442.8079 , 108.22515]),\n",
       " 'LC_R': array([496.19734, 442.8079 , 191.77485]),\n",
       " 'LRt_L': array([688.194, 646.863,  93.755]),\n",
       " 'LRt_R': array([688.194, 646.863, 206.245]),\n",
       " 'PBG_L': array([396.038 , 372.985 ,  56.9915]),\n",
       " 'PBG_R': array([396.038 , 372.985 , 243.0085]),\n",
       " 'Pn_L': array([328.332  , 593.0847 , 122.74055]),\n",
       " 'Pn_R': array([328.332  , 593.0847 , 177.25945]),\n",
       " 'RtTg': array([378.454 , 562.2477, 148.25  ]),\n",
       " 'SC': array([371.982, 258.871, 151.5  ]),\n",
       " 'SNC_L': array([268.515 , 482.5814,  89.467 ]),\n",
       " 'SNC_R': array([268.515 , 482.5814, 210.533 ]),\n",
       " 'SNR_L': array([301.875 , 477.6826,  79.542 ]),\n",
       " 'SNR_R': array([301.875 , 477.6826, 220.458 ]),\n",
       " 'Sp5C_L': array([756.283 , 582.0335,  82.774 ]),\n",
       " 'Sp5C_R': array([756.283 , 582.0335, 217.226 ]),\n",
       " 'Sp5I_L': array([679.326 , 550.5224,  54.314 ]),\n",
       " 'Sp5I_R': array([679.326 , 550.5224, 245.686 ]),\n",
       " 'Sp5O_L': array([601.378 , 549.4977,  56.9175]),\n",
       " 'Sp5O_R': array([601.378 , 549.4977, 243.0825]),\n",
       " 'Tz_L': array([427.2079 , 620.224  , 124.34795]),\n",
       " 'Tz_R': array([427.2079 , 620.224  , 175.65205]),\n",
       " 'VCA_L': array([504.07409, 495.00897,  28.266  ]),\n",
       " 'VCA_R': array([504.07409, 495.00897, 271.734  ]),\n",
       " 'VCP_L': array([560.0779, 513.7844,  34.335 ]),\n",
       " 'VCP_R': array([560.0779, 513.7844, 265.665 ]),\n",
       " 'VLL_L': array([378.011 , 515.4707,  75.8025]),\n",
       " 'VLL_R': array([378.011 , 515.4707, 224.1975])}"
      ]
     },
     "execution_count": 36,
     "metadata": {},
     "output_type": "execute_result"
    }
   ],
   "source": [
    "# Print atlas COMs for comparison\n",
    "\n",
    "from utilities.sqlcontroller import SqlController\n",
    "\n",
    "def get_atlas_centers(\n",
    "        atlas_box_size=(1000, 1000, 300),\n",
    "        atlas_box_scales=(10, 10, 20),\n",
    "        atlas_raw_scale=10\n",
    "):\n",
    "    atlas_box_scales = np.array(atlas_box_scales)\n",
    "    atlas_box_size = np.array(atlas_box_size)\n",
    "    atlas_box_center = atlas_box_size / 2\n",
    "    sqlController = SqlController('Atlas')\n",
    "    atlas_centers = sqlController.get_centers_dict('Atlas')\n",
    "\n",
    "    for structure, center in atlas_centers.items():\n",
    "        # transform into the atlas box coordinates that neuroglancer assumes\n",
    "        center = atlas_box_center + np.array(center) * atlas_raw_scale / atlas_box_scales\n",
    "        atlas_centers[structure] = center\n",
    "\n",
    "    return atlas_centers\n",
    "\n",
    "get_atlas_centers()"
   ]
  }
 ],
 "metadata": {
  "kernelspec": {
   "display_name": "Python 3",
   "language": "python",
   "name": "python3"
  },
  "language_info": {
   "codemirror_mode": {
    "name": "ipython",
    "version": 3
   },
   "file_extension": ".py",
   "mimetype": "text/x-python",
   "name": "python",
   "nbconvert_exporter": "python",
   "pygments_lexer": "ipython3",
   "version": "3.8.5"
  }
 },
 "nbformat": 4,
 "nbformat_minor": 4
}
