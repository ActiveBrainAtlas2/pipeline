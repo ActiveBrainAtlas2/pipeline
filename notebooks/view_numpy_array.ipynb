{
 "cells": [
  {
   "cell_type": "code",
   "execution_count": 4,
   "metadata": {},
   "outputs": [],
   "source": [
    "import numpy as np\n",
    "import os, sys\n",
    "from skimage import io\n",
    "import matplotlib\n",
    "from pprint import pprint\n",
    "from matplotlib import pyplot as plt\n",
    "from tqdm import tqdm\n",
    "import neuroglancer\n",
    "import cv2\n",
    "\n",
    "#from PIL import Image\n",
    "#Image.MAX_IMAGE_PIXELS = None"
   ]
  },
  {
   "cell_type": "code",
   "execution_count": 2,
   "metadata": {},
   "outputs": [],
   "source": [
    "HOME = os.path.expanduser(\"~\")\n",
    "PATH = os.path.join(HOME, 'programming/pipeline_utility')\n",
    "sys.path.append(PATH)\n",
    "from utilities.sqlcontroller import SqlController\n",
    "from utilities.file_location import DATA_PATH, ROOT_DIR"
   ]
  },
  {
   "cell_type": "code",
   "execution_count": 15,
   "metadata": {},
   "outputs": [
    {
     "name": "stdout",
     "output_type": "stream",
     "text": [
      "163 (758, 1450, 3) uint8\n"
     ]
    }
   ],
   "source": [
    "BASEINPUT = '/net/birdstore/Active_Atlas_Data/data_root/pipeline_data/CHATM2/preps'\n",
    "INPUT = os.path.join(BASEINPUT, '3channels')\n",
    "files = sorted(os.listdir(INPUT))\n",
    "midpoint = len(files) // 2\n",
    "midfilepath = os.path.join(INPUT, files[midpoint])\n",
    "limit = 1\n",
    "#files = files[midpoint-limit:midpoint+limit]\n",
    "#files = files[midpoint]\n",
    "midfile = cv2.imread(midfilepath)\n",
    "print(midpoint, midfile.shape, midfile.dtype)\n",
    "#height, width = midfile.shape\n",
    "#data_type = np.uint8\n",
    "#volume_size = (width, height, len(files))\n",
    "#volume = np.zeros((volume_size), dtype=data_type)"
   ]
  },
  {
   "cell_type": "code",
   "execution_count": 17,
   "metadata": {},
   "outputs": [
    {
     "name": "stderr",
     "output_type": "stream",
     "text": [
      "100%|██████████| 327/327 [00:10<00:00, 30.59it/s]\n"
     ]
    }
   ],
   "source": [
    "# use skimage\n",
    "for f in tqdm(files):\n",
    "    infile = os.path.join(INPUT, f)\n",
    "    img = cv2.imread(infile)\n",
    "    ch1_img = img[:,:,0]\n",
    "    ch2_img = img[:,:,1]\n",
    "    ch3_img = img[:,:,2]\n",
    "    ch1_outpath = os.path.join(BASEINPUT, 'CH1/thumbnail', f)\n",
    "    ch2_outpath = os.path.join(BASEINPUT, 'CH2/thumbnail', f)\n",
    "    ch3_outpath = os.path.join(BASEINPUT, 'CH3/thumbnail', f)\n",
    "    cv2.imwrite(ch1_outpath, ch1_img.astype(np.uint8))\n",
    "    cv2.imwrite(ch2_outpath, ch2_img.astype(np.uint8))\n",
    "    cv2.imwrite(ch3_outpath, ch3_img.astype(np.uint8))\n"
   ]
  },
  {
   "cell_type": "code",
   "execution_count": 6,
   "metadata": {},
   "outputs": [
    {
     "name": "stderr",
     "output_type": "stream",
     "text": [
      "Shaped series: series shape does not match page shape\n"
     ]
    },
    {
     "name": "stdout",
     "output_type": "stream",
     "text": [
      "(758, 1450) uint16\n"
     ]
    }
   ],
   "source": [
    "volume = io.imread(midfilepath)\n",
    "print(volume.shape, volume.dtype)"
   ]
  },
  {
   "cell_type": "code",
   "execution_count": null,
   "metadata": {},
   "outputs": [],
   "source": [
    "labels = [[v-8,v-1] for v in range(9,256,8)]\n",
    "print(labels)"
   ]
  },
  {
   "cell_type": "code",
   "execution_count": null,
   "metadata": {},
   "outputs": [],
   "source": [
    "arr = np.copy(volume)\n",
    "for label in labels:\n",
    "    mask = (arr >= label[0]) & (arr <= label[1])\n",
    "    arr[mask] = label[1]\n",
    "arr[arr > 248] = 255"
   ]
  },
  {
   "cell_type": "code",
   "execution_count": 9,
   "metadata": {},
   "outputs": [
    {
     "name": "stdout",
     "output_type": "stream",
     "text": [
      "volume shape (758, 1450, 3) uint8 [ 0  1  2  3  4  5  6  7  8  9 10 11 12 13 14 15 16 17 18 19 20 21 22 23\n",
      " 24 25 26 27 28 29 30 31 32 33 34 35 36 37 38 39 40 41 42 43 44 45 46 47\n",
      " 48 49 50 51 52 53 54 55 56 57 58 59 60 61 62 63 64 66 67 68 72 73 74 75\n",
      " 76 79 80 81 87 88 94]\n"
     ]
    }
   ],
   "source": [
    "#volume = volume.reshape(volume.shape[0], volume.shape[1], volume.shape[2])\n",
    "arr = midfile.copy()\n",
    "print('volume shape', arr.shape, arr.dtype, np.unique(arr, return_counts=False))"
   ]
  },
  {
   "cell_type": "code",
   "execution_count": 11,
   "metadata": {
    "scrolled": true
   },
   "outputs": [
    {
     "data": {
      "text/plain": [
       "Text(0.5, 1.0, ' uint8')"
      ]
     },
     "execution_count": 11,
     "metadata": {},
     "output_type": "execute_result"
    },
    {
     "data": {
      "image/png": "[encoded data removed]",
      "text/plain": [
       "<Figure size 720x432 with 1 Axes>"
      ]
     },
     "metadata": {},
     "output_type": "display_data"
    }
   ],
   "source": [
    "#volume[volume > 0] = 255\n",
    "#volume[volume < 1] = 0\n",
    "flat = arr.flatten()\n",
    "fig = plt.figure()\n",
    "plt.rcParams['figure.figsize'] = [10, 6]\n",
    "plt.hist(flat, bins=20, color='b')\n",
    "plt.style.use('ggplot')\n",
    "plt.yscale('log')\n",
    "plt.grid(axis='y', alpha=0.75)\n",
    "plt.xlabel('Value')\n",
    "plt.ylabel('Frequency')\n",
    "plt.title(f' {arr.dtype}')"
   ]
  },
  {
   "cell_type": "code",
   "execution_count": null,
   "metadata": {},
   "outputs": [],
   "source": [
    "arr = np.rot90(volume, axes=(2, 1))\n",
    "#arr = np.rot90(arr, 3)\n",
    "#arr = np.flip(arr, axis=1)\n",
    "    \n",
    "print(arr.shape)\n",
    "start = arr.shape[2] // 2\n",
    "end = arr.shape[2]\n",
    "nrows = end - start\n",
    "ncols = 1\n",
    "plt.style.use('classic')\n",
    "for i in range(start, end, 10):\n",
    "    plt.title('Z {}'.format(i))\n",
    "    plt.imshow(arr[:,:,i], cmap=\"gray\")\n",
    "    plt.show()\n",
    "    if i > 40:\n",
    "        break"
   ]
  },
  {
   "cell_type": "code",
   "execution_count": null,
   "metadata": {},
   "outputs": [],
   "source": [
    "dimensions = neuroglancer.CoordinateSpace(\n",
    "    names=['x', 'y', 'z'],\n",
    "    units='nm',\n",
    "    scales=[1000,1000,1000])\n",
    "\n",
    "viewer = neuroglancer.Viewer()\n",
    "with viewer.txn() as s:\n",
    "    s.dimensions = dimensions\n",
    "    s.layers['Altas'] = neuroglancer.ImageLayer(\n",
    "        source=neuroglancer.LocalVolume(\n",
    "            data=volume,\n",
    "            dimensions=dimensions,\n",
    "            voxel_offset=(0, 0, 0),\n",
    "        ),\n",
    "        shader=\"\"\"\n",
    "#uicontrol float min slider(min=0, max=1, default=0)\n",
    "#uicontrol float max slider(min=0, max=1, default=1)\n",
    "#uicontrol float invert slider(min=0, max=1, default=0, step=1)\n",
    "#uicontrol float brightness slider(min=-1, max=1)\n",
    "#uicontrol float contrast slider(min=-3, max=3, step=0.01)\n",
    "void main() {\n",
    "  float pix_val = toNormalized(getDataValue());\n",
    "  if(pix_val < min){\n",
    "  \tpix_val = 0.0;\n",
    "  }\n",
    "  if(pix_val > max){\n",
    "    pix_val = 1.0;\n",
    "  }\n",
    "\n",
    "  if(invert==1.0){\n",
    "  \t  emitGrayscale((1.0 -(pix_val - brightness)) *\n",
    "       exp(contrast));\n",
    "  }\n",
    "  else{\n",
    "    emitGrayscale((pix_val + brightness) *\n",
    "                  exp(contrast));\n",
    "  }\n",
    "\n",
    "}\n",
    "\n",
    "\"\"\")\n",
    "print(viewer)"
   ]
  },
  {
   "cell_type": "code",
   "execution_count": 12,
   "metadata": {},
   "outputs": [
    {
     "data": {
      "text/plain": [
       "['162.tif', '163.tif']"
      ]
     },
     "execution_count": 12,
     "metadata": {},
     "output_type": "execute_result"
    }
   ],
   "source": [
    "files"
   ]
  }
 ],
 "metadata": {
  "kernelspec": {
   "display_name": "Python 3",
   "language": "python",
   "name": "python3"
  },
  "language_info": {
   "codemirror_mode": {
    "name": "ipython",
    "version": 3
   },
   "file_extension": ".py",
   "mimetype": "text/x-python",
   "name": "python",
   "nbconvert_exporter": "python",
   "pygments_lexer": "ipython3",
   "version": "3.8.5"
  }
 },
 "nbformat": 4,
 "nbformat_minor": 4
}
