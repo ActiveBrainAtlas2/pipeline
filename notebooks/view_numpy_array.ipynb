{
 "cells": [
  {
   "cell_type": "code",
   "execution_count": 1,
   "metadata": {},
   "outputs": [],
   "source": [
    "import numpy as np\n",
    "import os, sys\n",
    "from skimage import io\n",
    "import matplotlib\n",
    "from pprint import pprint\n",
    "from matplotlib import pyplot as plt\n",
    "from tqdm import tqdm\n",
    "import neuroglancer\n",
    "\n",
    "#from PIL import Image\n",
    "#Image.MAX_IMAGE_PIXELS = None"
   ]
  },
  {
   "cell_type": "code",
   "execution_count": 2,
   "metadata": {},
   "outputs": [
    {
     "name": "stdout",
     "output_type": "stream",
     "text": [
      "Connecting dklab@192.168.1.12:3306\n"
     ]
    }
   ],
   "source": [
    "HOME = os.path.expanduser(\"~\")\n",
    "PATH = os.path.join(HOME, 'programming/pipeline_utility')\n",
    "sys.path.append(PATH)\n",
    "from utilities.sqlcontroller import SqlController\n",
    "from utilities.file_location import DATA_PATH, ROOT_DIR"
   ]
  },
  {
   "cell_type": "code",
   "execution_count": 34,
   "metadata": {},
   "outputs": [],
   "source": [
    "INPUT = '/net/birdstore/Active_Atlas_Data/data_root/pipeline_data/X/preps/CH2/full_aligned'\n",
    "files = sorted(os.listdir(INPUT))\n",
    "midpoint = len(files) // 2\n",
    "midfilepath = os.path.join(INPUT, files[midpoint])\n",
    "limit = 1\n",
    "files = files[midpoint-limit:midpoint+limit]\n",
    "#files = files[midpoint]\n",
    "midfile = io.imread(midfilepath)\n",
    "height, width = midfile.shape\n",
    "data_type = np.uint8\n",
    "volume_size = (width, height, len(files))\n",
    "volume = np.zeros((volume_size), dtype=data_type)"
   ]
  },
  {
   "cell_type": "code",
   "execution_count": 10,
   "metadata": {},
   "outputs": [
    {
     "name": "stderr",
     "output_type": "stream",
     "text": [
      "100%|██████████| 2/2 [00:01<00:00,  1.25it/s]\n"
     ]
    }
   ],
   "source": [
    "# use skimage\n",
    "for i, f in enumerate(tqdm(files)):\n",
    "    infile = os.path.join(INPUT, f)\n",
    "    img = io.imread(infile)\n",
    "    img = img.T\n",
    "    volume[:,:,i] = img.reshape(img.shape[0], img.shape[1], 1)"
   ]
  },
  {
   "cell_type": "code",
   "execution_count": 48,
   "metadata": {},
   "outputs": [
    {
     "name": "stdout",
     "output_type": "stream",
     "text": [
      "(11264, 10368)\n"
     ]
    }
   ],
   "source": [
    "volume = io.imread(midfilepath)\n",
    "print(volume.shape)"
   ]
  },
  {
   "cell_type": "code",
   "execution_count": 49,
   "metadata": {},
   "outputs": [
    {
     "name": "stdout",
     "output_type": "stream",
     "text": [
      "[[1, 8], [9, 16], [17, 24], [25, 32], [33, 40], [41, 48], [49, 56], [57, 64], [65, 72], [73, 80], [81, 88], [89, 96], [97, 104], [105, 112], [113, 120], [121, 128], [129, 136], [137, 144], [145, 152], [153, 160], [161, 168], [169, 176], [177, 184], [185, 192], [193, 200], [201, 208], [209, 216], [217, 224], [225, 232], [233, 240], [241, 248]]\n"
     ]
    }
   ],
   "source": [
    "labels = [[v-8,v-1] for v in range(9,256,8)]\n",
    "print(labels)"
   ]
  },
  {
   "cell_type": "code",
   "execution_count": 54,
   "metadata": {},
   "outputs": [],
   "source": [
    "arr = np.copy(volume)\n",
    "for label in labels:\n",
    "    mask = (arr >= label[0]) & (arr <= label[1])\n",
    "    arr[mask] = label[1]\n",
    "arr[arr > 248] = 255"
   ]
  },
  {
   "cell_type": "code",
   "execution_count": 55,
   "metadata": {},
   "outputs": [
    {
     "name": "stdout",
     "output_type": "stream",
     "text": [
      "volume shape (11264, 10368) uint8 (array([  0,   8,  16,  24,  32,  40,  48,  56,  64,  72,  80,  88,  96,\n",
      "       104, 112, 120, 128, 136, 144, 152, 160, 168, 176, 184, 192, 200,\n",
      "       208, 216, 224, 232, 240, 248, 255], dtype=uint8), array([115834564,     11170,     17206,     26967,     27212,     25001,\n",
      "           27364,     34485,     35553,     33570,     23958,     20983,\n",
      "           20117,     20690,     28081,     41943,     49596,     40487,\n",
      "           52605,     55422,     41881,     32949,     39429,     40009,\n",
      "           47174,     43149,     32221,     22326,     12814,     14398,\n",
      "           13662,     12649,      5517]))\n"
     ]
    }
   ],
   "source": [
    "#volume = volume.reshape(volume.shape[0], volume.shape[1], volume.shape[2])\n",
    "print('volume shape', arr.shape, arr.dtype, np.unique(arr, return_counts=True))"
   ]
  },
  {
   "cell_type": "code",
   "execution_count": 56,
   "metadata": {
    "scrolled": true
   },
   "outputs": [
    {
     "data": {
      "text/plain": [
       "Text(0.5, 1.0, ' uint8')"
      ]
     },
     "execution_count": 56,
     "metadata": {},
     "output_type": "execute_result"
    },
    {
     "data": {
      "image/png": "[encoded data removed]",
      "text/plain": [
       "<Figure size 720x432 with 1 Axes>"
      ]
     },
     "metadata": {},
     "output_type": "display_data"
    }
   ],
   "source": [
    "#volume[volume > 0] = 255\n",
    "#volume[volume < 1] = 0\n",
    "flat = arr.flatten()\n",
    "fig = plt.figure()\n",
    "plt.rcParams['figure.figsize'] = [10, 6]\n",
    "plt.hist(flat, bins=20, color='b')\n",
    "plt.style.use('ggplot')\n",
    "plt.yscale('log')\n",
    "plt.grid(axis='y', alpha=0.75)\n",
    "plt.xlabel('Value')\n",
    "plt.ylabel('Frequency')\n",
    "plt.title(f' {volume.dtype}')"
   ]
  },
  {
   "cell_type": "code",
   "execution_count": null,
   "metadata": {},
   "outputs": [],
   "source": [
    "arr = np.rot90(volume, axes=(2, 1))\n",
    "#arr = np.rot90(arr, 3)\n",
    "#arr = np.flip(arr, axis=1)\n",
    "    \n",
    "print(arr.shape)\n",
    "start = arr.shape[2] // 2\n",
    "end = arr.shape[2]\n",
    "nrows = end - start\n",
    "ncols = 1\n",
    "plt.style.use('classic')\n",
    "for i in range(start, end, 10):\n",
    "    plt.title('Z {}'.format(i))\n",
    "    plt.imshow(arr[:,:,i], cmap=\"gray\")\n",
    "    plt.show()\n",
    "    if i > 40:\n",
    "        break"
   ]
  },
  {
   "cell_type": "code",
   "execution_count": 10,
   "metadata": {},
   "outputs": [
    {
     "name": "stdout",
     "output_type": "stream",
     "text": [
      "http://127.0.0.1:40381/v/1bf9c6a2fa5fc57e96d4bb2e2241f9327e27a995/\n"
     ]
    }
   ],
   "source": [
    "dimensions = neuroglancer.CoordinateSpace(\n",
    "    names=['x', 'y', 'z'],\n",
    "    units='nm',\n",
    "    scales=[1000,1000,1000])\n",
    "\n",
    "viewer = neuroglancer.Viewer()\n",
    "with viewer.txn() as s:\n",
    "    s.dimensions = dimensions\n",
    "    s.layers['Altas'] = neuroglancer.ImageLayer(\n",
    "        source=neuroglancer.LocalVolume(\n",
    "            data=volume,\n",
    "            dimensions=dimensions,\n",
    "            voxel_offset=(0, 0, 0),\n",
    "        ),\n",
    "        shader=\"\"\"\n",
    "#uicontrol float min slider(min=0, max=1, default=0)\n",
    "#uicontrol float max slider(min=0, max=1, default=1)\n",
    "#uicontrol float invert slider(min=0, max=1, default=0, step=1)\n",
    "#uicontrol float brightness slider(min=-1, max=1)\n",
    "#uicontrol float contrast slider(min=-3, max=3, step=0.01)\n",
    "void main() {\n",
    "  float pix_val = toNormalized(getDataValue());\n",
    "  if(pix_val < min){\n",
    "  \tpix_val = 0.0;\n",
    "  }\n",
    "  if(pix_val > max){\n",
    "    pix_val = 1.0;\n",
    "  }\n",
    "\n",
    "  if(invert==1.0){\n",
    "  \t  emitGrayscale((1.0 -(pix_val - brightness)) *\n",
    "       exp(contrast));\n",
    "  }\n",
    "  else{\n",
    "    emitGrayscale((pix_val + brightness) *\n",
    "                  exp(contrast));\n",
    "  }\n",
    "\n",
    "}\n",
    "\n",
    "\"\"\")\n",
    "print(viewer)"
   ]
  },
  {
   "cell_type": "code",
   "execution_count": null,
   "metadata": {},
   "outputs": [],
   "source": [
    "print(viewer)"
   ]
  }
 ],
 "metadata": {
  "kernelspec": {
   "display_name": "Python 3",
   "language": "python",
   "name": "python3"
  },
  "language_info": {
   "codemirror_mode": {
    "name": "ipython",
    "version": 3
   },
   "file_extension": ".py",
   "mimetype": "text/x-python",
   "name": "python",
   "nbconvert_exporter": "python",
   "pygments_lexer": "ipython3",
   "version": "3.8.5"
  }
 },
 "nbformat": 4,
 "nbformat_minor": 4
}
